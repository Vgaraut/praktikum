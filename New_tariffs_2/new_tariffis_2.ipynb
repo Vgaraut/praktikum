{
 "cells": [
  {
   "cell_type": "markdown",
   "metadata": {},
   "source": [
    "# Рекомендация тарифов"
   ]
  },
  {
   "cell_type": "markdown",
   "metadata": {},
   "source": [
    "В вашем распоряжении данные о поведении клиентов, которые уже перешли на эти тарифы (из проекта курса «Статистический анализ данных»). Нужно построить модель для задачи классификации, которая выберет подходящий тариф. Предобработка данных не понадобится — вы её уже сделали.\n",
    "\n",
    "Постройте модель с максимально большим значением *accuracy*. Чтобы сдать проект успешно, нужно довести долю правильных ответов по крайней мере до 0.75. Проверьте *accuracy* на тестовой выборке самостоятельно."
   ]
  },
  {
   "cell_type": "code",
   "execution_count": 17,
   "metadata": {},
   "outputs": [],
   "source": [
    "import pandas as pd\n",
    "import numpy as np\n",
    "from sklearn.model_selection import train_test_split \n",
    "from sklearn.tree import DecisionTreeClassifier\n",
    "from sklearn.linear_model import LogisticRegression\n",
    "from sklearn.ensemble import RandomForestClassifier\n",
    "from sklearn.neighbors import KNeighborsClassifier\n",
    "from sklearn.metrics import accuracy_score\n",
    "from sklearn.metrics import roc_auc_score\n",
    "from sklearn.model_selection import GridSearchCV, cross_val_score"
   ]
  },
  {
   "cell_type": "markdown",
   "metadata": {},
   "source": [
    "## Откройте и изучите файл"
   ]
  },
  {
   "cell_type": "code",
   "execution_count": 2,
   "metadata": {},
   "outputs": [],
   "source": [
    "df=pd.read_csv('/datasets/users_behavior.csv')"
   ]
  },
  {
   "cell_type": "code",
   "execution_count": 3,
   "metadata": {},
   "outputs": [
    {
     "data": {
      "text/html": [
       "<div>\n",
       "<style scoped>\n",
       "    .dataframe tbody tr th:only-of-type {\n",
       "        vertical-align: middle;\n",
       "    }\n",
       "\n",
       "    .dataframe tbody tr th {\n",
       "        vertical-align: top;\n",
       "    }\n",
       "\n",
       "    .dataframe thead th {\n",
       "        text-align: right;\n",
       "    }\n",
       "</style>\n",
       "<table border=\"1\" class=\"dataframe\">\n",
       "  <thead>\n",
       "    <tr style=\"text-align: right;\">\n",
       "      <th></th>\n",
       "      <th>calls</th>\n",
       "      <th>minutes</th>\n",
       "      <th>messages</th>\n",
       "      <th>mb_used</th>\n",
       "      <th>is_ultra</th>\n",
       "    </tr>\n",
       "  </thead>\n",
       "  <tbody>\n",
       "    <tr>\n",
       "      <th>0</th>\n",
       "      <td>40.0</td>\n",
       "      <td>311.90</td>\n",
       "      <td>83.0</td>\n",
       "      <td>19915.42</td>\n",
       "      <td>0</td>\n",
       "    </tr>\n",
       "    <tr>\n",
       "      <th>1</th>\n",
       "      <td>85.0</td>\n",
       "      <td>516.75</td>\n",
       "      <td>56.0</td>\n",
       "      <td>22696.96</td>\n",
       "      <td>0</td>\n",
       "    </tr>\n",
       "    <tr>\n",
       "      <th>2</th>\n",
       "      <td>77.0</td>\n",
       "      <td>467.66</td>\n",
       "      <td>86.0</td>\n",
       "      <td>21060.45</td>\n",
       "      <td>0</td>\n",
       "    </tr>\n",
       "    <tr>\n",
       "      <th>3</th>\n",
       "      <td>106.0</td>\n",
       "      <td>745.53</td>\n",
       "      <td>81.0</td>\n",
       "      <td>8437.39</td>\n",
       "      <td>1</td>\n",
       "    </tr>\n",
       "    <tr>\n",
       "      <th>4</th>\n",
       "      <td>66.0</td>\n",
       "      <td>418.74</td>\n",
       "      <td>1.0</td>\n",
       "      <td>14502.75</td>\n",
       "      <td>0</td>\n",
       "    </tr>\n",
       "  </tbody>\n",
       "</table>\n",
       "</div>"
      ],
      "text/plain": [
       "   calls  minutes  messages   mb_used  is_ultra\n",
       "0   40.0   311.90      83.0  19915.42         0\n",
       "1   85.0   516.75      56.0  22696.96         0\n",
       "2   77.0   467.66      86.0  21060.45         0\n",
       "3  106.0   745.53      81.0   8437.39         1\n",
       "4   66.0   418.74       1.0  14502.75         0"
      ]
     },
     "execution_count": 3,
     "metadata": {},
     "output_type": "execute_result"
    }
   ],
   "source": [
    "df.head()"
   ]
  },
  {
   "cell_type": "code",
   "execution_count": 4,
   "metadata": {},
   "outputs": [
    {
     "name": "stdout",
     "output_type": "stream",
     "text": [
      "<class 'pandas.core.frame.DataFrame'>\n",
      "RangeIndex: 3214 entries, 0 to 3213\n",
      "Data columns (total 5 columns):\n",
      " #   Column    Non-Null Count  Dtype  \n",
      "---  ------    --------------  -----  \n",
      " 0   calls     3214 non-null   float64\n",
      " 1   minutes   3214 non-null   float64\n",
      " 2   messages  3214 non-null   float64\n",
      " 3   mb_used   3214 non-null   float64\n",
      " 4   is_ultra  3214 non-null   int64  \n",
      "dtypes: float64(4), int64(1)\n",
      "memory usage: 125.7 KB\n"
     ]
    }
   ],
   "source": [
    "df.info()"
   ]
  },
  {
   "cell_type": "markdown",
   "metadata": {},
   "source": [
    "**на входе имеем таблицу 3214х5, данные в столбцах полные, типы данных уже приведены к необходимым.**\n",
    "\n",
    "сalls — количество звонков,\n",
    "\n",
    "minutes — суммарная длительность звонков в минутах,\n",
    "\n",
    "messages — количество sms-сообщений,\n",
    "\n",
    "mb_used — израсходованный интернет-трафик в Мб,\n",
    "\n",
    "is_ultra — каким тарифом пользовался в течение месяца («Ультра» — 1, «Смарт» — 0)."
   ]
  },
  {
   "cell_type": "markdown",
   "metadata": {},
   "source": [
    "## Разбейте данные на выборки"
   ]
  },
  {
   "cell_type": "code",
   "execution_count": 5,
   "metadata": {},
   "outputs": [],
   "source": [
    "#Разобьем исходный датафрейм на 2 части, features и target,\n",
    "#где features это признаки тарифа(звонки смс трафик), а target значение is_ultra\n",
    "#каждую разобьем на обучающую и валидационную, размер валидационной выборки составит 25%\n",
    "features = df.drop('is_ultra', axis=1)\n",
    "target = df.is_ultra\n",
    "features_train, features_valid, target_train, target_valid = train_test_split(\n",
    "    features, target, test_size=0.25, random_state=12345\n",
    ")"
   ]
  },
  {
   "cell_type": "markdown",
   "metadata": {},
   "source": [
    "**Думал сделать стратифицированную выборку, но решил что на этом проекте это не так категорично**"
   ]
  },
  {
   "cell_type": "markdown",
   "metadata": {},
   "source": [
    "## Исследуйте модели"
   ]
  },
  {
   "cell_type": "code",
   "execution_count": 6,
   "metadata": {},
   "outputs": [],
   "source": [
    "\n",
    "tree = DecisionTreeClassifier(max_depth=9, random_state=12345)\n",
    "tree_params = {'max_depth': range(1,11),\n",
    "'max_features': range(1,4)}\n",
    "tree_grid = GridSearchCV(tree, tree_params,\n",
    "cv=5)"
   ]
  },
  {
   "cell_type": "code",
   "execution_count": 7,
   "metadata": {},
   "outputs": [
    {
     "data": {
      "text/plain": [
       "GridSearchCV(cv=5,\n",
       "             estimator=DecisionTreeClassifier(max_depth=9, random_state=12345),\n",
       "             param_grid={'max_depth': range(1, 11),\n",
       "                         'max_features': range(1, 4)})"
      ]
     },
     "execution_count": 7,
     "metadata": {},
     "output_type": "execute_result"
    }
   ],
   "source": [
    "tree_grid.fit(features_train, target_train)"
   ]
  },
  {
   "cell_type": "code",
   "execution_count": 8,
   "metadata": {},
   "outputs": [
    {
     "data": {
      "text/plain": [
       "({'max_depth': 3, 'max_features': 3}, 0.7970954356846474)"
      ]
     },
     "execution_count": 8,
     "metadata": {},
     "output_type": "execute_result"
    }
   ],
   "source": [
    "tree_grid.best_params_, tree_grid.best_score_"
   ]
  },
  {
   "cell_type": "code",
   "execution_count": 9,
   "metadata": {},
   "outputs": [
    {
     "data": {
      "text/plain": [
       "GridSearchCV(cv=5, estimator=RandomForestClassifier(random_state=17),\n",
       "             param_grid={'max_depth': range(1, 11),\n",
       "                         'max_features': range(1, 4)})"
      ]
     },
     "execution_count": 9,
     "metadata": {},
     "output_type": "execute_result"
    }
   ],
   "source": [
    "#используем кросс_валидацию для выбора наилучших параметров модели случайныый лес\n",
    "forest = RandomForestClassifier(n_estimators=100, random_state=17)\n",
    "forest_params = {'max_depth': range(1,11),\n",
    "'max_features': range(1,4)}\n",
    "forest_grid = GridSearchCV(forest, forest_params,\n",
    "cv=5)\n",
    "forest_grid.fit(features_train, target_train)"
   ]
  },
  {
   "cell_type": "code",
   "execution_count": 10,
   "metadata": {},
   "outputs": [
    {
     "data": {
      "text/plain": [
       "({'max_depth': 10, 'max_features': 3}, 0.8153526970954357)"
      ]
     },
     "execution_count": 10,
     "metadata": {},
     "output_type": "execute_result"
    }
   ],
   "source": [
    "forest_grid.best_params_, forest_grid.best_score_"
   ]
  },
  {
   "cell_type": "markdown",
   "metadata": {},
   "source": [
    "## Проверьте модель на тестовой выборке"
   ]
  },
  {
   "cell_type": "code",
   "execution_count": 11,
   "metadata": {},
   "outputs": [
    {
     "data": {
      "text/plain": [
       "0.7985074626865671"
      ]
     },
     "execution_count": 11,
     "metadata": {},
     "output_type": "execute_result"
    }
   ],
   "source": [
    "forest_grid.score(features_valid, target_valid)"
   ]
  },
  {
   "cell_type": "code",
   "execution_count": 12,
   "metadata": {},
   "outputs": [],
   "source": [
    "#попали в целевое значение более 75%"
   ]
  },
  {
   "cell_type": "markdown",
   "metadata": {},
   "source": [
    "## (бонус) Проверьте модели на адекватность"
   ]
  },
  {
   "cell_type": "code",
   "execution_count": 13,
   "metadata": {},
   "outputs": [
    {
     "data": {
      "text/plain": [
       "0.7885572139303483"
      ]
     },
     "execution_count": 13,
     "metadata": {},
     "output_type": "execute_result"
    }
   ],
   "source": [
    "accuracy_score(target_valid, tree_grid.predict(features_valid))"
   ]
  },
  {
   "cell_type": "code",
   "execution_count": null,
   "metadata": {},
   "outputs": [],
   "source": [
    "##добавил roc auc"
   ]
  },
  {
   "cell_type": "code",
   "execution_count": 18,
   "metadata": {},
   "outputs": [
    {
     "data": {
      "text/plain": [
       "0.6864603524391413"
      ]
     },
     "execution_count": 18,
     "metadata": {},
     "output_type": "execute_result"
    }
   ],
   "source": [
    "roc_auc_score(target_valid, tree_grid.predict(features_valid))"
   ]
  },
  {
   "cell_type": "code",
   "execution_count": 16,
   "metadata": {},
   "outputs": [
    {
     "name": "stdout",
     "output_type": "stream",
     "text": [
      "Fitting 5 folds for each of 9 candidates, totalling 45 fits\n"
     ]
    },
    {
     "data": {
      "text/plain": [
       "({'n_neighbors': 8}, 0.7589211618257261)"
      ]
     },
     "execution_count": 16,
     "metadata": {},
     "output_type": "execute_result"
    }
   ],
   "source": [
    "knn = KNeighborsClassifier(algorithm='auto', weights='uniform')\n",
    "knn_params = {'n_neighbors': range(1, 10)}\n",
    "knn_grid = GridSearchCV(knn, knn_params,\n",
    "cv=5, n_jobs=-1,\n",
    "verbose=True)\n",
    "knn_grid.fit(features_train, target_train)\n",
    "knn_grid.best_params_, knn_grid.best_score_"
   ]
  },
  {
   "cell_type": "markdown",
   "metadata": {},
   "source": [
    "**Как то так получается :)**"
   ]
  },
  {
   "cell_type": "markdown",
   "metadata": {},
   "source": [
    "## Чек-лист готовности проекта"
   ]
  },
  {
   "cell_type": "markdown",
   "metadata": {},
   "source": [
    "Поставьте 'x' в выполненных пунктах. Далее нажмите Shift+Enter."
   ]
  },
  {
   "cell_type": "markdown",
   "metadata": {},
   "source": [
    "- [x] Jupyter Notebook открыт\n",
    "- [x] Весь код исполняется без ошибок\n",
    "- [x] Ячейки с кодом расположены в порядке исполнения\n",
    "- [x] Выполнено задание 1: данные загружены и изучены\n",
    "- [x] Выполнено задание 2: данные разбиты на три выборки\n",
    "- [x] Выполнено задание 3: проведено исследование моделей\n",
    "    - [x] Рассмотрено больше одной модели\n",
    "    - [x] Рассмотрено хотя бы 3 значения гипепараметров для какой-нибудь модели\n",
    "    - [x] Написаны выводы по результатам исследования\n",
    "- [x] Выполнено задание 3: Проведено тестирование\n",
    "- [x] Удалось достичь accuracy не меньше 0.75\n"
   ]
  },
  {
   "cell_type": "code",
   "execution_count": null,
   "metadata": {},
   "outputs": [],
   "source": []
  }
 ],
 "metadata": {
  "ExecuteTimeLog": [
   {
    "duration": 79,
    "start_time": "2022-06-29T08:26:21.020Z"
   },
   {
    "duration": 1147,
    "start_time": "2022-06-29T08:26:45.293Z"
   },
   {
    "duration": 109,
    "start_time": "2022-06-29T08:26:51.751Z"
   },
   {
    "duration": 15,
    "start_time": "2022-06-29T08:26:56.025Z"
   },
   {
    "duration": 9,
    "start_time": "2022-06-29T08:26:58.401Z"
   },
   {
    "duration": 37,
    "start_time": "2022-06-29T08:27:09.577Z"
   },
   {
    "duration": 72,
    "start_time": "2022-06-29T08:27:36.809Z"
   },
   {
    "duration": 20,
    "start_time": "2022-06-29T08:27:38.889Z"
   },
   {
    "duration": 12,
    "start_time": "2022-06-29T08:28:15.212Z"
   },
   {
    "duration": 8,
    "start_time": "2022-06-29T08:28:52.394Z"
   },
   {
    "duration": 9,
    "start_time": "2022-06-29T08:29:18.914Z"
   },
   {
    "duration": 17,
    "start_time": "2022-06-29T08:29:22.643Z"
   },
   {
    "duration": 708,
    "start_time": "2022-06-29T08:29:43.003Z"
   },
   {
    "duration": 139,
    "start_time": "2022-06-29T08:30:14.059Z"
   },
   {
    "duration": 181,
    "start_time": "2022-06-29T08:30:28.699Z"
   },
   {
    "duration": 166,
    "start_time": "2022-06-29T08:30:47.549Z"
   },
   {
    "duration": 8,
    "start_time": "2022-06-29T08:48:29.058Z"
   },
   {
    "duration": 7,
    "start_time": "2022-06-29T08:49:51.320Z"
   },
   {
    "duration": 1073,
    "start_time": "2022-06-29T10:29:13.771Z"
   },
   {
    "duration": 19,
    "start_time": "2022-06-29T10:29:14.847Z"
   },
   {
    "duration": 19,
    "start_time": "2022-06-29T10:29:14.868Z"
   },
   {
    "duration": 18,
    "start_time": "2022-06-29T10:29:14.889Z"
   },
   {
    "duration": 16,
    "start_time": "2022-06-29T10:29:14.909Z"
   },
   {
    "duration": 13,
    "start_time": "2022-06-29T10:29:19.693Z"
   },
   {
    "duration": 6,
    "start_time": "2022-06-29T10:29:56.435Z"
   },
   {
    "duration": 8,
    "start_time": "2022-06-29T10:30:10.087Z"
   },
   {
    "duration": 82,
    "start_time": "2022-06-29T10:30:17.094Z"
   },
   {
    "duration": 46,
    "start_time": "2022-06-29T10:30:22.854Z"
   },
   {
    "duration": 5,
    "start_time": "2022-06-29T10:30:28.875Z"
   },
   {
    "duration": 5,
    "start_time": "2022-06-29T10:30:46.159Z"
   },
   {
    "duration": 5,
    "start_time": "2022-06-29T10:30:51.855Z"
   },
   {
    "duration": 5,
    "start_time": "2022-06-29T10:30:59.245Z"
   },
   {
    "duration": 4,
    "start_time": "2022-06-29T10:33:44.041Z"
   },
   {
    "duration": 102,
    "start_time": "2022-06-29T10:34:08.352Z"
   },
   {
    "duration": 3,
    "start_time": "2022-06-29T10:34:45.615Z"
   },
   {
    "duration": 5,
    "start_time": "2022-06-29T10:35:25.318Z"
   },
   {
    "duration": 2508,
    "start_time": "2022-06-29T10:36:19.271Z"
   },
   {
    "duration": 4,
    "start_time": "2022-06-29T10:37:26.943Z"
   },
   {
    "duration": 2433,
    "start_time": "2022-06-29T10:37:28.042Z"
   },
   {
    "duration": 4,
    "start_time": "2022-06-29T10:39:18.344Z"
   },
   {
    "duration": 2378,
    "start_time": "2022-06-29T10:39:19.339Z"
   },
   {
    "duration": 4,
    "start_time": "2022-06-29T10:40:08.216Z"
   },
   {
    "duration": 582,
    "start_time": "2022-06-29T10:40:10.595Z"
   },
   {
    "duration": 533,
    "start_time": "2022-06-29T10:40:35.360Z"
   },
   {
    "duration": 559,
    "start_time": "2022-06-29T10:41:06.344Z"
   },
   {
    "duration": 3,
    "start_time": "2022-06-29T10:41:14.401Z"
   },
   {
    "duration": 3,
    "start_time": "2022-06-29T10:41:22.560Z"
   },
   {
    "duration": 836,
    "start_time": "2022-06-29T10:41:24.609Z"
   },
   {
    "duration": 3,
    "start_time": "2022-06-29T10:41:31.984Z"
   },
   {
    "duration": 1466,
    "start_time": "2022-06-29T10:41:32.800Z"
   },
   {
    "duration": 4,
    "start_time": "2022-06-29T10:41:38.856Z"
   },
   {
    "duration": 1194,
    "start_time": "2022-06-29T10:41:40.745Z"
   },
   {
    "duration": 5,
    "start_time": "2022-06-29T10:41:47.643Z"
   },
   {
    "duration": 923,
    "start_time": "2022-06-29T10:41:49.216Z"
   },
   {
    "duration": 3,
    "start_time": "2022-06-29T10:41:55.552Z"
   },
   {
    "duration": 1160,
    "start_time": "2022-06-29T10:41:57.657Z"
   },
   {
    "duration": 3,
    "start_time": "2022-06-29T10:42:05.953Z"
   },
   {
    "duration": 1844,
    "start_time": "2022-06-29T10:42:08.154Z"
   },
   {
    "duration": 3,
    "start_time": "2022-06-29T10:43:35.985Z"
   },
   {
    "duration": 1867,
    "start_time": "2022-06-29T10:43:37.808Z"
   },
   {
    "duration": 3,
    "start_time": "2022-06-29T11:38:29.771Z"
   },
   {
    "duration": 1914,
    "start_time": "2022-06-29T11:38:32.025Z"
   },
   {
    "duration": 5,
    "start_time": "2022-06-29T11:38:43.043Z"
   },
   {
    "duration": 1965,
    "start_time": "2022-06-29T11:38:45.353Z"
   },
   {
    "duration": 1960,
    "start_time": "2022-06-29T11:39:00.826Z"
   },
   {
    "duration": 1907,
    "start_time": "2022-06-29T11:39:46.468Z"
   },
   {
    "duration": 1105,
    "start_time": "2022-06-30T04:14:05.344Z"
   },
   {
    "duration": 39,
    "start_time": "2022-06-30T04:14:06.451Z"
   },
   {
    "duration": 17,
    "start_time": "2022-06-30T04:14:06.491Z"
   },
   {
    "duration": 13,
    "start_time": "2022-06-30T04:14:06.509Z"
   },
   {
    "duration": 6,
    "start_time": "2022-06-30T04:14:06.523Z"
   },
   {
    "duration": 7,
    "start_time": "2022-06-30T04:14:06.531Z"
   },
   {
    "duration": 1722,
    "start_time": "2022-06-30T04:14:06.540Z"
   },
   {
    "duration": 4,
    "start_time": "2022-06-30T04:14:08.264Z"
   },
   {
    "duration": 104,
    "start_time": "2022-06-30T04:23:24.932Z"
   },
   {
    "duration": 6,
    "start_time": "2022-06-30T04:24:03.223Z"
   },
   {
    "duration": 3,
    "start_time": "2022-06-30T04:24:19.616Z"
   },
   {
    "duration": 1230,
    "start_time": "2022-06-30T04:24:20.895Z"
   },
   {
    "duration": 4,
    "start_time": "2022-06-30T04:24:24.121Z"
   },
   {
    "duration": 6,
    "start_time": "2022-06-30T04:24:26.175Z"
   },
   {
    "duration": 4,
    "start_time": "2022-06-30T04:24:32.867Z"
   },
   {
    "duration": 1236,
    "start_time": "2022-06-30T04:24:34.047Z"
   },
   {
    "duration": 4,
    "start_time": "2022-06-30T04:24:36.598Z"
   },
   {
    "duration": 6,
    "start_time": "2022-06-30T04:24:37.758Z"
   },
   {
    "duration": 1127,
    "start_time": "2022-07-12T18:20:48.090Z"
   },
   {
    "duration": 40,
    "start_time": "2022-07-12T18:20:49.219Z"
   },
   {
    "duration": 17,
    "start_time": "2022-07-12T18:20:49.261Z"
   },
   {
    "duration": 10,
    "start_time": "2022-07-12T18:20:49.279Z"
   },
   {
    "duration": 7,
    "start_time": "2022-07-12T18:20:49.291Z"
   },
   {
    "duration": 5,
    "start_time": "2022-07-12T18:20:49.300Z"
   },
   {
    "duration": 1282,
    "start_time": "2022-07-12T18:20:49.306Z"
   },
   {
    "duration": 4,
    "start_time": "2022-07-12T18:20:50.589Z"
   },
   {
    "duration": 9,
    "start_time": "2022-07-12T18:20:50.595Z"
   },
   {
    "duration": 103,
    "start_time": "2022-07-12T18:23:18.584Z"
   },
   {
    "duration": 13,
    "start_time": "2022-07-12T18:23:57.965Z"
   },
   {
    "duration": 14,
    "start_time": "2022-07-12T18:26:02.433Z"
   },
   {
    "duration": 9,
    "start_time": "2022-07-12T18:27:41.228Z"
   },
   {
    "duration": 0,
    "start_time": "2022-07-12T18:27:41.241Z"
   },
   {
    "duration": 3,
    "start_time": "2022-07-12T18:28:08.845Z"
   },
   {
    "duration": 65990,
    "start_time": "2022-07-12T18:28:22.460Z"
   },
   {
    "duration": 4,
    "start_time": "2022-07-12T18:29:28.451Z"
   },
   {
    "duration": 1885,
    "start_time": "2022-07-12T18:30:10.844Z"
   },
   {
    "duration": 5,
    "start_time": "2022-07-12T18:38:14.588Z"
   },
   {
    "duration": 5,
    "start_time": "2022-07-12T18:39:37.726Z"
   },
   {
    "duration": 833,
    "start_time": "2022-07-12T18:39:37.733Z"
   },
   {
    "duration": 5,
    "start_time": "2022-07-12T18:39:38.569Z"
   },
   {
    "duration": 35531,
    "start_time": "2022-07-12T18:39:38.575Z"
   },
   {
    "duration": 4,
    "start_time": "2022-07-12T18:40:14.108Z"
   },
   {
    "duration": 17,
    "start_time": "2022-07-12T18:40:14.114Z"
   },
   {
    "duration": 9,
    "start_time": "2022-07-12T18:41:33.178Z"
   },
   {
    "duration": 1127,
    "start_time": "2022-07-16T07:35:15.786Z"
   },
   {
    "duration": 127,
    "start_time": "2022-07-16T07:35:16.915Z"
   },
   {
    "duration": 18,
    "start_time": "2022-07-16T07:35:17.044Z"
   },
   {
    "duration": 10,
    "start_time": "2022-07-16T07:35:17.064Z"
   },
   {
    "duration": 8,
    "start_time": "2022-07-16T07:35:17.076Z"
   },
   {
    "duration": 5,
    "start_time": "2022-07-16T07:35:17.085Z"
   },
   {
    "duration": 863,
    "start_time": "2022-07-16T07:35:17.091Z"
   },
   {
    "duration": 7,
    "start_time": "2022-07-16T07:35:17.955Z"
   },
   {
    "duration": 34128,
    "start_time": "2022-07-16T07:35:17.964Z"
   },
   {
    "duration": 7,
    "start_time": "2022-07-16T07:35:52.095Z"
   },
   {
    "duration": 93,
    "start_time": "2022-07-16T07:35:52.103Z"
   },
   {
    "duration": 0,
    "start_time": "2022-07-16T07:35:52.212Z"
   },
   {
    "duration": 1064,
    "start_time": "2022-07-16T07:39:21.689Z"
   },
   {
    "duration": 29,
    "start_time": "2022-07-16T07:39:22.755Z"
   },
   {
    "duration": 15,
    "start_time": "2022-07-16T07:39:22.786Z"
   },
   {
    "duration": 10,
    "start_time": "2022-07-16T07:39:22.804Z"
   },
   {
    "duration": 7,
    "start_time": "2022-07-16T07:39:22.815Z"
   },
   {
    "duration": 5,
    "start_time": "2022-07-16T07:39:22.824Z"
   },
   {
    "duration": 826,
    "start_time": "2022-07-16T07:39:22.830Z"
   },
   {
    "duration": 4,
    "start_time": "2022-07-16T07:39:23.657Z"
   },
   {
    "duration": 33788,
    "start_time": "2022-07-16T07:39:23.662Z"
   },
   {
    "duration": 3,
    "start_time": "2022-07-16T07:39:57.452Z"
   },
   {
    "duration": 23,
    "start_time": "2022-07-16T07:42:53.347Z"
   },
   {
    "duration": 1159,
    "start_time": "2022-07-16T07:48:24.442Z"
   },
   {
    "duration": 36,
    "start_time": "2022-07-16T07:48:25.603Z"
   },
   {
    "duration": 19,
    "start_time": "2022-07-16T07:48:25.641Z"
   },
   {
    "duration": 12,
    "start_time": "2022-07-16T07:48:25.662Z"
   },
   {
    "duration": 9,
    "start_time": "2022-07-16T07:48:25.677Z"
   },
   {
    "duration": 3,
    "start_time": "2022-07-16T07:48:25.689Z"
   },
   {
    "duration": 901,
    "start_time": "2022-07-16T07:48:25.703Z"
   },
   {
    "duration": 11,
    "start_time": "2022-07-16T07:48:26.605Z"
   },
   {
    "duration": 1155,
    "start_time": "2022-07-16T07:49:03.997Z"
   },
   {
    "duration": 35,
    "start_time": "2022-07-16T07:49:05.154Z"
   },
   {
    "duration": 32,
    "start_time": "2022-07-16T07:49:05.191Z"
   },
   {
    "duration": 24,
    "start_time": "2022-07-16T07:49:05.224Z"
   },
   {
    "duration": 30,
    "start_time": "2022-07-16T07:49:05.251Z"
   },
   {
    "duration": 6,
    "start_time": "2022-07-16T07:49:05.283Z"
   },
   {
    "duration": 950,
    "start_time": "2022-07-16T07:49:05.291Z"
   },
   {
    "duration": 4,
    "start_time": "2022-07-16T07:49:06.242Z"
   },
   {
    "duration": 1079,
    "start_time": "2022-07-16T07:49:21.443Z"
   },
   {
    "duration": 30,
    "start_time": "2022-07-16T07:49:22.523Z"
   },
   {
    "duration": 18,
    "start_time": "2022-07-16T07:49:22.554Z"
   },
   {
    "duration": 15,
    "start_time": "2022-07-16T07:49:22.574Z"
   },
   {
    "duration": 7,
    "start_time": "2022-07-16T07:49:22.591Z"
   },
   {
    "duration": 21,
    "start_time": "2022-07-16T07:49:22.599Z"
   },
   {
    "duration": 913,
    "start_time": "2022-07-16T07:49:22.622Z"
   },
   {
    "duration": 4,
    "start_time": "2022-07-16T07:49:23.537Z"
   },
   {
    "duration": 39641,
    "start_time": "2022-07-16T07:49:23.543Z"
   },
   {
    "duration": 4,
    "start_time": "2022-07-16T07:50:03.185Z"
   },
   {
    "duration": 44,
    "start_time": "2022-07-16T07:50:03.191Z"
   },
   {
    "duration": 15,
    "start_time": "2022-07-16T07:50:03.237Z"
   },
   {
    "duration": 7,
    "start_time": "2022-07-16T07:50:24.956Z"
   },
   {
    "duration": 1650,
    "start_time": "2022-07-16T17:35:31.421Z"
   },
   {
    "duration": 118,
    "start_time": "2022-07-16T17:35:33.073Z"
   },
   {
    "duration": 17,
    "start_time": "2022-07-16T17:35:33.192Z"
   },
   {
    "duration": 15,
    "start_time": "2022-07-16T17:35:33.211Z"
   },
   {
    "duration": 11,
    "start_time": "2022-07-16T17:35:33.228Z"
   },
   {
    "duration": 6,
    "start_time": "2022-07-16T17:35:33.241Z"
   },
   {
    "duration": 882,
    "start_time": "2022-07-16T17:35:33.249Z"
   },
   {
    "duration": 4,
    "start_time": "2022-07-16T17:35:34.133Z"
   },
   {
    "duration": 35028,
    "start_time": "2022-07-16T17:35:34.138Z"
   },
   {
    "duration": 3,
    "start_time": "2022-07-16T17:36:09.168Z"
   },
   {
    "duration": 35,
    "start_time": "2022-07-16T17:36:09.173Z"
   },
   {
    "duration": 3,
    "start_time": "2022-07-16T17:36:09.209Z"
   },
   {
    "duration": 7,
    "start_time": "2022-07-16T17:36:09.213Z"
   },
   {
    "duration": 9,
    "start_time": "2022-07-16T17:36:09.221Z"
   },
   {
    "duration": 3,
    "start_time": "2022-07-16T17:37:28.162Z"
   },
   {
    "duration": 27,
    "start_time": "2022-07-16T17:37:29.033Z"
   },
   {
    "duration": 10,
    "start_time": "2022-07-16T17:37:30.791Z"
   },
   {
    "duration": 796,
    "start_time": "2022-07-16T17:37:35.965Z"
   },
   {
    "duration": 4,
    "start_time": "2022-07-16T17:37:36.763Z"
   },
   {
    "duration": 4,
    "start_time": "2022-07-16T17:37:38.135Z"
   },
   {
    "duration": 25,
    "start_time": "2022-07-16T17:37:39.006Z"
   },
   {
    "duration": 2,
    "start_time": "2022-07-16T17:37:39.435Z"
   },
   {
    "duration": 6,
    "start_time": "2022-07-16T17:37:40.305Z"
   },
   {
    "duration": 3,
    "start_time": "2022-07-16T17:37:40.758Z"
   },
   {
    "duration": 1186,
    "start_time": "2022-07-16T20:02:53.278Z"
   },
   {
    "duration": 67,
    "start_time": "2022-07-16T20:02:54.465Z"
   },
   {
    "duration": 19,
    "start_time": "2022-07-16T20:02:54.534Z"
   },
   {
    "duration": 16,
    "start_time": "2022-07-16T20:02:54.555Z"
   },
   {
    "duration": 27,
    "start_time": "2022-07-16T20:02:54.574Z"
   },
   {
    "duration": 23,
    "start_time": "2022-07-16T20:02:54.603Z"
   },
   {
    "duration": 981,
    "start_time": "2022-07-16T20:02:54.628Z"
   },
   {
    "duration": 4,
    "start_time": "2022-07-16T20:02:55.611Z"
   },
   {
    "duration": 36702,
    "start_time": "2022-07-16T20:02:55.617Z"
   },
   {
    "duration": 4,
    "start_time": "2022-07-16T20:03:32.321Z"
   },
   {
    "duration": 67,
    "start_time": "2022-07-16T20:03:32.327Z"
   },
   {
    "duration": 32,
    "start_time": "2022-07-16T20:03:32.396Z"
   },
   {
    "duration": 27,
    "start_time": "2022-07-16T20:03:32.430Z"
   },
   {
    "duration": 42,
    "start_time": "2022-07-16T20:03:32.460Z"
   },
   {
    "duration": 126,
    "start_time": "2022-07-16T20:03:32.504Z"
   },
   {
    "duration": 9,
    "start_time": "2022-07-16T20:03:57.183Z"
   },
   {
    "duration": 109,
    "start_time": "2022-07-22T07:09:14.552Z"
   },
   {
    "duration": 1273,
    "start_time": "2022-07-22T07:19:01.763Z"
   },
   {
    "duration": 118,
    "start_time": "2022-07-22T07:19:03.038Z"
   },
   {
    "duration": 17,
    "start_time": "2022-07-22T07:19:03.158Z"
   },
   {
    "duration": 15,
    "start_time": "2022-07-22T07:19:03.177Z"
   },
   {
    "duration": 6,
    "start_time": "2022-07-22T07:19:03.194Z"
   },
   {
    "duration": 13,
    "start_time": "2022-07-22T07:19:03.202Z"
   },
   {
    "duration": 907,
    "start_time": "2022-07-22T07:19:03.217Z"
   },
   {
    "duration": 4,
    "start_time": "2022-07-22T07:19:04.126Z"
   },
   {
    "duration": 35168,
    "start_time": "2022-07-22T07:19:04.132Z"
   },
   {
    "duration": 3,
    "start_time": "2022-07-22T07:19:39.303Z"
   },
   {
    "duration": 24,
    "start_time": "2022-07-22T07:19:39.323Z"
   },
   {
    "duration": 3,
    "start_time": "2022-07-22T07:19:39.349Z"
   },
   {
    "duration": 9,
    "start_time": "2022-07-22T07:19:39.353Z"
   },
   {
    "duration": 7,
    "start_time": "2022-07-22T07:19:39.363Z"
   },
   {
    "duration": 118,
    "start_time": "2022-07-22T07:19:39.371Z"
   },
   {
    "duration": 673,
    "start_time": "2022-07-22T07:21:11.772Z"
   },
   {
    "duration": 3,
    "start_time": "2022-07-22T07:23:36.665Z"
   },
   {
    "duration": 7,
    "start_time": "2022-07-22T07:24:25.353Z"
   }
  ],
  "kernelspec": {
   "display_name": "Python 3 (ipykernel)",
   "language": "python",
   "name": "python3"
  },
  "language_info": {
   "codemirror_mode": {
    "name": "ipython",
    "version": 3
   },
   "file_extension": ".py",
   "mimetype": "text/x-python",
   "name": "python",
   "nbconvert_exporter": "python",
   "pygments_lexer": "ipython3",
   "version": "3.9.5"
  },
  "toc": {
   "base_numbering": 1,
   "nav_menu": {},
   "number_sections": true,
   "sideBar": true,
   "skip_h1_title": true,
   "title_cell": "Table of Contents",
   "title_sidebar": "Contents",
   "toc_cell": false,
   "toc_position": {},
   "toc_section_display": true,
   "toc_window_display": false
  }
 },
 "nbformat": 4,
 "nbformat_minor": 2
}
