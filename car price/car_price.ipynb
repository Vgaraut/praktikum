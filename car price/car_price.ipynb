{
 "cells": [
  {
   "cell_type": "markdown",
   "metadata": {},
   "source": [
    "# Определение стоимости автомобилей"
   ]
  },
  {
   "cell_type": "markdown",
   "metadata": {},
   "source": [
    "Сервис по продаже автомобилей с пробегом «Не бит, не крашен» разрабатывает приложение для привлечения новых клиентов. В нём можно быстро узнать рыночную стоимость своего автомобиля. В вашем распоряжении исторические данные: технические характеристики, комплектации и цены автомобилей. Вам нужно построить модель для определения стоимости. \n",
    "\n",
    "Заказчику важны:\n",
    "\n",
    "- качество предсказания;\n",
    "- скорость предсказания;\n",
    "- время обучения."
   ]
  },
  {
   "cell_type": "code",
   "execution_count": 1,
   "metadata": {},
   "outputs": [
    {
     "name": "stdout",
     "output_type": "stream",
     "text": [
      "Collecting scikit-learn==1.1.3\n",
      "  Downloading scikit_learn-1.1.3-cp39-cp39-manylinux_2_17_x86_64.manylinux2014_x86_64.whl (30.8 MB)\n",
      "\u001b[K     |████████████████████████████████| 30.8 MB 1.4 MB/s eta 0:00:01\n",
      "\u001b[?25hRequirement already satisfied: scipy>=1.3.2 in /opt/conda/lib/python3.9/site-packages (from scikit-learn==1.1.3) (1.9.1)\n",
      "Requirement already satisfied: threadpoolctl>=2.0.0 in /opt/conda/lib/python3.9/site-packages (from scikit-learn==1.1.3) (3.1.0)\n",
      "Requirement already satisfied: numpy>=1.17.3 in /opt/conda/lib/python3.9/site-packages (from scikit-learn==1.1.3) (1.21.1)\n",
      "Requirement already satisfied: joblib>=1.0.0 in /opt/conda/lib/python3.9/site-packages (from scikit-learn==1.1.3) (1.1.0)\n",
      "Installing collected packages: scikit-learn\n",
      "  Attempting uninstall: scikit-learn\n",
      "    Found existing installation: scikit-learn 0.24.1\n",
      "    Uninstalling scikit-learn-0.24.1:\n",
      "      Successfully uninstalled scikit-learn-0.24.1\n",
      "Successfully installed scikit-learn-1.1.3\n"
     ]
    }
   ],
   "source": [
    "!pip install scikit-learn==1.1.3"
   ]
  },
  {
   "cell_type": "markdown",
   "metadata": {},
   "source": [
    "## Подготовка данных"
   ]
  },
  {
   "cell_type": "code",
   "execution_count": 2,
   "metadata": {},
   "outputs": [],
   "source": [
    "# Подключим все необходимые библиотеки \n",
    "import os\n",
    "import math\n",
    "import time\n",
    "import itertools \n",
    "import urllib.request\n",
    "import numpy as np\n",
    "import pandas as pd\n",
    "import seaborn as sns\n",
    "import xgboost\n",
    "import lightgbm as lgb\n",
    "import matplotlib.pyplot as plt\n",
    "from pathlib import Path\n",
    "from catboost import CatBoostRegressor\n",
    "cat = CatBoostRegressor()\n",
    "from sklearn.preprocessing import OrdinalEncoder\n",
    "from sklearn.linear_model import LinearRegression\n",
    "from sklearn.preprocessing import StandardScaler\n",
    "from sklearn.preprocessing import OneHotEncoder\n",
    "from sklearn.model_selection import train_test_split\n",
    "from sklearn.model_selection import GridSearchCV"
   ]
  },
  {
   "cell_type": "code",
   "execution_count": 3,
   "metadata": {},
   "outputs": [],
   "source": [
    "class DataScience:\n",
    "\n",
    "    def path_to_files(self, path, link):\n",
    "        Path('datasets').mkdir(parents=True, exist_ok=True)\n",
    "        def get_file(file_name, url):\n",
    "            if not os.path.exists(file_name):\n",
    "                print(file_name, 'файл не найден, будет загружен из сети')\n",
    "                _ = urllib.request.urlretrieve(url, file_name)\n",
    "        urls = {\n",
    "            'dataset': (path, link)\n",
    "        }\n",
    "        [get_file(*urls[k]) for k in urls]\n",
    "        data = pd.read_csv(urls['dataset'][0])\n",
    "        return data\n",
    "\n",
    "\n",
    "    def corr_diagram(self, x):\n",
    "        plt.figure(figsize=(12, 10), dpi=80)\n",
    "        sns.heatmap(x.corr(), xticklabels=x.corr().columns, yticklabels=x.corr().columns, cmap='RdYlGn', center=0,\n",
    "                    annot=True)\n",
    "        plt.title('Диаграмма корреляции', fontsize=22)\n",
    "        plt.xticks(fontsize=12)\n",
    "        plt.yticks(fontsize=12)\n",
    "        plt.show()\n",
    "\n",
    "    def clean_dataset(self, df):\n",
    "        assert isinstance(df, pd.DataFrame), \"df needs to be a pd.DataFrame\"\n",
    "        df.dropna(inplace=True)\n",
    "        indices_to_keep = ~df.isin([np.nan, np.inf, -np.inf]).any(1)\n",
    "\n",
    "        return df[indices_to_keep].astype(np.float64)\n",
    "\n",
    "    def missing_zero_values_table(self, df):\n",
    "        zero_val = (df == 0.00).astype(int).sum(axis=0)\n",
    "        mis_val = df.isnull().sum()\n",
    "        mis_val_percent = 100 * df.isnull().sum() / len(df)\n",
    "        mz_table = pd.concat([zero_val, mis_val, mis_val_percent], axis=1)\n",
    "        mz_table = mz_table.rename(\n",
    "            columns={0: 'Zero Values', 1: 'Missing Values', 2: '% of Total Values'})\n",
    "        mz_table['Total Zero Missing Values'] = mz_table['Zero Values'] + mz_table['Missing Values']\n",
    "        mz_table['% Total Zero Missing Values'] = 100 * mz_table['Total Zero Missing Values'] / len(df)\n",
    "        mz_table['Data Type'] = df.dtypes\n",
    "        mz_table = mz_table[\n",
    "            mz_table.iloc[:, 1] != 0].sort_values(\n",
    "            '% of Total Values', ascending=False).round(1)\n",
    "        print(\"Your selected dataframe has \" + str(df.shape[1]) + \" columns and \" + str(df.shape[0]) + \" Rows.\\n\"\n",
    "                                                                                                       \"There are \" + str(\n",
    "            mz_table.shape[0]) +\n",
    "              \" columns that have missing values.\")\n",
    "\n",
    "        return mz_table\n",
    "\n",
    "       \n",
    "    def fill_with_mode(self, column, column1, column2):\n",
    "        df[column] = df.groupby([column1, column2])[column].transform(lambda x: x.fillna((x.mode()[0] if not x.mode().empty else \"Empty\")))\n",
    "        \n",
    "    def rmse(self,predictions, targets): \n",
    "        return np.sqrt(((predictions - targets) ** 2).mean())"
   ]
  },
  {
   "cell_type": "code",
   "execution_count": 4,
   "metadata": {},
   "outputs": [],
   "source": [
    "#Присвоим переменной ds класс DataScience\n",
    "ds = DataScience()"
   ]
  },
  {
   "cell_type": "code",
   "execution_count": 5,
   "metadata": {},
   "outputs": [],
   "source": [
    "#откроем файл autos.csv\n",
    "df = ds.path_to_files('/datasets/autos.csv','https://code.s3.yandex.net/datasets/autos.csv')"
   ]
  },
  {
   "cell_type": "code",
   "execution_count": 6,
   "metadata": {},
   "outputs": [
    {
     "name": "stdout",
     "output_type": "stream",
     "text": [
      "<class 'pandas.core.frame.DataFrame'>\n",
      "RangeIndex: 354369 entries, 0 to 354368\n",
      "Data columns (total 16 columns):\n",
      " #   Column             Non-Null Count   Dtype \n",
      "---  ------             --------------   ----- \n",
      " 0   DateCrawled        354369 non-null  object\n",
      " 1   Price              354369 non-null  int64 \n",
      " 2   VehicleType        316879 non-null  object\n",
      " 3   RegistrationYear   354369 non-null  int64 \n",
      " 4   Gearbox            334536 non-null  object\n",
      " 5   Power              354369 non-null  int64 \n",
      " 6   Model              334664 non-null  object\n",
      " 7   Kilometer          354369 non-null  int64 \n",
      " 8   RegistrationMonth  354369 non-null  int64 \n",
      " 9   FuelType           321474 non-null  object\n",
      " 10  Brand              354369 non-null  object\n",
      " 11  Repaired           283215 non-null  object\n",
      " 12  DateCreated        354369 non-null  object\n",
      " 13  NumberOfPictures   354369 non-null  int64 \n",
      " 14  PostalCode         354369 non-null  int64 \n",
      " 15  LastSeen           354369 non-null  object\n",
      "dtypes: int64(7), object(9)\n",
      "memory usage: 43.3+ MB\n"
     ]
    },
    {
     "data": {
      "text/plain": [
       "None"
      ]
     },
     "metadata": {},
     "output_type": "display_data"
    },
    {
     "data": {
      "text/html": [
       "<div>\n",
       "<style scoped>\n",
       "    .dataframe tbody tr th:only-of-type {\n",
       "        vertical-align: middle;\n",
       "    }\n",
       "\n",
       "    .dataframe tbody tr th {\n",
       "        vertical-align: top;\n",
       "    }\n",
       "\n",
       "    .dataframe thead th {\n",
       "        text-align: right;\n",
       "    }\n",
       "</style>\n",
       "<table border=\"1\" class=\"dataframe\">\n",
       "  <thead>\n",
       "    <tr style=\"text-align: right;\">\n",
       "      <th></th>\n",
       "      <th>Price</th>\n",
       "      <th>RegistrationYear</th>\n",
       "      <th>Power</th>\n",
       "      <th>Kilometer</th>\n",
       "      <th>RegistrationMonth</th>\n",
       "      <th>NumberOfPictures</th>\n",
       "      <th>PostalCode</th>\n",
       "    </tr>\n",
       "  </thead>\n",
       "  <tbody>\n",
       "    <tr>\n",
       "      <th>count</th>\n",
       "      <td>354369.000000</td>\n",
       "      <td>354369.000000</td>\n",
       "      <td>354369.000000</td>\n",
       "      <td>354369.000000</td>\n",
       "      <td>354369.000000</td>\n",
       "      <td>354369.0</td>\n",
       "      <td>354369.000000</td>\n",
       "    </tr>\n",
       "    <tr>\n",
       "      <th>mean</th>\n",
       "      <td>4416.656776</td>\n",
       "      <td>2004.234448</td>\n",
       "      <td>110.094337</td>\n",
       "      <td>128211.172535</td>\n",
       "      <td>5.714645</td>\n",
       "      <td>0.0</td>\n",
       "      <td>50508.689087</td>\n",
       "    </tr>\n",
       "    <tr>\n",
       "      <th>std</th>\n",
       "      <td>4514.158514</td>\n",
       "      <td>90.227958</td>\n",
       "      <td>189.850405</td>\n",
       "      <td>37905.341530</td>\n",
       "      <td>3.726421</td>\n",
       "      <td>0.0</td>\n",
       "      <td>25783.096248</td>\n",
       "    </tr>\n",
       "    <tr>\n",
       "      <th>min</th>\n",
       "      <td>0.000000</td>\n",
       "      <td>1000.000000</td>\n",
       "      <td>0.000000</td>\n",
       "      <td>5000.000000</td>\n",
       "      <td>0.000000</td>\n",
       "      <td>0.0</td>\n",
       "      <td>1067.000000</td>\n",
       "    </tr>\n",
       "    <tr>\n",
       "      <th>25%</th>\n",
       "      <td>1050.000000</td>\n",
       "      <td>1999.000000</td>\n",
       "      <td>69.000000</td>\n",
       "      <td>125000.000000</td>\n",
       "      <td>3.000000</td>\n",
       "      <td>0.0</td>\n",
       "      <td>30165.000000</td>\n",
       "    </tr>\n",
       "    <tr>\n",
       "      <th>50%</th>\n",
       "      <td>2700.000000</td>\n",
       "      <td>2003.000000</td>\n",
       "      <td>105.000000</td>\n",
       "      <td>150000.000000</td>\n",
       "      <td>6.000000</td>\n",
       "      <td>0.0</td>\n",
       "      <td>49413.000000</td>\n",
       "    </tr>\n",
       "    <tr>\n",
       "      <th>75%</th>\n",
       "      <td>6400.000000</td>\n",
       "      <td>2008.000000</td>\n",
       "      <td>143.000000</td>\n",
       "      <td>150000.000000</td>\n",
       "      <td>9.000000</td>\n",
       "      <td>0.0</td>\n",
       "      <td>71083.000000</td>\n",
       "    </tr>\n",
       "    <tr>\n",
       "      <th>max</th>\n",
       "      <td>20000.000000</td>\n",
       "      <td>9999.000000</td>\n",
       "      <td>20000.000000</td>\n",
       "      <td>150000.000000</td>\n",
       "      <td>12.000000</td>\n",
       "      <td>0.0</td>\n",
       "      <td>99998.000000</td>\n",
       "    </tr>\n",
       "  </tbody>\n",
       "</table>\n",
       "</div>"
      ],
      "text/plain": [
       "               Price  RegistrationYear          Power      Kilometer  \\\n",
       "count  354369.000000     354369.000000  354369.000000  354369.000000   \n",
       "mean     4416.656776       2004.234448     110.094337  128211.172535   \n",
       "std      4514.158514         90.227958     189.850405   37905.341530   \n",
       "min         0.000000       1000.000000       0.000000    5000.000000   \n",
       "25%      1050.000000       1999.000000      69.000000  125000.000000   \n",
       "50%      2700.000000       2003.000000     105.000000  150000.000000   \n",
       "75%      6400.000000       2008.000000     143.000000  150000.000000   \n",
       "max     20000.000000       9999.000000   20000.000000  150000.000000   \n",
       "\n",
       "       RegistrationMonth  NumberOfPictures     PostalCode  \n",
       "count      354369.000000          354369.0  354369.000000  \n",
       "mean            5.714645               0.0   50508.689087  \n",
       "std             3.726421               0.0   25783.096248  \n",
       "min             0.000000               0.0    1067.000000  \n",
       "25%             3.000000               0.0   30165.000000  \n",
       "50%             6.000000               0.0   49413.000000  \n",
       "75%             9.000000               0.0   71083.000000  \n",
       "max            12.000000               0.0   99998.000000  "
      ]
     },
     "metadata": {},
     "output_type": "display_data"
    }
   ],
   "source": [
    "#Изучим первоначальную инфмормацию о датасете методом info и describe\n",
    "display(df.info())\n",
    "display(df.describe())"
   ]
  },
  {
   "cell_type": "code",
   "execution_count": 7,
   "metadata": {},
   "outputs": [
    {
     "name": "stdout",
     "output_type": "stream",
     "text": [
      "Your selected dataframe has 16 columns and 354369 Rows.\n",
      "There are 5 columns that have missing values.\n"
     ]
    },
    {
     "data": {
      "text/html": [
       "<div>\n",
       "<style scoped>\n",
       "    .dataframe tbody tr th:only-of-type {\n",
       "        vertical-align: middle;\n",
       "    }\n",
       "\n",
       "    .dataframe tbody tr th {\n",
       "        vertical-align: top;\n",
       "    }\n",
       "\n",
       "    .dataframe thead th {\n",
       "        text-align: right;\n",
       "    }\n",
       "</style>\n",
       "<table border=\"1\" class=\"dataframe\">\n",
       "  <thead>\n",
       "    <tr style=\"text-align: right;\">\n",
       "      <th></th>\n",
       "      <th>Zero Values</th>\n",
       "      <th>Missing Values</th>\n",
       "      <th>% of Total Values</th>\n",
       "      <th>Total Zero Missing Values</th>\n",
       "      <th>% Total Zero Missing Values</th>\n",
       "      <th>Data Type</th>\n",
       "    </tr>\n",
       "  </thead>\n",
       "  <tbody>\n",
       "    <tr>\n",
       "      <th>Repaired</th>\n",
       "      <td>0</td>\n",
       "      <td>71154</td>\n",
       "      <td>20.1</td>\n",
       "      <td>71154</td>\n",
       "      <td>20.1</td>\n",
       "      <td>object</td>\n",
       "    </tr>\n",
       "    <tr>\n",
       "      <th>VehicleType</th>\n",
       "      <td>0</td>\n",
       "      <td>37490</td>\n",
       "      <td>10.6</td>\n",
       "      <td>37490</td>\n",
       "      <td>10.6</td>\n",
       "      <td>object</td>\n",
       "    </tr>\n",
       "    <tr>\n",
       "      <th>FuelType</th>\n",
       "      <td>0</td>\n",
       "      <td>32895</td>\n",
       "      <td>9.3</td>\n",
       "      <td>32895</td>\n",
       "      <td>9.3</td>\n",
       "      <td>object</td>\n",
       "    </tr>\n",
       "    <tr>\n",
       "      <th>Gearbox</th>\n",
       "      <td>0</td>\n",
       "      <td>19833</td>\n",
       "      <td>5.6</td>\n",
       "      <td>19833</td>\n",
       "      <td>5.6</td>\n",
       "      <td>object</td>\n",
       "    </tr>\n",
       "    <tr>\n",
       "      <th>Model</th>\n",
       "      <td>0</td>\n",
       "      <td>19705</td>\n",
       "      <td>5.6</td>\n",
       "      <td>19705</td>\n",
       "      <td>5.6</td>\n",
       "      <td>object</td>\n",
       "    </tr>\n",
       "  </tbody>\n",
       "</table>\n",
       "</div>"
      ],
      "text/plain": [
       "             Zero Values  Missing Values  % of Total Values  \\\n",
       "Repaired               0           71154               20.1   \n",
       "VehicleType            0           37490               10.6   \n",
       "FuelType               0           32895                9.3   \n",
       "Gearbox                0           19833                5.6   \n",
       "Model                  0           19705                5.6   \n",
       "\n",
       "             Total Zero Missing Values  % Total Zero Missing Values Data Type  \n",
       "Repaired                         71154                         20.1    object  \n",
       "VehicleType                      37490                         10.6    object  \n",
       "FuelType                         32895                          9.3    object  \n",
       "Gearbox                          19833                          5.6    object  \n",
       "Model                            19705                          5.6    object  "
      ]
     },
     "execution_count": 7,
     "metadata": {},
     "output_type": "execute_result"
    }
   ],
   "source": [
    "#Посмотрим на количество пустых значений в датасете\n",
    "ds.missing_zero_values_table(df)"
   ]
  },
  {
   "cell_type": "code",
   "execution_count": 8,
   "metadata": {},
   "outputs": [
    {
     "data": {
      "text/plain": [
       "4"
      ]
     },
     "execution_count": 8,
     "metadata": {},
     "output_type": "execute_result"
    }
   ],
   "source": [
    "#Посмотрим на количество дубликатов в датасете\n",
    "df.duplicated().sum()"
   ]
  },
  {
   "cell_type": "code",
   "execution_count": 9,
   "metadata": {},
   "outputs": [
    {
     "data": {
      "text/html": [
       "<div>\n",
       "<style scoped>\n",
       "    .dataframe tbody tr th:only-of-type {\n",
       "        vertical-align: middle;\n",
       "    }\n",
       "\n",
       "    .dataframe tbody tr th {\n",
       "        vertical-align: top;\n",
       "    }\n",
       "\n",
       "    .dataframe thead th {\n",
       "        text-align: right;\n",
       "    }\n",
       "</style>\n",
       "<table border=\"1\" class=\"dataframe\">\n",
       "  <thead>\n",
       "    <tr style=\"text-align: right;\">\n",
       "      <th></th>\n",
       "      <th>Price</th>\n",
       "      <th>VehicleType</th>\n",
       "      <th>RegistrationYear</th>\n",
       "      <th>Gearbox</th>\n",
       "      <th>Power</th>\n",
       "      <th>Model</th>\n",
       "      <th>Kilometer</th>\n",
       "      <th>RegistrationMonth</th>\n",
       "      <th>FuelType</th>\n",
       "      <th>Brand</th>\n",
       "    </tr>\n",
       "  </thead>\n",
       "  <tbody>\n",
       "    <tr>\n",
       "      <th>0</th>\n",
       "      <td>480</td>\n",
       "      <td>NaN</td>\n",
       "      <td>1993</td>\n",
       "      <td>manual</td>\n",
       "      <td>0</td>\n",
       "      <td>golf</td>\n",
       "      <td>150000</td>\n",
       "      <td>0</td>\n",
       "      <td>petrol</td>\n",
       "      <td>volkswagen</td>\n",
       "    </tr>\n",
       "    <tr>\n",
       "      <th>1</th>\n",
       "      <td>18300</td>\n",
       "      <td>coupe</td>\n",
       "      <td>2011</td>\n",
       "      <td>manual</td>\n",
       "      <td>190</td>\n",
       "      <td>NaN</td>\n",
       "      <td>125000</td>\n",
       "      <td>5</td>\n",
       "      <td>gasoline</td>\n",
       "      <td>audi</td>\n",
       "    </tr>\n",
       "    <tr>\n",
       "      <th>2</th>\n",
       "      <td>9800</td>\n",
       "      <td>suv</td>\n",
       "      <td>2004</td>\n",
       "      <td>auto</td>\n",
       "      <td>163</td>\n",
       "      <td>grand</td>\n",
       "      <td>125000</td>\n",
       "      <td>8</td>\n",
       "      <td>gasoline</td>\n",
       "      <td>jeep</td>\n",
       "    </tr>\n",
       "    <tr>\n",
       "      <th>3</th>\n",
       "      <td>1500</td>\n",
       "      <td>small</td>\n",
       "      <td>2001</td>\n",
       "      <td>manual</td>\n",
       "      <td>75</td>\n",
       "      <td>golf</td>\n",
       "      <td>150000</td>\n",
       "      <td>6</td>\n",
       "      <td>petrol</td>\n",
       "      <td>volkswagen</td>\n",
       "    </tr>\n",
       "    <tr>\n",
       "      <th>4</th>\n",
       "      <td>3600</td>\n",
       "      <td>small</td>\n",
       "      <td>2008</td>\n",
       "      <td>manual</td>\n",
       "      <td>69</td>\n",
       "      <td>fabia</td>\n",
       "      <td>90000</td>\n",
       "      <td>7</td>\n",
       "      <td>gasoline</td>\n",
       "      <td>skoda</td>\n",
       "    </tr>\n",
       "  </tbody>\n",
       "</table>\n",
       "</div>"
      ],
      "text/plain": [
       "   Price VehicleType  RegistrationYear Gearbox  Power  Model  Kilometer  \\\n",
       "0    480         NaN              1993  manual      0   golf     150000   \n",
       "1  18300       coupe              2011  manual    190    NaN     125000   \n",
       "2   9800         suv              2004    auto    163  grand     125000   \n",
       "3   1500       small              2001  manual     75   golf     150000   \n",
       "4   3600       small              2008  manual     69  fabia      90000   \n",
       "\n",
       "   RegistrationMonth  FuelType       Brand  \n",
       "0                  0    petrol  volkswagen  \n",
       "1                  5  gasoline        audi  \n",
       "2                  8  gasoline        jeep  \n",
       "3                  6    petrol  volkswagen  \n",
       "4                  7  gasoline       skoda  "
      ]
     },
     "execution_count": 9,
     "metadata": {},
     "output_type": "execute_result"
    }
   ],
   "source": [
    "#Удалим столбцы которые нам не понадобятся\n",
    "df=df.drop(['DateCrawled','DateCreated','PostalCode','LastSeen','NumberOfPictures', 'Repaired'], axis=1)\n",
    "df.head(5)"
   ]
  },
  {
   "cell_type": "code",
   "execution_count": 10,
   "metadata": {},
   "outputs": [],
   "source": [
    "#Немного поменяем местами столбцы, чтобы было удобно читать.\n",
    "column_names = ['Brand','Model','VehicleType','RegistrationYear','Gearbox','Power','FuelType','Kilometer','RegistrationMonth','Price']\n",
    "df = df.reindex(columns=column_names)"
   ]
  },
  {
   "cell_type": "code",
   "execution_count": 11,
   "metadata": {},
   "outputs": [
    {
     "data": {
      "text/html": [
       "<div>\n",
       "<style scoped>\n",
       "    .dataframe tbody tr th:only-of-type {\n",
       "        vertical-align: middle;\n",
       "    }\n",
       "\n",
       "    .dataframe tbody tr th {\n",
       "        vertical-align: top;\n",
       "    }\n",
       "\n",
       "    .dataframe thead th {\n",
       "        text-align: right;\n",
       "    }\n",
       "</style>\n",
       "<table border=\"1\" class=\"dataframe\">\n",
       "  <thead>\n",
       "    <tr style=\"text-align: right;\">\n",
       "      <th></th>\n",
       "      <th>Brand</th>\n",
       "      <th>Model</th>\n",
       "      <th>VehicleType</th>\n",
       "      <th>RegistrationYear</th>\n",
       "      <th>Gearbox</th>\n",
       "      <th>Power</th>\n",
       "      <th>FuelType</th>\n",
       "      <th>Kilometer</th>\n",
       "      <th>RegistrationMonth</th>\n",
       "      <th>Price</th>\n",
       "    </tr>\n",
       "  </thead>\n",
       "  <tbody>\n",
       "    <tr>\n",
       "      <th>0</th>\n",
       "      <td>volkswagen</td>\n",
       "      <td>golf</td>\n",
       "      <td>NaN</td>\n",
       "      <td>1993</td>\n",
       "      <td>manual</td>\n",
       "      <td>0</td>\n",
       "      <td>petrol</td>\n",
       "      <td>150000</td>\n",
       "      <td>0</td>\n",
       "      <td>480</td>\n",
       "    </tr>\n",
       "    <tr>\n",
       "      <th>1</th>\n",
       "      <td>audi</td>\n",
       "      <td>NaN</td>\n",
       "      <td>coupe</td>\n",
       "      <td>2011</td>\n",
       "      <td>manual</td>\n",
       "      <td>190</td>\n",
       "      <td>gasoline</td>\n",
       "      <td>125000</td>\n",
       "      <td>5</td>\n",
       "      <td>18300</td>\n",
       "    </tr>\n",
       "    <tr>\n",
       "      <th>2</th>\n",
       "      <td>jeep</td>\n",
       "      <td>grand</td>\n",
       "      <td>suv</td>\n",
       "      <td>2004</td>\n",
       "      <td>auto</td>\n",
       "      <td>163</td>\n",
       "      <td>gasoline</td>\n",
       "      <td>125000</td>\n",
       "      <td>8</td>\n",
       "      <td>9800</td>\n",
       "    </tr>\n",
       "    <tr>\n",
       "      <th>3</th>\n",
       "      <td>volkswagen</td>\n",
       "      <td>golf</td>\n",
       "      <td>small</td>\n",
       "      <td>2001</td>\n",
       "      <td>manual</td>\n",
       "      <td>75</td>\n",
       "      <td>petrol</td>\n",
       "      <td>150000</td>\n",
       "      <td>6</td>\n",
       "      <td>1500</td>\n",
       "    </tr>\n",
       "    <tr>\n",
       "      <th>4</th>\n",
       "      <td>skoda</td>\n",
       "      <td>fabia</td>\n",
       "      <td>small</td>\n",
       "      <td>2008</td>\n",
       "      <td>manual</td>\n",
       "      <td>69</td>\n",
       "      <td>gasoline</td>\n",
       "      <td>90000</td>\n",
       "      <td>7</td>\n",
       "      <td>3600</td>\n",
       "    </tr>\n",
       "  </tbody>\n",
       "</table>\n",
       "</div>"
      ],
      "text/plain": [
       "        Brand  Model VehicleType  RegistrationYear Gearbox  Power  FuelType  \\\n",
       "0  volkswagen   golf         NaN              1993  manual      0    petrol   \n",
       "1        audi    NaN       coupe              2011  manual    190  gasoline   \n",
       "2        jeep  grand         suv              2004    auto    163  gasoline   \n",
       "3  volkswagen   golf       small              2001  manual     75    petrol   \n",
       "4       skoda  fabia       small              2008  manual     69  gasoline   \n",
       "\n",
       "   Kilometer  RegistrationMonth  Price  \n",
       "0     150000                  0    480  \n",
       "1     125000                  5  18300  \n",
       "2     125000                  8   9800  \n",
       "3     150000                  6   1500  \n",
       "4      90000                  7   3600  "
      ]
     },
     "execution_count": 11,
     "metadata": {},
     "output_type": "execute_result"
    }
   ],
   "source": [
    "df.head()"
   ]
  },
  {
   "cell_type": "code",
   "execution_count": 12,
   "metadata": {},
   "outputs": [
    {
     "data": {
      "text/plain": [
       "Brand           40\n",
       "Model          250\n",
       "VehicleType      8\n",
       "Gearbox          2\n",
       "FuelType         7\n",
       "Kilometer       13\n",
       "dtype: int64"
      ]
     },
     "execution_count": 12,
     "metadata": {},
     "output_type": "execute_result"
    }
   ],
   "source": [
    "#Посмотрим сколько уникальных значений мы имеем в categorical признаках\n",
    "categorical = ['Brand','Model','VehicleType','Gearbox','FuelType', 'Kilometer']\n",
    "numerical_features_names = df.select_dtypes(include=['int64'])\n",
    "df[categorical].nunique()"
   ]
  },
  {
   "cell_type": "code",
   "execution_count": 13,
   "metadata": {},
   "outputs": [
    {
     "name": "stderr",
     "output_type": "stream",
     "text": [
      "/opt/conda/lib/python3.9/site-packages/seaborn/distributions.py:2557: FutureWarning: `distplot` is a deprecated function and will be removed in a future version. Please adapt your code to use either `displot` (a figure-level function with similar flexibility) or `histplot` (an axes-level function for histograms).\n",
      "  warnings.warn(msg, FutureWarning)\n"
     ]
    },
    {
     "data": {
      "text/plain": [
       "2700.0"
      ]
     },
     "execution_count": 13,
     "metadata": {},
     "output_type": "execute_result"
    },
    {
     "data": {
      "image/png": "[encoded data removed]",
      "text/plain": [
       "<Figure size 432x288 with 1 Axes>"
      ]
     },
     "metadata": {
      "needs_background": "light"
     },
     "output_type": "display_data"
    }
   ],
   "source": [
    "#Посмотрим на распределение целевого признака\n",
    "sns.distplot(df.Price.values)\n",
    "np.median(df.Price.values)"
   ]
  },
  {
   "cell_type": "code",
   "execution_count": 14,
   "metadata": {},
   "outputs": [
    {
     "data": {
      "text/plain": [
       "count    354369.000000\n",
       "mean       4416.656776\n",
       "std        4514.158514\n",
       "min           0.000000\n",
       "25%        1050.000000\n",
       "50%        2700.000000\n",
       "75%        6400.000000\n",
       "max       20000.000000\n",
       "Name: Price, dtype: float64"
      ]
     },
     "execution_count": 14,
     "metadata": {},
     "output_type": "execute_result"
    }
   ],
   "source": [
    "df['Price'].describe()"
   ]
  },
  {
   "cell_type": "code",
   "execution_count": 15,
   "metadata": {},
   "outputs": [
    {
     "data": {
      "text/plain": [
       "10772"
      ]
     },
     "execution_count": 15,
     "metadata": {},
     "output_type": "execute_result"
    }
   ],
   "source": [
    "df[df['Price']==0]['Price'].count()"
   ]
  },
  {
   "cell_type": "code",
   "execution_count": 16,
   "metadata": {},
   "outputs": [
    {
     "name": "stdout",
     "output_type": "stream",
     "text": [
      "Кажется, что эти 3.0397692800442475% можно оставить либо удалить, как как он незначителен\n"
     ]
    }
   ],
   "source": [
    "percentage = df[df['Price']==0]['Price'].count() / df['Price'].count() * 100\n",
    "print(f'Кажется, что эти {percentage}% можно оставить либо удалить, как как он незначителен')"
   ]
  },
  {
   "cell_type": "code",
   "execution_count": 17,
   "metadata": {},
   "outputs": [
    {
     "data": {
      "image/png": "[encoded data removed]",
      "text/plain": [
       "<Figure size 432x288 with 1 Axes>"
      ]
     },
     "metadata": {
      "needs_background": "light"
     },
     "output_type": "display_data"
    }
   ],
   "source": [
    "#Посмотрим на распределение мощности автомобилей\n",
    "sns.boxplot(data=df['Power']);"
   ]
  },
  {
   "cell_type": "code",
   "execution_count": 18,
   "metadata": {},
   "outputs": [
    {
     "data": {
      "text/plain": [
       "<AxesSubplot:>"
      ]
     },
     "execution_count": 18,
     "metadata": {},
     "output_type": "execute_result"
    },
    {
     "data": {
      "image/png": "[encoded data removed]",
      "text/plain": [
       "<Figure size 432x288 with 1 Axes>"
      ]
     },
     "metadata": {
      "needs_background": "light"
     },
     "output_type": "display_data"
    }
   ],
   "source": [
    "df['Power'].hist(bins=30)"
   ]
  },
  {
   "cell_type": "code",
   "execution_count": 19,
   "metadata": {},
   "outputs": [
    {
     "data": {
      "text/plain": [
       "count    354369.000000\n",
       "mean        110.094337\n",
       "std         189.850405\n",
       "min           0.000000\n",
       "25%          69.000000\n",
       "50%         105.000000\n",
       "75%         143.000000\n",
       "max       20000.000000\n",
       "Name: Power, dtype: float64"
      ]
     },
     "execution_count": 19,
     "metadata": {},
     "output_type": "execute_result"
    }
   ],
   "source": [
    "df['Power'].describe()"
   ]
  },
  {
   "cell_type": "code",
   "execution_count": 20,
   "metadata": {},
   "outputs": [
    {
     "name": "stderr",
     "output_type": "stream",
     "text": [
      "/opt/conda/lib/python3.9/site-packages/seaborn/distributions.py:2557: FutureWarning: `distplot` is a deprecated function and will be removed in a future version. Please adapt your code to use either `displot` (a figure-level function with similar flexibility) or `histplot` (an axes-level function for histograms).\n",
      "  warnings.warn(msg, FutureWarning)\n"
     ]
    },
    {
     "data": {
      "text/plain": [
       "105.0"
      ]
     },
     "execution_count": 20,
     "metadata": {},
     "output_type": "execute_result"
    },
    {
     "data": {
      "image/png": "[encoded data removed]",
      "text/plain": [
       "<Figure size 432x288 with 1 Axes>"
      ]
     },
     "metadata": {
      "needs_background": "light"
     },
     "output_type": "display_data"
    }
   ],
   "source": [
    "sns.distplot(df.Power.values)\n",
    "np.median(df.Power.values)"
   ]
  },
  {
   "cell_type": "code",
   "execution_count": 21,
   "metadata": {},
   "outputs": [],
   "source": [
    "df = df[df['Price']!=0]"
   ]
  },
  {
   "cell_type": "code",
   "execution_count": 22,
   "metadata": {},
   "outputs": [],
   "source": [
    "df = df[df['Power']!=0]"
   ]
  },
  {
   "cell_type": "code",
   "execution_count": 23,
   "metadata": {},
   "outputs": [],
   "source": [
    "df = df[df['Power']<=400] # уберем машины с мощностью больше 400 л.с., Поэтому предлагаю срезать ненужную информацию"
   ]
  },
  {
   "cell_type": "code",
   "execution_count": 24,
   "metadata": {},
   "outputs": [
    {
     "data": {
      "text/html": [
       "<div>\n",
       "<style scoped>\n",
       "    .dataframe tbody tr th:only-of-type {\n",
       "        vertical-align: middle;\n",
       "    }\n",
       "\n",
       "    .dataframe tbody tr th {\n",
       "        vertical-align: top;\n",
       "    }\n",
       "\n",
       "    .dataframe thead th {\n",
       "        text-align: right;\n",
       "    }\n",
       "</style>\n",
       "<table border=\"1\" class=\"dataframe\">\n",
       "  <thead>\n",
       "    <tr style=\"text-align: right;\">\n",
       "      <th></th>\n",
       "      <th>Brand</th>\n",
       "      <th>Model</th>\n",
       "      <th>VehicleType</th>\n",
       "      <th>RegistrationYear</th>\n",
       "      <th>Gearbox</th>\n",
       "      <th>Power</th>\n",
       "      <th>FuelType</th>\n",
       "      <th>Kilometer</th>\n",
       "      <th>RegistrationMonth</th>\n",
       "      <th>Price</th>\n",
       "    </tr>\n",
       "  </thead>\n",
       "  <tbody>\n",
       "    <tr>\n",
       "      <th>1</th>\n",
       "      <td>audi</td>\n",
       "      <td>NaN</td>\n",
       "      <td>coupe</td>\n",
       "      <td>2011</td>\n",
       "      <td>manual</td>\n",
       "      <td>190</td>\n",
       "      <td>gasoline</td>\n",
       "      <td>125000</td>\n",
       "      <td>5</td>\n",
       "      <td>18300</td>\n",
       "    </tr>\n",
       "    <tr>\n",
       "      <th>2</th>\n",
       "      <td>jeep</td>\n",
       "      <td>grand</td>\n",
       "      <td>suv</td>\n",
       "      <td>2004</td>\n",
       "      <td>auto</td>\n",
       "      <td>163</td>\n",
       "      <td>gasoline</td>\n",
       "      <td>125000</td>\n",
       "      <td>8</td>\n",
       "      <td>9800</td>\n",
       "    </tr>\n",
       "    <tr>\n",
       "      <th>3</th>\n",
       "      <td>volkswagen</td>\n",
       "      <td>golf</td>\n",
       "      <td>small</td>\n",
       "      <td>2001</td>\n",
       "      <td>manual</td>\n",
       "      <td>75</td>\n",
       "      <td>petrol</td>\n",
       "      <td>150000</td>\n",
       "      <td>6</td>\n",
       "      <td>1500</td>\n",
       "    </tr>\n",
       "    <tr>\n",
       "      <th>4</th>\n",
       "      <td>skoda</td>\n",
       "      <td>fabia</td>\n",
       "      <td>small</td>\n",
       "      <td>2008</td>\n",
       "      <td>manual</td>\n",
       "      <td>69</td>\n",
       "      <td>gasoline</td>\n",
       "      <td>90000</td>\n",
       "      <td>7</td>\n",
       "      <td>3600</td>\n",
       "    </tr>\n",
       "    <tr>\n",
       "      <th>5</th>\n",
       "      <td>bmw</td>\n",
       "      <td>3er</td>\n",
       "      <td>sedan</td>\n",
       "      <td>1995</td>\n",
       "      <td>manual</td>\n",
       "      <td>102</td>\n",
       "      <td>petrol</td>\n",
       "      <td>150000</td>\n",
       "      <td>10</td>\n",
       "      <td>650</td>\n",
       "    </tr>\n",
       "    <tr>\n",
       "      <th>...</th>\n",
       "      <td>...</td>\n",
       "      <td>...</td>\n",
       "      <td>...</td>\n",
       "      <td>...</td>\n",
       "      <td>...</td>\n",
       "      <td>...</td>\n",
       "      <td>...</td>\n",
       "      <td>...</td>\n",
       "      <td>...</td>\n",
       "      <td>...</td>\n",
       "    </tr>\n",
       "    <tr>\n",
       "      <th>354361</th>\n",
       "      <td>alfa_romeo</td>\n",
       "      <td>159</td>\n",
       "      <td>NaN</td>\n",
       "      <td>2016</td>\n",
       "      <td>auto</td>\n",
       "      <td>150</td>\n",
       "      <td>NaN</td>\n",
       "      <td>150000</td>\n",
       "      <td>12</td>\n",
       "      <td>5250</td>\n",
       "    </tr>\n",
       "    <tr>\n",
       "      <th>354362</th>\n",
       "      <td>seat</td>\n",
       "      <td>leon</td>\n",
       "      <td>sedan</td>\n",
       "      <td>2004</td>\n",
       "      <td>manual</td>\n",
       "      <td>225</td>\n",
       "      <td>petrol</td>\n",
       "      <td>150000</td>\n",
       "      <td>5</td>\n",
       "      <td>3200</td>\n",
       "    </tr>\n",
       "    <tr>\n",
       "      <th>354366</th>\n",
       "      <td>smart</td>\n",
       "      <td>fortwo</td>\n",
       "      <td>convertible</td>\n",
       "      <td>2000</td>\n",
       "      <td>auto</td>\n",
       "      <td>101</td>\n",
       "      <td>petrol</td>\n",
       "      <td>125000</td>\n",
       "      <td>3</td>\n",
       "      <td>1199</td>\n",
       "    </tr>\n",
       "    <tr>\n",
       "      <th>354367</th>\n",
       "      <td>volkswagen</td>\n",
       "      <td>transporter</td>\n",
       "      <td>bus</td>\n",
       "      <td>1996</td>\n",
       "      <td>manual</td>\n",
       "      <td>102</td>\n",
       "      <td>gasoline</td>\n",
       "      <td>150000</td>\n",
       "      <td>3</td>\n",
       "      <td>9200</td>\n",
       "    </tr>\n",
       "    <tr>\n",
       "      <th>354368</th>\n",
       "      <td>volkswagen</td>\n",
       "      <td>golf</td>\n",
       "      <td>wagon</td>\n",
       "      <td>2002</td>\n",
       "      <td>manual</td>\n",
       "      <td>100</td>\n",
       "      <td>gasoline</td>\n",
       "      <td>150000</td>\n",
       "      <td>6</td>\n",
       "      <td>3400</td>\n",
       "    </tr>\n",
       "  </tbody>\n",
       "</table>\n",
       "<p>306536 rows × 10 columns</p>\n",
       "</div>"
      ],
      "text/plain": [
       "             Brand        Model  VehicleType  RegistrationYear Gearbox  Power  \\\n",
       "1             audi          NaN        coupe              2011  manual    190   \n",
       "2             jeep        grand          suv              2004    auto    163   \n",
       "3       volkswagen         golf        small              2001  manual     75   \n",
       "4            skoda        fabia        small              2008  manual     69   \n",
       "5              bmw          3er        sedan              1995  manual    102   \n",
       "...            ...          ...          ...               ...     ...    ...   \n",
       "354361  alfa_romeo          159          NaN              2016    auto    150   \n",
       "354362        seat         leon        sedan              2004  manual    225   \n",
       "354366       smart       fortwo  convertible              2000    auto    101   \n",
       "354367  volkswagen  transporter          bus              1996  manual    102   \n",
       "354368  volkswagen         golf        wagon              2002  manual    100   \n",
       "\n",
       "        FuelType  Kilometer  RegistrationMonth  Price  \n",
       "1       gasoline     125000                  5  18300  \n",
       "2       gasoline     125000                  8   9800  \n",
       "3         petrol     150000                  6   1500  \n",
       "4       gasoline      90000                  7   3600  \n",
       "5         petrol     150000                 10    650  \n",
       "...          ...        ...                ...    ...  \n",
       "354361       NaN     150000                 12   5250  \n",
       "354362    petrol     150000                  5   3200  \n",
       "354366    petrol     125000                  3   1199  \n",
       "354367  gasoline     150000                  3   9200  \n",
       "354368  gasoline     150000                  6   3400  \n",
       "\n",
       "[306536 rows x 10 columns]"
      ]
     },
     "execution_count": 24,
     "metadata": {},
     "output_type": "execute_result"
    }
   ],
   "source": [
    "df"
   ]
  },
  {
   "cell_type": "code",
   "execution_count": 25,
   "metadata": {},
   "outputs": [],
   "source": [
    "#На основе имеющихся данных попробуем заменить пустые значения\n",
    "ds.fill_with_mode('Model','Brand','RegistrationYear')\n",
    "ds.fill_with_mode('VehicleType','Brand','Model')\n",
    "ds.fill_with_mode('FuelType','Brand','Model')"
   ]
  },
  {
   "cell_type": "code",
   "execution_count": 26,
   "metadata": {},
   "outputs": [],
   "source": [
    "#Заменим Empty на nan\n",
    "df = df.replace('Empty',np.nan)"
   ]
  },
  {
   "cell_type": "code",
   "execution_count": 27,
   "metadata": {},
   "outputs": [
    {
     "name": "stdout",
     "output_type": "stream",
     "text": [
      "Your selected dataframe has 10 columns and 306536 Rows.\n",
      "There are 4 columns that have missing values.\n"
     ]
    },
    {
     "data": {
      "text/html": [
       "<div>\n",
       "<style scoped>\n",
       "    .dataframe tbody tr th:only-of-type {\n",
       "        vertical-align: middle;\n",
       "    }\n",
       "\n",
       "    .dataframe tbody tr th {\n",
       "        vertical-align: top;\n",
       "    }\n",
       "\n",
       "    .dataframe thead th {\n",
       "        text-align: right;\n",
       "    }\n",
       "</style>\n",
       "<table border=\"1\" class=\"dataframe\">\n",
       "  <thead>\n",
       "    <tr style=\"text-align: right;\">\n",
       "      <th></th>\n",
       "      <th>Zero Values</th>\n",
       "      <th>Missing Values</th>\n",
       "      <th>% of Total Values</th>\n",
       "      <th>Total Zero Missing Values</th>\n",
       "      <th>% Total Zero Missing Values</th>\n",
       "      <th>Data Type</th>\n",
       "    </tr>\n",
       "  </thead>\n",
       "  <tbody>\n",
       "    <tr>\n",
       "      <th>Gearbox</th>\n",
       "      <td>0</td>\n",
       "      <td>6074</td>\n",
       "      <td>2.0</td>\n",
       "      <td>6074</td>\n",
       "      <td>2.0</td>\n",
       "      <td>object</td>\n",
       "    </tr>\n",
       "    <tr>\n",
       "      <th>Model</th>\n",
       "      <td>0</td>\n",
       "      <td>1924</td>\n",
       "      <td>0.6</td>\n",
       "      <td>1924</td>\n",
       "      <td>0.6</td>\n",
       "      <td>object</td>\n",
       "    </tr>\n",
       "    <tr>\n",
       "      <th>VehicleType</th>\n",
       "      <td>0</td>\n",
       "      <td>7</td>\n",
       "      <td>0.0</td>\n",
       "      <td>7</td>\n",
       "      <td>0.0</td>\n",
       "      <td>object</td>\n",
       "    </tr>\n",
       "    <tr>\n",
       "      <th>FuelType</th>\n",
       "      <td>0</td>\n",
       "      <td>3</td>\n",
       "      <td>0.0</td>\n",
       "      <td>3</td>\n",
       "      <td>0.0</td>\n",
       "      <td>object</td>\n",
       "    </tr>\n",
       "  </tbody>\n",
       "</table>\n",
       "</div>"
      ],
      "text/plain": [
       "             Zero Values  Missing Values  % of Total Values  \\\n",
       "Gearbox                0            6074                2.0   \n",
       "Model                  0            1924                0.6   \n",
       "VehicleType            0               7                0.0   \n",
       "FuelType               0               3                0.0   \n",
       "\n",
       "             Total Zero Missing Values  % Total Zero Missing Values Data Type  \n",
       "Gearbox                           6074                          2.0    object  \n",
       "Model                             1924                          0.6    object  \n",
       "VehicleType                          7                          0.0    object  \n",
       "FuelType                             3                          0.0    object  "
      ]
     },
     "execution_count": 27,
     "metadata": {},
     "output_type": "execute_result"
    }
   ],
   "source": [
    "ds.missing_zero_values_table(df) "
   ]
  },
  {
   "cell_type": "markdown",
   "metadata": {},
   "source": [
    "**Пропущенных данных имеем ~5 % , можно и дропнуть их**"
   ]
  },
  {
   "cell_type": "code",
   "execution_count": 28,
   "metadata": {},
   "outputs": [
    {
     "name": "stdout",
     "output_type": "stream",
     "text": [
      "<class 'pandas.core.frame.DataFrame'>\n",
      "Int64Index: 269491 entries, 1 to 354368\n",
      "Data columns (total 10 columns):\n",
      " #   Column             Non-Null Count   Dtype \n",
      "---  ------             --------------   ----- \n",
      " 0   Brand              269491 non-null  object\n",
      " 1   Model              269491 non-null  object\n",
      " 2   VehicleType        269491 non-null  object\n",
      " 3   RegistrationYear   269491 non-null  int64 \n",
      " 4   Gearbox            269491 non-null  object\n",
      " 5   Power              269491 non-null  int64 \n",
      " 6   FuelType           269491 non-null  object\n",
      " 7   Kilometer          269491 non-null  int64 \n",
      " 8   RegistrationMonth  269491 non-null  int64 \n",
      " 9   Price              269491 non-null  int64 \n",
      "dtypes: int64(5), object(5)\n",
      "memory usage: 22.6+ MB\n"
     ]
    }
   ],
   "source": [
    "#Удалим nan Значения и дубликаты\n",
    "df = df.dropna()\n",
    "df = df.drop_duplicates()\n",
    "df.info()"
   ]
  },
  {
   "cell_type": "code",
   "execution_count": 29,
   "metadata": {},
   "outputs": [
    {
     "data": {
      "text/plain": [
       "count    269491.000000\n",
       "mean       2003.418953\n",
       "std          19.789565\n",
       "min        1500.000000\n",
       "25%        1999.000000\n",
       "50%        2003.000000\n",
       "75%        2008.000000\n",
       "max        8200.000000\n",
       "Name: RegistrationYear, dtype: float64"
      ]
     },
     "execution_count": 29,
     "metadata": {},
     "output_type": "execute_result"
    }
   ],
   "source": [
    "df['RegistrationYear'].describe()"
   ]
  },
  {
   "cell_type": "code",
   "execution_count": 30,
   "metadata": {},
   "outputs": [
    {
     "data": {
      "text/plain": [
       "<AxesSubplot:xlabel='RegistrationYear'>"
      ]
     },
     "execution_count": 30,
     "metadata": {},
     "output_type": "execute_result"
    },
    {
     "data": {
      "image/png": "[encoded data removed]",
      "text/plain": [
       "<Figure size 432x288 with 1 Axes>"
      ]
     },
     "metadata": {
      "needs_background": "light"
     },
     "output_type": "display_data"
    }
   ],
   "source": [
    "sns.boxplot(x=df['RegistrationYear'])"
   ]
  },
  {
   "cell_type": "code",
   "execution_count": 31,
   "metadata": {},
   "outputs": [
    {
     "data": {
      "text/plain": [
       "37"
      ]
     },
     "execution_count": 31,
     "metadata": {},
     "output_type": "execute_result"
    }
   ],
   "source": [
    "df[(df['RegistrationYear'] > 2022) | (df['RegistrationYear'] < 1950)]['RegistrationYear'].count()"
   ]
  },
  {
   "cell_type": "code",
   "execution_count": 32,
   "metadata": {},
   "outputs": [
    {
     "data": {
      "text/plain": [
       "array([125000, 150000,  90000,  30000,  70000, 100000,  60000,   5000,\n",
       "        20000,  80000,  50000,  40000,  10000])"
      ]
     },
     "execution_count": 32,
     "metadata": {},
     "output_type": "execute_result"
    }
   ],
   "source": [
    "df['Kilometer'].unique()"
   ]
  },
  {
   "cell_type": "code",
   "execution_count": 33,
   "metadata": {},
   "outputs": [
    {
     "data": {
      "text/plain": [
       "13"
      ]
     },
     "execution_count": 33,
     "metadata": {},
     "output_type": "execute_result"
    }
   ],
   "source": [
    "df['Kilometer'].nunique()"
   ]
  },
  {
   "cell_type": "markdown",
   "metadata": {},
   "source": [
    "**мое упущение, данные заполняются кратно тысячам километров**"
   ]
  },
  {
   "cell_type": "code",
   "execution_count": 34,
   "metadata": {},
   "outputs": [
    {
     "data": {
      "text/html": [
       "<div>\n",
       "<style scoped>\n",
       "    .dataframe tbody tr th:only-of-type {\n",
       "        vertical-align: middle;\n",
       "    }\n",
       "\n",
       "    .dataframe tbody tr th {\n",
       "        vertical-align: top;\n",
       "    }\n",
       "\n",
       "    .dataframe thead th {\n",
       "        text-align: right;\n",
       "    }\n",
       "</style>\n",
       "<table border=\"1\" class=\"dataframe\">\n",
       "  <thead>\n",
       "    <tr style=\"text-align: right;\">\n",
       "      <th></th>\n",
       "      <th>Brand</th>\n",
       "      <th>Model</th>\n",
       "      <th>VehicleType</th>\n",
       "      <th>RegistrationYear</th>\n",
       "      <th>Gearbox</th>\n",
       "      <th>Power</th>\n",
       "      <th>FuelType</th>\n",
       "      <th>Kilometer</th>\n",
       "      <th>RegistrationMonth</th>\n",
       "      <th>Price</th>\n",
       "    </tr>\n",
       "  </thead>\n",
       "  <tbody>\n",
       "    <tr>\n",
       "      <th>1</th>\n",
       "      <td>audi</td>\n",
       "      <td>a4</td>\n",
       "      <td>coupe</td>\n",
       "      <td>2011</td>\n",
       "      <td>manual</td>\n",
       "      <td>190</td>\n",
       "      <td>gasoline</td>\n",
       "      <td>125000</td>\n",
       "      <td>5</td>\n",
       "      <td>18300</td>\n",
       "    </tr>\n",
       "    <tr>\n",
       "      <th>2</th>\n",
       "      <td>jeep</td>\n",
       "      <td>grand</td>\n",
       "      <td>suv</td>\n",
       "      <td>2004</td>\n",
       "      <td>auto</td>\n",
       "      <td>163</td>\n",
       "      <td>gasoline</td>\n",
       "      <td>125000</td>\n",
       "      <td>8</td>\n",
       "      <td>9800</td>\n",
       "    </tr>\n",
       "    <tr>\n",
       "      <th>3</th>\n",
       "      <td>volkswagen</td>\n",
       "      <td>golf</td>\n",
       "      <td>small</td>\n",
       "      <td>2001</td>\n",
       "      <td>manual</td>\n",
       "      <td>75</td>\n",
       "      <td>petrol</td>\n",
       "      <td>150000</td>\n",
       "      <td>6</td>\n",
       "      <td>1500</td>\n",
       "    </tr>\n",
       "    <tr>\n",
       "      <th>4</th>\n",
       "      <td>skoda</td>\n",
       "      <td>fabia</td>\n",
       "      <td>small</td>\n",
       "      <td>2008</td>\n",
       "      <td>manual</td>\n",
       "      <td>69</td>\n",
       "      <td>gasoline</td>\n",
       "      <td>90000</td>\n",
       "      <td>7</td>\n",
       "      <td>3600</td>\n",
       "    </tr>\n",
       "    <tr>\n",
       "      <th>5</th>\n",
       "      <td>bmw</td>\n",
       "      <td>3er</td>\n",
       "      <td>sedan</td>\n",
       "      <td>1995</td>\n",
       "      <td>manual</td>\n",
       "      <td>102</td>\n",
       "      <td>petrol</td>\n",
       "      <td>150000</td>\n",
       "      <td>10</td>\n",
       "      <td>650</td>\n",
       "    </tr>\n",
       "  </tbody>\n",
       "</table>\n",
       "</div>"
      ],
      "text/plain": [
       "        Brand  Model VehicleType  RegistrationYear Gearbox  Power  FuelType  \\\n",
       "1        audi     a4       coupe              2011  manual    190  gasoline   \n",
       "2        jeep  grand         suv              2004    auto    163  gasoline   \n",
       "3  volkswagen   golf       small              2001  manual     75    petrol   \n",
       "4       skoda  fabia       small              2008  manual     69  gasoline   \n",
       "5         bmw    3er       sedan              1995  manual    102    petrol   \n",
       "\n",
       "   Kilometer  RegistrationMonth  Price  \n",
       "1     125000                  5  18300  \n",
       "2     125000                  8   9800  \n",
       "3     150000                  6   1500  \n",
       "4      90000                  7   3600  \n",
       "5     150000                 10    650  "
      ]
     },
     "execution_count": 34,
     "metadata": {},
     "output_type": "execute_result"
    }
   ],
   "source": [
    "df.head(5)"
   ]
  },
  {
   "cell_type": "code",
   "execution_count": 35,
   "metadata": {},
   "outputs": [
    {
     "data": {
      "text/html": [
       "<div>\n",
       "<style scoped>\n",
       "    .dataframe tbody tr th:only-of-type {\n",
       "        vertical-align: middle;\n",
       "    }\n",
       "\n",
       "    .dataframe tbody tr th {\n",
       "        vertical-align: top;\n",
       "    }\n",
       "\n",
       "    .dataframe thead th {\n",
       "        text-align: right;\n",
       "    }\n",
       "</style>\n",
       "<table border=\"1\" class=\"dataframe\">\n",
       "  <thead>\n",
       "    <tr style=\"text-align: right;\">\n",
       "      <th></th>\n",
       "      <th>Brand</th>\n",
       "      <th>Model</th>\n",
       "      <th>VehicleType</th>\n",
       "      <th>RegistrationYear</th>\n",
       "      <th>Gearbox</th>\n",
       "      <th>Power</th>\n",
       "      <th>FuelType</th>\n",
       "      <th>Kilometer</th>\n",
       "      <th>RegistrationMonth</th>\n",
       "      <th>Price</th>\n",
       "    </tr>\n",
       "  </thead>\n",
       "  <tbody>\n",
       "    <tr>\n",
       "      <th>1</th>\n",
       "      <td>audi</td>\n",
       "      <td>a4</td>\n",
       "      <td>coupe</td>\n",
       "      <td>2011</td>\n",
       "      <td>manual</td>\n",
       "      <td>190</td>\n",
       "      <td>gasoline</td>\n",
       "      <td>125000</td>\n",
       "      <td>5</td>\n",
       "      <td>18300</td>\n",
       "    </tr>\n",
       "    <tr>\n",
       "      <th>2</th>\n",
       "      <td>jeep</td>\n",
       "      <td>grand</td>\n",
       "      <td>suv</td>\n",
       "      <td>2004</td>\n",
       "      <td>auto</td>\n",
       "      <td>163</td>\n",
       "      <td>gasoline</td>\n",
       "      <td>125000</td>\n",
       "      <td>8</td>\n",
       "      <td>9800</td>\n",
       "    </tr>\n",
       "    <tr>\n",
       "      <th>3</th>\n",
       "      <td>volkswagen</td>\n",
       "      <td>golf</td>\n",
       "      <td>small</td>\n",
       "      <td>2001</td>\n",
       "      <td>manual</td>\n",
       "      <td>75</td>\n",
       "      <td>petrol</td>\n",
       "      <td>150000</td>\n",
       "      <td>6</td>\n",
       "      <td>1500</td>\n",
       "    </tr>\n",
       "    <tr>\n",
       "      <th>4</th>\n",
       "      <td>skoda</td>\n",
       "      <td>fabia</td>\n",
       "      <td>small</td>\n",
       "      <td>2008</td>\n",
       "      <td>manual</td>\n",
       "      <td>69</td>\n",
       "      <td>gasoline</td>\n",
       "      <td>90000</td>\n",
       "      <td>7</td>\n",
       "      <td>3600</td>\n",
       "    </tr>\n",
       "    <tr>\n",
       "      <th>5</th>\n",
       "      <td>bmw</td>\n",
       "      <td>3er</td>\n",
       "      <td>sedan</td>\n",
       "      <td>1995</td>\n",
       "      <td>manual</td>\n",
       "      <td>102</td>\n",
       "      <td>petrol</td>\n",
       "      <td>150000</td>\n",
       "      <td>10</td>\n",
       "      <td>650</td>\n",
       "    </tr>\n",
       "    <tr>\n",
       "      <th>...</th>\n",
       "      <td>...</td>\n",
       "      <td>...</td>\n",
       "      <td>...</td>\n",
       "      <td>...</td>\n",
       "      <td>...</td>\n",
       "      <td>...</td>\n",
       "      <td>...</td>\n",
       "      <td>...</td>\n",
       "      <td>...</td>\n",
       "      <td>...</td>\n",
       "    </tr>\n",
       "    <tr>\n",
       "      <th>354361</th>\n",
       "      <td>alfa_romeo</td>\n",
       "      <td>159</td>\n",
       "      <td>wagon</td>\n",
       "      <td>2016</td>\n",
       "      <td>auto</td>\n",
       "      <td>150</td>\n",
       "      <td>gasoline</td>\n",
       "      <td>150000</td>\n",
       "      <td>12</td>\n",
       "      <td>5250</td>\n",
       "    </tr>\n",
       "    <tr>\n",
       "      <th>354362</th>\n",
       "      <td>seat</td>\n",
       "      <td>leon</td>\n",
       "      <td>sedan</td>\n",
       "      <td>2004</td>\n",
       "      <td>manual</td>\n",
       "      <td>225</td>\n",
       "      <td>petrol</td>\n",
       "      <td>150000</td>\n",
       "      <td>5</td>\n",
       "      <td>3200</td>\n",
       "    </tr>\n",
       "    <tr>\n",
       "      <th>354366</th>\n",
       "      <td>smart</td>\n",
       "      <td>fortwo</td>\n",
       "      <td>convertible</td>\n",
       "      <td>2000</td>\n",
       "      <td>auto</td>\n",
       "      <td>101</td>\n",
       "      <td>petrol</td>\n",
       "      <td>125000</td>\n",
       "      <td>3</td>\n",
       "      <td>1199</td>\n",
       "    </tr>\n",
       "    <tr>\n",
       "      <th>354367</th>\n",
       "      <td>volkswagen</td>\n",
       "      <td>transporter</td>\n",
       "      <td>bus</td>\n",
       "      <td>1996</td>\n",
       "      <td>manual</td>\n",
       "      <td>102</td>\n",
       "      <td>gasoline</td>\n",
       "      <td>150000</td>\n",
       "      <td>3</td>\n",
       "      <td>9200</td>\n",
       "    </tr>\n",
       "    <tr>\n",
       "      <th>354368</th>\n",
       "      <td>volkswagen</td>\n",
       "      <td>golf</td>\n",
       "      <td>wagon</td>\n",
       "      <td>2002</td>\n",
       "      <td>manual</td>\n",
       "      <td>100</td>\n",
       "      <td>gasoline</td>\n",
       "      <td>150000</td>\n",
       "      <td>6</td>\n",
       "      <td>3400</td>\n",
       "    </tr>\n",
       "  </tbody>\n",
       "</table>\n",
       "<p>269491 rows × 10 columns</p>\n",
       "</div>"
      ],
      "text/plain": [
       "             Brand        Model  VehicleType  RegistrationYear Gearbox  Power  \\\n",
       "1             audi           a4        coupe              2011  manual    190   \n",
       "2             jeep        grand          suv              2004    auto    163   \n",
       "3       volkswagen         golf        small              2001  manual     75   \n",
       "4            skoda        fabia        small              2008  manual     69   \n",
       "5              bmw          3er        sedan              1995  manual    102   \n",
       "...            ...          ...          ...               ...     ...    ...   \n",
       "354361  alfa_romeo          159        wagon              2016    auto    150   \n",
       "354362        seat         leon        sedan              2004  manual    225   \n",
       "354366       smart       fortwo  convertible              2000    auto    101   \n",
       "354367  volkswagen  transporter          bus              1996  manual    102   \n",
       "354368  volkswagen         golf        wagon              2002  manual    100   \n",
       "\n",
       "        FuelType  Kilometer  RegistrationMonth  Price  \n",
       "1       gasoline     125000                  5  18300  \n",
       "2       gasoline     125000                  8   9800  \n",
       "3         petrol     150000                  6   1500  \n",
       "4       gasoline      90000                  7   3600  \n",
       "5         petrol     150000                 10    650  \n",
       "...          ...        ...                ...    ...  \n",
       "354361  gasoline     150000                 12   5250  \n",
       "354362    petrol     150000                  5   3200  \n",
       "354366    petrol     125000                  3   1199  \n",
       "354367  gasoline     150000                  3   9200  \n",
       "354368  gasoline     150000                  6   3400  \n",
       "\n",
       "[269491 rows x 10 columns]"
      ]
     },
     "execution_count": 35,
     "metadata": {},
     "output_type": "execute_result"
    }
   ],
   "source": [
    "#Скопируем датафрейм для моделей catboost и lightgbm без перевода категориальных данных в номинальные, так как обе модели\n",
    "#поддерживают работу с категориальными данными\n",
    "\n",
    "df_with_categorical_features = df.copy()\n",
    "df_with_categorical_features"
   ]
  },
  {
   "cell_type": "code",
   "execution_count": 36,
   "metadata": {},
   "outputs": [],
   "source": [
    "#приведем категориальные признаки в номинальные с помощью LabelEncoder\n",
    "# label_encode = LabelEncoder()\n",
    "# columns_for_convert = list(df.select_dtypes(include='object').columns)\n",
    "# for column in columns_for_convert:\n",
    "#     label_encode.fit(df[column].astype('str'))\n",
    "#     df[column] = label_encode.transform(df[column].astype('str'))"
   ]
  },
  {
   "cell_type": "code",
   "execution_count": 37,
   "metadata": {},
   "outputs": [],
   "source": [
    "#Стандартизируем признаки с помощью StandardScaler\n",
    "# scaler = StandardScaler()\n",
    "# numeric = ['RegistrationYear','Power','Kilometer']\n",
    "# scaler.fit(df[numeric])\n",
    "# df[numeric] = scaler.transform(df[numeric])"
   ]
  },
  {
   "cell_type": "code",
   "execution_count": 38,
   "metadata": {},
   "outputs": [
    {
     "data": {
      "text/html": [
       "<div>\n",
       "<style scoped>\n",
       "    .dataframe tbody tr th:only-of-type {\n",
       "        vertical-align: middle;\n",
       "    }\n",
       "\n",
       "    .dataframe tbody tr th {\n",
       "        vertical-align: top;\n",
       "    }\n",
       "\n",
       "    .dataframe thead th {\n",
       "        text-align: right;\n",
       "    }\n",
       "</style>\n",
       "<table border=\"1\" class=\"dataframe\">\n",
       "  <thead>\n",
       "    <tr style=\"text-align: right;\">\n",
       "      <th></th>\n",
       "      <th>Brand</th>\n",
       "      <th>Model</th>\n",
       "      <th>VehicleType</th>\n",
       "      <th>RegistrationYear</th>\n",
       "      <th>Gearbox</th>\n",
       "      <th>Power</th>\n",
       "      <th>FuelType</th>\n",
       "      <th>Kilometer</th>\n",
       "      <th>RegistrationMonth</th>\n",
       "      <th>Price</th>\n",
       "    </tr>\n",
       "  </thead>\n",
       "  <tbody>\n",
       "    <tr>\n",
       "      <th>1</th>\n",
       "      <td>audi</td>\n",
       "      <td>a4</td>\n",
       "      <td>coupe</td>\n",
       "      <td>2011</td>\n",
       "      <td>manual</td>\n",
       "      <td>190</td>\n",
       "      <td>gasoline</td>\n",
       "      <td>125000</td>\n",
       "      <td>5</td>\n",
       "      <td>18300</td>\n",
       "    </tr>\n",
       "    <tr>\n",
       "      <th>2</th>\n",
       "      <td>jeep</td>\n",
       "      <td>grand</td>\n",
       "      <td>suv</td>\n",
       "      <td>2004</td>\n",
       "      <td>auto</td>\n",
       "      <td>163</td>\n",
       "      <td>gasoline</td>\n",
       "      <td>125000</td>\n",
       "      <td>8</td>\n",
       "      <td>9800</td>\n",
       "    </tr>\n",
       "    <tr>\n",
       "      <th>3</th>\n",
       "      <td>volkswagen</td>\n",
       "      <td>golf</td>\n",
       "      <td>small</td>\n",
       "      <td>2001</td>\n",
       "      <td>manual</td>\n",
       "      <td>75</td>\n",
       "      <td>petrol</td>\n",
       "      <td>150000</td>\n",
       "      <td>6</td>\n",
       "      <td>1500</td>\n",
       "    </tr>\n",
       "    <tr>\n",
       "      <th>4</th>\n",
       "      <td>skoda</td>\n",
       "      <td>fabia</td>\n",
       "      <td>small</td>\n",
       "      <td>2008</td>\n",
       "      <td>manual</td>\n",
       "      <td>69</td>\n",
       "      <td>gasoline</td>\n",
       "      <td>90000</td>\n",
       "      <td>7</td>\n",
       "      <td>3600</td>\n",
       "    </tr>\n",
       "    <tr>\n",
       "      <th>5</th>\n",
       "      <td>bmw</td>\n",
       "      <td>3er</td>\n",
       "      <td>sedan</td>\n",
       "      <td>1995</td>\n",
       "      <td>manual</td>\n",
       "      <td>102</td>\n",
       "      <td>petrol</td>\n",
       "      <td>150000</td>\n",
       "      <td>10</td>\n",
       "      <td>650</td>\n",
       "    </tr>\n",
       "  </tbody>\n",
       "</table>\n",
       "</div>"
      ],
      "text/plain": [
       "        Brand  Model VehicleType  RegistrationYear Gearbox  Power  FuelType  \\\n",
       "1        audi     a4       coupe              2011  manual    190  gasoline   \n",
       "2        jeep  grand         suv              2004    auto    163  gasoline   \n",
       "3  volkswagen   golf       small              2001  manual     75    petrol   \n",
       "4       skoda  fabia       small              2008  manual     69  gasoline   \n",
       "5         bmw    3er       sedan              1995  manual    102    petrol   \n",
       "\n",
       "   Kilometer  RegistrationMonth  Price  \n",
       "1     125000                  5  18300  \n",
       "2     125000                  8   9800  \n",
       "3     150000                  6   1500  \n",
       "4      90000                  7   3600  \n",
       "5     150000                 10    650  "
      ]
     },
     "execution_count": 38,
     "metadata": {},
     "output_type": "execute_result"
    }
   ],
   "source": [
    "df.head(5)"
   ]
  },
  {
   "cell_type": "code",
   "execution_count": 39,
   "metadata": {},
   "outputs": [
    {
     "data": {
      "image/png": "[encoded data removed]",
      "text/plain": [
       "<Figure size 960x800 with 2 Axes>"
      ]
     },
     "metadata": {
      "needs_background": "light"
     },
     "output_type": "display_data"
    }
   ],
   "source": [
    "#Отрисуем диаграмму корреляций\n",
    "ds.corr_diagram(df)"
   ]
  },
  {
   "cell_type": "markdown",
   "metadata": {},
   "source": [
    "Вывод:  \n",
    "Провели срез в признаке Power до 1300 лошадинных сил,так как я считаю что больше чем 1300 лс не бывает  \n",
    "Заменили пустые значения в столбцах model, brand, на имеющиеся значения с похожими значениями.  \n",
    "Удалили дубликаты и пустые значения (подготовили датасет)  \n",
    "Перевели категориальные данные в номинальные с помощью LabelEncoder  \n",
    "Провели стандартизацию  "
   ]
  },
  {
   "cell_type": "markdown",
   "metadata": {},
   "source": [
    "## Обучение моделей"
   ]
  },
  {
   "cell_type": "markdown",
   "metadata": {},
   "source": [
    "Изучим две модели Градиентного бустинга : CatBoost, LightGBM и Линейную регрессию  \n",
    "Проверим все три модели на дефолтных параметрах без какого-либо тюнинга модели и посмотрим какие результаты они нам покажут.  \n",
    "сохраним все результаты для дальнейшего анализа  "
   ]
  },
  {
   "cell_type": "code",
   "execution_count": 40,
   "metadata": {},
   "outputs": [],
   "source": [
    "categorical = ['Brand', 'VehicleType','Gearbox','FuelType', 'Kilometer']"
   ]
  },
  {
   "cell_type": "code",
   "execution_count": 41,
   "metadata": {},
   "outputs": [
    {
     "name": "stdout",
     "output_type": "stream",
     "text": [
      "Размер обучающей выборки: 188643 объектов, 9 признаков\n",
      "Размер тестовой выборки: 40424 объектов, 9 признаков\n"
     ]
    }
   ],
   "source": [
    "# Опредлим признаки и целевой признак \n",
    "X = df.drop(['Price'], axis=1)\n",
    "y = df['Price']\n",
    "\n",
    "#разделим датасет на обучающую и тестовую выборку размеров 70 на 30\n",
    "X_train, X_test, y_train, y_test = train_test_split(X,y, test_size=0.3, random_state=17)\n",
    "X_valid, X_test, y_valid, y_test = train_test_split(X_test, y_test, test_size=0.5, random_state=17)\n",
    "\n",
    "#Размеры обучающей и тестовой выборки\n",
    "print('Размер обучающей выборки: {} объектов, {} признаков'.format(X_train.shape[0], X_train.shape[1]))\n",
    "print('Размер тестовой выборки: {} объектов, {} признаков'.format(X_test.shape[0], X_test.shape[1]))"
   ]
  },
  {
   "cell_type": "code",
   "execution_count": 42,
   "metadata": {},
   "outputs": [],
   "source": [
    "ohe = OneHotEncoder(drop='first', handle_unknown='ignore', sparse=False)\n",
    "ohe.fit(X_train[categorical])\n",
    "X_train[\n",
    "    ohe.get_feature_names_out()\n",
    "] = ohe.transform(X_train[categorical])\n",
    "X_valid[\n",
    "    ohe.get_feature_names_out()\n",
    "] = ohe.transform(X_valid[categorical])\n",
    "X_test[\n",
    "    ohe.get_feature_names_out()\n",
    "] = ohe.transform(X_test[categorical])\n",
    "\n",
    "# удаляем незакодированные категориальные признаки (изначальные колонки)\n",
    "X_train = X_train.drop(categorical, axis=1)\n",
    "X_test = X_test.drop(categorical, axis=1)\n",
    "X_valid = X_valid.drop(categorical, axis=1)"
   ]
  },
  {
   "cell_type": "code",
   "execution_count": 43,
   "metadata": {},
   "outputs": [],
   "source": [
    "#Стандартизируем признаки с помощью StandardScaler\n",
    "scaler = StandardScaler()\n",
    "numeric = ['RegistrationYear','Power']\n",
    "X_train[numeric] = scaler.fit_transform(X_train[numeric])\n",
    "X_test[numeric] = scaler.transform(X_test[numeric])\n",
    "X_valid[numeric] = scaler.transform(X_valid[numeric])"
   ]
  },
  {
   "cell_type": "code",
   "execution_count": 44,
   "metadata": {},
   "outputs": [],
   "source": [
    "encoder = OrdinalEncoder(handle_unknown='use_encoded_value', unknown_value=-1)\n",
    "X_train[['Model']] = encoder.fit_transform(X_train[['Model']])\n",
    "X_test[['Model']] = encoder.transform(X_test[['Model']])\n",
    "X_valid[['Model']] = encoder.transform(X_valid[['Model']])"
   ]
  },
  {
   "cell_type": "code",
   "execution_count": 45,
   "metadata": {},
   "outputs": [
    {
     "name": "stdout",
     "output_type": "stream",
     "text": [
      "<class 'pandas.core.frame.DataFrame'>\n",
      "Int64Index: 188643 entries, 214857 to 79113\n",
      "Data columns (total 68 columns):\n",
      " #   Column                   Non-Null Count   Dtype  \n",
      "---  ------                   --------------   -----  \n",
      " 0   Model                    188643 non-null  float64\n",
      " 1   RegistrationYear         188643 non-null  float64\n",
      " 2   Power                    188643 non-null  float64\n",
      " 3   RegistrationMonth        188643 non-null  int64  \n",
      " 4   Brand_audi               188643 non-null  float64\n",
      " 5   Brand_bmw                188643 non-null  float64\n",
      " 6   Brand_chevrolet          188643 non-null  float64\n",
      " 7   Brand_chrysler           188643 non-null  float64\n",
      " 8   Brand_citroen            188643 non-null  float64\n",
      " 9   Brand_dacia              188643 non-null  float64\n",
      " 10  Brand_daewoo             188643 non-null  float64\n",
      " 11  Brand_daihatsu           188643 non-null  float64\n",
      " 12  Brand_fiat               188643 non-null  float64\n",
      " 13  Brand_ford               188643 non-null  float64\n",
      " 14  Brand_honda              188643 non-null  float64\n",
      " 15  Brand_hyundai            188643 non-null  float64\n",
      " 16  Brand_jaguar             188643 non-null  float64\n",
      " 17  Brand_jeep               188643 non-null  float64\n",
      " 18  Brand_kia                188643 non-null  float64\n",
      " 19  Brand_lada               188643 non-null  float64\n",
      " 20  Brand_lancia             188643 non-null  float64\n",
      " 21  Brand_land_rover         188643 non-null  float64\n",
      " 22  Brand_mazda              188643 non-null  float64\n",
      " 23  Brand_mercedes_benz      188643 non-null  float64\n",
      " 24  Brand_mini               188643 non-null  float64\n",
      " 25  Brand_mitsubishi         188643 non-null  float64\n",
      " 26  Brand_nissan             188643 non-null  float64\n",
      " 27  Brand_opel               188643 non-null  float64\n",
      " 28  Brand_peugeot            188643 non-null  float64\n",
      " 29  Brand_porsche            188643 non-null  float64\n",
      " 30  Brand_renault            188643 non-null  float64\n",
      " 31  Brand_rover              188643 non-null  float64\n",
      " 32  Brand_saab               188643 non-null  float64\n",
      " 33  Brand_seat               188643 non-null  float64\n",
      " 34  Brand_skoda              188643 non-null  float64\n",
      " 35  Brand_smart              188643 non-null  float64\n",
      " 36  Brand_subaru             188643 non-null  float64\n",
      " 37  Brand_suzuki             188643 non-null  float64\n",
      " 38  Brand_toyota             188643 non-null  float64\n",
      " 39  Brand_trabant            188643 non-null  float64\n",
      " 40  Brand_volkswagen         188643 non-null  float64\n",
      " 41  Brand_volvo              188643 non-null  float64\n",
      " 42  VehicleType_convertible  188643 non-null  float64\n",
      " 43  VehicleType_coupe        188643 non-null  float64\n",
      " 44  VehicleType_other        188643 non-null  float64\n",
      " 45  VehicleType_sedan        188643 non-null  float64\n",
      " 46  VehicleType_small        188643 non-null  float64\n",
      " 47  VehicleType_suv          188643 non-null  float64\n",
      " 48  VehicleType_wagon        188643 non-null  float64\n",
      " 49  Gearbox_manual           188643 non-null  float64\n",
      " 50  FuelType_electric        188643 non-null  float64\n",
      " 51  FuelType_gasoline        188643 non-null  float64\n",
      " 52  FuelType_hybrid          188643 non-null  float64\n",
      " 53  FuelType_lpg             188643 non-null  float64\n",
      " 54  FuelType_other           188643 non-null  float64\n",
      " 55  FuelType_petrol          188643 non-null  float64\n",
      " 56  Kilometer_10000          188643 non-null  float64\n",
      " 57  Kilometer_20000          188643 non-null  float64\n",
      " 58  Kilometer_30000          188643 non-null  float64\n",
      " 59  Kilometer_40000          188643 non-null  float64\n",
      " 60  Kilometer_50000          188643 non-null  float64\n",
      " 61  Kilometer_60000          188643 non-null  float64\n",
      " 62  Kilometer_70000          188643 non-null  float64\n",
      " 63  Kilometer_80000          188643 non-null  float64\n",
      " 64  Kilometer_90000          188643 non-null  float64\n",
      " 65  Kilometer_100000         188643 non-null  float64\n",
      " 66  Kilometer_125000         188643 non-null  float64\n",
      " 67  Kilometer_150000         188643 non-null  float64\n",
      "dtypes: float64(67), int64(1)\n",
      "memory usage: 99.3 MB\n"
     ]
    }
   ],
   "source": [
    "X_train.info()"
   ]
  },
  {
   "cell_type": "code",
   "execution_count": 46,
   "metadata": {},
   "outputs": [],
   "source": [
    "# label_encode = LabelEncoder()\n",
    "# columns_for_convert = list(df.select_dtypes(include='object').columns)\n",
    "# for column in columns_for_convert:\n",
    "#     label_encode.fit(df[column].astype('str'))\n",
    "#     X_train[column] = label_encode.transform(X_train[column].astype('str'))\n",
    "#     X_test[column] = label_encode.transform(X_test[column].astype('str'))"
   ]
  },
  {
   "cell_type": "code",
   "execution_count": 47,
   "metadata": {},
   "outputs": [
    {
     "data": {
      "text/html": [
       "<div>\n",
       "<style scoped>\n",
       "    .dataframe tbody tr th:only-of-type {\n",
       "        vertical-align: middle;\n",
       "    }\n",
       "\n",
       "    .dataframe tbody tr th {\n",
       "        vertical-align: top;\n",
       "    }\n",
       "\n",
       "    .dataframe thead th {\n",
       "        text-align: right;\n",
       "    }\n",
       "</style>\n",
       "<table border=\"1\" class=\"dataframe\">\n",
       "  <thead>\n",
       "    <tr style=\"text-align: right;\">\n",
       "      <th></th>\n",
       "      <th>Model</th>\n",
       "      <th>RegistrationYear</th>\n",
       "      <th>Power</th>\n",
       "      <th>RegistrationMonth</th>\n",
       "      <th>Brand_audi</th>\n",
       "      <th>Brand_bmw</th>\n",
       "      <th>Brand_chevrolet</th>\n",
       "      <th>Brand_chrysler</th>\n",
       "      <th>Brand_citroen</th>\n",
       "      <th>Brand_dacia</th>\n",
       "      <th>...</th>\n",
       "      <th>Kilometer_30000</th>\n",
       "      <th>Kilometer_40000</th>\n",
       "      <th>Kilometer_50000</th>\n",
       "      <th>Kilometer_60000</th>\n",
       "      <th>Kilometer_70000</th>\n",
       "      <th>Kilometer_80000</th>\n",
       "      <th>Kilometer_90000</th>\n",
       "      <th>Kilometer_100000</th>\n",
       "      <th>Kilometer_125000</th>\n",
       "      <th>Kilometer_150000</th>\n",
       "    </tr>\n",
       "  </thead>\n",
       "  <tbody>\n",
       "    <tr>\n",
       "      <th>214857</th>\n",
       "      <td>29.0</td>\n",
       "      <td>0.037974</td>\n",
       "      <td>0.210202</td>\n",
       "      <td>3</td>\n",
       "      <td>1.0</td>\n",
       "      <td>0.0</td>\n",
       "      <td>0.0</td>\n",
       "      <td>0.0</td>\n",
       "      <td>0.0</td>\n",
       "      <td>0.0</td>\n",
       "      <td>...</td>\n",
       "      <td>0.0</td>\n",
       "      <td>0.0</td>\n",
       "      <td>0.0</td>\n",
       "      <td>0.0</td>\n",
       "      <td>0.0</td>\n",
       "      <td>0.0</td>\n",
       "      <td>0.0</td>\n",
       "      <td>0.0</td>\n",
       "      <td>0.0</td>\n",
       "      <td>1.0</td>\n",
       "    </tr>\n",
       "    <tr>\n",
       "      <th>18069</th>\n",
       "      <td>116.0</td>\n",
       "      <td>0.540211</td>\n",
       "      <td>1.747057</td>\n",
       "      <td>12</td>\n",
       "      <td>0.0</td>\n",
       "      <td>0.0</td>\n",
       "      <td>0.0</td>\n",
       "      <td>0.0</td>\n",
       "      <td>0.0</td>\n",
       "      <td>0.0</td>\n",
       "      <td>...</td>\n",
       "      <td>0.0</td>\n",
       "      <td>1.0</td>\n",
       "      <td>0.0</td>\n",
       "      <td>0.0</td>\n",
       "      <td>0.0</td>\n",
       "      <td>0.0</td>\n",
       "      <td>0.0</td>\n",
       "      <td>0.0</td>\n",
       "      <td>0.0</td>\n",
       "      <td>0.0</td>\n",
       "    </tr>\n",
       "    <tr>\n",
       "      <th>53209</th>\n",
       "      <td>116.0</td>\n",
       "      <td>-0.527043</td>\n",
       "      <td>-0.577436</td>\n",
       "      <td>9</td>\n",
       "      <td>0.0</td>\n",
       "      <td>0.0</td>\n",
       "      <td>0.0</td>\n",
       "      <td>0.0</td>\n",
       "      <td>0.0</td>\n",
       "      <td>0.0</td>\n",
       "      <td>...</td>\n",
       "      <td>0.0</td>\n",
       "      <td>0.0</td>\n",
       "      <td>0.0</td>\n",
       "      <td>0.0</td>\n",
       "      <td>0.0</td>\n",
       "      <td>0.0</td>\n",
       "      <td>0.0</td>\n",
       "      <td>0.0</td>\n",
       "      <td>0.0</td>\n",
       "      <td>1.0</td>\n",
       "    </tr>\n",
       "    <tr>\n",
       "      <th>111219</th>\n",
       "      <td>75.0</td>\n",
       "      <td>0.037974</td>\n",
       "      <td>-0.865596</td>\n",
       "      <td>10</td>\n",
       "      <td>0.0</td>\n",
       "      <td>0.0</td>\n",
       "      <td>0.0</td>\n",
       "      <td>0.0</td>\n",
       "      <td>0.0</td>\n",
       "      <td>0.0</td>\n",
       "      <td>...</td>\n",
       "      <td>0.0</td>\n",
       "      <td>0.0</td>\n",
       "      <td>0.0</td>\n",
       "      <td>0.0</td>\n",
       "      <td>0.0</td>\n",
       "      <td>0.0</td>\n",
       "      <td>0.0</td>\n",
       "      <td>0.0</td>\n",
       "      <td>0.0</td>\n",
       "      <td>1.0</td>\n",
       "    </tr>\n",
       "    <tr>\n",
       "      <th>17379</th>\n",
       "      <td>42.0</td>\n",
       "      <td>-0.024806</td>\n",
       "      <td>-0.692700</td>\n",
       "      <td>2</td>\n",
       "      <td>0.0</td>\n",
       "      <td>0.0</td>\n",
       "      <td>0.0</td>\n",
       "      <td>0.0</td>\n",
       "      <td>0.0</td>\n",
       "      <td>0.0</td>\n",
       "      <td>...</td>\n",
       "      <td>0.0</td>\n",
       "      <td>0.0</td>\n",
       "      <td>0.0</td>\n",
       "      <td>0.0</td>\n",
       "      <td>0.0</td>\n",
       "      <td>0.0</td>\n",
       "      <td>0.0</td>\n",
       "      <td>0.0</td>\n",
       "      <td>0.0</td>\n",
       "      <td>1.0</td>\n",
       "    </tr>\n",
       "  </tbody>\n",
       "</table>\n",
       "<p>5 rows × 68 columns</p>\n",
       "</div>"
      ],
      "text/plain": [
       "        Model  RegistrationYear     Power  RegistrationMonth  Brand_audi  \\\n",
       "214857   29.0          0.037974  0.210202                  3         1.0   \n",
       "18069   116.0          0.540211  1.747057                 12         0.0   \n",
       "53209   116.0         -0.527043 -0.577436                  9         0.0   \n",
       "111219   75.0          0.037974 -0.865596                 10         0.0   \n",
       "17379    42.0         -0.024806 -0.692700                  2         0.0   \n",
       "\n",
       "        Brand_bmw  Brand_chevrolet  Brand_chrysler  Brand_citroen  \\\n",
       "214857        0.0              0.0             0.0            0.0   \n",
       "18069         0.0              0.0             0.0            0.0   \n",
       "53209         0.0              0.0             0.0            0.0   \n",
       "111219        0.0              0.0             0.0            0.0   \n",
       "17379         0.0              0.0             0.0            0.0   \n",
       "\n",
       "        Brand_dacia  ...  Kilometer_30000  Kilometer_40000  Kilometer_50000  \\\n",
       "214857          0.0  ...              0.0              0.0              0.0   \n",
       "18069           0.0  ...              0.0              1.0              0.0   \n",
       "53209           0.0  ...              0.0              0.0              0.0   \n",
       "111219          0.0  ...              0.0              0.0              0.0   \n",
       "17379           0.0  ...              0.0              0.0              0.0   \n",
       "\n",
       "        Kilometer_60000  Kilometer_70000  Kilometer_80000  Kilometer_90000  \\\n",
       "214857              0.0              0.0              0.0              0.0   \n",
       "18069               0.0              0.0              0.0              0.0   \n",
       "53209               0.0              0.0              0.0              0.0   \n",
       "111219              0.0              0.0              0.0              0.0   \n",
       "17379               0.0              0.0              0.0              0.0   \n",
       "\n",
       "        Kilometer_100000  Kilometer_125000  Kilometer_150000  \n",
       "214857               0.0               0.0               1.0  \n",
       "18069                0.0               0.0               0.0  \n",
       "53209                0.0               0.0               1.0  \n",
       "111219               0.0               0.0               1.0  \n",
       "17379                0.0               0.0               1.0  \n",
       "\n",
       "[5 rows x 68 columns]"
      ]
     },
     "execution_count": 47,
     "metadata": {},
     "output_type": "execute_result"
    }
   ],
   "source": [
    "X_train.head()"
   ]
  },
  {
   "cell_type": "code",
   "execution_count": 48,
   "metadata": {},
   "outputs": [],
   "source": [
    "#Приведем категориальные признаки к формату category\n",
    "categorical = ['Model', 'Brand', 'VehicleType','Gearbox','FuelType', 'Kilometer']\n",
    "df_with_categorical_features[categorical] = df_with_categorical_features[categorical].astype('category')"
   ]
  },
  {
   "cell_type": "code",
   "execution_count": 49,
   "metadata": {},
   "outputs": [
    {
     "name": "stdout",
     "output_type": "stream",
     "text": [
      "Размер обучающей выборки с категориальными данными: 188643 объектов, 9 признаков\n",
      "Размер тестовой выборки с категориальными данными: 48508 объектов, 9 признаков\n"
     ]
    }
   ],
   "source": [
    "X_ = df_with_categorical_features.drop(['Price'],axis=1)\n",
    "y_ = df_with_categorical_features['Price']\n",
    "\n",
    "X__train, X__test, y__train, y__test = train_test_split(X_, y_, test_size=0.3, random_state=17)\n",
    "X__test, X__valid, y__test, y__valid = train_test_split(X__test, y__test, test_size=0.4, random_state=17)\n",
    "#Размеры обучающей и тестовой выборки\n",
    "print('Размер обучающей выборки с категориальными данными: {} объектов, {} признаков'.format(X__train.shape[0], X__train.shape[1]))\n",
    "print('Размер тестовой выборки с категориальными данными: {} объектов, {} признаков'.format(X__test.shape[0], X__test.shape[1]))"
   ]
  },
  {
   "cell_type": "code",
   "execution_count": 50,
   "metadata": {},
   "outputs": [
    {
     "data": {
      "text/html": [
       "<div>\n",
       "<style scoped>\n",
       "    .dataframe tbody tr th:only-of-type {\n",
       "        vertical-align: middle;\n",
       "    }\n",
       "\n",
       "    .dataframe tbody tr th {\n",
       "        vertical-align: top;\n",
       "    }\n",
       "\n",
       "    .dataframe thead th {\n",
       "        text-align: right;\n",
       "    }\n",
       "</style>\n",
       "<table border=\"1\" class=\"dataframe\">\n",
       "  <thead>\n",
       "    <tr style=\"text-align: right;\">\n",
       "      <th></th>\n",
       "      <th>Brand</th>\n",
       "      <th>Model</th>\n",
       "      <th>VehicleType</th>\n",
       "      <th>RegistrationYear</th>\n",
       "      <th>Gearbox</th>\n",
       "      <th>Power</th>\n",
       "      <th>FuelType</th>\n",
       "      <th>Kilometer</th>\n",
       "      <th>RegistrationMonth</th>\n",
       "      <th>Price</th>\n",
       "    </tr>\n",
       "  </thead>\n",
       "  <tbody>\n",
       "    <tr>\n",
       "      <th>127895</th>\n",
       "      <td>nissan</td>\n",
       "      <td>micra</td>\n",
       "      <td>small</td>\n",
       "      <td>2000</td>\n",
       "      <td>manual</td>\n",
       "      <td>57</td>\n",
       "      <td>gasoline</td>\n",
       "      <td>150000</td>\n",
       "      <td>1</td>\n",
       "      <td>1200</td>\n",
       "    </tr>\n",
       "    <tr>\n",
       "      <th>347135</th>\n",
       "      <td>ford</td>\n",
       "      <td>fiesta</td>\n",
       "      <td>small</td>\n",
       "      <td>2006</td>\n",
       "      <td>manual</td>\n",
       "      <td>60</td>\n",
       "      <td>petrol</td>\n",
       "      <td>125000</td>\n",
       "      <td>4</td>\n",
       "      <td>3499</td>\n",
       "    </tr>\n",
       "    <tr>\n",
       "      <th>35123</th>\n",
       "      <td>volvo</td>\n",
       "      <td>xc_reihe</td>\n",
       "      <td>sedan</td>\n",
       "      <td>2011</td>\n",
       "      <td>manual</td>\n",
       "      <td>160</td>\n",
       "      <td>gasoline</td>\n",
       "      <td>150000</td>\n",
       "      <td>11</td>\n",
       "      <td>6500</td>\n",
       "    </tr>\n",
       "    <tr>\n",
       "      <th>285484</th>\n",
       "      <td>bmw</td>\n",
       "      <td>3er</td>\n",
       "      <td>sedan</td>\n",
       "      <td>2001</td>\n",
       "      <td>manual</td>\n",
       "      <td>116</td>\n",
       "      <td>petrol</td>\n",
       "      <td>150000</td>\n",
       "      <td>7</td>\n",
       "      <td>2000</td>\n",
       "    </tr>\n",
       "    <tr>\n",
       "      <th>200847</th>\n",
       "      <td>opel</td>\n",
       "      <td>corsa</td>\n",
       "      <td>small</td>\n",
       "      <td>2000</td>\n",
       "      <td>manual</td>\n",
       "      <td>65</td>\n",
       "      <td>petrol</td>\n",
       "      <td>150000</td>\n",
       "      <td>5</td>\n",
       "      <td>850</td>\n",
       "    </tr>\n",
       "    <tr>\n",
       "      <th>161270</th>\n",
       "      <td>renault</td>\n",
       "      <td>twingo</td>\n",
       "      <td>small</td>\n",
       "      <td>1997</td>\n",
       "      <td>auto</td>\n",
       "      <td>58</td>\n",
       "      <td>petrol</td>\n",
       "      <td>70000</td>\n",
       "      <td>5</td>\n",
       "      <td>1150</td>\n",
       "    </tr>\n",
       "    <tr>\n",
       "      <th>148474</th>\n",
       "      <td>opel</td>\n",
       "      <td>astra</td>\n",
       "      <td>wagon</td>\n",
       "      <td>2010</td>\n",
       "      <td>manual</td>\n",
       "      <td>110</td>\n",
       "      <td>gasoline</td>\n",
       "      <td>150000</td>\n",
       "      <td>3</td>\n",
       "      <td>4500</td>\n",
       "    </tr>\n",
       "  </tbody>\n",
       "</table>\n",
       "</div>"
      ],
      "text/plain": [
       "          Brand     Model VehicleType  RegistrationYear Gearbox  Power  \\\n",
       "127895   nissan     micra       small              2000  manual     57   \n",
       "347135     ford    fiesta       small              2006  manual     60   \n",
       "35123     volvo  xc_reihe       sedan              2011  manual    160   \n",
       "285484      bmw       3er       sedan              2001  manual    116   \n",
       "200847     opel     corsa       small              2000  manual     65   \n",
       "161270  renault    twingo       small              1997    auto     58   \n",
       "148474     opel     astra       wagon              2010  manual    110   \n",
       "\n",
       "        FuelType Kilometer  RegistrationMonth  Price  \n",
       "127895  gasoline    150000                  1   1200  \n",
       "347135    petrol    125000                  4   3499  \n",
       "35123   gasoline    150000                 11   6500  \n",
       "285484    petrol    150000                  7   2000  \n",
       "200847    petrol    150000                  5    850  \n",
       "161270    petrol     70000                  5   1150  \n",
       "148474  gasoline    150000                  3   4500  "
      ]
     },
     "execution_count": 50,
     "metadata": {},
     "output_type": "execute_result"
    }
   ],
   "source": [
    "df_with_categorical_features.sample(7)"
   ]
  },
  {
   "cell_type": "markdown",
   "metadata": {},
   "source": [
    "### CatBoost"
   ]
  },
  {
   "cell_type": "code",
   "execution_count": 51,
   "metadata": {},
   "outputs": [],
   "source": [
    "#вызовем CatBoost с нашими параметрами\n",
    "model_cbr = CatBoostRegressor(cat_features=categorical)"
   ]
  },
  {
   "cell_type": "code",
   "execution_count": 52,
   "metadata": {},
   "outputs": [],
   "source": [
    "# from catboost import cv"
   ]
  },
  {
   "cell_type": "code",
   "execution_count": 53,
   "metadata": {},
   "outputs": [],
   "source": [
    "# params = {'loss_function' : \"RMSE\",\n",
    "#            'eval_metric' : \"RMSE\",\n",
    "#            'learning_rate': 0.01,\n",
    "#            'iterations': 1000,\n",
    "#            'random_seed': 42,\n",
    "#            'od_type': \"Iter\",\n",
    "#            'depth': 10,\n",
    "#            'early_stopping_rounds' : 50}"
   ]
  },
  {
   "cell_type": "code",
   "execution_count": 54,
   "metadata": {},
   "outputs": [],
   "source": [
    "# from catboost import Pool"
   ]
  },
  {
   "cell_type": "code",
   "execution_count": 55,
   "metadata": {},
   "outputs": [],
   "source": [
    "# cv_data = cv(\n",
    "#     params=params,\n",
    "#     pool=Pool(X__train, label=y__train, cat_features=categorical),\n",
    "#     fold_count=5, # Разбивка выборки на 5 кусочков\n",
    "#     shuffle=True, # Перемешаем наши данные\n",
    "#     partition_random_seed=0,\n",
    "#     plot=True, # Никуда без визуализатора\n",
    "#     stratified=True, \n",
    "#     verbose=False\n",
    "# )"
   ]
  },
  {
   "cell_type": "code",
   "execution_count": 56,
   "metadata": {},
   "outputs": [],
   "source": [
    "# Добились 1663 на кросс валидации"
   ]
  },
  {
   "cell_type": "code",
   "execution_count": 57,
   "metadata": {},
   "outputs": [
    {
     "name": "stdout",
     "output_type": "stream",
     "text": [
      "Learning rate set to 0.115923\n",
      "0:\tlearn: 4248.6696373\ttest: 4247.4522187\tbest: 4247.4522187 (0)\ttotal: 337ms\tremaining: 5m 36s\n",
      "200:\tlearn: 1720.2358517\ttest: 1722.4890886\tbest: 1722.4890886 (200)\ttotal: 34.9s\tremaining: 2m 18s\n",
      "400:\tlearn: 1663.5289108\ttest: 1680.5847909\tbest: 1680.5847909 (400)\ttotal: 1m 8s\tremaining: 1m 42s\n",
      "600:\tlearn: 1629.1894301\ttest: 1661.8672092\tbest: 1661.8302083 (599)\ttotal: 1m 41s\tremaining: 1m 7s\n",
      "800:\tlearn: 1605.0746886\ttest: 1651.2055003\tbest: 1651.2014754 (799)\ttotal: 2m 18s\tremaining: 34.3s\n",
      "999:\tlearn: 1586.0873503\ttest: 1645.0805997\tbest: 1645.0805997 (999)\ttotal: 2m 52s\tremaining: 0us\n",
      "\n",
      "bestTest = 1645.0806\n",
      "bestIteration = 999\n",
      "\n",
      "CPU times: user 2min 53s, sys: 887 ms, total: 2min 54s\n",
      "Wall time: 2min 55s\n"
     ]
    }
   ],
   "source": [
    "%%time\n",
    "start = time.time()\n",
    "model_cbr.fit(X__train, y__train, eval_set=(X__valid, y__valid), verbose=200);\n",
    "end = time.time()\n",
    "catboost_time = end - start"
   ]
  },
  {
   "cell_type": "code",
   "execution_count": 58,
   "metadata": {},
   "outputs": [
    {
     "name": "stdout",
     "output_type": "stream",
     "text": [
      "RMSE= 1645.0805997076789\n"
     ]
    }
   ],
   "source": [
    "#Посмотрим какую среднюю квадратичную абсолютную ошибку мы получили в предсказаниях.\n",
    "start = time.time()\n",
    "predictions = model_cbr.predict(X__valid)\n",
    "end = time.time()\n",
    "catboost_time_predicting = end - start\n",
    "print('RMSE=',ds.rmse(predictions,y__valid))\n",
    "rmse_list = []\n",
    "rmse_list.append(ds.rmse(predictions,y__valid))\n",
    "time_list = []\n",
    "predicting_time = []\n",
    "time_list.append(catboost_time)\n",
    "predicting_time.append(catboost_time_predicting)"
   ]
  },
  {
   "cell_type": "markdown",
   "metadata": {},
   "source": [
    "### LightGBM"
   ]
  },
  {
   "cell_type": "code",
   "execution_count": 59,
   "metadata": {},
   "outputs": [],
   "source": [
    "gbm = lgb.LGBMRegressor()"
   ]
  },
  {
   "cell_type": "code",
   "execution_count": 60,
   "metadata": {},
   "outputs": [],
   "source": [
    "# dftrainLGB = lgb.Dataset(X__train, label=y__train, categorical_feature = categorical)"
   ]
  },
  {
   "cell_type": "code",
   "execution_count": 61,
   "metadata": {},
   "outputs": [],
   "source": [
    "# params = {'objective': 'regression'}"
   ]
  },
  {
   "cell_type": "code",
   "execution_count": 62,
   "metadata": {},
   "outputs": [],
   "source": [
    "# cv_results = lgb.cv(\n",
    "#         params,\n",
    "#         dftrainLGB,\n",
    "#         num_boost_round=500,\n",
    "#         nfold=5,\n",
    "#         metrics='mse',\n",
    "#       #  early_stopping_rounds=500,\n",
    "#         #force_col_wise=True,\n",
    "#         # This is what I added\n",
    "#         stratified=False\n",
    "#         )"
   ]
  },
  {
   "cell_type": "code",
   "execution_count": 63,
   "metadata": {},
   "outputs": [],
   "source": [
    "# params = {\n",
    "#     'learning_rate': 0.2,\n",
    "#     'application': 'binary',\n",
    "#     'num_boost_round': 100,\n",
    "#     'nfold': 5,\n",
    "#     'num_leaves': 31,\n",
    "#     'verbosity': -1,\n",
    "#     'metric': 'auc',\n",
    "#     'data_random_seed': 2,\n",
    "#     'bagging_fraction': 0.8,\n",
    "#     'feature_fraction': 0.6,\n",
    "#     'nthread': 4,\n",
    "#     'lambda_l1': 1,\n",
    "#     'lambda_l2': 1,\n",
    "#     'early_stopping_rounds': 40,"
   ]
  },
  {
   "cell_type": "code",
   "execution_count": 64,
   "metadata": {},
   "outputs": [
    {
     "name": "stderr",
     "output_type": "stream",
     "text": [
      "/opt/conda/lib/python3.9/site-packages/lightgbm/basic.py:2065: UserWarning: Using categorical_feature in Dataset.\n",
      "  _log_warning('Using categorical_feature in Dataset.')\n",
      "/opt/conda/lib/python3.9/site-packages/lightgbm/basic.py:2068: UserWarning: categorical_feature in Dataset is overridden.\n",
      "New categorical_feature is ['Brand', 'FuelType', 'Gearbox', 'Kilometer', 'Model', 'VehicleType']\n",
      "  _log_warning('categorical_feature in Dataset is overridden.\\n'\n",
      "/opt/conda/lib/python3.9/site-packages/lightgbm/basic.py:1780: UserWarning: Overriding the parameters from Reference Dataset.\n",
      "  _log_warning('Overriding the parameters from Reference Dataset.')\n",
      "/opt/conda/lib/python3.9/site-packages/lightgbm/basic.py:1513: UserWarning: categorical_column in param dict is overridden.\n",
      "  _log_warning(f'{cat_alias} in param dict is overridden.')\n"
     ]
    },
    {
     "name": "stdout",
     "output_type": "stream",
     "text": [
      "[1]\tvalid_0's rmse: 4253.26\tvalid_0's l2: 1.80902e+07\n",
      "[2]\tvalid_0's rmse: 3958.26\tvalid_0's l2: 1.56678e+07\n",
      "[3]\tvalid_0's rmse: 3699.43\tvalid_0's l2: 1.36858e+07\n",
      "[4]\tvalid_0's rmse: 3471.76\tvalid_0's l2: 1.20531e+07\n",
      "[5]\tvalid_0's rmse: 3266.52\tvalid_0's l2: 1.06702e+07\n",
      "[6]\tvalid_0's rmse: 3087.85\tvalid_0's l2: 9.53482e+06\n",
      "[7]\tvalid_0's rmse: 2919.34\tvalid_0's l2: 8.52256e+06\n",
      "[8]\tvalid_0's rmse: 2780.65\tvalid_0's l2: 7.73199e+06\n",
      "[9]\tvalid_0's rmse: 2651.55\tvalid_0's l2: 7.0307e+06\n",
      "[10]\tvalid_0's rmse: 2543.99\tvalid_0's l2: 6.47187e+06\n",
      "[11]\tvalid_0's rmse: 2445.38\tvalid_0's l2: 5.97988e+06\n",
      "[12]\tvalid_0's rmse: 2357.63\tvalid_0's l2: 5.55843e+06\n",
      "[13]\tvalid_0's rmse: 2283.25\tvalid_0's l2: 5.21323e+06\n",
      "[14]\tvalid_0's rmse: 2216.91\tvalid_0's l2: 4.91467e+06\n",
      "[15]\tvalid_0's rmse: 2159.53\tvalid_0's l2: 4.66359e+06\n",
      "[16]\tvalid_0's rmse: 2109.61\tvalid_0's l2: 4.45047e+06\n",
      "[17]\tvalid_0's rmse: 2066.14\tvalid_0's l2: 4.26893e+06\n",
      "[18]\tvalid_0's rmse: 2026.52\tvalid_0's l2: 4.10678e+06\n",
      "[19]\tvalid_0's rmse: 1992.93\tvalid_0's l2: 3.97178e+06\n",
      "[20]\tvalid_0's rmse: 1963.11\tvalid_0's l2: 3.8538e+06\n",
      "[21]\tvalid_0's rmse: 1938.06\tvalid_0's l2: 3.75609e+06\n",
      "[22]\tvalid_0's rmse: 1914.06\tvalid_0's l2: 3.66363e+06\n",
      "[23]\tvalid_0's rmse: 1893.78\tvalid_0's l2: 3.58641e+06\n",
      "[24]\tvalid_0's rmse: 1876.27\tvalid_0's l2: 3.52038e+06\n",
      "[25]\tvalid_0's rmse: 1861.36\tvalid_0's l2: 3.46465e+06\n",
      "[26]\tvalid_0's rmse: 1847.11\tvalid_0's l2: 3.41182e+06\n",
      "[27]\tvalid_0's rmse: 1832.86\tvalid_0's l2: 3.35936e+06\n",
      "[28]\tvalid_0's rmse: 1822.4\tvalid_0's l2: 3.32113e+06\n",
      "[29]\tvalid_0's rmse: 1812.19\tvalid_0's l2: 3.28402e+06\n",
      "[30]\tvalid_0's rmse: 1803.42\tvalid_0's l2: 3.25232e+06\n",
      "[31]\tvalid_0's rmse: 1795.91\tvalid_0's l2: 3.22528e+06\n",
      "[32]\tvalid_0's rmse: 1789.66\tvalid_0's l2: 3.2029e+06\n",
      "[33]\tvalid_0's rmse: 1781.49\tvalid_0's l2: 3.17369e+06\n",
      "[34]\tvalid_0's rmse: 1774.89\tvalid_0's l2: 3.15023e+06\n",
      "[35]\tvalid_0's rmse: 1769.47\tvalid_0's l2: 3.13101e+06\n",
      "[36]\tvalid_0's rmse: 1765.15\tvalid_0's l2: 3.11574e+06\n",
      "[37]\tvalid_0's rmse: 1760.01\tvalid_0's l2: 3.09763e+06\n",
      "[38]\tvalid_0's rmse: 1756.22\tvalid_0's l2: 3.0843e+06\n",
      "[39]\tvalid_0's rmse: 1751.96\tvalid_0's l2: 3.06935e+06\n",
      "[40]\tvalid_0's rmse: 1748.94\tvalid_0's l2: 3.05878e+06\n",
      "[41]\tvalid_0's rmse: 1746.32\tvalid_0's l2: 3.04962e+06\n",
      "[42]\tvalid_0's rmse: 1743.53\tvalid_0's l2: 3.03989e+06\n",
      "[43]\tvalid_0's rmse: 1739.16\tvalid_0's l2: 3.02467e+06\n",
      "[44]\tvalid_0's rmse: 1736.39\tvalid_0's l2: 3.01505e+06\n",
      "[45]\tvalid_0's rmse: 1734.08\tvalid_0's l2: 3.00702e+06\n",
      "[46]\tvalid_0's rmse: 1731.6\tvalid_0's l2: 2.99843e+06\n",
      "[47]\tvalid_0's rmse: 1729.42\tvalid_0's l2: 2.9909e+06\n",
      "[48]\tvalid_0's rmse: 1727.46\tvalid_0's l2: 2.98413e+06\n",
      "[49]\tvalid_0's rmse: 1725.58\tvalid_0's l2: 2.97764e+06\n",
      "[50]\tvalid_0's rmse: 1723.97\tvalid_0's l2: 2.97206e+06\n",
      "[51]\tvalid_0's rmse: 1721.97\tvalid_0's l2: 2.9652e+06\n",
      "[52]\tvalid_0's rmse: 1719.58\tvalid_0's l2: 2.95695e+06\n",
      "[53]\tvalid_0's rmse: 1718.03\tvalid_0's l2: 2.95162e+06\n",
      "[54]\tvalid_0's rmse: 1716.42\tvalid_0's l2: 2.94611e+06\n",
      "[55]\tvalid_0's rmse: 1715.14\tvalid_0's l2: 2.94171e+06\n",
      "[56]\tvalid_0's rmse: 1712.69\tvalid_0's l2: 2.9333e+06\n",
      "[57]\tvalid_0's rmse: 1711.65\tvalid_0's l2: 2.92975e+06\n",
      "[58]\tvalid_0's rmse: 1710.46\tvalid_0's l2: 2.92567e+06\n",
      "[59]\tvalid_0's rmse: 1709.17\tvalid_0's l2: 2.92127e+06\n",
      "[60]\tvalid_0's rmse: 1707.64\tvalid_0's l2: 2.91604e+06\n",
      "[61]\tvalid_0's rmse: 1706.86\tvalid_0's l2: 2.91337e+06\n",
      "[62]\tvalid_0's rmse: 1705.75\tvalid_0's l2: 2.90959e+06\n",
      "[63]\tvalid_0's rmse: 1704.65\tvalid_0's l2: 2.90585e+06\n",
      "[64]\tvalid_0's rmse: 1703.4\tvalid_0's l2: 2.90157e+06\n",
      "[65]\tvalid_0's rmse: 1702.87\tvalid_0's l2: 2.89977e+06\n",
      "[66]\tvalid_0's rmse: 1701.91\tvalid_0's l2: 2.89651e+06\n",
      "[67]\tvalid_0's rmse: 1701.17\tvalid_0's l2: 2.89399e+06\n",
      "[68]\tvalid_0's rmse: 1699.49\tvalid_0's l2: 2.88827e+06\n",
      "[69]\tvalid_0's rmse: 1697.11\tvalid_0's l2: 2.88019e+06\n",
      "[70]\tvalid_0's rmse: 1696.05\tvalid_0's l2: 2.8766e+06\n",
      "[71]\tvalid_0's rmse: 1695.8\tvalid_0's l2: 2.87575e+06\n",
      "[72]\tvalid_0's rmse: 1694.77\tvalid_0's l2: 2.87225e+06\n",
      "[73]\tvalid_0's rmse: 1693.33\tvalid_0's l2: 2.86737e+06\n",
      "[74]\tvalid_0's rmse: 1692.84\tvalid_0's l2: 2.8657e+06\n",
      "[75]\tvalid_0's rmse: 1692.46\tvalid_0's l2: 2.86441e+06\n",
      "[76]\tvalid_0's rmse: 1692.18\tvalid_0's l2: 2.86348e+06\n",
      "[77]\tvalid_0's rmse: 1690.93\tvalid_0's l2: 2.85925e+06\n",
      "[78]\tvalid_0's rmse: 1689.99\tvalid_0's l2: 2.85606e+06\n",
      "[79]\tvalid_0's rmse: 1689.06\tvalid_0's l2: 2.85292e+06\n",
      "[80]\tvalid_0's rmse: 1687.92\tvalid_0's l2: 2.84906e+06\n",
      "[81]\tvalid_0's rmse: 1687.19\tvalid_0's l2: 2.84661e+06\n",
      "[82]\tvalid_0's rmse: 1686.86\tvalid_0's l2: 2.84551e+06\n",
      "[83]\tvalid_0's rmse: 1685.88\tvalid_0's l2: 2.84218e+06\n",
      "[84]\tvalid_0's rmse: 1685.35\tvalid_0's l2: 2.84041e+06\n",
      "[85]\tvalid_0's rmse: 1685.19\tvalid_0's l2: 2.83986e+06\n",
      "[86]\tvalid_0's rmse: 1684.65\tvalid_0's l2: 2.83806e+06\n",
      "[87]\tvalid_0's rmse: 1683.96\tvalid_0's l2: 2.83571e+06\n",
      "[88]\tvalid_0's rmse: 1683.49\tvalid_0's l2: 2.83415e+06\n",
      "[89]\tvalid_0's rmse: 1682.63\tvalid_0's l2: 2.83126e+06\n",
      "[90]\tvalid_0's rmse: 1682.56\tvalid_0's l2: 2.83102e+06\n",
      "[91]\tvalid_0's rmse: 1682.22\tvalid_0's l2: 2.82985e+06\n",
      "[92]\tvalid_0's rmse: 1681.92\tvalid_0's l2: 2.82886e+06\n",
      "[93]\tvalid_0's rmse: 1681.12\tvalid_0's l2: 2.82617e+06\n",
      "[94]\tvalid_0's rmse: 1680.8\tvalid_0's l2: 2.82509e+06\n",
      "[95]\tvalid_0's rmse: 1680.48\tvalid_0's l2: 2.82403e+06\n",
      "[96]\tvalid_0's rmse: 1680.31\tvalid_0's l2: 2.82344e+06\n",
      "[97]\tvalid_0's rmse: 1680.03\tvalid_0's l2: 2.82252e+06\n",
      "[98]\tvalid_0's rmse: 1678.25\tvalid_0's l2: 2.81652e+06\n",
      "[99]\tvalid_0's rmse: 1677.75\tvalid_0's l2: 2.81484e+06\n",
      "[100]\tvalid_0's rmse: 1677.32\tvalid_0's l2: 2.8134e+06\n",
      "CPU times: user 15min 9s, sys: 3.37 s, total: 15min 12s\n",
      "Wall time: 15min 16s\n"
     ]
    }
   ],
   "source": [
    "%%time\n",
    "start = time.time()\n",
    "gbm.fit(X__train, y__train, eval_set=[(X__valid, y__valid)], eval_metric='rmse', categorical_feature=categorical)\n",
    "#gbm.fit(X__train, y__train, categorical_feature='auto')\n",
    "end = time.time()\n",
    "lightgbm_time = end - start"
   ]
  },
  {
   "cell_type": "code",
   "execution_count": 65,
   "metadata": {},
   "outputs": [
    {
     "name": "stdout",
     "output_type": "stream",
     "text": [
      "RMSE =  1677.3197093912413\n"
     ]
    }
   ],
   "source": [
    "start = time.time()\n",
    "predictions = gbm.predict(X__valid,num_iteration=gbm.best_iteration_)\n",
    "end = time.time()\n",
    "lightgbm_predicting_time = end - start\n",
    "print('RMSE = ', ds.rmse(predictions, y__valid))\n",
    "rmse_list.append(ds.rmse(predictions,y__valid))\n",
    "predicting_time.append(lightgbm_predicting_time)\n",
    "time_list.append(lightgbm_time)"
   ]
  },
  {
   "cell_type": "markdown",
   "metadata": {},
   "source": [
    "### LinearRegression"
   ]
  },
  {
   "cell_type": "code",
   "execution_count": 66,
   "metadata": {},
   "outputs": [],
   "source": [
    "lr = LinearRegression()"
   ]
  },
  {
   "cell_type": "code",
   "execution_count": 67,
   "metadata": {},
   "outputs": [
    {
     "name": "stdout",
     "output_type": "stream",
     "text": [
      "CPU times: user 1.53 s, sys: 963 ms, total: 2.49 s\n",
      "Wall time: 2.49 s\n"
     ]
    }
   ],
   "source": [
    "%%time\n",
    "start = time.time()\n",
    "lr.fit(X_train,y_train)\n",
    "end = time.time()\n",
    "linear_time = end - start"
   ]
  },
  {
   "cell_type": "code",
   "execution_count": 68,
   "metadata": {},
   "outputs": [
    {
     "name": "stdout",
     "output_type": "stream",
     "text": [
      "3023.0491030104904\n"
     ]
    }
   ],
   "source": [
    " start = time.time()\n",
    "predictions = lr.predict(X_valid)\n",
    "end = time.time()\n",
    "linear_time_predicting_ = end - start\n",
    "print(ds.rmse(predictions,y_valid))\n",
    "# rmse_list.append(ds.rmse(predictions,y_train))\n",
    "# time_list.append(linear_time)\n",
    "# predicting_time.append(linear_time_predicting_)"
   ]
  },
  {
   "cell_type": "markdown",
   "metadata": {},
   "source": [
    "**Результаты:**"
   ]
  },
  {
   "cell_type": "markdown",
   "metadata": {},
   "source": [
    "Вывод:  \n",
    "Запустили все три модели со стандартными параметрами, настройками.  \n",
    "\n",
    "Получили такие результаты :  \n",
    "\n",
    "CatBoost : 1645 на тестовой выборке, время обучения : 3min 33s  \n",
    "LightGBM : 1677 на трейне, время обучения : 6min 16s  \n",
    "LinearRegression : 3023 на трейне, время обучения : 50.4 s  \n",
    "Пока можем сказать, что из коробки хорошие результаты дает CatBoost, 1645 и время обучения 3min 33s. На втором месте LightGBM с результатом 1677 и временем: 6min 16s . На последнем месте Линейная регрессия с результатом 3023 на тестовой выборке и временем : 50.4 s  \n",
    "\n",
    "Посмотрим, какие результаты покажут модели, после того как мы подберем к ним наилучшие параметры  "
   ]
  },
  {
   "cell_type": "markdown",
   "metadata": {},
   "source": [
    "## Анализ моделей"
   ]
  },
  {
   "cell_type": "markdown",
   "metadata": {},
   "source": [
    "- Подберем параметры для наших моделей, чтобы улучшить результаты RMSE\n",
    "- Сравним время обучения каждой модели с подобранными параметрами\n",
    "- Изучим результаты и сохраним для дальшейнего анализа\n",
    "- Посмотрим какая модель лучше работает по времени и показывает лучший результат RMSE"
   ]
  },
  {
   "cell_type": "markdown",
   "metadata": {},
   "source": [
    "### CatBoost"
   ]
  },
  {
   "cell_type": "markdown",
   "metadata": {},
   "source": [
    "**используем грид серч для подбора гиперпараметров модели**"
   ]
  },
  {
   "cell_type": "code",
   "execution_count": 69,
   "metadata": {},
   "outputs": [],
   "source": [
    "#вызовем CatBoost с нашими параметрами\n",
    "# model_cbr = CatBoostRegressor(loss_function='RMSE', \n",
    "#                               iterations=500, \n",
    "#                               learning_rate=0.2, \n",
    "#                               thread_count=-1, \n",
    "#                               random_state=18, \n",
    "#                               max_depth=10, \n",
    "#                               l2_leaf_reg=[3.5],\n",
    "#                               cat_features=categorical\n",
    "#                               )\n",
    "grid = {'learning_rate': [0,1, 0,2],\n",
    "        'depth': [8, 10],\n",
    "        'l2_leaf_reg': [3.5, 4]}"
   ]
  },
  {
   "cell_type": "code",
   "execution_count": null,
   "metadata": {},
   "outputs": [
    {
     "data": {
      "application/vnd.jupyter.widget-view+json": {
       "model_id": "b9467c94a03742b29d6e156c13ffbc2b",
       "version_major": 2,
       "version_minor": 0
      },
      "text/plain": [
       "MetricVisualizer(layout=Layout(align_self='stretch', height='500px'))"
      ]
     },
     "metadata": {},
     "output_type": "display_data"
    },
    {
     "name": "stdout",
     "output_type": "stream",
     "text": [
      "0:\tlearn: 2584.1580114\ttest: 2586.7112435\tbest: 2586.7112435 (0)\ttotal: 410ms\tremaining: 6m 49s\n",
      "1:\tlearn: 2241.5429641\ttest: 2252.0800323\tbest: 2252.0800323 (1)\ttotal: 782ms\tremaining: 6m 30s\n",
      "2:\tlearn: 2111.1389514\ttest: 2123.5493119\tbest: 2123.5493119 (2)\ttotal: 1.08s\tremaining: 5m 59s\n",
      "3:\tlearn: 2048.4876500\ttest: 2065.7149700\tbest: 2065.7149700 (3)\ttotal: 1.34s\tremaining: 5m 34s\n",
      "4:\tlearn: 2003.5502625\ttest: 2018.0677951\tbest: 2018.0677951 (4)\ttotal: 1.79s\tremaining: 5m 57s\n",
      "5:\tlearn: 1948.6537280\ttest: 1963.7128079\tbest: 1963.7128079 (5)\ttotal: 2.11s\tremaining: 5m 49s\n",
      "6:\tlearn: 1919.0775719\ttest: 1938.3439187\tbest: 1938.3439187 (6)\ttotal: 2.47s\tremaining: 5m 51s\n",
      "7:\tlearn: 1902.0272547\ttest: 1924.9617301\tbest: 1924.9617301 (7)\ttotal: 2.89s\tremaining: 5m 57s\n",
      "8:\tlearn: 1884.7402831\ttest: 1910.0024830\tbest: 1910.0024830 (8)\ttotal: 3.16s\tremaining: 5m 47s\n",
      "9:\tlearn: 1871.0286277\ttest: 1895.5087518\tbest: 1895.5087518 (9)\ttotal: 3.48s\tremaining: 5m 44s\n",
      "10:\tlearn: 1858.3662548\ttest: 1881.1717427\tbest: 1881.1717427 (10)\ttotal: 3.82s\tremaining: 5m 43s\n",
      "11:\tlearn: 1844.8449122\ttest: 1871.7369444\tbest: 1871.7369444 (11)\ttotal: 4.09s\tremaining: 5m 36s\n",
      "12:\tlearn: 1830.0429832\ttest: 1859.2342512\tbest: 1859.2342512 (12)\ttotal: 4.39s\tremaining: 5m 33s\n",
      "13:\tlearn: 1817.0371951\ttest: 1845.0575166\tbest: 1845.0575166 (13)\ttotal: 4.71s\tremaining: 5m 31s\n",
      "14:\tlearn: 1809.5679865\ttest: 1838.6388252\tbest: 1838.6388252 (14)\ttotal: 5.02s\tremaining: 5m 29s\n",
      "15:\tlearn: 1801.8030939\ttest: 1831.2285134\tbest: 1831.2285134 (15)\ttotal: 5.42s\tremaining: 5m 33s\n",
      "16:\tlearn: 1794.1381420\ttest: 1826.9296194\tbest: 1826.9296194 (16)\ttotal: 5.76s\tremaining: 5m 32s\n",
      "17:\tlearn: 1785.7127804\ttest: 1822.8515815\tbest: 1822.8515815 (17)\ttotal: 6.04s\tremaining: 5m 29s\n",
      "18:\tlearn: 1773.6944411\ttest: 1812.1091329\tbest: 1812.1091329 (18)\ttotal: 6.35s\tremaining: 5m 27s\n",
      "19:\tlearn: 1766.5346062\ttest: 1807.1073234\tbest: 1807.1073234 (19)\ttotal: 6.62s\tremaining: 5m 24s\n",
      "20:\tlearn: 1761.8900226\ttest: 1807.6890958\tbest: 1807.1073234 (19)\ttotal: 6.93s\tremaining: 5m 22s\n",
      "21:\tlearn: 1755.3023116\ttest: 1803.8401132\tbest: 1803.8401132 (21)\ttotal: 7.26s\tremaining: 5m 22s\n",
      "22:\tlearn: 1752.9242800\ttest: 1801.9876819\tbest: 1801.9876819 (22)\ttotal: 7.66s\tremaining: 5m 25s\n",
      "23:\tlearn: 1741.0971995\ttest: 1794.2417595\tbest: 1794.2417595 (23)\ttotal: 8s\tremaining: 5m 25s\n",
      "24:\tlearn: 1735.7160309\ttest: 1791.9961209\tbest: 1791.9961209 (24)\ttotal: 8.37s\tremaining: 5m 26s\n",
      "25:\tlearn: 1731.8176186\ttest: 1793.7887324\tbest: 1791.9961209 (24)\ttotal: 8.71s\tremaining: 5m 26s\n",
      "26:\tlearn: 1726.6767491\ttest: 1792.4210634\tbest: 1791.9961209 (24)\ttotal: 9.07s\tremaining: 5m 26s\n",
      "27:\tlearn: 1724.5097387\ttest: 1789.5602317\tbest: 1789.5602317 (27)\ttotal: 9.4s\tremaining: 5m 26s\n",
      "28:\tlearn: 1720.2250065\ttest: 1786.8325191\tbest: 1786.8325191 (28)\ttotal: 9.74s\tremaining: 5m 26s\n",
      "29:\tlearn: 1716.0175287\ttest: 1785.5815844\tbest: 1785.5815844 (29)\ttotal: 10.1s\tremaining: 5m 26s\n",
      "30:\tlearn: 1710.2499544\ttest: 1781.0531160\tbest: 1781.0531160 (30)\ttotal: 10.5s\tremaining: 5m 27s\n",
      "31:\tlearn: 1706.9004374\ttest: 1780.9413914\tbest: 1780.9413914 (31)\ttotal: 10.8s\tremaining: 5m 25s\n",
      "32:\tlearn: 1702.5218516\ttest: 1776.5766255\tbest: 1776.5766255 (32)\ttotal: 11.1s\tremaining: 5m 24s\n",
      "33:\tlearn: 1701.2076107\ttest: 1776.7724684\tbest: 1776.5766255 (32)\ttotal: 11.4s\tremaining: 5m 22s\n",
      "34:\tlearn: 1699.1784722\ttest: 1776.3700342\tbest: 1776.3700342 (34)\ttotal: 11.7s\tremaining: 5m 21s\n",
      "35:\tlearn: 1696.8446150\ttest: 1775.1944556\tbest: 1775.1944556 (35)\ttotal: 11.9s\tremaining: 5m 18s\n",
      "36:\tlearn: 1692.9566176\ttest: 1773.8420005\tbest: 1773.8420005 (36)\ttotal: 12.2s\tremaining: 5m 16s\n",
      "37:\tlearn: 1689.2786268\ttest: 1771.7747189\tbest: 1771.7747189 (37)\ttotal: 12.5s\tremaining: 5m 15s\n",
      "38:\tlearn: 1684.2384029\ttest: 1769.1651475\tbest: 1769.1651475 (38)\ttotal: 12.7s\tremaining: 5m 14s\n",
      "39:\tlearn: 1681.9823067\ttest: 1768.2234277\tbest: 1768.2234277 (39)\ttotal: 13.1s\tremaining: 5m 14s\n",
      "40:\tlearn: 1677.9078089\ttest: 1767.5992591\tbest: 1767.5992591 (40)\ttotal: 13.4s\tremaining: 5m 13s\n",
      "41:\tlearn: 1674.8084470\ttest: 1765.4910258\tbest: 1765.4910258 (41)\ttotal: 13.7s\tremaining: 5m 12s\n",
      "42:\tlearn: 1671.8047886\ttest: 1764.7439815\tbest: 1764.7439815 (42)\ttotal: 14s\tremaining: 5m 12s\n",
      "43:\tlearn: 1668.8774841\ttest: 1765.3971210\tbest: 1764.7439815 (42)\ttotal: 14.3s\tremaining: 5m 11s\n",
      "44:\tlearn: 1664.6903519\ttest: 1764.6465392\tbest: 1764.6465392 (44)\ttotal: 14.7s\tremaining: 5m 11s\n",
      "45:\tlearn: 1660.7072993\ttest: 1763.9063128\tbest: 1763.9063128 (45)\ttotal: 15s\tremaining: 5m 11s\n",
      "46:\tlearn: 1658.2804720\ttest: 1762.8006211\tbest: 1762.8006211 (46)\ttotal: 15.3s\tremaining: 5m 9s\n",
      "47:\tlearn: 1656.4574667\ttest: 1762.3910268\tbest: 1762.3910268 (47)\ttotal: 15.6s\tremaining: 5m 9s\n",
      "48:\tlearn: 1653.5008989\ttest: 1760.5488561\tbest: 1760.5488561 (48)\ttotal: 15.9s\tremaining: 5m 9s\n",
      "49:\tlearn: 1651.5092963\ttest: 1760.1467154\tbest: 1760.1467154 (49)\ttotal: 16.2s\tremaining: 5m 8s\n",
      "50:\tlearn: 1649.7897912\ttest: 1759.5002480\tbest: 1759.5002480 (50)\ttotal: 16.4s\tremaining: 5m 6s\n",
      "51:\tlearn: 1647.3709475\ttest: 1758.5220453\tbest: 1758.5220453 (51)\ttotal: 16.8s\tremaining: 5m 6s\n",
      "52:\tlearn: 1646.3318336\ttest: 1758.3096714\tbest: 1758.3096714 (52)\ttotal: 17.1s\tremaining: 5m 6s\n",
      "53:\tlearn: 1644.7546727\ttest: 1757.2483575\tbest: 1757.2483575 (53)\ttotal: 17.4s\tremaining: 5m 5s\n",
      "54:\tlearn: 1642.4118777\ttest: 1756.8291017\tbest: 1756.8291017 (54)\ttotal: 17.7s\tremaining: 5m 4s\n",
      "55:\tlearn: 1641.3885277\ttest: 1756.6139999\tbest: 1756.6139999 (55)\ttotal: 18.1s\tremaining: 5m 4s\n",
      "56:\tlearn: 1638.4871603\ttest: 1755.1597069\tbest: 1755.1597069 (56)\ttotal: 18.4s\tremaining: 5m 5s\n",
      "57:\tlearn: 1635.3076198\ttest: 1753.4099767\tbest: 1753.4099767 (57)\ttotal: 18.8s\tremaining: 5m 4s\n",
      "58:\tlearn: 1632.5383444\ttest: 1754.0876597\tbest: 1753.4099767 (57)\ttotal: 19.1s\tremaining: 5m 3s\n",
      "59:\tlearn: 1629.8396986\ttest: 1753.4886261\tbest: 1753.4099767 (57)\ttotal: 19.4s\tremaining: 5m 4s\n",
      "60:\tlearn: 1628.0648381\ttest: 1752.9967189\tbest: 1752.9967189 (60)\ttotal: 19.7s\tremaining: 5m 3s\n",
      "61:\tlearn: 1626.6794547\ttest: 1752.8064726\tbest: 1752.8064726 (61)\ttotal: 20.1s\tremaining: 5m 3s\n",
      "62:\tlearn: 1624.8545321\ttest: 1753.6531053\tbest: 1752.8064726 (61)\ttotal: 20.5s\tremaining: 5m 4s\n",
      "63:\tlearn: 1622.1114766\ttest: 1753.2529715\tbest: 1752.8064726 (61)\ttotal: 20.7s\tremaining: 5m 3s\n",
      "64:\tlearn: 1622.0481930\ttest: 1753.2793170\tbest: 1752.8064726 (61)\ttotal: 21s\tremaining: 5m 2s\n",
      "65:\tlearn: 1619.9952356\ttest: 1754.3149297\tbest: 1752.8064726 (61)\ttotal: 21.3s\tremaining: 5m\n",
      "66:\tlearn: 1618.2763719\ttest: 1753.8194171\tbest: 1752.8064726 (61)\ttotal: 21.4s\tremaining: 4m 58s\n",
      "67:\tlearn: 1613.9565434\ttest: 1754.9706122\tbest: 1752.8064726 (61)\ttotal: 21.7s\tremaining: 4m 56s\n",
      "68:\tlearn: 1611.9561623\ttest: 1755.1595325\tbest: 1752.8064726 (61)\ttotal: 21.9s\tremaining: 4m 55s\n",
      "69:\tlearn: 1610.2273494\ttest: 1753.8822222\tbest: 1752.8064726 (61)\ttotal: 22.1s\tremaining: 4m 53s\n",
      "70:\tlearn: 1607.5053778\ttest: 1753.7947701\tbest: 1752.8064726 (61)\ttotal: 22.3s\tremaining: 4m 51s\n",
      "71:\tlearn: 1603.1783230\ttest: 1755.0815734\tbest: 1752.8064726 (61)\ttotal: 22.5s\tremaining: 4m 50s\n",
      "72:\tlearn: 1601.0200804\ttest: 1753.1681636\tbest: 1752.8064726 (61)\ttotal: 22.7s\tremaining: 4m 48s\n",
      "73:\tlearn: 1600.1500350\ttest: 1752.6509648\tbest: 1752.6509648 (73)\ttotal: 22.9s\tremaining: 4m 46s\n",
      "74:\tlearn: 1598.0292990\ttest: 1751.3146048\tbest: 1751.3146048 (74)\ttotal: 23.2s\tremaining: 4m 45s\n",
      "75:\tlearn: 1596.8895400\ttest: 1751.5978695\tbest: 1751.3146048 (74)\ttotal: 23.4s\tremaining: 4m 45s\n",
      "76:\tlearn: 1594.7301947\ttest: 1750.8858300\tbest: 1750.8858300 (76)\ttotal: 23.7s\tremaining: 4m 44s\n",
      "77:\tlearn: 1594.4773511\ttest: 1750.9371421\tbest: 1750.8858300 (76)\ttotal: 23.9s\tremaining: 4m 42s\n",
      "78:\tlearn: 1592.4845546\ttest: 1750.1616725\tbest: 1750.1616725 (78)\ttotal: 24.1s\tremaining: 4m 40s\n",
      "79:\tlearn: 1591.6222670\ttest: 1749.7526789\tbest: 1749.7526789 (79)\ttotal: 24.3s\tremaining: 4m 39s\n",
      "80:\tlearn: 1591.3897591\ttest: 1749.6548740\tbest: 1749.6548740 (80)\ttotal: 24.5s\tremaining: 4m 37s\n",
      "81:\tlearn: 1589.3378215\ttest: 1749.5429381\tbest: 1749.5429381 (81)\ttotal: 24.7s\tremaining: 4m 36s\n",
      "82:\tlearn: 1588.5260053\ttest: 1748.7993106\tbest: 1748.7993106 (82)\ttotal: 24.9s\tremaining: 4m 35s\n",
      "83:\tlearn: 1588.1002716\ttest: 1748.8201226\tbest: 1748.7993106 (82)\ttotal: 25.1s\tremaining: 4m 33s\n",
      "84:\tlearn: 1587.3755849\ttest: 1748.8984516\tbest: 1748.7993106 (82)\ttotal: 25.3s\tremaining: 4m 32s\n",
      "85:\tlearn: 1585.2155687\ttest: 1748.3569452\tbest: 1748.3569452 (85)\ttotal: 25.5s\tremaining: 4m 31s\n",
      "86:\tlearn: 1583.6986864\ttest: 1747.7660991\tbest: 1747.7660991 (86)\ttotal: 25.7s\tremaining: 4m 29s\n",
      "87:\tlearn: 1583.0784009\ttest: 1748.5064747\tbest: 1747.7660991 (86)\ttotal: 25.9s\tremaining: 4m 28s\n",
      "88:\tlearn: 1581.5088447\ttest: 1748.8736813\tbest: 1747.7660991 (86)\ttotal: 26.1s\tremaining: 4m 27s\n",
      "89:\tlearn: 1579.6755299\ttest: 1748.8719332\tbest: 1747.7660991 (86)\ttotal: 26.3s\tremaining: 4m 25s\n",
      "90:\tlearn: 1578.8514539\ttest: 1748.3525532\tbest: 1747.7660991 (86)\ttotal: 26.6s\tremaining: 4m 25s\n",
      "91:\tlearn: 1577.4130596\ttest: 1748.8067275\tbest: 1747.7660991 (86)\ttotal: 26.8s\tremaining: 4m 24s\n",
      "92:\tlearn: 1576.5604327\ttest: 1748.4615121\tbest: 1747.7660991 (86)\ttotal: 27s\tremaining: 4m 23s\n",
      "93:\tlearn: 1575.6279173\ttest: 1748.3758948\tbest: 1747.7660991 (86)\ttotal: 27.2s\tremaining: 4m 21s\n",
      "94:\tlearn: 1574.6492750\ttest: 1747.6429831\tbest: 1747.6429831 (94)\ttotal: 27.4s\tremaining: 4m 20s\n",
      "95:\tlearn: 1572.6027404\ttest: 1749.1086171\tbest: 1747.6429831 (94)\ttotal: 27.6s\tremaining: 4m 20s\n",
      "96:\tlearn: 1572.0000776\ttest: 1748.6994446\tbest: 1747.6429831 (94)\ttotal: 27.8s\tremaining: 4m 19s\n",
      "97:\tlearn: 1571.1840901\ttest: 1747.9541079\tbest: 1747.6429831 (94)\ttotal: 28s\tremaining: 4m 17s\n",
      "98:\tlearn: 1568.9534109\ttest: 1747.6962641\tbest: 1747.6429831 (94)\ttotal: 28.3s\tremaining: 4m 17s\n",
      "99:\tlearn: 1566.7834635\ttest: 1746.7764628\tbest: 1746.7764628 (99)\ttotal: 28.5s\tremaining: 4m 16s\n",
      "100:\tlearn: 1565.4818875\ttest: 1746.9975774\tbest: 1746.7764628 (99)\ttotal: 28.7s\tremaining: 4m 15s\n",
      "101:\tlearn: 1564.9638510\ttest: 1747.0180093\tbest: 1746.7764628 (99)\ttotal: 28.9s\tremaining: 4m 14s\n",
      "102:\tlearn: 1563.2334869\ttest: 1746.8814719\tbest: 1746.7764628 (99)\ttotal: 29.2s\tremaining: 4m 13s\n",
      "103:\tlearn: 1561.8127772\ttest: 1747.2471961\tbest: 1746.7764628 (99)\ttotal: 29.5s\tremaining: 4m 13s\n",
      "104:\tlearn: 1561.2993964\ttest: 1746.6212619\tbest: 1746.6212619 (104)\ttotal: 29.6s\tremaining: 4m 12s\n",
      "105:\tlearn: 1560.0430586\ttest: 1746.4954310\tbest: 1746.4954310 (105)\ttotal: 29.9s\tremaining: 4m 11s\n",
      "106:\tlearn: 1558.9787621\ttest: 1746.6660616\tbest: 1746.4954310 (105)\ttotal: 30s\tremaining: 4m 10s\n",
      "107:\tlearn: 1558.6929457\ttest: 1746.4209263\tbest: 1746.4209263 (107)\ttotal: 30.2s\tremaining: 4m 9s\n",
      "108:\tlearn: 1558.3254405\ttest: 1746.3607679\tbest: 1746.3607679 (108)\ttotal: 30.5s\tremaining: 4m 9s\n",
      "109:\tlearn: 1557.2769843\ttest: 1746.1524384\tbest: 1746.1524384 (109)\ttotal: 30.7s\tremaining: 4m 8s\n",
      "110:\tlearn: 1555.9113923\ttest: 1744.7701345\tbest: 1744.7701345 (110)\ttotal: 31s\tremaining: 4m 8s\n",
      "111:\tlearn: 1555.4777118\ttest: 1745.0598095\tbest: 1744.7701345 (110)\ttotal: 31.2s\tremaining: 4m 7s\n",
      "112:\tlearn: 1554.5686847\ttest: 1745.0866106\tbest: 1744.7701345 (110)\ttotal: 31.4s\tremaining: 4m 6s\n",
      "113:\tlearn: 1554.1067927\ttest: 1745.2270287\tbest: 1744.7701345 (110)\ttotal: 31.6s\tremaining: 4m 5s\n",
      "114:\tlearn: 1552.9366219\ttest: 1745.4838391\tbest: 1744.7701345 (110)\ttotal: 31.9s\tremaining: 4m 5s\n",
      "115:\tlearn: 1551.5155512\ttest: 1744.8685958\tbest: 1744.7701345 (110)\ttotal: 32.1s\tremaining: 4m 4s\n",
      "116:\tlearn: 1550.8953406\ttest: 1744.5818726\tbest: 1744.5818726 (116)\ttotal: 32.3s\tremaining: 4m 3s\n",
      "117:\tlearn: 1549.5614853\ttest: 1742.6060290\tbest: 1742.6060290 (117)\ttotal: 32.5s\tremaining: 4m 3s\n",
      "118:\tlearn: 1548.3499411\ttest: 1741.7745177\tbest: 1741.7745177 (118)\ttotal: 32.8s\tremaining: 4m 2s\n",
      "119:\tlearn: 1547.5795314\ttest: 1741.8394444\tbest: 1741.7745177 (118)\ttotal: 33.1s\tremaining: 4m 2s\n",
      "120:\tlearn: 1545.3554454\ttest: 1741.4333987\tbest: 1741.4333987 (120)\ttotal: 33.5s\tremaining: 4m 3s\n",
      "121:\tlearn: 1544.5424984\ttest: 1741.7509101\tbest: 1741.4333987 (120)\ttotal: 33.8s\tremaining: 4m 3s\n",
      "122:\tlearn: 1543.1285903\ttest: 1741.6293664\tbest: 1741.4333987 (120)\ttotal: 34.1s\tremaining: 4m 3s\n",
      "123:\tlearn: 1542.1067686\ttest: 1741.4259343\tbest: 1741.4259343 (123)\ttotal: 34.4s\tremaining: 4m 3s\n",
      "124:\tlearn: 1541.5598634\ttest: 1741.3441490\tbest: 1741.3441490 (124)\ttotal: 34.8s\tremaining: 4m 3s\n",
      "125:\tlearn: 1539.7166636\ttest: 1740.8375879\tbest: 1740.8375879 (125)\ttotal: 35s\tremaining: 4m 3s\n",
      "126:\tlearn: 1539.3455342\ttest: 1740.3883548\tbest: 1740.3883548 (126)\ttotal: 35.2s\tremaining: 4m 1s\n",
      "127:\tlearn: 1537.8385046\ttest: 1739.8344029\tbest: 1739.8344029 (127)\ttotal: 35.4s\tremaining: 4m 1s\n",
      "128:\tlearn: 1536.6110129\ttest: 1739.8466946\tbest: 1739.8344029 (127)\ttotal: 35.7s\tremaining: 4m 1s\n",
      "129:\tlearn: 1535.2273542\ttest: 1739.7422912\tbest: 1739.7422912 (129)\ttotal: 36s\tremaining: 4m\n",
      "130:\tlearn: 1535.0212288\ttest: 1739.8984786\tbest: 1739.7422912 (129)\ttotal: 36.2s\tremaining: 4m\n",
      "131:\tlearn: 1534.3588960\ttest: 1739.8631115\tbest: 1739.7422912 (129)\ttotal: 36.4s\tremaining: 3m 59s\n",
      "132:\tlearn: 1533.6252350\ttest: 1739.3149168\tbest: 1739.3149168 (132)\ttotal: 36.7s\tremaining: 3m 59s\n",
      "133:\tlearn: 1532.5346993\ttest: 1740.3134380\tbest: 1739.3149168 (132)\ttotal: 36.9s\tremaining: 3m 58s\n",
      "134:\tlearn: 1531.6173770\ttest: 1740.6390079\tbest: 1739.3149168 (132)\ttotal: 37.2s\tremaining: 3m 58s\n",
      "135:\tlearn: 1530.1913457\ttest: 1741.5064150\tbest: 1739.3149168 (132)\ttotal: 37.4s\tremaining: 3m 57s\n",
      "136:\tlearn: 1528.9863929\ttest: 1741.7592917\tbest: 1739.3149168 (132)\ttotal: 37.7s\tremaining: 3m 57s\n",
      "137:\tlearn: 1527.0208711\ttest: 1740.8294805\tbest: 1739.3149168 (132)\ttotal: 37.9s\tremaining: 3m 56s\n",
      "138:\tlearn: 1526.1781552\ttest: 1740.3005256\tbest: 1739.3149168 (132)\ttotal: 38.2s\tremaining: 3m 56s\n",
      "139:\tlearn: 1525.1440642\ttest: 1740.4817212\tbest: 1739.3149168 (132)\ttotal: 38.4s\tremaining: 3m 55s\n",
      "140:\tlearn: 1523.3338999\ttest: 1740.3783916\tbest: 1739.3149168 (132)\ttotal: 38.6s\tremaining: 3m 55s\n",
      "141:\tlearn: 1522.1493358\ttest: 1740.6750712\tbest: 1739.3149168 (132)\ttotal: 38.9s\tremaining: 3m 54s\n",
      "142:\tlearn: 1520.4259522\ttest: 1740.5500858\tbest: 1739.3149168 (132)\ttotal: 39.2s\tremaining: 3m 54s\n",
      "143:\tlearn: 1519.4395350\ttest: 1740.9625756\tbest: 1739.3149168 (132)\ttotal: 39.5s\tremaining: 3m 54s\n",
      "144:\tlearn: 1518.0255211\ttest: 1741.1835690\tbest: 1739.3149168 (132)\ttotal: 39.8s\tremaining: 3m 54s\n",
      "145:\tlearn: 1517.4462025\ttest: 1741.6927238\tbest: 1739.3149168 (132)\ttotal: 40.1s\tremaining: 3m 54s\n",
      "146:\tlearn: 1515.7879020\ttest: 1741.3137829\tbest: 1739.3149168 (132)\ttotal: 40.5s\tremaining: 3m 54s\n",
      "147:\tlearn: 1515.2960614\ttest: 1741.6196536\tbest: 1739.3149168 (132)\ttotal: 40.7s\tremaining: 3m 54s\n",
      "148:\tlearn: 1514.4879221\ttest: 1740.9447706\tbest: 1739.3149168 (132)\ttotal: 41s\tremaining: 3m 54s\n",
      "149:\tlearn: 1513.1867742\ttest: 1740.8562057\tbest: 1739.3149168 (132)\ttotal: 41.3s\tremaining: 3m 54s\n",
      "150:\tlearn: 1511.3509914\ttest: 1741.0157916\tbest: 1739.3149168 (132)\ttotal: 41.6s\tremaining: 3m 54s\n",
      "151:\tlearn: 1510.9568637\ttest: 1740.7421963\tbest: 1739.3149168 (132)\ttotal: 41.9s\tremaining: 3m 53s\n",
      "152:\tlearn: 1510.1682973\ttest: 1740.8107658\tbest: 1739.3149168 (132)\ttotal: 42.2s\tremaining: 3m 53s\n",
      "153:\tlearn: 1509.5036641\ttest: 1740.7183755\tbest: 1739.3149168 (132)\ttotal: 42.5s\tremaining: 3m 53s\n",
      "154:\tlearn: 1508.5540723\ttest: 1741.2693497\tbest: 1739.3149168 (132)\ttotal: 42.8s\tremaining: 3m 53s\n",
      "155:\tlearn: 1508.1334526\ttest: 1741.4629246\tbest: 1739.3149168 (132)\ttotal: 43.1s\tremaining: 3m 53s\n",
      "156:\tlearn: 1507.6353412\ttest: 1741.4277606\tbest: 1739.3149168 (132)\ttotal: 43.4s\tremaining: 3m 52s\n",
      "157:\tlearn: 1506.5224683\ttest: 1741.5419398\tbest: 1739.3149168 (132)\ttotal: 43.6s\tremaining: 3m 52s\n",
      "158:\tlearn: 1505.9253968\ttest: 1741.2796844\tbest: 1739.3149168 (132)\ttotal: 44s\tremaining: 3m 52s\n",
      "159:\tlearn: 1504.8632908\ttest: 1740.5446363\tbest: 1739.3149168 (132)\ttotal: 44.3s\tremaining: 3m 52s\n",
      "160:\tlearn: 1503.4503480\ttest: 1739.9341174\tbest: 1739.3149168 (132)\ttotal: 44.7s\tremaining: 3m 52s\n",
      "161:\tlearn: 1501.8792388\ttest: 1739.6376106\tbest: 1739.3149168 (132)\ttotal: 45s\tremaining: 3m 52s\n",
      "162:\tlearn: 1500.8534598\ttest: 1738.8585347\tbest: 1738.8585347 (162)\ttotal: 45.4s\tremaining: 3m 52s\n",
      "163:\tlearn: 1499.8235675\ttest: 1738.7916261\tbest: 1738.7916261 (163)\ttotal: 45.7s\tremaining: 3m 52s\n",
      "164:\tlearn: 1498.5342612\ttest: 1738.3208735\tbest: 1738.3208735 (164)\ttotal: 46s\tremaining: 3m 52s\n",
      "165:\tlearn: 1496.5179674\ttest: 1738.2158619\tbest: 1738.2158619 (165)\ttotal: 46.3s\tremaining: 3m 52s\n",
      "166:\tlearn: 1495.5108884\ttest: 1738.5078453\tbest: 1738.2158619 (165)\ttotal: 46.6s\tremaining: 3m 52s\n",
      "167:\tlearn: 1494.4419716\ttest: 1738.5728266\tbest: 1738.2158619 (165)\ttotal: 47s\tremaining: 3m 52s\n",
      "168:\tlearn: 1492.8285396\ttest: 1738.1014283\tbest: 1738.1014283 (168)\ttotal: 47.3s\tremaining: 3m 52s\n",
      "169:\tlearn: 1492.1532275\ttest: 1738.1648049\tbest: 1738.1014283 (168)\ttotal: 47.6s\tremaining: 3m 52s\n",
      "170:\tlearn: 1491.0196448\ttest: 1738.4027123\tbest: 1738.1014283 (168)\ttotal: 47.9s\tremaining: 3m 52s\n",
      "171:\tlearn: 1489.9196713\ttest: 1737.8922280\tbest: 1737.8922280 (171)\ttotal: 48.2s\tremaining: 3m 52s\n",
      "172:\tlearn: 1488.1400214\ttest: 1738.3681139\tbest: 1737.8922280 (171)\ttotal: 48.5s\tremaining: 3m 51s\n",
      "173:\tlearn: 1487.0784296\ttest: 1738.3013471\tbest: 1737.8922280 (171)\ttotal: 48.8s\tremaining: 3m 51s\n",
      "174:\tlearn: 1486.3845082\ttest: 1738.6068421\tbest: 1737.8922280 (171)\ttotal: 49.1s\tremaining: 3m 51s\n",
      "175:\tlearn: 1485.6943323\ttest: 1738.3987667\tbest: 1737.8922280 (171)\ttotal: 49.6s\tremaining: 3m 51s\n",
      "176:\tlearn: 1484.4797083\ttest: 1739.2895086\tbest: 1737.8922280 (171)\ttotal: 49.9s\tremaining: 3m 52s\n",
      "177:\tlearn: 1483.9936434\ttest: 1739.5780882\tbest: 1737.8922280 (171)\ttotal: 50.2s\tremaining: 3m 52s\n",
      "178:\tlearn: 1483.5443178\ttest: 1739.4072979\tbest: 1737.8922280 (171)\ttotal: 50.5s\tremaining: 3m 51s\n",
      "179:\tlearn: 1482.5043506\ttest: 1739.3019231\tbest: 1737.8922280 (171)\ttotal: 50.8s\tremaining: 3m 51s\n",
      "180:\tlearn: 1482.3358485\ttest: 1739.3331729\tbest: 1737.8922280 (171)\ttotal: 51.2s\tremaining: 3m 51s\n",
      "181:\tlearn: 1480.8801505\ttest: 1739.8271660\tbest: 1737.8922280 (171)\ttotal: 51.4s\tremaining: 3m 51s\n",
      "182:\tlearn: 1480.6281803\ttest: 1739.7070303\tbest: 1737.8922280 (171)\ttotal: 51.8s\tremaining: 3m 51s\n",
      "183:\tlearn: 1479.6438198\ttest: 1739.7603307\tbest: 1737.8922280 (171)\ttotal: 52.1s\tremaining: 3m 51s\n",
      "184:\tlearn: 1478.9372451\ttest: 1739.2779376\tbest: 1737.8922280 (171)\ttotal: 52.5s\tremaining: 3m 51s\n",
      "185:\tlearn: 1478.6160169\ttest: 1739.3251373\tbest: 1737.8922280 (171)\ttotal: 52.8s\tremaining: 3m 51s\n",
      "186:\tlearn: 1478.1314247\ttest: 1739.2262330\tbest: 1737.8922280 (171)\ttotal: 53.2s\tremaining: 3m 51s\n",
      "187:\tlearn: 1476.8267172\ttest: 1739.6296863\tbest: 1737.8922280 (171)\ttotal: 53.5s\tremaining: 3m 51s\n",
      "188:\tlearn: 1476.1123621\ttest: 1739.2399089\tbest: 1737.8922280 (171)\ttotal: 53.8s\tremaining: 3m 51s\n",
      "189:\tlearn: 1475.4848396\ttest: 1739.7726184\tbest: 1737.8922280 (171)\ttotal: 54.1s\tremaining: 3m 50s\n",
      "190:\tlearn: 1474.6288776\ttest: 1739.4324021\tbest: 1737.8922280 (171)\ttotal: 54.5s\tremaining: 3m 50s\n",
      "191:\tlearn: 1474.1893383\ttest: 1739.9739144\tbest: 1737.8922280 (171)\ttotal: 54.8s\tremaining: 3m 50s\n",
      "192:\tlearn: 1473.3073786\ttest: 1739.7086096\tbest: 1737.8922280 (171)\ttotal: 55.2s\tremaining: 3m 50s\n",
      "193:\tlearn: 1472.7472484\ttest: 1739.3221249\tbest: 1737.8922280 (171)\ttotal: 55.6s\tremaining: 3m 50s\n",
      "194:\tlearn: 1471.2455669\ttest: 1739.1697598\tbest: 1737.8922280 (171)\ttotal: 55.9s\tremaining: 3m 50s\n",
      "195:\tlearn: 1471.2320689\ttest: 1739.0945177\tbest: 1737.8922280 (171)\ttotal: 56.3s\tremaining: 3m 50s\n",
      "196:\tlearn: 1469.8500871\ttest: 1740.7526519\tbest: 1737.8922280 (171)\ttotal: 56.5s\tremaining: 3m 50s\n",
      "197:\tlearn: 1469.5215380\ttest: 1740.5139326\tbest: 1737.8922280 (171)\ttotal: 56.9s\tremaining: 3m 50s\n",
      "198:\tlearn: 1468.2476058\ttest: 1740.3399405\tbest: 1737.8922280 (171)\ttotal: 57.1s\tremaining: 3m 49s\n",
      "199:\tlearn: 1467.5801777\ttest: 1739.4836904\tbest: 1737.8922280 (171)\ttotal: 57.3s\tremaining: 3m 49s\n",
      "200:\tlearn: 1466.6541753\ttest: 1739.7675964\tbest: 1737.8922280 (171)\ttotal: 57.6s\tremaining: 3m 48s\n",
      "201:\tlearn: 1465.4027142\ttest: 1739.8541060\tbest: 1737.8922280 (171)\ttotal: 57.7s\tremaining: 3m 47s\n",
      "202:\tlearn: 1465.0156552\ttest: 1739.6005575\tbest: 1737.8922280 (171)\ttotal: 57.9s\tremaining: 3m 47s\n",
      "203:\tlearn: 1464.0943218\ttest: 1739.7050886\tbest: 1737.8922280 (171)\ttotal: 58s\tremaining: 3m 46s\n",
      "204:\tlearn: 1463.4352178\ttest: 1739.8706328\tbest: 1737.8922280 (171)\ttotal: 58.3s\tremaining: 3m 45s\n",
      "205:\tlearn: 1461.6460103\ttest: 1739.7765379\tbest: 1737.8922280 (171)\ttotal: 58.4s\tremaining: 3m 45s\n",
      "206:\tlearn: 1461.4166069\ttest: 1739.4399575\tbest: 1737.8922280 (171)\ttotal: 58.5s\tremaining: 3m 44s\n",
      "207:\tlearn: 1460.7048320\ttest: 1739.4948673\tbest: 1737.8922280 (171)\ttotal: 58.7s\tremaining: 3m 43s\n",
      "208:\tlearn: 1460.0049106\ttest: 1739.6132365\tbest: 1737.8922280 (171)\ttotal: 58.9s\tremaining: 3m 43s\n",
      "209:\tlearn: 1459.4675408\ttest: 1739.9585255\tbest: 1737.8922280 (171)\ttotal: 59.2s\tremaining: 3m 42s\n",
      "210:\tlearn: 1459.1408877\ttest: 1739.8841774\tbest: 1737.8922280 (171)\ttotal: 59.5s\tremaining: 3m 42s\n",
      "211:\tlearn: 1458.0253649\ttest: 1739.1350067\tbest: 1737.8922280 (171)\ttotal: 59.7s\tremaining: 3m 41s\n",
      "212:\tlearn: 1457.7035121\ttest: 1739.2387384\tbest: 1737.8922280 (171)\ttotal: 59.9s\tremaining: 3m 41s\n",
      "213:\tlearn: 1457.1882001\ttest: 1739.3677020\tbest: 1737.8922280 (171)\ttotal: 1m\tremaining: 3m 40s\n",
      "214:\tlearn: 1456.2279689\ttest: 1740.0548073\tbest: 1737.8922280 (171)\ttotal: 1m\tremaining: 3m 40s\n",
      "215:\tlearn: 1455.5415455\ttest: 1740.2866100\tbest: 1737.8922280 (171)\ttotal: 1m\tremaining: 3m 39s\n",
      "216:\tlearn: 1454.8163126\ttest: 1740.1384429\tbest: 1737.8922280 (171)\ttotal: 1m\tremaining: 3m 39s\n",
      "217:\tlearn: 1452.9683666\ttest: 1741.1201326\tbest: 1737.8922280 (171)\ttotal: 1m\tremaining: 3m 38s\n",
      "218:\tlearn: 1452.7021982\ttest: 1741.5141662\tbest: 1737.8922280 (171)\ttotal: 1m 1s\tremaining: 3m 38s\n",
      "219:\tlearn: 1452.3276385\ttest: 1741.8889205\tbest: 1737.8922280 (171)\ttotal: 1m 1s\tremaining: 3m 37s\n",
      "220:\tlearn: 1451.8411762\ttest: 1741.9589284\tbest: 1737.8922280 (171)\ttotal: 1m 1s\tremaining: 3m 37s\n",
      "221:\tlearn: 1451.5584152\ttest: 1742.1684399\tbest: 1737.8922280 (171)\ttotal: 1m 1s\tremaining: 3m 36s\n",
      "222:\tlearn: 1451.1406754\ttest: 1741.8827586\tbest: 1737.8922280 (171)\ttotal: 1m 2s\tremaining: 3m 36s\n",
      "223:\tlearn: 1450.5058006\ttest: 1741.3983939\tbest: 1737.8922280 (171)\ttotal: 1m 2s\tremaining: 3m 36s\n",
      "224:\tlearn: 1450.0781561\ttest: 1741.6711082\tbest: 1737.8922280 (171)\ttotal: 1m 2s\tremaining: 3m 36s\n",
      "225:\tlearn: 1449.2383156\ttest: 1741.5844936\tbest: 1737.8922280 (171)\ttotal: 1m 3s\tremaining: 3m 35s\n",
      "226:\tlearn: 1448.7983526\ttest: 1741.9343397\tbest: 1737.8922280 (171)\ttotal: 1m 3s\tremaining: 3m 35s\n",
      "227:\tlearn: 1447.3507346\ttest: 1741.8028064\tbest: 1737.8922280 (171)\ttotal: 1m 3s\tremaining: 3m 35s\n",
      "228:\tlearn: 1446.8878747\ttest: 1741.4206434\tbest: 1737.8922280 (171)\ttotal: 1m 4s\tremaining: 3m 35s\n",
      "229:\tlearn: 1446.3447098\ttest: 1741.4596997\tbest: 1737.8922280 (171)\ttotal: 1m 4s\tremaining: 3m 35s\n",
      "230:\tlearn: 1445.7515255\ttest: 1741.3329017\tbest: 1737.8922280 (171)\ttotal: 1m 4s\tremaining: 3m 35s\n",
      "231:\tlearn: 1444.9598313\ttest: 1741.2315868\tbest: 1737.8922280 (171)\ttotal: 1m 4s\tremaining: 3m 35s\n",
      "232:\tlearn: 1444.5279150\ttest: 1740.9502715\tbest: 1737.8922280 (171)\ttotal: 1m 5s\tremaining: 3m 34s\n",
      "233:\tlearn: 1443.4419621\ttest: 1739.2742130\tbest: 1737.8922280 (171)\ttotal: 1m 5s\tremaining: 3m 34s\n",
      "234:\tlearn: 1442.1497066\ttest: 1738.5325169\tbest: 1737.8922280 (171)\ttotal: 1m 5s\tremaining: 3m 34s\n",
      "235:\tlearn: 1441.1578968\ttest: 1739.4683020\tbest: 1737.8922280 (171)\ttotal: 1m 6s\tremaining: 3m 34s\n",
      "236:\tlearn: 1440.2302513\ttest: 1739.5837230\tbest: 1737.8922280 (171)\ttotal: 1m 6s\tremaining: 3m 33s\n",
      "237:\tlearn: 1439.7392359\ttest: 1739.3812451\tbest: 1737.8922280 (171)\ttotal: 1m 6s\tremaining: 3m 33s\n",
      "238:\tlearn: 1439.3664050\ttest: 1739.4419189\tbest: 1737.8922280 (171)\ttotal: 1m 6s\tremaining: 3m 33s\n",
      "239:\tlearn: 1438.8348238\ttest: 1740.1416107\tbest: 1737.8922280 (171)\ttotal: 1m 7s\tremaining: 3m 32s\n",
      "240:\tlearn: 1437.9182882\ttest: 1739.8432733\tbest: 1737.8922280 (171)\ttotal: 1m 7s\tremaining: 3m 32s\n",
      "241:\tlearn: 1436.8611599\ttest: 1740.3185496\tbest: 1737.8922280 (171)\ttotal: 1m 7s\tremaining: 3m 32s\n",
      "242:\tlearn: 1436.3793960\ttest: 1740.2990022\tbest: 1737.8922280 (171)\ttotal: 1m 8s\tremaining: 3m 32s\n",
      "243:\tlearn: 1436.0590851\ttest: 1740.2775075\tbest: 1737.8922280 (171)\ttotal: 1m 8s\tremaining: 3m 31s\n",
      "244:\tlearn: 1435.3512807\ttest: 1740.1201419\tbest: 1737.8922280 (171)\ttotal: 1m 8s\tremaining: 3m 31s\n",
      "245:\tlearn: 1434.2844451\ttest: 1740.1051263\tbest: 1737.8922280 (171)\ttotal: 1m 9s\tremaining: 3m 31s\n",
      "246:\tlearn: 1433.9403750\ttest: 1740.3272257\tbest: 1737.8922280 (171)\ttotal: 1m 9s\tremaining: 3m 31s\n",
      "247:\tlearn: 1433.5224576\ttest: 1740.1831427\tbest: 1737.8922280 (171)\ttotal: 1m 9s\tremaining: 3m 31s\n",
      "248:\tlearn: 1432.6830401\ttest: 1740.0129124\tbest: 1737.8922280 (171)\ttotal: 1m 10s\tremaining: 3m 31s\n",
      "249:\tlearn: 1432.0833590\ttest: 1740.6221447\tbest: 1737.8922280 (171)\ttotal: 1m 10s\tremaining: 3m 31s\n",
      "250:\tlearn: 1431.7189475\ttest: 1741.2605577\tbest: 1737.8922280 (171)\ttotal: 1m 10s\tremaining: 3m 31s\n",
      "251:\tlearn: 1430.8738116\ttest: 1741.4016052\tbest: 1737.8922280 (171)\ttotal: 1m 11s\tremaining: 3m 30s\n",
      "252:\tlearn: 1430.7017042\ttest: 1741.5501857\tbest: 1737.8922280 (171)\ttotal: 1m 11s\tremaining: 3m 30s\n",
      "253:\tlearn: 1429.6294602\ttest: 1742.0211348\tbest: 1737.8922280 (171)\ttotal: 1m 11s\tremaining: 3m 30s\n"
     ]
    }
   ],
   "source": [
    "%%time\n",
    "start = time.time()\n",
    "#model_cbr.fit(X__train, y__train, plot=True, eval_set=(X__test, y__test), verbose=200);\n",
    "model = CatBoostRegressor(cat_features=categorical)\n",
    "grid_search_result = model.grid_search(grid, X=X__train, y=y__train, plot=True)\n",
    "end = time.time()\n",
    "catboost_time = end - start"
   ]
  },
  {
   "cell_type": "code",
   "execution_count": null,
   "metadata": {},
   "outputs": [],
   "source": [
    "#Посмотрим какую среднюю квадратичную абсолютную ошибку мы получили в предсказаниях.\n",
    "start = time.time()\n",
    "predictions = model.predict(X__valid)\n",
    "end = time.time()\n",
    "catboost_time_predicting_ = end - start\n",
    "print('RMSE=',ds.rmse(predictions,y__valid))\n",
    "rmse_list.append(ds.rmse(predictions,y__valid))\n",
    "time_list.append(catboost_time)\n",
    "predicting_time.append(catboost_time_predicting_)"
   ]
  },
  {
   "cell_type": "markdown",
   "metadata": {},
   "source": [
    "### LightGBM"
   ]
  },
  {
   "cell_type": "code",
   "execution_count": null,
   "metadata": {},
   "outputs": [],
   "source": [
    "gbm = lgb.LGBMRegressor(task='train', \n",
    "                        boosting_type='gbdt', \n",
    "                        objective='regression', \n",
    "                        metric='rmse', \n",
    "                        learning_rate=0.5, \n",
    "                        verbose=200, \n",
    "                        categorical_feature=categorical)"
   ]
  },
  {
   "cell_type": "code",
   "execution_count": null,
   "metadata": {},
   "outputs": [],
   "source": [
    "%%time\n",
    "start = time.time()\n",
    "gbm.fit(X__train, y__train, eval_set=[(X__valid, y__valid)], eval_metric='rmse', early_stopping_rounds=1000)\n",
    "end = time.time()\n",
    "lightgbm_time = end - start"
   ]
  },
  {
   "cell_type": "code",
   "execution_count": null,
   "metadata": {},
   "outputs": [],
   "source": [
    "start = time.time()\n",
    "predictions = gbm.predict(X__valid,num_iteration=gbm.best_iteration_)\n",
    "end = time.time()\n",
    "lightgbm_time_predicting_ = end - start\n",
    "print('RMSE = ', ds.rmse(predictions, y__valid))\n",
    "rmse_list.append(ds.rmse(predictions,y__valid))\n",
    "time_list.append(lightgbm_time)\n",
    "predicting_time.append(lightgbm_time_predicting_)"
   ]
  },
  {
   "cell_type": "markdown",
   "metadata": {},
   "source": [
    "### LinearRegression()"
   ]
  },
  {
   "cell_type": "code",
   "execution_count": null,
   "metadata": {},
   "outputs": [],
   "source": [
    "#lr = LinearRegression()"
   ]
  },
  {
   "cell_type": "code",
   "execution_count": null,
   "metadata": {},
   "outputs": [],
   "source": [
    "#%%time\n",
    "#start = time.time()\n",
    "#lr.fit(X_train,y_train)\n",
    "#end = time.time()\n",
    "#linear_time = end - start"
   ]
  },
  {
   "cell_type": "code",
   "execution_count": null,
   "metadata": {},
   "outputs": [],
   "source": [
    "#start = time.time()\n",
    "#predictions = lr.predict(X_test)\n",
    "#end = time.time()\n",
    "#linear_time_predicting_ = end - start\n",
    "#print(ds.rmse(predictions,y_test))\n",
    "#rmse_list.append(ds.rmse(predictions,y_test))\n",
    "#time_list.append(linear_time)\n",
    "#predicting_time.append(linear_time_predicting_)"
   ]
  },
  {
   "cell_type": "markdown",
   "metadata": {},
   "source": [
    "**Кажется ее можно убрать, так как мы не делаем перебор параметров на регресии, плюс она не показывает какой либо эффективности** "
   ]
  },
  {
   "cell_type": "markdown",
   "metadata": {},
   "source": [
    "**Проверим качество лучшей модели на валидационной выборке**"
   ]
  },
  {
   "cell_type": "markdown",
   "metadata": {},
   "source": [
    "**Поменял**"
   ]
  },
  {
   "cell_type": "code",
   "execution_count": null,
   "metadata": {},
   "outputs": [],
   "source": [
    "start = time.time()\n",
    "predictions = gbm.predict(X__test,num_iteration=gbm.best_iteration_)\n",
    "end = time.time()\n",
    "lightgbm_time_predicting_ = end - start\n",
    "print('RMSE = ', ds.rmse(predictions, y__test))"
   ]
  },
  {
   "cell_type": "markdown",
   "metadata": {},
   "source": [
    "Как видно из полученных данных:  \n",
    "  \n",
    "Лучший RMSE из коробки показывает CatBoost 1719\n",
    "Лучшее время из коробки показал LinearRegression, но с результатов RMSE 2952  \n",
    "LightGBM же показал RMSE 1794\n",
    "После тюнинга моделей получили такие вот результаты:  \n",
    "  \n",
    "Лучший результат RMSE у LGBM \n",
    "У Catboost результат 1761 о временем обучения 223 секунд.  \n",
    "LinearRegression - RMSE 2982, так как параметров у него особо нет.  \n",
    "\n",
    "На валидационной выборке лучший результат у LGBM, он составил 1682"
   ]
  },
  {
   "cell_type": "markdown",
   "metadata": {},
   "source": [
    "**Вывод:**\n",
    "Мы проанализировали датасет, очистили от неинформативных признаков, провели предобработку данных\n",
    "\n",
    "Все модели градиентного бустинга(catboost, lightgbm) из коробки показывают относительно хорошие результаты, чего не скажешь про линейную регрессию. Время обучения у всех разное от 600 сек до 0.07 секунд.\n",
    "После тюнинга моделей лучший результат показал Catboost 1701 на тестовой выборке. Скорость обучения составила 628 секунд.\n",
    "LightGBM - показал неплохие результаты относительно своей скорости 1751 за 6 секунд."
   ]
  },
  {
   "cell_type": "markdown",
   "metadata": {},
   "source": [
    "## Чек-лист проверки"
   ]
  },
  {
   "cell_type": "markdown",
   "metadata": {},
   "source": [
    "Поставьте 'x' в выполненных пунктах. Далее нажмите Shift+Enter."
   ]
  },
  {
   "cell_type": "markdown",
   "metadata": {},
   "source": [
    "- [x]  Jupyter Notebook открыт\n",
    "- [x]  Весь код выполняется без ошибок\n",
    "- [x]  Ячейки с кодом расположены в порядке исполнения\n",
    "- [x]  Выполнена загрузка и подготовка данных\n",
    "- [x]  Выполнено обучение моделей\n",
    "- [x]  Есть анализ скорости работы и качества моделей"
   ]
  }
 ],
 "metadata": {
  "ExecuteTimeLog": [
   {
    "duration": 1769,
    "start_time": "2022-12-25T16:37:07.640Z"
   },
   {
    "duration": 18,
    "start_time": "2022-12-25T16:37:09.741Z"
   },
   {
    "duration": 3,
    "start_time": "2022-12-25T16:37:10.382Z"
   },
   {
    "duration": 3428,
    "start_time": "2022-12-25T16:37:10.875Z"
   },
   {
    "duration": 295,
    "start_time": "2022-12-25T16:37:14.305Z"
   },
   {
    "duration": 526,
    "start_time": "2022-12-25T16:37:37.901Z"
   },
   {
    "duration": 506,
    "start_time": "2022-12-25T16:37:58.109Z"
   },
   {
    "duration": 50,
    "start_time": "2022-12-25T16:38:08.733Z"
   },
   {
    "duration": 31,
    "start_time": "2022-12-25T16:38:39.772Z"
   },
   {
    "duration": 40,
    "start_time": "2022-12-25T16:39:43.004Z"
   },
   {
    "duration": 193,
    "start_time": "2022-12-25T16:39:54.208Z"
   },
   {
    "duration": 1585,
    "start_time": "2022-12-25T16:40:52.478Z"
   },
   {
    "duration": 124,
    "start_time": "2022-12-25T16:51:16.149Z"
   },
   {
    "duration": 17,
    "start_time": "2022-12-25T16:51:48.818Z"
   },
   {
    "duration": 124,
    "start_time": "2022-12-25T16:52:38.465Z"
   },
   {
    "duration": 50,
    "start_time": "2022-12-25T16:52:44.856Z"
   },
   {
    "duration": 110,
    "start_time": "2022-12-25T16:52:46.932Z"
   },
   {
    "duration": 6,
    "start_time": "2022-12-25T16:53:13.012Z"
   },
   {
    "duration": 6,
    "start_time": "2022-12-25T16:54:45.537Z"
   },
   {
    "duration": 1903,
    "start_time": "2022-12-25T16:54:55.610Z"
   },
   {
    "duration": 53,
    "start_time": "2022-12-25T16:55:04.851Z"
   },
   {
    "duration": 243,
    "start_time": "2022-12-25T16:55:13.596Z"
   },
   {
    "duration": 298,
    "start_time": "2022-12-25T16:55:59.754Z"
   },
   {
    "duration": 12,
    "start_time": "2022-12-25T17:02:43.922Z"
   },
   {
    "duration": 25,
    "start_time": "2022-12-25T17:02:45.023Z"
   },
   {
    "duration": 89,
    "start_time": "2022-12-25T17:02:46.598Z"
   },
   {
    "duration": 327,
    "start_time": "2022-12-25T17:03:21.196Z"
   },
   {
    "duration": 230,
    "start_time": "2022-12-25T17:03:22.794Z"
   },
   {
    "duration": 16,
    "start_time": "2022-12-25T17:03:24.503Z"
   },
   {
    "duration": 1240,
    "start_time": "2022-12-25T17:03:25.357Z"
   },
   {
    "duration": 59,
    "start_time": "2022-12-25T17:08:19.261Z"
   },
   {
    "duration": 118,
    "start_time": "2022-12-25T17:08:19.830Z"
   },
   {
    "duration": 45,
    "start_time": "2022-12-25T17:08:20.339Z"
   },
   {
    "duration": 25,
    "start_time": "2022-12-25T17:08:20.964Z"
   },
   {
    "duration": 4,
    "start_time": "2022-12-25T17:08:22.587Z"
   },
   {
    "duration": 167879,
    "start_time": "2022-12-25T17:08:23.210Z"
   },
   {
    "duration": 628,
    "start_time": "2022-12-25T17:11:11.091Z"
   },
   {
    "duration": 3,
    "start_time": "2022-12-25T17:11:11.721Z"
   },
   {
    "duration": 235089,
    "start_time": "2022-12-25T17:11:11.725Z"
   },
   {
    "duration": 938,
    "start_time": "2022-12-25T17:15:06.816Z"
   },
   {
    "duration": 38,
    "start_time": "2022-12-25T17:18:01.819Z"
   },
   {
    "duration": 105,
    "start_time": "2022-12-25T17:18:55.814Z"
   },
   {
    "duration": 3,
    "start_time": "2022-12-25T17:19:06.198Z"
   },
   {
    "duration": 136,
    "start_time": "2022-12-25T17:19:06.470Z"
   },
   {
    "duration": 30,
    "start_time": "2022-12-25T17:19:06.775Z"
   },
   {
    "duration": 22,
    "start_time": "2022-12-25T17:19:07.821Z"
   },
   {
    "duration": 10,
    "start_time": "2022-12-25T17:19:20.052Z"
   },
   {
    "duration": 5,
    "start_time": "2022-12-25T17:20:50.155Z"
   },
   {
    "duration": 4,
    "start_time": "2022-12-25T17:21:01.654Z"
   },
   {
    "duration": 4,
    "start_time": "2022-12-25T17:21:13.423Z"
   },
   {
    "duration": 6,
    "start_time": "2022-12-25T17:34:57.341Z"
   },
   {
    "duration": 184801,
    "start_time": "2022-12-25T17:35:05.225Z"
   },
   {
    "duration": 692,
    "start_time": "2022-12-25T17:38:10.028Z"
   },
   {
    "duration": 3,
    "start_time": "2022-12-25T17:38:32.836Z"
   },
   {
    "duration": 223895,
    "start_time": "2022-12-25T17:38:33.521Z"
   },
   {
    "duration": 604,
    "start_time": "2022-12-25T17:42:17.418Z"
   },
   {
    "duration": 3,
    "start_time": "2022-12-25T17:42:18.024Z"
   },
   {
    "duration": 118,
    "start_time": "2022-12-25T17:42:18.029Z"
   },
   {
    "duration": 159,
    "start_time": "2022-12-25T17:42:18.149Z"
   },
   {
    "duration": 101,
    "start_time": "2022-12-25T17:42:18.310Z"
   },
   {
    "duration": 91,
    "start_time": "2022-12-25T17:42:18.413Z"
   },
   {
    "duration": 1580,
    "start_time": "2022-12-25T18:02:50.845Z"
   },
   {
    "duration": 13,
    "start_time": "2022-12-25T18:02:52.427Z"
   },
   {
    "duration": 9,
    "start_time": "2022-12-25T18:02:52.441Z"
   },
   {
    "duration": 1602,
    "start_time": "2022-12-25T18:02:52.452Z"
   },
   {
    "duration": 297,
    "start_time": "2022-12-25T18:02:54.056Z"
   },
   {
    "duration": 420,
    "start_time": "2022-12-25T18:02:54.354Z"
   },
   {
    "duration": 456,
    "start_time": "2022-12-25T18:02:54.775Z"
   },
   {
    "duration": 47,
    "start_time": "2022-12-25T18:02:55.233Z"
   },
   {
    "duration": 40,
    "start_time": "2022-12-25T18:02:55.282Z"
   },
   {
    "duration": 49,
    "start_time": "2022-12-25T18:02:55.323Z"
   },
   {
    "duration": 194,
    "start_time": "2022-12-25T18:02:55.373Z"
   },
   {
    "duration": 1473,
    "start_time": "2022-12-25T18:02:55.569Z"
   },
   {
    "duration": 118,
    "start_time": "2022-12-25T18:02:57.044Z"
   },
   {
    "duration": 25,
    "start_time": "2022-12-25T18:02:57.164Z"
   },
   {
    "duration": 15,
    "start_time": "2022-12-25T18:02:57.191Z"
   },
   {
    "duration": 1922,
    "start_time": "2022-12-25T18:02:57.207Z"
   },
   {
    "duration": 54,
    "start_time": "2022-12-25T18:02:59.131Z"
   },
   {
    "duration": 261,
    "start_time": "2022-12-25T18:02:59.187Z"
   },
   {
    "duration": 301,
    "start_time": "2022-12-25T18:02:59.450Z"
   },
   {
    "duration": 11,
    "start_time": "2022-12-25T18:02:59.752Z"
   },
   {
    "duration": 48,
    "start_time": "2022-12-25T18:02:59.764Z"
   },
   {
    "duration": 312,
    "start_time": "2022-12-25T18:02:59.813Z"
   },
   {
    "duration": 189,
    "start_time": "2022-12-25T18:03:00.127Z"
   },
   {
    "duration": 10,
    "start_time": "2022-12-25T18:03:00.318Z"
   },
   {
    "duration": 1143,
    "start_time": "2022-12-25T18:03:00.330Z"
   },
   {
    "duration": 58,
    "start_time": "2022-12-25T18:03:01.475Z"
   },
   {
    "duration": 131,
    "start_time": "2022-12-25T18:03:01.534Z"
   },
   {
    "duration": 51,
    "start_time": "2022-12-25T18:03:01.667Z"
   },
   {
    "duration": 25,
    "start_time": "2022-12-25T18:03:01.719Z"
   },
   {
    "duration": 3,
    "start_time": "2022-12-25T18:03:01.746Z"
   },
   {
    "duration": 168325,
    "start_time": "2022-12-25T18:03:01.751Z"
   },
   {
    "duration": 715,
    "start_time": "2022-12-25T18:05:50.078Z"
   },
   {
    "duration": 3,
    "start_time": "2022-12-25T18:05:50.795Z"
   },
   {
    "duration": 246915,
    "start_time": "2022-12-25T18:05:50.799Z"
   },
   {
    "duration": 1061,
    "start_time": "2022-12-25T18:09:57.716Z"
   },
   {
    "duration": 0,
    "start_time": "2022-12-25T18:09:58.778Z"
   },
   {
    "duration": 0,
    "start_time": "2022-12-25T18:09:58.780Z"
   },
   {
    "duration": 0,
    "start_time": "2022-12-25T18:09:58.782Z"
   },
   {
    "duration": 0,
    "start_time": "2022-12-25T18:09:58.783Z"
   },
   {
    "duration": 0,
    "start_time": "2022-12-25T18:09:58.784Z"
   },
   {
    "duration": 1,
    "start_time": "2022-12-25T18:09:58.785Z"
   },
   {
    "duration": 0,
    "start_time": "2022-12-25T18:09:58.805Z"
   },
   {
    "duration": 0,
    "start_time": "2022-12-25T18:09:58.807Z"
   },
   {
    "duration": 1,
    "start_time": "2022-12-25T18:09:58.808Z"
   },
   {
    "duration": 0,
    "start_time": "2022-12-25T18:09:58.810Z"
   },
   {
    "duration": 0,
    "start_time": "2022-12-25T18:09:58.811Z"
   },
   {
    "duration": 0,
    "start_time": "2022-12-25T18:09:58.813Z"
   },
   {
    "duration": 0,
    "start_time": "2022-12-25T18:09:58.814Z"
   },
   {
    "duration": 0,
    "start_time": "2022-12-25T18:09:58.815Z"
   },
   {
    "duration": 2524,
    "start_time": "2022-12-27T12:54:57.935Z"
   },
   {
    "duration": 11,
    "start_time": "2022-12-27T12:55:00.461Z"
   },
   {
    "duration": 51,
    "start_time": "2022-12-27T12:55:00.474Z"
   },
   {
    "duration": 1212,
    "start_time": "2022-12-27T12:55:00.527Z"
   },
   {
    "duration": 231,
    "start_time": "2022-12-27T12:55:01.741Z"
   },
   {
    "duration": 415,
    "start_time": "2022-12-27T12:55:01.973Z"
   },
   {
    "duration": 450,
    "start_time": "2022-12-27T12:55:02.390Z"
   },
   {
    "duration": 53,
    "start_time": "2022-12-27T12:55:02.842Z"
   },
   {
    "duration": 25,
    "start_time": "2022-12-27T12:55:02.897Z"
   },
   {
    "duration": 89,
    "start_time": "2022-12-27T12:55:02.924Z"
   },
   {
    "duration": 191,
    "start_time": "2022-12-27T12:55:03.015Z"
   },
   {
    "duration": 1625,
    "start_time": "2022-12-27T12:55:03.207Z"
   },
   {
    "duration": 133,
    "start_time": "2022-12-27T12:55:04.834Z"
   },
   {
    "duration": 32,
    "start_time": "2022-12-27T12:55:04.970Z"
   },
   {
    "duration": 7,
    "start_time": "2022-12-27T12:55:05.003Z"
   },
   {
    "duration": 2026,
    "start_time": "2022-12-27T12:55:05.012Z"
   },
   {
    "duration": 59,
    "start_time": "2022-12-27T12:55:07.040Z"
   },
   {
    "duration": 243,
    "start_time": "2022-12-27T12:55:07.101Z"
   },
   {
    "duration": 322,
    "start_time": "2022-12-27T12:55:07.345Z"
   },
   {
    "duration": 14,
    "start_time": "2022-12-27T12:55:07.669Z"
   },
   {
    "duration": 31,
    "start_time": "2022-12-27T12:55:07.685Z"
   },
   {
    "duration": 367,
    "start_time": "2022-12-27T12:55:07.717Z"
   },
   {
    "duration": 212,
    "start_time": "2022-12-27T12:55:08.086Z"
   },
   {
    "duration": 17,
    "start_time": "2022-12-27T12:55:08.300Z"
   },
   {
    "duration": 1288,
    "start_time": "2022-12-27T12:55:08.319Z"
   },
   {
    "duration": 79,
    "start_time": "2022-12-27T12:55:09.609Z"
   },
   {
    "duration": 150,
    "start_time": "2022-12-27T12:55:09.690Z"
   },
   {
    "duration": 72,
    "start_time": "2022-12-27T12:55:09.842Z"
   },
   {
    "duration": 29,
    "start_time": "2022-12-27T12:55:09.915Z"
   },
   {
    "duration": 8,
    "start_time": "2022-12-27T12:55:09.945Z"
   },
   {
    "duration": 179787,
    "start_time": "2022-12-27T12:55:09.954Z"
   },
   {
    "duration": 663,
    "start_time": "2022-12-27T12:58:09.743Z"
   },
   {
    "duration": 3,
    "start_time": "2022-12-27T12:58:10.407Z"
   },
   {
    "duration": 10269,
    "start_time": "2022-12-27T12:58:10.411Z"
   },
   {
    "duration": 1086,
    "start_time": "2022-12-27T12:58:20.682Z"
   },
   {
    "duration": 0,
    "start_time": "2022-12-27T12:58:21.770Z"
   },
   {
    "duration": 0,
    "start_time": "2022-12-27T12:58:21.777Z"
   },
   {
    "duration": 0,
    "start_time": "2022-12-27T12:58:21.779Z"
   },
   {
    "duration": 0,
    "start_time": "2022-12-27T12:58:21.780Z"
   },
   {
    "duration": 0,
    "start_time": "2022-12-27T12:58:21.781Z"
   },
   {
    "duration": 0,
    "start_time": "2022-12-27T12:58:21.782Z"
   },
   {
    "duration": 0,
    "start_time": "2022-12-27T12:58:21.783Z"
   },
   {
    "duration": 0,
    "start_time": "2022-12-27T12:58:21.784Z"
   },
   {
    "duration": 0,
    "start_time": "2022-12-27T12:58:21.785Z"
   },
   {
    "duration": 0,
    "start_time": "2022-12-27T12:58:21.787Z"
   },
   {
    "duration": 0,
    "start_time": "2022-12-27T12:58:21.788Z"
   },
   {
    "duration": 0,
    "start_time": "2022-12-27T12:58:21.789Z"
   },
   {
    "duration": 0,
    "start_time": "2022-12-27T12:58:21.789Z"
   },
   {
    "duration": 0,
    "start_time": "2022-12-27T12:58:21.790Z"
   },
   {
    "duration": 1667,
    "start_time": "2022-12-29T10:23:34.870Z"
   },
   {
    "duration": 11,
    "start_time": "2022-12-29T10:23:36.540Z"
   },
   {
    "duration": 27,
    "start_time": "2022-12-29T10:23:36.553Z"
   },
   {
    "duration": 2850,
    "start_time": "2022-12-29T10:23:36.582Z"
   },
   {
    "duration": 206,
    "start_time": "2022-12-29T10:23:39.433Z"
   },
   {
    "duration": 360,
    "start_time": "2022-12-29T10:23:39.640Z"
   },
   {
    "duration": 418,
    "start_time": "2022-12-29T10:23:40.002Z"
   },
   {
    "duration": 41,
    "start_time": "2022-12-29T10:23:40.421Z"
   },
   {
    "duration": 34,
    "start_time": "2022-12-29T10:23:40.463Z"
   },
   {
    "duration": 47,
    "start_time": "2022-12-29T10:23:40.499Z"
   },
   {
    "duration": 183,
    "start_time": "2022-12-29T10:23:40.548Z"
   },
   {
    "duration": 1455,
    "start_time": "2022-12-29T10:23:40.732Z"
   },
   {
    "duration": 113,
    "start_time": "2022-12-29T10:23:42.189Z"
   },
   {
    "duration": 25,
    "start_time": "2022-12-29T10:23:42.303Z"
   },
   {
    "duration": 7,
    "start_time": "2022-12-29T10:23:42.329Z"
   },
   {
    "duration": 1756,
    "start_time": "2022-12-29T10:23:42.338Z"
   },
   {
    "duration": 47,
    "start_time": "2022-12-29T10:23:44.096Z"
   },
   {
    "duration": 213,
    "start_time": "2022-12-29T10:23:44.145Z"
   },
   {
    "duration": 272,
    "start_time": "2022-12-29T10:23:44.360Z"
   },
   {
    "duration": 10,
    "start_time": "2022-12-29T10:23:44.634Z"
   },
   {
    "duration": 35,
    "start_time": "2022-12-29T10:23:44.646Z"
   },
   {
    "duration": 299,
    "start_time": "2022-12-29T10:23:44.683Z"
   },
   {
    "duration": 175,
    "start_time": "2022-12-29T10:23:44.984Z"
   },
   {
    "duration": 10,
    "start_time": "2022-12-29T10:23:45.160Z"
   },
   {
    "duration": 1103,
    "start_time": "2022-12-29T10:23:45.177Z"
   },
   {
    "duration": 60,
    "start_time": "2022-12-29T10:23:46.282Z"
   },
   {
    "duration": 126,
    "start_time": "2022-12-29T10:23:46.343Z"
   },
   {
    "duration": 44,
    "start_time": "2022-12-29T10:23:46.477Z"
   },
   {
    "duration": 21,
    "start_time": "2022-12-29T10:23:46.523Z"
   },
   {
    "duration": 2,
    "start_time": "2022-12-29T10:23:46.546Z"
   },
   {
    "duration": 1566,
    "start_time": "2022-12-29T10:24:07.861Z"
   },
   {
    "duration": 11,
    "start_time": "2022-12-29T10:24:09.429Z"
   },
   {
    "duration": 22,
    "start_time": "2022-12-29T10:24:09.442Z"
   },
   {
    "duration": 764,
    "start_time": "2022-12-29T10:24:09.466Z"
   },
   {
    "duration": 210,
    "start_time": "2022-12-29T10:24:10.232Z"
   },
   {
    "duration": 361,
    "start_time": "2022-12-29T10:24:10.444Z"
   },
   {
    "duration": 433,
    "start_time": "2022-12-29T10:24:10.807Z"
   },
   {
    "duration": 50,
    "start_time": "2022-12-29T10:24:11.242Z"
   },
   {
    "duration": 23,
    "start_time": "2022-12-29T10:24:11.294Z"
   },
   {
    "duration": 47,
    "start_time": "2022-12-29T10:24:11.319Z"
   },
   {
    "duration": 200,
    "start_time": "2022-12-29T10:24:11.367Z"
   },
   {
    "duration": 1446,
    "start_time": "2022-12-29T10:24:11.569Z"
   },
   {
    "duration": 139,
    "start_time": "2022-12-29T10:24:13.017Z"
   },
   {
    "duration": 31,
    "start_time": "2022-12-29T10:24:13.158Z"
   },
   {
    "duration": 7,
    "start_time": "2022-12-29T10:24:13.191Z"
   },
   {
    "duration": 1792,
    "start_time": "2022-12-29T10:24:13.200Z"
   },
   {
    "duration": 46,
    "start_time": "2022-12-29T10:24:14.994Z"
   },
   {
    "duration": 206,
    "start_time": "2022-12-29T10:24:15.042Z"
   },
   {
    "duration": 267,
    "start_time": "2022-12-29T10:24:15.249Z"
   },
   {
    "duration": 10,
    "start_time": "2022-12-29T10:24:15.517Z"
   },
   {
    "duration": 32,
    "start_time": "2022-12-29T10:24:15.528Z"
   },
   {
    "duration": 323,
    "start_time": "2022-12-29T10:24:15.561Z"
   },
   {
    "duration": 186,
    "start_time": "2022-12-29T10:24:15.885Z"
   },
   {
    "duration": 14,
    "start_time": "2022-12-29T10:24:16.072Z"
   },
   {
    "duration": 1072,
    "start_time": "2022-12-29T10:24:16.088Z"
   },
   {
    "duration": 61,
    "start_time": "2022-12-29T10:24:17.162Z"
   },
   {
    "duration": 126,
    "start_time": "2022-12-29T10:24:17.225Z"
   },
   {
    "duration": 53,
    "start_time": "2022-12-29T10:24:17.355Z"
   },
   {
    "duration": 26,
    "start_time": "2022-12-29T10:24:17.410Z"
   },
   {
    "duration": 3,
    "start_time": "2022-12-29T10:24:17.437Z"
   },
   {
    "duration": 169840,
    "start_time": "2022-12-29T10:24:17.441Z"
   },
   {
    "duration": 636,
    "start_time": "2022-12-29T10:27:07.282Z"
   },
   {
    "duration": 2,
    "start_time": "2022-12-29T10:27:07.920Z"
   },
   {
    "duration": 8855,
    "start_time": "2022-12-29T10:27:07.924Z"
   },
   {
    "duration": 827,
    "start_time": "2022-12-29T10:27:16.781Z"
   },
   {
    "duration": 4,
    "start_time": "2022-12-29T10:27:17.613Z"
   },
   {
    "duration": 79,
    "start_time": "2022-12-29T10:27:17.619Z"
   },
   {
    "duration": 85,
    "start_time": "2022-12-29T10:27:17.700Z"
   },
   {
    "duration": 106,
    "start_time": "2022-12-29T10:27:17.787Z"
   },
   {
    "duration": 186557,
    "start_time": "2022-12-29T10:27:17.896Z"
   },
   {
    "duration": 781,
    "start_time": "2022-12-29T10:30:24.455Z"
   },
   {
    "duration": 4,
    "start_time": "2022-12-29T10:30:25.238Z"
   },
   {
    "duration": 6039,
    "start_time": "2022-12-29T10:30:25.244Z"
   },
   {
    "duration": 511,
    "start_time": "2022-12-29T10:30:31.285Z"
   },
   {
    "duration": 3,
    "start_time": "2022-12-29T10:30:31.798Z"
   },
   {
    "duration": 123,
    "start_time": "2022-12-29T10:30:31.802Z"
   },
   {
    "duration": 12,
    "start_time": "2022-12-29T10:30:31.978Z"
   },
   {
    "duration": 186,
    "start_time": "2022-12-29T10:30:31.994Z"
   },
   {
    "duration": 73,
    "start_time": "2022-12-29T10:30:32.181Z"
   },
   {
    "duration": 4,
    "start_time": "2022-12-29T10:38:17.670Z"
   },
   {
    "duration": 4,
    "start_time": "2022-12-29T10:39:46.533Z"
   },
   {
    "duration": 3,
    "start_time": "2022-12-29T10:39:54.325Z"
   },
   {
    "duration": 187,
    "start_time": "2022-12-29T10:39:57.786Z"
   },
   {
    "duration": 4,
    "start_time": "2022-12-29T10:40:33.751Z"
   },
   {
    "duration": 100,
    "start_time": "2022-12-29T10:40:48.036Z"
   },
   {
    "duration": 80,
    "start_time": "2022-12-29T10:41:08.398Z"
   },
   {
    "duration": 1065744,
    "start_time": "2022-12-29T10:42:16.342Z"
   },
   {
    "duration": 1931,
    "start_time": "2022-12-29T19:34:51.996Z"
   },
   {
    "duration": 15,
    "start_time": "2022-12-29T19:34:53.930Z"
   },
   {
    "duration": 4,
    "start_time": "2022-12-29T19:34:55.026Z"
   },
   {
    "duration": 1369,
    "start_time": "2022-12-29T19:34:55.595Z"
   },
   {
    "duration": 324,
    "start_time": "2022-12-29T19:34:58.812Z"
   },
   {
    "duration": 807,
    "start_time": "2022-12-29T19:35:00.650Z"
   },
   {
    "duration": 610,
    "start_time": "2022-12-29T19:35:02.424Z"
   },
   {
    "duration": 73,
    "start_time": "2022-12-29T19:35:03.695Z"
   },
   {
    "duration": 36,
    "start_time": "2022-12-29T19:35:09.200Z"
   },
   {
    "duration": 84,
    "start_time": "2022-12-29T19:35:11.325Z"
   },
   {
    "duration": 230,
    "start_time": "2022-12-29T19:35:12.911Z"
   },
   {
    "duration": 1756,
    "start_time": "2022-12-29T19:35:14.449Z"
   },
   {
    "duration": 148,
    "start_time": "2022-12-29T19:35:17.815Z"
   },
   {
    "duration": 39,
    "start_time": "2022-12-29T19:35:19.534Z"
   },
   {
    "duration": 11,
    "start_time": "2022-12-29T19:35:22.119Z"
   },
   {
    "duration": 2081,
    "start_time": "2022-12-29T19:35:23.328Z"
   },
   {
    "duration": 51,
    "start_time": "2022-12-29T19:35:25.411Z"
   },
   {
    "duration": 142,
    "start_time": "2022-12-29T19:36:23.759Z"
   },
   {
    "duration": 759,
    "start_time": "2022-12-29T19:36:40.077Z"
   },
   {
    "duration": 20,
    "start_time": "2022-12-29T19:37:01.347Z"
   },
   {
    "duration": 171,
    "start_time": "2022-12-29T19:39:21.811Z"
   },
   {
    "duration": 31,
    "start_time": "2022-12-29T19:42:10.431Z"
   },
   {
    "duration": 17,
    "start_time": "2022-12-29T19:42:18.290Z"
   },
   {
    "duration": 7,
    "start_time": "2022-12-29T19:42:31.206Z"
   },
   {
    "duration": 13,
    "start_time": "2022-12-29T19:44:01.133Z"
   },
   {
    "duration": 424,
    "start_time": "2022-12-29T19:44:09.809Z"
   },
   {
    "duration": 13,
    "start_time": "2022-12-29T19:44:33.960Z"
   },
   {
    "duration": 8,
    "start_time": "2022-12-29T19:45:33.549Z"
   },
   {
    "duration": 9,
    "start_time": "2022-12-29T19:45:41.808Z"
   },
   {
    "duration": 23,
    "start_time": "2022-12-29T19:53:21.781Z"
   },
   {
    "duration": 722,
    "start_time": "2022-12-29T19:54:22.215Z"
   },
   {
    "duration": 20,
    "start_time": "2022-12-29T19:54:29.670Z"
   },
   {
    "duration": 753,
    "start_time": "2022-12-29T19:54:34.082Z"
   },
   {
    "duration": 8,
    "start_time": "2022-12-29T19:54:47.682Z"
   },
   {
    "duration": 7,
    "start_time": "2022-12-29T19:54:58.301Z"
   },
   {
    "duration": 772,
    "start_time": "2022-12-29T19:55:23.448Z"
   },
   {
    "duration": 32,
    "start_time": "2022-12-29T19:55:37.661Z"
   },
   {
    "duration": 10,
    "start_time": "2022-12-29T19:55:50.756Z"
   },
   {
    "duration": 1681,
    "start_time": "2022-12-29T19:56:59.509Z"
   },
   {
    "duration": 17,
    "start_time": "2022-12-29T19:57:01.192Z"
   },
   {
    "duration": 30,
    "start_time": "2022-12-29T19:57:01.213Z"
   },
   {
    "duration": 937,
    "start_time": "2022-12-29T19:57:01.247Z"
   },
   {
    "duration": 268,
    "start_time": "2022-12-29T19:57:02.186Z"
   },
   {
    "duration": 415,
    "start_time": "2022-12-29T19:57:02.456Z"
   },
   {
    "duration": 473,
    "start_time": "2022-12-29T19:57:02.878Z"
   },
   {
    "duration": 56,
    "start_time": "2022-12-29T19:57:03.353Z"
   },
   {
    "duration": 32,
    "start_time": "2022-12-29T19:57:03.411Z"
   },
   {
    "duration": 64,
    "start_time": "2022-12-29T19:57:03.446Z"
   },
   {
    "duration": 202,
    "start_time": "2022-12-29T19:57:03.511Z"
   },
   {
    "duration": 1682,
    "start_time": "2022-12-29T19:57:03.715Z"
   },
   {
    "duration": 19,
    "start_time": "2022-12-29T19:57:05.399Z"
   },
   {
    "duration": 10,
    "start_time": "2022-12-29T19:57:05.420Z"
   },
   {
    "duration": 154,
    "start_time": "2022-12-29T19:57:05.432Z"
   },
   {
    "duration": 29,
    "start_time": "2022-12-29T19:57:05.588Z"
   },
   {
    "duration": 8,
    "start_time": "2022-12-29T19:57:05.619Z"
   },
   {
    "duration": 2139,
    "start_time": "2022-12-29T19:57:05.629Z"
   },
   {
    "duration": 59,
    "start_time": "2022-12-29T19:57:07.770Z"
   },
   {
    "duration": 253,
    "start_time": "2022-12-29T19:57:07.831Z"
   },
   {
    "duration": 398,
    "start_time": "2022-12-29T19:57:08.086Z"
   },
   {
    "duration": 22,
    "start_time": "2022-12-29T19:57:08.486Z"
   },
   {
    "duration": 206,
    "start_time": "2022-12-29T19:57:08.510Z"
   },
   {
    "duration": 10,
    "start_time": "2022-12-29T19:57:08.722Z"
   },
   {
    "duration": 18,
    "start_time": "2022-12-29T19:57:08.734Z"
   },
   {
    "duration": 56,
    "start_time": "2022-12-29T19:57:08.754Z"
   },
   {
    "duration": 366,
    "start_time": "2022-12-29T19:57:08.813Z"
   },
   {
    "duration": 198,
    "start_time": "2022-12-29T19:57:09.184Z"
   },
   {
    "duration": 23,
    "start_time": "2022-12-29T19:57:09.384Z"
   },
   {
    "duration": 1223,
    "start_time": "2022-12-29T19:57:09.409Z"
   },
   {
    "duration": 66,
    "start_time": "2022-12-29T19:57:10.635Z"
   },
   {
    "duration": 142,
    "start_time": "2022-12-29T19:57:10.704Z"
   },
   {
    "duration": 56,
    "start_time": "2022-12-29T19:57:10.848Z"
   },
   {
    "duration": 28,
    "start_time": "2022-12-29T19:57:10.906Z"
   },
   {
    "duration": 19,
    "start_time": "2022-12-29T19:57:10.936Z"
   },
   {
    "duration": 164425,
    "start_time": "2022-12-29T19:57:10.957Z"
   },
   {
    "duration": 1397,
    "start_time": "2022-12-29T19:59:55.384Z"
   },
   {
    "duration": 3,
    "start_time": "2022-12-29T19:59:56.784Z"
   },
   {
    "duration": 340600,
    "start_time": "2022-12-29T19:59:56.789Z"
   },
   {
    "duration": 1092,
    "start_time": "2022-12-29T20:05:37.391Z"
   },
   {
    "duration": 4,
    "start_time": "2022-12-29T20:05:38.485Z"
   },
   {
    "duration": 103,
    "start_time": "2022-12-29T20:05:38.491Z"
   },
   {
    "duration": 182,
    "start_time": "2022-12-29T20:05:38.596Z"
   },
   {
    "duration": 7,
    "start_time": "2022-12-29T20:05:38.781Z"
   },
   {
    "duration": 1508,
    "start_time": "2022-12-29T20:23:49.377Z"
   },
   {
    "duration": 12,
    "start_time": "2022-12-29T20:23:50.887Z"
   },
   {
    "duration": 50,
    "start_time": "2022-12-29T20:23:50.901Z"
   },
   {
    "duration": 869,
    "start_time": "2022-12-29T20:23:50.954Z"
   },
   {
    "duration": 243,
    "start_time": "2022-12-29T20:23:51.825Z"
   },
   {
    "duration": 448,
    "start_time": "2022-12-29T20:23:52.070Z"
   },
   {
    "duration": 473,
    "start_time": "2022-12-29T20:23:52.520Z"
   },
   {
    "duration": 49,
    "start_time": "2022-12-29T20:23:52.994Z"
   },
   {
    "duration": 37,
    "start_time": "2022-12-29T20:23:53.045Z"
   },
   {
    "duration": 49,
    "start_time": "2022-12-29T20:23:53.086Z"
   },
   {
    "duration": 210,
    "start_time": "2022-12-29T20:23:53.137Z"
   },
   {
    "duration": 1586,
    "start_time": "2022-12-29T20:23:53.349Z"
   },
   {
    "duration": 19,
    "start_time": "2022-12-29T20:23:54.937Z"
   },
   {
    "duration": 24,
    "start_time": "2022-12-29T20:23:54.958Z"
   },
   {
    "duration": 138,
    "start_time": "2022-12-29T20:23:54.985Z"
   },
   {
    "duration": 29,
    "start_time": "2022-12-29T20:23:55.125Z"
   },
   {
    "duration": 26,
    "start_time": "2022-12-29T20:23:55.156Z"
   },
   {
    "duration": 1940,
    "start_time": "2022-12-29T20:23:55.184Z"
   },
   {
    "duration": 58,
    "start_time": "2022-12-29T20:23:57.127Z"
   },
   {
    "duration": 245,
    "start_time": "2022-12-29T20:23:57.187Z"
   },
   {
    "duration": 338,
    "start_time": "2022-12-29T20:23:57.434Z"
   },
   {
    "duration": 19,
    "start_time": "2022-12-29T20:23:57.774Z"
   },
   {
    "duration": 175,
    "start_time": "2022-12-29T20:23:57.795Z"
   },
   {
    "duration": 8,
    "start_time": "2022-12-29T20:23:57.976Z"
   },
   {
    "duration": 20,
    "start_time": "2022-12-29T20:23:57.986Z"
   },
   {
    "duration": 49,
    "start_time": "2022-12-29T20:23:58.008Z"
   },
   {
    "duration": 459,
    "start_time": "2022-12-29T20:23:58.059Z"
   },
   {
    "duration": 200,
    "start_time": "2022-12-29T20:23:58.522Z"
   },
   {
    "duration": 11,
    "start_time": "2022-12-29T20:23:58.724Z"
   },
   {
    "duration": 1159,
    "start_time": "2022-12-29T20:23:58.737Z"
   },
   {
    "duration": 79,
    "start_time": "2022-12-29T20:23:59.899Z"
   },
   {
    "duration": 145,
    "start_time": "2022-12-29T20:23:59.980Z"
   },
   {
    "duration": 49,
    "start_time": "2022-12-29T20:24:00.128Z"
   },
   {
    "duration": 25,
    "start_time": "2022-12-29T20:24:00.180Z"
   },
   {
    "duration": 4,
    "start_time": "2022-12-29T20:24:00.207Z"
   },
   {
    "duration": 159454,
    "start_time": "2022-12-29T20:24:00.212Z"
   },
   {
    "duration": 1412,
    "start_time": "2022-12-29T20:26:39.668Z"
   },
   {
    "duration": 3,
    "start_time": "2022-12-29T20:26:41.082Z"
   },
   {
    "duration": 286694,
    "start_time": "2022-12-29T20:26:41.087Z"
   },
   {
    "duration": 914,
    "start_time": "2022-12-29T20:31:27.783Z"
   },
   {
    "duration": 3,
    "start_time": "2022-12-29T20:31:28.699Z"
   },
   {
    "duration": 103,
    "start_time": "2022-12-29T20:31:28.704Z"
   },
   {
    "duration": 78,
    "start_time": "2022-12-29T20:31:28.809Z"
   },
   {
    "duration": 98,
    "start_time": "2022-12-29T20:31:28.889Z"
   },
   {
    "duration": 647295,
    "start_time": "2022-12-29T20:31:28.990Z"
   },
   {
    "duration": 122,
    "start_time": "2022-12-29T20:42:16.287Z"
   },
   {
    "duration": 0,
    "start_time": "2022-12-29T20:42:16.411Z"
   },
   {
    "duration": 0,
    "start_time": "2022-12-29T20:42:16.412Z"
   },
   {
    "duration": 0,
    "start_time": "2022-12-29T20:42:16.414Z"
   },
   {
    "duration": 0,
    "start_time": "2022-12-29T20:42:16.415Z"
   },
   {
    "duration": 0,
    "start_time": "2022-12-29T20:42:16.416Z"
   },
   {
    "duration": 0,
    "start_time": "2022-12-29T20:42:16.418Z"
   },
   {
    "duration": 0,
    "start_time": "2022-12-29T20:42:16.418Z"
   },
   {
    "duration": 0,
    "start_time": "2022-12-29T20:42:16.420Z"
   },
   {
    "duration": 2067,
    "start_time": "2023-01-02T17:01:48.793Z"
   },
   {
    "duration": 14,
    "start_time": "2023-01-02T17:01:50.862Z"
   },
   {
    "duration": 12,
    "start_time": "2023-01-02T17:01:50.878Z"
   },
   {
    "duration": 3256,
    "start_time": "2023-01-02T17:01:50.892Z"
   },
   {
    "duration": 293,
    "start_time": "2023-01-02T17:01:54.150Z"
   },
   {
    "duration": 500,
    "start_time": "2023-01-02T17:01:54.445Z"
   },
   {
    "duration": 510,
    "start_time": "2023-01-02T17:01:54.947Z"
   },
   {
    "duration": 51,
    "start_time": "2023-01-02T17:01:55.459Z"
   },
   {
    "duration": 46,
    "start_time": "2023-01-02T17:01:55.512Z"
   },
   {
    "duration": 48,
    "start_time": "2023-01-02T17:01:55.562Z"
   },
   {
    "duration": 257,
    "start_time": "2023-01-02T17:01:55.612Z"
   },
   {
    "duration": 1633,
    "start_time": "2023-01-02T17:01:55.871Z"
   },
   {
    "duration": 22,
    "start_time": "2023-01-02T17:01:57.506Z"
   },
   {
    "duration": 28,
    "start_time": "2023-01-02T17:01:57.530Z"
   },
   {
    "duration": 11,
    "start_time": "2023-01-02T17:01:57.560Z"
   },
   {
    "duration": 142,
    "start_time": "2023-01-02T17:01:57.573Z"
   },
   {
    "duration": 39,
    "start_time": "2023-01-02T17:01:57.717Z"
   },
   {
    "duration": 8,
    "start_time": "2023-01-02T17:01:57.757Z"
   },
   {
    "duration": 2061,
    "start_time": "2023-01-02T17:01:57.766Z"
   },
   {
    "duration": 72,
    "start_time": "2023-01-02T17:01:59.830Z"
   },
   {
    "duration": 287,
    "start_time": "2023-01-02T17:01:59.905Z"
   },
   {
    "duration": 357,
    "start_time": "2023-01-02T17:02:00.194Z"
   },
   {
    "duration": 18,
    "start_time": "2023-01-02T17:02:00.553Z"
   },
   {
    "duration": 181,
    "start_time": "2023-01-02T17:02:00.572Z"
   },
   {
    "duration": 8,
    "start_time": "2023-01-02T17:02:00.755Z"
   },
   {
    "duration": 43,
    "start_time": "2023-01-02T17:02:00.764Z"
   },
   {
    "duration": 45,
    "start_time": "2023-01-02T17:02:00.809Z"
   },
   {
    "duration": 359,
    "start_time": "2023-01-02T17:02:00.859Z"
   },
   {
    "duration": 196,
    "start_time": "2023-01-02T17:02:01.221Z"
   },
   {
    "duration": 13,
    "start_time": "2023-01-02T17:02:01.419Z"
   },
   {
    "duration": 1243,
    "start_time": "2023-01-02T17:02:01.434Z"
   },
   {
    "duration": 69,
    "start_time": "2023-01-02T17:02:02.679Z"
   },
   {
    "duration": 157,
    "start_time": "2023-01-02T17:02:02.750Z"
   },
   {
    "duration": 54,
    "start_time": "2023-01-02T17:02:02.909Z"
   },
   {
    "duration": 27,
    "start_time": "2023-01-02T17:02:02.965Z"
   },
   {
    "duration": 4,
    "start_time": "2023-01-02T17:02:02.994Z"
   },
   {
    "duration": 163392,
    "start_time": "2023-01-02T17:02:03.000Z"
   },
   {
    "duration": 1456,
    "start_time": "2023-01-02T17:04:46.394Z"
   },
   {
    "duration": 3,
    "start_time": "2023-01-02T17:04:47.852Z"
   },
   {
    "duration": 179196,
    "start_time": "2023-01-02T17:04:47.857Z"
   },
   {
    "duration": 998,
    "start_time": "2023-01-02T17:07:47.055Z"
   },
   {
    "duration": 3,
    "start_time": "2023-01-02T17:07:48.055Z"
   },
   {
    "duration": 192,
    "start_time": "2023-01-02T17:07:48.059Z"
   },
   {
    "duration": 97,
    "start_time": "2023-01-02T17:07:48.254Z"
   },
   {
    "duration": 109,
    "start_time": "2023-01-02T17:07:48.355Z"
   },
   {
    "duration": 220,
    "start_time": "2023-01-02T17:07:48.466Z"
   },
   {
    "duration": 3,
    "start_time": "2023-01-02T17:07:48.687Z"
   },
   {
    "duration": 25,
    "start_time": "2023-01-02T17:07:48.691Z"
   },
   {
    "duration": 6440,
    "start_time": "2023-01-02T17:07:48.718Z"
   },
   {
    "duration": 618,
    "start_time": "2023-01-02T17:07:55.160Z"
   },
   {
    "duration": 3,
    "start_time": "2023-01-02T17:07:55.851Z"
   },
   {
    "duration": 95,
    "start_time": "2023-01-02T17:07:55.856Z"
   },
   {
    "duration": 98,
    "start_time": "2023-01-02T17:07:55.953Z"
   },
   {
    "duration": 105,
    "start_time": "2023-01-02T17:07:56.054Z"
   },
   {
    "duration": 0,
    "start_time": "2023-01-02T17:07:56.160Z"
   },
   {
    "duration": 3,
    "start_time": "2023-01-02T17:29:22.423Z"
   },
   {
    "duration": 79,
    "start_time": "2023-01-02T17:29:26.693Z"
   },
   {
    "duration": 4,
    "start_time": "2023-01-02T17:31:13.157Z"
   },
   {
    "duration": 89,
    "start_time": "2023-01-02T17:31:14.141Z"
   },
   {
    "duration": 4,
    "start_time": "2023-01-02T17:31:21.158Z"
   },
   {
    "duration": 680122,
    "start_time": "2023-01-02T17:31:34.736Z"
   },
   {
    "duration": 4,
    "start_time": "2023-01-02T17:50:16.922Z"
   },
   {
    "duration": 106,
    "start_time": "2023-01-02T17:50:18.713Z"
   },
   {
    "duration": 1581,
    "start_time": "2023-01-05T08:29:09.914Z"
   },
   {
    "duration": 12,
    "start_time": "2023-01-05T08:29:11.707Z"
   },
   {
    "duration": 2,
    "start_time": "2023-01-05T08:29:12.218Z"
   },
   {
    "duration": 998,
    "start_time": "2023-01-05T08:29:12.566Z"
   },
   {
    "duration": 221,
    "start_time": "2023-01-05T08:29:13.566Z"
   },
   {
    "duration": 435,
    "start_time": "2023-01-05T08:29:13.850Z"
   },
   {
    "duration": 426,
    "start_time": "2023-01-05T08:29:14.697Z"
   },
   {
    "duration": 43,
    "start_time": "2023-01-05T08:29:15.125Z"
   },
   {
    "duration": 25,
    "start_time": "2023-01-05T08:29:15.778Z"
   },
   {
    "duration": 46,
    "start_time": "2023-01-05T08:29:16.128Z"
   },
   {
    "duration": 184,
    "start_time": "2023-01-05T08:29:16.577Z"
   },
   {
    "duration": 1515,
    "start_time": "2023-01-05T08:29:16.912Z"
   },
   {
    "duration": 16,
    "start_time": "2023-01-05T08:29:20.499Z"
   },
   {
    "duration": 9,
    "start_time": "2023-01-05T08:29:22.344Z"
   },
   {
    "duration": 16,
    "start_time": "2023-01-05T08:30:13.311Z"
   },
   {
    "duration": 8,
    "start_time": "2023-01-05T08:30:14.481Z"
   },
   {
    "duration": 9,
    "start_time": "2023-01-05T08:30:15.101Z"
   },
   {
    "duration": 123,
    "start_time": "2023-01-05T08:30:15.809Z"
   },
   {
    "duration": 25,
    "start_time": "2023-01-05T08:30:16.538Z"
   },
   {
    "duration": 23,
    "start_time": "2023-01-05T08:30:42.135Z"
   },
   {
    "duration": 8,
    "start_time": "2023-01-05T08:31:06.694Z"
   },
   {
    "duration": 1724,
    "start_time": "2023-01-05T08:31:07.770Z"
   },
   {
    "duration": 57,
    "start_time": "2023-01-05T08:31:09.497Z"
   },
   {
    "duration": 248,
    "start_time": "2023-01-05T08:31:09.556Z"
   },
   {
    "duration": 295,
    "start_time": "2023-01-05T08:31:19.906Z"
   },
   {
    "duration": 15,
    "start_time": "2023-01-05T08:31:25.594Z"
   },
   {
    "duration": 139,
    "start_time": "2023-01-05T08:31:26.147Z"
   },
   {
    "duration": 7,
    "start_time": "2023-01-05T08:31:26.546Z"
   },
   {
    "duration": 14,
    "start_time": "2023-01-05T08:31:28.718Z"
   },
   {
    "duration": 865,
    "start_time": "2023-01-05T08:31:58.515Z"
   },
   {
    "duration": 15,
    "start_time": "2023-01-05T08:32:14.282Z"
   },
   {
    "duration": 209,
    "start_time": "2023-01-05T08:32:59.956Z"
   },
   {
    "duration": 49,
    "start_time": "2023-01-05T08:33:39.380Z"
   },
   {
    "duration": 201,
    "start_time": "2023-01-05T08:33:44.483Z"
   },
   {
    "duration": 8,
    "start_time": "2023-01-05T08:37:45.739Z"
   },
   {
    "duration": 5,
    "start_time": "2023-01-05T08:37:50.223Z"
   },
   {
    "duration": 6,
    "start_time": "2023-01-05T08:38:04.373Z"
   },
   {
    "duration": 8,
    "start_time": "2023-01-05T08:40:00.117Z"
   },
   {
    "duration": 1377,
    "start_time": "2023-01-05T10:30:56.255Z"
   },
   {
    "duration": 13,
    "start_time": "2023-01-05T10:30:57.634Z"
   },
   {
    "duration": 8,
    "start_time": "2023-01-05T10:30:57.649Z"
   },
   {
    "duration": 800,
    "start_time": "2023-01-05T10:30:57.659Z"
   },
   {
    "duration": 225,
    "start_time": "2023-01-05T10:30:58.461Z"
   },
   {
    "duration": 447,
    "start_time": "2023-01-05T10:30:58.688Z"
   },
   {
    "duration": 424,
    "start_time": "2023-01-05T10:30:59.137Z"
   },
   {
    "duration": 53,
    "start_time": "2023-01-05T10:30:59.563Z"
   },
   {
    "duration": 25,
    "start_time": "2023-01-05T10:30:59.617Z"
   },
   {
    "duration": 47,
    "start_time": "2023-01-05T10:30:59.645Z"
   },
   {
    "duration": 234,
    "start_time": "2023-01-05T10:30:59.694Z"
   },
   {
    "duration": 1539,
    "start_time": "2023-01-05T10:30:59.929Z"
   },
   {
    "duration": 16,
    "start_time": "2023-01-05T10:31:01.470Z"
   },
   {
    "duration": 17,
    "start_time": "2023-01-05T10:31:01.488Z"
   },
   {
    "duration": 19,
    "start_time": "2023-01-05T10:31:01.507Z"
   },
   {
    "duration": 130,
    "start_time": "2023-01-05T10:31:01.528Z"
   },
   {
    "duration": 33,
    "start_time": "2023-01-05T10:31:01.661Z"
   },
   {
    "duration": 20,
    "start_time": "2023-01-05T10:31:01.696Z"
   },
   {
    "duration": 1825,
    "start_time": "2023-01-05T10:31:01.718Z"
   },
   {
    "duration": 50,
    "start_time": "2023-01-05T10:31:03.545Z"
   },
   {
    "duration": 258,
    "start_time": "2023-01-05T10:31:03.597Z"
   },
   {
    "duration": 313,
    "start_time": "2023-01-05T10:31:03.857Z"
   },
   {
    "duration": 13,
    "start_time": "2023-01-05T10:31:04.172Z"
   },
   {
    "duration": 117,
    "start_time": "2023-01-05T10:31:04.187Z"
   },
   {
    "duration": 14,
    "start_time": "2023-01-05T10:31:04.306Z"
   },
   {
    "duration": 17,
    "start_time": "2023-01-05T10:31:04.322Z"
   },
   {
    "duration": 18,
    "start_time": "2023-01-05T10:31:04.341Z"
   },
   {
    "duration": 12,
    "start_time": "2023-01-05T10:31:04.364Z"
   },
   {
    "duration": 25,
    "start_time": "2023-01-05T10:31:04.378Z"
   },
   {
    "duration": 324,
    "start_time": "2023-01-05T10:31:04.416Z"
   },
   {
    "duration": 172,
    "start_time": "2023-01-05T10:31:04.742Z"
   },
   {
    "duration": 9,
    "start_time": "2023-01-05T10:31:04.916Z"
   },
   {
    "duration": 1049,
    "start_time": "2023-01-05T10:31:04.927Z"
   },
   {
    "duration": 47,
    "start_time": "2023-01-05T10:31:05.977Z"
   },
   {
    "duration": 124,
    "start_time": "2023-01-05T10:31:06.026Z"
   },
   {
    "duration": 39,
    "start_time": "2023-01-05T10:31:06.151Z"
   },
   {
    "duration": 44,
    "start_time": "2023-01-05T10:31:06.192Z"
   },
   {
    "duration": 8,
    "start_time": "2023-01-05T10:31:06.238Z"
   },
   {
    "duration": 142825,
    "start_time": "2023-01-05T10:31:06.248Z"
   },
   {
    "duration": 1255,
    "start_time": "2023-01-05T10:33:29.074Z"
   },
   {
    "duration": 3,
    "start_time": "2023-01-05T10:33:30.331Z"
   },
   {
    "duration": 321295,
    "start_time": "2023-01-05T10:33:30.335Z"
   },
   {
    "duration": 984,
    "start_time": "2023-01-05T10:38:51.632Z"
   },
   {
    "duration": 3,
    "start_time": "2023-01-05T10:38:52.617Z"
   },
   {
    "duration": 97,
    "start_time": "2023-01-05T10:38:52.622Z"
   },
   {
    "duration": 105,
    "start_time": "2023-01-05T10:38:52.721Z"
   },
   {
    "duration": 3,
    "start_time": "2023-01-05T10:38:52.828Z"
   },
   {
    "duration": 239,
    "start_time": "2023-01-05T10:38:52.916Z"
   },
   {
    "duration": 3,
    "start_time": "2023-01-05T10:38:53.157Z"
   },
   {
    "duration": 5,
    "start_time": "2023-01-05T10:38:53.161Z"
   },
   {
    "duration": 1400,
    "start_time": "2023-01-05T10:43:07.132Z"
   },
   {
    "duration": 18,
    "start_time": "2023-01-05T10:43:08.535Z"
   },
   {
    "duration": 9,
    "start_time": "2023-01-05T10:43:08.554Z"
   },
   {
    "duration": 773,
    "start_time": "2023-01-05T10:43:08.565Z"
   },
   {
    "duration": 266,
    "start_time": "2023-01-05T10:43:09.340Z"
   },
   {
    "duration": 438,
    "start_time": "2023-01-05T10:43:09.607Z"
   },
   {
    "duration": 469,
    "start_time": "2023-01-05T10:43:10.047Z"
   },
   {
    "duration": 48,
    "start_time": "2023-01-05T10:43:10.519Z"
   },
   {
    "duration": 46,
    "start_time": "2023-01-05T10:43:10.569Z"
   },
   {
    "duration": 76,
    "start_time": "2023-01-05T10:43:10.618Z"
   },
   {
    "duration": 209,
    "start_time": "2023-01-05T10:43:10.696Z"
   },
   {
    "duration": 1852,
    "start_time": "2023-01-05T10:43:10.907Z"
   },
   {
    "duration": 16,
    "start_time": "2023-01-05T10:43:12.760Z"
   },
   {
    "duration": 8,
    "start_time": "2023-01-05T10:43:12.778Z"
   },
   {
    "duration": 30,
    "start_time": "2023-01-05T10:43:12.788Z"
   },
   {
    "duration": 124,
    "start_time": "2023-01-05T10:43:12.820Z"
   },
   {
    "duration": 25,
    "start_time": "2023-01-05T10:43:12.946Z"
   },
   {
    "duration": 7,
    "start_time": "2023-01-05T10:43:12.972Z"
   },
   {
    "duration": 1873,
    "start_time": "2023-01-05T10:43:12.981Z"
   },
   {
    "duration": 50,
    "start_time": "2023-01-05T10:43:14.856Z"
   },
   {
    "duration": 259,
    "start_time": "2023-01-05T10:43:14.907Z"
   },
   {
    "duration": 304,
    "start_time": "2023-01-05T10:43:15.168Z"
   },
   {
    "duration": 17,
    "start_time": "2023-01-05T10:43:15.473Z"
   },
   {
    "duration": 138,
    "start_time": "2023-01-05T10:43:15.491Z"
   },
   {
    "duration": 7,
    "start_time": "2023-01-05T10:43:15.631Z"
   },
   {
    "duration": 7,
    "start_time": "2023-01-05T10:43:15.640Z"
   },
   {
    "duration": 10,
    "start_time": "2023-01-05T10:43:15.649Z"
   },
   {
    "duration": 15,
    "start_time": "2023-01-05T10:43:15.664Z"
   },
   {
    "duration": 72,
    "start_time": "2023-01-05T10:43:15.681Z"
   },
   {
    "duration": 310,
    "start_time": "2023-01-05T10:43:15.755Z"
   },
   {
    "duration": 205,
    "start_time": "2023-01-05T10:43:16.066Z"
   },
   {
    "duration": 15,
    "start_time": "2023-01-05T10:43:16.273Z"
   },
   {
    "duration": 1122,
    "start_time": "2023-01-05T10:43:16.290Z"
   },
   {
    "duration": 49,
    "start_time": "2023-01-05T10:43:17.413Z"
   },
   {
    "duration": 130,
    "start_time": "2023-01-05T10:43:17.463Z"
   },
   {
    "duration": 52,
    "start_time": "2023-01-05T10:43:17.595Z"
   },
   {
    "duration": 24,
    "start_time": "2023-01-05T10:43:17.649Z"
   },
   {
    "duration": 19,
    "start_time": "2023-01-05T10:43:17.675Z"
   },
   {
    "duration": 142948,
    "start_time": "2023-01-05T10:43:17.696Z"
   },
   {
    "duration": 1262,
    "start_time": "2023-01-05T10:45:40.646Z"
   },
   {
    "duration": 6,
    "start_time": "2023-01-05T10:45:41.910Z"
   },
   {
    "duration": 375207,
    "start_time": "2023-01-05T10:45:41.917Z"
   },
   {
    "duration": 931,
    "start_time": "2023-01-05T10:51:57.126Z"
   },
   {
    "duration": 3,
    "start_time": "2023-01-05T10:51:58.067Z"
   },
   {
    "duration": 144,
    "start_time": "2023-01-05T10:51:58.072Z"
   },
   {
    "duration": 98,
    "start_time": "2023-01-05T10:51:58.218Z"
   },
   {
    "duration": 98,
    "start_time": "2023-01-05T10:51:58.319Z"
   },
   {
    "duration": 1847,
    "start_time": "2023-01-06T09:28:14.616Z"
   },
   {
    "duration": 12,
    "start_time": "2023-01-06T09:28:16.466Z"
   },
   {
    "duration": 18,
    "start_time": "2023-01-06T09:28:16.480Z"
   },
   {
    "duration": 2951,
    "start_time": "2023-01-06T09:28:16.500Z"
   },
   {
    "duration": 197,
    "start_time": "2023-01-06T09:28:19.452Z"
   },
   {
    "duration": 354,
    "start_time": "2023-01-06T09:28:19.650Z"
   },
   {
    "duration": 403,
    "start_time": "2023-01-06T09:28:20.006Z"
   },
   {
    "duration": 121,
    "start_time": "2023-01-06T09:28:20.411Z"
   },
   {
    "duration": 22,
    "start_time": "2023-01-06T09:28:20.533Z"
   },
   {
    "duration": 36,
    "start_time": "2023-01-06T09:28:20.558Z"
   },
   {
    "duration": 163,
    "start_time": "2023-01-06T09:28:20.596Z"
   },
   {
    "duration": 1392,
    "start_time": "2023-01-06T09:28:20.761Z"
   },
   {
    "duration": 24,
    "start_time": "2023-01-06T09:28:22.155Z"
   },
   {
    "duration": 8,
    "start_time": "2023-01-06T09:28:22.180Z"
   },
   {
    "duration": 9,
    "start_time": "2023-01-06T09:28:22.189Z"
   },
   {
    "duration": 123,
    "start_time": "2023-01-06T09:28:22.199Z"
   },
   {
    "duration": 24,
    "start_time": "2023-01-06T09:28:22.324Z"
   },
   {
    "duration": 7,
    "start_time": "2023-01-06T09:28:22.349Z"
   },
   {
    "duration": 1775,
    "start_time": "2023-01-06T09:28:22.358Z"
   },
   {
    "duration": 48,
    "start_time": "2023-01-06T09:28:24.135Z"
   },
   {
    "duration": 211,
    "start_time": "2023-01-06T09:28:24.184Z"
   },
   {
    "duration": 283,
    "start_time": "2023-01-06T09:28:24.397Z"
   },
   {
    "duration": 15,
    "start_time": "2023-01-06T09:28:24.682Z"
   },
   {
    "duration": 124,
    "start_time": "2023-01-06T09:28:24.698Z"
   },
   {
    "duration": 6,
    "start_time": "2023-01-06T09:28:24.823Z"
   },
   {
    "duration": 13,
    "start_time": "2023-01-06T09:28:24.831Z"
   },
   {
    "duration": 27,
    "start_time": "2023-01-06T09:28:24.846Z"
   },
   {
    "duration": 9,
    "start_time": "2023-01-06T09:28:24.876Z"
   },
   {
    "duration": 34,
    "start_time": "2023-01-06T09:28:24.887Z"
   },
   {
    "duration": 306,
    "start_time": "2023-01-06T09:28:24.922Z"
   },
   {
    "duration": 165,
    "start_time": "2023-01-06T09:28:25.229Z"
   },
   {
    "duration": 10,
    "start_time": "2023-01-06T09:28:25.396Z"
   },
   {
    "duration": 1009,
    "start_time": "2023-01-06T09:28:25.407Z"
   },
   {
    "duration": 50,
    "start_time": "2023-01-06T09:28:26.417Z"
   },
   {
    "duration": 132,
    "start_time": "2023-01-06T09:28:26.469Z"
   },
   {
    "duration": 44,
    "start_time": "2023-01-06T09:28:26.603Z"
   },
   {
    "duration": 36,
    "start_time": "2023-01-06T09:28:26.649Z"
   },
   {
    "duration": 9,
    "start_time": "2023-01-06T09:28:26.687Z"
   },
   {
    "duration": 138379,
    "start_time": "2023-01-06T09:28:26.698Z"
   },
   {
    "duration": 1264,
    "start_time": "2023-01-06T09:30:45.079Z"
   },
   {
    "duration": 2,
    "start_time": "2023-01-06T09:30:46.345Z"
   },
   {
    "duration": 5433,
    "start_time": "2023-01-06T09:30:46.349Z"
   },
   {
    "duration": 905,
    "start_time": "2023-01-06T09:30:51.783Z"
   },
   {
    "duration": 2,
    "start_time": "2023-01-06T09:30:52.690Z"
   },
   {
    "duration": 186,
    "start_time": "2023-01-06T09:30:52.693Z"
   },
   {
    "duration": 12,
    "start_time": "2023-01-06T09:30:52.881Z"
   },
   {
    "duration": 9,
    "start_time": "2023-01-06T09:30:52.978Z"
   },
   {
    "duration": 2870533,
    "start_time": "2023-01-06T09:30:52.988Z"
   },
   {
    "duration": 91,
    "start_time": "2023-01-06T10:18:43.523Z"
   },
   {
    "duration": 0,
    "start_time": "2023-01-06T10:18:43.616Z"
   },
   {
    "duration": 0,
    "start_time": "2023-01-06T10:18:43.617Z"
   },
   {
    "duration": 0,
    "start_time": "2023-01-06T10:18:43.618Z"
   },
   {
    "duration": 0,
    "start_time": "2023-01-06T10:18:43.620Z"
   },
   {
    "duration": 0,
    "start_time": "2023-01-06T10:18:43.621Z"
   },
   {
    "duration": 0,
    "start_time": "2023-01-06T10:18:43.622Z"
   },
   {
    "duration": 0,
    "start_time": "2023-01-06T10:18:43.623Z"
   },
   {
    "duration": 0,
    "start_time": "2023-01-06T10:18:43.624Z"
   },
   {
    "duration": 1126,
    "start_time": "2023-01-06T10:57:48.799Z"
   },
   {
    "duration": 3,
    "start_time": "2023-01-06T10:57:53.196Z"
   },
   {
    "duration": 5070,
    "start_time": "2023-01-06T10:57:54.725Z"
   },
   {
    "duration": 456,
    "start_time": "2023-01-06T11:00:51.039Z"
   },
   {
    "duration": 3,
    "start_time": "2023-01-06T11:00:52.148Z"
   },
   {
    "duration": 47,
    "start_time": "2023-01-06T11:00:52.603Z"
   },
   {
    "duration": 96,
    "start_time": "2023-01-06T11:00:57.581Z"
   },
   {
    "duration": 3,
    "start_time": "2023-01-06T11:00:57.959Z"
   },
   {
    "duration": 50,
    "start_time": "2023-01-06T11:00:59.051Z"
   },
   {
    "duration": 109,
    "start_time": "2023-01-06T11:09:09.505Z"
   },
   {
    "duration": 9,
    "start_time": "2023-01-06T11:09:12.970Z"
   },
   {
    "duration": 8,
    "start_time": "2023-01-06T11:09:17.896Z"
   },
   {
    "duration": 9,
    "start_time": "2023-01-06T11:09:19.726Z"
   },
   {
    "duration": 2890005,
    "start_time": "2023-01-06T11:10:01.142Z"
   },
   {
    "duration": 3637,
    "start_time": "2023-01-06T12:24:46.886Z"
   },
   {
    "duration": 3132,
    "start_time": "2023-01-06T12:25:27.332Z"
   },
   {
    "duration": 17,
    "start_time": "2023-01-06T12:25:48.698Z"
   },
   {
    "duration": 1344,
    "start_time": "2023-01-06T12:26:47.098Z"
   },
   {
    "duration": 3071,
    "start_time": "2023-01-06T17:36:52.980Z"
   },
   {
    "duration": 702,
    "start_time": "2023-01-06T17:37:13.467Z"
   },
   {
    "duration": 5144,
    "start_time": "2023-01-06T17:37:27.540Z"
   },
   {
    "duration": 1574,
    "start_time": "2023-01-06T18:36:49.840Z"
   },
   {
    "duration": 12,
    "start_time": "2023-01-06T18:36:51.416Z"
   },
   {
    "duration": 14,
    "start_time": "2023-01-06T18:36:51.429Z"
   },
   {
    "duration": 1299,
    "start_time": "2023-01-06T18:36:51.446Z"
   },
   {
    "duration": 232,
    "start_time": "2023-01-06T18:36:52.747Z"
   },
   {
    "duration": 373,
    "start_time": "2023-01-06T18:36:52.981Z"
   },
   {
    "duration": 451,
    "start_time": "2023-01-06T18:36:53.356Z"
   },
   {
    "duration": 44,
    "start_time": "2023-01-06T18:36:53.809Z"
   },
   {
    "duration": 37,
    "start_time": "2023-01-06T18:36:53.855Z"
   },
   {
    "duration": 63,
    "start_time": "2023-01-06T18:36:53.895Z"
   },
   {
    "duration": 212,
    "start_time": "2023-01-06T18:36:53.960Z"
   },
   {
    "duration": 1421,
    "start_time": "2023-01-06T18:36:54.173Z"
   },
   {
    "duration": 18,
    "start_time": "2023-01-06T18:36:55.596Z"
   },
   {
    "duration": 10,
    "start_time": "2023-01-06T18:36:55.616Z"
   },
   {
    "duration": 10,
    "start_time": "2023-01-06T18:36:55.628Z"
   },
   {
    "duration": 161,
    "start_time": "2023-01-06T18:36:55.639Z"
   },
   {
    "duration": 26,
    "start_time": "2023-01-06T18:36:55.803Z"
   },
   {
    "duration": 7,
    "start_time": "2023-01-06T18:36:55.831Z"
   },
   {
    "duration": 1816,
    "start_time": "2023-01-06T18:36:55.840Z"
   },
   {
    "duration": 50,
    "start_time": "2023-01-06T18:36:57.658Z"
   },
   {
    "duration": 207,
    "start_time": "2023-01-06T18:36:57.710Z"
   },
   {
    "duration": 270,
    "start_time": "2023-01-06T18:36:57.919Z"
   },
   {
    "duration": 14,
    "start_time": "2023-01-06T18:36:58.191Z"
   },
   {
    "duration": 120,
    "start_time": "2023-01-06T18:36:58.207Z"
   },
   {
    "duration": 6,
    "start_time": "2023-01-06T18:36:58.328Z"
   },
   {
    "duration": 20,
    "start_time": "2023-01-06T18:36:58.336Z"
   },
   {
    "duration": 43,
    "start_time": "2023-01-06T18:36:58.357Z"
   },
   {
    "duration": 24,
    "start_time": "2023-01-06T18:36:58.404Z"
   },
   {
    "duration": 57,
    "start_time": "2023-01-06T18:36:58.430Z"
   },
   {
    "duration": 309,
    "start_time": "2023-01-06T18:36:58.489Z"
   },
   {
    "duration": 178,
    "start_time": "2023-01-06T18:36:58.800Z"
   },
   {
    "duration": 10,
    "start_time": "2023-01-06T18:36:58.979Z"
   },
   {
    "duration": 1050,
    "start_time": "2023-01-06T18:36:58.990Z"
   },
   {
    "duration": 51,
    "start_time": "2023-01-06T18:37:00.042Z"
   },
   {
    "duration": 137,
    "start_time": "2023-01-06T18:37:00.095Z"
   },
   {
    "duration": 48,
    "start_time": "2023-01-06T18:37:00.234Z"
   },
   {
    "duration": 24,
    "start_time": "2023-01-06T18:37:00.284Z"
   },
   {
    "duration": 3,
    "start_time": "2023-01-06T18:37:00.309Z"
   },
   {
    "duration": 173828,
    "start_time": "2023-01-06T18:37:00.313Z"
   },
   {
    "duration": 1805,
    "start_time": "2023-01-06T18:39:54.143Z"
   },
   {
    "duration": 2,
    "start_time": "2023-01-06T18:39:55.950Z"
   },
   {
    "duration": 4531,
    "start_time": "2023-01-06T18:39:55.953Z"
   },
   {
    "duration": 824,
    "start_time": "2023-01-06T18:40:00.485Z"
   },
   {
    "duration": 2,
    "start_time": "2023-01-06T18:40:01.311Z"
   },
   {
    "duration": 55,
    "start_time": "2023-01-06T18:40:01.377Z"
   },
   {
    "duration": 99,
    "start_time": "2023-01-06T18:40:01.479Z"
   },
   {
    "duration": 98,
    "start_time": "2023-01-06T18:40:01.580Z"
   },
   {
    "duration": 1995,
    "start_time": "2023-01-06T19:37:33.836Z"
   },
   {
    "duration": 20,
    "start_time": "2023-01-06T19:37:35.834Z"
   },
   {
    "duration": 18,
    "start_time": "2023-01-06T19:37:35.856Z"
   },
   {
    "duration": 1272,
    "start_time": "2023-01-06T19:37:35.876Z"
   },
   {
    "duration": 261,
    "start_time": "2023-01-06T19:37:37.150Z"
   },
   {
    "duration": 515,
    "start_time": "2023-01-06T19:37:37.413Z"
   },
   {
    "duration": 472,
    "start_time": "2023-01-06T19:37:37.935Z"
   },
   {
    "duration": 53,
    "start_time": "2023-01-06T19:37:38.409Z"
   },
   {
    "duration": 15,
    "start_time": "2023-01-06T19:37:38.464Z"
   },
   {
    "duration": 38,
    "start_time": "2023-01-06T19:37:38.482Z"
   },
   {
    "duration": 241,
    "start_time": "2023-01-06T19:37:38.522Z"
   },
   {
    "duration": 1702,
    "start_time": "2023-01-06T19:37:38.765Z"
   },
   {
    "duration": 19,
    "start_time": "2023-01-06T19:37:40.468Z"
   },
   {
    "duration": 9,
    "start_time": "2023-01-06T19:37:40.488Z"
   },
   {
    "duration": 8,
    "start_time": "2023-01-06T19:37:40.498Z"
   },
   {
    "duration": 140,
    "start_time": "2023-01-06T19:37:40.535Z"
   },
   {
    "duration": 26,
    "start_time": "2023-01-06T19:37:40.676Z"
   },
   {
    "duration": 7,
    "start_time": "2023-01-06T19:37:40.703Z"
   },
   {
    "duration": 2087,
    "start_time": "2023-01-06T19:37:40.712Z"
   },
   {
    "duration": 68,
    "start_time": "2023-01-06T19:37:42.801Z"
   },
   {
    "duration": 288,
    "start_time": "2023-01-06T19:37:42.870Z"
   },
   {
    "duration": 341,
    "start_time": "2023-01-06T19:37:43.159Z"
   },
   {
    "duration": 15,
    "start_time": "2023-01-06T19:37:43.502Z"
   },
   {
    "duration": 171,
    "start_time": "2023-01-06T19:37:43.519Z"
   },
   {
    "duration": 7,
    "start_time": "2023-01-06T19:37:43.692Z"
   },
   {
    "duration": 23,
    "start_time": "2023-01-06T19:37:43.701Z"
   },
   {
    "duration": 17,
    "start_time": "2023-01-06T19:37:43.726Z"
   },
   {
    "duration": 31,
    "start_time": "2023-01-06T19:37:43.749Z"
   },
   {
    "duration": 37,
    "start_time": "2023-01-06T19:37:43.782Z"
   },
   {
    "duration": 403,
    "start_time": "2023-01-06T19:37:43.821Z"
   },
   {
    "duration": 195,
    "start_time": "2023-01-06T19:37:44.226Z"
   },
   {
    "duration": 20,
    "start_time": "2023-01-06T19:37:44.423Z"
   },
   {
    "duration": 1205,
    "start_time": "2023-01-06T19:37:44.444Z"
   },
   {
    "duration": 51,
    "start_time": "2023-01-06T19:37:45.652Z"
   },
   {
    "duration": 149,
    "start_time": "2023-01-06T19:37:45.705Z"
   },
   {
    "duration": 40,
    "start_time": "2023-01-06T19:37:45.856Z"
   },
   {
    "duration": 49,
    "start_time": "2023-01-06T19:37:45.898Z"
   },
   {
    "duration": 3,
    "start_time": "2023-01-06T19:37:45.952Z"
   },
   {
    "duration": 200743,
    "start_time": "2023-01-06T19:37:45.957Z"
   },
   {
    "duration": 1982,
    "start_time": "2023-01-06T19:41:06.702Z"
   },
   {
    "duration": 3,
    "start_time": "2023-01-06T19:41:08.686Z"
   },
   {
    "duration": 352272,
    "start_time": "2023-01-06T19:41:08.690Z"
   },
   {
    "duration": 1004,
    "start_time": "2023-01-06T19:47:00.966Z"
   },
   {
    "duration": 3,
    "start_time": "2023-01-06T19:47:01.971Z"
   },
   {
    "duration": 170,
    "start_time": "2023-01-06T19:47:01.976Z"
   },
   {
    "duration": 95,
    "start_time": "2023-01-06T19:47:02.152Z"
   },
   {
    "duration": 113,
    "start_time": "2023-01-06T19:47:02.253Z"
   },
   {
    "duration": 4238273,
    "start_time": "2023-01-06T19:47:02.367Z"
   },
   {
    "duration": 4795,
    "start_time": "2023-01-06T20:57:40.645Z"
   },
   {
    "duration": 6,
    "start_time": "2023-01-06T20:57:45.442Z"
   },
   {
    "duration": 394521,
    "start_time": "2023-01-06T20:57:45.450Z"
   },
   {
    "duration": 674,
    "start_time": "2023-01-06T21:04:19.973Z"
   },
   {
    "duration": 4,
    "start_time": "2023-01-06T21:04:20.649Z"
   },
   {
    "duration": 94,
    "start_time": "2023-01-06T21:04:20.655Z"
   },
   {
    "duration": 186,
    "start_time": "2023-01-06T21:04:20.751Z"
   },
   {
    "duration": 47,
    "start_time": "2023-01-06T21:04:20.939Z"
   },
   {
    "duration": 83,
    "start_time": "2023-01-06T21:04:20.988Z"
   },
   {
    "duration": 2113,
    "start_time": "2023-01-07T00:32:32.309Z"
   },
   {
    "duration": 2027,
    "start_time": "2023-01-08T11:17:42.988Z"
   },
   {
    "duration": 22,
    "start_time": "2023-01-08T11:17:45.019Z"
   },
   {
    "duration": 22,
    "start_time": "2023-01-08T11:17:45.043Z"
   },
   {
    "duration": 3488,
    "start_time": "2023-01-08T11:17:45.068Z"
   },
   {
    "duration": 284,
    "start_time": "2023-01-08T11:17:48.558Z"
   },
   {
    "duration": 598,
    "start_time": "2023-01-08T11:17:48.844Z"
   },
   {
    "duration": 518,
    "start_time": "2023-01-08T11:17:49.445Z"
   },
   {
    "duration": 73,
    "start_time": "2023-01-08T11:17:49.965Z"
   },
   {
    "duration": 27,
    "start_time": "2023-01-08T11:17:50.041Z"
   },
   {
    "duration": 78,
    "start_time": "2023-01-08T11:17:50.072Z"
   },
   {
    "duration": 248,
    "start_time": "2023-01-08T11:17:50.151Z"
   },
   {
    "duration": 1810,
    "start_time": "2023-01-08T11:17:50.400Z"
   },
   {
    "duration": 23,
    "start_time": "2023-01-08T11:17:52.213Z"
   },
   {
    "duration": 17,
    "start_time": "2023-01-08T11:17:52.238Z"
   },
   {
    "duration": 12,
    "start_time": "2023-01-08T11:17:52.257Z"
   },
   {
    "duration": 192,
    "start_time": "2023-01-08T11:17:52.271Z"
   },
   {
    "duration": 41,
    "start_time": "2023-01-08T11:17:52.465Z"
   },
   {
    "duration": 10,
    "start_time": "2023-01-08T11:17:52.508Z"
   },
   {
    "duration": 2341,
    "start_time": "2023-01-08T11:17:52.520Z"
   },
   {
    "duration": 75,
    "start_time": "2023-01-08T11:17:54.865Z"
   },
   {
    "duration": 326,
    "start_time": "2023-01-08T11:17:54.942Z"
   },
   {
    "duration": 389,
    "start_time": "2023-01-08T11:17:55.270Z"
   },
   {
    "duration": 20,
    "start_time": "2023-01-08T11:17:55.660Z"
   },
   {
    "duration": 169,
    "start_time": "2023-01-08T11:17:55.682Z"
   },
   {
    "duration": 9,
    "start_time": "2023-01-08T11:17:55.853Z"
   },
   {
    "duration": 9,
    "start_time": "2023-01-08T11:17:55.864Z"
   },
   {
    "duration": 33,
    "start_time": "2023-01-08T11:17:55.875Z"
   },
   {
    "duration": 39,
    "start_time": "2023-01-08T11:17:55.913Z"
   },
   {
    "duration": 40,
    "start_time": "2023-01-08T11:17:55.954Z"
   },
   {
    "duration": 3,
    "start_time": "2023-01-08T11:17:55.996Z"
   },
   {
    "duration": 25,
    "start_time": "2023-01-08T11:17:56.001Z"
   },
   {
    "duration": 21,
    "start_time": "2023-01-08T11:17:56.029Z"
   },
   {
    "duration": 453,
    "start_time": "2023-01-08T11:17:56.052Z"
   },
   {
    "duration": 79,
    "start_time": "2023-01-08T11:17:56.507Z"
   },
   {
    "duration": 352,
    "start_time": "2023-01-08T11:17:56.588Z"
   },
   {
    "duration": 0,
    "start_time": "2023-01-08T11:17:56.943Z"
   },
   {
    "duration": 0,
    "start_time": "2023-01-08T11:17:56.945Z"
   },
   {
    "duration": 0,
    "start_time": "2023-01-08T11:17:56.948Z"
   },
   {
    "duration": 0,
    "start_time": "2023-01-08T11:17:56.950Z"
   },
   {
    "duration": 0,
    "start_time": "2023-01-08T11:17:56.952Z"
   },
   {
    "duration": 0,
    "start_time": "2023-01-08T11:17:56.953Z"
   },
   {
    "duration": 0,
    "start_time": "2023-01-08T11:17:56.955Z"
   },
   {
    "duration": 0,
    "start_time": "2023-01-08T11:17:56.959Z"
   },
   {
    "duration": 0,
    "start_time": "2023-01-08T11:17:56.960Z"
   },
   {
    "duration": 0,
    "start_time": "2023-01-08T11:17:56.961Z"
   },
   {
    "duration": 0,
    "start_time": "2023-01-08T11:17:56.962Z"
   },
   {
    "duration": 0,
    "start_time": "2023-01-08T11:17:56.963Z"
   },
   {
    "duration": 0,
    "start_time": "2023-01-08T11:17:56.965Z"
   },
   {
    "duration": 0,
    "start_time": "2023-01-08T11:17:56.966Z"
   },
   {
    "duration": 0,
    "start_time": "2023-01-08T11:17:56.968Z"
   },
   {
    "duration": 0,
    "start_time": "2023-01-08T11:17:56.970Z"
   },
   {
    "duration": 0,
    "start_time": "2023-01-08T11:17:56.971Z"
   },
   {
    "duration": 0,
    "start_time": "2023-01-08T11:17:57.005Z"
   },
   {
    "duration": 0,
    "start_time": "2023-01-08T11:17:57.006Z"
   },
   {
    "duration": 0,
    "start_time": "2023-01-08T11:17:57.007Z"
   },
   {
    "duration": 0,
    "start_time": "2023-01-08T11:17:57.009Z"
   },
   {
    "duration": 0,
    "start_time": "2023-01-08T11:17:57.010Z"
   },
   {
    "duration": 0,
    "start_time": "2023-01-08T11:17:57.012Z"
   },
   {
    "duration": 0,
    "start_time": "2023-01-08T11:17:57.013Z"
   },
   {
    "duration": 258,
    "start_time": "2023-01-08T11:18:37.334Z"
   },
   {
    "duration": 168,
    "start_time": "2023-01-08T11:19:03.563Z"
   },
   {
    "duration": 1651,
    "start_time": "2023-01-08T11:19:11.383Z"
   },
   {
    "duration": 11,
    "start_time": "2023-01-08T11:19:13.036Z"
   },
   {
    "duration": 28,
    "start_time": "2023-01-08T11:19:13.049Z"
   },
   {
    "duration": 912,
    "start_time": "2023-01-08T11:19:13.079Z"
   },
   {
    "duration": 271,
    "start_time": "2023-01-08T11:19:13.993Z"
   },
   {
    "duration": 541,
    "start_time": "2023-01-08T11:19:14.266Z"
   },
   {
    "duration": 488,
    "start_time": "2023-01-08T11:19:14.809Z"
   },
   {
    "duration": 55,
    "start_time": "2023-01-08T11:19:15.299Z"
   },
   {
    "duration": 24,
    "start_time": "2023-01-08T11:19:15.356Z"
   },
   {
    "duration": 64,
    "start_time": "2023-01-08T11:19:15.382Z"
   },
   {
    "duration": 252,
    "start_time": "2023-01-08T11:19:15.448Z"
   },
   {
    "duration": 1872,
    "start_time": "2023-01-08T11:19:15.706Z"
   },
   {
    "duration": 30,
    "start_time": "2023-01-08T11:19:17.580Z"
   },
   {
    "duration": 12,
    "start_time": "2023-01-08T11:19:17.612Z"
   },
   {
    "duration": 39,
    "start_time": "2023-01-08T11:19:17.626Z"
   },
   {
    "duration": 144,
    "start_time": "2023-01-08T11:19:17.666Z"
   },
   {
    "duration": 31,
    "start_time": "2023-01-08T11:19:17.812Z"
   },
   {
    "duration": 8,
    "start_time": "2023-01-08T11:19:17.845Z"
   },
   {
    "duration": 2218,
    "start_time": "2023-01-08T11:19:17.854Z"
   },
   {
    "duration": 66,
    "start_time": "2023-01-08T11:19:20.074Z"
   },
   {
    "duration": 291,
    "start_time": "2023-01-08T11:19:20.142Z"
   },
   {
    "duration": 352,
    "start_time": "2023-01-08T11:19:20.435Z"
   },
   {
    "duration": 24,
    "start_time": "2023-01-08T11:19:20.790Z"
   },
   {
    "duration": 159,
    "start_time": "2023-01-08T11:19:20.816Z"
   },
   {
    "duration": 7,
    "start_time": "2023-01-08T11:19:20.976Z"
   },
   {
    "duration": 11,
    "start_time": "2023-01-08T11:19:20.984Z"
   },
   {
    "duration": 39,
    "start_time": "2023-01-08T11:19:20.996Z"
   },
   {
    "duration": 25,
    "start_time": "2023-01-08T11:19:21.038Z"
   },
   {
    "duration": 47,
    "start_time": "2023-01-08T11:19:21.065Z"
   },
   {
    "duration": 28,
    "start_time": "2023-01-08T11:19:21.114Z"
   },
   {
    "duration": 18,
    "start_time": "2023-01-08T11:19:21.144Z"
   },
   {
    "duration": 40,
    "start_time": "2023-01-08T11:19:21.163Z"
   },
   {
    "duration": 479,
    "start_time": "2023-01-08T11:19:21.205Z"
   },
   {
    "duration": 89,
    "start_time": "2023-01-08T11:19:21.685Z"
   },
   {
    "duration": 413,
    "start_time": "2023-01-08T11:19:21.776Z"
   },
   {
    "duration": 148,
    "start_time": "2023-01-08T11:19:22.191Z"
   },
   {
    "duration": 54,
    "start_time": "2023-01-08T11:19:22.341Z"
   },
   {
    "duration": 311,
    "start_time": "2023-01-08T11:19:22.404Z"
   },
   {
    "duration": 0,
    "start_time": "2023-01-08T11:19:22.717Z"
   },
   {
    "duration": 0,
    "start_time": "2023-01-08T11:19:22.719Z"
   },
   {
    "duration": 0,
    "start_time": "2023-01-08T11:19:22.721Z"
   },
   {
    "duration": 0,
    "start_time": "2023-01-08T11:19:22.722Z"
   },
   {
    "duration": 0,
    "start_time": "2023-01-08T11:19:22.724Z"
   },
   {
    "duration": 0,
    "start_time": "2023-01-08T11:19:22.726Z"
   },
   {
    "duration": 1,
    "start_time": "2023-01-08T11:19:22.727Z"
   },
   {
    "duration": 0,
    "start_time": "2023-01-08T11:19:22.729Z"
   },
   {
    "duration": 0,
    "start_time": "2023-01-08T11:19:22.731Z"
   },
   {
    "duration": 0,
    "start_time": "2023-01-08T11:19:22.732Z"
   },
   {
    "duration": 0,
    "start_time": "2023-01-08T11:19:22.733Z"
   },
   {
    "duration": 0,
    "start_time": "2023-01-08T11:19:22.734Z"
   },
   {
    "duration": 0,
    "start_time": "2023-01-08T11:19:22.736Z"
   },
   {
    "duration": 0,
    "start_time": "2023-01-08T11:19:22.738Z"
   },
   {
    "duration": 0,
    "start_time": "2023-01-08T11:19:22.739Z"
   },
   {
    "duration": 0,
    "start_time": "2023-01-08T11:19:22.740Z"
   },
   {
    "duration": 0,
    "start_time": "2023-01-08T11:19:22.742Z"
   },
   {
    "duration": 0,
    "start_time": "2023-01-08T11:19:22.743Z"
   },
   {
    "duration": 0,
    "start_time": "2023-01-08T11:19:22.745Z"
   },
   {
    "duration": 0,
    "start_time": "2023-01-08T11:19:22.746Z"
   },
   {
    "duration": 0,
    "start_time": "2023-01-08T11:19:22.747Z"
   },
   {
    "duration": 193,
    "start_time": "2023-01-08T11:20:05.980Z"
   },
   {
    "duration": 157,
    "start_time": "2023-01-08T11:21:32.537Z"
   },
   {
    "duration": 158,
    "start_time": "2023-01-08T11:22:01.417Z"
   },
   {
    "duration": 157,
    "start_time": "2023-01-08T11:22:12.218Z"
   },
   {
    "duration": 153,
    "start_time": "2023-01-08T11:22:19.384Z"
   },
   {
    "duration": 70,
    "start_time": "2023-01-08T11:22:34.256Z"
   },
   {
    "duration": 2,
    "start_time": "2023-01-08T11:22:35.933Z"
   },
   {
    "duration": 198733,
    "start_time": "2023-01-08T11:22:36.245Z"
   },
   {
    "duration": 2011,
    "start_time": "2023-01-08T11:25:54.981Z"
   },
   {
    "duration": 4,
    "start_time": "2023-01-08T11:25:56.994Z"
   },
   {
    "duration": 104718,
    "start_time": "2023-01-08T11:25:57.000Z"
   },
   {
    "duration": 1000,
    "start_time": "2023-01-08T11:27:41.720Z"
   },
   {
    "duration": 4,
    "start_time": "2023-01-08T11:27:42.723Z"
   },
   {
    "duration": 129,
    "start_time": "2023-01-08T11:27:42.728Z"
   },
   {
    "duration": 169,
    "start_time": "2023-01-08T11:27:42.858Z"
   },
   {
    "duration": 21,
    "start_time": "2023-01-08T11:27:43.105Z"
   },
   {
    "duration": 101,
    "start_time": "2023-01-08T11:27:43.130Z"
   },
   {
    "duration": 13,
    "start_time": "2023-01-08T11:27:43.232Z"
   },
   {
    "duration": 0,
    "start_time": "2023-01-08T11:27:43.246Z"
   },
   {
    "duration": 0,
    "start_time": "2023-01-08T11:27:43.247Z"
   },
   {
    "duration": 0,
    "start_time": "2023-01-08T11:27:43.248Z"
   },
   {
    "duration": 0,
    "start_time": "2023-01-08T11:27:43.249Z"
   },
   {
    "duration": 0,
    "start_time": "2023-01-08T11:27:43.250Z"
   },
   {
    "duration": 0,
    "start_time": "2023-01-08T11:27:43.251Z"
   },
   {
    "duration": 0,
    "start_time": "2023-01-08T11:27:43.252Z"
   },
   {
    "duration": 0,
    "start_time": "2023-01-08T11:27:43.253Z"
   },
   {
    "duration": 1695,
    "start_time": "2023-01-08T14:24:57.513Z"
   },
   {
    "duration": 13,
    "start_time": "2023-01-08T14:24:59.211Z"
   },
   {
    "duration": 23,
    "start_time": "2023-01-08T14:24:59.225Z"
   },
   {
    "duration": 1075,
    "start_time": "2023-01-08T14:24:59.250Z"
   },
   {
    "duration": 241,
    "start_time": "2023-01-08T14:25:00.326Z"
   },
   {
    "duration": 466,
    "start_time": "2023-01-08T14:25:00.568Z"
   },
   {
    "duration": 440,
    "start_time": "2023-01-08T14:25:01.035Z"
   },
   {
    "duration": 40,
    "start_time": "2023-01-08T14:25:01.477Z"
   },
   {
    "duration": 38,
    "start_time": "2023-01-08T14:25:01.518Z"
   },
   {
    "duration": 40,
    "start_time": "2023-01-08T14:25:01.558Z"
   },
   {
    "duration": 223,
    "start_time": "2023-01-08T14:25:01.600Z"
   },
   {
    "duration": 1615,
    "start_time": "2023-01-08T14:25:01.825Z"
   },
   {
    "duration": 19,
    "start_time": "2023-01-08T14:25:03.442Z"
   },
   {
    "duration": 9,
    "start_time": "2023-01-08T14:25:03.463Z"
   },
   {
    "duration": 13,
    "start_time": "2023-01-08T14:25:03.474Z"
   },
   {
    "duration": 145,
    "start_time": "2023-01-08T14:25:03.490Z"
   },
   {
    "duration": 27,
    "start_time": "2023-01-08T14:25:03.637Z"
   },
   {
    "duration": 7,
    "start_time": "2023-01-08T14:25:03.665Z"
   },
   {
    "duration": 1921,
    "start_time": "2023-01-08T14:25:03.674Z"
   },
   {
    "duration": 60,
    "start_time": "2023-01-08T14:25:05.597Z"
   },
   {
    "duration": 258,
    "start_time": "2023-01-08T14:25:05.658Z"
   },
   {
    "duration": 311,
    "start_time": "2023-01-08T14:25:05.917Z"
   },
   {
    "duration": 18,
    "start_time": "2023-01-08T14:25:06.229Z"
   },
   {
    "duration": 140,
    "start_time": "2023-01-08T14:25:06.249Z"
   },
   {
    "duration": 8,
    "start_time": "2023-01-08T14:25:06.390Z"
   },
   {
    "duration": 16,
    "start_time": "2023-01-08T14:25:06.400Z"
   },
   {
    "duration": 20,
    "start_time": "2023-01-08T14:25:06.418Z"
   },
   {
    "duration": 11,
    "start_time": "2023-01-08T14:25:06.443Z"
   },
   {
    "duration": 41,
    "start_time": "2023-01-08T14:25:06.457Z"
   },
   {
    "duration": 12,
    "start_time": "2023-01-08T14:25:06.501Z"
   },
   {
    "duration": 11,
    "start_time": "2023-01-08T14:25:06.515Z"
   },
   {
    "duration": 30,
    "start_time": "2023-01-08T14:25:06.528Z"
   },
   {
    "duration": 434,
    "start_time": "2023-01-08T14:25:06.560Z"
   },
   {
    "duration": 80,
    "start_time": "2023-01-08T14:25:06.995Z"
   },
   {
    "duration": 350,
    "start_time": "2023-01-08T14:25:07.077Z"
   },
   {
    "duration": 150,
    "start_time": "2023-01-08T14:25:07.429Z"
   },
   {
    "duration": 41,
    "start_time": "2023-01-08T14:25:07.581Z"
   },
   {
    "duration": 34,
    "start_time": "2023-01-08T14:25:07.624Z"
   },
   {
    "duration": 3,
    "start_time": "2023-01-08T14:25:07.660Z"
   },
   {
    "duration": 181449,
    "start_time": "2023-01-08T14:25:07.665Z"
   },
   {
    "duration": 1967,
    "start_time": "2023-01-08T14:28:09.116Z"
   },
   {
    "duration": 4,
    "start_time": "2023-01-08T14:28:11.085Z"
   },
   {
    "duration": 5447,
    "start_time": "2023-01-08T14:28:11.090Z"
   },
   {
    "duration": 918,
    "start_time": "2023-01-08T14:28:16.538Z"
   },
   {
    "duration": 2,
    "start_time": "2023-01-08T14:28:17.458Z"
   },
   {
    "duration": 275,
    "start_time": "2023-01-08T14:28:17.462Z"
   },
   {
    "duration": 98,
    "start_time": "2023-01-08T14:28:17.738Z"
   },
   {
    "duration": 97,
    "start_time": "2023-01-08T14:28:17.840Z"
   },
   {
    "duration": 179,
    "start_time": "2023-01-08T14:28:17.939Z"
   },
   {
    "duration": 14,
    "start_time": "2023-01-08T14:28:18.119Z"
   },
   {
    "duration": 0,
    "start_time": "2023-01-08T14:28:18.135Z"
   },
   {
    "duration": 0,
    "start_time": "2023-01-08T14:28:18.136Z"
   },
   {
    "duration": 0,
    "start_time": "2023-01-08T14:28:18.137Z"
   },
   {
    "duration": 0,
    "start_time": "2023-01-08T14:28:18.139Z"
   },
   {
    "duration": 0,
    "start_time": "2023-01-08T14:28:18.140Z"
   },
   {
    "duration": 0,
    "start_time": "2023-01-08T14:28:18.141Z"
   },
   {
    "duration": 0,
    "start_time": "2023-01-08T14:28:18.143Z"
   },
   {
    "duration": 0,
    "start_time": "2023-01-08T14:28:18.144Z"
   },
   {
    "duration": 3,
    "start_time": "2023-01-08T14:32:38.896Z"
   },
   {
    "duration": 31361,
    "start_time": "2023-01-08T14:32:41.323Z"
   },
   {
    "duration": 4,
    "start_time": "2023-01-08T14:34:27.025Z"
   },
   {
    "duration": 1020123,
    "start_time": "2023-01-08T14:34:29.595Z"
   },
   {
    "duration": 1704,
    "start_time": "2023-01-08T17:00:53.214Z"
   },
   {
    "duration": 13,
    "start_time": "2023-01-08T17:00:54.920Z"
   },
   {
    "duration": 51,
    "start_time": "2023-01-08T17:00:54.937Z"
   },
   {
    "duration": 1037,
    "start_time": "2023-01-08T17:00:54.991Z"
   },
   {
    "duration": 313,
    "start_time": "2023-01-08T17:00:56.030Z"
   },
   {
    "duration": 618,
    "start_time": "2023-01-08T17:00:56.345Z"
   },
   {
    "duration": 500,
    "start_time": "2023-01-08T17:00:56.965Z"
   },
   {
    "duration": 51,
    "start_time": "2023-01-08T17:00:57.467Z"
   },
   {
    "duration": 42,
    "start_time": "2023-01-08T17:00:57.520Z"
   },
   {
    "duration": 48,
    "start_time": "2023-01-08T17:00:57.565Z"
   },
   {
    "duration": 241,
    "start_time": "2023-01-08T17:00:57.615Z"
   },
   {
    "duration": 1638,
    "start_time": "2023-01-08T17:00:57.858Z"
   },
   {
    "duration": 16,
    "start_time": "2023-01-08T17:00:59.497Z"
   },
   {
    "duration": 27,
    "start_time": "2023-01-08T17:00:59.515Z"
   },
   {
    "duration": 34,
    "start_time": "2023-01-08T17:00:59.543Z"
   },
   {
    "duration": 144,
    "start_time": "2023-01-08T17:00:59.578Z"
   },
   {
    "duration": 36,
    "start_time": "2023-01-08T17:00:59.723Z"
   },
   {
    "duration": 21,
    "start_time": "2023-01-08T17:00:59.761Z"
   },
   {
    "duration": 2162,
    "start_time": "2023-01-08T17:00:59.784Z"
   },
   {
    "duration": 63,
    "start_time": "2023-01-08T17:01:01.954Z"
   },
   {
    "duration": 309,
    "start_time": "2023-01-08T17:01:02.019Z"
   },
   {
    "duration": 414,
    "start_time": "2023-01-08T17:01:02.335Z"
   },
   {
    "duration": 20,
    "start_time": "2023-01-08T17:01:02.751Z"
   },
   {
    "duration": 153,
    "start_time": "2023-01-08T17:01:02.773Z"
   },
   {
    "duration": 15,
    "start_time": "2023-01-08T17:01:02.928Z"
   },
   {
    "duration": 30,
    "start_time": "2023-01-08T17:01:02.953Z"
   },
   {
    "duration": 14,
    "start_time": "2023-01-08T17:01:02.985Z"
   },
   {
    "duration": 22,
    "start_time": "2023-01-08T17:01:03.003Z"
   },
   {
    "duration": 53,
    "start_time": "2023-01-08T17:01:03.026Z"
   },
   {
    "duration": 3,
    "start_time": "2023-01-08T17:01:03.081Z"
   },
   {
    "duration": 11,
    "start_time": "2023-01-08T17:01:03.086Z"
   },
   {
    "duration": 24,
    "start_time": "2023-01-08T17:01:03.099Z"
   },
   {
    "duration": 459,
    "start_time": "2023-01-08T17:01:03.125Z"
   },
   {
    "duration": 100,
    "start_time": "2023-01-08T17:01:03.587Z"
   },
   {
    "duration": 412,
    "start_time": "2023-01-08T17:01:03.689Z"
   },
   {
    "duration": 161,
    "start_time": "2023-01-08T17:01:04.103Z"
   },
   {
    "duration": 38,
    "start_time": "2023-01-08T17:01:04.266Z"
   },
   {
    "duration": 51,
    "start_time": "2023-01-08T17:01:04.306Z"
   },
   {
    "duration": 17,
    "start_time": "2023-01-08T17:01:04.359Z"
   },
   {
    "duration": 207218,
    "start_time": "2023-01-08T17:01:04.378Z"
   },
   {
    "duration": 2238,
    "start_time": "2023-01-08T17:04:31.598Z"
   },
   {
    "duration": 8,
    "start_time": "2023-01-08T17:04:33.839Z"
   },
   {
    "duration": 189892,
    "start_time": "2023-01-08T17:04:33.855Z"
   },
   {
    "duration": 1022,
    "start_time": "2023-01-08T17:07:43.750Z"
   },
   {
    "duration": 3,
    "start_time": "2023-01-08T17:07:44.774Z"
   },
   {
    "duration": 112,
    "start_time": "2023-01-08T17:07:44.778Z"
   },
   {
    "duration": 197,
    "start_time": "2023-01-08T17:07:44.942Z"
   },
   {
    "duration": 3,
    "start_time": "2023-01-08T17:07:45.142Z"
   },
   {
    "duration": 3341013,
    "start_time": "2023-01-08T17:07:45.147Z"
   },
   {
    "duration": 3719,
    "start_time": "2023-01-08T18:03:26.162Z"
   },
   {
    "duration": 3,
    "start_time": "2023-01-08T18:03:29.883Z"
   },
   {
    "duration": 330463,
    "start_time": "2023-01-08T18:03:29.888Z"
   },
   {
    "duration": 608,
    "start_time": "2023-01-08T18:09:00.354Z"
   },
   {
    "duration": 4,
    "start_time": "2023-01-08T18:09:01.036Z"
   },
   {
    "duration": 96,
    "start_time": "2023-01-08T18:09:01.043Z"
   },
   {
    "duration": 189,
    "start_time": "2023-01-08T18:09:01.145Z"
   },
   {
    "duration": 18,
    "start_time": "2023-01-08T18:09:01.337Z"
   },
   {
    "duration": 182,
    "start_time": "2023-01-08T18:09:01.357Z"
   },
   {
    "duration": 1766,
    "start_time": "2023-03-03T06:52:16.405Z"
   },
   {
    "duration": 12,
    "start_time": "2023-03-03T06:52:19.394Z"
   },
   {
    "duration": 2,
    "start_time": "2023-03-03T06:52:20.715Z"
   },
   {
    "duration": 1094,
    "start_time": "2023-03-03T06:52:21.490Z"
   },
   {
    "duration": 250,
    "start_time": "2023-03-03T06:52:24.338Z"
   },
   {
    "duration": 449,
    "start_time": "2023-03-03T06:52:25.562Z"
   },
   {
    "duration": 434,
    "start_time": "2023-03-03T06:52:26.202Z"
   },
   {
    "duration": 50,
    "start_time": "2023-03-03T06:52:27.274Z"
   },
   {
    "duration": 25,
    "start_time": "2023-03-03T06:52:28.699Z"
   },
   {
    "duration": 40,
    "start_time": "2023-03-03T06:52:29.290Z"
   },
   {
    "duration": 213,
    "start_time": "2023-03-03T06:52:29.858Z"
   },
   {
    "duration": 1585,
    "start_time": "2023-03-03T06:52:30.666Z"
   },
   {
    "duration": 17,
    "start_time": "2023-03-03T06:52:33.458Z"
   },
   {
    "duration": 9,
    "start_time": "2023-03-03T06:52:34.194Z"
   },
   {
    "duration": 10,
    "start_time": "2023-03-03T06:52:34.945Z"
   },
   {
    "duration": 133,
    "start_time": "2023-03-03T06:52:35.891Z"
   },
   {
    "duration": 26,
    "start_time": "2023-03-03T06:52:36.482Z"
   },
   {
    "duration": 7,
    "start_time": "2023-03-03T06:52:39.761Z"
   },
   {
    "duration": 1922,
    "start_time": "2023-03-03T06:52:41.600Z"
   },
   {
    "duration": 64,
    "start_time": "2023-03-03T06:52:43.524Z"
   },
   {
    "duration": 262,
    "start_time": "2023-03-03T06:52:44.105Z"
   },
   {
    "duration": 310,
    "start_time": "2023-03-03T06:52:47.930Z"
   },
   {
    "duration": 15,
    "start_time": "2023-03-03T06:52:52.098Z"
   },
   {
    "duration": 116,
    "start_time": "2023-03-03T06:52:52.604Z"
   },
   {
    "duration": 7,
    "start_time": "2023-03-03T06:52:54.530Z"
   },
   {
    "duration": 5,
    "start_time": "2023-03-03T06:52:56.170Z"
   },
   {
    "duration": 8,
    "start_time": "2023-03-03T06:52:57.834Z"
   },
   {
    "duration": 11,
    "start_time": "2023-03-03T06:52:59.282Z"
   },
   {
    "duration": 23,
    "start_time": "2023-03-03T06:53:01.474Z"
   },
   {
    "duration": 31,
    "start_time": "2023-03-03T06:53:21.123Z"
   },
   {
    "duration": 10,
    "start_time": "2023-03-03T06:55:39.666Z"
   },
   {
    "duration": 414,
    "start_time": "2023-03-03T06:55:42.469Z"
   },
   {
    "duration": 68,
    "start_time": "2023-03-03T06:55:49.522Z"
   },
   {
    "duration": 127,
    "start_time": "2023-03-03T06:56:02.522Z"
   },
   {
    "duration": 40,
    "start_time": "2023-03-03T06:56:04.499Z"
   },
   {
    "duration": 181,
    "start_time": "2023-03-03T06:58:12.826Z"
   },
   {
    "duration": 47,
    "start_time": "2023-03-03T06:58:52.261Z"
   },
   {
    "duration": 137,
    "start_time": "2023-03-03T07:03:48.934Z"
   },
   {
    "duration": 1578,
    "start_time": "2023-03-03T07:05:05.829Z"
   },
   {
    "duration": 11,
    "start_time": "2023-03-03T07:05:07.409Z"
   },
   {
    "duration": 2,
    "start_time": "2023-03-03T07:05:08.806Z"
   },
   {
    "duration": 823,
    "start_time": "2023-03-03T07:05:08.810Z"
   },
   {
    "duration": 278,
    "start_time": "2023-03-03T07:05:10.260Z"
   },
   {
    "duration": 444,
    "start_time": "2023-03-03T07:05:10.987Z"
   },
   {
    "duration": 439,
    "start_time": "2023-03-03T07:05:12.076Z"
   },
   {
    "duration": 44,
    "start_time": "2023-03-03T07:05:12.522Z"
   },
   {
    "duration": 24,
    "start_time": "2023-03-03T07:05:13.459Z"
   },
   {
    "duration": 38,
    "start_time": "2023-03-03T07:05:13.812Z"
   },
   {
    "duration": 206,
    "start_time": "2023-03-03T07:05:23.380Z"
   },
   {
    "duration": 1472,
    "start_time": "2023-03-03T07:05:25.652Z"
   },
   {
    "duration": 17,
    "start_time": "2023-03-03T07:05:28.069Z"
   },
   {
    "duration": 9,
    "start_time": "2023-03-03T07:05:28.644Z"
   },
   {
    "duration": 9,
    "start_time": "2023-03-03T07:05:29.243Z"
   },
   {
    "duration": 120,
    "start_time": "2023-03-03T07:05:29.620Z"
   },
   {
    "duration": 25,
    "start_time": "2023-03-03T07:05:30.563Z"
   },
   {
    "duration": 8,
    "start_time": "2023-03-03T07:05:32.347Z"
   },
   {
    "duration": 1948,
    "start_time": "2023-03-03T07:05:33.220Z"
   },
   {
    "duration": 66,
    "start_time": "2023-03-03T07:05:35.172Z"
   },
   {
    "duration": 311,
    "start_time": "2023-03-03T07:05:35.249Z"
   },
   {
    "duration": 317,
    "start_time": "2023-03-03T07:05:35.562Z"
   },
   {
    "duration": 16,
    "start_time": "2023-03-03T07:05:37.387Z"
   },
   {
    "duration": 116,
    "start_time": "2023-03-03T07:05:37.764Z"
   },
   {
    "duration": 8,
    "start_time": "2023-03-03T07:05:38.436Z"
   },
   {
    "duration": 7,
    "start_time": "2023-03-03T07:05:39.387Z"
   },
   {
    "duration": 9,
    "start_time": "2023-03-03T07:05:40.044Z"
   },
   {
    "duration": 10,
    "start_time": "2023-03-03T07:05:40.940Z"
   },
   {
    "duration": 21,
    "start_time": "2023-03-03T07:05:41.652Z"
   },
   {
    "duration": 10,
    "start_time": "2023-03-03T07:05:53.004Z"
   },
   {
    "duration": 405,
    "start_time": "2023-03-03T07:05:54.076Z"
   },
   {
    "duration": 67,
    "start_time": "2023-03-03T07:06:00.404Z"
   },
   {
    "duration": 141,
    "start_time": "2023-03-03T07:06:11.340Z"
   },
   {
    "duration": 12,
    "start_time": "2023-03-03T07:06:28.172Z"
   },
   {
    "duration": 342,
    "start_time": "2023-03-03T07:08:33.092Z"
   },
   {
    "duration": 17,
    "start_time": "2023-03-03T07:08:49.141Z"
   },
   {
    "duration": 145,
    "start_time": "2023-03-03T07:09:10.013Z"
   },
   {
    "duration": 50,
    "start_time": "2023-03-03T07:09:11.813Z"
   },
   {
    "duration": 39,
    "start_time": "2023-03-03T07:09:16.132Z"
   },
   {
    "duration": 3,
    "start_time": "2023-03-03T07:09:23.969Z"
   },
   {
    "duration": 203628,
    "start_time": "2023-03-03T07:10:12.293Z"
   },
   {
    "duration": 2085,
    "start_time": "2023-03-03T07:13:35.922Z"
   },
   {
    "duration": 3,
    "start_time": "2023-03-03T07:15:27.446Z"
   },
   {
    "duration": 20703,
    "start_time": "2023-03-03T07:18:37.966Z"
   },
   {
    "duration": 994,
    "start_time": "2023-03-03T07:18:58.671Z"
   },
   {
    "duration": 2036,
    "start_time": "2023-03-04T18:40:24.364Z"
   },
   {
    "duration": 18,
    "start_time": "2023-03-04T18:40:26.403Z"
   },
   {
    "duration": 3,
    "start_time": "2023-03-04T18:40:27.198Z"
   },
   {
    "duration": 3460,
    "start_time": "2023-03-04T18:40:27.639Z"
   },
   {
    "duration": 276,
    "start_time": "2023-03-04T18:40:31.101Z"
   },
   {
    "duration": 633,
    "start_time": "2023-03-04T18:40:31.379Z"
   },
   {
    "duration": 550,
    "start_time": "2023-03-04T18:40:32.015Z"
   },
   {
    "duration": 46,
    "start_time": "2023-03-04T18:40:32.568Z"
   },
   {
    "duration": 42,
    "start_time": "2023-03-04T18:40:32.618Z"
   },
   {
    "duration": 63,
    "start_time": "2023-03-04T18:40:32.663Z"
   },
   {
    "duration": 267,
    "start_time": "2023-03-04T18:40:32.729Z"
   },
   {
    "duration": 1767,
    "start_time": "2023-03-04T18:40:32.998Z"
   },
   {
    "duration": 19,
    "start_time": "2023-03-04T18:40:34.769Z"
   },
   {
    "duration": 11,
    "start_time": "2023-03-04T18:40:34.790Z"
   },
   {
    "duration": 11,
    "start_time": "2023-03-04T18:40:34.803Z"
   },
   {
    "duration": 182,
    "start_time": "2023-03-04T18:40:34.843Z"
   },
   {
    "duration": 39,
    "start_time": "2023-03-04T18:40:35.028Z"
   },
   {
    "duration": 8,
    "start_time": "2023-03-04T18:40:38.792Z"
   },
   {
    "duration": 2263,
    "start_time": "2023-03-04T18:40:41.169Z"
   },
   {
    "duration": 80,
    "start_time": "2023-03-04T18:40:43.442Z"
   },
   {
    "duration": 455,
    "start_time": "2023-03-04T18:40:43.525Z"
   },
   {
    "duration": 416,
    "start_time": "2023-03-04T18:40:43.982Z"
   },
   {
    "duration": 25,
    "start_time": "2023-03-04T18:40:44.662Z"
   },
   {
    "duration": 129,
    "start_time": "2023-03-04T18:40:44.979Z"
   },
   {
    "duration": 8,
    "start_time": "2023-03-04T18:40:45.395Z"
   },
   {
    "duration": 9,
    "start_time": "2023-03-04T18:40:46.337Z"
   },
   {
    "duration": 11,
    "start_time": "2023-03-04T18:40:46.767Z"
   },
   {
    "duration": 16,
    "start_time": "2023-03-04T18:40:47.888Z"
   },
   {
    "duration": 26,
    "start_time": "2023-03-04T18:40:48.822Z"
   },
   {
    "duration": 3,
    "start_time": "2023-03-04T18:40:49.816Z"
   },
   {
    "duration": 3,
    "start_time": "2023-03-04T18:40:51.530Z"
   },
   {
    "duration": 17,
    "start_time": "2023-03-04T18:40:52.937Z"
   },
   {
    "duration": 564,
    "start_time": "2023-03-04T18:40:53.621Z"
   },
   {
    "duration": 114,
    "start_time": "2023-03-04T18:40:57.011Z"
   },
   {
    "duration": 233,
    "start_time": "2023-03-04T18:40:57.739Z"
   },
   {
    "duration": 413,
    "start_time": "2023-03-04T18:40:58.792Z"
   },
   {
    "duration": 17,
    "start_time": "2023-03-04T18:40:59.847Z"
   },
   {
    "duration": 209,
    "start_time": "2023-03-04T18:41:00.863Z"
   },
   {
    "duration": 52,
    "start_time": "2023-03-04T18:41:01.363Z"
   },
   {
    "duration": 33,
    "start_time": "2023-03-04T18:41:01.922Z"
   },
   {
    "duration": 4,
    "start_time": "2023-03-04T18:41:03.453Z"
   },
   {
    "duration": 211967,
    "start_time": "2023-03-04T18:41:04.071Z"
   },
   {
    "duration": 2266,
    "start_time": "2023-03-04T18:44:36.044Z"
   },
   {
    "duration": 3,
    "start_time": "2023-03-04T18:44:38.312Z"
   },
   {
    "duration": 0,
    "start_time": "2023-03-04T18:47:39.743Z"
   },
   {
    "duration": 0,
    "start_time": "2023-03-04T18:47:39.745Z"
   },
   {
    "duration": 0,
    "start_time": "2023-03-04T18:47:39.753Z"
   },
   {
    "duration": 0,
    "start_time": "2023-03-04T18:47:39.755Z"
   },
   {
    "duration": 0,
    "start_time": "2023-03-04T18:47:39.756Z"
   },
   {
    "duration": 0,
    "start_time": "2023-03-04T18:47:39.758Z"
   },
   {
    "duration": 0,
    "start_time": "2023-03-04T18:47:39.759Z"
   },
   {
    "duration": 4,
    "start_time": "2023-03-04T18:47:40.372Z"
   },
   {
    "duration": 1874,
    "start_time": "2023-03-04T18:48:26.654Z"
   },
   {
    "duration": 31,
    "start_time": "2023-03-04T18:48:28.530Z"
   },
   {
    "duration": 16,
    "start_time": "2023-03-04T18:48:28.563Z"
   },
   {
    "duration": 886,
    "start_time": "2023-03-04T18:48:28.582Z"
   },
   {
    "duration": 291,
    "start_time": "2023-03-04T18:48:29.470Z"
   },
   {
    "duration": 627,
    "start_time": "2023-03-04T18:48:29.765Z"
   },
   {
    "duration": 488,
    "start_time": "2023-03-04T18:48:30.394Z"
   },
   {
    "duration": 43,
    "start_time": "2023-03-04T18:48:30.884Z"
   },
   {
    "duration": 23,
    "start_time": "2023-03-04T18:48:30.941Z"
   },
   {
    "duration": 45,
    "start_time": "2023-03-04T18:48:30.969Z"
   },
   {
    "duration": 249,
    "start_time": "2023-03-04T18:48:31.016Z"
   },
   {
    "duration": 1818,
    "start_time": "2023-03-04T18:48:31.267Z"
   },
   {
    "duration": 23,
    "start_time": "2023-03-04T18:48:33.087Z"
   },
   {
    "duration": 13,
    "start_time": "2023-03-04T18:48:33.113Z"
   },
   {
    "duration": 34,
    "start_time": "2023-03-04T18:48:33.128Z"
   },
   {
    "duration": 177,
    "start_time": "2023-03-04T18:48:33.163Z"
   },
   {
    "duration": 41,
    "start_time": "2023-03-04T18:48:33.342Z"
   },
   {
    "duration": 9,
    "start_time": "2023-03-04T18:48:33.385Z"
   },
   {
    "duration": 2123,
    "start_time": "2023-03-04T18:48:33.396Z"
   },
   {
    "duration": 73,
    "start_time": "2023-03-04T18:48:35.521Z"
   },
   {
    "duration": 306,
    "start_time": "2023-03-04T18:48:35.595Z"
   },
   {
    "duration": 358,
    "start_time": "2023-03-04T18:48:35.902Z"
   },
   {
    "duration": 19,
    "start_time": "2023-03-04T18:48:36.261Z"
   },
   {
    "duration": 141,
    "start_time": "2023-03-04T18:48:36.282Z"
   },
   {
    "duration": 29,
    "start_time": "2023-03-04T18:48:36.426Z"
   },
   {
    "duration": 8,
    "start_time": "2023-03-04T18:48:36.459Z"
   },
   {
    "duration": 9,
    "start_time": "2023-03-04T18:48:36.469Z"
   },
   {
    "duration": 11,
    "start_time": "2023-03-04T18:48:36.483Z"
   },
   {
    "duration": 59,
    "start_time": "2023-03-04T18:48:36.496Z"
   },
   {
    "duration": 2,
    "start_time": "2023-03-04T18:48:36.564Z"
   },
   {
    "duration": 9,
    "start_time": "2023-03-04T18:48:36.568Z"
   },
   {
    "duration": 15,
    "start_time": "2023-03-04T18:48:36.579Z"
   },
   {
    "duration": 491,
    "start_time": "2023-03-04T18:48:36.596Z"
   },
   {
    "duration": 120,
    "start_time": "2023-03-04T18:48:37.089Z"
   },
   {
    "duration": 247,
    "start_time": "2023-03-04T18:48:37.211Z"
   },
   {
    "duration": 626,
    "start_time": "2023-03-04T18:48:37.467Z"
   },
   {
    "duration": 17,
    "start_time": "2023-03-04T18:48:38.096Z"
   },
   {
    "duration": 226,
    "start_time": "2023-03-04T18:48:38.115Z"
   },
   {
    "duration": 58,
    "start_time": "2023-03-04T18:48:38.342Z"
   },
   {
    "duration": 60,
    "start_time": "2023-03-04T18:48:38.402Z"
   },
   {
    "duration": 5,
    "start_time": "2023-03-04T18:48:38.468Z"
   },
   {
    "duration": 227846,
    "start_time": "2023-03-04T18:48:38.478Z"
   },
   {
    "duration": 2659,
    "start_time": "2023-03-04T18:52:26.327Z"
   },
   {
    "duration": 3,
    "start_time": "2023-03-04T18:52:28.989Z"
   },
   {
    "duration": 2116,
    "start_time": "2023-03-04T18:56:13.976Z"
   },
   {
    "duration": 20,
    "start_time": "2023-03-04T18:56:16.096Z"
   },
   {
    "duration": 5,
    "start_time": "2023-03-04T18:56:16.119Z"
   },
   {
    "duration": 1468,
    "start_time": "2023-03-04T18:56:16.147Z"
   },
   {
    "duration": 397,
    "start_time": "2023-03-04T18:56:17.621Z"
   },
   {
    "duration": 759,
    "start_time": "2023-03-04T18:56:18.020Z"
   },
   {
    "duration": 731,
    "start_time": "2023-03-04T18:56:18.783Z"
   },
   {
    "duration": 79,
    "start_time": "2023-03-04T18:56:19.516Z"
   },
   {
    "duration": 66,
    "start_time": "2023-03-04T18:56:19.598Z"
   },
   {
    "duration": 110,
    "start_time": "2023-03-04T18:56:19.672Z"
   },
   {
    "duration": 374,
    "start_time": "2023-03-04T18:56:19.784Z"
   },
   {
    "duration": 2204,
    "start_time": "2023-03-04T18:56:20.161Z"
   },
   {
    "duration": 22,
    "start_time": "2023-03-04T18:56:22.371Z"
   },
   {
    "duration": 13,
    "start_time": "2023-03-04T18:56:22.395Z"
   },
   {
    "duration": 19,
    "start_time": "2023-03-04T18:56:22.417Z"
   },
   {
    "duration": 190,
    "start_time": "2023-03-04T18:56:22.440Z"
   },
   {
    "duration": 41,
    "start_time": "2023-03-04T18:56:22.632Z"
   },
   {
    "duration": 9,
    "start_time": "2023-03-04T18:56:22.676Z"
   },
   {
    "duration": 2912,
    "start_time": "2023-03-04T18:56:22.687Z"
   },
   {
    "duration": 88,
    "start_time": "2023-03-04T18:56:25.601Z"
   },
   {
    "duration": 374,
    "start_time": "2023-03-04T18:56:25.692Z"
   },
   {
    "duration": 411,
    "start_time": "2023-03-04T18:56:26.071Z"
   },
   {
    "duration": 21,
    "start_time": "2023-03-04T18:56:26.487Z"
   },
   {
    "duration": 196,
    "start_time": "2023-03-04T18:56:26.510Z"
   },
   {
    "duration": 9,
    "start_time": "2023-03-04T18:56:26.709Z"
   },
   {
    "duration": 26,
    "start_time": "2023-03-04T18:56:26.721Z"
   },
   {
    "duration": 11,
    "start_time": "2023-03-04T18:56:26.749Z"
   },
   {
    "duration": 25,
    "start_time": "2023-03-04T18:56:26.766Z"
   },
   {
    "duration": 63,
    "start_time": "2023-03-04T18:56:26.794Z"
   },
   {
    "duration": 6,
    "start_time": "2023-03-04T18:56:26.862Z"
   },
   {
    "duration": 5,
    "start_time": "2023-03-04T18:56:26.870Z"
   },
   {
    "duration": 19,
    "start_time": "2023-03-04T18:56:26.878Z"
   },
   {
    "duration": 629,
    "start_time": "2023-03-04T18:56:26.899Z"
   },
   {
    "duration": 127,
    "start_time": "2023-03-04T18:56:27.531Z"
   },
   {
    "duration": 247,
    "start_time": "2023-03-04T18:56:27.662Z"
   },
   {
    "duration": 623,
    "start_time": "2023-03-04T18:56:27.912Z"
   },
   {
    "duration": 27,
    "start_time": "2023-03-04T18:56:28.537Z"
   },
   {
    "duration": 215,
    "start_time": "2023-03-04T18:56:28.566Z"
   },
   {
    "duration": 72,
    "start_time": "2023-03-04T18:56:28.783Z"
   },
   {
    "duration": 39,
    "start_time": "2023-03-04T18:56:28.857Z"
   },
   {
    "duration": 4,
    "start_time": "2023-03-04T18:56:28.898Z"
   },
   {
    "duration": 267100,
    "start_time": "2023-03-04T18:56:28.904Z"
   },
   {
    "duration": 2766,
    "start_time": "2023-03-04T19:00:56.007Z"
   },
   {
    "duration": 3,
    "start_time": "2023-03-04T19:00:58.777Z"
   },
   {
    "duration": 1969,
    "start_time": "2023-03-04T19:18:00.793Z"
   },
   {
    "duration": 18,
    "start_time": "2023-03-04T19:18:02.765Z"
   },
   {
    "duration": 10,
    "start_time": "2023-03-04T19:18:02.785Z"
   },
   {
    "duration": 1313,
    "start_time": "2023-03-04T19:18:02.798Z"
   },
   {
    "duration": 397,
    "start_time": "2023-03-04T19:18:04.115Z"
   },
   {
    "duration": 787,
    "start_time": "2023-03-04T19:18:04.515Z"
   },
   {
    "duration": 758,
    "start_time": "2023-03-04T19:18:05.304Z"
   },
   {
    "duration": 72,
    "start_time": "2023-03-04T19:18:06.065Z"
   },
   {
    "duration": 53,
    "start_time": "2023-03-04T19:18:06.139Z"
   },
   {
    "duration": 77,
    "start_time": "2023-03-04T19:18:06.196Z"
   },
   {
    "duration": 364,
    "start_time": "2023-03-04T19:18:06.276Z"
   },
   {
    "duration": 2338,
    "start_time": "2023-03-04T19:18:06.651Z"
   },
   {
    "duration": 23,
    "start_time": "2023-03-04T19:18:08.991Z"
   },
   {
    "duration": 50,
    "start_time": "2023-03-04T19:18:09.016Z"
   },
   {
    "duration": 12,
    "start_time": "2023-03-04T19:18:09.068Z"
   },
   {
    "duration": 175,
    "start_time": "2023-03-04T19:18:09.082Z"
   },
   {
    "duration": 33,
    "start_time": "2023-03-04T19:18:09.259Z"
   },
   {
    "duration": 9,
    "start_time": "2023-03-04T19:18:09.294Z"
   },
   {
    "duration": 3040,
    "start_time": "2023-03-04T19:18:09.305Z"
   },
   {
    "duration": 78,
    "start_time": "2023-03-04T19:18:12.354Z"
   },
   {
    "duration": 430,
    "start_time": "2023-03-04T19:18:12.434Z"
   },
   {
    "duration": 507,
    "start_time": "2023-03-04T19:18:12.866Z"
   },
   {
    "duration": 20,
    "start_time": "2023-03-04T19:18:13.375Z"
   },
   {
    "duration": 223,
    "start_time": "2023-03-04T19:18:13.397Z"
   },
   {
    "duration": 24,
    "start_time": "2023-03-04T19:18:13.625Z"
   },
   {
    "duration": 11,
    "start_time": "2023-03-04T19:18:13.652Z"
   },
   {
    "duration": 13,
    "start_time": "2023-03-04T19:18:13.666Z"
   },
   {
    "duration": 21,
    "start_time": "2023-03-04T19:18:13.685Z"
   },
   {
    "duration": 51,
    "start_time": "2023-03-04T19:18:13.708Z"
   },
   {
    "duration": 15,
    "start_time": "2023-03-04T19:18:13.762Z"
   },
   {
    "duration": 3,
    "start_time": "2023-03-04T19:18:13.780Z"
   },
   {
    "duration": 20,
    "start_time": "2023-03-04T19:18:13.785Z"
   },
   {
    "duration": 604,
    "start_time": "2023-03-04T19:18:13.808Z"
   },
   {
    "duration": 124,
    "start_time": "2023-03-04T19:18:14.415Z"
   },
   {
    "duration": 253,
    "start_time": "2023-03-04T19:18:14.541Z"
   },
   {
    "duration": 659,
    "start_time": "2023-03-04T19:18:14.800Z"
   },
   {
    "duration": 16,
    "start_time": "2023-03-04T19:18:15.462Z"
   },
   {
    "duration": 238,
    "start_time": "2023-03-04T19:18:15.481Z"
   },
   {
    "duration": 73,
    "start_time": "2023-03-04T19:18:15.722Z"
   },
   {
    "duration": 48,
    "start_time": "2023-03-04T19:18:15.797Z"
   },
   {
    "duration": 5,
    "start_time": "2023-03-04T19:18:15.849Z"
   },
   {
    "duration": 253183,
    "start_time": "2023-03-04T19:18:15.856Z"
   },
   {
    "duration": 3007,
    "start_time": "2023-03-04T19:22:29.049Z"
   },
   {
    "duration": 4,
    "start_time": "2023-03-04T19:22:32.060Z"
   },
   {
    "duration": 2139,
    "start_time": "2023-03-04T19:28:07.167Z"
   },
   {
    "duration": 19,
    "start_time": "2023-03-04T19:28:09.309Z"
   },
   {
    "duration": 5,
    "start_time": "2023-03-04T19:28:09.346Z"
   },
   {
    "duration": 1313,
    "start_time": "2023-03-04T19:28:09.354Z"
   },
   {
    "duration": 374,
    "start_time": "2023-03-04T19:28:10.670Z"
   },
   {
    "duration": 790,
    "start_time": "2023-03-04T19:28:11.055Z"
   },
   {
    "duration": 761,
    "start_time": "2023-03-04T19:28:11.847Z"
   },
   {
    "duration": 79,
    "start_time": "2023-03-04T19:28:12.610Z"
   },
   {
    "duration": 31,
    "start_time": "2023-03-04T19:28:12.691Z"
   },
   {
    "duration": 104,
    "start_time": "2023-03-04T19:28:12.724Z"
   },
   {
    "duration": 343,
    "start_time": "2023-03-04T19:28:12.830Z"
   },
   {
    "duration": 2257,
    "start_time": "2023-03-04T19:28:13.176Z"
   },
   {
    "duration": 39,
    "start_time": "2023-03-04T19:28:15.442Z"
   },
   {
    "duration": 14,
    "start_time": "2023-03-04T19:28:15.486Z"
   },
   {
    "duration": 13,
    "start_time": "2023-03-04T19:28:15.502Z"
   },
   {
    "duration": 214,
    "start_time": "2023-03-04T19:28:15.518Z"
   },
   {
    "duration": 43,
    "start_time": "2023-03-04T19:28:15.741Z"
   },
   {
    "duration": 23,
    "start_time": "2023-03-04T19:28:15.789Z"
   },
   {
    "duration": 4797,
    "start_time": "2023-03-04T19:28:15.815Z"
   },
   {
    "duration": 106,
    "start_time": "2023-03-04T19:28:20.614Z"
   },
   {
    "duration": 853,
    "start_time": "2023-03-04T19:28:20.722Z"
   },
   {
    "duration": 1080,
    "start_time": "2023-03-04T19:28:21.580Z"
   },
   {
    "duration": 30,
    "start_time": "2023-03-04T19:28:22.662Z"
   },
   {
    "duration": 332,
    "start_time": "2023-03-04T19:28:22.744Z"
   },
   {
    "duration": 9,
    "start_time": "2023-03-04T19:28:23.078Z"
   },
   {
    "duration": 55,
    "start_time": "2023-03-04T19:28:23.089Z"
   },
   {
    "duration": 12,
    "start_time": "2023-03-04T19:28:23.157Z"
   },
   {
    "duration": 15,
    "start_time": "2023-03-04T19:28:23.178Z"
   },
   {
    "duration": 69,
    "start_time": "2023-03-04T19:28:23.195Z"
   },
   {
    "duration": 2,
    "start_time": "2023-03-04T19:28:23.266Z"
   },
   {
    "duration": 3,
    "start_time": "2023-03-04T19:28:23.271Z"
   },
   {
    "duration": 73,
    "start_time": "2023-03-04T19:28:23.277Z"
   },
   {
    "duration": 667,
    "start_time": "2023-03-04T19:28:23.353Z"
   },
   {
    "duration": 124,
    "start_time": "2023-03-04T19:28:24.023Z"
   },
   {
    "duration": 248,
    "start_time": "2023-03-04T19:28:24.149Z"
   },
   {
    "duration": 617,
    "start_time": "2023-03-04T19:28:24.399Z"
   },
   {
    "duration": 27,
    "start_time": "2023-03-04T19:28:25.019Z"
   },
   {
    "duration": 220,
    "start_time": "2023-03-04T19:28:25.048Z"
   },
   {
    "duration": 85,
    "start_time": "2023-03-04T19:28:25.271Z"
   },
   {
    "duration": 42,
    "start_time": "2023-03-04T19:28:25.358Z"
   },
   {
    "duration": 4,
    "start_time": "2023-03-04T19:28:25.407Z"
   },
   {
    "duration": 231758,
    "start_time": "2023-03-04T19:28:25.415Z"
   },
   {
    "duration": 2273,
    "start_time": "2023-03-04T19:32:17.175Z"
   },
   {
    "duration": 8,
    "start_time": "2023-03-04T19:32:19.455Z"
   },
   {
    "duration": 1698,
    "start_time": "2023-03-04T19:33:29.633Z"
   },
   {
    "duration": 19,
    "start_time": "2023-03-04T19:33:31.334Z"
   },
   {
    "duration": 28,
    "start_time": "2023-03-04T19:33:31.360Z"
   },
   {
    "duration": 953,
    "start_time": "2023-03-04T19:33:31.391Z"
   },
   {
    "duration": 294,
    "start_time": "2023-03-04T19:33:32.346Z"
   },
   {
    "duration": 565,
    "start_time": "2023-03-04T19:33:32.642Z"
   },
   {
    "duration": 494,
    "start_time": "2023-03-04T19:33:33.208Z"
   },
   {
    "duration": 73,
    "start_time": "2023-03-04T19:33:33.703Z"
   },
   {
    "duration": 40,
    "start_time": "2023-03-04T19:33:33.780Z"
   },
   {
    "duration": 72,
    "start_time": "2023-03-04T19:33:33.824Z"
   },
   {
    "duration": 268,
    "start_time": "2023-03-04T19:33:33.899Z"
   },
   {
    "duration": 1723,
    "start_time": "2023-03-04T19:33:34.168Z"
   },
   {
    "duration": 19,
    "start_time": "2023-03-04T19:33:35.893Z"
   },
   {
    "duration": 39,
    "start_time": "2023-03-04T19:33:35.914Z"
   },
   {
    "duration": 14,
    "start_time": "2023-03-04T19:33:35.958Z"
   },
   {
    "duration": 202,
    "start_time": "2023-03-04T19:33:35.974Z"
   },
   {
    "duration": 34,
    "start_time": "2023-03-04T19:33:36.180Z"
   },
   {
    "duration": 10,
    "start_time": "2023-03-04T19:33:36.217Z"
   },
   {
    "duration": 2408,
    "start_time": "2023-03-04T19:33:36.229Z"
   },
   {
    "duration": 60,
    "start_time": "2023-03-04T19:33:38.639Z"
   },
   {
    "duration": 318,
    "start_time": "2023-03-04T19:33:38.700Z"
   },
   {
    "duration": 470,
    "start_time": "2023-03-04T19:33:39.020Z"
   },
   {
    "duration": 20,
    "start_time": "2023-03-04T19:33:39.493Z"
   },
   {
    "duration": 193,
    "start_time": "2023-03-04T19:33:39.515Z"
   },
   {
    "duration": 8,
    "start_time": "2023-03-04T19:33:39.710Z"
   },
   {
    "duration": 28,
    "start_time": "2023-03-04T19:33:39.720Z"
   },
   {
    "duration": 13,
    "start_time": "2023-03-04T19:33:39.750Z"
   },
   {
    "duration": 22,
    "start_time": "2023-03-04T19:33:39.769Z"
   },
   {
    "duration": 26,
    "start_time": "2023-03-04T19:33:39.794Z"
   },
   {
    "duration": 4,
    "start_time": "2023-03-04T19:33:39.822Z"
   },
   {
    "duration": 5,
    "start_time": "2023-03-04T19:33:39.840Z"
   },
   {
    "duration": 21,
    "start_time": "2023-03-04T19:33:39.847Z"
   },
   {
    "duration": 459,
    "start_time": "2023-03-04T19:33:39.870Z"
   },
   {
    "duration": 93,
    "start_time": "2023-03-04T19:33:40.331Z"
   },
   {
    "duration": 168,
    "start_time": "2023-03-04T19:33:40.426Z"
   },
   {
    "duration": 396,
    "start_time": "2023-03-04T19:33:40.596Z"
   },
   {
    "duration": 16,
    "start_time": "2023-03-04T19:33:40.994Z"
   },
   {
    "duration": 161,
    "start_time": "2023-03-04T19:33:41.012Z"
   },
   {
    "duration": 54,
    "start_time": "2023-03-04T19:33:41.177Z"
   },
   {
    "duration": 34,
    "start_time": "2023-03-04T19:33:41.245Z"
   },
   {
    "duration": 3,
    "start_time": "2023-03-04T19:33:41.282Z"
   },
   {
    "duration": 219329,
    "start_time": "2023-03-04T19:33:41.287Z"
   },
   {
    "duration": 2302,
    "start_time": "2023-03-04T19:37:20.618Z"
   },
   {
    "duration": 3,
    "start_time": "2023-03-04T19:37:22.921Z"
   },
   {
    "duration": 352743,
    "start_time": "2023-03-04T19:37:22.926Z"
   },
   {
    "duration": 994,
    "start_time": "2023-03-04T19:43:15.672Z"
   },
   {
    "duration": 111,
    "start_time": "2023-03-04T19:43:16.669Z"
   },
   {
    "duration": 129,
    "start_time": "2023-03-04T19:43:16.782Z"
   },
   {
    "duration": 0,
    "start_time": "2023-03-04T19:43:16.913Z"
   },
   {
    "duration": 0,
    "start_time": "2023-03-04T19:43:16.915Z"
   },
   {
    "duration": 0,
    "start_time": "2023-03-04T19:43:16.916Z"
   },
   {
    "duration": 0,
    "start_time": "2023-03-04T19:43:16.918Z"
   },
   {
    "duration": 0,
    "start_time": "2023-03-04T19:43:16.919Z"
   },
   {
    "duration": 0,
    "start_time": "2023-03-04T19:43:16.921Z"
   },
   {
    "duration": 0,
    "start_time": "2023-03-04T19:43:16.922Z"
   },
   {
    "duration": 0,
    "start_time": "2023-03-04T19:43:16.944Z"
   },
   {
    "duration": 0,
    "start_time": "2023-03-04T19:43:16.947Z"
   },
   {
    "duration": 0,
    "start_time": "2023-03-04T19:43:16.948Z"
   },
   {
    "duration": 0,
    "start_time": "2023-03-04T19:43:16.949Z"
   },
   {
    "duration": 0,
    "start_time": "2023-03-04T19:43:16.951Z"
   },
   {
    "duration": 0,
    "start_time": "2023-03-04T19:43:16.952Z"
   },
   {
    "duration": 0,
    "start_time": "2023-03-04T19:43:16.953Z"
   },
   {
    "duration": 6,
    "start_time": "2023-03-04T19:45:00.075Z"
   },
   {
    "duration": 23,
    "start_time": "2023-03-04T19:45:10.172Z"
   },
   {
    "duration": 358,
    "start_time": "2023-03-04T19:46:36.361Z"
   },
   {
    "duration": 3,
    "start_time": "2023-03-04T19:46:59.937Z"
   },
   {
    "duration": 112,
    "start_time": "2023-03-04T19:47:02.907Z"
   },
   {
    "duration": 1906,
    "start_time": "2023-03-06T12:53:34.920Z"
   },
   {
    "duration": 14,
    "start_time": "2023-03-06T12:53:37.281Z"
   },
   {
    "duration": 2,
    "start_time": "2023-03-06T12:53:39.077Z"
   },
   {
    "duration": 3103,
    "start_time": "2023-03-06T12:53:39.793Z"
   },
   {
    "duration": 248,
    "start_time": "2023-03-06T12:53:42.898Z"
   },
   {
    "duration": 560,
    "start_time": "2023-03-06T12:53:43.149Z"
   },
   {
    "duration": 513,
    "start_time": "2023-03-06T12:53:43.981Z"
   },
   {
    "duration": 45,
    "start_time": "2023-03-06T12:53:44.771Z"
   },
   {
    "duration": 26,
    "start_time": "2023-03-06T12:53:46.525Z"
   },
   {
    "duration": 46,
    "start_time": "2023-03-06T12:53:46.886Z"
   },
   {
    "duration": 251,
    "start_time": "2023-03-06T12:53:47.209Z"
   },
   {
    "duration": 1710,
    "start_time": "2023-03-06T12:53:47.613Z"
   },
   {
    "duration": 34,
    "start_time": "2023-03-06T12:53:49.325Z"
   },
   {
    "duration": 10,
    "start_time": "2023-03-06T12:53:49.362Z"
   },
   {
    "duration": 10,
    "start_time": "2023-03-06T12:53:49.374Z"
   },
   {
    "duration": 155,
    "start_time": "2023-03-06T12:53:49.386Z"
   },
   {
    "duration": 31,
    "start_time": "2023-03-06T12:53:49.543Z"
   },
   {
    "duration": 11,
    "start_time": "2023-03-06T12:53:51.756Z"
   },
   {
    "duration": 1949,
    "start_time": "2023-03-06T12:53:52.517Z"
   },
   {
    "duration": 53,
    "start_time": "2023-03-06T12:53:54.468Z"
   },
   {
    "duration": 311,
    "start_time": "2023-03-06T12:53:54.523Z"
   },
   {
    "duration": 386,
    "start_time": "2023-03-06T12:53:55.414Z"
   },
   {
    "duration": 21,
    "start_time": "2023-03-06T12:53:58.781Z"
   },
   {
    "duration": 165,
    "start_time": "2023-03-06T12:53:59.610Z"
   },
   {
    "duration": 9,
    "start_time": "2023-03-06T12:54:00.289Z"
   },
   {
    "duration": 9,
    "start_time": "2023-03-06T12:54:01.393Z"
   },
   {
    "duration": 20,
    "start_time": "2023-03-06T12:54:02.037Z"
   },
   {
    "duration": 11,
    "start_time": "2023-03-06T12:54:03.317Z"
   },
   {
    "duration": 33,
    "start_time": "2023-03-06T12:54:03.981Z"
   },
   {
    "duration": 11,
    "start_time": "2023-03-06T12:54:12.099Z"
   },
   {
    "duration": 994,
    "start_time": "2023-03-06T12:54:16.281Z"
   },
   {
    "duration": 807,
    "start_time": "2023-03-06T12:54:36.681Z"
   },
   {
    "duration": 16,
    "start_time": "2023-03-06T12:54:38.792Z"
   },
   {
    "duration": 1478,
    "start_time": "2023-03-06T12:56:59.297Z"
   },
   {
    "duration": 21,
    "start_time": "2023-03-06T12:57:02.103Z"
   },
   {
    "duration": 3,
    "start_time": "2023-03-06T12:57:03.414Z"
   },
   {
    "duration": 947,
    "start_time": "2023-03-06T12:57:03.925Z"
   },
   {
    "duration": 259,
    "start_time": "2023-03-06T12:57:05.198Z"
   },
   {
    "duration": 505,
    "start_time": "2023-03-06T12:57:05.558Z"
   },
   {
    "duration": 542,
    "start_time": "2023-03-06T12:57:06.067Z"
   },
   {
    "duration": 60,
    "start_time": "2023-03-06T12:57:06.611Z"
   },
   {
    "duration": 31,
    "start_time": "2023-03-06T12:57:06.954Z"
   },
   {
    "duration": 69,
    "start_time": "2023-03-06T12:57:07.206Z"
   },
   {
    "duration": 300,
    "start_time": "2023-03-06T12:57:07.422Z"
   },
   {
    "duration": 1779,
    "start_time": "2023-03-06T12:57:07.725Z"
   },
   {
    "duration": 16,
    "start_time": "2023-03-06T12:57:09.506Z"
   },
   {
    "duration": 35,
    "start_time": "2023-03-06T12:57:09.524Z"
   },
   {
    "duration": 9,
    "start_time": "2023-03-06T12:57:09.561Z"
   },
   {
    "duration": 143,
    "start_time": "2023-03-06T12:57:09.572Z"
   },
   {
    "duration": 28,
    "start_time": "2023-03-06T12:57:09.742Z"
   },
   {
    "duration": 9,
    "start_time": "2023-03-06T12:57:11.181Z"
   },
   {
    "duration": 2187,
    "start_time": "2023-03-06T12:57:11.884Z"
   },
   {
    "duration": 54,
    "start_time": "2023-03-06T12:57:14.073Z"
   },
   {
    "duration": 307,
    "start_time": "2023-03-06T12:57:14.128Z"
   },
   {
    "duration": 370,
    "start_time": "2023-03-06T12:57:14.441Z"
   },
   {
    "duration": 16,
    "start_time": "2023-03-06T12:57:14.813Z"
   },
   {
    "duration": 127,
    "start_time": "2023-03-06T12:57:15.084Z"
   },
   {
    "duration": 6,
    "start_time": "2023-03-06T12:57:15.381Z"
   },
   {
    "duration": 8,
    "start_time": "2023-03-06T12:57:16.037Z"
   },
   {
    "duration": 22,
    "start_time": "2023-03-06T12:57:16.334Z"
   },
   {
    "duration": 13,
    "start_time": "2023-03-06T12:57:16.934Z"
   },
   {
    "duration": 33,
    "start_time": "2023-03-06T12:57:17.357Z"
   },
   {
    "duration": 3,
    "start_time": "2023-03-06T12:57:18.325Z"
   },
   {
    "duration": 2,
    "start_time": "2023-03-06T12:57:20.319Z"
   },
   {
    "duration": 15,
    "start_time": "2023-03-06T12:57:22.902Z"
   },
   {
    "duration": 440,
    "start_time": "2023-03-06T12:57:23.689Z"
   },
   {
    "duration": 672,
    "start_time": "2023-03-06T12:57:28.289Z"
   },
   {
    "duration": 482,
    "start_time": "2023-03-06T12:57:31.280Z"
   },
   {
    "duration": 2,
    "start_time": "2023-03-06T12:57:33.992Z"
   },
   {
    "duration": 5,
    "start_time": "2023-03-06T12:57:39.902Z"
   },
   {
    "duration": 15,
    "start_time": "2023-03-06T12:57:41.102Z"
   },
   {
    "duration": 132,
    "start_time": "2023-03-06T12:58:42.704Z"
   },
   {
    "duration": 44,
    "start_time": "2023-03-06T12:58:43.158Z"
   },
   {
    "duration": 36,
    "start_time": "2023-03-06T12:58:43.920Z"
   },
   {
    "duration": 3,
    "start_time": "2023-03-06T12:59:50.972Z"
   },
   {
    "duration": 81578,
    "start_time": "2023-03-06T12:59:52.281Z"
   },
   {
    "duration": 1324,
    "start_time": "2023-03-06T13:01:13.862Z"
   },
   {
    "duration": 666,
    "start_time": "2023-03-06T13:02:05.395Z"
   },
   {
    "duration": 3,
    "start_time": "2023-03-06T13:02:23.679Z"
   },
   {
    "duration": 213048,
    "start_time": "2023-03-06T13:02:26.391Z"
   },
   {
    "duration": 2142,
    "start_time": "2023-03-06T13:05:59.441Z"
   },
   {
    "duration": 3,
    "start_time": "2023-03-06T13:06:01.586Z"
   },
   {
    "duration": 376979,
    "start_time": "2023-03-06T13:06:01.592Z"
   },
   {
    "duration": 989,
    "start_time": "2023-03-06T13:12:18.573Z"
   },
   {
    "duration": 3,
    "start_time": "2023-03-06T13:12:19.564Z"
   },
   {
    "duration": 50384,
    "start_time": "2023-03-06T13:12:19.569Z"
   },
   {
    "duration": 698,
    "start_time": "2023-03-06T13:13:09.955Z"
   },
   {
    "duration": 7,
    "start_time": "2023-03-06T13:13:10.655Z"
   },
   {
    "duration": 3722546,
    "start_time": "2023-03-06T13:13:10.665Z"
   },
   {
    "duration": 4710,
    "start_time": "2023-03-06T14:15:13.213Z"
   },
   {
    "duration": 4,
    "start_time": "2023-03-06T14:15:17.925Z"
   },
   {
    "duration": 407619,
    "start_time": "2023-03-06T14:15:17.931Z"
   },
   {
    "duration": 626,
    "start_time": "2023-03-06T14:22:05.553Z"
   },
   {
    "duration": 7,
    "start_time": "2023-03-06T14:22:06.185Z"
   },
   {
    "duration": 90263,
    "start_time": "2023-03-06T14:22:06.193Z"
   },
   {
    "duration": 484,
    "start_time": "2023-03-06T14:23:36.459Z"
   },
   {
    "duration": 15,
    "start_time": "2023-03-06T14:23:36.946Z"
   },
   {
    "duration": 92,
    "start_time": "2023-03-06T14:23:36.967Z"
   },
   {
    "duration": 907,
    "start_time": "2023-03-06T14:26:52.100Z"
   },
   {
    "duration": 1297,
    "start_time": "2023-03-06T14:27:12.359Z"
   },
   {
    "duration": 38,
    "start_time": "2023-03-06T14:27:24.340Z"
   },
   {
    "duration": 2522,
    "start_time": "2023-03-06T14:32:15.986Z"
   },
   {
    "duration": 685,
    "start_time": "2023-03-06T14:32:51.638Z"
   },
   {
    "duration": 2171,
    "start_time": "2023-03-07T10:53:36.167Z"
   },
   {
    "duration": 26,
    "start_time": "2023-03-07T10:53:38.340Z"
   },
   {
    "duration": 25,
    "start_time": "2023-03-07T10:53:38.368Z"
   },
   {
    "duration": 1404,
    "start_time": "2023-03-07T10:53:38.395Z"
   },
   {
    "duration": 284,
    "start_time": "2023-03-07T10:53:39.802Z"
   },
   {
    "duration": 457,
    "start_time": "2023-03-07T10:53:40.088Z"
   },
   {
    "duration": 522,
    "start_time": "2023-03-07T10:53:40.548Z"
   },
   {
    "duration": 53,
    "start_time": "2023-03-07T10:53:41.072Z"
   },
   {
    "duration": 34,
    "start_time": "2023-03-07T10:53:41.127Z"
   },
   {
    "duration": 66,
    "start_time": "2023-03-07T10:53:41.163Z"
   },
   {
    "duration": 205,
    "start_time": "2023-03-07T10:53:41.230Z"
   },
   {
    "duration": 1604,
    "start_time": "2023-03-07T10:53:41.440Z"
   },
   {
    "duration": 22,
    "start_time": "2023-03-07T10:53:43.045Z"
   },
   {
    "duration": 23,
    "start_time": "2023-03-07T10:53:43.070Z"
   },
   {
    "duration": 9,
    "start_time": "2023-03-07T10:53:43.094Z"
   },
   {
    "duration": 158,
    "start_time": "2023-03-07T10:53:43.105Z"
   },
   {
    "duration": 30,
    "start_time": "2023-03-07T10:53:43.269Z"
   },
   {
    "duration": 8,
    "start_time": "2023-03-07T10:53:43.300Z"
   },
   {
    "duration": 2008,
    "start_time": "2023-03-07T10:53:43.309Z"
   },
   {
    "duration": 67,
    "start_time": "2023-03-07T10:53:45.319Z"
   },
   {
    "duration": 255,
    "start_time": "2023-03-07T10:53:45.387Z"
   },
   {
    "duration": 356,
    "start_time": "2023-03-07T10:53:45.643Z"
   },
   {
    "duration": 20,
    "start_time": "2023-03-07T10:53:46.001Z"
   },
   {
    "duration": 153,
    "start_time": "2023-03-07T10:53:46.031Z"
   },
   {
    "duration": 9,
    "start_time": "2023-03-07T10:53:46.186Z"
   },
   {
    "duration": 22,
    "start_time": "2023-03-07T10:53:46.197Z"
   },
   {
    "duration": 65,
    "start_time": "2023-03-07T10:53:46.221Z"
   },
   {
    "duration": 16,
    "start_time": "2023-03-07T10:53:46.288Z"
   },
   {
    "duration": 43,
    "start_time": "2023-03-07T10:53:46.306Z"
   },
   {
    "duration": 10,
    "start_time": "2023-03-07T10:53:46.357Z"
   },
   {
    "duration": 22,
    "start_time": "2023-03-07T10:53:46.374Z"
   },
   {
    "duration": 19,
    "start_time": "2023-03-07T10:53:46.397Z"
   },
   {
    "duration": 405,
    "start_time": "2023-03-07T10:53:46.418Z"
   },
   {
    "duration": 726,
    "start_time": "2023-03-07T10:53:46.825Z"
   },
   {
    "duration": 564,
    "start_time": "2023-03-07T10:53:47.553Z"
   },
   {
    "duration": 3,
    "start_time": "2023-03-07T10:53:48.119Z"
   },
   {
    "duration": 11,
    "start_time": "2023-03-07T10:53:48.123Z"
   },
   {
    "duration": 49,
    "start_time": "2023-03-07T10:53:48.143Z"
   },
   {
    "duration": 148,
    "start_time": "2023-03-07T10:53:48.194Z"
   },
   {
    "duration": 60,
    "start_time": "2023-03-07T10:53:48.345Z"
   },
   {
    "duration": 34,
    "start_time": "2023-03-07T10:53:48.409Z"
   },
   {
    "duration": 5,
    "start_time": "2023-03-07T10:53:48.445Z"
   },
   {
    "duration": 202867,
    "start_time": "2023-03-07T10:53:48.452Z"
   },
   {
    "duration": 2077,
    "start_time": "2023-03-07T10:57:11.321Z"
   },
   {
    "duration": 3,
    "start_time": "2023-03-07T10:57:13.400Z"
   },
   {
    "duration": 223069,
    "start_time": "2023-03-07T10:57:13.404Z"
   },
   {
    "duration": 863,
    "start_time": "2023-03-07T11:00:56.479Z"
   },
   {
    "duration": 7,
    "start_time": "2023-03-07T11:00:57.347Z"
   },
   {
    "duration": 77314,
    "start_time": "2023-03-07T11:00:57.358Z"
   },
   {
    "duration": 788,
    "start_time": "2023-03-07T11:02:14.673Z"
   },
   {
    "duration": 3,
    "start_time": "2023-03-07T11:02:15.464Z"
   },
   {
    "duration": 3331335,
    "start_time": "2023-03-07T11:02:15.472Z"
   },
   {
    "duration": 4201,
    "start_time": "2023-03-07T11:57:46.809Z"
   },
   {
    "duration": 3,
    "start_time": "2023-03-07T11:57:51.012Z"
   },
   {
    "duration": 227232,
    "start_time": "2023-03-07T11:57:51.017Z"
   },
   {
    "duration": 1197,
    "start_time": "2023-03-07T12:01:38.252Z"
   },
   {
    "duration": 2,
    "start_time": "2023-03-07T12:01:39.469Z"
   },
   {
    "duration": 83575,
    "start_time": "2023-03-07T12:01:39.474Z"
   },
   {
    "duration": 403,
    "start_time": "2023-03-07T12:03:03.052Z"
   },
   {
    "duration": 20,
    "start_time": "2023-03-07T12:03:03.541Z"
   },
   {
    "duration": 95,
    "start_time": "2023-03-07T12:03:03.564Z"
   },
   {
    "duration": 1709,
    "start_time": "2023-03-07T12:03:03.666Z"
   },
   {
    "duration": 500,
    "start_time": "2023-03-07T12:03:05.376Z"
   },
   {
    "duration": 2104,
    "start_time": "2023-03-07T18:43:55.825Z"
   },
   {
    "duration": 20,
    "start_time": "2023-03-07T18:44:03.431Z"
   },
   {
    "duration": 3,
    "start_time": "2023-03-07T18:44:06.182Z"
   },
   {
    "duration": 4599,
    "start_time": "2023-03-07T18:44:10.799Z"
   },
   {
    "duration": 231,
    "start_time": "2023-03-07T18:44:15.400Z"
   },
   {
    "duration": 459,
    "start_time": "2023-03-07T18:44:15.632Z"
   },
   {
    "duration": 473,
    "start_time": "2023-03-07T18:44:16.094Z"
   },
   {
    "duration": 47,
    "start_time": "2023-03-07T18:44:16.572Z"
   },
   {
    "duration": 29,
    "start_time": "2023-03-07T18:44:17.971Z"
   },
   {
    "duration": 41,
    "start_time": "2023-03-07T18:44:19.881Z"
   },
   {
    "duration": 218,
    "start_time": "2023-03-07T18:44:21.253Z"
   },
   {
    "duration": 1818,
    "start_time": "2023-03-07T18:44:31.518Z"
   },
   {
    "duration": 34,
    "start_time": "2023-03-07T18:44:34.839Z"
   },
   {
    "duration": 15,
    "start_time": "2023-03-07T18:44:35.763Z"
   },
   {
    "duration": 14,
    "start_time": "2023-03-07T18:44:36.665Z"
   },
   {
    "duration": 135,
    "start_time": "2023-03-07T18:44:37.661Z"
   },
   {
    "duration": 39,
    "start_time": "2023-03-07T18:44:38.679Z"
   },
   {
    "duration": 7,
    "start_time": "2023-03-07T18:44:41.703Z"
   },
   {
    "duration": 2103,
    "start_time": "2023-03-07T18:44:43.379Z"
   },
   {
    "duration": 51,
    "start_time": "2023-03-07T18:44:47.781Z"
   },
   {
    "duration": 297,
    "start_time": "2023-03-07T18:44:48.744Z"
   },
   {
    "duration": 18,
    "start_time": "2023-03-07T18:44:55.076Z"
   },
   {
    "duration": 110,
    "start_time": "2023-03-07T18:44:56.090Z"
   },
   {
    "duration": 8,
    "start_time": "2023-03-07T18:45:11.021Z"
   },
   {
    "duration": 13,
    "start_time": "2023-03-07T18:45:12.081Z"
   },
   {
    "duration": 44,
    "start_time": "2023-03-07T18:45:12.746Z"
   },
   {
    "duration": 7,
    "start_time": "2023-03-07T18:45:14.250Z"
   },
   {
    "duration": 3,
    "start_time": "2023-03-07T18:45:15.783Z"
   },
   {
    "duration": 15,
    "start_time": "2023-03-07T18:45:18.372Z"
   },
   {
    "duration": 493,
    "start_time": "2023-03-07T18:45:19.186Z"
   },
   {
    "duration": 849,
    "start_time": "2023-03-07T18:45:26.495Z"
   },
   {
    "duration": 623,
    "start_time": "2023-03-07T18:45:27.346Z"
   },
   {
    "duration": 2019,
    "start_time": "2023-03-08T20:50:39.030Z"
   },
   {
    "duration": 11,
    "start_time": "2023-03-08T20:50:42.430Z"
   },
   {
    "duration": 2,
    "start_time": "2023-03-08T20:50:46.129Z"
   },
   {
    "duration": 1320,
    "start_time": "2023-03-08T20:50:47.038Z"
   },
   {
    "duration": 607,
    "start_time": "2023-03-08T20:50:50.635Z"
   },
   {
    "duration": 74,
    "start_time": "2023-03-08T20:50:57.079Z"
   },
   {
    "duration": 24,
    "start_time": "2023-03-08T20:50:59.521Z"
   },
   {
    "duration": 72,
    "start_time": "2023-03-08T20:51:06.777Z"
   },
   {
    "duration": 271,
    "start_time": "2023-03-08T20:51:12.439Z"
   },
   {
    "duration": 1798,
    "start_time": "2023-03-08T20:51:27.440Z"
   },
   {
    "duration": 22,
    "start_time": "2023-03-08T20:52:56.083Z"
   },
   {
    "duration": 14,
    "start_time": "2023-03-08T20:52:59.518Z"
   },
   {
    "duration": 136,
    "start_time": "2023-03-08T20:53:02.938Z"
   },
   {
    "duration": 24,
    "start_time": "2023-03-08T20:53:17.339Z"
   },
   {
    "duration": 6,
    "start_time": "2023-03-08T20:53:30.336Z"
   },
   {
    "duration": 10,
    "start_time": "2023-03-08T20:53:31.730Z"
   },
   {
    "duration": 2,
    "start_time": "2023-03-08T20:53:32.768Z"
   },
   {
    "duration": 838,
    "start_time": "2023-03-08T20:53:33.151Z"
   },
   {
    "duration": 232,
    "start_time": "2023-03-08T20:53:34.002Z"
   },
   {
    "duration": 571,
    "start_time": "2023-03-08T20:53:34.738Z"
   },
   {
    "duration": 417,
    "start_time": "2023-03-08T20:53:35.318Z"
   },
   {
    "duration": 69,
    "start_time": "2023-03-08T20:53:35.744Z"
   },
   {
    "duration": 22,
    "start_time": "2023-03-08T20:53:36.919Z"
   },
   {
    "duration": 41,
    "start_time": "2023-03-08T20:53:37.395Z"
   },
   {
    "duration": 223,
    "start_time": "2023-03-08T20:53:38.024Z"
   },
   {
    "duration": 1809,
    "start_time": "2023-03-08T20:53:38.815Z"
   },
   {
    "duration": 16,
    "start_time": "2023-03-08T20:53:42.936Z"
   },
   {
    "duration": 10,
    "start_time": "2023-03-08T20:53:45.744Z"
   },
   {
    "duration": 124,
    "start_time": "2023-03-08T20:53:48.439Z"
   },
   {
    "duration": 15,
    "start_time": "2023-03-08T20:54:06.420Z"
   },
   {
    "duration": 1770,
    "start_time": "2023-03-08T20:55:04.472Z"
   },
   {
    "duration": 132,
    "start_time": "2023-03-08T20:56:32.522Z"
   },
   {
    "duration": 28,
    "start_time": "2023-03-08T20:56:41.923Z"
   },
   {
    "duration": 29,
    "start_time": "2023-03-08T20:57:32.318Z"
   },
   {
    "duration": 30,
    "start_time": "2023-03-08T20:58:49.423Z"
   },
   {
    "duration": 35,
    "start_time": "2023-03-08T20:58:55.128Z"
   },
   {
    "duration": 32,
    "start_time": "2023-03-08T20:59:00.022Z"
   },
   {
    "duration": 182,
    "start_time": "2023-03-08T21:04:27.139Z"
   },
   {
    "duration": 133,
    "start_time": "2023-03-08T21:04:39.405Z"
   },
   {
    "duration": 4,
    "start_time": "2023-03-08T21:04:57.119Z"
   },
   {
    "duration": 40,
    "start_time": "2023-03-08T21:05:22.137Z"
   },
   {
    "duration": 45,
    "start_time": "2023-03-08T21:06:05.869Z"
   },
   {
    "duration": 6,
    "start_time": "2023-03-08T21:07:04.545Z"
   },
   {
    "duration": 0,
    "start_time": "2023-03-08T21:07:40.263Z"
   },
   {
    "duration": 0,
    "start_time": "2023-03-08T21:07:40.264Z"
   },
   {
    "duration": 0,
    "start_time": "2023-03-08T21:07:40.266Z"
   },
   {
    "duration": 1902,
    "start_time": "2023-03-08T21:07:57.575Z"
   },
   {
    "duration": 14,
    "start_time": "2023-03-08T21:08:01.042Z"
   },
   {
    "duration": 17,
    "start_time": "2023-03-08T21:08:04.179Z"
   },
   {
    "duration": 1012,
    "start_time": "2023-03-08T21:08:05.006Z"
   },
   {
    "duration": 293,
    "start_time": "2023-03-08T21:08:08.064Z"
   },
   {
    "duration": 642,
    "start_time": "2023-03-08T21:08:10.353Z"
   },
   {
    "duration": 623,
    "start_time": "2023-03-08T21:08:11.006Z"
   },
   {
    "duration": 51,
    "start_time": "2023-03-08T21:08:13.409Z"
   },
   {
    "duration": 23,
    "start_time": "2023-03-08T21:08:15.643Z"
   },
   {
    "duration": 66,
    "start_time": "2023-03-08T21:08:16.834Z"
   },
   {
    "duration": 282,
    "start_time": "2023-03-08T21:08:18.545Z"
   },
   {
    "duration": 2138,
    "start_time": "2023-03-08T21:08:22.147Z"
   },
   {
    "duration": 27,
    "start_time": "2023-03-08T21:08:27.509Z"
   },
   {
    "duration": 11,
    "start_time": "2023-03-08T21:08:29.631Z"
   },
   {
    "duration": 14,
    "start_time": "2023-03-08T21:08:31.209Z"
   },
   {
    "duration": 188,
    "start_time": "2023-03-08T21:08:33.275Z"
   },
   {
    "duration": 18,
    "start_time": "2023-03-08T21:08:34.911Z"
   },
   {
    "duration": 1864,
    "start_time": "2023-03-08T21:08:37.705Z"
   },
   {
    "duration": 5,
    "start_time": "2023-03-08T21:08:43.031Z"
   },
   {
    "duration": 3443,
    "start_time": "2023-03-08T21:08:45.231Z"
   },
   {
    "duration": 4,
    "start_time": "2023-03-08T21:09:04.339Z"
   },
   {
    "duration": 3974,
    "start_time": "2023-03-08T21:09:06.363Z"
   },
   {
    "duration": 2163,
    "start_time": "2023-03-10T08:20:29.098Z"
   },
   {
    "duration": 13,
    "start_time": "2023-03-10T08:20:34.574Z"
   },
   {
    "duration": 3,
    "start_time": "2023-03-10T08:20:35.963Z"
   },
   {
    "duration": 3301,
    "start_time": "2023-03-10T08:20:36.397Z"
   },
   {
    "duration": 227,
    "start_time": "2023-03-10T08:20:39.700Z"
   },
   {
    "duration": 403,
    "start_time": "2023-03-10T08:20:39.929Z"
   },
   {
    "duration": 47,
    "start_time": "2023-03-10T08:20:43.476Z"
   },
   {
    "duration": 25,
    "start_time": "2023-03-10T08:20:46.005Z"
   },
   {
    "duration": 41,
    "start_time": "2023-03-10T08:20:51.100Z"
   },
   {
    "duration": 1524,
    "start_time": "2023-03-10T08:20:54.412Z"
   },
   {
    "duration": 16,
    "start_time": "2023-03-10T08:20:56.908Z"
   },
   {
    "duration": 10,
    "start_time": "2023-03-10T08:20:58.012Z"
   },
   {
    "duration": 10,
    "start_time": "2023-03-10T08:20:59.942Z"
   },
   {
    "duration": 133,
    "start_time": "2023-03-10T08:21:01.955Z"
   },
   {
    "duration": 17,
    "start_time": "2023-03-10T08:21:03.821Z"
   },
   {
    "duration": 1247,
    "start_time": "2023-03-10T08:21:05.466Z"
   },
   {
    "duration": 3,
    "start_time": "2023-03-10T08:44:36.460Z"
   },
   {
    "duration": 142,
    "start_time": "2023-03-10T08:45:23.867Z"
   },
   {
    "duration": 254,
    "start_time": "2023-03-10T08:46:24.998Z"
   },
   {
    "duration": 3,
    "start_time": "2023-03-10T08:46:35.020Z"
   },
   {
    "duration": 189,
    "start_time": "2023-03-10T08:46:40.747Z"
   },
   {
    "duration": 3,
    "start_time": "2023-03-10T08:46:51.003Z"
   },
   {
    "duration": 91,
    "start_time": "2023-03-10T08:46:52.372Z"
   },
   {
    "duration": 37,
    "start_time": "2023-03-10T08:46:54.012Z"
   },
   {
    "duration": 4,
    "start_time": "2023-03-10T08:47:15.603Z"
   },
   {
    "duration": 95,
    "start_time": "2023-03-10T08:47:17.075Z"
   },
   {
    "duration": 30,
    "start_time": "2023-03-10T08:47:18.276Z"
   },
   {
    "duration": 31,
    "start_time": "2023-03-10T08:47:46.612Z"
   },
   {
    "duration": 35,
    "start_time": "2023-03-10T08:47:54.029Z"
   },
   {
    "duration": 5,
    "start_time": "2023-03-10T08:48:42.468Z"
   },
   {
    "duration": 22,
    "start_time": "2023-03-10T08:49:01.710Z"
   },
   {
    "duration": 1583,
    "start_time": "2023-03-12T18:30:23.682Z"
   },
   {
    "duration": 11,
    "start_time": "2023-03-12T18:30:26.164Z"
   },
   {
    "duration": 3,
    "start_time": "2023-03-12T18:30:27.575Z"
   },
   {
    "duration": 3189,
    "start_time": "2023-03-12T18:30:27.981Z"
   },
   {
    "duration": 242,
    "start_time": "2023-03-12T18:30:31.172Z"
   },
   {
    "duration": 507,
    "start_time": "2023-03-12T18:30:31.416Z"
   },
   {
    "duration": 474,
    "start_time": "2023-03-12T18:30:31.925Z"
   },
   {
    "duration": 55,
    "start_time": "2023-03-12T18:30:32.400Z"
   },
   {
    "duration": 24,
    "start_time": "2023-03-12T18:30:32.457Z"
   },
   {
    "duration": 55,
    "start_time": "2023-03-12T18:30:32.483Z"
   },
   {
    "duration": 205,
    "start_time": "2023-03-12T18:30:32.694Z"
   },
   {
    "duration": 1637,
    "start_time": "2023-03-12T18:30:33.301Z"
   },
   {
    "duration": 16,
    "start_time": "2023-03-12T18:30:35.599Z"
   },
   {
    "duration": 10,
    "start_time": "2023-03-12T18:30:36.331Z"
   },
   {
    "duration": 9,
    "start_time": "2023-03-12T18:30:39.124Z"
   },
   {
    "duration": 125,
    "start_time": "2023-03-12T18:30:39.834Z"
   },
   {
    "duration": 16,
    "start_time": "2023-03-12T18:30:40.459Z"
   },
   {
    "duration": 1500,
    "start_time": "2023-03-12T18:30:41.274Z"
   },
   {
    "duration": 23,
    "start_time": "2023-03-12T18:30:42.775Z"
   },
   {
    "duration": 21,
    "start_time": "2023-03-12T18:30:55.329Z"
   },
   {
    "duration": 35,
    "start_time": "2023-03-12T18:34:10.528Z"
   },
   {
    "duration": 19,
    "start_time": "2023-03-12T18:34:33.668Z"
   },
   {
    "duration": 1585,
    "start_time": "2023-03-12T19:39:37.296Z"
   },
   {
    "duration": 14,
    "start_time": "2023-03-12T19:39:39.113Z"
   },
   {
    "duration": 2,
    "start_time": "2023-03-12T19:39:41.537Z"
   },
   {
    "duration": 845,
    "start_time": "2023-03-12T19:39:42.200Z"
   },
   {
    "duration": 265,
    "start_time": "2023-03-12T19:39:48.442Z"
   },
   {
    "duration": 454,
    "start_time": "2023-03-12T19:39:50.089Z"
   },
   {
    "duration": 513,
    "start_time": "2023-03-12T19:39:55.052Z"
   },
   {
    "duration": 55,
    "start_time": "2023-03-12T19:39:57.594Z"
   },
   {
    "duration": 29,
    "start_time": "2023-03-12T19:40:05.318Z"
   },
   {
    "duration": 45,
    "start_time": "2023-03-12T19:40:06.325Z"
   },
   {
    "duration": 142,
    "start_time": "2023-03-12T19:40:59.771Z"
   },
   {
    "duration": 24,
    "start_time": "2023-03-12T19:41:08.193Z"
   },
   {
    "duration": 31,
    "start_time": "2023-03-12T19:41:24.335Z"
   },
   {
    "duration": 1789,
    "start_time": "2023-03-13T20:24:04.623Z"
   },
   {
    "duration": 13,
    "start_time": "2023-03-13T20:24:07.215Z"
   },
   {
    "duration": 2,
    "start_time": "2023-03-13T20:24:08.208Z"
   },
   {
    "duration": 3121,
    "start_time": "2023-03-13T20:24:08.608Z"
   },
   {
    "duration": 222,
    "start_time": "2023-03-13T20:24:11.731Z"
   },
   {
    "duration": 406,
    "start_time": "2023-03-13T20:24:11.955Z"
   },
   {
    "duration": 508,
    "start_time": "2023-03-13T20:24:12.363Z"
   },
   {
    "duration": 68,
    "start_time": "2023-03-13T20:24:12.873Z"
   },
   {
    "duration": 31,
    "start_time": "2023-03-13T20:24:12.948Z"
   },
   {
    "duration": 43,
    "start_time": "2023-03-13T20:24:12.981Z"
   },
   {
    "duration": 195,
    "start_time": "2023-03-13T20:24:15.411Z"
   },
   {
    "duration": 1581,
    "start_time": "2023-03-13T20:24:15.890Z"
   },
   {
    "duration": 17,
    "start_time": "2023-03-13T20:24:19.655Z"
   },
   {
    "duration": 12,
    "start_time": "2023-03-13T20:24:20.350Z"
   },
   {
    "duration": 9,
    "start_time": "2023-03-13T20:24:20.805Z"
   },
   {
    "duration": 116,
    "start_time": "2023-03-13T20:24:21.259Z"
   },
   {
    "duration": 16,
    "start_time": "2023-03-13T20:24:23.306Z"
   },
   {
    "duration": 1323,
    "start_time": "2023-03-13T20:24:23.944Z"
   },
   {
    "duration": 28,
    "start_time": "2023-03-13T20:24:25.269Z"
   },
   {
    "duration": 10,
    "start_time": "2023-03-13T20:24:25.299Z"
   },
   {
    "duration": 5,
    "start_time": "2023-03-13T20:24:28.119Z"
   },
   {
    "duration": 841,
    "start_time": "2023-03-13T20:24:30.135Z"
   },
   {
    "duration": 5,
    "start_time": "2023-03-13T20:24:30.978Z"
   },
   {
    "duration": 27,
    "start_time": "2023-03-13T20:24:31.038Z"
   },
   {
    "duration": 23,
    "start_time": "2023-03-13T20:24:32.328Z"
   },
   {
    "duration": 4,
    "start_time": "2023-03-13T20:24:35.582Z"
   },
   {
    "duration": 9,
    "start_time": "2023-03-13T20:24:37.321Z"
   },
   {
    "duration": 87,
    "start_time": "2023-03-13T20:24:39.091Z"
   },
   {
    "duration": 5,
    "start_time": "2023-03-13T20:24:41.041Z"
   },
   {
    "duration": 4,
    "start_time": "2023-03-13T20:24:43.159Z"
   },
   {
    "duration": 5,
    "start_time": "2023-03-13T20:24:43.847Z"
   },
   {
    "duration": 5,
    "start_time": "2023-03-13T20:24:51.485Z"
   },
   {
    "duration": 10,
    "start_time": "2023-03-13T20:24:52.568Z"
   },
   {
    "duration": 15,
    "start_time": "2023-03-13T20:26:10.870Z"
   },
   {
    "duration": 5,
    "start_time": "2023-03-13T20:26:14.806Z"
   },
   {
    "duration": 1425,
    "start_time": "2023-03-13T20:26:24.561Z"
   },
   {
    "duration": 11,
    "start_time": "2023-03-13T20:26:25.988Z"
   },
   {
    "duration": 3,
    "start_time": "2023-03-13T20:26:26.791Z"
   },
   {
    "duration": 826,
    "start_time": "2023-03-13T20:26:27.210Z"
   },
   {
    "duration": 223,
    "start_time": "2023-03-13T20:26:28.040Z"
   },
   {
    "duration": 460,
    "start_time": "2023-03-13T20:26:28.265Z"
   },
   {
    "duration": 453,
    "start_time": "2023-03-13T20:26:28.727Z"
   },
   {
    "duration": 52,
    "start_time": "2023-03-13T20:26:29.486Z"
   },
   {
    "duration": 26,
    "start_time": "2023-03-13T20:26:31.928Z"
   },
   {
    "duration": 45,
    "start_time": "2023-03-13T20:26:32.537Z"
   },
   {
    "duration": 194,
    "start_time": "2023-03-13T20:26:32.987Z"
   },
   {
    "duration": 1650,
    "start_time": "2023-03-13T20:26:33.807Z"
   },
   {
    "duration": 17,
    "start_time": "2023-03-13T20:26:36.604Z"
   },
   {
    "duration": 10,
    "start_time": "2023-03-13T20:26:38.690Z"
   },
   {
    "duration": 10,
    "start_time": "2023-03-13T20:26:40.225Z"
   },
   {
    "duration": 113,
    "start_time": "2023-03-13T20:26:41.507Z"
   },
   {
    "duration": 20,
    "start_time": "2023-03-13T20:26:41.839Z"
   },
   {
    "duration": 1490,
    "start_time": "2023-03-13T20:26:42.258Z"
   },
   {
    "duration": 26,
    "start_time": "2023-03-13T20:26:43.750Z"
   },
   {
    "duration": 10,
    "start_time": "2023-03-13T20:26:43.778Z"
   },
   {
    "duration": 535,
    "start_time": "2023-03-13T20:26:54.793Z"
   },
   {
    "duration": 5,
    "start_time": "2023-03-13T20:26:55.811Z"
   },
   {
    "duration": 4,
    "start_time": "2023-03-13T20:26:57.457Z"
   },
   {
    "duration": 11,
    "start_time": "2023-03-13T20:26:59.936Z"
   },
   {
    "duration": 924,
    "start_time": "2023-03-13T20:27:02.399Z"
   },
   {
    "duration": 5,
    "start_time": "2023-03-13T20:27:03.609Z"
   },
   {
    "duration": 26,
    "start_time": "2023-03-13T20:27:04.464Z"
   },
   {
    "duration": 23,
    "start_time": "2023-03-13T20:27:07.306Z"
   },
   {
    "duration": 8,
    "start_time": "2023-03-13T20:27:28.801Z"
   },
   {
    "duration": 5,
    "start_time": "2023-03-13T20:27:46.911Z"
   },
   {
    "duration": 7,
    "start_time": "2023-03-13T20:27:48.032Z"
   },
   {
    "duration": 3,
    "start_time": "2023-03-13T20:28:30.063Z"
   },
   {
    "duration": 7,
    "start_time": "2023-03-13T20:28:31.464Z"
   },
   {
    "duration": 15,
    "start_time": "2023-03-14T05:55:49.711Z"
   },
   {
    "duration": 1638,
    "start_time": "2023-03-14T05:55:52.272Z"
   },
   {
    "duration": 3,
    "start_time": "2023-03-14T05:55:55.708Z"
   },
   {
    "duration": 3364,
    "start_time": "2023-03-14T05:55:56.223Z"
   },
   {
    "duration": 240,
    "start_time": "2023-03-14T05:55:59.589Z"
   },
   {
    "duration": 457,
    "start_time": "2023-03-14T05:55:59.831Z"
   },
   {
    "duration": 472,
    "start_time": "2023-03-14T05:56:00.291Z"
   },
   {
    "duration": 47,
    "start_time": "2023-03-14T05:56:00.765Z"
   },
   {
    "duration": 283,
    "start_time": "2023-03-14T05:56:04.296Z"
   },
   {
    "duration": 181,
    "start_time": "2023-03-14T05:56:12.118Z"
   },
   {
    "duration": 187,
    "start_time": "2023-03-14T05:56:24.382Z"
   },
   {
    "duration": 128,
    "start_time": "2023-03-14T05:56:25.675Z"
   },
   {
    "duration": 23,
    "start_time": "2023-03-14T05:56:36.192Z"
   },
   {
    "duration": 57,
    "start_time": "2023-03-14T05:56:37.253Z"
   },
   {
    "duration": 195,
    "start_time": "2023-03-14T05:56:38.735Z"
   },
   {
    "duration": 1504,
    "start_time": "2023-03-14T05:56:40.570Z"
   },
   {
    "duration": 24,
    "start_time": "2023-03-14T05:56:42.153Z"
   },
   {
    "duration": 9,
    "start_time": "2023-03-14T05:56:43.277Z"
   },
   {
    "duration": 9,
    "start_time": "2023-03-14T05:56:44.620Z"
   },
   {
    "duration": 146,
    "start_time": "2023-03-14T05:56:45.134Z"
   },
   {
    "duration": 20,
    "start_time": "2023-03-14T05:56:51.508Z"
   },
   {
    "duration": 1635,
    "start_time": "2023-03-14T05:56:52.240Z"
   },
   {
    "duration": 24,
    "start_time": "2023-03-14T05:56:53.879Z"
   },
   {
    "duration": 10,
    "start_time": "2023-03-14T05:56:53.904Z"
   },
   {
    "duration": 12,
    "start_time": "2023-03-14T05:57:11.023Z"
   },
   {
    "duration": 22,
    "start_time": "2023-03-14T05:57:22.521Z"
   },
   {
    "duration": 1749,
    "start_time": "2023-03-14T06:03:40.576Z"
   },
   {
    "duration": 11,
    "start_time": "2023-03-14T06:03:42.327Z"
   },
   {
    "duration": 7,
    "start_time": "2023-03-14T06:03:42.662Z"
   },
   {
    "duration": 989,
    "start_time": "2023-03-14T06:03:42.962Z"
   },
   {
    "duration": 266,
    "start_time": "2023-03-14T06:03:43.953Z"
   },
   {
    "duration": 512,
    "start_time": "2023-03-14T06:03:44.221Z"
   },
   {
    "duration": 537,
    "start_time": "2023-03-14T06:03:44.735Z"
   },
   {
    "duration": 45,
    "start_time": "2023-03-14T06:03:45.282Z"
   },
   {
    "duration": 29,
    "start_time": "2023-03-14T06:03:49.461Z"
   },
   {
    "duration": 45,
    "start_time": "2023-03-14T06:03:51.082Z"
   },
   {
    "duration": 273,
    "start_time": "2023-03-14T06:03:52.097Z"
   },
   {
    "duration": 2267,
    "start_time": "2023-03-14T06:03:53.241Z"
   },
   {
    "duration": 29,
    "start_time": "2023-03-14T06:03:59.274Z"
   },
   {
    "duration": 11,
    "start_time": "2023-03-14T06:04:05.094Z"
   },
   {
    "duration": 21,
    "start_time": "2023-03-14T06:04:11.135Z"
   },
   {
    "duration": 70,
    "start_time": "2023-03-14T06:04:25.015Z"
   },
   {
    "duration": 44,
    "start_time": "2023-03-14T06:04:26.585Z"
   },
   {
    "duration": 180,
    "start_time": "2023-03-14T06:04:37.309Z"
   },
   {
    "duration": 22,
    "start_time": "2023-03-14T06:04:39.487Z"
   },
   {
    "duration": 34,
    "start_time": "2023-03-14T06:05:12.701Z"
   },
   {
    "duration": 2287,
    "start_time": "2023-03-14T06:06:23.204Z"
   },
   {
    "duration": 36,
    "start_time": "2023-03-14T06:06:30.355Z"
   },
   {
    "duration": 51,
    "start_time": "2023-03-14T06:06:32.562Z"
   },
   {
    "duration": 23,
    "start_time": "2023-03-14T06:06:46.912Z"
   },
   {
    "duration": 19,
    "start_time": "2023-03-14T06:09:16.095Z"
   },
   {
    "duration": 222,
    "start_time": "2023-03-14T06:09:17.000Z"
   },
   {
    "duration": 7,
    "start_time": "2023-03-14T06:09:17.579Z"
   },
   {
    "duration": 5,
    "start_time": "2023-03-14T06:09:24.299Z"
   },
   {
    "duration": 8,
    "start_time": "2023-03-14T06:09:24.609Z"
   },
   {
    "duration": 15,
    "start_time": "2023-03-14T06:09:26.120Z"
   },
   {
    "duration": 30,
    "start_time": "2023-03-14T06:42:52.726Z"
   },
   {
    "duration": 11,
    "start_time": "2023-03-14T06:42:57.862Z"
   },
   {
    "duration": 475,
    "start_time": "2023-03-14T06:43:00.462Z"
   },
   {
    "duration": 822,
    "start_time": "2023-03-14T07:34:02.256Z"
   },
   {
    "duration": 5,
    "start_time": "2023-03-14T07:34:15.178Z"
   },
   {
    "duration": 19,
    "start_time": "2023-03-14T07:34:18.821Z"
   },
   {
    "duration": 21,
    "start_time": "2023-03-14T07:34:24.497Z"
   },
   {
    "duration": 12,
    "start_time": "2023-03-14T07:35:00.679Z"
   },
   {
    "duration": 14,
    "start_time": "2023-03-14T07:35:41.398Z"
   },
   {
    "duration": 626,
    "start_time": "2023-03-14T12:59:15.062Z"
   },
   {
    "duration": 1616,
    "start_time": "2023-03-14T13:25:27.620Z"
   },
   {
    "duration": 23,
    "start_time": "2023-03-14T13:25:29.242Z"
   },
   {
    "duration": 9,
    "start_time": "2023-03-14T13:25:31.691Z"
   },
   {
    "duration": 1006,
    "start_time": "2023-03-14T13:25:32.588Z"
   },
   {
    "duration": 281,
    "start_time": "2023-03-14T13:25:33.721Z"
   },
   {
    "duration": 485,
    "start_time": "2023-03-14T13:25:34.233Z"
   },
   {
    "duration": 482,
    "start_time": "2023-03-14T13:25:34.872Z"
   },
   {
    "duration": 66,
    "start_time": "2023-03-14T13:25:36.404Z"
   },
   {
    "duration": 37,
    "start_time": "2023-03-14T13:25:39.041Z"
   },
   {
    "duration": 64,
    "start_time": "2023-03-14T13:25:39.694Z"
   },
   {
    "duration": 210,
    "start_time": "2023-03-14T13:25:40.244Z"
   },
   {
    "duration": 1867,
    "start_time": "2023-03-14T13:25:41.225Z"
   },
   {
    "duration": 24,
    "start_time": "2023-03-14T13:25:45.074Z"
   },
   {
    "duration": 11,
    "start_time": "2023-03-14T13:25:45.713Z"
   },
   {
    "duration": 15,
    "start_time": "2023-03-14T13:25:47.042Z"
   },
   {
    "duration": 156,
    "start_time": "2023-03-14T13:25:57.112Z"
   },
   {
    "duration": 21,
    "start_time": "2023-03-14T13:25:57.875Z"
   },
   {
    "duration": 1643,
    "start_time": "2023-03-14T13:25:58.575Z"
   },
   {
    "duration": 38,
    "start_time": "2023-03-14T13:26:00.222Z"
   },
   {
    "duration": 26,
    "start_time": "2023-03-14T13:26:00.265Z"
   },
   {
    "duration": 59,
    "start_time": "2023-03-14T13:26:00.292Z"
   },
   {
    "duration": 85,
    "start_time": "2023-03-14T13:26:00.353Z"
   },
   {
    "duration": 1895,
    "start_time": "2023-03-14T13:26:06.172Z"
   },
   {
    "duration": 43,
    "start_time": "2023-03-14T13:26:08.351Z"
   },
   {
    "duration": 259,
    "start_time": "2023-03-14T13:26:09.729Z"
   },
   {
    "duration": 114,
    "start_time": "2023-03-14T13:26:12.466Z"
   },
   {
    "duration": 9,
    "start_time": "2023-03-14T13:26:15.609Z"
   },
   {
    "duration": 91,
    "start_time": "2023-03-14T13:26:20.286Z"
   },
   {
    "duration": 26,
    "start_time": "2023-03-14T13:26:21.241Z"
   },
   {
    "duration": 1616,
    "start_time": "2023-03-14T13:35:26.373Z"
   },
   {
    "duration": 26,
    "start_time": "2023-03-14T13:35:28.173Z"
   },
   {
    "duration": 3,
    "start_time": "2023-03-14T13:35:29.514Z"
   },
   {
    "duration": 1089,
    "start_time": "2023-03-14T13:35:30.122Z"
   },
   {
    "duration": 304,
    "start_time": "2023-03-14T13:35:33.411Z"
   },
   {
    "duration": 511,
    "start_time": "2023-03-14T13:35:36.311Z"
   },
   {
    "duration": 476,
    "start_time": "2023-03-14T13:35:44.411Z"
   },
   {
    "duration": 77,
    "start_time": "2023-03-14T13:35:49.224Z"
   },
   {
    "duration": 23,
    "start_time": "2023-03-14T13:35:52.311Z"
   },
   {
    "duration": 68,
    "start_time": "2023-03-14T13:35:53.929Z"
   },
   {
    "duration": 348,
    "start_time": "2023-03-14T13:35:55.551Z"
   },
   {
    "duration": 1875,
    "start_time": "2023-03-14T13:35:57.572Z"
   },
   {
    "duration": 24,
    "start_time": "2023-03-14T13:36:00.092Z"
   },
   {
    "duration": 9,
    "start_time": "2023-03-14T13:36:03.915Z"
   },
   {
    "duration": 9,
    "start_time": "2023-03-14T13:36:05.815Z"
   },
   {
    "duration": 160,
    "start_time": "2023-03-14T13:36:09.137Z"
   },
   {
    "duration": 23,
    "start_time": "2023-03-14T13:36:14.989Z"
   },
   {
    "duration": 1646,
    "start_time": "2023-03-14T13:36:16.691Z"
   },
   {
    "duration": 30,
    "start_time": "2023-03-14T13:36:20.688Z"
   },
   {
    "duration": 24,
    "start_time": "2023-03-14T13:36:22.607Z"
   },
   {
    "duration": 19,
    "start_time": "2023-03-14T13:36:24.315Z"
   },
   {
    "duration": 18,
    "start_time": "2023-03-14T13:36:25.606Z"
   },
   {
    "duration": 2241,
    "start_time": "2023-03-14T13:36:40.816Z"
   },
   {
    "duration": 283,
    "start_time": "2023-03-14T13:36:47.898Z"
   },
   {
    "duration": 1696,
    "start_time": "2023-03-14T13:39:35.415Z"
   },
   {
    "duration": 11,
    "start_time": "2023-03-14T13:39:38.219Z"
   },
   {
    "duration": 7,
    "start_time": "2023-03-14T13:39:41.772Z"
   },
   {
    "duration": 956,
    "start_time": "2023-03-14T13:39:42.536Z"
   },
   {
    "duration": 285,
    "start_time": "2023-03-14T13:39:44.795Z"
   },
   {
    "duration": 510,
    "start_time": "2023-03-14T13:39:46.517Z"
   },
   {
    "duration": 506,
    "start_time": "2023-03-14T13:39:49.220Z"
   },
   {
    "duration": 64,
    "start_time": "2023-03-14T13:39:52.534Z"
   },
   {
    "duration": 27,
    "start_time": "2023-03-14T13:39:56.087Z"
   },
   {
    "duration": 52,
    "start_time": "2023-03-14T13:39:58.723Z"
   },
   {
    "duration": 144,
    "start_time": "2023-03-14T13:40:17.569Z"
   },
   {
    "duration": 7,
    "start_time": "2023-03-14T13:40:21.686Z"
   },
   {
    "duration": 1525,
    "start_time": "2023-03-14T13:41:41.685Z"
   },
   {
    "duration": 14,
    "start_time": "2023-03-14T13:41:43.213Z"
   },
   {
    "duration": 3,
    "start_time": "2023-03-14T13:41:44.327Z"
   },
   {
    "duration": 842,
    "start_time": "2023-03-14T13:41:44.719Z"
   },
   {
    "duration": 226,
    "start_time": "2023-03-14T13:41:47.819Z"
   },
   {
    "duration": 550,
    "start_time": "2023-03-14T13:41:50.387Z"
   },
   {
    "duration": 553,
    "start_time": "2023-03-14T13:41:51.039Z"
   },
   {
    "duration": 65,
    "start_time": "2023-03-14T13:41:53.617Z"
   },
   {
    "duration": 33,
    "start_time": "2023-03-14T13:41:55.588Z"
   },
   {
    "duration": 9,
    "start_time": "2023-03-14T13:41:58.282Z"
   },
   {
    "duration": 10,
    "start_time": "2023-03-14T13:42:35.311Z"
   },
   {
    "duration": 1805,
    "start_time": "2023-03-14T13:44:21.219Z"
   },
   {
    "duration": 12,
    "start_time": "2023-03-14T13:44:23.026Z"
   },
   {
    "duration": 3,
    "start_time": "2023-03-14T13:44:24.020Z"
   },
   {
    "duration": 910,
    "start_time": "2023-03-14T13:44:24.458Z"
   },
   {
    "duration": 264,
    "start_time": "2023-03-14T13:44:27.367Z"
   },
   {
    "duration": 524,
    "start_time": "2023-03-14T13:44:29.233Z"
   },
   {
    "duration": 491,
    "start_time": "2023-03-14T13:44:31.582Z"
   },
   {
    "duration": 76,
    "start_time": "2023-03-14T13:44:33.721Z"
   },
   {
    "duration": 23,
    "start_time": "2023-03-14T13:44:34.914Z"
   },
   {
    "duration": 11,
    "start_time": "2023-03-14T13:44:35.929Z"
   },
   {
    "duration": 40,
    "start_time": "2023-03-14T13:44:37.004Z"
   },
   {
    "duration": 212,
    "start_time": "2023-03-14T13:44:47.392Z"
   },
   {
    "duration": 1768,
    "start_time": "2023-03-14T13:44:51.624Z"
   },
   {
    "duration": 19,
    "start_time": "2023-03-14T13:45:18.879Z"
   },
   {
    "duration": 5,
    "start_time": "2023-03-14T13:45:34.862Z"
   },
   {
    "duration": 1536,
    "start_time": "2023-03-14T13:46:06.166Z"
   },
   {
    "duration": 10,
    "start_time": "2023-03-14T13:46:07.704Z"
   },
   {
    "duration": 2,
    "start_time": "2023-03-14T13:46:08.587Z"
   },
   {
    "duration": 836,
    "start_time": "2023-03-14T13:46:09.466Z"
   },
   {
    "duration": 240,
    "start_time": "2023-03-14T13:50:07.261Z"
   },
   {
    "duration": 391,
    "start_time": "2023-03-14T13:50:07.586Z"
   },
   {
    "duration": 440,
    "start_time": "2023-03-14T13:50:08.118Z"
   },
   {
    "duration": 41,
    "start_time": "2023-03-14T13:50:09.367Z"
   },
   {
    "duration": 26,
    "start_time": "2023-03-14T13:50:10.526Z"
   },
   {
    "duration": 12,
    "start_time": "2023-03-14T13:50:20.266Z"
   },
   {
    "duration": 1563,
    "start_time": "2023-03-14T13:50:57.134Z"
   },
   {
    "duration": 12,
    "start_time": "2023-03-14T13:50:58.699Z"
   },
   {
    "duration": 3,
    "start_time": "2023-03-14T13:51:00.568Z"
   },
   {
    "duration": 943,
    "start_time": "2023-03-14T13:51:00.830Z"
   },
   {
    "duration": 246,
    "start_time": "2023-03-14T13:51:02.135Z"
   },
   {
    "duration": 426,
    "start_time": "2023-03-14T13:51:06.022Z"
   },
   {
    "duration": 434,
    "start_time": "2023-03-14T13:51:06.570Z"
   },
   {
    "duration": 53,
    "start_time": "2023-03-14T13:51:10.518Z"
   },
   {
    "duration": 29,
    "start_time": "2023-03-14T13:51:13.819Z"
   },
   {
    "duration": 11,
    "start_time": "2023-03-14T13:51:14.822Z"
   },
   {
    "duration": 46,
    "start_time": "2023-03-14T13:51:30.985Z"
   },
   {
    "duration": 196,
    "start_time": "2023-03-14T13:51:39.623Z"
   },
   {
    "duration": 38,
    "start_time": "2023-03-14T13:52:03.687Z"
   },
   {
    "duration": 177,
    "start_time": "2023-03-14T13:52:05.666Z"
   },
   {
    "duration": 11,
    "start_time": "2023-03-14T13:52:22.982Z"
   },
   {
    "duration": 1483,
    "start_time": "2023-03-14T13:52:32.455Z"
   },
   {
    "duration": 14,
    "start_time": "2023-03-14T13:52:33.942Z"
   },
   {
    "duration": 18,
    "start_time": "2023-03-14T13:52:33.965Z"
   },
   {
    "duration": 772,
    "start_time": "2023-03-14T13:52:33.984Z"
   },
   {
    "duration": 248,
    "start_time": "2023-03-14T13:52:34.758Z"
   },
   {
    "duration": 424,
    "start_time": "2023-03-14T13:52:35.008Z"
   },
   {
    "duration": 465,
    "start_time": "2023-03-14T13:52:35.434Z"
   },
   {
    "duration": 69,
    "start_time": "2023-03-14T13:52:35.901Z"
   },
   {
    "duration": 27,
    "start_time": "2023-03-14T13:52:35.974Z"
   },
   {
    "duration": 14,
    "start_time": "2023-03-14T13:52:36.002Z"
   },
   {
    "duration": 60,
    "start_time": "2023-03-14T13:52:36.018Z"
   },
   {
    "duration": 11,
    "start_time": "2023-03-14T13:52:36.080Z"
   },
   {
    "duration": 203,
    "start_time": "2023-03-14T13:52:36.092Z"
   },
   {
    "duration": 2546,
    "start_time": "2023-03-14T13:52:36.297Z"
   },
   {
    "duration": 23,
    "start_time": "2023-03-14T13:52:38.848Z"
   },
   {
    "duration": 16,
    "start_time": "2023-03-14T13:52:38.874Z"
   },
   {
    "duration": 54,
    "start_time": "2023-03-14T13:52:38.892Z"
   },
   {
    "duration": 297,
    "start_time": "2023-03-14T13:52:38.949Z"
   },
   {
    "duration": 23,
    "start_time": "2023-03-14T13:52:39.248Z"
   },
   {
    "duration": 1526,
    "start_time": "2023-03-14T13:52:45.538Z"
   },
   {
    "duration": 13,
    "start_time": "2023-03-14T13:52:47.066Z"
   },
   {
    "duration": 3,
    "start_time": "2023-03-14T13:52:47.523Z"
   },
   {
    "duration": 793,
    "start_time": "2023-03-14T13:52:47.869Z"
   },
   {
    "duration": 219,
    "start_time": "2023-03-14T13:52:48.663Z"
   },
   {
    "duration": 405,
    "start_time": "2023-03-14T13:52:49.060Z"
   },
   {
    "duration": 450,
    "start_time": "2023-03-14T13:52:49.627Z"
   },
   {
    "duration": 55,
    "start_time": "2023-03-14T13:52:53.316Z"
   },
   {
    "duration": 33,
    "start_time": "2023-03-14T13:52:54.974Z"
   },
   {
    "duration": 14,
    "start_time": "2023-03-14T13:52:56.688Z"
   },
   {
    "duration": 59,
    "start_time": "2023-03-14T13:52:57.132Z"
   },
   {
    "duration": 11,
    "start_time": "2023-03-14T13:52:57.869Z"
   },
   {
    "duration": 1781,
    "start_time": "2023-03-14T13:52:59.862Z"
   },
   {
    "duration": 236,
    "start_time": "2023-03-14T13:53:01.651Z"
   },
   {
    "duration": 18,
    "start_time": "2023-03-14T13:53:08.569Z"
   },
   {
    "duration": 13,
    "start_time": "2023-03-14T13:53:09.067Z"
   },
   {
    "duration": 14,
    "start_time": "2023-03-14T13:53:09.966Z"
   },
   {
    "duration": 131,
    "start_time": "2023-03-14T13:53:10.727Z"
   },
   {
    "duration": 15,
    "start_time": "2023-03-14T13:53:14.786Z"
   },
   {
    "duration": 1505,
    "start_time": "2023-03-14T13:53:15.674Z"
   },
   {
    "duration": 24,
    "start_time": "2023-03-14T13:53:17.182Z"
   },
   {
    "duration": 37,
    "start_time": "2023-03-14T13:53:17.372Z"
   },
   {
    "duration": 23,
    "start_time": "2023-03-14T13:53:18.093Z"
   },
   {
    "duration": 30,
    "start_time": "2023-03-14T13:53:21.263Z"
   },
   {
    "duration": 1690,
    "start_time": "2023-03-14T13:53:29.571Z"
   },
   {
    "duration": 40,
    "start_time": "2023-03-14T13:53:32.485Z"
   },
   {
    "duration": 74,
    "start_time": "2023-03-14T13:53:35.020Z"
   },
   {
    "duration": 218,
    "start_time": "2023-03-14T13:53:36.366Z"
   },
   {
    "duration": 1497,
    "start_time": "2023-03-14T13:55:24.766Z"
   },
   {
    "duration": 14,
    "start_time": "2023-03-14T13:55:26.265Z"
   },
   {
    "duration": 3,
    "start_time": "2023-03-14T13:55:27.427Z"
   },
   {
    "duration": 813,
    "start_time": "2023-03-14T13:55:29.062Z"
   },
   {
    "duration": 224,
    "start_time": "2023-03-14T13:55:30.236Z"
   },
   {
    "duration": 434,
    "start_time": "2023-03-14T13:55:31.422Z"
   },
   {
    "duration": 466,
    "start_time": "2023-03-14T13:56:13.089Z"
   },
   {
    "duration": 52,
    "start_time": "2023-03-14T13:56:15.295Z"
   },
   {
    "duration": 30,
    "start_time": "2023-03-14T13:56:52.324Z"
   },
   {
    "duration": 12,
    "start_time": "2023-03-14T13:56:54.576Z"
   },
   {
    "duration": 227,
    "start_time": "2023-03-14T13:57:42.030Z"
   },
   {
    "duration": 1706,
    "start_time": "2023-03-14T13:57:44.429Z"
   },
   {
    "duration": 16,
    "start_time": "2023-03-14T13:57:47.419Z"
   },
   {
    "duration": 9,
    "start_time": "2023-03-14T13:57:48.096Z"
   },
   {
    "duration": 15,
    "start_time": "2023-03-14T13:57:48.458Z"
   },
   {
    "duration": 138,
    "start_time": "2023-03-14T13:57:48.713Z"
   },
   {
    "duration": 20,
    "start_time": "2023-03-14T13:57:48.993Z"
   },
   {
    "duration": 1634,
    "start_time": "2023-03-14T13:57:49.532Z"
   },
   {
    "duration": 26,
    "start_time": "2023-03-14T13:57:51.170Z"
   },
   {
    "duration": 35,
    "start_time": "2023-03-14T13:57:51.433Z"
   },
   {
    "duration": 27,
    "start_time": "2023-03-14T13:57:52.072Z"
   },
   {
    "duration": 33,
    "start_time": "2023-03-14T13:57:52.670Z"
   },
   {
    "duration": 1959,
    "start_time": "2023-03-14T13:57:56.219Z"
   },
   {
    "duration": 174,
    "start_time": "2023-03-14T13:58:24.329Z"
   },
   {
    "duration": 45,
    "start_time": "2023-03-14T14:02:06.863Z"
   },
   {
    "duration": 240,
    "start_time": "2023-03-14T14:02:08.029Z"
   },
   {
    "duration": 288,
    "start_time": "2023-03-14T14:02:15.492Z"
   },
   {
    "duration": 15,
    "start_time": "2023-03-14T14:02:48.795Z"
   },
   {
    "duration": 159,
    "start_time": "2023-03-14T14:02:49.130Z"
   },
   {
    "duration": 15,
    "start_time": "2023-03-14T14:02:49.875Z"
   },
   {
    "duration": 10,
    "start_time": "2023-03-14T14:02:57.398Z"
   },
   {
    "duration": 10,
    "start_time": "2023-03-14T14:02:57.723Z"
   },
   {
    "duration": 22,
    "start_time": "2023-03-14T14:02:59.940Z"
   },
   {
    "duration": 19,
    "start_time": "2023-03-14T14:03:30.170Z"
   },
   {
    "duration": 76,
    "start_time": "2023-03-14T14:03:31.567Z"
   },
   {
    "duration": 169,
    "start_time": "2023-03-14T14:03:39.479Z"
   },
   {
    "duration": 445,
    "start_time": "2023-03-14T14:03:50.581Z"
   },
   {
    "duration": 3,
    "start_time": "2023-03-14T14:03:59.798Z"
   },
   {
    "duration": 134,
    "start_time": "2023-03-14T14:04:11.997Z"
   },
   {
    "duration": 22,
    "start_time": "2023-03-14T14:04:13.356Z"
   },
   {
    "duration": 12,
    "start_time": "2023-03-14T14:04:30.500Z"
   },
   {
    "duration": 107,
    "start_time": "2023-03-14T14:04:40.595Z"
   },
   {
    "duration": 26,
    "start_time": "2023-03-14T14:04:42.800Z"
   },
   {
    "duration": 108,
    "start_time": "2023-03-14T14:04:58.675Z"
   },
   {
    "duration": 25,
    "start_time": "2023-03-14T14:05:23.968Z"
   },
   {
    "duration": 142,
    "start_time": "2023-03-14T14:06:20.927Z"
   },
   {
    "duration": 77,
    "start_time": "2023-03-14T14:06:34.570Z"
   },
   {
    "duration": 31,
    "start_time": "2023-03-14T14:07:12.674Z"
   },
   {
    "duration": 12,
    "start_time": "2023-03-14T14:08:04.202Z"
   },
   {
    "duration": 10,
    "start_time": "2023-03-14T14:08:04.528Z"
   },
   {
    "duration": 67,
    "start_time": "2023-03-14T14:08:15.620Z"
   },
   {
    "duration": 40,
    "start_time": "2023-03-14T14:08:32.563Z"
   },
   {
    "duration": 1650,
    "start_time": "2023-03-14T14:09:27.332Z"
   },
   {
    "duration": 16,
    "start_time": "2023-03-14T14:09:28.984Z"
   },
   {
    "duration": 12,
    "start_time": "2023-03-14T14:09:29.002Z"
   },
   {
    "duration": 902,
    "start_time": "2023-03-14T14:09:29.016Z"
   },
   {
    "duration": 282,
    "start_time": "2023-03-14T14:09:29.920Z"
   },
   {
    "duration": 492,
    "start_time": "2023-03-14T14:09:30.205Z"
   },
   {
    "duration": 516,
    "start_time": "2023-03-14T14:09:30.699Z"
   },
   {
    "duration": 67,
    "start_time": "2023-03-14T14:09:31.216Z"
   },
   {
    "duration": 66,
    "start_time": "2023-03-14T14:09:31.285Z"
   },
   {
    "duration": 18,
    "start_time": "2023-03-14T14:09:31.358Z"
   },
   {
    "duration": 245,
    "start_time": "2023-03-14T14:09:31.380Z"
   },
   {
    "duration": 1929,
    "start_time": "2023-03-14T14:09:31.627Z"
   },
   {
    "duration": 18,
    "start_time": "2023-03-14T14:09:33.558Z"
   },
   {
    "duration": 44,
    "start_time": "2023-03-14T14:09:33.578Z"
   },
   {
    "duration": 9,
    "start_time": "2023-03-14T14:09:33.624Z"
   },
   {
    "duration": 159,
    "start_time": "2023-03-14T14:09:33.634Z"
   },
   {
    "duration": 218,
    "start_time": "2023-03-14T14:09:33.795Z"
   },
   {
    "duration": 16,
    "start_time": "2023-03-14T14:09:34.015Z"
   },
   {
    "duration": 2053,
    "start_time": "2023-03-14T14:09:34.032Z"
   },
   {
    "duration": 26,
    "start_time": "2023-03-14T14:09:36.086Z"
   },
   {
    "duration": 59,
    "start_time": "2023-03-14T14:09:36.115Z"
   },
   {
    "duration": 34,
    "start_time": "2023-03-14T14:09:36.179Z"
   },
   {
    "duration": 15,
    "start_time": "2023-03-14T14:09:36.215Z"
   },
   {
    "duration": 1850,
    "start_time": "2023-03-14T14:09:36.231Z"
   },
   {
    "duration": 41,
    "start_time": "2023-03-14T14:09:38.089Z"
   },
   {
    "duration": 269,
    "start_time": "2023-03-14T14:09:38.131Z"
   },
   {
    "duration": 298,
    "start_time": "2023-03-14T14:09:38.404Z"
   },
   {
    "duration": 26,
    "start_time": "2023-03-14T14:09:38.959Z"
   },
   {
    "duration": 128,
    "start_time": "2023-03-14T14:09:39.199Z"
   },
   {
    "duration": 6,
    "start_time": "2023-03-14T14:09:39.427Z"
   },
   {
    "duration": 5,
    "start_time": "2023-03-14T14:09:40.202Z"
   },
   {
    "duration": 8,
    "start_time": "2023-03-14T14:09:40.494Z"
   },
   {
    "duration": 10,
    "start_time": "2023-03-14T14:09:41.128Z"
   },
   {
    "duration": 26,
    "start_time": "2023-03-14T14:09:41.403Z"
   },
   {
    "duration": 8,
    "start_time": "2023-03-14T14:09:41.905Z"
   },
   {
    "duration": 8,
    "start_time": "2023-03-14T14:09:42.768Z"
   },
   {
    "duration": 20,
    "start_time": "2023-03-14T14:09:43.578Z"
   },
   {
    "duration": 443,
    "start_time": "2023-03-14T14:09:43.879Z"
   },
   {
    "duration": 3,
    "start_time": "2023-03-14T14:09:45.682Z"
   },
   {
    "duration": 141,
    "start_time": "2023-03-14T14:09:45.966Z"
   },
   {
    "duration": 104,
    "start_time": "2023-03-14T14:09:46.377Z"
   },
   {
    "duration": 25,
    "start_time": "2023-03-14T14:09:46.766Z"
   },
   {
    "duration": 132,
    "start_time": "2023-03-14T14:09:47.459Z"
   },
   {
    "duration": 136,
    "start_time": "2023-03-14T14:09:48.242Z"
   },
   {
    "duration": 5,
    "start_time": "2023-03-14T14:09:50.368Z"
   },
   {
    "duration": 24,
    "start_time": "2023-03-14T14:09:52.984Z"
   },
   {
    "duration": 1874,
    "start_time": "2023-03-14T14:09:53.665Z"
   },
   {
    "duration": 0,
    "start_time": "2023-03-14T14:09:55.540Z"
   },
   {
    "duration": 0,
    "start_time": "2023-03-14T14:09:55.542Z"
   },
   {
    "duration": 11,
    "start_time": "2023-03-14T14:10:08.777Z"
   },
   {
    "duration": 56,
    "start_time": "2023-03-14T14:10:13.468Z"
   },
   {
    "duration": 24,
    "start_time": "2023-03-14T14:10:33.099Z"
   },
   {
    "duration": 21,
    "start_time": "2023-03-14T14:10:59.324Z"
   },
   {
    "duration": 3,
    "start_time": "2023-03-14T14:15:56.668Z"
   },
   {
    "duration": 102,
    "start_time": "2023-03-14T14:16:24.537Z"
   },
   {
    "duration": 1803,
    "start_time": "2023-03-14T18:52:56.516Z"
   },
   {
    "duration": 23,
    "start_time": "2023-03-14T18:52:58.322Z"
   },
   {
    "duration": 7,
    "start_time": "2023-03-14T18:52:58.347Z"
   },
   {
    "duration": 2874,
    "start_time": "2023-03-14T18:52:58.356Z"
   },
   {
    "duration": 304,
    "start_time": "2023-03-14T18:53:01.232Z"
   },
   {
    "duration": 505,
    "start_time": "2023-03-14T18:53:01.541Z"
   },
   {
    "duration": 497,
    "start_time": "2023-03-14T18:53:02.048Z"
   },
   {
    "duration": 46,
    "start_time": "2023-03-14T18:53:02.547Z"
   },
   {
    "duration": 24,
    "start_time": "2023-03-14T18:53:02.595Z"
   },
   {
    "duration": 34,
    "start_time": "2023-03-14T18:53:02.621Z"
   },
   {
    "duration": 218,
    "start_time": "2023-03-14T18:53:02.657Z"
   },
   {
    "duration": 1630,
    "start_time": "2023-03-14T18:53:02.877Z"
   },
   {
    "duration": 17,
    "start_time": "2023-03-14T18:53:04.510Z"
   },
   {
    "duration": 10,
    "start_time": "2023-03-14T18:53:04.540Z"
   },
   {
    "duration": 10,
    "start_time": "2023-03-14T18:53:04.551Z"
   },
   {
    "duration": 147,
    "start_time": "2023-03-14T18:53:04.562Z"
   },
   {
    "duration": 199,
    "start_time": "2023-03-14T18:53:04.711Z"
   },
   {
    "duration": 15,
    "start_time": "2023-03-14T18:53:04.912Z"
   },
   {
    "duration": 1511,
    "start_time": "2023-03-14T18:53:04.929Z"
   },
   {
    "duration": 19,
    "start_time": "2023-03-14T18:53:06.442Z"
   },
   {
    "duration": 45,
    "start_time": "2023-03-14T18:53:06.463Z"
   },
   {
    "duration": 31,
    "start_time": "2023-03-14T18:53:06.511Z"
   },
   {
    "duration": 30,
    "start_time": "2023-03-14T18:53:06.544Z"
   },
   {
    "duration": 1894,
    "start_time": "2023-03-14T18:53:06.578Z"
   },
   {
    "duration": 38,
    "start_time": "2023-03-14T18:53:08.474Z"
   },
   {
    "duration": 253,
    "start_time": "2023-03-14T18:53:08.515Z"
   },
   {
    "duration": 297,
    "start_time": "2023-03-14T18:53:08.770Z"
   },
   {
    "duration": 17,
    "start_time": "2023-03-14T18:53:11.534Z"
   },
   {
    "duration": 154,
    "start_time": "2023-03-14T18:53:11.845Z"
   },
   {
    "duration": 9,
    "start_time": "2023-03-14T18:53:12.132Z"
   },
   {
    "duration": 7,
    "start_time": "2023-03-14T18:53:12.802Z"
   },
   {
    "duration": 10,
    "start_time": "2023-03-14T18:53:13.405Z"
   },
   {
    "duration": 12,
    "start_time": "2023-03-14T18:53:14.357Z"
   },
   {
    "duration": 23,
    "start_time": "2023-03-14T18:53:14.800Z"
   },
   {
    "duration": 3,
    "start_time": "2023-03-14T18:53:15.533Z"
   },
   {
    "duration": 3,
    "start_time": "2023-03-14T18:53:16.932Z"
   },
   {
    "duration": 12,
    "start_time": "2023-03-14T18:53:23.612Z"
   },
   {
    "duration": 422,
    "start_time": "2023-03-14T18:53:24.270Z"
   },
   {
    "duration": 4,
    "start_time": "2023-03-14T18:53:27.413Z"
   },
   {
    "duration": 160,
    "start_time": "2023-03-14T18:53:27.860Z"
   },
   {
    "duration": 90,
    "start_time": "2023-03-14T18:53:28.331Z"
   },
   {
    "duration": 16,
    "start_time": "2023-03-14T18:53:30.200Z"
   },
   {
    "duration": 105,
    "start_time": "2023-03-14T18:53:33.582Z"
   },
   {
    "duration": 113,
    "start_time": "2023-03-14T18:53:34.117Z"
   },
   {
    "duration": 2,
    "start_time": "2023-03-14T18:53:34.724Z"
   },
   {
    "duration": 20,
    "start_time": "2023-03-14T18:53:36.979Z"
   },
   {
    "duration": 164,
    "start_time": "2023-03-14T18:53:37.718Z"
   },
   {
    "duration": 47,
    "start_time": "2023-03-14T18:53:38.932Z"
   },
   {
    "duration": 19,
    "start_time": "2023-03-14T18:53:39.717Z"
   },
   {
    "duration": 1729,
    "start_time": "2023-03-20T17:59:38.746Z"
   },
   {
    "duration": 19,
    "start_time": "2023-03-20T17:59:40.479Z"
   },
   {
    "duration": 6,
    "start_time": "2023-03-20T17:59:40.500Z"
   },
   {
    "duration": 3339,
    "start_time": "2023-03-20T17:59:40.599Z"
   },
   {
    "duration": 240,
    "start_time": "2023-03-20T17:59:43.940Z"
   },
   {
    "duration": 446,
    "start_time": "2023-03-20T17:59:44.182Z"
   },
   {
    "duration": 451,
    "start_time": "2023-03-20T17:59:44.630Z"
   },
   {
    "duration": 51,
    "start_time": "2023-03-20T17:59:45.083Z"
   },
   {
    "duration": 22,
    "start_time": "2023-03-20T17:59:45.136Z"
   },
   {
    "duration": 14,
    "start_time": "2023-03-20T17:59:45.160Z"
   },
   {
    "duration": 216,
    "start_time": "2023-03-20T17:59:45.175Z"
   },
   {
    "duration": 1565,
    "start_time": "2023-03-20T17:59:45.393Z"
   },
   {
    "duration": 18,
    "start_time": "2023-03-20T17:59:46.961Z"
   },
   {
    "duration": 8,
    "start_time": "2023-03-20T17:59:46.981Z"
   },
   {
    "duration": 9,
    "start_time": "2023-03-20T17:59:46.991Z"
   },
   {
    "duration": 131,
    "start_time": "2023-03-20T17:59:47.024Z"
   },
   {
    "duration": 198,
    "start_time": "2023-03-20T17:59:47.156Z"
   },
   {
    "duration": 19,
    "start_time": "2023-03-20T17:59:47.356Z"
   },
   {
    "duration": 1458,
    "start_time": "2023-03-20T17:59:47.376Z"
   },
   {
    "duration": 22,
    "start_time": "2023-03-20T17:59:48.836Z"
   },
   {
    "duration": 30,
    "start_time": "2023-03-20T17:59:48.860Z"
   },
   {
    "duration": 44,
    "start_time": "2023-03-20T17:59:48.892Z"
   },
   {
    "duration": 17,
    "start_time": "2023-03-20T17:59:48.938Z"
   },
   {
    "duration": 1713,
    "start_time": "2023-03-20T17:59:49.503Z"
   },
   {
    "duration": 33,
    "start_time": "2023-03-20T17:59:51.218Z"
   },
   {
    "duration": 276,
    "start_time": "2023-03-20T17:59:51.551Z"
   },
   {
    "duration": 265,
    "start_time": "2023-03-20T17:59:52.257Z"
   },
   {
    "duration": 16,
    "start_time": "2023-03-20T18:01:18.028Z"
   },
   {
    "duration": 105,
    "start_time": "2023-03-20T18:01:18.335Z"
   },
   {
    "duration": 6,
    "start_time": "2023-03-20T18:01:19.072Z"
   },
   {
    "duration": 5,
    "start_time": "2023-03-20T18:01:20.295Z"
   },
   {
    "duration": 8,
    "start_time": "2023-03-20T18:01:20.895Z"
   },
   {
    "duration": 12,
    "start_time": "2023-03-20T18:01:22.064Z"
   },
   {
    "duration": 23,
    "start_time": "2023-03-20T18:01:22.610Z"
   },
   {
    "duration": 3,
    "start_time": "2023-03-20T18:01:25.392Z"
   },
   {
    "duration": 3,
    "start_time": "2023-03-20T18:01:27.504Z"
   },
   {
    "duration": 11,
    "start_time": "2023-03-20T18:01:29.959Z"
   },
   {
    "duration": 399,
    "start_time": "2023-03-20T18:01:30.585Z"
   },
   {
    "duration": 2,
    "start_time": "2023-03-20T18:01:33.473Z"
   },
   {
    "duration": 136,
    "start_time": "2023-03-20T18:01:33.968Z"
   },
   {
    "duration": 99,
    "start_time": "2023-03-20T18:01:34.399Z"
   },
   {
    "duration": 16,
    "start_time": "2023-03-20T18:01:35.137Z"
   },
   {
    "duration": 149,
    "start_time": "2023-03-20T18:01:35.792Z"
   },
   {
    "duration": 91,
    "start_time": "2023-03-20T18:01:36.835Z"
   },
   {
    "duration": 3,
    "start_time": "2023-03-20T18:01:37.697Z"
   },
   {
    "duration": 22,
    "start_time": "2023-03-20T18:01:40.601Z"
   },
   {
    "duration": 99,
    "start_time": "2023-03-20T18:01:41.311Z"
   },
   {
    "duration": 42,
    "start_time": "2023-03-20T18:01:42.759Z"
   },
   {
    "duration": 21,
    "start_time": "2023-03-20T18:01:43.224Z"
   },
   {
    "duration": 2,
    "start_time": "2023-03-20T18:01:45.633Z"
   },
   {
    "duration": 3,
    "start_time": "2023-03-20T18:01:46.937Z"
   },
   {
    "duration": 46,
    "start_time": "2023-03-20T18:01:48.815Z"
   },
   {
    "duration": 57,
    "start_time": "2023-03-20T18:02:17.952Z"
   },
   {
    "duration": 3,
    "start_time": "2023-03-20T18:07:06.333Z"
   },
   {
    "duration": 104,
    "start_time": "2023-03-20T18:07:08.921Z"
   },
   {
    "duration": 2,
    "start_time": "2023-03-20T18:08:13.045Z"
   },
   {
    "duration": 10,
    "start_time": "2023-03-20T18:08:15.018Z"
   },
   {
    "duration": 1496,
    "start_time": "2023-03-20T18:08:41.412Z"
   },
   {
    "duration": 1576,
    "start_time": "2023-03-20T18:11:04.224Z"
   },
   {
    "duration": 708,
    "start_time": "2023-03-20T18:32:11.533Z"
   },
   {
    "duration": 1504,
    "start_time": "2023-03-20T18:32:46.822Z"
   },
   {
    "duration": 15,
    "start_time": "2023-03-20T18:33:01.517Z"
   },
   {
    "duration": 1580,
    "start_time": "2023-03-20T18:36:20.417Z"
   },
   {
    "duration": 1744,
    "start_time": "2023-03-21T12:22:49.598Z"
   },
   {
    "duration": 15,
    "start_time": "2023-03-21T12:22:51.344Z"
   },
   {
    "duration": 31,
    "start_time": "2023-03-21T12:22:51.361Z"
   },
   {
    "duration": 3024,
    "start_time": "2023-03-21T12:22:51.394Z"
   },
   {
    "duration": 223,
    "start_time": "2023-03-21T12:22:54.420Z"
   },
   {
    "duration": 418,
    "start_time": "2023-03-21T12:22:54.644Z"
   },
   {
    "duration": 477,
    "start_time": "2023-03-21T12:22:55.064Z"
   },
   {
    "duration": 48,
    "start_time": "2023-03-21T12:22:55.543Z"
   },
   {
    "duration": 24,
    "start_time": "2023-03-21T12:22:55.603Z"
   },
   {
    "duration": 11,
    "start_time": "2023-03-21T12:22:55.629Z"
   },
   {
    "duration": 209,
    "start_time": "2023-03-21T12:22:55.642Z"
   },
   {
    "duration": 1642,
    "start_time": "2023-03-21T12:22:55.853Z"
   },
   {
    "duration": 18,
    "start_time": "2023-03-21T12:22:57.502Z"
   },
   {
    "duration": 9,
    "start_time": "2023-03-21T12:22:57.522Z"
   },
   {
    "duration": 9,
    "start_time": "2023-03-21T12:22:57.533Z"
   },
   {
    "duration": 154,
    "start_time": "2023-03-21T12:22:57.543Z"
   },
   {
    "duration": 204,
    "start_time": "2023-03-21T12:22:57.699Z"
   },
   {
    "duration": 18,
    "start_time": "2023-03-21T12:22:57.904Z"
   },
   {
    "duration": 1505,
    "start_time": "2023-03-21T12:22:57.924Z"
   },
   {
    "duration": 23,
    "start_time": "2023-03-21T12:22:59.431Z"
   },
   {
    "duration": 27,
    "start_time": "2023-03-21T12:22:59.456Z"
   },
   {
    "duration": 19,
    "start_time": "2023-03-21T12:22:59.502Z"
   },
   {
    "duration": 17,
    "start_time": "2023-03-21T12:22:59.523Z"
   },
   {
    "duration": 1763,
    "start_time": "2023-03-21T12:22:59.721Z"
   },
   {
    "duration": 35,
    "start_time": "2023-03-21T12:23:01.486Z"
   },
   {
    "duration": 239,
    "start_time": "2023-03-21T12:23:01.523Z"
   },
   {
    "duration": 304,
    "start_time": "2023-03-21T12:23:01.881Z"
   },
   {
    "duration": 16,
    "start_time": "2023-03-21T12:23:06.418Z"
   },
   {
    "duration": 116,
    "start_time": "2023-03-21T12:23:06.765Z"
   },
   {
    "duration": 6,
    "start_time": "2023-03-21T12:23:07.162Z"
   },
   {
    "duration": 6,
    "start_time": "2023-03-21T12:23:07.986Z"
   },
   {
    "duration": 8,
    "start_time": "2023-03-21T12:23:08.297Z"
   },
   {
    "duration": 11,
    "start_time": "2023-03-21T12:23:09.697Z"
   },
   {
    "duration": 22,
    "start_time": "2023-03-21T12:23:10.987Z"
   },
   {
    "duration": 2,
    "start_time": "2023-03-21T12:23:11.730Z"
   },
   {
    "duration": 2,
    "start_time": "2023-03-21T12:23:12.698Z"
   },
   {
    "duration": 11,
    "start_time": "2023-03-21T12:23:13.978Z"
   },
   {
    "duration": 395,
    "start_time": "2023-03-21T12:23:14.721Z"
   },
   {
    "duration": 3,
    "start_time": "2023-03-21T12:23:19.218Z"
   },
   {
    "duration": 147,
    "start_time": "2023-03-21T12:23:19.746Z"
   },
   {
    "duration": 82,
    "start_time": "2023-03-21T12:23:33.495Z"
   },
   {
    "duration": 16,
    "start_time": "2023-03-21T12:23:34.130Z"
   },
   {
    "duration": 182,
    "start_time": "2023-03-21T12:24:05.395Z"
   },
   {
    "duration": 31,
    "start_time": "2023-03-21T12:24:25.914Z"
   },
   {
    "duration": 77,
    "start_time": "2023-03-21T12:24:40.818Z"
   },
   {
    "duration": 16,
    "start_time": "2023-03-21T12:24:42.498Z"
   },
   {
    "duration": 122,
    "start_time": "2023-03-21T12:25:44.994Z"
   },
   {
    "duration": 16,
    "start_time": "2023-03-21T12:25:46.451Z"
   },
   {
    "duration": 107,
    "start_time": "2023-03-21T12:26:20.532Z"
   },
   {
    "duration": 17,
    "start_time": "2023-03-21T12:26:21.691Z"
   },
   {
    "duration": 105,
    "start_time": "2023-03-21T12:26:25.946Z"
   },
   {
    "duration": 101,
    "start_time": "2023-03-21T12:26:28.482Z"
   },
   {
    "duration": 20,
    "start_time": "2023-03-21T12:26:32.221Z"
   },
   {
    "duration": 101,
    "start_time": "2023-03-21T12:26:35.410Z"
   },
   {
    "duration": 43,
    "start_time": "2023-03-21T12:26:49.610Z"
   },
   {
    "duration": 21,
    "start_time": "2023-03-21T12:26:51.107Z"
   },
   {
    "duration": 5,
    "start_time": "2023-03-21T12:28:21.043Z"
   },
   {
    "duration": 12,
    "start_time": "2023-03-21T12:28:22.179Z"
   },
   {
    "duration": 3,
    "start_time": "2023-03-21T12:28:22.851Z"
   },
   {
    "duration": 830,
    "start_time": "2023-03-21T12:28:23.183Z"
   },
   {
    "duration": 218,
    "start_time": "2023-03-21T12:28:24.015Z"
   },
   {
    "duration": 409,
    "start_time": "2023-03-21T12:28:24.287Z"
   },
   {
    "duration": 405,
    "start_time": "2023-03-21T12:28:24.786Z"
   },
   {
    "duration": 44,
    "start_time": "2023-03-21T12:28:25.194Z"
   },
   {
    "duration": 24,
    "start_time": "2023-03-21T12:28:25.906Z"
   },
   {
    "duration": 12,
    "start_time": "2023-03-21T12:28:26.219Z"
   },
   {
    "duration": 196,
    "start_time": "2023-03-21T12:28:26.602Z"
   },
   {
    "duration": 1610,
    "start_time": "2023-03-21T12:28:27.283Z"
   },
   {
    "duration": 23,
    "start_time": "2023-03-21T12:28:28.895Z"
   },
   {
    "duration": 9,
    "start_time": "2023-03-21T12:28:28.920Z"
   },
   {
    "duration": 9,
    "start_time": "2023-03-21T12:28:29.251Z"
   },
   {
    "duration": 124,
    "start_time": "2023-03-21T12:28:29.635Z"
   },
   {
    "duration": 274,
    "start_time": "2023-03-21T12:28:29.930Z"
   },
   {
    "duration": 17,
    "start_time": "2023-03-21T12:28:30.206Z"
   },
   {
    "duration": 1414,
    "start_time": "2023-03-21T12:28:30.404Z"
   },
   {
    "duration": 19,
    "start_time": "2023-03-21T12:28:31.820Z"
   },
   {
    "duration": 26,
    "start_time": "2023-03-21T12:28:31.841Z"
   },
   {
    "duration": 44,
    "start_time": "2023-03-21T12:28:31.869Z"
   },
   {
    "duration": 23,
    "start_time": "2023-03-21T12:28:31.915Z"
   },
   {
    "duration": 1750,
    "start_time": "2023-03-21T12:28:32.634Z"
   },
   {
    "duration": 32,
    "start_time": "2023-03-21T12:28:34.387Z"
   },
   {
    "duration": 224,
    "start_time": "2023-03-21T12:28:34.421Z"
   },
   {
    "duration": 271,
    "start_time": "2023-03-21T12:28:34.647Z"
   },
   {
    "duration": 16,
    "start_time": "2023-03-21T12:28:35.562Z"
   },
   {
    "duration": 114,
    "start_time": "2023-03-21T12:28:35.881Z"
   },
   {
    "duration": 7,
    "start_time": "2023-03-21T12:28:36.203Z"
   },
   {
    "duration": 5,
    "start_time": "2023-03-21T12:28:36.794Z"
   },
   {
    "duration": 8,
    "start_time": "2023-03-21T12:28:37.043Z"
   },
   {
    "duration": 11,
    "start_time": "2023-03-21T12:28:37.538Z"
   },
   {
    "duration": 21,
    "start_time": "2023-03-21T12:28:37.796Z"
   },
   {
    "duration": 2,
    "start_time": "2023-03-21T12:28:39.674Z"
   },
   {
    "duration": 2,
    "start_time": "2023-03-21T12:28:40.842Z"
   },
   {
    "duration": 10,
    "start_time": "2023-03-21T12:28:42.563Z"
   },
   {
    "duration": 387,
    "start_time": "2023-03-21T12:28:43.659Z"
   },
   {
    "duration": 3,
    "start_time": "2023-03-21T12:28:45.885Z"
   },
   {
    "duration": 130,
    "start_time": "2023-03-21T12:28:48.186Z"
   },
   {
    "duration": 113,
    "start_time": "2023-03-21T12:28:48.714Z"
   },
   {
    "duration": 23,
    "start_time": "2023-03-21T12:28:51.987Z"
   },
   {
    "duration": 89,
    "start_time": "2023-03-21T12:28:54.107Z"
   },
   {
    "duration": 84,
    "start_time": "2023-03-21T12:28:56.355Z"
   },
   {
    "duration": 18,
    "start_time": "2023-03-21T12:29:00.082Z"
   },
   {
    "duration": 112,
    "start_time": "2023-03-21T12:29:03.274Z"
   },
   {
    "duration": 35,
    "start_time": "2023-03-21T12:29:06.459Z"
   },
   {
    "duration": 24,
    "start_time": "2023-03-21T12:29:08.003Z"
   },
   {
    "duration": 3,
    "start_time": "2023-03-21T12:29:16.843Z"
   },
   {
    "duration": 3,
    "start_time": "2023-03-21T12:29:18.650Z"
   },
   {
    "duration": 2,
    "start_time": "2023-03-21T12:29:20.682Z"
   },
   {
    "duration": 3,
    "start_time": "2023-03-21T12:31:16.316Z"
   },
   {
    "duration": 3,
    "start_time": "2023-03-21T12:31:16.839Z"
   },
   {
    "duration": 1812368,
    "start_time": "2023-03-21T12:31:22.036Z"
   },
   {
    "duration": 13,
    "start_time": "2023-03-21T13:11:56.478Z"
   },
   {
    "duration": 3,
    "start_time": "2023-03-21T14:30:05.673Z"
   },
   {
    "duration": 3275,
    "start_time": "2023-03-21T14:30:28.929Z"
   },
   {
    "duration": 62,
    "start_time": "2023-03-21T14:31:19.543Z"
   },
   {
    "duration": 6,
    "start_time": "2023-03-21T18:42:01.346Z"
   },
   {
    "duration": 16,
    "start_time": "2023-03-21T18:42:01.984Z"
   },
   {
    "duration": 4,
    "start_time": "2023-03-21T18:42:02.388Z"
   },
   {
    "duration": 942,
    "start_time": "2023-03-21T18:42:02.638Z"
   },
   {
    "duration": 257,
    "start_time": "2023-03-21T18:42:03.582Z"
   },
   {
    "duration": 543,
    "start_time": "2023-03-21T18:42:03.841Z"
   },
   {
    "duration": 485,
    "start_time": "2023-03-21T18:42:04.386Z"
   },
   {
    "duration": 52,
    "start_time": "2023-03-21T18:42:04.873Z"
   },
   {
    "duration": 28,
    "start_time": "2023-03-21T18:42:04.927Z"
   },
   {
    "duration": 16,
    "start_time": "2023-03-21T18:42:04.957Z"
   },
   {
    "duration": 280,
    "start_time": "2023-03-21T18:42:04.976Z"
   },
   {
    "duration": 2022,
    "start_time": "2023-03-21T18:42:05.259Z"
   },
   {
    "duration": 37,
    "start_time": "2023-03-21T18:42:07.283Z"
   },
   {
    "duration": 13,
    "start_time": "2023-03-21T18:42:07.324Z"
   },
   {
    "duration": 13,
    "start_time": "2023-03-21T18:42:07.341Z"
   },
   {
    "duration": 211,
    "start_time": "2023-03-21T18:42:07.356Z"
   },
   {
    "duration": 226,
    "start_time": "2023-03-21T18:42:07.570Z"
   },
   {
    "duration": 28,
    "start_time": "2023-03-21T18:42:07.798Z"
   },
   {
    "duration": 1812,
    "start_time": "2023-03-21T18:42:07.830Z"
   },
   {
    "duration": 24,
    "start_time": "2023-03-21T18:42:09.644Z"
   },
   {
    "duration": 48,
    "start_time": "2023-03-21T18:42:09.670Z"
   },
   {
    "duration": 28,
    "start_time": "2023-03-21T18:42:09.720Z"
   },
   {
    "duration": 15,
    "start_time": "2023-03-21T18:42:09.755Z"
   },
   {
    "duration": 2191,
    "start_time": "2023-03-21T18:42:12.575Z"
   },
   {
    "duration": 31,
    "start_time": "2023-03-21T18:42:14.768Z"
   },
   {
    "duration": 285,
    "start_time": "2023-03-21T18:42:14.801Z"
   },
   {
    "duration": 313,
    "start_time": "2023-03-21T18:42:15.089Z"
   },
   {
    "duration": 15,
    "start_time": "2023-03-21T18:42:17.980Z"
   },
   {
    "duration": 126,
    "start_time": "2023-03-21T18:42:18.275Z"
   },
   {
    "duration": 8,
    "start_time": "2023-03-21T18:42:18.542Z"
   },
   {
    "duration": 5,
    "start_time": "2023-03-21T18:42:19.054Z"
   },
   {
    "duration": 10,
    "start_time": "2023-03-21T18:42:19.298Z"
   },
   {
    "duration": 12,
    "start_time": "2023-03-21T18:42:19.779Z"
   },
   {
    "duration": 32,
    "start_time": "2023-03-21T18:42:20.029Z"
   },
   {
    "duration": 2,
    "start_time": "2023-03-21T18:42:20.495Z"
   },
   {
    "duration": 14,
    "start_time": "2023-03-21T18:42:54.056Z"
   },
   {
    "duration": 499,
    "start_time": "2023-03-21T18:42:54.129Z"
   },
   {
    "duration": 5,
    "start_time": "2023-03-21T18:43:01.826Z"
   },
   {
    "duration": 142,
    "start_time": "2023-03-21T18:43:13.391Z"
   },
   {
    "duration": 133,
    "start_time": "2023-03-21T18:43:14.456Z"
   },
   {
    "duration": 15,
    "start_time": "2023-03-21T18:43:18.375Z"
   },
   {
    "duration": 99,
    "start_time": "2023-03-21T18:43:20.961Z"
   },
   {
    "duration": 102,
    "start_time": "2023-03-21T18:43:23.632Z"
   },
   {
    "duration": 23,
    "start_time": "2023-03-21T18:43:28.402Z"
   },
   {
    "duration": 126,
    "start_time": "2023-03-21T18:43:29.985Z"
   },
   {
    "duration": 38,
    "start_time": "2023-03-21T18:43:30.545Z"
   },
   {
    "duration": 22,
    "start_time": "2023-03-21T18:43:48.811Z"
   },
   {
    "duration": 3,
    "start_time": "2023-03-21T18:43:53.733Z"
   },
   {
    "duration": 3,
    "start_time": "2023-03-21T18:43:59.138Z"
   },
   {
    "duration": 2,
    "start_time": "2023-03-21T18:43:59.698Z"
   },
   {
    "duration": 1526,
    "start_time": "2023-03-21T19:54:38.628Z"
   },
   {
    "duration": 18,
    "start_time": "2023-03-21T19:54:40.157Z"
   },
   {
    "duration": 7,
    "start_time": "2023-03-21T19:54:40.177Z"
   },
   {
    "duration": 969,
    "start_time": "2023-03-21T19:54:40.186Z"
   },
   {
    "duration": 259,
    "start_time": "2023-03-21T19:54:41.157Z"
   },
   {
    "duration": 560,
    "start_time": "2023-03-21T19:54:41.418Z"
   },
   {
    "duration": 536,
    "start_time": "2023-03-21T19:54:41.981Z"
   },
   {
    "duration": 45,
    "start_time": "2023-03-21T19:54:42.519Z"
   },
   {
    "duration": 44,
    "start_time": "2023-03-21T19:54:42.566Z"
   },
   {
    "duration": 15,
    "start_time": "2023-03-21T19:54:42.613Z"
   },
   {
    "duration": 228,
    "start_time": "2023-03-21T19:54:42.630Z"
   },
   {
    "duration": 1605,
    "start_time": "2023-03-21T19:54:42.860Z"
   },
   {
    "duration": 19,
    "start_time": "2023-03-21T19:54:44.468Z"
   },
   {
    "duration": 51,
    "start_time": "2023-03-21T19:54:44.488Z"
   },
   {
    "duration": 11,
    "start_time": "2023-03-21T19:54:44.541Z"
   },
   {
    "duration": 166,
    "start_time": "2023-03-21T19:54:44.893Z"
   },
   {
    "duration": 237,
    "start_time": "2023-03-21T19:54:45.196Z"
   },
   {
    "duration": 20,
    "start_time": "2023-03-21T19:54:45.976Z"
   },
   {
    "duration": 1745,
    "start_time": "2023-03-21T19:54:46.581Z"
   },
   {
    "duration": 26,
    "start_time": "2023-03-21T19:54:48.329Z"
   },
   {
    "duration": 32,
    "start_time": "2023-03-21T19:54:49.412Z"
   },
   {
    "duration": 24,
    "start_time": "2023-03-21T19:54:50.003Z"
   },
   {
    "duration": 19,
    "start_time": "2023-03-21T19:54:50.330Z"
   },
   {
    "duration": 1976,
    "start_time": "2023-03-21T19:54:51.337Z"
   },
   {
    "duration": 36,
    "start_time": "2023-03-21T19:54:53.315Z"
   },
   {
    "duration": 278,
    "start_time": "2023-03-21T19:54:53.354Z"
   },
   {
    "duration": 324,
    "start_time": "2023-03-21T19:54:53.635Z"
   },
   {
    "duration": 16,
    "start_time": "2023-03-21T19:54:53.960Z"
   },
   {
    "duration": 180,
    "start_time": "2023-03-21T19:54:53.978Z"
   },
   {
    "duration": 6,
    "start_time": "2023-03-21T19:54:54.161Z"
   },
   {
    "duration": 7,
    "start_time": "2023-03-21T19:54:54.316Z"
   },
   {
    "duration": 10,
    "start_time": "2023-03-21T19:54:54.538Z"
   },
   {
    "duration": 12,
    "start_time": "2023-03-21T19:54:54.979Z"
   },
   {
    "duration": 31,
    "start_time": "2023-03-21T19:54:55.379Z"
   },
   {
    "duration": 3,
    "start_time": "2023-03-21T19:54:56.131Z"
   },
   {
    "duration": 5,
    "start_time": "2023-03-21T19:54:57.220Z"
   },
   {
    "duration": 14,
    "start_time": "2023-03-21T19:54:58.618Z"
   },
   {
    "duration": 481,
    "start_time": "2023-03-21T19:54:59.222Z"
   },
   {
    "duration": 4,
    "start_time": "2023-03-21T19:55:02.312Z"
   },
   {
    "duration": 134,
    "start_time": "2023-03-21T19:55:03.779Z"
   },
   {
    "duration": 136,
    "start_time": "2023-03-21T19:55:04.513Z"
   },
   {
    "duration": 20,
    "start_time": "2023-03-21T19:55:05.787Z"
   },
   {
    "duration": 119,
    "start_time": "2023-03-21T19:55:10.531Z"
   },
   {
    "duration": 92,
    "start_time": "2023-03-21T19:55:11.234Z"
   },
   {
    "duration": 22,
    "start_time": "2023-03-21T19:55:16.228Z"
   },
   {
    "duration": 131,
    "start_time": "2023-03-21T19:55:17.165Z"
   },
   {
    "duration": 53,
    "start_time": "2023-03-21T19:55:18.730Z"
   },
   {
    "duration": 28,
    "start_time": "2023-03-21T19:55:22.581Z"
   },
   {
    "duration": 3,
    "start_time": "2023-03-21T19:57:20.365Z"
   },
   {
    "duration": 3,
    "start_time": "2023-03-21T19:57:21.980Z"
   },
   {
    "duration": 965854,
    "start_time": "2023-03-21T19:57:23.080Z"
   },
   {
    "duration": 4,
    "start_time": "2023-03-21T20:13:28.936Z"
   },
   {
    "duration": 3390,
    "start_time": "2023-03-21T20:13:28.942Z"
   },
   {
    "duration": 277,
    "start_time": "2023-03-21T20:13:32.335Z"
   },
   {
    "duration": 4,
    "start_time": "2023-03-22T06:17:19.775Z"
   },
   {
    "duration": 10,
    "start_time": "2023-03-22T06:17:20.360Z"
   },
   {
    "duration": 3,
    "start_time": "2023-03-22T06:17:20.424Z"
   },
   {
    "duration": 855,
    "start_time": "2023-03-22T06:17:20.477Z"
   },
   {
    "duration": 218,
    "start_time": "2023-03-22T06:17:21.334Z"
   },
   {
    "duration": 464,
    "start_time": "2023-03-22T06:17:21.554Z"
   },
   {
    "duration": 439,
    "start_time": "2023-03-22T06:17:22.020Z"
   },
   {
    "duration": 59,
    "start_time": "2023-03-22T06:17:22.460Z"
   },
   {
    "duration": 25,
    "start_time": "2023-03-22T06:17:22.521Z"
   },
   {
    "duration": 25,
    "start_time": "2023-03-22T06:17:22.548Z"
   },
   {
    "duration": 211,
    "start_time": "2023-03-22T06:17:22.575Z"
   },
   {
    "duration": 1603,
    "start_time": "2023-03-22T06:17:22.787Z"
   },
   {
    "duration": 21,
    "start_time": "2023-03-22T06:17:24.403Z"
   },
   {
    "duration": 9,
    "start_time": "2023-03-22T06:17:24.425Z"
   },
   {
    "duration": 13,
    "start_time": "2023-03-22T06:17:24.436Z"
   },
   {
    "duration": 162,
    "start_time": "2023-03-22T06:17:24.451Z"
   },
   {
    "duration": 291,
    "start_time": "2023-03-22T06:17:24.615Z"
   },
   {
    "duration": 21,
    "start_time": "2023-03-22T06:17:24.908Z"
   },
   {
    "duration": 1420,
    "start_time": "2023-03-22T06:17:24.930Z"
   },
   {
    "duration": 20,
    "start_time": "2023-03-22T06:17:26.352Z"
   },
   {
    "duration": 48,
    "start_time": "2023-03-22T06:17:26.373Z"
   },
   {
    "duration": 19,
    "start_time": "2023-03-22T06:17:26.423Z"
   },
   {
    "duration": 17,
    "start_time": "2023-03-22T06:17:26.444Z"
   },
   {
    "duration": 1766,
    "start_time": "2023-03-22T06:17:26.463Z"
   },
   {
    "duration": 41,
    "start_time": "2023-03-22T06:17:28.232Z"
   },
   {
    "duration": 239,
    "start_time": "2023-03-22T06:17:28.275Z"
   },
   {
    "duration": 295,
    "start_time": "2023-03-22T06:17:28.516Z"
   },
   {
    "duration": 16,
    "start_time": "2023-03-22T06:17:28.815Z"
   },
   {
    "duration": 133,
    "start_time": "2023-03-22T06:17:28.833Z"
   },
   {
    "duration": 8,
    "start_time": "2023-03-22T06:17:28.969Z"
   },
   {
    "duration": 27,
    "start_time": "2023-03-22T06:17:28.979Z"
   },
   {
    "duration": 9,
    "start_time": "2023-03-22T06:17:29.008Z"
   },
   {
    "duration": 16,
    "start_time": "2023-03-22T06:17:29.019Z"
   },
   {
    "duration": 23,
    "start_time": "2023-03-22T06:17:29.037Z"
   },
   {
    "duration": 2,
    "start_time": "2023-03-22T06:17:29.062Z"
   },
   {
    "duration": 37,
    "start_time": "2023-03-22T06:17:29.066Z"
   },
   {
    "duration": 11,
    "start_time": "2023-03-22T06:17:29.851Z"
   },
   {
    "duration": 381,
    "start_time": "2023-03-22T06:17:30.448Z"
   },
   {
    "duration": 3,
    "start_time": "2023-03-22T06:17:33.647Z"
   },
   {
    "duration": 144,
    "start_time": "2023-03-22T06:17:34.131Z"
   },
   {
    "duration": 131,
    "start_time": "2023-03-22T06:17:34.802Z"
   },
   {
    "duration": 16,
    "start_time": "2023-03-22T06:17:36.662Z"
   },
   {
    "duration": 92,
    "start_time": "2023-03-22T06:17:43.187Z"
   },
   {
    "duration": 92,
    "start_time": "2023-03-22T06:17:46.491Z"
   },
   {
    "duration": 17,
    "start_time": "2023-03-22T06:17:50.117Z"
   },
   {
    "duration": 119,
    "start_time": "2023-03-22T06:17:53.027Z"
   },
   {
    "duration": 40,
    "start_time": "2023-03-22T06:17:54.188Z"
   },
   {
    "duration": 7,
    "start_time": "2023-03-22T06:18:13.002Z"
   },
   {
    "duration": 3,
    "start_time": "2023-03-22T06:18:16.976Z"
   },
   {
    "duration": 120,
    "start_time": "2023-03-22T06:18:21.517Z"
   },
   {
    "duration": 10,
    "start_time": "2023-03-22T06:18:33.482Z"
   },
   {
    "duration": 1513,
    "start_time": "2023-03-22T06:20:14.917Z"
   },
   {
    "duration": 13,
    "start_time": "2023-03-22T06:20:16.432Z"
   },
   {
    "duration": 6,
    "start_time": "2023-03-22T06:20:16.447Z"
   },
   {
    "duration": 904,
    "start_time": "2023-03-22T06:20:16.622Z"
   },
   {
    "duration": 288,
    "start_time": "2023-03-22T06:20:17.528Z"
   },
   {
    "duration": 443,
    "start_time": "2023-03-22T06:20:17.818Z"
   },
   {
    "duration": 514,
    "start_time": "2023-03-22T06:20:18.263Z"
   },
   {
    "duration": 66,
    "start_time": "2023-03-22T06:20:18.779Z"
   },
   {
    "duration": 26,
    "start_time": "2023-03-22T06:20:18.846Z"
   },
   {
    "duration": 33,
    "start_time": "2023-03-22T06:20:18.874Z"
   },
   {
    "duration": 208,
    "start_time": "2023-03-22T06:20:18.909Z"
   },
   {
    "duration": 1615,
    "start_time": "2023-03-22T06:20:19.119Z"
   },
   {
    "duration": 18,
    "start_time": "2023-03-22T06:20:20.736Z"
   },
   {
    "duration": 42,
    "start_time": "2023-03-22T06:20:20.755Z"
   },
   {
    "duration": 14,
    "start_time": "2023-03-22T06:20:20.799Z"
   },
   {
    "duration": 142,
    "start_time": "2023-03-22T06:20:20.815Z"
   },
   {
    "duration": 232,
    "start_time": "2023-03-22T06:20:20.958Z"
   },
   {
    "duration": 26,
    "start_time": "2023-03-22T06:20:21.192Z"
   },
   {
    "duration": 1534,
    "start_time": "2023-03-22T06:20:21.220Z"
   },
   {
    "duration": 25,
    "start_time": "2023-03-22T06:20:22.756Z"
   },
   {
    "duration": 45,
    "start_time": "2023-03-22T06:20:22.783Z"
   },
   {
    "duration": 20,
    "start_time": "2023-03-22T06:20:22.831Z"
   },
   {
    "duration": 17,
    "start_time": "2023-03-22T06:20:22.853Z"
   },
   {
    "duration": 1755,
    "start_time": "2023-03-22T06:20:22.871Z"
   },
   {
    "duration": 32,
    "start_time": "2023-03-22T06:20:24.628Z"
   },
   {
    "duration": 225,
    "start_time": "2023-03-22T06:20:24.662Z"
   },
   {
    "duration": 298,
    "start_time": "2023-03-22T06:20:24.889Z"
   },
   {
    "duration": 27,
    "start_time": "2023-03-22T06:20:25.189Z"
   },
   {
    "duration": 127,
    "start_time": "2023-03-22T06:20:25.218Z"
   },
   {
    "duration": 7,
    "start_time": "2023-03-22T06:20:25.346Z"
   },
   {
    "duration": 5,
    "start_time": "2023-03-22T06:20:25.356Z"
   },
   {
    "duration": 7,
    "start_time": "2023-03-22T06:20:25.363Z"
   },
   {
    "duration": 39,
    "start_time": "2023-03-22T06:20:25.372Z"
   },
   {
    "duration": 23,
    "start_time": "2023-03-22T06:20:25.413Z"
   },
   {
    "duration": 2,
    "start_time": "2023-03-22T06:20:25.438Z"
   },
   {
    "duration": 4,
    "start_time": "2023-03-22T06:20:25.442Z"
   },
   {
    "duration": 14,
    "start_time": "2023-03-22T06:20:25.448Z"
   },
   {
    "duration": 456,
    "start_time": "2023-03-22T06:20:25.464Z"
   },
   {
    "duration": 3,
    "start_time": "2023-03-22T06:20:25.922Z"
   },
   {
    "duration": 157,
    "start_time": "2023-03-22T06:20:25.926Z"
   },
   {
    "duration": 136,
    "start_time": "2023-03-22T06:20:26.085Z"
   },
   {
    "duration": 16,
    "start_time": "2023-03-22T06:20:26.223Z"
   },
   {
    "duration": 105,
    "start_time": "2023-03-22T06:20:26.240Z"
   },
   {
    "duration": 107,
    "start_time": "2023-03-22T06:20:26.347Z"
   },
   {
    "duration": 3,
    "start_time": "2023-03-22T06:20:26.456Z"
   },
   {
    "duration": 18,
    "start_time": "2023-03-22T06:20:26.461Z"
   },
   {
    "duration": 157,
    "start_time": "2023-03-22T06:20:26.482Z"
   },
   {
    "duration": 34,
    "start_time": "2023-03-22T06:20:26.641Z"
   },
   {
    "duration": 38,
    "start_time": "2023-03-22T06:20:26.676Z"
   },
   {
    "duration": 3,
    "start_time": "2023-03-22T06:20:26.716Z"
   },
   {
    "duration": 4,
    "start_time": "2023-03-22T06:20:34.003Z"
   },
   {
    "duration": 5,
    "start_time": "2023-03-22T06:20:35.107Z"
   },
   {
    "duration": 1559,
    "start_time": "2023-03-22T08:04:27.019Z"
   },
   {
    "duration": 13,
    "start_time": "2023-03-22T08:04:28.580Z"
   },
   {
    "duration": 9,
    "start_time": "2023-03-22T08:04:28.595Z"
   },
   {
    "duration": 836,
    "start_time": "2023-03-22T08:04:28.607Z"
   },
   {
    "duration": 291,
    "start_time": "2023-03-22T08:04:29.445Z"
   },
   {
    "duration": 477,
    "start_time": "2023-03-22T08:04:29.738Z"
   },
   {
    "duration": 482,
    "start_time": "2023-03-22T08:04:30.218Z"
   },
   {
    "duration": 45,
    "start_time": "2023-03-22T08:04:30.704Z"
   },
   {
    "duration": 29,
    "start_time": "2023-03-22T08:04:30.751Z"
   },
   {
    "duration": 61,
    "start_time": "2023-03-22T08:04:30.782Z"
   },
   {
    "duration": 253,
    "start_time": "2023-03-22T08:04:30.844Z"
   },
   {
    "duration": 1709,
    "start_time": "2023-03-22T08:04:31.104Z"
   },
   {
    "duration": 19,
    "start_time": "2023-03-22T08:04:32.816Z"
   },
   {
    "duration": 48,
    "start_time": "2023-03-22T08:04:32.837Z"
   },
   {
    "duration": 16,
    "start_time": "2023-03-22T08:04:32.887Z"
   },
   {
    "duration": 156,
    "start_time": "2023-03-22T08:04:32.905Z"
   },
   {
    "duration": 195,
    "start_time": "2023-03-22T08:04:33.063Z"
   },
   {
    "duration": 16,
    "start_time": "2023-03-22T08:04:33.260Z"
   },
   {
    "duration": 1530,
    "start_time": "2023-03-22T08:04:33.278Z"
   },
   {
    "duration": 22,
    "start_time": "2023-03-22T08:04:34.809Z"
   },
   {
    "duration": 27,
    "start_time": "2023-03-22T08:04:34.832Z"
   },
   {
    "duration": 49,
    "start_time": "2023-03-22T08:04:34.861Z"
   },
   {
    "duration": 17,
    "start_time": "2023-03-22T08:04:34.912Z"
   },
   {
    "duration": 1802,
    "start_time": "2023-03-22T08:04:34.932Z"
   },
   {
    "duration": 51,
    "start_time": "2023-03-22T08:04:36.736Z"
   },
   {
    "duration": 234,
    "start_time": "2023-03-22T08:04:36.789Z"
   },
   {
    "duration": 320,
    "start_time": "2023-03-22T08:04:37.025Z"
   },
   {
    "duration": 15,
    "start_time": "2023-03-22T08:04:37.348Z"
   },
   {
    "duration": 163,
    "start_time": "2023-03-22T08:04:37.365Z"
   },
   {
    "duration": 7,
    "start_time": "2023-03-22T08:04:37.556Z"
   },
   {
    "duration": 7,
    "start_time": "2023-03-22T08:04:38.016Z"
   },
   {
    "duration": 8,
    "start_time": "2023-03-22T08:04:38.237Z"
   },
   {
    "duration": 11,
    "start_time": "2023-03-22T08:04:38.653Z"
   },
   {
    "duration": 21,
    "start_time": "2023-03-22T08:04:38.861Z"
   },
   {
    "duration": 2,
    "start_time": "2023-03-22T08:04:39.333Z"
   },
   {
    "duration": 3,
    "start_time": "2023-03-22T08:04:42.117Z"
   },
   {
    "duration": 15,
    "start_time": "2023-03-22T08:04:43.526Z"
   },
   {
    "duration": 398,
    "start_time": "2023-03-22T08:04:43.790Z"
   },
   {
    "duration": 3,
    "start_time": "2023-03-22T08:04:45.645Z"
   },
   {
    "duration": 136,
    "start_time": "2023-03-22T08:04:45.950Z"
   },
   {
    "duration": 114,
    "start_time": "2023-03-22T08:04:46.314Z"
   },
   {
    "duration": 19,
    "start_time": "2023-03-22T08:04:46.934Z"
   },
   {
    "duration": 86,
    "start_time": "2023-03-22T08:04:48.118Z"
   },
   {
    "duration": 119,
    "start_time": "2023-03-22T08:04:48.719Z"
   },
   {
    "duration": 4,
    "start_time": "2023-03-22T08:04:49.429Z"
   },
   {
    "duration": 16,
    "start_time": "2023-03-22T08:04:50.724Z"
   },
   {
    "duration": 176,
    "start_time": "2023-03-22T08:04:51.821Z"
   },
   {
    "duration": 47,
    "start_time": "2023-03-22T08:04:52.814Z"
   },
   {
    "duration": 27,
    "start_time": "2023-03-22T08:04:53.085Z"
   },
   {
    "duration": 4,
    "start_time": "2023-03-22T08:04:55.140Z"
   },
   {
    "duration": 3,
    "start_time": "2023-03-22T08:04:55.733Z"
   },
   {
    "duration": 3,
    "start_time": "2023-03-22T08:04:56.134Z"
   },
   {
    "duration": 3,
    "start_time": "2023-03-22T08:04:56.619Z"
   },
   {
    "duration": 3,
    "start_time": "2023-03-22T08:04:57.446Z"
   },
   {
    "duration": 2,
    "start_time": "2023-03-22T08:04:58.232Z"
   },
   {
    "duration": 195623,
    "start_time": "2023-03-22T08:04:59.461Z"
   },
   {
    "duration": 536,
    "start_time": "2023-03-22T08:08:15.087Z"
   },
   {
    "duration": 3,
    "start_time": "2023-03-22T08:08:15.625Z"
   },
   {
    "duration": 366691,
    "start_time": "2023-03-22T08:08:15.631Z"
   },
   {
    "duration": 602,
    "start_time": "2023-03-22T08:14:22.324Z"
   },
   {
    "duration": 75,
    "start_time": "2023-03-22T08:14:22.928Z"
   },
   {
    "duration": 3997,
    "start_time": "2023-03-22T08:14:23.005Z"
   },
   {
    "duration": 132,
    "start_time": "2023-03-22T08:14:27.004Z"
   },
   {
    "duration": 67,
    "start_time": "2023-03-22T08:14:27.138Z"
   },
   {
    "duration": 3127226,
    "start_time": "2023-03-22T08:14:27.208Z"
   },
   {
    "duration": 1031,
    "start_time": "2023-03-22T09:06:34.437Z"
   },
   {
    "duration": 4,
    "start_time": "2023-03-22T09:06:35.470Z"
   },
   {
    "duration": 339944,
    "start_time": "2023-03-22T09:06:35.477Z"
   },
   {
    "duration": 1280,
    "start_time": "2023-03-22T09:12:15.428Z"
   },
   {
    "duration": 3,
    "start_time": "2023-03-22T09:12:16.712Z"
   },
   {
    "duration": 3388,
    "start_time": "2023-03-22T09:12:16.718Z"
   },
   {
    "duration": 199,
    "start_time": "2023-03-22T09:12:20.110Z"
   },
   {
    "duration": 187,
    "start_time": "2023-03-22T09:12:20.312Z"
   },
   {
    "duration": 0,
    "start_time": "2023-03-22T09:12:20.503Z"
   },
   {
    "duration": 1536,
    "start_time": "2023-03-22T19:08:19.063Z"
   },
   {
    "duration": 12,
    "start_time": "2023-03-22T19:08:20.602Z"
   },
   {
    "duration": 14,
    "start_time": "2023-03-22T19:08:20.616Z"
   },
   {
    "duration": 844,
    "start_time": "2023-03-22T19:08:20.633Z"
   },
   {
    "duration": 227,
    "start_time": "2023-03-22T19:08:21.479Z"
   },
   {
    "duration": 465,
    "start_time": "2023-03-22T19:08:21.707Z"
   },
   {
    "duration": 460,
    "start_time": "2023-03-22T19:08:22.174Z"
   },
   {
    "duration": 45,
    "start_time": "2023-03-22T19:08:22.636Z"
   },
   {
    "duration": 37,
    "start_time": "2023-03-22T19:08:22.682Z"
   },
   {
    "duration": 14,
    "start_time": "2023-03-22T19:08:22.721Z"
   },
   {
    "duration": 220,
    "start_time": "2023-03-22T19:08:22.737Z"
   },
   {
    "duration": 1602,
    "start_time": "2023-03-22T19:08:22.959Z"
   },
   {
    "duration": 17,
    "start_time": "2023-03-22T19:08:24.562Z"
   },
   {
    "duration": 23,
    "start_time": "2023-03-22T19:08:24.581Z"
   },
   {
    "duration": 9,
    "start_time": "2023-03-22T19:08:24.605Z"
   },
   {
    "duration": 135,
    "start_time": "2023-03-22T19:08:24.615Z"
   },
   {
    "duration": 191,
    "start_time": "2023-03-22T19:08:24.751Z"
   },
   {
    "duration": 16,
    "start_time": "2023-03-22T19:08:24.944Z"
   },
   {
    "duration": 1535,
    "start_time": "2023-03-22T19:08:24.962Z"
   },
   {
    "duration": 23,
    "start_time": "2023-03-22T19:08:26.504Z"
   },
   {
    "duration": 29,
    "start_time": "2023-03-22T19:08:26.529Z"
   },
   {
    "duration": 43,
    "start_time": "2023-03-22T19:08:26.560Z"
   },
   {
    "duration": 19,
    "start_time": "2023-03-22T19:08:26.605Z"
   },
   {
    "duration": 1708,
    "start_time": "2023-03-22T19:08:26.625Z"
   },
   {
    "duration": 32,
    "start_time": "2023-03-22T19:08:28.335Z"
   },
   {
    "duration": 208,
    "start_time": "2023-03-22T19:08:28.369Z"
   },
   {
    "duration": 277,
    "start_time": "2023-03-22T19:08:28.579Z"
   },
   {
    "duration": 16,
    "start_time": "2023-03-22T19:08:28.860Z"
   },
   {
    "duration": 129,
    "start_time": "2023-03-22T19:08:28.877Z"
   },
   {
    "duration": 6,
    "start_time": "2023-03-22T19:08:29.008Z"
   },
   {
    "duration": 5,
    "start_time": "2023-03-22T19:08:29.016Z"
   },
   {
    "duration": 7,
    "start_time": "2023-03-22T19:08:29.023Z"
   },
   {
    "duration": 13,
    "start_time": "2023-03-22T19:08:29.032Z"
   },
   {
    "duration": 24,
    "start_time": "2023-03-22T19:08:29.046Z"
   },
   {
    "duration": 3,
    "start_time": "2023-03-22T19:08:29.102Z"
   },
   {
    "duration": 4,
    "start_time": "2023-03-22T19:08:29.107Z"
   },
   {
    "duration": 12,
    "start_time": "2023-03-22T19:08:29.113Z"
   },
   {
    "duration": 403,
    "start_time": "2023-03-22T19:08:29.127Z"
   },
   {
    "duration": 3,
    "start_time": "2023-03-22T19:08:29.531Z"
   },
   {
    "duration": 135,
    "start_time": "2023-03-22T19:08:29.535Z"
   },
   {
    "duration": 120,
    "start_time": "2023-03-22T19:08:29.671Z"
   },
   {
    "duration": 24,
    "start_time": "2023-03-22T19:08:29.793Z"
   },
   {
    "duration": 100,
    "start_time": "2023-03-22T19:08:29.819Z"
   },
   {
    "duration": 100,
    "start_time": "2023-03-22T19:08:29.921Z"
   },
   {
    "duration": 4,
    "start_time": "2023-03-22T19:08:30.023Z"
   },
   {
    "duration": 36,
    "start_time": "2023-03-22T19:08:30.028Z"
   },
   {
    "duration": 126,
    "start_time": "2023-03-22T19:08:30.066Z"
   },
   {
    "duration": 50,
    "start_time": "2023-03-22T19:08:30.194Z"
   },
   {
    "duration": 19,
    "start_time": "2023-03-22T19:08:30.246Z"
   },
   {
    "duration": 17,
    "start_time": "2023-03-22T19:08:30.266Z"
   },
   {
    "duration": 14,
    "start_time": "2023-03-22T19:08:30.285Z"
   },
   {
    "duration": 15,
    "start_time": "2023-03-22T19:08:30.300Z"
   },
   {
    "duration": 6,
    "start_time": "2023-03-22T19:08:30.317Z"
   },
   {
    "duration": 18,
    "start_time": "2023-03-22T19:08:30.325Z"
   },
   {
    "duration": 11,
    "start_time": "2023-03-22T19:08:30.344Z"
   },
   {
    "duration": 186325,
    "start_time": "2023-03-22T19:08:30.357Z"
   },
   {
    "duration": 522,
    "start_time": "2023-03-22T19:11:36.684Z"
   },
   {
    "duration": 3,
    "start_time": "2023-03-22T19:11:37.208Z"
   },
   {
    "duration": 6,
    "start_time": "2023-03-22T19:11:37.212Z"
   },
   {
    "duration": 5,
    "start_time": "2023-03-22T19:11:37.219Z"
   },
   {
    "duration": 36,
    "start_time": "2023-03-22T19:11:37.225Z"
   },
   {
    "duration": 6,
    "start_time": "2023-03-22T19:11:37.263Z"
   },
   {
    "duration": 259041,
    "start_time": "2023-03-22T19:11:37.271Z"
   },
   {
    "duration": 600,
    "start_time": "2023-03-22T19:15:56.314Z"
   },
   {
    "duration": 3,
    "start_time": "2023-03-22T19:15:56.915Z"
   },
   {
    "duration": 2794,
    "start_time": "2023-03-22T19:15:56.920Z"
   },
   {
    "duration": 295,
    "start_time": "2023-03-22T19:15:59.715Z"
   },
   {
    "duration": 5,
    "start_time": "2023-03-22T19:16:00.011Z"
   },
   {
    "duration": 187,
    "start_time": "2023-03-22T19:16:00.104Z"
   },
   {
    "duration": 18,
    "start_time": "2023-03-22T19:16:00.293Z"
   },
   {
    "duration": 0,
    "start_time": "2023-03-22T19:16:00.313Z"
   },
   {
    "duration": 0,
    "start_time": "2023-03-22T19:16:00.314Z"
   },
   {
    "duration": 0,
    "start_time": "2023-03-22T19:16:00.316Z"
   },
   {
    "duration": 0,
    "start_time": "2023-03-22T19:16:00.317Z"
   },
   {
    "duration": 0,
    "start_time": "2023-03-22T19:16:00.319Z"
   },
   {
    "duration": 0,
    "start_time": "2023-03-22T19:16:00.320Z"
   },
   {
    "duration": 0,
    "start_time": "2023-03-22T19:16:00.322Z"
   },
   {
    "duration": 4,
    "start_time": "2023-03-22T19:16:28.398Z"
   },
   {
    "duration": 55,
    "start_time": "2023-03-22T19:16:31.238Z"
   },
   {
    "duration": 5,
    "start_time": "2023-03-22T19:18:35.499Z"
   },
   {
    "duration": 55,
    "start_time": "2023-03-22T19:18:36.727Z"
   },
   {
    "duration": 4,
    "start_time": "2023-03-22T19:23:50.376Z"
   },
   {
    "duration": 3271308,
    "start_time": "2023-03-22T19:23:51.859Z"
   },
   {
    "duration": 887,
    "start_time": "2023-03-22T20:18:23.169Z"
   },
   {
    "duration": 4,
    "start_time": "2023-03-22T20:18:24.058Z"
   },
   {
    "duration": 325053,
    "start_time": "2023-03-22T20:18:24.064Z"
   },
   {
    "duration": 1202,
    "start_time": "2023-03-22T20:23:49.124Z"
   },
   {
    "duration": 6,
    "start_time": "2023-03-22T20:23:50.331Z"
   },
   {
    "duration": 3374,
    "start_time": "2023-03-22T20:23:50.339Z"
   },
   {
    "duration": 125,
    "start_time": "2023-03-22T20:23:53.719Z"
   },
   {
    "duration": 318,
    "start_time": "2023-03-22T20:23:53.910Z"
   },
   {
    "duration": 396,
    "start_time": "2023-03-22T20:34:21.471Z"
   },
   {
    "duration": 197,
    "start_time": "2023-03-22T20:39:00.525Z"
   },
   {
    "duration": 1996,
    "start_time": "2023-03-23T15:42:31.819Z"
   },
   {
    "duration": 13,
    "start_time": "2023-03-23T15:42:33.817Z"
   },
   {
    "duration": 7,
    "start_time": "2023-03-23T15:42:33.832Z"
   },
   {
    "duration": 1132,
    "start_time": "2023-03-23T15:42:33.840Z"
   },
   {
    "duration": 284,
    "start_time": "2023-03-23T15:42:34.974Z"
   },
   {
    "duration": 625,
    "start_time": "2023-03-23T15:42:35.260Z"
   },
   {
    "duration": 455,
    "start_time": "2023-03-23T15:42:35.887Z"
   },
   {
    "duration": 51,
    "start_time": "2023-03-23T15:42:36.343Z"
   },
   {
    "duration": 22,
    "start_time": "2023-03-23T15:42:36.396Z"
   },
   {
    "duration": 15,
    "start_time": "2023-03-23T15:42:36.420Z"
   },
   {
    "duration": 230,
    "start_time": "2023-03-23T15:42:36.437Z"
   },
   {
    "duration": 1569,
    "start_time": "2023-03-23T15:42:36.669Z"
   },
   {
    "duration": 20,
    "start_time": "2023-03-23T15:42:38.239Z"
   },
   {
    "duration": 9,
    "start_time": "2023-03-23T15:42:38.260Z"
   },
   {
    "duration": 9,
    "start_time": "2023-03-23T15:42:38.286Z"
   },
   {
    "duration": 123,
    "start_time": "2023-03-23T15:42:38.297Z"
   },
   {
    "duration": 157,
    "start_time": "2023-03-23T15:42:38.421Z"
   },
   {
    "duration": 20,
    "start_time": "2023-03-23T15:42:38.579Z"
   },
   {
    "duration": 1568,
    "start_time": "2023-03-23T15:42:38.600Z"
   },
   {
    "duration": 29,
    "start_time": "2023-03-23T15:42:40.170Z"
   },
   {
    "duration": 30,
    "start_time": "2023-03-23T15:42:40.201Z"
   },
   {
    "duration": 22,
    "start_time": "2023-03-23T15:42:40.234Z"
   },
   {
    "duration": 34,
    "start_time": "2023-03-23T15:42:40.258Z"
   },
   {
    "duration": 1418,
    "start_time": "2023-03-23T15:42:40.294Z"
   },
   {
    "duration": 27,
    "start_time": "2023-03-23T15:42:41.714Z"
   },
   {
    "duration": 191,
    "start_time": "2023-03-23T15:42:41.742Z"
   },
   {
    "duration": 251,
    "start_time": "2023-03-23T15:42:41.934Z"
   },
   {
    "duration": 15,
    "start_time": "2023-03-23T15:42:42.189Z"
   },
   {
    "duration": 123,
    "start_time": "2023-03-23T15:42:42.206Z"
   },
   {
    "duration": 6,
    "start_time": "2023-03-23T15:42:42.332Z"
   },
   {
    "duration": 12,
    "start_time": "2023-03-23T15:42:42.339Z"
   },
   {
    "duration": 7,
    "start_time": "2023-03-23T15:42:42.353Z"
   },
   {
    "duration": 33,
    "start_time": "2023-03-23T15:42:42.361Z"
   },
   {
    "duration": 28,
    "start_time": "2023-03-23T15:42:42.395Z"
   },
   {
    "duration": 2,
    "start_time": "2023-03-23T15:42:42.425Z"
   },
   {
    "duration": 14,
    "start_time": "2023-03-23T15:42:42.429Z"
   },
   {
    "duration": 19,
    "start_time": "2023-03-23T15:42:42.445Z"
   },
   {
    "duration": 377,
    "start_time": "2023-03-23T15:42:42.465Z"
   },
   {
    "duration": 2,
    "start_time": "2023-03-23T15:42:42.843Z"
   },
   {
    "duration": 127,
    "start_time": "2023-03-23T15:42:42.847Z"
   },
   {
    "duration": 93,
    "start_time": "2023-03-23T15:42:42.976Z"
   },
   {
    "duration": 21,
    "start_time": "2023-03-23T15:42:43.070Z"
   },
   {
    "duration": 62,
    "start_time": "2023-03-23T15:42:43.093Z"
   },
   {
    "duration": 87,
    "start_time": "2023-03-23T15:42:43.157Z"
   },
   {
    "duration": 2,
    "start_time": "2023-03-23T15:42:43.246Z"
   },
   {
    "duration": 17,
    "start_time": "2023-03-23T15:42:43.250Z"
   },
   {
    "duration": 148,
    "start_time": "2023-03-23T15:42:43.268Z"
   },
   {
    "duration": 30,
    "start_time": "2023-03-23T15:42:43.417Z"
   },
   {
    "duration": 16,
    "start_time": "2023-03-23T15:42:43.449Z"
   },
   {
    "duration": 24,
    "start_time": "2023-03-23T15:42:43.466Z"
   },
   {
    "duration": 7,
    "start_time": "2023-03-23T15:42:43.491Z"
   },
   {
    "duration": 8,
    "start_time": "2023-03-23T15:42:43.499Z"
   },
   {
    "duration": 4,
    "start_time": "2023-03-23T15:42:43.509Z"
   },
   {
    "duration": 4,
    "start_time": "2023-03-23T15:42:43.514Z"
   },
   {
    "duration": 4,
    "start_time": "2023-03-23T15:42:43.520Z"
   },
   {
    "duration": 172887,
    "start_time": "2023-03-23T15:42:43.525Z"
   },
   {
    "duration": 391,
    "start_time": "2023-03-23T15:45:36.413Z"
   },
   {
    "duration": 3,
    "start_time": "2023-03-23T15:45:36.805Z"
   },
   {
    "duration": 5,
    "start_time": "2023-03-23T15:45:36.809Z"
   },
   {
    "duration": 5,
    "start_time": "2023-03-23T15:45:36.816Z"
   },
   {
    "duration": 6,
    "start_time": "2023-03-23T15:45:36.822Z"
   },
   {
    "duration": 4,
    "start_time": "2023-03-23T15:45:36.829Z"
   },
   {
    "duration": 184057,
    "start_time": "2023-03-23T15:45:36.835Z"
   },
   {
    "duration": 592,
    "start_time": "2023-03-23T15:48:40.894Z"
   },
   {
    "duration": 3,
    "start_time": "2023-03-23T15:48:41.487Z"
   },
   {
    "duration": 2303,
    "start_time": "2023-03-23T15:48:41.491Z"
   },
   {
    "duration": 42,
    "start_time": "2023-03-23T15:48:43.886Z"
   },
   {
    "duration": 3,
    "start_time": "2023-03-23T15:48:43.988Z"
   },
   {
    "duration": 2589238,
    "start_time": "2023-03-23T15:48:43.993Z"
   },
   {
    "duration": 675,
    "start_time": "2023-03-23T16:31:53.232Z"
   },
   {
    "duration": 3,
    "start_time": "2023-03-23T16:31:53.908Z"
   },
   {
    "duration": 144492,
    "start_time": "2023-03-23T16:31:53.912Z"
   },
   {
    "duration": 1097,
    "start_time": "2023-03-23T16:34:18.406Z"
   },
   {
    "duration": 3,
    "start_time": "2023-03-23T16:34:19.506Z"
   },
   {
    "duration": 4189,
    "start_time": "2023-03-23T16:34:19.510Z"
   },
   {
    "duration": 194,
    "start_time": "2023-03-23T16:34:23.703Z"
   },
   {
    "duration": 296,
    "start_time": "2023-03-23T16:34:23.899Z"
   },
   {
    "duration": 2830,
    "start_time": "2023-03-23T17:43:18.701Z"
   },
   {
    "duration": 24,
    "start_time": "2023-03-23T17:43:21.537Z"
   },
   {
    "duration": 28,
    "start_time": "2023-03-23T17:43:21.564Z"
   },
   {
    "duration": 3988,
    "start_time": "2023-03-23T17:43:21.595Z"
   },
   {
    "duration": 413,
    "start_time": "2023-03-23T17:43:25.586Z"
   },
   {
    "duration": 695,
    "start_time": "2023-03-23T17:43:26.001Z"
   },
   {
    "duration": 615,
    "start_time": "2023-03-23T17:43:26.699Z"
   },
   {
    "duration": 69,
    "start_time": "2023-03-23T17:43:27.316Z"
   },
   {
    "duration": 34,
    "start_time": "2023-03-23T17:43:27.389Z"
   },
   {
    "duration": 33,
    "start_time": "2023-03-23T17:43:27.427Z"
   },
   {
    "duration": 334,
    "start_time": "2023-03-23T17:43:27.462Z"
   },
   {
    "duration": 2170,
    "start_time": "2023-03-23T17:43:27.798Z"
   },
   {
    "duration": 27,
    "start_time": "2023-03-23T17:43:29.971Z"
   },
   {
    "duration": 15,
    "start_time": "2023-03-23T17:43:30.000Z"
   },
   {
    "duration": 53,
    "start_time": "2023-03-23T17:43:30.018Z"
   },
   {
    "duration": 230,
    "start_time": "2023-03-23T17:43:30.075Z"
   },
   {
    "duration": 327,
    "start_time": "2023-03-23T17:43:30.309Z"
   },
   {
    "duration": 29,
    "start_time": "2023-03-23T17:43:30.638Z"
   },
   {
    "duration": 2268,
    "start_time": "2023-03-23T17:43:30.669Z"
   },
   {
    "duration": 38,
    "start_time": "2023-03-23T17:43:32.946Z"
   },
   {
    "duration": 40,
    "start_time": "2023-03-23T17:43:32.986Z"
   },
   {
    "duration": 38,
    "start_time": "2023-03-23T17:43:33.029Z"
   },
   {
    "duration": 42,
    "start_time": "2023-03-23T17:43:33.071Z"
   },
   {
    "duration": 2429,
    "start_time": "2023-03-23T17:43:33.145Z"
   },
   {
    "duration": 47,
    "start_time": "2023-03-23T17:43:35.577Z"
   },
   {
    "duration": 333,
    "start_time": "2023-03-23T17:43:35.626Z"
   },
   {
    "duration": 438,
    "start_time": "2023-03-23T17:43:35.961Z"
   },
   {
    "duration": 23,
    "start_time": "2023-03-23T17:43:36.401Z"
   },
   {
    "duration": 192,
    "start_time": "2023-03-23T17:43:36.440Z"
   },
   {
    "duration": 8,
    "start_time": "2023-03-23T17:43:36.634Z"
   },
   {
    "duration": 12,
    "start_time": "2023-03-23T17:43:36.646Z"
   },
   {
    "duration": 28,
    "start_time": "2023-03-23T17:43:36.660Z"
   },
   {
    "duration": 21,
    "start_time": "2023-03-23T17:43:36.690Z"
   },
   {
    "duration": 48,
    "start_time": "2023-03-23T17:43:36.714Z"
   },
   {
    "duration": 4,
    "start_time": "2023-03-23T17:43:36.768Z"
   },
   {
    "duration": 8,
    "start_time": "2023-03-23T17:43:36.775Z"
   },
   {
    "duration": 17,
    "start_time": "2023-03-23T17:43:37.861Z"
   },
   {
    "duration": 540,
    "start_time": "2023-03-23T17:43:38.395Z"
   },
   {
    "duration": 8,
    "start_time": "2023-03-23T17:43:41.402Z"
   },
   {
    "duration": 102,
    "start_time": "2023-03-23T17:43:44.211Z"
   },
   {
    "duration": 553,
    "start_time": "2023-03-23T17:43:54.220Z"
   },
   {
    "duration": 170,
    "start_time": "2023-03-23T17:44:00.914Z"
   },
   {
    "duration": 19,
    "start_time": "2023-03-23T17:44:32.898Z"
   },
   {
    "duration": 61,
    "start_time": "2023-03-23T17:47:05.768Z"
   },
   {
    "duration": 5,
    "start_time": "2023-03-23T17:47:23.524Z"
   },
   {
    "duration": 11,
    "start_time": "2023-03-23T17:47:30.012Z"
   },
   {
    "duration": 90,
    "start_time": "2023-03-23T17:47:56.621Z"
   },
   {
    "duration": 391,
    "start_time": "2023-03-23T17:48:35.429Z"
   },
   {
    "duration": 155,
    "start_time": "2023-03-23T17:49:08.082Z"
   },
   {
    "duration": 22,
    "start_time": "2023-03-23T17:53:08.401Z"
   },
   {
    "duration": 21,
    "start_time": "2023-03-23T17:55:07.702Z"
   },
   {
    "duration": 193,
    "start_time": "2023-03-23T17:56:15.319Z"
   },
   {
    "duration": 52,
    "start_time": "2023-03-23T17:58:41.679Z"
   },
   {
    "duration": 48,
    "start_time": "2023-03-23T17:58:53.047Z"
   },
   {
    "duration": 20,
    "start_time": "2023-03-23T19:17:44.273Z"
   },
   {
    "duration": 23,
    "start_time": "2023-03-23T19:18:23.592Z"
   },
   {
    "duration": 23,
    "start_time": "2023-03-23T19:18:37.003Z"
   },
   {
    "duration": 105,
    "start_time": "2023-03-23T19:28:49.127Z"
   },
   {
    "duration": 14,
    "start_time": "2023-03-23T19:29:12.200Z"
   },
   {
    "duration": 1753,
    "start_time": "2023-03-24T05:26:09.275Z"
   },
   {
    "duration": 12,
    "start_time": "2023-03-24T05:26:11.031Z"
   },
   {
    "duration": 19,
    "start_time": "2023-03-24T05:26:11.045Z"
   },
   {
    "duration": 1167,
    "start_time": "2023-03-24T05:26:11.066Z"
   },
   {
    "duration": 277,
    "start_time": "2023-03-24T05:26:12.234Z"
   },
   {
    "duration": 515,
    "start_time": "2023-03-24T05:26:12.516Z"
   },
   {
    "duration": 478,
    "start_time": "2023-03-24T05:26:13.033Z"
   },
   {
    "duration": 44,
    "start_time": "2023-03-24T05:26:13.513Z"
   },
   {
    "duration": 21,
    "start_time": "2023-03-24T05:26:13.559Z"
   },
   {
    "duration": 15,
    "start_time": "2023-03-24T05:26:13.582Z"
   },
   {
    "duration": 241,
    "start_time": "2023-03-24T05:26:13.599Z"
   },
   {
    "duration": 1654,
    "start_time": "2023-03-24T05:26:13.841Z"
   },
   {
    "duration": 24,
    "start_time": "2023-03-24T05:26:15.498Z"
   },
   {
    "duration": 9,
    "start_time": "2023-03-24T05:26:15.523Z"
   },
   {
    "duration": 8,
    "start_time": "2023-03-24T05:26:15.533Z"
   },
   {
    "duration": 220,
    "start_time": "2023-03-24T05:26:15.543Z"
   },
   {
    "duration": 200,
    "start_time": "2023-03-24T05:26:15.766Z"
   },
   {
    "duration": 18,
    "start_time": "2023-03-24T05:26:15.968Z"
   },
   {
    "duration": 1557,
    "start_time": "2023-03-24T05:26:15.988Z"
   },
   {
    "duration": 22,
    "start_time": "2023-03-24T05:26:17.548Z"
   },
   {
    "duration": 45,
    "start_time": "2023-03-24T05:26:17.573Z"
   },
   {
    "duration": 19,
    "start_time": "2023-03-24T05:26:17.621Z"
   },
   {
    "duration": 18,
    "start_time": "2023-03-24T05:26:18.376Z"
   },
   {
    "duration": 1795,
    "start_time": "2023-03-24T05:26:20.738Z"
   },
   {
    "duration": 48,
    "start_time": "2023-03-24T05:26:22.536Z"
   },
   {
    "duration": 269,
    "start_time": "2023-03-24T05:26:22.586Z"
   },
   {
    "duration": 304,
    "start_time": "2023-03-24T05:26:22.858Z"
   },
   {
    "duration": 14,
    "start_time": "2023-03-24T05:26:24.715Z"
   },
   {
    "duration": 114,
    "start_time": "2023-03-24T05:26:25.041Z"
   },
   {
    "duration": 7,
    "start_time": "2023-03-24T05:26:25.762Z"
   },
   {
    "duration": 6,
    "start_time": "2023-03-24T05:26:26.281Z"
   },
   {
    "duration": 7,
    "start_time": "2023-03-24T05:26:26.928Z"
   },
   {
    "duration": 11,
    "start_time": "2023-03-24T05:26:27.921Z"
   },
   {
    "duration": 21,
    "start_time": "2023-03-24T05:26:28.425Z"
   },
   {
    "duration": 3,
    "start_time": "2023-03-24T05:26:29.625Z"
   },
   {
    "duration": 3,
    "start_time": "2023-03-24T05:26:30.801Z"
   },
   {
    "duration": 11,
    "start_time": "2023-03-24T05:26:32.321Z"
   },
   {
    "duration": 381,
    "start_time": "2023-03-24T05:26:32.889Z"
   },
   {
    "duration": 3,
    "start_time": "2023-03-24T05:26:35.961Z"
   },
   {
    "duration": 64,
    "start_time": "2023-03-24T05:26:40.640Z"
   },
   {
    "duration": 138,
    "start_time": "2023-03-24T05:26:43.177Z"
   },
   {
    "duration": 6812,
    "start_time": "2023-03-24T05:27:40.145Z"
   },
   {
    "duration": 5,
    "start_time": "2023-03-24T05:28:07.609Z"
   },
   {
    "duration": 2313,
    "start_time": "2023-03-24T05:28:24.035Z"
   },
   {
    "duration": 1554,
    "start_time": "2023-03-24T05:28:26.980Z"
   },
   {
    "duration": 116,
    "start_time": "2023-03-24T05:28:29.483Z"
   },
   {
    "duration": 13,
    "start_time": "2023-03-24T05:28:30.196Z"
   },
   {
    "duration": 3,
    "start_time": "2023-03-24T05:28:30.617Z"
   },
   {
    "duration": 852,
    "start_time": "2023-03-24T05:28:30.817Z"
   },
   {
    "duration": 262,
    "start_time": "2023-03-24T05:28:31.672Z"
   },
   {
    "duration": 513,
    "start_time": "2023-03-24T05:28:31.937Z"
   },
   {
    "duration": 504,
    "start_time": "2023-03-24T05:28:32.452Z"
   },
   {
    "duration": 41,
    "start_time": "2023-03-24T05:28:32.958Z"
   },
   {
    "duration": 23,
    "start_time": "2023-03-24T05:28:33.017Z"
   },
   {
    "duration": 10,
    "start_time": "2023-03-24T05:28:33.042Z"
   },
   {
    "duration": 236,
    "start_time": "2023-03-24T05:28:33.054Z"
   },
   {
    "duration": 1578,
    "start_time": "2023-03-24T05:28:33.293Z"
   },
   {
    "duration": 17,
    "start_time": "2023-03-24T05:28:34.873Z"
   },
   {
    "duration": 26,
    "start_time": "2023-03-24T05:28:34.892Z"
   },
   {
    "duration": 8,
    "start_time": "2023-03-24T05:28:34.921Z"
   },
   {
    "duration": 153,
    "start_time": "2023-03-24T05:28:34.931Z"
   },
   {
    "duration": 209,
    "start_time": "2023-03-24T05:28:35.086Z"
   },
   {
    "duration": 23,
    "start_time": "2023-03-24T05:28:35.297Z"
   },
   {
    "duration": 1578,
    "start_time": "2023-03-24T05:28:35.323Z"
   },
   {
    "duration": 31,
    "start_time": "2023-03-24T05:28:36.903Z"
   },
   {
    "duration": 32,
    "start_time": "2023-03-24T05:28:36.936Z"
   },
   {
    "duration": 26,
    "start_time": "2023-03-24T05:28:36.971Z"
   },
   {
    "duration": 24,
    "start_time": "2023-03-24T05:28:37.020Z"
   },
   {
    "duration": 1680,
    "start_time": "2023-03-24T05:28:37.091Z"
   },
   {
    "duration": 44,
    "start_time": "2023-03-24T05:28:38.774Z"
   },
   {
    "duration": 239,
    "start_time": "2023-03-24T05:28:38.820Z"
   },
   {
    "duration": 303,
    "start_time": "2023-03-24T05:28:39.061Z"
   },
   {
    "duration": 14,
    "start_time": "2023-03-24T05:28:39.401Z"
   },
   {
    "duration": 110,
    "start_time": "2023-03-24T05:28:39.737Z"
   },
   {
    "duration": 8,
    "start_time": "2023-03-24T05:28:40.417Z"
   },
   {
    "duration": 6,
    "start_time": "2023-03-24T05:28:40.841Z"
   },
   {
    "duration": 8,
    "start_time": "2023-03-24T05:28:41.137Z"
   },
   {
    "duration": 10,
    "start_time": "2023-03-24T05:28:41.723Z"
   },
   {
    "duration": 22,
    "start_time": "2023-03-24T05:28:42.027Z"
   },
   {
    "duration": 3,
    "start_time": "2023-03-24T05:28:42.562Z"
   },
   {
    "duration": 2,
    "start_time": "2023-03-24T05:28:43.513Z"
   },
   {
    "duration": 11,
    "start_time": "2023-03-24T05:28:44.641Z"
   },
   {
    "duration": 359,
    "start_time": "2023-03-24T05:28:44.930Z"
   },
   {
    "duration": 3,
    "start_time": "2023-03-24T05:28:47.041Z"
   },
   {
    "duration": 74,
    "start_time": "2023-03-24T05:28:48.298Z"
   },
   {
    "duration": 6771,
    "start_time": "2023-03-24T05:28:49.932Z"
   },
   {
    "duration": 6741,
    "start_time": "2023-03-24T05:29:12.196Z"
   },
   {
    "duration": 82,
    "start_time": "2023-03-24T05:29:26.499Z"
   },
   {
    "duration": 211,
    "start_time": "2023-03-24T05:31:19.914Z"
   },
   {
    "duration": 28,
    "start_time": "2023-03-24T05:31:48.507Z"
   },
   {
    "duration": 37,
    "start_time": "2023-03-24T07:59:19.352Z"
   },
   {
    "duration": 26,
    "start_time": "2023-03-24T08:02:14.463Z"
   },
   {
    "duration": 109,
    "start_time": "2023-03-24T08:02:16.175Z"
   },
   {
    "duration": 46,
    "start_time": "2023-03-24T08:02:16.879Z"
   },
   {
    "duration": 19,
    "start_time": "2023-03-24T08:02:17.469Z"
   },
   {
    "duration": 3,
    "start_time": "2023-03-24T08:02:21.513Z"
   },
   {
    "duration": 191608,
    "start_time": "2023-03-24T08:02:24.350Z"
   },
   {
    "duration": 190415,
    "start_time": "2023-03-24T08:07:11.273Z"
   },
   {
    "duration": 181831,
    "start_time": "2023-03-24T08:17:28.753Z"
   },
   {
    "duration": 367,
    "start_time": "2023-03-24T08:23:47.852Z"
   },
   {
    "duration": 4,
    "start_time": "2023-03-24T08:23:52.419Z"
   },
   {
    "duration": 3,
    "start_time": "2023-03-24T08:23:53.059Z"
   },
   {
    "duration": 3,
    "start_time": "2023-03-24T08:23:53.939Z"
   },
   {
    "duration": 3,
    "start_time": "2023-03-24T08:23:54.732Z"
   },
   {
    "duration": 2,
    "start_time": "2023-03-24T08:23:54.964Z"
   },
   {
    "duration": 186372,
    "start_time": "2023-03-24T08:23:56.851Z"
   },
   {
    "duration": 3,
    "start_time": "2023-03-24T08:27:03.738Z"
   },
   {
    "duration": 4381,
    "start_time": "2023-03-24T08:27:03.743Z"
   },
   {
    "duration": 1129,
    "start_time": "2023-03-24T08:27:08.126Z"
   },
   {
    "duration": 3164,
    "start_time": "2023-03-24T08:38:38.455Z"
   },
   {
    "duration": 261,
    "start_time": "2023-03-24T08:39:04.472Z"
   },
   {
    "duration": 81,
    "start_time": "2023-03-24T08:45:18.386Z"
   },
   {
    "duration": 81,
    "start_time": "2023-03-24T09:54:06.067Z"
   },
   {
    "duration": 51,
    "start_time": "2023-03-24T09:56:30.825Z"
   },
   {
    "duration": 2348,
    "start_time": "2023-03-24T10:03:01.839Z"
   },
   {
    "duration": 2296,
    "start_time": "2023-03-24T10:03:04.189Z"
   },
   {
    "duration": 116,
    "start_time": "2023-03-24T10:03:06.487Z"
   },
   {
    "duration": 0,
    "start_time": "2023-03-24T10:03:06.607Z"
   },
   {
    "duration": 0,
    "start_time": "2023-03-24T10:03:06.608Z"
   },
   {
    "duration": 0,
    "start_time": "2023-03-24T10:03:06.609Z"
   },
   {
    "duration": 0,
    "start_time": "2023-03-24T10:03:06.609Z"
   },
   {
    "duration": 0,
    "start_time": "2023-03-24T10:03:06.610Z"
   },
   {
    "duration": 0,
    "start_time": "2023-03-24T10:03:06.618Z"
   },
   {
    "duration": 0,
    "start_time": "2023-03-24T10:03:06.619Z"
   },
   {
    "duration": 0,
    "start_time": "2023-03-24T10:03:06.620Z"
   },
   {
    "duration": 0,
    "start_time": "2023-03-24T10:03:06.621Z"
   },
   {
    "duration": 0,
    "start_time": "2023-03-24T10:03:06.622Z"
   },
   {
    "duration": 0,
    "start_time": "2023-03-24T10:03:06.623Z"
   },
   {
    "duration": 0,
    "start_time": "2023-03-24T10:03:06.624Z"
   },
   {
    "duration": 0,
    "start_time": "2023-03-24T10:03:06.626Z"
   },
   {
    "duration": 0,
    "start_time": "2023-03-24T10:03:06.627Z"
   },
   {
    "duration": 0,
    "start_time": "2023-03-24T10:03:06.628Z"
   },
   {
    "duration": 0,
    "start_time": "2023-03-24T10:03:06.629Z"
   },
   {
    "duration": 0,
    "start_time": "2023-03-24T10:03:06.630Z"
   },
   {
    "duration": 0,
    "start_time": "2023-03-24T10:03:06.631Z"
   },
   {
    "duration": 0,
    "start_time": "2023-03-24T10:03:06.632Z"
   },
   {
    "duration": 0,
    "start_time": "2023-03-24T10:03:06.633Z"
   },
   {
    "duration": 0,
    "start_time": "2023-03-24T10:03:06.635Z"
   },
   {
    "duration": 0,
    "start_time": "2023-03-24T10:03:06.636Z"
   },
   {
    "duration": 0,
    "start_time": "2023-03-24T10:03:06.637Z"
   },
   {
    "duration": 0,
    "start_time": "2023-03-24T10:03:06.638Z"
   },
   {
    "duration": 0,
    "start_time": "2023-03-24T10:03:06.639Z"
   },
   {
    "duration": 0,
    "start_time": "2023-03-24T10:03:06.643Z"
   },
   {
    "duration": 0,
    "start_time": "2023-03-24T10:03:06.645Z"
   },
   {
    "duration": 0,
    "start_time": "2023-03-24T10:03:06.647Z"
   },
   {
    "duration": 0,
    "start_time": "2023-03-24T10:03:06.647Z"
   },
   {
    "duration": 0,
    "start_time": "2023-03-24T10:03:06.648Z"
   },
   {
    "duration": 0,
    "start_time": "2023-03-24T10:03:06.649Z"
   },
   {
    "duration": 0,
    "start_time": "2023-03-24T10:03:06.650Z"
   },
   {
    "duration": 0,
    "start_time": "2023-03-24T10:03:06.652Z"
   },
   {
    "duration": 0,
    "start_time": "2023-03-24T10:03:06.653Z"
   },
   {
    "duration": 0,
    "start_time": "2023-03-24T10:03:06.655Z"
   },
   {
    "duration": 0,
    "start_time": "2023-03-24T10:03:06.656Z"
   },
   {
    "duration": 0,
    "start_time": "2023-03-24T10:03:06.658Z"
   },
   {
    "duration": 0,
    "start_time": "2023-03-24T10:03:06.718Z"
   },
   {
    "duration": 0,
    "start_time": "2023-03-24T10:03:06.719Z"
   },
   {
    "duration": 0,
    "start_time": "2023-03-24T10:03:06.722Z"
   },
   {
    "duration": 0,
    "start_time": "2023-03-24T10:03:06.723Z"
   },
   {
    "duration": 0,
    "start_time": "2023-03-24T10:03:06.724Z"
   },
   {
    "duration": 0,
    "start_time": "2023-03-24T10:03:06.726Z"
   },
   {
    "duration": 0,
    "start_time": "2023-03-24T10:03:06.727Z"
   },
   {
    "duration": 0,
    "start_time": "2023-03-24T10:03:06.728Z"
   },
   {
    "duration": 0,
    "start_time": "2023-03-24T10:03:06.729Z"
   },
   {
    "duration": 0,
    "start_time": "2023-03-24T10:03:06.730Z"
   },
   {
    "duration": 0,
    "start_time": "2023-03-24T10:03:06.732Z"
   },
   {
    "duration": 1,
    "start_time": "2023-03-24T10:03:06.733Z"
   },
   {
    "duration": 0,
    "start_time": "2023-03-24T10:03:06.735Z"
   },
   {
    "duration": 0,
    "start_time": "2023-03-24T10:03:06.735Z"
   },
   {
    "duration": 0,
    "start_time": "2023-03-24T10:03:06.737Z"
   },
   {
    "duration": 0,
    "start_time": "2023-03-24T10:03:06.738Z"
   },
   {
    "duration": 0,
    "start_time": "2023-03-24T10:03:06.739Z"
   },
   {
    "duration": 0,
    "start_time": "2023-03-24T10:03:06.740Z"
   },
   {
    "duration": 0,
    "start_time": "2023-03-24T10:03:06.741Z"
   },
   {
    "duration": 0,
    "start_time": "2023-03-24T10:03:06.742Z"
   },
   {
    "duration": 0,
    "start_time": "2023-03-24T10:03:06.743Z"
   },
   {
    "duration": 0,
    "start_time": "2023-03-24T10:03:06.745Z"
   },
   {
    "duration": 0,
    "start_time": "2023-03-24T10:03:06.746Z"
   },
   {
    "duration": 0,
    "start_time": "2023-03-24T10:03:06.747Z"
   },
   {
    "duration": 0,
    "start_time": "2023-03-24T10:03:06.748Z"
   },
   {
    "duration": 0,
    "start_time": "2023-03-24T10:03:06.749Z"
   },
   {
    "duration": 0,
    "start_time": "2023-03-24T10:03:06.750Z"
   },
   {
    "duration": 0,
    "start_time": "2023-03-24T10:03:06.751Z"
   },
   {
    "duration": 0,
    "start_time": "2023-03-24T10:03:06.752Z"
   },
   {
    "duration": 0,
    "start_time": "2023-03-24T10:03:06.753Z"
   },
   {
    "duration": 0,
    "start_time": "2023-03-24T10:03:06.818Z"
   },
   {
    "duration": 0,
    "start_time": "2023-03-24T10:03:06.819Z"
   },
   {
    "duration": 0,
    "start_time": "2023-03-24T10:03:06.820Z"
   },
   {
    "duration": 0,
    "start_time": "2023-03-24T10:03:06.821Z"
   },
   {
    "duration": 0,
    "start_time": "2023-03-24T10:03:06.823Z"
   },
   {
    "duration": 0,
    "start_time": "2023-03-24T10:03:06.823Z"
   },
   {
    "duration": 0,
    "start_time": "2023-03-24T10:03:06.825Z"
   },
   {
    "duration": 0,
    "start_time": "2023-03-24T10:03:06.826Z"
   },
   {
    "duration": 0,
    "start_time": "2023-03-24T10:03:06.827Z"
   },
   {
    "duration": 2545,
    "start_time": "2023-03-24T10:06:51.812Z"
   },
   {
    "duration": 1751,
    "start_time": "2023-03-24T10:06:54.360Z"
   },
   {
    "duration": 19,
    "start_time": "2023-03-24T10:06:56.112Z"
   },
   {
    "duration": 14,
    "start_time": "2023-03-24T10:06:56.134Z"
   },
   {
    "duration": 1189,
    "start_time": "2023-03-24T10:06:56.150Z"
   },
   {
    "duration": 283,
    "start_time": "2023-03-24T10:06:57.341Z"
   },
   {
    "duration": 481,
    "start_time": "2023-03-24T10:06:57.625Z"
   },
   {
    "duration": 542,
    "start_time": "2023-03-24T10:06:58.108Z"
   },
   {
    "duration": 98,
    "start_time": "2023-03-24T10:06:58.652Z"
   },
   {
    "duration": 71,
    "start_time": "2023-03-24T10:06:58.752Z"
   },
   {
    "duration": 15,
    "start_time": "2023-03-24T10:06:58.824Z"
   },
   {
    "duration": 307,
    "start_time": "2023-03-24T10:06:58.842Z"
   },
   {
    "duration": 1654,
    "start_time": "2023-03-24T10:06:59.151Z"
   },
   {
    "duration": 25,
    "start_time": "2023-03-24T10:07:00.807Z"
   },
   {
    "duration": 24,
    "start_time": "2023-03-24T10:07:00.834Z"
   },
   {
    "duration": 23,
    "start_time": "2023-03-24T10:07:00.860Z"
   },
   {
    "duration": 157,
    "start_time": "2023-03-24T10:07:00.885Z"
   },
   {
    "duration": 212,
    "start_time": "2023-03-24T10:07:01.044Z"
   },
   {
    "duration": 17,
    "start_time": "2023-03-24T10:07:01.257Z"
   },
   {
    "duration": 1809,
    "start_time": "2023-03-24T10:07:01.276Z"
   },
   {
    "duration": 31,
    "start_time": "2023-03-24T10:07:03.087Z"
   },
   {
    "duration": 33,
    "start_time": "2023-03-24T10:07:03.120Z"
   },
   {
    "duration": 27,
    "start_time": "2023-03-24T10:07:03.155Z"
   },
   {
    "duration": 28,
    "start_time": "2023-03-24T10:07:03.184Z"
   },
   {
    "duration": 1712,
    "start_time": "2023-03-24T10:07:03.217Z"
   },
   {
    "duration": 36,
    "start_time": "2023-03-24T10:07:04.931Z"
   },
   {
    "duration": 312,
    "start_time": "2023-03-24T10:07:04.969Z"
   },
   {
    "duration": 334,
    "start_time": "2023-03-24T10:07:05.285Z"
   },
   {
    "duration": 20,
    "start_time": "2023-03-24T10:07:05.622Z"
   },
   {
    "duration": 141,
    "start_time": "2023-03-24T10:07:05.644Z"
   },
   {
    "duration": 8,
    "start_time": "2023-03-24T10:07:05.787Z"
   },
   {
    "duration": 40,
    "start_time": "2023-03-24T10:07:05.796Z"
   },
   {
    "duration": 37,
    "start_time": "2023-03-24T10:07:05.837Z"
   },
   {
    "duration": 35,
    "start_time": "2023-03-24T10:07:05.875Z"
   },
   {
    "duration": 43,
    "start_time": "2023-03-24T10:07:05.912Z"
   },
   {
    "duration": 18,
    "start_time": "2023-03-24T10:07:05.956Z"
   },
   {
    "duration": 24,
    "start_time": "2023-03-24T10:07:05.976Z"
   },
   {
    "duration": 48,
    "start_time": "2023-03-24T10:07:06.002Z"
   },
   {
    "duration": 427,
    "start_time": "2023-03-24T10:07:06.052Z"
   },
   {
    "duration": 3,
    "start_time": "2023-03-24T10:07:06.481Z"
   },
   {
    "duration": 112,
    "start_time": "2023-03-24T10:07:06.485Z"
   },
   {
    "duration": 9743,
    "start_time": "2023-03-24T10:07:06.599Z"
   },
   {
    "duration": 96,
    "start_time": "2023-03-24T10:07:16.344Z"
   },
   {
    "duration": 224,
    "start_time": "2023-03-24T10:07:16.441Z"
   },
   {
    "duration": 36,
    "start_time": "2023-03-24T10:07:16.667Z"
   },
   {
    "duration": 12,
    "start_time": "2023-03-24T10:07:16.705Z"
   },
   {
    "duration": 35,
    "start_time": "2023-03-24T10:07:16.720Z"
   },
   {
    "duration": 121,
    "start_time": "2023-03-24T10:07:16.757Z"
   },
   {
    "duration": 53,
    "start_time": "2023-03-24T10:07:16.880Z"
   },
   {
    "duration": 21,
    "start_time": "2023-03-24T10:07:16.935Z"
   },
   {
    "duration": 13,
    "start_time": "2023-03-24T10:07:16.957Z"
   },
   {
    "duration": 6,
    "start_time": "2023-03-24T10:07:16.972Z"
   },
   {
    "duration": 9,
    "start_time": "2023-03-24T10:07:16.980Z"
   },
   {
    "duration": 36,
    "start_time": "2023-03-24T10:07:16.991Z"
   },
   {
    "duration": 33,
    "start_time": "2023-03-24T10:07:17.029Z"
   },
   {
    "duration": 79,
    "start_time": "2023-03-24T10:07:17.064Z"
   },
   {
    "duration": 185651,
    "start_time": "2023-03-24T10:07:17.145Z"
   },
   {
    "duration": 330,
    "start_time": "2023-03-24T10:10:22.798Z"
   },
   {
    "duration": 3,
    "start_time": "2023-03-24T10:10:23.130Z"
   },
   {
    "duration": 11,
    "start_time": "2023-03-24T10:10:23.134Z"
   },
   {
    "duration": 5,
    "start_time": "2023-03-24T10:10:23.146Z"
   },
   {
    "duration": 7,
    "start_time": "2023-03-24T10:10:23.153Z"
   },
   {
    "duration": 9,
    "start_time": "2023-03-24T10:10:23.161Z"
   },
   {
    "duration": 5847,
    "start_time": "2023-03-24T10:10:23.171Z"
   },
   {
    "duration": 319,
    "start_time": "2023-03-24T10:10:29.020Z"
   },
   {
    "duration": 3,
    "start_time": "2023-03-24T10:10:29.417Z"
   },
   {
    "duration": 3203,
    "start_time": "2023-03-24T10:10:29.422Z"
   },
   {
    "duration": 191,
    "start_time": "2023-03-24T10:10:32.627Z"
   },
   {
    "duration": 5,
    "start_time": "2023-03-24T10:10:32.820Z"
   },
   {
    "duration": 329,
    "start_time": "2023-03-24T10:10:32.827Z"
   },
   {
    "duration": 15,
    "start_time": "2023-03-24T10:10:33.158Z"
   },
   {
    "duration": 0,
    "start_time": "2023-03-24T10:10:33.175Z"
   },
   {
    "duration": 0,
    "start_time": "2023-03-24T10:10:33.176Z"
   },
   {
    "duration": 0,
    "start_time": "2023-03-24T10:10:33.177Z"
   },
   {
    "duration": 0,
    "start_time": "2023-03-24T10:10:33.178Z"
   },
   {
    "duration": 0,
    "start_time": "2023-03-24T10:10:33.179Z"
   },
   {
    "duration": 0,
    "start_time": "2023-03-24T10:10:33.180Z"
   },
   {
    "duration": 0,
    "start_time": "2023-03-24T10:10:33.181Z"
   },
   {
    "duration": 4,
    "start_time": "2023-03-24T10:14:36.312Z"
   },
   {
    "duration": 3081858,
    "start_time": "2023-03-24T10:14:36.998Z"
   },
   {
    "duration": 565,
    "start_time": "2023-03-24T11:05:58.858Z"
   },
   {
    "duration": 3,
    "start_time": "2023-03-24T11:05:59.425Z"
   },
   {
    "duration": 37503,
    "start_time": "2023-03-24T11:05:59.430Z"
   },
   {
    "duration": 294,
    "start_time": "2023-03-24T11:06:36.935Z"
   },
   {
    "duration": 2,
    "start_time": "2023-03-24T11:06:37.231Z"
   },
   {
    "duration": 6,
    "start_time": "2023-03-24T11:06:37.235Z"
   },
   {
    "duration": 7,
    "start_time": "2023-03-24T11:06:37.242Z"
   },
   {
    "duration": 375,
    "start_time": "2023-03-24T11:06:37.251Z"
   },
   {
    "duration": 6521,
    "start_time": "2023-03-24T18:53:05.962Z"
   },
   {
    "duration": 1800,
    "start_time": "2023-03-24T18:53:12.484Z"
   },
   {
    "duration": 12,
    "start_time": "2023-03-24T18:53:14.286Z"
   },
   {
    "duration": 1435,
    "start_time": "2023-03-24T18:53:14.301Z"
   },
   {
    "duration": 1138,
    "start_time": "2023-03-24T18:53:15.738Z"
   },
   {
    "duration": 203,
    "start_time": "2023-03-24T18:53:16.877Z"
   },
   {
    "duration": 404,
    "start_time": "2023-03-24T18:53:17.082Z"
   },
   {
    "duration": 375,
    "start_time": "2023-03-24T18:53:17.487Z"
   },
   {
    "duration": 42,
    "start_time": "2023-03-24T18:53:17.863Z"
   },
   {
    "duration": 20,
    "start_time": "2023-03-24T18:53:17.907Z"
   },
   {
    "duration": 19,
    "start_time": "2023-03-24T18:53:17.929Z"
   },
   {
    "duration": 201,
    "start_time": "2023-03-24T18:53:17.950Z"
   },
   {
    "duration": 1428,
    "start_time": "2023-03-24T18:53:18.152Z"
   },
   {
    "duration": 21,
    "start_time": "2023-03-24T18:53:19.582Z"
   },
   {
    "duration": 8,
    "start_time": "2023-03-24T18:53:19.605Z"
   },
   {
    "duration": 9,
    "start_time": "2023-03-24T18:53:19.614Z"
   },
   {
    "duration": 156,
    "start_time": "2023-03-24T18:53:19.625Z"
   },
   {
    "duration": 165,
    "start_time": "2023-03-24T18:53:19.782Z"
   },
   {
    "duration": 25,
    "start_time": "2023-03-24T18:53:19.949Z"
   },
   {
    "duration": 1398,
    "start_time": "2023-03-24T18:53:19.976Z"
   },
   {
    "duration": 20,
    "start_time": "2023-03-24T18:53:21.375Z"
   },
   {
    "duration": 27,
    "start_time": "2023-03-24T18:53:21.396Z"
   },
   {
    "duration": 19,
    "start_time": "2023-03-24T18:53:21.424Z"
   },
   {
    "duration": 40,
    "start_time": "2023-03-24T18:53:21.445Z"
   },
   {
    "duration": 1381,
    "start_time": "2023-03-24T18:53:21.486Z"
   },
   {
    "duration": 33,
    "start_time": "2023-03-24T18:53:22.868Z"
   },
   {
    "duration": 256,
    "start_time": "2023-03-24T18:53:22.903Z"
   },
   {
    "duration": 265,
    "start_time": "2023-03-24T18:53:23.163Z"
   },
   {
    "duration": 15,
    "start_time": "2023-03-24T18:53:23.430Z"
   },
   {
    "duration": 118,
    "start_time": "2023-03-24T18:53:23.446Z"
   },
   {
    "duration": 11,
    "start_time": "2023-03-24T18:53:23.565Z"
   },
   {
    "duration": 13,
    "start_time": "2023-03-24T18:53:23.577Z"
   },
   {
    "duration": 11,
    "start_time": "2023-03-24T18:53:23.592Z"
   },
   {
    "duration": 10,
    "start_time": "2023-03-24T18:53:23.604Z"
   },
   {
    "duration": 19,
    "start_time": "2023-03-24T18:53:23.616Z"
   },
   {
    "duration": 4,
    "start_time": "2023-03-24T18:53:23.637Z"
   },
   {
    "duration": 30,
    "start_time": "2023-03-24T18:53:23.643Z"
   },
   {
    "duration": 16,
    "start_time": "2023-03-24T18:53:23.676Z"
   },
   {
    "duration": 364,
    "start_time": "2023-03-24T18:53:23.695Z"
   },
   {
    "duration": 2,
    "start_time": "2023-03-24T18:53:24.061Z"
   },
   {
    "duration": 81,
    "start_time": "2023-03-24T18:53:24.064Z"
   },
   {
    "duration": 5835,
    "start_time": "2023-03-24T18:53:24.147Z"
   },
   {
    "duration": 72,
    "start_time": "2023-03-24T18:53:29.984Z"
   },
   {
    "duration": 185,
    "start_time": "2023-03-24T18:53:30.058Z"
   },
   {
    "duration": 41,
    "start_time": "2023-03-24T18:53:30.245Z"
   },
   {
    "duration": 3,
    "start_time": "2023-03-24T18:53:30.288Z"
   },
   {
    "duration": 54,
    "start_time": "2023-03-24T18:53:30.292Z"
   },
   {
    "duration": 140,
    "start_time": "2023-03-24T18:53:30.348Z"
   },
   {
    "duration": 43,
    "start_time": "2023-03-24T18:53:30.490Z"
   },
   {
    "duration": 17,
    "start_time": "2023-03-24T18:53:30.534Z"
   },
   {
    "duration": 35,
    "start_time": "2023-03-24T18:53:30.553Z"
   },
   {
    "duration": 20,
    "start_time": "2023-03-24T18:53:30.590Z"
   },
   {
    "duration": 27,
    "start_time": "2023-03-24T18:53:30.612Z"
   },
   {
    "duration": 35,
    "start_time": "2023-03-24T18:53:30.641Z"
   },
   {
    "duration": 31,
    "start_time": "2023-03-24T18:53:30.678Z"
   },
   {
    "duration": 29,
    "start_time": "2023-03-24T18:53:30.711Z"
   },
   {
    "duration": 175414,
    "start_time": "2023-03-24T18:53:30.741Z"
   },
   {
    "duration": 367,
    "start_time": "2023-03-24T18:56:26.157Z"
   },
   {
    "duration": 2,
    "start_time": "2023-03-24T18:56:26.526Z"
   },
   {
    "duration": 5,
    "start_time": "2023-03-24T18:56:26.529Z"
   },
   {
    "duration": 5,
    "start_time": "2023-03-24T18:56:26.536Z"
   },
   {
    "duration": 5,
    "start_time": "2023-03-24T18:56:26.542Z"
   },
   {
    "duration": 7,
    "start_time": "2023-03-24T18:56:26.548Z"
   },
   {
    "duration": 916537,
    "start_time": "2023-03-24T18:56:26.556Z"
   },
   {
    "duration": 481,
    "start_time": "2023-03-24T19:11:43.100Z"
   },
   {
    "duration": 4,
    "start_time": "2023-03-24T19:11:43.582Z"
   },
   {
    "duration": 2515,
    "start_time": "2023-03-24T19:11:43.587Z"
   },
   {
    "duration": 108,
    "start_time": "2023-03-24T19:11:46.173Z"
   },
   {
    "duration": 6,
    "start_time": "2023-03-24T19:11:46.284Z"
   }
  ],
  "kernelspec": {
   "display_name": "Python 3 (ipykernel)",
   "language": "python",
   "name": "python3"
  },
  "language_info": {
   "codemirror_mode": {
    "name": "ipython",
    "version": 3
   },
   "file_extension": ".py",
   "mimetype": "text/x-python",
   "name": "python",
   "nbconvert_exporter": "python",
   "pygments_lexer": "ipython3",
   "version": "3.9.5"
  },
  "toc": {
   "base_numbering": 1,
   "nav_menu": {},
   "number_sections": true,
   "sideBar": true,
   "skip_h1_title": true,
   "title_cell": "Table of Contents",
   "title_sidebar": "Contents",
   "toc_cell": false,
   "toc_position": {},
   "toc_section_display": true,
   "toc_window_display": false
  }
 },
 "nbformat": 4,
 "nbformat_minor": 2
}
