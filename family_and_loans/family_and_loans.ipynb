{
 "cells": [
  {
   "cell_type": "markdown",
   "id": "83c58be4",
   "metadata": {},
   "source": [
    "# Исследование надежности заемщиков."
   ]
  },
  {
   "cell_type": "markdown",
   "id": "eb554872",
   "metadata": {},
   "source": [
    "**Цель исследования: разобраться, влияет ли уровень дохода, семейное положение и количество детей клиента на факт погашения кредита в срок. Входные данные от банка — статистика о платёжеспособности клиентов.**"
   ]
  },
  {
   "cell_type": "markdown",
   "id": "7b7a6794",
   "metadata": {},
   "source": [
    "### Шаг 1. Обзор данных"
   ]
  },
  {
   "cell_type": "code",
   "execution_count": 1,
   "id": "826e151b",
   "metadata": {},
   "outputs": [
    {
     "data": {
      "text/html": [
       "<div>\n",
       "<style scoped>\n",
       "    .dataframe tbody tr th:only-of-type {\n",
       "        vertical-align: middle;\n",
       "    }\n",
       "\n",
       "    .dataframe tbody tr th {\n",
       "        vertical-align: top;\n",
       "    }\n",
       "\n",
       "    .dataframe thead th {\n",
       "        text-align: right;\n",
       "    }\n",
       "</style>\n",
       "<table border=\"1\" class=\"dataframe\">\n",
       "  <thead>\n",
       "    <tr style=\"text-align: right;\">\n",
       "      <th></th>\n",
       "      <th>children</th>\n",
       "      <th>days_employed</th>\n",
       "      <th>dob_years</th>\n",
       "      <th>education</th>\n",
       "      <th>education_id</th>\n",
       "      <th>family_status</th>\n",
       "      <th>family_status_id</th>\n",
       "      <th>gender</th>\n",
       "      <th>income_type</th>\n",
       "      <th>debt</th>\n",
       "      <th>total_income</th>\n",
       "      <th>purpose</th>\n",
       "    </tr>\n",
       "  </thead>\n",
       "  <tbody>\n",
       "    <tr>\n",
       "      <th>3718</th>\n",
       "      <td>0</td>\n",
       "      <td>-492.613197</td>\n",
       "      <td>32</td>\n",
       "      <td>НЕОКОНЧЕННОЕ ВЫСШЕЕ</td>\n",
       "      <td>2</td>\n",
       "      <td>гражданский брак</td>\n",
       "      <td>1</td>\n",
       "      <td>F</td>\n",
       "      <td>компаньон</td>\n",
       "      <td>0</td>\n",
       "      <td>129250.032264</td>\n",
       "      <td>сделка с автомобилем</td>\n",
       "    </tr>\n",
       "    <tr>\n",
       "      <th>3784</th>\n",
       "      <td>0</td>\n",
       "      <td>-1070.790684</td>\n",
       "      <td>48</td>\n",
       "      <td>высшее</td>\n",
       "      <td>0</td>\n",
       "      <td>женат / замужем</td>\n",
       "      <td>0</td>\n",
       "      <td>M</td>\n",
       "      <td>компаньон</td>\n",
       "      <td>0</td>\n",
       "      <td>193971.031455</td>\n",
       "      <td>операции с коммерческой недвижимостью</td>\n",
       "    </tr>\n",
       "    <tr>\n",
       "      <th>21456</th>\n",
       "      <td>2</td>\n",
       "      <td>-2247.862982</td>\n",
       "      <td>23</td>\n",
       "      <td>среднее</td>\n",
       "      <td>1</td>\n",
       "      <td>женат / замужем</td>\n",
       "      <td>0</td>\n",
       "      <td>F</td>\n",
       "      <td>сотрудник</td>\n",
       "      <td>1</td>\n",
       "      <td>115291.719953</td>\n",
       "      <td>получение дополнительного образования</td>\n",
       "    </tr>\n",
       "    <tr>\n",
       "      <th>12002</th>\n",
       "      <td>2</td>\n",
       "      <td>-102.287139</td>\n",
       "      <td>23</td>\n",
       "      <td>высшее</td>\n",
       "      <td>0</td>\n",
       "      <td>гражданский брак</td>\n",
       "      <td>1</td>\n",
       "      <td>F</td>\n",
       "      <td>сотрудник</td>\n",
       "      <td>0</td>\n",
       "      <td>97699.528037</td>\n",
       "      <td>получение дополнительного образования</td>\n",
       "    </tr>\n",
       "    <tr>\n",
       "      <th>19503</th>\n",
       "      <td>1</td>\n",
       "      <td>398715.819476</td>\n",
       "      <td>54</td>\n",
       "      <td>Высшее</td>\n",
       "      <td>0</td>\n",
       "      <td>женат / замужем</td>\n",
       "      <td>0</td>\n",
       "      <td>M</td>\n",
       "      <td>пенсионер</td>\n",
       "      <td>0</td>\n",
       "      <td>553313.883070</td>\n",
       "      <td>строительство жилой недвижимости</td>\n",
       "    </tr>\n",
       "    <tr>\n",
       "      <th>8018</th>\n",
       "      <td>0</td>\n",
       "      <td>-660.488766</td>\n",
       "      <td>41</td>\n",
       "      <td>высшее</td>\n",
       "      <td>0</td>\n",
       "      <td>гражданский брак</td>\n",
       "      <td>1</td>\n",
       "      <td>F</td>\n",
       "      <td>компаньон</td>\n",
       "      <td>1</td>\n",
       "      <td>118169.175009</td>\n",
       "      <td>на проведение свадьбы</td>\n",
       "    </tr>\n",
       "    <tr>\n",
       "      <th>15695</th>\n",
       "      <td>0</td>\n",
       "      <td>-3806.323142</td>\n",
       "      <td>30</td>\n",
       "      <td>среднее</td>\n",
       "      <td>1</td>\n",
       "      <td>Не женат / не замужем</td>\n",
       "      <td>4</td>\n",
       "      <td>M</td>\n",
       "      <td>сотрудник</td>\n",
       "      <td>0</td>\n",
       "      <td>169824.896961</td>\n",
       "      <td>сделка с автомобилем</td>\n",
       "    </tr>\n",
       "    <tr>\n",
       "      <th>21043</th>\n",
       "      <td>0</td>\n",
       "      <td>-1755.222139</td>\n",
       "      <td>46</td>\n",
       "      <td>среднее</td>\n",
       "      <td>1</td>\n",
       "      <td>Не женат / не замужем</td>\n",
       "      <td>4</td>\n",
       "      <td>F</td>\n",
       "      <td>сотрудник</td>\n",
       "      <td>0</td>\n",
       "      <td>119516.943993</td>\n",
       "      <td>сделка с автомобилем</td>\n",
       "    </tr>\n",
       "    <tr>\n",
       "      <th>4957</th>\n",
       "      <td>1</td>\n",
       "      <td>382970.199936</td>\n",
       "      <td>59</td>\n",
       "      <td>среднее</td>\n",
       "      <td>1</td>\n",
       "      <td>женат / замужем</td>\n",
       "      <td>0</td>\n",
       "      <td>F</td>\n",
       "      <td>пенсионер</td>\n",
       "      <td>0</td>\n",
       "      <td>51079.297866</td>\n",
       "      <td>операции со своей недвижимостью</td>\n",
       "    </tr>\n",
       "    <tr>\n",
       "      <th>15569</th>\n",
       "      <td>0</td>\n",
       "      <td>-727.953722</td>\n",
       "      <td>35</td>\n",
       "      <td>среднее</td>\n",
       "      <td>1</td>\n",
       "      <td>женат / замужем</td>\n",
       "      <td>0</td>\n",
       "      <td>F</td>\n",
       "      <td>госслужащий</td>\n",
       "      <td>0</td>\n",
       "      <td>175346.443859</td>\n",
       "      <td>строительство собственной недвижимости</td>\n",
       "    </tr>\n",
       "  </tbody>\n",
       "</table>\n",
       "</div>"
      ],
      "text/plain": [
       "       children  days_employed  dob_years            education  education_id  \\\n",
       "3718          0    -492.613197         32  НЕОКОНЧЕННОЕ ВЫСШЕЕ             2   \n",
       "3784          0   -1070.790684         48               высшее             0   \n",
       "21456         2   -2247.862982         23              среднее             1   \n",
       "12002         2    -102.287139         23               высшее             0   \n",
       "19503         1  398715.819476         54               Высшее             0   \n",
       "8018          0    -660.488766         41               высшее             0   \n",
       "15695         0   -3806.323142         30              среднее             1   \n",
       "21043         0   -1755.222139         46              среднее             1   \n",
       "4957          1  382970.199936         59              среднее             1   \n",
       "15569         0    -727.953722         35              среднее             1   \n",
       "\n",
       "               family_status  family_status_id gender  income_type  debt  \\\n",
       "3718        гражданский брак                 1      F    компаньон     0   \n",
       "3784         женат / замужем                 0      M    компаньон     0   \n",
       "21456        женат / замужем                 0      F    сотрудник     1   \n",
       "12002       гражданский брак                 1      F    сотрудник     0   \n",
       "19503        женат / замужем                 0      M    пенсионер     0   \n",
       "8018        гражданский брак                 1      F    компаньон     1   \n",
       "15695  Не женат / не замужем                 4      M    сотрудник     0   \n",
       "21043  Не женат / не замужем                 4      F    сотрудник     0   \n",
       "4957         женат / замужем                 0      F    пенсионер     0   \n",
       "15569        женат / замужем                 0      F  госслужащий     0   \n",
       "\n",
       "        total_income                                 purpose  \n",
       "3718   129250.032264                    сделка с автомобилем  \n",
       "3784   193971.031455   операции с коммерческой недвижимостью  \n",
       "21456  115291.719953   получение дополнительного образования  \n",
       "12002   97699.528037   получение дополнительного образования  \n",
       "19503  553313.883070        строительство жилой недвижимости  \n",
       "8018   118169.175009                   на проведение свадьбы  \n",
       "15695  169824.896961                    сделка с автомобилем  \n",
       "21043  119516.943993                    сделка с автомобилем  \n",
       "4957    51079.297866         операции со своей недвижимостью  \n",
       "15569  175346.443859  строительство собственной недвижимости  "
      ]
     },
     "metadata": {},
     "output_type": "display_data"
    },
    {
     "name": "stdout",
     "output_type": "stream",
     "text": [
      "<class 'pandas.core.frame.DataFrame'>\n",
      "RangeIndex: 21525 entries, 0 to 21524\n",
      "Data columns (total 12 columns):\n",
      " #   Column            Non-Null Count  Dtype  \n",
      "---  ------            --------------  -----  \n",
      " 0   children          21525 non-null  int64  \n",
      " 1   days_employed     19351 non-null  float64\n",
      " 2   dob_years         21525 non-null  int64  \n",
      " 3   education         21525 non-null  object \n",
      " 4   education_id      21525 non-null  int64  \n",
      " 5   family_status     21525 non-null  object \n",
      " 6   family_status_id  21525 non-null  int64  \n",
      " 7   gender            21525 non-null  object \n",
      " 8   income_type       21525 non-null  object \n",
      " 9   debt              21525 non-null  int64  \n",
      " 10  total_income      19351 non-null  float64\n",
      " 11  purpose           21525 non-null  object \n",
      "dtypes: float64(2), int64(5), object(5)\n",
      "memory usage: 2.0+ MB\n"
     ]
    }
   ],
   "source": [
    "import pandas as pd\n",
    "debts = pd.read_csv('/datasets/data.csv')\n",
    "display(debts.sample(10))\n",
    "debts.info()\n"
   ]
  },
  {
   "cell_type": "markdown",
   "id": "55e5a286",
   "metadata": {},
   "source": [
    "**Датафрейм состоит из 12 столбцов и 21525 строк, в 2 столбцах имеются пропуски значений. Тип данных в таблице int64, float64 и object**"
   ]
  },
  {
   "cell_type": "code",
   "execution_count": 2,
   "id": "b2a76d66",
   "metadata": {},
   "outputs": [
    {
     "name": "stdout",
     "output_type": "stream",
     "text": [
      "Доля пропущенных значений в столбце 'total_income' составляет 11.2%\n",
      "Доля пропущенных значений в столбце 'days_employed' составляет 11.2%\n"
     ]
    }
   ],
   "source": [
    "print(f\"Доля пропущенных значений в столбце 'total_income' составляет {debts['total_income'].isna().sum() / debts['total_income'].count():.1%}\")\n",
    "print(f\"Доля пропущенных значений в столбце 'days_employed' составляет {debts['days_employed'].isna().sum() / debts['days_employed'].count():.1%}\")"
   ]
  },
  {
   "cell_type": "markdown",
   "id": "c740f451",
   "metadata": {},
   "source": [
    "### Шаг 2.1 Заполнение пропусков"
   ]
  },
  {
   "cell_type": "code",
   "execution_count": 3,
   "id": "b0dac78c",
   "metadata": {},
   "outputs": [
    {
     "name": "stdout",
     "output_type": "stream",
     "text": [
      "<class 'pandas.core.frame.DataFrame'>\n",
      "RangeIndex: 21525 entries, 0 to 21524\n",
      "Data columns (total 12 columns):\n",
      " #   Column            Non-Null Count  Dtype  \n",
      "---  ------            --------------  -----  \n",
      " 0   children          21525 non-null  int64  \n",
      " 1   days_employed     19351 non-null  float64\n",
      " 2   dob_years         21525 non-null  int64  \n",
      " 3   education         21525 non-null  object \n",
      " 4   education_id      21525 non-null  int64  \n",
      " 5   family_status     21525 non-null  object \n",
      " 6   family_status_id  21525 non-null  int64  \n",
      " 7   gender            21525 non-null  object \n",
      " 8   income_type       21525 non-null  object \n",
      " 9   debt              21525 non-null  int64  \n",
      " 10  total_income      21525 non-null  float64\n",
      " 11  purpose           21525 non-null  object \n",
      "dtypes: float64(2), int64(5), object(5)\n",
      "memory usage: 2.0+ MB\n"
     ]
    }
   ],
   "source": [
    "debts['total_income'] = debts['total_income'].fillna(debts['total_income'].median())\n",
    "debts.info()"
   ]
  },
  {
   "cell_type": "markdown",
   "id": "294fe8fc",
   "metadata": {},
   "source": [
    "**Пропущенные значения типа NaN**\n",
    "\n",
    "**В строках одновременно пропущены значения и в total income и в days employed. Количество пропусков одинаково**\n",
    "\n",
    "**Доля пропусков составляет 11,2 %**\n",
    "\n",
    "**Возможные причины появления: отсутствие данных о работе либо некорректное внесение данных**\n",
    "\n",
    "**Медианным значчением заполнять предпочтительнее, так как медианное значение это хначение среднее в числовом ряду, то есть отражает средняя цифру дохода, где половина пользователей выше по доходу, а вторая ниже. В отличии от среднего арифметического дает более точную картину, которая может искажаться артефактами в виде очень большого или очень маленького дохода некоторых пользователей** "
   ]
  },
  {
   "cell_type": "markdown",
   "id": "fbd61da0",
   "metadata": {},
   "source": [
    "### Шаг 2.2 Проверка данных на аномалии и исправления."
   ]
  },
  {
   "cell_type": "code",
   "execution_count": 4,
   "id": "fe0424e1",
   "metadata": {
    "scrolled": true
   },
   "outputs": [
    {
     "data": {
      "text/plain": [
       "count     19351.000000\n",
       "mean      63046.497661\n",
       "std      140827.311974\n",
       "min      -18388.949901\n",
       "25%       -2747.423625\n",
       "50%       -1203.369529\n",
       "75%        -291.095954\n",
       "max      401755.400475\n",
       "Name: days_employed, dtype: float64"
      ]
     },
     "execution_count": 4,
     "metadata": {},
     "output_type": "execute_result"
    }
   ],
   "source": [
    "#debts.loc[debts['days_employed'] < 0].info()\n",
    "debts['days_employed'].describe()"
   ]
  },
  {
   "cell_type": "code",
   "execution_count": 5,
   "id": "014f087e",
   "metadata": {},
   "outputs": [
    {
     "data": {
      "text/html": [
       "<div>\n",
       "<style scoped>\n",
       "    .dataframe tbody tr th:only-of-type {\n",
       "        vertical-align: middle;\n",
       "    }\n",
       "\n",
       "    .dataframe tbody tr th {\n",
       "        vertical-align: top;\n",
       "    }\n",
       "\n",
       "    .dataframe thead th {\n",
       "        text-align: right;\n",
       "    }\n",
       "</style>\n",
       "<table border=\"1\" class=\"dataframe\">\n",
       "  <thead>\n",
       "    <tr style=\"text-align: right;\">\n",
       "      <th></th>\n",
       "      <th>children</th>\n",
       "      <th>days_employed</th>\n",
       "      <th>dob_years</th>\n",
       "      <th>education</th>\n",
       "      <th>education_id</th>\n",
       "      <th>family_status</th>\n",
       "      <th>family_status_id</th>\n",
       "      <th>gender</th>\n",
       "      <th>income_type</th>\n",
       "      <th>debt</th>\n",
       "      <th>total_income</th>\n",
       "      <th>purpose</th>\n",
       "    </tr>\n",
       "  </thead>\n",
       "  <tbody>\n",
       "    <tr>\n",
       "      <th>20578</th>\n",
       "      <td>1</td>\n",
       "      <td>-1960.654109</td>\n",
       "      <td>35</td>\n",
       "      <td>ВЫСШЕЕ</td>\n",
       "      <td>0</td>\n",
       "      <td>женат / замужем</td>\n",
       "      <td>0</td>\n",
       "      <td>M</td>\n",
       "      <td>компаньон</td>\n",
       "      <td>0</td>\n",
       "      <td>111055.709283</td>\n",
       "      <td>высшее образование</td>\n",
       "    </tr>\n",
       "    <tr>\n",
       "      <th>14601</th>\n",
       "      <td>0</td>\n",
       "      <td>-152.451507</td>\n",
       "      <td>30</td>\n",
       "      <td>среднее</td>\n",
       "      <td>1</td>\n",
       "      <td>Не женат / не замужем</td>\n",
       "      <td>4</td>\n",
       "      <td>F</td>\n",
       "      <td>сотрудник</td>\n",
       "      <td>0</td>\n",
       "      <td>145378.701983</td>\n",
       "      <td>покупка недвижимости</td>\n",
       "    </tr>\n",
       "    <tr>\n",
       "      <th>113</th>\n",
       "      <td>0</td>\n",
       "      <td>-6083.994730</td>\n",
       "      <td>52</td>\n",
       "      <td>среднее</td>\n",
       "      <td>1</td>\n",
       "      <td>женат / замужем</td>\n",
       "      <td>0</td>\n",
       "      <td>F</td>\n",
       "      <td>госслужащий</td>\n",
       "      <td>0</td>\n",
       "      <td>120655.098258</td>\n",
       "      <td>образование</td>\n",
       "    </tr>\n",
       "    <tr>\n",
       "      <th>15872</th>\n",
       "      <td>0</td>\n",
       "      <td>-600.418900</td>\n",
       "      <td>39</td>\n",
       "      <td>среднее</td>\n",
       "      <td>1</td>\n",
       "      <td>гражданский брак</td>\n",
       "      <td>1</td>\n",
       "      <td>F</td>\n",
       "      <td>госслужащий</td>\n",
       "      <td>1</td>\n",
       "      <td>113489.725351</td>\n",
       "      <td>автомобили</td>\n",
       "    </tr>\n",
       "    <tr>\n",
       "      <th>5738</th>\n",
       "      <td>0</td>\n",
       "      <td>-3982.517631</td>\n",
       "      <td>30</td>\n",
       "      <td>среднее</td>\n",
       "      <td>1</td>\n",
       "      <td>в разводе</td>\n",
       "      <td>3</td>\n",
       "      <td>F</td>\n",
       "      <td>компаньон</td>\n",
       "      <td>0</td>\n",
       "      <td>228020.932146</td>\n",
       "      <td>покупка своего жилья</td>\n",
       "    </tr>\n",
       "    <tr>\n",
       "      <th>16404</th>\n",
       "      <td>0</td>\n",
       "      <td>-234.024819</td>\n",
       "      <td>50</td>\n",
       "      <td>среднее</td>\n",
       "      <td>1</td>\n",
       "      <td>женат / замужем</td>\n",
       "      <td>0</td>\n",
       "      <td>F</td>\n",
       "      <td>госслужащий</td>\n",
       "      <td>1</td>\n",
       "      <td>137010.946239</td>\n",
       "      <td>жилье</td>\n",
       "    </tr>\n",
       "    <tr>\n",
       "      <th>18378</th>\n",
       "      <td>0</td>\n",
       "      <td>-1603.942553</td>\n",
       "      <td>28</td>\n",
       "      <td>СРЕДНЕЕ</td>\n",
       "      <td>1</td>\n",
       "      <td>женат / замужем</td>\n",
       "      <td>0</td>\n",
       "      <td>M</td>\n",
       "      <td>сотрудник</td>\n",
       "      <td>0</td>\n",
       "      <td>160470.715974</td>\n",
       "      <td>на покупку подержанного автомобиля</td>\n",
       "    </tr>\n",
       "    <tr>\n",
       "      <th>1648</th>\n",
       "      <td>1</td>\n",
       "      <td>-1193.764427</td>\n",
       "      <td>27</td>\n",
       "      <td>среднее</td>\n",
       "      <td>1</td>\n",
       "      <td>женат / замужем</td>\n",
       "      <td>0</td>\n",
       "      <td>F</td>\n",
       "      <td>компаньон</td>\n",
       "      <td>0</td>\n",
       "      <td>224175.433275</td>\n",
       "      <td>сделка с подержанным автомобилем</td>\n",
       "    </tr>\n",
       "    <tr>\n",
       "      <th>10783</th>\n",
       "      <td>2</td>\n",
       "      <td>-88.813603</td>\n",
       "      <td>31</td>\n",
       "      <td>среднее</td>\n",
       "      <td>1</td>\n",
       "      <td>женат / замужем</td>\n",
       "      <td>0</td>\n",
       "      <td>M</td>\n",
       "      <td>сотрудник</td>\n",
       "      <td>0</td>\n",
       "      <td>229730.875703</td>\n",
       "      <td>автомобиль</td>\n",
       "    </tr>\n",
       "    <tr>\n",
       "      <th>5240</th>\n",
       "      <td>0</td>\n",
       "      <td>-1225.819098</td>\n",
       "      <td>29</td>\n",
       "      <td>среднее</td>\n",
       "      <td>1</td>\n",
       "      <td>Не женат / не замужем</td>\n",
       "      <td>4</td>\n",
       "      <td>M</td>\n",
       "      <td>сотрудник</td>\n",
       "      <td>0</td>\n",
       "      <td>260882.310357</td>\n",
       "      <td>покупка жилья для сдачи</td>\n",
       "    </tr>\n",
       "  </tbody>\n",
       "</table>\n",
       "</div>"
      ],
      "text/plain": [
       "       children  days_employed  dob_years education  education_id  \\\n",
       "20578         1   -1960.654109         35    ВЫСШЕЕ             0   \n",
       "14601         0    -152.451507         30   среднее             1   \n",
       "113           0   -6083.994730         52   среднее             1   \n",
       "15872         0    -600.418900         39   среднее             1   \n",
       "5738          0   -3982.517631         30   среднее             1   \n",
       "16404         0    -234.024819         50   среднее             1   \n",
       "18378         0   -1603.942553         28   СРЕДНЕЕ             1   \n",
       "1648          1   -1193.764427         27   среднее             1   \n",
       "10783         2     -88.813603         31   среднее             1   \n",
       "5240          0   -1225.819098         29   среднее             1   \n",
       "\n",
       "               family_status  family_status_id gender  income_type  debt  \\\n",
       "20578        женат / замужем                 0      M    компаньон     0   \n",
       "14601  Не женат / не замужем                 4      F    сотрудник     0   \n",
       "113          женат / замужем                 0      F  госслужащий     0   \n",
       "15872       гражданский брак                 1      F  госслужащий     1   \n",
       "5738               в разводе                 3      F    компаньон     0   \n",
       "16404        женат / замужем                 0      F  госслужащий     1   \n",
       "18378        женат / замужем                 0      M    сотрудник     0   \n",
       "1648         женат / замужем                 0      F    компаньон     0   \n",
       "10783        женат / замужем                 0      M    сотрудник     0   \n",
       "5240   Не женат / не замужем                 4      M    сотрудник     0   \n",
       "\n",
       "        total_income                             purpose  \n",
       "20578  111055.709283                  высшее образование  \n",
       "14601  145378.701983                покупка недвижимости  \n",
       "113    120655.098258                         образование  \n",
       "15872  113489.725351                          автомобили  \n",
       "5738   228020.932146                покупка своего жилья  \n",
       "16404  137010.946239                               жилье  \n",
       "18378  160470.715974  на покупку подержанного автомобиля  \n",
       "1648   224175.433275    сделка с подержанным автомобилем  \n",
       "10783  229730.875703                          автомобиль  \n",
       "5240   260882.310357             покупка жилья для сдачи  "
      ]
     },
     "metadata": {},
     "output_type": "display_data"
    }
   ],
   "source": [
    "display(debts.loc[debts['days_employed'] < 0].sample(10))"
   ]
  },
  {
   "cell_type": "code",
   "execution_count": 6,
   "id": "a964e364",
   "metadata": {},
   "outputs": [
    {
     "data": {
      "text/html": [
       "<div>\n",
       "<style scoped>\n",
       "    .dataframe tbody tr th:only-of-type {\n",
       "        vertical-align: middle;\n",
       "    }\n",
       "\n",
       "    .dataframe tbody tr th {\n",
       "        vertical-align: top;\n",
       "    }\n",
       "\n",
       "    .dataframe thead th {\n",
       "        text-align: right;\n",
       "    }\n",
       "</style>\n",
       "<table border=\"1\" class=\"dataframe\">\n",
       "  <thead>\n",
       "    <tr style=\"text-align: right;\">\n",
       "      <th></th>\n",
       "      <th>children</th>\n",
       "      <th>days_employed</th>\n",
       "      <th>dob_years</th>\n",
       "      <th>education</th>\n",
       "      <th>education_id</th>\n",
       "      <th>family_status</th>\n",
       "      <th>family_status_id</th>\n",
       "      <th>gender</th>\n",
       "      <th>income_type</th>\n",
       "      <th>debt</th>\n",
       "      <th>total_income</th>\n",
       "      <th>purpose</th>\n",
       "    </tr>\n",
       "  </thead>\n",
       "  <tbody>\n",
       "  </tbody>\n",
       "</table>\n",
       "</div>"
      ],
      "text/plain": [
       "Empty DataFrame\n",
       "Columns: [children, days_employed, dob_years, education, education_id, family_status, family_status_id, gender, income_type, debt, total_income, purpose]\n",
       "Index: []"
      ]
     },
     "metadata": {},
     "output_type": "display_data"
    }
   ],
   "source": [
    "debts.loc[debts['days_employed'] < 0, 'days_employed'] = -1 * debts.loc[debts['days_employed'] < 0, 'days_employed']\n",
    "display(debts.loc[debts['days_employed'] < 0].head(10))"
   ]
  },
  {
   "cell_type": "code",
   "execution_count": 7,
   "id": "83ff6a0a",
   "metadata": {},
   "outputs": [
    {
     "data": {
      "text/plain": [
       "count     21525.000000\n",
       "mean      60378.032733\n",
       "std      133257.558514\n",
       "min          24.141633\n",
       "25%        1025.608174\n",
       "50%        2194.220567\n",
       "75%        4779.587738\n",
       "max      401755.400475\n",
       "Name: days_employed, dtype: float64"
      ]
     },
     "execution_count": 7,
     "metadata": {},
     "output_type": "execute_result"
    }
   ],
   "source": [
    "debts['days_employed'] = debts['days_employed'].fillna(debts['days_employed'].median())\n",
    "debts['days_employed'].describe()"
   ]
  },
  {
   "cell_type": "markdown",
   "id": "ce11cfc4",
   "metadata": {},
   "source": [
    "**В days_employed более 15 тысяч отлицательных значений, около 75%, предполагаю, что данные изначально некорректны.**"
   ]
  },
  {
   "cell_type": "markdown",
   "id": "66ff7a44",
   "metadata": {},
   "source": [
    "### Шаг 2.3. Изменение типов данных."
   ]
  },
  {
   "cell_type": "code",
   "execution_count": 8,
   "id": "68b139d7",
   "metadata": {},
   "outputs": [
    {
     "name": "stdout",
     "output_type": "stream",
     "text": [
      "<class 'pandas.core.frame.DataFrame'>\n",
      "RangeIndex: 21525 entries, 0 to 21524\n",
      "Data columns (total 12 columns):\n",
      " #   Column            Non-Null Count  Dtype  \n",
      "---  ------            --------------  -----  \n",
      " 0   children          21525 non-null  int64  \n",
      " 1   days_employed     21525 non-null  float64\n",
      " 2   dob_years         21525 non-null  int64  \n",
      " 3   education         21525 non-null  object \n",
      " 4   education_id      21525 non-null  int64  \n",
      " 5   family_status     21525 non-null  object \n",
      " 6   family_status_id  21525 non-null  int64  \n",
      " 7   gender            21525 non-null  object \n",
      " 8   income_type       21525 non-null  object \n",
      " 9   debt              21525 non-null  int64  \n",
      " 10  total_income      21525 non-null  int64  \n",
      " 11  purpose           21525 non-null  object \n",
      "dtypes: float64(1), int64(6), object(5)\n",
      "memory usage: 2.0+ MB\n"
     ]
    }
   ],
   "source": [
    "debts['total_income'] = debts['total_income'].astype('int')\n",
    "debts.info()"
   ]
  },
  {
   "cell_type": "markdown",
   "id": "a4bef256",
   "metadata": {},
   "source": [
    "### Шаг 2.4. Удаление дубликатов."
   ]
  },
  {
   "cell_type": "code",
   "execution_count": 9,
   "id": "84d08294",
   "metadata": {},
   "outputs": [
    {
     "data": {
      "text/plain": [
       "array(['высшее', 'среднее', 'Среднее', 'СРЕДНЕЕ', 'ВЫСШЕЕ',\n",
       "       'неоконченное высшее', 'начальное', 'Высшее',\n",
       "       'НЕОКОНЧЕННОЕ ВЫСШЕЕ', 'Неоконченное высшее', 'НАЧАЛЬНОЕ',\n",
       "       'Начальное', 'Ученая степень', 'УЧЕНАЯ СТЕПЕНЬ', 'ученая степень'],\n",
       "      dtype=object)"
      ]
     },
     "execution_count": 9,
     "metadata": {},
     "output_type": "execute_result"
    }
   ],
   "source": [
    "debts.education.unique()"
   ]
  },
  {
   "cell_type": "code",
   "execution_count": 10,
   "id": "2bde5b90",
   "metadata": {},
   "outputs": [
    {
     "data": {
      "text/plain": [
       "array(['женат / замужем', 'гражданский брак', 'вдовец / вдова',\n",
       "       'в разводе', 'Не женат / не замужем'], dtype=object)"
      ]
     },
     "execution_count": 10,
     "metadata": {},
     "output_type": "execute_result"
    }
   ],
   "source": [
    "debts.family_status.unique()"
   ]
  },
  {
   "cell_type": "code",
   "execution_count": 11,
   "id": "c50109c4",
   "metadata": {},
   "outputs": [
    {
     "data": {
      "text/plain": [
       "array(['сотрудник', 'пенсионер', 'компаньон', 'госслужащий',\n",
       "       'безработный', 'предприниматель', 'студент', 'в декрете'],\n",
       "      dtype=object)"
      ]
     },
     "execution_count": 11,
     "metadata": {},
     "output_type": "execute_result"
    }
   ],
   "source": [
    "debts.income_type.unique()"
   ]
  },
  {
   "cell_type": "code",
   "execution_count": 12,
   "id": "312128b1",
   "metadata": {},
   "outputs": [
    {
     "data": {
      "text/plain": [
       "array(['покупка жилья', 'приобретение автомобиля',\n",
       "       'дополнительное образование', 'сыграть свадьбу',\n",
       "       'операции с жильем', 'образование', 'на проведение свадьбы',\n",
       "       'покупка жилья для семьи', 'покупка недвижимости',\n",
       "       'покупка коммерческой недвижимости', 'покупка жилой недвижимости',\n",
       "       'строительство собственной недвижимости', 'недвижимость',\n",
       "       'строительство недвижимости', 'на покупку подержанного автомобиля',\n",
       "       'на покупку своего автомобиля',\n",
       "       'операции с коммерческой недвижимостью',\n",
       "       'строительство жилой недвижимости', 'жилье',\n",
       "       'операции со своей недвижимостью', 'автомобили',\n",
       "       'заняться образованием', 'сделка с подержанным автомобилем',\n",
       "       'получение образования', 'автомобиль', 'свадьба',\n",
       "       'получение дополнительного образования', 'покупка своего жилья',\n",
       "       'операции с недвижимостью', 'получение высшего образования',\n",
       "       'свой автомобиль', 'сделка с автомобилем',\n",
       "       'профильное образование', 'высшее образование',\n",
       "       'покупка жилья для сдачи', 'на покупку автомобиля', 'ремонт жилью',\n",
       "       'заняться высшим образованием'], dtype=object)"
      ]
     },
     "execution_count": 12,
     "metadata": {},
     "output_type": "execute_result"
    }
   ],
   "source": [
    "debts.purpose.unique()"
   ]
  },
  {
   "cell_type": "code",
   "execution_count": 13,
   "id": "5c3be87e",
   "metadata": {},
   "outputs": [
    {
     "data": {
      "text/plain": [
       "array(['F', 'M', 'XNA'], dtype=object)"
      ]
     },
     "execution_count": 13,
     "metadata": {},
     "output_type": "execute_result"
    }
   ],
   "source": [
    "debts.gender.unique()"
   ]
  },
  {
   "cell_type": "code",
   "execution_count": 14,
   "id": "37be1c6d",
   "metadata": {},
   "outputs": [
    {
     "data": {
      "text/html": [
       "<div>\n",
       "<style scoped>\n",
       "    .dataframe tbody tr th:only-of-type {\n",
       "        vertical-align: middle;\n",
       "    }\n",
       "\n",
       "    .dataframe tbody tr th {\n",
       "        vertical-align: top;\n",
       "    }\n",
       "\n",
       "    .dataframe thead th {\n",
       "        text-align: right;\n",
       "    }\n",
       "</style>\n",
       "<table border=\"1\" class=\"dataframe\">\n",
       "  <thead>\n",
       "    <tr style=\"text-align: right;\">\n",
       "      <th></th>\n",
       "      <th>children</th>\n",
       "      <th>days_employed</th>\n",
       "      <th>dob_years</th>\n",
       "      <th>education</th>\n",
       "      <th>education_id</th>\n",
       "      <th>family_status</th>\n",
       "      <th>family_status_id</th>\n",
       "      <th>gender</th>\n",
       "      <th>income_type</th>\n",
       "      <th>debt</th>\n",
       "      <th>total_income</th>\n",
       "      <th>purpose</th>\n",
       "    </tr>\n",
       "  </thead>\n",
       "  <tbody>\n",
       "    <tr>\n",
       "      <th>10701</th>\n",
       "      <td>0</td>\n",
       "      <td>2358.600502</td>\n",
       "      <td>24</td>\n",
       "      <td>неоконченное высшее</td>\n",
       "      <td>2</td>\n",
       "      <td>гражданский брак</td>\n",
       "      <td>1</td>\n",
       "      <td>XNA</td>\n",
       "      <td>компаньон</td>\n",
       "      <td>0</td>\n",
       "      <td>203905</td>\n",
       "      <td>покупка недвижимости</td>\n",
       "    </tr>\n",
       "  </tbody>\n",
       "</table>\n",
       "</div>"
      ],
      "text/plain": [
       "       children  days_employed  dob_years            education  education_id  \\\n",
       "10701         0    2358.600502         24  неоконченное высшее             2   \n",
       "\n",
       "          family_status  family_status_id gender income_type  debt  \\\n",
       "10701  гражданский брак                 1    XNA   компаньон     0   \n",
       "\n",
       "       total_income               purpose  \n",
       "10701        203905  покупка недвижимости  "
      ]
     },
     "metadata": {},
     "output_type": "display_data"
    }
   ],
   "source": [
    "display(debts[debts.gender == 'XNA'])"
   ]
  },
  {
   "cell_type": "code",
   "execution_count": 15,
   "id": "b10f14f1",
   "metadata": {},
   "outputs": [
    {
     "data": {
      "text/plain": [
       " 0     14149\n",
       " 1      4818\n",
       " 2      2055\n",
       " 3       330\n",
       " 20       76\n",
       "-1        47\n",
       " 4        41\n",
       " 5         9\n",
       "Name: children, dtype: int64"
      ]
     },
     "execution_count": 15,
     "metadata": {},
     "output_type": "execute_result"
    }
   ],
   "source": [
    "debts.children.value_counts()"
   ]
  },
  {
   "cell_type": "code",
   "execution_count": 16,
   "id": "88609ff2",
   "metadata": {
    "scrolled": true
   },
   "outputs": [
    {
     "data": {
      "text/plain": [
       "35    617\n",
       "40    609\n",
       "41    607\n",
       "34    603\n",
       "38    598\n",
       "42    597\n",
       "33    581\n",
       "39    573\n",
       "31    560\n",
       "36    555\n",
       "44    547\n",
       "29    545\n",
       "30    540\n",
       "48    538\n",
       "37    537\n",
       "50    514\n",
       "43    513\n",
       "32    510\n",
       "49    508\n",
       "28    503\n",
       "45    497\n",
       "27    493\n",
       "56    487\n",
       "52    484\n",
       "47    480\n",
       "54    479\n",
       "46    475\n",
       "58    461\n",
       "57    460\n",
       "53    459\n",
       "51    448\n",
       "59    444\n",
       "55    443\n",
       "26    408\n",
       "60    377\n",
       "25    357\n",
       "61    355\n",
       "62    352\n",
       "63    269\n",
       "64    265\n",
       "24    264\n",
       "23    254\n",
       "65    194\n",
       "66    183\n",
       "22    183\n",
       "67    167\n",
       "21    111\n",
       "0     101\n",
       "68     99\n",
       "69     85\n",
       "70     65\n",
       "71     58\n",
       "20     51\n",
       "72     33\n",
       "19     14\n",
       "73      8\n",
       "74      6\n",
       "75      1\n",
       "Name: dob_years, dtype: int64"
      ]
     },
     "execution_count": 16,
     "metadata": {},
     "output_type": "execute_result"
    }
   ],
   "source": [
    "debts.dob_years.value_counts()"
   ]
  },
  {
   "cell_type": "code",
   "execution_count": 17,
   "id": "19b9c824",
   "metadata": {},
   "outputs": [],
   "source": [
    "debts.children = debts.children.replace(20, 2)\n",
    "debts.children = debts.children.replace(-1, 1)"
   ]
  },
  {
   "cell_type": "code",
   "execution_count": 18,
   "id": "260e87b4",
   "metadata": {},
   "outputs": [
    {
     "data": {
      "text/plain": [
       "71"
      ]
     },
     "execution_count": 18,
     "metadata": {},
     "output_type": "execute_result"
    }
   ],
   "source": [
    "debts.education = debts.education.str.lower()\n",
    "debts.duplicated().sum()"
   ]
  },
  {
   "cell_type": "code",
   "execution_count": 19,
   "id": "bb33cf17",
   "metadata": {},
   "outputs": [
    {
     "data": {
      "text/html": [
       "<div>\n",
       "<style scoped>\n",
       "    .dataframe tbody tr th:only-of-type {\n",
       "        vertical-align: middle;\n",
       "    }\n",
       "\n",
       "    .dataframe tbody tr th {\n",
       "        vertical-align: top;\n",
       "    }\n",
       "\n",
       "    .dataframe thead th {\n",
       "        text-align: right;\n",
       "    }\n",
       "</style>\n",
       "<table border=\"1\" class=\"dataframe\">\n",
       "  <thead>\n",
       "    <tr style=\"text-align: right;\">\n",
       "      <th></th>\n",
       "      <th>children</th>\n",
       "      <th>days_employed</th>\n",
       "      <th>dob_years</th>\n",
       "      <th>education</th>\n",
       "      <th>education_id</th>\n",
       "      <th>family_status</th>\n",
       "      <th>family_status_id</th>\n",
       "      <th>gender</th>\n",
       "      <th>income_type</th>\n",
       "      <th>debt</th>\n",
       "      <th>total_income</th>\n",
       "      <th>purpose</th>\n",
       "    </tr>\n",
       "  </thead>\n",
       "  <tbody>\n",
       "    <tr>\n",
       "      <th>0</th>\n",
       "      <td>1</td>\n",
       "      <td>8437.673028</td>\n",
       "      <td>42</td>\n",
       "      <td>высшее</td>\n",
       "      <td>0</td>\n",
       "      <td>женат / замужем</td>\n",
       "      <td>0</td>\n",
       "      <td>F</td>\n",
       "      <td>сотрудник</td>\n",
       "      <td>0</td>\n",
       "      <td>253875</td>\n",
       "      <td>покупка жилья</td>\n",
       "    </tr>\n",
       "    <tr>\n",
       "      <th>1</th>\n",
       "      <td>1</td>\n",
       "      <td>4024.803754</td>\n",
       "      <td>36</td>\n",
       "      <td>среднее</td>\n",
       "      <td>1</td>\n",
       "      <td>женат / замужем</td>\n",
       "      <td>0</td>\n",
       "      <td>F</td>\n",
       "      <td>сотрудник</td>\n",
       "      <td>0</td>\n",
       "      <td>112080</td>\n",
       "      <td>приобретение автомобиля</td>\n",
       "    </tr>\n",
       "    <tr>\n",
       "      <th>2</th>\n",
       "      <td>0</td>\n",
       "      <td>5623.422610</td>\n",
       "      <td>33</td>\n",
       "      <td>среднее</td>\n",
       "      <td>1</td>\n",
       "      <td>женат / замужем</td>\n",
       "      <td>0</td>\n",
       "      <td>M</td>\n",
       "      <td>сотрудник</td>\n",
       "      <td>0</td>\n",
       "      <td>145885</td>\n",
       "      <td>покупка жилья</td>\n",
       "    </tr>\n",
       "    <tr>\n",
       "      <th>3</th>\n",
       "      <td>3</td>\n",
       "      <td>4124.747207</td>\n",
       "      <td>32</td>\n",
       "      <td>среднее</td>\n",
       "      <td>1</td>\n",
       "      <td>женат / замужем</td>\n",
       "      <td>0</td>\n",
       "      <td>M</td>\n",
       "      <td>сотрудник</td>\n",
       "      <td>0</td>\n",
       "      <td>267628</td>\n",
       "      <td>дополнительное образование</td>\n",
       "    </tr>\n",
       "    <tr>\n",
       "      <th>4</th>\n",
       "      <td>0</td>\n",
       "      <td>340266.072047</td>\n",
       "      <td>53</td>\n",
       "      <td>среднее</td>\n",
       "      <td>1</td>\n",
       "      <td>гражданский брак</td>\n",
       "      <td>1</td>\n",
       "      <td>F</td>\n",
       "      <td>пенсионер</td>\n",
       "      <td>0</td>\n",
       "      <td>158616</td>\n",
       "      <td>сыграть свадьбу</td>\n",
       "    </tr>\n",
       "    <tr>\n",
       "      <th>...</th>\n",
       "      <td>...</td>\n",
       "      <td>...</td>\n",
       "      <td>...</td>\n",
       "      <td>...</td>\n",
       "      <td>...</td>\n",
       "      <td>...</td>\n",
       "      <td>...</td>\n",
       "      <td>...</td>\n",
       "      <td>...</td>\n",
       "      <td>...</td>\n",
       "      <td>...</td>\n",
       "      <td>...</td>\n",
       "    </tr>\n",
       "    <tr>\n",
       "      <th>21449</th>\n",
       "      <td>1</td>\n",
       "      <td>4529.316663</td>\n",
       "      <td>43</td>\n",
       "      <td>среднее</td>\n",
       "      <td>1</td>\n",
       "      <td>гражданский брак</td>\n",
       "      <td>1</td>\n",
       "      <td>F</td>\n",
       "      <td>компаньон</td>\n",
       "      <td>0</td>\n",
       "      <td>224791</td>\n",
       "      <td>операции с жильем</td>\n",
       "    </tr>\n",
       "    <tr>\n",
       "      <th>21450</th>\n",
       "      <td>0</td>\n",
       "      <td>343937.404131</td>\n",
       "      <td>67</td>\n",
       "      <td>среднее</td>\n",
       "      <td>1</td>\n",
       "      <td>женат / замужем</td>\n",
       "      <td>0</td>\n",
       "      <td>F</td>\n",
       "      <td>пенсионер</td>\n",
       "      <td>0</td>\n",
       "      <td>155999</td>\n",
       "      <td>сделка с автомобилем</td>\n",
       "    </tr>\n",
       "    <tr>\n",
       "      <th>21451</th>\n",
       "      <td>1</td>\n",
       "      <td>2113.346888</td>\n",
       "      <td>38</td>\n",
       "      <td>среднее</td>\n",
       "      <td>1</td>\n",
       "      <td>гражданский брак</td>\n",
       "      <td>1</td>\n",
       "      <td>M</td>\n",
       "      <td>сотрудник</td>\n",
       "      <td>1</td>\n",
       "      <td>89672</td>\n",
       "      <td>недвижимость</td>\n",
       "    </tr>\n",
       "    <tr>\n",
       "      <th>21452</th>\n",
       "      <td>3</td>\n",
       "      <td>3112.481705</td>\n",
       "      <td>38</td>\n",
       "      <td>среднее</td>\n",
       "      <td>1</td>\n",
       "      <td>женат / замужем</td>\n",
       "      <td>0</td>\n",
       "      <td>M</td>\n",
       "      <td>сотрудник</td>\n",
       "      <td>1</td>\n",
       "      <td>244093</td>\n",
       "      <td>на покупку своего автомобиля</td>\n",
       "    </tr>\n",
       "    <tr>\n",
       "      <th>21453</th>\n",
       "      <td>2</td>\n",
       "      <td>1984.507589</td>\n",
       "      <td>40</td>\n",
       "      <td>среднее</td>\n",
       "      <td>1</td>\n",
       "      <td>женат / замужем</td>\n",
       "      <td>0</td>\n",
       "      <td>F</td>\n",
       "      <td>сотрудник</td>\n",
       "      <td>0</td>\n",
       "      <td>82047</td>\n",
       "      <td>на покупку автомобиля</td>\n",
       "    </tr>\n",
       "  </tbody>\n",
       "</table>\n",
       "<p>21454 rows × 12 columns</p>\n",
       "</div>"
      ],
      "text/plain": [
       "       children  days_employed  dob_years education  education_id  \\\n",
       "0             1    8437.673028         42    высшее             0   \n",
       "1             1    4024.803754         36   среднее             1   \n",
       "2             0    5623.422610         33   среднее             1   \n",
       "3             3    4124.747207         32   среднее             1   \n",
       "4             0  340266.072047         53   среднее             1   \n",
       "...         ...            ...        ...       ...           ...   \n",
       "21449         1    4529.316663         43   среднее             1   \n",
       "21450         0  343937.404131         67   среднее             1   \n",
       "21451         1    2113.346888         38   среднее             1   \n",
       "21452         3    3112.481705         38   среднее             1   \n",
       "21453         2    1984.507589         40   среднее             1   \n",
       "\n",
       "          family_status  family_status_id gender income_type  debt  \\\n",
       "0       женат / замужем                 0      F   сотрудник     0   \n",
       "1       женат / замужем                 0      F   сотрудник     0   \n",
       "2       женат / замужем                 0      M   сотрудник     0   \n",
       "3       женат / замужем                 0      M   сотрудник     0   \n",
       "4      гражданский брак                 1      F   пенсионер     0   \n",
       "...                 ...               ...    ...         ...   ...   \n",
       "21449  гражданский брак                 1      F   компаньон     0   \n",
       "21450   женат / замужем                 0      F   пенсионер     0   \n",
       "21451  гражданский брак                 1      M   сотрудник     1   \n",
       "21452   женат / замужем                 0      M   сотрудник     1   \n",
       "21453   женат / замужем                 0      F   сотрудник     0   \n",
       "\n",
       "       total_income                       purpose  \n",
       "0            253875                 покупка жилья  \n",
       "1            112080       приобретение автомобиля  \n",
       "2            145885                 покупка жилья  \n",
       "3            267628    дополнительное образование  \n",
       "4            158616               сыграть свадьбу  \n",
       "...             ...                           ...  \n",
       "21449        224791             операции с жильем  \n",
       "21450        155999          сделка с автомобилем  \n",
       "21451         89672                  недвижимость  \n",
       "21452        244093  на покупку своего автомобиля  \n",
       "21453         82047         на покупку автомобиля  \n",
       "\n",
       "[21454 rows x 12 columns]"
      ]
     },
     "execution_count": 19,
     "metadata": {},
     "output_type": "execute_result"
    }
   ],
   "source": [
    "debts.drop_duplicates().reset_index(drop=True)"
   ]
  },
  {
   "cell_type": "markdown",
   "id": "7afa6129",
   "metadata": {},
   "source": [
    "**Проверены остальные столбцы на предмет неявных дубликатов и аномалий. в столбцах с текстовыми значениями использовал unique(), в числовых \n",
    "Дубликаты были обнаружены только в столбце education.\n",
    "в столбце children выявлены аномальные значения -1 и 20. заменил на наиболее близкие по смыслу 1 и 2 соответственно. (их менее 0,05% и они не повлияют на качество исследования но очень смущают меня) \n",
    "В dob_years присутствуют люди с возрастом 0, их количество составляет 100 и их можно не принимать во внимание при исследовании.\n",
    "Можно заменить значением mean для каждой категории занятости.\n",
    "Количество строк с дубликатами в датафрейме составило 71**\n",
    "\n",
    "Кажется, что оптимальнее по времени было бы сделать проверку value_counts в цикле для всего датафрейма но не уверен что это удобнее просматривать"
   ]
  },
  {
   "cell_type": "markdown",
   "id": "4eab4e05",
   "metadata": {},
   "source": [
    "### Шаг 2.5. Формирование дополнительных датафреймов словарей, декомпозиция исходного датафрейма."
   ]
  },
  {
   "cell_type": "code",
   "execution_count": 20,
   "id": "95469519",
   "metadata": {},
   "outputs": [
    {
     "name": "stdout",
     "output_type": "stream",
     "text": [
      "   education_id            education\n",
      "0             0               высшее\n",
      "1             1              среднее\n",
      "2             2  неоконченное высшее\n",
      "3             3            начальное\n",
      "4             4       ученая степень\n",
      "\n",
      "   family_status_id          family_status\n",
      "0                 0        женат / замужем\n",
      "1                 1       гражданский брак\n",
      "2                 2         вдовец / вдова\n",
      "3                 3              в разводе\n",
      "4                 4  Не женат / не замужем\n"
     ]
    }
   ],
   "source": [
    "#Создал словари, проверил, все работает\n",
    "edu = debts[['education_id', 'education']]\n",
    "fam = debts[['family_status_id', 'family_status']]\n",
    "edu = edu.drop_duplicates().reset_index(drop=True)\n",
    "fam = fam.drop_duplicates().reset_index(drop=True)\n",
    "print(edu)\n",
    "print()\n",
    "print(fam)"
   ]
  },
  {
   "cell_type": "code",
   "execution_count": 21,
   "id": "dba3fa1e",
   "metadata": {},
   "outputs": [],
   "source": [
    "debts.drop(['education', 'family_status'], axis=1, inplace=True) \n"
   ]
  },
  {
   "cell_type": "markdown",
   "id": "1918433b",
   "metadata": {},
   "source": [
    "### Шаг 2.6. Категоризация дохода."
   ]
  },
  {
   "cell_type": "code",
   "execution_count": 22,
   "id": "729a4ed7",
   "metadata": {},
   "outputs": [],
   "source": [
    "def income_category(row):\n",
    "\n",
    "    income = row['total_income']\n",
    "    \n",
    "    if income <= 30000:\n",
    "        return 'E'\n",
    "    elif 30001 <= income <= 50000:\n",
    "        return 'D'\n",
    "    elif 50001 <= income <= 200000:\n",
    "        return 'C'\n",
    "    elif 200001 <= income <= 1000000:\n",
    "        return 'B'\n",
    "    else:\n",
    "        return 'A'"
   ]
  },
  {
   "cell_type": "code",
   "execution_count": 23,
   "id": "b0efd0e4",
   "metadata": {},
   "outputs": [],
   "source": [
    "debts['total_income_category'] = debts.apply(income_category, axis=1)"
   ]
  },
  {
   "cell_type": "code",
   "execution_count": 24,
   "id": "7bd927f6",
   "metadata": {},
   "outputs": [
    {
     "data": {
      "text/plain": [
       "C    16087\n",
       "B     5041\n",
       "D      350\n",
       "A       25\n",
       "E       22\n",
       "Name: total_income_category, dtype: int64"
      ]
     },
     "execution_count": 24,
     "metadata": {},
     "output_type": "execute_result"
    }
   ],
   "source": [
    "debts.total_income_category.value_counts()"
   ]
  },
  {
   "cell_type": "markdown",
   "id": "c6d0f482",
   "metadata": {},
   "source": [
    "### Шаг 2.7. Категоризация целей кредита."
   ]
  },
  {
   "cell_type": "code",
   "execution_count": null,
   "id": "f06f4955",
   "metadata": {},
   "outputs": [],
   "source": []
  },
  {
   "cell_type": "code",
   "execution_count": 25,
   "id": "2cc347cf",
   "metadata": {},
   "outputs": [],
   "source": [
    "def purpose_category(row):\n",
    "    \n",
    "    purpose = row['purpose']\n",
    "    \n",
    "    if 'автом' in purpose:\n",
    "        return 'операции с автомобилем'\n",
    "    elif 'жил' in purpose or 'недвиж' in purpose:\n",
    "        return 'операции с недвижимостью'\n",
    "    elif 'свадьб' in purpose:\n",
    "        return 'проведение свадьбы'\n",
    "    elif 'образован' in purpose:\n",
    "        return 'получение образования'"
   ]
  },
  {
   "cell_type": "code",
   "execution_count": 26,
   "id": "d7a0a156",
   "metadata": {},
   "outputs": [
    {
     "data": {
      "text/plain": [
       "операции с недвижимостью    10840\n",
       "операции с автомобилем       4315\n",
       "получение образования        4022\n",
       "проведение свадьбы           2348\n",
       "Name: purpose_category, dtype: int64"
      ]
     },
     "execution_count": 26,
     "metadata": {},
     "output_type": "execute_result"
    }
   ],
   "source": [
    "debts['purpose_category'] = debts.apply(purpose_category, axis=1)\n",
    "debts.purpose_category.value_counts()"
   ]
  },
  {
   "cell_type": "code",
   "execution_count": 27,
   "id": "a93ffe47",
   "metadata": {},
   "outputs": [],
   "source": [
    "def pivot_debt(data, index):\n",
    "    pivot_sorted = data.pivot_table(index=[index], columns='debt', values ='dob_years', aggfunc='count')\n",
    "    pivot_sorted['ratio'] = pivot_sorted[1] / (pivot_sorted[1] + pivot_sorted[0]) * 100\n",
    "    return pivot_sorted"
   ]
  },
  {
   "cell_type": "code",
   "execution_count": 28,
   "id": "298bf52d",
   "metadata": {},
   "outputs": [
    {
     "data": {
      "text/html": [
       "<div>\n",
       "<style scoped>\n",
       "    .dataframe tbody tr th:only-of-type {\n",
       "        vertical-align: middle;\n",
       "    }\n",
       "\n",
       "    .dataframe tbody tr th {\n",
       "        vertical-align: top;\n",
       "    }\n",
       "\n",
       "    .dataframe thead th {\n",
       "        text-align: right;\n",
       "    }\n",
       "</style>\n",
       "<table border=\"1\" class=\"dataframe\">\n",
       "  <thead>\n",
       "    <tr style=\"text-align: right;\">\n",
       "      <th>debt</th>\n",
       "      <th>0</th>\n",
       "      <th>1</th>\n",
       "      <th>ratio</th>\n",
       "    </tr>\n",
       "    <tr>\n",
       "      <th>children</th>\n",
       "      <th></th>\n",
       "      <th></th>\n",
       "      <th></th>\n",
       "    </tr>\n",
       "  </thead>\n",
       "  <tbody>\n",
       "    <tr>\n",
       "      <th>0</th>\n",
       "      <td>13086.0</td>\n",
       "      <td>1063.0</td>\n",
       "      <td>7.512898</td>\n",
       "    </tr>\n",
       "    <tr>\n",
       "      <th>1</th>\n",
       "      <td>4420.0</td>\n",
       "      <td>445.0</td>\n",
       "      <td>9.146968</td>\n",
       "    </tr>\n",
       "    <tr>\n",
       "      <th>2</th>\n",
       "      <td>1929.0</td>\n",
       "      <td>202.0</td>\n",
       "      <td>9.479118</td>\n",
       "    </tr>\n",
       "    <tr>\n",
       "      <th>3</th>\n",
       "      <td>303.0</td>\n",
       "      <td>27.0</td>\n",
       "      <td>8.181818</td>\n",
       "    </tr>\n",
       "    <tr>\n",
       "      <th>4</th>\n",
       "      <td>37.0</td>\n",
       "      <td>4.0</td>\n",
       "      <td>9.756098</td>\n",
       "    </tr>\n",
       "    <tr>\n",
       "      <th>5</th>\n",
       "      <td>9.0</td>\n",
       "      <td>NaN</td>\n",
       "      <td>NaN</td>\n",
       "    </tr>\n",
       "  </tbody>\n",
       "</table>\n",
       "</div>"
      ],
      "text/plain": [
       "debt            0       1     ratio\n",
       "children                           \n",
       "0         13086.0  1063.0  7.512898\n",
       "1          4420.0   445.0  9.146968\n",
       "2          1929.0   202.0  9.479118\n",
       "3           303.0    27.0  8.181818\n",
       "4            37.0     4.0  9.756098\n",
       "5             9.0     NaN       NaN"
      ]
     },
     "execution_count": 28,
     "metadata": {},
     "output_type": "execute_result"
    }
   ],
   "source": [
    "pivot_debt(debts, 'children')"
   ]
  },
  {
   "cell_type": "code",
   "execution_count": 29,
   "id": "eefa7e03",
   "metadata": {},
   "outputs": [
    {
     "data": {
      "text/html": [
       "<div>\n",
       "<style scoped>\n",
       "    .dataframe tbody tr th:only-of-type {\n",
       "        vertical-align: middle;\n",
       "    }\n",
       "\n",
       "    .dataframe tbody tr th {\n",
       "        vertical-align: top;\n",
       "    }\n",
       "\n",
       "    .dataframe thead th {\n",
       "        text-align: right;\n",
       "    }\n",
       "</style>\n",
       "<table border=\"1\" class=\"dataframe\">\n",
       "  <thead>\n",
       "    <tr style=\"text-align: right;\">\n",
       "      <th>debt</th>\n",
       "      <th>0</th>\n",
       "      <th>1</th>\n",
       "      <th>ratio</th>\n",
       "    </tr>\n",
       "    <tr>\n",
       "      <th>family_status_id</th>\n",
       "      <th></th>\n",
       "      <th></th>\n",
       "      <th></th>\n",
       "    </tr>\n",
       "  </thead>\n",
       "  <tbody>\n",
       "    <tr>\n",
       "      <th>0</th>\n",
       "      <td>11449</td>\n",
       "      <td>931</td>\n",
       "      <td>7.520194</td>\n",
       "    </tr>\n",
       "    <tr>\n",
       "      <th>1</th>\n",
       "      <td>3789</td>\n",
       "      <td>388</td>\n",
       "      <td>9.288963</td>\n",
       "    </tr>\n",
       "    <tr>\n",
       "      <th>2</th>\n",
       "      <td>897</td>\n",
       "      <td>63</td>\n",
       "      <td>6.562500</td>\n",
       "    </tr>\n",
       "    <tr>\n",
       "      <th>3</th>\n",
       "      <td>1110</td>\n",
       "      <td>85</td>\n",
       "      <td>7.112971</td>\n",
       "    </tr>\n",
       "    <tr>\n",
       "      <th>4</th>\n",
       "      <td>2539</td>\n",
       "      <td>274</td>\n",
       "      <td>9.740491</td>\n",
       "    </tr>\n",
       "  </tbody>\n",
       "</table>\n",
       "</div>"
      ],
      "text/plain": [
       "debt                  0    1     ratio\n",
       "family_status_id                      \n",
       "0                 11449  931  7.520194\n",
       "1                  3789  388  9.288963\n",
       "2                   897   63  6.562500\n",
       "3                  1110   85  7.112971\n",
       "4                  2539  274  9.740491"
      ]
     },
     "execution_count": 29,
     "metadata": {},
     "output_type": "execute_result"
    }
   ],
   "source": [
    "pivot_debt(debts, 'family_status_id')"
   ]
  },
  {
   "cell_type": "code",
   "execution_count": 30,
   "id": "50c19567",
   "metadata": {},
   "outputs": [
    {
     "data": {
      "text/html": [
       "<div>\n",
       "<style scoped>\n",
       "    .dataframe tbody tr th:only-of-type {\n",
       "        vertical-align: middle;\n",
       "    }\n",
       "\n",
       "    .dataframe tbody tr th {\n",
       "        vertical-align: top;\n",
       "    }\n",
       "\n",
       "    .dataframe thead th {\n",
       "        text-align: right;\n",
       "    }\n",
       "</style>\n",
       "<table border=\"1\" class=\"dataframe\">\n",
       "  <thead>\n",
       "    <tr style=\"text-align: right;\">\n",
       "      <th>debt</th>\n",
       "      <th>0</th>\n",
       "      <th>1</th>\n",
       "      <th>ratio</th>\n",
       "    </tr>\n",
       "    <tr>\n",
       "      <th>total_income_category</th>\n",
       "      <th></th>\n",
       "      <th></th>\n",
       "      <th></th>\n",
       "    </tr>\n",
       "  </thead>\n",
       "  <tbody>\n",
       "    <tr>\n",
       "      <th>A</th>\n",
       "      <td>23</td>\n",
       "      <td>2</td>\n",
       "      <td>8.000000</td>\n",
       "    </tr>\n",
       "    <tr>\n",
       "      <th>B</th>\n",
       "      <td>4685</td>\n",
       "      <td>356</td>\n",
       "      <td>7.062091</td>\n",
       "    </tr>\n",
       "    <tr>\n",
       "      <th>C</th>\n",
       "      <td>14727</td>\n",
       "      <td>1360</td>\n",
       "      <td>8.454031</td>\n",
       "    </tr>\n",
       "    <tr>\n",
       "      <th>D</th>\n",
       "      <td>329</td>\n",
       "      <td>21</td>\n",
       "      <td>6.000000</td>\n",
       "    </tr>\n",
       "    <tr>\n",
       "      <th>E</th>\n",
       "      <td>20</td>\n",
       "      <td>2</td>\n",
       "      <td>9.090909</td>\n",
       "    </tr>\n",
       "  </tbody>\n",
       "</table>\n",
       "</div>"
      ],
      "text/plain": [
       "debt                       0     1     ratio\n",
       "total_income_category                       \n",
       "A                         23     2  8.000000\n",
       "B                       4685   356  7.062091\n",
       "C                      14727  1360  8.454031\n",
       "D                        329    21  6.000000\n",
       "E                         20     2  9.090909"
      ]
     },
     "execution_count": 30,
     "metadata": {},
     "output_type": "execute_result"
    }
   ],
   "source": [
    "pivot_debt(debts, 'total_income_category')"
   ]
  },
  {
   "cell_type": "markdown",
   "id": "719c5658",
   "metadata": {},
   "source": [
    "### Ответы на вопросы."
   ]
  },
  {
   "cell_type": "markdown",
   "id": "97a0077e",
   "metadata": {},
   "source": [
    " Есть ли зависимость между количеством детей и возвратом кредита в срок?\n",
    "**Семьи с 1, 2, 4 детьми возвращают кредит с меньшей вероятностью.**\n",
    "\n",
    " Есть ли зависимость между семейным положением и возвратом кредита в срок?\n",
    "**Да, люди с семейными статусами женат, разведен и вдовец возвращают кредит чаще, чем неженатые и живущие гражданским браком(сожители). Можно предположить, что люди, которые были готовы зарегистрировать свои отношения, более ответственны и планируют свою жизнь тщательнее**\n",
    "\n",
    " Есть ли зависимость между уровнем дохода и возвратом кредита в срок?\n",
    "**Да, с увеличением дохода меньшается процент просроченных кредитов. В сегменте дохода C наиболшее количество выданных кредитов, предполагаю что с увеличенным обьемом выборки связан и увеливенных процент просрочек.**\n",
    " Как разные цели кредита влияют на его возврат в срок?\n",
    "**Кредиты на недвижимость возвращают в срок с наибольшей вероятностью. Предположу, что это связано с долгосрочным планированием большей части кредитополучателей**\n"
   ]
  },
  {
   "cell_type": "markdown",
   "id": "14bfd0d5",
   "metadata": {},
   "source": [
    "## Общий вывод:"
   ]
  },
  {
   "cell_type": "markdown",
   "id": "f0f1c550",
   "metadata": {},
   "source": [
    "**При работе с данными были обработаны пропущенные значения, исправлены аномальные значения, удалены неявные дубликаты. Данные были сгруппированы по заданным критериям.\n",
    "При помощи сводных таблиц оценили критерии которые могут повлиять на своевременный возврат кредита.**\n",
    "\n",
    "**Рекомендация заказчику, сосредоточиться на привлечении молодых семей без детей и среднего класса**"
   ]
  }
 ],
 "metadata": {
  "ExecuteTimeLog": [
   {
    "duration": 433,
    "start_time": "2022-04-07T13:09:52.309Z"
   },
   {
    "duration": 109,
    "start_time": "2022-04-07T13:10:27.378Z"
   },
   {
    "duration": 77,
    "start_time": "2022-04-07T13:10:38.507Z"
   },
   {
    "duration": 4,
    "start_time": "2022-04-07T13:12:31.488Z"
   },
   {
    "duration": 5,
    "start_time": "2022-04-07T13:13:07.430Z"
   },
   {
    "duration": 4,
    "start_time": "2022-04-07T13:14:38.111Z"
   },
   {
    "duration": 14,
    "start_time": "2022-04-07T13:14:55.406Z"
   },
   {
    "duration": 434,
    "start_time": "2022-04-07T13:22:27.834Z"
   },
   {
    "duration": 3158,
    "start_time": "2022-04-07T13:22:28.270Z"
   },
   {
    "duration": 17,
    "start_time": "2022-04-07T13:22:47.931Z"
   },
   {
    "duration": 424,
    "start_time": "2022-04-07T13:24:45.625Z"
   },
   {
    "duration": 15,
    "start_time": "2022-04-07T13:24:46.051Z"
   },
   {
    "duration": 75,
    "start_time": "2022-04-07T13:27:29.750Z"
   },
   {
    "duration": 73,
    "start_time": "2022-04-07T13:27:51.204Z"
   },
   {
    "duration": 74,
    "start_time": "2022-04-07T13:28:03.797Z"
   },
   {
    "duration": 69,
    "start_time": "2022-04-07T13:28:28.267Z"
   },
   {
    "duration": 57,
    "start_time": "2022-04-07T13:28:34.958Z"
   },
   {
    "duration": 0,
    "start_time": "2022-04-07T13:28:51.035Z"
   },
   {
    "duration": 3277,
    "start_time": "2022-04-07T13:28:55.715Z"
   },
   {
    "duration": 3173,
    "start_time": "2022-04-07T13:29:55.772Z"
   },
   {
    "duration": 61,
    "start_time": "2022-04-07T13:30:14.916Z"
   },
   {
    "duration": 58,
    "start_time": "2022-04-07T13:30:30.124Z"
   },
   {
    "duration": 60,
    "start_time": "2022-04-07T13:31:01.260Z"
   },
   {
    "duration": 46,
    "start_time": "2022-04-07T13:31:50.927Z"
   },
   {
    "duration": 57,
    "start_time": "2022-04-07T13:32:06.520Z"
   },
   {
    "duration": 55,
    "start_time": "2022-04-07T13:32:29.361Z"
   },
   {
    "duration": 68,
    "start_time": "2022-04-07T13:32:45.904Z"
   },
   {
    "duration": 65,
    "start_time": "2022-04-07T13:33:03.304Z"
   },
   {
    "duration": 110,
    "start_time": "2022-04-07T13:33:14.849Z"
   },
   {
    "duration": 67,
    "start_time": "2022-04-07T13:33:21.417Z"
   },
   {
    "duration": 80,
    "start_time": "2022-04-07T13:33:49.385Z"
   },
   {
    "duration": 75,
    "start_time": "2022-04-07T13:36:15.443Z"
   },
   {
    "duration": 71,
    "start_time": "2022-04-07T13:37:18.810Z"
   },
   {
    "duration": 69,
    "start_time": "2022-04-07T13:37:31.865Z"
   },
   {
    "duration": 66,
    "start_time": "2022-04-07T13:43:20.389Z"
   },
   {
    "duration": 79,
    "start_time": "2022-04-07T13:43:31.148Z"
   },
   {
    "duration": 241,
    "start_time": "2022-04-07T13:45:12.478Z"
   },
   {
    "duration": 112,
    "start_time": "2022-04-07T20:25:26.950Z"
   },
   {
    "duration": 105,
    "start_time": "2022-04-07T20:26:15.246Z"
   },
   {
    "duration": 100,
    "start_time": "2022-04-07T20:26:55.028Z"
   },
   {
    "duration": 105,
    "start_time": "2022-04-07T20:27:56.366Z"
   },
   {
    "duration": 71,
    "start_time": "2022-04-09T15:07:50.869Z"
   },
   {
    "duration": 66,
    "start_time": "2022-04-09T15:08:33.757Z"
   },
   {
    "duration": 653,
    "start_time": "2022-04-09T15:08:41.583Z"
   },
   {
    "duration": 18,
    "start_time": "2022-04-09T15:09:14.468Z"
   },
   {
    "duration": 77,
    "start_time": "2022-04-09T15:16:00.378Z"
   },
   {
    "duration": 82,
    "start_time": "2022-04-09T15:16:10.111Z"
   },
   {
    "duration": 77,
    "start_time": "2022-04-09T15:19:42.902Z"
   },
   {
    "duration": 124,
    "start_time": "2022-04-11T17:52:17.414Z"
   },
   {
    "duration": 137,
    "start_time": "2022-04-11T17:52:27.154Z"
   },
   {
    "duration": 114,
    "start_time": "2022-04-11T17:52:46.481Z"
   },
   {
    "duration": 129,
    "start_time": "2022-04-11T17:53:44.565Z"
   },
   {
    "duration": 435,
    "start_time": "2022-04-11T17:56:12.629Z"
   },
   {
    "duration": 71,
    "start_time": "2022-04-11T17:56:23.645Z"
   },
   {
    "duration": 704,
    "start_time": "2022-04-11T17:56:38.726Z"
   },
   {
    "duration": 178,
    "start_time": "2022-04-11T17:57:12.663Z"
   },
   {
    "duration": 115,
    "start_time": "2022-04-11T17:57:32.112Z"
   },
   {
    "duration": 119,
    "start_time": "2022-04-11T17:57:43.421Z"
   },
   {
    "duration": 122,
    "start_time": "2022-04-11T17:58:00.089Z"
   },
   {
    "duration": 109,
    "start_time": "2022-04-11T17:58:32.167Z"
   },
   {
    "duration": 219,
    "start_time": "2022-04-11T17:58:41.221Z"
   },
   {
    "duration": 77,
    "start_time": "2022-04-11T17:59:02.555Z"
   },
   {
    "duration": 75,
    "start_time": "2022-04-11T17:59:29.823Z"
   },
   {
    "duration": 501,
    "start_time": "2022-04-11T17:59:52.952Z"
   },
   {
    "duration": 24,
    "start_time": "2022-04-11T17:59:53.456Z"
   },
   {
    "duration": 72,
    "start_time": "2022-04-11T18:00:26.215Z"
   },
   {
    "duration": 129,
    "start_time": "2022-04-11T18:00:52.625Z"
   },
   {
    "duration": 77,
    "start_time": "2022-04-11T18:01:02.366Z"
   },
   {
    "duration": 75,
    "start_time": "2022-04-11T18:01:06.772Z"
   },
   {
    "duration": 79,
    "start_time": "2022-04-11T18:01:21.120Z"
   },
   {
    "duration": 72,
    "start_time": "2022-04-11T18:01:45.810Z"
   },
   {
    "duration": 435,
    "start_time": "2022-04-11T18:01:59.923Z"
   },
   {
    "duration": 86,
    "start_time": "2022-04-11T18:04:51.459Z"
   },
   {
    "duration": 76,
    "start_time": "2022-04-11T18:06:07.944Z"
   },
   {
    "duration": 79,
    "start_time": "2022-04-11T18:08:25.800Z"
   },
   {
    "duration": 26,
    "start_time": "2022-04-11T18:13:24.681Z"
   },
   {
    "duration": 623,
    "start_time": "2022-04-14T19:41:26.278Z"
   },
   {
    "duration": 37,
    "start_time": "2022-04-14T19:41:26.904Z"
   },
   {
    "duration": 3308,
    "start_time": "2022-04-14T19:42:39.715Z"
   },
   {
    "duration": 133,
    "start_time": "2022-04-14T19:42:55.874Z"
   },
   {
    "duration": 184,
    "start_time": "2022-04-14T19:45:13.903Z"
   },
   {
    "duration": 145,
    "start_time": "2022-04-14T19:46:21.670Z"
   },
   {
    "duration": 141,
    "start_time": "2022-04-14T19:46:35.882Z"
   },
   {
    "duration": 142,
    "start_time": "2022-04-14T19:47:20.233Z"
   },
   {
    "duration": 155,
    "start_time": "2022-04-14T19:47:24.476Z"
   },
   {
    "duration": 196,
    "start_time": "2022-04-14T19:47:31.586Z"
   },
   {
    "duration": 147,
    "start_time": "2022-04-14T19:47:42.818Z"
   },
   {
    "duration": 141,
    "start_time": "2022-04-14T19:47:55.101Z"
   },
   {
    "duration": 155,
    "start_time": "2022-04-14T19:48:02.137Z"
   },
   {
    "duration": 162,
    "start_time": "2022-04-14T19:48:07.574Z"
   },
   {
    "duration": 151,
    "start_time": "2022-04-14T19:48:22.381Z"
   },
   {
    "duration": 152,
    "start_time": "2022-04-14T19:48:33.005Z"
   },
   {
    "duration": 148,
    "start_time": "2022-04-14T19:49:02.210Z"
   },
   {
    "duration": 149,
    "start_time": "2022-04-14T19:49:15.164Z"
   },
   {
    "duration": 132,
    "start_time": "2022-04-14T19:50:17.812Z"
   },
   {
    "duration": 2418,
    "start_time": "2022-04-14T19:50:31.383Z"
   },
   {
    "duration": 3016,
    "start_time": "2022-04-14T19:50:50.457Z"
   },
   {
    "duration": 93,
    "start_time": "2022-04-14T19:51:02.848Z"
   },
   {
    "duration": 86,
    "start_time": "2022-04-14T19:51:34.532Z"
   },
   {
    "duration": 96,
    "start_time": "2022-04-14T19:52:04.119Z"
   },
   {
    "duration": 92,
    "start_time": "2022-04-14T19:52:13.685Z"
   },
   {
    "duration": 94,
    "start_time": "2022-04-14T19:52:50.215Z"
   },
   {
    "duration": 125,
    "start_time": "2022-04-14T19:54:43.112Z"
   },
   {
    "duration": 25,
    "start_time": "2022-04-14T19:54:58.109Z"
   },
   {
    "duration": 89,
    "start_time": "2022-04-14T20:02:51.234Z"
   },
   {
    "duration": 87,
    "start_time": "2022-04-14T20:03:01.333Z"
   },
   {
    "duration": 587,
    "start_time": "2022-04-14T20:03:15.834Z"
   },
   {
    "duration": 164,
    "start_time": "2022-04-14T20:03:39.192Z"
   },
   {
    "duration": 88,
    "start_time": "2022-04-14T20:03:46.590Z"
   },
   {
    "duration": 20,
    "start_time": "2022-04-14T20:03:58.171Z"
   },
   {
    "duration": 560,
    "start_time": "2022-04-14T20:05:31.410Z"
   },
   {
    "duration": 20,
    "start_time": "2022-04-14T20:05:31.973Z"
   },
   {
    "duration": 505,
    "start_time": "2022-04-14T20:05:44.456Z"
   },
   {
    "duration": 132,
    "start_time": "2022-04-14T20:08:03.039Z"
   },
   {
    "duration": 141,
    "start_time": "2022-04-14T20:10:56.671Z"
   },
   {
    "duration": 151,
    "start_time": "2022-04-14T20:11:04.565Z"
   },
   {
    "duration": 4,
    "start_time": "2022-04-14T20:11:21.496Z"
   },
   {
    "duration": 4,
    "start_time": "2022-04-14T20:11:29.386Z"
   },
   {
    "duration": 88,
    "start_time": "2022-04-14T20:11:35.188Z"
   },
   {
    "duration": 5,
    "start_time": "2022-04-14T20:13:54.792Z"
   },
   {
    "duration": 82,
    "start_time": "2022-04-14T20:14:05.530Z"
   },
   {
    "duration": 177,
    "start_time": "2022-04-14T20:14:22.772Z"
   },
   {
    "duration": 87,
    "start_time": "2022-04-14T20:14:44.283Z"
   },
   {
    "duration": 95,
    "start_time": "2022-04-14T20:15:23.207Z"
   },
   {
    "duration": 445,
    "start_time": "2022-04-15T04:59:36.862Z"
   },
   {
    "duration": 75,
    "start_time": "2022-04-15T04:59:43.305Z"
   },
   {
    "duration": 83,
    "start_time": "2022-04-15T05:00:01.916Z"
   },
   {
    "duration": 15,
    "start_time": "2022-04-15T05:00:50.073Z"
   },
   {
    "duration": 24,
    "start_time": "2022-04-15T05:01:07.244Z"
   },
   {
    "duration": 23,
    "start_time": "2022-04-15T05:01:51.901Z"
   },
   {
    "duration": 18,
    "start_time": "2022-04-15T05:05:15.971Z"
   },
   {
    "duration": 30,
    "start_time": "2022-04-15T05:05:34.335Z"
   },
   {
    "duration": 18,
    "start_time": "2022-04-15T05:05:49.028Z"
   },
   {
    "duration": 24,
    "start_time": "2022-04-15T05:06:09.859Z"
   },
   {
    "duration": 16,
    "start_time": "2022-04-15T05:06:37.468Z"
   },
   {
    "duration": 462,
    "start_time": "2022-04-15T05:06:45.046Z"
   },
   {
    "duration": 24,
    "start_time": "2022-04-15T05:06:45.510Z"
   },
   {
    "duration": 16,
    "start_time": "2022-04-15T05:06:45.536Z"
   },
   {
    "duration": 77,
    "start_time": "2022-04-15T05:18:56.968Z"
   },
   {
    "duration": 517,
    "start_time": "2022-04-15T05:19:07.889Z"
   },
   {
    "duration": 23,
    "start_time": "2022-04-15T05:19:08.408Z"
   },
   {
    "duration": 16,
    "start_time": "2022-04-15T05:19:08.432Z"
   },
   {
    "duration": 7,
    "start_time": "2022-04-15T05:27:53.757Z"
   },
   {
    "duration": 518,
    "start_time": "2022-04-15T05:28:05.992Z"
   },
   {
    "duration": 6,
    "start_time": "2022-04-15T05:28:06.512Z"
   },
   {
    "duration": 31,
    "start_time": "2022-04-15T05:28:06.519Z"
   },
   {
    "duration": 10,
    "start_time": "2022-04-15T05:31:34.453Z"
   },
   {
    "duration": 461,
    "start_time": "2022-04-15T05:31:46.866Z"
   },
   {
    "duration": 23,
    "start_time": "2022-04-15T05:31:47.329Z"
   },
   {
    "duration": 16,
    "start_time": "2022-04-15T05:31:47.353Z"
   },
   {
    "duration": 461,
    "start_time": "2022-04-15T05:36:17.156Z"
   },
   {
    "duration": 23,
    "start_time": "2022-04-15T05:36:17.619Z"
   },
   {
    "duration": 16,
    "start_time": "2022-04-15T05:36:17.643Z"
   },
   {
    "duration": 86,
    "start_time": "2022-04-15T05:36:17.661Z"
   },
   {
    "duration": 14,
    "start_time": "2022-04-15T05:37:28.259Z"
   },
   {
    "duration": 20,
    "start_time": "2022-04-15T05:37:37.403Z"
   },
   {
    "duration": 1124,
    "start_time": "2022-04-15T06:32:31.927Z"
   },
   {
    "duration": 22,
    "start_time": "2022-04-15T06:32:39.188Z"
   },
   {
    "duration": 9,
    "start_time": "2022-04-15T06:32:57.603Z"
   },
   {
    "duration": 9,
    "start_time": "2022-04-15T06:33:04.171Z"
   },
   {
    "duration": 21,
    "start_time": "2022-04-15T06:37:20.467Z"
   },
   {
    "duration": 62,
    "start_time": "2022-04-15T06:40:34.964Z"
   },
   {
    "duration": 64,
    "start_time": "2022-04-15T06:41:47.197Z"
   },
   {
    "duration": 8,
    "start_time": "2022-04-15T06:42:02.750Z"
   },
   {
    "duration": 8,
    "start_time": "2022-04-15T06:42:12.300Z"
   },
   {
    "duration": 7,
    "start_time": "2022-04-15T06:42:46.206Z"
   },
   {
    "duration": 36,
    "start_time": "2022-04-15T06:43:11.213Z"
   },
   {
    "duration": 26,
    "start_time": "2022-04-15T06:43:27.608Z"
   },
   {
    "duration": 6,
    "start_time": "2022-04-15T06:44:18.061Z"
   },
   {
    "duration": 8,
    "start_time": "2022-04-15T06:44:40.269Z"
   },
   {
    "duration": 5,
    "start_time": "2022-04-15T06:46:15.589Z"
   },
   {
    "duration": 138,
    "start_time": "2022-04-15T06:51:09.031Z"
   },
   {
    "duration": 69,
    "start_time": "2022-04-15T06:51:18.023Z"
   },
   {
    "duration": 3,
    "start_time": "2022-04-15T06:51:23.534Z"
   },
   {
    "duration": 14,
    "start_time": "2022-04-15T06:52:03.374Z"
   },
   {
    "duration": 11,
    "start_time": "2022-04-15T06:56:39.552Z"
   },
   {
    "duration": 21,
    "start_time": "2022-04-15T06:56:48.927Z"
   },
   {
    "duration": 42,
    "start_time": "2022-04-15T10:13:28.674Z"
   },
   {
    "duration": 540,
    "start_time": "2022-04-15T10:13:42.275Z"
   },
   {
    "duration": 13,
    "start_time": "2022-04-15T10:14:10.544Z"
   },
   {
    "duration": 15,
    "start_time": "2022-04-15T10:14:22.954Z"
   },
   {
    "duration": 22,
    "start_time": "2022-04-15T10:14:27.056Z"
   },
   {
    "duration": 96,
    "start_time": "2022-04-15T10:14:39.384Z"
   },
   {
    "duration": 116,
    "start_time": "2022-04-15T10:15:32.584Z"
   },
   {
    "duration": 85,
    "start_time": "2022-04-15T10:15:57.617Z"
   },
   {
    "duration": 4,
    "start_time": "2022-04-15T10:16:42.969Z"
   },
   {
    "duration": 4,
    "start_time": "2022-04-15T10:17:10.289Z"
   },
   {
    "duration": 90,
    "start_time": "2022-04-15T10:17:33.616Z"
   },
   {
    "duration": 447,
    "start_time": "2022-04-15T10:18:09.490Z"
   },
   {
    "duration": 16,
    "start_time": "2022-04-15T10:18:11.312Z"
   },
   {
    "duration": 8,
    "start_time": "2022-04-15T10:18:21.489Z"
   },
   {
    "duration": 13,
    "start_time": "2022-04-15T10:18:29.609Z"
   },
   {
    "duration": 13,
    "start_time": "2022-04-15T10:19:06.946Z"
   },
   {
    "duration": 8,
    "start_time": "2022-04-15T10:19:11.354Z"
   },
   {
    "duration": 15,
    "start_time": "2022-04-15T10:19:29.241Z"
   },
   {
    "duration": 90,
    "start_time": "2022-04-15T10:19:37.152Z"
   },
   {
    "duration": 25,
    "start_time": "2022-04-15T10:19:47.641Z"
   },
   {
    "duration": 119,
    "start_time": "2022-04-15T10:20:18.841Z"
   },
   {
    "duration": 94,
    "start_time": "2022-04-15T10:22:19.593Z"
   },
   {
    "duration": 95,
    "start_time": "2022-04-15T10:22:50.213Z"
   },
   {
    "duration": 10,
    "start_time": "2022-04-15T10:23:02.588Z"
   },
   {
    "duration": 136,
    "start_time": "2022-04-15T10:23:15.281Z"
   },
   {
    "duration": 62,
    "start_time": "2022-04-15T10:23:23.570Z"
   },
   {
    "duration": 4,
    "start_time": "2022-04-15T10:23:36.650Z"
   },
   {
    "duration": 139,
    "start_time": "2022-04-15T10:26:39.233Z"
   },
   {
    "duration": 17,
    "start_time": "2022-04-15T10:26:54.050Z"
   },
   {
    "duration": 13,
    "start_time": "2022-04-15T10:27:26.538Z"
   },
   {
    "duration": 15,
    "start_time": "2022-04-15T10:27:30.436Z"
   },
   {
    "duration": 17,
    "start_time": "2022-04-15T10:28:03.067Z"
   },
   {
    "duration": 14,
    "start_time": "2022-04-15T10:28:29.468Z"
   },
   {
    "duration": 16,
    "start_time": "2022-04-15T10:28:43.242Z"
   },
   {
    "duration": 13,
    "start_time": "2022-04-15T10:28:52.730Z"
   },
   {
    "duration": 144,
    "start_time": "2022-04-15T10:29:08.059Z"
   },
   {
    "duration": 7,
    "start_time": "2022-04-15T10:29:13.441Z"
   },
   {
    "duration": 432,
    "start_time": "2022-04-15T10:29:26.528Z"
   },
   {
    "duration": 15,
    "start_time": "2022-04-15T10:29:26.962Z"
   },
   {
    "duration": 14,
    "start_time": "2022-04-15T10:29:26.978Z"
   },
   {
    "duration": 95,
    "start_time": "2022-04-15T10:29:26.994Z"
   },
   {
    "duration": 97,
    "start_time": "2022-04-15T10:29:27.091Z"
   },
   {
    "duration": 16,
    "start_time": "2022-04-15T10:30:07.921Z"
   },
   {
    "duration": 454,
    "start_time": "2022-04-15T10:30:25.016Z"
   },
   {
    "duration": 26,
    "start_time": "2022-04-15T10:30:25.472Z"
   },
   {
    "duration": 14,
    "start_time": "2022-04-15T10:30:25.499Z"
   },
   {
    "duration": 90,
    "start_time": "2022-04-15T10:30:25.515Z"
   },
   {
    "duration": 55,
    "start_time": "2022-04-15T10:30:35.233Z"
   },
   {
    "duration": 119,
    "start_time": "2022-04-15T10:30:49.785Z"
   },
   {
    "duration": 56,
    "start_time": "2022-04-15T10:31:12.873Z"
   },
   {
    "duration": 58,
    "start_time": "2022-04-15T10:31:25.772Z"
   },
   {
    "duration": 20,
    "start_time": "2022-04-15T10:31:25.832Z"
   },
   {
    "duration": 13,
    "start_time": "2022-04-15T10:31:25.853Z"
   },
   {
    "duration": 104,
    "start_time": "2022-04-15T10:31:25.868Z"
   },
   {
    "duration": 65,
    "start_time": "2022-04-15T10:33:15.914Z"
   },
   {
    "duration": 582,
    "start_time": "2022-04-15T10:34:47.518Z"
   },
   {
    "duration": 68,
    "start_time": "2022-04-15T10:35:05.950Z"
   },
   {
    "duration": 69,
    "start_time": "2022-04-15T10:35:22.585Z"
   },
   {
    "duration": 69,
    "start_time": "2022-04-15T11:38:47.141Z"
   },
   {
    "duration": 22,
    "start_time": "2022-04-15T11:38:53.393Z"
   },
   {
    "duration": 14,
    "start_time": "2022-04-15T11:39:12.889Z"
   },
   {
    "duration": 101,
    "start_time": "2022-04-15T11:39:19.874Z"
   },
   {
    "duration": 526,
    "start_time": "2022-04-16T05:20:20.592Z"
   },
   {
    "duration": 24,
    "start_time": "2022-04-16T05:20:21.120Z"
   },
   {
    "duration": 16,
    "start_time": "2022-04-16T05:20:21.146Z"
   },
   {
    "duration": 131,
    "start_time": "2022-04-16T05:20:21.164Z"
   },
   {
    "duration": 5,
    "start_time": "2022-04-16T06:35:48.517Z"
   },
   {
    "duration": 5,
    "start_time": "2022-04-16T06:40:52.142Z"
   },
   {
    "duration": 5,
    "start_time": "2022-04-16T06:41:03.137Z"
   },
   {
    "duration": 15,
    "start_time": "2022-04-16T06:51:01.631Z"
   },
   {
    "duration": 17,
    "start_time": "2022-04-16T06:52:05.327Z"
   },
   {
    "duration": 15,
    "start_time": "2022-04-16T06:52:34.343Z"
   },
   {
    "duration": 489,
    "start_time": "2022-04-16T06:52:41.712Z"
   },
   {
    "duration": 24,
    "start_time": "2022-04-16T06:52:42.204Z"
   },
   {
    "duration": 17,
    "start_time": "2022-04-16T06:52:42.229Z"
   },
   {
    "duration": 18,
    "start_time": "2022-04-16T06:52:42.248Z"
   },
   {
    "duration": 50,
    "start_time": "2022-04-16T06:52:42.267Z"
   },
   {
    "duration": 17,
    "start_time": "2022-04-16T06:52:42.318Z"
   },
   {
    "duration": 18,
    "start_time": "2022-04-16T06:53:04.025Z"
   },
   {
    "duration": 22,
    "start_time": "2022-04-16T07:15:17.751Z"
   },
   {
    "duration": 512,
    "start_time": "2022-04-16T14:34:48.193Z"
   },
   {
    "duration": 33,
    "start_time": "2022-04-16T14:34:48.707Z"
   },
   {
    "duration": 18,
    "start_time": "2022-04-16T14:34:48.741Z"
   },
   {
    "duration": 19,
    "start_time": "2022-04-16T14:34:48.761Z"
   },
   {
    "duration": 16,
    "start_time": "2022-04-16T14:34:48.781Z"
   },
   {
    "duration": 45,
    "start_time": "2022-04-16T14:34:48.799Z"
   },
   {
    "duration": 4,
    "start_time": "2022-04-16T17:36:17.779Z"
   },
   {
    "duration": 153,
    "start_time": "2022-04-16T17:37:09.155Z"
   },
   {
    "duration": 172,
    "start_time": "2022-04-16T17:37:28.363Z"
   },
   {
    "duration": 4,
    "start_time": "2022-04-16T17:37:38.658Z"
   },
   {
    "duration": 23,
    "start_time": "2022-04-16T17:37:41.618Z"
   },
   {
    "duration": 17,
    "start_time": "2022-04-16T17:37:55.400Z"
   },
   {
    "duration": 8,
    "start_time": "2022-04-16T17:40:40.074Z"
   },
   {
    "duration": 32,
    "start_time": "2022-04-16T17:40:49.309Z"
   },
   {
    "duration": 5,
    "start_time": "2022-04-16T17:46:58.075Z"
   },
   {
    "duration": 519,
    "start_time": "2022-04-16T17:47:07.160Z"
   },
   {
    "duration": 26,
    "start_time": "2022-04-16T17:47:07.681Z"
   },
   {
    "duration": 47,
    "start_time": "2022-04-16T17:47:07.709Z"
   },
   {
    "duration": 18,
    "start_time": "2022-04-16T17:47:07.758Z"
   },
   {
    "duration": 16,
    "start_time": "2022-04-16T17:47:07.778Z"
   },
   {
    "duration": 53,
    "start_time": "2022-04-16T17:47:07.796Z"
   },
   {
    "duration": 7,
    "start_time": "2022-04-16T17:47:07.851Z"
   },
   {
    "duration": 17,
    "start_time": "2022-04-16T17:47:30.399Z"
   },
   {
    "duration": 4,
    "start_time": "2022-04-16T17:55:20.750Z"
   },
   {
    "duration": 13,
    "start_time": "2022-04-16T17:55:57.256Z"
   },
   {
    "duration": 66,
    "start_time": "2022-04-16T17:58:13.646Z"
   },
   {
    "duration": 6,
    "start_time": "2022-04-16T17:58:33.919Z"
   },
   {
    "duration": 15,
    "start_time": "2022-04-16T17:58:45.604Z"
   },
   {
    "duration": 2142,
    "start_time": "2022-04-16T18:07:11.356Z"
   },
   {
    "duration": 16,
    "start_time": "2022-04-16T18:07:19.479Z"
   },
   {
    "duration": 14,
    "start_time": "2022-04-16T18:13:38.706Z"
   },
   {
    "duration": 4,
    "start_time": "2022-04-16T18:14:06.340Z"
   },
   {
    "duration": 18,
    "start_time": "2022-04-16T18:14:10.664Z"
   },
   {
    "duration": 16,
    "start_time": "2022-04-16T18:14:16.150Z"
   },
   {
    "duration": 497,
    "start_time": "2022-04-16T18:16:19.676Z"
   },
   {
    "duration": 26,
    "start_time": "2022-04-16T18:16:20.176Z"
   },
   {
    "duration": 41,
    "start_time": "2022-04-16T18:16:20.203Z"
   },
   {
    "duration": 18,
    "start_time": "2022-04-16T18:16:20.247Z"
   },
   {
    "duration": 17,
    "start_time": "2022-04-16T18:16:20.266Z"
   },
   {
    "duration": 5,
    "start_time": "2022-04-16T18:16:20.285Z"
   },
   {
    "duration": 527,
    "start_time": "2022-04-16T18:17:06.121Z"
   },
   {
    "duration": 26,
    "start_time": "2022-04-16T18:17:06.651Z"
   },
   {
    "duration": 18,
    "start_time": "2022-04-16T18:17:06.679Z"
   },
   {
    "duration": 48,
    "start_time": "2022-04-16T18:17:06.700Z"
   },
   {
    "duration": 18,
    "start_time": "2022-04-16T18:17:06.750Z"
   },
   {
    "duration": 6,
    "start_time": "2022-04-16T18:17:06.770Z"
   },
   {
    "duration": 9,
    "start_time": "2022-04-16T18:17:56.198Z"
   },
   {
    "duration": 5,
    "start_time": "2022-04-16T18:18:29.268Z"
   },
   {
    "duration": 6,
    "start_time": "2022-04-16T18:26:55.753Z"
   },
   {
    "duration": 8,
    "start_time": "2022-04-16T18:27:18.896Z"
   },
   {
    "duration": 9,
    "start_time": "2022-04-16T18:28:25.871Z"
   },
   {
    "duration": 10,
    "start_time": "2022-04-16T18:28:45.251Z"
   },
   {
    "duration": 5,
    "start_time": "2022-04-16T18:31:51.987Z"
   },
   {
    "duration": 5,
    "start_time": "2022-04-16T18:31:58.173Z"
   },
   {
    "duration": 183,
    "start_time": "2022-04-16T18:32:22.226Z"
   },
   {
    "duration": 164,
    "start_time": "2022-04-16T18:32:29.447Z"
   },
   {
    "duration": 6,
    "start_time": "2022-04-16T18:34:03.633Z"
   },
   {
    "duration": 5,
    "start_time": "2022-04-16T18:34:20.781Z"
   },
   {
    "duration": 489,
    "start_time": "2022-04-16T18:34:34.156Z"
   },
   {
    "duration": 6,
    "start_time": "2022-04-16T18:34:34.647Z"
   },
   {
    "duration": 19,
    "start_time": "2022-04-16T18:34:34.655Z"
   },
   {
    "duration": 17,
    "start_time": "2022-04-16T18:34:34.676Z"
   },
   {
    "duration": 42,
    "start_time": "2022-04-16T18:34:34.695Z"
   },
   {
    "duration": 6,
    "start_time": "2022-04-16T18:34:34.738Z"
   },
   {
    "duration": 10,
    "start_time": "2022-04-16T18:34:34.746Z"
   },
   {
    "duration": 721,
    "start_time": "2022-04-16T18:34:47.066Z"
   },
   {
    "duration": 9,
    "start_time": "2022-04-16T18:34:58.594Z"
   },
   {
    "duration": 5,
    "start_time": "2022-04-16T18:36:04.620Z"
   },
   {
    "duration": 16,
    "start_time": "2022-04-16T18:36:17.865Z"
   },
   {
    "duration": 4,
    "start_time": "2022-04-16T18:39:16.456Z"
   },
   {
    "duration": 5,
    "start_time": "2022-04-16T18:39:26.427Z"
   },
   {
    "duration": 13,
    "start_time": "2022-04-16T18:39:55.896Z"
   },
   {
    "duration": 492,
    "start_time": "2022-04-16T18:51:24.075Z"
   },
   {
    "duration": 5,
    "start_time": "2022-04-16T18:51:24.569Z"
   },
   {
    "duration": 20,
    "start_time": "2022-04-16T18:51:24.576Z"
   },
   {
    "duration": 10,
    "start_time": "2022-04-16T18:51:24.598Z"
   },
   {
    "duration": 39,
    "start_time": "2022-04-16T18:51:24.610Z"
   },
   {
    "duration": 12,
    "start_time": "2022-04-16T18:51:24.651Z"
   },
   {
    "duration": 4,
    "start_time": "2022-04-16T18:51:24.665Z"
   },
   {
    "duration": 17,
    "start_time": "2022-04-16T18:51:24.671Z"
   },
   {
    "duration": 44,
    "start_time": "2022-04-16T18:51:24.690Z"
   },
   {
    "duration": 11,
    "start_time": "2022-04-16T18:56:34.565Z"
   },
   {
    "duration": 16,
    "start_time": "2022-04-16T18:58:15.111Z"
   },
   {
    "duration": 7,
    "start_time": "2022-04-16T19:00:28.580Z"
   },
   {
    "duration": 84,
    "start_time": "2022-04-16T19:02:14.081Z"
   },
   {
    "duration": 9,
    "start_time": "2022-04-16T19:02:40.326Z"
   },
   {
    "duration": 22,
    "start_time": "2022-04-16T19:02:52.526Z"
   },
   {
    "duration": 25,
    "start_time": "2022-04-16T19:04:17.875Z"
   },
   {
    "duration": 24,
    "start_time": "2022-04-16T19:05:04.331Z"
   },
   {
    "duration": 9,
    "start_time": "2022-04-16T19:06:02.926Z"
   },
   {
    "duration": 13,
    "start_time": "2022-04-16T19:08:09.600Z"
   },
   {
    "duration": 41,
    "start_time": "2022-04-16T19:10:27.963Z"
   },
   {
    "duration": 37,
    "start_time": "2022-04-16T19:11:02.365Z"
   },
   {
    "duration": 6,
    "start_time": "2022-04-16T19:12:15.285Z"
   },
   {
    "duration": 7,
    "start_time": "2022-04-16T19:13:37.251Z"
   },
   {
    "duration": 6,
    "start_time": "2022-04-16T19:13:41.396Z"
   },
   {
    "duration": 7,
    "start_time": "2022-04-16T19:17:39.375Z"
   },
   {
    "duration": 8,
    "start_time": "2022-04-16T19:20:28.483Z"
   },
   {
    "duration": 15,
    "start_time": "2022-04-16T19:20:38.988Z"
   },
   {
    "duration": 553,
    "start_time": "2022-04-16T19:31:53.045Z"
   },
   {
    "duration": 5,
    "start_time": "2022-04-16T19:31:53.600Z"
   },
   {
    "duration": 47,
    "start_time": "2022-04-16T19:31:53.607Z"
   },
   {
    "duration": 19,
    "start_time": "2022-04-16T19:31:53.656Z"
   },
   {
    "duration": 18,
    "start_time": "2022-04-16T19:31:53.677Z"
   },
   {
    "duration": 48,
    "start_time": "2022-04-16T19:31:53.697Z"
   },
   {
    "duration": 12,
    "start_time": "2022-04-16T19:31:53.747Z"
   },
   {
    "duration": 15,
    "start_time": "2022-04-16T19:31:53.761Z"
   },
   {
    "duration": 24,
    "start_time": "2022-04-16T19:31:53.778Z"
   },
   {
    "duration": 7,
    "start_time": "2022-04-16T19:31:53.832Z"
   },
   {
    "duration": 18,
    "start_time": "2022-04-16T19:31:53.841Z"
   },
   {
    "duration": 7,
    "start_time": "2022-04-16T19:31:53.862Z"
   },
   {
    "duration": 21,
    "start_time": "2022-04-16T19:31:53.871Z"
   },
   {
    "duration": 18,
    "start_time": "2022-04-16T19:31:53.895Z"
   },
   {
    "duration": 40,
    "start_time": "2022-04-16T19:31:53.915Z"
   },
   {
    "duration": 31,
    "start_time": "2022-04-16T19:31:53.958Z"
   },
   {
    "duration": 60,
    "start_time": "2022-04-16T19:31:53.991Z"
   },
   {
    "duration": 13,
    "start_time": "2022-04-16T19:33:40.019Z"
   },
   {
    "duration": 81,
    "start_time": "2022-04-16T19:33:55.805Z"
   },
   {
    "duration": 9,
    "start_time": "2022-04-16T19:43:23.684Z"
   },
   {
    "duration": 6,
    "start_time": "2022-04-16T19:44:03.383Z"
   },
   {
    "duration": 5,
    "start_time": "2022-04-16T19:44:50.489Z"
   },
   {
    "duration": 29,
    "start_time": "2022-04-16T19:44:59.501Z"
   },
   {
    "duration": 36,
    "start_time": "2022-04-16T19:45:02.303Z"
   },
   {
    "duration": 8,
    "start_time": "2022-04-16T19:46:47.068Z"
   },
   {
    "duration": 5,
    "start_time": "2022-04-16T19:46:51.218Z"
   },
   {
    "duration": 517,
    "start_time": "2022-04-16T19:47:05.131Z"
   },
   {
    "duration": 5,
    "start_time": "2022-04-16T19:47:05.650Z"
   },
   {
    "duration": 19,
    "start_time": "2022-04-16T19:47:05.656Z"
   },
   {
    "duration": 9,
    "start_time": "2022-04-16T19:47:05.678Z"
   },
   {
    "duration": 18,
    "start_time": "2022-04-16T19:47:05.688Z"
   },
   {
    "duration": 39,
    "start_time": "2022-04-16T19:47:05.707Z"
   },
   {
    "duration": 10,
    "start_time": "2022-04-16T19:47:05.747Z"
   },
   {
    "duration": 16,
    "start_time": "2022-04-16T19:47:05.758Z"
   },
   {
    "duration": 5,
    "start_time": "2022-04-16T19:47:05.775Z"
   },
   {
    "duration": 7,
    "start_time": "2022-04-16T19:47:05.782Z"
   },
   {
    "duration": 46,
    "start_time": "2022-04-16T19:47:05.791Z"
   },
   {
    "duration": 8,
    "start_time": "2022-04-16T19:47:05.839Z"
   },
   {
    "duration": 6,
    "start_time": "2022-04-16T19:47:05.849Z"
   },
   {
    "duration": 14,
    "start_time": "2022-04-16T19:47:05.857Z"
   },
   {
    "duration": 8,
    "start_time": "2022-04-16T19:47:05.873Z"
   },
   {
    "duration": 5,
    "start_time": "2022-04-16T19:47:05.883Z"
   },
   {
    "duration": 7,
    "start_time": "2022-04-16T19:47:05.889Z"
   },
   {
    "duration": 59,
    "start_time": "2022-04-16T19:47:05.898Z"
   },
   {
    "duration": 30,
    "start_time": "2022-04-16T19:47:05.959Z"
   },
   {
    "duration": 6,
    "start_time": "2022-04-16T19:54:37.075Z"
   },
   {
    "duration": 6,
    "start_time": "2022-04-16T19:55:19.522Z"
   },
   {
    "duration": 2903,
    "start_time": "2022-04-16T20:07:20.016Z"
   },
   {
    "duration": 5,
    "start_time": "2022-04-16T20:07:52.533Z"
   },
   {
    "duration": 5,
    "start_time": "2022-04-16T20:08:59.569Z"
   },
   {
    "duration": 11,
    "start_time": "2022-04-16T20:11:16.119Z"
   },
   {
    "duration": 13,
    "start_time": "2022-04-16T20:11:53.107Z"
   },
   {
    "duration": 17,
    "start_time": "2022-04-16T20:12:06.157Z"
   },
   {
    "duration": 4,
    "start_time": "2022-04-16T20:17:08.897Z"
   },
   {
    "duration": 13,
    "start_time": "2022-04-16T20:17:27.921Z"
   },
   {
    "duration": 12,
    "start_time": "2022-04-16T20:18:23.616Z"
   },
   {
    "duration": 12,
    "start_time": "2022-04-16T20:19:01.867Z"
   },
   {
    "duration": 11,
    "start_time": "2022-04-16T20:19:15.063Z"
   },
   {
    "duration": 7,
    "start_time": "2022-04-16T20:19:34.477Z"
   },
   {
    "duration": 7,
    "start_time": "2022-04-16T20:20:06.316Z"
   },
   {
    "duration": 4284,
    "start_time": "2022-04-16T20:20:11.373Z"
   },
   {
    "duration": 12,
    "start_time": "2022-04-16T20:20:32.763Z"
   },
   {
    "duration": 12,
    "start_time": "2022-04-16T20:21:39.287Z"
   },
   {
    "duration": 12,
    "start_time": "2022-04-16T20:21:51.041Z"
   },
   {
    "duration": 11,
    "start_time": "2022-04-16T20:21:56.694Z"
   },
   {
    "duration": 12,
    "start_time": "2022-04-16T20:22:59.356Z"
   },
   {
    "duration": 12,
    "start_time": "2022-04-16T20:23:04.285Z"
   },
   {
    "duration": 11,
    "start_time": "2022-04-16T20:27:01.194Z"
   },
   {
    "duration": 550,
    "start_time": "2022-04-16T20:27:45.717Z"
   },
   {
    "duration": 5,
    "start_time": "2022-04-16T20:27:46.269Z"
   },
   {
    "duration": 22,
    "start_time": "2022-04-16T20:27:46.276Z"
   },
   {
    "duration": 10,
    "start_time": "2022-04-16T20:27:46.299Z"
   },
   {
    "duration": 39,
    "start_time": "2022-04-16T20:27:46.311Z"
   },
   {
    "duration": 11,
    "start_time": "2022-04-16T20:27:46.351Z"
   },
   {
    "duration": 9,
    "start_time": "2022-04-16T20:27:46.364Z"
   },
   {
    "duration": 16,
    "start_time": "2022-04-16T20:27:46.375Z"
   },
   {
    "duration": 5,
    "start_time": "2022-04-16T20:27:46.393Z"
   },
   {
    "duration": 38,
    "start_time": "2022-04-16T20:27:46.400Z"
   },
   {
    "duration": 7,
    "start_time": "2022-04-16T20:27:46.440Z"
   },
   {
    "duration": 10,
    "start_time": "2022-04-16T20:27:46.449Z"
   },
   {
    "duration": 6,
    "start_time": "2022-04-16T20:27:46.461Z"
   },
   {
    "duration": 14,
    "start_time": "2022-04-16T20:27:46.470Z"
   },
   {
    "duration": 6,
    "start_time": "2022-04-16T20:27:46.486Z"
   },
   {
    "duration": 45,
    "start_time": "2022-04-16T20:27:46.493Z"
   },
   {
    "duration": 6,
    "start_time": "2022-04-16T20:27:46.540Z"
   },
   {
    "duration": 32,
    "start_time": "2022-04-16T20:27:46.547Z"
   },
   {
    "duration": 57,
    "start_time": "2022-04-16T20:27:46.581Z"
   },
   {
    "duration": 18,
    "start_time": "2022-04-16T20:27:46.640Z"
   },
   {
    "duration": 5,
    "start_time": "2022-04-16T20:27:46.659Z"
   },
   {
    "duration": 97,
    "start_time": "2022-04-16T21:42:52.495Z"
   },
   {
    "duration": 8,
    "start_time": "2022-04-16T21:43:04.332Z"
   },
   {
    "duration": 7,
    "start_time": "2022-04-16T21:44:36.629Z"
   },
   {
    "duration": 11,
    "start_time": "2022-04-16T21:44:58.416Z"
   },
   {
    "duration": 525,
    "start_time": "2022-04-16T21:45:33.327Z"
   },
   {
    "duration": 6,
    "start_time": "2022-04-16T21:45:33.854Z"
   },
   {
    "duration": 21,
    "start_time": "2022-04-16T21:45:33.862Z"
   },
   {
    "duration": 10,
    "start_time": "2022-04-16T21:45:33.885Z"
   },
   {
    "duration": 39,
    "start_time": "2022-04-16T21:45:33.897Z"
   },
   {
    "duration": 12,
    "start_time": "2022-04-16T21:45:33.938Z"
   },
   {
    "duration": 15,
    "start_time": "2022-04-16T21:45:33.952Z"
   },
   {
    "duration": 18,
    "start_time": "2022-04-16T21:45:33.968Z"
   },
   {
    "duration": 5,
    "start_time": "2022-04-16T21:45:33.988Z"
   },
   {
    "duration": 41,
    "start_time": "2022-04-16T21:45:33.996Z"
   },
   {
    "duration": 15,
    "start_time": "2022-04-16T21:45:34.038Z"
   },
   {
    "duration": 13,
    "start_time": "2022-04-16T21:45:34.055Z"
   },
   {
    "duration": 13,
    "start_time": "2022-04-16T21:45:34.069Z"
   },
   {
    "duration": 21,
    "start_time": "2022-04-16T21:45:34.083Z"
   },
   {
    "duration": 6,
    "start_time": "2022-04-16T21:45:34.105Z"
   },
   {
    "duration": 21,
    "start_time": "2022-04-16T21:45:34.113Z"
   },
   {
    "duration": 5,
    "start_time": "2022-04-16T21:45:34.136Z"
   },
   {
    "duration": 33,
    "start_time": "2022-04-16T21:45:34.142Z"
   },
   {
    "duration": 36,
    "start_time": "2022-04-16T21:45:34.176Z"
   },
   {
    "duration": 18,
    "start_time": "2022-04-16T21:45:34.233Z"
   },
   {
    "duration": 4,
    "start_time": "2022-04-16T21:45:34.253Z"
   },
   {
    "duration": 12,
    "start_time": "2022-04-16T21:45:34.259Z"
   },
   {
    "duration": 154,
    "start_time": "2022-04-16T21:45:34.273Z"
   },
   {
    "duration": 13,
    "start_time": "2022-04-16T21:45:34.429Z"
   },
   {
    "duration": 8,
    "start_time": "2022-04-16T21:46:53.164Z"
   },
   {
    "duration": 5,
    "start_time": "2022-04-16T22:15:37.192Z"
   },
   {
    "duration": 143,
    "start_time": "2022-04-16T22:16:14.738Z"
   },
   {
    "duration": 151,
    "start_time": "2022-04-16T22:16:54.277Z"
   },
   {
    "duration": 12,
    "start_time": "2022-04-16T22:19:17.771Z"
   },
   {
    "duration": 14,
    "start_time": "2022-04-16T22:19:23.923Z"
   },
   {
    "duration": 69,
    "start_time": "2022-04-16T22:22:54.484Z"
   },
   {
    "duration": 13,
    "start_time": "2022-04-16T22:23:02.757Z"
   },
   {
    "duration": 17,
    "start_time": "2022-04-16T22:23:28.999Z"
   },
   {
    "duration": 18,
    "start_time": "2022-04-16T22:27:53.392Z"
   },
   {
    "duration": 14,
    "start_time": "2022-04-16T22:28:15.351Z"
   },
   {
    "duration": 14,
    "start_time": "2022-04-16T22:28:33.453Z"
   },
   {
    "duration": 18,
    "start_time": "2022-04-16T22:29:09.047Z"
   },
   {
    "duration": 159,
    "start_time": "2022-04-16T22:31:52.602Z"
   },
   {
    "duration": 145,
    "start_time": "2022-04-16T22:31:57.487Z"
   },
   {
    "duration": 7,
    "start_time": "2022-04-16T22:36:28.056Z"
   },
   {
    "duration": 41,
    "start_time": "2022-04-16T22:36:34.449Z"
   },
   {
    "duration": 5,
    "start_time": "2022-04-16T22:44:15.005Z"
   },
   {
    "duration": 3,
    "start_time": "2022-04-16T22:44:53.968Z"
   },
   {
    "duration": 3,
    "start_time": "2022-04-16T22:45:15.671Z"
   },
   {
    "duration": 11,
    "start_time": "2022-04-16T22:46:02.512Z"
   },
   {
    "duration": 6,
    "start_time": "2022-04-16T22:46:34.956Z"
   },
   {
    "duration": 6,
    "start_time": "2022-04-16T22:46:52.807Z"
   },
   {
    "duration": 3,
    "start_time": "2022-04-16T22:54:38.837Z"
   },
   {
    "duration": 4,
    "start_time": "2022-04-16T22:54:56.514Z"
   },
   {
    "duration": 3,
    "start_time": "2022-04-16T22:59:26.305Z"
   },
   {
    "duration": 6,
    "start_time": "2022-04-16T22:59:42.256Z"
   },
   {
    "duration": 3,
    "start_time": "2022-04-16T23:02:10.087Z"
   },
   {
    "duration": 6,
    "start_time": "2022-04-16T23:08:44.966Z"
   },
   {
    "duration": 6,
    "start_time": "2022-04-16T23:08:53.626Z"
   },
   {
    "duration": 167,
    "start_time": "2022-04-16T23:09:23.292Z"
   },
   {
    "duration": 5,
    "start_time": "2022-04-16T23:10:00.562Z"
   },
   {
    "duration": 15,
    "start_time": "2022-04-16T23:25:25.904Z"
   },
   {
    "duration": 13,
    "start_time": "2022-04-16T23:26:22.797Z"
   },
   {
    "duration": 20,
    "start_time": "2022-04-16T23:26:46.343Z"
   },
   {
    "duration": 18,
    "start_time": "2022-04-16T23:28:14.332Z"
   },
   {
    "duration": 13,
    "start_time": "2022-04-16T23:28:41.391Z"
   },
   {
    "duration": 12,
    "start_time": "2022-04-16T23:28:43.496Z"
   },
   {
    "duration": 20,
    "start_time": "2022-04-16T23:28:51.742Z"
   },
   {
    "duration": 23,
    "start_time": "2022-04-16T23:29:22.547Z"
   },
   {
    "duration": 22,
    "start_time": "2022-04-16T23:29:40.924Z"
   },
   {
    "duration": 12,
    "start_time": "2022-04-16T23:32:03.710Z"
   },
   {
    "duration": 20,
    "start_time": "2022-04-16T23:32:15.317Z"
   },
   {
    "duration": 18,
    "start_time": "2022-04-16T23:32:49.967Z"
   },
   {
    "duration": 18,
    "start_time": "2022-04-16T23:33:52.962Z"
   },
   {
    "duration": 20,
    "start_time": "2022-04-16T23:35:02.710Z"
   },
   {
    "duration": 13,
    "start_time": "2022-04-16T23:37:56.235Z"
   },
   {
    "duration": 18,
    "start_time": "2022-04-16T23:38:21.905Z"
   },
   {
    "duration": 2098,
    "start_time": "2022-04-16T23:38:46.541Z"
   },
   {
    "duration": 2799,
    "start_time": "2022-04-16T23:40:38.109Z"
   },
   {
    "duration": 17,
    "start_time": "2022-04-16T23:41:13.319Z"
   },
   {
    "duration": 12,
    "start_time": "2022-04-16T23:42:06.993Z"
   },
   {
    "duration": 12,
    "start_time": "2022-04-16T23:43:08.626Z"
   },
   {
    "duration": 19,
    "start_time": "2022-04-16T23:43:54.813Z"
   },
   {
    "duration": 1990,
    "start_time": "2022-04-16T23:45:03.906Z"
   },
   {
    "duration": 15,
    "start_time": "2022-04-16T23:45:18.344Z"
   },
   {
    "duration": 20,
    "start_time": "2022-04-16T23:45:34.782Z"
   },
   {
    "duration": 21,
    "start_time": "2022-04-16T23:46:47.848Z"
   },
   {
    "duration": 15,
    "start_time": "2022-04-16T23:48:33.607Z"
   },
   {
    "duration": 14,
    "start_time": "2022-04-16T23:48:52.688Z"
   },
   {
    "duration": 19,
    "start_time": "2022-04-16T23:49:06.438Z"
   },
   {
    "duration": 16,
    "start_time": "2022-04-16T23:50:53.264Z"
   },
   {
    "duration": 20,
    "start_time": "2022-04-16T23:50:58.920Z"
   },
   {
    "duration": 21,
    "start_time": "2022-04-16T23:52:53.955Z"
   },
   {
    "duration": 19,
    "start_time": "2022-04-16T23:53:22.510Z"
   },
   {
    "duration": 21,
    "start_time": "2022-04-17T00:04:33.254Z"
   },
   {
    "duration": 20,
    "start_time": "2022-04-17T00:05:45.277Z"
   },
   {
    "duration": 20,
    "start_time": "2022-04-17T00:05:49.799Z"
   },
   {
    "duration": 20,
    "start_time": "2022-04-17T00:05:51.865Z"
   },
   {
    "duration": 20,
    "start_time": "2022-04-17T00:05:53.549Z"
   },
   {
    "duration": 480,
    "start_time": "2022-04-17T00:13:44.166Z"
   },
   {
    "duration": 5,
    "start_time": "2022-04-17T00:13:44.649Z"
   },
   {
    "duration": 20,
    "start_time": "2022-04-17T00:13:44.656Z"
   },
   {
    "duration": 10,
    "start_time": "2022-04-17T00:13:44.678Z"
   },
   {
    "duration": 44,
    "start_time": "2022-04-17T00:13:44.690Z"
   },
   {
    "duration": 12,
    "start_time": "2022-04-17T00:13:44.735Z"
   },
   {
    "duration": 10,
    "start_time": "2022-04-17T00:13:44.749Z"
   },
   {
    "duration": 16,
    "start_time": "2022-04-17T00:13:44.761Z"
   },
   {
    "duration": 6,
    "start_time": "2022-04-17T00:13:44.778Z"
   },
   {
    "duration": 20,
    "start_time": "2022-04-17T00:13:44.787Z"
   },
   {
    "duration": 25,
    "start_time": "2022-04-17T00:13:44.809Z"
   },
   {
    "duration": 6,
    "start_time": "2022-04-17T00:13:44.836Z"
   },
   {
    "duration": 5,
    "start_time": "2022-04-17T00:13:44.844Z"
   },
   {
    "duration": 15,
    "start_time": "2022-04-17T00:13:44.851Z"
   },
   {
    "duration": 5,
    "start_time": "2022-04-17T00:13:44.868Z"
   },
   {
    "duration": 10,
    "start_time": "2022-04-17T00:13:44.875Z"
   },
   {
    "duration": 6,
    "start_time": "2022-04-17T00:13:44.886Z"
   },
   {
    "duration": 33,
    "start_time": "2022-04-17T00:13:44.934Z"
   },
   {
    "duration": 36,
    "start_time": "2022-04-17T00:13:44.969Z"
   },
   {
    "duration": 34,
    "start_time": "2022-04-17T00:13:45.007Z"
   },
   {
    "duration": 9,
    "start_time": "2022-04-17T00:13:45.044Z"
   },
   {
    "duration": 8,
    "start_time": "2022-04-17T00:13:45.054Z"
   },
   {
    "duration": 147,
    "start_time": "2022-04-17T00:13:45.063Z"
   },
   {
    "duration": 8,
    "start_time": "2022-04-17T00:13:45.212Z"
   },
   {
    "duration": 14,
    "start_time": "2022-04-17T00:13:45.222Z"
   },
   {
    "duration": 166,
    "start_time": "2022-04-17T00:13:45.238Z"
   },
   {
    "duration": 31,
    "start_time": "2022-04-17T00:13:45.405Z"
   },
   {
    "duration": 19,
    "start_time": "2022-04-17T00:13:45.439Z"
   },
   {
    "duration": 20,
    "start_time": "2022-04-17T00:13:45.460Z"
   },
   {
    "duration": 20,
    "start_time": "2022-04-17T00:13:45.481Z"
   },
   {
    "duration": 492,
    "start_time": "2022-04-25T20:10:27.180Z"
   },
   {
    "duration": 204,
    "start_time": "2022-04-25T20:10:27.674Z"
   },
   {
    "duration": 0,
    "start_time": "2022-04-25T20:10:27.880Z"
   },
   {
    "duration": 0,
    "start_time": "2022-04-25T20:10:27.881Z"
   },
   {
    "duration": 0,
    "start_time": "2022-04-25T20:10:27.882Z"
   },
   {
    "duration": 0,
    "start_time": "2022-04-25T20:10:27.883Z"
   },
   {
    "duration": 0,
    "start_time": "2022-04-25T20:10:27.884Z"
   },
   {
    "duration": 0,
    "start_time": "2022-04-25T20:10:27.885Z"
   },
   {
    "duration": 0,
    "start_time": "2022-04-25T20:10:27.885Z"
   },
   {
    "duration": 0,
    "start_time": "2022-04-25T20:10:27.887Z"
   },
   {
    "duration": 0,
    "start_time": "2022-04-25T20:10:27.888Z"
   },
   {
    "duration": 0,
    "start_time": "2022-04-25T20:10:27.889Z"
   },
   {
    "duration": 0,
    "start_time": "2022-04-25T20:10:27.890Z"
   },
   {
    "duration": 0,
    "start_time": "2022-04-25T20:10:27.890Z"
   },
   {
    "duration": 0,
    "start_time": "2022-04-25T20:10:27.891Z"
   },
   {
    "duration": 0,
    "start_time": "2022-04-25T20:10:27.892Z"
   },
   {
    "duration": 1,
    "start_time": "2022-04-25T20:10:27.892Z"
   },
   {
    "duration": 0,
    "start_time": "2022-04-25T20:10:27.893Z"
   },
   {
    "duration": 0,
    "start_time": "2022-04-25T20:10:27.894Z"
   },
   {
    "duration": 0,
    "start_time": "2022-04-25T20:10:27.895Z"
   },
   {
    "duration": 0,
    "start_time": "2022-04-25T20:10:27.896Z"
   },
   {
    "duration": 1,
    "start_time": "2022-04-25T20:10:27.896Z"
   },
   {
    "duration": 0,
    "start_time": "2022-04-25T20:10:27.897Z"
   },
   {
    "duration": 0,
    "start_time": "2022-04-25T20:10:27.898Z"
   },
   {
    "duration": 0,
    "start_time": "2022-04-25T20:10:27.899Z"
   },
   {
    "duration": 0,
    "start_time": "2022-04-25T20:10:27.900Z"
   },
   {
    "duration": 0,
    "start_time": "2022-04-25T20:10:27.901Z"
   },
   {
    "duration": 0,
    "start_time": "2022-04-25T20:10:27.902Z"
   },
   {
    "duration": 0,
    "start_time": "2022-04-25T20:10:27.902Z"
   },
   {
    "duration": 0,
    "start_time": "2022-04-25T20:10:27.903Z"
   },
   {
    "duration": 4,
    "start_time": "2022-04-25T20:11:05.159Z"
   },
   {
    "duration": 483,
    "start_time": "2022-04-26T04:05:29.308Z"
   },
   {
    "duration": 4,
    "start_time": "2022-04-26T04:05:29.793Z"
   },
   {
    "duration": 16,
    "start_time": "2022-04-26T04:05:29.798Z"
   },
   {
    "duration": 8,
    "start_time": "2022-04-26T04:05:29.815Z"
   },
   {
    "duration": 14,
    "start_time": "2022-04-26T04:05:29.824Z"
   },
   {
    "duration": 11,
    "start_time": "2022-04-26T04:05:29.839Z"
   },
   {
    "duration": 8,
    "start_time": "2022-04-26T04:05:29.851Z"
   },
   {
    "duration": 13,
    "start_time": "2022-04-26T04:05:29.860Z"
   },
   {
    "duration": 4,
    "start_time": "2022-04-26T04:05:29.900Z"
   },
   {
    "duration": 4,
    "start_time": "2022-04-26T04:05:29.906Z"
   },
   {
    "duration": 4,
    "start_time": "2022-04-26T04:05:29.912Z"
   },
   {
    "duration": 6,
    "start_time": "2022-04-26T04:05:29.918Z"
   },
   {
    "duration": 4,
    "start_time": "2022-04-26T04:05:29.925Z"
   },
   {
    "duration": 13,
    "start_time": "2022-04-26T04:05:29.930Z"
   },
   {
    "duration": 4,
    "start_time": "2022-04-26T04:05:29.944Z"
   },
   {
    "duration": 7,
    "start_time": "2022-04-26T04:05:29.950Z"
   },
   {
    "duration": 42,
    "start_time": "2022-04-26T04:05:29.958Z"
   },
   {
    "duration": 32,
    "start_time": "2022-04-26T04:05:30.002Z"
   },
   {
    "duration": 92,
    "start_time": "2022-04-26T04:05:30.036Z"
   },
   {
    "duration": 14,
    "start_time": "2022-04-26T04:05:30.130Z"
   },
   {
    "duration": 5,
    "start_time": "2022-04-26T04:05:30.145Z"
   },
   {
    "duration": 9,
    "start_time": "2022-04-26T04:05:30.151Z"
   },
   {
    "duration": 139,
    "start_time": "2022-04-26T04:05:30.161Z"
   },
   {
    "duration": 6,
    "start_time": "2022-04-26T04:05:30.302Z"
   },
   {
    "duration": 8,
    "start_time": "2022-04-26T04:05:30.310Z"
   },
   {
    "duration": 136,
    "start_time": "2022-04-26T04:05:30.319Z"
   },
   {
    "duration": 18,
    "start_time": "2022-04-26T04:05:30.456Z"
   },
   {
    "duration": 28,
    "start_time": "2022-04-26T04:05:30.477Z"
   },
   {
    "duration": 16,
    "start_time": "2022-04-26T04:05:30.507Z"
   },
   {
    "duration": 19,
    "start_time": "2022-04-26T04:05:30.525Z"
   },
   {
    "duration": 691,
    "start_time": "2022-04-28T11:37:14.791Z"
   },
   {
    "duration": 10,
    "start_time": "2022-04-28T11:37:15.486Z"
   },
   {
    "duration": 38,
    "start_time": "2022-04-28T11:37:15.499Z"
   },
   {
    "duration": 12,
    "start_time": "2022-04-28T11:37:15.541Z"
   },
   {
    "duration": 57,
    "start_time": "2022-04-28T11:37:15.555Z"
   },
   {
    "duration": 20,
    "start_time": "2022-04-28T11:37:15.614Z"
   },
   {
    "duration": 14,
    "start_time": "2022-04-28T11:37:15.637Z"
   },
   {
    "duration": 56,
    "start_time": "2022-04-28T11:37:15.654Z"
   },
   {
    "duration": 7,
    "start_time": "2022-04-28T11:37:15.713Z"
   },
   {
    "duration": 10,
    "start_time": "2022-04-28T11:37:15.724Z"
   },
   {
    "duration": 10,
    "start_time": "2022-04-28T11:37:15.736Z"
   },
   {
    "duration": 55,
    "start_time": "2022-04-28T11:37:15.748Z"
   },
   {
    "duration": 23,
    "start_time": "2022-04-28T11:37:15.807Z"
   },
   {
    "duration": 33,
    "start_time": "2022-04-28T11:37:15.833Z"
   },
   {
    "duration": 8,
    "start_time": "2022-04-28T11:37:15.869Z"
   },
   {
    "duration": 23,
    "start_time": "2022-04-28T11:37:15.895Z"
   },
   {
    "duration": 6,
    "start_time": "2022-04-28T11:37:15.920Z"
   },
   {
    "duration": 45,
    "start_time": "2022-04-28T11:37:15.928Z"
   },
   {
    "duration": 80,
    "start_time": "2022-04-28T11:37:15.975Z"
   },
   {
    "duration": 41,
    "start_time": "2022-04-28T11:37:16.057Z"
   },
   {
    "duration": 9,
    "start_time": "2022-04-28T11:37:16.102Z"
   },
   {
    "duration": 8,
    "start_time": "2022-04-28T11:37:16.113Z"
   },
   {
    "duration": 266,
    "start_time": "2022-04-28T11:37:16.123Z"
   },
   {
    "duration": 16,
    "start_time": "2022-04-28T11:37:16.391Z"
   },
   {
    "duration": 12,
    "start_time": "2022-04-28T11:37:16.410Z"
   },
   {
    "duration": 271,
    "start_time": "2022-04-28T11:37:16.424Z"
   },
   {
    "duration": 37,
    "start_time": "2022-04-28T11:37:16.697Z"
   },
   {
    "duration": 5,
    "start_time": "2022-04-28T11:37:16.738Z"
   },
   {
    "duration": 176,
    "start_time": "2022-04-28T11:37:16.745Z"
   },
   {
    "duration": 0,
    "start_time": "2022-04-28T11:37:16.924Z"
   },
   {
    "duration": 0,
    "start_time": "2022-04-28T11:37:16.926Z"
   },
   {
    "duration": 0,
    "start_time": "2022-04-28T11:37:16.928Z"
   },
   {
    "duration": 4,
    "start_time": "2022-04-28T11:38:00.762Z"
   },
   {
    "duration": 27,
    "start_time": "2022-04-28T11:38:04.809Z"
   },
   {
    "duration": 31,
    "start_time": "2022-04-28T11:38:11.689Z"
   },
   {
    "duration": 36,
    "start_time": "2022-04-28T11:38:16.178Z"
   },
   {
    "duration": 4,
    "start_time": "2022-04-28T11:44:13.315Z"
   },
   {
    "duration": 26,
    "start_time": "2022-04-28T11:44:19.227Z"
   },
   {
    "duration": 15,
    "start_time": "2022-04-28T11:55:40.951Z"
   },
   {
    "duration": 22,
    "start_time": "2022-04-28T11:58:08.742Z"
   },
   {
    "duration": 17,
    "start_time": "2022-04-28T11:58:11.111Z"
   },
   {
    "duration": 669,
    "start_time": "2022-04-28T11:58:22.566Z"
   },
   {
    "duration": 8,
    "start_time": "2022-04-28T11:58:23.238Z"
   },
   {
    "duration": 28,
    "start_time": "2022-04-28T11:58:23.248Z"
   },
   {
    "duration": 18,
    "start_time": "2022-04-28T11:58:23.296Z"
   },
   {
    "duration": 25,
    "start_time": "2022-04-28T11:58:23.316Z"
   },
   {
    "duration": 53,
    "start_time": "2022-04-28T11:58:23.343Z"
   },
   {
    "duration": 19,
    "start_time": "2022-04-28T11:58:23.399Z"
   },
   {
    "duration": 23,
    "start_time": "2022-04-28T11:58:23.421Z"
   },
   {
    "duration": 8,
    "start_time": "2022-04-28T11:58:23.446Z"
   },
   {
    "duration": 10,
    "start_time": "2022-04-28T11:58:23.497Z"
   },
   {
    "duration": 11,
    "start_time": "2022-04-28T11:58:23.511Z"
   },
   {
    "duration": 8,
    "start_time": "2022-04-28T11:58:23.525Z"
   },
   {
    "duration": 10,
    "start_time": "2022-04-28T11:58:23.535Z"
   },
   {
    "duration": 71,
    "start_time": "2022-04-28T11:58:23.548Z"
   },
   {
    "duration": 8,
    "start_time": "2022-04-28T11:58:23.621Z"
   },
   {
    "duration": 10,
    "start_time": "2022-04-28T11:58:23.631Z"
   },
   {
    "duration": 6,
    "start_time": "2022-04-28T11:58:23.643Z"
   },
   {
    "duration": 96,
    "start_time": "2022-04-28T11:58:23.651Z"
   },
   {
    "duration": 79,
    "start_time": "2022-04-28T11:58:23.750Z"
   },
   {
    "duration": 24,
    "start_time": "2022-04-28T11:58:23.832Z"
   },
   {
    "duration": 7,
    "start_time": "2022-04-28T11:58:23.859Z"
   },
   {
    "duration": 10,
    "start_time": "2022-04-28T11:58:23.894Z"
   },
   {
    "duration": 256,
    "start_time": "2022-04-28T11:58:23.907Z"
   },
   {
    "duration": 10,
    "start_time": "2022-04-28T11:58:24.165Z"
   },
   {
    "duration": 17,
    "start_time": "2022-04-28T11:58:24.177Z"
   },
   {
    "duration": 266,
    "start_time": "2022-04-28T11:58:24.197Z"
   },
   {
    "duration": 54,
    "start_time": "2022-04-28T11:58:24.465Z"
   },
   {
    "duration": 5,
    "start_time": "2022-04-28T11:58:24.525Z"
   },
   {
    "duration": 27,
    "start_time": "2022-04-28T11:58:24.533Z"
   },
   {
    "duration": 60,
    "start_time": "2022-04-28T11:58:24.563Z"
   },
   {
    "duration": 31,
    "start_time": "2022-04-28T11:58:24.625Z"
   },
   {
    "duration": 68,
    "start_time": "2022-04-28T11:58:24.659Z"
   },
   {
    "duration": 639,
    "start_time": "2022-04-28T12:01:20.744Z"
   },
   {
    "duration": 10,
    "start_time": "2022-04-28T12:01:21.385Z"
   },
   {
    "duration": 30,
    "start_time": "2022-04-28T12:01:21.397Z"
   },
   {
    "duration": 11,
    "start_time": "2022-04-28T12:01:21.430Z"
   },
   {
    "duration": 57,
    "start_time": "2022-04-28T12:01:21.443Z"
   },
   {
    "duration": 17,
    "start_time": "2022-04-28T12:01:21.502Z"
   },
   {
    "duration": 16,
    "start_time": "2022-04-28T12:01:21.521Z"
   },
   {
    "duration": 62,
    "start_time": "2022-04-28T12:01:21.539Z"
   },
   {
    "duration": 8,
    "start_time": "2022-04-28T12:01:21.603Z"
   },
   {
    "duration": 12,
    "start_time": "2022-04-28T12:01:21.617Z"
   },
   {
    "duration": 9,
    "start_time": "2022-04-28T12:01:21.631Z"
   },
   {
    "duration": 51,
    "start_time": "2022-04-28T12:01:21.642Z"
   },
   {
    "duration": 9,
    "start_time": "2022-04-28T12:01:21.696Z"
   },
   {
    "duration": 23,
    "start_time": "2022-04-28T12:01:21.707Z"
   },
   {
    "duration": 7,
    "start_time": "2022-04-28T12:01:21.733Z"
   },
   {
    "duration": 9,
    "start_time": "2022-04-28T12:01:21.743Z"
   },
   {
    "duration": 42,
    "start_time": "2022-04-28T12:01:21.754Z"
   },
   {
    "duration": 41,
    "start_time": "2022-04-28T12:01:21.798Z"
   },
   {
    "duration": 72,
    "start_time": "2022-04-28T12:01:21.841Z"
   },
   {
    "duration": 23,
    "start_time": "2022-04-28T12:01:21.916Z"
   },
   {
    "duration": 7,
    "start_time": "2022-04-28T12:01:21.941Z"
   },
   {
    "duration": 10,
    "start_time": "2022-04-28T12:01:21.950Z"
   },
   {
    "duration": 308,
    "start_time": "2022-04-28T12:01:21.962Z"
   },
   {
    "duration": 20,
    "start_time": "2022-04-28T12:01:22.272Z"
   },
   {
    "duration": 7,
    "start_time": "2022-04-28T12:01:22.296Z"
   },
   {
    "duration": 401,
    "start_time": "2022-04-28T12:01:22.305Z"
   },
   {
    "duration": 5,
    "start_time": "2022-04-28T12:01:22.708Z"
   },
   {
    "duration": 33,
    "start_time": "2022-04-28T12:01:22.718Z"
   },
   {
    "duration": 50,
    "start_time": "2022-04-28T12:01:22.754Z"
   },
   {
    "duration": 27,
    "start_time": "2022-04-28T12:01:22.805Z"
   }
  ],
  "kernelspec": {
   "display_name": "Python 3 (ipykernel)",
   "language": "python",
   "name": "python3"
  },
  "language_info": {
   "codemirror_mode": {
    "name": "ipython",
    "version": 3
   },
   "file_extension": ".py",
   "mimetype": "text/x-python",
   "name": "python",
   "nbconvert_exporter": "python",
   "pygments_lexer": "ipython3",
   "version": "3.9.5"
  },
  "toc": {
   "base_numbering": 1,
   "nav_menu": {},
   "number_sections": true,
   "sideBar": true,
   "skip_h1_title": true,
   "title_cell": "Table of Contents",
   "title_sidebar": "Contents",
   "toc_cell": false,
   "toc_position": {},
   "toc_section_display": true,
   "toc_window_display": false
  }
 },
 "nbformat": 4,
 "nbformat_minor": 5
}
