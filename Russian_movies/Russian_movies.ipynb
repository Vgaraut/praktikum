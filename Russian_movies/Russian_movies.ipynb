{
 "cells": [
  {
   "cell_type": "markdown",
   "metadata": {
    "id": "sIfNaMOxgFyK"
   },
   "source": [
    "## Исследование данных о российском кинопрокате\n",
    "\n",
    "\n",
    "**Нужно изучить рынок российского кинопроката и выявить текущие тренды. Важно уделить внимание фильмам, которые получили государственную поддержку. Попробуйте ответить на вопрос, насколько такие фильмы интересны зрителю.**\n"
   ]
  },
  {
   "cell_type": "markdown",
   "metadata": {
    "id": "3bSlkCsbgFyL"
   },
   "source": [
    "### Шаг 1. Откройте файлы с данными и объедините их в один датафрейм. \n",
    "\n",
    "Объедините данные таким образом, чтобы все объекты из датасета `mkrf_movies` обязательно вошли в получившийся датафрейм. \n",
    "\n",
    "<div id=\"accordion\">\n",
    "    <div class=\"card\">\n",
    "        <div class=\"card-header\" id=\"headingThree\">\n",
    "            <button class=\"btn btn-link collapsed\" data-toggle=\"collapse\" data-target=\"#collapseHint_0\" aria-expanded=\"false\" aria-controls=\"collapseHint_0\">Подсказка</button>\n",
    "        </div>\n",
    "        <div id=\"collapseHint_0\" class=\"collapse\" aria-labelledby=\"headingThree\" data-parent=\"#accordion\">\n",
    "            <div class=\"card-body\">\n",
    "Обратите внимание на тип данных столбца, по которому будете соединять датафреймы. Тип данных этих столбцов должен быть одинаковым в обоих датафреймах.\n",
    "            </div>\n",
    "        </div>\n",
    "    </div>\n",
    "</div>"
   ]
  },
  {
   "cell_type": "code",
   "execution_count": 1,
   "metadata": {
    "id": "dw87FlzMgFyM"
   },
   "outputs": [
    {
     "name": "stdout",
     "output_type": "stream",
     "text": [
      "<class 'pandas.core.frame.DataFrame'>\n",
      "RangeIndex: 7486 entries, 0 to 7485\n",
      "Data columns (total 15 columns):\n",
      " #   Column                 Non-Null Count  Dtype  \n",
      "---  ------                 --------------  -----  \n",
      " 0   title                  7486 non-null   object \n",
      " 1   puNumber               7486 non-null   object \n",
      " 2   show_start_date        7486 non-null   object \n",
      " 3   type                   7486 non-null   object \n",
      " 4   film_studio            7468 non-null   object \n",
      " 5   production_country     7484 non-null   object \n",
      " 6   director               7477 non-null   object \n",
      " 7   producer               6918 non-null   object \n",
      " 8   age_restriction        7486 non-null   object \n",
      " 9   refundable_support     332 non-null    float64\n",
      " 10  nonrefundable_support  332 non-null    float64\n",
      " 11  budget                 332 non-null    float64\n",
      " 12  financing_source       332 non-null    object \n",
      " 13  ratings                6519 non-null   object \n",
      " 14  genres                 6510 non-null   object \n",
      "dtypes: float64(3), object(12)\n",
      "memory usage: 877.4+ KB\n"
     ]
    },
    {
     "data": {
      "text/html": [
       "<div>\n",
       "<style scoped>\n",
       "    .dataframe tbody tr th:only-of-type {\n",
       "        vertical-align: middle;\n",
       "    }\n",
       "\n",
       "    .dataframe tbody tr th {\n",
       "        vertical-align: top;\n",
       "    }\n",
       "\n",
       "    .dataframe thead th {\n",
       "        text-align: right;\n",
       "    }\n",
       "</style>\n",
       "<table border=\"1\" class=\"dataframe\">\n",
       "  <thead>\n",
       "    <tr style=\"text-align: right;\">\n",
       "      <th></th>\n",
       "      <th>title</th>\n",
       "      <th>puNumber</th>\n",
       "      <th>show_start_date</th>\n",
       "      <th>type</th>\n",
       "      <th>film_studio</th>\n",
       "      <th>production_country</th>\n",
       "      <th>director</th>\n",
       "      <th>producer</th>\n",
       "      <th>age_restriction</th>\n",
       "      <th>refundable_support</th>\n",
       "      <th>nonrefundable_support</th>\n",
       "      <th>budget</th>\n",
       "      <th>financing_source</th>\n",
       "      <th>ratings</th>\n",
       "      <th>genres</th>\n",
       "    </tr>\n",
       "  </thead>\n",
       "  <tbody>\n",
       "    <tr>\n",
       "      <th>0</th>\n",
       "      <td>Открытый простор</td>\n",
       "      <td>221048915</td>\n",
       "      <td>2015-11-27T12:00:00.000Z</td>\n",
       "      <td>Художественный</td>\n",
       "      <td>Тачстоун Пикчерз, Кобальт Пикчерз, Бикон Пикче...</td>\n",
       "      <td>США</td>\n",
       "      <td>Кевин Костнер</td>\n",
       "      <td>Дэвид Валдес, Кевин Костнер, Джейк Эбертс</td>\n",
       "      <td>«18+» - запрещено для детей</td>\n",
       "      <td>NaN</td>\n",
       "      <td>NaN</td>\n",
       "      <td>NaN</td>\n",
       "      <td>NaN</td>\n",
       "      <td>7.2</td>\n",
       "      <td>боевик,драма,мелодрама</td>\n",
       "    </tr>\n",
       "    <tr>\n",
       "      <th>1</th>\n",
       "      <td>Особо важное задание</td>\n",
       "      <td>111013716</td>\n",
       "      <td>2016-09-13T12:00:00.000Z</td>\n",
       "      <td>Художественный</td>\n",
       "      <td>Киностудия \"Мосфильм\"</td>\n",
       "      <td>СССР</td>\n",
       "      <td>Е.Матвеев</td>\n",
       "      <td>NaN</td>\n",
       "      <td>«6+» - для детей старше 6 лет</td>\n",
       "      <td>NaN</td>\n",
       "      <td>NaN</td>\n",
       "      <td>NaN</td>\n",
       "      <td>NaN</td>\n",
       "      <td>6.6</td>\n",
       "      <td>драма,военный</td>\n",
       "    </tr>\n",
       "    <tr>\n",
       "      <th>2</th>\n",
       "      <td>Особо опасен</td>\n",
       "      <td>221038416</td>\n",
       "      <td>2016-10-10T12:00:00.000Z</td>\n",
       "      <td>Художественный</td>\n",
       "      <td>Юниверсал Пикчерз, Кикстарт Продакшнз, Марк Пл...</td>\n",
       "      <td>США</td>\n",
       "      <td>Тимур Бекмамбетов</td>\n",
       "      <td>Джим Лемли, Джейсон Нетер, Марк Е.Платт, Яйн Смит</td>\n",
       "      <td>«18+» - запрещено для детей</td>\n",
       "      <td>NaN</td>\n",
       "      <td>NaN</td>\n",
       "      <td>NaN</td>\n",
       "      <td>NaN</td>\n",
       "      <td>6.8</td>\n",
       "      <td>фантастика,боевик,триллер</td>\n",
       "    </tr>\n",
       "    <tr>\n",
       "      <th>3</th>\n",
       "      <td>Особо опасен</td>\n",
       "      <td>221026916</td>\n",
       "      <td>2016-06-10T12:00:00.000Z</td>\n",
       "      <td>Художественный</td>\n",
       "      <td>Юниверсал Пикчерз, Кикстарт Продакшнз, Марк Пл...</td>\n",
       "      <td>США</td>\n",
       "      <td>Тимур Бекмамбетов</td>\n",
       "      <td>Джим Лемли, Джейсон Нетер, Марк Е.Платт, Яйн Смит</td>\n",
       "      <td>«18+» - запрещено для детей</td>\n",
       "      <td>NaN</td>\n",
       "      <td>NaN</td>\n",
       "      <td>NaN</td>\n",
       "      <td>NaN</td>\n",
       "      <td>6.8</td>\n",
       "      <td>фантастика,боевик,триллер</td>\n",
       "    </tr>\n",
       "    <tr>\n",
       "      <th>4</th>\n",
       "      <td>Особо опасен</td>\n",
       "      <td>221030815</td>\n",
       "      <td>2015-07-29T12:00:00.000Z</td>\n",
       "      <td>Художественный</td>\n",
       "      <td>Юниверсал Пикчерз, Кикстарт Продакшнз, Марк Пл...</td>\n",
       "      <td>США</td>\n",
       "      <td>Тимур Бекмамбетов</td>\n",
       "      <td>Джим Лемли, Джейсон Нетер, Марк Е.Платт, Яйн Смит</td>\n",
       "      <td>«18+» - запрещено для детей</td>\n",
       "      <td>NaN</td>\n",
       "      <td>NaN</td>\n",
       "      <td>NaN</td>\n",
       "      <td>NaN</td>\n",
       "      <td>6.8</td>\n",
       "      <td>фантастика,боевик,триллер</td>\n",
       "    </tr>\n",
       "  </tbody>\n",
       "</table>\n",
       "</div>"
      ],
      "text/plain": [
       "                  title   puNumber           show_start_date            type  \\\n",
       "0      Открытый простор  221048915  2015-11-27T12:00:00.000Z  Художественный   \n",
       "1  Особо важное задание  111013716  2016-09-13T12:00:00.000Z  Художественный   \n",
       "2          Особо опасен  221038416  2016-10-10T12:00:00.000Z  Художественный   \n",
       "3          Особо опасен  221026916  2016-06-10T12:00:00.000Z  Художественный   \n",
       "4          Особо опасен  221030815  2015-07-29T12:00:00.000Z  Художественный   \n",
       "\n",
       "                                         film_studio production_country  \\\n",
       "0  Тачстоун Пикчерз, Кобальт Пикчерз, Бикон Пикче...                США   \n",
       "1                              Киностудия \"Мосфильм\"               СССР   \n",
       "2  Юниверсал Пикчерз, Кикстарт Продакшнз, Марк Пл...                США   \n",
       "3  Юниверсал Пикчерз, Кикстарт Продакшнз, Марк Пл...                США   \n",
       "4  Юниверсал Пикчерз, Кикстарт Продакшнз, Марк Пл...                США   \n",
       "\n",
       "            director                                           producer  \\\n",
       "0      Кевин Костнер          Дэвид Валдес, Кевин Костнер, Джейк Эбертс   \n",
       "1          Е.Матвеев                                                NaN   \n",
       "2  Тимур Бекмамбетов  Джим Лемли, Джейсон Нетер, Марк Е.Платт, Яйн Смит   \n",
       "3  Тимур Бекмамбетов  Джим Лемли, Джейсон Нетер, Марк Е.Платт, Яйн Смит   \n",
       "4  Тимур Бекмамбетов  Джим Лемли, Джейсон Нетер, Марк Е.Платт, Яйн Смит   \n",
       "\n",
       "                 age_restriction  refundable_support  nonrefundable_support  \\\n",
       "0    «18+» - запрещено для детей                 NaN                    NaN   \n",
       "1  «6+» - для детей старше 6 лет                 NaN                    NaN   \n",
       "2    «18+» - запрещено для детей                 NaN                    NaN   \n",
       "3    «18+» - запрещено для детей                 NaN                    NaN   \n",
       "4    «18+» - запрещено для детей                 NaN                    NaN   \n",
       "\n",
       "   budget financing_source ratings                     genres  \n",
       "0     NaN              NaN     7.2     боевик,драма,мелодрама  \n",
       "1     NaN              NaN     6.6              драма,военный  \n",
       "2     NaN              NaN     6.8  фантастика,боевик,триллер  \n",
       "3     NaN              NaN     6.8  фантастика,боевик,триллер  \n",
       "4     NaN              NaN     6.8  фантастика,боевик,триллер  "
      ]
     },
     "execution_count": 1,
     "metadata": {},
     "output_type": "execute_result"
    }
   ],
   "source": [
    "import pandas as pd\n",
    "import matplotlib.pyplot as plt \n",
    "import numpy as np\n",
    "\n",
    "data1 = pd.read_csv('/datasets/mkrf_movies.csv')\n",
    "data2 = pd.read_csv('/datasets/mkrf_shows.csv')\n",
    "\n",
    "data1.info()\n",
    "data1.head()"
   ]
  },
  {
   "cell_type": "markdown",
   "metadata": {},
   "source": [
    "    Описание данных\n",
    "    Таблица mkrf_movies содержит информацию из реестра прокатных удостоверений. У одного фильма может быть несколько прокатных удостоверений.\n",
    "    title — название фильма;\n",
    "    puNumber — номер прокатного удостоверения;\n",
    "    show_start_date — дата премьеры фильма;\n",
    "    type — тип фильма;\n",
    "    film_studio — студия-производитель;\n",
    "    production_country — страна-производитель;\n",
    "    director — режиссёр;\n",
    "    producer — продюсер;\n",
    "    age_restriction — возрастная категория;\n",
    "    refundable_support — объём возвратных средств государственной поддержки;\n",
    "    nonrefundable_support — объём невозвратных средств государственной поддержки;\n",
    "    financing_source — источник государственного финансирования;\n",
    "    budget — общий бюджет фильма;\n",
    "    ratings — рейтинг фильма на КиноПоиске;\n",
    "    genres — жанр фильма.\n",
    "    столбец budget уже включает в себя полный объём государственной поддержки. Данные в этом столбце указаны только для тех фильмов, которые получили государственную поддержку.\n"
   ]
  },
  {
   "cell_type": "code",
   "execution_count": 2,
   "metadata": {},
   "outputs": [
    {
     "name": "stdout",
     "output_type": "stream",
     "text": [
      "<class 'pandas.core.frame.DataFrame'>\n",
      "RangeIndex: 3158 entries, 0 to 3157\n",
      "Data columns (total 2 columns):\n",
      " #   Column      Non-Null Count  Dtype  \n",
      "---  ------      --------------  -----  \n",
      " 0   puNumber    3158 non-null   int64  \n",
      " 1   box_office  3158 non-null   float64\n",
      "dtypes: float64(1), int64(1)\n",
      "memory usage: 49.5 KB\n"
     ]
    },
    {
     "data": {
      "text/html": [
       "<div>\n",
       "<style scoped>\n",
       "    .dataframe tbody tr th:only-of-type {\n",
       "        vertical-align: middle;\n",
       "    }\n",
       "\n",
       "    .dataframe tbody tr th {\n",
       "        vertical-align: top;\n",
       "    }\n",
       "\n",
       "    .dataframe thead th {\n",
       "        text-align: right;\n",
       "    }\n",
       "</style>\n",
       "<table border=\"1\" class=\"dataframe\">\n",
       "  <thead>\n",
       "    <tr style=\"text-align: right;\">\n",
       "      <th></th>\n",
       "      <th>puNumber</th>\n",
       "      <th>box_office</th>\n",
       "    </tr>\n",
       "  </thead>\n",
       "  <tbody>\n",
       "    <tr>\n",
       "      <th>0</th>\n",
       "      <td>111000113</td>\n",
       "      <td>2.450000e+03</td>\n",
       "    </tr>\n",
       "    <tr>\n",
       "      <th>1</th>\n",
       "      <td>111000115</td>\n",
       "      <td>6.104000e+04</td>\n",
       "    </tr>\n",
       "    <tr>\n",
       "      <th>2</th>\n",
       "      <td>111000116</td>\n",
       "      <td>1.530300e+08</td>\n",
       "    </tr>\n",
       "    <tr>\n",
       "      <th>3</th>\n",
       "      <td>111000117</td>\n",
       "      <td>1.226096e+07</td>\n",
       "    </tr>\n",
       "    <tr>\n",
       "      <th>4</th>\n",
       "      <td>111000118</td>\n",
       "      <td>1.636841e+08</td>\n",
       "    </tr>\n",
       "  </tbody>\n",
       "</table>\n",
       "</div>"
      ],
      "text/plain": [
       "    puNumber    box_office\n",
       "0  111000113  2.450000e+03\n",
       "1  111000115  6.104000e+04\n",
       "2  111000116  1.530300e+08\n",
       "3  111000117  1.226096e+07\n",
       "4  111000118  1.636841e+08"
      ]
     },
     "execution_count": 2,
     "metadata": {},
     "output_type": "execute_result"
    }
   ],
   "source": [
    "data2.info()\n",
    "data2.head()"
   ]
  },
  {
   "cell_type": "markdown",
   "metadata": {},
   "source": [
    "    Таблица mkrf_shows содержит сведения о показах фильмов в российских кинотеатрах.\n",
    "    puNumber — номер прокатного удостоверения;\n",
    "    box_office — сборы в рублях."
   ]
  },
  {
   "cell_type": "code",
   "execution_count": 3,
   "metadata": {},
   "outputs": [
    {
     "name": "stdout",
     "output_type": "stream",
     "text": [
      "<class 'pandas.core.frame.DataFrame'>\n",
      "RangeIndex: 7486 entries, 0 to 7485\n",
      "Data columns (total 15 columns):\n",
      " #   Column                 Non-Null Count  Dtype  \n",
      "---  ------                 --------------  -----  \n",
      " 0   title                  7486 non-null   object \n",
      " 1   puNumber               7485 non-null   float64\n",
      " 2   show_start_date        7486 non-null   object \n",
      " 3   type                   7486 non-null   object \n",
      " 4   film_studio            7468 non-null   object \n",
      " 5   production_country     7484 non-null   object \n",
      " 6   director               7477 non-null   object \n",
      " 7   producer               6918 non-null   object \n",
      " 8   age_restriction        7486 non-null   object \n",
      " 9   refundable_support     332 non-null    float64\n",
      " 10  nonrefundable_support  332 non-null    float64\n",
      " 11  budget                 332 non-null    float64\n",
      " 12  financing_source       332 non-null    object \n",
      " 13  ratings                6519 non-null   object \n",
      " 14  genres                 6510 non-null   object \n",
      "dtypes: float64(4), object(11)\n",
      "memory usage: 877.4+ KB\n"
     ]
    },
    {
     "data": {
      "text/html": [
       "<div>\n",
       "<style scoped>\n",
       "    .dataframe tbody tr th:only-of-type {\n",
       "        vertical-align: middle;\n",
       "    }\n",
       "\n",
       "    .dataframe tbody tr th {\n",
       "        vertical-align: top;\n",
       "    }\n",
       "\n",
       "    .dataframe thead th {\n",
       "        text-align: right;\n",
       "    }\n",
       "</style>\n",
       "<table border=\"1\" class=\"dataframe\">\n",
       "  <thead>\n",
       "    <tr style=\"text-align: right;\">\n",
       "      <th></th>\n",
       "      <th>title</th>\n",
       "      <th>puNumber</th>\n",
       "      <th>show_start_date</th>\n",
       "      <th>type</th>\n",
       "      <th>film_studio</th>\n",
       "      <th>production_country</th>\n",
       "      <th>director</th>\n",
       "      <th>producer</th>\n",
       "      <th>age_restriction</th>\n",
       "      <th>refundable_support</th>\n",
       "      <th>nonrefundable_support</th>\n",
       "      <th>budget</th>\n",
       "      <th>financing_source</th>\n",
       "      <th>ratings</th>\n",
       "      <th>genres</th>\n",
       "    </tr>\n",
       "  </thead>\n",
       "  <tbody>\n",
       "    <tr>\n",
       "      <th>1797</th>\n",
       "      <td>Курбан-роман. (История с жертвой)</td>\n",
       "      <td>NaN</td>\n",
       "      <td>2014-05-15T12:00:00.000Z</td>\n",
       "      <td>Художественный</td>\n",
       "      <td>ФОНД \"ИННОВАЦИЯ\"</td>\n",
       "      <td>Россия</td>\n",
       "      <td>С.Юзеев</td>\n",
       "      <td>М.Галицкая</td>\n",
       "      <td>«12+» - для детей старше 12 лет</td>\n",
       "      <td>NaN</td>\n",
       "      <td>NaN</td>\n",
       "      <td>NaN</td>\n",
       "      <td>NaN</td>\n",
       "      <td>NaN</td>\n",
       "      <td>NaN</td>\n",
       "    </tr>\n",
       "  </tbody>\n",
       "</table>\n",
       "</div>"
      ],
      "text/plain": [
       "                                  title  puNumber           show_start_date  \\\n",
       "1797  Курбан-роман. (История с жертвой)       NaN  2014-05-15T12:00:00.000Z   \n",
       "\n",
       "                type       film_studio production_country director  \\\n",
       "1797  Художественный  ФОНД \"ИННОВАЦИЯ\"             Россия  С.Юзеев   \n",
       "\n",
       "        producer                  age_restriction  refundable_support  \\\n",
       "1797  М.Галицкая  «12+» - для детей старше 12 лет                 NaN   \n",
       "\n",
       "      nonrefundable_support  budget financing_source ratings genres  \n",
       "1797                    NaN     NaN              NaN     NaN    NaN  "
      ]
     },
     "execution_count": 3,
     "metadata": {},
     "output_type": "execute_result"
    }
   ],
   "source": [
    "#в первом датасете столбец 'puNumber' имеет тип object, приведем к числовому типу данных.\n",
    "data1.puNumber = pd.to_numeric(data1.puNumber, errors='coerce')\n",
    "data1.info()\n",
    "data1[data1['puNumber'].isna()]"
   ]
  },
  {
   "cell_type": "code",
   "execution_count": 4,
   "metadata": {},
   "outputs": [],
   "source": [
    "#в одной строке нет данных о прокатном удостоверении, а также о показателях фильма \n",
    "#данную строку удалим, оставшиеся данные приведем к типу int\n",
    "data1.dropna(subset=['puNumber'], inplace=True)\n",
    "data1.puNumber = data1.puNumber.astype('int')"
   ]
  },
  {
   "cell_type": "code",
   "execution_count": 5,
   "metadata": {},
   "outputs": [
    {
     "name": "stdout",
     "output_type": "stream",
     "text": [
      "<class 'pandas.core.frame.DataFrame'>\n",
      "Int64Index: 7485 entries, 0 to 7484\n",
      "Data columns (total 16 columns):\n",
      " #   Column                 Non-Null Count  Dtype  \n",
      "---  ------                 --------------  -----  \n",
      " 0   title                  7485 non-null   object \n",
      " 1   puNumber               7485 non-null   int64  \n",
      " 2   show_start_date        7485 non-null   object \n",
      " 3   type                   7485 non-null   object \n",
      " 4   film_studio            7467 non-null   object \n",
      " 5   production_country     7483 non-null   object \n",
      " 6   director               7476 non-null   object \n",
      " 7   producer               6917 non-null   object \n",
      " 8   age_restriction        7485 non-null   object \n",
      " 9   refundable_support     332 non-null    float64\n",
      " 10  nonrefundable_support  332 non-null    float64\n",
      " 11  budget                 332 non-null    float64\n",
      " 12  financing_source       332 non-null    object \n",
      " 13  ratings                6519 non-null   object \n",
      " 14  genres                 6510 non-null   object \n",
      " 15  box_office             3158 non-null   float64\n",
      "dtypes: float64(4), int64(1), object(11)\n",
      "memory usage: 994.1+ KB\n"
     ]
    }
   ],
   "source": [
    "#обьединим датафреймы по столбцу puNumber используя индекс датафрейма data1\n",
    "data = data1.merge(data2, how='left')\n",
    "data.info()"
   ]
  },
  {
   "cell_type": "markdown",
   "metadata": {
    "id": "KLDGpPG0gFyM"
   },
   "source": [
    "### Шаг 2. Предобработка данных"
   ]
  },
  {
   "cell_type": "code",
   "execution_count": 6,
   "metadata": {},
   "outputs": [
    {
     "data": {
      "text/plain": [
       "Index(['title', 'pu_number', 'show_start_date', 'type', 'film_studio',\n",
       "       'production_country', 'director', 'producer', 'age_restriction',\n",
       "       'refundable_support', 'nonrefundable_support', 'budget',\n",
       "       'financing_source', 'ratings', 'genres', 'box_office'],\n",
       "      dtype='object')"
      ]
     },
     "execution_count": 6,
     "metadata": {},
     "output_type": "execute_result"
    }
   ],
   "source": [
    "#Переименуем столбец 'puNumber'\n",
    "data.rename(columns={'puNumber': 'pu_number'}, inplace=True)\n",
    "data.columns"
   ]
  },
  {
   "cell_type": "markdown",
   "metadata": {},
   "source": [
    "    1. type исправить неявные дубликаты в ' Художественный' и ' Анимационный' \n",
    "    2. привести данные из столбца age_restriction к виду 0, 6, 12, 16, 18"
   ]
  },
  {
   "cell_type": "code",
   "execution_count": 7,
   "metadata": {},
   "outputs": [],
   "source": [
    "#show_start_date перевести в формат datetime \n",
    "data.show_start_date = pd.to_datetime(data['show_start_date'], format = '%Y-%m-%d')"
   ]
  },
  {
   "cell_type": "code",
   "execution_count": 8,
   "metadata": {},
   "outputs": [
    {
     "data": {
      "text/html": [
       "<div>\n",
       "<style scoped>\n",
       "    .dataframe tbody tr th:only-of-type {\n",
       "        vertical-align: middle;\n",
       "    }\n",
       "\n",
       "    .dataframe tbody tr th {\n",
       "        vertical-align: top;\n",
       "    }\n",
       "\n",
       "    .dataframe thead th {\n",
       "        text-align: right;\n",
       "    }\n",
       "</style>\n",
       "<table border=\"1\" class=\"dataframe\">\n",
       "  <thead>\n",
       "    <tr style=\"text-align: right;\">\n",
       "      <th></th>\n",
       "      <th>title</th>\n",
       "      <th>pu_number</th>\n",
       "      <th>show_start_date</th>\n",
       "      <th>type</th>\n",
       "      <th>film_studio</th>\n",
       "      <th>production_country</th>\n",
       "      <th>director</th>\n",
       "      <th>producer</th>\n",
       "      <th>age_restriction</th>\n",
       "      <th>refundable_support</th>\n",
       "      <th>nonrefundable_support</th>\n",
       "      <th>budget</th>\n",
       "      <th>financing_source</th>\n",
       "      <th>ratings</th>\n",
       "      <th>genres</th>\n",
       "      <th>box_office</th>\n",
       "    </tr>\n",
       "  </thead>\n",
       "  <tbody>\n",
       "    <tr>\n",
       "      <th>3514</th>\n",
       "      <td>взломать блогеров</td>\n",
       "      <td>111016616</td>\n",
       "      <td>2016-10-28 12:00:00+00:00</td>\n",
       "      <td>художественный</td>\n",
       "      <td>ооо \"таббак\"</td>\n",
       "      <td>россия</td>\n",
       "      <td>м.свешников</td>\n",
       "      <td>т.бекмамбетов</td>\n",
       "      <td>«6+» - для детей старше 6 лет</td>\n",
       "      <td>0.0</td>\n",
       "      <td>25000000.0</td>\n",
       "      <td>36016269.0</td>\n",
       "      <td>фонд кино</td>\n",
       "      <td>1.0</td>\n",
       "      <td>комедия,мультфильм,фантастика</td>\n",
       "      <td>7323648.0</td>\n",
       "    </tr>\n",
       "    <tr>\n",
       "      <th>5289</th>\n",
       "      <td>ева: искусственный разум</td>\n",
       "      <td>121023911</td>\n",
       "      <td>2011-12-19 12:00:00+00:00</td>\n",
       "      <td>художественный</td>\n",
       "      <td>эскандало фильм, рэн интертейнмент</td>\n",
       "      <td>испания - франция</td>\n",
       "      <td>кике майло</td>\n",
       "      <td>сержи касамитьяна</td>\n",
       "      <td>«16+» - для детей старше 16 лет</td>\n",
       "      <td>NaN</td>\n",
       "      <td>NaN</td>\n",
       "      <td>NaN</td>\n",
       "      <td>NaN</td>\n",
       "      <td>6.7</td>\n",
       "      <td>фантастика,фэнтези,драма</td>\n",
       "      <td>NaN</td>\n",
       "    </tr>\n",
       "    <tr>\n",
       "      <th>5999</th>\n",
       "      <td>париж. город zомби</td>\n",
       "      <td>121013818</td>\n",
       "      <td>2018-07-05 12:00:00+00:00</td>\n",
       "      <td>художественный</td>\n",
       "      <td>от э кут, канал +, сине +, национальный центр ...</td>\n",
       "      <td>франция</td>\n",
       "      <td>доминик роше</td>\n",
       "      <td>симон арналь, каролин беньо, джули билли, каро...</td>\n",
       "      <td>«16+» - для детей старше 16 лет</td>\n",
       "      <td>NaN</td>\n",
       "      <td>NaN</td>\n",
       "      <td>NaN</td>\n",
       "      <td>NaN</td>\n",
       "      <td>5.8</td>\n",
       "      <td>ужасы,триллер,драма</td>\n",
       "      <td>2597359.0</td>\n",
       "    </tr>\n",
       "    <tr>\n",
       "      <th>3851</th>\n",
       "      <td>шерлок холмс</td>\n",
       "      <td>221043410</td>\n",
       "      <td>2010-03-29 12:00:00+00:00</td>\n",
       "      <td>художественный</td>\n",
       "      <td>лин пикчерз, сильвер пикчерз, виладж роадшоу п...</td>\n",
       "      <td>сша-германия</td>\n",
       "      <td>гай ричи</td>\n",
       "      <td>сьюзан доуни, дэн лин, джоел сильвер, лайонел ...</td>\n",
       "      <td>«12+» - для детей старше 12 лет</td>\n",
       "      <td>NaN</td>\n",
       "      <td>NaN</td>\n",
       "      <td>NaN</td>\n",
       "      <td>NaN</td>\n",
       "      <td>8.1</td>\n",
       "      <td>боевик,приключения,триллер</td>\n",
       "      <td>NaN</td>\n",
       "    </tr>\n",
       "    <tr>\n",
       "      <th>74</th>\n",
       "      <td>борец и клоун</td>\n",
       "      <td>111012013</td>\n",
       "      <td>2013-12-19 12:00:00+00:00</td>\n",
       "      <td>художественный</td>\n",
       "      <td>киностудия \"мосфильм\"</td>\n",
       "      <td>ссср</td>\n",
       "      <td>к.юдин, б.барнет</td>\n",
       "      <td>NaN</td>\n",
       "      <td>«6+» - для детей старше 6 лет</td>\n",
       "      <td>NaN</td>\n",
       "      <td>NaN</td>\n",
       "      <td>NaN</td>\n",
       "      <td>NaN</td>\n",
       "      <td>7.1</td>\n",
       "      <td>драма,спорт</td>\n",
       "      <td>NaN</td>\n",
       "    </tr>\n",
       "    <tr>\n",
       "      <th>4254</th>\n",
       "      <td>око за око (по мотивам повести б.лавренева \"се...</td>\n",
       "      <td>111007810</td>\n",
       "      <td>2010-08-23 12:00:00+00:00</td>\n",
       "      <td>художественный</td>\n",
       "      <td>ооо \"кинокомпания \"покровские ворота\" совместн...</td>\n",
       "      <td>россия</td>\n",
       "      <td>г.полока</td>\n",
       "      <td>р.шарабидзе, и.поршнев</td>\n",
       "      <td>«16+» - для детей старше 16 лет</td>\n",
       "      <td>NaN</td>\n",
       "      <td>NaN</td>\n",
       "      <td>NaN</td>\n",
       "      <td>NaN</td>\n",
       "      <td>NaN</td>\n",
       "      <td>NaN</td>\n",
       "      <td>10685.0</td>\n",
       "    </tr>\n",
       "    <tr>\n",
       "      <th>160</th>\n",
       "      <td>егор булычев и другие</td>\n",
       "      <td>111011314</td>\n",
       "      <td>2014-10-01 12:00:00+00:00</td>\n",
       "      <td>художественный</td>\n",
       "      <td>киностудия \"мосфильм\"</td>\n",
       "      <td>ссср</td>\n",
       "      <td>с.соловьев</td>\n",
       "      <td>NaN</td>\n",
       "      <td>«12+» - для детей старше 12 лет</td>\n",
       "      <td>NaN</td>\n",
       "      <td>NaN</td>\n",
       "      <td>NaN</td>\n",
       "      <td>NaN</td>\n",
       "      <td>7.1</td>\n",
       "      <td>драма</td>\n",
       "      <td>NaN</td>\n",
       "    </tr>\n",
       "  </tbody>\n",
       "</table>\n",
       "</div>"
      ],
      "text/plain": [
       "                                                  title  pu_number  \\\n",
       "3514                                  взломать блогеров  111016616   \n",
       "5289                           ева: искусственный разум  121023911   \n",
       "5999                                 париж. город zомби  121013818   \n",
       "3851                                       шерлок холмс  221043410   \n",
       "74                                        борец и клоун  111012013   \n",
       "4254  око за око (по мотивам повести б.лавренева \"се...  111007810   \n",
       "160                               егор булычев и другие  111011314   \n",
       "\n",
       "               show_start_date             type  \\\n",
       "3514 2016-10-28 12:00:00+00:00   художественный   \n",
       "5289 2011-12-19 12:00:00+00:00   художественный   \n",
       "5999 2018-07-05 12:00:00+00:00   художественный   \n",
       "3851 2010-03-29 12:00:00+00:00   художественный   \n",
       "74   2013-12-19 12:00:00+00:00   художественный   \n",
       "4254 2010-08-23 12:00:00+00:00   художественный   \n",
       "160  2014-10-01 12:00:00+00:00   художественный   \n",
       "\n",
       "                                            film_studio production_country  \\\n",
       "3514                                       ооо \"таббак\"             россия   \n",
       "5289                 эскандало фильм, рэн интертейнмент  испания - франция   \n",
       "5999  от э кут, канал +, сине +, национальный центр ...            франция   \n",
       "3851  лин пикчерз, сильвер пикчерз, виладж роадшоу п...       сша-германия   \n",
       "74                                киностудия \"мосфильм\"               ссср   \n",
       "4254  ооо \"кинокомпания \"покровские ворота\" совместн...             россия   \n",
       "160                               киностудия \"мосфильм\"               ссср   \n",
       "\n",
       "              director                                           producer  \\\n",
       "3514       м.свешников                                      т.бекмамбетов   \n",
       "5289        кике майло                                  сержи касамитьяна   \n",
       "5999      доминик роше  симон арналь, каролин беньо, джули билли, каро...   \n",
       "3851          гай ричи  сьюзан доуни, дэн лин, джоел сильвер, лайонел ...   \n",
       "74    к.юдин, б.барнет                                                NaN   \n",
       "4254          г.полока                             р.шарабидзе, и.поршнев   \n",
       "160         с.соловьев                                                NaN   \n",
       "\n",
       "                      age_restriction  refundable_support  \\\n",
       "3514    «6+» - для детей старше 6 лет                 0.0   \n",
       "5289  «16+» - для детей старше 16 лет                 NaN   \n",
       "5999  «16+» - для детей старше 16 лет                 NaN   \n",
       "3851  «12+» - для детей старше 12 лет                 NaN   \n",
       "74      «6+» - для детей старше 6 лет                 NaN   \n",
       "4254  «16+» - для детей старше 16 лет                 NaN   \n",
       "160   «12+» - для детей старше 12 лет                 NaN   \n",
       "\n",
       "      nonrefundable_support      budget financing_source ratings  \\\n",
       "3514             25000000.0  36016269.0        фонд кино     1.0   \n",
       "5289                    NaN         NaN              NaN     6.7   \n",
       "5999                    NaN         NaN              NaN     5.8   \n",
       "3851                    NaN         NaN              NaN     8.1   \n",
       "74                      NaN         NaN              NaN     7.1   \n",
       "4254                    NaN         NaN              NaN     NaN   \n",
       "160                     NaN         NaN              NaN     7.1   \n",
       "\n",
       "                             genres  box_office  \n",
       "3514  комедия,мультфильм,фантастика   7323648.0  \n",
       "5289       фантастика,фэнтези,драма         NaN  \n",
       "5999            ужасы,триллер,драма   2597359.0  \n",
       "3851     боевик,приключения,триллер         NaN  \n",
       "74                      драма,спорт         NaN  \n",
       "4254                            NaN     10685.0  \n",
       "160                           драма         NaN  "
      ]
     },
     "execution_count": 8,
     "metadata": {},
     "output_type": "execute_result"
    }
   ],
   "source": [
    "#приведем все данные к нижнему регистру\n",
    "data = data.applymap(lambda x:x.lower() if type(x) == str else x) \n",
    "data.sample(7)"
   ]
  },
  {
   "cell_type": "code",
   "execution_count": 9,
   "metadata": {},
   "outputs": [],
   "source": [
    "#создадим функцию, которая сможет найти в тексте число и вывести его как целочисленное значение\n",
    "import re\n",
    "def restriction_to_int (row):\n",
    "    restirction = row.age_restriction\n",
    "    to_int = re.search ('(?<=«)\\d+', restirction)\n",
    "    return int(to_int.group(0))"
   ]
  },
  {
   "cell_type": "code",
   "execution_count": 10,
   "metadata": {},
   "outputs": [
    {
     "data": {
      "text/plain": [
       "16    2851\n",
       "18    1605\n",
       "12    1592\n",
       "0      811\n",
       "6      626\n",
       "Name: restriction_int, dtype: int64"
      ]
     },
     "execution_count": 10,
     "metadata": {},
     "output_type": "execute_result"
    }
   ],
   "source": [
    "#создадим столбец с числовым выражением ограничения по возрасту\n",
    "data['restriction_int'] = data.apply(restriction_to_int, axis=1)\n",
    "data.restriction_int.value_counts()"
   ]
  },
  {
   "cell_type": "code",
   "execution_count": 11,
   "metadata": {
    "scrolled": true
   },
   "outputs": [
    {
     "data": {
      "text/plain": [
       "3514    1.0\n",
       "4677    1.1\n",
       "1535    1.1\n",
       "4793    1.2\n",
       "4013    1.3\n",
       "       ... \n",
       "6736    98%\n",
       "1804    99%\n",
       "259     99%\n",
       "1341    99%\n",
       "6881    99%\n",
       "Name: ratings, Length: 6519, dtype: object"
      ]
     },
     "execution_count": 11,
     "metadata": {},
     "output_type": "execute_result"
    }
   ],
   "source": [
    "data[data['ratings'].notna()]['ratings'].sort_values()"
   ]
  },
  {
   "cell_type": "code",
   "execution_count": 12,
   "metadata": {},
   "outputs": [
    {
     "data": {
      "text/plain": [
       "title                              сказка о добре и вре\n",
       "pu_number                                     111008913\n",
       "show_start_date               2013-11-15 12:00:00+00:00\n",
       "type                                     художественный\n",
       "film_studio              нп \"студия игрового кино \"лик\"\n",
       "production_country                               россия\n",
       "director                                      е.шиляева\n",
       "producer                                    к.терещенко\n",
       "age_restriction           «6+» - для детей старше 6 лет\n",
       "refundable_support                                  NaN\n",
       "nonrefundable_support                               NaN\n",
       "budget                                              NaN\n",
       "financing_source                                    NaN\n",
       "ratings                                             99%\n",
       "genres                           триллер,драма,детектив\n",
       "box_office                                          NaN\n",
       "restriction_int                                       6\n",
       "Name: 1341, dtype: object"
      ]
     },
     "execution_count": 12,
     "metadata": {},
     "output_type": "execute_result"
    }
   ],
   "source": [
    "data.iloc[1341]"
   ]
  },
  {
   "cell_type": "markdown",
   "metadata": {
    "id": "kVGSplJOgFyO"
   },
   "source": [
    "   **В столбце ratings есть значения, которые не соответствуют рейтингу кинопоиска, это фильмы которые не имели рейтинга на момент формирования датасета, либо не прокатывались, либо не имеют до сих пор.** \n",
    "   \n",
    "   **Эти значение необходимо убрать из датафрейма**"
   ]
  },
  {
   "cell_type": "code",
   "execution_count": 13,
   "metadata": {},
   "outputs": [],
   "source": [
    "data.ratings = pd.to_numeric(data.ratings, errors='coerce')"
   ]
  },
  {
   "cell_type": "code",
   "execution_count": 14,
   "metadata": {},
   "outputs": [
    {
     "name": "stdout",
     "output_type": "stream",
     "text": [
      "<class 'pandas.core.frame.DataFrame'>\n",
      "Int64Index: 7485 entries, 0 to 7484\n",
      "Data columns (total 17 columns):\n",
      " #   Column                 Non-Null Count  Dtype              \n",
      "---  ------                 --------------  -----              \n",
      " 0   title                  7485 non-null   object             \n",
      " 1   pu_number              7485 non-null   int64              \n",
      " 2   show_start_date        7485 non-null   datetime64[ns, UTC]\n",
      " 3   type                   7485 non-null   object             \n",
      " 4   film_studio            7467 non-null   object             \n",
      " 5   production_country     7483 non-null   object             \n",
      " 6   director               7476 non-null   object             \n",
      " 7   producer               6917 non-null   object             \n",
      " 8   age_restriction        7485 non-null   object             \n",
      " 9   refundable_support     332 non-null    float64            \n",
      " 10  nonrefundable_support  332 non-null    float64            \n",
      " 11  budget                 332 non-null    float64            \n",
      " 12  financing_source       332 non-null    object             \n",
      " 13  ratings                6490 non-null   float64            \n",
      " 14  genres                 6510 non-null   object             \n",
      " 15  box_office             3158 non-null   float64            \n",
      " 16  restriction_int        7485 non-null   int64              \n",
      "dtypes: datetime64[ns, UTC](1), float64(5), int64(2), object(9)\n",
      "memory usage: 1.0+ MB\n"
     ]
    },
    {
     "data": {
      "text/html": [
       "<div>\n",
       "<style scoped>\n",
       "    .dataframe tbody tr th:only-of-type {\n",
       "        vertical-align: middle;\n",
       "    }\n",
       "\n",
       "    .dataframe tbody tr th {\n",
       "        vertical-align: top;\n",
       "    }\n",
       "\n",
       "    .dataframe thead th {\n",
       "        text-align: right;\n",
       "    }\n",
       "</style>\n",
       "<table border=\"1\" class=\"dataframe\">\n",
       "  <thead>\n",
       "    <tr style=\"text-align: right;\">\n",
       "      <th></th>\n",
       "      <th>title</th>\n",
       "      <th>pu_number</th>\n",
       "      <th>show_start_date</th>\n",
       "      <th>type</th>\n",
       "      <th>film_studio</th>\n",
       "      <th>production_country</th>\n",
       "      <th>director</th>\n",
       "      <th>producer</th>\n",
       "      <th>age_restriction</th>\n",
       "      <th>refundable_support</th>\n",
       "      <th>nonrefundable_support</th>\n",
       "      <th>budget</th>\n",
       "      <th>financing_source</th>\n",
       "      <th>ratings</th>\n",
       "      <th>genres</th>\n",
       "      <th>box_office</th>\n",
       "      <th>restriction_int</th>\n",
       "    </tr>\n",
       "  </thead>\n",
       "  <tbody>\n",
       "    <tr>\n",
       "      <th>0</th>\n",
       "      <td>открытый простор</td>\n",
       "      <td>221048915</td>\n",
       "      <td>2015-11-27 12:00:00+00:00</td>\n",
       "      <td>художественный</td>\n",
       "      <td>тачстоун пикчерз, кобальт пикчерз, бикон пикче...</td>\n",
       "      <td>сша</td>\n",
       "      <td>кевин костнер</td>\n",
       "      <td>дэвид валдес, кевин костнер, джейк эбертс</td>\n",
       "      <td>«18+» - запрещено для детей</td>\n",
       "      <td>NaN</td>\n",
       "      <td>NaN</td>\n",
       "      <td>NaN</td>\n",
       "      <td>NaN</td>\n",
       "      <td>7.2</td>\n",
       "      <td>боевик,драма,мелодрама</td>\n",
       "      <td>NaN</td>\n",
       "      <td>18</td>\n",
       "    </tr>\n",
       "    <tr>\n",
       "      <th>1</th>\n",
       "      <td>особо важное задание</td>\n",
       "      <td>111013716</td>\n",
       "      <td>2016-09-13 12:00:00+00:00</td>\n",
       "      <td>художественный</td>\n",
       "      <td>киностудия \"мосфильм\"</td>\n",
       "      <td>ссср</td>\n",
       "      <td>е.матвеев</td>\n",
       "      <td>NaN</td>\n",
       "      <td>«6+» - для детей старше 6 лет</td>\n",
       "      <td>NaN</td>\n",
       "      <td>NaN</td>\n",
       "      <td>NaN</td>\n",
       "      <td>NaN</td>\n",
       "      <td>6.6</td>\n",
       "      <td>драма,военный</td>\n",
       "      <td>NaN</td>\n",
       "      <td>6</td>\n",
       "    </tr>\n",
       "    <tr>\n",
       "      <th>2</th>\n",
       "      <td>особо опасен</td>\n",
       "      <td>221038416</td>\n",
       "      <td>2016-10-10 12:00:00+00:00</td>\n",
       "      <td>художественный</td>\n",
       "      <td>юниверсал пикчерз, кикстарт продакшнз, марк пл...</td>\n",
       "      <td>сша</td>\n",
       "      <td>тимур бекмамбетов</td>\n",
       "      <td>джим лемли, джейсон нетер, марк е.платт, яйн смит</td>\n",
       "      <td>«18+» - запрещено для детей</td>\n",
       "      <td>NaN</td>\n",
       "      <td>NaN</td>\n",
       "      <td>NaN</td>\n",
       "      <td>NaN</td>\n",
       "      <td>6.8</td>\n",
       "      <td>фантастика,боевик,триллер</td>\n",
       "      <td>NaN</td>\n",
       "      <td>18</td>\n",
       "    </tr>\n",
       "    <tr>\n",
       "      <th>3</th>\n",
       "      <td>особо опасен</td>\n",
       "      <td>221026916</td>\n",
       "      <td>2016-06-10 12:00:00+00:00</td>\n",
       "      <td>художественный</td>\n",
       "      <td>юниверсал пикчерз, кикстарт продакшнз, марк пл...</td>\n",
       "      <td>сша</td>\n",
       "      <td>тимур бекмамбетов</td>\n",
       "      <td>джим лемли, джейсон нетер, марк е.платт, яйн смит</td>\n",
       "      <td>«18+» - запрещено для детей</td>\n",
       "      <td>NaN</td>\n",
       "      <td>NaN</td>\n",
       "      <td>NaN</td>\n",
       "      <td>NaN</td>\n",
       "      <td>6.8</td>\n",
       "      <td>фантастика,боевик,триллер</td>\n",
       "      <td>NaN</td>\n",
       "      <td>18</td>\n",
       "    </tr>\n",
       "    <tr>\n",
       "      <th>4</th>\n",
       "      <td>особо опасен</td>\n",
       "      <td>221030815</td>\n",
       "      <td>2015-07-29 12:00:00+00:00</td>\n",
       "      <td>художественный</td>\n",
       "      <td>юниверсал пикчерз, кикстарт продакшнз, марк пл...</td>\n",
       "      <td>сша</td>\n",
       "      <td>тимур бекмамбетов</td>\n",
       "      <td>джим лемли, джейсон нетер, марк е.платт, яйн смит</td>\n",
       "      <td>«18+» - запрещено для детей</td>\n",
       "      <td>NaN</td>\n",
       "      <td>NaN</td>\n",
       "      <td>NaN</td>\n",
       "      <td>NaN</td>\n",
       "      <td>6.8</td>\n",
       "      <td>фантастика,боевик,триллер</td>\n",
       "      <td>NaN</td>\n",
       "      <td>18</td>\n",
       "    </tr>\n",
       "  </tbody>\n",
       "</table>\n",
       "</div>"
      ],
      "text/plain": [
       "                  title  pu_number           show_start_date            type  \\\n",
       "0      открытый простор  221048915 2015-11-27 12:00:00+00:00  художественный   \n",
       "1  особо важное задание  111013716 2016-09-13 12:00:00+00:00  художественный   \n",
       "2          особо опасен  221038416 2016-10-10 12:00:00+00:00  художественный   \n",
       "3          особо опасен  221026916 2016-06-10 12:00:00+00:00  художественный   \n",
       "4          особо опасен  221030815 2015-07-29 12:00:00+00:00  художественный   \n",
       "\n",
       "                                         film_studio production_country  \\\n",
       "0  тачстоун пикчерз, кобальт пикчерз, бикон пикче...                сша   \n",
       "1                              киностудия \"мосфильм\"               ссср   \n",
       "2  юниверсал пикчерз, кикстарт продакшнз, марк пл...                сша   \n",
       "3  юниверсал пикчерз, кикстарт продакшнз, марк пл...                сша   \n",
       "4  юниверсал пикчерз, кикстарт продакшнз, марк пл...                сша   \n",
       "\n",
       "            director                                           producer  \\\n",
       "0      кевин костнер          дэвид валдес, кевин костнер, джейк эбертс   \n",
       "1          е.матвеев                                                NaN   \n",
       "2  тимур бекмамбетов  джим лемли, джейсон нетер, марк е.платт, яйн смит   \n",
       "3  тимур бекмамбетов  джим лемли, джейсон нетер, марк е.платт, яйн смит   \n",
       "4  тимур бекмамбетов  джим лемли, джейсон нетер, марк е.платт, яйн смит   \n",
       "\n",
       "                 age_restriction  refundable_support  nonrefundable_support  \\\n",
       "0    «18+» - запрещено для детей                 NaN                    NaN   \n",
       "1  «6+» - для детей старше 6 лет                 NaN                    NaN   \n",
       "2    «18+» - запрещено для детей                 NaN                    NaN   \n",
       "3    «18+» - запрещено для детей                 NaN                    NaN   \n",
       "4    «18+» - запрещено для детей                 NaN                    NaN   \n",
       "\n",
       "   budget financing_source  ratings                     genres  box_office  \\\n",
       "0     NaN              NaN      7.2     боевик,драма,мелодрама         NaN   \n",
       "1     NaN              NaN      6.6              драма,военный         NaN   \n",
       "2     NaN              NaN      6.8  фантастика,боевик,триллер         NaN   \n",
       "3     NaN              NaN      6.8  фантастика,боевик,триллер         NaN   \n",
       "4     NaN              NaN      6.8  фантастика,боевик,триллер         NaN   \n",
       "\n",
       "   restriction_int  \n",
       "0               18  \n",
       "1                6  \n",
       "2               18  \n",
       "3               18  \n",
       "4               18  "
      ]
     },
     "execution_count": 14,
     "metadata": {},
     "output_type": "execute_result"
    }
   ],
   "source": [
    "data.info()\n",
    "data.head()"
   ]
  },
  {
   "cell_type": "markdown",
   "metadata": {},
   "source": [
    "**Мы потеряли 29 значений в толбце ratings, это не повлияет на качество исследования**"
   ]
  },
  {
   "cell_type": "markdown",
   "metadata": {
    "id": "i0MOLbF-gFyP"
   },
   "source": [
    "#### Шаг 2.2. Изучите пропуски в датафрейме\n",
    "\n",
    "- Объясните, почему заполнили пропуски определённым образом или почему не стали этого делать."
   ]
  },
  {
   "cell_type": "code",
   "execution_count": 15,
   "metadata": {},
   "outputs": [],
   "source": [
    "#Проанализируем столбец с источником финансирования\n",
    "#Поскольку данные об источниках указаны только для фильмов с господдержкой, остальные заполним как 'другое'\n",
    "data.financing_source.value_counts()\n",
    "data.financing_source.fillna('другое', inplace=True) "
   ]
  },
  {
   "cell_type": "code",
   "execution_count": 16,
   "metadata": {
    "id": "8MJD_lkngFyP"
   },
   "outputs": [],
   "source": [
    "#в production_country есть 2 пропущенных значения, ералаш и мульт личности, прокатстартовал в 2010 году и в 2016 году, соответственно можем предположить, что страна производства Россия\n",
    "data.production_country = data.production_country.fillna('россия')"
   ]
  },
  {
   "cell_type": "code",
   "execution_count": 17,
   "metadata": {},
   "outputs": [
    {
     "name": "stdout",
     "output_type": "stream",
     "text": [
      "Доля пропусков составляет 0.0024106066693451184\n"
     ]
    }
   ],
   "source": [
    "#Рассмотрим пропуски в film_studio\n",
    "#Данные фильмы не имеют данных о прокате, сборах и сумме поддержки от государства\n",
    "#Предполагаю, что это эфирные ТВ-шоу которые распространались не по подписке и не имеют важности в нашем исследовании.\n",
    "#Доля пропусков составляет 0,2%, предлагаю их удалить.\n",
    "print(f\"Доля пропусков составляет {data.film_studio.isna().sum() / data.film_studio.count()}\")\n",
    "data.dropna(subset=['film_studio'], inplace=True)"
   ]
  },
  {
   "cell_type": "markdown",
   "metadata": {},
   "source": [
    "Данные из director producer refundable_support nonrefundable_support budget ratings genres box_office предлагаю оставить без изменений.\n",
    "\n",
    "box office мы не трогаем, так как только эти значения есть только для фильмов, информация о прокатных удостоверениях которыхсодержалась во второй таблице.\n",
    "\n",
    "refundable_support nonrefundable_support budget financing_source указаны только для фильмов с поддержкой, о чем говорит нам описание датасета. следовательно данные в этих столбцах полны\n"
   ]
  },
  {
   "cell_type": "markdown",
   "metadata": {
    "id": "4c6k1t9ygFyQ"
   },
   "source": [
    "#### Шаг 2.3. Изучите дубликаты в датафрейме\n",
    "- Проверьте, есть ли в данных дубликаты. Опишите причины, которые могли повлиять на появление дублей."
   ]
  },
  {
   "cell_type": "code",
   "execution_count": 18,
   "metadata": {},
   "outputs": [
    {
     "data": {
      "text/html": [
       "<div>\n",
       "<style scoped>\n",
       "    .dataframe tbody tr th:only-of-type {\n",
       "        vertical-align: middle;\n",
       "    }\n",
       "\n",
       "    .dataframe tbody tr th {\n",
       "        vertical-align: top;\n",
       "    }\n",
       "\n",
       "    .dataframe thead th {\n",
       "        text-align: right;\n",
       "    }\n",
       "</style>\n",
       "<table border=\"1\" class=\"dataframe\">\n",
       "  <thead>\n",
       "    <tr style=\"text-align: right;\">\n",
       "      <th></th>\n",
       "      <th>title</th>\n",
       "      <th>pu_number</th>\n",
       "      <th>show_start_date</th>\n",
       "      <th>type</th>\n",
       "      <th>film_studio</th>\n",
       "      <th>production_country</th>\n",
       "      <th>director</th>\n",
       "      <th>producer</th>\n",
       "      <th>age_restriction</th>\n",
       "      <th>refundable_support</th>\n",
       "      <th>nonrefundable_support</th>\n",
       "      <th>budget</th>\n",
       "      <th>financing_source</th>\n",
       "      <th>ratings</th>\n",
       "      <th>genres</th>\n",
       "      <th>box_office</th>\n",
       "      <th>restriction_int</th>\n",
       "    </tr>\n",
       "  </thead>\n",
       "  <tbody>\n",
       "  </tbody>\n",
       "</table>\n",
       "</div>"
      ],
      "text/plain": [
       "Empty DataFrame\n",
       "Columns: [title, pu_number, show_start_date, type, film_studio, production_country, director, producer, age_restriction, refundable_support, nonrefundable_support, budget, financing_source, ratings, genres, box_office, restriction_int]\n",
       "Index: []"
      ]
     },
     "execution_count": 18,
     "metadata": {},
     "output_type": "execute_result"
    }
   ],
   "source": [
    "data[data.duplicated()]"
   ]
  },
  {
   "cell_type": "markdown",
   "metadata": {},
   "source": [
    "Явных дубликатов в таблице нет. "
   ]
  },
  {
   "cell_type": "code",
   "execution_count": 19,
   "metadata": {
    "id": "aKck8RIdgFyQ"
   },
   "outputs": [
    {
     "data": {
      "text/html": [
       "<div>\n",
       "<style scoped>\n",
       "    .dataframe tbody tr th:only-of-type {\n",
       "        vertical-align: middle;\n",
       "    }\n",
       "\n",
       "    .dataframe tbody tr th {\n",
       "        vertical-align: top;\n",
       "    }\n",
       "\n",
       "    .dataframe thead th {\n",
       "        text-align: right;\n",
       "    }\n",
       "</style>\n",
       "<table border=\"1\" class=\"dataframe\">\n",
       "  <thead>\n",
       "    <tr style=\"text-align: right;\">\n",
       "      <th></th>\n",
       "      <th>title</th>\n",
       "      <th>pu_number</th>\n",
       "      <th>show_start_date</th>\n",
       "      <th>type</th>\n",
       "      <th>film_studio</th>\n",
       "      <th>production_country</th>\n",
       "      <th>director</th>\n",
       "      <th>producer</th>\n",
       "      <th>age_restriction</th>\n",
       "      <th>refundable_support</th>\n",
       "      <th>nonrefundable_support</th>\n",
       "      <th>budget</th>\n",
       "      <th>financing_source</th>\n",
       "      <th>ratings</th>\n",
       "      <th>genres</th>\n",
       "      <th>box_office</th>\n",
       "      <th>restriction_int</th>\n",
       "    </tr>\n",
       "  </thead>\n",
       "  <tbody>\n",
       "    <tr>\n",
       "      <th>4638</th>\n",
       "      <td>иоанна - женщина на папском престоле /по роман...</td>\n",
       "      <td>221154310</td>\n",
       "      <td>2010-12-17 12:00:00+00:00</td>\n",
       "      <td>художественный</td>\n",
       "      <td>константин фильм, а эр ди дегето фильм, дюне ...</td>\n",
       "      <td>германия - великобритания - италия - испания</td>\n",
       "      <td>зенке вортманн</td>\n",
       "      <td>оливер бербен, дорис д.хайнце, фарук элтан</td>\n",
       "      <td>«16+» - для детей старше 16 лет</td>\n",
       "      <td>NaN</td>\n",
       "      <td>NaN</td>\n",
       "      <td>NaN</td>\n",
       "      <td>другое</td>\n",
       "      <td>7.6</td>\n",
       "      <td>драма,мелодрама,история</td>\n",
       "      <td>NaN</td>\n",
       "      <td>16</td>\n",
       "    </tr>\n",
       "    <tr>\n",
       "      <th>5067</th>\n",
       "      <td>анализируй то!</td>\n",
       "      <td>221054410</td>\n",
       "      <td>2010-05-25 12:00:00+00:00</td>\n",
       "      <td>художественный</td>\n",
       "      <td>уорнер бразерс, виллидж роадшоу пикчерз, эн-пи...</td>\n",
       "      <td>сша</td>\n",
       "      <td>гарольд реймис</td>\n",
       "      <td>джейн розенталь, паул уэйнстейн</td>\n",
       "      <td>«12+» - для детей старше 12 лет</td>\n",
       "      <td>NaN</td>\n",
       "      <td>NaN</td>\n",
       "      <td>NaN</td>\n",
       "      <td>другое</td>\n",
       "      <td>6.8</td>\n",
       "      <td>комедия,криминал</td>\n",
       "      <td>NaN</td>\n",
       "      <td>12</td>\n",
       "    </tr>\n",
       "  </tbody>\n",
       "</table>\n",
       "</div>"
      ],
      "text/plain": [
       "                                                  title  pu_number  \\\n",
       "4638  иоанна - женщина на папском престоле /по роман...  221154310   \n",
       "5067                                     анализируй то!  221054410   \n",
       "\n",
       "               show_start_date            type  \\\n",
       "4638 2010-12-17 12:00:00+00:00  художественный   \n",
       "5067 2010-05-25 12:00:00+00:00  художественный   \n",
       "\n",
       "                                            film_studio  \\\n",
       "4638   константин фильм, а эр ди дегето фильм, дюне ...   \n",
       "5067  уорнер бразерс, виллидж роадшоу пикчерз, эн-пи...   \n",
       "\n",
       "                                production_country        director  \\\n",
       "4638  германия - великобритания - италия - испания  зенке вортманн   \n",
       "5067                                           сша  гарольд реймис   \n",
       "\n",
       "                                        producer  \\\n",
       "4638  оливер бербен, дорис д.хайнце, фарук элтан   \n",
       "5067             джейн розенталь, паул уэйнстейн   \n",
       "\n",
       "                      age_restriction  refundable_support  \\\n",
       "4638  «16+» - для детей старше 16 лет                 NaN   \n",
       "5067  «12+» - для детей старше 12 лет                 NaN   \n",
       "\n",
       "      nonrefundable_support  budget financing_source  ratings  \\\n",
       "4638                    NaN     NaN           другое      7.6   \n",
       "5067                    NaN     NaN           другое      6.8   \n",
       "\n",
       "                       genres  box_office  restriction_int  \n",
       "4638  драма,мелодрама,история         NaN               16  \n",
       "5067         комедия,криминал         NaN               12  "
      ]
     },
     "execution_count": 19,
     "metadata": {},
     "output_type": "execute_result"
    }
   ],
   "source": [
    "#Взглянем на дубликаты в столбце pu_number\n",
    "data[data.pu_number.duplicated()]"
   ]
  },
  {
   "cell_type": "markdown",
   "metadata": {},
   "source": [
    "Как мы видим, есть 2 фильма, по которым выдавалось одновременно одно прокатное удостоверение, не знаю насколько это попадает под нормативно правовую базу, но в датасете скачанном с сайта минкульта все также, оставим как есть."
   ]
  },
  {
   "cell_type": "code",
   "execution_count": 20,
   "metadata": {},
   "outputs": [
    {
     "data": {
      "text/html": [
       "<div>\n",
       "<style scoped>\n",
       "    .dataframe tbody tr th:only-of-type {\n",
       "        vertical-align: middle;\n",
       "    }\n",
       "\n",
       "    .dataframe tbody tr th {\n",
       "        vertical-align: top;\n",
       "    }\n",
       "\n",
       "    .dataframe thead th {\n",
       "        text-align: right;\n",
       "    }\n",
       "</style>\n",
       "<table border=\"1\" class=\"dataframe\">\n",
       "  <thead>\n",
       "    <tr style=\"text-align: right;\">\n",
       "      <th></th>\n",
       "      <th>title</th>\n",
       "      <th>pu_number</th>\n",
       "      <th>show_start_date</th>\n",
       "      <th>type</th>\n",
       "      <th>film_studio</th>\n",
       "      <th>production_country</th>\n",
       "      <th>director</th>\n",
       "      <th>producer</th>\n",
       "      <th>age_restriction</th>\n",
       "      <th>refundable_support</th>\n",
       "      <th>nonrefundable_support</th>\n",
       "      <th>budget</th>\n",
       "      <th>financing_source</th>\n",
       "      <th>ratings</th>\n",
       "      <th>genres</th>\n",
       "      <th>box_office</th>\n",
       "      <th>restriction_int</th>\n",
       "    </tr>\n",
       "  </thead>\n",
       "  <tbody>\n",
       "    <tr>\n",
       "      <th>3</th>\n",
       "      <td>особо опасен</td>\n",
       "      <td>221026916</td>\n",
       "      <td>2016-06-10 12:00:00+00:00</td>\n",
       "      <td>художественный</td>\n",
       "      <td>юниверсал пикчерз, кикстарт продакшнз, марк пл...</td>\n",
       "      <td>сша</td>\n",
       "      <td>тимур бекмамбетов</td>\n",
       "      <td>джим лемли, джейсон нетер, марк е.платт, яйн смит</td>\n",
       "      <td>«18+» - запрещено для детей</td>\n",
       "      <td>NaN</td>\n",
       "      <td>NaN</td>\n",
       "      <td>NaN</td>\n",
       "      <td>другое</td>\n",
       "      <td>6.8</td>\n",
       "      <td>фантастика,боевик,триллер</td>\n",
       "      <td>NaN</td>\n",
       "      <td>18</td>\n",
       "    </tr>\n",
       "    <tr>\n",
       "      <th>4</th>\n",
       "      <td>особо опасен</td>\n",
       "      <td>221030815</td>\n",
       "      <td>2015-07-29 12:00:00+00:00</td>\n",
       "      <td>художественный</td>\n",
       "      <td>юниверсал пикчерз, кикстарт продакшнз, марк пл...</td>\n",
       "      <td>сша</td>\n",
       "      <td>тимур бекмамбетов</td>\n",
       "      <td>джим лемли, джейсон нетер, марк е.платт, яйн смит</td>\n",
       "      <td>«18+» - запрещено для детей</td>\n",
       "      <td>NaN</td>\n",
       "      <td>NaN</td>\n",
       "      <td>NaN</td>\n",
       "      <td>другое</td>\n",
       "      <td>6.8</td>\n",
       "      <td>фантастика,боевик,триллер</td>\n",
       "      <td>NaN</td>\n",
       "      <td>18</td>\n",
       "    </tr>\n",
       "    <tr>\n",
       "      <th>41</th>\n",
       "      <td>алекс и эмма</td>\n",
       "      <td>221004616</td>\n",
       "      <td>2016-02-09 12:00:00+00:00</td>\n",
       "      <td>художественный</td>\n",
       "      <td>эскейп артистс, франчайз пикчерз, рейнер-грэйс...</td>\n",
       "      <td>сша</td>\n",
       "      <td>роб райнер</td>\n",
       "      <td>тодд блэк, элан грейсман, джереми левен, роб р...</td>\n",
       "      <td>«16+» - для детей старше 16 лет</td>\n",
       "      <td>NaN</td>\n",
       "      <td>NaN</td>\n",
       "      <td>NaN</td>\n",
       "      <td>другое</td>\n",
       "      <td>6.4</td>\n",
       "      <td>мелодрама,комедия</td>\n",
       "      <td>NaN</td>\n",
       "      <td>16</td>\n",
       "    </tr>\n",
       "    <tr>\n",
       "      <th>110</th>\n",
       "      <td>гарри поттер и орден феникса /по роману дж.к.р...</td>\n",
       "      <td>121026316</td>\n",
       "      <td>2016-09-23 12:00:00+00:00</td>\n",
       "      <td>художественный</td>\n",
       "      <td>уорнер бразерс, хэйдей филмз</td>\n",
       "      <td>сша - великобритания</td>\n",
       "      <td>дэвид йетс</td>\n",
       "      <td>дэйвид баррон, дэйвид хейман</td>\n",
       "      <td>«16+» - для детей старше 16 лет</td>\n",
       "      <td>NaN</td>\n",
       "      <td>NaN</td>\n",
       "      <td>NaN</td>\n",
       "      <td>другое</td>\n",
       "      <td>7.7</td>\n",
       "      <td>фэнтези,приключения,семейный</td>\n",
       "      <td>759526.00</td>\n",
       "      <td>16</td>\n",
       "    </tr>\n",
       "    <tr>\n",
       "      <th>113</th>\n",
       "      <td>гарри поттер и узник азкабана /по роману дж.к....</td>\n",
       "      <td>121026116</td>\n",
       "      <td>2016-09-23 12:00:00+00:00</td>\n",
       "      <td>художественный</td>\n",
       "      <td>хэйдей филмз, 1492 пикчерз, уорнер бразерс</td>\n",
       "      <td>сша</td>\n",
       "      <td>альфонсо куарон</td>\n",
       "      <td>майкл барната</td>\n",
       "      <td>«12+» - для детей старше 12 лет</td>\n",
       "      <td>NaN</td>\n",
       "      <td>NaN</td>\n",
       "      <td>NaN</td>\n",
       "      <td>другое</td>\n",
       "      <td>8.2</td>\n",
       "      <td>фэнтези,приключения,семейный</td>\n",
       "      <td>1125302.00</td>\n",
       "      <td>12</td>\n",
       "    </tr>\n",
       "    <tr>\n",
       "      <th>...</th>\n",
       "      <td>...</td>\n",
       "      <td>...</td>\n",
       "      <td>...</td>\n",
       "      <td>...</td>\n",
       "      <td>...</td>\n",
       "      <td>...</td>\n",
       "      <td>...</td>\n",
       "      <td>...</td>\n",
       "      <td>...</td>\n",
       "      <td>...</td>\n",
       "      <td>...</td>\n",
       "      <td>...</td>\n",
       "      <td>...</td>\n",
       "      <td>...</td>\n",
       "      <td>...</td>\n",
       "      <td>...</td>\n",
       "      <td>...</td>\n",
       "    </tr>\n",
       "    <tr>\n",
       "      <th>7368</th>\n",
       "      <td>невиновен</td>\n",
       "      <td>111019319</td>\n",
       "      <td>2019-11-07 12:00:00+00:00</td>\n",
       "      <td>художественный</td>\n",
       "      <td>ооо \"кавказфильм\"</td>\n",
       "      <td>россия</td>\n",
       "      <td>а.емкужев</td>\n",
       "      <td>а.емкужев, а.хуажева, ооо \"корпорация русская ...</td>\n",
       "      <td>«16+» - для детей старше 16 лет</td>\n",
       "      <td>NaN</td>\n",
       "      <td>NaN</td>\n",
       "      <td>NaN</td>\n",
       "      <td>другое</td>\n",
       "      <td>7.5</td>\n",
       "      <td>триллер,детектив,криминал</td>\n",
       "      <td>NaN</td>\n",
       "      <td>16</td>\n",
       "    </tr>\n",
       "    <tr>\n",
       "      <th>7415</th>\n",
       "      <td>отель \"гранд будапешт\"</td>\n",
       "      <td>121035119</td>\n",
       "      <td>2019-12-13 12:00:00+00:00</td>\n",
       "      <td>художественный</td>\n",
       "      <td>американ эмпирикал, индиан пэинтбраш, скотт ру...</td>\n",
       "      <td>германия, сша</td>\n",
       "      <td>уэс андерсен</td>\n",
       "      <td>уэс андерсон, джереми доусон, стивен рейлс</td>\n",
       "      <td>«16+» - для детей старше 16 лет</td>\n",
       "      <td>NaN</td>\n",
       "      <td>NaN</td>\n",
       "      <td>NaN</td>\n",
       "      <td>другое</td>\n",
       "      <td>7.9</td>\n",
       "      <td>комедия,приключения,детектив</td>\n",
       "      <td>NaN</td>\n",
       "      <td>16</td>\n",
       "    </tr>\n",
       "    <tr>\n",
       "      <th>7437</th>\n",
       "      <td>зверь</td>\n",
       "      <td>121035919</td>\n",
       "      <td>2019-12-05 12:00:00+00:00</td>\n",
       "      <td>художественный</td>\n",
       "      <td>студио энд нью</td>\n",
       "      <td>южная корея</td>\n",
       "      <td>ли джон-хо</td>\n",
       "      <td>чан гён-ик, чон джи-хун, пэк кён сук</td>\n",
       "      <td>«18+» - запрещено для детей</td>\n",
       "      <td>NaN</td>\n",
       "      <td>NaN</td>\n",
       "      <td>NaN</td>\n",
       "      <td>другое</td>\n",
       "      <td>6.5</td>\n",
       "      <td>триллер,драма</td>\n",
       "      <td>175003.51</td>\n",
       "      <td>18</td>\n",
       "    </tr>\n",
       "    <tr>\n",
       "      <th>7449</th>\n",
       "      <td>в тихом омуте</td>\n",
       "      <td>121036919</td>\n",
       "      <td>2019-12-09 12:00:00+00:00</td>\n",
       "      <td>художественный</td>\n",
       "      <td>хэд гир филмз, крео филмз, локал хироу, метрол...</td>\n",
       "      <td>сша</td>\n",
       "      <td>адам рэндолл</td>\n",
       "      <td>мэтт уолдек</td>\n",
       "      <td>«18+» - запрещено для детей</td>\n",
       "      <td>NaN</td>\n",
       "      <td>NaN</td>\n",
       "      <td>NaN</td>\n",
       "      <td>другое</td>\n",
       "      <td>6.8</td>\n",
       "      <td>триллер,криминал,детектив</td>\n",
       "      <td>NaN</td>\n",
       "      <td>18</td>\n",
       "    </tr>\n",
       "    <tr>\n",
       "      <th>7473</th>\n",
       "      <td>вторжение</td>\n",
       "      <td>111022519</td>\n",
       "      <td>2019-12-23 12:00:00+00:00</td>\n",
       "      <td>художественный</td>\n",
       "      <td>ооо \"арт пикчерс студия\", ооо \"водород 2011\"</td>\n",
       "      <td>россия</td>\n",
       "      <td>ф.бондарчук</td>\n",
       "      <td>ф.бондарчук, м.врубель, а.андрющенко, д.рудовский</td>\n",
       "      <td>«12+» - для детей старше 12 лет</td>\n",
       "      <td>100000000.0</td>\n",
       "      <td>400000000.0</td>\n",
       "      <td>944000000.0</td>\n",
       "      <td>фонд кино</td>\n",
       "      <td>5.7</td>\n",
       "      <td>фантастика,боевик</td>\n",
       "      <td>NaN</td>\n",
       "      <td>12</td>\n",
       "    </tr>\n",
       "  </tbody>\n",
       "</table>\n",
       "<p>723 rows × 17 columns</p>\n",
       "</div>"
      ],
      "text/plain": [
       "                                                  title  pu_number  \\\n",
       "3                                          особо опасен  221026916   \n",
       "4                                          особо опасен  221030815   \n",
       "41                                         алекс и эмма  221004616   \n",
       "110   гарри поттер и орден феникса /по роману дж.к.р...  121026316   \n",
       "113   гарри поттер и узник азкабана /по роману дж.к....  121026116   \n",
       "...                                                 ...        ...   \n",
       "7368                                          невиновен  111019319   \n",
       "7415                             отель \"гранд будапешт\"  121035119   \n",
       "7437                                              зверь  121035919   \n",
       "7449                                      в тихом омуте  121036919   \n",
       "7473                                          вторжение  111022519   \n",
       "\n",
       "               show_start_date             type  \\\n",
       "3    2016-06-10 12:00:00+00:00   художественный   \n",
       "4    2015-07-29 12:00:00+00:00   художественный   \n",
       "41   2016-02-09 12:00:00+00:00   художественный   \n",
       "110  2016-09-23 12:00:00+00:00   художественный   \n",
       "113  2016-09-23 12:00:00+00:00   художественный   \n",
       "...                        ...              ...   \n",
       "7368 2019-11-07 12:00:00+00:00   художественный   \n",
       "7415 2019-12-13 12:00:00+00:00   художественный   \n",
       "7437 2019-12-05 12:00:00+00:00   художественный   \n",
       "7449 2019-12-09 12:00:00+00:00   художественный   \n",
       "7473 2019-12-23 12:00:00+00:00   художественный   \n",
       "\n",
       "                                            film_studio    production_country  \\\n",
       "3     юниверсал пикчерз, кикстарт продакшнз, марк пл...                   сша   \n",
       "4     юниверсал пикчерз, кикстарт продакшнз, марк пл...                   сша   \n",
       "41    эскейп артистс, франчайз пикчерз, рейнер-грэйс...                   сша   \n",
       "110                        уорнер бразерс, хэйдей филмз  сша - великобритания   \n",
       "113          хэйдей филмз, 1492 пикчерз, уорнер бразерс                   сша   \n",
       "...                                                 ...                   ...   \n",
       "7368                                  ооо \"кавказфильм\"                россия   \n",
       "7415  американ эмпирикал, индиан пэинтбраш, скотт ру...         германия, сша   \n",
       "7437                                     студио энд нью           южная корея   \n",
       "7449  хэд гир филмз, крео филмз, локал хироу, метрол...                   сша   \n",
       "7473       ооо \"арт пикчерс студия\", ооо \"водород 2011\"                россия   \n",
       "\n",
       "               director                                           producer  \\\n",
       "3     тимур бекмамбетов  джим лемли, джейсон нетер, марк е.платт, яйн смит   \n",
       "4     тимур бекмамбетов  джим лемли, джейсон нетер, марк е.платт, яйн смит   \n",
       "41           роб райнер  тодд блэк, элан грейсман, джереми левен, роб р...   \n",
       "110          дэвид йетс                       дэйвид баррон, дэйвид хейман   \n",
       "113     альфонсо куарон                                      майкл барната   \n",
       "...                 ...                                                ...   \n",
       "7368          а.емкужев  а.емкужев, а.хуажева, ооо \"корпорация русская ...   \n",
       "7415       уэс андерсен         уэс андерсон, джереми доусон, стивен рейлс   \n",
       "7437         ли джон-хо               чан гён-ик, чон джи-хун, пэк кён сук   \n",
       "7449       адам рэндолл                                        мэтт уолдек   \n",
       "7473        ф.бондарчук  ф.бондарчук, м.врубель, а.андрющенко, д.рудовский   \n",
       "\n",
       "                      age_restriction  refundable_support  \\\n",
       "3         «18+» - запрещено для детей                 NaN   \n",
       "4         «18+» - запрещено для детей                 NaN   \n",
       "41    «16+» - для детей старше 16 лет                 NaN   \n",
       "110   «16+» - для детей старше 16 лет                 NaN   \n",
       "113   «12+» - для детей старше 12 лет                 NaN   \n",
       "...                               ...                 ...   \n",
       "7368  «16+» - для детей старше 16 лет                 NaN   \n",
       "7415  «16+» - для детей старше 16 лет                 NaN   \n",
       "7437      «18+» - запрещено для детей                 NaN   \n",
       "7449      «18+» - запрещено для детей                 NaN   \n",
       "7473  «12+» - для детей старше 12 лет         100000000.0   \n",
       "\n",
       "      nonrefundable_support       budget financing_source  ratings  \\\n",
       "3                       NaN          NaN           другое      6.8   \n",
       "4                       NaN          NaN           другое      6.8   \n",
       "41                      NaN          NaN           другое      6.4   \n",
       "110                     NaN          NaN           другое      7.7   \n",
       "113                     NaN          NaN           другое      8.2   \n",
       "...                     ...          ...              ...      ...   \n",
       "7368                    NaN          NaN           другое      7.5   \n",
       "7415                    NaN          NaN           другое      7.9   \n",
       "7437                    NaN          NaN           другое      6.5   \n",
       "7449                    NaN          NaN           другое      6.8   \n",
       "7473            400000000.0  944000000.0        фонд кино      5.7   \n",
       "\n",
       "                            genres  box_office  restriction_int  \n",
       "3        фантастика,боевик,триллер         NaN               18  \n",
       "4        фантастика,боевик,триллер         NaN               18  \n",
       "41               мелодрама,комедия         NaN               16  \n",
       "110   фэнтези,приключения,семейный   759526.00               16  \n",
       "113   фэнтези,приключения,семейный  1125302.00               12  \n",
       "...                            ...         ...              ...  \n",
       "7368     триллер,детектив,криминал         NaN               16  \n",
       "7415  комедия,приключения,детектив         NaN               16  \n",
       "7437                 триллер,драма   175003.51               18  \n",
       "7449     триллер,криминал,детектив         NaN               18  \n",
       "7473             фантастика,боевик         NaN               12  \n",
       "\n",
       "[723 rows x 17 columns]"
      ]
     },
     "execution_count": 20,
     "metadata": {},
     "output_type": "execute_result"
    }
   ],
   "source": [
    "data[data.title.duplicated()]"
   ]
  },
  {
   "cell_type": "markdown",
   "metadata": {},
   "source": [
    "в title дубликаты связаны с тем, что фильмам выдается несколько прокатных удостоверений для показа в кинотеатрах, тв, стриминге.\n",
    "\n",
    "title является для нас основным идентификатором"
   ]
  },
  {
   "cell_type": "markdown",
   "metadata": {
    "id": "52fOPrEBgFyQ"
   },
   "source": [
    "#### Шаг 2.4. Изучите категориальные значения\n",
    "\n",
    "- Посмотрите, какая общая проблема встречается почти во всех категориальных столбцах;\n",
    "- Исправьте проблемные значения в поле `type`.\n",
    "\n",
    "<div id=\"accordion\">\n",
    "    <div class=\"card\">\n",
    "        <div class=\"card-header\" id=\"headingThree\">\n",
    "            <button class=\"btn btn-link collapsed\" data-toggle=\"collapse\" data-target=\"#collapseHint_1\" aria-expanded=\"false\" aria-controls=\"collapseHint_1\">Подсказка</button>\n",
    "        </div>\n",
    "        <div id=\"collapseHint_1\" class=\"collapse\" aria-labelledby=\"headingThree\" data-parent=\"#accordion\">\n",
    "            <div class=\"card-body\">\n",
    "В поле <code>type</code> есть несколько значений, у которых появился пробел в начале строки. Самый простой способ их «починить» -- использовать метод <a href=\"https://pandas.pydata.org/docs/reference/api/pandas.Series.str.strip.html#pandas.Series.str.strip\">.str.strip</a>. Этот метод удаляет все пробелы, которые встречаются в начале и в конце строки. Применяют его таким образом:<br>\n",
    "<code>df['type'].str.strip()</code>\n",
    "            </div>\n",
    "        </div>\n",
    "    </div>\n",
    "</div>"
   ]
  },
  {
   "cell_type": "code",
   "execution_count": 21,
   "metadata": {
    "id": "PnXKIVdFgFyR"
   },
   "outputs": [
    {
     "data": {
      "text/plain": [
       "художественный                5901\n",
       "анимационный                   829\n",
       "прочие                         406\n",
       "документальный                 280\n",
       "научно-популярный               50\n",
       "музыкально-развлекательный       1\n",
       "Name: type, dtype: int64"
      ]
     },
     "execution_count": 21,
     "metadata": {},
     "output_type": "execute_result"
    }
   ],
   "source": [
    "data.type = data.type.str.strip()\n",
    "data.type.value_counts()"
   ]
  },
  {
   "cell_type": "code",
   "execution_count": 22,
   "metadata": {},
   "outputs": [
    {
     "data": {
      "text/plain": [
       "сша                                                                                         2172\n",
       "россия                                                                                      1805\n",
       "ссср                                                                                         347\n",
       "франция                                                                                      301\n",
       "великобритания                                                                               257\n",
       "                                                                                            ... \n",
       "испания - сша - колумбия                                                                       1\n",
       "ливан-сша                                                                                      1\n",
       "дания - швеция - великобритания - франция - германия - нидерланды - норвегия - финляндия       1\n",
       "аргентина - франция - испания                                                                  1\n",
       "оаэ - сша                                                                                      1\n",
       "Name: production_country, Length: 949, dtype: int64"
      ]
     },
     "execution_count": 22,
     "metadata": {},
     "output_type": "execute_result"
    }
   ],
   "source": [
    "#в production_country есть строки с разными разделителями, ',', ' - ', заменим на ','\n",
    "data.production_country.value_counts()"
   ]
  },
  {
   "cell_type": "code",
   "execution_count": 23,
   "metadata": {},
   "outputs": [
    {
     "data": {
      "text/plain": [
       "о.семёнова          47\n",
       "д.червяцов          17\n",
       "стивен содерберг    17\n",
       "ридли скотт         16\n",
       "тиль швайгер        14\n",
       "                    ..\n",
       "бландин ленуар       1\n",
       "аннабель арден       1\n",
       "дэнни кэннон         1\n",
       "р.верещак            1\n",
       "итан коэн            1\n",
       "Name: director, Length: 4792, dtype: int64"
      ]
     },
     "execution_count": 23,
     "metadata": {},
     "output_type": "execute_result"
    }
   ],
   "source": [
    "data.director.value_counts()"
   ]
  },
  {
   "cell_type": "code",
   "execution_count": 24,
   "metadata": {
    "id": "YbzClBxagFyS"
   },
   "outputs": [
    {
     "data": {
      "text/plain": [
       "п.смирнов                                                                                        67\n",
       "олег кузовков, дмитрий ловейко, марина ратина                                                    28\n",
       "с.сельянов                                                                                       18\n",
       "д.ловейко, о.кузовков                                                                            17\n",
       "джерри брукхаймер                                                                                11\n",
       "                                                                                                 ..\n",
       "лукас линетт-креч                                                                                 1\n",
       "т.цыварева, а.златопольский, в.воля, е.головин, а.сметанкин, с.сельянов, а.боярский, м.меннис     1\n",
       "к.мелик-авакян, л.биц                                                                             1\n",
       "кен кацумото, эндрю тайт                                                                          1\n",
       "келли буш, джулли голдштейн, фил хант                                                             1\n",
       "Name: producer, Length: 5327, dtype: int64"
      ]
     },
     "execution_count": 24,
     "metadata": {},
     "output_type": "execute_result"
    }
   ],
   "source": [
    "data.producer.value_counts()"
   ]
  },
  {
   "cell_type": "markdown",
   "metadata": {},
   "source": [
    "**Во всех столбцах наблюдается разный формат заполнения, в некоторых случаях имя указывается, полностью, в иных только инициалы, также в production_country разные разделители между странами, '-', ',', ' - ' это мешает привести все данные к одному виду.** так же присутсвуют двойные фамилии \n"
   ]
  },
  {
   "cell_type": "markdown",
   "metadata": {
    "id": "XFSN5lrEgFyR"
   },
   "source": [
    "#### Шаг 2.5. Проверьте количественные значения\n",
    "\n",
    "- Проверьте, обнаружились ли в таких столбцах подозрительные данные. Как с такими данными лучше поступить?\n",
    "\n",
    "<div id=\"accordion\">\n",
    "    <div class=\"card\">\n",
    "        <div class=\"card-header\" id=\"headingThree\">\n",
    "            <button class=\"btn btn-link collapsed\" data-toggle=\"collapse\" data-target=\"#collapseHint_budget\" aria-expanded=\"false\" aria-controls=\"collapseHint_budget\">Подсказка</button>\n",
    "        </div>\n",
    "        <div id=\"collapseHint_budget\" class=\"collapse\" aria-labelledby=\"headingThree\" data-parent=\"#accordion\">\n",
    "            <div class=\"card-body\">\n",
    "Обратите внимание на описание столбца <code>budget</code>. Как этот столбец соотносится с двумя другими: <code>refundable_support</code> и <code>nonrefundable_support</code>?\n",
    "            </div>\n",
    "        </div>\n",
    "    </div>\n",
    "</div>"
   ]
  },
  {
   "cell_type": "code",
   "execution_count": 25,
   "metadata": {},
   "outputs": [
    {
     "data": {
      "text/plain": [
       "count    3.320000e+02\n",
       "mean     1.272297e+08\n",
       "std      1.885883e+08\n",
       "min      0.000000e+00\n",
       "25%      4.200000e+07\n",
       "50%      6.864992e+07\n",
       "75%      1.419853e+08\n",
       "max      2.305074e+09\n",
       "Name: budget, dtype: float64"
      ]
     },
     "execution_count": 25,
     "metadata": {},
     "output_type": "execute_result"
    }
   ],
   "source": [
    "data.budget = data.budget.astype('int', errors='ignore')\n",
    "data.budget.describe()\n",
    "#data.budget.value_counts()"
   ]
  },
  {
   "cell_type": "code",
   "execution_count": 26,
   "metadata": {},
   "outputs": [
    {
     "data": {
      "text/plain": [
       "count    3.320000e+02\n",
       "mean     1.186446e+07\n",
       "std      2.491656e+07\n",
       "min      0.000000e+00\n",
       "25%      0.000000e+00\n",
       "50%      0.000000e+00\n",
       "75%      1.500000e+07\n",
       "max      1.800000e+08\n",
       "Name: refundable_support, dtype: float64"
      ]
     },
     "execution_count": 26,
     "metadata": {},
     "output_type": "execute_result"
    }
   ],
   "source": [
    "data.refundable_support = data.refundable_support.astype('int', errors='ignore')\n",
    "data.refundable_support.describe()"
   ]
  },
  {
   "cell_type": "code",
   "execution_count": 27,
   "metadata": {},
   "outputs": [
    {
     "data": {
      "text/plain": [
       "count    3.320000e+02\n",
       "mean     4.898099e+07\n",
       "std      5.998012e+07\n",
       "min      0.000000e+00\n",
       "25%      2.500000e+07\n",
       "50%      3.000000e+07\n",
       "75%      4.037500e+07\n",
       "max      4.000000e+08\n",
       "Name: nonrefundable_support, dtype: float64"
      ]
     },
     "execution_count": 27,
     "metadata": {},
     "output_type": "execute_result"
    }
   ],
   "source": [
    "data.nonrefundable_support = data.nonrefundable_support.astype('int', errors='ignore')\n",
    "#plt.boxplot(data[data['nonrefundable_support'].notna()]['nonrefundable_support'])\n",
    "#plt.ylim(1000000,80000000)\n",
    "data.nonrefundable_support.describe()"
   ]
  },
  {
   "cell_type": "code",
   "execution_count": 28,
   "metadata": {
    "id": "LV6qFuZLgFyV"
   },
   "outputs": [],
   "source": [
    "#посчитаем общий обьем господдержки\n",
    "data['summary_support'] = data['nonrefundable_support'] + data['refundable_support']"
   ]
  },
  {
   "cell_type": "code",
   "execution_count": 29,
   "metadata": {},
   "outputs": [
    {
     "data": {
      "text/html": [
       "<div>\n",
       "<style scoped>\n",
       "    .dataframe tbody tr th:only-of-type {\n",
       "        vertical-align: middle;\n",
       "    }\n",
       "\n",
       "    .dataframe tbody tr th {\n",
       "        vertical-align: top;\n",
       "    }\n",
       "\n",
       "    .dataframe thead th {\n",
       "        text-align: right;\n",
       "    }\n",
       "</style>\n",
       "<table border=\"1\" class=\"dataframe\">\n",
       "  <thead>\n",
       "    <tr style=\"text-align: right;\">\n",
       "      <th></th>\n",
       "      <th>title</th>\n",
       "      <th>pu_number</th>\n",
       "      <th>show_start_date</th>\n",
       "      <th>type</th>\n",
       "      <th>film_studio</th>\n",
       "      <th>production_country</th>\n",
       "      <th>director</th>\n",
       "      <th>producer</th>\n",
       "      <th>age_restriction</th>\n",
       "      <th>refundable_support</th>\n",
       "      <th>nonrefundable_support</th>\n",
       "      <th>budget</th>\n",
       "      <th>financing_source</th>\n",
       "      <th>ratings</th>\n",
       "      <th>genres</th>\n",
       "      <th>box_office</th>\n",
       "      <th>restriction_int</th>\n",
       "      <th>summary_support</th>\n",
       "    </tr>\n",
       "  </thead>\n",
       "  <tbody>\n",
       "    <tr>\n",
       "      <th>2052</th>\n",
       "      <td>14+</td>\n",
       "      <td>111023614</td>\n",
       "      <td>2014-12-19 12:00:00+00:00</td>\n",
       "      <td>художественный</td>\n",
       "      <td>ооо киностудия  \"сентябрь\"</td>\n",
       "      <td>россия</td>\n",
       "      <td>а.зайцев</td>\n",
       "      <td>о.гранина, а.зайцев</td>\n",
       "      <td>«16+» - для детей старше 16 лет</td>\n",
       "      <td>0.0</td>\n",
       "      <td>23000000.0</td>\n",
       "      <td>0.0</td>\n",
       "      <td>министерство культуры, фонд кино</td>\n",
       "      <td>6.6</td>\n",
       "      <td>мелодрама</td>\n",
       "      <td>1.023402e+07</td>\n",
       "      <td>16</td>\n",
       "      <td>23000000.0</td>\n",
       "    </tr>\n",
       "    <tr>\n",
       "      <th>2057</th>\n",
       "      <td>дуxless 2</td>\n",
       "      <td>111000415</td>\n",
       "      <td>2015-01-26 12:00:00+00:00</td>\n",
       "      <td>художественный</td>\n",
       "      <td>ооо \"киностудия \"слово\", ооо \"арт пикчерс студия\"</td>\n",
       "      <td>россия</td>\n",
       "      <td>р.прыгунов</td>\n",
       "      <td>п.ануров, ф.бондарчук, д.рудовский</td>\n",
       "      <td>«16+» - для детей старше 16 лет</td>\n",
       "      <td>0.0</td>\n",
       "      <td>75000000.0</td>\n",
       "      <td>0.0</td>\n",
       "      <td>фонд кино</td>\n",
       "      <td>6.6</td>\n",
       "      <td>драма</td>\n",
       "      <td>4.461635e+08</td>\n",
       "      <td>16</td>\n",
       "      <td>75000000.0</td>\n",
       "    </tr>\n",
       "    <tr>\n",
       "      <th>2471</th>\n",
       "      <td>воин (2015)</td>\n",
       "      <td>111017315</td>\n",
       "      <td>2015-09-28 12:00:00+00:00</td>\n",
       "      <td>художественный</td>\n",
       "      <td>ооо \"форпост продакшн\", ооо \"арт пикчерс студия\"</td>\n",
       "      <td>россия</td>\n",
       "      <td>а.андрианов</td>\n",
       "      <td>ооо \"арт пикчерс студия\"</td>\n",
       "      <td>«12+» - для детей старше 12 лет</td>\n",
       "      <td>10000000.0</td>\n",
       "      <td>70000000.0</td>\n",
       "      <td>0.0</td>\n",
       "      <td>фонд кино</td>\n",
       "      <td>7.8</td>\n",
       "      <td>боевик,драма,криминал</td>\n",
       "      <td>1.965724e+08</td>\n",
       "      <td>12</td>\n",
       "      <td>80000000.0</td>\n",
       "    </tr>\n",
       "    <tr>\n",
       "      <th>2531</th>\n",
       "      <td>бармен.</td>\n",
       "      <td>111009615</td>\n",
       "      <td>2015-05-26 12:00:00+00:00</td>\n",
       "      <td>художественный</td>\n",
       "      <td>ао \"вайт медиа\", ооо \"арт пикчерс студия\"</td>\n",
       "      <td>россия</td>\n",
       "      <td>д.штурманова</td>\n",
       "      <td>т.вайнштейн</td>\n",
       "      <td>«16+» - для детей старше 16 лет</td>\n",
       "      <td>20000000.0</td>\n",
       "      <td>0.0</td>\n",
       "      <td>0.0</td>\n",
       "      <td>фонд кино</td>\n",
       "      <td>6.2</td>\n",
       "      <td>комедия,фэнтези</td>\n",
       "      <td>6.741897e+07</td>\n",
       "      <td>16</td>\n",
       "      <td>20000000.0</td>\n",
       "    </tr>\n",
       "    <tr>\n",
       "      <th>2614</th>\n",
       "      <td>савва. сердце воина</td>\n",
       "      <td>114001715</td>\n",
       "      <td>2015-07-21 12:00:00+00:00</td>\n",
       "      <td>анимационный</td>\n",
       "      <td>ооо \"глюкоза продакшн\", ооо \"арт пикчерс студия\"</td>\n",
       "      <td>россия</td>\n",
       "      <td>м.фадеев</td>\n",
       "      <td>а.чистяков</td>\n",
       "      <td>«6+» - для детей старше 6 лет</td>\n",
       "      <td>60000000.0</td>\n",
       "      <td>100000000.0</td>\n",
       "      <td>0.0</td>\n",
       "      <td>фонд кино</td>\n",
       "      <td>4.6</td>\n",
       "      <td>мультфильм,приключения,фэнтези</td>\n",
       "      <td>1.844876e+08</td>\n",
       "      <td>6</td>\n",
       "      <td>160000000.0</td>\n",
       "    </tr>\n",
       "    <tr>\n",
       "      <th>2683</th>\n",
       "      <td>тряпичный союз</td>\n",
       "      <td>111010215</td>\n",
       "      <td>2015-06-08 12:00:00+00:00</td>\n",
       "      <td>художественный</td>\n",
       "      <td>ооо \"кинокомпания \"коктебель\"</td>\n",
       "      <td>россия</td>\n",
       "      <td>м.местецкий</td>\n",
       "      <td>р.борисевич, а.кушаев</td>\n",
       "      <td>«18+» - запрещено для детей</td>\n",
       "      <td>0.0</td>\n",
       "      <td>59000000.0</td>\n",
       "      <td>0.0</td>\n",
       "      <td>фонд кино</td>\n",
       "      <td>6.3</td>\n",
       "      <td>комедия,драма</td>\n",
       "      <td>1.957739e+06</td>\n",
       "      <td>18</td>\n",
       "      <td>59000000.0</td>\n",
       "    </tr>\n",
       "    <tr>\n",
       "      <th>2787</th>\n",
       "      <td>срочно выйду замуж</td>\n",
       "      <td>111017115</td>\n",
       "      <td>2015-09-30 12:00:00+00:00</td>\n",
       "      <td>художественный</td>\n",
       "      <td>ао \"вайт медиа\", ооо \"арт пикчерс студия\"</td>\n",
       "      <td>россия</td>\n",
       "      <td>с чекалов</td>\n",
       "      <td>ф.бондарчук, т.вайнштейн, д.рудовский</td>\n",
       "      <td>«16+» - для детей старше 16 лет</td>\n",
       "      <td>0.0</td>\n",
       "      <td>35000000.0</td>\n",
       "      <td>0.0</td>\n",
       "      <td>фонд кино</td>\n",
       "      <td>5.1</td>\n",
       "      <td>комедия,мелодрама</td>\n",
       "      <td>7.293778e+07</td>\n",
       "      <td>16</td>\n",
       "      <td>35000000.0</td>\n",
       "    </tr>\n",
       "    <tr>\n",
       "      <th>2873</th>\n",
       "      <td>помню - не помню!</td>\n",
       "      <td>111004916</td>\n",
       "      <td>2016-03-01 12:00:00+00:00</td>\n",
       "      <td>художественный</td>\n",
       "      <td>ооо \"кинофирма\"</td>\n",
       "      <td>россия</td>\n",
       "      <td>в.ровенский</td>\n",
       "      <td>ооо \"кинофирма\"</td>\n",
       "      <td>«12+» - для детей старше 12 лет</td>\n",
       "      <td>0.0</td>\n",
       "      <td>6000000.0</td>\n",
       "      <td>0.0</td>\n",
       "      <td>министерство культуры</td>\n",
       "      <td>4.3</td>\n",
       "      <td>комедия</td>\n",
       "      <td>1.536293e+07</td>\n",
       "      <td>12</td>\n",
       "      <td>6000000.0</td>\n",
       "    </tr>\n",
       "    <tr>\n",
       "      <th>3046</th>\n",
       "      <td>любовь с ограничениями</td>\n",
       "      <td>111008216</td>\n",
       "      <td>2016-04-29 12:00:00+00:00</td>\n",
       "      <td>художественный</td>\n",
       "      <td>ао \"вайт медиа\", ооо \"арт пикчерс студия\"</td>\n",
       "      <td>россия</td>\n",
       "      <td>д.тюрин</td>\n",
       "      <td>ф.бондарчук, т.вайнштейн, д.рудовский</td>\n",
       "      <td>«16+» - для детей старше 16 лет</td>\n",
       "      <td>19000000.0</td>\n",
       "      <td>51000000.0</td>\n",
       "      <td>0.0</td>\n",
       "      <td>фонд кино</td>\n",
       "      <td>6.3</td>\n",
       "      <td>комедия,мелодрама</td>\n",
       "      <td>7.029905e+07</td>\n",
       "      <td>16</td>\n",
       "      <td>70000000.0</td>\n",
       "    </tr>\n",
       "    <tr>\n",
       "      <th>3564</th>\n",
       "      <td>притяжение (2016)</td>\n",
       "      <td>111018116</td>\n",
       "      <td>2016-12-16 12:00:00+00:00</td>\n",
       "      <td>художественный</td>\n",
       "      <td>ооо \"водород 2011\",  ооо \"арт пикчерс студия\"</td>\n",
       "      <td>россия</td>\n",
       "      <td>ф.бондарчук</td>\n",
       "      <td>ооо \"арт пикчерс студия\"</td>\n",
       "      <td>«12+» - для детей старше 12 лет</td>\n",
       "      <td>0.0</td>\n",
       "      <td>250000000.0</td>\n",
       "      <td>0.0</td>\n",
       "      <td>фонд кино</td>\n",
       "      <td>5.6</td>\n",
       "      <td>фантастика</td>\n",
       "      <td>1.038321e+09</td>\n",
       "      <td>12</td>\n",
       "      <td>250000000.0</td>\n",
       "    </tr>\n",
       "    <tr>\n",
       "      <th>3674</th>\n",
       "      <td>чудо-юдо</td>\n",
       "      <td>114001817</td>\n",
       "      <td>2017-06-27 12:00:00+00:00</td>\n",
       "      <td>анимационный</td>\n",
       "      <td>ооо \"кинофирма\"</td>\n",
       "      <td>россия</td>\n",
       "      <td>а.лукичев</td>\n",
       "      <td>ооо \"кинофирма\"</td>\n",
       "      <td>«6+» - для детей старше 6 лет</td>\n",
       "      <td>20000000.0</td>\n",
       "      <td>20000000.0</td>\n",
       "      <td>0.0</td>\n",
       "      <td>фонд кино</td>\n",
       "      <td>5.2</td>\n",
       "      <td>мультфильм,фэнтези,семейный</td>\n",
       "      <td>5.510801e+07</td>\n",
       "      <td>6</td>\n",
       "      <td>40000000.0</td>\n",
       "    </tr>\n",
       "    <tr>\n",
       "      <th>3738</th>\n",
       "      <td>мифы</td>\n",
       "      <td>111004317</td>\n",
       "      <td>2017-06-07 12:00:00+00:00</td>\n",
       "      <td>художественный</td>\n",
       "      <td>ооо \"хайпфилм\", ооо \"арт пикчерс студия\"</td>\n",
       "      <td>россия</td>\n",
       "      <td>а.молочников</td>\n",
       "      <td>ф.бондарчук, д.рудовский, и.стюарт, м.османн, ...</td>\n",
       "      <td>«16+» - для детей старше 16 лет</td>\n",
       "      <td>25000000.0</td>\n",
       "      <td>20000000.0</td>\n",
       "      <td>0.0</td>\n",
       "      <td>фонд кино</td>\n",
       "      <td>4.8</td>\n",
       "      <td>комедия</td>\n",
       "      <td>5.045195e+07</td>\n",
       "      <td>16</td>\n",
       "      <td>45000000.0</td>\n",
       "    </tr>\n",
       "    <tr>\n",
       "      <th>5672</th>\n",
       "      <td>селфи</td>\n",
       "      <td>111012117</td>\n",
       "      <td>2018-02-01 12:00:00+00:00</td>\n",
       "      <td>художественный</td>\n",
       "      <td>ооо \"киностудия \"слово\", ооо \"арт пикчерс студия\"</td>\n",
       "      <td>россия</td>\n",
       "      <td>н.хомерики</td>\n",
       "      <td>п.ануров, ф.бондарчук, д.рудовский</td>\n",
       "      <td>«16+» - для детей старше 16 лет</td>\n",
       "      <td>20000000.0</td>\n",
       "      <td>40000000.0</td>\n",
       "      <td>0.0</td>\n",
       "      <td>фонд кино</td>\n",
       "      <td>5.8</td>\n",
       "      <td>триллер,драма</td>\n",
       "      <td>2.251964e+08</td>\n",
       "      <td>16</td>\n",
       "      <td>60000000.0</td>\n",
       "    </tr>\n",
       "    <tr>\n",
       "      <th>5805</th>\n",
       "      <td>два хвоста</td>\n",
       "      <td>114001018</td>\n",
       "      <td>2018-05-31 12:00:00+00:00</td>\n",
       "      <td>анимационный</td>\n",
       "      <td>ооо \"лицензионные бренды\"</td>\n",
       "      <td>россия</td>\n",
       "      <td>в.ровенский, н.лопато, в.азеев</td>\n",
       "      <td>ооо \"лицензионные бренды\"</td>\n",
       "      <td>«6+» - для детей старше 6 лет</td>\n",
       "      <td>10000000.0</td>\n",
       "      <td>60000000.0</td>\n",
       "      <td>0.0</td>\n",
       "      <td>фонд кино</td>\n",
       "      <td>5.0</td>\n",
       "      <td>мультфильм,детский</td>\n",
       "      <td>1.065143e+08</td>\n",
       "      <td>6</td>\n",
       "      <td>70000000.0</td>\n",
       "    </tr>\n",
       "    <tr>\n",
       "      <th>6007</th>\n",
       "      <td>принцесса и дракон</td>\n",
       "      <td>114003018</td>\n",
       "      <td>2018-08-23 12:00:00+00:00</td>\n",
       "      <td>анимационный</td>\n",
       "      <td>ооо \"лицензионные бренды\"</td>\n",
       "      <td>россия</td>\n",
       "      <td>м.нефедова</td>\n",
       "      <td>ооо \"лицензионные бренды\"</td>\n",
       "      <td>«6+» - для детей старше 6 лет</td>\n",
       "      <td>40000000.0</td>\n",
       "      <td>40000000.0</td>\n",
       "      <td>0.0</td>\n",
       "      <td>фонд кино</td>\n",
       "      <td>5.2</td>\n",
       "      <td>мультфильм,фэнтези,детский</td>\n",
       "      <td>8.336633e+07</td>\n",
       "      <td>6</td>\n",
       "      <td>80000000.0</td>\n",
       "    </tr>\n",
       "    <tr>\n",
       "      <th>6322</th>\n",
       "      <td>баба яга</td>\n",
       "      <td>114006518</td>\n",
       "      <td>2018-11-08 12:00:00+00:00</td>\n",
       "      <td>анимационный</td>\n",
       "      <td>ооо \"арт пикчерс студия\"</td>\n",
       "      <td>россия</td>\n",
       "      <td>в.саков</td>\n",
       "      <td>ооо \"арт пикчерс студия\", ооо \"криэйтив анимэй...</td>\n",
       "      <td>«6+» - для детей старше 6 лет</td>\n",
       "      <td>0.0</td>\n",
       "      <td>138969465.0</td>\n",
       "      <td>0.0</td>\n",
       "      <td>фонд кино</td>\n",
       "      <td>NaN</td>\n",
       "      <td>NaN</td>\n",
       "      <td>1.334699e+06</td>\n",
       "      <td>6</td>\n",
       "      <td>138969465.0</td>\n",
       "    </tr>\n",
       "    <tr>\n",
       "      <th>6822</th>\n",
       "      <td>большое путешествие</td>\n",
       "      <td>114002419</td>\n",
       "      <td>2019-04-20 12:00:00+00:00</td>\n",
       "      <td>анимационный</td>\n",
       "      <td>ооо \"лицензионные бренды\"</td>\n",
       "      <td>россия</td>\n",
       "      <td>н.лопато, в.ровенский</td>\n",
       "      <td>ооо \"лицензионные бренды\"</td>\n",
       "      <td>«6+» - для детей старше 6 лет</td>\n",
       "      <td>60000000.0</td>\n",
       "      <td>120000000.0</td>\n",
       "      <td>0.0</td>\n",
       "      <td>фонд кино</td>\n",
       "      <td>6.2</td>\n",
       "      <td>мультфильм,комедия,приключения</td>\n",
       "      <td>1.476068e+08</td>\n",
       "      <td>6</td>\n",
       "      <td>180000000.0</td>\n",
       "    </tr>\n",
       "  </tbody>\n",
       "</table>\n",
       "</div>"
      ],
      "text/plain": [
       "                       title  pu_number           show_start_date  \\\n",
       "2052                     14+  111023614 2014-12-19 12:00:00+00:00   \n",
       "2057               дуxless 2  111000415 2015-01-26 12:00:00+00:00   \n",
       "2471             воин (2015)  111017315 2015-09-28 12:00:00+00:00   \n",
       "2531                 бармен.  111009615 2015-05-26 12:00:00+00:00   \n",
       "2614     савва. сердце воина  114001715 2015-07-21 12:00:00+00:00   \n",
       "2683          тряпичный союз  111010215 2015-06-08 12:00:00+00:00   \n",
       "2787      срочно выйду замуж  111017115 2015-09-30 12:00:00+00:00   \n",
       "2873       помню - не помню!  111004916 2016-03-01 12:00:00+00:00   \n",
       "3046  любовь с ограничениями  111008216 2016-04-29 12:00:00+00:00   \n",
       "3564       притяжение (2016)  111018116 2016-12-16 12:00:00+00:00   \n",
       "3674                чудо-юдо  114001817 2017-06-27 12:00:00+00:00   \n",
       "3738                    мифы  111004317 2017-06-07 12:00:00+00:00   \n",
       "5672                   селфи  111012117 2018-02-01 12:00:00+00:00   \n",
       "5805              два хвоста  114001018 2018-05-31 12:00:00+00:00   \n",
       "6007      принцесса и дракон  114003018 2018-08-23 12:00:00+00:00   \n",
       "6322                баба яга  114006518 2018-11-08 12:00:00+00:00   \n",
       "6822     большое путешествие  114002419 2019-04-20 12:00:00+00:00   \n",
       "\n",
       "                type                                        film_studio  \\\n",
       "2052  художественный                         ооо киностудия  \"сентябрь\"   \n",
       "2057  художественный  ооо \"киностудия \"слово\", ооо \"арт пикчерс студия\"   \n",
       "2471  художественный   ооо \"форпост продакшн\", ооо \"арт пикчерс студия\"   \n",
       "2531  художественный          ао \"вайт медиа\", ооо \"арт пикчерс студия\"   \n",
       "2614    анимационный   ооо \"глюкоза продакшн\", ооо \"арт пикчерс студия\"   \n",
       "2683  художественный                      ооо \"кинокомпания \"коктебель\"   \n",
       "2787  художественный          ао \"вайт медиа\", ооо \"арт пикчерс студия\"   \n",
       "2873  художественный                                    ооо \"кинофирма\"   \n",
       "3046  художественный          ао \"вайт медиа\", ооо \"арт пикчерс студия\"   \n",
       "3564  художественный      ооо \"водород 2011\",  ооо \"арт пикчерс студия\"   \n",
       "3674    анимационный                                    ооо \"кинофирма\"   \n",
       "3738  художественный           ооо \"хайпфилм\", ооо \"арт пикчерс студия\"   \n",
       "5672  художественный  ооо \"киностудия \"слово\", ооо \"арт пикчерс студия\"   \n",
       "5805    анимационный                          ооо \"лицензионные бренды\"   \n",
       "6007    анимационный                          ооо \"лицензионные бренды\"   \n",
       "6322    анимационный                           ооо \"арт пикчерс студия\"   \n",
       "6822    анимационный                          ооо \"лицензионные бренды\"   \n",
       "\n",
       "     production_country                        director  \\\n",
       "2052             россия                        а.зайцев   \n",
       "2057             россия                      р.прыгунов   \n",
       "2471             россия                     а.андрианов   \n",
       "2531             россия                    д.штурманова   \n",
       "2614             россия                        м.фадеев   \n",
       "2683             россия                     м.местецкий   \n",
       "2787             россия                       с чекалов   \n",
       "2873             россия                     в.ровенский   \n",
       "3046             россия                         д.тюрин   \n",
       "3564             россия                     ф.бондарчук   \n",
       "3674             россия                       а.лукичев   \n",
       "3738             россия                    а.молочников   \n",
       "5672             россия                      н.хомерики   \n",
       "5805             россия  в.ровенский, н.лопато, в.азеев   \n",
       "6007             россия                      м.нефедова   \n",
       "6322             россия                         в.саков   \n",
       "6822             россия           н.лопато, в.ровенский   \n",
       "\n",
       "                                               producer  \\\n",
       "2052                                о.гранина, а.зайцев   \n",
       "2057                 п.ануров, ф.бондарчук, д.рудовский   \n",
       "2471                           ооо \"арт пикчерс студия\"   \n",
       "2531                                        т.вайнштейн   \n",
       "2614                                         а.чистяков   \n",
       "2683                              р.борисевич, а.кушаев   \n",
       "2787              ф.бондарчук, т.вайнштейн, д.рудовский   \n",
       "2873                                    ооо \"кинофирма\"   \n",
       "3046              ф.бондарчук, т.вайнштейн, д.рудовский   \n",
       "3564                           ооо \"арт пикчерс студия\"   \n",
       "3674                                    ооо \"кинофирма\"   \n",
       "3738  ф.бондарчук, д.рудовский, и.стюарт, м.османн, ...   \n",
       "5672                 п.ануров, ф.бондарчук, д.рудовский   \n",
       "5805                          ооо \"лицензионные бренды\"   \n",
       "6007                          ооо \"лицензионные бренды\"   \n",
       "6322  ооо \"арт пикчерс студия\", ооо \"криэйтив анимэй...   \n",
       "6822                          ооо \"лицензионные бренды\"   \n",
       "\n",
       "                      age_restriction  refundable_support  \\\n",
       "2052  «16+» - для детей старше 16 лет                 0.0   \n",
       "2057  «16+» - для детей старше 16 лет                 0.0   \n",
       "2471  «12+» - для детей старше 12 лет          10000000.0   \n",
       "2531  «16+» - для детей старше 16 лет          20000000.0   \n",
       "2614    «6+» - для детей старше 6 лет          60000000.0   \n",
       "2683      «18+» - запрещено для детей                 0.0   \n",
       "2787  «16+» - для детей старше 16 лет                 0.0   \n",
       "2873  «12+» - для детей старше 12 лет                 0.0   \n",
       "3046  «16+» - для детей старше 16 лет          19000000.0   \n",
       "3564  «12+» - для детей старше 12 лет                 0.0   \n",
       "3674    «6+» - для детей старше 6 лет          20000000.0   \n",
       "3738  «16+» - для детей старше 16 лет          25000000.0   \n",
       "5672  «16+» - для детей старше 16 лет          20000000.0   \n",
       "5805    «6+» - для детей старше 6 лет          10000000.0   \n",
       "6007    «6+» - для детей старше 6 лет          40000000.0   \n",
       "6322    «6+» - для детей старше 6 лет                 0.0   \n",
       "6822    «6+» - для детей старше 6 лет          60000000.0   \n",
       "\n",
       "      nonrefundable_support  budget                  financing_source  \\\n",
       "2052             23000000.0     0.0  министерство культуры, фонд кино   \n",
       "2057             75000000.0     0.0                         фонд кино   \n",
       "2471             70000000.0     0.0                         фонд кино   \n",
       "2531                    0.0     0.0                         фонд кино   \n",
       "2614            100000000.0     0.0                         фонд кино   \n",
       "2683             59000000.0     0.0                         фонд кино   \n",
       "2787             35000000.0     0.0                         фонд кино   \n",
       "2873              6000000.0     0.0             министерство культуры   \n",
       "3046             51000000.0     0.0                         фонд кино   \n",
       "3564            250000000.0     0.0                         фонд кино   \n",
       "3674             20000000.0     0.0                         фонд кино   \n",
       "3738             20000000.0     0.0                         фонд кино   \n",
       "5672             40000000.0     0.0                         фонд кино   \n",
       "5805             60000000.0     0.0                         фонд кино   \n",
       "6007             40000000.0     0.0                         фонд кино   \n",
       "6322            138969465.0     0.0                         фонд кино   \n",
       "6822            120000000.0     0.0                         фонд кино   \n",
       "\n",
       "      ratings                          genres    box_office  restriction_int  \\\n",
       "2052      6.6                       мелодрама  1.023402e+07               16   \n",
       "2057      6.6                           драма  4.461635e+08               16   \n",
       "2471      7.8           боевик,драма,криминал  1.965724e+08               12   \n",
       "2531      6.2                 комедия,фэнтези  6.741897e+07               16   \n",
       "2614      4.6  мультфильм,приключения,фэнтези  1.844876e+08                6   \n",
       "2683      6.3                   комедия,драма  1.957739e+06               18   \n",
       "2787      5.1               комедия,мелодрама  7.293778e+07               16   \n",
       "2873      4.3                         комедия  1.536293e+07               12   \n",
       "3046      6.3               комедия,мелодрама  7.029905e+07               16   \n",
       "3564      5.6                      фантастика  1.038321e+09               12   \n",
       "3674      5.2     мультфильм,фэнтези,семейный  5.510801e+07                6   \n",
       "3738      4.8                         комедия  5.045195e+07               16   \n",
       "5672      5.8                   триллер,драма  2.251964e+08               16   \n",
       "5805      5.0              мультфильм,детский  1.065143e+08                6   \n",
       "6007      5.2      мультфильм,фэнтези,детский  8.336633e+07                6   \n",
       "6322      NaN                             NaN  1.334699e+06                6   \n",
       "6822      6.2  мультфильм,комедия,приключения  1.476068e+08                6   \n",
       "\n",
       "      summary_support  \n",
       "2052       23000000.0  \n",
       "2057       75000000.0  \n",
       "2471       80000000.0  \n",
       "2531       20000000.0  \n",
       "2614      160000000.0  \n",
       "2683       59000000.0  \n",
       "2787       35000000.0  \n",
       "2873        6000000.0  \n",
       "3046       70000000.0  \n",
       "3564      250000000.0  \n",
       "3674       40000000.0  \n",
       "3738       45000000.0  \n",
       "5672       60000000.0  \n",
       "5805       70000000.0  \n",
       "6007       80000000.0  \n",
       "6322      138969465.0  \n",
       "6822      180000000.0  "
      ]
     },
     "metadata": {},
     "output_type": "display_data"
    }
   ],
   "source": [
    "#мы обнаружили 17 фильмов, у которых есть господдержка, но указан нулевой бюджет,\n",
    "#мы можем взять данные из открытых источников \n",
    "#(к примеру строка 2057 духлесс 2 исмеет бюджет на кинопоиске равный ₽ 140 000 000, а обьем господдержки составил ₽ 75 000 000)\n",
    "#если мы возьмем значения из таблицы, у нас появятся фильмы на 100% спонсируемые из госбюджета\n",
    "#учитывая, что их всего 315, это 5,4% от общего обьема данных\n",
    "display(data.loc[data['budget'] < (data['nonrefundable_support'] + data['refundable_support'])])\n",
    "#data['budget'] = data['budget'].where(data['budget'] == 0, (data['nonrefundable_support'] + data['refundable_support']))"
   ]
  },
  {
   "cell_type": "markdown",
   "metadata": {
    "id": "Eu6oWp2CgFyS"
   },
   "source": [
    "#### Шаг 2.6. Добавьте новые столбцы\n",
    "\n",
    "\n",
    "\n"
   ]
  },
  {
   "cell_type": "markdown",
   "metadata": {
    "id": "7GgW-UpAgFyS"
   },
   "source": [
    "- Создайте столбец с информацией о годе проката. Выделите год из даты премьеры фильма."
   ]
  },
  {
   "cell_type": "code",
   "execution_count": 30,
   "metadata": {
    "id": "I-yd1DkWgFyT"
   },
   "outputs": [
    {
     "data": {
      "text/html": [
       "<div>\n",
       "<style scoped>\n",
       "    .dataframe tbody tr th:only-of-type {\n",
       "        vertical-align: middle;\n",
       "    }\n",
       "\n",
       "    .dataframe tbody tr th {\n",
       "        vertical-align: top;\n",
       "    }\n",
       "\n",
       "    .dataframe thead th {\n",
       "        text-align: right;\n",
       "    }\n",
       "</style>\n",
       "<table border=\"1\" class=\"dataframe\">\n",
       "  <thead>\n",
       "    <tr style=\"text-align: right;\">\n",
       "      <th></th>\n",
       "      <th>title</th>\n",
       "      <th>pu_number</th>\n",
       "      <th>show_start_date</th>\n",
       "      <th>type</th>\n",
       "      <th>film_studio</th>\n",
       "      <th>production_country</th>\n",
       "      <th>director</th>\n",
       "      <th>producer</th>\n",
       "      <th>age_restriction</th>\n",
       "      <th>refundable_support</th>\n",
       "      <th>nonrefundable_support</th>\n",
       "      <th>budget</th>\n",
       "      <th>financing_source</th>\n",
       "      <th>ratings</th>\n",
       "      <th>genres</th>\n",
       "      <th>box_office</th>\n",
       "      <th>restriction_int</th>\n",
       "      <th>summary_support</th>\n",
       "      <th>start_year</th>\n",
       "    </tr>\n",
       "  </thead>\n",
       "  <tbody>\n",
       "    <tr>\n",
       "      <th>0</th>\n",
       "      <td>открытый простор</td>\n",
       "      <td>221048915</td>\n",
       "      <td>2015-11-27 12:00:00+00:00</td>\n",
       "      <td>художественный</td>\n",
       "      <td>тачстоун пикчерз, кобальт пикчерз, бикон пикче...</td>\n",
       "      <td>сша</td>\n",
       "      <td>кевин костнер</td>\n",
       "      <td>дэвид валдес, кевин костнер, джейк эбертс</td>\n",
       "      <td>«18+» - запрещено для детей</td>\n",
       "      <td>NaN</td>\n",
       "      <td>NaN</td>\n",
       "      <td>NaN</td>\n",
       "      <td>другое</td>\n",
       "      <td>7.2</td>\n",
       "      <td>боевик,драма,мелодрама</td>\n",
       "      <td>NaN</td>\n",
       "      <td>18</td>\n",
       "      <td>NaN</td>\n",
       "      <td>2015</td>\n",
       "    </tr>\n",
       "    <tr>\n",
       "      <th>1</th>\n",
       "      <td>особо важное задание</td>\n",
       "      <td>111013716</td>\n",
       "      <td>2016-09-13 12:00:00+00:00</td>\n",
       "      <td>художественный</td>\n",
       "      <td>киностудия \"мосфильм\"</td>\n",
       "      <td>ссср</td>\n",
       "      <td>е.матвеев</td>\n",
       "      <td>NaN</td>\n",
       "      <td>«6+» - для детей старше 6 лет</td>\n",
       "      <td>NaN</td>\n",
       "      <td>NaN</td>\n",
       "      <td>NaN</td>\n",
       "      <td>другое</td>\n",
       "      <td>6.6</td>\n",
       "      <td>драма,военный</td>\n",
       "      <td>NaN</td>\n",
       "      <td>6</td>\n",
       "      <td>NaN</td>\n",
       "      <td>2016</td>\n",
       "    </tr>\n",
       "  </tbody>\n",
       "</table>\n",
       "</div>"
      ],
      "text/plain": [
       "                  title  pu_number           show_start_date            type  \\\n",
       "0      открытый простор  221048915 2015-11-27 12:00:00+00:00  художественный   \n",
       "1  особо важное задание  111013716 2016-09-13 12:00:00+00:00  художественный   \n",
       "\n",
       "                                         film_studio production_country  \\\n",
       "0  тачстоун пикчерз, кобальт пикчерз, бикон пикче...                сша   \n",
       "1                              киностудия \"мосфильм\"               ссср   \n",
       "\n",
       "        director                                   producer  \\\n",
       "0  кевин костнер  дэвид валдес, кевин костнер, джейк эбертс   \n",
       "1      е.матвеев                                        NaN   \n",
       "\n",
       "                 age_restriction  refundable_support  nonrefundable_support  \\\n",
       "0    «18+» - запрещено для детей                 NaN                    NaN   \n",
       "1  «6+» - для детей старше 6 лет                 NaN                    NaN   \n",
       "\n",
       "   budget financing_source  ratings                  genres  box_office  \\\n",
       "0     NaN           другое      7.2  боевик,драма,мелодрама         NaN   \n",
       "1     NaN           другое      6.6           драма,военный         NaN   \n",
       "\n",
       "   restriction_int  summary_support  start_year  \n",
       "0               18              NaN        2015  \n",
       "1                6              NaN        2016  "
      ]
     },
     "execution_count": 30,
     "metadata": {},
     "output_type": "execute_result"
    }
   ],
   "source": [
    "data['start_year'] = data['show_start_date'].dt.year\n",
    "data.head(2)"
   ]
  },
  {
   "cell_type": "markdown",
   "metadata": {
    "id": "nFTDLDYOgFyT"
   },
   "source": [
    "- Создайте два столбца: с именем и фамилией главного режиссёра и основным жанром фильма. В столбцы войдут первые значения из списка режиссёров и жанров соответственно.\n",
    "\n",
    "<div id=\"accordion\">\n",
    "    <div class=\"card\">\n",
    "        <div class=\"card-header\" id=\"headingThree\">\n",
    "            <button class=\"btn btn-link collapsed\" data-toggle=\"collapse\" data-target=\"#collapseHint_2\" aria-expanded=\"false\" aria-controls=\"collapseHint_2\">Подсказка</button>\n",
    "        </div>\n",
    "        <div id=\"collapseHint_2\" class=\"collapse\" aria-labelledby=\"headingThree\" data-parent=\"#accordion\">\n",
    "            <div class=\"card-body\">\n",
    "Чтобы создать такие столбцы, лучше всего использовать собственную функцию. Эту функцию можно применить к двум столбцам сразу. \n",
    "            </div>\n",
    "        </div>\n",
    "    </div>\n",
    "</div>"
   ]
  },
  {
   "cell_type": "code",
   "execution_count": 31,
   "metadata": {
    "id": "LSbRZKbMgFyU"
   },
   "outputs": [
    {
     "data": {
      "text/plain": [
       "array(['боевик', 'драма', 'фантастика', 'мелодрама', 'мюзикл', 'комедия',\n",
       "       'триллер', 'ужасы', 'мультфильм', nan, 'военный', 'документальный',\n",
       "       'фэнтези', 'криминал', 'приключения', 'аниме', 'детектив',\n",
       "       'для взрослых', 'семейный', 'концерт', 'история',\n",
       "       'короткометражка', 'детский', 'спорт', 'биография', 'вестерн',\n",
       "       'музыка', 'фильм-нуар', 'реальное тв'], dtype=object)"
      ]
     },
     "execution_count": 31,
     "metadata": {},
     "output_type": "execute_result"
    }
   ],
   "source": [
    "data['main_director'] = data.director.str.split(n=1).str[0]\n",
    "data['main_genre'] = data.genres.str.split(\",\", n=1).str[0]\n",
    "data['main_genre'].unique()"
   ]
  },
  {
   "cell_type": "markdown",
   "metadata": {
    "id": "1FsCXHwdgFyU"
   },
   "source": [
    "- Посчитайте, какую долю от общего бюджета фильма составляет государственная поддержка."
   ]
  },
  {
   "cell_type": "code",
   "execution_count": 32,
   "metadata": {},
   "outputs": [],
   "source": [
    "data['gov_part'] = data['summary_support'] / data['budget']"
   ]
  },
  {
   "cell_type": "markdown",
   "metadata": {
    "id": "6t4EukPLgFyV"
   },
   "source": [
    "### Шаг 3. Проведите исследовательский анализ данных\n"
   ]
  },
  {
   "cell_type": "markdown",
   "metadata": {
    "id": "vAH8WCzugFyV"
   },
   "source": [
    "- Посмотрите, сколько фильмов выходило в прокат каждый год. Обратите внимание, что данные о прокате в кинотеатрах известны не для всех фильмов. Посчитайте, какую долю составляют фильмы с указанной информацией о прокате в кинотеатрах."
   ]
  },
  {
   "cell_type": "code",
   "execution_count": 33,
   "metadata": {
    "id": "ABeV47y7gFyW"
   },
   "outputs": [
    {
     "data": {
      "text/plain": [
       "<AxesSubplot:xlabel='start_year'>"
      ]
     },
     "execution_count": 33,
     "metadata": {},
     "output_type": "execute_result"
    },
    {
     "data": {
      "image/png": "[encoded data removed]",
      "text/plain": [
       "<Figure size 432x288 with 1 Axes>"
      ]
     },
     "metadata": {
      "needs_background": "light"
     },
     "output_type": "display_data"
    }
   ],
   "source": [
    "#построим график выхода премьер по годам.\n",
    "years_count = data.groupby(by='start_year',).count()\n",
    "years_count['box_office'].plot()\n",
    "years_count['title'].plot()"
   ]
  },
  {
   "cell_type": "markdown",
   "metadata": {},
   "source": [
    "Как можно видеть из графика, количество кинотеатральных премьер росло год от года со 100 до 550 с проседанием в 2017.\n",
    "по общему количеству вылданных прокатных удостоверений ситуация несколько иная, есть большой спад с 1000 в 2010 до 600 в 2011\n",
    "далее есть небольшое проседание в 2015 и сильное падение в 2017 году, как и в  2017, это характерно и для кинопроката и проката в общем"
   ]
  },
  {
   "cell_type": "code",
   "execution_count": 34,
   "metadata": {},
   "outputs": [
    {
     "data": {
      "text/plain": [
       "<AxesSubplot:xlabel='start_year'>"
      ]
     },
     "execution_count": 34,
     "metadata": {},
     "output_type": "execute_result"
    },
    {
     "data": {
      "image/png": "[encoded data removed]",
      "text/plain": [
       "<Figure size 432x288 with 1 Axes>"
      ]
     },
     "metadata": {
      "needs_background": "light"
     },
     "output_type": "display_data"
    }
   ],
   "source": [
    "#проанализируем долю фильмов выходивших в кинопрокат ото всех\n",
    "years_count['delta'] = years_count['box_office'] / years_count['title']\n",
    "years_count['delta'].plot()"
   ]
  },
  {
   "cell_type": "markdown",
   "metadata": {
    "id": "BEOdcIrIgFyW"
   },
   "source": [
    "- Изучите, как менялась динамика проката по годам. В каком году сумма сборов была минимальной? А максимальной?"
   ]
  },
  {
   "cell_type": "code",
   "execution_count": 35,
   "metadata": {
    "id": "tfEhofYvgFyX"
   },
   "outputs": [
    {
     "data": {
      "text/plain": [
       "<AxesSubplot:xlabel='start_year'>"
      ]
     },
     "execution_count": 35,
     "metadata": {},
     "output_type": "execute_result"
    },
    {
     "data": {
      "image/png": "[encoded data removed]",
      "text/plain": [
       "<Figure size 432x288 with 1 Axes>"
      ]
     },
     "metadata": {
      "needs_background": "light"
     },
     "output_type": "display_data"
    }
   ],
   "source": [
    "#датой начала сбора данных о бокс офисе можем посчитать 2014 год, сумма сборов очень сильно меняется от 1 миллиарда рубей в 14 до 5 в 2018 году\n",
    "data.pivot_table(index='start_year', values='box_office', aggfunc='sum').plot()"
   ]
  },
  {
   "cell_type": "markdown",
   "metadata": {
    "id": "G-7qS-N-gFyY"
   },
   "source": [
    "- С помощью сводной таблицы посчитайте среднюю и медианную сумму сборов для каждого года."
   ]
  },
  {
   "cell_type": "code",
   "execution_count": 36,
   "metadata": {
    "id": "jmp-rgg9gFyY"
   },
   "outputs": [
    {
     "data": {
      "text/html": [
       "<div>\n",
       "<style scoped>\n",
       "    .dataframe tbody tr th:only-of-type {\n",
       "        vertical-align: middle;\n",
       "    }\n",
       "\n",
       "    .dataframe tbody tr th {\n",
       "        vertical-align: top;\n",
       "    }\n",
       "\n",
       "    .dataframe thead th {\n",
       "        text-align: right;\n",
       "    }\n",
       "</style>\n",
       "<table border=\"1\" class=\"dataframe\">\n",
       "  <thead>\n",
       "    <tr style=\"text-align: right;\">\n",
       "      <th></th>\n",
       "      <th>mean</th>\n",
       "      <th>median</th>\n",
       "    </tr>\n",
       "    <tr>\n",
       "      <th>start_year</th>\n",
       "      <th></th>\n",
       "      <th></th>\n",
       "    </tr>\n",
       "  </thead>\n",
       "  <tbody>\n",
       "    <tr>\n",
       "      <th>2010</th>\n",
       "      <td>23130</td>\n",
       "      <td>1700</td>\n",
       "    </tr>\n",
       "    <tr>\n",
       "      <th>2011</th>\n",
       "      <td>129383</td>\n",
       "      <td>3000</td>\n",
       "    </tr>\n",
       "    <tr>\n",
       "      <th>2012</th>\n",
       "      <td>54339</td>\n",
       "      <td>5660</td>\n",
       "    </tr>\n",
       "    <tr>\n",
       "      <th>2013</th>\n",
       "      <td>161954</td>\n",
       "      <td>3522</td>\n",
       "    </tr>\n",
       "    <tr>\n",
       "      <th>2014</th>\n",
       "      <td>26684415</td>\n",
       "      <td>18160</td>\n",
       "    </tr>\n",
       "    <tr>\n",
       "      <th>2015</th>\n",
       "      <td>84940570</td>\n",
       "      <td>4920933</td>\n",
       "    </tr>\n",
       "    <tr>\n",
       "      <th>2016</th>\n",
       "      <td>91000569</td>\n",
       "      <td>3846679</td>\n",
       "    </tr>\n",
       "    <tr>\n",
       "      <th>2017</th>\n",
       "      <td>136032793</td>\n",
       "      <td>9968340</td>\n",
       "    </tr>\n",
       "    <tr>\n",
       "      <th>2018</th>\n",
       "      <td>104785573</td>\n",
       "      <td>8911533</td>\n",
       "    </tr>\n",
       "    <tr>\n",
       "      <th>2019</th>\n",
       "      <td>91369261</td>\n",
       "      <td>4627798</td>\n",
       "    </tr>\n",
       "  </tbody>\n",
       "</table>\n",
       "</div>"
      ],
      "text/plain": [
       "                 mean   median\n",
       "start_year                    \n",
       "2010            23130     1700\n",
       "2011           129383     3000\n",
       "2012            54339     5660\n",
       "2013           161954     3522\n",
       "2014         26684415    18160\n",
       "2015         84940570  4920933\n",
       "2016         91000569  3846679\n",
       "2017        136032793  9968340\n",
       "2018        104785573  8911533\n",
       "2019         91369261  4627798"
      ]
     },
     "execution_count": 36,
     "metadata": {},
     "output_type": "execute_result"
    },
    {
     "data": {
      "image/png": "[encoded data removed]",
      "text/plain": [
       "<Figure size 432x288 with 1 Axes>"
      ]
     },
     "metadata": {
      "needs_background": "light"
     },
     "output_type": "display_data"
    }
   ],
   "source": [
    "#очень большой и очень ничего не говорящий нам разброс. есть хорошие фильмы, есть плохие\n",
    "box_office_by_year = data[data.box_office.notna()].pivot_table(\n",
    "    index='start_year', values='box_office', aggfunc=('mean', 'median')\n",
    ")\n",
    "box_office_by_year['median'] = box_office_by_year['median'].astype('int')\n",
    "box_office_by_year['mean'] = box_office_by_year['mean'].astype('int')\n",
    "box_office_by_year.plot()\n",
    "box_office_by_year"
   ]
  },
  {
   "cell_type": "markdown",
   "metadata": {
    "id": "Ok89WFwJgFyZ"
   },
   "source": [
    "- Определите, влияет ли возрастное ограничение аудитории («6+», «12+», «16+», «18+» и т. д.) на сборы фильма в прокате в период с 2015 по 2019 год? Фильмы с каким возрастным ограничением собрали больше всего денег в прокате? Меняется ли картина в зависимости от года? Если да, предположите, с чем это может быть связано."
   ]
  },
  {
   "cell_type": "markdown",
   "metadata": {},
   "source": [
    "на графике видно, что основная прибыль идет от фильмов 16+, полагаю что это связано с тем, что на нее идет основная масса платящей аудитории, которая в основном посещает кинотеатры по собственному желанию, дети до 14 лет не располагают возможностью самостоятельно пойти в кино и не имеют собственных средств"
   ]
  },
  {
   "cell_type": "code",
   "execution_count": 37,
   "metadata": {
    "id": "jsSbEqfjgFya"
   },
   "outputs": [
    {
     "data": {
      "text/plain": [
       "([<matplotlib.axis.XTick at 0x7f3922b40310>,\n",
       "  <matplotlib.axis.XTick at 0x7f3922b402e0>,\n",
       "  <matplotlib.axis.XTick at 0x7f3922b6a9d0>,\n",
       "  <matplotlib.axis.XTick at 0x7f3922b04460>,\n",
       "  <matplotlib.axis.XTick at 0x7f3922b04970>],\n",
       " [Text(0, 0, ''),\n",
       "  Text(0, 0, ''),\n",
       "  Text(0, 0, ''),\n",
       "  Text(0, 0, ''),\n",
       "  Text(0, 0, '')])"
      ]
     },
     "execution_count": 37,
     "metadata": {},
     "output_type": "execute_result"
    },
    {
     "data": {
      "image/png": "[encoded data removed]",
      "text/plain": [
       "<Figure size 432x288 with 1 Axes>"
      ]
     },
     "metadata": {
      "needs_background": "light"
     },
     "output_type": "display_data"
    }
   ],
   "source": [
    "#проанализируем сборы год к к году в зависимости от возрастной категории. \n",
    "year_pivot = data.query('start_year >= 2015').pivot_table(index='start_year', columns='restriction_int', values='box_office', aggfunc='sum')\n",
    "year_pivot=year_pivot.astype('int')\n",
    "year_pivot.plot()\n",
    "plt.xticks(np.arange(2015, 2020, 1))"
   ]
  },
  {
   "cell_type": "markdown",
   "metadata": {
    "id": "l_Kg6Ku4gFya"
   },
   "source": [
    "### Шаг 4. Исследуйте фильмы, которые получили государственную поддержку\n",
    "\n",
    "На этом этапе нет конкретных инструкций и заданий — поищите интересные закономерности в данных. Посмотрите, сколько выделяют средств на поддержку кино. Проверьте, хорошо ли окупаются такие фильмы, какой у них рейтинг."
   ]
  },
  {
   "cell_type": "code",
   "execution_count": 38,
   "metadata": {
    "id": "W9QKpjUdgFyb"
   },
   "outputs": [
    {
     "data": {
      "text/plain": [
       "20200688312.0"
      ]
     },
     "execution_count": 38,
     "metadata": {},
     "output_type": "execute_result"
    }
   ],
   "source": [
    "films_supported = data[data.budget.notna()]\n",
    "films_supported.summary_support.sum()"
   ]
  },
  {
   "cell_type": "code",
   "execution_count": 39,
   "metadata": {},
   "outputs": [
    {
     "data": {
      "text/plain": [
       "main_director\n",
       "ф.бондарчук      650000000.0\n",
       "н.хомерики       540000000.0\n",
       "а.мегердичев     400000000.0\n",
       "а.кравчук        400000000.0\n",
       "н.лебедев        392104482.0\n",
       "а.мизгирев       300000000.0\n",
       "р.давлетьяров    287000000.0\n",
       "к.шипенко        287000000.0\n",
       "в.тодоровский    270000000.0\n",
       "п.лунгин         263000000.0\n",
       "д.козловский     260000000.0\n",
       "с.андреасян      260000000.0\n",
       "д.тюрин          251000000.0\n",
       "ф.дмитриев       250000000.0\n",
       "и.шурховецкий    250000000.0\n",
       "и.джендубаев     250000000.0\n",
       "р.прыгунов       215000000.0\n",
       "а.учитель        190000000.0\n",
       "д.дьяченко       180000000.0\n",
       "д.киселев        175000000.0\n",
       "Name: nonrefundable_support, dtype: float64"
      ]
     },
     "execution_count": 39,
     "metadata": {},
     "output_type": "execute_result"
    }
   ],
   "source": [
    "films_supported.groupby(by='main_director')['nonrefundable_support'].sum().sort_values(ascending=False).head(20)"
   ]
  },
  {
   "cell_type": "code",
   "execution_count": 40,
   "metadata": {},
   "outputs": [
    {
     "data": {
      "text/plain": [
       "main_director\n",
       "о.степченко       180000000.0\n",
       "д.дьяченко        171000000.0\n",
       "а.мизгирев        150000000.0\n",
       "н.хомерики        120000000.0\n",
       "к.бронзит         115000000.0\n",
       "а.учитель         110000000.0\n",
       "ю.васильев        110000000.0\n",
       "ф.бондарчук       100000000.0\n",
       "а.кравчук         100000000.0\n",
       "и.шурховецкий     100000000.0\n",
       "д.шмидт,          100000000.0\n",
       "а.цицилин          90000000.0\n",
       "в.бедошвили,       80000000.0\n",
       "д.киселев          75000000.0\n",
       "т.бекмамбетов,     75000000.0\n",
       "с.андреасян        65000000.0\n",
       "р.давлетьяров      65000000.0\n",
       "а.сидоров          60000000.0\n",
       "н.лопато,          60000000.0\n",
       "а.цицилин,         60000000.0\n",
       "Name: refundable_support, dtype: float64"
      ]
     },
     "execution_count": 40,
     "metadata": {},
     "output_type": "execute_result"
    }
   ],
   "source": [
    "films_supported.groupby(by='main_director')['refundable_support'].sum().sort_values(ascending=False).head(20)"
   ]
  },
  {
   "cell_type": "code",
   "execution_count": 41,
   "metadata": {},
   "outputs": [
    {
     "data": {
      "text/plain": [
       "main_genre\n",
       "мультфильм     930000000.0\n",
       "комедия        796500000.0\n",
       "драма          628346881.0\n",
       "приключения    255000000.0\n",
       "фэнтези        233000000.0\n",
       "история        200000000.0\n",
       "фантастика     190000000.0\n",
       "мюзикл         152153119.0\n",
       "триллер        130000000.0\n",
       "ужасы          111000000.0\n",
       "детектив        55000000.0\n",
       "семейный        41000000.0\n",
       "военный         40000000.0\n",
       "боевик          29000000.0\n",
       "реальное тв     28000000.0\n",
       "криминал        25000000.0\n",
       "мелодрама       25000000.0\n",
       "детский                0.0\n",
       "спорт                  0.0\n",
       "биография              0.0\n",
       "Name: refundable_support, dtype: float64"
      ]
     },
     "execution_count": 41,
     "metadata": {},
     "output_type": "execute_result"
    }
   ],
   "source": [
    "films_supported.groupby(by='main_genre')['refundable_support'].sum().sort_values(ascending=False).head(20)"
   ]
  },
  {
   "cell_type": "code",
   "execution_count": 42,
   "metadata": {},
   "outputs": [
    {
     "data": {
      "text/plain": [
       "main_genre\n",
       "комедия        28\n",
       "мультфильм     21\n",
       "драма          17\n",
       "триллер         7\n",
       "ужасы           6\n",
       "фэнтези         5\n",
       "мюзикл          4\n",
       "криминал        3\n",
       "фантастика      3\n",
       "военный         2\n",
       "приключения     2\n",
       "семейный        2\n",
       "история         2\n",
       "детектив        2\n",
       "боевик          2\n",
       "мелодрама       1\n",
       "реальное тв     1\n",
       "Name: refundable_support, dtype: int64"
      ]
     },
     "execution_count": 42,
     "metadata": {},
     "output_type": "execute_result"
    }
   ],
   "source": [
    "films_supported[films_supported['refundable_support'] != 0].groupby(by='main_genre')['refundable_support'].count().sort_values(ascending=False).head(20)"
   ]
  },
  {
   "cell_type": "code",
   "execution_count": 43,
   "metadata": {},
   "outputs": [
    {
     "data": {
      "text/plain": [
       "main_genre\n",
       "драма          4.686060e+09\n",
       "комедия        2.421783e+09\n",
       "мультфильм     1.531520e+09\n",
       "фантастика     1.216000e+09\n",
       "история        8.200000e+08\n",
       "фэнтези        7.999000e+08\n",
       "триллер        6.396453e+08\n",
       "спорт          4.550000e+08\n",
       "приключения    4.410000e+08\n",
       "детектив       4.300000e+08\n",
       "военный        3.820009e+08\n",
       "мелодрама      3.730000e+08\n",
       "боевик         3.050000e+08\n",
       "семейный       2.980000e+08\n",
       "криминал       2.550000e+08\n",
       "ужасы          2.440000e+08\n",
       "детский        1.190000e+08\n",
       "биография      1.125100e+08\n",
       "мюзикл         8.830000e+07\n",
       "реальное тв    2.500000e+07\n",
       "Name: nonrefundable_support, dtype: float64"
      ]
     },
     "execution_count": 43,
     "metadata": {},
     "output_type": "execute_result"
    }
   ],
   "source": [
    "films_supported.groupby(by='main_genre')['nonrefundable_support'].sum().sort_values(ascending=False).head(20)"
   ]
  },
  {
   "cell_type": "code",
   "execution_count": 44,
   "metadata": {},
   "outputs": [
    {
     "data": {
      "text/plain": [
       "main_genre\n",
       "драма          93\n",
       "комедия        71\n",
       "мультфильм     27\n",
       "триллер        15\n",
       "мелодрама      14\n",
       "фантастика     11\n",
       "фэнтези        11\n",
       "ужасы           9\n",
       "военный         9\n",
       "приключения     7\n",
       "семейный        7\n",
       "боевик          6\n",
       "детектив        5\n",
       "история         4\n",
       "детский         4\n",
       "мюзикл          4\n",
       "криминал        3\n",
       "спорт           3\n",
       "биография       3\n",
       "реальное тв     1\n",
       "Name: nonrefundable_support, dtype: int64"
      ]
     },
     "execution_count": 44,
     "metadata": {},
     "output_type": "execute_result"
    }
   ],
   "source": [
    "films_supported[films_supported['nonrefundable_support'] != 0].groupby(by='main_genre')['nonrefundable_support'].count().sort_values(ascending=False).head(20)"
   ]
  },
  {
   "cell_type": "markdown",
   "metadata": {},
   "source": [
    "обьем выделяемых невозвратных средств гораздо больше чем обьем возвратных.\n",
    "\n",
    "невозвратные деньги выделяются на более серьезные и \"патриотические\" проекты и более именитым режиссерам на более серьезные темы.\n",
    "количество проектов с невозвратными инвестициями также в разы выше полагаю это связано со слабой развитостью кино в РОссии в целом как индустрии и отсуствии крупных рекламодателей\n",
    "\n",
    "возвратные же наоборот на те что могут потенциально собрать кассу.\n",
    "суммарно на поддержку выделено около 20 миллиардов рублей, из них невозвратные 16 миллиардов рублей"
   ]
  },
  {
   "cell_type": "code",
   "execution_count": 45,
   "metadata": {
    "scrolled": true
   },
   "outputs": [
    {
     "data": {
      "text/plain": [
       "count    314.000000\n",
       "mean       6.000637\n",
       "std        1.123948\n",
       "min        1.000000\n",
       "25%        5.300000\n",
       "50%        6.200000\n",
       "75%        6.700000\n",
       "max        8.500000\n",
       "Name: ratings, dtype: float64"
      ]
     },
     "execution_count": 45,
     "metadata": {},
     "output_type": "execute_result"
    },
    {
     "data": {
      "image/png": "[encoded data removed]",
      "text/plain": [
       "<Figure size 432x288 with 1 Axes>"
      ]
     },
     "metadata": {
      "needs_background": "light"
     },
     "output_type": "display_data"
    }
   ],
   "source": [
    "#у большинства фильмов рейтинги от 5,3 до 6.7\n",
    "films_supported['ratings'].hist()\n",
    "films_supported.ratings.describe()"
   ]
  },
  {
   "cell_type": "code",
   "execution_count": 46,
   "metadata": {},
   "outputs": [
    {
     "data": {
      "text/plain": [
       "21912821262.78"
      ]
     },
     "execution_count": 46,
     "metadata": {},
     "output_type": "execute_result"
    },
    {
     "data": {
      "image/png": "[encoded data removed]",
      "text/plain": [
       "<Figure size 432x288 with 1 Axes>"
      ]
     },
     "metadata": {
      "needs_background": "light"
     },
     "output_type": "display_data"
    }
   ],
   "source": [
    "#фильмы не достигают коммерческого успеха в кино в большинстве случаев, успешны единицы\n",
    "(films_supported['box_office'] - films_supported['summary_support']).hist()\n",
    "(films_supported['box_office'] - films_supported['summary_support']).describe()\n",
    "films_supported['box_office'].sum() - films_supported['summary_support'].sum()"
   ]
  },
  {
   "cell_type": "code",
   "execution_count": 47,
   "metadata": {},
   "outputs": [
    {
     "data": {
      "text/plain": [
       "count    3.180000e+02\n",
       "mean     7.170548e+07\n",
       "std      3.068385e+08\n",
       "min     -2.441231e+08\n",
       "25%     -2.962060e+07\n",
       "50%     -1.939238e+07\n",
       "75%      4.634792e+07\n",
       "max      3.013569e+09\n",
       "dtype: float64"
      ]
     },
     "execution_count": 47,
     "metadata": {},
     "output_type": "execute_result"
    }
   ],
   "source": [
    "(films_supported['box_office'] - films_supported['summary_support']).describe()"
   ]
  },
  {
   "cell_type": "markdown",
   "metadata": {
    "id": "V2gYwMcPgFyd"
   },
   "source": [
    "### Шаг 5. Напишите общий вывод"
   ]
  },
  {
   "cell_type": "markdown",
   "metadata": {
    "id": "AYRg3dzXgFye"
   },
   "source": [
    "Мы провели обработали 2 датасета, с сайта минкульта и данных о прокате, были выявлены и удалены значения, которые необходимо было удалить из исследования, были убраны фильмы, рейтинг которых неизвестен, а также фильмы не имеющие прокатного удостоверения, все данные приведены к единому формату, определены главный режиссер и основной жанр фильма.\n",
    "\n",
    "Мы выявили, что наибольшее количество фильмов в кинопрокате было в 2016 и 2019 годах\n",
    "Среднестатистический кинофильм собирает небольшую кассу, больше всех денег собирают фильмы с ограничением в 16+, есть тренд на сижение популярности фильмов с данным возрастным рейтингом и ростом фильмов 6+ и 12+.\n",
    "\n",
    "\n",
    "Киноиндустрия в России удел энтузиастов, не смотря на яркие успешные проекты в стриминге, фильмы спонсируемые государством коммерчески неуспешны и не приносят желаемых результатов. Основной тип поддержки это поддержка без возврата инвестиций. наиболее популярный жанр драма. питчатся на невозвратную поддержку чаще именитые режиссеры или именитые идеи(легенда номер 17б движение вверх и т д), общий обьем поддержки составил 20 миллиардов рублей, из которых 16 невозвратные. средний рейтинг фильмов составляет от 5,3 до 6,7. суммарная прибыль фильмов с господдержкой составила 21 миллиард р."
   ]
  }
 ],
 "metadata": {
  "ExecuteTimeLog": [
   {
    "duration": 537,
    "start_time": "2021-07-07T10:12:08.634Z"
   },
   {
    "duration": 206,
    "start_time": "2021-07-07T10:12:30.191Z"
   },
   {
    "duration": 227,
    "start_time": "2021-07-07T10:12:33.078Z"
   },
   {
    "duration": 153,
    "start_time": "2021-07-07T10:13:42.146Z"
   },
   {
    "duration": 233,
    "start_time": "2021-07-07T10:30:09.252Z"
   },
   {
    "duration": 19,
    "start_time": "2021-07-07T10:30:15.577Z"
   },
   {
    "duration": 18,
    "start_time": "2021-07-07T10:30:57.348Z"
   },
   {
    "duration": 19,
    "start_time": "2021-07-07T10:31:17.452Z"
   },
   {
    "duration": 21,
    "start_time": "2021-07-07T10:31:32.227Z"
   },
   {
    "duration": 27,
    "start_time": "2021-07-07T10:32:06.588Z"
   },
   {
    "duration": 23,
    "start_time": "2021-07-07T10:32:43.645Z"
   },
   {
    "duration": 24,
    "start_time": "2021-07-07T10:33:06.948Z"
   },
   {
    "duration": 7,
    "start_time": "2021-07-07T10:33:28.558Z"
   },
   {
    "duration": 23,
    "start_time": "2021-07-07T10:33:43.761Z"
   },
   {
    "duration": 28,
    "start_time": "2021-07-07T10:34:13.466Z"
   },
   {
    "duration": 23,
    "start_time": "2021-07-07T10:35:56.187Z"
   },
   {
    "duration": 6,
    "start_time": "2021-07-07T10:36:48.182Z"
   },
   {
    "duration": 14,
    "start_time": "2021-07-07T10:37:49.641Z"
   },
   {
    "duration": 6,
    "start_time": "2021-07-07T10:38:06.694Z"
   },
   {
    "duration": 6,
    "start_time": "2021-07-07T10:38:13.493Z"
   },
   {
    "duration": 19,
    "start_time": "2021-07-07T10:38:44.056Z"
   },
   {
    "duration": 186,
    "start_time": "2021-07-07T10:48:35.618Z"
   },
   {
    "duration": 24,
    "start_time": "2021-07-07T10:48:51.498Z"
   },
   {
    "duration": 20,
    "start_time": "2021-07-07T10:48:59.415Z"
   },
   {
    "duration": 20,
    "start_time": "2021-07-07T10:53:02.195Z"
   },
   {
    "duration": 188,
    "start_time": "2021-07-07T10:54:40.486Z"
   },
   {
    "duration": 115,
    "start_time": "2021-07-07T10:54:52.552Z"
   },
   {
    "duration": 214,
    "start_time": "2021-07-07T10:54:56.354Z"
   },
   {
    "duration": 47,
    "start_time": "2021-07-07T10:54:58.282Z"
   },
   {
    "duration": 217,
    "start_time": "2021-07-07T10:59:16.075Z"
   },
   {
    "duration": 51,
    "start_time": "2021-07-07T10:59:16.243Z"
   },
   {
    "duration": 578,
    "start_time": "2021-07-07T10:59:18.774Z"
   },
   {
    "duration": 161,
    "start_time": "2021-07-07T10:59:21.238Z"
   },
   {
    "duration": 59,
    "start_time": "2021-07-07T10:59:21.453Z"
   },
   {
    "duration": 3,
    "start_time": "2021-07-07T11:02:10.786Z"
   },
   {
    "duration": 13,
    "start_time": "2021-07-07T11:07:07.722Z"
   },
   {
    "duration": 26,
    "start_time": "2021-07-07T11:07:17.958Z"
   },
   {
    "duration": 22,
    "start_time": "2021-07-07T11:08:17.939Z"
   },
   {
    "duration": 212,
    "start_time": "2021-07-07T11:08:19.665Z"
   },
   {
    "duration": 21,
    "start_time": "2021-07-07T11:08:29.945Z"
   },
   {
    "duration": 31,
    "start_time": "2021-07-07T11:08:38.899Z"
   },
   {
    "duration": 23,
    "start_time": "2021-07-07T11:08:54.527Z"
   },
   {
    "duration": 8,
    "start_time": "2021-07-07T11:18:55.974Z"
   },
   {
    "duration": 7,
    "start_time": "2021-07-07T11:19:03.639Z"
   },
   {
    "duration": 7,
    "start_time": "2021-07-07T11:19:06.444Z"
   },
   {
    "duration": 578,
    "start_time": "2021-07-07T12:09:59.576Z"
   },
   {
    "duration": 195,
    "start_time": "2021-07-07T12:10:00.156Z"
   },
   {
    "duration": 115,
    "start_time": "2021-07-07T12:10:00.353Z"
   },
   {
    "duration": 3,
    "start_time": "2021-07-07T12:10:00.470Z"
   },
   {
    "duration": 32,
    "start_time": "2021-07-07T12:10:00.474Z"
   },
   {
    "duration": 23,
    "start_time": "2021-07-07T12:10:00.508Z"
   },
   {
    "duration": 19,
    "start_time": "2021-07-07T12:10:00.533Z"
   },
   {
    "duration": 44,
    "start_time": "2021-07-07T12:10:00.553Z"
   },
   {
    "duration": 7,
    "start_time": "2021-07-07T12:10:00.600Z"
   },
   {
    "duration": 7,
    "start_time": "2021-07-07T12:19:45.761Z"
   },
   {
    "duration": 21,
    "start_time": "2021-07-07T12:21:35.482Z"
   },
   {
    "duration": 21,
    "start_time": "2021-07-07T12:29:23.569Z"
   },
   {
    "duration": 525,
    "start_time": "2021-07-07T12:29:44.542Z"
   },
   {
    "duration": 214,
    "start_time": "2021-07-07T12:29:45.069Z"
   },
   {
    "duration": 92,
    "start_time": "2021-07-07T12:29:45.285Z"
   },
   {
    "duration": 3,
    "start_time": "2021-07-07T12:29:45.379Z"
   },
   {
    "duration": 28,
    "start_time": "2021-07-07T12:29:45.384Z"
   },
   {
    "duration": 23,
    "start_time": "2021-07-07T12:29:45.413Z"
   },
   {
    "duration": 21,
    "start_time": "2021-07-07T12:29:45.437Z"
   },
   {
    "duration": 41,
    "start_time": "2021-07-07T12:29:45.460Z"
   },
   {
    "duration": 7,
    "start_time": "2021-07-07T12:29:45.502Z"
   },
   {
    "duration": 20,
    "start_time": "2021-07-07T12:29:45.511Z"
   },
   {
    "duration": 12,
    "start_time": "2021-07-07T12:34:02.800Z"
   },
   {
    "duration": 7,
    "start_time": "2021-07-07T12:35:10.479Z"
   },
   {
    "duration": 8,
    "start_time": "2021-07-07T12:35:22.440Z"
   },
   {
    "duration": 6,
    "start_time": "2021-07-07T12:35:35.649Z"
   },
   {
    "duration": 6,
    "start_time": "2021-07-07T12:35:43.107Z"
   },
   {
    "duration": 22,
    "start_time": "2021-07-07T12:38:03.029Z"
   },
   {
    "duration": 10,
    "start_time": "2021-07-07T12:38:06.592Z"
   },
   {
    "duration": 563,
    "start_time": "2021-07-07T12:38:46.493Z"
   },
   {
    "duration": 265,
    "start_time": "2021-07-07T12:38:47.058Z"
   },
   {
    "duration": 94,
    "start_time": "2021-07-07T12:38:47.325Z"
   },
   {
    "duration": 3,
    "start_time": "2021-07-07T12:38:47.422Z"
   },
   {
    "duration": 30,
    "start_time": "2021-07-07T12:38:47.427Z"
   },
   {
    "duration": 16,
    "start_time": "2021-07-07T12:38:53.305Z"
   },
   {
    "duration": 10,
    "start_time": "2021-07-07T12:38:53.499Z"
   },
   {
    "duration": 8,
    "start_time": "2021-07-07T12:39:48.161Z"
   },
   {
    "duration": 27,
    "start_time": "2021-07-07T12:41:17.629Z"
   },
   {
    "duration": 17,
    "start_time": "2021-07-07T12:41:17.867Z"
   },
   {
    "duration": 21,
    "start_time": "2021-07-07T12:41:19.310Z"
   },
   {
    "duration": 7,
    "start_time": "2021-07-07T12:41:19.544Z"
   },
   {
    "duration": 20,
    "start_time": "2021-07-07T12:41:20.504Z"
   },
   {
    "duration": 554,
    "start_time": "2021-07-07T12:56:23.696Z"
   },
   {
    "duration": 200,
    "start_time": "2021-07-07T12:56:25.234Z"
   },
   {
    "duration": 119,
    "start_time": "2021-07-07T12:56:25.480Z"
   },
   {
    "duration": 4,
    "start_time": "2021-07-07T12:56:25.762Z"
   },
   {
    "duration": 26,
    "start_time": "2021-07-07T12:56:27.172Z"
   },
   {
    "duration": 12,
    "start_time": "2021-07-07T12:56:29.051Z"
   },
   {
    "duration": 10,
    "start_time": "2021-07-07T12:56:29.291Z"
   },
   {
    "duration": 8,
    "start_time": "2021-07-07T12:56:29.623Z"
   },
   {
    "duration": 28,
    "start_time": "2021-07-07T12:56:32.137Z"
   },
   {
    "duration": 19,
    "start_time": "2021-07-07T12:56:39.785Z"
   },
   {
    "duration": 20,
    "start_time": "2021-07-07T12:56:44.297Z"
   },
   {
    "duration": 7,
    "start_time": "2021-07-07T12:56:45.392Z"
   },
   {
    "duration": 23,
    "start_time": "2021-07-07T12:56:46.615Z"
   },
   {
    "duration": 4,
    "start_time": "2021-07-07T12:57:06.625Z"
   },
   {
    "duration": 32,
    "start_time": "2021-07-07T12:57:36.690Z"
   },
   {
    "duration": 18,
    "start_time": "2021-07-07T12:58:00.149Z"
   },
   {
    "duration": 15,
    "start_time": "2021-07-07T12:59:16.793Z"
   },
   {
    "duration": 7,
    "start_time": "2021-07-07T13:19:22.624Z"
   },
   {
    "duration": 6,
    "start_time": "2021-07-07T14:17:33.527Z"
   },
   {
    "duration": 9,
    "start_time": "2021-07-07T14:17:48.409Z"
   },
   {
    "duration": 8,
    "start_time": "2021-07-07T14:20:13.060Z"
   },
   {
    "duration": 8,
    "start_time": "2021-07-07T14:20:37.957Z"
   },
   {
    "duration": 8,
    "start_time": "2021-07-07T14:20:47.470Z"
   },
   {
    "duration": 9,
    "start_time": "2021-07-07T14:20:54.503Z"
   },
   {
    "duration": 10,
    "start_time": "2021-07-07T14:28:57.763Z"
   },
   {
    "duration": 3,
    "start_time": "2021-07-07T14:30:23.377Z"
   },
   {
    "duration": 3,
    "start_time": "2021-07-07T14:30:36.489Z"
   },
   {
    "duration": 103,
    "start_time": "2021-07-07T14:30:52.351Z"
   },
   {
    "duration": 8,
    "start_time": "2021-07-07T14:30:54.763Z"
   },
   {
    "duration": 8,
    "start_time": "2021-07-07T14:31:29.301Z"
   },
   {
    "duration": 13,
    "start_time": "2021-07-07T14:31:44.516Z"
   },
   {
    "duration": 7,
    "start_time": "2021-07-07T14:33:10.972Z"
   },
   {
    "duration": 11,
    "start_time": "2021-07-07T14:33:27.780Z"
   },
   {
    "duration": 8,
    "start_time": "2021-07-07T14:34:44.588Z"
   },
   {
    "duration": 57,
    "start_time": "2021-07-07T14:35:59.042Z"
   },
   {
    "duration": 3,
    "start_time": "2021-07-07T14:36:28.168Z"
   },
   {
    "duration": 5,
    "start_time": "2021-07-07T14:36:46.254Z"
   },
   {
    "duration": 4,
    "start_time": "2021-07-07T14:36:52.714Z"
   },
   {
    "duration": 3,
    "start_time": "2021-07-07T14:36:56.612Z"
   },
   {
    "duration": 4,
    "start_time": "2021-07-07T14:36:57.049Z"
   },
   {
    "duration": 3,
    "start_time": "2021-07-07T14:39:21.214Z"
   },
   {
    "duration": 7,
    "start_time": "2021-07-07T14:39:52.406Z"
   },
   {
    "duration": 11,
    "start_time": "2021-07-07T14:39:58.576Z"
   },
   {
    "duration": 9,
    "start_time": "2021-07-07T14:40:26.301Z"
   },
   {
    "duration": 10,
    "start_time": "2021-07-07T14:40:31.704Z"
   },
   {
    "duration": 11,
    "start_time": "2021-07-07T14:40:36.249Z"
   },
   {
    "duration": 10,
    "start_time": "2021-07-07T14:40:39.783Z"
   },
   {
    "duration": 9,
    "start_time": "2021-07-07T14:40:48.558Z"
   },
   {
    "duration": 10,
    "start_time": "2021-07-07T14:40:57.143Z"
   },
   {
    "duration": 9,
    "start_time": "2021-07-07T14:41:06.074Z"
   },
   {
    "duration": 4324,
    "start_time": "2021-07-07T14:41:22.004Z"
   },
   {
    "duration": 11,
    "start_time": "2021-07-07T14:41:33.392Z"
   },
   {
    "duration": 9,
    "start_time": "2021-07-07T14:41:39.288Z"
   },
   {
    "duration": 569,
    "start_time": "2021-07-07T14:42:14.387Z"
   },
   {
    "duration": 197,
    "start_time": "2021-07-07T14:42:14.959Z"
   },
   {
    "duration": 84,
    "start_time": "2021-07-07T14:42:16.052Z"
   },
   {
    "duration": 4,
    "start_time": "2021-07-07T14:42:16.900Z"
   },
   {
    "duration": 27,
    "start_time": "2021-07-07T14:42:19.898Z"
   },
   {
    "duration": 12,
    "start_time": "2021-07-07T14:42:21.577Z"
   },
   {
    "duration": 9,
    "start_time": "2021-07-07T14:42:21.813Z"
   },
   {
    "duration": 9,
    "start_time": "2021-07-07T14:42:22.569Z"
   },
   {
    "duration": 29,
    "start_time": "2021-07-07T14:42:25.837Z"
   },
   {
    "duration": 20,
    "start_time": "2021-07-07T14:42:27.003Z"
   },
   {
    "duration": 21,
    "start_time": "2021-07-07T14:42:28.767Z"
   },
   {
    "duration": 7,
    "start_time": "2021-07-07T14:42:29.838Z"
   },
   {
    "duration": 4,
    "start_time": "2021-07-07T14:43:25.493Z"
   },
   {
    "duration": 7,
    "start_time": "2021-07-07T14:43:26.573Z"
   },
   {
    "duration": 10,
    "start_time": "2021-07-07T14:43:31.639Z"
   },
   {
    "duration": 9,
    "start_time": "2021-07-07T14:43:32.046Z"
   },
   {
    "duration": 10,
    "start_time": "2021-07-07T14:43:33.301Z"
   },
   {
    "duration": 12,
    "start_time": "2021-07-07T14:43:33.658Z"
   },
   {
    "duration": 8,
    "start_time": "2021-07-07T14:43:34.552Z"
   },
   {
    "duration": 9,
    "start_time": "2021-07-07T14:43:35.058Z"
   },
   {
    "duration": 12,
    "start_time": "2021-07-07T14:43:35.914Z"
   },
   {
    "duration": 17,
    "start_time": "2021-07-07T14:45:34.368Z"
   },
   {
    "duration": 512,
    "start_time": "2021-07-07T14:51:58.236Z"
   },
   {
    "duration": 223,
    "start_time": "2021-07-07T14:51:58.750Z"
   },
   {
    "duration": 93,
    "start_time": "2021-07-07T14:51:58.977Z"
   },
   {
    "duration": 4,
    "start_time": "2021-07-07T14:51:59.071Z"
   },
   {
    "duration": 37,
    "start_time": "2021-07-07T14:51:59.077Z"
   },
   {
    "duration": 18,
    "start_time": "2021-07-07T14:51:59.116Z"
   },
   {
    "duration": 10,
    "start_time": "2021-07-07T14:51:59.137Z"
   },
   {
    "duration": 8,
    "start_time": "2021-07-07T14:51:59.149Z"
   },
   {
    "duration": 54,
    "start_time": "2021-07-07T14:51:59.158Z"
   },
   {
    "duration": 18,
    "start_time": "2021-07-07T14:51:59.213Z"
   },
   {
    "duration": 22,
    "start_time": "2021-07-07T14:51:59.232Z"
   },
   {
    "duration": 36,
    "start_time": "2021-07-07T14:51:59.255Z"
   },
   {
    "duration": 7,
    "start_time": "2021-07-07T14:51:59.293Z"
   },
   {
    "duration": 10,
    "start_time": "2021-07-07T14:51:59.302Z"
   },
   {
    "duration": 9,
    "start_time": "2021-07-07T14:51:59.313Z"
   },
   {
    "duration": 11,
    "start_time": "2021-07-07T14:51:59.324Z"
   },
   {
    "duration": 8,
    "start_time": "2021-07-07T14:51:59.337Z"
   },
   {
    "duration": 46,
    "start_time": "2021-07-07T14:51:59.347Z"
   },
   {
    "duration": 22,
    "start_time": "2021-07-07T14:51:59.395Z"
   },
   {
    "duration": 24,
    "start_time": "2021-07-07T14:57:32.911Z"
   },
   {
    "duration": 7,
    "start_time": "2021-07-07T14:58:22.070Z"
   },
   {
    "duration": 4,
    "start_time": "2021-07-07T14:59:11.239Z"
   },
   {
    "duration": 25,
    "start_time": "2021-07-07T15:07:22.208Z"
   },
   {
    "duration": 16,
    "start_time": "2021-07-07T15:08:25.560Z"
   },
   {
    "duration": 15,
    "start_time": "2021-07-07T15:08:40.647Z"
   },
   {
    "duration": 14,
    "start_time": "2021-07-07T15:08:46.669Z"
   },
   {
    "duration": 533,
    "start_time": "2021-07-07T15:18:07.440Z"
   },
   {
    "duration": 173,
    "start_time": "2021-07-07T15:18:07.974Z"
   },
   {
    "duration": 84,
    "start_time": "2021-07-07T15:18:08.149Z"
   },
   {
    "duration": 3,
    "start_time": "2021-07-07T15:18:08.235Z"
   },
   {
    "duration": 30,
    "start_time": "2021-07-07T15:18:08.240Z"
   },
   {
    "duration": 22,
    "start_time": "2021-07-07T15:18:08.272Z"
   },
   {
    "duration": 11,
    "start_time": "2021-07-07T15:18:08.295Z"
   },
   {
    "duration": 11,
    "start_time": "2021-07-07T15:18:08.309Z"
   },
   {
    "duration": 40,
    "start_time": "2021-07-07T15:18:08.322Z"
   },
   {
    "duration": 42,
    "start_time": "2021-07-07T15:18:08.364Z"
   },
   {
    "duration": 22,
    "start_time": "2021-07-07T15:18:08.408Z"
   },
   {
    "duration": 5,
    "start_time": "2021-07-07T15:18:08.432Z"
   },
   {
    "duration": 13,
    "start_time": "2021-07-07T15:18:08.439Z"
   },
   {
    "duration": 9,
    "start_time": "2021-07-07T15:18:08.454Z"
   },
   {
    "duration": 32,
    "start_time": "2021-07-07T15:18:08.465Z"
   },
   {
    "duration": 10,
    "start_time": "2021-07-07T15:18:08.501Z"
   },
   {
    "duration": 7,
    "start_time": "2021-07-07T15:18:08.513Z"
   },
   {
    "duration": 11,
    "start_time": "2021-07-07T15:18:08.521Z"
   },
   {
    "duration": 17,
    "start_time": "2021-07-07T15:18:08.534Z"
   },
   {
    "duration": 44,
    "start_time": "2021-07-07T15:18:08.553Z"
   },
   {
    "duration": 22,
    "start_time": "2021-07-07T15:18:08.599Z"
   },
   {
    "duration": 61,
    "start_time": "2021-07-07T15:18:08.622Z"
   },
   {
    "duration": 7,
    "start_time": "2021-07-07T15:18:39.457Z"
   },
   {
    "duration": 5,
    "start_time": "2021-07-07T16:05:17.020Z"
   },
   {
    "duration": 5,
    "start_time": "2021-07-07T16:51:28.794Z"
   },
   {
    "duration": 546,
    "start_time": "2021-07-07T16:52:26.306Z"
   },
   {
    "duration": 203,
    "start_time": "2021-07-07T16:52:27.523Z"
   },
   {
    "duration": 85,
    "start_time": "2021-07-07T16:52:27.736Z"
   },
   {
    "duration": 4,
    "start_time": "2021-07-07T16:52:27.899Z"
   },
   {
    "duration": 25,
    "start_time": "2021-07-07T16:52:28.674Z"
   },
   {
    "duration": 8,
    "start_time": "2021-07-07T16:52:32.956Z"
   },
   {
    "duration": 18,
    "start_time": "2021-07-07T16:52:35.616Z"
   },
   {
    "duration": 6,
    "start_time": "2021-07-07T16:52:36.913Z"
   },
   {
    "duration": 11,
    "start_time": "2021-07-07T16:52:40.258Z"
   },
   {
    "duration": 10,
    "start_time": "2021-07-07T16:52:46.251Z"
   },
   {
    "duration": 8,
    "start_time": "2021-07-07T16:52:47.182Z"
   },
   {
    "duration": 27,
    "start_time": "2021-07-07T16:53:20.391Z"
   },
   {
    "duration": 20,
    "start_time": "2021-07-07T16:53:22.022Z"
   },
   {
    "duration": 23,
    "start_time": "2021-07-07T16:53:23.690Z"
   },
   {
    "duration": 8,
    "start_time": "2021-07-07T16:53:24.261Z"
   },
   {
    "duration": 4,
    "start_time": "2021-07-07T16:53:38.733Z"
   },
   {
    "duration": 7,
    "start_time": "2021-07-07T16:53:40.445Z"
   },
   {
    "duration": 11,
    "start_time": "2021-07-07T16:53:41.348Z"
   },
   {
    "duration": 13,
    "start_time": "2021-07-07T16:53:45.250Z"
   },
   {
    "duration": 12,
    "start_time": "2021-07-07T16:53:45.467Z"
   },
   {
    "duration": 4,
    "start_time": "2021-07-07T16:55:32.704Z"
   },
   {
    "duration": 12,
    "start_time": "2021-07-07T16:55:49.012Z"
   },
   {
    "duration": 18,
    "start_time": "2021-07-07T16:55:49.547Z"
   },
   {
    "duration": 611,
    "start_time": "2021-07-07T16:58:35.156Z"
   },
   {
    "duration": 200,
    "start_time": "2021-07-07T16:58:35.770Z"
   },
   {
    "duration": 86,
    "start_time": "2021-07-07T16:58:35.972Z"
   },
   {
    "duration": 3,
    "start_time": "2021-07-07T16:58:36.060Z"
   },
   {
    "duration": 27,
    "start_time": "2021-07-07T16:58:36.065Z"
   },
   {
    "duration": 8,
    "start_time": "2021-07-07T16:58:36.094Z"
   },
   {
    "duration": 17,
    "start_time": "2021-07-07T16:58:36.103Z"
   },
   {
    "duration": 5,
    "start_time": "2021-07-07T16:58:36.123Z"
   },
   {
    "duration": 11,
    "start_time": "2021-07-07T16:58:36.130Z"
   },
   {
    "duration": 7,
    "start_time": "2021-07-07T16:58:36.143Z"
   },
   {
    "duration": 37,
    "start_time": "2021-07-07T16:58:36.152Z"
   },
   {
    "duration": 27,
    "start_time": "2021-07-07T16:58:36.191Z"
   },
   {
    "duration": 19,
    "start_time": "2021-07-07T16:58:36.219Z"
   },
   {
    "duration": 49,
    "start_time": "2021-07-07T16:58:36.240Z"
   },
   {
    "duration": 6,
    "start_time": "2021-07-07T16:58:36.291Z"
   },
   {
    "duration": 3,
    "start_time": "2021-07-07T16:58:36.299Z"
   },
   {
    "duration": 13,
    "start_time": "2021-07-07T16:58:36.304Z"
   },
   {
    "duration": 10,
    "start_time": "2021-07-07T16:58:36.319Z"
   },
   {
    "duration": 10,
    "start_time": "2021-07-07T16:58:36.331Z"
   },
   {
    "duration": 44,
    "start_time": "2021-07-07T16:58:36.343Z"
   },
   {
    "duration": 4,
    "start_time": "2021-07-07T16:58:36.388Z"
   },
   {
    "duration": 13,
    "start_time": "2021-07-07T16:58:36.394Z"
   },
   {
    "duration": 16,
    "start_time": "2021-07-07T16:58:36.410Z"
   },
   {
    "duration": 8,
    "start_time": "2021-07-07T17:02:31.629Z"
   },
   {
    "duration": 8,
    "start_time": "2021-07-07T17:02:34.308Z"
   },
   {
    "duration": 6,
    "start_time": "2021-07-07T17:05:13.483Z"
   },
   {
    "duration": 17,
    "start_time": "2021-07-07T17:05:20.606Z"
   },
   {
    "duration": 7,
    "start_time": "2021-07-07T17:05:34.638Z"
   },
   {
    "duration": 3,
    "start_time": "2021-07-07T17:06:31.883Z"
   },
   {
    "duration": 570,
    "start_time": "2021-07-07T17:06:37.165Z"
   },
   {
    "duration": 174,
    "start_time": "2021-07-07T17:06:37.737Z"
   },
   {
    "duration": 47,
    "start_time": "2021-07-07T17:06:37.913Z"
   },
   {
    "duration": 3,
    "start_time": "2021-07-07T17:06:37.962Z"
   },
   {
    "duration": 27,
    "start_time": "2021-07-07T17:06:37.967Z"
   },
   {
    "duration": 7,
    "start_time": "2021-07-07T17:06:37.996Z"
   },
   {
    "duration": 16,
    "start_time": "2021-07-07T17:06:38.005Z"
   },
   {
    "duration": 6,
    "start_time": "2021-07-07T17:06:38.024Z"
   },
   {
    "duration": 12,
    "start_time": "2021-07-07T17:06:38.031Z"
   },
   {
    "duration": 41,
    "start_time": "2021-07-07T17:06:38.045Z"
   },
   {
    "duration": 8,
    "start_time": "2021-07-07T17:06:38.088Z"
   },
   {
    "duration": 26,
    "start_time": "2021-07-07T17:06:38.098Z"
   },
   {
    "duration": 17,
    "start_time": "2021-07-07T17:06:38.126Z"
   },
   {
    "duration": 43,
    "start_time": "2021-07-07T17:06:38.144Z"
   },
   {
    "duration": 6,
    "start_time": "2021-07-07T17:06:38.188Z"
   },
   {
    "duration": 5,
    "start_time": "2021-07-07T17:06:38.195Z"
   },
   {
    "duration": 9,
    "start_time": "2021-07-07T17:06:38.201Z"
   },
   {
    "duration": 12,
    "start_time": "2021-07-07T17:06:38.212Z"
   },
   {
    "duration": 11,
    "start_time": "2021-07-07T17:06:38.226Z"
   },
   {
    "duration": 47,
    "start_time": "2021-07-07T17:06:38.239Z"
   },
   {
    "duration": 4,
    "start_time": "2021-07-07T17:06:38.288Z"
   },
   {
    "duration": 13,
    "start_time": "2021-07-07T17:06:38.293Z"
   },
   {
    "duration": 5,
    "start_time": "2021-07-07T17:06:38.309Z"
   },
   {
    "duration": 18,
    "start_time": "2021-07-07T17:06:38.325Z"
   },
   {
    "duration": 20,
    "start_time": "2021-07-07T17:07:02.805Z"
   },
   {
    "duration": 19,
    "start_time": "2021-07-07T17:07:08.527Z"
   },
   {
    "duration": 19,
    "start_time": "2021-07-07T17:07:12.758Z"
   },
   {
    "duration": 22,
    "start_time": "2021-07-07T17:07:17.497Z"
   },
   {
    "duration": 19,
    "start_time": "2021-07-07T17:07:19.645Z"
   },
   {
    "duration": 10,
    "start_time": "2021-07-07T17:07:34.239Z"
   },
   {
    "duration": 17,
    "start_time": "2021-07-07T17:07:54.144Z"
   },
   {
    "duration": 14,
    "start_time": "2021-07-07T17:08:14.357Z"
   },
   {
    "duration": 616,
    "start_time": "2021-07-07T17:08:45.254Z"
   },
   {
    "duration": 178,
    "start_time": "2021-07-07T17:08:45.872Z"
   },
   {
    "duration": 60,
    "start_time": "2021-07-07T17:08:46.054Z"
   },
   {
    "duration": 3,
    "start_time": "2021-07-07T17:08:46.116Z"
   },
   {
    "duration": 26,
    "start_time": "2021-07-07T17:08:46.121Z"
   },
   {
    "duration": 7,
    "start_time": "2021-07-07T17:08:46.149Z"
   },
   {
    "duration": 17,
    "start_time": "2021-07-07T17:08:46.158Z"
   },
   {
    "duration": 14,
    "start_time": "2021-07-07T17:08:46.176Z"
   },
   {
    "duration": 17,
    "start_time": "2021-07-07T17:08:46.193Z"
   },
   {
    "duration": 9,
    "start_time": "2021-07-07T17:08:46.211Z"
   },
   {
    "duration": 21,
    "start_time": "2021-07-07T17:08:46.221Z"
   },
   {
    "duration": 49,
    "start_time": "2021-07-07T17:08:46.244Z"
   },
   {
    "duration": 24,
    "start_time": "2021-07-07T17:08:46.295Z"
   },
   {
    "duration": 22,
    "start_time": "2021-07-07T17:08:46.321Z"
   },
   {
    "duration": 6,
    "start_time": "2021-07-07T17:08:46.345Z"
   },
   {
    "duration": 5,
    "start_time": "2021-07-07T17:08:46.353Z"
   },
   {
    "duration": 13,
    "start_time": "2021-07-07T17:08:46.386Z"
   },
   {
    "duration": 12,
    "start_time": "2021-07-07T17:08:46.402Z"
   },
   {
    "duration": 10,
    "start_time": "2021-07-07T17:08:46.415Z"
   },
   {
    "duration": 7,
    "start_time": "2021-07-07T17:08:46.427Z"
   },
   {
    "duration": 8,
    "start_time": "2021-07-07T17:08:46.435Z"
   },
   {
    "duration": 68,
    "start_time": "2021-07-07T17:08:46.446Z"
   },
   {
    "duration": 13,
    "start_time": "2021-07-07T17:08:46.516Z"
   },
   {
    "duration": 78,
    "start_time": "2021-07-07T17:08:46.530Z"
   },
   {
    "duration": 40,
    "start_time": "2021-07-07T17:09:08.185Z"
   },
   {
    "duration": 16,
    "start_time": "2021-07-07T17:09:19.324Z"
   },
   {
    "duration": 21,
    "start_time": "2021-07-07T17:09:23.290Z"
   },
   {
    "duration": 13,
    "start_time": "2021-07-07T17:09:54.812Z"
   },
   {
    "duration": 13,
    "start_time": "2021-07-07T17:10:02.039Z"
   },
   {
    "duration": 10,
    "start_time": "2021-07-07T17:10:29.632Z"
   },
   {
    "duration": 13,
    "start_time": "2021-07-07T17:10:52.372Z"
   },
   {
    "duration": 13,
    "start_time": "2021-07-07T17:11:17.270Z"
   },
   {
    "duration": 13,
    "start_time": "2021-07-07T17:14:59.284Z"
   },
   {
    "duration": 547,
    "start_time": "2021-07-07T17:18:52.403Z"
   },
   {
    "duration": 163,
    "start_time": "2021-07-07T17:18:52.952Z"
   },
   {
    "duration": 44,
    "start_time": "2021-07-07T17:18:53.117Z"
   },
   {
    "duration": 3,
    "start_time": "2021-07-07T17:18:53.162Z"
   },
   {
    "duration": 26,
    "start_time": "2021-07-07T17:18:53.167Z"
   },
   {
    "duration": 6,
    "start_time": "2021-07-07T17:18:53.195Z"
   },
   {
    "duration": 15,
    "start_time": "2021-07-07T17:18:53.203Z"
   },
   {
    "duration": 5,
    "start_time": "2021-07-07T17:18:53.220Z"
   },
   {
    "duration": 11,
    "start_time": "2021-07-07T17:18:53.228Z"
   },
   {
    "duration": 9,
    "start_time": "2021-07-07T17:18:53.241Z"
   },
   {
    "duration": 41,
    "start_time": "2021-07-07T17:18:53.252Z"
   },
   {
    "duration": 33,
    "start_time": "2021-07-07T17:18:53.295Z"
   },
   {
    "duration": 19,
    "start_time": "2021-07-07T17:18:53.330Z"
   },
   {
    "duration": 49,
    "start_time": "2021-07-07T17:18:53.350Z"
   },
   {
    "duration": 5,
    "start_time": "2021-07-07T17:18:53.401Z"
   },
   {
    "duration": 5,
    "start_time": "2021-07-07T17:18:53.408Z"
   },
   {
    "duration": 11,
    "start_time": "2021-07-07T17:18:53.414Z"
   },
   {
    "duration": 9,
    "start_time": "2021-07-07T17:18:53.427Z"
   },
   {
    "duration": 10,
    "start_time": "2021-07-07T17:18:53.437Z"
   },
   {
    "duration": 39,
    "start_time": "2021-07-07T17:18:53.448Z"
   },
   {
    "duration": 26,
    "start_time": "2021-07-07T17:18:55.799Z"
   },
   {
    "duration": 598,
    "start_time": "2021-07-07T17:20:17.862Z"
   },
   {
    "duration": 161,
    "start_time": "2021-07-07T17:20:18.462Z"
   },
   {
    "duration": 45,
    "start_time": "2021-07-07T17:20:18.626Z"
   },
   {
    "duration": 4,
    "start_time": "2021-07-07T17:20:18.673Z"
   },
   {
    "duration": 38,
    "start_time": "2021-07-07T17:20:26.877Z"
   },
   {
    "duration": 7,
    "start_time": "2021-07-07T17:20:37.405Z"
   },
   {
    "duration": 19,
    "start_time": "2021-07-07T17:20:51.534Z"
   },
   {
    "duration": 5,
    "start_time": "2021-07-07T17:20:57.228Z"
   },
   {
    "duration": 7,
    "start_time": "2021-07-07T17:21:08.235Z"
   },
   {
    "duration": 19,
    "start_time": "2021-07-07T17:21:42.158Z"
   },
   {
    "duration": 14,
    "start_time": "2021-07-07T17:21:50.225Z"
   },
   {
    "duration": 22,
    "start_time": "2021-07-07T17:22:54.104Z"
   },
   {
    "duration": 5,
    "start_time": "2021-07-07T17:22:56.371Z"
   },
   {
    "duration": 14,
    "start_time": "2021-07-07T17:22:58.316Z"
   },
   {
    "duration": 5,
    "start_time": "2021-07-07T17:22:58.493Z"
   },
   {
    "duration": 35,
    "start_time": "2021-07-07T17:22:59.666Z"
   },
   {
    "duration": 6,
    "start_time": "2021-07-07T17:23:02.410Z"
   },
   {
    "duration": 611,
    "start_time": "2021-07-07T17:24:59.664Z"
   },
   {
    "duration": 178,
    "start_time": "2021-07-07T17:25:01.945Z"
   },
   {
    "duration": 47,
    "start_time": "2021-07-07T17:25:02.125Z"
   },
   {
    "duration": 2,
    "start_time": "2021-07-07T17:25:07.903Z"
   },
   {
    "duration": 254,
    "start_time": "2021-07-07T17:25:08.232Z"
   },
   {
    "duration": 182,
    "start_time": "2021-07-07T17:25:08.671Z"
   },
   {
    "duration": 6,
    "start_time": "2021-07-07T17:25:13.104Z"
   },
   {
    "duration": 36,
    "start_time": "2021-07-07T17:25:13.662Z"
   },
   {
    "duration": 7,
    "start_time": "2021-07-07T17:25:14.528Z"
   },
   {
    "duration": 24,
    "start_time": "2021-07-07T17:25:27.982Z"
   },
   {
    "duration": 3,
    "start_time": "2021-07-07T17:25:48.982Z"
   },
   {
    "duration": 165,
    "start_time": "2021-07-07T17:25:48.987Z"
   },
   {
    "duration": 50,
    "start_time": "2021-07-07T17:25:49.154Z"
   },
   {
    "duration": 4,
    "start_time": "2021-07-07T17:25:49.206Z"
   },
   {
    "duration": 26,
    "start_time": "2021-07-07T17:25:49.212Z"
   },
   {
    "duration": 7,
    "start_time": "2021-07-07T17:25:49.240Z"
   },
   {
    "duration": 16,
    "start_time": "2021-07-07T17:25:49.249Z"
   },
   {
    "duration": 22,
    "start_time": "2021-07-07T17:25:49.266Z"
   },
   {
    "duration": 16,
    "start_time": "2021-07-07T17:25:49.291Z"
   },
   {
    "duration": 9,
    "start_time": "2021-07-07T17:25:49.309Z"
   },
   {
    "duration": 7,
    "start_time": "2021-07-07T17:25:49.319Z"
   },
   {
    "duration": 28,
    "start_time": "2021-07-07T17:25:49.328Z"
   },
   {
    "duration": 44,
    "start_time": "2021-07-07T17:25:49.357Z"
   },
   {
    "duration": 22,
    "start_time": "2021-07-07T17:25:49.403Z"
   },
   {
    "duration": 7,
    "start_time": "2021-07-07T17:25:49.427Z"
   },
   {
    "duration": 3,
    "start_time": "2021-07-07T17:25:49.436Z"
   },
   {
    "duration": 44,
    "start_time": "2021-07-07T17:25:49.441Z"
   },
   {
    "duration": 12,
    "start_time": "2021-07-07T17:25:49.488Z"
   },
   {
    "duration": 13,
    "start_time": "2021-07-07T17:25:49.502Z"
   },
   {
    "duration": 10,
    "start_time": "2021-07-07T17:25:49.516Z"
   },
   {
    "duration": 62,
    "start_time": "2021-07-07T17:25:49.527Z"
   },
   {
    "duration": 26,
    "start_time": "2021-07-07T17:26:51.809Z"
   },
   {
    "duration": 26,
    "start_time": "2021-07-07T17:26:55.759Z"
   },
   {
    "duration": 26,
    "start_time": "2021-07-07T17:27:04.501Z"
   },
   {
    "duration": 25,
    "start_time": "2021-07-07T17:28:24.859Z"
   },
   {
    "duration": 21,
    "start_time": "2021-07-07T17:28:55.250Z"
   },
   {
    "duration": 21,
    "start_time": "2021-07-07T17:28:58.885Z"
   },
   {
    "duration": 7,
    "start_time": "2021-07-07T17:45:40.972Z"
   },
   {
    "duration": 13,
    "start_time": "2021-07-07T17:45:42.529Z"
   },
   {
    "duration": 27,
    "start_time": "2021-07-07T17:45:51.026Z"
   },
   {
    "duration": 518,
    "start_time": "2021-07-07T17:46:15.532Z"
   },
   {
    "duration": 235,
    "start_time": "2021-07-07T17:46:16.053Z"
   },
   {
    "duration": 80,
    "start_time": "2021-07-07T17:46:16.292Z"
   },
   {
    "duration": 5,
    "start_time": "2021-07-07T17:46:16.373Z"
   },
   {
    "duration": 26,
    "start_time": "2021-07-07T17:46:16.380Z"
   },
   {
    "duration": 7,
    "start_time": "2021-07-07T17:46:16.408Z"
   },
   {
    "duration": 16,
    "start_time": "2021-07-07T17:46:16.418Z"
   },
   {
    "duration": 5,
    "start_time": "2021-07-07T17:46:16.436Z"
   },
   {
    "duration": 13,
    "start_time": "2021-07-07T17:46:16.442Z"
   },
   {
    "duration": 35,
    "start_time": "2021-07-07T17:46:16.456Z"
   },
   {
    "duration": 8,
    "start_time": "2021-07-07T17:46:16.493Z"
   },
   {
    "duration": 28,
    "start_time": "2021-07-07T17:46:16.502Z"
   },
   {
    "duration": 17,
    "start_time": "2021-07-07T17:46:16.532Z"
   },
   {
    "duration": 44,
    "start_time": "2021-07-07T17:46:16.551Z"
   },
   {
    "duration": 6,
    "start_time": "2021-07-07T17:46:16.597Z"
   },
   {
    "duration": 4,
    "start_time": "2021-07-07T17:46:16.605Z"
   },
   {
    "duration": 9,
    "start_time": "2021-07-07T17:46:16.610Z"
   },
   {
    "duration": 9,
    "start_time": "2021-07-07T17:46:16.621Z"
   },
   {
    "duration": 10,
    "start_time": "2021-07-07T17:46:16.632Z"
   },
   {
    "duration": 43,
    "start_time": "2021-07-07T17:46:16.644Z"
   },
   {
    "duration": 26,
    "start_time": "2021-07-07T17:46:16.689Z"
   },
   {
    "duration": 19,
    "start_time": "2021-07-07T17:46:16.718Z"
   },
   {
    "duration": 8,
    "start_time": "2021-07-07T17:46:16.738Z"
   },
   {
    "duration": 43,
    "start_time": "2021-07-07T17:46:16.747Z"
   },
   {
    "duration": 19,
    "start_time": "2021-07-07T17:46:16.791Z"
   },
   {
    "duration": 9,
    "start_time": "2021-07-07T17:46:16.812Z"
   },
   {
    "duration": 60,
    "start_time": "2021-07-07T17:46:16.822Z"
   },
   {
    "duration": -8,
    "start_time": "2021-07-07T17:46:16.892Z"
   },
   {
    "duration": 12,
    "start_time": "2021-07-07T17:48:47.707Z"
   },
   {
    "duration": 553,
    "start_time": "2021-07-07T18:10:09.350Z"
   },
   {
    "duration": 230,
    "start_time": "2021-07-07T18:10:09.905Z"
   },
   {
    "duration": 97,
    "start_time": "2021-07-07T18:10:10.137Z"
   },
   {
    "duration": 5,
    "start_time": "2021-07-07T18:10:10.236Z"
   },
   {
    "duration": 29,
    "start_time": "2021-07-07T18:10:10.242Z"
   },
   {
    "duration": 7,
    "start_time": "2021-07-07T18:10:10.272Z"
   },
   {
    "duration": 15,
    "start_time": "2021-07-07T18:10:10.281Z"
   },
   {
    "duration": 4,
    "start_time": "2021-07-07T18:10:10.299Z"
   },
   {
    "duration": 14,
    "start_time": "2021-07-07T18:10:10.305Z"
   },
   {
    "duration": 8,
    "start_time": "2021-07-07T18:10:10.321Z"
   },
   {
    "duration": 8,
    "start_time": "2021-07-07T18:10:10.331Z"
   },
   {
    "duration": 56,
    "start_time": "2021-07-07T18:10:10.341Z"
   },
   {
    "duration": 19,
    "start_time": "2021-07-07T18:10:10.399Z"
   },
   {
    "duration": 23,
    "start_time": "2021-07-07T18:10:10.419Z"
   },
   {
    "duration": 6,
    "start_time": "2021-07-07T18:10:10.444Z"
   },
   {
    "duration": 9,
    "start_time": "2021-07-07T18:10:10.451Z"
   },
   {
    "duration": 30,
    "start_time": "2021-07-07T18:10:10.462Z"
   },
   {
    "duration": 9,
    "start_time": "2021-07-07T18:10:10.494Z"
   },
   {
    "duration": 14,
    "start_time": "2021-07-07T18:10:10.505Z"
   },
   {
    "duration": 7,
    "start_time": "2021-07-07T18:10:10.521Z"
   },
   {
    "duration": 26,
    "start_time": "2021-07-07T18:10:10.530Z"
   },
   {
    "duration": 44,
    "start_time": "2021-07-07T18:10:10.558Z"
   },
   {
    "duration": 7,
    "start_time": "2021-07-07T18:10:10.605Z"
   },
   {
    "duration": 11,
    "start_time": "2021-07-07T18:10:10.614Z"
   },
   {
    "duration": 19,
    "start_time": "2021-07-07T18:10:10.626Z"
   },
   {
    "duration": 44,
    "start_time": "2021-07-07T18:10:10.646Z"
   },
   {
    "duration": 516,
    "start_time": "2021-07-07T18:14:00.826Z"
   },
   {
    "duration": 230,
    "start_time": "2021-07-07T18:14:01.344Z"
   },
   {
    "duration": 105,
    "start_time": "2021-07-07T18:14:01.576Z"
   },
   {
    "duration": 5,
    "start_time": "2021-07-07T18:14:01.683Z"
   },
   {
    "duration": 46,
    "start_time": "2021-07-07T18:14:01.690Z"
   },
   {
    "duration": 7,
    "start_time": "2021-07-07T18:14:01.738Z"
   },
   {
    "duration": 20,
    "start_time": "2021-07-07T18:14:01.747Z"
   },
   {
    "duration": 16,
    "start_time": "2021-07-07T18:14:01.769Z"
   },
   {
    "duration": 14,
    "start_time": "2021-07-07T18:14:01.787Z"
   },
   {
    "duration": 15,
    "start_time": "2021-07-07T18:14:01.803Z"
   },
   {
    "duration": 12,
    "start_time": "2021-07-07T18:14:01.820Z"
   },
   {
    "duration": 35,
    "start_time": "2021-07-07T18:14:01.833Z"
   },
   {
    "duration": 31,
    "start_time": "2021-07-07T18:14:01.869Z"
   },
   {
    "duration": 37,
    "start_time": "2021-07-07T18:14:01.902Z"
   },
   {
    "duration": 8,
    "start_time": "2021-07-07T18:14:01.942Z"
   },
   {
    "duration": 16,
    "start_time": "2021-07-07T18:14:01.952Z"
   },
   {
    "duration": 13,
    "start_time": "2021-07-07T18:14:01.970Z"
   },
   {
    "duration": 32,
    "start_time": "2021-07-07T18:14:01.985Z"
   },
   {
    "duration": 11,
    "start_time": "2021-07-07T18:14:02.019Z"
   },
   {
    "duration": 22,
    "start_time": "2021-07-07T18:14:02.031Z"
   },
   {
    "duration": 27,
    "start_time": "2021-07-07T18:14:02.055Z"
   },
   {
    "duration": 18,
    "start_time": "2021-07-07T18:14:02.084Z"
   },
   {
    "duration": 18,
    "start_time": "2021-07-07T18:14:02.106Z"
   },
   {
    "duration": 11,
    "start_time": "2021-07-07T18:14:02.126Z"
   },
   {
    "duration": 21,
    "start_time": "2021-07-07T18:14:02.138Z"
   },
   {
    "duration": 32,
    "start_time": "2021-07-07T18:14:02.161Z"
   },
   {
    "duration": 28,
    "start_time": "2021-07-07T18:14:44.295Z"
   },
   {
    "duration": 6,
    "start_time": "2021-07-07T18:15:05.834Z"
   },
   {
    "duration": 511,
    "start_time": "2021-07-07T18:15:41.541Z"
   },
   {
    "duration": 183,
    "start_time": "2021-07-07T18:15:42.054Z"
   },
   {
    "duration": 50,
    "start_time": "2021-07-07T18:15:42.239Z"
   },
   {
    "duration": 5,
    "start_time": "2021-07-07T18:15:42.291Z"
   },
   {
    "duration": 48,
    "start_time": "2021-07-07T18:15:42.297Z"
   },
   {
    "duration": 8,
    "start_time": "2021-07-07T18:15:42.346Z"
   },
   {
    "duration": 17,
    "start_time": "2021-07-07T18:15:42.356Z"
   },
   {
    "duration": 15,
    "start_time": "2021-07-07T18:15:42.375Z"
   },
   {
    "duration": 12,
    "start_time": "2021-07-07T18:15:42.392Z"
   },
   {
    "duration": 7,
    "start_time": "2021-07-07T18:15:42.406Z"
   },
   {
    "duration": 7,
    "start_time": "2021-07-07T18:15:42.415Z"
   },
   {
    "duration": 29,
    "start_time": "2021-07-07T18:15:42.423Z"
   },
   {
    "duration": 43,
    "start_time": "2021-07-07T18:15:42.453Z"
   },
   {
    "duration": 18,
    "start_time": "2021-07-07T18:15:42.497Z"
   },
   {
    "duration": 6,
    "start_time": "2021-07-07T18:15:42.516Z"
   },
   {
    "duration": 3,
    "start_time": "2021-07-07T18:15:42.523Z"
   },
   {
    "duration": 18,
    "start_time": "2021-07-07T18:15:42.528Z"
   },
   {
    "duration": 10,
    "start_time": "2021-07-07T18:15:42.547Z"
   },
   {
    "duration": 36,
    "start_time": "2021-07-07T18:15:42.559Z"
   },
   {
    "duration": 8,
    "start_time": "2021-07-07T18:15:42.597Z"
   },
   {
    "duration": 28,
    "start_time": "2021-07-07T18:15:42.606Z"
   },
   {
    "duration": 52,
    "start_time": "2021-07-07T18:15:42.635Z"
   },
   {
    "duration": 7,
    "start_time": "2021-07-07T18:15:42.690Z"
   },
   {
    "duration": 10,
    "start_time": "2021-07-07T18:15:42.699Z"
   },
   {
    "duration": 19,
    "start_time": "2021-07-07T18:15:42.711Z"
   },
   {
    "duration": 9,
    "start_time": "2021-07-07T18:15:42.732Z"
   },
   {
    "duration": 5,
    "start_time": "2021-07-07T18:15:42.743Z"
   },
   {
    "duration": 1450,
    "start_time": "2021-07-07T18:15:51.984Z"
   },
   {
    "duration": 161,
    "start_time": "2021-07-07T18:15:53.435Z"
   },
   {
    "duration": 124,
    "start_time": "2021-07-07T18:15:53.598Z"
   },
   {
    "duration": 5,
    "start_time": "2021-07-07T18:15:53.724Z"
   },
   {
    "duration": 34,
    "start_time": "2021-07-07T18:15:53.730Z"
   },
   {
    "duration": 7,
    "start_time": "2021-07-07T18:15:53.765Z"
   },
   {
    "duration": 15,
    "start_time": "2021-07-07T18:15:53.773Z"
   },
   {
    "duration": 5,
    "start_time": "2021-07-07T18:15:53.791Z"
   },
   {
    "duration": 19,
    "start_time": "2021-07-07T18:15:53.798Z"
   },
   {
    "duration": 9,
    "start_time": "2021-07-07T18:15:53.818Z"
   },
   {
    "duration": 19,
    "start_time": "2021-07-07T18:15:53.828Z"
   },
   {
    "duration": 27,
    "start_time": "2021-07-07T18:15:53.848Z"
   },
   {
    "duration": 16,
    "start_time": "2021-07-07T18:15:53.884Z"
   },
   {
    "duration": 29,
    "start_time": "2021-07-07T18:15:53.901Z"
   },
   {
    "duration": 5,
    "start_time": "2021-07-07T18:15:53.932Z"
   },
   {
    "duration": 15,
    "start_time": "2021-07-07T18:15:53.939Z"
   },
   {
    "duration": 13,
    "start_time": "2021-07-07T18:15:53.956Z"
   },
   {
    "duration": 20,
    "start_time": "2021-07-07T18:15:53.971Z"
   },
   {
    "duration": 14,
    "start_time": "2021-07-07T18:15:53.992Z"
   },
   {
    "duration": 9,
    "start_time": "2021-07-07T18:15:54.009Z"
   },
   {
    "duration": 28,
    "start_time": "2021-07-07T18:15:54.020Z"
   },
   {
    "duration": 50,
    "start_time": "2021-07-07T18:15:54.051Z"
   },
   {
    "duration": 8,
    "start_time": "2021-07-07T18:15:54.105Z"
   },
   {
    "duration": 11,
    "start_time": "2021-07-07T18:15:54.115Z"
   },
   {
    "duration": 20,
    "start_time": "2021-07-07T18:15:54.128Z"
   },
   {
    "duration": 13,
    "start_time": "2021-07-07T18:15:54.184Z"
   },
   {
    "duration": 7,
    "start_time": "2021-07-07T18:15:54.199Z"
   },
   {
    "duration": 7,
    "start_time": "2021-07-07T18:17:08.042Z"
   },
   {
    "duration": 8,
    "start_time": "2021-07-07T18:17:21.008Z"
   },
   {
    "duration": 7,
    "start_time": "2021-07-07T18:17:29.003Z"
   },
   {
    "duration": 8,
    "start_time": "2021-07-07T18:17:32.492Z"
   },
   {
    "duration": 9,
    "start_time": "2021-07-07T18:17:41.758Z"
   },
   {
    "duration": 255,
    "start_time": "2021-07-07T18:20:20.897Z"
   },
   {
    "duration": 173,
    "start_time": "2021-07-07T18:20:26.636Z"
   },
   {
    "duration": 7,
    "start_time": "2021-07-07T18:21:47.164Z"
   },
   {
    "duration": 254,
    "start_time": "2021-07-07T18:23:08.703Z"
   },
   {
    "duration": 21,
    "start_time": "2021-07-07T18:23:22.506Z"
   },
   {
    "duration": 315,
    "start_time": "2021-07-07T18:25:54.801Z"
   },
   {
    "duration": 34,
    "start_time": "2021-07-07T18:26:51.817Z"
   },
   {
    "duration": 327,
    "start_time": "2021-07-07T18:26:56.147Z"
   },
   {
    "duration": 342,
    "start_time": "2021-07-07T18:27:15.887Z"
   },
   {
    "duration": 302,
    "start_time": "2021-07-07T18:28:18.569Z"
   },
   {
    "duration": 226,
    "start_time": "2021-07-07T18:29:20.879Z"
   },
   {
    "duration": 207,
    "start_time": "2021-07-07T18:29:58.114Z"
   },
   {
    "duration": 140,
    "start_time": "2021-07-07T18:32:04.372Z"
   },
   {
    "duration": 158,
    "start_time": "2021-07-07T18:32:32.508Z"
   },
   {
    "duration": 145,
    "start_time": "2021-07-07T18:32:41.365Z"
   },
   {
    "duration": 132,
    "start_time": "2021-07-07T18:32:45.199Z"
   },
   {
    "duration": 11,
    "start_time": "2021-07-07T18:35:24.679Z"
   },
   {
    "duration": 268,
    "start_time": "2021-07-07T18:36:16.145Z"
   },
   {
    "duration": 227,
    "start_time": "2021-07-07T18:37:04.918Z"
   },
   {
    "duration": 3,
    "start_time": "2021-07-07T18:37:33.012Z"
   },
   {
    "duration": 671,
    "start_time": "2021-07-07T18:37:38.295Z"
   },
   {
    "duration": 54,
    "start_time": "2021-07-07T18:37:53.406Z"
   },
   {
    "duration": 631,
    "start_time": "2021-07-07T18:37:56.463Z"
   },
   {
    "duration": 19,
    "start_time": "2021-07-07T18:39:40.535Z"
   },
   {
    "duration": 20,
    "start_time": "2021-07-07T18:40:12.236Z"
   },
   {
    "duration": 633,
    "start_time": "2021-07-07T18:42:00.398Z"
   },
   {
    "duration": 218,
    "start_time": "2021-07-07T18:42:01.033Z"
   },
   {
    "duration": 49,
    "start_time": "2021-07-07T18:42:01.253Z"
   },
   {
    "duration": 5,
    "start_time": "2021-07-07T18:42:01.303Z"
   },
   {
    "duration": 27,
    "start_time": "2021-07-07T18:42:01.310Z"
   },
   {
    "duration": 8,
    "start_time": "2021-07-07T18:42:01.339Z"
   },
   {
    "duration": 20,
    "start_time": "2021-07-07T18:42:01.348Z"
   },
   {
    "duration": 6,
    "start_time": "2021-07-07T18:42:01.386Z"
   },
   {
    "duration": 16,
    "start_time": "2021-07-07T18:42:01.394Z"
   },
   {
    "duration": 9,
    "start_time": "2021-07-07T18:42:01.411Z"
   },
   {
    "duration": 11,
    "start_time": "2021-07-07T18:42:01.421Z"
   },
   {
    "duration": 31,
    "start_time": "2021-07-07T18:42:01.434Z"
   },
   {
    "duration": 18,
    "start_time": "2021-07-07T18:42:01.485Z"
   },
   {
    "duration": 23,
    "start_time": "2021-07-07T18:42:01.505Z"
   },
   {
    "duration": 6,
    "start_time": "2021-07-07T18:42:01.530Z"
   },
   {
    "duration": 10,
    "start_time": "2021-07-07T18:42:01.538Z"
   },
   {
    "duration": 13,
    "start_time": "2021-07-07T18:42:01.550Z"
   },
   {
    "duration": 24,
    "start_time": "2021-07-07T18:42:01.564Z"
   },
   {
    "duration": 20,
    "start_time": "2021-07-07T18:42:01.590Z"
   },
   {
    "duration": 8,
    "start_time": "2021-07-07T18:42:01.611Z"
   },
   {
    "duration": 31,
    "start_time": "2021-07-07T18:42:01.620Z"
   },
   {
    "duration": 39,
    "start_time": "2021-07-07T18:42:01.653Z"
   },
   {
    "duration": 8,
    "start_time": "2021-07-07T18:42:01.696Z"
   },
   {
    "duration": 13,
    "start_time": "2021-07-07T18:42:01.705Z"
   },
   {
    "duration": 20,
    "start_time": "2021-07-07T18:42:01.720Z"
   },
   {
    "duration": 12,
    "start_time": "2021-07-07T18:42:01.741Z"
   },
   {
    "duration": 35,
    "start_time": "2021-07-07T18:42:01.755Z"
   },
   {
    "duration": 14,
    "start_time": "2021-07-07T18:42:01.792Z"
   },
   {
    "duration": 188,
    "start_time": "2021-07-07T18:42:01.808Z"
   },
   {
    "duration": 19,
    "start_time": "2021-07-07T18:42:01.998Z"
   },
   {
    "duration": 175,
    "start_time": "2021-07-07T18:42:02.019Z"
   },
   {
    "duration": 134,
    "start_time": "2021-07-07T18:42:02.196Z"
   },
   {
    "duration": 10,
    "start_time": "2021-07-07T18:42:02.331Z"
   },
   {
    "duration": 19,
    "start_time": "2021-07-07T18:42:02.343Z"
   },
   {
    "duration": 628,
    "start_time": "2021-07-07T18:46:30.701Z"
   },
   {
    "duration": 183,
    "start_time": "2021-07-07T18:46:31.331Z"
   },
   {
    "duration": 48,
    "start_time": "2021-07-07T18:46:31.516Z"
   },
   {
    "duration": 5,
    "start_time": "2021-07-07T18:46:31.566Z"
   },
   {
    "duration": 28,
    "start_time": "2021-07-07T18:46:31.572Z"
   },
   {
    "duration": 8,
    "start_time": "2021-07-07T18:46:31.602Z"
   },
   {
    "duration": 19,
    "start_time": "2021-07-07T18:46:31.611Z"
   },
   {
    "duration": 6,
    "start_time": "2021-07-07T18:46:31.633Z"
   },
   {
    "duration": 17,
    "start_time": "2021-07-07T18:46:31.642Z"
   },
   {
    "duration": 10,
    "start_time": "2021-07-07T18:46:31.684Z"
   },
   {
    "duration": 9,
    "start_time": "2021-07-07T18:46:31.695Z"
   },
   {
    "duration": 28,
    "start_time": "2021-07-07T18:46:31.705Z"
   },
   {
    "duration": 18,
    "start_time": "2021-07-07T18:46:31.735Z"
   },
   {
    "duration": 48,
    "start_time": "2021-07-07T18:46:31.755Z"
   },
   {
    "duration": 6,
    "start_time": "2021-07-07T18:46:31.804Z"
   },
   {
    "duration": 4,
    "start_time": "2021-07-07T18:46:31.812Z"
   },
   {
    "duration": 9,
    "start_time": "2021-07-07T18:46:31.817Z"
   },
   {
    "duration": 10,
    "start_time": "2021-07-07T18:46:31.827Z"
   },
   {
    "duration": 12,
    "start_time": "2021-07-07T18:46:31.838Z"
   },
   {
    "duration": 39,
    "start_time": "2021-07-07T18:46:31.851Z"
   },
   {
    "duration": 24,
    "start_time": "2021-07-07T18:46:31.892Z"
   },
   {
    "duration": 15,
    "start_time": "2021-07-07T18:46:31.918Z"
   },
   {
    "duration": 7,
    "start_time": "2021-07-07T18:46:31.936Z"
   },
   {
    "duration": 8,
    "start_time": "2021-07-07T18:46:31.944Z"
   },
   {
    "duration": 19,
    "start_time": "2021-07-07T18:46:31.984Z"
   },
   {
    "duration": 10,
    "start_time": "2021-07-07T18:46:32.004Z"
   },
   {
    "duration": 5,
    "start_time": "2021-07-07T18:46:32.016Z"
   },
   {
    "duration": 9,
    "start_time": "2021-07-07T18:46:32.023Z"
   },
   {
    "duration": 199,
    "start_time": "2021-07-07T18:46:32.033Z"
   },
   {
    "duration": 19,
    "start_time": "2021-07-07T18:46:32.234Z"
   },
   {
    "duration": 159,
    "start_time": "2021-07-07T18:46:32.255Z"
   },
   {
    "duration": 134,
    "start_time": "2021-07-07T18:46:32.416Z"
   },
   {
    "duration": 10,
    "start_time": "2021-07-07T18:46:32.552Z"
   },
   {
    "duration": 34,
    "start_time": "2021-07-07T18:46:32.563Z"
   },
   {
    "duration": 1039,
    "start_time": "2021-07-08T08:41:09.419Z"
   },
   {
    "duration": 333,
    "start_time": "2021-07-08T08:41:10.459Z"
   },
   {
    "duration": 173,
    "start_time": "2021-07-08T08:41:10.794Z"
   },
   {
    "duration": 5,
    "start_time": "2021-07-08T08:41:10.968Z"
   },
   {
    "duration": 25,
    "start_time": "2021-07-08T08:41:10.975Z"
   },
   {
    "duration": 9,
    "start_time": "2021-07-08T08:41:11.002Z"
   },
   {
    "duration": 18,
    "start_time": "2021-07-08T08:41:11.013Z"
   },
   {
    "duration": 6,
    "start_time": "2021-07-08T08:41:11.033Z"
   },
   {
    "duration": 44,
    "start_time": "2021-07-08T08:41:11.042Z"
   },
   {
    "duration": 10,
    "start_time": "2021-07-08T08:41:11.088Z"
   },
   {
    "duration": 9,
    "start_time": "2021-07-08T08:41:11.100Z"
   },
   {
    "duration": 27,
    "start_time": "2021-07-08T08:41:11.111Z"
   },
   {
    "duration": 46,
    "start_time": "2021-07-08T08:41:11.140Z"
   },
   {
    "duration": 17,
    "start_time": "2021-07-08T08:41:11.187Z"
   },
   {
    "duration": 6,
    "start_time": "2021-07-08T08:41:11.206Z"
   },
   {
    "duration": 5,
    "start_time": "2021-07-08T08:41:11.213Z"
   },
   {
    "duration": 10,
    "start_time": "2021-07-08T08:41:11.219Z"
   },
   {
    "duration": 9,
    "start_time": "2021-07-08T08:41:11.230Z"
   },
   {
    "duration": 45,
    "start_time": "2021-07-08T08:41:11.241Z"
   },
   {
    "duration": 7,
    "start_time": "2021-07-08T08:41:11.287Z"
   },
   {
    "duration": 24,
    "start_time": "2021-07-08T08:41:11.296Z"
   },
   {
    "duration": 16,
    "start_time": "2021-07-08T08:41:11.322Z"
   },
   {
    "duration": 7,
    "start_time": "2021-07-08T08:41:11.341Z"
   },
   {
    "duration": 41,
    "start_time": "2021-07-08T08:41:11.349Z"
   },
   {
    "duration": 17,
    "start_time": "2021-07-08T08:41:11.391Z"
   },
   {
    "duration": 9,
    "start_time": "2021-07-08T08:41:11.410Z"
   },
   {
    "duration": 5,
    "start_time": "2021-07-08T08:41:11.421Z"
   },
   {
    "duration": 6,
    "start_time": "2021-07-08T08:41:11.428Z"
   },
   {
    "duration": 198,
    "start_time": "2021-07-08T08:41:11.435Z"
   },
   {
    "duration": 18,
    "start_time": "2021-07-08T08:41:11.635Z"
   },
   {
    "duration": 155,
    "start_time": "2021-07-08T08:41:11.655Z"
   },
   {
    "duration": 138,
    "start_time": "2021-07-08T08:41:11.811Z"
   },
   {
    "duration": 10,
    "start_time": "2021-07-08T08:41:11.950Z"
   },
   {
    "duration": 29,
    "start_time": "2021-07-08T08:41:11.961Z"
   },
   {
    "duration": 171,
    "start_time": "2021-07-08T08:47:44.522Z"
   },
   {
    "duration": 124,
    "start_time": "2021-07-08T08:47:46.872Z"
   },
   {
    "duration": 191,
    "start_time": "2021-07-08T08:47:58.148Z"
   },
   {
    "duration": 191,
    "start_time": "2021-07-08T08:48:07.412Z"
   },
   {
    "duration": 261,
    "start_time": "2021-07-08T08:48:10.385Z"
   },
   {
    "duration": 255,
    "start_time": "2021-07-08T08:48:14.494Z"
   },
   {
    "duration": 219,
    "start_time": "2021-07-08T08:48:22.752Z"
   },
   {
    "duration": 173,
    "start_time": "2021-07-08T08:49:06.395Z"
   },
   {
    "duration": 180,
    "start_time": "2021-07-08T08:49:21.011Z"
   },
   {
    "duration": 6,
    "start_time": "2021-07-08T08:50:31.697Z"
   },
   {
    "duration": 10,
    "start_time": "2021-07-08T08:50:47.394Z"
   },
   {
    "duration": 11,
    "start_time": "2021-07-08T08:53:49.332Z"
   },
   {
    "duration": 171,
    "start_time": "2021-07-08T08:54:28.408Z"
   },
   {
    "duration": 636,
    "start_time": "2021-07-08T09:02:48.385Z"
   },
   {
    "duration": 227,
    "start_time": "2021-07-08T09:02:49.023Z"
   },
   {
    "duration": 104,
    "start_time": "2021-07-08T09:02:49.252Z"
   },
   {
    "duration": 5,
    "start_time": "2021-07-08T09:02:49.358Z"
   },
   {
    "duration": 27,
    "start_time": "2021-07-08T09:02:49.365Z"
   },
   {
    "duration": 8,
    "start_time": "2021-07-08T09:02:49.394Z"
   },
   {
    "duration": 18,
    "start_time": "2021-07-08T09:02:49.404Z"
   },
   {
    "duration": 6,
    "start_time": "2021-07-08T09:02:49.424Z"
   },
   {
    "duration": 11,
    "start_time": "2021-07-08T09:02:49.433Z"
   },
   {
    "duration": 13,
    "start_time": "2021-07-08T09:02:49.485Z"
   },
   {
    "duration": 9,
    "start_time": "2021-07-08T09:02:49.500Z"
   },
   {
    "duration": 38,
    "start_time": "2021-07-08T09:02:49.511Z"
   },
   {
    "duration": 42,
    "start_time": "2021-07-08T09:02:49.551Z"
   },
   {
    "duration": 21,
    "start_time": "2021-07-08T09:02:49.594Z"
   },
   {
    "duration": 6,
    "start_time": "2021-07-08T09:02:49.616Z"
   },
   {
    "duration": 3,
    "start_time": "2021-07-08T09:02:49.623Z"
   },
   {
    "duration": 9,
    "start_time": "2021-07-08T09:02:49.628Z"
   },
   {
    "duration": 52,
    "start_time": "2021-07-08T09:02:49.638Z"
   },
   {
    "duration": 11,
    "start_time": "2021-07-08T09:02:49.692Z"
   },
   {
    "duration": 8,
    "start_time": "2021-07-08T09:02:49.704Z"
   },
   {
    "duration": 27,
    "start_time": "2021-07-08T09:02:49.713Z"
   },
   {
    "duration": 59,
    "start_time": "2021-07-08T09:02:49.741Z"
   },
   {
    "duration": 8,
    "start_time": "2021-07-08T09:02:49.803Z"
   },
   {
    "duration": 14,
    "start_time": "2021-07-08T09:02:49.813Z"
   },
   {
    "duration": 20,
    "start_time": "2021-07-08T09:02:49.829Z"
   },
   {
    "duration": 44,
    "start_time": "2021-07-08T09:02:49.851Z"
   },
   {
    "duration": 14,
    "start_time": "2021-07-08T09:02:49.896Z"
   },
   {
    "duration": 221,
    "start_time": "2021-07-08T09:02:49.912Z"
   },
   {
    "duration": 6,
    "start_time": "2021-07-08T09:02:50.134Z"
   },
   {
    "duration": 206,
    "start_time": "2021-07-08T09:02:50.142Z"
   },
   {
    "duration": 19,
    "start_time": "2021-07-08T09:02:50.350Z"
   },
   {
    "duration": 21,
    "start_time": "2021-07-08T09:02:50.370Z"
   },
   {
    "duration": 20,
    "start_time": "2021-07-08T09:02:50.393Z"
   },
   {
    "duration": 5,
    "start_time": "2021-07-08T09:02:50.414Z"
   },
   {
    "duration": 5,
    "start_time": "2021-07-08T09:03:34.173Z"
   },
   {
    "duration": 6,
    "start_time": "2021-07-08T09:04:49.062Z"
   },
   {
    "duration": 9,
    "start_time": "2021-07-08T09:04:50.118Z"
   },
   {
    "duration": 14,
    "start_time": "2021-07-08T09:04:58.512Z"
   },
   {
    "duration": 9,
    "start_time": "2021-07-08T09:05:10.988Z"
   },
   {
    "duration": 11,
    "start_time": "2021-07-08T09:05:11.743Z"
   },
   {
    "duration": 7,
    "start_time": "2021-07-08T09:05:25.677Z"
   },
   {
    "duration": 13,
    "start_time": "2021-07-08T09:05:47.189Z"
   },
   {
    "duration": 13,
    "start_time": "2021-07-08T09:05:54.755Z"
   },
   {
    "duration": 4,
    "start_time": "2021-07-08T09:06:29.189Z"
   },
   {
    "duration": 244,
    "start_time": "2021-07-08T09:06:29.195Z"
   },
   {
    "duration": 91,
    "start_time": "2021-07-08T09:06:29.441Z"
   },
   {
    "duration": 4,
    "start_time": "2021-07-08T09:06:29.534Z"
   },
   {
    "duration": 28,
    "start_time": "2021-07-08T09:06:29.540Z"
   },
   {
    "duration": 6,
    "start_time": "2021-07-08T09:06:29.570Z"
   },
   {
    "duration": 18,
    "start_time": "2021-07-08T09:06:29.578Z"
   },
   {
    "duration": 5,
    "start_time": "2021-07-08T09:06:29.597Z"
   },
   {
    "duration": 13,
    "start_time": "2021-07-08T09:06:29.605Z"
   },
   {
    "duration": 8,
    "start_time": "2021-07-08T09:06:29.620Z"
   },
   {
    "duration": 7,
    "start_time": "2021-07-08T09:06:29.630Z"
   },
   {
    "duration": 63,
    "start_time": "2021-07-08T09:06:29.639Z"
   },
   {
    "duration": 17,
    "start_time": "2021-07-08T09:06:29.704Z"
   },
   {
    "duration": 20,
    "start_time": "2021-07-08T09:06:29.723Z"
   },
   {
    "duration": 6,
    "start_time": "2021-07-08T09:06:29.745Z"
   },
   {
    "duration": 3,
    "start_time": "2021-07-08T09:06:29.752Z"
   },
   {
    "duration": 7,
    "start_time": "2021-07-08T09:06:29.785Z"
   },
   {
    "duration": 11,
    "start_time": "2021-07-08T09:06:29.794Z"
   },
   {
    "duration": 15,
    "start_time": "2021-07-08T09:06:29.807Z"
   },
   {
    "duration": 8,
    "start_time": "2021-07-08T09:06:29.823Z"
   },
   {
    "duration": 70,
    "start_time": "2021-07-08T09:06:29.832Z"
   },
   {
    "duration": 17,
    "start_time": "2021-07-08T09:06:29.903Z"
   },
   {
    "duration": 9,
    "start_time": "2021-07-08T09:06:29.921Z"
   },
   {
    "duration": 9,
    "start_time": "2021-07-08T09:06:29.932Z"
   },
   {
    "duration": 57,
    "start_time": "2021-07-08T09:06:29.942Z"
   },
   {
    "duration": 11,
    "start_time": "2021-07-08T09:06:30.001Z"
   },
   {
    "duration": 19,
    "start_time": "2021-07-08T09:06:30.016Z"
   },
   {
    "duration": 217,
    "start_time": "2021-07-08T09:06:30.037Z"
   },
   {
    "duration": 6,
    "start_time": "2021-07-08T09:06:30.255Z"
   },
   {
    "duration": 205,
    "start_time": "2021-07-08T09:06:30.263Z"
   },
   {
    "duration": 27,
    "start_time": "2021-07-08T09:06:30.470Z"
   },
   {
    "duration": 11,
    "start_time": "2021-07-08T09:06:30.500Z"
   },
   {
    "duration": 31,
    "start_time": "2021-07-08T09:06:30.513Z"
   },
   {
    "duration": 18,
    "start_time": "2021-07-08T09:06:30.546Z"
   },
   {
    "duration": 11,
    "start_time": "2021-07-08T09:06:30.566Z"
   },
   {
    "duration": 19,
    "start_time": "2021-07-08T09:06:30.579Z"
   },
   {
    "duration": 20,
    "start_time": "2021-07-08T09:06:49.466Z"
   },
   {
    "duration": 9,
    "start_time": "2021-07-08T09:06:51.994Z"
   },
   {
    "duration": 20,
    "start_time": "2021-07-08T09:06:52.273Z"
   },
   {
    "duration": 246,
    "start_time": "2021-07-08T09:10:21.272Z"
   },
   {
    "duration": 84,
    "start_time": "2021-07-08T09:10:21.436Z"
   },
   {
    "duration": 7,
    "start_time": "2021-07-08T09:10:37.608Z"
   },
   {
    "duration": 189,
    "start_time": "2021-07-08T09:10:38.573Z"
   },
   {
    "duration": 185,
    "start_time": "2021-07-08T09:10:53.181Z"
   },
   {
    "duration": 11,
    "start_time": "2021-07-08T09:10:59.549Z"
   },
   {
    "duration": 42,
    "start_time": "2021-07-08T09:10:59.709Z"
   },
   {
    "duration": 12,
    "start_time": "2021-07-08T09:11:02.857Z"
   },
   {
    "duration": 28,
    "start_time": "2021-07-08T09:11:10.062Z"
   },
   {
    "duration": 249,
    "start_time": "2021-07-08T09:11:37.388Z"
   },
   {
    "duration": 232,
    "start_time": "2021-07-08T09:11:49.485Z"
   },
   {
    "duration": 453,
    "start_time": "2021-07-08T09:12:01.546Z"
   },
   {
    "duration": 440,
    "start_time": "2021-07-08T09:12:12.347Z"
   },
   {
    "duration": 213,
    "start_time": "2021-07-08T09:13:32.196Z"
   },
   {
    "duration": 172,
    "start_time": "2021-07-08T09:14:07.400Z"
   },
   {
    "duration": 185,
    "start_time": "2021-07-08T09:14:14.905Z"
   },
   {
    "duration": 209,
    "start_time": "2021-07-08T09:14:40.109Z"
   },
   {
    "duration": 201,
    "start_time": "2021-07-08T09:14:54.506Z"
   },
   {
    "duration": 622,
    "start_time": "2021-07-08T09:18:14.497Z"
   },
   {
    "duration": 220,
    "start_time": "2021-07-08T09:18:15.121Z"
   },
   {
    "duration": 79,
    "start_time": "2021-07-08T09:18:15.343Z"
   },
   {
    "duration": 4,
    "start_time": "2021-07-08T09:18:15.425Z"
   },
   {
    "duration": 24,
    "start_time": "2021-07-08T09:18:15.431Z"
   },
   {
    "duration": 8,
    "start_time": "2021-07-08T09:18:15.457Z"
   },
   {
    "duration": 16,
    "start_time": "2021-07-08T09:18:15.466Z"
   },
   {
    "duration": 5,
    "start_time": "2021-07-08T09:18:15.484Z"
   },
   {
    "duration": 10,
    "start_time": "2021-07-08T09:18:15.493Z"
   },
   {
    "duration": 8,
    "start_time": "2021-07-08T09:18:15.504Z"
   },
   {
    "duration": 7,
    "start_time": "2021-07-08T09:18:15.513Z"
   },
   {
    "duration": 26,
    "start_time": "2021-07-08T09:18:15.522Z"
   },
   {
    "duration": 49,
    "start_time": "2021-07-08T09:18:15.550Z"
   },
   {
    "duration": 21,
    "start_time": "2021-07-08T09:18:15.601Z"
   },
   {
    "duration": 8,
    "start_time": "2021-07-08T09:18:15.624Z"
   },
   {
    "duration": 3,
    "start_time": "2021-07-08T09:18:15.634Z"
   },
   {
    "duration": 8,
    "start_time": "2021-07-08T09:18:15.639Z"
   },
   {
    "duration": 45,
    "start_time": "2021-07-08T09:18:15.649Z"
   },
   {
    "duration": 13,
    "start_time": "2021-07-08T09:18:15.696Z"
   },
   {
    "duration": 10,
    "start_time": "2021-07-08T09:18:15.711Z"
   },
   {
    "duration": 64,
    "start_time": "2021-07-08T09:18:15.722Z"
   },
   {
    "duration": 19,
    "start_time": "2021-07-08T09:18:15.788Z"
   },
   {
    "duration": 9,
    "start_time": "2021-07-08T09:18:15.809Z"
   },
   {
    "duration": 9,
    "start_time": "2021-07-08T09:18:15.820Z"
   },
   {
    "duration": 18,
    "start_time": "2021-07-08T09:18:15.831Z"
   },
   {
    "duration": 43,
    "start_time": "2021-07-08T09:18:15.851Z"
   },
   {
    "duration": 12,
    "start_time": "2021-07-08T09:18:15.897Z"
   },
   {
    "duration": 219,
    "start_time": "2021-07-08T09:18:15.911Z"
   },
   {
    "duration": 8,
    "start_time": "2021-07-08T09:18:16.132Z"
   },
   {
    "duration": 199,
    "start_time": "2021-07-08T09:18:16.141Z"
   },
   {
    "duration": 18,
    "start_time": "2021-07-08T09:18:16.341Z"
   },
   {
    "duration": 24,
    "start_time": "2021-07-08T09:18:16.361Z"
   },
   {
    "duration": 24,
    "start_time": "2021-07-08T09:18:16.387Z"
   },
   {
    "duration": 211,
    "start_time": "2021-07-08T09:18:16.413Z"
   },
   {
    "duration": 18,
    "start_time": "2021-07-08T09:18:16.626Z"
   },
   {
    "duration": 596,
    "start_time": "2021-07-08T10:06:33.623Z"
   },
   {
    "duration": 181,
    "start_time": "2021-07-08T10:06:34.221Z"
   },
   {
    "duration": 176,
    "start_time": "2021-07-08T10:06:34.635Z"
   },
   {
    "duration": 239,
    "start_time": "2021-07-08T10:06:55.572Z"
   },
   {
    "duration": 6,
    "start_time": "2021-07-08T10:06:57.687Z"
   },
   {
    "duration": 4,
    "start_time": "2021-07-08T10:07:03.956Z"
   },
   {
    "duration": 4,
    "start_time": "2021-07-08T10:07:10.376Z"
   },
   {
    "duration": 4,
    "start_time": "2021-07-08T10:17:19.889Z"
   },
   {
    "duration": 3,
    "start_time": "2021-07-08T10:19:19.407Z"
   },
   {
    "duration": 197,
    "start_time": "2021-07-08T10:19:19.412Z"
   },
   {
    "duration": 127,
    "start_time": "2021-07-08T10:19:19.611Z"
   },
   {
    "duration": 4,
    "start_time": "2021-07-08T10:19:19.740Z"
   },
   {
    "duration": 27,
    "start_time": "2021-07-08T10:19:19.746Z"
   },
   {
    "duration": 7,
    "start_time": "2021-07-08T10:19:19.775Z"
   },
   {
    "duration": 30,
    "start_time": "2021-07-08T10:19:19.784Z"
   },
   {
    "duration": 7,
    "start_time": "2021-07-08T10:19:19.817Z"
   },
   {
    "duration": 26,
    "start_time": "2021-07-08T10:19:19.826Z"
   },
   {
    "duration": 18,
    "start_time": "2021-07-08T10:19:19.854Z"
   },
   {
    "duration": 14,
    "start_time": "2021-07-08T10:19:19.874Z"
   },
   {
    "duration": 48,
    "start_time": "2021-07-08T10:19:19.890Z"
   },
   {
    "duration": 17,
    "start_time": "2021-07-08T10:19:19.940Z"
   },
   {
    "duration": 38,
    "start_time": "2021-07-08T10:19:19.959Z"
   },
   {
    "duration": 8,
    "start_time": "2021-07-08T10:19:19.999Z"
   },
   {
    "duration": 15,
    "start_time": "2021-07-08T10:19:20.009Z"
   },
   {
    "duration": 22,
    "start_time": "2021-07-08T10:19:20.026Z"
   },
   {
    "duration": 10,
    "start_time": "2021-07-08T10:19:20.050Z"
   },
   {
    "duration": 10,
    "start_time": "2021-07-08T10:19:20.062Z"
   },
   {
    "duration": 20,
    "start_time": "2021-07-08T10:19:20.073Z"
   },
   {
    "duration": 29,
    "start_time": "2021-07-08T10:19:20.095Z"
   },
   {
    "duration": 17,
    "start_time": "2021-07-08T10:19:20.126Z"
   },
   {
    "duration": 40,
    "start_time": "2021-07-08T10:19:20.146Z"
   },
   {
    "duration": 15,
    "start_time": "2021-07-08T10:19:20.189Z"
   },
   {
    "duration": 19,
    "start_time": "2021-07-08T10:19:20.206Z"
   },
   {
    "duration": 10,
    "start_time": "2021-07-08T10:19:20.226Z"
   },
   {
    "duration": 11,
    "start_time": "2021-07-08T10:19:20.238Z"
   },
   {
    "duration": 297,
    "start_time": "2021-07-08T10:19:20.250Z"
   },
   {
    "duration": 6,
    "start_time": "2021-07-08T10:19:20.549Z"
   },
   {
    "duration": 191,
    "start_time": "2021-07-08T10:19:20.557Z"
   },
   {
    "duration": 19,
    "start_time": "2021-07-08T10:19:20.750Z"
   },
   {
    "duration": 20,
    "start_time": "2021-07-08T10:19:20.771Z"
   },
   {
    "duration": 15,
    "start_time": "2021-07-08T10:19:20.793Z"
   },
   {
    "duration": 222,
    "start_time": "2021-07-08T10:19:20.809Z"
   },
   {
    "duration": 20,
    "start_time": "2021-07-08T10:19:21.033Z"
   },
   {
    "duration": 27,
    "start_time": "2021-07-08T10:45:04.055Z"
   },
   {
    "duration": 8,
    "start_time": "2021-07-08T10:45:08.478Z"
   },
   {
    "duration": 8,
    "start_time": "2021-07-08T10:45:31.982Z"
   },
   {
    "duration": 10,
    "start_time": "2021-07-08T10:46:01.221Z"
   },
   {
    "duration": 17,
    "start_time": "2021-07-08T10:46:40.011Z"
   },
   {
    "duration": 193,
    "start_time": "2021-07-08T10:48:19.471Z"
   },
   {
    "duration": 225,
    "start_time": "2021-07-08T10:49:26.480Z"
   },
   {
    "duration": 204,
    "start_time": "2021-07-08T10:49:59.992Z"
   },
   {
    "duration": 435,
    "start_time": "2021-07-08T10:50:06.779Z"
   },
   {
    "duration": 199,
    "start_time": "2021-07-08T10:50:14.891Z"
   },
   {
    "duration": 204,
    "start_time": "2021-07-08T10:50:18.501Z"
   },
   {
    "duration": 244,
    "start_time": "2021-07-08T10:50:23.359Z"
   },
   {
    "duration": 192,
    "start_time": "2021-07-08T10:50:29.135Z"
   },
   {
    "duration": 218,
    "start_time": "2021-07-08T10:50:33.092Z"
   },
   {
    "duration": 207,
    "start_time": "2021-07-08T10:52:45.381Z"
   },
   {
    "duration": 5,
    "start_time": "2021-07-08T10:53:34.641Z"
   },
   {
    "duration": 196,
    "start_time": "2021-07-08T10:53:41.478Z"
   },
   {
    "duration": 43,
    "start_time": "2021-07-08T10:53:50.335Z"
   },
   {
    "duration": 32,
    "start_time": "2021-07-08T10:53:55.294Z"
   },
   {
    "duration": 55,
    "start_time": "2021-07-08T10:54:09.675Z"
   },
   {
    "duration": 16,
    "start_time": "2021-07-08T10:54:12.260Z"
   },
   {
    "duration": 15,
    "start_time": "2021-07-08T10:54:49.150Z"
   },
   {
    "duration": 20,
    "start_time": "2021-07-08T10:56:07.596Z"
   },
   {
    "duration": 16,
    "start_time": "2021-07-08T10:58:26.276Z"
   },
   {
    "duration": 22,
    "start_time": "2021-07-08T10:59:00.486Z"
   },
   {
    "duration": 18,
    "start_time": "2021-07-08T11:02:09.653Z"
   },
   {
    "duration": 10,
    "start_time": "2021-07-08T11:03:44.331Z"
   },
   {
    "duration": 10,
    "start_time": "2021-07-08T11:03:54.055Z"
   },
   {
    "duration": 12,
    "start_time": "2021-07-08T11:04:41.967Z"
   },
   {
    "duration": 24,
    "start_time": "2021-07-08T11:07:30.732Z"
   },
   {
    "duration": 6,
    "start_time": "2021-07-08T11:07:37.364Z"
   },
   {
    "duration": 16,
    "start_time": "2021-07-08T11:08:01.819Z"
   },
   {
    "duration": 17,
    "start_time": "2021-07-08T11:09:47.488Z"
   },
   {
    "duration": 246,
    "start_time": "2021-07-08T11:10:00.830Z"
   },
   {
    "duration": 18,
    "start_time": "2021-07-08T11:13:55.195Z"
   },
   {
    "duration": 204,
    "start_time": "2021-07-08T11:14:04.951Z"
   },
   {
    "duration": 19,
    "start_time": "2021-07-08T11:15:10.613Z"
   },
   {
    "duration": 680,
    "start_time": "2021-07-08T11:16:25.793Z"
   },
   {
    "duration": 451,
    "start_time": "2021-07-08T11:16:40.313Z"
   },
   {
    "duration": 469,
    "start_time": "2021-07-08T11:17:21.286Z"
   },
   {
    "duration": 20,
    "start_time": "2021-07-08T11:19:12.554Z"
   },
   {
    "duration": 35,
    "start_time": "2021-07-08T11:20:05.484Z"
   },
   {
    "duration": 53,
    "start_time": "2021-07-08T11:21:40.050Z"
   },
   {
    "duration": 13,
    "start_time": "2021-07-08T11:22:26.059Z"
   },
   {
    "duration": 19,
    "start_time": "2021-07-08T11:22:47.419Z"
   },
   {
    "duration": 25,
    "start_time": "2021-07-08T11:23:19.958Z"
   },
   {
    "duration": 29,
    "start_time": "2021-07-08T11:23:25.415Z"
   },
   {
    "duration": 10,
    "start_time": "2021-07-08T11:24:45.138Z"
   },
   {
    "duration": 19,
    "start_time": "2021-07-08T11:24:54.498Z"
   },
   {
    "duration": 12,
    "start_time": "2021-07-08T11:25:32.225Z"
   },
   {
    "duration": 19,
    "start_time": "2021-07-08T11:25:37.092Z"
   },
   {
    "duration": 17,
    "start_time": "2021-07-08T11:25:58.116Z"
   },
   {
    "duration": 15,
    "start_time": "2021-07-08T11:26:02.258Z"
   },
   {
    "duration": 8,
    "start_time": "2021-07-08T11:26:59.682Z"
   },
   {
    "duration": 184,
    "start_time": "2021-07-08T11:27:21.894Z"
   },
   {
    "duration": 8,
    "start_time": "2021-07-08T11:27:23.824Z"
   },
   {
    "duration": 202,
    "start_time": "2021-07-08T11:27:23.962Z"
   },
   {
    "duration": 360,
    "start_time": "2021-07-08T11:28:33.215Z"
   },
   {
    "duration": 231,
    "start_time": "2021-07-08T11:32:05.542Z"
   },
   {
    "duration": 607,
    "start_time": "2021-07-08T11:36:27.854Z"
   },
   {
    "duration": 241,
    "start_time": "2021-07-08T11:36:28.463Z"
   },
   {
    "duration": 67,
    "start_time": "2021-07-08T11:36:28.709Z"
   },
   {
    "duration": 5,
    "start_time": "2021-07-08T11:36:28.778Z"
   },
   {
    "duration": 32,
    "start_time": "2021-07-08T11:36:28.784Z"
   },
   {
    "duration": 11,
    "start_time": "2021-07-08T11:36:28.819Z"
   },
   {
    "duration": 20,
    "start_time": "2021-07-08T11:36:28.834Z"
   },
   {
    "duration": 36,
    "start_time": "2021-07-08T11:36:28.857Z"
   },
   {
    "duration": 16,
    "start_time": "2021-07-08T11:36:28.895Z"
   },
   {
    "duration": 14,
    "start_time": "2021-07-08T11:36:28.913Z"
   },
   {
    "duration": 9,
    "start_time": "2021-07-08T11:36:28.930Z"
   },
   {
    "duration": 55,
    "start_time": "2021-07-08T11:36:28.941Z"
   },
   {
    "duration": 27,
    "start_time": "2021-07-08T11:36:28.999Z"
   },
   {
    "duration": 30,
    "start_time": "2021-07-08T11:36:29.028Z"
   },
   {
    "duration": 31,
    "start_time": "2021-07-08T11:36:29.060Z"
   },
   {
    "duration": 3,
    "start_time": "2021-07-08T11:36:29.093Z"
   },
   {
    "duration": 12,
    "start_time": "2021-07-08T11:36:29.099Z"
   },
   {
    "duration": 11,
    "start_time": "2021-07-08T11:36:29.112Z"
   },
   {
    "duration": 12,
    "start_time": "2021-07-08T11:36:29.125Z"
   },
   {
    "duration": 9,
    "start_time": "2021-07-08T11:36:29.139Z"
   },
   {
    "duration": 31,
    "start_time": "2021-07-08T11:36:29.191Z"
   },
   {
    "duration": 17,
    "start_time": "2021-07-08T11:36:29.226Z"
   },
   {
    "duration": 7,
    "start_time": "2021-07-08T11:36:29.245Z"
   },
   {
    "duration": 10,
    "start_time": "2021-07-08T11:36:29.254Z"
   },
   {
    "duration": 30,
    "start_time": "2021-07-08T11:36:29.292Z"
   },
   {
    "duration": 11,
    "start_time": "2021-07-08T11:36:29.324Z"
   },
   {
    "duration": 11,
    "start_time": "2021-07-08T11:36:29.337Z"
   },
   {
    "duration": 230,
    "start_time": "2021-07-08T11:36:29.349Z"
   },
   {
    "duration": 13,
    "start_time": "2021-07-08T11:36:29.588Z"
   },
   {
    "duration": 205,
    "start_time": "2021-07-08T11:36:29.603Z"
   },
   {
    "duration": 20,
    "start_time": "2021-07-08T11:36:29.810Z"
   },
   {
    "duration": 9,
    "start_time": "2021-07-08T11:36:29.832Z"
   },
   {
    "duration": 16,
    "start_time": "2021-07-08T11:36:29.843Z"
   },
   {
    "duration": 283,
    "start_time": "2021-07-08T11:36:29.861Z"
   },
   {
    "duration": 50,
    "start_time": "2021-07-08T11:36:30.146Z"
   },
   {
    "duration": 14,
    "start_time": "2021-07-08T11:36:30.198Z"
   },
   {
    "duration": 11,
    "start_time": "2021-07-08T11:36:30.214Z"
   },
   {
    "duration": 245,
    "start_time": "2021-07-08T11:36:30.227Z"
   },
   {
    "duration": 439,
    "start_time": "2021-07-08T11:36:30.474Z"
   },
   {
    "duration": 210,
    "start_time": "2021-07-08T11:36:30.915Z"
   },
   {
    "duration": 15,
    "start_time": "2021-07-08T11:36:31.127Z"
   },
   {
    "duration": 17,
    "start_time": "2021-07-08T11:38:20.451Z"
   },
   {
    "duration": 642,
    "start_time": "2021-07-08T11:46:17.881Z"
   },
   {
    "duration": 210,
    "start_time": "2021-07-08T11:46:18.525Z"
   },
   {
    "duration": 104,
    "start_time": "2021-07-08T11:46:18.741Z"
   },
   {
    "duration": 8,
    "start_time": "2021-07-08T11:46:18.847Z"
   },
   {
    "duration": 25,
    "start_time": "2021-07-08T11:46:18.857Z"
   },
   {
    "duration": 14,
    "start_time": "2021-07-08T11:46:18.884Z"
   },
   {
    "duration": 22,
    "start_time": "2021-07-08T11:46:18.900Z"
   },
   {
    "duration": 5,
    "start_time": "2021-07-08T11:46:18.924Z"
   },
   {
    "duration": 13,
    "start_time": "2021-07-08T11:46:18.931Z"
   },
   {
    "duration": 45,
    "start_time": "2021-07-08T11:46:18.946Z"
   },
   {
    "duration": 12,
    "start_time": "2021-07-08T11:46:18.993Z"
   },
   {
    "duration": 38,
    "start_time": "2021-07-08T11:46:19.006Z"
   },
   {
    "duration": 50,
    "start_time": "2021-07-08T11:46:19.046Z"
   },
   {
    "duration": 29,
    "start_time": "2021-07-08T11:46:19.099Z"
   },
   {
    "duration": 7,
    "start_time": "2021-07-08T11:46:19.130Z"
   },
   {
    "duration": 3,
    "start_time": "2021-07-08T11:46:19.139Z"
   },
   {
    "duration": 11,
    "start_time": "2021-07-08T11:46:19.144Z"
   },
   {
    "duration": 40,
    "start_time": "2021-07-08T11:46:19.157Z"
   },
   {
    "duration": 15,
    "start_time": "2021-07-08T11:46:19.199Z"
   },
   {
    "duration": 10,
    "start_time": "2021-07-08T11:46:19.217Z"
   },
   {
    "duration": 68,
    "start_time": "2021-07-08T11:46:19.230Z"
   },
   {
    "duration": 17,
    "start_time": "2021-07-08T11:46:19.301Z"
   },
   {
    "duration": 7,
    "start_time": "2021-07-08T11:46:19.321Z"
   },
   {
    "duration": 11,
    "start_time": "2021-07-08T11:46:19.330Z"
   },
   {
    "duration": 59,
    "start_time": "2021-07-08T11:46:19.343Z"
   },
   {
    "duration": 17,
    "start_time": "2021-07-08T11:46:19.405Z"
   },
   {
    "duration": 16,
    "start_time": "2021-07-08T11:46:19.424Z"
   },
   {
    "duration": 252,
    "start_time": "2021-07-08T11:46:19.443Z"
   },
   {
    "duration": 9,
    "start_time": "2021-07-08T11:46:19.697Z"
   },
   {
    "duration": 224,
    "start_time": "2021-07-08T11:46:19.708Z"
   },
   {
    "duration": 21,
    "start_time": "2021-07-08T11:46:19.934Z"
   },
   {
    "duration": 9,
    "start_time": "2021-07-08T11:46:19.956Z"
   },
   {
    "duration": 32,
    "start_time": "2021-07-08T11:46:19.967Z"
   },
   {
    "duration": 288,
    "start_time": "2021-07-08T11:46:20.004Z"
   },
   {
    "duration": 23,
    "start_time": "2021-07-08T11:46:20.300Z"
   },
   {
    "duration": 11,
    "start_time": "2021-07-08T11:46:20.325Z"
   },
   {
    "duration": 11,
    "start_time": "2021-07-08T11:46:20.339Z"
   },
   {
    "duration": 259,
    "start_time": "2021-07-08T11:46:20.352Z"
   },
   {
    "duration": 438,
    "start_time": "2021-07-08T11:46:20.613Z"
   },
   {
    "duration": 207,
    "start_time": "2021-07-08T11:46:21.054Z"
   },
   {
    "duration": 27,
    "start_time": "2021-07-08T11:46:21.262Z"
   },
   {
    "duration": 19,
    "start_time": "2021-07-08T11:46:21.291Z"
   },
   {
    "duration": 820,
    "start_time": "2021-07-08T11:49:01.655Z"
   },
   {
    "duration": 372,
    "start_time": "2021-07-08T11:49:02.478Z"
   },
   {
    "duration": 98,
    "start_time": "2021-07-08T11:49:02.853Z"
   },
   {
    "duration": 6,
    "start_time": "2021-07-08T11:49:02.953Z"
   },
   {
    "duration": 39,
    "start_time": "2021-07-08T11:49:02.960Z"
   },
   {
    "duration": 9,
    "start_time": "2021-07-08T11:49:03.003Z"
   },
   {
    "duration": 23,
    "start_time": "2021-07-08T11:49:03.014Z"
   },
   {
    "duration": 6,
    "start_time": "2021-07-08T11:49:03.041Z"
   },
   {
    "duration": 20,
    "start_time": "2021-07-08T11:49:03.049Z"
   },
   {
    "duration": 18,
    "start_time": "2021-07-08T11:49:03.084Z"
   },
   {
    "duration": 14,
    "start_time": "2021-07-08T11:49:03.104Z"
   },
   {
    "duration": 39,
    "start_time": "2021-07-08T11:49:03.119Z"
   },
   {
    "duration": 38,
    "start_time": "2021-07-08T11:49:03.160Z"
   },
   {
    "duration": 26,
    "start_time": "2021-07-08T11:49:03.200Z"
   },
   {
    "duration": 7,
    "start_time": "2021-07-08T11:49:03.227Z"
   },
   {
    "duration": 4,
    "start_time": "2021-07-08T11:49:03.236Z"
   },
   {
    "duration": 15,
    "start_time": "2021-07-08T11:49:03.243Z"
   },
   {
    "duration": 21,
    "start_time": "2021-07-08T11:49:03.285Z"
   },
   {
    "duration": 17,
    "start_time": "2021-07-08T11:49:03.309Z"
   },
   {
    "duration": 10,
    "start_time": "2021-07-08T11:49:03.328Z"
   },
   {
    "duration": 65,
    "start_time": "2021-07-08T11:49:03.340Z"
   },
   {
    "duration": 18,
    "start_time": "2021-07-08T11:49:03.407Z"
   },
   {
    "duration": 8,
    "start_time": "2021-07-08T11:49:03.428Z"
   },
   {
    "duration": 15,
    "start_time": "2021-07-08T11:49:03.438Z"
   },
   {
    "duration": 40,
    "start_time": "2021-07-08T11:49:03.455Z"
   },
   {
    "duration": 12,
    "start_time": "2021-07-08T11:49:03.497Z"
   },
   {
    "duration": 29,
    "start_time": "2021-07-08T11:49:03.511Z"
   },
   {
    "duration": 285,
    "start_time": "2021-07-08T11:49:03.542Z"
   },
   {
    "duration": 8,
    "start_time": "2021-07-08T11:49:03.829Z"
   },
   {
    "duration": 227,
    "start_time": "2021-07-08T11:49:03.838Z"
   },
   {
    "duration": 40,
    "start_time": "2021-07-08T11:49:04.066Z"
   },
   {
    "duration": 10,
    "start_time": "2021-07-08T11:49:04.108Z"
   },
   {
    "duration": 26,
    "start_time": "2021-07-08T11:49:04.121Z"
   },
   {
    "duration": 290,
    "start_time": "2021-07-08T11:49:04.149Z"
   },
   {
    "duration": 26,
    "start_time": "2021-07-08T11:49:04.441Z"
   },
   {
    "duration": 31,
    "start_time": "2021-07-08T11:49:04.470Z"
   },
   {
    "duration": 14,
    "start_time": "2021-07-08T11:49:04.503Z"
   },
   {
    "duration": 259,
    "start_time": "2021-07-08T11:49:04.521Z"
   },
   {
    "duration": 480,
    "start_time": "2021-07-08T11:49:04.782Z"
   },
   {
    "duration": 225,
    "start_time": "2021-07-08T11:49:05.264Z"
   },
   {
    "duration": 22,
    "start_time": "2021-07-08T11:49:05.491Z"
   },
   {
    "duration": 24,
    "start_time": "2021-07-08T11:49:05.515Z"
   },
   {
    "duration": 634,
    "start_time": "2021-07-08T11:52:24.960Z"
   },
   {
    "duration": 199,
    "start_time": "2021-07-08T11:52:25.599Z"
   },
   {
    "duration": 106,
    "start_time": "2021-07-08T11:52:25.803Z"
   },
   {
    "duration": 7,
    "start_time": "2021-07-08T11:52:25.911Z"
   },
   {
    "duration": 29,
    "start_time": "2021-07-08T11:52:25.920Z"
   },
   {
    "duration": 7,
    "start_time": "2021-07-08T11:52:25.951Z"
   },
   {
    "duration": 26,
    "start_time": "2021-07-08T11:52:25.961Z"
   },
   {
    "duration": 11,
    "start_time": "2021-07-08T11:52:25.990Z"
   },
   {
    "duration": 29,
    "start_time": "2021-07-08T11:52:26.005Z"
   },
   {
    "duration": 9,
    "start_time": "2021-07-08T11:52:26.036Z"
   },
   {
    "duration": 8,
    "start_time": "2021-07-08T11:52:26.047Z"
   },
   {
    "duration": 63,
    "start_time": "2021-07-08T11:52:26.057Z"
   },
   {
    "duration": 17,
    "start_time": "2021-07-08T11:52:26.122Z"
   },
   {
    "duration": 43,
    "start_time": "2021-07-08T11:52:26.142Z"
   },
   {
    "duration": 17,
    "start_time": "2021-07-08T11:52:26.187Z"
   },
   {
    "duration": 5,
    "start_time": "2021-07-08T11:52:26.206Z"
   },
   {
    "duration": 12,
    "start_time": "2021-07-08T11:52:26.212Z"
   },
   {
    "duration": 11,
    "start_time": "2021-07-08T11:52:26.226Z"
   },
   {
    "duration": 12,
    "start_time": "2021-07-08T11:52:26.238Z"
   },
   {
    "duration": 38,
    "start_time": "2021-07-08T11:52:26.252Z"
   },
   {
    "duration": 40,
    "start_time": "2021-07-08T11:52:26.292Z"
   },
   {
    "duration": 17,
    "start_time": "2021-07-08T11:52:26.336Z"
   },
   {
    "duration": 39,
    "start_time": "2021-07-08T11:52:26.355Z"
   },
   {
    "duration": 11,
    "start_time": "2021-07-08T11:52:26.395Z"
   },
   {
    "duration": 23,
    "start_time": "2021-07-08T11:52:26.408Z"
   },
   {
    "duration": 12,
    "start_time": "2021-07-08T11:52:26.432Z"
   },
   {
    "duration": 41,
    "start_time": "2021-07-08T11:52:26.446Z"
   },
   {
    "duration": 215,
    "start_time": "2021-07-08T11:52:26.493Z"
   },
   {
    "duration": 8,
    "start_time": "2021-07-08T11:52:26.710Z"
   },
   {
    "duration": 228,
    "start_time": "2021-07-08T11:52:26.720Z"
   },
   {
    "duration": 18,
    "start_time": "2021-07-08T11:52:26.950Z"
   },
   {
    "duration": 35,
    "start_time": "2021-07-08T11:52:26.969Z"
   },
   {
    "duration": 23,
    "start_time": "2021-07-08T11:52:27.006Z"
   },
   {
    "duration": 258,
    "start_time": "2021-07-08T11:52:27.030Z"
   },
   {
    "duration": 24,
    "start_time": "2021-07-08T11:52:27.290Z"
   },
   {
    "duration": 12,
    "start_time": "2021-07-08T11:52:27.316Z"
   },
   {
    "duration": 10,
    "start_time": "2021-07-08T11:52:27.329Z"
   },
   {
    "duration": 298,
    "start_time": "2021-07-08T11:52:27.341Z"
   },
   {
    "duration": 436,
    "start_time": "2021-07-08T11:52:27.641Z"
   },
   {
    "duration": 216,
    "start_time": "2021-07-08T11:52:28.079Z"
   },
   {
    "duration": 20,
    "start_time": "2021-07-08T11:52:28.297Z"
   },
   {
    "duration": 17,
    "start_time": "2021-07-08T11:52:28.319Z"
   },
   {
    "duration": 552,
    "start_time": "2022-05-16T07:25:27.827Z"
   },
   {
    "duration": 137,
    "start_time": "2022-05-16T07:25:37.928Z"
   },
   {
    "duration": 160,
    "start_time": "2022-05-16T07:25:47.223Z"
   },
   {
    "duration": 128,
    "start_time": "2022-05-16T07:25:59.033Z"
   },
   {
    "duration": 135,
    "start_time": "2022-05-16T07:26:08.576Z"
   },
   {
    "duration": 145,
    "start_time": "2022-05-16T07:26:43.337Z"
   },
   {
    "duration": 16,
    "start_time": "2022-05-16T07:27:38.439Z"
   },
   {
    "duration": 141,
    "start_time": "2022-05-16T07:29:30.241Z"
   },
   {
    "duration": 144,
    "start_time": "2022-05-16T07:29:45.313Z"
   },
   {
    "duration": 862,
    "start_time": "2022-05-16T11:34:11.625Z"
   },
   {
    "duration": 29,
    "start_time": "2022-05-16T11:34:12.490Z"
   },
   {
    "duration": 169,
    "start_time": "2022-05-16T11:36:49.740Z"
   },
   {
    "duration": 516,
    "start_time": "2022-05-16T11:38:17.290Z"
   },
   {
    "duration": 14,
    "start_time": "2022-05-16T11:38:58.379Z"
   },
   {
    "duration": 9,
    "start_time": "2022-05-16T11:40:24.491Z"
   },
   {
    "duration": 22,
    "start_time": "2022-05-16T11:40:33.898Z"
   },
   {
    "duration": 155,
    "start_time": "2022-05-16T11:42:21.396Z"
   },
   {
    "duration": 5,
    "start_time": "2022-05-16T11:42:31.460Z"
   },
   {
    "duration": 649,
    "start_time": "2022-05-18T11:28:41.012Z"
   },
   {
    "duration": 14,
    "start_time": "2022-05-18T11:28:41.663Z"
   },
   {
    "duration": 70,
    "start_time": "2022-05-18T11:28:41.681Z"
   },
   {
    "duration": 9,
    "start_time": "2022-05-18T11:29:44.401Z"
   },
   {
    "duration": 10,
    "start_time": "2022-05-18T11:29:56.551Z"
   },
   {
    "duration": 10,
    "start_time": "2022-05-18T11:30:02.951Z"
   },
   {
    "duration": 11,
    "start_time": "2022-05-18T11:30:15.241Z"
   },
   {
    "duration": 6,
    "start_time": "2022-05-18T11:30:24.357Z"
   },
   {
    "duration": 12,
    "start_time": "2022-05-18T11:30:43.955Z"
   },
   {
    "duration": 10,
    "start_time": "2022-05-18T11:30:59.848Z"
   },
   {
    "duration": 8,
    "start_time": "2022-05-18T12:04:06.728Z"
   },
   {
    "duration": 10,
    "start_time": "2022-05-18T12:05:08.359Z"
   },
   {
    "duration": 10,
    "start_time": "2022-05-18T12:05:26.319Z"
   },
   {
    "duration": 16,
    "start_time": "2022-05-18T12:05:47.056Z"
   },
   {
    "duration": 16,
    "start_time": "2022-05-18T12:06:05.973Z"
   },
   {
    "duration": 13,
    "start_time": "2022-05-18T12:06:35.377Z"
   },
   {
    "duration": 21,
    "start_time": "2022-05-18T12:06:56.601Z"
   },
   {
    "duration": 14,
    "start_time": "2022-05-18T12:07:23.240Z"
   },
   {
    "duration": 6,
    "start_time": "2022-05-18T12:16:18.571Z"
   },
   {
    "duration": 22,
    "start_time": "2022-05-18T12:16:27.599Z"
   },
   {
    "duration": 25,
    "start_time": "2022-05-18T12:17:57.370Z"
   },
   {
    "duration": 16,
    "start_time": "2022-05-18T12:18:46.708Z"
   },
   {
    "duration": 13,
    "start_time": "2022-05-18T12:18:55.765Z"
   },
   {
    "duration": 692,
    "start_time": "2022-05-20T05:14:39.224Z"
   },
   {
    "duration": 16,
    "start_time": "2022-05-20T05:14:39.919Z"
   },
   {
    "duration": 24,
    "start_time": "2022-05-20T05:14:39.937Z"
   },
   {
    "duration": 30,
    "start_time": "2022-05-20T05:14:39.963Z"
   },
   {
    "duration": 95,
    "start_time": "2022-05-20T05:14:39.996Z"
   },
   {
    "duration": 10,
    "start_time": "2022-05-20T05:17:45.610Z"
   },
   {
    "duration": 28,
    "start_time": "2022-05-20T05:17:55.123Z"
   },
   {
    "duration": 34,
    "start_time": "2022-05-20T05:18:18.153Z"
   },
   {
    "duration": 43,
    "start_time": "2022-05-20T05:19:23.810Z"
   },
   {
    "duration": 744,
    "start_time": "2022-05-20T07:55:32.954Z"
   },
   {
    "duration": 14,
    "start_time": "2022-05-20T07:55:33.700Z"
   },
   {
    "duration": 12,
    "start_time": "2022-05-20T07:55:33.715Z"
   },
   {
    "duration": 21,
    "start_time": "2022-05-20T07:55:33.729Z"
   },
   {
    "duration": 60,
    "start_time": "2022-05-20T07:55:33.751Z"
   },
   {
    "duration": 5,
    "start_time": "2022-05-20T07:55:51.062Z"
   },
   {
    "duration": 535,
    "start_time": "2022-05-20T07:55:56.522Z"
   },
   {
    "duration": 14,
    "start_time": "2022-05-20T07:55:57.059Z"
   },
   {
    "duration": 24,
    "start_time": "2022-05-20T07:55:57.075Z"
   },
   {
    "duration": 20,
    "start_time": "2022-05-20T07:55:57.101Z"
   },
   {
    "duration": 34,
    "start_time": "2022-05-20T07:55:57.123Z"
   },
   {
    "duration": 578,
    "start_time": "2022-05-20T07:56:42.686Z"
   },
   {
    "duration": 13,
    "start_time": "2022-05-20T07:56:43.265Z"
   },
   {
    "duration": 21,
    "start_time": "2022-05-20T07:56:43.280Z"
   },
   {
    "duration": 78,
    "start_time": "2022-05-20T07:56:43.304Z"
   },
   {
    "duration": 0,
    "start_time": "2022-05-20T07:56:43.383Z"
   },
   {
    "duration": 599,
    "start_time": "2022-05-20T07:57:52.501Z"
   },
   {
    "duration": 10,
    "start_time": "2022-05-20T07:58:12.883Z"
   },
   {
    "duration": 547,
    "start_time": "2022-05-20T08:01:02.738Z"
   },
   {
    "duration": 21,
    "start_time": "2022-05-20T08:01:03.287Z"
   },
   {
    "duration": 42,
    "start_time": "2022-05-20T08:01:03.310Z"
   },
   {
    "duration": 27,
    "start_time": "2022-05-20T08:01:03.355Z"
   },
   {
    "duration": 40,
    "start_time": "2022-05-20T08:01:03.384Z"
   },
   {
    "duration": 15,
    "start_time": "2022-05-20T08:01:58.959Z"
   },
   {
    "duration": 16,
    "start_time": "2022-05-20T08:02:05.533Z"
   },
   {
    "duration": 589,
    "start_time": "2022-05-20T08:02:15.775Z"
   },
   {
    "duration": 15,
    "start_time": "2022-05-20T08:02:16.366Z"
   },
   {
    "duration": 50,
    "start_time": "2022-05-20T08:02:16.382Z"
   },
   {
    "duration": 87,
    "start_time": "2022-05-20T08:02:16.434Z"
   },
   {
    "duration": 0,
    "start_time": "2022-05-20T08:02:16.522Z"
   },
   {
    "duration": 13,
    "start_time": "2022-05-20T08:02:30.508Z"
   },
   {
    "duration": 14,
    "start_time": "2022-05-20T08:03:28.493Z"
   },
   {
    "duration": 12,
    "start_time": "2022-05-20T08:03:38.236Z"
   },
   {
    "duration": 18,
    "start_time": "2022-05-20T08:03:57.884Z"
   },
   {
    "duration": 12,
    "start_time": "2022-05-20T08:04:03.773Z"
   },
   {
    "duration": 14,
    "start_time": "2022-05-20T08:04:19.030Z"
   },
   {
    "duration": 36,
    "start_time": "2022-05-20T08:05:33.981Z"
   },
   {
    "duration": 17,
    "start_time": "2022-05-20T08:05:46.094Z"
   },
   {
    "duration": 7,
    "start_time": "2022-05-20T08:08:03.519Z"
   },
   {
    "duration": 52,
    "start_time": "2022-05-20T08:08:21.662Z"
   },
   {
    "duration": 7,
    "start_time": "2022-05-20T08:09:36.488Z"
   },
   {
    "duration": 15,
    "start_time": "2022-05-20T08:10:00.463Z"
   },
   {
    "duration": 15,
    "start_time": "2022-05-20T08:10:07.008Z"
   },
   {
    "duration": 51,
    "start_time": "2022-05-20T08:10:10.145Z"
   },
   {
    "duration": 16,
    "start_time": "2022-05-20T08:12:18.887Z"
   },
   {
    "duration": 16,
    "start_time": "2022-05-20T08:12:45.848Z"
   },
   {
    "duration": 16,
    "start_time": "2022-05-20T08:12:50.623Z"
   },
   {
    "duration": 15,
    "start_time": "2022-05-20T08:12:57.943Z"
   },
   {
    "duration": 25,
    "start_time": "2022-05-20T08:13:11.232Z"
   },
   {
    "duration": 458,
    "start_time": "2022-05-20T08:13:58.136Z"
   },
   {
    "duration": 44,
    "start_time": "2022-05-20T08:14:32.058Z"
   },
   {
    "duration": 16,
    "start_time": "2022-05-20T08:14:38.807Z"
   },
   {
    "duration": 8,
    "start_time": "2022-05-20T08:15:32.297Z"
   },
   {
    "duration": 48,
    "start_time": "2022-05-20T08:15:37.413Z"
   },
   {
    "duration": 3,
    "start_time": "2022-05-20T08:23:18.657Z"
   },
   {
    "duration": 18,
    "start_time": "2022-05-20T08:38:57.869Z"
   },
   {
    "duration": 8,
    "start_time": "2022-05-20T08:44:23.670Z"
   },
   {
    "duration": 29,
    "start_time": "2022-05-20T08:45:19.031Z"
   },
   {
    "duration": 8,
    "start_time": "2022-05-20T08:47:16.022Z"
   },
   {
    "duration": 5,
    "start_time": "2022-05-20T08:47:25.653Z"
   },
   {
    "duration": 6,
    "start_time": "2022-05-20T08:48:04.343Z"
   },
   {
    "duration": 7,
    "start_time": "2022-05-20T08:50:10.175Z"
   },
   {
    "duration": 8,
    "start_time": "2022-05-20T08:51:08.592Z"
   },
   {
    "duration": 7,
    "start_time": "2022-05-20T08:51:22.311Z"
   },
   {
    "duration": 10,
    "start_time": "2022-05-20T08:52:56.559Z"
   },
   {
    "duration": 8,
    "start_time": "2022-05-20T08:55:04.615Z"
   },
   {
    "duration": 7,
    "start_time": "2022-05-20T08:55:16.944Z"
   },
   {
    "duration": 5,
    "start_time": "2022-05-20T08:56:12.360Z"
   },
   {
    "duration": 9,
    "start_time": "2022-05-20T08:56:23.245Z"
   },
   {
    "duration": 738,
    "start_time": "2022-05-20T08:57:00.305Z"
   },
   {
    "duration": 594,
    "start_time": "2022-05-20T08:57:09.065Z"
   },
   {
    "duration": 581,
    "start_time": "2022-05-20T08:57:41.955Z"
   },
   {
    "duration": 48,
    "start_time": "2022-05-20T08:58:26.235Z"
   },
   {
    "duration": 49,
    "start_time": "2022-05-20T08:58:53.153Z"
   },
   {
    "duration": 36,
    "start_time": "2022-05-20T08:59:00.832Z"
   },
   {
    "duration": 35,
    "start_time": "2022-05-20T08:59:10.240Z"
   },
   {
    "duration": 49,
    "start_time": "2022-05-20T09:01:07.961Z"
   },
   {
    "duration": 56,
    "start_time": "2022-05-20T09:06:51.027Z"
   },
   {
    "duration": 48,
    "start_time": "2022-05-20T09:07:34.637Z"
   },
   {
    "duration": 60,
    "start_time": "2022-05-21T03:24:30.050Z"
   },
   {
    "duration": 703,
    "start_time": "2022-05-21T03:24:40.400Z"
   },
   {
    "duration": 14,
    "start_time": "2022-05-21T03:24:41.105Z"
   },
   {
    "duration": 31,
    "start_time": "2022-05-21T03:24:41.121Z"
   },
   {
    "duration": 9,
    "start_time": "2022-05-21T03:24:41.154Z"
   },
   {
    "duration": 34,
    "start_time": "2022-05-21T03:24:41.164Z"
   },
   {
    "duration": 49,
    "start_time": "2022-05-21T03:24:41.200Z"
   },
   {
    "duration": 76,
    "start_time": "2022-05-21T03:24:41.250Z"
   },
   {
    "duration": 24,
    "start_time": "2022-05-21T03:24:41.328Z"
   },
   {
    "duration": 7,
    "start_time": "2022-05-21T03:24:41.354Z"
   },
   {
    "duration": 5,
    "start_time": "2022-05-21T03:24:41.363Z"
   },
   {
    "duration": 32,
    "start_time": "2022-05-21T03:25:02.331Z"
   },
   {
    "duration": 60,
    "start_time": "2022-05-21T12:07:17.718Z"
   },
   {
    "duration": 7,
    "start_time": "2022-05-21T12:07:54.104Z"
   },
   {
    "duration": 851,
    "start_time": "2022-05-21T12:08:01.295Z"
   },
   {
    "duration": 14,
    "start_time": "2022-05-21T12:08:02.148Z"
   },
   {
    "duration": 42,
    "start_time": "2022-05-21T12:08:02.164Z"
   },
   {
    "duration": 8,
    "start_time": "2022-05-21T12:08:02.209Z"
   },
   {
    "duration": 95,
    "start_time": "2022-05-21T12:08:02.219Z"
   },
   {
    "duration": 0,
    "start_time": "2022-05-21T12:08:02.315Z"
   },
   {
    "duration": 0,
    "start_time": "2022-05-21T12:08:02.317Z"
   },
   {
    "duration": 0,
    "start_time": "2022-05-21T12:08:02.318Z"
   },
   {
    "duration": 0,
    "start_time": "2022-05-21T12:08:02.319Z"
   },
   {
    "duration": 1,
    "start_time": "2022-05-21T12:08:02.320Z"
   },
   {
    "duration": 580,
    "start_time": "2022-05-21T12:08:18.319Z"
   },
   {
    "duration": 14,
    "start_time": "2022-05-21T12:08:18.901Z"
   },
   {
    "duration": 31,
    "start_time": "2022-05-21T12:08:18.917Z"
   },
   {
    "duration": 9,
    "start_time": "2022-05-21T12:08:18.950Z"
   },
   {
    "duration": 104,
    "start_time": "2022-05-21T12:08:18.961Z"
   },
   {
    "duration": 0,
    "start_time": "2022-05-21T12:08:19.067Z"
   },
   {
    "duration": 0,
    "start_time": "2022-05-21T12:08:19.068Z"
   },
   {
    "duration": 0,
    "start_time": "2022-05-21T12:08:19.069Z"
   },
   {
    "duration": 0,
    "start_time": "2022-05-21T12:08:19.070Z"
   },
   {
    "duration": 0,
    "start_time": "2022-05-21T12:08:19.071Z"
   },
   {
    "duration": 29,
    "start_time": "2022-05-21T12:08:33.190Z"
   },
   {
    "duration": 31,
    "start_time": "2022-05-21T12:08:56.181Z"
   },
   {
    "duration": 16,
    "start_time": "2022-05-21T12:09:07.927Z"
   },
   {
    "duration": 37,
    "start_time": "2022-05-21T12:11:11.925Z"
   },
   {
    "duration": 43,
    "start_time": "2022-05-21T12:11:21.514Z"
   },
   {
    "duration": 16,
    "start_time": "2022-05-21T12:11:30.596Z"
   },
   {
    "duration": 16,
    "start_time": "2022-05-21T12:11:42.961Z"
   },
   {
    "duration": 15,
    "start_time": "2022-05-21T12:11:47.094Z"
   },
   {
    "duration": 22,
    "start_time": "2022-05-21T12:12:08.187Z"
   },
   {
    "duration": 5,
    "start_time": "2022-05-21T12:12:20.464Z"
   },
   {
    "duration": 29,
    "start_time": "2022-05-21T12:12:26.880Z"
   },
   {
    "duration": 26,
    "start_time": "2022-05-21T12:25:46.520Z"
   },
   {
    "duration": 48,
    "start_time": "2022-05-21T12:31:12.695Z"
   },
   {
    "duration": 43,
    "start_time": "2022-05-21T12:31:44.390Z"
   },
   {
    "duration": 26,
    "start_time": "2022-05-21T12:31:50.175Z"
   },
   {
    "duration": 27,
    "start_time": "2022-05-21T12:31:56.325Z"
   },
   {
    "duration": 14,
    "start_time": "2022-05-21T12:32:00.390Z"
   },
   {
    "duration": 6,
    "start_time": "2022-05-21T12:32:04.828Z"
   },
   {
    "duration": 6,
    "start_time": "2022-05-21T12:32:20.410Z"
   },
   {
    "duration": 14,
    "start_time": "2022-05-21T12:32:37.338Z"
   },
   {
    "duration": 37,
    "start_time": "2022-05-21T12:33:12.625Z"
   },
   {
    "duration": 9,
    "start_time": "2022-05-21T12:38:57.597Z"
   },
   {
    "duration": 5,
    "start_time": "2022-05-21T12:39:09.573Z"
   },
   {
    "duration": 18,
    "start_time": "2022-05-21T12:39:16.373Z"
   },
   {
    "duration": 8,
    "start_time": "2022-05-21T13:59:15.622Z"
   },
   {
    "duration": 546,
    "start_time": "2022-05-22T12:12:49.427Z"
   },
   {
    "duration": 1042,
    "start_time": "2022-05-22T12:13:20.410Z"
   },
   {
    "duration": 140,
    "start_time": "2022-05-22T12:13:43.671Z"
   },
   {
    "duration": 625,
    "start_time": "2022-05-22T12:13:57.162Z"
   },
   {
    "duration": 14,
    "start_time": "2022-05-22T12:13:57.788Z"
   },
   {
    "duration": 29,
    "start_time": "2022-05-22T12:13:57.804Z"
   },
   {
    "duration": 12,
    "start_time": "2022-05-22T12:13:57.834Z"
   },
   {
    "duration": 21,
    "start_time": "2022-05-22T12:13:57.848Z"
   },
   {
    "duration": 4,
    "start_time": "2022-05-22T12:13:57.871Z"
   },
   {
    "duration": 8,
    "start_time": "2022-05-22T12:13:57.876Z"
   },
   {
    "duration": 9,
    "start_time": "2022-05-22T12:13:57.886Z"
   },
   {
    "duration": 3,
    "start_time": "2022-05-22T12:13:57.897Z"
   },
   {
    "duration": 5,
    "start_time": "2022-05-22T12:28:38.730Z"
   },
   {
    "duration": 80,
    "start_time": "2022-05-22T12:29:28.424Z"
   },
   {
    "duration": 5,
    "start_time": "2022-05-22T12:30:46.314Z"
   },
   {
    "duration": 8,
    "start_time": "2022-05-22T12:40:20.428Z"
   },
   {
    "duration": 4,
    "start_time": "2022-05-22T12:40:43.277Z"
   },
   {
    "duration": 7,
    "start_time": "2022-05-22T12:40:52.998Z"
   },
   {
    "duration": 4,
    "start_time": "2022-05-22T12:42:33.874Z"
   },
   {
    "duration": 108,
    "start_time": "2022-05-22T12:44:44.774Z"
   },
   {
    "duration": 100,
    "start_time": "2022-05-22T12:45:05.025Z"
   },
   {
    "duration": 739,
    "start_time": "2022-05-23T03:41:07.727Z"
   },
   {
    "duration": 13,
    "start_time": "2022-05-23T03:41:08.468Z"
   },
   {
    "duration": 31,
    "start_time": "2022-05-23T03:41:08.482Z"
   },
   {
    "duration": 11,
    "start_time": "2022-05-23T03:41:08.516Z"
   },
   {
    "duration": 44,
    "start_time": "2022-05-23T03:41:08.528Z"
   },
   {
    "duration": 5,
    "start_time": "2022-05-23T03:41:08.574Z"
   },
   {
    "duration": 14,
    "start_time": "2022-05-23T03:41:08.580Z"
   },
   {
    "duration": 2,
    "start_time": "2022-05-23T03:41:08.596Z"
   },
   {
    "duration": 98,
    "start_time": "2022-05-23T03:41:08.600Z"
   },
   {
    "duration": 7,
    "start_time": "2022-05-23T03:41:08.700Z"
   },
   {
    "duration": 7,
    "start_time": "2022-05-23T03:41:08.709Z"
   },
   {
    "duration": 58,
    "start_time": "2022-05-23T10:21:07.364Z"
   },
   {
    "duration": 758,
    "start_time": "2022-05-23T10:21:13.933Z"
   },
   {
    "duration": 14,
    "start_time": "2022-05-23T10:21:14.693Z"
   },
   {
    "duration": 41,
    "start_time": "2022-05-23T10:21:14.708Z"
   },
   {
    "duration": 8,
    "start_time": "2022-05-23T10:21:14.751Z"
   },
   {
    "duration": 26,
    "start_time": "2022-05-23T10:21:14.760Z"
   },
   {
    "duration": 4,
    "start_time": "2022-05-23T10:21:14.788Z"
   },
   {
    "duration": 14,
    "start_time": "2022-05-23T10:21:14.793Z"
   },
   {
    "duration": 17,
    "start_time": "2022-05-23T10:21:14.809Z"
   },
   {
    "duration": 163,
    "start_time": "2022-05-23T10:21:14.827Z"
   },
   {
    "duration": 0,
    "start_time": "2022-05-23T10:21:14.992Z"
   },
   {
    "duration": 0,
    "start_time": "2022-05-23T10:21:14.994Z"
   },
   {
    "duration": 80,
    "start_time": "2022-05-23T10:21:22.667Z"
   },
   {
    "duration": 87,
    "start_time": "2022-05-23T10:21:52.522Z"
   },
   {
    "duration": 92,
    "start_time": "2022-05-23T10:21:59.699Z"
   },
   {
    "duration": 87,
    "start_time": "2022-05-23T10:22:05.754Z"
   },
   {
    "duration": 22,
    "start_time": "2022-05-23T10:22:45.258Z"
   },
   {
    "duration": 21,
    "start_time": "2022-05-23T10:22:51.794Z"
   },
   {
    "duration": 89,
    "start_time": "2022-05-23T10:22:59.987Z"
   },
   {
    "duration": 23,
    "start_time": "2022-05-23T10:23:12.964Z"
   },
   {
    "duration": 15,
    "start_time": "2022-05-23T10:23:23.056Z"
   },
   {
    "duration": 84,
    "start_time": "2022-05-23T10:23:34.246Z"
   },
   {
    "duration": 16,
    "start_time": "2022-05-23T10:23:35.876Z"
   },
   {
    "duration": 24,
    "start_time": "2022-05-23T10:23:45.267Z"
   },
   {
    "duration": 93,
    "start_time": "2022-05-23T10:23:50.811Z"
   },
   {
    "duration": 18,
    "start_time": "2022-05-23T10:23:52.028Z"
   },
   {
    "duration": 5,
    "start_time": "2022-05-23T10:25:12.492Z"
   },
   {
    "duration": 8,
    "start_time": "2022-05-23T10:26:53.124Z"
   },
   {
    "duration": 9,
    "start_time": "2022-05-23T10:27:04.523Z"
   },
   {
    "duration": 44,
    "start_time": "2022-05-23T11:27:16.952Z"
   },
   {
    "duration": 36,
    "start_time": "2022-05-23T11:27:27.028Z"
   },
   {
    "duration": 9,
    "start_time": "2022-05-23T11:28:22.474Z"
   },
   {
    "duration": 21,
    "start_time": "2022-05-23T11:29:52.604Z"
   },
   {
    "duration": 12,
    "start_time": "2022-05-23T11:30:21.733Z"
   },
   {
    "duration": 10,
    "start_time": "2022-05-23T11:30:54.613Z"
   },
   {
    "duration": 10,
    "start_time": "2022-05-23T11:31:30.941Z"
   },
   {
    "duration": 9,
    "start_time": "2022-05-23T11:32:30.806Z"
   },
   {
    "duration": 40,
    "start_time": "2022-05-23T11:32:59.478Z"
   },
   {
    "duration": 7,
    "start_time": "2022-05-23T11:33:40.022Z"
   },
   {
    "duration": 915,
    "start_time": "2022-05-24T05:20:22.682Z"
   },
   {
    "duration": 15,
    "start_time": "2022-05-24T05:20:23.599Z"
   },
   {
    "duration": 35,
    "start_time": "2022-05-24T05:20:23.616Z"
   },
   {
    "duration": 31,
    "start_time": "2022-05-24T05:20:23.653Z"
   },
   {
    "duration": 30,
    "start_time": "2022-05-24T05:20:23.685Z"
   },
   {
    "duration": 5,
    "start_time": "2022-05-24T05:20:23.716Z"
   },
   {
    "duration": 18,
    "start_time": "2022-05-24T05:20:23.722Z"
   },
   {
    "duration": 4,
    "start_time": "2022-05-24T05:20:23.742Z"
   },
   {
    "duration": 117,
    "start_time": "2022-05-24T05:20:23.748Z"
   },
   {
    "duration": 92,
    "start_time": "2022-05-24T05:20:23.867Z"
   },
   {
    "duration": 0,
    "start_time": "2022-05-24T05:20:23.960Z"
   },
   {
    "duration": 0,
    "start_time": "2022-05-24T05:20:23.961Z"
   },
   {
    "duration": 11,
    "start_time": "2022-05-24T05:20:46.646Z"
   },
   {
    "duration": 661,
    "start_time": "2022-05-24T06:26:16.984Z"
   },
   {
    "duration": 15,
    "start_time": "2022-05-24T06:26:17.647Z"
   },
   {
    "duration": 37,
    "start_time": "2022-05-24T06:26:17.663Z"
   },
   {
    "duration": 13,
    "start_time": "2022-05-24T06:26:17.703Z"
   },
   {
    "duration": 27,
    "start_time": "2022-05-24T06:26:17.719Z"
   },
   {
    "duration": 5,
    "start_time": "2022-05-24T06:26:17.748Z"
   },
   {
    "duration": 43,
    "start_time": "2022-05-24T06:26:17.755Z"
   },
   {
    "duration": 4,
    "start_time": "2022-05-24T06:26:17.800Z"
   },
   {
    "duration": 142,
    "start_time": "2022-05-24T06:26:17.806Z"
   },
   {
    "duration": 121,
    "start_time": "2022-05-24T06:26:17.951Z"
   },
   {
    "duration": 0,
    "start_time": "2022-05-24T06:26:18.074Z"
   },
   {
    "duration": 0,
    "start_time": "2022-05-24T06:26:18.076Z"
   },
   {
    "duration": 8,
    "start_time": "2022-05-24T06:26:56.259Z"
   },
   {
    "duration": 7,
    "start_time": "2022-05-24T06:30:43.101Z"
   },
   {
    "duration": 10,
    "start_time": "2022-05-24T06:30:50.748Z"
   },
   {
    "duration": 19,
    "start_time": "2022-05-24T06:31:07.789Z"
   },
   {
    "duration": 15,
    "start_time": "2022-05-24T06:32:01.506Z"
   },
   {
    "duration": 13,
    "start_time": "2022-05-24T06:32:21.909Z"
   },
   {
    "duration": 14,
    "start_time": "2022-05-24T06:34:45.173Z"
   },
   {
    "duration": 15,
    "start_time": "2022-05-24T06:35:52.636Z"
   },
   {
    "duration": 12,
    "start_time": "2022-05-24T06:36:11.532Z"
   },
   {
    "duration": 13,
    "start_time": "2022-05-24T06:36:24.198Z"
   },
   {
    "duration": 51,
    "start_time": "2022-05-24T06:38:23.382Z"
   },
   {
    "duration": 26,
    "start_time": "2022-05-24T06:38:30.263Z"
   },
   {
    "duration": 41,
    "start_time": "2022-05-24T06:38:38.685Z"
   },
   {
    "duration": 36,
    "start_time": "2022-05-24T06:38:54.398Z"
   },
   {
    "duration": 60,
    "start_time": "2022-05-24T06:39:14.374Z"
   },
   {
    "duration": 25,
    "start_time": "2022-05-24T06:39:22.270Z"
   },
   {
    "duration": 19,
    "start_time": "2022-05-24T06:39:41.758Z"
   },
   {
    "duration": 7,
    "start_time": "2022-05-24T06:42:09.238Z"
   },
   {
    "duration": 57,
    "start_time": "2022-05-24T06:42:21.287Z"
   },
   {
    "duration": 73,
    "start_time": "2022-05-24T06:42:29.190Z"
   },
   {
    "duration": 383,
    "start_time": "2022-05-24T06:48:08.193Z"
   },
   {
    "duration": 622,
    "start_time": "2022-05-24T06:48:50.732Z"
   },
   {
    "duration": 15,
    "start_time": "2022-05-24T06:48:51.356Z"
   },
   {
    "duration": 35,
    "start_time": "2022-05-24T06:48:51.373Z"
   },
   {
    "duration": 9,
    "start_time": "2022-05-24T06:48:51.410Z"
   },
   {
    "duration": 24,
    "start_time": "2022-05-24T06:48:51.420Z"
   },
   {
    "duration": 5,
    "start_time": "2022-05-24T06:48:51.445Z"
   },
   {
    "duration": 8,
    "start_time": "2022-05-24T06:48:51.483Z"
   },
   {
    "duration": 4,
    "start_time": "2022-05-24T06:48:51.493Z"
   },
   {
    "duration": 100,
    "start_time": "2022-05-24T06:48:51.499Z"
   },
   {
    "duration": 8,
    "start_time": "2022-05-24T06:48:51.602Z"
   },
   {
    "duration": 121,
    "start_time": "2022-05-24T06:48:51.612Z"
   },
   {
    "duration": 3,
    "start_time": "2022-05-24T06:48:51.735Z"
   },
   {
    "duration": 84,
    "start_time": "2022-05-24T06:49:23.933Z"
   },
   {
    "duration": 97,
    "start_time": "2022-05-24T06:49:42.460Z"
   },
   {
    "duration": 152,
    "start_time": "2022-05-24T06:50:31.782Z"
   },
   {
    "duration": 7,
    "start_time": "2022-05-24T06:53:28.429Z"
   },
   {
    "duration": 10,
    "start_time": "2022-05-24T06:53:44.352Z"
   },
   {
    "duration": 12,
    "start_time": "2022-05-24T07:01:01.030Z"
   },
   {
    "duration": 62,
    "start_time": "2022-05-30T07:02:09.813Z"
   },
   {
    "duration": 1031,
    "start_time": "2022-05-30T07:02:17.146Z"
   },
   {
    "duration": 19,
    "start_time": "2022-05-30T07:02:18.182Z"
   },
   {
    "duration": 65,
    "start_time": "2022-05-30T07:02:18.203Z"
   },
   {
    "duration": 9,
    "start_time": "2022-05-30T07:02:18.271Z"
   },
   {
    "duration": 44,
    "start_time": "2022-05-30T07:02:18.283Z"
   },
   {
    "duration": 5,
    "start_time": "2022-05-30T07:02:18.329Z"
   },
   {
    "duration": 14,
    "start_time": "2022-05-30T07:02:18.335Z"
   },
   {
    "duration": 14,
    "start_time": "2022-05-30T07:02:18.350Z"
   },
   {
    "duration": 135,
    "start_time": "2022-05-30T07:02:18.366Z"
   },
   {
    "duration": 3,
    "start_time": "2022-05-30T07:02:18.504Z"
   },
   {
    "duration": 123,
    "start_time": "2022-05-30T07:02:18.508Z"
   },
   {
    "duration": 9,
    "start_time": "2022-05-30T07:02:18.633Z"
   },
   {
    "duration": 40,
    "start_time": "2022-05-30T07:02:18.643Z"
   },
   {
    "duration": 107,
    "start_time": "2022-05-30T07:06:55.834Z"
   },
   {
    "duration": 9,
    "start_time": "2022-05-30T07:07:20.900Z"
   },
   {
    "duration": 78,
    "start_time": "2022-05-30T07:08:56.378Z"
   },
   {
    "duration": 500,
    "start_time": "2022-05-30T07:09:17.901Z"
   },
   {
    "duration": 9,
    "start_time": "2022-05-30T07:12:47.830Z"
   },
   {
    "duration": 10,
    "start_time": "2022-05-30T07:14:10.775Z"
   },
   {
    "duration": 7,
    "start_time": "2022-05-30T07:14:27.580Z"
   },
   {
    "duration": 8,
    "start_time": "2022-05-30T07:14:43.070Z"
   },
   {
    "duration": 4,
    "start_time": "2022-05-30T07:15:46.207Z"
   },
   {
    "duration": 14,
    "start_time": "2022-05-30T07:16:00.038Z"
   },
   {
    "duration": 12,
    "start_time": "2022-05-30T07:17:05.646Z"
   },
   {
    "duration": 14,
    "start_time": "2022-05-30T07:17:18.487Z"
   },
   {
    "duration": 138,
    "start_time": "2022-05-30T07:17:40.850Z"
   },
   {
    "duration": 6,
    "start_time": "2022-05-30T07:20:20.680Z"
   },
   {
    "duration": 6,
    "start_time": "2022-05-30T07:20:51.689Z"
   },
   {
    "duration": 10,
    "start_time": "2022-05-30T07:23:57.588Z"
   },
   {
    "duration": 7,
    "start_time": "2022-05-30T07:24:14.230Z"
   },
   {
    "duration": 8,
    "start_time": "2022-05-30T07:27:19.930Z"
   },
   {
    "duration": 1105,
    "start_time": "2022-05-31T10:45:24.462Z"
   },
   {
    "duration": 26,
    "start_time": "2022-05-31T10:45:25.581Z"
   },
   {
    "duration": 45,
    "start_time": "2022-05-31T10:45:25.609Z"
   },
   {
    "duration": 59,
    "start_time": "2022-05-31T10:45:25.656Z"
   },
   {
    "duration": 45,
    "start_time": "2022-05-31T10:45:25.718Z"
   },
   {
    "duration": 33,
    "start_time": "2022-05-31T10:45:25.778Z"
   },
   {
    "duration": 30,
    "start_time": "2022-05-31T10:45:25.813Z"
   },
   {
    "duration": 58,
    "start_time": "2022-05-31T10:45:25.848Z"
   },
   {
    "duration": 148,
    "start_time": "2022-05-31T10:45:25.908Z"
   },
   {
    "duration": 3,
    "start_time": "2022-05-31T10:45:26.060Z"
   },
   {
    "duration": 190,
    "start_time": "2022-05-31T10:45:26.065Z"
   },
   {
    "duration": 24,
    "start_time": "2022-05-31T10:45:26.263Z"
   },
   {
    "duration": 23,
    "start_time": "2022-05-31T10:45:26.294Z"
   },
   {
    "duration": 25,
    "start_time": "2022-05-31T10:45:26.320Z"
   },
   {
    "duration": 11,
    "start_time": "2022-05-31T10:48:18.466Z"
   },
   {
    "duration": 16,
    "start_time": "2022-05-31T10:48:40.898Z"
   },
   {
    "duration": 16,
    "start_time": "2022-05-31T10:49:53.887Z"
   },
   {
    "duration": 26,
    "start_time": "2022-05-31T10:50:10.054Z"
   },
   {
    "duration": 33,
    "start_time": "2022-05-31T10:50:33.048Z"
   },
   {
    "duration": 9,
    "start_time": "2022-05-31T10:51:01.951Z"
   },
   {
    "duration": 12,
    "start_time": "2022-05-31T10:55:03.581Z"
   },
   {
    "duration": 33,
    "start_time": "2022-05-31T10:55:12.859Z"
   },
   {
    "duration": 41,
    "start_time": "2022-05-31T10:56:26.056Z"
   },
   {
    "duration": 18,
    "start_time": "2022-05-31T10:56:28.496Z"
   },
   {
    "duration": 43,
    "start_time": "2022-05-31T11:02:01.516Z"
   },
   {
    "duration": 7,
    "start_time": "2022-05-31T12:20:17.813Z"
   },
   {
    "duration": 16,
    "start_time": "2022-05-31T12:20:41.470Z"
   },
   {
    "duration": 99,
    "start_time": "2022-05-31T12:24:24.276Z"
   },
   {
    "duration": 17,
    "start_time": "2022-05-31T12:24:45.815Z"
   },
   {
    "duration": 8,
    "start_time": "2022-05-31T12:24:51.182Z"
   },
   {
    "duration": 10,
    "start_time": "2022-05-31T12:24:59.599Z"
   },
   {
    "duration": 46,
    "start_time": "2022-05-31T12:25:04.126Z"
   },
   {
    "duration": 11,
    "start_time": "2022-05-31T12:25:38.583Z"
   },
   {
    "duration": 23,
    "start_time": "2022-05-31T12:26:08.400Z"
   },
   {
    "duration": 32,
    "start_time": "2022-05-31T12:27:22.390Z"
   },
   {
    "duration": 21,
    "start_time": "2022-05-31T12:28:02.503Z"
   },
   {
    "duration": 11,
    "start_time": "2022-05-31T12:29:35.884Z"
   },
   {
    "duration": 10,
    "start_time": "2022-05-31T12:30:08.489Z"
   },
   {
    "duration": 4,
    "start_time": "2022-05-31T12:30:35.166Z"
   },
   {
    "duration": 10,
    "start_time": "2022-05-31T12:30:38.789Z"
   },
   {
    "duration": 5,
    "start_time": "2022-05-31T12:32:48.412Z"
   },
   {
    "duration": 5,
    "start_time": "2022-05-31T12:34:37.691Z"
   },
   {
    "duration": 7,
    "start_time": "2022-05-31T12:34:42.812Z"
   },
   {
    "duration": 22,
    "start_time": "2022-05-31T12:34:51.900Z"
   },
   {
    "duration": 11,
    "start_time": "2022-05-31T12:37:06.547Z"
   },
   {
    "duration": 46,
    "start_time": "2022-05-31T12:37:36.105Z"
   },
   {
    "duration": 11,
    "start_time": "2022-05-31T12:38:34.250Z"
   },
   {
    "duration": 42,
    "start_time": "2022-05-31T12:38:37.043Z"
   },
   {
    "duration": 874,
    "start_time": "2022-05-31T12:38:51.232Z"
   },
   {
    "duration": 14,
    "start_time": "2022-05-31T12:38:52.109Z"
   },
   {
    "duration": 67,
    "start_time": "2022-05-31T12:38:52.130Z"
   },
   {
    "duration": 9,
    "start_time": "2022-05-31T12:38:52.200Z"
   },
   {
    "duration": 44,
    "start_time": "2022-05-31T12:38:52.210Z"
   },
   {
    "duration": 6,
    "start_time": "2022-05-31T12:38:52.263Z"
   },
   {
    "duration": 35,
    "start_time": "2022-05-31T12:38:52.271Z"
   },
   {
    "duration": 9,
    "start_time": "2022-05-31T12:38:52.307Z"
   },
   {
    "duration": 160,
    "start_time": "2022-05-31T12:38:52.318Z"
   },
   {
    "duration": 11,
    "start_time": "2022-05-31T12:38:52.485Z"
   },
   {
    "duration": 162,
    "start_time": "2022-05-31T12:38:52.499Z"
   },
   {
    "duration": 19,
    "start_time": "2022-05-31T12:38:52.664Z"
   },
   {
    "duration": 24,
    "start_time": "2022-05-31T12:38:52.685Z"
   },
   {
    "duration": 9,
    "start_time": "2022-05-31T12:38:52.711Z"
   },
   {
    "duration": 96,
    "start_time": "2022-05-31T12:38:52.722Z"
   },
   {
    "duration": 4,
    "start_time": "2022-05-31T12:38:52.820Z"
   },
   {
    "duration": 73,
    "start_time": "2022-05-31T12:38:52.827Z"
   },
   {
    "duration": 8,
    "start_time": "2022-05-31T12:38:52.902Z"
   },
   {
    "duration": 27,
    "start_time": "2022-05-31T12:40:36.684Z"
   },
   {
    "duration": 53,
    "start_time": "2022-05-31T12:40:44.355Z"
   },
   {
    "duration": 10,
    "start_time": "2022-05-31T12:41:05.970Z"
   },
   {
    "duration": 24,
    "start_time": "2022-05-31T12:41:22.925Z"
   },
   {
    "duration": 32,
    "start_time": "2022-05-31T12:41:29.775Z"
   },
   {
    "duration": 36,
    "start_time": "2022-05-31T12:44:34.879Z"
   },
   {
    "duration": 36,
    "start_time": "2022-05-31T12:44:45.250Z"
   },
   {
    "duration": 34,
    "start_time": "2022-05-31T14:00:09.987Z"
   },
   {
    "duration": 63,
    "start_time": "2022-05-31T14:00:28.470Z"
   },
   {
    "duration": 65,
    "start_time": "2022-05-31T14:00:41.547Z"
   },
   {
    "duration": 37,
    "start_time": "2022-05-31T14:01:03.587Z"
   },
   {
    "duration": 26,
    "start_time": "2022-05-31T14:01:23.977Z"
   },
   {
    "duration": 16,
    "start_time": "2022-05-31T14:14:31.229Z"
   },
   {
    "duration": 32,
    "start_time": "2022-05-31T14:14:41.770Z"
   },
   {
    "duration": 53,
    "start_time": "2022-06-01T07:51:41.216Z"
   },
   {
    "duration": 809,
    "start_time": "2022-06-01T07:51:49.099Z"
   },
   {
    "duration": 14,
    "start_time": "2022-06-01T07:51:49.910Z"
   },
   {
    "duration": 34,
    "start_time": "2022-06-01T07:51:49.926Z"
   },
   {
    "duration": 8,
    "start_time": "2022-06-01T07:51:49.962Z"
   },
   {
    "duration": 24,
    "start_time": "2022-06-01T07:51:49.972Z"
   },
   {
    "duration": 5,
    "start_time": "2022-06-01T07:51:49.997Z"
   },
   {
    "duration": 28,
    "start_time": "2022-06-01T07:51:50.003Z"
   },
   {
    "duration": 7,
    "start_time": "2022-06-01T07:51:50.033Z"
   },
   {
    "duration": 101,
    "start_time": "2022-06-01T07:51:50.041Z"
   },
   {
    "duration": 3,
    "start_time": "2022-06-01T07:51:50.145Z"
   },
   {
    "duration": 99,
    "start_time": "2022-06-01T07:51:50.149Z"
   },
   {
    "duration": 13,
    "start_time": "2022-06-01T07:51:50.249Z"
   },
   {
    "duration": 4,
    "start_time": "2022-06-01T07:51:50.263Z"
   },
   {
    "duration": 8,
    "start_time": "2022-06-01T07:51:50.269Z"
   },
   {
    "duration": 27,
    "start_time": "2022-06-01T07:51:50.278Z"
   },
   {
    "duration": 22,
    "start_time": "2022-06-01T07:51:50.307Z"
   },
   {
    "duration": 30,
    "start_time": "2022-06-01T07:51:50.330Z"
   },
   {
    "duration": 16,
    "start_time": "2022-06-01T07:51:50.361Z"
   },
   {
    "duration": 19,
    "start_time": "2022-06-01T07:51:50.378Z"
   },
   {
    "duration": 54,
    "start_time": "2022-06-01T07:51:50.398Z"
   },
   {
    "duration": 19,
    "start_time": "2022-06-01T07:51:57.164Z"
   },
   {
    "duration": 4,
    "start_time": "2022-06-01T07:51:59.211Z"
   },
   {
    "duration": 15,
    "start_time": "2022-06-01T07:58:49.353Z"
   },
   {
    "duration": 23,
    "start_time": "2022-06-01T08:01:34.735Z"
   },
   {
    "duration": 17,
    "start_time": "2022-06-01T08:02:19.279Z"
   },
   {
    "duration": 17,
    "start_time": "2022-06-01T08:05:12.841Z"
   },
   {
    "duration": 8,
    "start_time": "2022-06-01T08:07:32.673Z"
   },
   {
    "duration": 10,
    "start_time": "2022-06-01T08:07:48.463Z"
   },
   {
    "duration": 27,
    "start_time": "2022-06-01T08:08:20.159Z"
   },
   {
    "duration": 665,
    "start_time": "2022-06-01T11:55:58.080Z"
   },
   {
    "duration": 15,
    "start_time": "2022-06-01T11:55:58.747Z"
   },
   {
    "duration": 43,
    "start_time": "2022-06-01T11:55:58.764Z"
   },
   {
    "duration": 19,
    "start_time": "2022-06-01T11:55:58.810Z"
   },
   {
    "duration": 24,
    "start_time": "2022-06-01T11:55:58.830Z"
   },
   {
    "duration": 5,
    "start_time": "2022-06-01T11:55:58.856Z"
   },
   {
    "duration": 9,
    "start_time": "2022-06-01T11:55:58.862Z"
   },
   {
    "duration": 10,
    "start_time": "2022-06-01T11:55:58.872Z"
   },
   {
    "duration": 113,
    "start_time": "2022-06-01T11:55:58.883Z"
   },
   {
    "duration": 3,
    "start_time": "2022-06-01T11:55:58.999Z"
   },
   {
    "duration": 107,
    "start_time": "2022-06-01T11:55:59.004Z"
   },
   {
    "duration": 18,
    "start_time": "2022-06-01T11:55:59.112Z"
   },
   {
    "duration": 4,
    "start_time": "2022-06-01T11:55:59.132Z"
   },
   {
    "duration": 8,
    "start_time": "2022-06-01T11:55:59.138Z"
   },
   {
    "duration": 28,
    "start_time": "2022-06-01T11:55:59.147Z"
   },
   {
    "duration": 4,
    "start_time": "2022-06-01T11:55:59.177Z"
   },
   {
    "duration": 57,
    "start_time": "2022-06-01T11:55:59.182Z"
   },
   {
    "duration": 15,
    "start_time": "2022-06-01T11:55:59.241Z"
   },
   {
    "duration": 27,
    "start_time": "2022-06-01T11:55:59.258Z"
   },
   {
    "duration": 5,
    "start_time": "2022-06-01T11:56:21.966Z"
   },
   {
    "duration": 8,
    "start_time": "2022-06-01T11:56:39.382Z"
   },
   {
    "duration": 10,
    "start_time": "2022-06-01T11:56:55.629Z"
   },
   {
    "duration": 6,
    "start_time": "2022-06-01T11:57:20.607Z"
   },
   {
    "duration": 27,
    "start_time": "2022-06-01T11:57:33.382Z"
   },
   {
    "duration": 28,
    "start_time": "2022-06-01T11:58:52.222Z"
   },
   {
    "duration": 24,
    "start_time": "2022-06-01T12:04:42.577Z"
   },
   {
    "duration": 22,
    "start_time": "2022-06-01T12:04:51.954Z"
   },
   {
    "duration": 64,
    "start_time": "2022-06-01T20:21:58.054Z"
   },
   {
    "duration": 1117,
    "start_time": "2022-06-01T20:22:04.811Z"
   },
   {
    "duration": 20,
    "start_time": "2022-06-01T20:22:05.931Z"
   },
   {
    "duration": 29,
    "start_time": "2022-06-01T20:22:05.953Z"
   },
   {
    "duration": 49,
    "start_time": "2022-06-01T20:22:05.984Z"
   },
   {
    "duration": 26,
    "start_time": "2022-06-01T20:22:06.036Z"
   },
   {
    "duration": 4,
    "start_time": "2022-06-01T20:22:06.064Z"
   },
   {
    "duration": 12,
    "start_time": "2022-06-01T20:22:06.070Z"
   },
   {
    "duration": 44,
    "start_time": "2022-06-01T20:22:06.083Z"
   },
   {
    "duration": 135,
    "start_time": "2022-06-01T20:22:06.129Z"
   },
   {
    "duration": 3,
    "start_time": "2022-06-01T20:22:06.267Z"
   },
   {
    "duration": 140,
    "start_time": "2022-06-01T20:22:06.272Z"
   },
   {
    "duration": 24,
    "start_time": "2022-06-01T20:22:06.414Z"
   },
   {
    "duration": 16,
    "start_time": "2022-06-01T20:22:06.440Z"
   },
   {
    "duration": 31,
    "start_time": "2022-06-01T20:22:06.458Z"
   },
   {
    "duration": 38,
    "start_time": "2022-06-01T20:22:06.491Z"
   },
   {
    "duration": 16,
    "start_time": "2022-06-01T20:22:06.532Z"
   },
   {
    "duration": 49,
    "start_time": "2022-06-01T20:22:06.550Z"
   },
   {
    "duration": 57,
    "start_time": "2022-06-01T20:22:06.601Z"
   },
   {
    "duration": 20,
    "start_time": "2022-06-01T20:22:06.660Z"
   },
   {
    "duration": 57,
    "start_time": "2022-06-01T20:22:06.682Z"
   },
   {
    "duration": 106,
    "start_time": "2022-06-01T20:22:06.741Z"
   },
   {
    "duration": 15,
    "start_time": "2022-06-01T20:22:29.522Z"
   },
   {
    "duration": 17,
    "start_time": "2022-06-01T20:22:37.128Z"
   },
   {
    "duration": 31,
    "start_time": "2022-06-01T20:22:47.086Z"
   },
   {
    "duration": 683,
    "start_time": "2022-06-01T20:23:38.657Z"
   },
   {
    "duration": 18,
    "start_time": "2022-06-01T20:23:39.342Z"
   },
   {
    "duration": 78,
    "start_time": "2022-06-01T20:23:39.362Z"
   },
   {
    "duration": 12,
    "start_time": "2022-06-01T20:23:39.444Z"
   },
   {
    "duration": 26,
    "start_time": "2022-06-01T20:23:39.458Z"
   },
   {
    "duration": 6,
    "start_time": "2022-06-01T20:23:39.485Z"
   },
   {
    "duration": 42,
    "start_time": "2022-06-01T20:23:39.492Z"
   },
   {
    "duration": 11,
    "start_time": "2022-06-01T20:23:39.535Z"
   },
   {
    "duration": 127,
    "start_time": "2022-06-01T20:23:39.548Z"
   },
   {
    "duration": 4,
    "start_time": "2022-06-01T20:23:39.678Z"
   },
   {
    "duration": 122,
    "start_time": "2022-06-01T20:23:39.684Z"
   },
   {
    "duration": 26,
    "start_time": "2022-06-01T20:23:39.809Z"
   },
   {
    "duration": 5,
    "start_time": "2022-06-01T20:23:39.837Z"
   },
   {
    "duration": 9,
    "start_time": "2022-06-01T20:23:39.844Z"
   },
   {
    "duration": 47,
    "start_time": "2022-06-01T20:23:39.854Z"
   },
   {
    "duration": 6,
    "start_time": "2022-06-01T20:23:39.927Z"
   },
   {
    "duration": 54,
    "start_time": "2022-06-01T20:23:39.935Z"
   },
   {
    "duration": 65,
    "start_time": "2022-06-01T20:23:39.991Z"
   },
   {
    "duration": 21,
    "start_time": "2022-06-01T20:23:40.057Z"
   },
   {
    "duration": 68,
    "start_time": "2022-06-01T20:23:40.080Z"
   },
   {
    "duration": 6,
    "start_time": "2022-06-01T20:24:20.994Z"
   },
   {
    "duration": 11,
    "start_time": "2022-06-01T20:24:33.910Z"
   },
   {
    "duration": 10,
    "start_time": "2022-06-01T20:25:09.355Z"
   },
   {
    "duration": 16,
    "start_time": "2022-06-01T20:35:52.624Z"
   },
   {
    "duration": 8,
    "start_time": "2022-06-01T20:47:08.359Z"
   },
   {
    "duration": 868,
    "start_time": "2022-06-02T06:11:09.387Z"
   },
   {
    "duration": 17,
    "start_time": "2022-06-02T06:11:10.257Z"
   },
   {
    "duration": 31,
    "start_time": "2022-06-02T06:11:10.276Z"
   },
   {
    "duration": 9,
    "start_time": "2022-06-02T06:11:10.327Z"
   },
   {
    "duration": 23,
    "start_time": "2022-06-02T06:11:10.337Z"
   },
   {
    "duration": 5,
    "start_time": "2022-06-02T06:11:10.362Z"
   },
   {
    "duration": 15,
    "start_time": "2022-06-02T06:11:10.368Z"
   },
   {
    "duration": 110,
    "start_time": "2022-06-02T06:11:10.385Z"
   },
   {
    "duration": 3,
    "start_time": "2022-06-02T06:11:10.497Z"
   },
   {
    "duration": 109,
    "start_time": "2022-06-02T06:11:10.503Z"
   },
   {
    "duration": 19,
    "start_time": "2022-06-02T06:11:10.613Z"
   },
   {
    "duration": 8,
    "start_time": "2022-06-02T06:11:10.634Z"
   },
   {
    "duration": 12,
    "start_time": "2022-06-02T06:11:10.644Z"
   },
   {
    "duration": 35,
    "start_time": "2022-06-02T06:11:10.657Z"
   },
   {
    "duration": 4,
    "start_time": "2022-06-02T06:11:10.693Z"
   },
   {
    "duration": 49,
    "start_time": "2022-06-02T06:11:10.699Z"
   },
   {
    "duration": 36,
    "start_time": "2022-06-02T06:11:10.750Z"
   },
   {
    "duration": 16,
    "start_time": "2022-06-02T06:11:10.788Z"
   },
   {
    "duration": 48,
    "start_time": "2022-06-02T06:11:10.805Z"
   },
   {
    "duration": 10,
    "start_time": "2022-06-02T06:11:10.855Z"
   },
   {
    "duration": 15,
    "start_time": "2022-06-02T06:11:10.867Z"
   },
   {
    "duration": 671,
    "start_time": "2022-06-02T07:50:17.340Z"
   },
   {
    "duration": 16,
    "start_time": "2022-06-02T07:50:18.013Z"
   },
   {
    "duration": 32,
    "start_time": "2022-06-02T07:50:18.033Z"
   },
   {
    "duration": 9,
    "start_time": "2022-06-02T07:50:18.067Z"
   },
   {
    "duration": 54,
    "start_time": "2022-06-02T07:50:18.078Z"
   },
   {
    "duration": 5,
    "start_time": "2022-06-02T07:50:18.134Z"
   },
   {
    "duration": 18,
    "start_time": "2022-06-02T07:50:18.141Z"
   },
   {
    "duration": 93,
    "start_time": "2022-06-02T07:50:18.161Z"
   },
   {
    "duration": 3,
    "start_time": "2022-06-02T07:50:18.258Z"
   },
   {
    "duration": 110,
    "start_time": "2022-06-02T07:50:18.262Z"
   },
   {
    "duration": 14,
    "start_time": "2022-06-02T07:50:18.374Z"
   },
   {
    "duration": 5,
    "start_time": "2022-06-02T07:50:18.390Z"
   },
   {
    "duration": 32,
    "start_time": "2022-06-02T07:50:18.397Z"
   },
   {
    "duration": 37,
    "start_time": "2022-06-02T07:50:18.432Z"
   },
   {
    "duration": 5,
    "start_time": "2022-06-02T07:50:18.471Z"
   },
   {
    "duration": 69,
    "start_time": "2022-06-02T07:50:18.478Z"
   },
   {
    "duration": 32,
    "start_time": "2022-06-02T07:50:18.550Z"
   },
   {
    "duration": 17,
    "start_time": "2022-06-02T07:50:18.583Z"
   },
   {
    "duration": 33,
    "start_time": "2022-06-02T07:50:18.627Z"
   },
   {
    "duration": 12,
    "start_time": "2022-06-02T07:50:18.662Z"
   },
   {
    "duration": 15,
    "start_time": "2022-06-02T07:50:18.675Z"
   },
   {
    "duration": 8,
    "start_time": "2022-06-02T07:54:37.691Z"
   },
   {
    "duration": 80,
    "start_time": "2022-06-02T07:54:59.496Z"
   },
   {
    "duration": 9,
    "start_time": "2022-06-02T07:55:06.328Z"
   },
   {
    "duration": 12,
    "start_time": "2022-06-02T07:56:36.105Z"
   },
   {
    "duration": 5,
    "start_time": "2022-06-02T08:07:17.010Z"
   },
   {
    "duration": 29,
    "start_time": "2022-06-02T08:07:34.047Z"
   },
   {
    "duration": 904,
    "start_time": "2022-06-02T12:43:45.579Z"
   },
   {
    "duration": 14,
    "start_time": "2022-06-02T12:43:46.485Z"
   },
   {
    "duration": 39,
    "start_time": "2022-06-02T12:43:46.501Z"
   },
   {
    "duration": 8,
    "start_time": "2022-06-02T12:43:46.541Z"
   },
   {
    "duration": 41,
    "start_time": "2022-06-02T12:43:46.551Z"
   },
   {
    "duration": 4,
    "start_time": "2022-06-02T12:43:46.594Z"
   },
   {
    "duration": 21,
    "start_time": "2022-06-02T12:43:46.599Z"
   },
   {
    "duration": 104,
    "start_time": "2022-06-02T12:43:46.621Z"
   },
   {
    "duration": 2,
    "start_time": "2022-06-02T12:43:46.727Z"
   },
   {
    "duration": 117,
    "start_time": "2022-06-02T12:43:46.731Z"
   },
   {
    "duration": 12,
    "start_time": "2022-06-02T12:43:46.849Z"
   },
   {
    "duration": 25,
    "start_time": "2022-06-02T12:43:46.862Z"
   },
   {
    "duration": 18,
    "start_time": "2022-06-02T12:43:46.889Z"
   },
   {
    "duration": 40,
    "start_time": "2022-06-02T12:43:46.910Z"
   },
   {
    "duration": 4,
    "start_time": "2022-06-02T12:43:46.952Z"
   },
   {
    "duration": 39,
    "start_time": "2022-06-02T12:43:46.957Z"
   },
   {
    "duration": 38,
    "start_time": "2022-06-02T12:43:46.998Z"
   },
   {
    "duration": 15,
    "start_time": "2022-06-02T12:43:47.038Z"
   },
   {
    "duration": 60,
    "start_time": "2022-06-02T12:43:47.055Z"
   },
   {
    "duration": 9,
    "start_time": "2022-06-02T12:43:47.118Z"
   },
   {
    "duration": 25,
    "start_time": "2022-06-02T12:43:47.129Z"
   },
   {
    "duration": 28,
    "start_time": "2022-06-02T12:43:47.155Z"
   },
   {
    "duration": 26,
    "start_time": "2022-06-02T12:43:47.184Z"
   },
   {
    "duration": 29,
    "start_time": "2022-06-02T12:43:47.212Z"
   },
   {
    "duration": 23,
    "start_time": "2022-06-02T12:43:47.242Z"
   },
   {
    "duration": 13,
    "start_time": "2022-06-02T12:44:08.295Z"
   },
   {
    "duration": 9,
    "start_time": "2022-06-02T12:45:03.926Z"
   },
   {
    "duration": 5,
    "start_time": "2022-06-02T12:51:05.514Z"
   },
   {
    "duration": 5,
    "start_time": "2022-06-02T12:55:15.086Z"
   },
   {
    "duration": 8,
    "start_time": "2022-06-02T13:04:00.998Z"
   },
   {
    "duration": 13,
    "start_time": "2022-06-02T13:04:40.636Z"
   },
   {
    "duration": 84,
    "start_time": "2022-06-02T13:05:57.276Z"
   },
   {
    "duration": 11,
    "start_time": "2022-06-02T13:06:27.572Z"
   },
   {
    "duration": 15,
    "start_time": "2022-06-02T13:08:06.740Z"
   },
   {
    "duration": 8,
    "start_time": "2022-06-02T13:12:29.409Z"
   },
   {
    "duration": 93,
    "start_time": "2022-06-02T13:12:37.066Z"
   },
   {
    "duration": 157,
    "start_time": "2022-06-02T13:12:42.919Z"
   },
   {
    "duration": 202,
    "start_time": "2022-06-02T13:13:12.694Z"
   },
   {
    "duration": 125,
    "start_time": "2022-06-02T13:13:26.734Z"
   },
   {
    "duration": 181,
    "start_time": "2022-06-02T13:14:33.782Z"
   },
   {
    "duration": 195,
    "start_time": "2022-06-02T13:15:12.711Z"
   },
   {
    "duration": 152,
    "start_time": "2022-06-02T13:15:16.777Z"
   },
   {
    "duration": 16,
    "start_time": "2022-06-02T13:16:28.025Z"
   },
   {
    "duration": 10,
    "start_time": "2022-06-02T13:16:36.333Z"
   },
   {
    "duration": 17,
    "start_time": "2022-06-02T13:16:49.097Z"
   },
   {
    "duration": 11,
    "start_time": "2022-06-02T13:17:04.056Z"
   },
   {
    "duration": 12,
    "start_time": "2022-06-02T13:17:09.200Z"
   },
   {
    "duration": 13,
    "start_time": "2022-06-02T13:17:34.903Z"
   },
   {
    "duration": 10,
    "start_time": "2022-06-02T13:17:49.046Z"
   },
   {
    "duration": 8,
    "start_time": "2022-06-02T13:17:53.543Z"
   },
   {
    "duration": 34,
    "start_time": "2022-06-02T13:18:09.272Z"
   },
   {
    "duration": 9,
    "start_time": "2022-06-02T13:18:15.470Z"
   },
   {
    "duration": 9,
    "start_time": "2022-06-02T13:20:24.271Z"
   },
   {
    "duration": 59,
    "start_time": "2022-06-03T08:03:51.238Z"
   },
   {
    "duration": 912,
    "start_time": "2022-06-03T08:03:59.189Z"
   },
   {
    "duration": 15,
    "start_time": "2022-06-03T08:04:00.103Z"
   },
   {
    "duration": 34,
    "start_time": "2022-06-03T08:04:00.120Z"
   },
   {
    "duration": 9,
    "start_time": "2022-06-03T08:04:00.156Z"
   },
   {
    "duration": 28,
    "start_time": "2022-06-03T08:04:00.167Z"
   },
   {
    "duration": 5,
    "start_time": "2022-06-03T08:04:00.197Z"
   },
   {
    "duration": 25,
    "start_time": "2022-06-03T08:04:00.203Z"
   },
   {
    "duration": 106,
    "start_time": "2022-06-03T08:04:00.230Z"
   },
   {
    "duration": 3,
    "start_time": "2022-06-03T08:04:00.338Z"
   },
   {
    "duration": 119,
    "start_time": "2022-06-03T08:04:00.343Z"
   },
   {
    "duration": 12,
    "start_time": "2022-06-03T08:04:00.463Z"
   },
   {
    "duration": 8,
    "start_time": "2022-06-03T08:04:00.477Z"
   },
   {
    "duration": 15,
    "start_time": "2022-06-03T08:04:00.486Z"
   },
   {
    "duration": 38,
    "start_time": "2022-06-03T08:04:00.502Z"
   },
   {
    "duration": 5,
    "start_time": "2022-06-03T08:04:00.542Z"
   },
   {
    "duration": 14,
    "start_time": "2022-06-03T08:04:00.549Z"
   },
   {
    "duration": 33,
    "start_time": "2022-06-03T08:04:00.564Z"
   },
   {
    "duration": 37,
    "start_time": "2022-06-03T08:04:00.599Z"
   },
   {
    "duration": 14,
    "start_time": "2022-06-03T08:04:00.638Z"
   },
   {
    "duration": 34,
    "start_time": "2022-06-03T08:04:00.653Z"
   },
   {
    "duration": 16,
    "start_time": "2022-06-03T08:04:00.689Z"
   },
   {
    "duration": 18,
    "start_time": "2022-06-03T08:04:00.707Z"
   },
   {
    "duration": 17,
    "start_time": "2022-06-03T08:04:00.727Z"
   },
   {
    "duration": 9,
    "start_time": "2022-06-03T08:04:00.745Z"
   },
   {
    "duration": 539,
    "start_time": "2022-06-03T08:04:00.755Z"
   },
   {
    "duration": 9,
    "start_time": "2022-06-03T08:04:01.296Z"
   },
   {
    "duration": 23,
    "start_time": "2022-06-03T08:04:01.307Z"
   },
   {
    "duration": 22,
    "start_time": "2022-06-03T08:04:01.334Z"
   },
   {
    "duration": 33,
    "start_time": "2022-06-03T08:04:01.358Z"
   },
   {
    "duration": 33,
    "start_time": "2022-06-03T08:04:01.393Z"
   },
   {
    "duration": 156,
    "start_time": "2022-06-03T08:13:09.198Z"
   },
   {
    "duration": 136,
    "start_time": "2022-06-03T08:13:23.642Z"
   },
   {
    "duration": 197,
    "start_time": "2022-06-03T08:13:27.482Z"
   },
   {
    "duration": 174,
    "start_time": "2022-06-03T08:13:34.052Z"
   },
   {
    "duration": 89,
    "start_time": "2022-06-03T08:14:38.876Z"
   },
   {
    "duration": 143,
    "start_time": "2022-06-03T08:15:46.602Z"
   },
   {
    "duration": 99,
    "start_time": "2022-06-03T08:15:53.287Z"
   },
   {
    "duration": 18,
    "start_time": "2022-06-03T08:16:12.173Z"
   },
   {
    "duration": 85,
    "start_time": "2022-06-03T08:16:22.971Z"
   },
   {
    "duration": 103,
    "start_time": "2022-06-03T08:17:18.747Z"
   },
   {
    "duration": 12,
    "start_time": "2022-06-03T08:17:44.412Z"
   },
   {
    "duration": 150,
    "start_time": "2022-06-03T08:17:50.708Z"
   },
   {
    "duration": 97,
    "start_time": "2022-06-03T08:17:55.244Z"
   },
   {
    "duration": 174,
    "start_time": "2022-06-03T08:18:35.551Z"
   },
   {
    "duration": 95,
    "start_time": "2022-06-03T08:18:53.141Z"
   },
   {
    "duration": 98,
    "start_time": "2022-06-03T08:19:38.838Z"
   },
   {
    "duration": 98,
    "start_time": "2022-06-03T08:19:43.292Z"
   },
   {
    "duration": 97,
    "start_time": "2022-06-03T08:19:46.931Z"
   },
   {
    "duration": 169,
    "start_time": "2022-06-03T08:19:55.012Z"
   },
   {
    "duration": 128,
    "start_time": "2022-06-03T08:20:00.060Z"
   },
   {
    "duration": 113,
    "start_time": "2022-06-03T08:20:25.501Z"
   },
   {
    "duration": 114,
    "start_time": "2022-06-03T08:20:31.917Z"
   },
   {
    "duration": 142,
    "start_time": "2022-06-03T08:20:35.292Z"
   },
   {
    "duration": 104,
    "start_time": "2022-06-03T08:20:47.477Z"
   },
   {
    "duration": 98,
    "start_time": "2022-06-03T08:20:52.740Z"
   },
   {
    "duration": 98,
    "start_time": "2022-06-03T08:20:57.269Z"
   },
   {
    "duration": 113,
    "start_time": "2022-06-03T08:21:01.444Z"
   },
   {
    "duration": 120,
    "start_time": "2022-06-03T08:21:04.861Z"
   },
   {
    "duration": 97,
    "start_time": "2022-06-03T08:21:16.532Z"
   },
   {
    "duration": 107,
    "start_time": "2022-06-03T08:21:27.868Z"
   },
   {
    "duration": 95,
    "start_time": "2022-06-03T08:21:33.772Z"
   },
   {
    "duration": 100,
    "start_time": "2022-06-03T08:21:42.044Z"
   },
   {
    "duration": 391,
    "start_time": "2022-06-03T08:22:34.079Z"
   },
   {
    "duration": 303,
    "start_time": "2022-06-03T08:22:59.997Z"
   },
   {
    "duration": 98,
    "start_time": "2022-06-03T08:24:14.198Z"
   },
   {
    "duration": 16,
    "start_time": "2022-06-03T08:24:54.598Z"
   },
   {
    "duration": 8,
    "start_time": "2022-06-03T08:25:00.478Z"
   },
   {
    "duration": 5,
    "start_time": "2022-06-03T08:47:31.181Z"
   },
   {
    "duration": 4,
    "start_time": "2022-06-03T08:48:11.908Z"
   },
   {
    "duration": 10,
    "start_time": "2022-06-03T08:48:26.955Z"
   },
   {
    "duration": 41,
    "start_time": "2022-06-03T08:55:59.086Z"
   },
   {
    "duration": 12,
    "start_time": "2022-06-03T08:56:30.166Z"
   },
   {
    "duration": 52,
    "start_time": "2022-06-03T08:57:26.907Z"
   },
   {
    "duration": 60,
    "start_time": "2022-06-03T08:57:35.495Z"
   },
   {
    "duration": 16,
    "start_time": "2022-06-03T08:57:39.662Z"
   },
   {
    "duration": 51,
    "start_time": "2022-06-03T09:00:20.392Z"
   },
   {
    "duration": 15,
    "start_time": "2022-06-03T09:00:48.016Z"
   },
   {
    "duration": 17,
    "start_time": "2022-06-03T09:02:50.465Z"
   },
   {
    "duration": 11,
    "start_time": "2022-06-03T09:03:32.785Z"
   },
   {
    "duration": 217,
    "start_time": "2022-06-03T09:08:05.050Z"
   },
   {
    "duration": 155,
    "start_time": "2022-06-03T09:08:25.398Z"
   },
   {
    "duration": 972,
    "start_time": "2022-06-03T10:00:07.714Z"
   },
   {
    "duration": 17,
    "start_time": "2022-06-03T10:00:08.688Z"
   },
   {
    "duration": 59,
    "start_time": "2022-06-03T10:00:08.707Z"
   },
   {
    "duration": 12,
    "start_time": "2022-06-03T10:00:08.768Z"
   },
   {
    "duration": 47,
    "start_time": "2022-06-03T10:00:08.781Z"
   },
   {
    "duration": 7,
    "start_time": "2022-06-03T10:00:08.830Z"
   },
   {
    "duration": 33,
    "start_time": "2022-06-03T10:00:08.839Z"
   },
   {
    "duration": 128,
    "start_time": "2022-06-03T10:00:08.874Z"
   },
   {
    "duration": 3,
    "start_time": "2022-06-03T10:00:09.004Z"
   },
   {
    "duration": 150,
    "start_time": "2022-06-03T10:00:09.010Z"
   },
   {
    "duration": 18,
    "start_time": "2022-06-03T10:00:09.162Z"
   },
   {
    "duration": 6,
    "start_time": "2022-06-03T10:00:09.182Z"
   },
   {
    "duration": 39,
    "start_time": "2022-06-03T10:00:09.190Z"
   },
   {
    "duration": 83,
    "start_time": "2022-06-03T10:00:09.232Z"
   },
   {
    "duration": 11,
    "start_time": "2022-06-03T10:00:09.317Z"
   },
   {
    "duration": 39,
    "start_time": "2022-06-03T10:00:09.338Z"
   },
   {
    "duration": 33,
    "start_time": "2022-06-03T10:00:09.379Z"
   },
   {
    "duration": 77,
    "start_time": "2022-06-03T10:00:09.414Z"
   },
   {
    "duration": 22,
    "start_time": "2022-06-03T10:00:09.493Z"
   },
   {
    "duration": 75,
    "start_time": "2022-06-03T10:00:09.517Z"
   },
   {
    "duration": 33,
    "start_time": "2022-06-03T10:00:09.593Z"
   },
   {
    "duration": 29,
    "start_time": "2022-06-03T10:00:09.628Z"
   },
   {
    "duration": 22,
    "start_time": "2022-06-03T10:00:09.659Z"
   },
   {
    "duration": 28,
    "start_time": "2022-06-03T10:00:09.683Z"
   },
   {
    "duration": 11,
    "start_time": "2022-06-03T10:00:09.713Z"
   },
   {
    "duration": 46,
    "start_time": "2022-06-03T10:00:09.726Z"
   },
   {
    "duration": 135,
    "start_time": "2022-06-03T10:00:09.774Z"
   },
   {
    "duration": 45,
    "start_time": "2022-06-03T10:00:09.912Z"
   },
   {
    "duration": 42,
    "start_time": "2022-06-03T10:00:09.958Z"
   },
   {
    "duration": 21,
    "start_time": "2022-06-03T10:00:10.001Z"
   },
   {
    "duration": 22,
    "start_time": "2022-06-03T10:00:10.023Z"
   },
   {
    "duration": 112,
    "start_time": "2022-06-03T10:00:48.456Z"
   },
   {
    "duration": 115,
    "start_time": "2022-06-03T10:01:08.719Z"
   },
   {
    "duration": 113,
    "start_time": "2022-06-03T10:01:17.737Z"
   },
   {
    "duration": 186,
    "start_time": "2022-06-03T10:01:27.777Z"
   },
   {
    "duration": 123,
    "start_time": "2022-06-03T10:01:35.437Z"
   },
   {
    "duration": 119,
    "start_time": "2022-06-03T10:01:43.119Z"
   },
   {
    "duration": 129,
    "start_time": "2022-06-03T10:02:02.522Z"
   },
   {
    "duration": 116,
    "start_time": "2022-06-03T10:02:29.607Z"
   },
   {
    "duration": 109,
    "start_time": "2022-06-03T10:02:35.095Z"
   },
   {
    "duration": 114,
    "start_time": "2022-06-03T10:02:38.736Z"
   },
   {
    "duration": 111,
    "start_time": "2022-06-03T10:02:43.240Z"
   },
   {
    "duration": 119,
    "start_time": "2022-06-03T10:02:57.823Z"
   },
   {
    "duration": 34,
    "start_time": "2022-06-03T10:05:01.037Z"
   },
   {
    "duration": 36,
    "start_time": "2022-06-03T10:22:10.240Z"
   },
   {
    "duration": 12,
    "start_time": "2022-06-03T10:22:21.788Z"
   },
   {
    "duration": 41,
    "start_time": "2022-06-03T10:23:16.333Z"
   },
   {
    "duration": 10,
    "start_time": "2022-06-03T10:23:20.637Z"
   },
   {
    "duration": 39,
    "start_time": "2022-06-03T10:23:46.081Z"
   },
   {
    "duration": 37,
    "start_time": "2022-06-03T10:24:10.501Z"
   },
   {
    "duration": 36,
    "start_time": "2022-06-03T10:24:22.851Z"
   },
   {
    "duration": 38,
    "start_time": "2022-06-03T10:25:28.758Z"
   },
   {
    "duration": 792,
    "start_time": "2022-06-03T10:25:39.962Z"
   },
   {
    "duration": 14,
    "start_time": "2022-06-03T10:25:40.756Z"
   },
   {
    "duration": 32,
    "start_time": "2022-06-03T10:25:40.771Z"
   },
   {
    "duration": 20,
    "start_time": "2022-06-03T10:25:40.805Z"
   },
   {
    "duration": 41,
    "start_time": "2022-06-03T10:25:40.827Z"
   },
   {
    "duration": 15,
    "start_time": "2022-06-03T10:25:40.870Z"
   },
   {
    "duration": 15,
    "start_time": "2022-06-03T10:25:40.887Z"
   },
   {
    "duration": 97,
    "start_time": "2022-06-03T10:25:40.904Z"
   },
   {
    "duration": 3,
    "start_time": "2022-06-03T10:25:41.003Z"
   },
   {
    "duration": 111,
    "start_time": "2022-06-03T10:25:41.008Z"
   },
   {
    "duration": 14,
    "start_time": "2022-06-03T10:25:41.121Z"
   },
   {
    "duration": 6,
    "start_time": "2022-06-03T10:25:41.137Z"
   },
   {
    "duration": 18,
    "start_time": "2022-06-03T10:25:41.144Z"
   },
   {
    "duration": 34,
    "start_time": "2022-06-03T10:25:41.163Z"
   },
   {
    "duration": 4,
    "start_time": "2022-06-03T10:25:41.199Z"
   },
   {
    "duration": 23,
    "start_time": "2022-06-03T10:25:41.205Z"
   },
   {
    "duration": 20,
    "start_time": "2022-06-03T10:25:41.229Z"
   },
   {
    "duration": 30,
    "start_time": "2022-06-03T10:25:41.250Z"
   },
   {
    "duration": 15,
    "start_time": "2022-06-03T10:25:41.282Z"
   },
   {
    "duration": 50,
    "start_time": "2022-06-03T10:25:41.299Z"
   },
   {
    "duration": 10,
    "start_time": "2022-06-03T10:25:41.351Z"
   },
   {
    "duration": 12,
    "start_time": "2022-06-03T10:25:41.363Z"
   },
   {
    "duration": 15,
    "start_time": "2022-06-03T10:25:41.377Z"
   },
   {
    "duration": 16,
    "start_time": "2022-06-03T10:25:41.393Z"
   },
   {
    "duration": 20,
    "start_time": "2022-06-03T10:25:41.411Z"
   },
   {
    "duration": 8,
    "start_time": "2022-06-03T10:25:41.433Z"
   },
   {
    "duration": 9,
    "start_time": "2022-06-03T10:25:41.442Z"
   },
   {
    "duration": 8,
    "start_time": "2022-06-03T10:25:41.454Z"
   },
   {
    "duration": 38,
    "start_time": "2022-06-03T10:25:41.463Z"
   },
   {
    "duration": 43,
    "start_time": "2022-06-03T10:25:41.502Z"
   },
   {
    "duration": 27,
    "start_time": "2022-06-03T10:25:41.546Z"
   },
   {
    "duration": 36,
    "start_time": "2022-06-03T10:25:50.086Z"
   },
   {
    "duration": 14,
    "start_time": "2022-06-03T10:26:14.823Z"
   },
   {
    "duration": 105,
    "start_time": "2022-06-03T10:26:21.494Z"
   },
   {
    "duration": 18,
    "start_time": "2022-06-03T10:26:32.533Z"
   },
   {
    "duration": 10,
    "start_time": "2022-06-03T10:26:44.357Z"
   },
   {
    "duration": 11,
    "start_time": "2022-06-03T10:26:52.261Z"
   },
   {
    "duration": 25,
    "start_time": "2022-06-03T10:27:35.279Z"
   },
   {
    "duration": 38,
    "start_time": "2022-06-03T10:29:24.021Z"
   },
   {
    "duration": 17,
    "start_time": "2022-06-03T10:29:57.126Z"
   },
   {
    "duration": 7,
    "start_time": "2022-06-03T10:30:18.724Z"
   },
   {
    "duration": 8,
    "start_time": "2022-06-03T10:30:35.521Z"
   },
   {
    "duration": 849,
    "start_time": "2022-06-03T10:30:47.247Z"
   },
   {
    "duration": 643,
    "start_time": "2022-06-03T10:31:34.494Z"
   },
   {
    "duration": 6,
    "start_time": "2022-06-03T10:31:54.088Z"
   },
   {
    "duration": 7,
    "start_time": "2022-06-03T10:32:07.326Z"
   },
   {
    "duration": 7,
    "start_time": "2022-06-03T10:32:13.742Z"
   },
   {
    "duration": 7,
    "start_time": "2022-06-03T10:32:18.646Z"
   },
   {
    "duration": 9,
    "start_time": "2022-06-03T10:32:44.797Z"
   },
   {
    "duration": 8,
    "start_time": "2022-06-03T10:35:00.918Z"
   },
   {
    "duration": 13,
    "start_time": "2022-06-03T10:35:34.793Z"
   },
   {
    "duration": 8,
    "start_time": "2022-06-03T10:35:40.832Z"
   },
   {
    "duration": 6,
    "start_time": "2022-06-03T10:36:03.496Z"
   },
   {
    "duration": 8,
    "start_time": "2022-06-03T10:36:20.088Z"
   },
   {
    "duration": 49,
    "start_time": "2022-06-03T10:38:15.787Z"
   },
   {
    "duration": 13,
    "start_time": "2022-06-03T10:38:36.751Z"
   },
   {
    "duration": 72,
    "start_time": "2022-06-03T10:38:54.816Z"
   },
   {
    "duration": 28,
    "start_time": "2022-06-03T10:39:33.664Z"
   },
   {
    "duration": 19,
    "start_time": "2022-06-03T10:39:41.127Z"
   },
   {
    "duration": 54,
    "start_time": "2022-06-03T10:40:09.632Z"
   },
   {
    "duration": 4,
    "start_time": "2022-06-03T10:48:16.457Z"
   },
   {
    "duration": 28,
    "start_time": "2022-06-03T10:48:26.693Z"
   },
   {
    "duration": 27,
    "start_time": "2022-06-03T10:48:53.701Z"
   },
   {
    "duration": 8,
    "start_time": "2022-06-03T10:49:26.441Z"
   },
   {
    "duration": 37,
    "start_time": "2022-06-03T10:49:56.459Z"
   },
   {
    "duration": 38,
    "start_time": "2022-06-03T10:50:23.955Z"
   },
   {
    "duration": 7,
    "start_time": "2022-06-03T10:51:00.762Z"
   },
   {
    "duration": 914,
    "start_time": "2022-06-03T11:56:49.122Z"
   },
   {
    "duration": 16,
    "start_time": "2022-06-03T11:56:50.038Z"
   },
   {
    "duration": 53,
    "start_time": "2022-06-03T11:56:50.056Z"
   },
   {
    "duration": 16,
    "start_time": "2022-06-03T11:56:50.111Z"
   },
   {
    "duration": 32,
    "start_time": "2022-06-03T11:56:50.129Z"
   },
   {
    "duration": 5,
    "start_time": "2022-06-03T11:56:50.163Z"
   },
   {
    "duration": 27,
    "start_time": "2022-06-03T11:56:50.170Z"
   },
   {
    "duration": 129,
    "start_time": "2022-06-03T11:56:50.199Z"
   },
   {
    "duration": 4,
    "start_time": "2022-06-03T11:56:50.330Z"
   },
   {
    "duration": 132,
    "start_time": "2022-06-03T11:56:50.337Z"
   },
   {
    "duration": 14,
    "start_time": "2022-06-03T11:56:50.471Z"
   },
   {
    "duration": 20,
    "start_time": "2022-06-03T11:56:50.486Z"
   },
   {
    "duration": 31,
    "start_time": "2022-06-03T11:56:50.508Z"
   },
   {
    "duration": 41,
    "start_time": "2022-06-03T11:56:50.541Z"
   },
   {
    "duration": 7,
    "start_time": "2022-06-03T11:56:50.584Z"
   },
   {
    "duration": 40,
    "start_time": "2022-06-03T11:56:50.593Z"
   },
   {
    "duration": 25,
    "start_time": "2022-06-03T11:56:50.635Z"
   },
   {
    "duration": 43,
    "start_time": "2022-06-03T11:56:50.661Z"
   },
   {
    "duration": 16,
    "start_time": "2022-06-03T11:56:50.706Z"
   },
   {
    "duration": 55,
    "start_time": "2022-06-03T11:56:50.724Z"
   },
   {
    "duration": 15,
    "start_time": "2022-06-03T11:56:50.781Z"
   },
   {
    "duration": 33,
    "start_time": "2022-06-03T11:56:50.797Z"
   },
   {
    "duration": 18,
    "start_time": "2022-06-03T11:56:50.832Z"
   },
   {
    "duration": 14,
    "start_time": "2022-06-03T11:56:50.854Z"
   },
   {
    "duration": 10,
    "start_time": "2022-06-03T11:56:50.870Z"
   },
   {
    "duration": 28,
    "start_time": "2022-06-03T11:56:50.882Z"
   },
   {
    "duration": 19,
    "start_time": "2022-06-03T11:56:50.912Z"
   },
   {
    "duration": 9,
    "start_time": "2022-06-03T11:56:50.935Z"
   },
   {
    "duration": 34,
    "start_time": "2022-06-03T11:56:50.946Z"
   },
   {
    "duration": 24,
    "start_time": "2022-06-03T11:56:50.982Z"
   },
   {
    "duration": 35,
    "start_time": "2022-06-03T11:56:51.024Z"
   },
   {
    "duration": 9,
    "start_time": "2022-06-03T11:56:51.062Z"
   },
   {
    "duration": 12,
    "start_time": "2022-06-03T11:58:18.363Z"
   },
   {
    "duration": 9,
    "start_time": "2022-06-03T11:58:50.534Z"
   },
   {
    "duration": 88,
    "start_time": "2022-06-03T11:59:29.086Z"
   },
   {
    "duration": 10,
    "start_time": "2022-06-03T11:59:36.582Z"
   },
   {
    "duration": 7,
    "start_time": "2022-06-03T11:59:54.607Z"
   },
   {
    "duration": 10,
    "start_time": "2022-06-03T12:00:00.661Z"
   },
   {
    "duration": 4,
    "start_time": "2022-06-03T12:00:17.094Z"
   },
   {
    "duration": 45,
    "start_time": "2022-06-03T12:14:51.366Z"
   },
   {
    "duration": 13,
    "start_time": "2022-06-03T12:30:14.427Z"
   },
   {
    "duration": 14,
    "start_time": "2022-06-03T12:30:25.296Z"
   },
   {
    "duration": 12,
    "start_time": "2022-06-03T12:31:02.394Z"
   },
   {
    "duration": 19,
    "start_time": "2022-06-03T12:31:07.865Z"
   },
   {
    "duration": 161,
    "start_time": "2022-06-03T12:31:48.659Z"
   },
   {
    "duration": 145,
    "start_time": "2022-06-03T12:32:33.801Z"
   },
   {
    "duration": 209,
    "start_time": "2022-06-03T12:32:44.522Z"
   },
   {
    "duration": 137,
    "start_time": "2022-06-03T12:33:03.958Z"
   },
   {
    "duration": 153,
    "start_time": "2022-06-03T12:33:17.322Z"
   },
   {
    "duration": 194,
    "start_time": "2022-06-03T12:34:17.256Z"
   },
   {
    "duration": 131,
    "start_time": "2022-06-03T13:11:45.777Z"
   },
   {
    "duration": 174,
    "start_time": "2022-06-03T13:28:46.608Z"
   },
   {
    "duration": 407,
    "start_time": "2022-06-03T13:29:01.456Z"
   },
   {
    "duration": 116,
    "start_time": "2022-06-03T13:29:50.417Z"
   },
   {
    "duration": 117,
    "start_time": "2022-06-03T13:30:45.334Z"
   },
   {
    "duration": 131,
    "start_time": "2022-06-03T13:31:01.146Z"
   },
   {
    "duration": 126,
    "start_time": "2022-06-03T13:31:23.889Z"
   },
   {
    "duration": 126,
    "start_time": "2022-06-03T13:31:41.168Z"
   },
   {
    "duration": 139,
    "start_time": "2022-06-03T13:43:57.803Z"
   },
   {
    "duration": 139,
    "start_time": "2022-06-03T13:56:56.879Z"
   },
   {
    "duration": 1148,
    "start_time": "2022-06-03T19:05:41.589Z"
   },
   {
    "duration": 14,
    "start_time": "2022-06-03T19:05:42.739Z"
   },
   {
    "duration": 35,
    "start_time": "2022-06-03T19:05:42.755Z"
   },
   {
    "duration": 10,
    "start_time": "2022-06-03T19:05:42.792Z"
   },
   {
    "duration": 41,
    "start_time": "2022-06-03T19:05:42.804Z"
   },
   {
    "duration": 4,
    "start_time": "2022-06-03T19:05:42.847Z"
   },
   {
    "duration": 10,
    "start_time": "2022-06-03T19:05:42.852Z"
   },
   {
    "duration": 101,
    "start_time": "2022-06-03T19:05:42.863Z"
   },
   {
    "duration": 3,
    "start_time": "2022-06-03T19:05:42.966Z"
   },
   {
    "duration": 104,
    "start_time": "2022-06-03T19:05:42.970Z"
   },
   {
    "duration": 13,
    "start_time": "2022-06-03T19:05:43.076Z"
   },
   {
    "duration": 5,
    "start_time": "2022-06-03T19:05:43.090Z"
   },
   {
    "duration": 7,
    "start_time": "2022-06-03T19:05:43.097Z"
   },
   {
    "duration": 53,
    "start_time": "2022-06-03T19:05:43.108Z"
   },
   {
    "duration": 5,
    "start_time": "2022-06-03T19:05:43.164Z"
   },
   {
    "duration": 6,
    "start_time": "2022-06-03T19:05:43.171Z"
   },
   {
    "duration": 13,
    "start_time": "2022-06-03T19:05:43.179Z"
   },
   {
    "duration": 55,
    "start_time": "2022-06-03T19:05:43.194Z"
   },
   {
    "duration": 15,
    "start_time": "2022-06-03T19:05:43.251Z"
   },
   {
    "duration": 31,
    "start_time": "2022-06-03T19:05:43.268Z"
   },
   {
    "duration": 9,
    "start_time": "2022-06-03T19:05:43.300Z"
   },
   {
    "duration": 38,
    "start_time": "2022-06-03T19:05:43.311Z"
   },
   {
    "duration": 11,
    "start_time": "2022-06-03T19:05:43.351Z"
   },
   {
    "duration": 10,
    "start_time": "2022-06-03T19:05:43.364Z"
   },
   {
    "duration": 9,
    "start_time": "2022-06-03T19:05:43.375Z"
   },
   {
    "duration": 8,
    "start_time": "2022-06-03T19:05:43.385Z"
   },
   {
    "duration": 11,
    "start_time": "2022-06-03T19:05:43.394Z"
   },
   {
    "duration": 4,
    "start_time": "2022-06-03T19:05:43.441Z"
   },
   {
    "duration": 35,
    "start_time": "2022-06-03T19:05:43.447Z"
   },
   {
    "duration": 20,
    "start_time": "2022-06-03T19:05:43.483Z"
   },
   {
    "duration": 38,
    "start_time": "2022-06-03T19:05:43.504Z"
   },
   {
    "duration": 4,
    "start_time": "2022-06-03T19:05:43.544Z"
   },
   {
    "duration": 171,
    "start_time": "2022-06-03T19:05:43.549Z"
   },
   {
    "duration": 598,
    "start_time": "2022-06-03T19:10:48.790Z"
   },
   {
    "duration": 593,
    "start_time": "2022-06-03T19:11:01.765Z"
   },
   {
    "duration": 265,
    "start_time": "2022-06-03T19:11:09.219Z"
   },
   {
    "duration": 130,
    "start_time": "2022-06-03T19:13:34.722Z"
   },
   {
    "duration": 176,
    "start_time": "2022-06-03T19:14:34.655Z"
   },
   {
    "duration": 1340,
    "start_time": "2022-06-03T19:19:06.508Z"
   },
   {
    "duration": 23,
    "start_time": "2022-06-03T19:19:27.273Z"
   },
   {
    "duration": 13,
    "start_time": "2022-06-03T19:20:21.176Z"
   },
   {
    "duration": 25,
    "start_time": "2022-06-03T19:20:42.460Z"
   },
   {
    "duration": 141,
    "start_time": "2022-06-03T19:23:19.960Z"
   },
   {
    "duration": 149,
    "start_time": "2022-06-03T19:27:40.594Z"
   },
   {
    "duration": 17,
    "start_time": "2022-06-03T19:30:58.192Z"
   },
   {
    "duration": 20,
    "start_time": "2022-06-03T19:33:20.366Z"
   },
   {
    "duration": 15,
    "start_time": "2022-06-03T19:36:45.075Z"
   },
   {
    "duration": 20,
    "start_time": "2022-06-03T19:37:07.186Z"
   },
   {
    "duration": 515,
    "start_time": "2022-06-03T19:37:34.995Z"
   },
   {
    "duration": 16,
    "start_time": "2022-06-03T19:38:17.647Z"
   },
   {
    "duration": 18,
    "start_time": "2022-06-03T19:38:24.766Z"
   },
   {
    "duration": 13,
    "start_time": "2022-06-03T19:38:51.557Z"
   },
   {
    "duration": 164,
    "start_time": "2022-06-03T19:39:31.762Z"
   },
   {
    "duration": 8,
    "start_time": "2022-06-03T19:42:54.317Z"
   },
   {
    "duration": 10,
    "start_time": "2022-06-03T19:43:24.395Z"
   },
   {
    "duration": 16,
    "start_time": "2022-06-03T19:48:26.414Z"
   },
   {
    "duration": 25,
    "start_time": "2022-06-03T19:48:40.703Z"
   },
   {
    "duration": 17,
    "start_time": "2022-06-03T19:49:30.219Z"
   },
   {
    "duration": 21,
    "start_time": "2022-06-03T19:49:38.398Z"
   },
   {
    "duration": 232,
    "start_time": "2022-06-03T19:50:01.246Z"
   },
   {
    "duration": 32,
    "start_time": "2022-06-03T19:50:25.697Z"
   },
   {
    "duration": 28,
    "start_time": "2022-06-03T19:50:47.754Z"
   },
   {
    "duration": 28,
    "start_time": "2022-06-03T19:50:55.754Z"
   },
   {
    "duration": 31,
    "start_time": "2022-06-03T19:51:13.166Z"
   },
   {
    "duration": 24,
    "start_time": "2022-06-03T19:51:32.030Z"
   },
   {
    "duration": 32,
    "start_time": "2022-06-03T19:51:40.006Z"
   },
   {
    "duration": 21,
    "start_time": "2022-06-03T19:52:00.316Z"
   },
   {
    "duration": 23,
    "start_time": "2022-06-03T19:54:27.783Z"
   },
   {
    "duration": 217,
    "start_time": "2022-06-03T19:54:34.654Z"
   },
   {
    "duration": 19,
    "start_time": "2022-06-03T19:55:26.897Z"
   },
   {
    "duration": 22,
    "start_time": "2022-06-03T19:55:36.259Z"
   },
   {
    "duration": 213,
    "start_time": "2022-06-03T19:55:45.150Z"
   },
   {
    "duration": 156,
    "start_time": "2022-06-03T20:00:56.919Z"
   },
   {
    "duration": 10,
    "start_time": "2022-06-03T20:03:29.419Z"
   },
   {
    "duration": 4,
    "start_time": "2022-06-03T20:03:34.650Z"
   },
   {
    "duration": 28,
    "start_time": "2022-06-03T20:07:02.175Z"
   },
   {
    "duration": 37,
    "start_time": "2022-06-03T20:07:11.846Z"
   },
   {
    "duration": 27,
    "start_time": "2022-06-03T20:08:45.957Z"
   },
   {
    "duration": 6,
    "start_time": "2022-06-03T20:13:27.350Z"
   },
   {
    "duration": 5,
    "start_time": "2022-06-03T20:13:54.507Z"
   },
   {
    "duration": 6,
    "start_time": "2022-06-03T20:14:24.472Z"
   },
   {
    "duration": 4,
    "start_time": "2022-06-03T20:15:13.012Z"
   },
   {
    "duration": 5,
    "start_time": "2022-06-03T20:16:26.405Z"
   },
   {
    "duration": 7,
    "start_time": "2022-06-03T20:17:02.057Z"
   },
   {
    "duration": 9914,
    "start_time": "2022-06-03T20:17:23.958Z"
   },
   {
    "duration": 30,
    "start_time": "2022-06-03T20:17:37.961Z"
   },
   {
    "duration": 132,
    "start_time": "2022-06-03T20:17:58.266Z"
   },
   {
    "duration": 7,
    "start_time": "2022-06-03T20:18:10.076Z"
   },
   {
    "duration": 8,
    "start_time": "2022-06-03T20:18:27.772Z"
   },
   {
    "duration": 9,
    "start_time": "2022-06-03T20:19:20.061Z"
   },
   {
    "duration": 7,
    "start_time": "2022-06-03T20:19:27.178Z"
   },
   {
    "duration": 8,
    "start_time": "2022-06-03T20:19:35.505Z"
   },
   {
    "duration": 7,
    "start_time": "2022-06-03T20:19:52.109Z"
   },
   {
    "duration": 8,
    "start_time": "2022-06-03T20:22:18.240Z"
   },
   {
    "duration": 9,
    "start_time": "2022-06-03T20:22:39.137Z"
   },
   {
    "duration": 8,
    "start_time": "2022-06-03T20:23:27.945Z"
   },
   {
    "duration": 8,
    "start_time": "2022-06-03T20:23:35.377Z"
   },
   {
    "duration": 7,
    "start_time": "2022-06-03T20:24:11.749Z"
   },
   {
    "duration": 8,
    "start_time": "2022-06-03T20:26:30.273Z"
   },
   {
    "duration": 8,
    "start_time": "2022-06-03T20:26:49.196Z"
   },
   {
    "duration": 25,
    "start_time": "2022-06-03T20:27:17.761Z"
   },
   {
    "duration": 36,
    "start_time": "2022-06-03T20:28:12.605Z"
   },
   {
    "duration": 25,
    "start_time": "2022-06-03T20:28:19.856Z"
   },
   {
    "duration": 8,
    "start_time": "2022-06-03T20:28:30.544Z"
   },
   {
    "duration": 8,
    "start_time": "2022-06-03T20:28:32.919Z"
   },
   {
    "duration": 26,
    "start_time": "2022-06-03T20:28:42.720Z"
   },
   {
    "duration": 25,
    "start_time": "2022-06-03T20:28:53.811Z"
   },
   {
    "duration": 25,
    "start_time": "2022-06-03T20:28:57.813Z"
   },
   {
    "duration": 5,
    "start_time": "2022-06-03T20:29:06.753Z"
   },
   {
    "duration": 8,
    "start_time": "2022-06-03T20:29:10.856Z"
   },
   {
    "duration": 7,
    "start_time": "2022-06-03T20:29:12.967Z"
   },
   {
    "duration": 11,
    "start_time": "2022-06-03T20:29:38.707Z"
   },
   {
    "duration": 8,
    "start_time": "2022-06-03T20:29:49.768Z"
   },
   {
    "duration": 137,
    "start_time": "2022-06-03T20:30:09.838Z"
   },
   {
    "duration": 289,
    "start_time": "2022-06-03T20:30:29.705Z"
   },
   {
    "duration": 8,
    "start_time": "2022-06-03T20:30:45.661Z"
   },
   {
    "duration": 5,
    "start_time": "2022-06-03T20:33:53.877Z"
   },
   {
    "duration": 4,
    "start_time": "2022-06-03T20:34:20.847Z"
   },
   {
    "duration": 5,
    "start_time": "2022-06-03T20:34:29.174Z"
   },
   {
    "duration": 4,
    "start_time": "2022-06-03T20:34:34.473Z"
   },
   {
    "duration": 5,
    "start_time": "2022-06-03T20:35:10.965Z"
   },
   {
    "duration": 6,
    "start_time": "2022-06-03T20:35:34.395Z"
   },
   {
    "duration": 7,
    "start_time": "2022-06-03T20:38:30.954Z"
   },
   {
    "duration": 7,
    "start_time": "2022-06-03T20:38:53.454Z"
   },
   {
    "duration": 8,
    "start_time": "2022-06-03T20:39:47.975Z"
   },
   {
    "duration": 95,
    "start_time": "2022-06-03T20:40:04.987Z"
   },
   {
    "duration": 8,
    "start_time": "2022-06-03T20:40:12.383Z"
   },
   {
    "duration": 484,
    "start_time": "2022-06-03T20:40:57.863Z"
   },
   {
    "duration": 8,
    "start_time": "2022-06-03T20:41:03.313Z"
   },
   {
    "duration": 6,
    "start_time": "2022-06-03T20:42:21.714Z"
   },
   {
    "duration": 11,
    "start_time": "2022-06-03T20:44:00.579Z"
   },
   {
    "duration": 90,
    "start_time": "2022-06-03T20:44:43.824Z"
   },
   {
    "duration": 108,
    "start_time": "2022-06-03T20:45:31.609Z"
   },
   {
    "duration": 107,
    "start_time": "2022-06-03T20:46:01.778Z"
   },
   {
    "duration": 139,
    "start_time": "2022-06-03T20:46:24.909Z"
   },
   {
    "duration": 166,
    "start_time": "2022-06-03T20:46:47.755Z"
   },
   {
    "duration": 130,
    "start_time": "2022-06-03T20:48:29.671Z"
   },
   {
    "duration": 7,
    "start_time": "2022-06-03T20:52:20.578Z"
   },
   {
    "duration": 124,
    "start_time": "2022-06-03T20:52:35.487Z"
   },
   {
    "duration": 123,
    "start_time": "2022-06-03T20:56:07.023Z"
   },
   {
    "duration": 127,
    "start_time": "2022-06-03T20:56:27.400Z"
   },
   {
    "duration": 31,
    "start_time": "2022-06-03T21:02:39.700Z"
   },
   {
    "duration": 134,
    "start_time": "2022-06-03T21:02:58.353Z"
   },
   {
    "duration": 128,
    "start_time": "2022-06-03T21:04:24.362Z"
   },
   {
    "duration": 6,
    "start_time": "2022-06-03T21:05:27.972Z"
   },
   {
    "duration": 132,
    "start_time": "2022-06-03T21:05:49.454Z"
   },
   {
    "duration": 130,
    "start_time": "2022-06-03T21:06:14.640Z"
   },
   {
    "duration": 136,
    "start_time": "2022-06-03T21:06:32.148Z"
   },
   {
    "duration": 132,
    "start_time": "2022-06-03T21:09:02.602Z"
   },
   {
    "duration": 154,
    "start_time": "2022-06-03T21:09:26.372Z"
   },
   {
    "duration": 137,
    "start_time": "2022-06-03T21:09:41.396Z"
   },
   {
    "duration": 147,
    "start_time": "2022-06-03T21:10:30.903Z"
   },
   {
    "duration": 146,
    "start_time": "2022-06-03T21:10:40.452Z"
   },
   {
    "duration": 140,
    "start_time": "2022-06-03T21:10:52.408Z"
   },
   {
    "duration": 849,
    "start_time": "2022-06-03T21:11:08.927Z"
   },
   {
    "duration": 13,
    "start_time": "2022-06-03T21:11:09.778Z"
   },
   {
    "duration": 46,
    "start_time": "2022-06-03T21:11:09.792Z"
   },
   {
    "duration": 9,
    "start_time": "2022-06-03T21:11:09.840Z"
   },
   {
    "duration": 31,
    "start_time": "2022-06-03T21:11:09.850Z"
   },
   {
    "duration": 4,
    "start_time": "2022-06-03T21:11:09.883Z"
   },
   {
    "duration": 18,
    "start_time": "2022-06-03T21:11:09.888Z"
   },
   {
    "duration": 100,
    "start_time": "2022-06-03T21:11:09.908Z"
   },
   {
    "duration": 3,
    "start_time": "2022-06-03T21:11:10.010Z"
   },
   {
    "duration": 113,
    "start_time": "2022-06-03T21:11:10.016Z"
   },
   {
    "duration": 18,
    "start_time": "2022-06-03T21:11:10.131Z"
   },
   {
    "duration": 4,
    "start_time": "2022-06-03T21:11:10.151Z"
   },
   {
    "duration": 14,
    "start_time": "2022-06-03T21:11:10.157Z"
   },
   {
    "duration": 44,
    "start_time": "2022-06-03T21:11:10.173Z"
   },
   {
    "duration": 5,
    "start_time": "2022-06-03T21:11:10.218Z"
   },
   {
    "duration": 21,
    "start_time": "2022-06-03T21:11:10.225Z"
   },
   {
    "duration": 19,
    "start_time": "2022-06-03T21:11:10.248Z"
   },
   {
    "duration": 44,
    "start_time": "2022-06-03T21:11:10.269Z"
   },
   {
    "duration": 17,
    "start_time": "2022-06-03T21:11:10.314Z"
   },
   {
    "duration": 31,
    "start_time": "2022-06-03T21:11:10.333Z"
   },
   {
    "duration": 9,
    "start_time": "2022-06-03T21:11:10.365Z"
   },
   {
    "duration": 14,
    "start_time": "2022-06-03T21:11:10.375Z"
   },
   {
    "duration": 11,
    "start_time": "2022-06-03T21:11:10.391Z"
   },
   {
    "duration": 19,
    "start_time": "2022-06-03T21:11:10.403Z"
   },
   {
    "duration": 18,
    "start_time": "2022-06-03T21:11:10.423Z"
   },
   {
    "duration": 13,
    "start_time": "2022-06-03T21:11:10.442Z"
   },
   {
    "duration": 16,
    "start_time": "2022-06-03T21:11:10.456Z"
   },
   {
    "duration": 25,
    "start_time": "2022-06-03T21:11:10.475Z"
   },
   {
    "duration": 37,
    "start_time": "2022-06-03T21:11:10.502Z"
   },
   {
    "duration": 16,
    "start_time": "2022-06-03T21:11:10.540Z"
   },
   {
    "duration": 31,
    "start_time": "2022-06-03T21:11:10.557Z"
   },
   {
    "duration": 4,
    "start_time": "2022-06-03T21:11:10.590Z"
   },
   {
    "duration": 169,
    "start_time": "2022-06-03T21:11:10.596Z"
   },
   {
    "duration": 128,
    "start_time": "2022-06-03T21:11:10.766Z"
   },
   {
    "duration": 146,
    "start_time": "2022-06-03T21:11:10.896Z"
   },
   {
    "duration": 169,
    "start_time": "2022-06-03T21:11:11.044Z"
   },
   {
    "duration": 231,
    "start_time": "2022-06-03T21:11:11.214Z"
   },
   {
    "duration": 6,
    "start_time": "2022-06-03T21:11:11.446Z"
   },
   {
    "duration": 22,
    "start_time": "2022-06-03T21:11:11.453Z"
   },
   {
    "duration": 27,
    "start_time": "2022-06-03T21:11:11.476Z"
   },
   {
    "duration": 9,
    "start_time": "2022-06-03T21:11:11.505Z"
   },
   {
    "duration": 20,
    "start_time": "2022-06-03T21:11:11.515Z"
   },
   {
    "duration": 14,
    "start_time": "2022-06-03T21:11:11.537Z"
   },
   {
    "duration": 13,
    "start_time": "2022-06-03T21:11:11.552Z"
   },
   {
    "duration": 199,
    "start_time": "2022-06-03T21:11:11.567Z"
   },
   {
    "duration": 146,
    "start_time": "2022-06-03T21:11:11.768Z"
   },
   {
    "duration": 4,
    "start_time": "2022-06-03T21:11:30.688Z"
   },
   {
    "duration": 133,
    "start_time": "2022-06-03T21:11:35.818Z"
   },
   {
    "duration": 162,
    "start_time": "2022-06-03T21:12:00.535Z"
   },
   {
    "duration": 9,
    "start_time": "2022-06-03T21:13:17.401Z"
   },
   {
    "duration": 1193,
    "start_time": "2022-06-04T15:37:40.991Z"
   },
   {
    "duration": 21,
    "start_time": "2022-06-04T15:37:42.186Z"
   },
   {
    "duration": 31,
    "start_time": "2022-06-04T15:37:42.209Z"
   },
   {
    "duration": 8,
    "start_time": "2022-06-04T15:37:42.242Z"
   },
   {
    "duration": 57,
    "start_time": "2022-06-04T15:37:42.253Z"
   },
   {
    "duration": 5,
    "start_time": "2022-06-04T15:37:42.312Z"
   },
   {
    "duration": 15,
    "start_time": "2022-06-04T15:37:42.319Z"
   },
   {
    "duration": 107,
    "start_time": "2022-06-04T15:37:42.335Z"
   },
   {
    "duration": 3,
    "start_time": "2022-06-04T15:37:42.444Z"
   },
   {
    "duration": 121,
    "start_time": "2022-06-04T15:37:42.449Z"
   },
   {
    "duration": 34,
    "start_time": "2022-06-04T15:37:42.572Z"
   },
   {
    "duration": 6,
    "start_time": "2022-06-04T15:37:42.609Z"
   },
   {
    "duration": 9,
    "start_time": "2022-06-04T15:37:42.617Z"
   },
   {
    "duration": 28,
    "start_time": "2022-06-04T15:37:42.629Z"
   },
   {
    "duration": 4,
    "start_time": "2022-06-04T15:37:42.659Z"
   },
   {
    "duration": 29,
    "start_time": "2022-06-04T15:37:42.665Z"
   },
   {
    "duration": 14,
    "start_time": "2022-06-04T15:37:42.701Z"
   },
   {
    "duration": 32,
    "start_time": "2022-06-04T15:37:42.717Z"
   },
   {
    "duration": 17,
    "start_time": "2022-06-04T15:37:42.750Z"
   },
   {
    "duration": 52,
    "start_time": "2022-06-04T15:37:42.769Z"
   },
   {
    "duration": 10,
    "start_time": "2022-06-04T15:37:42.823Z"
   },
   {
    "duration": 9,
    "start_time": "2022-06-04T15:37:42.835Z"
   },
   {
    "duration": 10,
    "start_time": "2022-06-04T15:37:42.846Z"
   },
   {
    "duration": 10,
    "start_time": "2022-06-04T15:37:42.857Z"
   },
   {
    "duration": 33,
    "start_time": "2022-06-04T15:37:42.869Z"
   },
   {
    "duration": 13,
    "start_time": "2022-06-04T15:37:42.904Z"
   },
   {
    "duration": 9,
    "start_time": "2022-06-04T15:37:42.919Z"
   },
   {
    "duration": 4,
    "start_time": "2022-06-04T15:37:42.929Z"
   },
   {
    "duration": 56,
    "start_time": "2022-06-04T15:37:42.934Z"
   },
   {
    "duration": 23,
    "start_time": "2022-06-04T15:37:42.993Z"
   },
   {
    "duration": 28,
    "start_time": "2022-06-04T15:37:43.018Z"
   },
   {
    "duration": 5,
    "start_time": "2022-06-04T15:37:43.048Z"
   },
   {
    "duration": 227,
    "start_time": "2022-06-04T15:37:43.055Z"
   },
   {
    "duration": 147,
    "start_time": "2022-06-04T15:37:43.289Z"
   },
   {
    "duration": 171,
    "start_time": "2022-06-04T15:37:43.438Z"
   },
   {
    "duration": 211,
    "start_time": "2022-06-04T15:37:43.611Z"
   },
   {
    "duration": 283,
    "start_time": "2022-06-04T15:37:43.825Z"
   },
   {
    "duration": 7,
    "start_time": "2022-06-04T15:37:44.109Z"
   },
   {
    "duration": 11,
    "start_time": "2022-06-04T15:37:44.118Z"
   },
   {
    "duration": 9,
    "start_time": "2022-06-04T15:37:44.130Z"
   },
   {
    "duration": 9,
    "start_time": "2022-06-04T15:37:44.143Z"
   },
   {
    "duration": 12,
    "start_time": "2022-06-04T15:37:44.192Z"
   },
   {
    "duration": 17,
    "start_time": "2022-06-04T15:37:44.208Z"
   },
   {
    "duration": 11,
    "start_time": "2022-06-04T15:37:44.227Z"
   },
   {
    "duration": 250,
    "start_time": "2022-06-04T15:37:44.240Z"
   },
   {
    "duration": 180,
    "start_time": "2022-06-04T15:37:44.494Z"
   },
   {
    "duration": 26,
    "start_time": "2022-06-04T15:37:44.677Z"
   },
   {
    "duration": 143,
    "start_time": "2022-06-04T16:36:27.678Z"
   },
   {
    "duration": 15,
    "start_time": "2022-06-04T16:36:27.823Z"
   },
   {
    "duration": 33,
    "start_time": "2022-06-04T16:36:27.839Z"
   },
   {
    "duration": 8,
    "start_time": "2022-06-04T16:36:27.874Z"
   },
   {
    "duration": 31,
    "start_time": "2022-06-04T16:36:27.883Z"
   },
   {
    "duration": 5,
    "start_time": "2022-06-04T16:36:27.916Z"
   },
   {
    "duration": 11,
    "start_time": "2022-06-04T16:36:27.923Z"
   },
   {
    "duration": 100,
    "start_time": "2022-06-04T16:36:27.936Z"
   },
   {
    "duration": 3,
    "start_time": "2022-06-04T16:36:28.037Z"
   },
   {
    "duration": 129,
    "start_time": "2022-06-04T16:36:28.042Z"
   },
   {
    "duration": 13,
    "start_time": "2022-06-04T16:36:28.173Z"
   },
   {
    "duration": 5,
    "start_time": "2022-06-04T16:36:28.187Z"
   },
   {
    "duration": 9,
    "start_time": "2022-06-04T16:36:28.193Z"
   },
   {
    "duration": 60,
    "start_time": "2022-06-04T16:36:28.204Z"
   },
   {
    "duration": 5,
    "start_time": "2022-06-04T16:36:28.266Z"
   },
   {
    "duration": 7,
    "start_time": "2022-06-04T16:36:28.274Z"
   },
   {
    "duration": 12,
    "start_time": "2022-06-04T16:36:28.283Z"
   },
   {
    "duration": 30,
    "start_time": "2022-06-04T16:36:28.296Z"
   },
   {
    "duration": 31,
    "start_time": "2022-06-04T16:36:28.328Z"
   },
   {
    "duration": 29,
    "start_time": "2022-06-04T16:36:28.364Z"
   },
   {
    "duration": 11,
    "start_time": "2022-06-04T16:36:28.395Z"
   },
   {
    "duration": 9,
    "start_time": "2022-06-04T16:36:28.408Z"
   },
   {
    "duration": 13,
    "start_time": "2022-06-04T16:36:28.418Z"
   },
   {
    "duration": 35,
    "start_time": "2022-06-04T16:36:28.433Z"
   },
   {
    "duration": 15,
    "start_time": "2022-06-04T16:36:28.469Z"
   },
   {
    "duration": 9,
    "start_time": "2022-06-04T16:36:28.486Z"
   },
   {
    "duration": 9,
    "start_time": "2022-06-04T16:36:28.497Z"
   },
   {
    "duration": 6,
    "start_time": "2022-06-04T16:36:28.507Z"
   },
   {
    "duration": 51,
    "start_time": "2022-06-04T16:36:28.515Z"
   },
   {
    "duration": 20,
    "start_time": "2022-06-04T16:36:28.568Z"
   },
   {
    "duration": 27,
    "start_time": "2022-06-04T16:36:28.590Z"
   },
   {
    "duration": 4,
    "start_time": "2022-06-04T16:36:28.619Z"
   },
   {
    "duration": 167,
    "start_time": "2022-06-04T16:36:28.624Z"
   },
   {
    "duration": 131,
    "start_time": "2022-06-04T16:36:28.793Z"
   },
   {
    "duration": 151,
    "start_time": "2022-06-04T16:36:28.929Z"
   },
   {
    "duration": 187,
    "start_time": "2022-06-04T16:36:29.082Z"
   },
   {
    "duration": 222,
    "start_time": "2022-06-04T16:36:29.270Z"
   },
   {
    "duration": 6,
    "start_time": "2022-06-04T16:36:29.494Z"
   },
   {
    "duration": 9,
    "start_time": "2022-06-04T16:36:29.502Z"
   },
   {
    "duration": 12,
    "start_time": "2022-06-04T16:36:29.513Z"
   },
   {
    "duration": 6,
    "start_time": "2022-06-04T16:36:29.527Z"
   },
   {
    "duration": 22,
    "start_time": "2022-06-04T16:36:29.535Z"
   },
   {
    "duration": 17,
    "start_time": "2022-06-04T16:36:29.560Z"
   },
   {
    "duration": 10,
    "start_time": "2022-06-04T16:36:29.578Z"
   },
   {
    "duration": 152,
    "start_time": "2022-06-04T16:36:29.589Z"
   },
   {
    "duration": 822,
    "start_time": "2022-06-04T16:36:31.108Z"
   },
   {
    "duration": 19,
    "start_time": "2022-06-04T16:36:31.932Z"
   },
   {
    "duration": 55,
    "start_time": "2022-06-04T16:36:31.953Z"
   },
   {
    "duration": 9,
    "start_time": "2022-06-04T16:36:32.009Z"
   },
   {
    "duration": 44,
    "start_time": "2022-06-04T16:36:32.020Z"
   },
   {
    "duration": 5,
    "start_time": "2022-06-04T16:36:32.068Z"
   },
   {
    "duration": 13,
    "start_time": "2022-06-04T16:36:32.075Z"
   },
   {
    "duration": 139,
    "start_time": "2022-06-04T16:36:32.090Z"
   },
   {
    "duration": 3,
    "start_time": "2022-06-04T16:36:32.231Z"
   },
   {
    "duration": 113,
    "start_time": "2022-06-04T16:36:32.236Z"
   },
   {
    "duration": 18,
    "start_time": "2022-06-04T16:36:32.353Z"
   },
   {
    "duration": 6,
    "start_time": "2022-06-04T16:36:32.373Z"
   },
   {
    "duration": 15,
    "start_time": "2022-06-04T16:36:32.381Z"
   },
   {
    "duration": 38,
    "start_time": "2022-06-04T16:36:32.399Z"
   },
   {
    "duration": 4,
    "start_time": "2022-06-04T16:36:32.439Z"
   },
   {
    "duration": 15,
    "start_time": "2022-06-04T16:36:32.458Z"
   },
   {
    "duration": 18,
    "start_time": "2022-06-04T16:36:32.475Z"
   },
   {
    "duration": 45,
    "start_time": "2022-06-04T16:36:32.495Z"
   },
   {
    "duration": 15,
    "start_time": "2022-06-04T16:36:32.542Z"
   },
   {
    "duration": 37,
    "start_time": "2022-06-04T16:36:32.559Z"
   },
   {
    "duration": 19,
    "start_time": "2022-06-04T16:36:32.598Z"
   },
   {
    "duration": 15,
    "start_time": "2022-06-04T16:36:32.619Z"
   },
   {
    "duration": 26,
    "start_time": "2022-06-04T16:36:32.635Z"
   },
   {
    "duration": 21,
    "start_time": "2022-06-04T16:36:32.665Z"
   },
   {
    "duration": 15,
    "start_time": "2022-06-04T16:36:32.688Z"
   },
   {
    "duration": 12,
    "start_time": "2022-06-04T16:36:32.705Z"
   },
   {
    "duration": 17,
    "start_time": "2022-06-04T16:36:32.719Z"
   },
   {
    "duration": 6,
    "start_time": "2022-06-04T16:36:32.738Z"
   },
   {
    "duration": 49,
    "start_time": "2022-06-04T16:36:32.746Z"
   },
   {
    "duration": 18,
    "start_time": "2022-06-04T16:36:32.797Z"
   },
   {
    "duration": 22,
    "start_time": "2022-06-04T16:36:32.817Z"
   },
   {
    "duration": 14,
    "start_time": "2022-06-04T16:36:32.841Z"
   },
   {
    "duration": 164,
    "start_time": "2022-06-04T16:36:32.859Z"
   },
   {
    "duration": 140,
    "start_time": "2022-06-04T16:36:33.025Z"
   },
   {
    "duration": 136,
    "start_time": "2022-06-04T16:36:33.166Z"
   },
   {
    "duration": 180,
    "start_time": "2022-06-04T16:36:33.304Z"
   },
   {
    "duration": 213,
    "start_time": "2022-06-04T16:36:33.486Z"
   },
   {
    "duration": 6,
    "start_time": "2022-06-04T16:36:33.700Z"
   },
   {
    "duration": 10,
    "start_time": "2022-06-04T16:36:33.708Z"
   },
   {
    "duration": 9,
    "start_time": "2022-06-04T16:36:33.719Z"
   },
   {
    "duration": 10,
    "start_time": "2022-06-04T16:36:33.760Z"
   },
   {
    "duration": 14,
    "start_time": "2022-06-04T16:36:33.772Z"
   },
   {
    "duration": 12,
    "start_time": "2022-06-04T16:36:33.787Z"
   },
   {
    "duration": 12,
    "start_time": "2022-06-04T16:36:33.800Z"
   },
   {
    "duration": 198,
    "start_time": "2022-06-04T16:36:33.814Z"
   },
   {
    "duration": 155,
    "start_time": "2022-06-04T16:36:34.014Z"
   },
   {
    "duration": 8,
    "start_time": "2022-06-04T16:36:34.171Z"
   },
   {
    "duration": 52,
    "start_time": "2022-06-04T16:37:54.134Z"
   },
   {
    "duration": 130,
    "start_time": "2022-06-04T16:38:04.271Z"
   },
   {
    "duration": 198,
    "start_time": "2022-06-04T16:38:25.608Z"
   },
   {
    "duration": 141,
    "start_time": "2022-06-04T16:39:38.305Z"
   },
   {
    "duration": 280,
    "start_time": "2022-06-04T16:40:31.769Z"
   },
   {
    "duration": 261,
    "start_time": "2022-06-04T16:40:37.612Z"
   },
   {
    "duration": 138,
    "start_time": "2022-06-04T16:40:49.166Z"
   },
   {
    "duration": 148,
    "start_time": "2022-06-04T16:41:00.465Z"
   },
   {
    "duration": 177,
    "start_time": "2022-06-04T16:41:14.005Z"
   },
   {
    "duration": 163,
    "start_time": "2022-06-04T16:43:57.355Z"
   },
   {
    "duration": 34,
    "start_time": "2022-06-04T16:44:18.707Z"
   },
   {
    "duration": 21,
    "start_time": "2022-06-04T16:47:24.718Z"
   },
   {
    "duration": 9,
    "start_time": "2022-06-04T16:47:42.093Z"
   },
   {
    "duration": 111,
    "start_time": "2022-06-04T16:59:29.413Z"
   },
   {
    "duration": 30,
    "start_time": "2022-06-04T17:02:01.519Z"
   },
   {
    "duration": 136,
    "start_time": "2022-06-04T17:02:18.145Z"
   },
   {
    "duration": 435,
    "start_time": "2022-06-04T17:05:40.735Z"
   },
   {
    "duration": 371,
    "start_time": "2022-06-04T17:06:43.412Z"
   },
   {
    "duration": 227,
    "start_time": "2022-06-04T17:13:24.663Z"
   },
   {
    "duration": 19,
    "start_time": "2022-06-04T17:13:42.206Z"
   },
   {
    "duration": 140,
    "start_time": "2022-06-04T17:13:51.620Z"
   },
   {
    "duration": 172,
    "start_time": "2022-06-04T17:14:03.112Z"
   },
   {
    "duration": 194,
    "start_time": "2022-06-04T17:14:19.952Z"
   },
   {
    "duration": 225,
    "start_time": "2022-06-04T17:14:29.704Z"
   },
   {
    "duration": 232,
    "start_time": "2022-06-04T17:15:25.012Z"
   },
   {
    "duration": 216,
    "start_time": "2022-06-04T17:15:40.941Z"
   },
   {
    "duration": 223,
    "start_time": "2022-06-04T17:15:48.805Z"
   },
   {
    "duration": 228,
    "start_time": "2022-06-04T17:16:05.304Z"
   },
   {
    "duration": 292,
    "start_time": "2022-06-04T17:16:13.864Z"
   },
   {
    "duration": 179,
    "start_time": "2022-06-04T17:16:19.158Z"
   },
   {
    "duration": 190,
    "start_time": "2022-06-04T17:16:32.708Z"
   },
   {
    "duration": 1143,
    "start_time": "2022-06-04T18:04:08.354Z"
   },
   {
    "duration": 14,
    "start_time": "2022-06-04T18:04:09.499Z"
   },
   {
    "duration": 69,
    "start_time": "2022-06-04T18:04:09.515Z"
   },
   {
    "duration": 9,
    "start_time": "2022-06-04T18:04:09.587Z"
   },
   {
    "duration": 22,
    "start_time": "2022-06-04T18:04:09.598Z"
   },
   {
    "duration": 5,
    "start_time": "2022-06-04T18:04:09.622Z"
   },
   {
    "duration": 41,
    "start_time": "2022-06-04T18:04:09.630Z"
   },
   {
    "duration": 118,
    "start_time": "2022-06-04T18:04:09.673Z"
   },
   {
    "duration": 3,
    "start_time": "2022-06-04T18:04:09.793Z"
   },
   {
    "duration": 123,
    "start_time": "2022-06-04T18:04:09.800Z"
   },
   {
    "duration": 27,
    "start_time": "2022-06-04T18:04:09.925Z"
   },
   {
    "duration": 21,
    "start_time": "2022-06-04T18:04:09.955Z"
   },
   {
    "duration": 20,
    "start_time": "2022-06-04T18:04:09.979Z"
   },
   {
    "duration": 85,
    "start_time": "2022-06-04T18:04:10.001Z"
   },
   {
    "duration": 6,
    "start_time": "2022-06-04T18:04:10.088Z"
   },
   {
    "duration": 11,
    "start_time": "2022-06-04T18:04:10.096Z"
   },
   {
    "duration": 33,
    "start_time": "2022-06-04T18:04:10.108Z"
   },
   {
    "duration": 60,
    "start_time": "2022-06-04T18:04:10.143Z"
   },
   {
    "duration": 16,
    "start_time": "2022-06-04T18:04:10.204Z"
   },
   {
    "duration": 36,
    "start_time": "2022-06-04T18:04:10.222Z"
   },
   {
    "duration": 17,
    "start_time": "2022-06-04T18:04:10.259Z"
   },
   {
    "duration": 11,
    "start_time": "2022-06-04T18:04:10.277Z"
   },
   {
    "duration": 14,
    "start_time": "2022-06-04T18:04:10.290Z"
   },
   {
    "duration": 26,
    "start_time": "2022-06-04T18:04:10.306Z"
   },
   {
    "duration": 29,
    "start_time": "2022-06-04T18:04:10.337Z"
   },
   {
    "duration": 17,
    "start_time": "2022-06-04T18:04:10.368Z"
   },
   {
    "duration": 11,
    "start_time": "2022-06-04T18:04:10.387Z"
   },
   {
    "duration": 3,
    "start_time": "2022-06-04T18:04:10.401Z"
   },
   {
    "duration": 46,
    "start_time": "2022-06-04T18:04:10.406Z"
   },
   {
    "duration": 24,
    "start_time": "2022-06-04T18:04:10.459Z"
   },
   {
    "duration": 33,
    "start_time": "2022-06-04T18:04:10.485Z"
   },
   {
    "duration": 41,
    "start_time": "2022-06-04T18:04:10.520Z"
   },
   {
    "duration": 189,
    "start_time": "2022-06-04T18:04:10.563Z"
   },
   {
    "duration": 139,
    "start_time": "2022-06-04T18:04:10.756Z"
   },
   {
    "duration": 170,
    "start_time": "2022-06-04T18:04:10.897Z"
   },
   {
    "duration": 187,
    "start_time": "2022-06-04T18:04:11.068Z"
   },
   {
    "duration": 232,
    "start_time": "2022-06-04T18:04:11.257Z"
   },
   {
    "duration": 7,
    "start_time": "2022-06-04T18:04:11.491Z"
   },
   {
    "duration": 15,
    "start_time": "2022-06-04T18:04:11.499Z"
   },
   {
    "duration": 26,
    "start_time": "2022-06-04T18:04:11.523Z"
   },
   {
    "duration": 23,
    "start_time": "2022-06-04T18:04:11.553Z"
   },
   {
    "duration": 18,
    "start_time": "2022-06-04T18:04:11.578Z"
   },
   {
    "duration": 16,
    "start_time": "2022-06-04T18:04:11.597Z"
   },
   {
    "duration": 12,
    "start_time": "2022-06-04T18:04:11.615Z"
   },
   {
    "duration": 239,
    "start_time": "2022-06-04T18:04:11.635Z"
   },
   {
    "duration": 168,
    "start_time": "2022-06-04T18:04:11.875Z"
   },
   {
    "duration": 15,
    "start_time": "2022-06-04T18:04:12.045Z"
   }
  ],
  "colab": {
   "name": "DA+. Сборный проект 1. Шаблон (1).ipynb",
   "provenance": []
  },
  "kernelspec": {
   "display_name": "Python 3 (ipykernel)",
   "language": "python",
   "name": "python3"
  },
  "language_info": {
   "codemirror_mode": {
    "name": "ipython",
    "version": 3
   },
   "file_extension": ".py",
   "mimetype": "text/x-python",
   "name": "python",
   "nbconvert_exporter": "python",
   "pygments_lexer": "ipython3",
   "version": "3.9.5"
  },
  "toc": {
   "base_numbering": 1,
   "nav_menu": {},
   "number_sections": true,
   "sideBar": true,
   "skip_h1_title": true,
   "title_cell": "Table of Contents",
   "title_sidebar": "Contents",
   "toc_cell": false,
   "toc_position": {
    "height": "calc(100% - 180px)",
    "left": "10px",
    "top": "150px",
    "width": "375.391px"
   },
   "toc_section_display": true,
   "toc_window_display": false
  }
 },
 "nbformat": 4,
 "nbformat_minor": 1
}
