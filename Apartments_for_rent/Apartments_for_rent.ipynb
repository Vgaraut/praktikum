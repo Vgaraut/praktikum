{
 "cells": [
  {
   "cell_type": "markdown",
   "metadata": {
    "toc": true
   },
   "source": [
    "<h1>Содержание<span class=\"tocSkip\"></span></h1>\n",
    "<div class=\"toc\"><ul class=\"toc-item\"><li><span><a href=\"#Изучение-данных-из-файла\" data-toc-modified-id=\"Изучение-данных-из-файла-1\"><span class=\"toc-item-num\">1&nbsp;&nbsp;</span>Изучение данных из файла</a></span><ul class=\"toc-item\"><li><span><a href=\"#Вывод\" data-toc-modified-id=\"Вывод-1.1\"><span class=\"toc-item-num\">1.1&nbsp;&nbsp;</span>Вывод</a></span></li></ul></li><li><span><a href=\"#Предобработка-данных\" data-toc-modified-id=\"Предобработка-данных-2\"><span class=\"toc-item-num\">2&nbsp;&nbsp;</span>Предобработка данных</a></span></li><li><span><a href=\"#Расчёты-и-добавление-результатов-в-таблицу\" data-toc-modified-id=\"Расчёты-и-добавление-результатов-в-таблицу-3\"><span class=\"toc-item-num\">3&nbsp;&nbsp;</span>Расчёты и добавление результатов в таблицу</a></span><ul class=\"toc-item\"><li><span><a href=\"#Шаг-3.-Посчитайте-и-добавьте-в-таблицу\" data-toc-modified-id=\"Шаг-3.-Посчитайте-и-добавьте-в-таблицу-3.1\"><span class=\"toc-item-num\">3.1&nbsp;&nbsp;</span>Шаг 3. Посчитайте и добавьте в таблицу</a></span></li></ul></li><li><span><a href=\"#Исследовательский-анализ-данных\" data-toc-modified-id=\"Исследовательский-анализ-данных-4\"><span class=\"toc-item-num\">4&nbsp;&nbsp;</span>Исследовательский анализ данных</a></span><ul class=\"toc-item\"><li><span><a href=\"#Изучите-время-продажи-квартиры.\" data-toc-modified-id=\"Изучите-время-продажи-квартиры.-4.1\"><span class=\"toc-item-num\">4.1&nbsp;&nbsp;</span>Изучите время продажи квартиры.</a></span></li><li><span><a href=\"#Уберите-редкие-и-выбивающиеся-значения.-Опишите,-какие-особенности-обнаружили.\" data-toc-modified-id=\"Уберите-редкие-и-выбивающиеся-значения.-Опишите,-какие-особенности-обнаружили.-4.2\"><span class=\"toc-item-num\">4.2&nbsp;&nbsp;</span>Уберите редкие и выбивающиеся значения. Опишите, какие особенности обнаружили.</a></span></li><li><span><a href=\"#Какие-факторы-больше-всего-влияют-на-стоимость-квартиры?-Изучите,-зависит-ли-цена-от-площади,-числа-комнат,-удалённости-от-центра.-Изучите-зависимость-цены-от-того,-на-каком-этаже-расположена-квартира:-первом,-последнем-или-другом.-Также-изучите-зависимость-от-даты-размещения:-дня-недели,-месяца-и-года.\" data-toc-modified-id=\"Какие-факторы-больше-всего-влияют-на-стоимость-квартиры?-Изучите,-зависит-ли-цена-от-площади,-числа-комнат,-удалённости-от-центра.-Изучите-зависимость-цены-от-того,-на-каком-этаже-расположена-квартира:-первом,-последнем-или-другом.-Также-изучите-зависимость-от-даты-размещения:-дня-недели,-месяца-и-года.-4.3\"><span class=\"toc-item-num\">4.3&nbsp;&nbsp;</span>Какие факторы больше всего влияют на стоимость квартиры? Изучите, зависит ли цена от площади, числа комнат, удалённости от центра. Изучите зависимость цены от того, на каком этаже расположена квартира: первом, последнем или другом. Также изучите зависимость от даты размещения: дня недели, месяца и года.</a></span></li><li><span><a href=\"#зависимость-цены-квадратного-метра-от-даты-размещения:-дня-недели,-месяца,-года\" data-toc-modified-id=\"зависимость-цены-квадратного-метра-от-даты-размещения:-дня-недели,-месяца,-года-4.4\"><span class=\"toc-item-num\">4.4&nbsp;&nbsp;</span>зависимость цены квадратного метра от даты размещения: дня недели, месяца, года</a></span></li><li><span><a href=\"#Выберите-10-населённых-пунктов-с-наибольшим-числом-объявлений.-Посчитайте-среднюю-цену-квадратного-метра-в-этих-населённых-пунктах.-Выделите-населённые-пункты-с-самой-высокой-и-низкой-стоимостью-жилья.\" data-toc-modified-id=\"Выберите-10-населённых-пунктов-с-наибольшим-числом-объявлений.-Посчитайте-среднюю-цену-квадратного-метра-в-этих-населённых-пунктах.-Выделите-населённые-пункты-с-самой-высокой-и-низкой-стоимостью-жилья.-4.5\"><span class=\"toc-item-num\">4.5&nbsp;&nbsp;</span>Выберите 10 населённых пунктов с наибольшим числом объявлений. Посчитайте среднюю цену квадратного метра в этих населённых пунктах. Выделите населённые пункты с самой высокой и низкой стоимостью жилья.</a></span></li><li><span><a href=\"#Изучите-предложения-квартир:-для-каждой-квартиры-есть-информация-о-расстоянии-до-центра.-Выделите-квартиры-в-Санкт-Петербурге-(locality_name).-Ваша-задача-—-выяснить,-какая-область-входит-в-центр.-Создайте-столбец-с-расстоянием-до-центра-в-километрах:-округлите-до-целых-значений.-После-этого-посчитайте-среднюю-цену-для-каждого-километра.-Постройте-график:-он-должен-показывать,-как-цена-зависит-от-удалённости-от-центра.-Определите-границу,-где-график-сильно-меняется,-—-это-и-будет-центральная-зона.\" data-toc-modified-id=\"Изучите-предложения-квартир:-для-каждой-квартиры-есть-информация-о-расстоянии-до-центра.-Выделите-квартиры-в-Санкт-Петербурге-(locality_name).-Ваша-задача-—-выяснить,-какая-область-входит-в-центр.-Создайте-столбец-с-расстоянием-до-центра-в-километрах:-округлите-до-целых-значений.-После-этого-посчитайте-среднюю-цену-для-каждого-километра.-Постройте-график:-он-должен-показывать,-как-цена-зависит-от-удалённости-от-центра.-Определите-границу,-где-график-сильно-меняется,-—-это-и-будет-центральная-зона.-4.6\"><span class=\"toc-item-num\">4.6&nbsp;&nbsp;</span>Изучите предложения квартир: для каждой квартиры есть информация о расстоянии до центра. Выделите квартиры в Санкт-Петербурге (locality_name). Ваша задача — выяснить, какая область входит в центр. Создайте столбец с расстоянием до центра в километрах: округлите до целых значений. После этого посчитайте среднюю цену для каждого километра. Постройте график: он должен показывать, как цена зависит от удалённости от центра. Определите границу, где график сильно меняется, — это и будет центральная зона.</a></span></li><li><span><a href=\"#Выделите-сегмент-квартир-в-центре.-Проанализируйте-эту-территорию-и-изучите-следующие-параметры:-площадь,-цена,-число-комнат,-высота-потолков.-Также-выделите-факторы,-которые-влияют-на-стоимость-квартиры-(число-комнат,-этаж,-удалённость-от-центра,-дата-размещения-объявления).-Сделайте-выводы.-Отличаются-ли-они-от-общих-выводов-по-всему-городу?\" data-toc-modified-id=\"Выделите-сегмент-квартир-в-центре.-Проанализируйте-эту-территорию-и-изучите-следующие-параметры:-площадь,-цена,-число-комнат,-высота-потолков.-Также-выделите-факторы,-которые-влияют-на-стоимость-квартиры-(число-комнат,-этаж,-удалённость-от-центра,-дата-размещения-объявления).-Сделайте-выводы.-Отличаются-ли-они-от-общих-выводов-по-всему-городу?-4.7\"><span class=\"toc-item-num\">4.7&nbsp;&nbsp;</span>Выделите сегмент квартир в центре. Проанализируйте эту территорию и изучите следующие параметры: площадь, цена, число комнат, высота потолков. Также выделите факторы, которые влияют на стоимость квартиры (число комнат, этаж, удалённость от центра, дата размещения объявления). Сделайте выводы. Отличаются ли они от общих выводов по всему городу?</a></span></li></ul></li><li><span><a href=\"#Общий-вывод\" data-toc-modified-id=\"Общий-вывод-5\"><span class=\"toc-item-num\">5&nbsp;&nbsp;</span>Общий вывод</a></span></li><li><span><a href=\"#Чек-лист-готовности-проекта\" data-toc-modified-id=\"Чек-лист-готовности-проекта-6\"><span class=\"toc-item-num\">6&nbsp;&nbsp;</span>Чек-лист готовности проекта</a></span></li></ul></div>"
   ]
  },
  {
   "cell_type": "markdown",
   "metadata": {},
   "source": [
    "# Исследование объявлений о продаже квартир\n",
    "\n",
    "В вашем распоряжении данные сервиса Яндекc Недвижимость — архив объявлений о продаже квартир в Санкт-Петербурге и соседних населённых пунктах за несколько лет. Нужно научиться определять рыночную стоимость объектов недвижимости. Ваша задача — установить параметры. Это позволит построить автоматизированную систему: она отследит аномалии и мошенническую деятельность. \n",
    "\n",
    "По каждой квартире на продажу доступны два вида данных. Первые вписаны пользователем, вторые получены автоматически на основе картографических данных. Например, расстояние до центра, аэропорта, ближайшего парка и водоёма. "
   ]
  },
  {
   "cell_type": "markdown",
   "metadata": {},
   "source": [
    "**Цель исследования: определить критерии, влияющие на стоимость недвижимости, для отслеживания аномальных и мошеннических обьявлений**"
   ]
  },
  {
   "cell_type": "markdown",
   "metadata": {},
   "source": [
    "## Изучение данных из файла"
   ]
  },
  {
   "cell_type": "code",
   "execution_count": 1,
   "metadata": {},
   "outputs": [],
   "source": [
    "import pandas as pd\n",
    "import matplotlib.pyplot as plt\n",
    "data = pd.read_csv('/datasets/real_estate_data.csv', sep = '\\t')\n",
    "pd.set_option('display.max_columns', 22)"
   ]
  },
  {
   "cell_type": "code",
   "execution_count": 2,
   "metadata": {},
   "outputs": [
    {
     "name": "stdout",
     "output_type": "stream",
     "text": [
      "<class 'pandas.core.frame.DataFrame'>\n",
      "RangeIndex: 23699 entries, 0 to 23698\n",
      "Data columns (total 22 columns):\n",
      " #   Column                Non-Null Count  Dtype  \n",
      "---  ------                --------------  -----  \n",
      " 0   total_images          23699 non-null  int64  \n",
      " 1   last_price            23699 non-null  float64\n",
      " 2   total_area            23699 non-null  float64\n",
      " 3   first_day_exposition  23699 non-null  object \n",
      " 4   rooms                 23699 non-null  int64  \n",
      " 5   ceiling_height        14504 non-null  float64\n",
      " 6   floors_total          23613 non-null  float64\n",
      " 7   living_area           21796 non-null  float64\n",
      " 8   floor                 23699 non-null  int64  \n",
      " 9   is_apartment          2775 non-null   object \n",
      " 10  studio                23699 non-null  bool   \n",
      " 11  open_plan             23699 non-null  bool   \n",
      " 12  kitchen_area          21421 non-null  float64\n",
      " 13  balcony               12180 non-null  float64\n",
      " 14  locality_name         23650 non-null  object \n",
      " 15  airports_nearest      18157 non-null  float64\n",
      " 16  cityCenters_nearest   18180 non-null  float64\n",
      " 17  parks_around3000      18181 non-null  float64\n",
      " 18  parks_nearest         8079 non-null   float64\n",
      " 19  ponds_around3000      18181 non-null  float64\n",
      " 20  ponds_nearest         9110 non-null   float64\n",
      " 21  days_exposition       20518 non-null  float64\n",
      "dtypes: bool(2), float64(14), int64(3), object(3)\n",
      "memory usage: 3.7+ MB\n"
     ]
    }
   ],
   "source": [
    "data.info()"
   ]
  },
  {
   "cell_type": "code",
   "execution_count": 3,
   "metadata": {},
   "outputs": [
    {
     "data": {
      "text/html": [
       "<div>\n",
       "<style scoped>\n",
       "    .dataframe tbody tr th:only-of-type {\n",
       "        vertical-align: middle;\n",
       "    }\n",
       "\n",
       "    .dataframe tbody tr th {\n",
       "        vertical-align: top;\n",
       "    }\n",
       "\n",
       "    .dataframe thead th {\n",
       "        text-align: right;\n",
       "    }\n",
       "</style>\n",
       "<table border=\"1\" class=\"dataframe\">\n",
       "  <thead>\n",
       "    <tr style=\"text-align: right;\">\n",
       "      <th></th>\n",
       "      <th>total_images</th>\n",
       "      <th>last_price</th>\n",
       "      <th>total_area</th>\n",
       "      <th>first_day_exposition</th>\n",
       "      <th>rooms</th>\n",
       "      <th>ceiling_height</th>\n",
       "      <th>floors_total</th>\n",
       "      <th>living_area</th>\n",
       "      <th>floor</th>\n",
       "      <th>is_apartment</th>\n",
       "      <th>studio</th>\n",
       "      <th>open_plan</th>\n",
       "      <th>kitchen_area</th>\n",
       "      <th>balcony</th>\n",
       "      <th>locality_name</th>\n",
       "      <th>airports_nearest</th>\n",
       "      <th>cityCenters_nearest</th>\n",
       "      <th>parks_around3000</th>\n",
       "      <th>parks_nearest</th>\n",
       "      <th>ponds_around3000</th>\n",
       "      <th>ponds_nearest</th>\n",
       "      <th>days_exposition</th>\n",
       "    </tr>\n",
       "  </thead>\n",
       "  <tbody>\n",
       "    <tr>\n",
       "      <th>14133</th>\n",
       "      <td>6</td>\n",
       "      <td>8750000.0</td>\n",
       "      <td>90.0</td>\n",
       "      <td>2016-04-01T00:00:00</td>\n",
       "      <td>3</td>\n",
       "      <td>2.80</td>\n",
       "      <td>5.0</td>\n",
       "      <td>61.8</td>\n",
       "      <td>4</td>\n",
       "      <td>False</td>\n",
       "      <td>False</td>\n",
       "      <td>False</td>\n",
       "      <td>9.0</td>\n",
       "      <td>0.0</td>\n",
       "      <td>Санкт-Петербург</td>\n",
       "      <td>23823.0</td>\n",
       "      <td>4391.0</td>\n",
       "      <td>1.0</td>\n",
       "      <td>385.0</td>\n",
       "      <td>0.0</td>\n",
       "      <td>NaN</td>\n",
       "      <td>290.0</td>\n",
       "    </tr>\n",
       "    <tr>\n",
       "      <th>17757</th>\n",
       "      <td>20</td>\n",
       "      <td>10300000.0</td>\n",
       "      <td>68.2</td>\n",
       "      <td>2019-02-12T00:00:00</td>\n",
       "      <td>2</td>\n",
       "      <td>2.78</td>\n",
       "      <td>24.0</td>\n",
       "      <td>36.1</td>\n",
       "      <td>24</td>\n",
       "      <td>NaN</td>\n",
       "      <td>False</td>\n",
       "      <td>False</td>\n",
       "      <td>14.0</td>\n",
       "      <td>NaN</td>\n",
       "      <td>Санкт-Петербург</td>\n",
       "      <td>NaN</td>\n",
       "      <td>NaN</td>\n",
       "      <td>NaN</td>\n",
       "      <td>NaN</td>\n",
       "      <td>NaN</td>\n",
       "      <td>NaN</td>\n",
       "      <td>NaN</td>\n",
       "    </tr>\n",
       "    <tr>\n",
       "      <th>16422</th>\n",
       "      <td>4</td>\n",
       "      <td>2500000.0</td>\n",
       "      <td>31.1</td>\n",
       "      <td>2018-02-03T00:00:00</td>\n",
       "      <td>1</td>\n",
       "      <td>NaN</td>\n",
       "      <td>3.0</td>\n",
       "      <td>17.0</td>\n",
       "      <td>3</td>\n",
       "      <td>NaN</td>\n",
       "      <td>False</td>\n",
       "      <td>False</td>\n",
       "      <td>5.3</td>\n",
       "      <td>NaN</td>\n",
       "      <td>Гатчина</td>\n",
       "      <td>NaN</td>\n",
       "      <td>NaN</td>\n",
       "      <td>NaN</td>\n",
       "      <td>NaN</td>\n",
       "      <td>NaN</td>\n",
       "      <td>NaN</td>\n",
       "      <td>88.0</td>\n",
       "    </tr>\n",
       "    <tr>\n",
       "      <th>8346</th>\n",
       "      <td>18</td>\n",
       "      <td>2200000.0</td>\n",
       "      <td>36.2</td>\n",
       "      <td>2017-01-18T00:00:00</td>\n",
       "      <td>1</td>\n",
       "      <td>NaN</td>\n",
       "      <td>5.0</td>\n",
       "      <td>17.2</td>\n",
       "      <td>1</td>\n",
       "      <td>NaN</td>\n",
       "      <td>False</td>\n",
       "      <td>False</td>\n",
       "      <td>8.5</td>\n",
       "      <td>NaN</td>\n",
       "      <td>деревня Низино</td>\n",
       "      <td>NaN</td>\n",
       "      <td>NaN</td>\n",
       "      <td>NaN</td>\n",
       "      <td>NaN</td>\n",
       "      <td>NaN</td>\n",
       "      <td>NaN</td>\n",
       "      <td>631.0</td>\n",
       "    </tr>\n",
       "    <tr>\n",
       "      <th>12594</th>\n",
       "      <td>20</td>\n",
       "      <td>7100000.0</td>\n",
       "      <td>95.6</td>\n",
       "      <td>2017-03-30T00:00:00</td>\n",
       "      <td>4</td>\n",
       "      <td>2.65</td>\n",
       "      <td>12.0</td>\n",
       "      <td>63.3</td>\n",
       "      <td>3</td>\n",
       "      <td>NaN</td>\n",
       "      <td>False</td>\n",
       "      <td>False</td>\n",
       "      <td>15.0</td>\n",
       "      <td>2.0</td>\n",
       "      <td>Санкт-Петербург</td>\n",
       "      <td>19719.0</td>\n",
       "      <td>21431.0</td>\n",
       "      <td>0.0</td>\n",
       "      <td>NaN</td>\n",
       "      <td>2.0</td>\n",
       "      <td>621.0</td>\n",
       "      <td>175.0</td>\n",
       "    </tr>\n",
       "    <tr>\n",
       "      <th>10387</th>\n",
       "      <td>0</td>\n",
       "      <td>3100000.0</td>\n",
       "      <td>53.6</td>\n",
       "      <td>2018-02-11T00:00:00</td>\n",
       "      <td>2</td>\n",
       "      <td>NaN</td>\n",
       "      <td>5.0</td>\n",
       "      <td>NaN</td>\n",
       "      <td>3</td>\n",
       "      <td>NaN</td>\n",
       "      <td>False</td>\n",
       "      <td>False</td>\n",
       "      <td>NaN</td>\n",
       "      <td>NaN</td>\n",
       "      <td>поселок городского типа Вырица</td>\n",
       "      <td>NaN</td>\n",
       "      <td>NaN</td>\n",
       "      <td>NaN</td>\n",
       "      <td>NaN</td>\n",
       "      <td>NaN</td>\n",
       "      <td>NaN</td>\n",
       "      <td>45.0</td>\n",
       "    </tr>\n",
       "    <tr>\n",
       "      <th>20056</th>\n",
       "      <td>4</td>\n",
       "      <td>1650000.0</td>\n",
       "      <td>54.0</td>\n",
       "      <td>2016-06-05T00:00:00</td>\n",
       "      <td>3</td>\n",
       "      <td>NaN</td>\n",
       "      <td>5.0</td>\n",
       "      <td>39.0</td>\n",
       "      <td>3</td>\n",
       "      <td>NaN</td>\n",
       "      <td>False</td>\n",
       "      <td>False</td>\n",
       "      <td>6.0</td>\n",
       "      <td>1.0</td>\n",
       "      <td>Кингисепп</td>\n",
       "      <td>NaN</td>\n",
       "      <td>NaN</td>\n",
       "      <td>NaN</td>\n",
       "      <td>NaN</td>\n",
       "      <td>NaN</td>\n",
       "      <td>NaN</td>\n",
       "      <td>167.0</td>\n",
       "    </tr>\n",
       "    <tr>\n",
       "      <th>22644</th>\n",
       "      <td>6</td>\n",
       "      <td>4000000.0</td>\n",
       "      <td>58.0</td>\n",
       "      <td>2017-09-28T00:00:00</td>\n",
       "      <td>2</td>\n",
       "      <td>2.60</td>\n",
       "      <td>5.0</td>\n",
       "      <td>38.0</td>\n",
       "      <td>5</td>\n",
       "      <td>NaN</td>\n",
       "      <td>False</td>\n",
       "      <td>False</td>\n",
       "      <td>15.0</td>\n",
       "      <td>1.0</td>\n",
       "      <td>Санкт-Петербург</td>\n",
       "      <td>12321.0</td>\n",
       "      <td>10791.0</td>\n",
       "      <td>0.0</td>\n",
       "      <td>NaN</td>\n",
       "      <td>0.0</td>\n",
       "      <td>NaN</td>\n",
       "      <td>51.0</td>\n",
       "    </tr>\n",
       "    <tr>\n",
       "      <th>13737</th>\n",
       "      <td>10</td>\n",
       "      <td>13150000.0</td>\n",
       "      <td>86.6</td>\n",
       "      <td>2015-08-23T00:00:00</td>\n",
       "      <td>2</td>\n",
       "      <td>NaN</td>\n",
       "      <td>8.0</td>\n",
       "      <td>45.5</td>\n",
       "      <td>2</td>\n",
       "      <td>NaN</td>\n",
       "      <td>False</td>\n",
       "      <td>False</td>\n",
       "      <td>15.0</td>\n",
       "      <td>NaN</td>\n",
       "      <td>Санкт-Петербург</td>\n",
       "      <td>39384.0</td>\n",
       "      <td>11087.0</td>\n",
       "      <td>1.0</td>\n",
       "      <td>471.0</td>\n",
       "      <td>0.0</td>\n",
       "      <td>NaN</td>\n",
       "      <td>NaN</td>\n",
       "    </tr>\n",
       "    <tr>\n",
       "      <th>14994</th>\n",
       "      <td>8</td>\n",
       "      <td>7440000.0</td>\n",
       "      <td>58.0</td>\n",
       "      <td>2015-02-17T00:00:00</td>\n",
       "      <td>1</td>\n",
       "      <td>2.70</td>\n",
       "      <td>10.0</td>\n",
       "      <td>23.0</td>\n",
       "      <td>4</td>\n",
       "      <td>NaN</td>\n",
       "      <td>False</td>\n",
       "      <td>False</td>\n",
       "      <td>17.0</td>\n",
       "      <td>0.0</td>\n",
       "      <td>Санкт-Петербург</td>\n",
       "      <td>37412.0</td>\n",
       "      <td>8370.0</td>\n",
       "      <td>1.0</td>\n",
       "      <td>392.0</td>\n",
       "      <td>2.0</td>\n",
       "      <td>359.0</td>\n",
       "      <td>1001.0</td>\n",
       "    </tr>\n",
       "  </tbody>\n",
       "</table>\n",
       "</div>"
      ],
      "text/plain": [
       "       total_images  last_price  total_area first_day_exposition  rooms  \\\n",
       "14133             6   8750000.0        90.0  2016-04-01T00:00:00      3   \n",
       "17757            20  10300000.0        68.2  2019-02-12T00:00:00      2   \n",
       "16422             4   2500000.0        31.1  2018-02-03T00:00:00      1   \n",
       "8346             18   2200000.0        36.2  2017-01-18T00:00:00      1   \n",
       "12594            20   7100000.0        95.6  2017-03-30T00:00:00      4   \n",
       "10387             0   3100000.0        53.6  2018-02-11T00:00:00      2   \n",
       "20056             4   1650000.0        54.0  2016-06-05T00:00:00      3   \n",
       "22644             6   4000000.0        58.0  2017-09-28T00:00:00      2   \n",
       "13737            10  13150000.0        86.6  2015-08-23T00:00:00      2   \n",
       "14994             8   7440000.0        58.0  2015-02-17T00:00:00      1   \n",
       "\n",
       "       ceiling_height  floors_total  living_area  floor is_apartment  studio  \\\n",
       "14133            2.80           5.0         61.8      4        False   False   \n",
       "17757            2.78          24.0         36.1     24          NaN   False   \n",
       "16422             NaN           3.0         17.0      3          NaN   False   \n",
       "8346              NaN           5.0         17.2      1          NaN   False   \n",
       "12594            2.65          12.0         63.3      3          NaN   False   \n",
       "10387             NaN           5.0          NaN      3          NaN   False   \n",
       "20056             NaN           5.0         39.0      3          NaN   False   \n",
       "22644            2.60           5.0         38.0      5          NaN   False   \n",
       "13737             NaN           8.0         45.5      2          NaN   False   \n",
       "14994            2.70          10.0         23.0      4          NaN   False   \n",
       "\n",
       "       open_plan  kitchen_area  balcony                   locality_name  \\\n",
       "14133      False           9.0      0.0                 Санкт-Петербург   \n",
       "17757      False          14.0      NaN                 Санкт-Петербург   \n",
       "16422      False           5.3      NaN                         Гатчина   \n",
       "8346       False           8.5      NaN                  деревня Низино   \n",
       "12594      False          15.0      2.0                 Санкт-Петербург   \n",
       "10387      False           NaN      NaN  поселок городского типа Вырица   \n",
       "20056      False           6.0      1.0                       Кингисепп   \n",
       "22644      False          15.0      1.0                 Санкт-Петербург   \n",
       "13737      False          15.0      NaN                 Санкт-Петербург   \n",
       "14994      False          17.0      0.0                 Санкт-Петербург   \n",
       "\n",
       "       airports_nearest  cityCenters_nearest  parks_around3000  parks_nearest  \\\n",
       "14133           23823.0               4391.0               1.0          385.0   \n",
       "17757               NaN                  NaN               NaN            NaN   \n",
       "16422               NaN                  NaN               NaN            NaN   \n",
       "8346                NaN                  NaN               NaN            NaN   \n",
       "12594           19719.0              21431.0               0.0            NaN   \n",
       "10387               NaN                  NaN               NaN            NaN   \n",
       "20056               NaN                  NaN               NaN            NaN   \n",
       "22644           12321.0              10791.0               0.0            NaN   \n",
       "13737           39384.0              11087.0               1.0          471.0   \n",
       "14994           37412.0               8370.0               1.0          392.0   \n",
       "\n",
       "       ponds_around3000  ponds_nearest  days_exposition  \n",
       "14133               0.0            NaN            290.0  \n",
       "17757               NaN            NaN              NaN  \n",
       "16422               NaN            NaN             88.0  \n",
       "8346                NaN            NaN            631.0  \n",
       "12594               2.0          621.0            175.0  \n",
       "10387               NaN            NaN             45.0  \n",
       "20056               NaN            NaN            167.0  \n",
       "22644               0.0            NaN             51.0  \n",
       "13737               0.0            NaN              NaN  \n",
       "14994               2.0          359.0           1001.0  "
      ]
     },
     "execution_count": 3,
     "metadata": {},
     "output_type": "execute_result"
    }
   ],
   "source": [
    "data.sample(10)"
   ]
  },
  {
   "cell_type": "markdown",
   "metadata": {},
   "source": [
    "### Вывод"
   ]
  },
  {
   "cell_type": "markdown",
   "metadata": {},
   "source": [
    "1. first_day_exposition - должен быть тип datetime\n",
    "2. ceiling_height - null\n",
    "3. floors_total - должен быть тип int, + null\n",
    "4. is_apartment - должен быть тип bool + + null\n",
    "5. living_area - null\n",
    "6. kitchen_area - null\n",
    "7. balcony - null\n",
    "8. locality_name - null\n",
    "9. airports_nearest - null\n",
    "10. cityCenters_nearest - null\n",
    "11. parks_around3000 - тип должен быть int + null\n",
    "12. parks_nearest - нулевые значения\n",
    "13. ponds_around3000 - тип должен быть int + null\n",
    "14. ponds_nearest - нулевые значения\n",
    "15. days_exposition - тип должен быть int + null"
   ]
  },
  {
   "cell_type": "markdown",
   "metadata": {},
   "source": [
    "## Предобработка данных"
   ]
  },
  {
   "cell_type": "markdown",
   "metadata": {},
   "source": [
    "**переведем дату публикации формат даты без времени, т.к. время публикации не указано**"
   ]
  },
  {
   "cell_type": "code",
   "execution_count": 4,
   "metadata": {},
   "outputs": [],
   "source": [
    "data.first_day_exposition = pd.to_datetime(data['first_day_exposition'], format = '%Y-%m-%d')"
   ]
  },
  {
   "cell_type": "code",
   "execution_count": 5,
   "metadata": {},
   "outputs": [],
   "source": [
    "#заменим пропуски в days_exposition и заменим тип данных\n",
    "data.days_exposition = data['days_exposition'].fillna(0).astype('int')"
   ]
  },
  {
   "cell_type": "markdown",
   "metadata": {},
   "source": [
    "**Общее количество этажей**"
   ]
  },
  {
   "cell_type": "code",
   "execution_count": 6,
   "metadata": {},
   "outputs": [
    {
     "data": {
      "text/html": [
       "<div>\n",
       "<style scoped>\n",
       "    .dataframe tbody tr th:only-of-type {\n",
       "        vertical-align: middle;\n",
       "    }\n",
       "\n",
       "    .dataframe tbody tr th {\n",
       "        vertical-align: top;\n",
       "    }\n",
       "\n",
       "    .dataframe thead th {\n",
       "        text-align: right;\n",
       "    }\n",
       "</style>\n",
       "<table border=\"1\" class=\"dataframe\">\n",
       "  <thead>\n",
       "    <tr style=\"text-align: right;\">\n",
       "      <th></th>\n",
       "      <th>total_images</th>\n",
       "      <th>last_price</th>\n",
       "      <th>total_area</th>\n",
       "      <th>first_day_exposition</th>\n",
       "      <th>rooms</th>\n",
       "      <th>ceiling_height</th>\n",
       "      <th>floors_total</th>\n",
       "      <th>living_area</th>\n",
       "      <th>floor</th>\n",
       "      <th>is_apartment</th>\n",
       "      <th>studio</th>\n",
       "      <th>open_plan</th>\n",
       "      <th>kitchen_area</th>\n",
       "      <th>balcony</th>\n",
       "      <th>locality_name</th>\n",
       "      <th>airports_nearest</th>\n",
       "      <th>cityCenters_nearest</th>\n",
       "      <th>parks_around3000</th>\n",
       "      <th>parks_nearest</th>\n",
       "      <th>ponds_around3000</th>\n",
       "      <th>ponds_nearest</th>\n",
       "      <th>days_exposition</th>\n",
       "    </tr>\n",
       "  </thead>\n",
       "  <tbody>\n",
       "    <tr>\n",
       "      <th>186</th>\n",
       "      <td>12</td>\n",
       "      <td>11640000.0</td>\n",
       "      <td>65.2</td>\n",
       "      <td>2018-10-02</td>\n",
       "      <td>2</td>\n",
       "      <td>NaN</td>\n",
       "      <td>NaN</td>\n",
       "      <td>30.80</td>\n",
       "      <td>4</td>\n",
       "      <td>NaN</td>\n",
       "      <td>False</td>\n",
       "      <td>False</td>\n",
       "      <td>12.00</td>\n",
       "      <td>NaN</td>\n",
       "      <td>Санкт-Петербург</td>\n",
       "      <td>39197.0</td>\n",
       "      <td>12373.0</td>\n",
       "      <td>1.0</td>\n",
       "      <td>123.0</td>\n",
       "      <td>0.0</td>\n",
       "      <td>NaN</td>\n",
       "      <td>49</td>\n",
       "    </tr>\n",
       "    <tr>\n",
       "      <th>237</th>\n",
       "      <td>4</td>\n",
       "      <td>2438033.0</td>\n",
       "      <td>28.1</td>\n",
       "      <td>2016-11-23</td>\n",
       "      <td>1</td>\n",
       "      <td>NaN</td>\n",
       "      <td>NaN</td>\n",
       "      <td>20.75</td>\n",
       "      <td>1</td>\n",
       "      <td>NaN</td>\n",
       "      <td>False</td>\n",
       "      <td>False</td>\n",
       "      <td>NaN</td>\n",
       "      <td>0.0</td>\n",
       "      <td>Санкт-Петербург</td>\n",
       "      <td>22041.0</td>\n",
       "      <td>17369.0</td>\n",
       "      <td>0.0</td>\n",
       "      <td>NaN</td>\n",
       "      <td>1.0</td>\n",
       "      <td>374.0</td>\n",
       "      <td>251</td>\n",
       "    </tr>\n",
       "    <tr>\n",
       "      <th>457</th>\n",
       "      <td>4</td>\n",
       "      <td>9788348.0</td>\n",
       "      <td>70.8</td>\n",
       "      <td>2015-08-01</td>\n",
       "      <td>2</td>\n",
       "      <td>NaN</td>\n",
       "      <td>NaN</td>\n",
       "      <td>38.40</td>\n",
       "      <td>12</td>\n",
       "      <td>NaN</td>\n",
       "      <td>False</td>\n",
       "      <td>False</td>\n",
       "      <td>10.63</td>\n",
       "      <td>0.0</td>\n",
       "      <td>Санкт-Петербург</td>\n",
       "      <td>37364.0</td>\n",
       "      <td>8322.0</td>\n",
       "      <td>2.0</td>\n",
       "      <td>309.0</td>\n",
       "      <td>2.0</td>\n",
       "      <td>706.0</td>\n",
       "      <td>727</td>\n",
       "    </tr>\n",
       "    <tr>\n",
       "      <th>671</th>\n",
       "      <td>4</td>\n",
       "      <td>6051191.0</td>\n",
       "      <td>93.6</td>\n",
       "      <td>2017-04-06</td>\n",
       "      <td>3</td>\n",
       "      <td>NaN</td>\n",
       "      <td>NaN</td>\n",
       "      <td>47.10</td>\n",
       "      <td>8</td>\n",
       "      <td>NaN</td>\n",
       "      <td>False</td>\n",
       "      <td>False</td>\n",
       "      <td>16.80</td>\n",
       "      <td>0.0</td>\n",
       "      <td>Санкт-Петербург</td>\n",
       "      <td>22041.0</td>\n",
       "      <td>17369.0</td>\n",
       "      <td>0.0</td>\n",
       "      <td>NaN</td>\n",
       "      <td>1.0</td>\n",
       "      <td>374.0</td>\n",
       "      <td>123</td>\n",
       "    </tr>\n",
       "    <tr>\n",
       "      <th>1757</th>\n",
       "      <td>5</td>\n",
       "      <td>3600000.0</td>\n",
       "      <td>39.0</td>\n",
       "      <td>2017-04-22</td>\n",
       "      <td>1</td>\n",
       "      <td>NaN</td>\n",
       "      <td>NaN</td>\n",
       "      <td>NaN</td>\n",
       "      <td>9</td>\n",
       "      <td>NaN</td>\n",
       "      <td>False</td>\n",
       "      <td>False</td>\n",
       "      <td>NaN</td>\n",
       "      <td>0.0</td>\n",
       "      <td>Санкт-Петербург</td>\n",
       "      <td>22735.0</td>\n",
       "      <td>11618.0</td>\n",
       "      <td>1.0</td>\n",
       "      <td>835.0</td>\n",
       "      <td>1.0</td>\n",
       "      <td>652.0</td>\n",
       "      <td>77</td>\n",
       "    </tr>\n",
       "    <tr>\n",
       "      <th>...</th>\n",
       "      <td>...</td>\n",
       "      <td>...</td>\n",
       "      <td>...</td>\n",
       "      <td>...</td>\n",
       "      <td>...</td>\n",
       "      <td>...</td>\n",
       "      <td>...</td>\n",
       "      <td>...</td>\n",
       "      <td>...</td>\n",
       "      <td>...</td>\n",
       "      <td>...</td>\n",
       "      <td>...</td>\n",
       "      <td>...</td>\n",
       "      <td>...</td>\n",
       "      <td>...</td>\n",
       "      <td>...</td>\n",
       "      <td>...</td>\n",
       "      <td>...</td>\n",
       "      <td>...</td>\n",
       "      <td>...</td>\n",
       "      <td>...</td>\n",
       "      <td>...</td>\n",
       "    </tr>\n",
       "    <tr>\n",
       "      <th>22542</th>\n",
       "      <td>5</td>\n",
       "      <td>8500000.0</td>\n",
       "      <td>63.5</td>\n",
       "      <td>2017-05-24</td>\n",
       "      <td>2</td>\n",
       "      <td>2.8</td>\n",
       "      <td>NaN</td>\n",
       "      <td>NaN</td>\n",
       "      <td>3</td>\n",
       "      <td>NaN</td>\n",
       "      <td>False</td>\n",
       "      <td>False</td>\n",
       "      <td>NaN</td>\n",
       "      <td>NaN</td>\n",
       "      <td>Санкт-Петербург</td>\n",
       "      <td>51340.0</td>\n",
       "      <td>15363.0</td>\n",
       "      <td>0.0</td>\n",
       "      <td>NaN</td>\n",
       "      <td>1.0</td>\n",
       "      <td>853.0</td>\n",
       "      <td>512</td>\n",
       "    </tr>\n",
       "    <tr>\n",
       "      <th>22656</th>\n",
       "      <td>4</td>\n",
       "      <td>4574160.0</td>\n",
       "      <td>64.5</td>\n",
       "      <td>2017-04-02</td>\n",
       "      <td>2</td>\n",
       "      <td>NaN</td>\n",
       "      <td>NaN</td>\n",
       "      <td>31.70</td>\n",
       "      <td>20</td>\n",
       "      <td>NaN</td>\n",
       "      <td>False</td>\n",
       "      <td>False</td>\n",
       "      <td>14.40</td>\n",
       "      <td>0.0</td>\n",
       "      <td>Санкт-Петербург</td>\n",
       "      <td>22041.0</td>\n",
       "      <td>17369.0</td>\n",
       "      <td>0.0</td>\n",
       "      <td>NaN</td>\n",
       "      <td>1.0</td>\n",
       "      <td>374.0</td>\n",
       "      <td>127</td>\n",
       "    </tr>\n",
       "    <tr>\n",
       "      <th>22808</th>\n",
       "      <td>0</td>\n",
       "      <td>14569263.0</td>\n",
       "      <td>110.4</td>\n",
       "      <td>2016-11-20</td>\n",
       "      <td>3</td>\n",
       "      <td>NaN</td>\n",
       "      <td>NaN</td>\n",
       "      <td>45.38</td>\n",
       "      <td>6</td>\n",
       "      <td>NaN</td>\n",
       "      <td>False</td>\n",
       "      <td>False</td>\n",
       "      <td>23.42</td>\n",
       "      <td>0.0</td>\n",
       "      <td>Санкт-Петербург</td>\n",
       "      <td>19095.0</td>\n",
       "      <td>4529.0</td>\n",
       "      <td>0.0</td>\n",
       "      <td>NaN</td>\n",
       "      <td>0.0</td>\n",
       "      <td>NaN</td>\n",
       "      <td>260</td>\n",
       "    </tr>\n",
       "    <tr>\n",
       "      <th>23590</th>\n",
       "      <td>0</td>\n",
       "      <td>21187872.0</td>\n",
       "      <td>123.3</td>\n",
       "      <td>2017-04-25</td>\n",
       "      <td>3</td>\n",
       "      <td>NaN</td>\n",
       "      <td>NaN</td>\n",
       "      <td>50.40</td>\n",
       "      <td>18</td>\n",
       "      <td>NaN</td>\n",
       "      <td>False</td>\n",
       "      <td>False</td>\n",
       "      <td>23.60</td>\n",
       "      <td>0.0</td>\n",
       "      <td>Санкт-Петербург</td>\n",
       "      <td>19095.0</td>\n",
       "      <td>4529.0</td>\n",
       "      <td>0.0</td>\n",
       "      <td>NaN</td>\n",
       "      <td>0.0</td>\n",
       "      <td>NaN</td>\n",
       "      <td>104</td>\n",
       "    </tr>\n",
       "    <tr>\n",
       "      <th>23658</th>\n",
       "      <td>6</td>\n",
       "      <td>3063600.0</td>\n",
       "      <td>43.8</td>\n",
       "      <td>2016-11-28</td>\n",
       "      <td>1</td>\n",
       "      <td>2.7</td>\n",
       "      <td>NaN</td>\n",
       "      <td>14.00</td>\n",
       "      <td>8</td>\n",
       "      <td>NaN</td>\n",
       "      <td>False</td>\n",
       "      <td>False</td>\n",
       "      <td>15.50</td>\n",
       "      <td>2.0</td>\n",
       "      <td>Санкт-Петербург</td>\n",
       "      <td>8426.0</td>\n",
       "      <td>12082.0</td>\n",
       "      <td>2.0</td>\n",
       "      <td>24.0</td>\n",
       "      <td>1.0</td>\n",
       "      <td>271.0</td>\n",
       "      <td>246</td>\n",
       "    </tr>\n",
       "  </tbody>\n",
       "</table>\n",
       "<p>86 rows × 22 columns</p>\n",
       "</div>"
      ],
      "text/plain": [
       "       total_images  last_price  total_area first_day_exposition  rooms  \\\n",
       "186              12  11640000.0        65.2           2018-10-02      2   \n",
       "237               4   2438033.0        28.1           2016-11-23      1   \n",
       "457               4   9788348.0        70.8           2015-08-01      2   \n",
       "671               4   6051191.0        93.6           2017-04-06      3   \n",
       "1757              5   3600000.0        39.0           2017-04-22      1   \n",
       "...             ...         ...         ...                  ...    ...   \n",
       "22542             5   8500000.0        63.5           2017-05-24      2   \n",
       "22656             4   4574160.0        64.5           2017-04-02      2   \n",
       "22808             0  14569263.0       110.4           2016-11-20      3   \n",
       "23590             0  21187872.0       123.3           2017-04-25      3   \n",
       "23658             6   3063600.0        43.8           2016-11-28      1   \n",
       "\n",
       "       ceiling_height  floors_total  living_area  floor is_apartment  studio  \\\n",
       "186               NaN           NaN        30.80      4          NaN   False   \n",
       "237               NaN           NaN        20.75      1          NaN   False   \n",
       "457               NaN           NaN        38.40     12          NaN   False   \n",
       "671               NaN           NaN        47.10      8          NaN   False   \n",
       "1757              NaN           NaN          NaN      9          NaN   False   \n",
       "...               ...           ...          ...    ...          ...     ...   \n",
       "22542             2.8           NaN          NaN      3          NaN   False   \n",
       "22656             NaN           NaN        31.70     20          NaN   False   \n",
       "22808             NaN           NaN        45.38      6          NaN   False   \n",
       "23590             NaN           NaN        50.40     18          NaN   False   \n",
       "23658             2.7           NaN        14.00      8          NaN   False   \n",
       "\n",
       "       open_plan  kitchen_area  balcony    locality_name  airports_nearest  \\\n",
       "186        False         12.00      NaN  Санкт-Петербург           39197.0   \n",
       "237        False           NaN      0.0  Санкт-Петербург           22041.0   \n",
       "457        False         10.63      0.0  Санкт-Петербург           37364.0   \n",
       "671        False         16.80      0.0  Санкт-Петербург           22041.0   \n",
       "1757       False           NaN      0.0  Санкт-Петербург           22735.0   \n",
       "...          ...           ...      ...              ...               ...   \n",
       "22542      False           NaN      NaN  Санкт-Петербург           51340.0   \n",
       "22656      False         14.40      0.0  Санкт-Петербург           22041.0   \n",
       "22808      False         23.42      0.0  Санкт-Петербург           19095.0   \n",
       "23590      False         23.60      0.0  Санкт-Петербург           19095.0   \n",
       "23658      False         15.50      2.0  Санкт-Петербург            8426.0   \n",
       "\n",
       "       cityCenters_nearest  parks_around3000  parks_nearest  ponds_around3000  \\\n",
       "186                12373.0               1.0          123.0               0.0   \n",
       "237                17369.0               0.0            NaN               1.0   \n",
       "457                 8322.0               2.0          309.0               2.0   \n",
       "671                17369.0               0.0            NaN               1.0   \n",
       "1757               11618.0               1.0          835.0               1.0   \n",
       "...                    ...               ...            ...               ...   \n",
       "22542              15363.0               0.0            NaN               1.0   \n",
       "22656              17369.0               0.0            NaN               1.0   \n",
       "22808               4529.0               0.0            NaN               0.0   \n",
       "23590               4529.0               0.0            NaN               0.0   \n",
       "23658              12082.0               2.0           24.0               1.0   \n",
       "\n",
       "       ponds_nearest  days_exposition  \n",
       "186              NaN               49  \n",
       "237            374.0              251  \n",
       "457            706.0              727  \n",
       "671            374.0              123  \n",
       "1757           652.0               77  \n",
       "...              ...              ...  \n",
       "22542          853.0              512  \n",
       "22656          374.0              127  \n",
       "22808            NaN              260  \n",
       "23590            NaN              104  \n",
       "23658          271.0              246  \n",
       "\n",
       "[86 rows x 22 columns]"
      ]
     },
     "execution_count": 6,
     "metadata": {},
     "output_type": "execute_result"
    }
   ],
   "source": [
    "data[data['floors_total'].isna()]"
   ]
  },
  {
   "cell_type": "markdown",
   "metadata": {},
   "source": [
    "**количество пропусков составляет 86**\n",
    "\n",
    "Данный признак используется в исследовании. Количество пропусков составляет 0.36%, \n",
    "мы не можем с какой либо достоверностью заполнить данные,\n",
    "поэтому строки с пропусками предлагаю удалить\n",
    "\n"
   ]
  },
  {
   "cell_type": "code",
   "execution_count": 7,
   "metadata": {},
   "outputs": [],
   "source": [
    "data.dropna(subset=['floors_total'], inplace=True)"
   ]
  },
  {
   "cell_type": "markdown",
   "metadata": {},
   "source": [
    "**Балконы**\n",
    "\n",
    "предполагаю, что пропущенные значения как и 0 говорят об отсутствии балкона, поэтому заменяем Null на 0 и тип данных на int"
   ]
  },
  {
   "cell_type": "code",
   "execution_count": 8,
   "metadata": {},
   "outputs": [],
   "source": [
    "#заменим пропуски в balcony на 0 и изменим тип данных на int\n",
    "data.balcony = data['balcony'].fillna(0)\n",
    "data.balcony = data['balcony'].astype('int')"
   ]
  },
  {
   "cell_type": "code",
   "execution_count": 9,
   "metadata": {},
   "outputs": [
    {
     "data": {
      "text/plain": [
       "0    15193\n",
       "1     4195\n",
       "2     3657\n",
       "5      304\n",
       "4      183\n",
       "3       81\n",
       "Name: balcony, dtype: int64"
      ]
     },
     "execution_count": 9,
     "metadata": {},
     "output_type": "execute_result"
    }
   ],
   "source": [
    "data.balcony.value_counts()"
   ]
  },
  {
   "cell_type": "markdown",
   "metadata": {},
   "source": [
    "**Посмотрим на стобец с высотой потолков**"
   ]
  },
  {
   "cell_type": "code",
   "execution_count": 10,
   "metadata": {},
   "outputs": [
    {
     "data": {
      "text/plain": [
       "count    14495.000000\n",
       "mean         2.771495\n",
       "std          1.261445\n",
       "min          1.000000\n",
       "25%          2.520000\n",
       "50%          2.650000\n",
       "75%          2.800000\n",
       "max        100.000000\n",
       "Name: ceiling_height, dtype: float64"
      ]
     },
     "execution_count": 10,
     "metadata": {},
     "output_type": "execute_result"
    }
   ],
   "source": [
    "data.ceiling_height.describe()"
   ]
  },
  {
   "cell_type": "code",
   "execution_count": 11,
   "metadata": {},
   "outputs": [
    {
     "data": {
      "text/plain": [
       "<AxesSubplot:ylabel='Frequency'>"
      ]
     },
     "execution_count": 11,
     "metadata": {},
     "output_type": "execute_result"
    },
    {
     "data": {
      "image/png": "[encoded data removed]",
      "text/plain": [
       "<Figure size 432x288 with 1 Axes>"
      ]
     },
     "metadata": {
      "needs_background": "light"
     },
     "output_type": "display_data"
    }
   ],
   "source": [
    "data['ceiling_height'].sort_values().plot(y = 'ceiling_height', kind = 'hist', bins = 30, range=(2,5))"
   ]
  },
  {
   "cell_type": "code",
   "execution_count": 12,
   "metadata": {},
   "outputs": [
    {
     "data": {
      "text/plain": [
       "36"
      ]
     },
     "execution_count": 12,
     "metadata": {},
     "output_type": "execute_result"
    }
   ],
   "source": [
    "(data['ceiling_height'] > 5).sum()"
   ]
  },
  {
   "cell_type": "markdown",
   "metadata": {},
   "source": [
    "**Основные значения сосредоточены между 2,5 и 3,5, есть выбросы но их количество минимально**\n",
    "\n",
    " Количество значений > 5 составляет 36 и больше похоже на некорректное заполнение. Мы можем заполнить пропуски медианным значением по выборке, но в целом это может быть не очень корректно, если бы мы оценивали стоимость в зависимости от данного параметра, так как высота потолка сильно зависит от типа дома, (хрущевки, старый жилой фонд в центра города и т д) к примеру питерские коммуналки имеют высоту потолков 4,3."
   ]
  },
  {
   "cell_type": "markdown",
   "metadata": {},
   "source": [
    "\n"
   ]
  },
  {
   "cell_type": "markdown",
   "metadata": {},
   "source": [
    "**Данные о parks ponds cityCenters_nearest и airports_nearest пропущены для одного и того же сегмента**\n",
    "\n",
    "кажется, что это небольшие поселения и города ленобласти (Гатчина, Гыборг, Сертолово, Мурино, Тосно), максимум 100к человек населения, центр города там определить сложно, а данные об аэропортах парках и прудах отсутствовали на тот момент в геосервисах."
   ]
  },
  {
   "cell_type": "code",
   "execution_count": 70,
   "metadata": {},
   "outputs": [
    {
     "data": {
      "text/html": [
       "<div>\n",
       "<style scoped>\n",
       "    .dataframe tbody tr th:only-of-type {\n",
       "        vertical-align: middle;\n",
       "    }\n",
       "\n",
       "    .dataframe tbody tr th {\n",
       "        vertical-align: top;\n",
       "    }\n",
       "\n",
       "    .dataframe thead th {\n",
       "        text-align: right;\n",
       "    }\n",
       "</style>\n",
       "<table border=\"1\" class=\"dataframe\">\n",
       "  <thead>\n",
       "    <tr style=\"text-align: right;\">\n",
       "      <th></th>\n",
       "      <th>total_images</th>\n",
       "      <th>last_price</th>\n",
       "      <th>total_area</th>\n",
       "      <th>first_day_exposition</th>\n",
       "      <th>rooms</th>\n",
       "      <th>ceiling_height</th>\n",
       "      <th>floors_total</th>\n",
       "      <th>living_area</th>\n",
       "      <th>floor</th>\n",
       "      <th>is_apartment</th>\n",
       "      <th>studio</th>\n",
       "      <th>...</th>\n",
       "      <th>ponds_around3000</th>\n",
       "      <th>ponds_nearest</th>\n",
       "      <th>days_exposition</th>\n",
       "      <th>price_per_square_meter</th>\n",
       "      <th>weekday_exposition</th>\n",
       "      <th>month_exposition</th>\n",
       "      <th>year_exposition</th>\n",
       "      <th>floor_category</th>\n",
       "      <th>useful_area_ratio</th>\n",
       "      <th>kitchen_area_ratio</th>\n",
       "      <th>cityCenters_nearest_km</th>\n",
       "    </tr>\n",
       "  </thead>\n",
       "  <tbody>\n",
       "    <tr>\n",
       "      <th>5</th>\n",
       "      <td>10</td>\n",
       "      <td>2890000.0</td>\n",
       "      <td>30.40</td>\n",
       "      <td>2018-09-10</td>\n",
       "      <td>1</td>\n",
       "      <td>NaN</td>\n",
       "      <td>12.0</td>\n",
       "      <td>14.400000</td>\n",
       "      <td>5</td>\n",
       "      <td>False</td>\n",
       "      <td>False</td>\n",
       "      <td>...</td>\n",
       "      <td>NaN</td>\n",
       "      <td>NaN</td>\n",
       "      <td>55</td>\n",
       "      <td>95065</td>\n",
       "      <td>0</td>\n",
       "      <td>9</td>\n",
       "      <td>2018</td>\n",
       "      <td>другой</td>\n",
       "      <td>0.473684</td>\n",
       "      <td>0.299342</td>\n",
       "      <td>65</td>\n",
       "    </tr>\n",
       "    <tr>\n",
       "      <th>8</th>\n",
       "      <td>20</td>\n",
       "      <td>2900000.0</td>\n",
       "      <td>33.16</td>\n",
       "      <td>2018-05-23</td>\n",
       "      <td>1</td>\n",
       "      <td>NaN</td>\n",
       "      <td>27.0</td>\n",
       "      <td>15.430000</td>\n",
       "      <td>26</td>\n",
       "      <td>False</td>\n",
       "      <td>False</td>\n",
       "      <td>...</td>\n",
       "      <td>NaN</td>\n",
       "      <td>NaN</td>\n",
       "      <td>189</td>\n",
       "      <td>87454</td>\n",
       "      <td>2</td>\n",
       "      <td>5</td>\n",
       "      <td>2018</td>\n",
       "      <td>другой</td>\n",
       "      <td>0.465320</td>\n",
       "      <td>0.265682</td>\n",
       "      <td>65</td>\n",
       "    </tr>\n",
       "    <tr>\n",
       "      <th>12</th>\n",
       "      <td>10</td>\n",
       "      <td>3890000.0</td>\n",
       "      <td>54.00</td>\n",
       "      <td>2016-06-30</td>\n",
       "      <td>2</td>\n",
       "      <td>NaN</td>\n",
       "      <td>5.0</td>\n",
       "      <td>30.000000</td>\n",
       "      <td>5</td>\n",
       "      <td>False</td>\n",
       "      <td>False</td>\n",
       "      <td>...</td>\n",
       "      <td>NaN</td>\n",
       "      <td>NaN</td>\n",
       "      <td>90</td>\n",
       "      <td>72037</td>\n",
       "      <td>3</td>\n",
       "      <td>6</td>\n",
       "      <td>2016</td>\n",
       "      <td>последний</td>\n",
       "      <td>0.555556</td>\n",
       "      <td>0.166667</td>\n",
       "      <td>65</td>\n",
       "    </tr>\n",
       "    <tr>\n",
       "      <th>22</th>\n",
       "      <td>20</td>\n",
       "      <td>5000000.0</td>\n",
       "      <td>58.00</td>\n",
       "      <td>2017-04-24</td>\n",
       "      <td>2</td>\n",
       "      <td>2.75</td>\n",
       "      <td>25.0</td>\n",
       "      <td>30.000000</td>\n",
       "      <td>15</td>\n",
       "      <td>False</td>\n",
       "      <td>False</td>\n",
       "      <td>...</td>\n",
       "      <td>NaN</td>\n",
       "      <td>NaN</td>\n",
       "      <td>60</td>\n",
       "      <td>86206</td>\n",
       "      <td>0</td>\n",
       "      <td>4</td>\n",
       "      <td>2017</td>\n",
       "      <td>другой</td>\n",
       "      <td>0.517241</td>\n",
       "      <td>0.189655</td>\n",
       "      <td>65</td>\n",
       "    </tr>\n",
       "    <tr>\n",
       "      <th>30</th>\n",
       "      <td>12</td>\n",
       "      <td>2200000.0</td>\n",
       "      <td>32.80</td>\n",
       "      <td>2018-02-19</td>\n",
       "      <td>1</td>\n",
       "      <td>NaN</td>\n",
       "      <td>9.0</td>\n",
       "      <td>0.568182</td>\n",
       "      <td>2</td>\n",
       "      <td>False</td>\n",
       "      <td>False</td>\n",
       "      <td>...</td>\n",
       "      <td>NaN</td>\n",
       "      <td>NaN</td>\n",
       "      <td>63</td>\n",
       "      <td>67073</td>\n",
       "      <td>0</td>\n",
       "      <td>2</td>\n",
       "      <td>2018</td>\n",
       "      <td>другой</td>\n",
       "      <td>0.017323</td>\n",
       "      <td>NaN</td>\n",
       "      <td>65</td>\n",
       "    </tr>\n",
       "    <tr>\n",
       "      <th>...</th>\n",
       "      <td>...</td>\n",
       "      <td>...</td>\n",
       "      <td>...</td>\n",
       "      <td>...</td>\n",
       "      <td>...</td>\n",
       "      <td>...</td>\n",
       "      <td>...</td>\n",
       "      <td>...</td>\n",
       "      <td>...</td>\n",
       "      <td>...</td>\n",
       "      <td>...</td>\n",
       "      <td>...</td>\n",
       "      <td>...</td>\n",
       "      <td>...</td>\n",
       "      <td>...</td>\n",
       "      <td>...</td>\n",
       "      <td>...</td>\n",
       "      <td>...</td>\n",
       "      <td>...</td>\n",
       "      <td>...</td>\n",
       "      <td>...</td>\n",
       "      <td>...</td>\n",
       "      <td>...</td>\n",
       "    </tr>\n",
       "    <tr>\n",
       "      <th>23683</th>\n",
       "      <td>16</td>\n",
       "      <td>2100000.0</td>\n",
       "      <td>62.80</td>\n",
       "      <td>2018-09-18</td>\n",
       "      <td>4</td>\n",
       "      <td>2.50</td>\n",
       "      <td>5.0</td>\n",
       "      <td>45.500000</td>\n",
       "      <td>3</td>\n",
       "      <td>False</td>\n",
       "      <td>False</td>\n",
       "      <td>...</td>\n",
       "      <td>NaN</td>\n",
       "      <td>NaN</td>\n",
       "      <td>0</td>\n",
       "      <td>33439</td>\n",
       "      <td>1</td>\n",
       "      <td>9</td>\n",
       "      <td>2018</td>\n",
       "      <td>другой</td>\n",
       "      <td>0.724522</td>\n",
       "      <td>0.087580</td>\n",
       "      <td>65</td>\n",
       "    </tr>\n",
       "    <tr>\n",
       "      <th>23692</th>\n",
       "      <td>2</td>\n",
       "      <td>1350000.0</td>\n",
       "      <td>30.00</td>\n",
       "      <td>2017-07-07</td>\n",
       "      <td>1</td>\n",
       "      <td>NaN</td>\n",
       "      <td>5.0</td>\n",
       "      <td>17.500000</td>\n",
       "      <td>4</td>\n",
       "      <td>False</td>\n",
       "      <td>False</td>\n",
       "      <td>...</td>\n",
       "      <td>NaN</td>\n",
       "      <td>NaN</td>\n",
       "      <td>413</td>\n",
       "      <td>45000</td>\n",
       "      <td>4</td>\n",
       "      <td>7</td>\n",
       "      <td>2017</td>\n",
       "      <td>другой</td>\n",
       "      <td>0.583333</td>\n",
       "      <td>0.200000</td>\n",
       "      <td>65</td>\n",
       "    </tr>\n",
       "    <tr>\n",
       "      <th>23695</th>\n",
       "      <td>14</td>\n",
       "      <td>3100000.0</td>\n",
       "      <td>59.00</td>\n",
       "      <td>2018-01-15</td>\n",
       "      <td>3</td>\n",
       "      <td>NaN</td>\n",
       "      <td>5.0</td>\n",
       "      <td>38.000000</td>\n",
       "      <td>4</td>\n",
       "      <td>False</td>\n",
       "      <td>False</td>\n",
       "      <td>...</td>\n",
       "      <td>NaN</td>\n",
       "      <td>NaN</td>\n",
       "      <td>45</td>\n",
       "      <td>52542</td>\n",
       "      <td>0</td>\n",
       "      <td>1</td>\n",
       "      <td>2018</td>\n",
       "      <td>другой</td>\n",
       "      <td>0.644068</td>\n",
       "      <td>0.144068</td>\n",
       "      <td>65</td>\n",
       "    </tr>\n",
       "    <tr>\n",
       "      <th>23696</th>\n",
       "      <td>18</td>\n",
       "      <td>2500000.0</td>\n",
       "      <td>56.70</td>\n",
       "      <td>2018-02-11</td>\n",
       "      <td>2</td>\n",
       "      <td>NaN</td>\n",
       "      <td>3.0</td>\n",
       "      <td>29.700000</td>\n",
       "      <td>1</td>\n",
       "      <td>False</td>\n",
       "      <td>False</td>\n",
       "      <td>...</td>\n",
       "      <td>NaN</td>\n",
       "      <td>NaN</td>\n",
       "      <td>0</td>\n",
       "      <td>44091</td>\n",
       "      <td>6</td>\n",
       "      <td>2</td>\n",
       "      <td>2018</td>\n",
       "      <td>первый</td>\n",
       "      <td>0.523810</td>\n",
       "      <td>NaN</td>\n",
       "      <td>65</td>\n",
       "    </tr>\n",
       "    <tr>\n",
       "      <th>23698</th>\n",
       "      <td>4</td>\n",
       "      <td>1350000.0</td>\n",
       "      <td>32.30</td>\n",
       "      <td>2017-07-21</td>\n",
       "      <td>1</td>\n",
       "      <td>2.50</td>\n",
       "      <td>5.0</td>\n",
       "      <td>12.300000</td>\n",
       "      <td>1</td>\n",
       "      <td>False</td>\n",
       "      <td>False</td>\n",
       "      <td>...</td>\n",
       "      <td>NaN</td>\n",
       "      <td>NaN</td>\n",
       "      <td>0</td>\n",
       "      <td>41795</td>\n",
       "      <td>4</td>\n",
       "      <td>7</td>\n",
       "      <td>2017</td>\n",
       "      <td>первый</td>\n",
       "      <td>0.380805</td>\n",
       "      <td>0.278638</td>\n",
       "      <td>65</td>\n",
       "    </tr>\n",
       "  </tbody>\n",
       "</table>\n",
       "<p>5508 rows × 30 columns</p>\n",
       "</div>"
      ],
      "text/plain": [
       "       total_images  last_price  total_area first_day_exposition  rooms  \\\n",
       "5                10   2890000.0       30.40           2018-09-10      1   \n",
       "8                20   2900000.0       33.16           2018-05-23      1   \n",
       "12               10   3890000.0       54.00           2016-06-30      2   \n",
       "22               20   5000000.0       58.00           2017-04-24      2   \n",
       "30               12   2200000.0       32.80           2018-02-19      1   \n",
       "...             ...         ...         ...                  ...    ...   \n",
       "23683            16   2100000.0       62.80           2018-09-18      4   \n",
       "23692             2   1350000.0       30.00           2017-07-07      1   \n",
       "23695            14   3100000.0       59.00           2018-01-15      3   \n",
       "23696            18   2500000.0       56.70           2018-02-11      2   \n",
       "23698             4   1350000.0       32.30           2017-07-21      1   \n",
       "\n",
       "       ceiling_height  floors_total  living_area  floor  is_apartment  studio  \\\n",
       "5                 NaN          12.0    14.400000      5         False   False   \n",
       "8                 NaN          27.0    15.430000     26         False   False   \n",
       "12                NaN           5.0    30.000000      5         False   False   \n",
       "22               2.75          25.0    30.000000     15         False   False   \n",
       "30                NaN           9.0     0.568182      2         False   False   \n",
       "...               ...           ...          ...    ...           ...     ...   \n",
       "23683            2.50           5.0    45.500000      3         False   False   \n",
       "23692             NaN           5.0    17.500000      4         False   False   \n",
       "23695             NaN           5.0    38.000000      4         False   False   \n",
       "23696             NaN           3.0    29.700000      1         False   False   \n",
       "23698            2.50           5.0    12.300000      1         False   False   \n",
       "\n",
       "       ...  ponds_around3000  ponds_nearest  days_exposition  \\\n",
       "5      ...               NaN            NaN               55   \n",
       "8      ...               NaN            NaN              189   \n",
       "12     ...               NaN            NaN               90   \n",
       "22     ...               NaN            NaN               60   \n",
       "30     ...               NaN            NaN               63   \n",
       "...    ...               ...            ...              ...   \n",
       "23683  ...               NaN            NaN                0   \n",
       "23692  ...               NaN            NaN              413   \n",
       "23695  ...               NaN            NaN               45   \n",
       "23696  ...               NaN            NaN                0   \n",
       "23698  ...               NaN            NaN                0   \n",
       "\n",
       "      price_per_square_meter  weekday_exposition  month_exposition  \\\n",
       "5                      95065                   0                 9   \n",
       "8                      87454                   2                 5   \n",
       "12                     72037                   3                 6   \n",
       "22                     86206                   0                 4   \n",
       "30                     67073                   0                 2   \n",
       "...                      ...                 ...               ...   \n",
       "23683                  33439                   1                 9   \n",
       "23692                  45000                   4                 7   \n",
       "23695                  52542                   0                 1   \n",
       "23696                  44091                   6                 2   \n",
       "23698                  41795                   4                 7   \n",
       "\n",
       "       year_exposition  floor_category  useful_area_ratio  kitchen_area_ratio  \\\n",
       "5                 2018          другой           0.473684            0.299342   \n",
       "8                 2018          другой           0.465320            0.265682   \n",
       "12                2016       последний           0.555556            0.166667   \n",
       "22                2017          другой           0.517241            0.189655   \n",
       "30                2018          другой           0.017323                 NaN   \n",
       "...                ...             ...                ...                 ...   \n",
       "23683             2018          другой           0.724522            0.087580   \n",
       "23692             2017          другой           0.583333            0.200000   \n",
       "23695             2018          другой           0.644068            0.144068   \n",
       "23696             2018          первый           0.523810                 NaN   \n",
       "23698             2017          первый           0.380805            0.278638   \n",
       "\n",
       "       cityCenters_nearest_km  \n",
       "5                          65  \n",
       "8                          65  \n",
       "12                         65  \n",
       "22                         65  \n",
       "30                         65  \n",
       "...                       ...  \n",
       "23683                      65  \n",
       "23692                      65  \n",
       "23695                      65  \n",
       "23696                      65  \n",
       "23698                      65  \n",
       "\n",
       "[5508 rows x 30 columns]"
      ]
     },
     "execution_count": 70,
     "metadata": {},
     "output_type": "execute_result"
    }
   ],
   "source": [
    "data.loc[data['parks_around3000'].isna() & data['ponds_around3000'].isna() & data['airports_nearest'].isna()]"
   ]
  },
  {
   "cell_type": "markdown",
   "metadata": {},
   "source": [
    "Данные об апартаментах пропущены практически везде, непонятно с чем это связано(апарты лет 5 минимум строят и продают в том числе в СпБ). Заполним данные False"
   ]
  },
  {
   "cell_type": "code",
   "execution_count": 14,
   "metadata": {},
   "outputs": [],
   "source": [
    "data['is_apartment'] = data['is_apartment'].fillna(False)"
   ]
  },
  {
   "cell_type": "markdown",
   "metadata": {},
   "source": [
    "**Данные о площади кухни**"
   ]
  },
  {
   "cell_type": "code",
   "execution_count": 15,
   "metadata": {},
   "outputs": [
    {
     "data": {
      "text/html": [
       "<div>\n",
       "<style scoped>\n",
       "    .dataframe tbody tr th:only-of-type {\n",
       "        vertical-align: middle;\n",
       "    }\n",
       "\n",
       "    .dataframe tbody tr th {\n",
       "        vertical-align: top;\n",
       "    }\n",
       "\n",
       "    .dataframe thead th {\n",
       "        text-align: right;\n",
       "    }\n",
       "</style>\n",
       "<table border=\"1\" class=\"dataframe\">\n",
       "  <thead>\n",
       "    <tr style=\"text-align: right;\">\n",
       "      <th></th>\n",
       "      <th>total_images</th>\n",
       "      <th>last_price</th>\n",
       "      <th>total_area</th>\n",
       "      <th>first_day_exposition</th>\n",
       "      <th>rooms</th>\n",
       "      <th>ceiling_height</th>\n",
       "      <th>floors_total</th>\n",
       "      <th>living_area</th>\n",
       "      <th>floor</th>\n",
       "      <th>is_apartment</th>\n",
       "      <th>studio</th>\n",
       "      <th>open_plan</th>\n",
       "      <th>kitchen_area</th>\n",
       "      <th>balcony</th>\n",
       "      <th>locality_name</th>\n",
       "      <th>airports_nearest</th>\n",
       "      <th>cityCenters_nearest</th>\n",
       "      <th>parks_around3000</th>\n",
       "      <th>parks_nearest</th>\n",
       "      <th>ponds_around3000</th>\n",
       "      <th>ponds_nearest</th>\n",
       "      <th>days_exposition</th>\n",
       "    </tr>\n",
       "  </thead>\n",
       "  <tbody>\n",
       "    <tr>\n",
       "      <th>3</th>\n",
       "      <td>0</td>\n",
       "      <td>64900000.0</td>\n",
       "      <td>159.0</td>\n",
       "      <td>2015-07-24</td>\n",
       "      <td>3</td>\n",
       "      <td>NaN</td>\n",
       "      <td>14.0</td>\n",
       "      <td>NaN</td>\n",
       "      <td>9</td>\n",
       "      <td>False</td>\n",
       "      <td>False</td>\n",
       "      <td>False</td>\n",
       "      <td>NaN</td>\n",
       "      <td>0</td>\n",
       "      <td>Санкт-Петербург</td>\n",
       "      <td>28098.0</td>\n",
       "      <td>6800.0</td>\n",
       "      <td>2.0</td>\n",
       "      <td>84.0</td>\n",
       "      <td>3.0</td>\n",
       "      <td>234.0</td>\n",
       "      <td>424</td>\n",
       "    </tr>\n",
       "    <tr>\n",
       "      <th>30</th>\n",
       "      <td>12</td>\n",
       "      <td>2200000.0</td>\n",
       "      <td>32.8</td>\n",
       "      <td>2018-02-19</td>\n",
       "      <td>1</td>\n",
       "      <td>NaN</td>\n",
       "      <td>9.0</td>\n",
       "      <td>NaN</td>\n",
       "      <td>2</td>\n",
       "      <td>False</td>\n",
       "      <td>False</td>\n",
       "      <td>False</td>\n",
       "      <td>NaN</td>\n",
       "      <td>0</td>\n",
       "      <td>Коммунар</td>\n",
       "      <td>NaN</td>\n",
       "      <td>NaN</td>\n",
       "      <td>NaN</td>\n",
       "      <td>NaN</td>\n",
       "      <td>NaN</td>\n",
       "      <td>NaN</td>\n",
       "      <td>63</td>\n",
       "    </tr>\n",
       "    <tr>\n",
       "      <th>37</th>\n",
       "      <td>10</td>\n",
       "      <td>1990000.0</td>\n",
       "      <td>45.8</td>\n",
       "      <td>2017-10-28</td>\n",
       "      <td>2</td>\n",
       "      <td>2.50</td>\n",
       "      <td>5.0</td>\n",
       "      <td>NaN</td>\n",
       "      <td>1</td>\n",
       "      <td>False</td>\n",
       "      <td>False</td>\n",
       "      <td>False</td>\n",
       "      <td>NaN</td>\n",
       "      <td>0</td>\n",
       "      <td>поселок городского типа Красный Бор</td>\n",
       "      <td>NaN</td>\n",
       "      <td>NaN</td>\n",
       "      <td>NaN</td>\n",
       "      <td>NaN</td>\n",
       "      <td>NaN</td>\n",
       "      <td>NaN</td>\n",
       "      <td>196</td>\n",
       "    </tr>\n",
       "    <tr>\n",
       "      <th>44</th>\n",
       "      <td>13</td>\n",
       "      <td>5350000.0</td>\n",
       "      <td>40.0</td>\n",
       "      <td>2018-11-18</td>\n",
       "      <td>1</td>\n",
       "      <td>NaN</td>\n",
       "      <td>22.0</td>\n",
       "      <td>NaN</td>\n",
       "      <td>3</td>\n",
       "      <td>False</td>\n",
       "      <td>False</td>\n",
       "      <td>False</td>\n",
       "      <td>NaN</td>\n",
       "      <td>1</td>\n",
       "      <td>Санкт-Петербург</td>\n",
       "      <td>30471.0</td>\n",
       "      <td>11603.0</td>\n",
       "      <td>1.0</td>\n",
       "      <td>620.0</td>\n",
       "      <td>1.0</td>\n",
       "      <td>1152.0</td>\n",
       "      <td>0</td>\n",
       "    </tr>\n",
       "    <tr>\n",
       "      <th>59</th>\n",
       "      <td>15</td>\n",
       "      <td>6300000.0</td>\n",
       "      <td>46.5</td>\n",
       "      <td>2017-03-06</td>\n",
       "      <td>1</td>\n",
       "      <td>NaN</td>\n",
       "      <td>13.0</td>\n",
       "      <td>NaN</td>\n",
       "      <td>13</td>\n",
       "      <td>False</td>\n",
       "      <td>False</td>\n",
       "      <td>False</td>\n",
       "      <td>NaN</td>\n",
       "      <td>0</td>\n",
       "      <td>Санкт-Петербург</td>\n",
       "      <td>11125.0</td>\n",
       "      <td>14501.0</td>\n",
       "      <td>0.0</td>\n",
       "      <td>NaN</td>\n",
       "      <td>0.0</td>\n",
       "      <td>NaN</td>\n",
       "      <td>336</td>\n",
       "    </tr>\n",
       "    <tr>\n",
       "      <th>...</th>\n",
       "      <td>...</td>\n",
       "      <td>...</td>\n",
       "      <td>...</td>\n",
       "      <td>...</td>\n",
       "      <td>...</td>\n",
       "      <td>...</td>\n",
       "      <td>...</td>\n",
       "      <td>...</td>\n",
       "      <td>...</td>\n",
       "      <td>...</td>\n",
       "      <td>...</td>\n",
       "      <td>...</td>\n",
       "      <td>...</td>\n",
       "      <td>...</td>\n",
       "      <td>...</td>\n",
       "      <td>...</td>\n",
       "      <td>...</td>\n",
       "      <td>...</td>\n",
       "      <td>...</td>\n",
       "      <td>...</td>\n",
       "      <td>...</td>\n",
       "      <td>...</td>\n",
       "    </tr>\n",
       "    <tr>\n",
       "      <th>23655</th>\n",
       "      <td>1</td>\n",
       "      <td>2414306.0</td>\n",
       "      <td>40.5</td>\n",
       "      <td>2016-09-08</td>\n",
       "      <td>1</td>\n",
       "      <td>2.56</td>\n",
       "      <td>18.0</td>\n",
       "      <td>19.6</td>\n",
       "      <td>10</td>\n",
       "      <td>False</td>\n",
       "      <td>False</td>\n",
       "      <td>False</td>\n",
       "      <td>NaN</td>\n",
       "      <td>0</td>\n",
       "      <td>Никольское</td>\n",
       "      <td>NaN</td>\n",
       "      <td>NaN</td>\n",
       "      <td>NaN</td>\n",
       "      <td>NaN</td>\n",
       "      <td>NaN</td>\n",
       "      <td>NaN</td>\n",
       "      <td>627</td>\n",
       "    </tr>\n",
       "    <tr>\n",
       "      <th>23663</th>\n",
       "      <td>12</td>\n",
       "      <td>6400000.0</td>\n",
       "      <td>88.0</td>\n",
       "      <td>2018-01-12</td>\n",
       "      <td>4</td>\n",
       "      <td>2.55</td>\n",
       "      <td>10.0</td>\n",
       "      <td>NaN</td>\n",
       "      <td>1</td>\n",
       "      <td>False</td>\n",
       "      <td>False</td>\n",
       "      <td>False</td>\n",
       "      <td>NaN</td>\n",
       "      <td>0</td>\n",
       "      <td>Санкт-Петербург</td>\n",
       "      <td>33642.0</td>\n",
       "      <td>13943.0</td>\n",
       "      <td>0.0</td>\n",
       "      <td>NaN</td>\n",
       "      <td>2.0</td>\n",
       "      <td>844.0</td>\n",
       "      <td>59</td>\n",
       "    </tr>\n",
       "    <tr>\n",
       "      <th>23670</th>\n",
       "      <td>9</td>\n",
       "      <td>2450000.0</td>\n",
       "      <td>45.6</td>\n",
       "      <td>2018-02-08</td>\n",
       "      <td>1</td>\n",
       "      <td>2.80</td>\n",
       "      <td>9.0</td>\n",
       "      <td>NaN</td>\n",
       "      <td>2</td>\n",
       "      <td>False</td>\n",
       "      <td>False</td>\n",
       "      <td>False</td>\n",
       "      <td>NaN</td>\n",
       "      <td>0</td>\n",
       "      <td>поселок городского типа Синявино</td>\n",
       "      <td>NaN</td>\n",
       "      <td>NaN</td>\n",
       "      <td>NaN</td>\n",
       "      <td>NaN</td>\n",
       "      <td>NaN</td>\n",
       "      <td>NaN</td>\n",
       "      <td>45</td>\n",
       "    </tr>\n",
       "    <tr>\n",
       "      <th>23679</th>\n",
       "      <td>0</td>\n",
       "      <td>2500000.0</td>\n",
       "      <td>35.0</td>\n",
       "      <td>2017-12-08</td>\n",
       "      <td>1</td>\n",
       "      <td>NaN</td>\n",
       "      <td>9.0</td>\n",
       "      <td>NaN</td>\n",
       "      <td>4</td>\n",
       "      <td>False</td>\n",
       "      <td>False</td>\n",
       "      <td>False</td>\n",
       "      <td>NaN</td>\n",
       "      <td>0</td>\n",
       "      <td>Сосновый Бор</td>\n",
       "      <td>NaN</td>\n",
       "      <td>NaN</td>\n",
       "      <td>NaN</td>\n",
       "      <td>NaN</td>\n",
       "      <td>NaN</td>\n",
       "      <td>NaN</td>\n",
       "      <td>45</td>\n",
       "    </tr>\n",
       "    <tr>\n",
       "      <th>23696</th>\n",
       "      <td>18</td>\n",
       "      <td>2500000.0</td>\n",
       "      <td>56.7</td>\n",
       "      <td>2018-02-11</td>\n",
       "      <td>2</td>\n",
       "      <td>NaN</td>\n",
       "      <td>3.0</td>\n",
       "      <td>29.7</td>\n",
       "      <td>1</td>\n",
       "      <td>False</td>\n",
       "      <td>False</td>\n",
       "      <td>False</td>\n",
       "      <td>NaN</td>\n",
       "      <td>0</td>\n",
       "      <td>село Рождествено</td>\n",
       "      <td>NaN</td>\n",
       "      <td>NaN</td>\n",
       "      <td>NaN</td>\n",
       "      <td>NaN</td>\n",
       "      <td>NaN</td>\n",
       "      <td>NaN</td>\n",
       "      <td>0</td>\n",
       "    </tr>\n",
       "  </tbody>\n",
       "</table>\n",
       "<p>2231 rows × 22 columns</p>\n",
       "</div>"
      ],
      "text/plain": [
       "       total_images  last_price  total_area first_day_exposition  rooms  \\\n",
       "3                 0  64900000.0       159.0           2015-07-24      3   \n",
       "30               12   2200000.0        32.8           2018-02-19      1   \n",
       "37               10   1990000.0        45.8           2017-10-28      2   \n",
       "44               13   5350000.0        40.0           2018-11-18      1   \n",
       "59               15   6300000.0        46.5           2017-03-06      1   \n",
       "...             ...         ...         ...                  ...    ...   \n",
       "23655             1   2414306.0        40.5           2016-09-08      1   \n",
       "23663            12   6400000.0        88.0           2018-01-12      4   \n",
       "23670             9   2450000.0        45.6           2018-02-08      1   \n",
       "23679             0   2500000.0        35.0           2017-12-08      1   \n",
       "23696            18   2500000.0        56.7           2018-02-11      2   \n",
       "\n",
       "       ceiling_height  floors_total  living_area  floor  is_apartment  studio  \\\n",
       "3                 NaN          14.0          NaN      9         False   False   \n",
       "30                NaN           9.0          NaN      2         False   False   \n",
       "37               2.50           5.0          NaN      1         False   False   \n",
       "44                NaN          22.0          NaN      3         False   False   \n",
       "59                NaN          13.0          NaN     13         False   False   \n",
       "...               ...           ...          ...    ...           ...     ...   \n",
       "23655            2.56          18.0         19.6     10         False   False   \n",
       "23663            2.55          10.0          NaN      1         False   False   \n",
       "23670            2.80           9.0          NaN      2         False   False   \n",
       "23679             NaN           9.0          NaN      4         False   False   \n",
       "23696             NaN           3.0         29.7      1         False   False   \n",
       "\n",
       "       open_plan  kitchen_area  balcony                        locality_name  \\\n",
       "3          False           NaN        0                      Санкт-Петербург   \n",
       "30         False           NaN        0                             Коммунар   \n",
       "37         False           NaN        0  поселок городского типа Красный Бор   \n",
       "44         False           NaN        1                      Санкт-Петербург   \n",
       "59         False           NaN        0                      Санкт-Петербург   \n",
       "...          ...           ...      ...                                  ...   \n",
       "23655      False           NaN        0                           Никольское   \n",
       "23663      False           NaN        0                      Санкт-Петербург   \n",
       "23670      False           NaN        0     поселок городского типа Синявино   \n",
       "23679      False           NaN        0                         Сосновый Бор   \n",
       "23696      False           NaN        0                     село Рождествено   \n",
       "\n",
       "       airports_nearest  cityCenters_nearest  parks_around3000  parks_nearest  \\\n",
       "3               28098.0               6800.0               2.0           84.0   \n",
       "30                  NaN                  NaN               NaN            NaN   \n",
       "37                  NaN                  NaN               NaN            NaN   \n",
       "44              30471.0              11603.0               1.0          620.0   \n",
       "59              11125.0              14501.0               0.0            NaN   \n",
       "...                 ...                  ...               ...            ...   \n",
       "23655               NaN                  NaN               NaN            NaN   \n",
       "23663           33642.0              13943.0               0.0            NaN   \n",
       "23670               NaN                  NaN               NaN            NaN   \n",
       "23679               NaN                  NaN               NaN            NaN   \n",
       "23696               NaN                  NaN               NaN            NaN   \n",
       "\n",
       "       ponds_around3000  ponds_nearest  days_exposition  \n",
       "3                   3.0          234.0              424  \n",
       "30                  NaN            NaN               63  \n",
       "37                  NaN            NaN              196  \n",
       "44                  1.0         1152.0                0  \n",
       "59                  0.0            NaN              336  \n",
       "...                 ...            ...              ...  \n",
       "23655               NaN            NaN              627  \n",
       "23663               2.0          844.0               59  \n",
       "23670               NaN            NaN               45  \n",
       "23679               NaN            NaN               45  \n",
       "23696               NaN            NaN                0  \n",
       "\n",
       "[2231 rows x 22 columns]"
      ]
     },
     "execution_count": 15,
     "metadata": {},
     "output_type": "execute_result"
    }
   ],
   "source": [
    "data[data['kitchen_area'].isna()]"
   ]
  },
  {
   "cell_type": "markdown",
   "metadata": {},
   "source": [
    "связи между значениями как таковой нет, можем удалить данные строки, но там есть адреса в Санкт Петербурге, которые могут участвовать в исследовании. Оставим как есть"
   ]
  },
  {
   "cell_type": "markdown",
   "metadata": {},
   "source": [
    "**Данные о living_area**"
   ]
  },
  {
   "cell_type": "code",
   "execution_count": 16,
   "metadata": {},
   "outputs": [
    {
     "data": {
      "text/html": [
       "<div>\n",
       "<style scoped>\n",
       "    .dataframe tbody tr th:only-of-type {\n",
       "        vertical-align: middle;\n",
       "    }\n",
       "\n",
       "    .dataframe tbody tr th {\n",
       "        vertical-align: top;\n",
       "    }\n",
       "\n",
       "    .dataframe thead th {\n",
       "        text-align: right;\n",
       "    }\n",
       "</style>\n",
       "<table border=\"1\" class=\"dataframe\">\n",
       "  <thead>\n",
       "    <tr style=\"text-align: right;\">\n",
       "      <th></th>\n",
       "      <th>total_images</th>\n",
       "      <th>last_price</th>\n",
       "      <th>total_area</th>\n",
       "      <th>first_day_exposition</th>\n",
       "      <th>rooms</th>\n",
       "      <th>ceiling_height</th>\n",
       "      <th>floors_total</th>\n",
       "      <th>living_area</th>\n",
       "      <th>floor</th>\n",
       "      <th>is_apartment</th>\n",
       "      <th>studio</th>\n",
       "      <th>open_plan</th>\n",
       "      <th>kitchen_area</th>\n",
       "      <th>balcony</th>\n",
       "      <th>locality_name</th>\n",
       "      <th>airports_nearest</th>\n",
       "      <th>cityCenters_nearest</th>\n",
       "      <th>parks_around3000</th>\n",
       "      <th>parks_nearest</th>\n",
       "      <th>ponds_around3000</th>\n",
       "      <th>ponds_nearest</th>\n",
       "      <th>days_exposition</th>\n",
       "    </tr>\n",
       "  </thead>\n",
       "  <tbody>\n",
       "    <tr>\n",
       "      <th>3</th>\n",
       "      <td>0</td>\n",
       "      <td>64900000.0</td>\n",
       "      <td>159.00</td>\n",
       "      <td>2015-07-24</td>\n",
       "      <td>3</td>\n",
       "      <td>NaN</td>\n",
       "      <td>14.0</td>\n",
       "      <td>NaN</td>\n",
       "      <td>9</td>\n",
       "      <td>False</td>\n",
       "      <td>False</td>\n",
       "      <td>False</td>\n",
       "      <td>NaN</td>\n",
       "      <td>0</td>\n",
       "      <td>Санкт-Петербург</td>\n",
       "      <td>28098.0</td>\n",
       "      <td>6800.0</td>\n",
       "      <td>2.0</td>\n",
       "      <td>84.0</td>\n",
       "      <td>3.0</td>\n",
       "      <td>234.0</td>\n",
       "      <td>424</td>\n",
       "    </tr>\n",
       "    <tr>\n",
       "      <th>7</th>\n",
       "      <td>5</td>\n",
       "      <td>7915000.0</td>\n",
       "      <td>71.60</td>\n",
       "      <td>2019-04-18</td>\n",
       "      <td>2</td>\n",
       "      <td>NaN</td>\n",
       "      <td>24.0</td>\n",
       "      <td>NaN</td>\n",
       "      <td>22</td>\n",
       "      <td>False</td>\n",
       "      <td>False</td>\n",
       "      <td>False</td>\n",
       "      <td>18.9</td>\n",
       "      <td>2</td>\n",
       "      <td>Санкт-Петербург</td>\n",
       "      <td>23982.0</td>\n",
       "      <td>11634.0</td>\n",
       "      <td>0.0</td>\n",
       "      <td>NaN</td>\n",
       "      <td>0.0</td>\n",
       "      <td>NaN</td>\n",
       "      <td>0</td>\n",
       "    </tr>\n",
       "    <tr>\n",
       "      <th>30</th>\n",
       "      <td>12</td>\n",
       "      <td>2200000.0</td>\n",
       "      <td>32.80</td>\n",
       "      <td>2018-02-19</td>\n",
       "      <td>1</td>\n",
       "      <td>NaN</td>\n",
       "      <td>9.0</td>\n",
       "      <td>NaN</td>\n",
       "      <td>2</td>\n",
       "      <td>False</td>\n",
       "      <td>False</td>\n",
       "      <td>False</td>\n",
       "      <td>NaN</td>\n",
       "      <td>0</td>\n",
       "      <td>Коммунар</td>\n",
       "      <td>NaN</td>\n",
       "      <td>NaN</td>\n",
       "      <td>NaN</td>\n",
       "      <td>NaN</td>\n",
       "      <td>NaN</td>\n",
       "      <td>NaN</td>\n",
       "      <td>63</td>\n",
       "    </tr>\n",
       "    <tr>\n",
       "      <th>37</th>\n",
       "      <td>10</td>\n",
       "      <td>1990000.0</td>\n",
       "      <td>45.80</td>\n",
       "      <td>2017-10-28</td>\n",
       "      <td>2</td>\n",
       "      <td>2.50</td>\n",
       "      <td>5.0</td>\n",
       "      <td>NaN</td>\n",
       "      <td>1</td>\n",
       "      <td>False</td>\n",
       "      <td>False</td>\n",
       "      <td>False</td>\n",
       "      <td>NaN</td>\n",
       "      <td>0</td>\n",
       "      <td>поселок городского типа Красный Бор</td>\n",
       "      <td>NaN</td>\n",
       "      <td>NaN</td>\n",
       "      <td>NaN</td>\n",
       "      <td>NaN</td>\n",
       "      <td>NaN</td>\n",
       "      <td>NaN</td>\n",
       "      <td>196</td>\n",
       "    </tr>\n",
       "    <tr>\n",
       "      <th>44</th>\n",
       "      <td>13</td>\n",
       "      <td>5350000.0</td>\n",
       "      <td>40.00</td>\n",
       "      <td>2018-11-18</td>\n",
       "      <td>1</td>\n",
       "      <td>NaN</td>\n",
       "      <td>22.0</td>\n",
       "      <td>NaN</td>\n",
       "      <td>3</td>\n",
       "      <td>False</td>\n",
       "      <td>False</td>\n",
       "      <td>False</td>\n",
       "      <td>NaN</td>\n",
       "      <td>1</td>\n",
       "      <td>Санкт-Петербург</td>\n",
       "      <td>30471.0</td>\n",
       "      <td>11603.0</td>\n",
       "      <td>1.0</td>\n",
       "      <td>620.0</td>\n",
       "      <td>1.0</td>\n",
       "      <td>1152.0</td>\n",
       "      <td>0</td>\n",
       "    </tr>\n",
       "    <tr>\n",
       "      <th>...</th>\n",
       "      <td>...</td>\n",
       "      <td>...</td>\n",
       "      <td>...</td>\n",
       "      <td>...</td>\n",
       "      <td>...</td>\n",
       "      <td>...</td>\n",
       "      <td>...</td>\n",
       "      <td>...</td>\n",
       "      <td>...</td>\n",
       "      <td>...</td>\n",
       "      <td>...</td>\n",
       "      <td>...</td>\n",
       "      <td>...</td>\n",
       "      <td>...</td>\n",
       "      <td>...</td>\n",
       "      <td>...</td>\n",
       "      <td>...</td>\n",
       "      <td>...</td>\n",
       "      <td>...</td>\n",
       "      <td>...</td>\n",
       "      <td>...</td>\n",
       "      <td>...</td>\n",
       "    </tr>\n",
       "    <tr>\n",
       "      <th>23642</th>\n",
       "      <td>14</td>\n",
       "      <td>5950000.0</td>\n",
       "      <td>80.30</td>\n",
       "      <td>2018-07-03</td>\n",
       "      <td>3</td>\n",
       "      <td>2.70</td>\n",
       "      <td>12.0</td>\n",
       "      <td>NaN</td>\n",
       "      <td>5</td>\n",
       "      <td>False</td>\n",
       "      <td>False</td>\n",
       "      <td>False</td>\n",
       "      <td>NaN</td>\n",
       "      <td>0</td>\n",
       "      <td>Колпино</td>\n",
       "      <td>27933.0</td>\n",
       "      <td>33719.0</td>\n",
       "      <td>0.0</td>\n",
       "      <td>NaN</td>\n",
       "      <td>2.0</td>\n",
       "      <td>562.0</td>\n",
       "      <td>60</td>\n",
       "    </tr>\n",
       "    <tr>\n",
       "      <th>23663</th>\n",
       "      <td>12</td>\n",
       "      <td>6400000.0</td>\n",
       "      <td>88.00</td>\n",
       "      <td>2018-01-12</td>\n",
       "      <td>4</td>\n",
       "      <td>2.55</td>\n",
       "      <td>10.0</td>\n",
       "      <td>NaN</td>\n",
       "      <td>1</td>\n",
       "      <td>False</td>\n",
       "      <td>False</td>\n",
       "      <td>False</td>\n",
       "      <td>NaN</td>\n",
       "      <td>0</td>\n",
       "      <td>Санкт-Петербург</td>\n",
       "      <td>33642.0</td>\n",
       "      <td>13943.0</td>\n",
       "      <td>0.0</td>\n",
       "      <td>NaN</td>\n",
       "      <td>2.0</td>\n",
       "      <td>844.0</td>\n",
       "      <td>59</td>\n",
       "    </tr>\n",
       "    <tr>\n",
       "      <th>23670</th>\n",
       "      <td>9</td>\n",
       "      <td>2450000.0</td>\n",
       "      <td>45.60</td>\n",
       "      <td>2018-02-08</td>\n",
       "      <td>1</td>\n",
       "      <td>2.80</td>\n",
       "      <td>9.0</td>\n",
       "      <td>NaN</td>\n",
       "      <td>2</td>\n",
       "      <td>False</td>\n",
       "      <td>False</td>\n",
       "      <td>False</td>\n",
       "      <td>NaN</td>\n",
       "      <td>0</td>\n",
       "      <td>поселок городского типа Синявино</td>\n",
       "      <td>NaN</td>\n",
       "      <td>NaN</td>\n",
       "      <td>NaN</td>\n",
       "      <td>NaN</td>\n",
       "      <td>NaN</td>\n",
       "      <td>NaN</td>\n",
       "      <td>45</td>\n",
       "    </tr>\n",
       "    <tr>\n",
       "      <th>23679</th>\n",
       "      <td>0</td>\n",
       "      <td>2500000.0</td>\n",
       "      <td>35.00</td>\n",
       "      <td>2017-12-08</td>\n",
       "      <td>1</td>\n",
       "      <td>NaN</td>\n",
       "      <td>9.0</td>\n",
       "      <td>NaN</td>\n",
       "      <td>4</td>\n",
       "      <td>False</td>\n",
       "      <td>False</td>\n",
       "      <td>False</td>\n",
       "      <td>NaN</td>\n",
       "      <td>0</td>\n",
       "      <td>Сосновый Бор</td>\n",
       "      <td>NaN</td>\n",
       "      <td>NaN</td>\n",
       "      <td>NaN</td>\n",
       "      <td>NaN</td>\n",
       "      <td>NaN</td>\n",
       "      <td>NaN</td>\n",
       "      <td>45</td>\n",
       "    </tr>\n",
       "    <tr>\n",
       "      <th>23697</th>\n",
       "      <td>13</td>\n",
       "      <td>11475000.0</td>\n",
       "      <td>76.75</td>\n",
       "      <td>2017-03-28</td>\n",
       "      <td>2</td>\n",
       "      <td>3.00</td>\n",
       "      <td>17.0</td>\n",
       "      <td>NaN</td>\n",
       "      <td>12</td>\n",
       "      <td>False</td>\n",
       "      <td>False</td>\n",
       "      <td>False</td>\n",
       "      <td>23.3</td>\n",
       "      <td>2</td>\n",
       "      <td>Санкт-Петербург</td>\n",
       "      <td>39140.0</td>\n",
       "      <td>10364.0</td>\n",
       "      <td>2.0</td>\n",
       "      <td>173.0</td>\n",
       "      <td>3.0</td>\n",
       "      <td>196.0</td>\n",
       "      <td>602</td>\n",
       "    </tr>\n",
       "  </tbody>\n",
       "</table>\n",
       "<p>1870 rows × 22 columns</p>\n",
       "</div>"
      ],
      "text/plain": [
       "       total_images  last_price  total_area first_day_exposition  rooms  \\\n",
       "3                 0  64900000.0      159.00           2015-07-24      3   \n",
       "7                 5   7915000.0       71.60           2019-04-18      2   \n",
       "30               12   2200000.0       32.80           2018-02-19      1   \n",
       "37               10   1990000.0       45.80           2017-10-28      2   \n",
       "44               13   5350000.0       40.00           2018-11-18      1   \n",
       "...             ...         ...         ...                  ...    ...   \n",
       "23642            14   5950000.0       80.30           2018-07-03      3   \n",
       "23663            12   6400000.0       88.00           2018-01-12      4   \n",
       "23670             9   2450000.0       45.60           2018-02-08      1   \n",
       "23679             0   2500000.0       35.00           2017-12-08      1   \n",
       "23697            13  11475000.0       76.75           2017-03-28      2   \n",
       "\n",
       "       ceiling_height  floors_total  living_area  floor  is_apartment  studio  \\\n",
       "3                 NaN          14.0          NaN      9         False   False   \n",
       "7                 NaN          24.0          NaN     22         False   False   \n",
       "30                NaN           9.0          NaN      2         False   False   \n",
       "37               2.50           5.0          NaN      1         False   False   \n",
       "44                NaN          22.0          NaN      3         False   False   \n",
       "...               ...           ...          ...    ...           ...     ...   \n",
       "23642            2.70          12.0          NaN      5         False   False   \n",
       "23663            2.55          10.0          NaN      1         False   False   \n",
       "23670            2.80           9.0          NaN      2         False   False   \n",
       "23679             NaN           9.0          NaN      4         False   False   \n",
       "23697            3.00          17.0          NaN     12         False   False   \n",
       "\n",
       "       open_plan  kitchen_area  balcony                        locality_name  \\\n",
       "3          False           NaN        0                      Санкт-Петербург   \n",
       "7          False          18.9        2                      Санкт-Петербург   \n",
       "30         False           NaN        0                             Коммунар   \n",
       "37         False           NaN        0  поселок городского типа Красный Бор   \n",
       "44         False           NaN        1                      Санкт-Петербург   \n",
       "...          ...           ...      ...                                  ...   \n",
       "23642      False           NaN        0                              Колпино   \n",
       "23663      False           NaN        0                      Санкт-Петербург   \n",
       "23670      False           NaN        0     поселок городского типа Синявино   \n",
       "23679      False           NaN        0                         Сосновый Бор   \n",
       "23697      False          23.3        2                      Санкт-Петербург   \n",
       "\n",
       "       airports_nearest  cityCenters_nearest  parks_around3000  parks_nearest  \\\n",
       "3               28098.0               6800.0               2.0           84.0   \n",
       "7               23982.0              11634.0               0.0            NaN   \n",
       "30                  NaN                  NaN               NaN            NaN   \n",
       "37                  NaN                  NaN               NaN            NaN   \n",
       "44              30471.0              11603.0               1.0          620.0   \n",
       "...                 ...                  ...               ...            ...   \n",
       "23642           27933.0              33719.0               0.0            NaN   \n",
       "23663           33642.0              13943.0               0.0            NaN   \n",
       "23670               NaN                  NaN               NaN            NaN   \n",
       "23679               NaN                  NaN               NaN            NaN   \n",
       "23697           39140.0              10364.0               2.0          173.0   \n",
       "\n",
       "       ponds_around3000  ponds_nearest  days_exposition  \n",
       "3                   3.0          234.0              424  \n",
       "7                   0.0            NaN                0  \n",
       "30                  NaN            NaN               63  \n",
       "37                  NaN            NaN              196  \n",
       "44                  1.0         1152.0                0  \n",
       "...                 ...            ...              ...  \n",
       "23642               2.0          562.0               60  \n",
       "23663               2.0          844.0               59  \n",
       "23670               NaN            NaN               45  \n",
       "23679               NaN            NaN               45  \n",
       "23697               3.0          196.0              602  \n",
       "\n",
       "[1870 rows x 22 columns]"
      ]
     },
     "execution_count": 16,
     "metadata": {},
     "output_type": "execute_result"
    }
   ],
   "source": [
    "data[data['living_area'].isna()]"
   ]
  },
  {
   "cell_type": "code",
   "execution_count": 17,
   "metadata": {},
   "outputs": [
    {
     "data": {
      "text/plain": [
       "count    21743.000000\n",
       "mean         0.564948\n",
       "std          0.105294\n",
       "min          0.021583\n",
       "25%          0.495546\n",
       "50%          0.568182\n",
       "75%          0.637956\n",
       "max          1.000000\n",
       "dtype: float64"
      ]
     },
     "execution_count": 17,
     "metadata": {},
     "output_type": "execute_result"
    }
   ],
   "source": [
    "ratio = data['living_area'] / data['total_area']\n",
    "ratio.describe()"
   ]
  },
  {
   "cell_type": "code",
   "execution_count": 18,
   "metadata": {},
   "outputs": [],
   "source": [
    "data.living_area = data.living_area.fillna(ratio.median())"
   ]
  },
  {
   "cell_type": "markdown",
   "metadata": {},
   "source": [
    "**Приближенность к центру города.**"
   ]
  },
  {
   "cell_type": "code",
   "execution_count": 19,
   "metadata": {},
   "outputs": [],
   "source": [
    "data['cityCenters_nearest'] = data['cityCenters_nearest'].fillna(data['cityCenters_nearest'].max())"
   ]
  },
  {
   "cell_type": "markdown",
   "metadata": {},
   "source": [
    "    поскольку у нас нет параметров, позволяющих нам зацепиться за какие либо координаты, заполним максимальным значением"
   ]
  },
  {
   "cell_type": "markdown",
   "metadata": {},
   "source": [
    "**Итог:**\n",
    "мы оценили данные в исследовании, заполнили пропуски в days_exposition, поменяли тип данных в дате публикации обьявления\n",
    "Определили потенциальные причины пропусков по группе условий в ponds parks и airports_nearest.\n",
    "Заполнили пропуски в studio.\n"
   ]
  },
  {
   "cell_type": "code",
   "execution_count": 20,
   "metadata": {},
   "outputs": [
    {
     "data": {
      "text/plain": [
       "<AxesSubplot:ylabel='Frequency'>"
      ]
     },
     "execution_count": 20,
     "metadata": {},
     "output_type": "execute_result"
    },
    {
     "data": {
      "image/png": "[encoded data removed]",
      "text/plain": [
       "<Figure size 720x432 with 1 Axes>"
      ]
     },
     "metadata": {
      "needs_background": "light"
     },
     "output_type": "display_data"
    }
   ],
   "source": [
    "data[data['locality_name'] == 'Санкт-Петербург'].plot(y = 'cityCenters_nearest', kind = 'hist', bins = 100, grid=True, range = (0,30000), figsize = (10,6))"
   ]
  },
  {
   "cell_type": "code",
   "execution_count": 21,
   "metadata": {},
   "outputs": [
    {
     "data": {
      "text/plain": [
       "<AxesSubplot:ylabel='Frequency'>"
      ]
     },
     "execution_count": 21,
     "metadata": {},
     "output_type": "execute_result"
    },
    {
     "data": {
      "image/png": "[encoded data removed]",
      "text/plain": [
       "<Figure size 720x432 with 1 Axes>"
      ]
     },
     "metadata": {
      "needs_background": "light"
     },
     "output_type": "display_data"
    }
   ],
   "source": [
    "data[data['locality_name'] != 'Санкт-Петербург'].plot(y = 'cityCenters_nearest', kind = 'hist', bins = 100, grid=True, range = (0,30000), figsize = (10,6))"
   ]
  },
  {
   "cell_type": "code",
   "execution_count": 22,
   "metadata": {},
   "outputs": [
    {
     "name": "stdout",
     "output_type": "stream",
     "text": [
      "<class 'pandas.core.frame.DataFrame'>\n",
      "Int64Index: 23613 entries, 0 to 23698\n",
      "Data columns (total 22 columns):\n",
      " #   Column                Non-Null Count  Dtype         \n",
      "---  ------                --------------  -----         \n",
      " 0   total_images          23613 non-null  int64         \n",
      " 1   last_price            23613 non-null  float64       \n",
      " 2   total_area            23613 non-null  float64       \n",
      " 3   first_day_exposition  23613 non-null  datetime64[ns]\n",
      " 4   rooms                 23613 non-null  int64         \n",
      " 5   ceiling_height        14495 non-null  float64       \n",
      " 6   floors_total          23613 non-null  float64       \n",
      " 7   living_area           23613 non-null  float64       \n",
      " 8   floor                 23613 non-null  int64         \n",
      " 9   is_apartment          23613 non-null  bool          \n",
      " 10  studio                23613 non-null  bool          \n",
      " 11  open_plan             23613 non-null  bool          \n",
      " 12  kitchen_area          21382 non-null  float64       \n",
      " 13  balcony               23613 non-null  int64         \n",
      " 14  locality_name         23565 non-null  object        \n",
      " 15  airports_nearest      18081 non-null  float64       \n",
      " 16  cityCenters_nearest   23613 non-null  float64       \n",
      " 17  parks_around3000      18105 non-null  float64       \n",
      " 18  parks_nearest         8045 non-null   float64       \n",
      " 19  ponds_around3000      18105 non-null  float64       \n",
      " 20  ponds_nearest         9061 non-null   float64       \n",
      " 21  days_exposition       23613 non-null  int64         \n",
      "dtypes: bool(3), datetime64[ns](1), float64(12), int64(5), object(1)\n",
      "memory usage: 3.7+ MB\n"
     ]
    }
   ],
   "source": [
    "data.info()"
   ]
  },
  {
   "cell_type": "markdown",
   "metadata": {},
   "source": [
    "## Расчёты и добавление результатов в таблицу"
   ]
  },
  {
   "cell_type": "markdown",
   "metadata": {},
   "source": [
    "### Шаг 3. Посчитайте и добавьте в таблицу\n",
    "\n",
    "1. цену квадратного метра;\n",
    "2. день недели, месяц и год публикации объявления;\n",
    "3. этаж квартиры; варианты — первый, последний, другой;\n",
    "4. соотношение жилой и общей площади, а также отношение площади кухни к общей."
   ]
  },
  {
   "cell_type": "code",
   "execution_count": 23,
   "metadata": {},
   "outputs": [],
   "source": [
    "#для удобства просмотра приведем данные к типу int\n",
    "data['price_per_square_meter'] = data['last_price'] / data['total_area']\n",
    "data['price_per_square_meter'] = data['price_per_square_meter'].astype('int')"
   ]
  },
  {
   "cell_type": "code",
   "execution_count": 24,
   "metadata": {},
   "outputs": [],
   "source": [
    "data['weekday_exposition'] = data['first_day_exposition'].dt.weekday\n",
    "data['month_exposition'] = data['first_day_exposition'].dt.month\n",
    "data['year_exposition'] = data['first_day_exposition'].dt.year"
   ]
  },
  {
   "cell_type": "code",
   "execution_count": 25,
   "metadata": {},
   "outputs": [],
   "source": [
    "def floor_category(row):\n",
    "    floors_total = row['floors_total']\n",
    "    floor = row['floor']\n",
    "    if floor == 1:\n",
    "        return 'первый'\n",
    "    elif floor == floors_total:\n",
    "        return 'последний'\n",
    "    elif 1 < floor < floors_total:\n",
    "        return 'другой'"
   ]
  },
  {
   "cell_type": "code",
   "execution_count": 26,
   "metadata": {},
   "outputs": [],
   "source": [
    "data['floor_category'] = data.apply(floor_category, axis = 1)"
   ]
  },
  {
   "cell_type": "code",
   "execution_count": 27,
   "metadata": {},
   "outputs": [],
   "source": [
    "data['useful_area_ratio'] = data['living_area'] / data['total_area']"
   ]
  },
  {
   "cell_type": "code",
   "execution_count": 28,
   "metadata": {},
   "outputs": [],
   "source": [
    "data['kitchen_area_ratio'] = data['kitchen_area'] / data['total_area']"
   ]
  },
  {
   "cell_type": "markdown",
   "metadata": {},
   "source": [
    "## Исследовательский анализ данных"
   ]
  },
  {
   "cell_type": "code",
   "execution_count": 29,
   "metadata": {},
   "outputs": [
    {
     "data": {
      "text/plain": [
       "count    23613.000000\n",
       "mean        60.340678\n",
       "std         35.648988\n",
       "min         12.000000\n",
       "25%         40.000000\n",
       "50%         52.000000\n",
       "75%         69.800000\n",
       "max        900.000000\n",
       "Name: total_area, dtype: float64"
      ]
     },
     "execution_count": 29,
     "metadata": {},
     "output_type": "execute_result"
    },
    {
     "data": {
      "image/png": "[encoded data removed]",
      "text/plain": [
       "<Figure size 720x432 with 1 Axes>"
      ]
     },
     "metadata": {
      "needs_background": "light"
     },
     "output_type": "display_data"
    }
   ],
   "source": [
    "#изучим общую площадь\n",
    "data\n",
    "data.plot(y = 'total_area', kind = 'hist', bins = 100, grid=True, figsize = (10,6), range = (0,500))\n",
    "data['total_area'].describe()"
   ]
  },
  {
   "cell_type": "code",
   "execution_count": 30,
   "metadata": {},
   "outputs": [
    {
     "data": {
      "text/plain": [
       "count    2.361300e+04\n",
       "mean     6.540555e+06\n",
       "std      1.090172e+07\n",
       "min      1.219000e+04\n",
       "25%      3.400000e+06\n",
       "50%      4.650000e+06\n",
       "75%      6.799000e+06\n",
       "max      7.630000e+08\n",
       "Name: last_price, dtype: float64"
      ]
     },
     "execution_count": 30,
     "metadata": {},
     "output_type": "execute_result"
    },
    {
     "data": {
      "image/png": "[encoded data removed]",
      "text/plain": [
       "<Figure size 720x432 with 1 Axes>"
      ]
     },
     "metadata": {
      "needs_background": "light"
     },
     "output_type": "display_data"
    }
   ],
   "source": [
    "data.plot(y = 'last_price', kind = 'hist', bins = 100, grid=True, range = (0,15000000), figsize = (10,6))\n",
    "data['last_price'].describe()"
   ]
  },
  {
   "cell_type": "code",
   "execution_count": 31,
   "metadata": {},
   "outputs": [
    {
     "data": {
      "text/plain": [
       "count    23613.000000\n",
       "mean         2.071147\n",
       "std          1.078380\n",
       "min          0.000000\n",
       "25%          1.000000\n",
       "50%          2.000000\n",
       "75%          3.000000\n",
       "max         19.000000\n",
       "Name: rooms, dtype: float64"
      ]
     },
     "execution_count": 31,
     "metadata": {},
     "output_type": "execute_result"
    },
    {
     "data": {
      "image/png": "[encoded data removed]",
      "text/plain": [
       "<Figure size 720x432 with 1 Axes>"
      ]
     },
     "metadata": {
      "needs_background": "light"
     },
     "output_type": "display_data"
    }
   ],
   "source": [
    "data.plot(y = 'rooms', kind = 'hist', bins = 30, grid=True, figsize = (10,6))\n",
    "data['rooms'].describe()"
   ]
  },
  {
   "cell_type": "code",
   "execution_count": 32,
   "metadata": {},
   "outputs": [
    {
     "data": {
      "text/plain": [
       "count    14495.000000\n",
       "mean         2.771495\n",
       "std          1.261445\n",
       "min          1.000000\n",
       "25%          2.520000\n",
       "50%          2.650000\n",
       "75%          2.800000\n",
       "max        100.000000\n",
       "Name: ceiling_height, dtype: float64"
      ]
     },
     "execution_count": 32,
     "metadata": {},
     "output_type": "execute_result"
    },
    {
     "data": {
      "image/png": "[encoded data removed]",
      "text/plain": [
       "<Figure size 720x432 with 1 Axes>"
      ]
     },
     "metadata": {
      "needs_background": "light"
     },
     "output_type": "display_data"
    }
   ],
   "source": [
    "data.plot(y = 'ceiling_height', kind = 'hist', bins = 30, range = (2,5), grid=True, figsize = (10,6))\n",
    "data['ceiling_height'].describe()"
   ]
  },
  {
   "cell_type": "markdown",
   "metadata": {},
   "source": [
    "Общая площадь в нашей выборке колеблется от 12 до 900 м2, среднее значение 60, а медиана 52 м2. \n",
    "\n",
    "Цены на недвижимость имеют среднее значение в 6,5 млн руб., медиана 4,6 млн руб. Распределение данных Гаусса.\n",
    "\n",
    "Количество комнат колеблется от 1 до 19. Больше всего однокомнатных квартир.\n",
    "\n",
    "Высота потолков в среднем составляет 2,77 м, медиана 2,65 м.\n",
    "\n",
    "Во всех данных есть выбросы, такие как 0 комнат, высота потолков в 1 или 100 метров, а также цена квартиры в 12190 рублей. Кажется, что на этом этапе можно обратиться к коллегам, уточнить параметры выборки и уточнить что это за обьекты."
   ]
  },
  {
   "cell_type": "markdown",
   "metadata": {},
   "source": [
    "### Изучите время продажи квартиры. \n",
    "Постройте гистограмму. \n",
    "Посчитайте среднее и медиану. Опишите, сколько обычно занимает продажа. \n",
    "Когда можно считать, что продажи прошли очень быстро, а когда необычно долго?"
   ]
  },
  {
   "cell_type": "code",
   "execution_count": 33,
   "metadata": {},
   "outputs": [
    {
     "data": {
      "text/plain": [
       "(-1.0, 700.0)"
      ]
     },
     "execution_count": 33,
     "metadata": {},
     "output_type": "execute_result"
    },
    {
     "data": {
      "image/png": "[encoded data removed]",
      "text/plain": [
       "<Figure size 432x288 with 1 Axes>"
      ]
     },
     "metadata": {
      "needs_background": "light"
     },
     "output_type": "display_data"
    }
   ],
   "source": [
    "plt.boxplot(data[data['days_exposition']!=0]['days_exposition'])\n",
    "plt.ylim(-1,700)"
   ]
  },
  {
   "cell_type": "code",
   "execution_count": 34,
   "metadata": {},
   "outputs": [
    {
     "data": {
      "text/plain": [
       "<AxesSubplot:ylabel='Frequency'>"
      ]
     },
     "execution_count": 34,
     "metadata": {},
     "output_type": "execute_result"
    },
    {
     "data": {
      "image/png": "[encoded data removed]",
      "text/plain": [
       "<Figure size 432x288 with 1 Axes>"
      ]
     },
     "metadata": {
      "needs_background": "light"
     },
     "output_type": "display_data"
    },
    {
     "data": {
      "image/png": "[encoded data removed]",
      "text/plain": [
       "<Figure size 432x288 with 1 Axes>"
      ]
     },
     "metadata": {
      "needs_background": "light"
     },
     "output_type": "display_data"
    }
   ],
   "source": [
    "data.plot(y = 'days_exposition', kind = 'hist', bins = 30, grid = True, range = (1,1600))\n",
    "data.plot(y = 'days_exposition', kind = 'hist', bins = 100, grid = True, range = (1,200))"
   ]
  },
  {
   "cell_type": "code",
   "execution_count": 35,
   "metadata": {},
   "outputs": [
    {
     "data": {
      "text/plain": [
       "count    20441.000000\n",
       "mean       180.884839\n",
       "std        219.685543\n",
       "min          1.000000\n",
       "25%         45.000000\n",
       "50%         95.000000\n",
       "75%        232.000000\n",
       "max       1580.000000\n",
       "Name: days_exposition, dtype: float64"
      ]
     },
     "execution_count": 35,
     "metadata": {},
     "output_type": "execute_result"
    }
   ],
   "source": [
    "data[data['days_exposition']!=0]['days_exposition'].describe()"
   ]
  },
  {
   "cell_type": "code",
   "execution_count": 36,
   "metadata": {},
   "outputs": [
    {
     "data": {
      "text/plain": [
       "45      880\n",
       "60      538\n",
       "7       234\n",
       "30      208\n",
       "90      201\n",
       "       ... \n",
       "1112      1\n",
       "1080      1\n",
       "1064      1\n",
       "1032      1\n",
       "1391      1\n",
       "Name: days_exposition, Length: 1139, dtype: int64"
      ]
     },
     "execution_count": 36,
     "metadata": {},
     "output_type": "execute_result"
    }
   ],
   "source": [
    "data[data['days_exposition']!=0]['days_exposition'].value_counts()"
   ]
  },
  {
   "cell_type": "markdown",
   "metadata": {},
   "source": [
    "распределение Пуассона. Среднее значение - 180 дней, медиана - 95 дней. Сделав гистограмму со значениями от 0 до 100 с кол-вом корзин 100, обнаружили выбивающиеся значения и методом value_counts убедились в этом - у нас аномалии на 45, 60, 7, 30, 90 днях - это наиболее популярное количество дней до снятия объявления."
   ]
  },
  {
   "cell_type": "markdown",
   "metadata": {},
   "source": [
    "###  Уберите редкие и выбивающиеся значения. Опишите, какие особенности обнаружили."
   ]
  },
  {
   "cell_type": "markdown",
   "metadata": {},
   "source": [
    "В данных были обнаружены выбросы на  7, 30, 45, 60, 90 дней, это сильно влияет на данные и смещает значения в меньшую сторону. \n",
    "Так как у нас нет инфо откуда такие данные, необходимо уточнить у коллег есть ли какие-либо правила размещения и в будущем корректировать выборку исключая данные значения."
   ]
  },
  {
   "cell_type": "code",
   "execution_count": 37,
   "metadata": {},
   "outputs": [],
   "source": [
    "good_data = data.query('days_exposition != 45 and days_exposition != 30 and days_exposition != 60 and days_exposition != 90 and days_exposition != 7 and days_exposition != 0')"
   ]
  },
  {
   "cell_type": "code",
   "execution_count": 38,
   "metadata": {},
   "outputs": [
    {
     "data": {
      "text/plain": [
       "(1.0, 800.0)"
      ]
     },
     "execution_count": 38,
     "metadata": {},
     "output_type": "execute_result"
    },
    {
     "data": {
      "image/png": "[encoded data removed]",
      "text/plain": [
       "<Figure size 432x288 with 1 Axes>"
      ]
     },
     "metadata": {
      "needs_background": "light"
     },
     "output_type": "display_data"
    }
   ],
   "source": [
    "plt.boxplot(good_data['days_exposition'])\n",
    "plt.ylim(1,800)"
   ]
  },
  {
   "cell_type": "code",
   "execution_count": 39,
   "metadata": {},
   "outputs": [
    {
     "data": {
      "text/plain": [
       "<AxesSubplot:ylabel='Frequency'>"
      ]
     },
     "execution_count": 39,
     "metadata": {},
     "output_type": "execute_result"
    },
    {
     "data": {
      "image/png": "[encoded data removed]",
      "text/plain": [
       "<Figure size 432x288 with 1 Axes>"
      ]
     },
     "metadata": {
      "needs_background": "light"
     },
     "output_type": "display_data"
    },
    {
     "data": {
      "image/png": "[encoded data removed]",
      "text/plain": [
       "<Figure size 432x288 with 1 Axes>"
      ]
     },
     "metadata": {
      "needs_background": "light"
     },
     "output_type": "display_data"
    }
   ],
   "source": [
    "good_data.plot(y = 'days_exposition', kind = 'hist', bins = 30, grid = True, range = (1,1600))\n",
    "good_data.plot(y = 'days_exposition', kind = 'hist', bins = 100, grid = True, range = (1,200))"
   ]
  },
  {
   "cell_type": "code",
   "execution_count": 40,
   "metadata": {},
   "outputs": [
    {
     "data": {
      "text/plain": [
       "count    18380.000000\n",
       "mean       195.844342\n",
       "std        226.727016\n",
       "min          1.000000\n",
       "25%         44.000000\n",
       "50%        114.000000\n",
       "75%        259.000000\n",
       "max       1580.000000\n",
       "Name: days_exposition, dtype: float64"
      ]
     },
     "execution_count": 40,
     "metadata": {},
     "output_type": "execute_result"
    }
   ],
   "source": [
    "good_data['days_exposition'].describe()"
   ]
  },
  {
   "cell_type": "markdown",
   "metadata": {},
   "source": [
    "<div class=\"alert-warning\">\n",
    "<b>Комментарий ревьюера ⚠️</b>\n",
    "\n",
    "Целесообразно написать вывод по разделу. Обязательно стоит проверить какой процент данных мы отсечем, если уберем эти выбивающиеся значения.</div>"
   ]
  },
  {
   "cell_type": "code",
   "execution_count": 41,
   "metadata": {},
   "outputs": [
    {
     "data": {
      "text/plain": [
       "0.7783847880404862"
      ]
     },
     "execution_count": 41,
     "metadata": {},
     "output_type": "execute_result"
    }
   ],
   "source": [
    "good_data_ratio = len(good_data['days_exposition']) / len(data['days_exposition'])\n",
    "good_data_ratio"
   ]
  },
  {
   "cell_type": "markdown",
   "metadata": {},
   "source": [
    "### Какие факторы больше всего влияют на стоимость квартиры? Изучите, зависит ли цена от площади, числа комнат, удалённости от центра. Изучите зависимость цены от того, на каком этаже расположена квартира: первом, последнем или другом. Также изучите зависимость от даты размещения: дня недели, месяца и года."
   ]
  },
  {
   "cell_type": "markdown",
   "metadata": {},
   "source": [
    "**зависимость цены квадратного метра от общей площади квартиры**"
   ]
  },
  {
   "cell_type": "code",
   "execution_count": 42,
   "metadata": {},
   "outputs": [
    {
     "data": {
      "text/plain": [
       "0.30239704158417774"
      ]
     },
     "execution_count": 42,
     "metadata": {},
     "output_type": "execute_result"
    },
    {
     "data": {
      "image/png": "[encoded data removed]",
      "text/plain": [
       "<Figure size 432x288 with 1 Axes>"
      ]
     },
     "metadata": {
      "needs_background": "light"
     },
     "output_type": "display_data"
    }
   ],
   "source": [
    "pivot_table_total_area = data.pivot_table(index = 'total_area', values = 'price_per_square_meter', aggfunc = ['mean', 'count', 'median'])\n",
    "pivot_table_total_area.columns = ['mean', 'count', 'median']\n",
    "pivot_table_total_area.plot(y = 'median', style = 'o')\n",
    "\n",
    "pivot_table_total_area.sort_values('median', ascending = False)\n",
    "\n",
    "data['total_area'].corr(data['price_per_square_meter'])"
   ]
  },
  {
   "cell_type": "markdown",
   "metadata": {},
   "source": [
    "Корреляция 0,3 говорит о том, что есть более значимые факторы при выборе жилья, также на графике можно увидеть, что в целом от 100 кв.м. она увеличивается, но незначительно, скорее это какие то премиальные сегменты. В будущем предполагаю, что более правильно выработать какой то метод, сегментировать (эконом бизнес комфорт премиум) и оценивать критерии в каждом сегменте отдельно "
   ]
  },
  {
   "cell_type": "code",
   "execution_count": 43,
   "metadata": {},
   "outputs": [
    {
     "data": {
      "text/plain": [
       "0.05566894858321389"
      ]
     },
     "execution_count": 43,
     "metadata": {},
     "output_type": "execute_result"
    },
    {
     "data": {
      "image/png": "[encoded data removed]",
      "text/plain": [
       "<Figure size 432x288 with 1 Axes>"
      ]
     },
     "metadata": {
      "needs_background": "light"
     },
     "output_type": "display_data"
    }
   ],
   "source": [
    "pivot_table_rooms = data.pivot_table(index = 'rooms', values = 'price_per_square_meter', aggfunc = ['mean', 'count', 'median'])\n",
    "pivot_table_rooms.columns = ['mean', 'count', 'median']\n",
    "pivot_table_rooms.query('count > 50').plot(y = 'median')\n",
    "\n",
    "pivot_table_rooms.query('count > 50').sort_values('median', ascending = False)\n",
    "\n",
    "data['rooms'].corr(data['price_per_square_meter'])"
   ]
  },
  {
   "cell_type": "markdown",
   "metadata": {},
   "source": [
    "Вывод: Никто не любит трешки :( \n",
    "чем ближе количество комнат к 3 тем ниже стоимость квадратного метра и отрастает дальше в какой то сегмент виллы на невском"
   ]
  },
  {
   "cell_type": "markdown",
   "metadata": {},
   "source": [
    "**зависимость цены квадратного метра от удалённости от центра.**"
   ]
  },
  {
   "cell_type": "code",
   "execution_count": 44,
   "metadata": {},
   "outputs": [
    {
     "data": {
      "text/plain": [
       "-0.47334960446722024"
      ]
     },
     "execution_count": 44,
     "metadata": {},
     "output_type": "execute_result"
    },
    {
     "data": {
      "image/png": "[encoded data removed]",
      "text/plain": [
       "<Figure size 432x288 with 1 Axes>"
      ]
     },
     "metadata": {
      "needs_background": "light"
     },
     "output_type": "display_data"
    }
   ],
   "source": [
    "data.plot(kind = 'scatter', y = 'price_per_square_meter', x = 'cityCenters_nearest', alpha = 0.3)\n",
    "\n",
    "data['cityCenters_nearest'].corr(data['price_per_square_meter'])"
   ]
  },
  {
   "cell_type": "markdown",
   "metadata": {},
   "source": [
    "    Цена зависит от удаленности от центра"
   ]
  },
  {
   "cell_type": "markdown",
   "metadata": {},
   "source": [
    "**зависимость цены квадратного метра от этажа (первого или последнего).**"
   ]
  },
  {
   "cell_type": "code",
   "execution_count": 45,
   "metadata": {},
   "outputs": [
    {
     "data": {
      "text/html": [
       "<div>\n",
       "<style scoped>\n",
       "    .dataframe tbody tr th:only-of-type {\n",
       "        vertical-align: middle;\n",
       "    }\n",
       "\n",
       "    .dataframe tbody tr th {\n",
       "        vertical-align: top;\n",
       "    }\n",
       "\n",
       "    .dataframe thead th {\n",
       "        text-align: right;\n",
       "    }\n",
       "</style>\n",
       "<table border=\"1\" class=\"dataframe\">\n",
       "  <thead>\n",
       "    <tr style=\"text-align: right;\">\n",
       "      <th></th>\n",
       "      <th>mean</th>\n",
       "      <th>count</th>\n",
       "      <th>median</th>\n",
       "    </tr>\n",
       "    <tr>\n",
       "      <th>floor_category</th>\n",
       "      <th></th>\n",
       "      <th></th>\n",
       "      <th></th>\n",
       "    </tr>\n",
       "  </thead>\n",
       "  <tbody>\n",
       "    <tr>\n",
       "      <th>первый</th>\n",
       "      <td>81995.385038</td>\n",
       "      <td>2914</td>\n",
       "      <td>81236.5</td>\n",
       "    </tr>\n",
       "    <tr>\n",
       "      <th>последний</th>\n",
       "      <td>93410.267686</td>\n",
       "      <td>3336</td>\n",
       "      <td>87777.0</td>\n",
       "    </tr>\n",
       "  </tbody>\n",
       "</table>\n",
       "</div>"
      ],
      "text/plain": [
       "                        mean  count   median\n",
       "floor_category                              \n",
       "первый          81995.385038   2914  81236.5\n",
       "последний       93410.267686   3336  87777.0"
      ]
     },
     "execution_count": 45,
     "metadata": {},
     "output_type": "execute_result"
    },
    {
     "data": {
      "image/png": "[encoded data removed]",
      "text/plain": [
       "<Figure size 432x288 with 1 Axes>"
      ]
     },
     "metadata": {
      "needs_background": "light"
     },
     "output_type": "display_data"
    }
   ],
   "source": [
    "pivot_table_floor_category = data.query('floor_category != \"другой\"').pivot_table(index = 'floor_category', values = 'price_per_square_meter', aggfunc = ['mean', 'count', 'median'])\n",
    "pivot_table_floor_category.columns = ['mean', 'count', 'median']\n",
    "pivot_table_floor_category.plot(y = 'median')\n",
    "pivot_table_floor_category"
   ]
  },
  {
   "cell_type": "markdown",
   "metadata": {},
   "source": [
    "В среднем последний этаж дороже первого но незначительно"
   ]
  },
  {
   "cell_type": "code",
   "execution_count": 46,
   "metadata": {},
   "outputs": [
    {
     "data": {
      "image/png": "[encoded data removed]",
      "text/plain": [
       "<Figure size 432x288 with 1 Axes>"
      ]
     },
     "metadata": {
      "needs_background": "light"
     },
     "output_type": "display_data"
    }
   ],
   "source": [
    "#Код ревьюера\n",
    "data.groupby('floor_category')['price_per_square_meter'].median()\\\n",
    "    .plot(kind = 'bar', title = 'Медианная стоимость квадратного метра в зависимости от этажа')\\\n",
    "    .axhline(y = data['price_per_square_meter'].median(), color = 'r', linestyle = 'dashed')\n",
    "plt.show()"
   ]
  },
  {
   "cell_type": "code",
   "execution_count": null,
   "metadata": {},
   "outputs": [],
   "source": []
  },
  {
   "cell_type": "markdown",
   "metadata": {},
   "source": [
    "### зависимость цены квадратного метра от даты размещения: дня недели, месяца, года"
   ]
  },
  {
   "cell_type": "code",
   "execution_count": 47,
   "metadata": {},
   "outputs": [
    {
     "data": {
      "text/html": [
       "<div>\n",
       "<style scoped>\n",
       "    .dataframe tbody tr th:only-of-type {\n",
       "        vertical-align: middle;\n",
       "    }\n",
       "\n",
       "    .dataframe tbody tr th {\n",
       "        vertical-align: top;\n",
       "    }\n",
       "\n",
       "    .dataframe thead th {\n",
       "        text-align: right;\n",
       "    }\n",
       "</style>\n",
       "<table border=\"1\" class=\"dataframe\">\n",
       "  <thead>\n",
       "    <tr style=\"text-align: right;\">\n",
       "      <th></th>\n",
       "      <th>mean</th>\n",
       "      <th>count</th>\n",
       "      <th>median</th>\n",
       "    </tr>\n",
       "    <tr>\n",
       "      <th>weekday_exposition</th>\n",
       "      <th></th>\n",
       "      <th></th>\n",
       "      <th></th>\n",
       "    </tr>\n",
       "  </thead>\n",
       "  <tbody>\n",
       "    <tr>\n",
       "      <th>1</th>\n",
       "      <td>99690.508873</td>\n",
       "      <td>4170</td>\n",
       "      <td>95577.5</td>\n",
       "    </tr>\n",
       "    <tr>\n",
       "      <th>2</th>\n",
       "      <td>99595.578615</td>\n",
       "      <td>3956</td>\n",
       "      <td>95473.0</td>\n",
       "    </tr>\n",
       "    <tr>\n",
       "      <th>3</th>\n",
       "      <td>100163.952625</td>\n",
       "      <td>4285</td>\n",
       "      <td>95121.0</td>\n",
       "    </tr>\n",
       "    <tr>\n",
       "      <th>0</th>\n",
       "      <td>99430.110772</td>\n",
       "      <td>3602</td>\n",
       "      <td>94703.0</td>\n",
       "    </tr>\n",
       "    <tr>\n",
       "      <th>4</th>\n",
       "      <td>98949.679037</td>\n",
       "      <td>3988</td>\n",
       "      <td>94607.5</td>\n",
       "    </tr>\n",
       "    <tr>\n",
       "      <th>6</th>\n",
       "      <td>97703.721302</td>\n",
       "      <td>1690</td>\n",
       "      <td>94533.0</td>\n",
       "    </tr>\n",
       "    <tr>\n",
       "      <th>5</th>\n",
       "      <td>98996.999480</td>\n",
       "      <td>1922</td>\n",
       "      <td>93545.5</td>\n",
       "    </tr>\n",
       "  </tbody>\n",
       "</table>\n",
       "</div>"
      ],
      "text/plain": [
       "                             mean  count   median\n",
       "weekday_exposition                               \n",
       "1                    99690.508873   4170  95577.5\n",
       "2                    99595.578615   3956  95473.0\n",
       "3                   100163.952625   4285  95121.0\n",
       "0                    99430.110772   3602  94703.0\n",
       "4                    98949.679037   3988  94607.5\n",
       "6                    97703.721302   1690  94533.0\n",
       "5                    98996.999480   1922  93545.5"
      ]
     },
     "execution_count": 47,
     "metadata": {},
     "output_type": "execute_result"
    },
    {
     "data": {
      "image/png": "[encoded data removed]",
      "text/plain": [
       "<Figure size 432x288 with 1 Axes>"
      ]
     },
     "metadata": {
      "needs_background": "light"
     },
     "output_type": "display_data"
    }
   ],
   "source": [
    "pivot_table_weekday_exposition = data.pivot_table(index = 'weekday_exposition', values = 'price_per_square_meter', aggfunc = ['mean', 'count', 'median'])\n",
    "pivot_table_weekday_exposition.columns = ['mean', 'count', 'median']\n",
    "pivot_table_weekday_exposition.plot(y = 'median')\n",
    "\n",
    "pivot_table_weekday_exposition.sort_values('median', ascending = False)"
   ]
  },
  {
   "cell_type": "markdown",
   "metadata": {},
   "source": [
    "Стоимость начинает расти с субботы по понедельник, полагаю что это связано с тем, что собственники дома и риэлторы могут прийти поснимать и оценить и после разместить обьявления. В будние дни таких желающих меньше, поэтому довыкладывают то что осталось и перевыкладывают снятые с продажи обьекты со сниженной ценой :)"
   ]
  },
  {
   "cell_type": "code",
   "execution_count": 48,
   "metadata": {},
   "outputs": [
    {
     "data": {
      "text/html": [
       "<div>\n",
       "<style scoped>\n",
       "    .dataframe tbody tr th:only-of-type {\n",
       "        vertical-align: middle;\n",
       "    }\n",
       "\n",
       "    .dataframe tbody tr th {\n",
       "        vertical-align: top;\n",
       "    }\n",
       "\n",
       "    .dataframe thead th {\n",
       "        text-align: right;\n",
       "    }\n",
       "</style>\n",
       "<table border=\"1\" class=\"dataframe\">\n",
       "  <thead>\n",
       "    <tr style=\"text-align: right;\">\n",
       "      <th></th>\n",
       "      <th>mean</th>\n",
       "      <th>count</th>\n",
       "      <th>median</th>\n",
       "    </tr>\n",
       "    <tr>\n",
       "      <th>month_exposition</th>\n",
       "      <th></th>\n",
       "      <th></th>\n",
       "      <th></th>\n",
       "    </tr>\n",
       "  </thead>\n",
       "  <tbody>\n",
       "    <tr>\n",
       "      <th>4</th>\n",
       "      <td>101979.839966</td>\n",
       "      <td>2362</td>\n",
       "      <td>96543.0</td>\n",
       "    </tr>\n",
       "    <tr>\n",
       "      <th>8</th>\n",
       "      <td>100071.964963</td>\n",
       "      <td>1741</td>\n",
       "      <td>96000.0</td>\n",
       "    </tr>\n",
       "    <tr>\n",
       "      <th>9</th>\n",
       "      <td>100492.197568</td>\n",
       "      <td>1974</td>\n",
       "      <td>95607.5</td>\n",
       "    </tr>\n",
       "    <tr>\n",
       "      <th>11</th>\n",
       "      <td>99204.406937</td>\n",
       "      <td>2364</td>\n",
       "      <td>95588.0</td>\n",
       "    </tr>\n",
       "    <tr>\n",
       "      <th>3</th>\n",
       "      <td>98926.943798</td>\n",
       "      <td>2580</td>\n",
       "      <td>95227.5</td>\n",
       "    </tr>\n",
       "    <tr>\n",
       "      <th>1</th>\n",
       "      <td>99757.521390</td>\n",
       "      <td>1496</td>\n",
       "      <td>95186.0</td>\n",
       "    </tr>\n",
       "    <tr>\n",
       "      <th>2</th>\n",
       "      <td>98761.211983</td>\n",
       "      <td>2637</td>\n",
       "      <td>95000.0</td>\n",
       "    </tr>\n",
       "    <tr>\n",
       "      <th>7</th>\n",
       "      <td>99618.839053</td>\n",
       "      <td>1690</td>\n",
       "      <td>95000.0</td>\n",
       "    </tr>\n",
       "    <tr>\n",
       "      <th>12</th>\n",
       "      <td>99574.280926</td>\n",
       "      <td>1641</td>\n",
       "      <td>94262.0</td>\n",
       "    </tr>\n",
       "    <tr>\n",
       "      <th>10</th>\n",
       "      <td>97831.252487</td>\n",
       "      <td>2111</td>\n",
       "      <td>94202.0</td>\n",
       "    </tr>\n",
       "    <tr>\n",
       "      <th>6</th>\n",
       "      <td>97769.265411</td>\n",
       "      <td>1752</td>\n",
       "      <td>92799.0</td>\n",
       "    </tr>\n",
       "    <tr>\n",
       "      <th>5</th>\n",
       "      <td>98495.523320</td>\n",
       "      <td>1265</td>\n",
       "      <td>92696.0</td>\n",
       "    </tr>\n",
       "  </tbody>\n",
       "</table>\n",
       "</div>"
      ],
      "text/plain": [
       "                           mean  count   median\n",
       "month_exposition                               \n",
       "4                 101979.839966   2362  96543.0\n",
       "8                 100071.964963   1741  96000.0\n",
       "9                 100492.197568   1974  95607.5\n",
       "11                 99204.406937   2364  95588.0\n",
       "3                  98926.943798   2580  95227.5\n",
       "1                  99757.521390   1496  95186.0\n",
       "2                  98761.211983   2637  95000.0\n",
       "7                  99618.839053   1690  95000.0\n",
       "12                 99574.280926   1641  94262.0\n",
       "10                 97831.252487   2111  94202.0\n",
       "6                  97769.265411   1752  92799.0\n",
       "5                  98495.523320   1265  92696.0"
      ]
     },
     "execution_count": 48,
     "metadata": {},
     "output_type": "execute_result"
    },
    {
     "data": {
      "image/png": "[encoded data removed]",
      "text/plain": [
       "<Figure size 432x288 with 1 Axes>"
      ]
     },
     "metadata": {
      "needs_background": "light"
     },
     "output_type": "display_data"
    }
   ],
   "source": [
    "pivot_table_month_exposition = data.pivot_table(index = 'month_exposition', values = 'price_per_square_meter', aggfunc = ['mean', 'count', 'median'])\n",
    "pivot_table_month_exposition.columns = ['mean', 'count', 'median']\n",
    "pivot_table_month_exposition.plot(y = 'median')\n",
    "\n",
    "pivot_table_month_exposition.sort_values('median', ascending = False)"
   ]
  },
  {
   "cell_type": "markdown",
   "metadata": {},
   "source": [
    "    самая высокая стоимость метра в апреле и августе. Самая низкая стоимость в мае и июне.\n",
    "    Полагаю, что это связано с каким либо праздниками(подарками), отпусками. На рынке недвижимости присутствует сезонность, интересно, что согласно отчетам самих продавцов пики продаж это декабрь и август."
   ]
  },
  {
   "cell_type": "code",
   "execution_count": 49,
   "metadata": {},
   "outputs": [
    {
     "data": {
      "text/html": [
       "<div>\n",
       "<style scoped>\n",
       "    .dataframe tbody tr th:only-of-type {\n",
       "        vertical-align: middle;\n",
       "    }\n",
       "\n",
       "    .dataframe tbody tr th {\n",
       "        vertical-align: top;\n",
       "    }\n",
       "\n",
       "    .dataframe thead th {\n",
       "        text-align: right;\n",
       "    }\n",
       "</style>\n",
       "<table border=\"1\" class=\"dataframe\">\n",
       "  <thead>\n",
       "    <tr style=\"text-align: right;\">\n",
       "      <th></th>\n",
       "      <th>mean</th>\n",
       "      <th>count</th>\n",
       "      <th>median</th>\n",
       "    </tr>\n",
       "    <tr>\n",
       "      <th>year_exposition</th>\n",
       "      <th></th>\n",
       "      <th></th>\n",
       "      <th></th>\n",
       "    </tr>\n",
       "  </thead>\n",
       "  <tbody>\n",
       "    <tr>\n",
       "      <th>2014</th>\n",
       "      <td>124830.000000</td>\n",
       "      <td>137</td>\n",
       "      <td>107000.0</td>\n",
       "    </tr>\n",
       "    <tr>\n",
       "      <th>2019</th>\n",
       "      <td>107046.819923</td>\n",
       "      <td>2871</td>\n",
       "      <td>103199.0</td>\n",
       "    </tr>\n",
       "    <tr>\n",
       "      <th>2018</th>\n",
       "      <td>97741.675930</td>\n",
       "      <td>8492</td>\n",
       "      <td>95669.5</td>\n",
       "    </tr>\n",
       "    <tr>\n",
       "      <th>2015</th>\n",
       "      <td>104535.564189</td>\n",
       "      <td>1184</td>\n",
       "      <td>93405.0</td>\n",
       "    </tr>\n",
       "    <tr>\n",
       "      <th>2017</th>\n",
       "      <td>97622.150257</td>\n",
       "      <td>8166</td>\n",
       "      <td>92564.5</td>\n",
       "    </tr>\n",
       "    <tr>\n",
       "      <th>2016</th>\n",
       "      <td>98318.545060</td>\n",
       "      <td>2763</td>\n",
       "      <td>91803.0</td>\n",
       "    </tr>\n",
       "  </tbody>\n",
       "</table>\n",
       "</div>"
      ],
      "text/plain": [
       "                          mean  count    median\n",
       "year_exposition                                \n",
       "2014             124830.000000    137  107000.0\n",
       "2019             107046.819923   2871  103199.0\n",
       "2018              97741.675930   8492   95669.5\n",
       "2015             104535.564189   1184   93405.0\n",
       "2017              97622.150257   8166   92564.5\n",
       "2016              98318.545060   2763   91803.0"
      ]
     },
     "execution_count": 49,
     "metadata": {},
     "output_type": "execute_result"
    },
    {
     "data": {
      "image/png": "[encoded data removed]",
      "text/plain": [
       "<Figure size 432x288 with 1 Axes>"
      ]
     },
     "metadata": {
      "needs_background": "light"
     },
     "output_type": "display_data"
    }
   ],
   "source": [
    "pivot_table_year_exposition = data.pivot_table(index = 'year_exposition', values = 'price_per_square_meter', aggfunc = ['mean', 'count', 'median'])\n",
    "pivot_table_year_exposition.columns = ['mean', 'count', 'median']\n",
    "pivot_table_year_exposition.plot(y = 'median')\n",
    "\n",
    "pivot_table_year_exposition.sort_values('median', ascending = False)"
   ]
  },
  {
   "cell_type": "markdown",
   "metadata": {},
   "source": [
    "    Видим падение цен в 2014-2016 и отрастание с 16 и далее, полагаю, что это может быть связано с падением реальных доходов населения в связи с событиями 14 года и постепенным восстановлением экономики, снижением базовой ставки, процентов по ипотеке и ростом доступности жилья для молодых семей по льготным программ"
   ]
  },
  {
   "cell_type": "markdown",
   "metadata": {},
   "source": [
    "### Выберите 10 населённых пунктов с наибольшим числом объявлений. Посчитайте среднюю цену квадратного метра в этих населённых пунктах. Выделите населённые пункты с самой высокой и низкой стоимостью жилья."
   ]
  },
  {
   "cell_type": "code",
   "execution_count": 50,
   "metadata": {},
   "outputs": [
    {
     "data": {
      "text/html": [
       "<div>\n",
       "<style scoped>\n",
       "    .dataframe tbody tr th:only-of-type {\n",
       "        vertical-align: middle;\n",
       "    }\n",
       "\n",
       "    .dataframe tbody tr th {\n",
       "        vertical-align: top;\n",
       "    }\n",
       "\n",
       "    .dataframe thead th {\n",
       "        text-align: right;\n",
       "    }\n",
       "</style>\n",
       "<table border=\"1\" class=\"dataframe\">\n",
       "  <thead>\n",
       "    <tr style=\"text-align: right;\">\n",
       "      <th></th>\n",
       "      <th>count</th>\n",
       "      <th>mean</th>\n",
       "    </tr>\n",
       "    <tr>\n",
       "      <th>locality_name</th>\n",
       "      <th></th>\n",
       "      <th></th>\n",
       "    </tr>\n",
       "  </thead>\n",
       "  <tbody>\n",
       "    <tr>\n",
       "      <th>Санкт-Петербург</th>\n",
       "      <td>15651</td>\n",
       "      <td>114868.433902</td>\n",
       "    </tr>\n",
       "    <tr>\n",
       "      <th>посёлок Мурино</th>\n",
       "      <td>520</td>\n",
       "      <td>85672.803846</td>\n",
       "    </tr>\n",
       "    <tr>\n",
       "      <th>посёлок Шушары</th>\n",
       "      <td>439</td>\n",
       "      <td>78550.883827</td>\n",
       "    </tr>\n",
       "    <tr>\n",
       "      <th>Всеволожск</th>\n",
       "      <td>398</td>\n",
       "      <td>68654.007538</td>\n",
       "    </tr>\n",
       "    <tr>\n",
       "      <th>Пушкин</th>\n",
       "      <td>369</td>\n",
       "      <td>103125.373984</td>\n",
       "    </tr>\n",
       "    <tr>\n",
       "      <th>Колпино</th>\n",
       "      <td>338</td>\n",
       "      <td>75424.150888</td>\n",
       "    </tr>\n",
       "    <tr>\n",
       "      <th>посёлок Парголово</th>\n",
       "      <td>327</td>\n",
       "      <td>90175.489297</td>\n",
       "    </tr>\n",
       "    <tr>\n",
       "      <th>Гатчина</th>\n",
       "      <td>307</td>\n",
       "      <td>68745.693811</td>\n",
       "    </tr>\n",
       "    <tr>\n",
       "      <th>деревня Кудрово</th>\n",
       "      <td>299</td>\n",
       "      <td>92473.086957</td>\n",
       "    </tr>\n",
       "    <tr>\n",
       "      <th>Выборг</th>\n",
       "      <td>237</td>\n",
       "      <td>58141.489451</td>\n",
       "    </tr>\n",
       "  </tbody>\n",
       "</table>\n",
       "</div>"
      ],
      "text/plain": [
       "                   count           mean\n",
       "locality_name                          \n",
       "Санкт-Петербург    15651  114868.433902\n",
       "посёлок Мурино       520   85672.803846\n",
       "посёлок Шушары       439   78550.883827\n",
       "Всеволожск           398   68654.007538\n",
       "Пушкин               369  103125.373984\n",
       "Колпино              338   75424.150888\n",
       "посёлок Парголово    327   90175.489297\n",
       "Гатчина              307   68745.693811\n",
       "деревня Кудрово      299   92473.086957\n",
       "Выборг               237   58141.489451"
      ]
     },
     "execution_count": 50,
     "metadata": {},
     "output_type": "execute_result"
    }
   ],
   "source": [
    "cities_pivot_table = data.pivot_table(index = 'locality_name', values = 'price_per_square_meter', aggfunc=['count', 'mean'])\n",
    "cities_pivot_table.columns = ['count', 'mean']\n",
    "cities_pivot_table = cities_pivot_table.sort_values('count', ascending = False).head(10)\n",
    "cities_pivot_table"
   ]
  },
  {
   "cell_type": "code",
   "execution_count": 51,
   "metadata": {},
   "outputs": [
    {
     "data": {
      "text/html": [
       "<div>\n",
       "<style scoped>\n",
       "    .dataframe tbody tr th:only-of-type {\n",
       "        vertical-align: middle;\n",
       "    }\n",
       "\n",
       "    .dataframe tbody tr th {\n",
       "        vertical-align: top;\n",
       "    }\n",
       "\n",
       "    .dataframe thead th {\n",
       "        text-align: right;\n",
       "    }\n",
       "</style>\n",
       "<table border=\"1\" class=\"dataframe\">\n",
       "  <thead>\n",
       "    <tr style=\"text-align: right;\">\n",
       "      <th></th>\n",
       "      <th>count</th>\n",
       "      <th>mean</th>\n",
       "    </tr>\n",
       "    <tr>\n",
       "      <th>locality_name</th>\n",
       "      <th></th>\n",
       "      <th></th>\n",
       "    </tr>\n",
       "  </thead>\n",
       "  <tbody>\n",
       "    <tr>\n",
       "      <th>Санкт-Петербург</th>\n",
       "      <td>15651</td>\n",
       "      <td>114868.433902</td>\n",
       "    </tr>\n",
       "  </tbody>\n",
       "</table>\n",
       "</div>"
      ],
      "text/plain": [
       "                 count           mean\n",
       "locality_name                        \n",
       "Санкт-Петербург  15651  114868.433902"
      ]
     },
     "execution_count": 51,
     "metadata": {},
     "output_type": "execute_result"
    }
   ],
   "source": [
    "#самая высокая стоимость\n",
    "cities_pivot_table[cities_pivot_table['mean']==cities_pivot_table['mean'].max()]"
   ]
  },
  {
   "cell_type": "code",
   "execution_count": 52,
   "metadata": {},
   "outputs": [
    {
     "data": {
      "text/html": [
       "<div>\n",
       "<style scoped>\n",
       "    .dataframe tbody tr th:only-of-type {\n",
       "        vertical-align: middle;\n",
       "    }\n",
       "\n",
       "    .dataframe tbody tr th {\n",
       "        vertical-align: top;\n",
       "    }\n",
       "\n",
       "    .dataframe thead th {\n",
       "        text-align: right;\n",
       "    }\n",
       "</style>\n",
       "<table border=\"1\" class=\"dataframe\">\n",
       "  <thead>\n",
       "    <tr style=\"text-align: right;\">\n",
       "      <th></th>\n",
       "      <th>count</th>\n",
       "      <th>mean</th>\n",
       "    </tr>\n",
       "    <tr>\n",
       "      <th>locality_name</th>\n",
       "      <th></th>\n",
       "      <th></th>\n",
       "    </tr>\n",
       "  </thead>\n",
       "  <tbody>\n",
       "    <tr>\n",
       "      <th>Выборг</th>\n",
       "      <td>237</td>\n",
       "      <td>58141.489451</td>\n",
       "    </tr>\n",
       "  </tbody>\n",
       "</table>\n",
       "</div>"
      ],
      "text/plain": [
       "               count          mean\n",
       "locality_name                     \n",
       "Выборг           237  58141.489451"
      ]
     },
     "execution_count": 52,
     "metadata": {},
     "output_type": "execute_result"
    }
   ],
   "source": [
    "#самая низкая стоимость\n",
    "cities_pivot_table[cities_pivot_table['mean']==cities_pivot_table['mean'].min()]"
   ]
  },
  {
   "cell_type": "markdown",
   "metadata": {},
   "source": [
    "    самая высокая стоимость жилья из 10 населённых пунктов с самым большим количеством объявлений в Санкт-Петербурге, тогда как самая низкая стоимость в Выборге."
   ]
  },
  {
   "cell_type": "markdown",
   "metadata": {},
   "source": [
    "### Изучите предложения квартир: для каждой квартиры есть информация о расстоянии до центра. Выделите квартиры в Санкт-Петербурге (locality_name). Ваша задача — выяснить, какая область входит в центр. Создайте столбец с расстоянием до центра в километрах: округлите до целых значений. После этого посчитайте среднюю цену для каждого километра. Постройте график: он должен показывать, как цена зависит от удалённости от центра. Определите границу, где график сильно меняется, — это и будет центральная зона."
   ]
  },
  {
   "cell_type": "code",
   "execution_count": 53,
   "metadata": {},
   "outputs": [],
   "source": [
    "data['cityCenters_nearest_km'] = data['cityCenters_nearest']/1000\n",
    "data['cityCenters_nearest_km'] = data['cityCenters_nearest_km'].astype('int')"
   ]
  },
  {
   "cell_type": "code",
   "execution_count": 54,
   "metadata": {},
   "outputs": [
    {
     "data": {
      "text/plain": [
       "<AxesSubplot:xlabel='cityCenters_nearest_km'>"
      ]
     },
     "execution_count": 54,
     "metadata": {},
     "output_type": "execute_result"
    },
    {
     "data": {
      "image/png": "[encoded data removed]",
      "text/plain": [
       "<Figure size 432x288 with 1 Axes>"
      ]
     },
     "metadata": {
      "needs_background": "light"
     },
     "output_type": "display_data"
    }
   ],
   "source": [
    "pivot_table_km = data.query('locality_name == \"Санкт-Петербург\" and cityCenters_nearest_km !=cityCenters_nearest_km.max()').pivot_table(index = 'cityCenters_nearest_km', values = 'price_per_square_meter', aggfunc = 'mean')\n",
    "pivot_table_km.plot()"
   ]
  },
  {
   "cell_type": "code",
   "execution_count": 55,
   "metadata": {},
   "outputs": [
    {
     "data": {
      "text/html": [
       "<div>\n",
       "<style scoped>\n",
       "    .dataframe tbody tr th:only-of-type {\n",
       "        vertical-align: middle;\n",
       "    }\n",
       "\n",
       "    .dataframe tbody tr th {\n",
       "        vertical-align: top;\n",
       "    }\n",
       "\n",
       "    .dataframe thead th {\n",
       "        text-align: right;\n",
       "    }\n",
       "</style>\n",
       "<table border=\"1\" class=\"dataframe\">\n",
       "  <thead>\n",
       "    <tr style=\"text-align: right;\">\n",
       "      <th></th>\n",
       "      <th>price_per_square_meter</th>\n",
       "    </tr>\n",
       "    <tr>\n",
       "      <th>cityCenters_nearest_km</th>\n",
       "      <th></th>\n",
       "    </tr>\n",
       "  </thead>\n",
       "  <tbody>\n",
       "    <tr>\n",
       "      <th>0</th>\n",
       "      <td>187323.674419</td>\n",
       "    </tr>\n",
       "    <tr>\n",
       "      <th>1</th>\n",
       "      <td>166603.312500</td>\n",
       "    </tr>\n",
       "    <tr>\n",
       "      <th>2</th>\n",
       "      <td>146662.420195</td>\n",
       "    </tr>\n",
       "    <tr>\n",
       "      <th>3</th>\n",
       "      <td>129526.480916</td>\n",
       "    </tr>\n",
       "    <tr>\n",
       "      <th>4</th>\n",
       "      <td>137412.971207</td>\n",
       "    </tr>\n",
       "    <tr>\n",
       "      <th>5</th>\n",
       "      <td>146977.869792</td>\n",
       "    </tr>\n",
       "    <tr>\n",
       "      <th>6</th>\n",
       "      <td>152277.455319</td>\n",
       "    </tr>\n",
       "    <tr>\n",
       "      <th>7</th>\n",
       "      <td>141399.287469</td>\n",
       "    </tr>\n",
       "    <tr>\n",
       "      <th>8</th>\n",
       "      <td>120538.701649</td>\n",
       "    </tr>\n",
       "    <tr>\n",
       "      <th>9</th>\n",
       "      <td>110027.380814</td>\n",
       "    </tr>\n",
       "    <tr>\n",
       "      <th>10</th>\n",
       "      <td>111489.727974</td>\n",
       "    </tr>\n",
       "    <tr>\n",
       "      <th>11</th>\n",
       "      <td>106617.914712</td>\n",
       "    </tr>\n",
       "    <tr>\n",
       "      <th>12</th>\n",
       "      <td>108283.601588</td>\n",
       "    </tr>\n",
       "    <tr>\n",
       "      <th>13</th>\n",
       "      <td>107140.412903</td>\n",
       "    </tr>\n",
       "    <tr>\n",
       "      <th>14</th>\n",
       "      <td>104979.087101</td>\n",
       "    </tr>\n",
       "    <tr>\n",
       "      <th>15</th>\n",
       "      <td>101859.372449</td>\n",
       "    </tr>\n",
       "    <tr>\n",
       "      <th>16</th>\n",
       "      <td>100082.875113</td>\n",
       "    </tr>\n",
       "    <tr>\n",
       "      <th>17</th>\n",
       "      <td>94665.973129</td>\n",
       "    </tr>\n",
       "    <tr>\n",
       "      <th>18</th>\n",
       "      <td>94814.537572</td>\n",
       "    </tr>\n",
       "    <tr>\n",
       "      <th>19</th>\n",
       "      <td>95433.951220</td>\n",
       "    </tr>\n",
       "    <tr>\n",
       "      <th>20</th>\n",
       "      <td>107045.773810</td>\n",
       "    </tr>\n",
       "    <tr>\n",
       "      <th>21</th>\n",
       "      <td>91492.220513</td>\n",
       "    </tr>\n",
       "    <tr>\n",
       "      <th>22</th>\n",
       "      <td>88714.237410</td>\n",
       "    </tr>\n",
       "    <tr>\n",
       "      <th>23</th>\n",
       "      <td>92720.233333</td>\n",
       "    </tr>\n",
       "    <tr>\n",
       "      <th>24</th>\n",
       "      <td>82439.909091</td>\n",
       "    </tr>\n",
       "    <tr>\n",
       "      <th>25</th>\n",
       "      <td>90436.553846</td>\n",
       "    </tr>\n",
       "    <tr>\n",
       "      <th>26</th>\n",
       "      <td>75171.333333</td>\n",
       "    </tr>\n",
       "    <tr>\n",
       "      <th>27</th>\n",
       "      <td>132115.000000</td>\n",
       "    </tr>\n",
       "    <tr>\n",
       "      <th>28</th>\n",
       "      <td>81840.200000</td>\n",
       "    </tr>\n",
       "    <tr>\n",
       "      <th>29</th>\n",
       "      <td>62481.666667</td>\n",
       "    </tr>\n",
       "  </tbody>\n",
       "</table>\n",
       "</div>"
      ],
      "text/plain": [
       "                        price_per_square_meter\n",
       "cityCenters_nearest_km                        \n",
       "0                                187323.674419\n",
       "1                                166603.312500\n",
       "2                                146662.420195\n",
       "3                                129526.480916\n",
       "4                                137412.971207\n",
       "5                                146977.869792\n",
       "6                                152277.455319\n",
       "7                                141399.287469\n",
       "8                                120538.701649\n",
       "9                                110027.380814\n",
       "10                               111489.727974\n",
       "11                               106617.914712\n",
       "12                               108283.601588\n",
       "13                               107140.412903\n",
       "14                               104979.087101\n",
       "15                               101859.372449\n",
       "16                               100082.875113\n",
       "17                                94665.973129\n",
       "18                                94814.537572\n",
       "19                                95433.951220\n",
       "20                               107045.773810\n",
       "21                                91492.220513\n",
       "22                                88714.237410\n",
       "23                                92720.233333\n",
       "24                                82439.909091\n",
       "25                                90436.553846\n",
       "26                                75171.333333\n",
       "27                               132115.000000\n",
       "28                                81840.200000\n",
       "29                                62481.666667"
      ]
     },
     "execution_count": 55,
     "metadata": {},
     "output_type": "execute_result"
    }
   ],
   "source": [
    "pivot_table_km"
   ]
  },
  {
   "cell_type": "markdown",
   "metadata": {},
   "source": [
    "Судя по графику центр составляет 3 км. Весть Санкт-Петербург в некоторых местах в ширину порядка 18 километров, что дает нам радиус в 9, поэтому можно остановиться на этом."
   ]
  },
  {
   "cell_type": "markdown",
   "metadata": {},
   "source": [
    "### Выделите сегмент квартир в центре. Проанализируйте эту территорию и изучите следующие параметры: площадь, цена, число комнат, высота потолков. Также выделите факторы, которые влияют на стоимость квартиры (число комнат, этаж, удалённость от центра, дата размещения объявления). Сделайте выводы. Отличаются ли они от общих выводов по всему городу?"
   ]
  },
  {
   "cell_type": "code",
   "execution_count": 56,
   "metadata": {},
   "outputs": [],
   "source": [
    "center_spb_data = data.query('cityCenters_nearest_km <= 7 and locality_name == \"Санкт-Петербург\"')"
   ]
  },
  {
   "cell_type": "markdown",
   "metadata": {},
   "source": [
    "  **Зависимость от площади**"
   ]
  },
  {
   "cell_type": "code",
   "execution_count": 57,
   "metadata": {},
   "outputs": [
    {
     "data": {
      "text/html": [
       "<div>\n",
       "<style scoped>\n",
       "    .dataframe tbody tr th:only-of-type {\n",
       "        vertical-align: middle;\n",
       "    }\n",
       "\n",
       "    .dataframe tbody tr th {\n",
       "        vertical-align: top;\n",
       "    }\n",
       "\n",
       "    .dataframe thead th {\n",
       "        text-align: right;\n",
       "    }\n",
       "</style>\n",
       "<table border=\"1\" class=\"dataframe\">\n",
       "  <thead>\n",
       "    <tr style=\"text-align: right;\">\n",
       "      <th></th>\n",
       "      <th>mean</th>\n",
       "      <th>count</th>\n",
       "      <th>median</th>\n",
       "    </tr>\n",
       "    <tr>\n",
       "      <th>total_area</th>\n",
       "      <th></th>\n",
       "      <th></th>\n",
       "      <th></th>\n",
       "    </tr>\n",
       "  </thead>\n",
       "  <tbody>\n",
       "    <tr>\n",
       "      <th>401.00</th>\n",
       "      <td>1000748.0</td>\n",
       "      <td>1</td>\n",
       "      <td>1000748.0</td>\n",
       "    </tr>\n",
       "    <tr>\n",
       "      <th>187.50</th>\n",
       "      <td>927302.0</td>\n",
       "      <td>2</td>\n",
       "      <td>927302.0</td>\n",
       "    </tr>\n",
       "    <tr>\n",
       "      <th>285.70</th>\n",
       "      <td>857542.0</td>\n",
       "      <td>1</td>\n",
       "      <td>857542.0</td>\n",
       "    </tr>\n",
       "    <tr>\n",
       "      <th>268.00</th>\n",
       "      <td>712201.0</td>\n",
       "      <td>1</td>\n",
       "      <td>712201.0</td>\n",
       "    </tr>\n",
       "    <tr>\n",
       "      <th>242.40</th>\n",
       "      <td>660000.0</td>\n",
       "      <td>1</td>\n",
       "      <td>660000.0</td>\n",
       "    </tr>\n",
       "    <tr>\n",
       "      <th>...</th>\n",
       "      <td>...</td>\n",
       "      <td>...</td>\n",
       "      <td>...</td>\n",
       "    </tr>\n",
       "    <tr>\n",
       "      <th>263.80</th>\n",
       "      <td>60928.0</td>\n",
       "      <td>1</td>\n",
       "      <td>60928.0</td>\n",
       "    </tr>\n",
       "    <tr>\n",
       "      <th>238.26</th>\n",
       "      <td>56849.0</td>\n",
       "      <td>1</td>\n",
       "      <td>56849.0</td>\n",
       "    </tr>\n",
       "    <tr>\n",
       "      <th>255.00</th>\n",
       "      <td>49019.0</td>\n",
       "      <td>1</td>\n",
       "      <td>49019.0</td>\n",
       "    </tr>\n",
       "    <tr>\n",
       "      <th>151.80</th>\n",
       "      <td>28919.0</td>\n",
       "      <td>1</td>\n",
       "      <td>28919.0</td>\n",
       "    </tr>\n",
       "    <tr>\n",
       "      <th>138.70</th>\n",
       "      <td>15861.0</td>\n",
       "      <td>1</td>\n",
       "      <td>15861.0</td>\n",
       "    </tr>\n",
       "  </tbody>\n",
       "</table>\n",
       "<p>1179 rows × 3 columns</p>\n",
       "</div>"
      ],
      "text/plain": [
       "                 mean  count     median\n",
       "total_area                             \n",
       "401.00      1000748.0      1  1000748.0\n",
       "187.50       927302.0      2   927302.0\n",
       "285.70       857542.0      1   857542.0\n",
       "268.00       712201.0      1   712201.0\n",
       "242.40       660000.0      1   660000.0\n",
       "...               ...    ...        ...\n",
       "263.80        60928.0      1    60928.0\n",
       "238.26        56849.0      1    56849.0\n",
       "255.00        49019.0      1    49019.0\n",
       "151.80        28919.0      1    28919.0\n",
       "138.70        15861.0      1    15861.0\n",
       "\n",
       "[1179 rows x 3 columns]"
      ]
     },
     "execution_count": 57,
     "metadata": {},
     "output_type": "execute_result"
    },
    {
     "data": {
      "image/png": "[encoded data removed]",
      "text/plain": [
       "<Figure size 432x288 with 1 Axes>"
      ]
     },
     "metadata": {
      "needs_background": "light"
     },
     "output_type": "display_data"
    }
   ],
   "source": [
    "center_spb_area = center_spb_data.pivot_table(index = 'total_area', values = 'price_per_square_meter', aggfunc = ['mean', 'count', 'median'])\n",
    "center_spb_area.columns = ['mean', 'count', 'median']\n",
    "center_spb_area.plot(y = 'median', style = 'o')\n",
    "\n",
    "center_spb_area.sort_values('median', ascending = False)"
   ]
  },
  {
   "cell_type": "markdown",
   "metadata": {},
   "source": [
    "    Четкой зависимости не прослеживается"
   ]
  },
  {
   "cell_type": "markdown",
   "metadata": {},
   "source": [
    "**Зависимость от числа комнат**"
   ]
  },
  {
   "cell_type": "code",
   "execution_count": 58,
   "metadata": {},
   "outputs": [
    {
     "data": {
      "text/plain": [
       "0.006432414195472278"
      ]
     },
     "execution_count": 58,
     "metadata": {},
     "output_type": "execute_result"
    },
    {
     "data": {
      "image/png": "[encoded data removed]",
      "text/plain": [
       "<Figure size 432x288 with 1 Axes>"
      ]
     },
     "metadata": {
      "needs_background": "light"
     },
     "output_type": "display_data"
    }
   ],
   "source": [
    "center_spb_rooms = center_spb_data.pivot_table(index = 'rooms', values = 'price_per_square_meter', aggfunc = ['mean', 'count', 'median'])\n",
    "center_spb_rooms.columns = ['mean', 'count', 'median']\n",
    "center_spb_rooms.query('count > 50').plot(y = 'median')\n",
    "\n",
    "center_spb_rooms.query('count > 50').sort_values('median', ascending = False)\n",
    "\n",
    "center_spb_data['rooms'].corr(center_spb_data['price_per_square_meter'])"
   ]
  },
  {
   "cell_type": "markdown",
   "metadata": {},
   "source": [
    "    В центре чем меньше комнат тем дороже жилье"
   ]
  },
  {
   "cell_type": "markdown",
   "metadata": {},
   "source": [
    "**Зависимость стоимости квадратного метра от этажа.**"
   ]
  },
  {
   "cell_type": "code",
   "execution_count": 59,
   "metadata": {},
   "outputs": [
    {
     "data": {
      "text/html": [
       "<div>\n",
       "<style scoped>\n",
       "    .dataframe tbody tr th:only-of-type {\n",
       "        vertical-align: middle;\n",
       "    }\n",
       "\n",
       "    .dataframe tbody tr th {\n",
       "        vertical-align: top;\n",
       "    }\n",
       "\n",
       "    .dataframe thead th {\n",
       "        text-align: right;\n",
       "    }\n",
       "</style>\n",
       "<table border=\"1\" class=\"dataframe\">\n",
       "  <thead>\n",
       "    <tr style=\"text-align: right;\">\n",
       "      <th></th>\n",
       "      <th>mean</th>\n",
       "      <th>count</th>\n",
       "      <th>median</th>\n",
       "    </tr>\n",
       "    <tr>\n",
       "      <th>floor_category</th>\n",
       "      <th></th>\n",
       "      <th></th>\n",
       "      <th></th>\n",
       "    </tr>\n",
       "  </thead>\n",
       "  <tbody>\n",
       "    <tr>\n",
       "      <th>первый</th>\n",
       "      <td>122401.977887</td>\n",
       "      <td>407</td>\n",
       "      <td>108653.0</td>\n",
       "    </tr>\n",
       "    <tr>\n",
       "      <th>последний</th>\n",
       "      <td>144362.099693</td>\n",
       "      <td>652</td>\n",
       "      <td>116872.5</td>\n",
       "    </tr>\n",
       "  </tbody>\n",
       "</table>\n",
       "</div>"
      ],
      "text/plain": [
       "                         mean  count    median\n",
       "floor_category                                \n",
       "первый          122401.977887    407  108653.0\n",
       "последний       144362.099693    652  116872.5"
      ]
     },
     "execution_count": 59,
     "metadata": {},
     "output_type": "execute_result"
    },
    {
     "data": {
      "image/png": "[encoded data removed]",
      "text/plain": [
       "<Figure size 432x288 with 1 Axes>"
      ]
     },
     "metadata": {
      "needs_background": "light"
     },
     "output_type": "display_data"
    }
   ],
   "source": [
    "center_spb_floor_category = center_spb_data.query('floor_category != \"другой\"').pivot_table(index = 'floor_category', values = 'price_per_square_meter', aggfunc = ['mean', 'count', 'median'])\n",
    "center_spb_floor_category.columns = ['mean', 'count', 'median']\n",
    "center_spb_floor_category.plot(y = 'median')\n",
    "center_spb_floor_category"
   ]
  },
  {
   "cell_type": "markdown",
   "metadata": {},
   "source": [
    "    Как и в общем обьеме данных, никто не хочет, чтобы к нему в окна заглядывали."
   ]
  },
  {
   "cell_type": "markdown",
   "metadata": {},
   "source": [
    "**Зависимость стоимости квадратного метра от удаленности от центра.**"
   ]
  },
  {
   "cell_type": "code",
   "execution_count": 60,
   "metadata": {},
   "outputs": [
    {
     "data": {
      "text/plain": [
       "-0.031159780917742616"
      ]
     },
     "execution_count": 60,
     "metadata": {},
     "output_type": "execute_result"
    },
    {
     "data": {
      "image/png": "[encoded data removed]",
      "text/plain": [
       "<Figure size 432x288 with 1 Axes>"
      ]
     },
     "metadata": {
      "needs_background": "light"
     },
     "output_type": "display_data"
    }
   ],
   "source": [
    "center_spb_data.plot(kind = 'scatter', y = 'price_per_square_meter', x = 'cityCenters_nearest', alpha = 0.3)\n",
    "\n",
    "center_spb_data['cityCenters_nearest'].corr(center_spb_data['price_per_square_meter'])"
   ]
  },
  {
   "cell_type": "markdown",
   "metadata": {},
   "source": [
    "    Большой зависимости нет, видим, что количество обьектов по мере удаления от километра и далее растет, но стоимость, за исключением некоторых обьектов не меняется."
   ]
  },
  {
   "cell_type": "markdown",
   "metadata": {},
   "source": [
    "**Зависимость стоимости квадратного метра от даты размещения объявления.**"
   ]
  },
  {
   "cell_type": "code",
   "execution_count": 61,
   "metadata": {},
   "outputs": [
    {
     "data": {
      "text/html": [
       "<div>\n",
       "<style scoped>\n",
       "    .dataframe tbody tr th:only-of-type {\n",
       "        vertical-align: middle;\n",
       "    }\n",
       "\n",
       "    .dataframe tbody tr th {\n",
       "        vertical-align: top;\n",
       "    }\n",
       "\n",
       "    .dataframe thead th {\n",
       "        text-align: right;\n",
       "    }\n",
       "</style>\n",
       "<table border=\"1\" class=\"dataframe\">\n",
       "  <thead>\n",
       "    <tr style=\"text-align: right;\">\n",
       "      <th></th>\n",
       "      <th>mean</th>\n",
       "      <th>count</th>\n",
       "      <th>median</th>\n",
       "    </tr>\n",
       "    <tr>\n",
       "      <th>weekday_exposition</th>\n",
       "      <th></th>\n",
       "      <th></th>\n",
       "      <th></th>\n",
       "    </tr>\n",
       "  </thead>\n",
       "  <tbody>\n",
       "    <tr>\n",
       "      <th>6</th>\n",
       "      <td>145744.349282</td>\n",
       "      <td>209</td>\n",
       "      <td>129032.0</td>\n",
       "    </tr>\n",
       "    <tr>\n",
       "      <th>5</th>\n",
       "      <td>155755.432624</td>\n",
       "      <td>282</td>\n",
       "      <td>128567.0</td>\n",
       "    </tr>\n",
       "    <tr>\n",
       "      <th>0</th>\n",
       "      <td>144090.719643</td>\n",
       "      <td>560</td>\n",
       "      <td>125816.0</td>\n",
       "    </tr>\n",
       "    <tr>\n",
       "      <th>4</th>\n",
       "      <td>142798.363636</td>\n",
       "      <td>627</td>\n",
       "      <td>124705.0</td>\n",
       "    </tr>\n",
       "    <tr>\n",
       "      <th>2</th>\n",
       "      <td>142296.199372</td>\n",
       "      <td>637</td>\n",
       "      <td>124590.0</td>\n",
       "    </tr>\n",
       "    <tr>\n",
       "      <th>3</th>\n",
       "      <td>143849.671916</td>\n",
       "      <td>762</td>\n",
       "      <td>121307.5</td>\n",
       "    </tr>\n",
       "    <tr>\n",
       "      <th>1</th>\n",
       "      <td>143645.850318</td>\n",
       "      <td>628</td>\n",
       "      <td>120865.0</td>\n",
       "    </tr>\n",
       "  </tbody>\n",
       "</table>\n",
       "</div>"
      ],
      "text/plain": [
       "                             mean  count    median\n",
       "weekday_exposition                                \n",
       "6                   145744.349282    209  129032.0\n",
       "5                   155755.432624    282  128567.0\n",
       "0                   144090.719643    560  125816.0\n",
       "4                   142798.363636    627  124705.0\n",
       "2                   142296.199372    637  124590.0\n",
       "3                   143849.671916    762  121307.5\n",
       "1                   143645.850318    628  120865.0"
      ]
     },
     "execution_count": 61,
     "metadata": {},
     "output_type": "execute_result"
    },
    {
     "data": {
      "image/png": "[encoded data removed]",
      "text/plain": [
       "<Figure size 432x288 with 1 Axes>"
      ]
     },
     "metadata": {
      "needs_background": "light"
     },
     "output_type": "display_data"
    }
   ],
   "source": [
    "center_spb_weekday_exposition = center_spb_data.pivot_table(index = 'weekday_exposition', values = 'price_per_square_meter', aggfunc = ['mean', 'count', 'median'])\n",
    "center_spb_weekday_exposition.columns = ['mean', 'count', 'median']\n",
    "center_spb_weekday_exposition.plot(y = 'median')\n",
    "\n",
    "center_spb_weekday_exposition.sort_values('median', ascending = False)"
   ]
  },
  {
   "cell_type": "code",
   "execution_count": 62,
   "metadata": {},
   "outputs": [
    {
     "data": {
      "text/html": [
       "<div>\n",
       "<style scoped>\n",
       "    .dataframe tbody tr th:only-of-type {\n",
       "        vertical-align: middle;\n",
       "    }\n",
       "\n",
       "    .dataframe tbody tr th {\n",
       "        vertical-align: top;\n",
       "    }\n",
       "\n",
       "    .dataframe thead th {\n",
       "        text-align: right;\n",
       "    }\n",
       "</style>\n",
       "<table border=\"1\" class=\"dataframe\">\n",
       "  <thead>\n",
       "    <tr style=\"text-align: right;\">\n",
       "      <th></th>\n",
       "      <th>mean</th>\n",
       "      <th>count</th>\n",
       "      <th>median</th>\n",
       "    </tr>\n",
       "    <tr>\n",
       "      <th>month_exposition</th>\n",
       "      <th></th>\n",
       "      <th></th>\n",
       "      <th></th>\n",
       "    </tr>\n",
       "  </thead>\n",
       "  <tbody>\n",
       "    <tr>\n",
       "      <th>3</th>\n",
       "      <td>146257.926582</td>\n",
       "      <td>395</td>\n",
       "      <td>130890.0</td>\n",
       "    </tr>\n",
       "    <tr>\n",
       "      <th>1</th>\n",
       "      <td>146397.283186</td>\n",
       "      <td>226</td>\n",
       "      <td>130366.5</td>\n",
       "    </tr>\n",
       "    <tr>\n",
       "      <th>4</th>\n",
       "      <td>153952.879310</td>\n",
       "      <td>348</td>\n",
       "      <td>126337.0</td>\n",
       "    </tr>\n",
       "    <tr>\n",
       "      <th>8</th>\n",
       "      <td>145004.849265</td>\n",
       "      <td>272</td>\n",
       "      <td>125598.0</td>\n",
       "    </tr>\n",
       "    <tr>\n",
       "      <th>9</th>\n",
       "      <td>144023.092879</td>\n",
       "      <td>323</td>\n",
       "      <td>123966.0</td>\n",
       "    </tr>\n",
       "    <tr>\n",
       "      <th>11</th>\n",
       "      <td>140401.517520</td>\n",
       "      <td>371</td>\n",
       "      <td>122916.0</td>\n",
       "    </tr>\n",
       "    <tr>\n",
       "      <th>5</th>\n",
       "      <td>137914.855769</td>\n",
       "      <td>208</td>\n",
       "      <td>122336.5</td>\n",
       "    </tr>\n",
       "    <tr>\n",
       "      <th>2</th>\n",
       "      <td>143839.647783</td>\n",
       "      <td>406</td>\n",
       "      <td>121355.0</td>\n",
       "    </tr>\n",
       "    <tr>\n",
       "      <th>12</th>\n",
       "      <td>148255.062500</td>\n",
       "      <td>256</td>\n",
       "      <td>121240.5</td>\n",
       "    </tr>\n",
       "    <tr>\n",
       "      <th>10</th>\n",
       "      <td>138194.887097</td>\n",
       "      <td>310</td>\n",
       "      <td>121076.5</td>\n",
       "    </tr>\n",
       "    <tr>\n",
       "      <th>6</th>\n",
       "      <td>144309.185430</td>\n",
       "      <td>302</td>\n",
       "      <td>119860.0</td>\n",
       "    </tr>\n",
       "    <tr>\n",
       "      <th>7</th>\n",
       "      <td>142817.427083</td>\n",
       "      <td>288</td>\n",
       "      <td>118922.5</td>\n",
       "    </tr>\n",
       "  </tbody>\n",
       "</table>\n",
       "</div>"
      ],
      "text/plain": [
       "                           mean  count    median\n",
       "month_exposition                                \n",
       "3                 146257.926582    395  130890.0\n",
       "1                 146397.283186    226  130366.5\n",
       "4                 153952.879310    348  126337.0\n",
       "8                 145004.849265    272  125598.0\n",
       "9                 144023.092879    323  123966.0\n",
       "11                140401.517520    371  122916.0\n",
       "5                 137914.855769    208  122336.5\n",
       "2                 143839.647783    406  121355.0\n",
       "12                148255.062500    256  121240.5\n",
       "10                138194.887097    310  121076.5\n",
       "6                 144309.185430    302  119860.0\n",
       "7                 142817.427083    288  118922.5"
      ]
     },
     "execution_count": 62,
     "metadata": {},
     "output_type": "execute_result"
    },
    {
     "data": {
      "image/png": "[encoded data removed]",
      "text/plain": [
       "<Figure size 432x288 with 1 Axes>"
      ]
     },
     "metadata": {
      "needs_background": "light"
     },
     "output_type": "display_data"
    }
   ],
   "source": [
    "center_spb_month_exposition = center_spb_data.pivot_table(index = 'month_exposition', values = 'price_per_square_meter', aggfunc = ['mean', 'count', 'median'])\n",
    "center_spb_month_exposition.columns = ['mean', 'count', 'median']\n",
    "center_spb_month_exposition.plot(y = 'median')\n",
    "\n",
    "center_spb_month_exposition.sort_values('median', ascending = False)"
   ]
  },
  {
   "cell_type": "code",
   "execution_count": 63,
   "metadata": {},
   "outputs": [
    {
     "data": {
      "text/html": [
       "<div>\n",
       "<style scoped>\n",
       "    .dataframe tbody tr th:only-of-type {\n",
       "        vertical-align: middle;\n",
       "    }\n",
       "\n",
       "    .dataframe tbody tr th {\n",
       "        vertical-align: top;\n",
       "    }\n",
       "\n",
       "    .dataframe thead th {\n",
       "        text-align: right;\n",
       "    }\n",
       "</style>\n",
       "<table border=\"1\" class=\"dataframe\">\n",
       "  <thead>\n",
       "    <tr style=\"text-align: right;\">\n",
       "      <th></th>\n",
       "      <th>mean</th>\n",
       "      <th>count</th>\n",
       "      <th>median</th>\n",
       "    </tr>\n",
       "    <tr>\n",
       "      <th>year_exposition</th>\n",
       "      <th></th>\n",
       "      <th></th>\n",
       "      <th></th>\n",
       "    </tr>\n",
       "  </thead>\n",
       "  <tbody>\n",
       "    <tr>\n",
       "      <th>2019</th>\n",
       "      <td>159668.355000</td>\n",
       "      <td>400</td>\n",
       "      <td>135741.5</td>\n",
       "    </tr>\n",
       "    <tr>\n",
       "      <th>2018</th>\n",
       "      <td>139956.342105</td>\n",
       "      <td>1102</td>\n",
       "      <td>124496.0</td>\n",
       "    </tr>\n",
       "    <tr>\n",
       "      <th>2017</th>\n",
       "      <td>142463.898343</td>\n",
       "      <td>1328</td>\n",
       "      <td>121644.0</td>\n",
       "    </tr>\n",
       "    <tr>\n",
       "      <th>2015</th>\n",
       "      <td>144722.881098</td>\n",
       "      <td>328</td>\n",
       "      <td>119102.0</td>\n",
       "    </tr>\n",
       "    <tr>\n",
       "      <th>2016</th>\n",
       "      <td>144291.636538</td>\n",
       "      <td>520</td>\n",
       "      <td>119000.5</td>\n",
       "    </tr>\n",
       "  </tbody>\n",
       "</table>\n",
       "</div>"
      ],
      "text/plain": [
       "                          mean  count    median\n",
       "year_exposition                                \n",
       "2019             159668.355000    400  135741.5\n",
       "2018             139956.342105   1102  124496.0\n",
       "2017             142463.898343   1328  121644.0\n",
       "2015             144722.881098    328  119102.0\n",
       "2016             144291.636538    520  119000.5"
      ]
     },
     "execution_count": 63,
     "metadata": {},
     "output_type": "execute_result"
    },
    {
     "data": {
      "image/png": "[encoded data removed]",
      "text/plain": [
       "<Figure size 432x288 with 1 Axes>"
      ]
     },
     "metadata": {
      "needs_background": "light"
     },
     "output_type": "display_data"
    }
   ],
   "source": [
    "center_spb_year_exposition = center_spb_data.pivot_table(index = 'year_exposition', values = 'price_per_square_meter', aggfunc = ['mean', 'count', 'median'])\n",
    "center_spb_year_exposition.columns = ['mean', 'count', 'median']\n",
    "center_spb_year_exposition.query('count > 50').plot(y = 'median')\n",
    "\n",
    "center_spb_year_exposition.query('count > 50').sort_values('median', ascending = False)"
   ]
  },
  {
   "cell_type": "markdown",
   "metadata": {},
   "source": [
    "    Интересно что в центре по другому устроена деловая активность в зависимости от дней недели, рост цен к пятнице и субботею\n",
    "    По месяцам все как и ранее, периоды отпусков снижают активность.\n",
    "    Цены от года к году растут, думаю это связано с тем, что недвижимость в центре скорее относится к премиум сегменту и она всегда растет в цене, так как новых обьектов не строится, рпедложение сильно ограничено, а жить в историческом центре все хотят"
   ]
  },
  {
   "cell_type": "markdown",
   "metadata": {},
   "source": [
    "## Общий вывод"
   ]
  },
  {
   "cell_type": "markdown",
   "metadata": {},
   "source": [
    "    Мы обработали пропущенные значения там, где это необходимо, заменили типы данных для удобной работы. Посчитали и добавили в таблицу цену квадратного метра жилья, вывели из даты дни недели, месяцы и года размещения объявлений, добавили категории по этажам квартир. Изучили следующие параметры на наличие выбивающихся значений - площадь, цена, число комнат, высота потолков. Были определены аномалии в данных параметрах. Изучая время продажи квартир мы выявили, что большое количество объявлений было скорее всего снято с Яндекс Недвижимость и дату из снятия нельзя считать датой продажи квартиры, \n",
    "    поэтому, изучая средние сроки продажи квартир - данные значения не учитывались. Мы выявили, что нормальные значения продажи квартир варьируются от 1 до 600 дней. На стоимость квадратного метра квартиры больше всего влияют количество комнат, этаж квартиры, близость к центру. Незначительно на стоимость квадратного метра влияют день, месяц, год размещения и общая площадь. Мы выявили центр города в радиусе 3 километров.\n",
    "\n",
    "**В будущем при проведения исследований рынка недвижимости нужно посвятить больше времени сегментации рынка на этапе подготовки данных, использовать больше вводных по обьектам, а именно первичный и вторичный рынок, определению районов(кроме центра), где стоимость жилья выше, относится к другому классу и торгуется дороже чем остальные обьекты на первичном и вторичном рынке.**"
   ]
  },
  {
   "cell_type": "code",
   "execution_count": 64,
   "metadata": {},
   "outputs": [
    {
     "data": {
      "text/html": [
       "<div>\n",
       "<style scoped>\n",
       "    .dataframe tbody tr th:only-of-type {\n",
       "        vertical-align: middle;\n",
       "    }\n",
       "\n",
       "    .dataframe tbody tr th {\n",
       "        vertical-align: top;\n",
       "    }\n",
       "\n",
       "    .dataframe thead th {\n",
       "        text-align: right;\n",
       "    }\n",
       "</style>\n",
       "<table border=\"1\" class=\"dataframe\">\n",
       "  <thead>\n",
       "    <tr style=\"text-align: right;\">\n",
       "      <th></th>\n",
       "      <th>mean</th>\n",
       "      <th>count</th>\n",
       "      <th>median</th>\n",
       "    </tr>\n",
       "    <tr>\n",
       "      <th>month_exposition</th>\n",
       "      <th></th>\n",
       "      <th></th>\n",
       "      <th></th>\n",
       "    </tr>\n",
       "  </thead>\n",
       "  <tbody>\n",
       "    <tr>\n",
       "      <th>5</th>\n",
       "      <td>237.358779</td>\n",
       "      <td>1048</td>\n",
       "      <td>151.0</td>\n",
       "    </tr>\n",
       "    <tr>\n",
       "      <th>4</th>\n",
       "      <td>213.639885</td>\n",
       "      <td>1394</td>\n",
       "      <td>143.0</td>\n",
       "    </tr>\n",
       "    <tr>\n",
       "      <th>3</th>\n",
       "      <td>220.275959</td>\n",
       "      <td>1772</td>\n",
       "      <td>131.0</td>\n",
       "    </tr>\n",
       "    <tr>\n",
       "      <th>6</th>\n",
       "      <td>211.203581</td>\n",
       "      <td>1508</td>\n",
       "      <td>131.0</td>\n",
       "    </tr>\n",
       "    <tr>\n",
       "      <th>12</th>\n",
       "      <td>247.203162</td>\n",
       "      <td>1265</td>\n",
       "      <td>126.0</td>\n",
       "    </tr>\n",
       "    <tr>\n",
       "      <th>2</th>\n",
       "      <td>186.103431</td>\n",
       "      <td>2011</td>\n",
       "      <td>115.0</td>\n",
       "    </tr>\n",
       "    <tr>\n",
       "      <th>1</th>\n",
       "      <td>207.391459</td>\n",
       "      <td>1124</td>\n",
       "      <td>113.5</td>\n",
       "    </tr>\n",
       "    <tr>\n",
       "      <th>7</th>\n",
       "      <td>191.796403</td>\n",
       "      <td>1390</td>\n",
       "      <td>113.5</td>\n",
       "    </tr>\n",
       "    <tr>\n",
       "      <th>9</th>\n",
       "      <td>176.324822</td>\n",
       "      <td>1684</td>\n",
       "      <td>102.0</td>\n",
       "    </tr>\n",
       "    <tr>\n",
       "      <th>10</th>\n",
       "      <td>170.588701</td>\n",
       "      <td>1770</td>\n",
       "      <td>101.5</td>\n",
       "    </tr>\n",
       "    <tr>\n",
       "      <th>8</th>\n",
       "      <td>165.556701</td>\n",
       "      <td>1455</td>\n",
       "      <td>96.0</td>\n",
       "    </tr>\n",
       "    <tr>\n",
       "      <th>11</th>\n",
       "      <td>162.225625</td>\n",
       "      <td>1959</td>\n",
       "      <td>82.0</td>\n",
       "    </tr>\n",
       "  </tbody>\n",
       "</table>\n",
       "</div>"
      ],
      "text/plain": [
       "                        mean  count  median\n",
       "month_exposition                           \n",
       "5                 237.358779   1048   151.0\n",
       "4                 213.639885   1394   143.0\n",
       "3                 220.275959   1772   131.0\n",
       "6                 211.203581   1508   131.0\n",
       "12                247.203162   1265   126.0\n",
       "2                 186.103431   2011   115.0\n",
       "1                 207.391459   1124   113.5\n",
       "7                 191.796403   1390   113.5\n",
       "9                 176.324822   1684   102.0\n",
       "10                170.588701   1770   101.5\n",
       "8                 165.556701   1455    96.0\n",
       "11                162.225625   1959    82.0"
      ]
     },
     "execution_count": 64,
     "metadata": {},
     "output_type": "execute_result"
    },
    {
     "data": {
      "image/png": "[encoded data removed]",
      "text/plain": [
       "<Figure size 432x288 with 1 Axes>"
      ]
     },
     "metadata": {
      "needs_background": "light"
     },
     "output_type": "display_data"
    }
   ],
   "source": [
    "days_exp_by_month = good_data.pivot_table(index = 'month_exposition', values = 'days_exposition', aggfunc = ['mean', 'count', 'median'])\n",
    "days_exp_by_month.columns = ['mean', 'count', 'median']\n",
    "days_exp_by_month.plot(y = 'median')\n",
    "\n",
    "days_exp_by_month.sort_values('median', ascending = False)"
   ]
  },
  {
   "cell_type": "code",
   "execution_count": 65,
   "metadata": {},
   "outputs": [
    {
     "data": {
      "text/html": [
       "<div>\n",
       "<style scoped>\n",
       "    .dataframe tbody tr th:only-of-type {\n",
       "        vertical-align: middle;\n",
       "    }\n",
       "\n",
       "    .dataframe tbody tr th {\n",
       "        vertical-align: top;\n",
       "    }\n",
       "\n",
       "    .dataframe thead th {\n",
       "        text-align: right;\n",
       "    }\n",
       "</style>\n",
       "<table border=\"1\" class=\"dataframe\">\n",
       "  <thead>\n",
       "    <tr style=\"text-align: right;\">\n",
       "      <th></th>\n",
       "      <th>mean</th>\n",
       "      <th>count</th>\n",
       "      <th>median</th>\n",
       "    </tr>\n",
       "    <tr>\n",
       "      <th>weekday_exposition</th>\n",
       "      <th></th>\n",
       "      <th></th>\n",
       "      <th></th>\n",
       "    </tr>\n",
       "  </thead>\n",
       "  <tbody>\n",
       "    <tr>\n",
       "      <th>0</th>\n",
       "      <td>199.006560</td>\n",
       "      <td>2744</td>\n",
       "      <td>117.0</td>\n",
       "    </tr>\n",
       "    <tr>\n",
       "      <th>2</th>\n",
       "      <td>205.258785</td>\n",
       "      <td>3045</td>\n",
       "      <td>117.0</td>\n",
       "    </tr>\n",
       "    <tr>\n",
       "      <th>3</th>\n",
       "      <td>201.009094</td>\n",
       "      <td>3409</td>\n",
       "      <td>116.0</td>\n",
       "    </tr>\n",
       "    <tr>\n",
       "      <th>1</th>\n",
       "      <td>198.991071</td>\n",
       "      <td>3248</td>\n",
       "      <td>114.0</td>\n",
       "    </tr>\n",
       "    <tr>\n",
       "      <th>5</th>\n",
       "      <td>185.440191</td>\n",
       "      <td>1463</td>\n",
       "      <td>114.0</td>\n",
       "    </tr>\n",
       "    <tr>\n",
       "      <th>4</th>\n",
       "      <td>184.023780</td>\n",
       "      <td>3196</td>\n",
       "      <td>108.5</td>\n",
       "    </tr>\n",
       "    <tr>\n",
       "      <th>6</th>\n",
       "      <td>186.298039</td>\n",
       "      <td>1275</td>\n",
       "      <td>104.0</td>\n",
       "    </tr>\n",
       "  </tbody>\n",
       "</table>\n",
       "</div>"
      ],
      "text/plain": [
       "                          mean  count  median\n",
       "weekday_exposition                           \n",
       "0                   199.006560   2744   117.0\n",
       "2                   205.258785   3045   117.0\n",
       "3                   201.009094   3409   116.0\n",
       "1                   198.991071   3248   114.0\n",
       "5                   185.440191   1463   114.0\n",
       "4                   184.023780   3196   108.5\n",
       "6                   186.298039   1275   104.0"
      ]
     },
     "execution_count": 65,
     "metadata": {},
     "output_type": "execute_result"
    },
    {
     "data": {
      "image/png": "[encoded data removed]",
      "text/plain": [
       "<Figure size 432x288 with 1 Axes>"
      ]
     },
     "metadata": {
      "needs_background": "light"
     },
     "output_type": "display_data"
    }
   ],
   "source": [
    "days_exp_by_days = good_data.pivot_table(index = 'weekday_exposition', values = 'days_exposition', aggfunc = ['mean', 'count', 'median'])\n",
    "days_exp_by_days.columns = ['mean', 'count', 'median']\n",
    "days_exp_by_days.plot(y = 'median')\n",
    "\n",
    "days_exp_by_days.sort_values('median', ascending = False)\n"
   ]
  },
  {
   "cell_type": "markdown",
   "metadata": {},
   "source": [
    "## Чек-лист готовности проекта\n",
    "\n",
    "Поставьте 'x' в выполненных пунктах. Далее нажмите Shift+Enter."
   ]
  },
  {
   "cell_type": "markdown",
   "metadata": {},
   "source": [
    "- [x]  открыт файл\n",
    "- [x]  файлы изучены (выведены первые строки, метод `info()`)\n",
    "- [x]  определены пропущенные значения\n",
    "- [x]  заполнены пропущенные значения\n",
    "- [x]  есть пояснение, какие пропущенные значения обнаружены\n",
    "- [x]  изменены типы данных\n",
    "- [x]  есть пояснение, в каких столбцах изменены типы и почему\n",
    "- [x]  посчитано и добавлено в таблицу: цена квадратного метра\n",
    "- [x]  посчитано и добавлено в таблицу: день недели, месяц и год публикации объявления\n",
    "- [x]  посчитано и добавлено в таблицу: этаж квартиры; варианты — первый, последний, другой\n",
    "- [x]  посчитано и добавлено в таблицу: соотношение жилой и общей площади, а также отношение площади кухни к общей\n",
    "- [x]  изучены следующие параметры: площадь, цена, число комнат, высота потолков\n",
    "- [x]  построены гистограммы для каждого параметра\n",
    "- [x]  выполнено задание: «Изучите время продажи квартиры. Постройте гистограмму. Посчитайте среднее и медиану. Опишите, сколько обычно занимает продажа. Когда можно считать, что продажи прошли очень быстро, а когда необычно долго?»\n",
    "- [x]  выполнено задание: «Уберите редкие и выбивающиеся значения. Опишите, какие особенности обнаружили».\n",
    "- [x]  выполнено задание: «Какие факторы больше всего влияют на стоимость квартиры? Изучите, зависит ли цена от квадратного метра, числа комнат, этажа (первого или последнего), удалённости от центра. Также изучите зависимость от даты размещения: дня недели, месяца и года». \n",
    "- [x]  выполнено задание: «Выберите 10 населённых пунктов с наибольшим числом объявлений. Посчитайте среднюю цену квадратного метра в этих населённых пунктах. Выделите населённые пункты с самой высокой и низкой стоимостью жилья. Эти данные можно найти по имени в столбце `locality_name`».\n",
    "- [x]  выполнено задание: «Изучите предложения квартир: для каждой квартиры есть информация о расстоянии до центра. Выделите квартиры в Санкт-Петербурге (`locality_name`). Ваша задача — выяснить, какая область входит в центр. Создайте столбец с расстоянием до центра в километрах: округлите до целых значений. После этого посчитайте среднюю цену для каждого километра. Постройте график: он должен показывать, как цена зависит от удалённости от центра. Определите границу, где график сильно меняется — это и будет центральная зона».\n",
    "- [x]  выполнено задание: «Выделите сегмент квартир в центре. Проанализируйте эту территорию и изучите следующие параметры: площадь, цена, число комнат, высота потолков. Также выделите факторы, которые влияют на стоимость квартиры (число комнат, этаж, удалённость от центра, дата размещения объявления). Сделайте выводы. Отличаются ли они от общих выводов по всей базе?»\n",
    "- [x]  в каждом этапе есть выводы\n",
    "- [x]  есть общий вывод"
   ]
  }
 ],
 "metadata": {
  "ExecuteTimeLog": [
   {
    "duration": 544,
    "start_time": "2022-05-08T07:42:01.684Z"
   },
   {
    "duration": 14,
    "start_time": "2022-05-08T07:42:33.282Z"
   },
   {
    "duration": 69,
    "start_time": "2022-05-08T07:42:36.533Z"
   },
   {
    "duration": 14,
    "start_time": "2022-05-08T07:42:38.260Z"
   },
   {
    "duration": 40,
    "start_time": "2022-05-08T07:43:38.310Z"
   },
   {
    "duration": 5,
    "start_time": "2022-05-08T08:02:27.441Z"
   },
   {
    "duration": 4,
    "start_time": "2022-05-08T08:05:03.499Z"
   },
   {
    "duration": 8,
    "start_time": "2022-05-08T08:06:10.488Z"
   },
   {
    "duration": 4,
    "start_time": "2022-05-08T08:06:11.635Z"
   },
   {
    "duration": 29,
    "start_time": "2022-05-08T08:06:16.349Z"
   },
   {
    "duration": 27,
    "start_time": "2022-05-08T08:09:30.458Z"
   },
   {
    "duration": 26,
    "start_time": "2022-05-08T08:09:50.287Z"
   },
   {
    "duration": 27,
    "start_time": "2022-05-08T08:10:23.140Z"
   },
   {
    "duration": 8,
    "start_time": "2022-05-08T08:11:04.221Z"
   },
   {
    "duration": 9,
    "start_time": "2022-05-08T08:11:16.108Z"
   },
   {
    "duration": 9,
    "start_time": "2022-05-08T08:12:37.180Z"
   },
   {
    "duration": 426,
    "start_time": "2022-05-08T08:14:11.368Z"
   },
   {
    "duration": 15,
    "start_time": "2022-05-08T08:14:11.797Z"
   },
   {
    "duration": 37,
    "start_time": "2022-05-08T08:14:11.814Z"
   },
   {
    "duration": 8,
    "start_time": "2022-05-08T08:14:11.853Z"
   },
   {
    "duration": 12,
    "start_time": "2022-05-08T08:14:11.862Z"
   },
   {
    "duration": 8,
    "start_time": "2022-05-08T08:14:11.876Z"
   },
   {
    "duration": 7,
    "start_time": "2022-05-08T08:14:11.886Z"
   },
   {
    "duration": 7,
    "start_time": "2022-05-08T08:19:26.305Z"
   },
   {
    "duration": 10,
    "start_time": "2022-05-08T08:24:53.891Z"
   },
   {
    "duration": 8,
    "start_time": "2022-05-08T08:26:04.973Z"
   },
   {
    "duration": 545,
    "start_time": "2022-05-08T08:34:49.095Z"
   },
   {
    "duration": 143,
    "start_time": "2022-05-08T08:35:35.515Z"
   },
   {
    "duration": 6,
    "start_time": "2022-05-08T08:35:44.614Z"
   },
   {
    "duration": 134,
    "start_time": "2022-05-08T08:35:52.230Z"
   },
   {
    "duration": 6,
    "start_time": "2022-05-08T08:36:07.541Z"
   },
   {
    "duration": 176,
    "start_time": "2022-05-08T08:36:22.588Z"
   },
   {
    "duration": 139,
    "start_time": "2022-05-08T08:36:34.077Z"
   },
   {
    "duration": 192,
    "start_time": "2022-05-08T08:36:49.395Z"
   },
   {
    "duration": 154,
    "start_time": "2022-05-08T08:37:09.652Z"
   },
   {
    "duration": 131,
    "start_time": "2022-05-08T08:37:19.545Z"
   },
   {
    "duration": 158,
    "start_time": "2022-05-08T08:37:24.844Z"
   },
   {
    "duration": 228,
    "start_time": "2022-05-08T08:43:38.103Z"
   },
   {
    "duration": 116,
    "start_time": "2022-05-08T08:59:56.401Z"
   },
   {
    "duration": 470,
    "start_time": "2022-05-08T18:29:21.736Z"
   },
   {
    "duration": 19,
    "start_time": "2022-05-08T18:29:22.208Z"
   },
   {
    "duration": 39,
    "start_time": "2022-05-08T18:29:22.229Z"
   },
   {
    "duration": 8,
    "start_time": "2022-05-08T18:29:22.270Z"
   },
   {
    "duration": 8,
    "start_time": "2022-05-08T18:29:22.280Z"
   },
   {
    "duration": 12,
    "start_time": "2022-05-08T18:29:22.290Z"
   },
   {
    "duration": 760,
    "start_time": "2022-05-08T18:29:22.327Z"
   },
   {
    "duration": 5,
    "start_time": "2022-05-08T18:29:23.089Z"
   },
   {
    "duration": 8,
    "start_time": "2022-05-08T18:29:23.095Z"
   },
   {
    "duration": 7,
    "start_time": "2022-05-08T18:29:23.104Z"
   },
   {
    "duration": 143,
    "start_time": "2022-05-08T18:29:31.740Z"
   },
   {
    "duration": 510,
    "start_time": "2022-05-10T04:23:35.142Z"
   },
   {
    "duration": 17,
    "start_time": "2022-05-10T04:23:35.655Z"
   },
   {
    "duration": 37,
    "start_time": "2022-05-10T04:23:35.674Z"
   },
   {
    "duration": 10,
    "start_time": "2022-05-10T04:23:35.723Z"
   },
   {
    "duration": 6,
    "start_time": "2022-05-10T04:23:35.735Z"
   },
   {
    "duration": 11,
    "start_time": "2022-05-10T04:23:35.743Z"
   },
   {
    "duration": 625,
    "start_time": "2022-05-10T04:23:35.756Z"
   },
   {
    "duration": 7,
    "start_time": "2022-05-10T04:23:36.383Z"
   },
   {
    "duration": 10,
    "start_time": "2022-05-10T04:23:36.391Z"
   },
   {
    "duration": 20,
    "start_time": "2022-05-10T04:23:36.403Z"
   },
   {
    "duration": 39,
    "start_time": "2022-05-10T04:23:58.382Z"
   },
   {
    "duration": 41,
    "start_time": "2022-05-10T05:42:29.461Z"
   },
   {
    "duration": 45,
    "start_time": "2022-05-10T05:42:49.867Z"
   },
   {
    "duration": 78,
    "start_time": "2022-05-10T05:46:22.984Z"
   },
   {
    "duration": 196,
    "start_time": "2022-05-10T05:46:48.551Z"
   },
   {
    "duration": 5,
    "start_time": "2022-05-10T05:46:55.896Z"
   },
   {
    "duration": 5,
    "start_time": "2022-05-10T05:47:13.061Z"
   },
   {
    "duration": 241,
    "start_time": "2022-05-10T06:34:41.654Z"
   },
   {
    "duration": 10,
    "start_time": "2022-05-10T06:43:51.126Z"
   },
   {
    "duration": 5,
    "start_time": "2022-05-10T10:47:19.432Z"
   },
   {
    "duration": 69,
    "start_time": "2022-05-10T20:20:57.525Z"
   },
   {
    "duration": 615,
    "start_time": "2022-05-10T20:21:21.291Z"
   },
   {
    "duration": 24,
    "start_time": "2022-05-10T20:21:21.909Z"
   },
   {
    "duration": 76,
    "start_time": "2022-05-10T20:21:21.936Z"
   },
   {
    "duration": 11,
    "start_time": "2022-05-10T20:21:22.014Z"
   },
   {
    "duration": 7,
    "start_time": "2022-05-10T20:21:22.028Z"
   },
   {
    "duration": 85,
    "start_time": "2022-05-10T20:21:22.037Z"
   },
   {
    "duration": 17,
    "start_time": "2022-05-10T20:21:22.125Z"
   },
   {
    "duration": 6,
    "start_time": "2022-05-10T20:21:22.144Z"
   },
   {
    "duration": 8,
    "start_time": "2022-05-10T20:21:22.152Z"
   },
   {
    "duration": 39,
    "start_time": "2022-05-10T20:21:22.162Z"
   },
   {
    "duration": 952,
    "start_time": "2022-05-10T20:21:22.203Z"
   },
   {
    "duration": 7,
    "start_time": "2022-05-10T20:21:23.157Z"
   },
   {
    "duration": 76,
    "start_time": "2022-05-10T20:21:23.167Z"
   },
   {
    "duration": 57,
    "start_time": "2022-05-10T20:22:17.365Z"
   },
   {
    "duration": 69,
    "start_time": "2022-05-10T20:22:44.782Z"
   },
   {
    "duration": 55,
    "start_time": "2022-05-10T20:23:19.030Z"
   },
   {
    "duration": 206,
    "start_time": "2022-05-10T20:25:53.520Z"
   },
   {
    "duration": 207,
    "start_time": "2022-05-10T20:26:57.829Z"
   },
   {
    "duration": 281,
    "start_time": "2022-05-10T20:27:25.847Z"
   },
   {
    "duration": 214,
    "start_time": "2022-05-10T20:28:50.191Z"
   },
   {
    "duration": 12,
    "start_time": "2022-05-10T20:29:32.778Z"
   },
   {
    "duration": 11,
    "start_time": "2022-05-10T20:29:50.750Z"
   },
   {
    "duration": 11,
    "start_time": "2022-05-10T20:30:04.448Z"
   },
   {
    "duration": 13,
    "start_time": "2022-05-10T20:30:17.829Z"
   },
   {
    "duration": 11,
    "start_time": "2022-05-10T20:32:14.854Z"
   },
   {
    "duration": 12,
    "start_time": "2022-05-10T20:32:31.814Z"
   },
   {
    "duration": 3675,
    "start_time": "2022-05-10T20:32:58.899Z"
   },
   {
    "duration": 3276,
    "start_time": "2022-05-10T20:33:02.697Z"
   },
   {
    "duration": 12,
    "start_time": "2022-05-10T20:33:22.177Z"
   },
   {
    "duration": 11,
    "start_time": "2022-05-10T20:34:11.842Z"
   },
   {
    "duration": 53,
    "start_time": "2022-05-10T20:34:16.606Z"
   },
   {
    "duration": 8,
    "start_time": "2022-05-10T20:46:39.030Z"
   },
   {
    "duration": 23,
    "start_time": "2022-05-10T21:07:01.833Z"
   },
   {
    "duration": 54,
    "start_time": "2022-05-10T21:09:32.161Z"
   },
   {
    "duration": 10,
    "start_time": "2022-05-10T21:10:01.816Z"
   },
   {
    "duration": 10,
    "start_time": "2022-05-10T21:10:21.380Z"
   },
   {
    "duration": 9,
    "start_time": "2022-05-10T21:13:41.161Z"
   },
   {
    "duration": 22,
    "start_time": "2022-05-10T21:15:25.752Z"
   },
   {
    "duration": 10,
    "start_time": "2022-05-10T21:15:31.665Z"
   },
   {
    "duration": 20,
    "start_time": "2022-05-10T21:15:41.620Z"
   },
   {
    "duration": 26,
    "start_time": "2022-05-10T21:15:54.214Z"
   },
   {
    "duration": 18,
    "start_time": "2022-05-10T21:18:27.536Z"
   },
   {
    "duration": 63,
    "start_time": "2022-05-10T21:18:41.319Z"
   },
   {
    "duration": 12,
    "start_time": "2022-05-10T21:20:03.553Z"
   },
   {
    "duration": 8,
    "start_time": "2022-05-10T21:20:16.218Z"
   },
   {
    "duration": 3155,
    "start_time": "2022-05-10T21:20:26.943Z"
   },
   {
    "duration": 2924,
    "start_time": "2022-05-10T21:20:52.958Z"
   },
   {
    "duration": 3394,
    "start_time": "2022-05-10T21:21:37.069Z"
   },
   {
    "duration": 116,
    "start_time": "2022-05-10T21:22:25.711Z"
   },
   {
    "duration": 51,
    "start_time": "2022-05-10T21:22:34.638Z"
   },
   {
    "duration": 21,
    "start_time": "2022-05-10T21:23:12.455Z"
   },
   {
    "duration": 69,
    "start_time": "2022-05-10T21:24:14.451Z"
   },
   {
    "duration": 7,
    "start_time": "2022-05-10T21:26:43.534Z"
   },
   {
    "duration": 12,
    "start_time": "2022-05-10T21:38:15.205Z"
   },
   {
    "duration": 7,
    "start_time": "2022-05-10T21:38:43.506Z"
   },
   {
    "duration": 9,
    "start_time": "2022-05-10T21:39:14.922Z"
   },
   {
    "duration": 61,
    "start_time": "2022-05-10T21:39:28.509Z"
   },
   {
    "duration": 5,
    "start_time": "2022-05-10T21:47:19.850Z"
   },
   {
    "duration": 7,
    "start_time": "2022-05-10T21:47:59.309Z"
   },
   {
    "duration": 15,
    "start_time": "2022-05-10T21:49:01.804Z"
   },
   {
    "duration": 10,
    "start_time": "2022-05-10T21:49:18.788Z"
   },
   {
    "duration": 7,
    "start_time": "2022-05-10T21:49:20.468Z"
   },
   {
    "duration": 598,
    "start_time": "2022-05-10T21:49:26.994Z"
   },
   {
    "duration": 21,
    "start_time": "2022-05-10T21:49:27.595Z"
   },
   {
    "duration": 73,
    "start_time": "2022-05-10T21:49:27.621Z"
   },
   {
    "duration": 11,
    "start_time": "2022-05-10T21:49:27.697Z"
   },
   {
    "duration": 9,
    "start_time": "2022-05-10T21:49:27.710Z"
   },
   {
    "duration": 72,
    "start_time": "2022-05-10T21:49:27.722Z"
   },
   {
    "duration": 16,
    "start_time": "2022-05-10T21:49:27.797Z"
   },
   {
    "duration": 9,
    "start_time": "2022-05-10T21:49:27.815Z"
   },
   {
    "duration": 9,
    "start_time": "2022-05-10T21:49:27.827Z"
   },
   {
    "duration": 58,
    "start_time": "2022-05-10T21:49:27.839Z"
   },
   {
    "duration": 615,
    "start_time": "2022-05-10T21:49:27.899Z"
   },
   {
    "duration": 7,
    "start_time": "2022-05-10T21:49:28.517Z"
   },
   {
    "duration": 76,
    "start_time": "2022-05-10T21:49:28.527Z"
   },
   {
    "duration": 7,
    "start_time": "2022-05-10T21:49:28.605Z"
   },
   {
    "duration": 48,
    "start_time": "2022-05-10T21:49:28.614Z"
   },
   {
    "duration": 65,
    "start_time": "2022-05-10T21:49:28.664Z"
   },
   {
    "duration": 6,
    "start_time": "2022-05-10T21:49:28.732Z"
   },
   {
    "duration": 25,
    "start_time": "2022-05-10T21:49:28.740Z"
   },
   {
    "duration": 5,
    "start_time": "2022-05-10T21:49:28.767Z"
   },
   {
    "duration": 107,
    "start_time": "2022-05-10T21:51:01.503Z"
   },
   {
    "duration": 4,
    "start_time": "2022-05-10T21:51:05.885Z"
   },
   {
    "duration": 449,
    "start_time": "2022-05-10T21:51:07.051Z"
   },
   {
    "duration": 6,
    "start_time": "2022-05-10T21:51:21.055Z"
   },
   {
    "duration": 492,
    "start_time": "2022-05-10T21:54:24.717Z"
   },
   {
    "duration": 456,
    "start_time": "2022-05-10T21:54:54.537Z"
   },
   {
    "duration": 463,
    "start_time": "2022-05-10T21:56:12.925Z"
   },
   {
    "duration": 483,
    "start_time": "2022-05-10T21:56:28.362Z"
   },
   {
    "duration": 492,
    "start_time": "2022-05-10T21:58:12.009Z"
   },
   {
    "duration": 544,
    "start_time": "2022-05-10T21:58:29.634Z"
   },
   {
    "duration": 697,
    "start_time": "2022-05-10T21:59:02.053Z"
   },
   {
    "duration": 722,
    "start_time": "2022-05-10T21:59:17.342Z"
   },
   {
    "duration": 599,
    "start_time": "2022-05-10T21:59:25.903Z"
   },
   {
    "duration": 23,
    "start_time": "2022-05-10T21:59:26.504Z"
   },
   {
    "duration": 66,
    "start_time": "2022-05-10T21:59:26.529Z"
   },
   {
    "duration": 11,
    "start_time": "2022-05-10T21:59:26.598Z"
   },
   {
    "duration": 9,
    "start_time": "2022-05-10T21:59:26.611Z"
   },
   {
    "duration": 76,
    "start_time": "2022-05-10T21:59:26.623Z"
   },
   {
    "duration": 17,
    "start_time": "2022-05-10T21:59:26.701Z"
   },
   {
    "duration": 6,
    "start_time": "2022-05-10T21:59:26.720Z"
   },
   {
    "duration": 8,
    "start_time": "2022-05-10T21:59:26.728Z"
   },
   {
    "duration": 13,
    "start_time": "2022-05-10T21:59:26.740Z"
   },
   {
    "duration": 897,
    "start_time": "2022-05-10T21:59:26.755Z"
   },
   {
    "duration": 8,
    "start_time": "2022-05-10T21:59:27.655Z"
   },
   {
    "duration": 70,
    "start_time": "2022-05-10T21:59:27.665Z"
   },
   {
    "duration": 8,
    "start_time": "2022-05-10T21:59:27.737Z"
   },
   {
    "duration": 72,
    "start_time": "2022-05-10T21:59:27.747Z"
   },
   {
    "duration": 78,
    "start_time": "2022-05-10T21:59:27.822Z"
   },
   {
    "duration": 8,
    "start_time": "2022-05-10T21:59:27.902Z"
   },
   {
    "duration": 21,
    "start_time": "2022-05-10T21:59:27.913Z"
   },
   {
    "duration": 6,
    "start_time": "2022-05-10T21:59:27.936Z"
   },
   {
    "duration": 971,
    "start_time": "2022-05-10T21:59:27.944Z"
   },
   {
    "duration": 5,
    "start_time": "2022-05-10T21:59:28.917Z"
   },
   {
    "duration": 14,
    "start_time": "2022-05-10T21:59:28.925Z"
   },
   {
    "duration": 1066,
    "start_time": "2022-05-10T21:59:28.941Z"
   },
   {
    "duration": 921,
    "start_time": "2022-05-10T21:59:30.010Z"
   },
   {
    "duration": 504,
    "start_time": "2022-05-10T22:00:10.379Z"
   },
   {
    "duration": 266,
    "start_time": "2022-05-10T22:01:13.687Z"
   },
   {
    "duration": 322,
    "start_time": "2022-05-10T22:01:25.494Z"
   },
   {
    "duration": 267,
    "start_time": "2022-05-10T22:01:46.822Z"
   },
   {
    "duration": 295,
    "start_time": "2022-05-10T22:01:59.226Z"
   },
   {
    "duration": 107,
    "start_time": "2022-05-10T22:15:15.832Z"
   },
   {
    "duration": 127,
    "start_time": "2022-05-10T22:15:39.144Z"
   },
   {
    "duration": 217,
    "start_time": "2022-05-10T22:15:54.801Z"
   },
   {
    "duration": 825,
    "start_time": "2022-05-10T22:16:19.722Z"
   },
   {
    "duration": 6,
    "start_time": "2022-05-10T22:17:50.520Z"
   },
   {
    "duration": 860,
    "start_time": "2022-05-10T22:18:00.921Z"
   },
   {
    "duration": 816,
    "start_time": "2022-05-10T22:19:17.418Z"
   },
   {
    "duration": 1001,
    "start_time": "2022-05-10T22:19:34.475Z"
   },
   {
    "duration": 928,
    "start_time": "2022-05-10T22:20:44.901Z"
   },
   {
    "duration": 21,
    "start_time": "2022-05-10T22:20:45.832Z"
   },
   {
    "duration": 57,
    "start_time": "2022-05-10T22:20:45.855Z"
   },
   {
    "duration": 11,
    "start_time": "2022-05-10T22:20:45.914Z"
   },
   {
    "duration": 8,
    "start_time": "2022-05-10T22:20:45.927Z"
   },
   {
    "duration": 72,
    "start_time": "2022-05-10T22:20:45.937Z"
   },
   {
    "duration": 16,
    "start_time": "2022-05-10T22:20:46.011Z"
   },
   {
    "duration": 6,
    "start_time": "2022-05-10T22:20:46.029Z"
   },
   {
    "duration": 9,
    "start_time": "2022-05-10T22:20:46.038Z"
   },
   {
    "duration": 42,
    "start_time": "2022-05-10T22:20:46.052Z"
   },
   {
    "duration": 256,
    "start_time": "2022-05-10T22:20:46.096Z"
   },
   {
    "duration": 8,
    "start_time": "2022-05-10T22:20:46.354Z"
   },
   {
    "duration": 70,
    "start_time": "2022-05-10T22:20:46.364Z"
   },
   {
    "duration": 8,
    "start_time": "2022-05-10T22:20:46.436Z"
   },
   {
    "duration": 64,
    "start_time": "2022-05-10T22:20:46.446Z"
   },
   {
    "duration": 45,
    "start_time": "2022-05-10T22:20:46.513Z"
   },
   {
    "duration": 6,
    "start_time": "2022-05-10T22:20:46.560Z"
   },
   {
    "duration": 38,
    "start_time": "2022-05-10T22:20:46.568Z"
   },
   {
    "duration": 5,
    "start_time": "2022-05-10T22:20:46.608Z"
   },
   {
    "duration": 448,
    "start_time": "2022-05-10T22:20:46.614Z"
   },
   {
    "duration": 5,
    "start_time": "2022-05-10T22:20:47.065Z"
   },
   {
    "duration": 21,
    "start_time": "2022-05-10T22:20:47.072Z"
   },
   {
    "duration": 512,
    "start_time": "2022-05-10T22:20:47.095Z"
   },
   {
    "duration": 587,
    "start_time": "2022-05-10T22:20:47.610Z"
   },
   {
    "duration": 827,
    "start_time": "2022-05-10T22:20:48.200Z"
   },
   {
    "duration": 974,
    "start_time": "2022-05-10T22:20:49.030Z"
   },
   {
    "duration": 1747,
    "start_time": "2022-05-10T22:20:50.007Z"
   },
   {
    "duration": 23,
    "start_time": "2022-05-10T22:22:08.075Z"
   },
   {
    "duration": 22,
    "start_time": "2022-05-10T22:23:40.558Z"
   },
   {
    "duration": 805,
    "start_time": "2022-05-10T22:25:37.004Z"
   },
   {
    "duration": 16,
    "start_time": "2022-05-10T22:31:21.451Z"
   },
   {
    "duration": 14,
    "start_time": "2022-05-10T22:31:56.124Z"
   },
   {
    "duration": 15,
    "start_time": "2022-05-10T22:34:05.221Z"
   },
   {
    "duration": 128,
    "start_time": "2022-05-10T22:34:20.232Z"
   },
   {
    "duration": 131,
    "start_time": "2022-05-10T22:35:02.465Z"
   },
   {
    "duration": 717,
    "start_time": "2022-05-10T22:35:35.300Z"
   },
   {
    "duration": 750,
    "start_time": "2022-05-10T22:36:05.834Z"
   },
   {
    "duration": 825,
    "start_time": "2022-05-10T22:36:30.024Z"
   },
   {
    "duration": 723,
    "start_time": "2022-05-10T22:36:47.222Z"
   },
   {
    "duration": 12,
    "start_time": "2022-05-10T22:37:01.874Z"
   },
   {
    "duration": 746,
    "start_time": "2022-05-10T22:39:33.319Z"
   },
   {
    "duration": 3,
    "start_time": "2022-05-10T22:45:02.805Z"
   },
   {
    "duration": 218,
    "start_time": "2022-05-10T22:45:54.532Z"
   },
   {
    "duration": 220,
    "start_time": "2022-05-10T22:48:16.157Z"
   },
   {
    "duration": 228,
    "start_time": "2022-05-10T22:48:30.989Z"
   },
   {
    "duration": 888,
    "start_time": "2022-05-10T22:48:47.277Z"
   },
   {
    "duration": 225,
    "start_time": "2022-05-10T22:48:54.000Z"
   },
   {
    "duration": 340,
    "start_time": "2022-05-10T22:53:24.754Z"
   },
   {
    "duration": 231,
    "start_time": "2022-05-10T22:56:54.683Z"
   },
   {
    "duration": 286,
    "start_time": "2022-05-10T22:58:49.585Z"
   },
   {
    "duration": 1402,
    "start_time": "2022-05-10T22:59:42.921Z"
   },
   {
    "duration": 22,
    "start_time": "2022-05-10T22:59:44.325Z"
   },
   {
    "duration": 54,
    "start_time": "2022-05-10T22:59:44.349Z"
   },
   {
    "duration": 10,
    "start_time": "2022-05-10T22:59:44.406Z"
   },
   {
    "duration": 10,
    "start_time": "2022-05-10T22:59:44.418Z"
   },
   {
    "duration": 64,
    "start_time": "2022-05-10T22:59:44.430Z"
   },
   {
    "duration": 17,
    "start_time": "2022-05-10T22:59:44.496Z"
   },
   {
    "duration": 6,
    "start_time": "2022-05-10T22:59:44.515Z"
   },
   {
    "duration": 10,
    "start_time": "2022-05-10T22:59:44.523Z"
   },
   {
    "duration": 12,
    "start_time": "2022-05-10T22:59:44.538Z"
   },
   {
    "duration": 285,
    "start_time": "2022-05-10T22:59:44.552Z"
   },
   {
    "duration": 7,
    "start_time": "2022-05-10T22:59:44.839Z"
   },
   {
    "duration": 66,
    "start_time": "2022-05-10T22:59:44.848Z"
   },
   {
    "duration": 8,
    "start_time": "2022-05-10T22:59:44.916Z"
   },
   {
    "duration": 47,
    "start_time": "2022-05-10T22:59:44.926Z"
   },
   {
    "duration": 45,
    "start_time": "2022-05-10T22:59:44.993Z"
   },
   {
    "duration": 6,
    "start_time": "2022-05-10T22:59:45.041Z"
   },
   {
    "duration": 44,
    "start_time": "2022-05-10T22:59:45.049Z"
   },
   {
    "duration": 4,
    "start_time": "2022-05-10T22:59:45.095Z"
   },
   {
    "duration": 447,
    "start_time": "2022-05-10T22:59:45.102Z"
   },
   {
    "duration": 6,
    "start_time": "2022-05-10T22:59:45.551Z"
   },
   {
    "duration": 9,
    "start_time": "2022-05-10T22:59:45.559Z"
   },
   {
    "duration": 495,
    "start_time": "2022-05-10T22:59:45.570Z"
   },
   {
    "duration": 474,
    "start_time": "2022-05-10T22:59:46.068Z"
   },
   {
    "duration": 323,
    "start_time": "2022-05-10T22:59:46.544Z"
   },
   {
    "duration": 301,
    "start_time": "2022-05-10T22:59:46.869Z"
   },
   {
    "duration": 144,
    "start_time": "2022-05-10T22:59:47.172Z"
   },
   {
    "duration": 697,
    "start_time": "2022-05-10T22:59:47.320Z"
   },
   {
    "duration": 17,
    "start_time": "2022-05-10T22:59:48.019Z"
   },
   {
    "duration": 12,
    "start_time": "2022-05-10T22:59:48.038Z"
   },
   {
    "duration": 44,
    "start_time": "2022-05-10T22:59:48.051Z"
   },
   {
    "duration": 139,
    "start_time": "2022-05-10T22:59:48.097Z"
   },
   {
    "duration": 777,
    "start_time": "2022-05-10T22:59:48.238Z"
   },
   {
    "duration": 11,
    "start_time": "2022-05-10T22:59:49.017Z"
   },
   {
    "duration": 234,
    "start_time": "2022-05-10T22:59:49.030Z"
   },
   {
    "duration": 255,
    "start_time": "2022-05-10T22:59:49.266Z"
   },
   {
    "duration": 995,
    "start_time": "2022-05-10T23:01:14.789Z"
   },
   {
    "duration": 26,
    "start_time": "2022-05-10T23:01:15.787Z"
   },
   {
    "duration": 45,
    "start_time": "2022-05-10T23:01:15.815Z"
   },
   {
    "duration": 36,
    "start_time": "2022-05-10T23:01:15.863Z"
   },
   {
    "duration": 12,
    "start_time": "2022-05-10T23:01:15.901Z"
   },
   {
    "duration": 47,
    "start_time": "2022-05-10T23:01:15.916Z"
   },
   {
    "duration": 36,
    "start_time": "2022-05-10T23:01:15.965Z"
   },
   {
    "duration": 7,
    "start_time": "2022-05-10T23:01:16.003Z"
   },
   {
    "duration": 11,
    "start_time": "2022-05-10T23:01:16.013Z"
   },
   {
    "duration": 18,
    "start_time": "2022-05-10T23:01:16.028Z"
   },
   {
    "duration": 287,
    "start_time": "2022-05-10T23:01:16.049Z"
   },
   {
    "duration": 6,
    "start_time": "2022-05-10T23:01:16.338Z"
   },
   {
    "duration": 66,
    "start_time": "2022-05-10T23:01:16.346Z"
   },
   {
    "duration": 8,
    "start_time": "2022-05-10T23:01:16.414Z"
   },
   {
    "duration": 50,
    "start_time": "2022-05-10T23:01:16.424Z"
   },
   {
    "duration": 46,
    "start_time": "2022-05-10T23:01:16.493Z"
   },
   {
    "duration": 7,
    "start_time": "2022-05-10T23:01:16.541Z"
   },
   {
    "duration": 44,
    "start_time": "2022-05-10T23:01:16.550Z"
   },
   {
    "duration": 4,
    "start_time": "2022-05-10T23:01:16.596Z"
   },
   {
    "duration": 550,
    "start_time": "2022-05-10T23:01:16.602Z"
   },
   {
    "duration": 5,
    "start_time": "2022-05-10T23:01:17.154Z"
   },
   {
    "duration": 10,
    "start_time": "2022-05-10T23:01:17.161Z"
   },
   {
    "duration": 502,
    "start_time": "2022-05-10T23:01:17.173Z"
   },
   {
    "duration": 491,
    "start_time": "2022-05-10T23:01:17.677Z"
   },
   {
    "duration": 338,
    "start_time": "2022-05-10T23:01:18.170Z"
   },
   {
    "duration": 310,
    "start_time": "2022-05-10T23:01:18.510Z"
   },
   {
    "duration": 149,
    "start_time": "2022-05-10T23:01:18.823Z"
   },
   {
    "duration": 721,
    "start_time": "2022-05-10T23:01:18.977Z"
   },
   {
    "duration": 16,
    "start_time": "2022-05-10T23:01:19.700Z"
   },
   {
    "duration": 12,
    "start_time": "2022-05-10T23:01:19.719Z"
   },
   {
    "duration": 15,
    "start_time": "2022-05-10T23:01:19.734Z"
   },
   {
    "duration": 175,
    "start_time": "2022-05-10T23:01:19.751Z"
   },
   {
    "duration": 791,
    "start_time": "2022-05-10T23:01:19.928Z"
   },
   {
    "duration": 11,
    "start_time": "2022-05-10T23:01:20.722Z"
   },
   {
    "duration": 251,
    "start_time": "2022-05-10T23:01:20.736Z"
   },
   {
    "duration": 255,
    "start_time": "2022-05-10T23:01:20.993Z"
   },
   {
    "duration": 294,
    "start_time": "2022-05-10T23:01:21.250Z"
   },
   {
    "duration": 235,
    "start_time": "2022-05-10T23:01:21.547Z"
   },
   {
    "duration": 465,
    "start_time": "2022-05-10T23:09:05.812Z"
   },
   {
    "duration": 546,
    "start_time": "2022-05-10T23:09:43.741Z"
   },
   {
    "duration": 239,
    "start_time": "2022-05-10T23:12:10.752Z"
   },
   {
    "duration": 231,
    "start_time": "2022-05-10T23:18:09.698Z"
   },
   {
    "duration": 297,
    "start_time": "2022-05-10T23:24:12.805Z"
   },
   {
    "duration": 35,
    "start_time": "2022-05-10T23:29:23.484Z"
   },
   {
    "duration": 12,
    "start_time": "2022-05-10T23:29:25.742Z"
   },
   {
    "duration": 12,
    "start_time": "2022-05-10T23:29:26.953Z"
   },
   {
    "duration": 6,
    "start_time": "2022-05-10T23:32:11.933Z"
   },
   {
    "duration": 7,
    "start_time": "2022-05-10T23:32:36.161Z"
   },
   {
    "duration": 224,
    "start_time": "2022-05-10T23:32:52.406Z"
   },
   {
    "duration": 11,
    "start_time": "2022-05-10T23:33:22.355Z"
   },
   {
    "duration": 9,
    "start_time": "2022-05-10T23:34:42.355Z"
   },
   {
    "duration": 22,
    "start_time": "2022-05-10T23:35:03.073Z"
   },
   {
    "duration": 982,
    "start_time": "2022-05-10T23:35:16.966Z"
   },
   {
    "duration": 25,
    "start_time": "2022-05-10T23:35:17.950Z"
   },
   {
    "duration": 55,
    "start_time": "2022-05-10T23:35:17.977Z"
   },
   {
    "duration": 11,
    "start_time": "2022-05-10T23:35:18.035Z"
   },
   {
    "duration": 8,
    "start_time": "2022-05-10T23:35:18.048Z"
   },
   {
    "duration": 74,
    "start_time": "2022-05-10T23:35:18.059Z"
   },
   {
    "duration": 13,
    "start_time": "2022-05-10T23:35:18.135Z"
   },
   {
    "duration": 6,
    "start_time": "2022-05-10T23:35:18.151Z"
   },
   {
    "duration": 7,
    "start_time": "2022-05-10T23:35:18.159Z"
   },
   {
    "duration": 11,
    "start_time": "2022-05-10T23:35:18.195Z"
   },
   {
    "duration": 263,
    "start_time": "2022-05-10T23:35:18.209Z"
   },
   {
    "duration": 18,
    "start_time": "2022-05-10T23:35:18.474Z"
   },
   {
    "duration": 47,
    "start_time": "2022-05-10T23:35:18.495Z"
   },
   {
    "duration": 7,
    "start_time": "2022-05-10T23:35:18.544Z"
   },
   {
    "duration": 70,
    "start_time": "2022-05-10T23:35:18.554Z"
   },
   {
    "duration": 44,
    "start_time": "2022-05-10T23:35:18.627Z"
   },
   {
    "duration": 3800,
    "start_time": "2022-05-10T23:35:18.674Z"
   },
   {
    "duration": 0,
    "start_time": "2022-05-10T23:35:22.478Z"
   },
   {
    "duration": 0,
    "start_time": "2022-05-10T23:35:22.480Z"
   },
   {
    "duration": 0,
    "start_time": "2022-05-10T23:35:22.481Z"
   },
   {
    "duration": 0,
    "start_time": "2022-05-10T23:35:22.483Z"
   },
   {
    "duration": 0,
    "start_time": "2022-05-10T23:35:22.484Z"
   },
   {
    "duration": 0,
    "start_time": "2022-05-10T23:35:22.485Z"
   },
   {
    "duration": 0,
    "start_time": "2022-05-10T23:35:22.486Z"
   },
   {
    "duration": 0,
    "start_time": "2022-05-10T23:35:22.488Z"
   },
   {
    "duration": 0,
    "start_time": "2022-05-10T23:35:22.489Z"
   },
   {
    "duration": 0,
    "start_time": "2022-05-10T23:35:22.490Z"
   },
   {
    "duration": 0,
    "start_time": "2022-05-10T23:35:22.492Z"
   },
   {
    "duration": 0,
    "start_time": "2022-05-10T23:35:22.493Z"
   },
   {
    "duration": 0,
    "start_time": "2022-05-10T23:35:22.494Z"
   },
   {
    "duration": 0,
    "start_time": "2022-05-10T23:35:22.495Z"
   },
   {
    "duration": 0,
    "start_time": "2022-05-10T23:35:22.497Z"
   },
   {
    "duration": 0,
    "start_time": "2022-05-10T23:35:22.498Z"
   },
   {
    "duration": 0,
    "start_time": "2022-05-10T23:35:22.500Z"
   },
   {
    "duration": 0,
    "start_time": "2022-05-10T23:35:22.501Z"
   },
   {
    "duration": 0,
    "start_time": "2022-05-10T23:35:22.502Z"
   },
   {
    "duration": 0,
    "start_time": "2022-05-10T23:35:22.504Z"
   },
   {
    "duration": 0,
    "start_time": "2022-05-10T23:35:22.505Z"
   },
   {
    "duration": 0,
    "start_time": "2022-05-10T23:35:22.506Z"
   },
   {
    "duration": 0,
    "start_time": "2022-05-10T23:35:22.508Z"
   },
   {
    "duration": 0,
    "start_time": "2022-05-10T23:35:22.509Z"
   },
   {
    "duration": 0,
    "start_time": "2022-05-10T23:35:22.510Z"
   },
   {
    "duration": 0,
    "start_time": "2022-05-10T23:35:22.512Z"
   },
   {
    "duration": 0,
    "start_time": "2022-05-10T23:35:22.513Z"
   },
   {
    "duration": 0,
    "start_time": "2022-05-10T23:35:22.514Z"
   },
   {
    "duration": 0,
    "start_time": "2022-05-10T23:35:22.515Z"
   },
   {
    "duration": 0,
    "start_time": "2022-05-10T23:35:22.517Z"
   },
   {
    "duration": 0,
    "start_time": "2022-05-10T23:35:22.518Z"
   },
   {
    "duration": 0,
    "start_time": "2022-05-10T23:35:22.520Z"
   },
   {
    "duration": 47,
    "start_time": "2022-05-10T23:35:32.107Z"
   },
   {
    "duration": 214,
    "start_time": "2022-05-10T23:36:14.557Z"
   },
   {
    "duration": 13,
    "start_time": "2022-05-10T23:36:27.058Z"
   },
   {
    "duration": 6,
    "start_time": "2022-05-10T23:38:28.904Z"
   },
   {
    "duration": 946,
    "start_time": "2022-05-10T23:38:48.114Z"
   },
   {
    "duration": 24,
    "start_time": "2022-05-10T23:38:49.063Z"
   },
   {
    "duration": 45,
    "start_time": "2022-05-10T23:38:49.094Z"
   },
   {
    "duration": 12,
    "start_time": "2022-05-10T23:38:49.144Z"
   },
   {
    "duration": 40,
    "start_time": "2022-05-10T23:38:49.158Z"
   },
   {
    "duration": 49,
    "start_time": "2022-05-10T23:38:49.200Z"
   },
   {
    "duration": 46,
    "start_time": "2022-05-10T23:38:49.251Z"
   },
   {
    "duration": 9,
    "start_time": "2022-05-10T23:38:49.300Z"
   },
   {
    "duration": 9,
    "start_time": "2022-05-10T23:38:49.311Z"
   },
   {
    "duration": 13,
    "start_time": "2022-05-10T23:38:49.326Z"
   },
   {
    "duration": 298,
    "start_time": "2022-05-10T23:38:49.341Z"
   },
   {
    "duration": 8,
    "start_time": "2022-05-10T23:38:49.642Z"
   },
   {
    "duration": 69,
    "start_time": "2022-05-10T23:38:49.652Z"
   },
   {
    "duration": 8,
    "start_time": "2022-05-10T23:38:49.723Z"
   },
   {
    "duration": 61,
    "start_time": "2022-05-10T23:38:49.733Z"
   },
   {
    "duration": 46,
    "start_time": "2022-05-10T23:38:49.796Z"
   },
   {
    "duration": 5,
    "start_time": "2022-05-10T23:38:49.845Z"
   },
   {
    "duration": 9,
    "start_time": "2022-05-10T23:38:49.852Z"
   },
   {
    "duration": 45,
    "start_time": "2022-05-10T23:38:49.863Z"
   },
   {
    "duration": 4,
    "start_time": "2022-05-10T23:38:49.911Z"
   },
   {
    "duration": 461,
    "start_time": "2022-05-10T23:38:49.917Z"
   },
   {
    "duration": 13,
    "start_time": "2022-05-10T23:38:50.380Z"
   },
   {
    "duration": 9,
    "start_time": "2022-05-10T23:38:50.395Z"
   },
   {
    "duration": 508,
    "start_time": "2022-05-10T23:38:50.406Z"
   },
   {
    "duration": 495,
    "start_time": "2022-05-10T23:38:50.917Z"
   },
   {
    "duration": 334,
    "start_time": "2022-05-10T23:38:51.414Z"
   },
   {
    "duration": 303,
    "start_time": "2022-05-10T23:38:51.750Z"
   },
   {
    "duration": 148,
    "start_time": "2022-05-10T23:38:52.059Z"
   },
   {
    "duration": 702,
    "start_time": "2022-05-10T23:38:52.210Z"
   },
   {
    "duration": 17,
    "start_time": "2022-05-10T23:38:52.914Z"
   },
   {
    "duration": 12,
    "start_time": "2022-05-10T23:38:52.933Z"
   },
   {
    "duration": 49,
    "start_time": "2022-05-10T23:38:52.947Z"
   },
   {
    "duration": 141,
    "start_time": "2022-05-10T23:38:52.998Z"
   },
   {
    "duration": 798,
    "start_time": "2022-05-10T23:38:53.141Z"
   },
   {
    "duration": 13,
    "start_time": "2022-05-10T23:38:53.942Z"
   },
   {
    "duration": 249,
    "start_time": "2022-05-10T23:38:53.957Z"
   },
   {
    "duration": 270,
    "start_time": "2022-05-10T23:38:54.208Z"
   },
   {
    "duration": 302,
    "start_time": "2022-05-10T23:38:54.481Z"
   },
   {
    "duration": 201,
    "start_time": "2022-05-10T23:38:54.794Z"
   },
   {
    "duration": 0,
    "start_time": "2022-05-10T23:38:54.998Z"
   },
   {
    "duration": 0,
    "start_time": "2022-05-10T23:38:55.001Z"
   },
   {
    "duration": 0,
    "start_time": "2022-05-10T23:38:55.003Z"
   },
   {
    "duration": 0,
    "start_time": "2022-05-10T23:38:55.005Z"
   },
   {
    "duration": 0,
    "start_time": "2022-05-10T23:38:55.007Z"
   },
   {
    "duration": 0,
    "start_time": "2022-05-10T23:38:55.010Z"
   },
   {
    "duration": 0,
    "start_time": "2022-05-10T23:38:55.012Z"
   },
   {
    "duration": 0,
    "start_time": "2022-05-10T23:38:55.014Z"
   },
   {
    "duration": 0,
    "start_time": "2022-05-10T23:38:55.016Z"
   },
   {
    "duration": 0,
    "start_time": "2022-05-10T23:38:55.017Z"
   },
   {
    "duration": 8,
    "start_time": "2022-05-10T23:39:22.342Z"
   },
   {
    "duration": 230,
    "start_time": "2022-05-10T23:39:23.596Z"
   },
   {
    "duration": 233,
    "start_time": "2022-05-10T23:40:04.812Z"
   },
   {
    "duration": 11,
    "start_time": "2022-05-10T23:40:27.997Z"
   },
   {
    "duration": 224,
    "start_time": "2022-05-10T23:42:44.439Z"
   },
   {
    "duration": 12,
    "start_time": "2022-05-10T23:43:00.333Z"
   },
   {
    "duration": 11,
    "start_time": "2022-05-10T23:47:29.902Z"
   },
   {
    "duration": 245,
    "start_time": "2022-05-10T23:48:06.983Z"
   },
   {
    "duration": 3845,
    "start_time": "2022-05-10T23:52:28.351Z"
   },
   {
    "duration": 3410,
    "start_time": "2022-05-10T23:54:37.185Z"
   },
   {
    "duration": 55,
    "start_time": "2022-05-10T23:55:07.359Z"
   },
   {
    "duration": 3384,
    "start_time": "2022-05-10T23:55:26.126Z"
   },
   {
    "duration": 242,
    "start_time": "2022-05-10T23:55:51.441Z"
   },
   {
    "duration": 11,
    "start_time": "2022-05-10T23:56:16.804Z"
   },
   {
    "duration": 238,
    "start_time": "2022-05-11T00:00:27.381Z"
   },
   {
    "duration": 246,
    "start_time": "2022-05-11T00:01:55.345Z"
   },
   {
    "duration": 246,
    "start_time": "2022-05-11T00:05:46.799Z"
   },
   {
    "duration": 247,
    "start_time": "2022-05-11T00:07:03.392Z"
   },
   {
    "duration": 246,
    "start_time": "2022-05-11T00:07:14.996Z"
   },
   {
    "duration": 238,
    "start_time": "2022-05-11T00:07:52.654Z"
   },
   {
    "duration": 951,
    "start_time": "2022-05-11T00:18:04.843Z"
   },
   {
    "duration": 22,
    "start_time": "2022-05-11T00:18:05.797Z"
   },
   {
    "duration": 43,
    "start_time": "2022-05-11T00:18:05.821Z"
   },
   {
    "duration": 30,
    "start_time": "2022-05-11T00:18:05.866Z"
   },
   {
    "duration": 9,
    "start_time": "2022-05-11T00:18:05.898Z"
   },
   {
    "duration": 47,
    "start_time": "2022-05-11T00:18:05.910Z"
   },
   {
    "duration": 44,
    "start_time": "2022-05-11T00:18:05.959Z"
   },
   {
    "duration": 5,
    "start_time": "2022-05-11T00:18:06.006Z"
   },
   {
    "duration": 9,
    "start_time": "2022-05-11T00:18:06.014Z"
   },
   {
    "duration": 12,
    "start_time": "2022-05-11T00:18:06.027Z"
   },
   {
    "duration": 272,
    "start_time": "2022-05-11T00:18:06.041Z"
   },
   {
    "duration": 7,
    "start_time": "2022-05-11T00:18:06.315Z"
   },
   {
    "duration": 70,
    "start_time": "2022-05-11T00:18:06.324Z"
   },
   {
    "duration": 9,
    "start_time": "2022-05-11T00:18:06.396Z"
   },
   {
    "duration": 48,
    "start_time": "2022-05-11T00:18:06.407Z"
   },
   {
    "duration": 70,
    "start_time": "2022-05-11T00:18:06.458Z"
   },
   {
    "duration": 6,
    "start_time": "2022-05-11T00:18:06.530Z"
   },
   {
    "duration": 14,
    "start_time": "2022-05-11T00:18:06.538Z"
   },
   {
    "duration": 19,
    "start_time": "2022-05-11T00:18:06.554Z"
   },
   {
    "duration": 5,
    "start_time": "2022-05-11T00:18:06.593Z"
   },
   {
    "duration": 438,
    "start_time": "2022-05-11T00:18:06.600Z"
   },
   {
    "duration": 5,
    "start_time": "2022-05-11T00:18:07.041Z"
   },
   {
    "duration": 16,
    "start_time": "2022-05-11T00:18:07.048Z"
   },
   {
    "duration": 521,
    "start_time": "2022-05-11T00:18:07.067Z"
   },
   {
    "duration": 493,
    "start_time": "2022-05-11T00:18:07.589Z"
   },
   {
    "duration": 442,
    "start_time": "2022-05-11T00:18:08.085Z"
   },
   {
    "duration": 317,
    "start_time": "2022-05-11T00:18:08.529Z"
   },
   {
    "duration": 150,
    "start_time": "2022-05-11T00:18:08.852Z"
   },
   {
    "duration": 734,
    "start_time": "2022-05-11T00:18:09.004Z"
   },
   {
    "duration": 17,
    "start_time": "2022-05-11T00:18:09.740Z"
   },
   {
    "duration": 34,
    "start_time": "2022-05-11T00:18:09.759Z"
   },
   {
    "duration": 17,
    "start_time": "2022-05-11T00:18:09.795Z"
   },
   {
    "duration": 152,
    "start_time": "2022-05-11T00:18:09.814Z"
   },
   {
    "duration": 815,
    "start_time": "2022-05-11T00:18:09.969Z"
   },
   {
    "duration": 15,
    "start_time": "2022-05-11T00:18:10.786Z"
   },
   {
    "duration": 248,
    "start_time": "2022-05-11T00:18:10.803Z"
   },
   {
    "duration": 256,
    "start_time": "2022-05-11T00:18:11.053Z"
   },
   {
    "duration": 292,
    "start_time": "2022-05-11T00:18:11.311Z"
   },
   {
    "duration": 211,
    "start_time": "2022-05-11T00:18:11.605Z"
   },
   {
    "duration": 0,
    "start_time": "2022-05-11T00:18:11.818Z"
   },
   {
    "duration": 0,
    "start_time": "2022-05-11T00:18:11.820Z"
   },
   {
    "duration": 0,
    "start_time": "2022-05-11T00:18:11.822Z"
   },
   {
    "duration": 0,
    "start_time": "2022-05-11T00:18:11.823Z"
   },
   {
    "duration": 0,
    "start_time": "2022-05-11T00:18:11.825Z"
   },
   {
    "duration": 0,
    "start_time": "2022-05-11T00:18:11.827Z"
   },
   {
    "duration": 0,
    "start_time": "2022-05-11T00:18:11.829Z"
   },
   {
    "duration": 0,
    "start_time": "2022-05-11T00:18:11.830Z"
   },
   {
    "duration": 0,
    "start_time": "2022-05-11T00:18:11.832Z"
   },
   {
    "duration": 0,
    "start_time": "2022-05-11T00:18:11.833Z"
   },
   {
    "duration": 0,
    "start_time": "2022-05-11T00:18:11.834Z"
   },
   {
    "duration": 0,
    "start_time": "2022-05-11T00:18:11.836Z"
   },
   {
    "duration": 0,
    "start_time": "2022-05-11T00:18:11.837Z"
   },
   {
    "duration": 0,
    "start_time": "2022-05-11T00:18:11.839Z"
   },
   {
    "duration": 0,
    "start_time": "2022-05-11T00:18:11.840Z"
   },
   {
    "duration": 0,
    "start_time": "2022-05-11T00:18:11.842Z"
   },
   {
    "duration": 0,
    "start_time": "2022-05-11T00:18:11.843Z"
   },
   {
    "duration": 0,
    "start_time": "2022-05-11T00:18:11.845Z"
   },
   {
    "duration": 1004,
    "start_time": "2022-05-11T00:18:53.450Z"
   },
   {
    "duration": 24,
    "start_time": "2022-05-11T00:18:54.457Z"
   },
   {
    "duration": 45,
    "start_time": "2022-05-11T00:18:54.492Z"
   },
   {
    "duration": 12,
    "start_time": "2022-05-11T00:18:54.540Z"
   },
   {
    "duration": 11,
    "start_time": "2022-05-11T00:18:54.554Z"
   },
   {
    "duration": 70,
    "start_time": "2022-05-11T00:18:54.567Z"
   },
   {
    "duration": 14,
    "start_time": "2022-05-11T00:18:54.639Z"
   },
   {
    "duration": 6,
    "start_time": "2022-05-11T00:18:54.655Z"
   },
   {
    "duration": 34,
    "start_time": "2022-05-11T00:18:54.663Z"
   },
   {
    "duration": 15,
    "start_time": "2022-05-11T00:18:54.701Z"
   },
   {
    "duration": 267,
    "start_time": "2022-05-11T00:18:54.717Z"
   },
   {
    "duration": 11,
    "start_time": "2022-05-11T00:18:54.986Z"
   },
   {
    "duration": 50,
    "start_time": "2022-05-11T00:18:54.999Z"
   },
   {
    "duration": 8,
    "start_time": "2022-05-11T00:18:55.051Z"
   },
   {
    "duration": 75,
    "start_time": "2022-05-11T00:18:55.061Z"
   },
   {
    "duration": 63,
    "start_time": "2022-05-11T00:18:55.138Z"
   },
   {
    "duration": 5,
    "start_time": "2022-05-11T00:18:55.204Z"
   },
   {
    "duration": 9,
    "start_time": "2022-05-11T00:18:55.211Z"
   },
   {
    "duration": 17,
    "start_time": "2022-05-11T00:18:55.222Z"
   },
   {
    "duration": 5,
    "start_time": "2022-05-11T00:18:55.241Z"
   },
   {
    "duration": 464,
    "start_time": "2022-05-11T00:18:55.248Z"
   },
   {
    "duration": 5,
    "start_time": "2022-05-11T00:18:55.714Z"
   },
   {
    "duration": 10,
    "start_time": "2022-05-11T00:18:55.721Z"
   },
   {
    "duration": 761,
    "start_time": "2022-05-11T00:18:55.734Z"
   },
   {
    "duration": 999,
    "start_time": "2022-05-11T00:18:56.497Z"
   },
   {
    "duration": 642,
    "start_time": "2022-05-11T00:18:57.498Z"
   },
   {
    "duration": 599,
    "start_time": "2022-05-11T00:18:58.194Z"
   },
   {
    "duration": 152,
    "start_time": "2022-05-11T00:18:58.799Z"
   },
   {
    "duration": 720,
    "start_time": "2022-05-11T00:18:58.953Z"
   },
   {
    "duration": 26,
    "start_time": "2022-05-11T00:18:59.676Z"
   },
   {
    "duration": 13,
    "start_time": "2022-05-11T00:18:59.704Z"
   },
   {
    "duration": 16,
    "start_time": "2022-05-11T00:18:59.719Z"
   },
   {
    "duration": 168,
    "start_time": "2022-05-11T00:18:59.737Z"
   },
   {
    "duration": 829,
    "start_time": "2022-05-11T00:18:59.907Z"
   },
   {
    "duration": 11,
    "start_time": "2022-05-11T00:19:00.738Z"
   },
   {
    "duration": 260,
    "start_time": "2022-05-11T00:19:00.751Z"
   },
   {
    "duration": 261,
    "start_time": "2022-05-11T00:19:01.014Z"
   },
   {
    "duration": 312,
    "start_time": "2022-05-11T00:19:01.277Z"
   },
   {
    "duration": 246,
    "start_time": "2022-05-11T00:19:01.593Z"
   },
   {
    "duration": 264,
    "start_time": "2022-05-11T00:19:01.842Z"
   },
   {
    "duration": 253,
    "start_time": "2022-05-11T00:19:02.109Z"
   },
   {
    "duration": 251,
    "start_time": "2022-05-11T00:19:02.364Z"
   },
   {
    "duration": 32,
    "start_time": "2022-05-11T00:19:02.617Z"
   },
   {
    "duration": 10,
    "start_time": "2022-05-11T00:19:02.651Z"
   },
   {
    "duration": 36,
    "start_time": "2022-05-11T00:19:02.663Z"
   },
   {
    "duration": 14,
    "start_time": "2022-05-11T00:19:02.701Z"
   },
   {
    "duration": 234,
    "start_time": "2022-05-11T00:19:02.718Z"
   },
   {
    "duration": 11,
    "start_time": "2022-05-11T00:19:02.954Z"
   },
   {
    "duration": 33,
    "start_time": "2022-05-11T00:19:02.967Z"
   },
   {
    "duration": 323,
    "start_time": "2022-05-11T00:19:03.002Z"
   },
   {
    "duration": 286,
    "start_time": "2022-05-11T00:19:03.328Z"
   },
   {
    "duration": 237,
    "start_time": "2022-05-11T00:19:03.617Z"
   },
   {
    "duration": 255,
    "start_time": "2022-05-11T00:19:03.857Z"
   },
   {
    "duration": 261,
    "start_time": "2022-05-11T00:19:04.115Z"
   },
   {
    "duration": 266,
    "start_time": "2022-05-11T00:19:04.379Z"
   },
   {
    "duration": 257,
    "start_time": "2022-05-11T00:19:04.648Z"
   },
   {
    "duration": 1251,
    "start_time": "2022-05-11T12:57:25.440Z"
   },
   {
    "duration": 23,
    "start_time": "2022-05-11T12:57:26.695Z"
   },
   {
    "duration": 64,
    "start_time": "2022-05-11T12:57:26.720Z"
   },
   {
    "duration": 11,
    "start_time": "2022-05-11T12:57:26.786Z"
   },
   {
    "duration": 9,
    "start_time": "2022-05-11T12:57:26.800Z"
   },
   {
    "duration": 81,
    "start_time": "2022-05-11T12:57:26.811Z"
   },
   {
    "duration": 13,
    "start_time": "2022-05-11T12:57:26.894Z"
   },
   {
    "duration": 21,
    "start_time": "2022-05-11T12:57:26.909Z"
   },
   {
    "duration": 38,
    "start_time": "2022-05-11T12:57:26.932Z"
   },
   {
    "duration": 30,
    "start_time": "2022-05-11T12:57:26.972Z"
   },
   {
    "duration": 277,
    "start_time": "2022-05-11T12:57:27.005Z"
   },
   {
    "duration": 6,
    "start_time": "2022-05-11T12:57:27.284Z"
   },
   {
    "duration": 70,
    "start_time": "2022-05-11T12:57:27.292Z"
   },
   {
    "duration": 8,
    "start_time": "2022-05-11T12:57:27.368Z"
   },
   {
    "duration": 67,
    "start_time": "2022-05-11T12:57:27.378Z"
   },
   {
    "duration": 52,
    "start_time": "2022-05-11T12:57:27.451Z"
   },
   {
    "duration": 5,
    "start_time": "2022-05-11T12:57:27.506Z"
   },
   {
    "duration": 20,
    "start_time": "2022-05-11T12:57:27.513Z"
   },
   {
    "duration": 39,
    "start_time": "2022-05-11T12:57:27.535Z"
   },
   {
    "duration": 7,
    "start_time": "2022-05-11T12:57:27.576Z"
   },
   {
    "duration": 544,
    "start_time": "2022-05-11T12:57:27.585Z"
   },
   {
    "duration": 6,
    "start_time": "2022-05-11T12:57:28.131Z"
   },
   {
    "duration": 16,
    "start_time": "2022-05-11T12:57:28.139Z"
   },
   {
    "duration": 571,
    "start_time": "2022-05-11T12:57:28.158Z"
   },
   {
    "duration": 542,
    "start_time": "2022-05-11T12:57:28.732Z"
   },
   {
    "duration": 370,
    "start_time": "2022-05-11T12:57:29.276Z"
   },
   {
    "duration": 345,
    "start_time": "2022-05-11T12:57:29.653Z"
   },
   {
    "duration": 170,
    "start_time": "2022-05-11T12:57:30.001Z"
   },
   {
    "duration": 795,
    "start_time": "2022-05-11T12:57:30.173Z"
   },
   {
    "duration": 16,
    "start_time": "2022-05-11T12:57:30.970Z"
   },
   {
    "duration": 12,
    "start_time": "2022-05-11T12:57:30.988Z"
   },
   {
    "duration": 17,
    "start_time": "2022-05-11T12:57:31.003Z"
   },
   {
    "duration": 160,
    "start_time": "2022-05-11T12:57:31.051Z"
   },
   {
    "duration": 867,
    "start_time": "2022-05-11T12:57:31.213Z"
   },
   {
    "duration": 12,
    "start_time": "2022-05-11T12:57:32.082Z"
   },
   {
    "duration": 279,
    "start_time": "2022-05-11T12:57:32.097Z"
   },
   {
    "duration": 277,
    "start_time": "2022-05-11T12:57:32.378Z"
   },
   {
    "duration": 318,
    "start_time": "2022-05-11T12:57:32.658Z"
   },
   {
    "duration": 257,
    "start_time": "2022-05-11T12:57:32.979Z"
   },
   {
    "duration": 286,
    "start_time": "2022-05-11T12:57:33.238Z"
   },
   {
    "duration": 278,
    "start_time": "2022-05-11T12:57:33.530Z"
   },
   {
    "duration": 282,
    "start_time": "2022-05-11T12:57:33.811Z"
   },
   {
    "duration": 56,
    "start_time": "2022-05-11T12:57:34.096Z"
   },
   {
    "duration": 15,
    "start_time": "2022-05-11T12:57:34.154Z"
   },
   {
    "duration": 11,
    "start_time": "2022-05-11T12:57:34.171Z"
   },
   {
    "duration": 7,
    "start_time": "2022-05-11T12:57:34.184Z"
   },
   {
    "duration": 284,
    "start_time": "2022-05-11T12:57:34.193Z"
   },
   {
    "duration": 11,
    "start_time": "2022-05-11T12:57:34.479Z"
   },
   {
    "duration": 22,
    "start_time": "2022-05-11T12:57:34.492Z"
   },
   {
    "duration": 377,
    "start_time": "2022-05-11T12:57:34.516Z"
   },
   {
    "duration": 302,
    "start_time": "2022-05-11T12:57:34.896Z"
   },
   {
    "duration": 257,
    "start_time": "2022-05-11T12:57:35.201Z"
   },
   {
    "duration": 283,
    "start_time": "2022-05-11T12:57:35.461Z"
   },
   {
    "duration": 278,
    "start_time": "2022-05-11T12:57:35.746Z"
   },
   {
    "duration": 303,
    "start_time": "2022-05-11T12:57:36.027Z"
   },
   {
    "duration": 296,
    "start_time": "2022-05-11T12:57:36.341Z"
   },
   {
    "duration": 12,
    "start_time": "2022-05-11T13:03:14.098Z"
   },
   {
    "duration": 2041,
    "start_time": "2022-05-11T13:13:59.479Z"
   },
   {
    "duration": 408,
    "start_time": "2022-05-11T13:14:28.279Z"
   },
   {
    "duration": 1135,
    "start_time": "2022-05-11T13:43:35.022Z"
   },
   {
    "duration": 17,
    "start_time": "2022-05-11T13:43:36.161Z"
   },
   {
    "duration": 34,
    "start_time": "2022-05-11T13:43:36.180Z"
   },
   {
    "duration": 13,
    "start_time": "2022-05-11T13:43:36.223Z"
   },
   {
    "duration": 13,
    "start_time": "2022-05-11T13:43:36.238Z"
   },
   {
    "duration": 66,
    "start_time": "2022-05-11T13:43:36.253Z"
   },
   {
    "duration": 21,
    "start_time": "2022-05-11T13:43:36.321Z"
   },
   {
    "duration": 30,
    "start_time": "2022-05-11T13:43:36.344Z"
   },
   {
    "duration": 14,
    "start_time": "2022-05-11T13:43:36.376Z"
   },
   {
    "duration": 19,
    "start_time": "2022-05-11T13:43:36.393Z"
   },
   {
    "duration": 196,
    "start_time": "2022-05-11T13:43:36.414Z"
   },
   {
    "duration": 6,
    "start_time": "2022-05-11T13:43:36.612Z"
   },
   {
    "duration": 64,
    "start_time": "2022-05-11T13:43:36.619Z"
   },
   {
    "duration": 6,
    "start_time": "2022-05-11T13:43:36.685Z"
   },
   {
    "duration": 68,
    "start_time": "2022-05-11T13:43:36.693Z"
   },
   {
    "duration": 47,
    "start_time": "2022-05-11T13:43:36.763Z"
   },
   {
    "duration": 12,
    "start_time": "2022-05-11T13:43:36.812Z"
   },
   {
    "duration": 37,
    "start_time": "2022-05-11T13:43:36.826Z"
   },
   {
    "duration": 38,
    "start_time": "2022-05-11T13:43:36.865Z"
   },
   {
    "duration": 10,
    "start_time": "2022-05-11T13:43:36.906Z"
   },
   {
    "duration": 379,
    "start_time": "2022-05-11T13:43:36.918Z"
   },
   {
    "duration": 4,
    "start_time": "2022-05-11T13:43:37.299Z"
   },
   {
    "duration": 22,
    "start_time": "2022-05-11T13:43:37.305Z"
   },
   {
    "duration": 371,
    "start_time": "2022-05-11T13:43:37.328Z"
   },
   {
    "duration": 423,
    "start_time": "2022-05-11T13:43:37.701Z"
   },
   {
    "duration": 283,
    "start_time": "2022-05-11T13:43:38.126Z"
   },
   {
    "duration": 205,
    "start_time": "2022-05-11T13:43:38.411Z"
   },
   {
    "duration": 88,
    "start_time": "2022-05-11T13:43:38.621Z"
   },
   {
    "duration": 482,
    "start_time": "2022-05-11T13:43:38.711Z"
   },
   {
    "duration": 12,
    "start_time": "2022-05-11T13:43:39.195Z"
   },
   {
    "duration": 28,
    "start_time": "2022-05-11T13:43:39.208Z"
   },
   {
    "duration": 13,
    "start_time": "2022-05-11T13:43:39.239Z"
   },
   {
    "duration": 108,
    "start_time": "2022-05-11T13:43:39.254Z"
   },
   {
    "duration": 554,
    "start_time": "2022-05-11T13:43:39.364Z"
   },
   {
    "duration": 13,
    "start_time": "2022-05-11T13:43:39.923Z"
   },
   {
    "duration": 218,
    "start_time": "2022-05-11T13:43:39.938Z"
   },
   {
    "duration": 205,
    "start_time": "2022-05-11T13:43:40.158Z"
   },
   {
    "duration": 207,
    "start_time": "2022-05-11T13:43:40.365Z"
   },
   {
    "duration": 159,
    "start_time": "2022-05-11T13:43:40.574Z"
   },
   {
    "duration": 310,
    "start_time": "2022-05-11T13:43:40.735Z"
   },
   {
    "duration": 189,
    "start_time": "2022-05-11T13:43:41.047Z"
   },
   {
    "duration": 172,
    "start_time": "2022-05-11T13:43:41.238Z"
   },
   {
    "duration": 172,
    "start_time": "2022-05-11T13:43:41.412Z"
   },
   {
    "duration": 40,
    "start_time": "2022-05-11T13:43:41.585Z"
   },
   {
    "duration": 11,
    "start_time": "2022-05-11T13:43:41.631Z"
   },
   {
    "duration": 12,
    "start_time": "2022-05-11T13:43:41.643Z"
   },
   {
    "duration": 8,
    "start_time": "2022-05-11T13:43:41.657Z"
   },
   {
    "duration": 251,
    "start_time": "2022-05-11T13:43:41.667Z"
   },
   {
    "duration": 9,
    "start_time": "2022-05-11T13:43:41.920Z"
   },
   {
    "duration": 12,
    "start_time": "2022-05-11T13:43:41.930Z"
   },
   {
    "duration": 188,
    "start_time": "2022-05-11T13:43:41.945Z"
   },
   {
    "duration": 172,
    "start_time": "2022-05-11T13:43:42.137Z"
   },
   {
    "duration": 148,
    "start_time": "2022-05-11T13:43:42.310Z"
   },
   {
    "duration": 179,
    "start_time": "2022-05-11T13:43:42.460Z"
   },
   {
    "duration": 175,
    "start_time": "2022-05-11T13:43:42.641Z"
   },
   {
    "duration": 161,
    "start_time": "2022-05-11T13:43:42.822Z"
   },
   {
    "duration": 191,
    "start_time": "2022-05-11T13:43:42.985Z"
   },
   {
    "duration": 3014,
    "start_time": "2022-05-12T14:24:32.543Z"
   },
   {
    "duration": 27,
    "start_time": "2022-05-12T14:24:35.560Z"
   },
   {
    "duration": 73,
    "start_time": "2022-05-12T14:24:35.589Z"
   },
   {
    "duration": 12,
    "start_time": "2022-05-12T14:24:35.666Z"
   },
   {
    "duration": 9,
    "start_time": "2022-05-12T14:24:35.681Z"
   },
   {
    "duration": 80,
    "start_time": "2022-05-12T14:24:35.692Z"
   },
   {
    "duration": 15,
    "start_time": "2022-05-12T14:24:35.775Z"
   },
   {
    "duration": 37,
    "start_time": "2022-05-12T14:24:35.792Z"
   },
   {
    "duration": 12,
    "start_time": "2022-05-12T14:24:35.832Z"
   },
   {
    "duration": 16,
    "start_time": "2022-05-12T14:24:35.850Z"
   },
   {
    "duration": 297,
    "start_time": "2022-05-12T14:24:35.869Z"
   },
   {
    "duration": 6,
    "start_time": "2022-05-12T14:24:36.168Z"
   },
   {
    "duration": 72,
    "start_time": "2022-05-12T14:24:36.177Z"
   },
   {
    "duration": 7,
    "start_time": "2022-05-12T14:24:36.252Z"
   },
   {
    "duration": 68,
    "start_time": "2022-05-12T14:24:36.261Z"
   },
   {
    "duration": 48,
    "start_time": "2022-05-12T14:24:36.332Z"
   },
   {
    "duration": 153,
    "start_time": "2022-05-12T14:24:36.382Z"
   },
   {
    "duration": 0,
    "start_time": "2022-05-12T14:24:36.538Z"
   },
   {
    "duration": 0,
    "start_time": "2022-05-12T14:24:36.540Z"
   },
   {
    "duration": 0,
    "start_time": "2022-05-12T14:24:36.541Z"
   },
   {
    "duration": 0,
    "start_time": "2022-05-12T14:24:36.542Z"
   },
   {
    "duration": 0,
    "start_time": "2022-05-12T14:24:36.544Z"
   },
   {
    "duration": 0,
    "start_time": "2022-05-12T14:24:36.546Z"
   },
   {
    "duration": 0,
    "start_time": "2022-05-12T14:24:36.548Z"
   },
   {
    "duration": 0,
    "start_time": "2022-05-12T14:24:36.549Z"
   },
   {
    "duration": 0,
    "start_time": "2022-05-12T14:24:36.551Z"
   },
   {
    "duration": 0,
    "start_time": "2022-05-12T14:24:36.552Z"
   },
   {
    "duration": 0,
    "start_time": "2022-05-12T14:24:36.553Z"
   },
   {
    "duration": 0,
    "start_time": "2022-05-12T14:24:36.555Z"
   },
   {
    "duration": 0,
    "start_time": "2022-05-12T14:24:36.557Z"
   },
   {
    "duration": 0,
    "start_time": "2022-05-12T14:24:36.558Z"
   },
   {
    "duration": 0,
    "start_time": "2022-05-12T14:24:36.559Z"
   },
   {
    "duration": 0,
    "start_time": "2022-05-12T14:24:36.561Z"
   },
   {
    "duration": 0,
    "start_time": "2022-05-12T14:24:36.562Z"
   },
   {
    "duration": 0,
    "start_time": "2022-05-12T14:24:36.564Z"
   },
   {
    "duration": 0,
    "start_time": "2022-05-12T14:24:36.566Z"
   },
   {
    "duration": 0,
    "start_time": "2022-05-12T14:24:36.567Z"
   },
   {
    "duration": 0,
    "start_time": "2022-05-12T14:24:36.569Z"
   },
   {
    "duration": 0,
    "start_time": "2022-05-12T14:24:36.570Z"
   },
   {
    "duration": 0,
    "start_time": "2022-05-12T14:24:36.572Z"
   },
   {
    "duration": 0,
    "start_time": "2022-05-12T14:24:36.573Z"
   },
   {
    "duration": 0,
    "start_time": "2022-05-12T14:24:36.575Z"
   },
   {
    "duration": 0,
    "start_time": "2022-05-12T14:24:36.626Z"
   },
   {
    "duration": 0,
    "start_time": "2022-05-12T14:24:36.627Z"
   },
   {
    "duration": 0,
    "start_time": "2022-05-12T14:24:36.629Z"
   },
   {
    "duration": 0,
    "start_time": "2022-05-12T14:24:36.630Z"
   },
   {
    "duration": 0,
    "start_time": "2022-05-12T14:24:36.631Z"
   },
   {
    "duration": 0,
    "start_time": "2022-05-12T14:24:36.633Z"
   },
   {
    "duration": 0,
    "start_time": "2022-05-12T14:24:36.634Z"
   },
   {
    "duration": 0,
    "start_time": "2022-05-12T14:24:36.635Z"
   },
   {
    "duration": 0,
    "start_time": "2022-05-12T14:24:36.636Z"
   },
   {
    "duration": 0,
    "start_time": "2022-05-12T14:24:36.638Z"
   },
   {
    "duration": 0,
    "start_time": "2022-05-12T14:24:36.639Z"
   },
   {
    "duration": 0,
    "start_time": "2022-05-12T14:24:36.641Z"
   },
   {
    "duration": 0,
    "start_time": "2022-05-12T14:24:36.643Z"
   },
   {
    "duration": 0,
    "start_time": "2022-05-12T14:24:36.644Z"
   },
   {
    "duration": 0,
    "start_time": "2022-05-12T14:24:36.646Z"
   },
   {
    "duration": 1,
    "start_time": "2022-05-12T14:24:36.647Z"
   },
   {
    "duration": 2249,
    "start_time": "2022-05-12T14:26:08.129Z"
   },
   {
    "duration": 5,
    "start_time": "2022-05-12T14:26:17.400Z"
   },
   {
    "duration": 7,
    "start_time": "2022-05-12T14:26:23.240Z"
   },
   {
    "duration": 12,
    "start_time": "2022-05-12T14:26:57.716Z"
   },
   {
    "duration": 109,
    "start_time": "2022-05-12T14:27:33.000Z"
   },
   {
    "duration": 11,
    "start_time": "2022-05-12T14:29:37.329Z"
   },
   {
    "duration": 15,
    "start_time": "2022-05-12T14:29:58.977Z"
   },
   {
    "duration": 16,
    "start_time": "2022-05-12T14:30:16.745Z"
   },
   {
    "duration": 11,
    "start_time": "2022-05-12T14:33:52.017Z"
   },
   {
    "duration": 22,
    "start_time": "2022-05-12T14:34:28.009Z"
   },
   {
    "duration": 7,
    "start_time": "2022-05-12T14:36:27.603Z"
   },
   {
    "duration": 16,
    "start_time": "2022-05-12T14:36:30.049Z"
   },
   {
    "duration": 83,
    "start_time": "2022-05-12T14:37:31.106Z"
   },
   {
    "duration": 50,
    "start_time": "2022-05-12T14:39:09.870Z"
   },
   {
    "duration": 109,
    "start_time": "2022-05-12T14:40:13.283Z"
   },
   {
    "duration": 180,
    "start_time": "2022-05-12T14:41:05.770Z"
   },
   {
    "duration": 101,
    "start_time": "2022-05-12T14:41:26.643Z"
   },
   {
    "duration": 105,
    "start_time": "2022-05-12T14:41:56.003Z"
   },
   {
    "duration": 18,
    "start_time": "2022-05-12T14:42:13.403Z"
   },
   {
    "duration": 15,
    "start_time": "2022-05-12T14:42:38.379Z"
   },
   {
    "duration": 509,
    "start_time": "2022-05-12T14:46:56.892Z"
   },
   {
    "duration": 555,
    "start_time": "2022-05-12T14:47:09.220Z"
   },
   {
    "duration": 512,
    "start_time": "2022-05-12T14:47:39.853Z"
   },
   {
    "duration": 479,
    "start_time": "2022-05-12T14:47:54.414Z"
   },
   {
    "duration": 474,
    "start_time": "2022-05-12T14:48:04.508Z"
   },
   {
    "duration": 479,
    "start_time": "2022-05-12T14:48:11.572Z"
   },
   {
    "duration": 616,
    "start_time": "2022-05-12T14:48:22.876Z"
   },
   {
    "duration": 597,
    "start_time": "2022-05-12T14:49:38.893Z"
   },
   {
    "duration": 119,
    "start_time": "2022-05-12T14:52:46.598Z"
   },
   {
    "duration": 95,
    "start_time": "2022-05-12T14:52:50.910Z"
   },
   {
    "duration": 104,
    "start_time": "2022-05-12T14:54:52.246Z"
   },
   {
    "duration": 973,
    "start_time": "2022-05-12T14:56:16.566Z"
   },
   {
    "duration": 21,
    "start_time": "2022-05-12T14:56:17.542Z"
   },
   {
    "duration": 68,
    "start_time": "2022-05-12T14:56:17.566Z"
   },
   {
    "duration": 11,
    "start_time": "2022-05-12T14:56:17.637Z"
   },
   {
    "duration": 13,
    "start_time": "2022-05-12T14:56:17.651Z"
   },
   {
    "duration": 67,
    "start_time": "2022-05-12T14:56:17.666Z"
   },
   {
    "duration": 14,
    "start_time": "2022-05-12T14:56:17.735Z"
   },
   {
    "duration": 10,
    "start_time": "2022-05-12T14:56:17.751Z"
   },
   {
    "duration": 15,
    "start_time": "2022-05-12T14:56:17.764Z"
   },
   {
    "duration": 46,
    "start_time": "2022-05-12T14:56:17.785Z"
   },
   {
    "duration": 279,
    "start_time": "2022-05-12T14:56:17.834Z"
   },
   {
    "duration": 11,
    "start_time": "2022-05-12T14:56:18.116Z"
   },
   {
    "duration": 53,
    "start_time": "2022-05-12T14:56:18.129Z"
   },
   {
    "duration": 8,
    "start_time": "2022-05-12T14:56:18.184Z"
   },
   {
    "duration": 78,
    "start_time": "2022-05-12T14:56:18.194Z"
   },
   {
    "duration": 66,
    "start_time": "2022-05-12T14:56:18.274Z"
   },
   {
    "duration": 12,
    "start_time": "2022-05-12T14:56:18.342Z"
   },
   {
    "duration": 6,
    "start_time": "2022-05-12T14:56:18.357Z"
   },
   {
    "duration": 12,
    "start_time": "2022-05-12T14:56:18.365Z"
   },
   {
    "duration": 517,
    "start_time": "2022-05-12T14:56:18.380Z"
   },
   {
    "duration": 562,
    "start_time": "2022-05-12T14:56:18.899Z"
   },
   {
    "duration": 21,
    "start_time": "2022-05-12T14:56:19.463Z"
   },
   {
    "duration": 7,
    "start_time": "2022-05-12T14:56:19.486Z"
   },
   {
    "duration": 40,
    "start_time": "2022-05-12T14:56:19.496Z"
   },
   {
    "duration": 5,
    "start_time": "2022-05-12T14:56:19.538Z"
   },
   {
    "duration": 487,
    "start_time": "2022-05-12T14:56:19.545Z"
   },
   {
    "duration": 5,
    "start_time": "2022-05-12T14:56:20.035Z"
   },
   {
    "duration": 13,
    "start_time": "2022-05-12T14:56:20.046Z"
   },
   {
    "duration": 500,
    "start_time": "2022-05-12T14:56:20.061Z"
   },
   {
    "duration": 512,
    "start_time": "2022-05-12T14:56:20.563Z"
   },
   {
    "duration": 358,
    "start_time": "2022-05-12T14:56:21.077Z"
   },
   {
    "duration": 318,
    "start_time": "2022-05-12T14:56:21.437Z"
   },
   {
    "duration": 147,
    "start_time": "2022-05-12T14:56:21.757Z"
   },
   {
    "duration": 821,
    "start_time": "2022-05-12T14:56:21.906Z"
   },
   {
    "duration": 17,
    "start_time": "2022-05-12T14:56:22.729Z"
   },
   {
    "duration": 15,
    "start_time": "2022-05-12T14:56:22.748Z"
   },
   {
    "duration": 16,
    "start_time": "2022-05-12T14:56:22.765Z"
   },
   {
    "duration": 176,
    "start_time": "2022-05-12T14:56:22.783Z"
   },
   {
    "duration": 817,
    "start_time": "2022-05-12T14:56:22.961Z"
   },
   {
    "duration": 11,
    "start_time": "2022-05-12T14:56:23.780Z"
   },
   {
    "duration": 255,
    "start_time": "2022-05-12T14:56:23.793Z"
   },
   {
    "duration": 272,
    "start_time": "2022-05-12T14:56:24.050Z"
   },
   {
    "duration": 303,
    "start_time": "2022-05-12T14:56:24.325Z"
   },
   {
    "duration": 249,
    "start_time": "2022-05-12T14:56:24.631Z"
   },
   {
    "duration": 469,
    "start_time": "2022-05-12T14:56:24.882Z"
   },
   {
    "duration": 586,
    "start_time": "2022-05-12T14:56:25.353Z"
   },
   {
    "duration": 491,
    "start_time": "2022-05-12T14:56:25.941Z"
   },
   {
    "duration": 501,
    "start_time": "2022-05-12T14:56:26.434Z"
   },
   {
    "duration": 91,
    "start_time": "2022-05-12T14:56:26.937Z"
   },
   {
    "duration": 11,
    "start_time": "2022-05-12T14:56:27.030Z"
   },
   {
    "duration": 14,
    "start_time": "2022-05-12T14:56:27.043Z"
   },
   {
    "duration": 8,
    "start_time": "2022-05-12T14:56:27.059Z"
   },
   {
    "duration": 542,
    "start_time": "2022-05-12T14:56:27.125Z"
   },
   {
    "duration": 70,
    "start_time": "2022-05-12T14:56:27.670Z"
   },
   {
    "duration": 16,
    "start_time": "2022-05-12T14:56:27.742Z"
   },
   {
    "duration": 499,
    "start_time": "2022-05-12T14:56:27.761Z"
   },
   {
    "duration": 354,
    "start_time": "2022-05-12T14:56:28.262Z"
   },
   {
    "duration": 227,
    "start_time": "2022-05-12T14:56:28.618Z"
   },
   {
    "duration": 279,
    "start_time": "2022-05-12T14:56:28.847Z"
   },
   {
    "duration": 284,
    "start_time": "2022-05-12T14:56:29.128Z"
   },
   {
    "duration": 271,
    "start_time": "2022-05-12T14:56:29.414Z"
   },
   {
    "duration": 325,
    "start_time": "2022-05-12T14:56:29.687Z"
   },
   {
    "duration": 4,
    "start_time": "2022-05-12T14:58:03.781Z"
   },
   {
    "duration": 5,
    "start_time": "2022-05-12T14:58:06.046Z"
   },
   {
    "duration": 925,
    "start_time": "2022-05-12T14:58:15.764Z"
   },
   {
    "duration": 35,
    "start_time": "2022-05-12T14:58:16.692Z"
   },
   {
    "duration": 45,
    "start_time": "2022-05-12T14:58:16.730Z"
   },
   {
    "duration": 11,
    "start_time": "2022-05-12T14:58:16.778Z"
   },
   {
    "duration": 33,
    "start_time": "2022-05-12T14:58:16.792Z"
   },
   {
    "duration": 52,
    "start_time": "2022-05-12T14:58:16.828Z"
   },
   {
    "duration": 13,
    "start_time": "2022-05-12T14:58:16.882Z"
   },
   {
    "duration": 32,
    "start_time": "2022-05-12T14:58:16.898Z"
   },
   {
    "duration": 9,
    "start_time": "2022-05-12T14:58:16.933Z"
   },
   {
    "duration": 13,
    "start_time": "2022-05-12T14:58:16.948Z"
   },
   {
    "duration": 304,
    "start_time": "2022-05-12T14:58:16.964Z"
   },
   {
    "duration": 7,
    "start_time": "2022-05-12T14:58:17.270Z"
   },
   {
    "duration": 62,
    "start_time": "2022-05-12T14:58:17.279Z"
   },
   {
    "duration": 8,
    "start_time": "2022-05-12T14:58:17.343Z"
   },
   {
    "duration": 54,
    "start_time": "2022-05-12T14:58:17.353Z"
   },
   {
    "duration": 48,
    "start_time": "2022-05-12T14:58:17.425Z"
   },
   {
    "duration": 4,
    "start_time": "2022-05-12T14:58:17.475Z"
   },
   {
    "duration": 9,
    "start_time": "2022-05-12T14:58:17.481Z"
   },
   {
    "duration": 34,
    "start_time": "2022-05-12T14:58:17.492Z"
   },
   {
    "duration": 495,
    "start_time": "2022-05-12T14:58:17.529Z"
   },
   {
    "duration": 1027,
    "start_time": "2022-05-12T14:58:18.026Z"
   },
   {
    "duration": 71,
    "start_time": "2022-05-12T14:58:19.055Z"
   },
   {
    "duration": 6,
    "start_time": "2022-05-12T14:58:19.129Z"
   },
   {
    "duration": 22,
    "start_time": "2022-05-12T14:58:19.137Z"
   },
   {
    "duration": 4,
    "start_time": "2022-05-12T14:58:19.161Z"
   },
   {
    "duration": 968,
    "start_time": "2022-05-12T14:58:19.167Z"
   },
   {
    "duration": 6,
    "start_time": "2022-05-12T14:58:20.137Z"
   },
   {
    "duration": 23,
    "start_time": "2022-05-12T14:58:20.148Z"
   },
   {
    "duration": 962,
    "start_time": "2022-05-12T14:58:20.174Z"
   },
   {
    "duration": 1020,
    "start_time": "2022-05-12T14:58:21.138Z"
   },
   {
    "duration": 700,
    "start_time": "2022-05-12T14:58:22.160Z"
   },
   {
    "duration": 669,
    "start_time": "2022-05-12T14:58:22.862Z"
   },
   {
    "duration": 186,
    "start_time": "2022-05-12T14:58:23.533Z"
   },
   {
    "duration": 883,
    "start_time": "2022-05-12T14:58:23.722Z"
   },
   {
    "duration": 26,
    "start_time": "2022-05-12T14:58:24.608Z"
   },
   {
    "duration": 15,
    "start_time": "2022-05-12T14:58:24.637Z"
   },
   {
    "duration": 16,
    "start_time": "2022-05-12T14:58:24.654Z"
   },
   {
    "duration": 178,
    "start_time": "2022-05-12T14:58:24.672Z"
   },
   {
    "duration": 845,
    "start_time": "2022-05-12T14:58:24.853Z"
   },
   {
    "duration": 26,
    "start_time": "2022-05-12T14:58:25.700Z"
   },
   {
    "duration": 261,
    "start_time": "2022-05-12T14:58:25.728Z"
   },
   {
    "duration": 297,
    "start_time": "2022-05-12T14:58:25.992Z"
   },
   {
    "duration": 314,
    "start_time": "2022-05-12T14:58:26.291Z"
   },
   {
    "duration": 260,
    "start_time": "2022-05-12T14:58:26.607Z"
   },
   {
    "duration": 436,
    "start_time": "2022-05-12T14:58:26.869Z"
   },
   {
    "duration": 375,
    "start_time": "2022-05-12T14:58:27.307Z"
   },
   {
    "duration": 270,
    "start_time": "2022-05-12T14:58:27.684Z"
   },
   {
    "duration": 284,
    "start_time": "2022-05-12T14:58:27.957Z"
   },
   {
    "duration": 35,
    "start_time": "2022-05-12T14:58:28.243Z"
   },
   {
    "duration": 11,
    "start_time": "2022-05-12T14:58:28.280Z"
   },
   {
    "duration": 41,
    "start_time": "2022-05-12T14:58:28.294Z"
   },
   {
    "duration": 30,
    "start_time": "2022-05-12T14:58:28.338Z"
   },
   {
    "duration": 264,
    "start_time": "2022-05-12T14:58:28.371Z"
   },
   {
    "duration": 12,
    "start_time": "2022-05-12T14:58:28.637Z"
   },
   {
    "duration": 38,
    "start_time": "2022-05-12T14:58:28.651Z"
   },
   {
    "duration": 300,
    "start_time": "2022-05-12T14:58:28.692Z"
   },
   {
    "duration": 271,
    "start_time": "2022-05-12T14:58:28.994Z"
   },
   {
    "duration": 219,
    "start_time": "2022-05-12T14:58:29.268Z"
   },
   {
    "duration": 271,
    "start_time": "2022-05-12T14:58:29.489Z"
   },
   {
    "duration": 284,
    "start_time": "2022-05-12T14:58:29.762Z"
   },
   {
    "duration": 269,
    "start_time": "2022-05-12T14:58:30.048Z"
   },
   {
    "duration": 286,
    "start_time": "2022-05-12T14:58:30.324Z"
   },
   {
    "duration": 12,
    "start_time": "2022-05-12T14:58:49.247Z"
   },
   {
    "duration": 6,
    "start_time": "2022-05-12T14:58:50.535Z"
   },
   {
    "duration": 21,
    "start_time": "2022-05-12T14:58:54.014Z"
   },
   {
    "duration": 54,
    "start_time": "2022-05-13T06:19:38.051Z"
   },
   {
    "duration": 893,
    "start_time": "2022-05-13T06:19:46.364Z"
   },
   {
    "duration": 17,
    "start_time": "2022-05-13T06:19:47.259Z"
   },
   {
    "duration": 43,
    "start_time": "2022-05-13T06:19:47.278Z"
   },
   {
    "duration": 12,
    "start_time": "2022-05-13T06:19:47.323Z"
   },
   {
    "duration": 7,
    "start_time": "2022-05-13T06:19:47.337Z"
   },
   {
    "duration": 67,
    "start_time": "2022-05-13T06:19:47.345Z"
   },
   {
    "duration": 11,
    "start_time": "2022-05-13T06:19:47.414Z"
   },
   {
    "duration": 5,
    "start_time": "2022-05-13T06:19:47.427Z"
   },
   {
    "duration": 6,
    "start_time": "2022-05-13T06:19:47.433Z"
   },
   {
    "duration": 30,
    "start_time": "2022-05-13T06:19:47.443Z"
   },
   {
    "duration": 161,
    "start_time": "2022-05-13T06:19:47.475Z"
   },
   {
    "duration": 5,
    "start_time": "2022-05-13T06:19:47.638Z"
   },
   {
    "duration": 45,
    "start_time": "2022-05-13T06:19:47.645Z"
   },
   {
    "duration": 5,
    "start_time": "2022-05-13T06:19:47.692Z"
   },
   {
    "duration": 33,
    "start_time": "2022-05-13T06:19:47.698Z"
   },
   {
    "duration": 56,
    "start_time": "2022-05-13T06:19:47.733Z"
   },
   {
    "duration": 10,
    "start_time": "2022-05-13T06:19:47.791Z"
   },
   {
    "duration": 5,
    "start_time": "2022-05-13T06:19:47.803Z"
   },
   {
    "duration": 4,
    "start_time": "2022-05-13T06:19:47.810Z"
   },
   {
    "duration": 299,
    "start_time": "2022-05-13T06:19:47.816Z"
   },
   {
    "duration": 446,
    "start_time": "2022-05-13T06:19:48.117Z"
   },
   {
    "duration": 18,
    "start_time": "2022-05-13T06:19:48.570Z"
   },
   {
    "duration": 8,
    "start_time": "2022-05-13T06:19:48.590Z"
   },
   {
    "duration": 15,
    "start_time": "2022-05-13T06:19:48.600Z"
   },
   {
    "duration": 4,
    "start_time": "2022-05-13T06:19:48.617Z"
   },
   {
    "duration": 434,
    "start_time": "2022-05-13T06:19:48.623Z"
   },
   {
    "duration": 16,
    "start_time": "2022-05-13T06:19:49.058Z"
   },
   {
    "duration": 14,
    "start_time": "2022-05-13T06:19:49.078Z"
   },
   {
    "duration": 264,
    "start_time": "2022-05-13T06:19:49.094Z"
   },
   {
    "duration": 299,
    "start_time": "2022-05-13T06:19:49.360Z"
   },
   {
    "duration": 207,
    "start_time": "2022-05-13T06:19:49.661Z"
   },
   {
    "duration": 246,
    "start_time": "2022-05-13T06:19:49.871Z"
   },
   {
    "duration": 205,
    "start_time": "2022-05-13T06:19:50.173Z"
   },
   {
    "duration": 1419,
    "start_time": "2022-05-13T06:19:50.379Z"
   },
   {
    "duration": 10,
    "start_time": "2022-05-13T06:19:51.799Z"
   },
   {
    "duration": 10,
    "start_time": "2022-05-13T06:19:51.811Z"
   },
   {
    "duration": 11,
    "start_time": "2022-05-13T06:19:51.822Z"
   },
   {
    "duration": 126,
    "start_time": "2022-05-13T06:19:51.835Z"
   },
   {
    "duration": 439,
    "start_time": "2022-05-13T06:19:51.972Z"
   },
   {
    "duration": 9,
    "start_time": "2022-05-13T06:19:52.413Z"
   },
   {
    "duration": 4,
    "start_time": "2022-05-13T06:19:52.424Z"
   },
   {
    "duration": 172,
    "start_time": "2022-05-13T06:19:52.430Z"
   },
   {
    "duration": 152,
    "start_time": "2022-05-13T06:19:52.604Z"
   },
   {
    "duration": 206,
    "start_time": "2022-05-13T06:19:52.758Z"
   },
   {
    "duration": 160,
    "start_time": "2022-05-13T06:19:52.965Z"
   },
   {
    "duration": 382,
    "start_time": "2022-05-13T06:19:53.127Z"
   },
   {
    "duration": 159,
    "start_time": "2022-05-13T06:19:53.512Z"
   },
   {
    "duration": 167,
    "start_time": "2022-05-13T06:19:53.673Z"
   },
   {
    "duration": 219,
    "start_time": "2022-05-13T06:19:53.841Z"
   },
   {
    "duration": 35,
    "start_time": "2022-05-13T06:19:54.062Z"
   },
   {
    "duration": 8,
    "start_time": "2022-05-13T06:19:54.099Z"
   },
   {
    "duration": 7,
    "start_time": "2022-05-13T06:19:54.109Z"
   },
   {
    "duration": 7,
    "start_time": "2022-05-13T06:19:54.118Z"
   },
   {
    "duration": 164,
    "start_time": "2022-05-13T06:19:54.126Z"
   },
   {
    "duration": 8,
    "start_time": "2022-05-13T06:19:54.291Z"
   },
   {
    "duration": 9,
    "start_time": "2022-05-13T06:19:54.300Z"
   },
   {
    "duration": 151,
    "start_time": "2022-05-13T06:19:54.311Z"
   },
   {
    "duration": 161,
    "start_time": "2022-05-13T06:19:54.463Z"
   },
   {
    "duration": 123,
    "start_time": "2022-05-13T06:19:54.626Z"
   },
   {
    "duration": 161,
    "start_time": "2022-05-13T06:19:54.751Z"
   },
   {
    "duration": 174,
    "start_time": "2022-05-13T06:19:54.914Z"
   },
   {
    "duration": 145,
    "start_time": "2022-05-13T06:19:55.089Z"
   },
   {
    "duration": 167,
    "start_time": "2022-05-13T06:19:55.236Z"
   },
   {
    "duration": 5,
    "start_time": "2022-05-13T06:20:22.662Z"
   },
   {
    "duration": 79,
    "start_time": "2022-05-13T06:34:13.063Z"
   },
   {
    "duration": 175,
    "start_time": "2022-05-13T06:34:21.322Z"
   },
   {
    "duration": 88,
    "start_time": "2022-05-13T06:34:55.658Z"
   },
   {
    "duration": 138,
    "start_time": "2022-05-13T07:22:03.517Z"
   },
   {
    "duration": 140,
    "start_time": "2022-05-13T07:22:32.284Z"
   },
   {
    "duration": 157,
    "start_time": "2022-05-13T07:23:12.340Z"
   },
   {
    "duration": 129,
    "start_time": "2022-05-13T07:24:41.476Z"
   },
   {
    "duration": 128,
    "start_time": "2022-05-13T07:25:00.220Z"
   },
   {
    "duration": 136,
    "start_time": "2022-05-13T07:25:13.477Z"
   },
   {
    "duration": 171,
    "start_time": "2022-05-13T07:26:31.682Z"
   },
   {
    "duration": 131,
    "start_time": "2022-05-13T07:27:29.205Z"
   },
   {
    "duration": 143,
    "start_time": "2022-05-13T07:27:52.318Z"
   },
   {
    "duration": 140,
    "start_time": "2022-05-13T07:28:17.221Z"
   },
   {
    "duration": 147,
    "start_time": "2022-05-13T07:28:26.854Z"
   },
   {
    "duration": 217,
    "start_time": "2022-05-13T07:28:40.237Z"
   },
   {
    "duration": 149,
    "start_time": "2022-05-13T07:33:15.630Z"
   },
   {
    "duration": 134,
    "start_time": "2022-05-13T07:55:01.254Z"
   },
   {
    "duration": 82,
    "start_time": "2022-05-13T07:59:11.910Z"
   },
   {
    "duration": 24,
    "start_time": "2022-05-13T07:59:57.613Z"
   },
   {
    "duration": 1030,
    "start_time": "2022-05-13T08:00:07.519Z"
   },
   {
    "duration": 21,
    "start_time": "2022-05-13T08:00:08.551Z"
   },
   {
    "duration": 26,
    "start_time": "2022-05-13T08:00:08.575Z"
   },
   {
    "duration": 7,
    "start_time": "2022-05-13T08:00:08.603Z"
   },
   {
    "duration": 7,
    "start_time": "2022-05-13T08:00:08.611Z"
   },
   {
    "duration": 29,
    "start_time": "2022-05-13T08:00:08.620Z"
   },
   {
    "duration": 9,
    "start_time": "2022-05-13T08:00:08.671Z"
   },
   {
    "duration": 5,
    "start_time": "2022-05-13T08:00:08.682Z"
   },
   {
    "duration": 7,
    "start_time": "2022-05-13T08:00:08.690Z"
   },
   {
    "duration": 10,
    "start_time": "2022-05-13T08:00:08.699Z"
   },
   {
    "duration": 164,
    "start_time": "2022-05-13T08:00:08.711Z"
   },
   {
    "duration": 5,
    "start_time": "2022-05-13T08:00:08.876Z"
   },
   {
    "duration": 29,
    "start_time": "2022-05-13T08:00:08.882Z"
   },
   {
    "duration": 5,
    "start_time": "2022-05-13T08:00:08.912Z"
   },
   {
    "duration": 28,
    "start_time": "2022-05-13T08:00:08.918Z"
   },
   {
    "duration": 49,
    "start_time": "2022-05-13T08:00:08.948Z"
   },
   {
    "duration": 8,
    "start_time": "2022-05-13T08:00:08.998Z"
   },
   {
    "duration": 4,
    "start_time": "2022-05-13T08:00:09.007Z"
   },
   {
    "duration": 5,
    "start_time": "2022-05-13T08:00:09.012Z"
   },
   {
    "duration": 275,
    "start_time": "2022-05-13T08:00:09.018Z"
   },
   {
    "duration": 331,
    "start_time": "2022-05-13T08:00:09.295Z"
   },
   {
    "duration": 13,
    "start_time": "2022-05-13T08:00:09.628Z"
   },
   {
    "duration": 5,
    "start_time": "2022-05-13T08:00:09.643Z"
   },
   {
    "duration": 33,
    "start_time": "2022-05-13T08:00:09.649Z"
   },
   {
    "duration": 4,
    "start_time": "2022-05-13T08:00:09.683Z"
   },
   {
    "duration": 258,
    "start_time": "2022-05-13T08:00:09.689Z"
   },
   {
    "duration": 4,
    "start_time": "2022-05-13T08:00:09.952Z"
   },
   {
    "duration": 13,
    "start_time": "2022-05-13T08:00:09.958Z"
   },
   {
    "duration": 266,
    "start_time": "2022-05-13T08:00:09.972Z"
   },
   {
    "duration": 276,
    "start_time": "2022-05-13T08:00:10.240Z"
   },
   {
    "duration": 195,
    "start_time": "2022-05-13T08:00:10.518Z"
   },
   {
    "duration": 181,
    "start_time": "2022-05-13T08:00:10.715Z"
   },
   {
    "duration": 102,
    "start_time": "2022-05-13T08:00:10.899Z"
   },
   {
    "duration": 484,
    "start_time": "2022-05-13T08:00:11.003Z"
   },
   {
    "duration": 11,
    "start_time": "2022-05-13T08:00:11.489Z"
   },
   {
    "duration": 8,
    "start_time": "2022-05-13T08:00:11.502Z"
   },
   {
    "duration": 10,
    "start_time": "2022-05-13T08:00:11.512Z"
   },
   {
    "duration": 114,
    "start_time": "2022-05-13T08:00:11.523Z"
   },
   {
    "duration": 412,
    "start_time": "2022-05-13T08:00:11.639Z"
   },
   {
    "duration": 9,
    "start_time": "2022-05-13T08:00:12.053Z"
   },
   {
    "duration": 67,
    "start_time": "2022-05-13T08:00:12.071Z"
   },
   {
    "duration": 0,
    "start_time": "2022-05-13T08:00:12.140Z"
   },
   {
    "duration": 0,
    "start_time": "2022-05-13T08:00:12.142Z"
   },
   {
    "duration": 0,
    "start_time": "2022-05-13T08:00:12.144Z"
   },
   {
    "duration": 0,
    "start_time": "2022-05-13T08:00:12.145Z"
   },
   {
    "duration": 0,
    "start_time": "2022-05-13T08:00:12.146Z"
   },
   {
    "duration": 0,
    "start_time": "2022-05-13T08:00:12.148Z"
   },
   {
    "duration": 0,
    "start_time": "2022-05-13T08:00:12.170Z"
   },
   {
    "duration": 0,
    "start_time": "2022-05-13T08:00:12.172Z"
   },
   {
    "duration": 0,
    "start_time": "2022-05-13T08:00:12.174Z"
   },
   {
    "duration": 0,
    "start_time": "2022-05-13T08:00:12.175Z"
   },
   {
    "duration": 0,
    "start_time": "2022-05-13T08:00:12.176Z"
   },
   {
    "duration": 0,
    "start_time": "2022-05-13T08:00:12.178Z"
   },
   {
    "duration": 0,
    "start_time": "2022-05-13T08:00:12.179Z"
   },
   {
    "duration": 0,
    "start_time": "2022-05-13T08:00:12.181Z"
   },
   {
    "duration": 0,
    "start_time": "2022-05-13T08:00:12.182Z"
   },
   {
    "duration": 0,
    "start_time": "2022-05-13T08:00:12.183Z"
   },
   {
    "duration": 0,
    "start_time": "2022-05-13T08:00:12.185Z"
   },
   {
    "duration": 0,
    "start_time": "2022-05-13T08:00:12.186Z"
   },
   {
    "duration": 0,
    "start_time": "2022-05-13T08:00:12.187Z"
   },
   {
    "duration": 0,
    "start_time": "2022-05-13T08:00:12.188Z"
   },
   {
    "duration": 0,
    "start_time": "2022-05-13T08:00:12.190Z"
   },
   {
    "duration": 0,
    "start_time": "2022-05-13T08:00:12.192Z"
   },
   {
    "duration": 0,
    "start_time": "2022-05-13T08:00:12.193Z"
   },
   {
    "duration": 0,
    "start_time": "2022-05-13T08:00:12.195Z"
   },
   {
    "duration": 0,
    "start_time": "2022-05-13T08:00:12.196Z"
   },
   {
    "duration": 26,
    "start_time": "2022-05-13T08:00:19.549Z"
   },
   {
    "duration": 36,
    "start_time": "2022-05-13T08:00:27.085Z"
   },
   {
    "duration": 7,
    "start_time": "2022-05-13T08:00:57.565Z"
   },
   {
    "duration": 904,
    "start_time": "2022-05-13T08:01:08.573Z"
   },
   {
    "duration": 15,
    "start_time": "2022-05-13T08:01:09.479Z"
   },
   {
    "duration": 26,
    "start_time": "2022-05-13T08:01:09.495Z"
   },
   {
    "duration": 7,
    "start_time": "2022-05-13T08:01:09.523Z"
   },
   {
    "duration": 8,
    "start_time": "2022-05-13T08:01:09.532Z"
   },
   {
    "duration": 52,
    "start_time": "2022-05-13T08:01:09.541Z"
   },
   {
    "duration": 9,
    "start_time": "2022-05-13T08:01:09.595Z"
   },
   {
    "duration": 5,
    "start_time": "2022-05-13T08:01:09.605Z"
   },
   {
    "duration": 5,
    "start_time": "2022-05-13T08:01:09.612Z"
   },
   {
    "duration": 8,
    "start_time": "2022-05-13T08:01:09.620Z"
   },
   {
    "duration": 172,
    "start_time": "2022-05-13T08:01:09.630Z"
   },
   {
    "duration": 5,
    "start_time": "2022-05-13T08:01:09.803Z"
   },
   {
    "duration": 31,
    "start_time": "2022-05-13T08:01:09.809Z"
   },
   {
    "duration": 6,
    "start_time": "2022-05-13T08:01:09.841Z"
   },
   {
    "duration": 46,
    "start_time": "2022-05-13T08:01:09.849Z"
   },
   {
    "duration": 27,
    "start_time": "2022-05-13T08:01:09.897Z"
   },
   {
    "duration": 9,
    "start_time": "2022-05-13T08:01:09.926Z"
   },
   {
    "duration": 5,
    "start_time": "2022-05-13T08:01:09.936Z"
   },
   {
    "duration": 5,
    "start_time": "2022-05-13T08:01:09.971Z"
   },
   {
    "duration": 272,
    "start_time": "2022-05-13T08:01:09.977Z"
   },
   {
    "duration": 319,
    "start_time": "2022-05-13T08:01:10.251Z"
   },
   {
    "duration": 13,
    "start_time": "2022-05-13T08:01:10.572Z"
   },
   {
    "duration": 4,
    "start_time": "2022-05-13T08:01:10.587Z"
   },
   {
    "duration": 17,
    "start_time": "2022-05-13T08:01:10.593Z"
   },
   {
    "duration": 4,
    "start_time": "2022-05-13T08:01:10.611Z"
   },
   {
    "duration": 275,
    "start_time": "2022-05-13T08:01:10.616Z"
   },
   {
    "duration": 4,
    "start_time": "2022-05-13T08:01:10.892Z"
   },
   {
    "duration": 4,
    "start_time": "2022-05-13T08:01:10.899Z"
   },
   {
    "duration": 267,
    "start_time": "2022-05-13T08:01:10.904Z"
   },
   {
    "duration": 279,
    "start_time": "2022-05-13T08:01:11.172Z"
   },
   {
    "duration": 192,
    "start_time": "2022-05-13T08:01:11.453Z"
   },
   {
    "duration": 178,
    "start_time": "2022-05-13T08:01:11.647Z"
   },
   {
    "duration": 93,
    "start_time": "2022-05-13T08:01:11.827Z"
   },
   {
    "duration": 490,
    "start_time": "2022-05-13T08:01:11.922Z"
   },
   {
    "duration": 12,
    "start_time": "2022-05-13T08:01:12.413Z"
   },
   {
    "duration": 9,
    "start_time": "2022-05-13T08:01:12.427Z"
   },
   {
    "duration": 36,
    "start_time": "2022-05-13T08:01:12.437Z"
   },
   {
    "duration": 97,
    "start_time": "2022-05-13T08:01:12.475Z"
   },
   {
    "duration": 405,
    "start_time": "2022-05-13T08:01:12.574Z"
   },
   {
    "duration": 9,
    "start_time": "2022-05-13T08:01:12.980Z"
   },
   {
    "duration": 86,
    "start_time": "2022-05-13T08:01:12.991Z"
   },
   {
    "duration": 0,
    "start_time": "2022-05-13T08:01:13.078Z"
   },
   {
    "duration": 0,
    "start_time": "2022-05-13T08:01:13.080Z"
   },
   {
    "duration": 0,
    "start_time": "2022-05-13T08:01:13.081Z"
   },
   {
    "duration": 0,
    "start_time": "2022-05-13T08:01:13.083Z"
   },
   {
    "duration": 0,
    "start_time": "2022-05-13T08:01:13.084Z"
   },
   {
    "duration": 0,
    "start_time": "2022-05-13T08:01:13.085Z"
   },
   {
    "duration": 0,
    "start_time": "2022-05-13T08:01:13.087Z"
   },
   {
    "duration": 0,
    "start_time": "2022-05-13T08:01:13.088Z"
   },
   {
    "duration": 0,
    "start_time": "2022-05-13T08:01:13.089Z"
   },
   {
    "duration": 0,
    "start_time": "2022-05-13T08:01:13.090Z"
   },
   {
    "duration": 0,
    "start_time": "2022-05-13T08:01:13.092Z"
   },
   {
    "duration": 0,
    "start_time": "2022-05-13T08:01:13.093Z"
   },
   {
    "duration": 0,
    "start_time": "2022-05-13T08:01:13.095Z"
   },
   {
    "duration": 0,
    "start_time": "2022-05-13T08:01:13.096Z"
   },
   {
    "duration": 0,
    "start_time": "2022-05-13T08:01:13.097Z"
   },
   {
    "duration": 0,
    "start_time": "2022-05-13T08:01:13.099Z"
   },
   {
    "duration": 0,
    "start_time": "2022-05-13T08:01:13.100Z"
   },
   {
    "duration": 0,
    "start_time": "2022-05-13T08:01:13.101Z"
   },
   {
    "duration": 0,
    "start_time": "2022-05-13T08:01:13.103Z"
   },
   {
    "duration": 0,
    "start_time": "2022-05-13T08:01:13.104Z"
   },
   {
    "duration": 0,
    "start_time": "2022-05-13T08:01:13.105Z"
   },
   {
    "duration": 0,
    "start_time": "2022-05-13T08:01:13.107Z"
   },
   {
    "duration": 0,
    "start_time": "2022-05-13T08:01:13.108Z"
   },
   {
    "duration": 0,
    "start_time": "2022-05-13T08:01:13.109Z"
   },
   {
    "duration": 0,
    "start_time": "2022-05-13T08:01:13.110Z"
   },
   {
    "duration": 253,
    "start_time": "2022-05-13T08:01:25.854Z"
   },
   {
    "duration": 109,
    "start_time": "2022-05-13T08:01:29.125Z"
   },
   {
    "duration": 4,
    "start_time": "2022-05-13T08:01:59.582Z"
   },
   {
    "duration": 24,
    "start_time": "2022-05-13T08:02:14.327Z"
   },
   {
    "duration": 23,
    "start_time": "2022-05-13T08:02:37.399Z"
   },
   {
    "duration": 19,
    "start_time": "2022-05-13T08:02:48.952Z"
   },
   {
    "duration": 19,
    "start_time": "2022-05-13T08:02:57.023Z"
   },
   {
    "duration": 22,
    "start_time": "2022-05-13T08:03:33.888Z"
   },
   {
    "duration": 142,
    "start_time": "2022-05-13T08:03:45.231Z"
   },
   {
    "duration": 138,
    "start_time": "2022-05-13T08:04:42.614Z"
   },
   {
    "duration": 133,
    "start_time": "2022-05-13T08:04:56.391Z"
   },
   {
    "duration": 212,
    "start_time": "2022-05-13T08:08:49.841Z"
   },
   {
    "duration": 133,
    "start_time": "2022-05-13T08:09:02.611Z"
   },
   {
    "duration": 696,
    "start_time": "2022-05-13T08:13:26.022Z"
   },
   {
    "duration": 15,
    "start_time": "2022-05-13T08:13:26.720Z"
   },
   {
    "duration": 39,
    "start_time": "2022-05-13T08:13:26.737Z"
   },
   {
    "duration": 8,
    "start_time": "2022-05-13T08:13:26.777Z"
   },
   {
    "duration": 7,
    "start_time": "2022-05-13T08:13:26.786Z"
   },
   {
    "duration": 30,
    "start_time": "2022-05-13T08:13:26.794Z"
   },
   {
    "duration": 9,
    "start_time": "2022-05-13T08:13:26.826Z"
   },
   {
    "duration": 5,
    "start_time": "2022-05-13T08:13:26.836Z"
   },
   {
    "duration": 31,
    "start_time": "2022-05-13T08:13:26.842Z"
   },
   {
    "duration": 14,
    "start_time": "2022-05-13T08:13:26.876Z"
   },
   {
    "duration": 165,
    "start_time": "2022-05-13T08:13:26.892Z"
   },
   {
    "duration": 5,
    "start_time": "2022-05-13T08:13:27.059Z"
   },
   {
    "duration": 31,
    "start_time": "2022-05-13T08:13:27.071Z"
   },
   {
    "duration": 5,
    "start_time": "2022-05-13T08:13:27.103Z"
   },
   {
    "duration": 31,
    "start_time": "2022-05-13T08:13:27.109Z"
   },
   {
    "duration": 54,
    "start_time": "2022-05-13T08:13:27.142Z"
   },
   {
    "duration": 9,
    "start_time": "2022-05-13T08:13:27.198Z"
   },
   {
    "duration": 5,
    "start_time": "2022-05-13T08:13:27.208Z"
   },
   {
    "duration": 5,
    "start_time": "2022-05-13T08:13:27.215Z"
   },
   {
    "duration": 280,
    "start_time": "2022-05-13T08:13:27.222Z"
   },
   {
    "duration": 318,
    "start_time": "2022-05-13T08:13:27.504Z"
   },
   {
    "duration": 13,
    "start_time": "2022-05-13T08:13:27.823Z"
   },
   {
    "duration": 4,
    "start_time": "2022-05-13T08:13:27.837Z"
   },
   {
    "duration": 28,
    "start_time": "2022-05-13T08:13:27.843Z"
   },
   {
    "duration": 3,
    "start_time": "2022-05-13T08:13:27.872Z"
   },
   {
    "duration": 269,
    "start_time": "2022-05-13T08:13:27.877Z"
   },
   {
    "duration": 4,
    "start_time": "2022-05-13T08:13:28.148Z"
   },
   {
    "duration": 15,
    "start_time": "2022-05-13T08:13:28.156Z"
   },
   {
    "duration": 255,
    "start_time": "2022-05-13T08:13:28.173Z"
   },
   {
    "duration": 279,
    "start_time": "2022-05-13T08:13:28.430Z"
   },
   {
    "duration": 193,
    "start_time": "2022-05-13T08:13:28.710Z"
   },
   {
    "duration": 177,
    "start_time": "2022-05-13T08:13:28.904Z"
   },
   {
    "duration": 100,
    "start_time": "2022-05-13T08:13:29.082Z"
   },
   {
    "duration": 821,
    "start_time": "2022-05-13T08:13:29.183Z"
   },
   {
    "duration": 65,
    "start_time": "2022-05-13T08:13:30.007Z"
   },
   {
    "duration": 9,
    "start_time": "2022-05-13T08:13:30.074Z"
   },
   {
    "duration": 17,
    "start_time": "2022-05-13T08:13:30.085Z"
   },
   {
    "duration": 201,
    "start_time": "2022-05-13T08:13:30.105Z"
   },
   {
    "duration": 1105,
    "start_time": "2022-05-13T08:13:30.308Z"
   },
   {
    "duration": 62,
    "start_time": "2022-05-13T08:13:31.414Z"
   },
   {
    "duration": 4,
    "start_time": "2022-05-13T08:13:31.478Z"
   },
   {
    "duration": 310,
    "start_time": "2022-05-13T08:13:31.483Z"
   },
   {
    "duration": 378,
    "start_time": "2022-05-13T08:13:31.795Z"
   },
   {
    "duration": 328,
    "start_time": "2022-05-13T08:13:32.175Z"
   },
   {
    "duration": 280,
    "start_time": "2022-05-13T08:13:32.504Z"
   },
   {
    "duration": 320,
    "start_time": "2022-05-13T08:13:32.786Z"
   },
   {
    "duration": 155,
    "start_time": "2022-05-13T08:13:33.107Z"
   },
   {
    "duration": 152,
    "start_time": "2022-05-13T08:13:33.263Z"
   },
   {
    "duration": 154,
    "start_time": "2022-05-13T08:13:33.417Z"
   },
   {
    "duration": 24,
    "start_time": "2022-05-13T08:13:33.572Z"
   },
   {
    "duration": 8,
    "start_time": "2022-05-13T08:13:33.597Z"
   },
   {
    "duration": 8,
    "start_time": "2022-05-13T08:13:33.606Z"
   },
   {
    "duration": 14,
    "start_time": "2022-05-13T08:13:33.616Z"
   },
   {
    "duration": 162,
    "start_time": "2022-05-13T08:13:33.632Z"
   },
   {
    "duration": 7,
    "start_time": "2022-05-13T08:13:33.796Z"
   },
   {
    "duration": 11,
    "start_time": "2022-05-13T08:13:33.805Z"
   },
   {
    "duration": 153,
    "start_time": "2022-05-13T08:13:33.818Z"
   },
   {
    "duration": 152,
    "start_time": "2022-05-13T08:13:33.972Z"
   },
   {
    "duration": 125,
    "start_time": "2022-05-13T08:13:34.126Z"
   },
   {
    "duration": 111,
    "start_time": "2022-05-13T08:13:34.253Z"
   },
   {
    "duration": 0,
    "start_time": "2022-05-13T08:13:34.365Z"
   },
   {
    "duration": 0,
    "start_time": "2022-05-13T08:13:34.366Z"
   },
   {
    "duration": 0,
    "start_time": "2022-05-13T08:13:34.368Z"
   },
   {
    "duration": 0,
    "start_time": "2022-05-13T08:13:34.368Z"
   },
   {
    "duration": 0,
    "start_time": "2022-05-13T08:13:34.369Z"
   },
   {
    "duration": 0,
    "start_time": "2022-05-13T08:13:34.370Z"
   },
   {
    "duration": 29,
    "start_time": "2022-05-13T12:34:53.712Z"
   },
   {
    "duration": 8,
    "start_time": "2022-05-13T12:34:53.743Z"
   },
   {
    "duration": 8,
    "start_time": "2022-05-13T12:34:53.753Z"
   },
   {
    "duration": 53,
    "start_time": "2022-05-13T12:34:53.762Z"
   },
   {
    "duration": 10,
    "start_time": "2022-05-13T12:34:53.817Z"
   },
   {
    "duration": 9,
    "start_time": "2022-05-13T12:34:53.829Z"
   },
   {
    "duration": 8,
    "start_time": "2022-05-13T12:34:53.839Z"
   },
   {
    "duration": 38,
    "start_time": "2022-05-13T12:34:53.850Z"
   },
   {
    "duration": 164,
    "start_time": "2022-05-13T12:34:53.890Z"
   },
   {
    "duration": 5,
    "start_time": "2022-05-13T12:34:54.056Z"
   },
   {
    "duration": 47,
    "start_time": "2022-05-13T12:34:54.062Z"
   },
   {
    "duration": 6,
    "start_time": "2022-05-13T12:34:54.110Z"
   },
   {
    "duration": 48,
    "start_time": "2022-05-13T12:34:54.117Z"
   },
   {
    "duration": 32,
    "start_time": "2022-05-13T12:34:54.167Z"
   },
   {
    "duration": 15,
    "start_time": "2022-05-13T12:34:54.200Z"
   },
   {
    "duration": 4,
    "start_time": "2022-05-13T12:34:54.217Z"
   },
   {
    "duration": 8,
    "start_time": "2022-05-13T12:34:54.222Z"
   },
   {
    "duration": 308,
    "start_time": "2022-05-13T12:34:54.231Z"
   },
   {
    "duration": 360,
    "start_time": "2022-05-13T12:34:54.541Z"
   },
   {
    "duration": 12,
    "start_time": "2022-05-13T12:34:54.903Z"
   },
   {
    "duration": 5,
    "start_time": "2022-05-13T12:34:54.917Z"
   },
   {
    "duration": 18,
    "start_time": "2022-05-13T12:34:54.923Z"
   },
   {
    "duration": 3,
    "start_time": "2022-05-13T12:34:54.942Z"
   },
   {
    "duration": 286,
    "start_time": "2022-05-13T12:34:54.947Z"
   },
   {
    "duration": 3,
    "start_time": "2022-05-13T12:34:55.235Z"
   },
   {
    "duration": 8,
    "start_time": "2022-05-13T12:34:55.243Z"
   },
   {
    "duration": 289,
    "start_time": "2022-05-13T12:34:55.252Z"
   },
   {
    "duration": 309,
    "start_time": "2022-05-13T12:34:55.543Z"
   },
   {
    "duration": 209,
    "start_time": "2022-05-13T12:34:55.854Z"
   },
   {
    "duration": 194,
    "start_time": "2022-05-13T12:34:56.065Z"
   },
   {
    "duration": 97,
    "start_time": "2022-05-13T12:34:56.261Z"
   },
   {
    "duration": 530,
    "start_time": "2022-05-13T12:34:56.360Z"
   },
   {
    "duration": 11,
    "start_time": "2022-05-13T12:34:56.891Z"
   },
   {
    "duration": 16,
    "start_time": "2022-05-13T12:34:56.904Z"
   },
   {
    "duration": 22,
    "start_time": "2022-05-13T12:34:56.921Z"
   },
   {
    "duration": 124,
    "start_time": "2022-05-13T12:34:56.944Z"
   },
   {
    "duration": 442,
    "start_time": "2022-05-13T12:34:57.070Z"
   },
   {
    "duration": 9,
    "start_time": "2022-05-13T12:34:57.514Z"
   },
   {
    "duration": 27,
    "start_time": "2022-05-13T12:34:57.525Z"
   },
   {
    "duration": 149,
    "start_time": "2022-05-13T12:34:57.554Z"
   },
   {
    "duration": 164,
    "start_time": "2022-05-13T12:34:57.705Z"
   },
   {
    "duration": 191,
    "start_time": "2022-05-13T12:34:57.871Z"
   },
   {
    "duration": 149,
    "start_time": "2022-05-13T12:34:58.064Z"
   },
   {
    "duration": 342,
    "start_time": "2022-05-13T12:34:58.215Z"
   },
   {
    "duration": 169,
    "start_time": "2022-05-13T12:34:58.559Z"
   },
   {
    "duration": 165,
    "start_time": "2022-05-13T12:34:58.730Z"
   },
   {
    "duration": 174,
    "start_time": "2022-05-13T12:34:58.896Z"
   },
   {
    "duration": 30,
    "start_time": "2022-05-13T12:34:59.071Z"
   },
   {
    "duration": 9,
    "start_time": "2022-05-13T12:34:59.102Z"
   },
   {
    "duration": 8,
    "start_time": "2022-05-13T12:34:59.113Z"
   },
   {
    "duration": 8,
    "start_time": "2022-05-13T12:34:59.123Z"
   },
   {
    "duration": 156,
    "start_time": "2022-05-13T12:34:59.133Z"
   },
   {
    "duration": 7,
    "start_time": "2022-05-13T12:34:59.291Z"
   },
   {
    "duration": 11,
    "start_time": "2022-05-13T12:34:59.300Z"
   },
   {
    "duration": 155,
    "start_time": "2022-05-13T12:34:59.312Z"
   },
   {
    "duration": 162,
    "start_time": "2022-05-13T12:34:59.468Z"
   },
   {
    "duration": 127,
    "start_time": "2022-05-13T12:34:59.632Z"
   },
   {
    "duration": 122,
    "start_time": "2022-05-13T12:34:59.760Z"
   },
   {
    "duration": 0,
    "start_time": "2022-05-13T12:34:59.883Z"
   },
   {
    "duration": 0,
    "start_time": "2022-05-13T12:34:59.885Z"
   },
   {
    "duration": 0,
    "start_time": "2022-05-13T12:34:59.886Z"
   },
   {
    "duration": 0,
    "start_time": "2022-05-13T12:34:59.887Z"
   },
   {
    "duration": 0,
    "start_time": "2022-05-13T12:34:59.888Z"
   },
   {
    "duration": 0,
    "start_time": "2022-05-13T12:34:59.889Z"
   },
   {
    "duration": 153,
    "start_time": "2022-05-13T12:35:25.212Z"
   },
   {
    "duration": 167,
    "start_time": "2022-05-13T12:35:25.367Z"
   },
   {
    "duration": 156,
    "start_time": "2022-05-13T12:35:25.535Z"
   },
   {
    "duration": 176,
    "start_time": "2022-05-13T12:35:25.693Z"
   },
   {
    "duration": 160,
    "start_time": "2022-05-13T12:35:25.871Z"
   },
   {
    "duration": 245,
    "start_time": "2022-05-13T12:35:26.033Z"
   },
   {
    "duration": 885,
    "start_time": "2022-05-13T13:25:46.186Z"
   },
   {
    "duration": 20,
    "start_time": "2022-05-13T13:25:47.074Z"
   },
   {
    "duration": 27,
    "start_time": "2022-05-13T13:25:47.096Z"
   },
   {
    "duration": 7,
    "start_time": "2022-05-13T13:25:47.125Z"
   },
   {
    "duration": 8,
    "start_time": "2022-05-13T13:25:47.134Z"
   },
   {
    "duration": 56,
    "start_time": "2022-05-13T13:25:47.144Z"
   },
   {
    "duration": 8,
    "start_time": "2022-05-13T13:25:47.202Z"
   },
   {
    "duration": 4,
    "start_time": "2022-05-13T13:25:47.212Z"
   },
   {
    "duration": 4,
    "start_time": "2022-05-13T13:25:47.218Z"
   },
   {
    "duration": 8,
    "start_time": "2022-05-13T13:25:47.225Z"
   },
   {
    "duration": 177,
    "start_time": "2022-05-13T13:25:47.234Z"
   },
   {
    "duration": 5,
    "start_time": "2022-05-13T13:25:47.413Z"
   },
   {
    "duration": 32,
    "start_time": "2022-05-13T13:25:47.419Z"
   },
   {
    "duration": 19,
    "start_time": "2022-05-13T13:25:47.453Z"
   },
   {
    "duration": 31,
    "start_time": "2022-05-13T13:25:47.473Z"
   },
   {
    "duration": 27,
    "start_time": "2022-05-13T13:25:47.507Z"
   },
   {
    "duration": 38,
    "start_time": "2022-05-13T13:25:47.536Z"
   },
   {
    "duration": 8,
    "start_time": "2022-05-13T13:25:47.576Z"
   },
   {
    "duration": 9,
    "start_time": "2022-05-13T13:25:47.587Z"
   },
   {
    "duration": 260,
    "start_time": "2022-05-13T13:25:47.597Z"
   },
   {
    "duration": 335,
    "start_time": "2022-05-13T13:25:47.858Z"
   },
   {
    "duration": 14,
    "start_time": "2022-05-13T13:25:48.195Z"
   },
   {
    "duration": 5,
    "start_time": "2022-05-13T13:25:48.211Z"
   },
   {
    "duration": 16,
    "start_time": "2022-05-13T13:25:48.217Z"
   },
   {
    "duration": 4,
    "start_time": "2022-05-13T13:25:48.235Z"
   },
   {
    "duration": 297,
    "start_time": "2022-05-13T13:25:48.240Z"
   },
   {
    "duration": 4,
    "start_time": "2022-05-13T13:25:48.538Z"
   },
   {
    "duration": 7,
    "start_time": "2022-05-13T13:25:48.545Z"
   },
   {
    "duration": 277,
    "start_time": "2022-05-13T13:25:48.553Z"
   },
   {
    "duration": 353,
    "start_time": "2022-05-13T13:25:48.831Z"
   },
   {
    "duration": 400,
    "start_time": "2022-05-13T13:25:49.186Z"
   },
   {
    "duration": 523,
    "start_time": "2022-05-13T13:25:49.590Z"
   },
   {
    "duration": 235,
    "start_time": "2022-05-13T13:25:50.171Z"
   },
   {
    "duration": 1081,
    "start_time": "2022-05-13T13:25:50.407Z"
   },
   {
    "duration": 10,
    "start_time": "2022-05-13T13:25:51.490Z"
   },
   {
    "duration": 8,
    "start_time": "2022-05-13T13:25:51.502Z"
   },
   {
    "duration": 61,
    "start_time": "2022-05-13T13:25:51.511Z"
   },
   {
    "duration": 228,
    "start_time": "2022-05-13T13:25:51.574Z"
   },
   {
    "duration": 1395,
    "start_time": "2022-05-13T13:25:51.803Z"
   },
   {
    "duration": 8,
    "start_time": "2022-05-13T13:25:53.200Z"
   },
   {
    "duration": 4,
    "start_time": "2022-05-13T13:25:53.209Z"
   },
   {
    "duration": 371,
    "start_time": "2022-05-13T13:25:53.214Z"
   },
   {
    "duration": 315,
    "start_time": "2022-05-13T13:25:53.587Z"
   },
   {
    "duration": 389,
    "start_time": "2022-05-13T13:25:53.904Z"
   },
   {
    "duration": 196,
    "start_time": "2022-05-13T13:25:54.295Z"
   },
   {
    "duration": 329,
    "start_time": "2022-05-13T13:25:54.493Z"
   },
   {
    "duration": 167,
    "start_time": "2022-05-13T13:25:54.824Z"
   },
   {
    "duration": 148,
    "start_time": "2022-05-13T13:25:54.993Z"
   },
   {
    "duration": 155,
    "start_time": "2022-05-13T13:25:55.143Z"
   },
   {
    "duration": 21,
    "start_time": "2022-05-13T13:25:55.300Z"
   },
   {
    "duration": 7,
    "start_time": "2022-05-13T13:25:55.323Z"
   },
   {
    "duration": 9,
    "start_time": "2022-05-13T13:25:55.332Z"
   },
   {
    "duration": 29,
    "start_time": "2022-05-13T13:25:55.342Z"
   },
   {
    "duration": 141,
    "start_time": "2022-05-13T13:25:55.373Z"
   },
   {
    "duration": 7,
    "start_time": "2022-05-13T13:25:55.516Z"
   },
   {
    "duration": 8,
    "start_time": "2022-05-13T13:25:55.525Z"
   },
   {
    "duration": 164,
    "start_time": "2022-05-13T13:25:55.535Z"
   },
   {
    "duration": 152,
    "start_time": "2022-05-13T13:25:55.701Z"
   },
   {
    "duration": 127,
    "start_time": "2022-05-13T13:25:55.855Z"
   },
   {
    "duration": 1018,
    "start_time": "2022-05-14T08:20:15.840Z"
   },
   {
    "duration": 17,
    "start_time": "2022-05-14T08:20:16.861Z"
   },
   {
    "duration": 34,
    "start_time": "2022-05-14T08:20:16.880Z"
   },
   {
    "duration": 21,
    "start_time": "2022-05-14T08:20:16.916Z"
   },
   {
    "duration": 13,
    "start_time": "2022-05-14T08:20:16.939Z"
   },
   {
    "duration": 41,
    "start_time": "2022-05-14T08:20:16.954Z"
   },
   {
    "duration": 11,
    "start_time": "2022-05-14T08:20:16.997Z"
   },
   {
    "duration": 23,
    "start_time": "2022-05-14T08:20:17.010Z"
   },
   {
    "duration": 6,
    "start_time": "2022-05-14T08:20:17.035Z"
   },
   {
    "duration": 13,
    "start_time": "2022-05-14T08:20:17.044Z"
   },
   {
    "duration": 200,
    "start_time": "2022-05-14T08:20:17.059Z"
   },
   {
    "duration": 5,
    "start_time": "2022-05-14T08:20:17.261Z"
   },
   {
    "duration": 12,
    "start_time": "2022-05-14T08:20:17.268Z"
   },
   {
    "duration": 6,
    "start_time": "2022-05-14T08:20:17.282Z"
   },
   {
    "duration": 58,
    "start_time": "2022-05-14T08:20:17.290Z"
   },
   {
    "duration": 34,
    "start_time": "2022-05-14T08:20:17.350Z"
   },
   {
    "duration": 10,
    "start_time": "2022-05-14T08:20:17.386Z"
   },
   {
    "duration": 4,
    "start_time": "2022-05-14T08:20:17.398Z"
   },
   {
    "duration": 31,
    "start_time": "2022-05-14T08:20:17.404Z"
   },
   {
    "duration": 336,
    "start_time": "2022-05-14T08:20:17.437Z"
   },
   {
    "duration": 386,
    "start_time": "2022-05-14T08:20:17.775Z"
   },
   {
    "duration": 14,
    "start_time": "2022-05-14T08:20:18.162Z"
   },
   {
    "duration": 5,
    "start_time": "2022-05-14T08:20:18.177Z"
   },
   {
    "duration": 16,
    "start_time": "2022-05-14T08:20:18.184Z"
   },
   {
    "duration": 4,
    "start_time": "2022-05-14T08:20:18.202Z"
   },
   {
    "duration": 318,
    "start_time": "2022-05-14T08:20:18.207Z"
   },
   {
    "duration": 9,
    "start_time": "2022-05-14T08:20:18.526Z"
   },
   {
    "duration": 8,
    "start_time": "2022-05-14T08:20:18.539Z"
   },
   {
    "duration": 334,
    "start_time": "2022-05-14T08:20:18.548Z"
   },
   {
    "duration": 480,
    "start_time": "2022-05-14T08:20:18.884Z"
   },
   {
    "duration": 499,
    "start_time": "2022-05-14T08:20:19.366Z"
   },
   {
    "duration": 500,
    "start_time": "2022-05-14T08:20:19.868Z"
   },
   {
    "duration": 395,
    "start_time": "2022-05-14T08:20:20.370Z"
   },
   {
    "duration": 546,
    "start_time": "2022-05-14T08:20:20.767Z"
   },
   {
    "duration": 22,
    "start_time": "2022-05-14T08:20:21.315Z"
   },
   {
    "duration": 9,
    "start_time": "2022-05-14T08:20:21.339Z"
   },
   {
    "duration": 12,
    "start_time": "2022-05-14T08:20:21.350Z"
   },
   {
    "duration": 126,
    "start_time": "2022-05-14T08:20:21.364Z"
   },
   {
    "duration": 532,
    "start_time": "2022-05-14T08:20:21.492Z"
   },
   {
    "duration": 10,
    "start_time": "2022-05-14T08:20:22.025Z"
   },
   {
    "duration": 4,
    "start_time": "2022-05-14T08:20:22.036Z"
   },
   {
    "duration": 192,
    "start_time": "2022-05-14T08:20:22.041Z"
   },
   {
    "duration": 188,
    "start_time": "2022-05-14T08:20:22.235Z"
   },
   {
    "duration": 216,
    "start_time": "2022-05-14T08:20:22.433Z"
   },
   {
    "duration": 259,
    "start_time": "2022-05-14T08:20:22.650Z"
   },
   {
    "duration": 299,
    "start_time": "2022-05-14T08:20:22.910Z"
   },
   {
    "duration": 199,
    "start_time": "2022-05-14T08:20:23.211Z"
   },
   {
    "duration": 186,
    "start_time": "2022-05-14T08:20:23.412Z"
   },
   {
    "duration": 180,
    "start_time": "2022-05-14T08:20:23.600Z"
   },
   {
    "duration": 26,
    "start_time": "2022-05-14T08:20:23.782Z"
   },
   {
    "duration": 25,
    "start_time": "2022-05-14T08:20:23.810Z"
   },
   {
    "duration": 11,
    "start_time": "2022-05-14T08:20:23.837Z"
   },
   {
    "duration": 10,
    "start_time": "2022-05-14T08:20:23.850Z"
   },
   {
    "duration": 180,
    "start_time": "2022-05-14T08:20:23.862Z"
   },
   {
    "duration": 9,
    "start_time": "2022-05-14T08:20:24.043Z"
   },
   {
    "duration": 15,
    "start_time": "2022-05-14T08:20:24.053Z"
   },
   {
    "duration": 179,
    "start_time": "2022-05-14T08:20:24.070Z"
   },
   {
    "duration": 180,
    "start_time": "2022-05-14T08:20:24.251Z"
   },
   {
    "duration": 149,
    "start_time": "2022-05-14T08:20:24.433Z"
   },
   {
    "duration": 184,
    "start_time": "2022-05-14T08:20:24.583Z"
   },
   {
    "duration": 198,
    "start_time": "2022-05-14T08:20:24.768Z"
   },
   {
    "duration": 175,
    "start_time": "2022-05-14T08:20:24.968Z"
   },
   {
    "duration": 206,
    "start_time": "2022-05-14T08:20:25.145Z"
   },
   {
    "duration": 270,
    "start_time": "2022-05-14T08:20:25.353Z"
   },
   {
    "duration": 180,
    "start_time": "2022-05-14T08:20:25.625Z"
   },
   {
    "duration": 10,
    "start_time": "2022-05-14T08:20:35.779Z"
   },
   {
    "duration": 89,
    "start_time": "2022-05-14T08:20:57.805Z"
   },
   {
    "duration": 11,
    "start_time": "2022-05-14T08:21:16.149Z"
   },
   {
    "duration": 9,
    "start_time": "2022-05-14T08:22:02.229Z"
   },
   {
    "duration": 40,
    "start_time": "2022-05-14T08:22:16.751Z"
   }
  ],
  "kernelspec": {
   "display_name": "Python 3 (ipykernel)",
   "language": "python",
   "name": "python3"
  },
  "language_info": {
   "codemirror_mode": {
    "name": "ipython",
    "version": 3
   },
   "file_extension": ".py",
   "mimetype": "text/x-python",
   "name": "python",
   "nbconvert_exporter": "python",
   "pygments_lexer": "ipython3",
   "version": "3.9.5"
  },
  "toc": {
   "base_numbering": 1,
   "nav_menu": {},
   "number_sections": true,
   "sideBar": true,
   "skip_h1_title": true,
   "title_cell": "Содержание",
   "title_sidebar": "Contents",
   "toc_cell": true,
   "toc_position": {
    "height": "calc(100% - 180px)",
    "left": "10px",
    "top": "150px",
    "width": "236.391px"
   },
   "toc_section_display": true,
   "toc_window_display": true
  }
 },
 "nbformat": 4,
 "nbformat_minor": 4
}
