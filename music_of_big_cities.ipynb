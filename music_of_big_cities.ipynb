{
 "cells": [
  {
   "cell_type": "markdown",
   "metadata": {
    "id": "E0vqbgi9ay0H"
   },
   "source": [
    "# Яндекс.Музыка"
   ]
  },
  {
   "cell_type": "markdown",
   "metadata": {
    "id": "Ml1hmfXC_Zcs"
   },
   "source": [
    "## Обзор данных\n",
    "\n",
    "Составьте первое представление о данных Яндекс.Музыки.\n",
    "\n",
    "\n"
   ]
  },
  {
   "cell_type": "markdown",
   "metadata": {
    "id": "57eAOGIz_Zcs"
   },
   "source": [
    "Основной инструмент аналитика — `pandas`. Импортируйте эту библиотеку."
   ]
  },
  {
   "cell_type": "code",
   "execution_count": 1,
   "metadata": {
    "id": "AXN7PHPN_Zcs"
   },
   "outputs": [],
   "source": [
    "import pandas as pd"
   ]
  },
  {
   "cell_type": "markdown",
   "metadata": {},
   "source": [
    "<img src=\"https://emojigraph.org/media/apple/check-mark-button_2705.png\" align=left width=33, heigth=33>\n",
    "<div class=\"alert alert-success\">\n",
    "Очень здорово, что ты используешь сокращение pd для Pandas, это общепринятое сокращение для этой библиотеки для удобной дальнейшей работы.</div>"
   ]
  },
  {
   "cell_type": "markdown",
   "metadata": {
    "id": "SG23P8tt_Zcs"
   },
   "source": [
    "Прочитайте файл `yandex_music_project.csv` из папки `/datasets` и сохраните его в переменной `df`:"
   ]
  },
  {
   "cell_type": "code",
   "execution_count": 2,
   "metadata": {
    "id": "fFVu7vqh_Zct"
   },
   "outputs": [],
   "source": [
    "df = pd.read_csv('/datasets/yandex_music_project.csv')"
   ]
  },
  {
   "cell_type": "markdown",
   "metadata": {},
   "source": [
    "<img src=\"https://emojigraph.org/media/apple/check-mark-button_2705.png\" align=left width=33, heigth=33>\n",
    "<div class=\"alert alert-success\">\n",
    "Ты указал правильный путь к файлу: слэш в начале пути очень важен, так как указывает, что нужно искать файл в корневой папке.</div>"
   ]
  },
  {
   "cell_type": "markdown",
   "metadata": {
    "id": "rDoOMd3uTqnZ"
   },
   "source": [
    "Выведите на экран первые десять строк таблицы:"
   ]
  },
  {
   "cell_type": "code",
   "execution_count": 3,
   "metadata": {
    "id": "oWTVX3gW_Zct"
   },
   "outputs": [
    {
     "data": {
      "text/html": [
       "<div>\n",
       "<style scoped>\n",
       "    .dataframe tbody tr th:only-of-type {\n",
       "        vertical-align: middle;\n",
       "    }\n",
       "\n",
       "    .dataframe tbody tr th {\n",
       "        vertical-align: top;\n",
       "    }\n",
       "\n",
       "    .dataframe thead th {\n",
       "        text-align: right;\n",
       "    }\n",
       "</style>\n",
       "<table border=\"1\" class=\"dataframe\">\n",
       "  <thead>\n",
       "    <tr style=\"text-align: right;\">\n",
       "      <th></th>\n",
       "      <th>userID</th>\n",
       "      <th>Track</th>\n",
       "      <th>artist</th>\n",
       "      <th>genre</th>\n",
       "      <th>City</th>\n",
       "      <th>time</th>\n",
       "      <th>Day</th>\n",
       "    </tr>\n",
       "  </thead>\n",
       "  <tbody>\n",
       "    <tr>\n",
       "      <th>0</th>\n",
       "      <td>FFB692EC</td>\n",
       "      <td>Kamigata To Boots</td>\n",
       "      <td>The Mass Missile</td>\n",
       "      <td>rock</td>\n",
       "      <td>Saint-Petersburg</td>\n",
       "      <td>20:28:33</td>\n",
       "      <td>Wednesday</td>\n",
       "    </tr>\n",
       "    <tr>\n",
       "      <th>1</th>\n",
       "      <td>55204538</td>\n",
       "      <td>Delayed Because of Accident</td>\n",
       "      <td>Andreas Rönnberg</td>\n",
       "      <td>rock</td>\n",
       "      <td>Moscow</td>\n",
       "      <td>14:07:09</td>\n",
       "      <td>Friday</td>\n",
       "    </tr>\n",
       "    <tr>\n",
       "      <th>2</th>\n",
       "      <td>20EC38</td>\n",
       "      <td>Funiculì funiculà</td>\n",
       "      <td>Mario Lanza</td>\n",
       "      <td>pop</td>\n",
       "      <td>Saint-Petersburg</td>\n",
       "      <td>20:58:07</td>\n",
       "      <td>Wednesday</td>\n",
       "    </tr>\n",
       "    <tr>\n",
       "      <th>3</th>\n",
       "      <td>A3DD03C9</td>\n",
       "      <td>Dragons in the Sunset</td>\n",
       "      <td>Fire + Ice</td>\n",
       "      <td>folk</td>\n",
       "      <td>Saint-Petersburg</td>\n",
       "      <td>08:37:09</td>\n",
       "      <td>Monday</td>\n",
       "    </tr>\n",
       "    <tr>\n",
       "      <th>4</th>\n",
       "      <td>E2DC1FAE</td>\n",
       "      <td>Soul People</td>\n",
       "      <td>Space Echo</td>\n",
       "      <td>dance</td>\n",
       "      <td>Moscow</td>\n",
       "      <td>08:34:34</td>\n",
       "      <td>Monday</td>\n",
       "    </tr>\n",
       "    <tr>\n",
       "      <th>5</th>\n",
       "      <td>842029A1</td>\n",
       "      <td>Преданная</td>\n",
       "      <td>IMPERVTOR</td>\n",
       "      <td>rusrap</td>\n",
       "      <td>Saint-Petersburg</td>\n",
       "      <td>13:09:41</td>\n",
       "      <td>Friday</td>\n",
       "    </tr>\n",
       "    <tr>\n",
       "      <th>6</th>\n",
       "      <td>4CB90AA5</td>\n",
       "      <td>True</td>\n",
       "      <td>Roman Messer</td>\n",
       "      <td>dance</td>\n",
       "      <td>Moscow</td>\n",
       "      <td>13:00:07</td>\n",
       "      <td>Wednesday</td>\n",
       "    </tr>\n",
       "    <tr>\n",
       "      <th>7</th>\n",
       "      <td>F03E1C1F</td>\n",
       "      <td>Feeling This Way</td>\n",
       "      <td>Polina Griffith</td>\n",
       "      <td>dance</td>\n",
       "      <td>Moscow</td>\n",
       "      <td>20:47:49</td>\n",
       "      <td>Wednesday</td>\n",
       "    </tr>\n",
       "    <tr>\n",
       "      <th>8</th>\n",
       "      <td>8FA1D3BE</td>\n",
       "      <td>И вновь продолжается бой</td>\n",
       "      <td>NaN</td>\n",
       "      <td>ruspop</td>\n",
       "      <td>Moscow</td>\n",
       "      <td>09:17:40</td>\n",
       "      <td>Friday</td>\n",
       "    </tr>\n",
       "    <tr>\n",
       "      <th>9</th>\n",
       "      <td>E772D5C0</td>\n",
       "      <td>Pessimist</td>\n",
       "      <td>NaN</td>\n",
       "      <td>dance</td>\n",
       "      <td>Saint-Petersburg</td>\n",
       "      <td>21:20:49</td>\n",
       "      <td>Wednesday</td>\n",
       "    </tr>\n",
       "  </tbody>\n",
       "</table>\n",
       "</div>"
      ],
      "text/plain": [
       "     userID                        Track            artist   genre  \\\n",
       "0  FFB692EC            Kamigata To Boots  The Mass Missile    rock   \n",
       "1  55204538  Delayed Because of Accident  Andreas Rönnberg    rock   \n",
       "2    20EC38            Funiculì funiculà       Mario Lanza     pop   \n",
       "3  A3DD03C9        Dragons in the Sunset        Fire + Ice    folk   \n",
       "4  E2DC1FAE                  Soul People        Space Echo   dance   \n",
       "5  842029A1                    Преданная         IMPERVTOR  rusrap   \n",
       "6  4CB90AA5                         True      Roman Messer   dance   \n",
       "7  F03E1C1F             Feeling This Way   Polina Griffith   dance   \n",
       "8  8FA1D3BE     И вновь продолжается бой               NaN  ruspop   \n",
       "9  E772D5C0                    Pessimist               NaN   dance   \n",
       "\n",
       "             City        time        Day  \n",
       "0  Saint-Petersburg  20:28:33  Wednesday  \n",
       "1            Moscow  14:07:09     Friday  \n",
       "2  Saint-Petersburg  20:58:07  Wednesday  \n",
       "3  Saint-Petersburg  08:37:09     Monday  \n",
       "4            Moscow  08:34:34     Monday  \n",
       "5  Saint-Petersburg  13:09:41     Friday  \n",
       "6            Moscow  13:00:07  Wednesday  \n",
       "7            Moscow  20:47:49  Wednesday  \n",
       "8            Moscow  09:17:40     Friday  \n",
       "9  Saint-Petersburg  21:20:49  Wednesday  "
      ]
     },
     "metadata": {},
     "output_type": "display_data"
    }
   ],
   "source": [
    "display(df.head(10))"
   ]
  },
  {
   "cell_type": "markdown",
   "metadata": {},
   "source": [
    "<img src=\"https://emojigraph.org/media/apple/check-mark-button_2705.png\" align=left width=33, heigth=33>\n",
    "<div class=\"alert alert-success\">\n",
    "Ты отлично справился с выводом первых 10 строк. А метод  tail(), поможет тебе выводить последние n строк. </div>\n"
   ]
  },
  {
   "cell_type": "markdown",
   "metadata": {
    "id": "EO73Kwic_Zct"
   },
   "source": [
    "Одной командой получить общую информацию о таблице:"
   ]
  },
  {
   "cell_type": "code",
   "execution_count": 4,
   "metadata": {
    "id": "DSf2kIb-_Zct"
   },
   "outputs": [
    {
     "name": "stdout",
     "output_type": "stream",
     "text": [
      "<class 'pandas.core.frame.DataFrame'>\n",
      "RangeIndex: 65079 entries, 0 to 65078\n",
      "Data columns (total 7 columns):\n",
      " #   Column    Non-Null Count  Dtype \n",
      "---  ------    --------------  ----- \n",
      " 0     userID  65079 non-null  object\n",
      " 1   Track     63848 non-null  object\n",
      " 2   artist    57876 non-null  object\n",
      " 3   genre     63881 non-null  object\n",
      " 4     City    65079 non-null  object\n",
      " 5   time      65079 non-null  object\n",
      " 6   Day       65079 non-null  object\n",
      "dtypes: object(7)\n",
      "memory usage: 3.5+ MB\n"
     ]
    }
   ],
   "source": [
    "df.info()"
   ]
  },
  {
   "cell_type": "markdown",
   "metadata": {},
   "source": [
    "<img src=\"https://emojigraph.org/media/apple/check-mark-button_2705.png\" align=left width=33, heigth=33>\n",
    "<div class=\"alert alert-success\">\n",
    "Отличный выбор метода - info действительно показывает много информации о датафрейме. </div>"
   ]
  },
  {
   "cell_type": "markdown",
   "metadata": {
    "id": "TaQ2Iwbr_Zct"
   },
   "source": [
    "Итак, в таблице семь столбцов. Тип данных во всех столбцах — `object`.\n",
    "\n",
    "Согласно документации к данным:\n",
    "* `userID` — идентификатор пользователя;\n",
    "* `Track` — название трека;  \n",
    "* `artist` — имя исполнителя;\n",
    "* `genre` — название жанра;\n",
    "* `City` — город пользователя;\n",
    "* `time` — время начала прослушивания;\n",
    "* `Day` — день недели.\n",
    "\n",
    "В названиях колонок видны три нарушения стиля:\n",
    "1. Строчные буквы сочетаются с прописными.\n",
    "2. Встречаются пробелы.\n",
    "3. Найдите ещё одну проблему в названии колонок и опишите её в этом пункте.\n",
    "\n",
    "# не используется under_score(snake_case)\n",
    "\n",
    "\n",
    "\n",
    "Количество значений в столбцах различается. Значит, в данных есть пропущенные значения.\n"
   ]
  },
  {
   "cell_type": "markdown",
   "metadata": {},
   "source": [
    "<img src=\"https://upload.wikimedia.org/wikipedia/commons/thumb/8/81/Stop_sign.png/240px-Stop_sign.png\" align=left width=35, heigth=35>\n",
    "<div class=\"alert alert-danger\">\n",
    "Пропущен ответ на вопрос 3.</div>"
   ]
  },
  {
   "cell_type": "markdown",
   "metadata": {},
   "source": [
    "<img src=\"https://emojigraph.org/media/apple/check-mark-button_2705.png\" align=left width=33, heigth=33>\n",
    "<div class=\"alert alert-success\">\n",
    "<b>v2</b> 👍 </div>"
   ]
  },
  {
   "cell_type": "markdown",
   "metadata": {
    "id": "MCB6-dXG_Zct"
   },
   "source": [
    "**Выводы**\n",
    "\n",
    "В каждой строке таблицы — данные о прослушанном треке. Часть колонок описывает саму композицию: название, исполнителя и жанр. Остальные данные рассказывают о пользователе: из какого он города, когда он слушал музыку. \n",
    "\n",
    "Предварительно можно утверждать, что, данных достаточно для проверки гипотез. Но встречаются пропуски в данных, а в названиях колонок — расхождения с хорошим стилем.\n",
    "\n",
    "Чтобы двигаться дальше, нужно устранить проблемы в данных."
   ]
  },
  {
   "cell_type": "markdown",
   "metadata": {
    "id": "SjYF6Ub9_Zct"
   },
   "source": [
    "## Предобработка данных\n",
    "Исправьте стиль в заголовках столбцов, исключите пропуски. Затем проверьте данные на дубликаты."
   ]
  },
  {
   "cell_type": "markdown",
   "metadata": {
    "id": "dIaKXr29_Zct"
   },
   "source": [
    "### Стиль заголовков\n",
    "Выведите на экран названия столбцов:"
   ]
  },
  {
   "cell_type": "code",
   "execution_count": 5,
   "metadata": {
    "id": "oKOTdF_Q_Zct"
   },
   "outputs": [
    {
     "data": {
      "text/plain": [
       "Index(['  userID', 'Track', 'artist', 'genre', '  City  ', 'time', 'Day'], dtype='object')"
      ]
     },
     "execution_count": 5,
     "metadata": {},
     "output_type": "execute_result"
    }
   ],
   "source": [
    "df.columns"
   ]
  },
  {
   "cell_type": "markdown",
   "metadata": {},
   "source": [
    "<img src=\"https://upload.wikimedia.org/wikipedia/commons/b/ba/Warning_sign_4.0.png\" align=left width=44, heigth=33>\n",
    "<div class=\"alert alert-warning\">\n",
    "Для вывода на экран здесь не нужно использовать функцию print(): результат и так будет выведен, так как это последняя строчка ячейки.\n",
    "</div>"
   ]
  },
  {
   "cell_type": "markdown",
   "metadata": {
    "id": "FPZA3ki8xe7T"
   },
   "source": [
    "\n",
    "\n",
    "Приведите названия в соответствие с хорошим стилем:\n",
    "* несколько слов в названии запишите в «змеином_регистре»,\n",
    "* все символы сделайте строчными,\n",
    "* устраните пробелы.\n",
    "\n",
    "Для этого переименуйте колонки так:\n",
    "* `'  userID'` → `'user_id'`;\n",
    "* `'Track'` → `'track'`;\n",
    "* `'  City  '` → `'city'`;\n",
    "* `'Day'` → `'day'`."
   ]
  },
  {
   "cell_type": "code",
   "execution_count": 6,
   "metadata": {
    "id": "ISlFqs5y_Zct"
   },
   "outputs": [],
   "source": [
    "df.rename(columns = {'  userID': 'user_id', 'Track': 'track', '  City  ': 'city', 'Day':'day'}, inplace=True)"
   ]
  },
  {
   "cell_type": "markdown",
   "metadata": {},
   "source": [
    "<img src=\"https://emojigraph.org/media/apple/check-mark-button_2705.png\" align=left width=33, heigth=33>\n",
    "<div class=\"alert alert-success\">\n",
    "Хороший выбор метода - rename сработает без ошибок, даже если изменится порядок столбцов.</div>"
   ]
  },
  {
   "cell_type": "markdown",
   "metadata": {
    "id": "1dqbh00J_Zct"
   },
   "source": [
    "Проверьте результат. Для этого ещё раз выведите на экран названия столбцов:"
   ]
  },
  {
   "cell_type": "code",
   "execution_count": 7,
   "metadata": {
    "id": "d4NOAmTW_Zct"
   },
   "outputs": [
    {
     "data": {
      "text/plain": [
       "Index(['user_id', 'track', 'artist', 'genre', 'city', 'time', 'day'], dtype='object')"
      ]
     },
     "execution_count": 7,
     "metadata": {},
     "output_type": "execute_result"
    }
   ],
   "source": [
    "df.columns"
   ]
  },
  {
   "cell_type": "markdown",
   "metadata": {},
   "source": [
    "<img src=\"https://upload.wikimedia.org/wikipedia/commons/b/ba/Warning_sign_4.0.png\" align=left width=44, heigth=33>\n",
    "<div class=\"alert alert-warning\">\n",
    "Для вывода на экран здесь не нужно использовать функцию print(): результат и так будет выведен, так как это последняя строчка ячейки.\n",
    "</div>"
   ]
  },
  {
   "cell_type": "markdown",
   "metadata": {
    "id": "5ISfbcfY_Zct"
   },
   "source": [
    "### Пропуски значений\n",
    "Сначала посчитайте, сколько в таблице пропущенных значений. Для этого достаточно двух методов `pandas`:"
   ]
  },
  {
   "cell_type": "code",
   "execution_count": 8,
   "metadata": {
    "id": "RskX29qr_Zct"
   },
   "outputs": [
    {
     "data": {
      "text/plain": [
       "user_id       0\n",
       "track      1231\n",
       "artist     7203\n",
       "genre      1198\n",
       "city          0\n",
       "time          0\n",
       "day           0\n",
       "dtype: int64"
      ]
     },
     "execution_count": 8,
     "metadata": {},
     "output_type": "execute_result"
    }
   ],
   "source": [
    "df.isna().sum()"
   ]
  },
  {
   "cell_type": "markdown",
   "metadata": {},
   "source": [
    "<img src=\"https://emojigraph.org/media/apple/check-mark-button_2705.png\" align=left width=33, heigth=33>\n",
    "<div class=\"alert alert-success\">\n",
    "Выбран метод isna() для нахождения пропущенных значений, это отлично! На самом деле, isnull() и isna() делают одно и то же, но использование isna() предпочтительнее.</div>"
   ]
  },
  {
   "cell_type": "markdown",
   "metadata": {},
   "source": [
    "<img src=\"https://upload.wikimedia.org/wikipedia/commons/b/ba/Warning_sign_4.0.png\" align=left width=44, heigth=33>\n",
    "<div class=\"alert alert-warning\">\n",
    "Для вывода столбцов на экран здесь не нужно использовать функцию print() или display(): результат и так будет выведен, так как это последняя строчка ячейки.\n",
    "</div>"
   ]
  },
  {
   "cell_type": "markdown",
   "metadata": {
    "id": "qubhgnlO_Zct"
   },
   "source": [
    "Не все пропущенные значения влияют на исследование. Так в `track` и `artist` пропуски не важны для вашей работы. Достаточно заменить их явными обозначениями.\n",
    "\n",
    "Но пропуски в `genre` могут помешать сравнению музыкальных вкусов в Москве и Санкт-Петербурге. На практике было бы правильно установить причину пропусков и восстановить данные. Такой возможности нет в учебном проекте. Придётся:\n",
    "* заполнить и эти пропуски явными обозначениями,\n",
    "* оценить, насколько они повредят расчётам. "
   ]
  },
  {
   "cell_type": "markdown",
   "metadata": {
    "id": "fSv2laPA_Zct"
   },
   "source": [
    "Замените пропущенные значения в столбцах `track`, `artist` и `genre` на строку `'unknown'`. Для этого создайте список `columns_to_replace`, переберите его элементы циклом `for` и для каждого столбца выполните замену пропущенных значений:"
   ]
  },
  {
   "cell_type": "code",
   "execution_count": 9,
   "metadata": {
    "id": "KplB5qWs_Zct"
   },
   "outputs": [],
   "source": [
    "columns_to_replace = ['track', 'artist', 'genre']\n",
    "for column in columns_to_replace:\n",
    "    df[column] = df[column].fillna('unknown')"
   ]
  },
  {
   "cell_type": "markdown",
   "metadata": {},
   "source": [
    "<img src=\"https://emojigraph.org/media/apple/check-mark-button_2705.png\" align=left width=33, heigth=33>\n",
    "<div class=\"alert alert-success\">\n",
    "Список columns_to_replace сформирован верно, цикл отработал без ошибок.</div>"
   ]
  },
  {
   "cell_type": "markdown",
   "metadata": {
    "id": "Ilsm-MZo_Zct"
   },
   "source": [
    "Убедитесь, что в таблице не осталось пропусков. Для этого ещё раз посчитайте пропущенные значения."
   ]
  },
  {
   "cell_type": "code",
   "execution_count": 10,
   "metadata": {
    "id": "Tq4nYRX4_Zct",
    "scrolled": true
   },
   "outputs": [
    {
     "data": {
      "text/plain": [
       "user_id    0\n",
       "track      0\n",
       "artist     0\n",
       "genre      0\n",
       "city       0\n",
       "time       0\n",
       "day        0\n",
       "dtype: int64"
      ]
     },
     "execution_count": 10,
     "metadata": {},
     "output_type": "execute_result"
    }
   ],
   "source": [
    "df.isna().sum()"
   ]
  },
  {
   "cell_type": "markdown",
   "metadata": {},
   "source": [
    "<img src=\"https://upload.wikimedia.org/wikipedia/commons/b/ba/Warning_sign_4.0.png\" align=left width=44, heigth=33>\n",
    "<div class=\"alert alert-warning\">\n",
    "Для вывода столбцов на экран здесь не нужно использовать функцию print() или display(): результат и так будет выведен, так как это последняя строчка ячейки.\n",
    "</div>"
   ]
  },
  {
   "cell_type": "markdown",
   "metadata": {
    "id": "BWKRtBJ3_Zct"
   },
   "source": [
    "### Дубликаты\n",
    "Посчитайте явные дубликаты в таблице одной командой:"
   ]
  },
  {
   "cell_type": "code",
   "execution_count": 11,
   "metadata": {
    "id": "36eES_S0_Zct",
    "scrolled": true
   },
   "outputs": [
    {
     "data": {
      "text/plain": [
       "3826"
      ]
     },
     "execution_count": 11,
     "metadata": {},
     "output_type": "execute_result"
    }
   ],
   "source": [
    "df.duplicated().sum() "
   ]
  },
  {
   "cell_type": "markdown",
   "metadata": {},
   "source": [
    "<img src=\"https://emojigraph.org/media/apple/check-mark-button_2705.png\" align=left width=33, heigth=33>\n",
    "<div class=\"alert alert-success\">\n",
    "Дубликаты верно найдены и посчитаны оптимальными методами.</div>"
   ]
  },
  {
   "cell_type": "markdown",
   "metadata": {},
   "source": [
    "<img src=\"https://upload.wikimedia.org/wikipedia/commons/b/ba/Warning_sign_4.0.png\" align=left width=44, heigth=33>\n",
    "<div class=\"alert alert-warning\">\n",
    "Для вывода на экран здесь не нужно использовать функцию print(): результат и так будет выведен, так как это последняя строчка ячейки.\n",
    "</div>"
   ]
  },
  {
   "cell_type": "markdown",
   "metadata": {
    "id": "Ot25h6XR_Zct"
   },
   "source": [
    "Вызовите специальный метод `pandas`, чтобы удалить явные дубликаты:"
   ]
  },
  {
   "cell_type": "code",
   "execution_count": 12,
   "metadata": {
    "id": "exFHq6tt_Zct"
   },
   "outputs": [],
   "source": [
    "df = df.drop_duplicates().reset_index(drop=True) "
   ]
  },
  {
   "cell_type": "markdown",
   "metadata": {},
   "source": [
    "<img src=\"https://emojigraph.org/media/apple/check-mark-button_2705.png\" align=left width=33, heigth=33>\n",
    "<div class=\"alert alert-success\">\n",
    "Отлично, молодец!</div>"
   ]
  },
  {
   "cell_type": "markdown",
   "metadata": {
    "id": "Im2YwBEG_Zct"
   },
   "source": [
    "Ещё раз посчитайте явные дубликаты в таблице — убедитесь, что полностью от них избавились:"
   ]
  },
  {
   "cell_type": "code",
   "execution_count": 13,
   "metadata": {
    "id": "-8PuNWQ0_Zct"
   },
   "outputs": [
    {
     "data": {
      "text/plain": [
       "0"
      ]
     },
     "execution_count": 13,
     "metadata": {},
     "output_type": "execute_result"
    }
   ],
   "source": [
    "df.duplicated().sum()"
   ]
  },
  {
   "cell_type": "markdown",
   "metadata": {},
   "source": [
    "<img src=\"https://upload.wikimedia.org/wikipedia/commons/b/ba/Warning_sign_4.0.png\" align=left width=44, heigth=33>\n",
    "<div class=\"alert alert-warning\">\n",
    "Для вывода на экран здесь не нужно использовать функцию print(): результат и так будет выведен, так как это последняя строчка ячейки.\n",
    "</div>"
   ]
  },
  {
   "cell_type": "markdown",
   "metadata": {
    "id": "QlFBsxAr_Zct"
   },
   "source": [
    "Теперь избавьтесь от неявных дубликатов в колонке `genre`. Например, название одного и того же жанра может быть записано немного по-разному. Такие ошибки тоже повлияют на результат исследования."
   ]
  },
  {
   "cell_type": "markdown",
   "metadata": {
    "id": "eSjWwsOh_Zct"
   },
   "source": [
    "Выведите на экран список уникальных названий жанров, отсортированный в алфавитном порядке. Для этого:\n",
    "* извлеките нужный столбец датафрейма, \n",
    "* примените к нему метод сортировки,\n",
    "* для отсортированного столбца вызовите метод, который вернёт уникальные значения из столбца."
   ]
  },
  {
   "cell_type": "code",
   "execution_count": 14,
   "metadata": {
    "id": "JIUcqzZN_Zct",
    "scrolled": true
   },
   "outputs": [
    {
     "data": {
      "text/plain": [
       "array(['acid', 'acoustic', 'action', 'adult', 'africa', 'afrikaans',\n",
       "       'alternative', 'alternativepunk', 'ambient', 'americana',\n",
       "       'animated', 'anime', 'arabesk', 'arabic', 'arena',\n",
       "       'argentinetango', 'art', 'audiobook', 'author', 'avantgarde',\n",
       "       'axé', 'baile', 'balkan', 'beats', 'bigroom', 'black', 'bluegrass',\n",
       "       'blues', 'bollywood', 'bossa', 'brazilian', 'breakbeat', 'breaks',\n",
       "       'broadway', 'cantautori', 'cantopop', 'canzone', 'caribbean',\n",
       "       'caucasian', 'celtic', 'chamber', 'chanson', 'children', 'chill',\n",
       "       'chinese', 'choral', 'christian', 'christmas', 'classical',\n",
       "       'classicmetal', 'club', 'colombian', 'comedy', 'conjazz',\n",
       "       'contemporary', 'country', 'cuban', 'dance', 'dancehall',\n",
       "       'dancepop', 'dark', 'death', 'deep', 'deutschrock', 'deutschspr',\n",
       "       'dirty', 'disco', 'dnb', 'documentary', 'downbeat', 'downtempo',\n",
       "       'drum', 'dub', 'dubstep', 'eastern', 'easy', 'electronic',\n",
       "       'electropop', 'emo', 'entehno', 'epicmetal', 'estrada', 'ethnic',\n",
       "       'eurofolk', 'european', 'experimental', 'extrememetal', 'fado',\n",
       "       'fairytail', 'film', 'fitness', 'flamenco', 'folk', 'folklore',\n",
       "       'folkmetal', 'folkrock', 'folktronica', 'forró', 'frankreich',\n",
       "       'französisch', 'french', 'funk', 'future', 'gangsta', 'garage',\n",
       "       'german', 'ghazal', 'gitarre', 'glitch', 'gospel', 'gothic',\n",
       "       'grime', 'grunge', 'gypsy', 'handsup', \"hard'n'heavy\", 'hardcore',\n",
       "       'hardstyle', 'hardtechno', 'hip', 'hip-hop', 'hiphop',\n",
       "       'historisch', 'holiday', 'hop', 'horror', 'house', 'hymn', 'idm',\n",
       "       'independent', 'indian', 'indie', 'indipop', 'industrial',\n",
       "       'inspirational', 'instrumental', 'international', 'irish', 'jam',\n",
       "       'japanese', 'jazz', 'jewish', 'jpop', 'jungle', 'k-pop',\n",
       "       'karadeniz', 'karaoke', 'kayokyoku', 'korean', 'laiko', 'latin',\n",
       "       'latino', 'leftfield', 'local', 'lounge', 'loungeelectronic',\n",
       "       'lovers', 'malaysian', 'mandopop', 'marschmusik', 'meditative',\n",
       "       'mediterranean', 'melodic', 'metal', 'metalcore', 'mexican',\n",
       "       'middle', 'minimal', 'miscellaneous', 'modern', 'mood', 'mpb',\n",
       "       'muslim', 'native', 'neoklassik', 'neue', 'new', 'newage',\n",
       "       'newwave', 'nu', 'nujazz', 'numetal', 'oceania', 'old', 'opera',\n",
       "       'orchestral', 'other', 'piano', 'podcasts', 'pop', 'popdance',\n",
       "       'popelectronic', 'popeurodance', 'poprussian', 'post',\n",
       "       'posthardcore', 'postrock', 'power', 'progmetal', 'progressive',\n",
       "       'psychedelic', 'punjabi', 'punk', 'quebecois', 'ragga', 'ram',\n",
       "       'rancheras', 'rap', 'rave', 'reggae', 'reggaeton', 'regional',\n",
       "       'relax', 'religious', 'retro', 'rhythm', 'rnb', 'rnr', 'rock',\n",
       "       'rockabilly', 'rockalternative', 'rockindie', 'rockother',\n",
       "       'romance', 'roots', 'ruspop', 'rusrap', 'rusrock', 'russian',\n",
       "       'salsa', 'samba', 'scenic', 'schlager', 'self', 'sertanejo',\n",
       "       'shanson', 'shoegazing', 'showtunes', 'singer', 'ska', 'skarock',\n",
       "       'slow', 'smooth', 'soft', 'soul', 'soulful', 'sound', 'soundtrack',\n",
       "       'southern', 'specialty', 'speech', 'spiritual', 'sport',\n",
       "       'stonerrock', 'surf', 'swing', 'synthpop', 'synthrock',\n",
       "       'sängerportrait', 'tango', 'tanzorchester', 'taraftar', 'tatar',\n",
       "       'tech', 'techno', 'teen', 'thrash', 'top', 'traditional',\n",
       "       'tradjazz', 'trance', 'tribal', 'trip', 'triphop', 'tropical',\n",
       "       'türk', 'türkçe', 'ukrrock', 'unknown', 'urban', 'uzbek',\n",
       "       'variété', 'vi', 'videogame', 'vocal', 'western', 'world',\n",
       "       'worldbeat', 'ïîï', 'электроника'], dtype=object)"
      ]
     },
     "execution_count": 14,
     "metadata": {},
     "output_type": "execute_result"
    }
   ],
   "source": [
    "df['genre'].sort_values().unique()"
   ]
  },
  {
   "cell_type": "markdown",
   "metadata": {},
   "source": [
    "<img src=\"https://emojigraph.org/media/apple/check-mark-button_2705.png\" align=left width=33, heigth=33>\n",
    "<div class=\"alert alert-success\">\n",
    "Cписок совсем не маленький - наверняка многие названия дублируются.</div>"
   ]
  },
  {
   "cell_type": "markdown",
   "metadata": {},
   "source": [
    "<img src=\"https://upload.wikimedia.org/wikipedia/commons/b/ba/Warning_sign_4.0.png\" align=left width=44, heigth=33>\n",
    "<div class=\"alert alert-warning\">\n",
    "Для вывода столбцов на экран здесь не нужно использовать функцию print() или display(): результат и так будет выведен, так как это последняя строчка ячейки. Рекомендую использовать display() только для объектов DafaFrame и Series. Со всеми остальными хорошо справляется стандартная команда print().\n",
    "</div>"
   ]
  },
  {
   "cell_type": "markdown",
   "metadata": {
    "id": "qej-Qmuo_Zct"
   },
   "source": [
    "Просмотрите список и найдите неявные дубликаты названия `hiphop`. Это могут быть названия с ошибками или альтернативные названия того же жанра.\n",
    "\n",
    "Вы увидите следующие неявные дубликаты:\n",
    "* *hip*,\n",
    "* *hop*,\n",
    "* *hip-hop*.\n",
    "\n",
    "Чтобы очистить от них таблицу, напишите функцию `replace_wrong_genres()` с двумя параметрами: \n",
    "* `wrong_genres` — список дубликатов,\n",
    "* `correct_genre` — строка с правильным значением.\n",
    "\n",
    "Функция должна исправить колонку `genre` в таблице `df`: заменить каждое значение из списка `wrong_genres` на значение из `correct_genre`."
   ]
  },
  {
   "cell_type": "code",
   "execution_count": 15,
   "metadata": {
    "id": "ErNDkmns_Zct"
   },
   "outputs": [],
   "source": [
    "# привет! я случайно убрал скобки:( когда писал \n",
    "#сразу хотел выводить список уникальных значений после выполнения .replace.\n",
    "#по сути сделал то же, что мы выводим в следующей ячейке\n",
    "def replace_wrong_genre(wrong_genres, correct_genre):\n",
    "    #global df\n",
    "    #for genres in wrong_genres:\n",
    "    df['genre'] = df['genre'].replace(wrong_genres, correct_genre)\n",
    "#    return df['genre'].unique()\n"
   ]
  },
  {
   "cell_type": "markdown",
   "metadata": {},
   "source": [
    "<img src=\"https://upload.wikimedia.org/wikipedia/commons/thumb/8/81/Stop_sign.png/240px-Stop_sign.png\" align=left width=35, heigth=35>\n",
    "<div class=\"alert alert-danger\">\n",
    "Я вижу две ошибки в данной функции. во первых должна ли функция возвращать что-то с помощью return? \n",
    "Во вторых, внутри rerurn ты обращаешься к методу .unique, но не вызываешь его. Напоминаю, что вызов метода производится с помощью двух круглых скобок после имени метода.unique(). \n",
    "</div>"
   ]
  },
  {
   "cell_type": "markdown",
   "metadata": {},
   "source": [
    "<img src=\"https://upload.wikimedia.org/wikipedia/commons/thumb/8/81/Stop_sign.png/240px-Stop_sign.png\" align=left width=35, heigth=35>\n",
    "<div class=\"alert alert-danger\">\n",
    "<b>v2</b> К сожалению твой код работает очень неоптимально. Давай посмотрим на его логику:\n",
    "    \n",
    "    для каждого жанра из списка неправильных жанров\n",
    "        для каждой записи в колонке жанр\n",
    "             заменить ВСЕ НЕПРАВИЛЬНЫЕ ЖАНРЫ на корректный\n",
    "Здесь сразу два недочета: во первых если ты передаешь в метод replace список всех неправильных жанров (а такой фукнционал он поддерживает), то зачем нам ходить по циклам.\n",
    "Во вторых не стоит обходить значения DataFrame циклами python, это в тысячи раз медленнее встроенных функций. \n",
    "    \n",
    "Вот как мог бы выглядеть оптимальный алгоритм (вариант 1):\n",
    "   \n",
    "    для каждого жанра  из списка неправильных жанров\n",
    "        в колонке 'genres' заменить этот жанр на правильный\n",
    "    \n",
    "или сразу, одной командой\n",
    "    \n",
    "    заменить все значения из списка неправильных жанров на правильный\n",
    "    .replace(wrong_genres, correct_genre)\n",
    "        \n",
    "</div>"
   ]
  },
  {
   "cell_type": "markdown",
   "metadata": {},
   "source": [
    "Привет! Спасибо за обратную связь)))\n",
    "\n",
    "Я видимо слишком в голове себе вбил какой то алгоритм действий, решил его повторить в коде  и немножно не думал.\n",
    "\n",
    "поправил в 2 вариантах, с проходом по всему датафрейму и по столбцу. по столбцу должно быть быстрее, так как проверяются не все значения датафрейма:)\n",
    "\n",
    "\n"
   ]
  },
  {
   "cell_type": "markdown",
   "metadata": {},
   "source": [
    "<img src=\"https://emojigraph.org/media/apple/check-mark-button_2705.png\" align=left width=33, heigth=33>\n",
    "<div class=\"alert alert-success\">\n",
    "<b>v3</b> 👍 Привет. Да, думаю сейчас ты реализовал самый быстрый из возможных вариантов для данной задачи ))</div>"
   ]
  },
  {
   "cell_type": "markdown",
   "metadata": {
    "id": "aDoBJxbA_Zct"
   },
   "source": [
    "Вызовите `replace_wrong_genres()` и передайте ей такие аргументы, чтобы она устранила неявные дубликаты: вместо `hip`, `hop` и `hip-hop` в таблице должно быть значение `hiphop`:"
   ]
  },
  {
   "cell_type": "markdown",
   "metadata": {},
   "source": [
    "**Есть вопрос**\n",
    "касательно неявных дубликатов, как 'türk', 'türkçe'или jpop и kayokyoku.\n",
    "***Насколько важно проявлять самостоятельную экспертизу и выяснять такие детали, если на результаты исследования они не окажут большого влияния***\n"
   ]
  },
  {
   "cell_type": "markdown",
   "metadata": {},
   "source": [
    "<img src=\"https://emojigraph.org/media/apple/check-mark-button_2705.png\" align=left width=33, heigth=33>\n",
    "<div class=\"alert alert-success\">\n",
    "Для данного проекта не обязательно самому искать дубликаты, кроме явно указанных (хип-хоп).</div>"
   ]
  },
  {
   "cell_type": "code",
   "execution_count": 16,
   "metadata": {
    "id": "YN5i2hpmSo09",
    "scrolled": true
   },
   "outputs": [],
   "source": [
    "wrong_genres = ['hip', 'hop', 'hip-hop']\n",
    "correct_genre = 'hiphop'\n",
    "replace_wrong_genre(wrong_genres, correct_genre)"
   ]
  },
  {
   "cell_type": "markdown",
   "metadata": {
    "id": "zQKF16_RG15m"
   },
   "source": [
    "Проверьте, что заменили неправильные названия:\n",
    "\n",
    "*   hip\n",
    "*   hop\n",
    "*   hip-hop\n",
    "\n",
    "Выведите отсортированный список уникальных значений столбца `genre`:"
   ]
  },
  {
   "cell_type": "markdown",
   "metadata": {},
   "source": [
    "<img src=\"https://emojigraph.org/media/apple/check-mark-button_2705.png\" align=left width=33, heigth=33>\n",
    "<div class=\"alert alert-success\">\n",
    "ОК, все верно</div>"
   ]
  },
  {
   "cell_type": "code",
   "execution_count": 17,
   "metadata": {
    "id": "wvixALnFG15m"
   },
   "outputs": [
    {
     "data": {
      "text/plain": [
       "array(['acid', 'acoustic', 'action', 'adult', 'africa', 'afrikaans',\n",
       "       'alternative', 'alternativepunk', 'ambient', 'americana',\n",
       "       'animated', 'anime', 'arabesk', 'arabic', 'arena',\n",
       "       'argentinetango', 'art', 'audiobook', 'author', 'avantgarde',\n",
       "       'axé', 'baile', 'balkan', 'beats', 'bigroom', 'black', 'bluegrass',\n",
       "       'blues', 'bollywood', 'bossa', 'brazilian', 'breakbeat', 'breaks',\n",
       "       'broadway', 'cantautori', 'cantopop', 'canzone', 'caribbean',\n",
       "       'caucasian', 'celtic', 'chamber', 'chanson', 'children', 'chill',\n",
       "       'chinese', 'choral', 'christian', 'christmas', 'classical',\n",
       "       'classicmetal', 'club', 'colombian', 'comedy', 'conjazz',\n",
       "       'contemporary', 'country', 'cuban', 'dance', 'dancehall',\n",
       "       'dancepop', 'dark', 'death', 'deep', 'deutschrock', 'deutschspr',\n",
       "       'dirty', 'disco', 'dnb', 'documentary', 'downbeat', 'downtempo',\n",
       "       'drum', 'dub', 'dubstep', 'eastern', 'easy', 'electronic',\n",
       "       'electropop', 'emo', 'entehno', 'epicmetal', 'estrada', 'ethnic',\n",
       "       'eurofolk', 'european', 'experimental', 'extrememetal', 'fado',\n",
       "       'fairytail', 'film', 'fitness', 'flamenco', 'folk', 'folklore',\n",
       "       'folkmetal', 'folkrock', 'folktronica', 'forró', 'frankreich',\n",
       "       'französisch', 'french', 'funk', 'future', 'gangsta', 'garage',\n",
       "       'german', 'ghazal', 'gitarre', 'glitch', 'gospel', 'gothic',\n",
       "       'grime', 'grunge', 'gypsy', 'handsup', \"hard'n'heavy\", 'hardcore',\n",
       "       'hardstyle', 'hardtechno', 'hiphop', 'historisch', 'holiday',\n",
       "       'horror', 'house', 'hymn', 'idm', 'independent', 'indian', 'indie',\n",
       "       'indipop', 'industrial', 'inspirational', 'instrumental',\n",
       "       'international', 'irish', 'jam', 'japanese', 'jazz', 'jewish',\n",
       "       'jpop', 'jungle', 'k-pop', 'karadeniz', 'karaoke', 'kayokyoku',\n",
       "       'korean', 'laiko', 'latin', 'latino', 'leftfield', 'local',\n",
       "       'lounge', 'loungeelectronic', 'lovers', 'malaysian', 'mandopop',\n",
       "       'marschmusik', 'meditative', 'mediterranean', 'melodic', 'metal',\n",
       "       'metalcore', 'mexican', 'middle', 'minimal', 'miscellaneous',\n",
       "       'modern', 'mood', 'mpb', 'muslim', 'native', 'neoklassik', 'neue',\n",
       "       'new', 'newage', 'newwave', 'nu', 'nujazz', 'numetal', 'oceania',\n",
       "       'old', 'opera', 'orchestral', 'other', 'piano', 'podcasts', 'pop',\n",
       "       'popdance', 'popelectronic', 'popeurodance', 'poprussian', 'post',\n",
       "       'posthardcore', 'postrock', 'power', 'progmetal', 'progressive',\n",
       "       'psychedelic', 'punjabi', 'punk', 'quebecois', 'ragga', 'ram',\n",
       "       'rancheras', 'rap', 'rave', 'reggae', 'reggaeton', 'regional',\n",
       "       'relax', 'religious', 'retro', 'rhythm', 'rnb', 'rnr', 'rock',\n",
       "       'rockabilly', 'rockalternative', 'rockindie', 'rockother',\n",
       "       'romance', 'roots', 'ruspop', 'rusrap', 'rusrock', 'russian',\n",
       "       'salsa', 'samba', 'scenic', 'schlager', 'self', 'sertanejo',\n",
       "       'shanson', 'shoegazing', 'showtunes', 'singer', 'ska', 'skarock',\n",
       "       'slow', 'smooth', 'soft', 'soul', 'soulful', 'sound', 'soundtrack',\n",
       "       'southern', 'specialty', 'speech', 'spiritual', 'sport',\n",
       "       'stonerrock', 'surf', 'swing', 'synthpop', 'synthrock',\n",
       "       'sängerportrait', 'tango', 'tanzorchester', 'taraftar', 'tatar',\n",
       "       'tech', 'techno', 'teen', 'thrash', 'top', 'traditional',\n",
       "       'tradjazz', 'trance', 'tribal', 'trip', 'triphop', 'tropical',\n",
       "       'türk', 'türkçe', 'ukrrock', 'unknown', 'urban', 'uzbek',\n",
       "       'variété', 'vi', 'videogame', 'vocal', 'western', 'world',\n",
       "       'worldbeat', 'ïîï', 'электроника'], dtype=object)"
      ]
     },
     "metadata": {},
     "output_type": "display_data"
    }
   ],
   "source": [
    "display(df['genre'].sort_values().unique())"
   ]
  },
  {
   "cell_type": "markdown",
   "metadata": {
    "id": "jz6a9-7HQUDd"
   },
   "source": [
    "**Выводы**\n",
    "\n",
    "Предобработка обнаружила три проблемы в данных:\n",
    "\n",
    "- нарушения в стиле заголовков,\n",
    "- пропущенные значения,\n",
    "- дубликаты — явные и неявные.\n",
    "\n",
    "Вы исправили заголовки, чтобы упростить работу с таблицей. Без дубликатов исследование станет более точным.\n",
    "\n",
    "Пропущенные значения вы заменили на `'unknown'`. Ещё предстоит увидеть, не повредят ли исследованию пропуски в колонке `genre`.\n",
    "\n",
    "Теперь можно перейти к проверке гипотез. "
   ]
  },
  {
   "cell_type": "markdown",
   "metadata": {
    "id": "WttZHXH0SqKk"
   },
   "source": [
    "## Проверка гипотез"
   ]
  },
  {
   "cell_type": "markdown",
   "metadata": {
    "id": "Im936VVi_Zcu"
   },
   "source": [
    "### Сравнение поведения пользователей двух столиц"
   ]
  },
  {
   "cell_type": "markdown",
   "metadata": {
    "id": "nwt_MuaL_Zcu"
   },
   "source": [
    "Первая гипотеза утверждает, что пользователи по-разному слушают музыку в Москве и Санкт-Петербурге. Проверьте это предположение по данным о трёх днях недели — понедельнике, среде и пятнице. Для этого:\n",
    "\n",
    "* Разделите пользователей Москвы и Санкт-Петербурга\n",
    "* Сравните, сколько треков послушала каждая группа пользователей в понедельник, среду и пятницу.\n"
   ]
  },
  {
   "cell_type": "markdown",
   "metadata": {
    "id": "8Dw_YMmT_Zcu"
   },
   "source": [
    "Для тренировки сначала выполните каждый из расчётов по отдельности. \n",
    "\n",
    "Оцените активность пользователей в каждом городе. Сгруппируйте данные по городу и посчитайте прослушивания в каждой группе.\n",
    "\n"
   ]
  },
  {
   "cell_type": "code",
   "execution_count": 18,
   "metadata": {
    "id": "0_Qs96oh_Zcu"
   },
   "outputs": [
    {
     "data": {
      "text/plain": [
       "city\n",
       "Moscow              42741\n",
       "Saint-Petersburg    18512\n",
       "Name: user_id, dtype: int64"
      ]
     },
     "metadata": {},
     "output_type": "display_data"
    }
   ],
   "source": [
    "city_music = df.groupby('city')['user_id'].count()\n",
    "display(city_music)"
   ]
  },
  {
   "cell_type": "markdown",
   "metadata": {},
   "source": [
    "<img src=\"https://emojigraph.org/media/apple/check-mark-button_2705.png\" align=left width=33, heigth=33>\n",
    "<div class=\"alert alert-success\">\n",
    "ОК</div>"
   ]
  },
  {
   "cell_type": "markdown",
   "metadata": {
    "id": "dzli3w8o_Zcu"
   },
   "source": [
    "В Москве прослушиваний больше, чем в Петербурге. Из этого не следует, что московские пользователи чаще слушают музыку. Просто самих пользователей в Москве больше.\n",
    "\n",
    "Теперь сгруппируйте данные по дню недели и подсчитайте прослушивания в понедельник, среду и пятницу. Учтите, что в данных есть информация о прослушиваниях только за эти дни.\n"
   ]
  },
  {
   "cell_type": "code",
   "execution_count": 19,
   "metadata": {
    "id": "uZMKjiJz_Zcu"
   },
   "outputs": [
    {
     "data": {
      "text/plain": [
       "day\n",
       "Friday       21840\n",
       "Monday       21354\n",
       "Wednesday    18059\n",
       "Name: user_id, dtype: int64"
      ]
     },
     "metadata": {},
     "output_type": "display_data"
    }
   ],
   "source": [
    "city_music = df.groupby('day')['user_id'].count()\n",
    "display(city_music)"
   ]
  },
  {
   "cell_type": "markdown",
   "metadata": {},
   "source": [
    "<img src=\"https://emojigraph.org/media/apple/check-mark-button_2705.png\" align=left width=33, heigth=33>\n",
    "<div class=\"alert alert-success\">\n",
    "ОК</div>"
   ]
  },
  {
   "cell_type": "markdown",
   "metadata": {
    "id": "cC2tNrlL_Zcu"
   },
   "source": [
    "В среднем пользователи из двух городов менее активны по средам. Но картина может измениться, если рассмотреть каждый город в отдельности."
   ]
  },
  {
   "cell_type": "markdown",
   "metadata": {
    "id": "POzs8bGa_Zcu"
   },
   "source": [
    "Вы видели, как работает группировка по городу и по дням недели. Теперь напишите функцию, которая объединит два эти расчёта.\n",
    "\n",
    "Создайте функцию `number_tracks()`, которая посчитает прослушивания для заданного дня и города. Ей понадобятся два параметра:\n",
    "* день недели,\n",
    "* название города.\n",
    "\n",
    "В функции сохраните в переменную строки исходной таблицы, у которых значение:\n",
    "  * в колонке `day` равно параметру `day`,\n",
    "  * в колонке `city` равно параметру `city`.\n",
    "\n",
    "Для этого примените последовательную фильтрацию с логической индексацией.\n",
    "\n",
    "Затем посчитайте значения в столбце `user_id` получившейся таблицы. Результат сохраните в новую переменную. Верните эту переменную из функции."
   ]
  },
  {
   "cell_type": "code",
   "execution_count": 20,
   "metadata": {
    "id": "Nz3GdQB1_Zcu"
   },
   "outputs": [],
   "source": [
    "# Объявляется функция с двумя параметрами: day, city.\n",
    "# В переменной track_list сохраняются те строки таблицы df, для которых \n",
    "# значение в столбце 'day' равно параметру day и одновременно значение\n",
    "# в столбце 'city' равно параметру city (используйте последовательную фильтрацию\n",
    "# с помощью логической индексации).\n",
    "# В переменной track_list_count сохраняется число значений столбца 'user_id',\n",
    "# рассчитанное методом count() для таблицы track_list.\n",
    "# Функция возвращает число - значение track_list_count.\n",
    "\n",
    "# Функция для подсчёта прослушиваний для конкретного города и дня.\n",
    "# С помощью последовательной фильтрации с логической индексацией она \n",
    "# сначала получит из исходной таблицы строки с нужным днём,\n",
    "# затем из результата отфильтрует строки с нужным городом,\n",
    "# методом count() посчитает количество значений в колонке user_id. \n",
    "# Это количество функция вернёт в качестве результата\n",
    "def number_tracks(day, city):\n",
    "    track_list = df.loc[df.loc[:, 'day'] == day]\n",
    "    track_list_count = track_list[track_list.loc[:, 'city'] == city]['user_id'].count()\n",
    "    return track_list_count\n",
    "\n"
   ]
  },
  {
   "cell_type": "markdown",
   "metadata": {},
   "source": [
    "<img src=\"https://emojigraph.org/media/apple/check-mark-button_2705.png\" align=left width=33, heigth=33>\n",
    "<div class=\"alert alert-success\">\n",
    "Твоя функция полностью выполняет свои задачи</div>"
   ]
  },
  {
   "cell_type": "markdown",
   "metadata": {},
   "source": [
    "<img src=\"https://upload.wikimedia.org/wikipedia/commons/b/ba/Warning_sign_4.0.png\" align=left width=44, heigth=33>\n",
    "<div class=\"alert alert-warning\">\n",
    "Комментарии к коду лучше оставлять НАД кодом. Так твой проект будет удобней читать.\n",
    "</div>"
   ]
  },
  {
   "cell_type": "markdown",
   "metadata": {
    "id": "ytf7xFrFJQ2r"
   },
   "source": [
    "Вызовите `number_tracks()` шесть раз, меняя значение параметров — так, чтобы получить данные для каждого города в каждый из трёх дней."
   ]
  },
  {
   "cell_type": "code",
   "execution_count": 21,
   "metadata": {
    "id": "rJcRATNQ_Zcu"
   },
   "outputs": [
    {
     "data": {
      "text/plain": [
       "15740"
      ]
     },
     "execution_count": 21,
     "metadata": {},
     "output_type": "execute_result"
    }
   ],
   "source": [
    "# количество прослушиваний в Москве по понедельникам\n",
    "number_tracks('Monday', 'Moscow')"
   ]
  },
  {
   "cell_type": "code",
   "execution_count": 22,
   "metadata": {
    "id": "hq_ncZ5T_Zcu"
   },
   "outputs": [
    {
     "data": {
      "text/plain": [
       "5614"
      ]
     },
     "execution_count": 22,
     "metadata": {},
     "output_type": "execute_result"
    }
   ],
   "source": [
    "number_tracks('Monday', 'Saint-Petersburg')"
   ]
  },
  {
   "cell_type": "code",
   "execution_count": 23,
   "metadata": {
    "id": "_NTy2VPU_Zcu"
   },
   "outputs": [
    {
     "data": {
      "text/plain": [
       "11056"
      ]
     },
     "execution_count": 23,
     "metadata": {},
     "output_type": "execute_result"
    }
   ],
   "source": [
    "number_tracks('Wednesday', 'Moscow')"
   ]
  },
  {
   "cell_type": "code",
   "execution_count": 24,
   "metadata": {
    "id": "j2y3TAwo_Zcu"
   },
   "outputs": [
    {
     "data": {
      "text/plain": [
       "7003"
      ]
     },
     "execution_count": 24,
     "metadata": {},
     "output_type": "execute_result"
    }
   ],
   "source": [
    "number_tracks('Wednesday', 'Saint-Petersburg')"
   ]
  },
  {
   "cell_type": "code",
   "execution_count": 25,
   "metadata": {
    "id": "vYDw5u_K_Zcu"
   },
   "outputs": [
    {
     "data": {
      "text/plain": [
       "15945"
      ]
     },
     "execution_count": 25,
     "metadata": {},
     "output_type": "execute_result"
    }
   ],
   "source": [
    "number_tracks('Friday', 'Moscow')"
   ]
  },
  {
   "cell_type": "code",
   "execution_count": 26,
   "metadata": {
    "id": "8_yzFtW3_Zcu"
   },
   "outputs": [
    {
     "data": {
      "text/plain": [
       "5895"
      ]
     },
     "execution_count": 26,
     "metadata": {},
     "output_type": "execute_result"
    }
   ],
   "source": [
    "number_tracks('Friday', 'Saint-Petersburg')"
   ]
  },
  {
   "cell_type": "markdown",
   "metadata": {
    "id": "7QXffbO-_Zcu"
   },
   "source": [
    "Создайте c помощью конструктора `pd.DataFrame` таблицу, где\n",
    "* названия колонок — `['city', 'monday', 'wednesday', 'friday']`;\n",
    "* данные — результаты, которые вы получили с помощью `number_tracks`."
   ]
  },
  {
   "cell_type": "code",
   "execution_count": 27,
   "metadata": {
    "id": "APAcLpOr_Zcu"
   },
   "outputs": [
    {
     "data": {
      "text/html": [
       "<div>\n",
       "<style scoped>\n",
       "    .dataframe tbody tr th:only-of-type {\n",
       "        vertical-align: middle;\n",
       "    }\n",
       "\n",
       "    .dataframe tbody tr th {\n",
       "        vertical-align: top;\n",
       "    }\n",
       "\n",
       "    .dataframe thead th {\n",
       "        text-align: right;\n",
       "    }\n",
       "</style>\n",
       "<table border=\"1\" class=\"dataframe\">\n",
       "  <thead>\n",
       "    <tr style=\"text-align: right;\">\n",
       "      <th></th>\n",
       "      <th>city</th>\n",
       "      <th>monday</th>\n",
       "      <th>wednesday</th>\n",
       "      <th>friday</th>\n",
       "    </tr>\n",
       "  </thead>\n",
       "  <tbody>\n",
       "    <tr>\n",
       "      <th>0</th>\n",
       "      <td>Moscow</td>\n",
       "      <td>15740</td>\n",
       "      <td>11056</td>\n",
       "      <td>15945</td>\n",
       "    </tr>\n",
       "    <tr>\n",
       "      <th>1</th>\n",
       "      <td>Saint-Petersburg</td>\n",
       "      <td>5614</td>\n",
       "      <td>7003</td>\n",
       "      <td>5895</td>\n",
       "    </tr>\n",
       "  </tbody>\n",
       "</table>\n",
       "</div>"
      ],
      "text/plain": [
       "               city  monday  wednesday  friday\n",
       "0            Moscow   15740      11056   15945\n",
       "1  Saint-Petersburg    5614       7003    5895"
      ]
     },
     "metadata": {},
     "output_type": "display_data"
    }
   ],
   "source": [
    "\n",
    "stats = {\n",
    "    'city':\n",
    "    ['Moscow', 'Saint-Petersburg'],\n",
    "    'monday':\n",
    "    [15740, 5614],\n",
    "    'wednesday':\n",
    "    [11056, 7003],\n",
    "    'friday':\n",
    "    [15945, 5895]\n",
    "}\n",
    "inter_result = pd.DataFrame(stats)\n",
    "display(inter_result)"
   ]
  },
  {
   "cell_type": "markdown",
   "metadata": {},
   "source": [
    "<img src=\"https://emojigraph.org/media/apple/check-mark-button_2705.png\" align=left width=33, heigth=33>\n",
    "<div class=\"alert alert-success\">\n",
    "Ты верно подсчитал количество прослушиваний и заполнил DataFrame. Так держать!</div>"
   ]
  },
  {
   "cell_type": "markdown",
   "metadata": {
    "id": "-EgPIHYu_Zcu"
   },
   "source": [
    "**Выводы**\n",
    "\n",
    "Данные показывают разницу поведения пользователей:\n",
    "\n",
    "- В Москве пик прослушиваний приходится на понедельник и пятницу, а в среду заметен спад.\n",
    "- В Петербурге, наоборот, больше слушают музыку по средам. Активность в понедельник и пятницу здесь почти в равной мере уступает среде.\n",
    "\n",
    "Значит, данные говорят в пользу первой гипотезы."
   ]
  },
  {
   "cell_type": "markdown",
   "metadata": {
    "id": "atZAxtq4_Zcu"
   },
   "source": [
    "### Музыка в начале и в конце недели"
   ]
  },
  {
   "cell_type": "markdown",
   "metadata": {
    "id": "eXrQqXFH_Zcu"
   },
   "source": [
    "Согласно второй гипотезе, утром в понедельник в Москве преобладают одни жанры, а в Петербурге — другие. Так же и вечером пятницы преобладают разные жанры — в зависимости от города."
   ]
  },
  {
   "cell_type": "markdown",
   "metadata": {
    "id": "S8UcW6Hw_Zcu"
   },
   "source": [
    "Сохраните таблицы с данными в две переменные:\n",
    "* по Москве — в `moscow_general`;\n",
    "* по Санкт-Петербургу — в `spb_general`."
   ]
  },
  {
   "cell_type": "code",
   "execution_count": 28,
   "metadata": {
    "id": "qeaFfM_P_Zcu"
   },
   "outputs": [],
   "source": [
    "# получение таблицы moscow_general из тех строк таблицы df, \n",
    "# для которых значение в столбце 'city' равно 'Moscow'\n",
    "moscow_general = df[df['city'] == 'Moscow']"
   ]
  },
  {
   "cell_type": "code",
   "execution_count": 29,
   "metadata": {
    "id": "ORaVRKto_Zcu"
   },
   "outputs": [],
   "source": [
    "# получение таблицы spb_general из тех строк таблицы df,\n",
    "# для которых значение в столбце 'city' равно 'Saint-Petersburg'\n",
    "spb_general = df[df['city'] == 'Saint-Petersburg']"
   ]
  },
  {
   "cell_type": "markdown",
   "metadata": {},
   "source": [
    "<img src=\"https://emojigraph.org/media/apple/check-mark-button_2705.png\" align=left width=33, heigth=33>\n",
    "<div class=\"alert alert-success\">\n",
    "Таблицы moscow_general и spb_general сформированы совершенно верно, но лучше обойтись без .loc\n",
    "    \n",
    "    df[df['city'] == 'Novosibirsk']\n",
    "</div>\n"
   ]
  },
  {
   "cell_type": "markdown",
   "metadata": {
    "id": "MEJV-CX2_Zcu"
   },
   "source": [
    "Создайте функцию `genre_weekday()` с четырьмя параметрами:\n",
    "* таблица (датафрейм) с данными,\n",
    "* день недели,\n",
    "* начальная временная метка в формате 'hh:mm', \n",
    "* последняя временная метка в формате 'hh:mm'.\n",
    "\n",
    "Функция должна вернуть информацию о топ-10 жанров тех треков, которые прослушивали в указанный день, в промежутке между двумя отметками времени."
   ]
  },
  {
   "cell_type": "code",
   "execution_count": 30,
   "metadata": {
    "id": "laJT9BYl_Zcu"
   },
   "outputs": [],
   "source": [
    "# Объявление функции genre_weekday() с параметрами table, day, time1, time2,\n",
    "# которая возвращает информацию о самых популярных жанрах в указанный день в\n",
    "# заданное время:\n",
    "# 1) в переменную genre_df сохраняются те строки переданного датафрейма table, для\n",
    "#    которых одновременно:\n",
    "#    - значение в столбце day равно значению аргумента day\n",
    "#    - значение в столбце time больше значения аргумента time1\n",
    "#    - значение в столбце time меньше значения аргумента time2\n",
    "#    Используйте последовательную фильтрацию с помощью логической индексации.\n",
    "# 2) сгруппировать датафрейм genre_df по столбцу genre, взять один из его\n",
    "#    столбцов и посчитать методом count() количество записей для каждого из\n",
    "#    присутствующих жанров, получившийся Series записать в переменную\n",
    "#    genre_df_count\n",
    "# 3) отсортировать genre_df_count по убыванию встречаемости и сохранить\n",
    "#    в переменную genre_df_sorted\n",
    "# 4) вернуть Series из 10 первых значений genre_df_sorted, это будут топ-10\n",
    "#    популярных жанров (в указанный день, в заданное время)\n",
    "def genre_weekday(table, day, time1, time2):\n",
    "    genre_df = table[table['day'] == day]\n",
    "    genre_df = genre_df[genre_df['time'] > time1]\n",
    "    genre_df = genre_df[genre_df['time'] < time2]\n",
    "    genre_df_count = genre_df.groupby('genre')['user_id'].count()\n",
    "    genre_df_sorted = genre_df_count.sort_values(ascending=False)\n",
    "    return genre_df_sorted[:10]\n",
    "    \n",
    "    \n",
    "    "
   ]
  },
  {
   "cell_type": "markdown",
   "metadata": {},
   "source": [
    "<img src=\"https://emojigraph.org/media/apple/check-mark-button_2705.png\" align=left width=33, heigth=33>\n",
    "<div class=\"alert alert-success\">\n",
    "Функция написана верно!</div>"
   ]
  },
  {
   "cell_type": "markdown",
   "metadata": {
    "id": "la2s2_PF_Zcu"
   },
   "source": [
    "Cравните результаты функции `genre_weekday()` для Москвы и Санкт-Петербурга в понедельник утром (с 7:00 до 11:00) и в пятницу вечером (с 17:00 до 23:00):"
   ]
  },
  {
   "cell_type": "code",
   "execution_count": 31,
   "metadata": {
    "id": "yz7itPUQ_Zcu"
   },
   "outputs": [
    {
     "data": {
      "text/plain": [
       "genre\n",
       "pop            781\n",
       "dance          549\n",
       "electronic     480\n",
       "rock           474\n",
       "hiphop         286\n",
       "ruspop         186\n",
       "world          181\n",
       "rusrap         175\n",
       "alternative    164\n",
       "unknown        161\n",
       "Name: user_id, dtype: int64"
      ]
     },
     "execution_count": 31,
     "metadata": {},
     "output_type": "execute_result"
    }
   ],
   "source": [
    "genre_weekday(moscow_general, 'Monday', '07:00', '11:00')"
   ]
  },
  {
   "cell_type": "code",
   "execution_count": 32,
   "metadata": {
    "id": "kwUcHPdy_Zcu"
   },
   "outputs": [
    {
     "data": {
      "text/plain": [
       "genre\n",
       "pop            218\n",
       "dance          182\n",
       "rock           162\n",
       "electronic     147\n",
       "hiphop          80\n",
       "ruspop          64\n",
       "alternative     58\n",
       "rusrap          55\n",
       "jazz            44\n",
       "classical       40\n",
       "Name: user_id, dtype: int64"
      ]
     },
     "execution_count": 32,
     "metadata": {},
     "output_type": "execute_result"
    }
   ],
   "source": [
    "genre_weekday(spb_general, 'Monday', '07:00', '11:00')"
   ]
  },
  {
   "cell_type": "code",
   "execution_count": 33,
   "metadata": {
    "id": "EzXVRE1o_Zcu"
   },
   "outputs": [
    {
     "data": {
      "text/plain": [
       "genre\n",
       "pop            713\n",
       "rock           517\n",
       "dance          495\n",
       "electronic     482\n",
       "hiphop         273\n",
       "world          208\n",
       "ruspop         170\n",
       "alternative    163\n",
       "classical      163\n",
       "rusrap         142\n",
       "Name: user_id, dtype: int64"
      ]
     },
     "execution_count": 33,
     "metadata": {},
     "output_type": "execute_result"
    }
   ],
   "source": [
    "genre_weekday(moscow_general, 'Friday', '17:00', '23:00')"
   ]
  },
  {
   "cell_type": "code",
   "execution_count": 34,
   "metadata": {
    "id": "JZaEKu5v_Zcu"
   },
   "outputs": [
    {
     "data": {
      "text/plain": [
       "genre\n",
       "pop            256\n",
       "electronic     216\n",
       "rock           216\n",
       "dance          210\n",
       "hiphop          97\n",
       "alternative     63\n",
       "jazz            61\n",
       "classical       60\n",
       "rusrap          59\n",
       "world           54\n",
       "Name: user_id, dtype: int64"
      ]
     },
     "execution_count": 34,
     "metadata": {},
     "output_type": "execute_result"
    }
   ],
   "source": [
    "genre_weekday(spb_general, 'Friday', '17:00', '23:00')"
   ]
  },
  {
   "cell_type": "markdown",
   "metadata": {},
   "source": [
    "<img src=\"https://emojigraph.org/media/apple/check-mark-button_2705.png\" align=left width=33, heigth=33>\n",
    "<div class=\"alert alert-success\">\n",
    "С помощью функции мы получили всю нужную информацию! </div>"
   ]
  },
  {
   "cell_type": "markdown",
   "metadata": {
    "id": "wrCe4MNX_Zcu"
   },
   "source": [
    "**Выводы**\n",
    "\n",
    "Если сравнить топ-10 жанров в понедельник утром, можно сделать такие выводы:\n",
    "\n",
    "1. В Москве и Петербурге слушают похожую музыку. Единственное отличие — в московский рейтинг вошёл жанр “world”, а в петербургский — джаз и классика.\n",
    "\n",
    "2. В Москве пропущенных значений оказалось так много, что значение `'unknown'` заняло десятое место среди самых популярных жанров. Значит, пропущенные значения занимают существенную долю в данных и угрожают достоверности исследования.\n",
    "\n",
    "Вечер пятницы не меняет эту картину. Некоторые жанры поднимаются немного выше, другие спускаются, но в целом топ-10 остаётся тем же самым.\n",
    "\n",
    "Таким образом, вторая гипотеза подтвердилась лишь частично:\n",
    "* Пользователи слушают похожую музыку в начале недели и в конце.\n",
    "* Разница между Москвой и Петербургом не слишком выражена. В Москве чаще слушают русскую популярную музыку, в Петербурге — джаз.\n",
    "\n",
    "Однако пропуски в данных ставят под сомнение этот результат. В Москве их так много, что рейтинг топ-10 мог бы выглядеть иначе, если бы не утерянные  данные о жанрах."
   ]
  },
  {
   "cell_type": "markdown",
   "metadata": {
    "id": "JolODAqr_Zcu"
   },
   "source": [
    "### Жанровые предпочтения в Москве и Петербурге\n",
    "\n",
    "Гипотеза: Петербург — столица рэпа, музыку этого жанра там слушают чаще, чем в Москве.  А Москва — город контрастов, в котором, тем не менее, преобладает поп-музыка."
   ]
  },
  {
   "cell_type": "markdown",
   "metadata": {
    "id": "DlegSvaT_Zcu"
   },
   "source": [
    "Сгруппируйте таблицу `moscow_general` по жанру и посчитайте прослушивания треков каждого жанра методом `count()`. Затем отсортируйте результат в порядке убывания и сохраните его в таблице `moscow_genres`."
   ]
  },
  {
   "cell_type": "code",
   "execution_count": 35,
   "metadata": {
    "id": "r19lIPke_Zcu"
   },
   "outputs": [],
   "source": [
    "moscow_general = moscow_general.groupby('genre')['track'].count()\n",
    "moscow_genres = moscow_general.sort_values(ascending=False)"
   ]
  },
  {
   "cell_type": "markdown",
   "metadata": {
    "id": "6kMuomxTiIr8"
   },
   "source": [
    "Выведите на экран первые десять строк `moscow_genres`:"
   ]
  },
  {
   "cell_type": "code",
   "execution_count": 36,
   "metadata": {
    "id": "WhCSooF8_Zcv",
    "scrolled": true
   },
   "outputs": [
    {
     "data": {
      "text/plain": [
       "genre\n",
       "pop            5892\n",
       "dance          4435\n",
       "rock           3965\n",
       "electronic     3786\n",
       "hiphop         2096\n",
       "classical      1616\n",
       "world          1432\n",
       "alternative    1379\n",
       "ruspop         1372\n",
       "rusrap         1161\n",
       "Name: track, dtype: int64"
      ]
     },
     "metadata": {},
     "output_type": "display_data"
    }
   ],
   "source": [
    "display(moscow_genres[:10])"
   ]
  },
  {
   "cell_type": "markdown",
   "metadata": {},
   "source": [
    "<img src=\"https://emojigraph.org/media/apple/check-mark-button_2705.png\" align=left width=33, heigth=33>\n",
    "<div class=\"alert alert-success\">\n",
    "Молодец, данные по Москве получены! </div>"
   ]
  },
  {
   "cell_type": "markdown",
   "metadata": {
    "id": "cnPG2vnN_Zcv"
   },
   "source": [
    "Теперь повторите то же и для Петербурга.\n",
    "\n",
    "Сгруппируйте таблицу `spb_general` по жанру. Посчитайте прослушивания треков каждого жанра. Результат отсортируйте в порядке убывания и сохраните в таблице `spb_genres`:\n"
   ]
  },
  {
   "cell_type": "code",
   "execution_count": 37,
   "metadata": {
    "id": "gluLIpE7_Zcv"
   },
   "outputs": [],
   "source": [
    "spb_general = spb_general.groupby('genre')['track'].count()\n",
    "spb_genres = spb_general.sort_values(ascending=False)"
   ]
  },
  {
   "cell_type": "markdown",
   "metadata": {
    "id": "5Doha_ODgyQ8"
   },
   "source": [
    "Выведите на экран первые десять строк `spb_genres`:"
   ]
  },
  {
   "cell_type": "code",
   "execution_count": 38,
   "metadata": {
    "id": "uaGJHjVU_Zcv"
   },
   "outputs": [
    {
     "data": {
      "text/plain": [
       "genre\n",
       "pop            2431\n",
       "dance          1932\n",
       "rock           1879\n",
       "electronic     1736\n",
       "hiphop          960\n",
       "alternative     649\n",
       "classical       646\n",
       "rusrap          564\n",
       "ruspop          538\n",
       "world           515\n",
       "Name: track, dtype: int64"
      ]
     },
     "metadata": {},
     "output_type": "display_data"
    }
   ],
   "source": [
    "display(spb_genres[:10])"
   ]
  },
  {
   "cell_type": "markdown",
   "metadata": {},
   "source": [
    "<img src=\"https://emojigraph.org/media/apple/check-mark-button_2705.png\" align=left width=33, heigth=33>\n",
    "<div class=\"alert alert-success\">\n",
    "По Санкт-Петербургу тоже все верно! </div>"
   ]
  },
  {
   "cell_type": "markdown",
   "metadata": {
    "id": "RY51YJYu_Zcv"
   },
   "source": [
    "**Выводы**"
   ]
  },
  {
   "cell_type": "markdown",
   "metadata": {
    "id": "nVhnJEm__Zcv"
   },
   "source": [
    "Гипотеза частично подтвердилась:\n",
    "* Поп-музыка — самый популярный жанр в Москве, как и предполагала гипотеза. Более того, в топ-10 жанров встречается близкий жанр — русская популярная музыка.\n",
    "* Вопреки ожиданиям, рэп одинаково популярен в Москве и Петербурге. \n"
   ]
  },
  {
   "cell_type": "markdown",
   "metadata": {
    "id": "ykKQ0N65_Zcv"
   },
   "source": [
    "## Итоги исследования"
   ]
  },
  {
   "cell_type": "markdown",
   "metadata": {
    "id": "tjUwbHb3_Zcv"
   },
   "source": [
    "Вы проверили три гипотезы и установили:\n",
    "\n",
    "1. День недели по-разному влияет на активность пользователей в Москве и Петербурге. \n",
    "\n",
    "Первая гипотеза полностью подтвердилась.\n",
    "\n",
    "2. Музыкальные предпочтения не сильно меняются в течение недели — будь то Москва или Петербург. Небольшие различия заметны в начале недели, по понедельникам:\n",
    "* в Москве слушают музыку жанра “world”,\n",
    "* в Петербурге — джаз и классику.\n",
    "\n",
    "Таким образом, вторая гипотеза подтвердилась лишь отчасти. Этот результат мог оказаться иным, если бы не пропуски в данных.\n",
    "\n",
    "3. Во вкусах пользователей Москвы и Петербурга больше общего чем различий. Вопреки ожиданиям, предпочтения жанров в Петербурге напоминают московские.\n",
    "\n",
    "Третья гипотеза не подтвердилась. Если различия в предпочтениях и существуют, на основной массе пользователей они незаметны.\n",
    "\n",
    "**На практике исследования содержат проверки статистических гипотез.**\n",
    "Из данных одного сервиса не всегда можно сделать вывод о всех жителях города.\n",
    "Проверки статистических гипотез покажут, насколько они достоверны, исходя из имеющихся данных. \n",
    "С методами проверок гипотез вы ещё познакомитесь в следующих темах."
   ]
  },
  {
   "cell_type": "markdown",
   "metadata": {},
   "source": [
    "<img src=\"http://s3.amazonaws.com/pix.iemoji.com/images/emoji/apple/ios-12/256/waving-hand.png\" align=left width=44, heigth=44>\n",
    "<div class=\"alert alert-info\">\n",
    "<b> Заключительный комментарий</b>\n",
    "\n",
    "В целом мне все понравилось: твоя работа выполнена на хорошем уровне с минимальными помарками.\n",
    "Также работа выглядит аккуратной и хорошо оформленной.\n",
    "Вижу, что тебе дается python, и инструментарий Pandas.\n",
    "\n",
    "Буквально пара моментов, которые надо доделать обязательно:\n",
    "  - Нужно дать ответ на вопрос, касающийся стиля названий колонок\n",
    "  - Нужно разобраться с тем, что возвращает функция replace_wrong_genre\n",
    "     \n",
    "Желтые комментарии остаются на твое усмотрение.\n",
    "Жду проект на повторную проверку.\n",
    "</div>"
   ]
  },
  {
   "cell_type": "markdown",
   "metadata": {},
   "source": [
    "## Спасибо за обратную связь))\n"
   ]
  },
  {
   "cell_type": "markdown",
   "metadata": {},
   "source": [
    "<img src=\"http://s3.amazonaws.com/pix.iemoji.com/images/emoji/apple/ios-12/256/waving-hand.png\" align=left width=44, heigth=44>\n",
    "<div class=\"alert alert-info\">\n",
    "<b> Заключительный комментарий v2</b>\n",
    "\n",
    "Я вижу, что ты исправил мои замечания. К сожалению, функция по устранению неявных дубликатов написана слишком сложно, лучше сейчас разобраться с ней и устранить пробелы в знаниях.\n",
    "    \n",
    "Возвращаю на доработку, надеюсь мои замечания помогут тебе быстро исправить код функции.\n",
    "    \n",
    "</div>"
   ]
  },
  {
   "cell_type": "markdown",
   "metadata": {},
   "source": [
    "## Еще раз спасибо V2 за обратную связь!  я упустил, что в pandas можно передавать list в аргументы .replace"
   ]
  },
  {
   "cell_type": "markdown",
   "metadata": {},
   "source": [
    "<img src=\"http://s3.amazonaws.com/pix.iemoji.com/images/emoji/apple/ios-12/256/waving-hand.png\" align=left width=44, heigth=44>\n",
    "<div class=\"alert alert-info\">\n",
    "<b> Заключительный комментарий v3</b>\n",
    "Привет. Рад что ты победил эту функцию ))). На самом деле возможность передавать списки в качестве аргумента replace - это задача с двумя звездочками и мы не можем требовать это от начинающих изучать курс. Важно чтобы ты понимал, что есть метод replace и как он работает...  И постарайся больше не итерировться по самому DataFrame циклами python, если для этого есть стандартный метод. Разница в скорости просто гигантская.\n",
    "\n",
    "Поздравляю с завершением проекта! Желаю успехов в следующих!\n",
    "\n",
    "p.s. по наименованиям колонок итерироваться можно, а иногда и нужно ))\n",
    "    \n",
    "</div>"
   ]
  },
  {
   "cell_type": "code",
   "execution_count": null,
   "metadata": {},
   "outputs": [],
   "source": []
  }
 ],
 "metadata": {
  "ExecuteTimeLog": [
   {
    "duration": 529,
    "start_time": "2022-03-22T22:03:12.765Z"
   },
   {
    "duration": 97,
    "start_time": "2022-03-22T22:03:16.325Z"
   },
   {
    "duration": 101,
    "start_time": "2022-03-22T22:03:31.353Z"
   },
   {
    "duration": 197,
    "start_time": "2022-03-22T22:03:55.032Z"
   },
   {
    "duration": 16,
    "start_time": "2022-03-22T22:04:19.896Z"
   },
   {
    "duration": 26,
    "start_time": "2022-03-22T22:04:32.141Z"
   },
   {
    "duration": 41,
    "start_time": "2022-03-22T22:04:50.032Z"
   },
   {
    "duration": 116,
    "start_time": "2022-03-22T22:13:38.423Z"
   },
   {
    "duration": 514,
    "start_time": "2022-03-22T22:13:52.659Z"
   },
   {
    "duration": 205,
    "start_time": "2022-03-22T22:13:54.176Z"
   },
   {
    "duration": 26,
    "start_time": "2022-03-22T22:13:55.440Z"
   },
   {
    "duration": 40,
    "start_time": "2022-03-22T22:13:58.023Z"
   },
   {
    "duration": 5,
    "start_time": "2022-03-22T22:14:06.322Z"
   },
   {
    "duration": 10,
    "start_time": "2022-03-22T22:14:10.884Z"
   },
   {
    "duration": 7,
    "start_time": "2022-03-22T22:14:25.187Z"
   },
   {
    "duration": 8,
    "start_time": "2022-03-22T22:14:33.468Z"
   },
   {
    "duration": 5,
    "start_time": "2022-03-22T22:14:47.404Z"
   },
   {
    "duration": 30,
    "start_time": "2022-03-22T22:16:37.131Z"
   },
   {
    "duration": 26,
    "start_time": "2022-03-22T22:21:37.399Z"
   },
   {
    "duration": 31,
    "start_time": "2022-03-22T22:21:50.026Z"
   },
   {
    "duration": 90,
    "start_time": "2022-03-22T22:22:17.582Z"
   },
   {
    "duration": 107,
    "start_time": "2022-03-22T22:22:59.442Z"
   },
   {
    "duration": 84,
    "start_time": "2022-03-22T22:23:10.072Z"
   },
   {
    "duration": 7,
    "start_time": "2022-03-22T22:23:33.279Z"
   },
   {
    "duration": 30,
    "start_time": "2022-03-22T22:25:10.938Z"
   },
   {
    "duration": 30,
    "start_time": "2022-03-22T22:25:19.175Z"
   },
   {
    "duration": 4,
    "start_time": "2022-03-22T22:30:09.973Z"
   },
   {
    "duration": 160,
    "start_time": "2022-03-22T22:31:28.476Z"
   },
   {
    "duration": 42,
    "start_time": "2022-03-22T22:31:47.039Z"
   },
   {
    "duration": 11,
    "start_time": "2022-03-22T22:32:50.694Z"
   },
   {
    "duration": 11,
    "start_time": "2022-03-22T22:33:15.298Z"
   },
   {
    "duration": 10,
    "start_time": "2022-03-22T22:33:33.886Z"
   },
   {
    "duration": 49,
    "start_time": "2022-03-23T08:54:34.515Z"
   },
   {
    "duration": 5,
    "start_time": "2022-03-23T08:54:49.126Z"
   },
   {
    "duration": 435,
    "start_time": "2022-03-23T08:54:58.655Z"
   },
   {
    "duration": 141,
    "start_time": "2022-03-23T08:55:00.104Z"
   },
   {
    "duration": 18,
    "start_time": "2022-03-23T08:55:02.169Z"
   },
   {
    "duration": 29,
    "start_time": "2022-03-23T08:55:04.416Z"
   },
   {
    "duration": 3,
    "start_time": "2022-03-23T08:55:08.925Z"
   },
   {
    "duration": 3,
    "start_time": "2022-03-23T08:55:12.440Z"
   },
   {
    "duration": 3,
    "start_time": "2022-03-23T08:55:14.024Z"
   },
   {
    "duration": 25,
    "start_time": "2022-03-23T08:55:15.912Z"
   },
   {
    "duration": 17,
    "start_time": "2022-03-23T08:55:18.056Z"
   },
   {
    "duration": 23,
    "start_time": "2022-03-23T08:55:19.384Z"
   },
   {
    "duration": 63,
    "start_time": "2022-03-23T08:55:21.792Z"
   },
   {
    "duration": 69,
    "start_time": "2022-03-23T08:55:23.343Z"
   },
   {
    "duration": 58,
    "start_time": "2022-03-23T08:55:24.561Z"
   },
   {
    "duration": 3,
    "start_time": "2022-03-23T08:55:27.922Z"
   },
   {
    "duration": 26,
    "start_time": "2022-03-23T08:57:29.360Z"
   },
   {
    "duration": 794,
    "start_time": "2022-03-23T08:58:13.081Z"
   },
   {
    "duration": 6,
    "start_time": "2022-03-23T09:01:03.650Z"
   },
   {
    "duration": 2605,
    "start_time": "2022-03-23T09:01:17.148Z"
   },
   {
    "duration": 2394,
    "start_time": "2022-03-23T09:01:55.930Z"
   },
   {
    "duration": 6,
    "start_time": "2022-03-23T09:02:01.761Z"
   },
   {
    "duration": 9,
    "start_time": "2022-03-23T09:02:05.257Z"
   },
   {
    "duration": 9,
    "start_time": "2022-03-23T09:03:28.379Z"
   },
   {
    "duration": 2612,
    "start_time": "2022-03-23T09:09:04.484Z"
   },
   {
    "duration": 2377,
    "start_time": "2022-03-23T09:10:46.380Z"
   },
   {
    "duration": 2454,
    "start_time": "2022-03-23T09:11:23.819Z"
   },
   {
    "duration": 6,
    "start_time": "2022-03-23T10:10:44.183Z"
   },
   {
    "duration": 6,
    "start_time": "2022-03-23T10:11:39.013Z"
   },
   {
    "duration": 6,
    "start_time": "2022-03-23T10:13:50.222Z"
   },
   {
    "duration": 9,
    "start_time": "2022-03-23T10:13:57.117Z"
   },
   {
    "duration": 2367,
    "start_time": "2022-03-23T10:15:51.525Z"
   },
   {
    "duration": 215,
    "start_time": "2022-03-23T10:19:26.663Z"
   },
   {
    "duration": 204,
    "start_time": "2022-03-23T10:19:31.966Z"
   },
   {
    "duration": 6,
    "start_time": "2022-03-23T10:19:37.440Z"
   },
   {
    "duration": 6,
    "start_time": "2022-03-23T10:20:07.470Z"
   },
   {
    "duration": 8,
    "start_time": "2022-03-23T10:20:09.142Z"
   },
   {
    "duration": 6,
    "start_time": "2022-03-23T10:20:10.423Z"
   },
   {
    "duration": 6,
    "start_time": "2022-03-23T10:21:06.079Z"
   },
   {
    "duration": 2357,
    "start_time": "2022-03-23T10:21:29.584Z"
   },
   {
    "duration": 2435,
    "start_time": "2022-03-23T10:24:55.648Z"
   },
   {
    "duration": 146,
    "start_time": "2022-03-23T10:25:18.295Z"
   },
   {
    "duration": 11,
    "start_time": "2022-03-23T10:25:20.992Z"
   },
   {
    "duration": 2,
    "start_time": "2022-03-23T10:25:23.679Z"
   },
   {
    "duration": 388,
    "start_time": "2022-03-23T10:25:38.015Z"
   },
   {
    "duration": 139,
    "start_time": "2022-03-23T10:25:40.191Z"
   },
   {
    "duration": 14,
    "start_time": "2022-03-23T10:25:42.088Z"
   },
   {
    "duration": 28,
    "start_time": "2022-03-23T10:25:44.470Z"
   },
   {
    "duration": 3,
    "start_time": "2022-03-23T10:25:48.159Z"
   },
   {
    "duration": 3,
    "start_time": "2022-03-23T10:25:51.783Z"
   },
   {
    "duration": 4,
    "start_time": "2022-03-23T10:25:53.711Z"
   },
   {
    "duration": 23,
    "start_time": "2022-03-23T10:25:56.223Z"
   },
   {
    "duration": 17,
    "start_time": "2022-03-23T10:25:59.911Z"
   },
   {
    "duration": 23,
    "start_time": "2022-03-23T10:26:02.015Z"
   },
   {
    "duration": 63,
    "start_time": "2022-03-23T10:26:03.735Z"
   },
   {
    "duration": 76,
    "start_time": "2022-03-23T10:26:05.038Z"
   },
   {
    "duration": 60,
    "start_time": "2022-03-23T10:26:06.686Z"
   },
   {
    "duration": 4,
    "start_time": "2022-03-23T10:26:10.312Z"
   },
   {
    "duration": 45,
    "start_time": "2022-03-23T10:27:54.407Z"
   },
   {
    "duration": 47,
    "start_time": "2022-03-23T10:28:31.816Z"
   },
   {
    "duration": 48,
    "start_time": "2022-03-23T10:28:44.687Z"
   },
   {
    "duration": 99,
    "start_time": "2022-03-23T10:28:56.296Z"
   },
   {
    "duration": 46,
    "start_time": "2022-03-23T10:29:08.799Z"
   },
   {
    "duration": 48,
    "start_time": "2022-03-23T10:29:44.399Z"
   },
   {
    "duration": 52,
    "start_time": "2022-03-23T10:30:47.344Z"
   },
   {
    "duration": 48,
    "start_time": "2022-03-23T10:30:57.512Z"
   },
   {
    "duration": 550,
    "start_time": "2022-03-23T18:57:19.195Z"
   },
   {
    "duration": 217,
    "start_time": "2022-03-23T18:57:22.566Z"
   },
   {
    "duration": 540,
    "start_time": "2022-03-23T18:57:39.636Z"
   },
   {
    "duration": 232,
    "start_time": "2022-03-23T18:57:40.179Z"
   },
   {
    "duration": 41,
    "start_time": "2022-03-23T18:57:40.414Z"
   },
   {
    "duration": 44,
    "start_time": "2022-03-23T18:57:40.457Z"
   },
   {
    "duration": 4,
    "start_time": "2022-03-23T18:57:40.504Z"
   },
   {
    "duration": 6,
    "start_time": "2022-03-23T18:57:40.543Z"
   },
   {
    "duration": 8,
    "start_time": "2022-03-23T18:57:40.552Z"
   },
   {
    "duration": 82,
    "start_time": "2022-03-23T18:57:40.563Z"
   },
   {
    "duration": 39,
    "start_time": "2022-03-23T18:57:40.648Z"
   },
   {
    "duration": 67,
    "start_time": "2022-03-23T18:57:40.694Z"
   },
   {
    "duration": 128,
    "start_time": "2022-03-23T18:57:40.766Z"
   },
   {
    "duration": 170,
    "start_time": "2022-03-23T18:57:40.897Z"
   },
   {
    "duration": 117,
    "start_time": "2022-03-23T18:57:41.070Z"
   },
   {
    "duration": 16,
    "start_time": "2022-03-23T18:57:41.190Z"
   },
   {
    "duration": 11,
    "start_time": "2022-03-23T18:57:41.211Z"
   },
   {
    "duration": 16,
    "start_time": "2022-03-23T18:57:41.227Z"
   },
   {
    "duration": 5,
    "start_time": "2022-03-23T18:57:41.246Z"
   },
   {
    "duration": 5,
    "start_time": "2022-03-23T18:57:41.253Z"
   },
   {
    "duration": 5,
    "start_time": "2022-03-23T18:57:41.261Z"
   },
   {
    "duration": 24,
    "start_time": "2022-03-23T18:57:41.268Z"
   },
   {
    "duration": 13,
    "start_time": "2022-03-23T18:57:41.296Z"
   },
   {
    "duration": 47,
    "start_time": "2022-03-23T18:57:41.311Z"
   },
   {
    "duration": 27,
    "start_time": "2022-03-23T18:57:41.361Z"
   },
   {
    "duration": 28,
    "start_time": "2022-03-23T18:57:41.391Z"
   },
   {
    "duration": 37,
    "start_time": "2022-03-23T18:57:41.422Z"
   },
   {
    "duration": 24,
    "start_time": "2022-03-23T18:57:41.461Z"
   },
   {
    "duration": 7,
    "start_time": "2022-03-23T18:57:41.488Z"
   },
   {
    "duration": 26,
    "start_time": "2022-03-23T18:57:41.500Z"
   },
   {
    "duration": 12,
    "start_time": "2022-03-23T18:57:41.529Z"
   },
   {
    "duration": 9,
    "start_time": "2022-03-23T18:57:41.544Z"
   },
   {
    "duration": 35,
    "start_time": "2022-03-23T18:57:41.556Z"
   },
   {
    "duration": 35,
    "start_time": "2022-03-23T18:57:41.593Z"
   },
   {
    "duration": 12,
    "start_time": "2022-03-23T18:57:41.631Z"
   },
   {
    "duration": 7,
    "start_time": "2022-03-23T18:57:41.645Z"
   },
   {
    "duration": 5,
    "start_time": "2022-03-23T18:57:41.655Z"
   },
   {
    "duration": 10,
    "start_time": "2022-03-23T18:57:41.663Z"
   },
   {
    "duration": 11,
    "start_time": "2022-03-23T18:57:41.675Z"
   },
   {
    "duration": 6,
    "start_time": "2022-03-23T18:57:41.689Z"
   },
   {
    "duration": 21,
    "start_time": "2022-03-23T18:58:06.455Z"
   },
   {
    "duration": 125,
    "start_time": "2022-03-23T19:01:52.586Z"
   },
   {
    "duration": 49,
    "start_time": "2022-03-23T19:02:25.191Z"
   },
   {
    "duration": 10,
    "start_time": "2022-03-23T19:02:37.121Z"
   },
   {
    "duration": 17,
    "start_time": "2022-03-23T19:02:49.306Z"
   },
   {
    "duration": 32,
    "start_time": "2022-03-23T19:05:41.375Z"
   },
   {
    "duration": 33,
    "start_time": "2022-03-23T19:07:07.792Z"
   },
   {
    "duration": 30,
    "start_time": "2022-03-23T19:07:23.908Z"
   },
   {
    "duration": 8,
    "start_time": "2022-03-23T19:07:40.013Z"
   },
   {
    "duration": 17,
    "start_time": "2022-03-23T19:11:51.091Z"
   },
   {
    "duration": 50,
    "start_time": "2022-03-23T19:42:56.353Z"
   },
   {
    "duration": 55,
    "start_time": "2022-03-23T19:43:31.432Z"
   },
   {
    "duration": 207,
    "start_time": "2022-03-23T20:44:35.587Z"
   },
   {
    "duration": 5,
    "start_time": "2022-03-23T20:44:43.759Z"
   },
   {
    "duration": 3366,
    "start_time": "2022-03-23T20:44:47.992Z"
   },
   {
    "duration": 4,
    "start_time": "2022-03-23T20:45:24.882Z"
   },
   {
    "duration": 56,
    "start_time": "2022-03-23T20:45:27.948Z"
   },
   {
    "duration": 36,
    "start_time": "2022-03-23T20:46:08.364Z"
   },
   {
    "duration": 47,
    "start_time": "2022-03-23T20:46:28.287Z"
   },
   {
    "duration": 4,
    "start_time": "2022-03-23T20:46:50.427Z"
   },
   {
    "duration": 33,
    "start_time": "2022-03-23T20:46:54.410Z"
   },
   {
    "duration": 4,
    "start_time": "2022-03-23T20:47:18.373Z"
   },
   {
    "duration": 34,
    "start_time": "2022-03-23T20:47:20.732Z"
   },
   {
    "duration": 13,
    "start_time": "2022-03-23T20:51:57.330Z"
   },
   {
    "duration": 13,
    "start_time": "2022-03-23T20:52:18.918Z"
   },
   {
    "duration": 45,
    "start_time": "2022-03-23T20:52:25.813Z"
   },
   {
    "duration": 5,
    "start_time": "2022-03-23T20:52:53.607Z"
   },
   {
    "duration": 32,
    "start_time": "2022-03-23T20:52:57.982Z"
   },
   {
    "duration": 55,
    "start_time": "2022-03-23T20:53:39.999Z"
   },
   {
    "duration": 11,
    "start_time": "2022-03-23T20:54:12.994Z"
   },
   {
    "duration": 539,
    "start_time": "2022-03-23T20:54:33.116Z"
   },
   {
    "duration": 207,
    "start_time": "2022-03-23T20:54:33.657Z"
   },
   {
    "duration": 25,
    "start_time": "2022-03-23T20:54:33.866Z"
   },
   {
    "duration": 56,
    "start_time": "2022-03-23T20:54:33.895Z"
   },
   {
    "duration": 5,
    "start_time": "2022-03-23T20:54:33.954Z"
   },
   {
    "duration": 8,
    "start_time": "2022-03-23T20:54:33.961Z"
   },
   {
    "duration": 8,
    "start_time": "2022-03-23T20:54:33.971Z"
   },
   {
    "duration": 67,
    "start_time": "2022-03-23T20:54:33.982Z"
   },
   {
    "duration": 31,
    "start_time": "2022-03-23T20:54:34.051Z"
   },
   {
    "duration": 32,
    "start_time": "2022-03-23T20:54:34.086Z"
   },
   {
    "duration": 112,
    "start_time": "2022-03-23T20:54:34.121Z"
   },
   {
    "duration": 123,
    "start_time": "2022-03-23T20:54:34.243Z"
   },
   {
    "duration": 98,
    "start_time": "2022-03-23T20:54:34.369Z"
   },
   {
    "duration": 54,
    "start_time": "2022-03-23T20:54:34.469Z"
   },
   {
    "duration": 17,
    "start_time": "2022-03-23T20:54:34.526Z"
   },
   {
    "duration": 46,
    "start_time": "2022-03-23T20:54:34.545Z"
   },
   {
    "duration": 11,
    "start_time": "2022-03-23T20:54:34.593Z"
   },
   {
    "duration": 36,
    "start_time": "2022-03-23T20:54:34.607Z"
   },
   {
    "duration": 3,
    "start_time": "2022-03-23T20:54:34.645Z"
   },
   {
    "duration": 7,
    "start_time": "2022-03-23T20:54:34.650Z"
   },
   {
    "duration": 8,
    "start_time": "2022-03-23T20:54:34.659Z"
   },
   {
    "duration": 4,
    "start_time": "2022-03-23T20:54:34.670Z"
   },
   {
    "duration": 5,
    "start_time": "2022-03-23T20:54:34.676Z"
   },
   {
    "duration": 6,
    "start_time": "2022-03-23T20:54:34.683Z"
   },
   {
    "duration": 5,
    "start_time": "2022-03-23T20:54:34.691Z"
   },
   {
    "duration": 49,
    "start_time": "2022-03-23T20:54:34.698Z"
   },
   {
    "duration": 7,
    "start_time": "2022-03-23T20:54:34.749Z"
   },
   {
    "duration": 4,
    "start_time": "2022-03-23T20:54:34.761Z"
   },
   {
    "duration": 6,
    "start_time": "2022-03-23T20:54:34.767Z"
   },
   {
    "duration": 5,
    "start_time": "2022-03-23T20:54:34.775Z"
   },
   {
    "duration": 8,
    "start_time": "2022-03-23T20:54:34.782Z"
   },
   {
    "duration": 11,
    "start_time": "2022-03-23T20:54:34.792Z"
   },
   {
    "duration": 19,
    "start_time": "2022-03-23T20:54:34.805Z"
   },
   {
    "duration": 18,
    "start_time": "2022-03-23T20:54:34.826Z"
   },
   {
    "duration": 6,
    "start_time": "2022-03-23T20:54:34.846Z"
   },
   {
    "duration": 7,
    "start_time": "2022-03-23T20:54:34.855Z"
   },
   {
    "duration": 6,
    "start_time": "2022-03-23T20:54:34.864Z"
   },
   {
    "duration": 8,
    "start_time": "2022-03-23T20:54:34.872Z"
   },
   {
    "duration": 7,
    "start_time": "2022-03-23T21:16:40.529Z"
   },
   {
    "duration": 50,
    "start_time": "2022-03-23T21:16:58.578Z"
   },
   {
    "duration": 13,
    "start_time": "2022-03-23T21:18:26.600Z"
   },
   {
    "duration": 15,
    "start_time": "2022-03-23T21:18:44.218Z"
   },
   {
    "duration": 571,
    "start_time": "2022-03-23T21:18:54.241Z"
   },
   {
    "duration": 4403,
    "start_time": "2022-03-23T21:19:15.869Z"
   },
   {
    "duration": 47,
    "start_time": "2022-03-23T21:19:31.514Z"
   },
   {
    "duration": 52,
    "start_time": "2022-03-23T21:23:19.783Z"
   },
   {
    "duration": 407,
    "start_time": "2022-03-24T19:31:29.163Z"
   },
   {
    "duration": 177,
    "start_time": "2022-03-24T19:31:29.572Z"
   },
   {
    "duration": 18,
    "start_time": "2022-03-24T19:31:29.750Z"
   },
   {
    "duration": 31,
    "start_time": "2022-03-24T19:31:29.770Z"
   },
   {
    "duration": 3,
    "start_time": "2022-03-24T19:31:29.803Z"
   },
   {
    "duration": 24,
    "start_time": "2022-03-24T19:31:29.808Z"
   },
   {
    "duration": 11,
    "start_time": "2022-03-24T19:31:29.834Z"
   },
   {
    "duration": 29,
    "start_time": "2022-03-24T19:31:29.847Z"
   },
   {
    "duration": 21,
    "start_time": "2022-03-24T19:31:29.878Z"
   },
   {
    "duration": 39,
    "start_time": "2022-03-24T19:31:29.902Z"
   },
   {
    "duration": 76,
    "start_time": "2022-03-24T19:31:29.942Z"
   },
   {
    "duration": 88,
    "start_time": "2022-03-24T19:31:30.032Z"
   },
   {
    "duration": 67,
    "start_time": "2022-03-24T19:31:30.133Z"
   },
   {
    "duration": 63,
    "start_time": "2022-03-24T19:31:30.201Z"
   },
   {
    "duration": 4,
    "start_time": "2022-03-24T19:31:30.266Z"
   },
   {
    "duration": 43,
    "start_time": "2022-03-24T19:31:30.271Z"
   },
   {
    "duration": 15,
    "start_time": "2022-03-24T19:31:30.316Z"
   },
   {
    "duration": 36,
    "start_time": "2022-03-24T19:31:30.333Z"
   },
   {
    "duration": 37,
    "start_time": "2022-03-24T19:31:30.371Z"
   },
   {
    "duration": 22,
    "start_time": "2022-03-24T19:31:30.410Z"
   },
   {
    "duration": 21,
    "start_time": "2022-03-24T19:31:30.433Z"
   },
   {
    "duration": 15,
    "start_time": "2022-03-24T19:31:30.456Z"
   },
   {
    "duration": 17,
    "start_time": "2022-03-24T19:31:30.473Z"
   },
   {
    "duration": 14,
    "start_time": "2022-03-24T19:31:30.491Z"
   },
   {
    "duration": 15,
    "start_time": "2022-03-24T19:31:30.507Z"
   },
   {
    "duration": 12,
    "start_time": "2022-03-24T19:31:30.524Z"
   },
   {
    "duration": 20,
    "start_time": "2022-03-24T19:31:30.538Z"
   },
   {
    "duration": 11,
    "start_time": "2022-03-24T19:31:30.562Z"
   },
   {
    "duration": 15,
    "start_time": "2022-03-24T19:31:30.574Z"
   },
   {
    "duration": 19,
    "start_time": "2022-03-24T19:31:30.591Z"
   },
   {
    "duration": 20,
    "start_time": "2022-03-24T19:31:30.612Z"
   },
   {
    "duration": 20,
    "start_time": "2022-03-24T19:31:30.634Z"
   },
   {
    "duration": 39,
    "start_time": "2022-03-24T19:31:30.656Z"
   },
   {
    "duration": 20,
    "start_time": "2022-03-24T19:31:30.697Z"
   },
   {
    "duration": 9,
    "start_time": "2022-03-24T19:31:30.719Z"
   },
   {
    "duration": 14,
    "start_time": "2022-03-24T19:31:30.730Z"
   },
   {
    "duration": 7,
    "start_time": "2022-03-24T19:31:30.746Z"
   },
   {
    "duration": 11,
    "start_time": "2022-03-24T19:31:30.755Z"
   },
   {
    "duration": 74,
    "start_time": "2022-03-24T19:44:47.238Z"
   },
   {
    "duration": 6,
    "start_time": "2022-03-24T19:44:57.600Z"
   },
   {
    "duration": 25,
    "start_time": "2022-03-24T19:45:12.269Z"
   },
   {
    "duration": 8,
    "start_time": "2022-03-24T19:45:35.004Z"
   },
   {
    "duration": 44,
    "start_time": "2022-03-24T19:48:05.001Z"
   },
   {
    "duration": 46,
    "start_time": "2022-03-24T19:48:23.364Z"
   },
   {
    "duration": 74,
    "start_time": "2022-03-24T19:48:47.297Z"
   },
   {
    "duration": 43,
    "start_time": "2022-03-24T19:49:12.609Z"
   },
   {
    "duration": 4,
    "start_time": "2022-03-24T19:49:17.344Z"
   },
   {
    "duration": 22,
    "start_time": "2022-03-24T19:49:21.320Z"
   },
   {
    "duration": 8,
    "start_time": "2022-03-24T19:49:26.171Z"
   },
   {
    "duration": 46,
    "start_time": "2022-03-24T19:50:01.685Z"
   },
   {
    "duration": 451,
    "start_time": "2022-03-24T19:50:34.708Z"
   },
   {
    "duration": 172,
    "start_time": "2022-03-24T19:50:35.161Z"
   },
   {
    "duration": 18,
    "start_time": "2022-03-24T19:50:35.335Z"
   },
   {
    "duration": 35,
    "start_time": "2022-03-24T19:50:35.355Z"
   },
   {
    "duration": 3,
    "start_time": "2022-03-24T19:50:35.392Z"
   },
   {
    "duration": 7,
    "start_time": "2022-03-24T19:50:35.397Z"
   },
   {
    "duration": 7,
    "start_time": "2022-03-24T19:50:35.405Z"
   },
   {
    "duration": 29,
    "start_time": "2022-03-24T19:50:35.431Z"
   },
   {
    "duration": 26,
    "start_time": "2022-03-24T19:50:35.461Z"
   },
   {
    "duration": 42,
    "start_time": "2022-03-24T19:50:35.490Z"
   },
   {
    "duration": 74,
    "start_time": "2022-03-24T19:50:35.533Z"
   },
   {
    "duration": 99,
    "start_time": "2022-03-24T19:50:35.609Z"
   },
   {
    "duration": 76,
    "start_time": "2022-03-24T19:50:35.710Z"
   },
   {
    "duration": 54,
    "start_time": "2022-03-24T19:50:35.787Z"
   },
   {
    "duration": 3,
    "start_time": "2022-03-24T19:50:35.843Z"
   },
   {
    "duration": 34,
    "start_time": "2022-03-24T19:50:35.847Z"
   },
   {
    "duration": 59,
    "start_time": "2022-03-24T19:50:35.883Z"
   },
   {
    "duration": 36,
    "start_time": "2022-03-24T19:50:35.944Z"
   },
   {
    "duration": 60,
    "start_time": "2022-03-24T19:50:35.982Z"
   },
   {
    "duration": 179,
    "start_time": "2022-03-24T19:50:36.044Z"
   },
   {
    "duration": 0,
    "start_time": "2022-03-24T19:50:36.225Z"
   },
   {
    "duration": 0,
    "start_time": "2022-03-24T19:50:36.226Z"
   },
   {
    "duration": 0,
    "start_time": "2022-03-24T19:50:36.228Z"
   },
   {
    "duration": 0,
    "start_time": "2022-03-24T19:50:36.229Z"
   },
   {
    "duration": 0,
    "start_time": "2022-03-24T19:50:36.231Z"
   },
   {
    "duration": 0,
    "start_time": "2022-03-24T19:50:36.232Z"
   },
   {
    "duration": 0,
    "start_time": "2022-03-24T19:50:36.233Z"
   },
   {
    "duration": 0,
    "start_time": "2022-03-24T19:50:36.234Z"
   },
   {
    "duration": 0,
    "start_time": "2022-03-24T19:50:36.235Z"
   },
   {
    "duration": 0,
    "start_time": "2022-03-24T19:50:36.237Z"
   },
   {
    "duration": 0,
    "start_time": "2022-03-24T19:50:36.238Z"
   },
   {
    "duration": 0,
    "start_time": "2022-03-24T19:50:36.239Z"
   },
   {
    "duration": 0,
    "start_time": "2022-03-24T19:50:36.240Z"
   },
   {
    "duration": 0,
    "start_time": "2022-03-24T19:50:36.241Z"
   },
   {
    "duration": 0,
    "start_time": "2022-03-24T19:50:36.242Z"
   },
   {
    "duration": 0,
    "start_time": "2022-03-24T19:50:36.243Z"
   },
   {
    "duration": 0,
    "start_time": "2022-03-24T19:50:36.244Z"
   },
   {
    "duration": 0,
    "start_time": "2022-03-24T19:50:36.245Z"
   },
   {
    "duration": 4,
    "start_time": "2022-03-24T19:58:04.799Z"
   },
   {
    "duration": 34,
    "start_time": "2022-03-24T20:00:05.451Z"
   },
   {
    "duration": 3,
    "start_time": "2022-03-24T20:01:08.647Z"
   },
   {
    "duration": 17,
    "start_time": "2022-03-24T20:01:12.784Z"
   },
   {
    "duration": 17,
    "start_time": "2022-03-24T20:01:48.455Z"
   },
   {
    "duration": 16,
    "start_time": "2022-03-24T20:03:02.108Z"
   },
   {
    "duration": 15,
    "start_time": "2022-03-24T20:03:05.068Z"
   },
   {
    "duration": 18,
    "start_time": "2022-03-24T20:03:06.493Z"
   },
   {
    "duration": 16,
    "start_time": "2022-03-24T20:03:07.868Z"
   },
   {
    "duration": 72,
    "start_time": "2022-03-24T20:23:41.412Z"
   },
   {
    "duration": 4,
    "start_time": "2022-03-24T20:23:55.190Z"
   },
   {
    "duration": 9,
    "start_time": "2022-03-24T20:24:12.152Z"
   },
   {
    "duration": 12,
    "start_time": "2022-03-24T20:25:50.223Z"
   },
   {
    "duration": 4,
    "start_time": "2022-03-24T20:29:37.149Z"
   },
   {
    "duration": 19,
    "start_time": "2022-03-24T20:29:41.151Z"
   },
   {
    "duration": 16,
    "start_time": "2022-03-24T20:29:43.194Z"
   },
   {
    "duration": 16,
    "start_time": "2022-03-24T20:29:44.370Z"
   },
   {
    "duration": 16,
    "start_time": "2022-03-24T20:29:45.422Z"
   },
   {
    "duration": 19,
    "start_time": "2022-03-24T20:29:46.105Z"
   },
   {
    "duration": 18,
    "start_time": "2022-03-24T20:29:46.739Z"
   },
   {
    "duration": 8,
    "start_time": "2022-03-24T20:29:49.119Z"
   },
   {
    "duration": 13,
    "start_time": "2022-03-24T20:30:42.748Z"
   },
   {
    "duration": 38,
    "start_time": "2022-03-24T20:30:59.847Z"
   },
   {
    "duration": 13,
    "start_time": "2022-03-24T20:31:57.402Z"
   },
   {
    "duration": 14,
    "start_time": "2022-03-24T20:32:19.354Z"
   },
   {
    "duration": 401,
    "start_time": "2022-03-24T20:33:12.368Z"
   },
   {
    "duration": 194,
    "start_time": "2022-03-24T20:33:12.771Z"
   },
   {
    "duration": 20,
    "start_time": "2022-03-24T20:33:12.967Z"
   },
   {
    "duration": 44,
    "start_time": "2022-03-24T20:33:12.989Z"
   },
   {
    "duration": 4,
    "start_time": "2022-03-24T20:33:13.034Z"
   },
   {
    "duration": 8,
    "start_time": "2022-03-24T20:33:13.040Z"
   },
   {
    "duration": 9,
    "start_time": "2022-03-24T20:33:13.050Z"
   },
   {
    "duration": 32,
    "start_time": "2022-03-24T20:33:13.061Z"
   },
   {
    "duration": 44,
    "start_time": "2022-03-24T20:33:13.095Z"
   },
   {
    "duration": 26,
    "start_time": "2022-03-24T20:33:13.142Z"
   },
   {
    "duration": 85,
    "start_time": "2022-03-24T20:33:13.170Z"
   },
   {
    "duration": 97,
    "start_time": "2022-03-24T20:33:13.257Z"
   },
   {
    "duration": 85,
    "start_time": "2022-03-24T20:33:13.356Z"
   },
   {
    "duration": 46,
    "start_time": "2022-03-24T20:33:13.443Z"
   },
   {
    "duration": 4,
    "start_time": "2022-03-24T20:33:13.491Z"
   },
   {
    "duration": 54,
    "start_time": "2022-03-24T20:33:13.497Z"
   },
   {
    "duration": 45,
    "start_time": "2022-03-24T20:33:13.553Z"
   },
   {
    "duration": 41,
    "start_time": "2022-03-24T20:33:13.600Z"
   },
   {
    "duration": 14,
    "start_time": "2022-03-24T20:33:13.643Z"
   },
   {
    "duration": 4,
    "start_time": "2022-03-24T20:33:13.659Z"
   },
   {
    "duration": 26,
    "start_time": "2022-03-24T20:33:13.665Z"
   },
   {
    "duration": 40,
    "start_time": "2022-03-24T20:33:13.693Z"
   },
   {
    "duration": 19,
    "start_time": "2022-03-24T20:33:13.736Z"
   },
   {
    "duration": 17,
    "start_time": "2022-03-24T20:33:13.757Z"
   },
   {
    "duration": 21,
    "start_time": "2022-03-24T20:33:13.776Z"
   },
   {
    "duration": 18,
    "start_time": "2022-03-24T20:33:13.831Z"
   },
   {
    "duration": 10,
    "start_time": "2022-03-24T20:33:13.850Z"
   },
   {
    "duration": 19,
    "start_time": "2022-03-24T20:33:13.863Z"
   },
   {
    "duration": 12,
    "start_time": "2022-03-24T20:33:13.884Z"
   },
   {
    "duration": 3,
    "start_time": "2022-03-24T20:33:13.898Z"
   },
   {
    "duration": 4,
    "start_time": "2022-03-24T20:33:13.931Z"
   },
   {
    "duration": 6,
    "start_time": "2022-03-24T20:33:13.936Z"
   },
   {
    "duration": 16,
    "start_time": "2022-03-24T20:33:13.943Z"
   },
   {
    "duration": 15,
    "start_time": "2022-03-24T20:33:13.961Z"
   },
   {
    "duration": 17,
    "start_time": "2022-03-24T20:33:13.978Z"
   },
   {
    "duration": 8,
    "start_time": "2022-03-24T20:33:13.998Z"
   },
   {
    "duration": 6,
    "start_time": "2022-03-24T20:33:14.008Z"
   },
   {
    "duration": 7,
    "start_time": "2022-03-24T20:33:14.016Z"
   },
   {
    "duration": 4,
    "start_time": "2022-03-24T20:55:14.859Z"
   },
   {
    "duration": 2794,
    "start_time": "2022-03-24T20:55:27.698Z"
   },
   {
    "duration": 5,
    "start_time": "2022-03-24T20:55:59.519Z"
   },
   {
    "duration": 24,
    "start_time": "2022-03-24T20:56:02.104Z"
   },
   {
    "duration": 15,
    "start_time": "2022-03-24T20:56:47.365Z"
   },
   {
    "duration": 5,
    "start_time": "2022-03-24T20:57:53.093Z"
   },
   {
    "duration": 29,
    "start_time": "2022-03-24T20:57:56.180Z"
   },
   {
    "duration": 5,
    "start_time": "2022-03-24T20:59:36.696Z"
   },
   {
    "duration": 29,
    "start_time": "2022-03-24T20:59:40.079Z"
   },
   {
    "duration": 5,
    "start_time": "2022-03-24T21:00:26.650Z"
   },
   {
    "duration": 25,
    "start_time": "2022-03-24T21:00:29.440Z"
   },
   {
    "duration": 4,
    "start_time": "2022-03-24T21:00:38.830Z"
   },
   {
    "duration": 30,
    "start_time": "2022-03-24T21:00:42.237Z"
   },
   {
    "duration": 6,
    "start_time": "2022-03-24T21:01:52.216Z"
   },
   {
    "duration": 21,
    "start_time": "2022-03-24T21:01:55.357Z"
   },
   {
    "duration": 5,
    "start_time": "2022-03-24T21:02:03.555Z"
   },
   {
    "duration": 23,
    "start_time": "2022-03-24T21:02:06.493Z"
   },
   {
    "duration": 5,
    "start_time": "2022-03-24T21:02:16.923Z"
   },
   {
    "duration": 30,
    "start_time": "2022-03-24T21:02:19.967Z"
   },
   {
    "duration": 4,
    "start_time": "2022-03-24T21:02:35.975Z"
   },
   {
    "duration": 30,
    "start_time": "2022-03-24T21:02:37.718Z"
   },
   {
    "duration": 4,
    "start_time": "2022-03-24T21:03:22.002Z"
   },
   {
    "duration": 36,
    "start_time": "2022-03-24T21:03:24.664Z"
   },
   {
    "duration": 456,
    "start_time": "2022-03-24T21:03:50.199Z"
   },
   {
    "duration": 179,
    "start_time": "2022-03-24T21:03:50.657Z"
   },
   {
    "duration": 20,
    "start_time": "2022-03-24T21:03:50.838Z"
   },
   {
    "duration": 36,
    "start_time": "2022-03-24T21:03:50.860Z"
   },
   {
    "duration": 4,
    "start_time": "2022-03-24T21:03:50.898Z"
   },
   {
    "duration": 9,
    "start_time": "2022-03-24T21:03:50.903Z"
   },
   {
    "duration": 3,
    "start_time": "2022-03-24T21:03:50.932Z"
   },
   {
    "duration": 37,
    "start_time": "2022-03-24T21:03:50.937Z"
   },
   {
    "duration": 24,
    "start_time": "2022-03-24T21:03:50.976Z"
   },
   {
    "duration": 35,
    "start_time": "2022-03-24T21:03:51.003Z"
   },
   {
    "duration": 82,
    "start_time": "2022-03-24T21:03:51.039Z"
   },
   {
    "duration": 93,
    "start_time": "2022-03-24T21:03:51.122Z"
   },
   {
    "duration": 79,
    "start_time": "2022-03-24T21:03:51.217Z"
   },
   {
    "duration": 62,
    "start_time": "2022-03-24T21:03:51.297Z"
   },
   {
    "duration": 3,
    "start_time": "2022-03-24T21:03:51.361Z"
   },
   {
    "duration": 38,
    "start_time": "2022-03-24T21:03:51.366Z"
   },
   {
    "duration": 65,
    "start_time": "2022-03-24T21:03:51.406Z"
   },
   {
    "duration": 14,
    "start_time": "2022-03-24T21:03:51.473Z"
   },
   {
    "duration": 13,
    "start_time": "2022-03-24T21:03:51.489Z"
   },
   {
    "duration": 29,
    "start_time": "2022-03-24T21:03:51.503Z"
   },
   {
    "duration": 19,
    "start_time": "2022-03-24T21:03:51.534Z"
   },
   {
    "duration": 17,
    "start_time": "2022-03-24T21:03:51.555Z"
   },
   {
    "duration": 18,
    "start_time": "2022-03-24T21:03:51.573Z"
   },
   {
    "duration": 45,
    "start_time": "2022-03-24T21:03:51.593Z"
   },
   {
    "duration": 19,
    "start_time": "2022-03-24T21:03:51.640Z"
   },
   {
    "duration": 17,
    "start_time": "2022-03-24T21:03:51.661Z"
   },
   {
    "duration": 9,
    "start_time": "2022-03-24T21:03:51.680Z"
   },
   {
    "duration": 40,
    "start_time": "2022-03-24T21:03:51.692Z"
   },
   {
    "duration": 10,
    "start_time": "2022-03-24T21:03:51.734Z"
   },
   {
    "duration": 5,
    "start_time": "2022-03-24T21:03:51.746Z"
   },
   {
    "duration": 111,
    "start_time": "2022-03-24T21:03:51.753Z"
   },
   {
    "duration": 0,
    "start_time": "2022-03-24T21:03:51.867Z"
   },
   {
    "duration": 0,
    "start_time": "2022-03-24T21:03:51.868Z"
   },
   {
    "duration": 0,
    "start_time": "2022-03-24T21:03:51.869Z"
   },
   {
    "duration": 0,
    "start_time": "2022-03-24T21:03:51.870Z"
   },
   {
    "duration": 0,
    "start_time": "2022-03-24T21:03:51.871Z"
   },
   {
    "duration": 0,
    "start_time": "2022-03-24T21:03:51.872Z"
   },
   {
    "duration": 0,
    "start_time": "2022-03-24T21:03:51.873Z"
   },
   {
    "duration": 4,
    "start_time": "2022-03-24T21:05:28.181Z"
   },
   {
    "duration": 24,
    "start_time": "2022-03-24T21:05:30.990Z"
   },
   {
    "duration": 16,
    "start_time": "2022-03-24T21:05:37.393Z"
   },
   {
    "duration": 5,
    "start_time": "2022-03-24T21:06:49.299Z"
   },
   {
    "duration": 22,
    "start_time": "2022-03-24T21:06:50.272Z"
   },
   {
    "duration": 6,
    "start_time": "2022-03-24T21:07:01.113Z"
   },
   {
    "duration": 22,
    "start_time": "2022-03-24T21:07:02.669Z"
   },
   {
    "duration": 5,
    "start_time": "2022-03-24T21:07:11.912Z"
   },
   {
    "duration": 22,
    "start_time": "2022-03-24T21:07:13.573Z"
   },
   {
    "duration": 14,
    "start_time": "2022-03-24T21:07:15.128Z"
   },
   {
    "duration": 19,
    "start_time": "2022-03-24T21:07:45.651Z"
   },
   {
    "duration": 15,
    "start_time": "2022-03-24T21:08:04.112Z"
   },
   {
    "duration": 8,
    "start_time": "2022-03-24T21:14:37.640Z"
   },
   {
    "duration": 8,
    "start_time": "2022-03-24T21:14:58.364Z"
   },
   {
    "duration": 8,
    "start_time": "2022-03-24T21:16:51.209Z"
   },
   {
    "duration": 8,
    "start_time": "2022-03-24T21:17:05.289Z"
   },
   {
    "duration": 392,
    "start_time": "2022-03-24T21:17:28.777Z"
   },
   {
    "duration": 189,
    "start_time": "2022-03-24T21:17:29.171Z"
   },
   {
    "duration": 19,
    "start_time": "2022-03-24T21:17:29.362Z"
   },
   {
    "duration": 33,
    "start_time": "2022-03-24T21:17:29.383Z"
   },
   {
    "duration": 17,
    "start_time": "2022-03-24T21:17:29.417Z"
   },
   {
    "duration": 8,
    "start_time": "2022-03-24T21:17:29.436Z"
   },
   {
    "duration": 7,
    "start_time": "2022-03-24T21:17:29.446Z"
   },
   {
    "duration": 30,
    "start_time": "2022-03-24T21:17:29.454Z"
   },
   {
    "duration": 23,
    "start_time": "2022-03-24T21:17:29.486Z"
   },
   {
    "duration": 25,
    "start_time": "2022-03-24T21:17:29.531Z"
   },
   {
    "duration": 86,
    "start_time": "2022-03-24T21:17:29.557Z"
   },
   {
    "duration": 99,
    "start_time": "2022-03-24T21:17:29.644Z"
   },
   {
    "duration": 68,
    "start_time": "2022-03-24T21:17:29.745Z"
   },
   {
    "duration": 45,
    "start_time": "2022-03-24T21:17:29.831Z"
   },
   {
    "duration": 5,
    "start_time": "2022-03-24T21:17:29.878Z"
   },
   {
    "duration": 49,
    "start_time": "2022-03-24T21:17:29.885Z"
   },
   {
    "duration": 43,
    "start_time": "2022-03-24T21:17:29.936Z"
   },
   {
    "duration": 14,
    "start_time": "2022-03-24T21:17:29.980Z"
   },
   {
    "duration": 41,
    "start_time": "2022-03-24T21:17:29.996Z"
   },
   {
    "duration": 24,
    "start_time": "2022-03-24T21:17:30.039Z"
   },
   {
    "duration": 34,
    "start_time": "2022-03-24T21:17:30.065Z"
   },
   {
    "duration": 17,
    "start_time": "2022-03-24T21:17:30.101Z"
   },
   {
    "duration": 18,
    "start_time": "2022-03-24T21:17:30.120Z"
   },
   {
    "duration": 17,
    "start_time": "2022-03-24T21:17:30.140Z"
   },
   {
    "duration": 20,
    "start_time": "2022-03-24T21:17:30.159Z"
   },
   {
    "duration": 18,
    "start_time": "2022-03-24T21:17:30.181Z"
   },
   {
    "duration": 36,
    "start_time": "2022-03-24T21:17:30.201Z"
   },
   {
    "duration": 13,
    "start_time": "2022-03-24T21:17:30.241Z"
   },
   {
    "duration": 18,
    "start_time": "2022-03-24T21:17:30.256Z"
   },
   {
    "duration": 7,
    "start_time": "2022-03-24T21:17:30.276Z"
   },
   {
    "duration": 47,
    "start_time": "2022-03-24T21:17:30.285Z"
   },
   {
    "duration": 14,
    "start_time": "2022-03-24T21:17:30.335Z"
   },
   {
    "duration": 20,
    "start_time": "2022-03-24T21:17:30.350Z"
   },
   {
    "duration": 12,
    "start_time": "2022-03-24T21:17:30.372Z"
   },
   {
    "duration": 99,
    "start_time": "2022-03-24T21:17:30.386Z"
   },
   {
    "duration": 0,
    "start_time": "2022-03-24T21:17:30.487Z"
   },
   {
    "duration": 0,
    "start_time": "2022-03-24T21:17:30.488Z"
   },
   {
    "duration": 0,
    "start_time": "2022-03-24T21:17:30.489Z"
   },
   {
    "duration": 8,
    "start_time": "2022-03-24T21:20:20.263Z"
   },
   {
    "duration": 8,
    "start_time": "2022-03-24T21:20:29.477Z"
   },
   {
    "duration": 7,
    "start_time": "2022-03-24T21:21:48.468Z"
   },
   {
    "duration": 10,
    "start_time": "2022-03-24T21:23:21.132Z"
   },
   {
    "duration": 8,
    "start_time": "2022-03-24T21:23:54.698Z"
   },
   {
    "duration": 44,
    "start_time": "2022-03-24T21:25:38.053Z"
   },
   {
    "duration": 24,
    "start_time": "2022-03-24T21:26:09.593Z"
   },
   {
    "duration": 411,
    "start_time": "2022-03-24T21:27:18.886Z"
   },
   {
    "duration": 183,
    "start_time": "2022-03-24T21:27:19.299Z"
   },
   {
    "duration": 19,
    "start_time": "2022-03-24T21:27:19.484Z"
   },
   {
    "duration": 43,
    "start_time": "2022-03-24T21:27:19.505Z"
   },
   {
    "duration": 4,
    "start_time": "2022-03-24T21:27:19.550Z"
   },
   {
    "duration": 12,
    "start_time": "2022-03-24T21:27:19.556Z"
   },
   {
    "duration": 12,
    "start_time": "2022-03-24T21:27:19.569Z"
   },
   {
    "duration": 31,
    "start_time": "2022-03-24T21:27:19.583Z"
   },
   {
    "duration": 38,
    "start_time": "2022-03-24T21:27:19.616Z"
   },
   {
    "duration": 38,
    "start_time": "2022-03-24T21:27:19.657Z"
   },
   {
    "duration": 87,
    "start_time": "2022-03-24T21:27:19.697Z"
   },
   {
    "duration": 109,
    "start_time": "2022-03-24T21:27:19.786Z"
   },
   {
    "duration": 86,
    "start_time": "2022-03-24T21:27:19.900Z"
   },
   {
    "duration": 53,
    "start_time": "2022-03-24T21:27:19.988Z"
   },
   {
    "duration": 4,
    "start_time": "2022-03-24T21:27:20.043Z"
   },
   {
    "duration": 47,
    "start_time": "2022-03-24T21:27:20.049Z"
   },
   {
    "duration": 68,
    "start_time": "2022-03-24T21:27:20.098Z"
   },
   {
    "duration": 15,
    "start_time": "2022-03-24T21:27:20.169Z"
   },
   {
    "duration": 13,
    "start_time": "2022-03-24T21:27:20.190Z"
   },
   {
    "duration": 4,
    "start_time": "2022-03-24T21:27:20.205Z"
   },
   {
    "duration": 32,
    "start_time": "2022-03-24T21:27:20.232Z"
   },
   {
    "duration": 19,
    "start_time": "2022-03-24T21:27:20.266Z"
   },
   {
    "duration": 17,
    "start_time": "2022-03-24T21:27:20.287Z"
   },
   {
    "duration": 38,
    "start_time": "2022-03-24T21:27:20.306Z"
   },
   {
    "duration": 22,
    "start_time": "2022-03-24T21:27:20.346Z"
   },
   {
    "duration": 23,
    "start_time": "2022-03-24T21:27:20.370Z"
   },
   {
    "duration": 38,
    "start_time": "2022-03-24T21:27:20.395Z"
   },
   {
    "duration": 18,
    "start_time": "2022-03-24T21:27:20.437Z"
   },
   {
    "duration": 16,
    "start_time": "2022-03-24T21:27:20.457Z"
   },
   {
    "duration": 5,
    "start_time": "2022-03-24T21:27:20.475Z"
   },
   {
    "duration": 56,
    "start_time": "2022-03-24T21:27:20.482Z"
   },
   {
    "duration": 15,
    "start_time": "2022-03-24T21:27:20.539Z"
   },
   {
    "duration": 20,
    "start_time": "2022-03-24T21:27:20.556Z"
   },
   {
    "duration": 16,
    "start_time": "2022-03-24T21:27:20.578Z"
   },
   {
    "duration": 44,
    "start_time": "2022-03-24T21:27:20.596Z"
   },
   {
    "duration": 2,
    "start_time": "2022-03-24T21:27:20.642Z"
   },
   {
    "duration": 6,
    "start_time": "2022-03-24T21:27:20.646Z"
   },
   {
    "duration": 7,
    "start_time": "2022-03-24T21:27:20.654Z"
   },
   {
    "duration": 73,
    "start_time": "2022-03-24T21:30:59.733Z"
   },
   {
    "duration": 397,
    "start_time": "2022-03-24T21:31:17.975Z"
   },
   {
    "duration": 173,
    "start_time": "2022-03-24T21:31:18.374Z"
   },
   {
    "duration": 18,
    "start_time": "2022-03-24T21:31:18.549Z"
   },
   {
    "duration": 34,
    "start_time": "2022-03-24T21:31:18.569Z"
   },
   {
    "duration": 3,
    "start_time": "2022-03-24T21:31:18.605Z"
   },
   {
    "duration": 23,
    "start_time": "2022-03-24T21:31:18.610Z"
   },
   {
    "duration": 7,
    "start_time": "2022-03-24T21:31:18.635Z"
   },
   {
    "duration": 30,
    "start_time": "2022-03-24T21:31:18.644Z"
   },
   {
    "duration": 22,
    "start_time": "2022-03-24T21:31:18.676Z"
   },
   {
    "duration": 42,
    "start_time": "2022-03-24T21:31:18.701Z"
   },
   {
    "duration": 70,
    "start_time": "2022-03-24T21:31:18.745Z"
   },
   {
    "duration": 99,
    "start_time": "2022-03-24T21:31:18.817Z"
   },
   {
    "duration": 78,
    "start_time": "2022-03-24T21:31:18.918Z"
   },
   {
    "duration": 52,
    "start_time": "2022-03-24T21:31:18.998Z"
   },
   {
    "duration": 4,
    "start_time": "2022-03-24T21:31:19.051Z"
   },
   {
    "duration": 34,
    "start_time": "2022-03-24T21:31:19.056Z"
   },
   {
    "duration": 62,
    "start_time": "2022-03-24T21:31:19.092Z"
   },
   {
    "duration": 12,
    "start_time": "2022-03-24T21:31:19.155Z"
   },
   {
    "duration": 14,
    "start_time": "2022-03-24T21:31:19.169Z"
   },
   {
    "duration": 4,
    "start_time": "2022-03-24T21:31:19.184Z"
   },
   {
    "duration": 49,
    "start_time": "2022-03-24T21:31:19.190Z"
   },
   {
    "duration": 18,
    "start_time": "2022-03-24T21:31:19.240Z"
   },
   {
    "duration": 18,
    "start_time": "2022-03-24T21:31:19.259Z"
   },
   {
    "duration": 16,
    "start_time": "2022-03-24T21:31:19.279Z"
   },
   {
    "duration": 44,
    "start_time": "2022-03-24T21:31:19.297Z"
   },
   {
    "duration": 18,
    "start_time": "2022-03-24T21:31:19.343Z"
   },
   {
    "duration": 9,
    "start_time": "2022-03-24T21:31:19.363Z"
   },
   {
    "duration": 15,
    "start_time": "2022-03-24T21:31:19.376Z"
   },
   {
    "duration": 12,
    "start_time": "2022-03-24T21:31:19.393Z"
   },
   {
    "duration": 5,
    "start_time": "2022-03-24T21:31:19.432Z"
   },
   {
    "duration": 28,
    "start_time": "2022-03-24T21:31:19.438Z"
   },
   {
    "duration": 14,
    "start_time": "2022-03-24T21:31:19.467Z"
   },
   {
    "duration": 18,
    "start_time": "2022-03-24T21:31:19.483Z"
   },
   {
    "duration": 39,
    "start_time": "2022-03-24T21:31:19.503Z"
   },
   {
    "duration": 12,
    "start_time": "2022-03-24T21:31:19.544Z"
   },
   {
    "duration": 4,
    "start_time": "2022-03-24T21:31:19.558Z"
   },
   {
    "duration": 9,
    "start_time": "2022-03-24T21:31:19.563Z"
   },
   {
    "duration": 10,
    "start_time": "2022-03-24T21:31:19.573Z"
   },
   {
    "duration": 5,
    "start_time": "2022-03-24T21:31:43.168Z"
   },
   {
    "duration": 10,
    "start_time": "2022-03-24T21:32:31.151Z"
   },
   {
    "duration": 5,
    "start_time": "2022-03-24T21:32:49.747Z"
   },
   {
    "duration": 380,
    "start_time": "2022-03-24T21:33:37.686Z"
   },
   {
    "duration": 174,
    "start_time": "2022-03-24T21:33:38.068Z"
   },
   {
    "duration": 18,
    "start_time": "2022-03-24T21:33:38.244Z"
   },
   {
    "duration": 32,
    "start_time": "2022-03-24T21:33:38.265Z"
   },
   {
    "duration": 5,
    "start_time": "2022-03-24T21:33:38.300Z"
   },
   {
    "duration": 25,
    "start_time": "2022-03-24T21:33:38.307Z"
   },
   {
    "duration": 7,
    "start_time": "2022-03-24T21:33:38.334Z"
   },
   {
    "duration": 27,
    "start_time": "2022-03-24T21:33:38.343Z"
   },
   {
    "duration": 22,
    "start_time": "2022-03-24T21:33:38.372Z"
   },
   {
    "duration": 42,
    "start_time": "2022-03-24T21:33:38.397Z"
   },
   {
    "duration": 73,
    "start_time": "2022-03-24T21:33:38.441Z"
   },
   {
    "duration": 100,
    "start_time": "2022-03-24T21:33:38.516Z"
   },
   {
    "duration": 75,
    "start_time": "2022-03-24T21:33:38.618Z"
   },
   {
    "duration": 60,
    "start_time": "2022-03-24T21:33:38.695Z"
   },
   {
    "duration": 4,
    "start_time": "2022-03-24T21:33:38.757Z"
   },
   {
    "duration": 33,
    "start_time": "2022-03-24T21:33:38.763Z"
   },
   {
    "duration": 64,
    "start_time": "2022-03-24T21:33:38.798Z"
   },
   {
    "duration": 13,
    "start_time": "2022-03-24T21:33:38.865Z"
   },
   {
    "duration": 11,
    "start_time": "2022-03-24T21:33:38.880Z"
   },
   {
    "duration": 3,
    "start_time": "2022-03-24T21:33:38.893Z"
   },
   {
    "duration": 47,
    "start_time": "2022-03-24T21:33:38.898Z"
   },
   {
    "duration": 16,
    "start_time": "2022-03-24T21:33:38.947Z"
   },
   {
    "duration": 18,
    "start_time": "2022-03-24T21:33:38.964Z"
   },
   {
    "duration": 49,
    "start_time": "2022-03-24T21:33:38.983Z"
   },
   {
    "duration": 19,
    "start_time": "2022-03-24T21:33:39.033Z"
   },
   {
    "duration": 16,
    "start_time": "2022-03-24T21:33:39.054Z"
   },
   {
    "duration": 62,
    "start_time": "2022-03-24T21:33:39.071Z"
   },
   {
    "duration": 11,
    "start_time": "2022-03-24T21:33:39.136Z"
   },
   {
    "duration": 10,
    "start_time": "2022-03-24T21:33:39.149Z"
   },
   {
    "duration": 7,
    "start_time": "2022-03-24T21:33:39.161Z"
   },
   {
    "duration": 77,
    "start_time": "2022-03-24T21:33:39.169Z"
   },
   {
    "duration": 14,
    "start_time": "2022-03-24T21:33:39.247Z"
   },
   {
    "duration": 70,
    "start_time": "2022-03-24T21:33:39.262Z"
   },
   {
    "duration": 13,
    "start_time": "2022-03-24T21:33:39.334Z"
   },
   {
    "duration": 11,
    "start_time": "2022-03-24T21:33:39.349Z"
   },
   {
    "duration": 5,
    "start_time": "2022-03-24T21:33:39.362Z"
   },
   {
    "duration": 66,
    "start_time": "2022-03-24T21:33:39.368Z"
   },
   {
    "duration": 5,
    "start_time": "2022-03-24T21:33:39.435Z"
   },
   {
    "duration": 24,
    "start_time": "2022-03-24T21:33:54.506Z"
   },
   {
    "duration": 26,
    "start_time": "2022-03-24T21:34:06.445Z"
   },
   {
    "duration": 13,
    "start_time": "2022-03-24T21:35:08.430Z"
   },
   {
    "duration": 449,
    "start_time": "2022-03-24T21:36:30.927Z"
   },
   {
    "duration": 176,
    "start_time": "2022-03-24T21:36:31.378Z"
   },
   {
    "duration": 18,
    "start_time": "2022-03-24T21:36:31.556Z"
   },
   {
    "duration": 32,
    "start_time": "2022-03-24T21:36:31.576Z"
   },
   {
    "duration": 25,
    "start_time": "2022-03-24T21:36:31.609Z"
   },
   {
    "duration": 9,
    "start_time": "2022-03-24T21:36:31.636Z"
   },
   {
    "duration": 18,
    "start_time": "2022-03-24T21:36:31.647Z"
   },
   {
    "duration": 32,
    "start_time": "2022-03-24T21:36:31.667Z"
   },
   {
    "duration": 24,
    "start_time": "2022-03-24T21:36:31.701Z"
   },
   {
    "duration": 26,
    "start_time": "2022-03-24T21:36:31.729Z"
   },
   {
    "duration": 92,
    "start_time": "2022-03-24T21:36:31.757Z"
   },
   {
    "duration": 107,
    "start_time": "2022-03-24T21:36:31.852Z"
   },
   {
    "duration": 76,
    "start_time": "2022-03-24T21:36:31.961Z"
   },
   {
    "duration": 43,
    "start_time": "2022-03-24T21:36:32.039Z"
   },
   {
    "duration": 3,
    "start_time": "2022-03-24T21:36:32.085Z"
   },
   {
    "duration": 56,
    "start_time": "2022-03-24T21:36:32.090Z"
   },
   {
    "duration": 61,
    "start_time": "2022-03-24T21:36:32.148Z"
   },
   {
    "duration": 27,
    "start_time": "2022-03-24T21:36:32.211Z"
   },
   {
    "duration": 78,
    "start_time": "2022-03-24T21:36:32.240Z"
   },
   {
    "duration": 0,
    "start_time": "2022-03-24T21:36:32.333Z"
   },
   {
    "duration": 0,
    "start_time": "2022-03-24T21:36:32.335Z"
   },
   {
    "duration": 0,
    "start_time": "2022-03-24T21:36:32.337Z"
   },
   {
    "duration": 0,
    "start_time": "2022-03-24T21:36:32.338Z"
   },
   {
    "duration": 0,
    "start_time": "2022-03-24T21:36:32.340Z"
   },
   {
    "duration": 0,
    "start_time": "2022-03-24T21:36:32.342Z"
   },
   {
    "duration": 0,
    "start_time": "2022-03-24T21:36:32.343Z"
   },
   {
    "duration": 0,
    "start_time": "2022-03-24T21:36:32.345Z"
   },
   {
    "duration": 0,
    "start_time": "2022-03-24T21:36:32.346Z"
   },
   {
    "duration": 0,
    "start_time": "2022-03-24T21:36:32.348Z"
   },
   {
    "duration": 0,
    "start_time": "2022-03-24T21:36:32.349Z"
   },
   {
    "duration": 0,
    "start_time": "2022-03-24T21:36:32.350Z"
   },
   {
    "duration": 0,
    "start_time": "2022-03-24T21:36:32.352Z"
   },
   {
    "duration": 0,
    "start_time": "2022-03-24T21:36:32.353Z"
   },
   {
    "duration": 0,
    "start_time": "2022-03-24T21:36:32.355Z"
   },
   {
    "duration": 0,
    "start_time": "2022-03-24T21:36:32.356Z"
   },
   {
    "duration": 0,
    "start_time": "2022-03-24T21:36:32.358Z"
   },
   {
    "duration": 0,
    "start_time": "2022-03-24T21:36:32.359Z"
   },
   {
    "duration": 0,
    "start_time": "2022-03-24T21:36:32.361Z"
   },
   {
    "duration": 390,
    "start_time": "2022-03-24T21:36:46.083Z"
   },
   {
    "duration": 174,
    "start_time": "2022-03-24T21:36:46.476Z"
   },
   {
    "duration": 20,
    "start_time": "2022-03-24T21:36:46.652Z"
   },
   {
    "duration": 33,
    "start_time": "2022-03-24T21:36:46.675Z"
   },
   {
    "duration": 4,
    "start_time": "2022-03-24T21:36:46.732Z"
   },
   {
    "duration": 5,
    "start_time": "2022-03-24T21:36:46.738Z"
   },
   {
    "duration": 12,
    "start_time": "2022-03-24T21:36:46.745Z"
   },
   {
    "duration": 34,
    "start_time": "2022-03-24T21:36:46.759Z"
   },
   {
    "duration": 42,
    "start_time": "2022-03-24T21:36:46.795Z"
   },
   {
    "duration": 39,
    "start_time": "2022-03-24T21:36:46.841Z"
   },
   {
    "duration": 91,
    "start_time": "2022-03-24T21:36:46.882Z"
   },
   {
    "duration": 89,
    "start_time": "2022-03-24T21:36:46.975Z"
   },
   {
    "duration": 73,
    "start_time": "2022-03-24T21:36:47.066Z"
   },
   {
    "duration": 42,
    "start_time": "2022-03-24T21:36:47.140Z"
   },
   {
    "duration": 4,
    "start_time": "2022-03-24T21:36:47.183Z"
   },
   {
    "duration": 50,
    "start_time": "2022-03-24T21:36:47.189Z"
   },
   {
    "duration": 40,
    "start_time": "2022-03-24T21:36:47.241Z"
   },
   {
    "duration": 13,
    "start_time": "2022-03-24T21:36:47.283Z"
   },
   {
    "duration": 95,
    "start_time": "2022-03-24T21:36:47.297Z"
   },
   {
    "duration": 0,
    "start_time": "2022-03-24T21:36:47.395Z"
   },
   {
    "duration": 0,
    "start_time": "2022-03-24T21:36:47.396Z"
   },
   {
    "duration": 0,
    "start_time": "2022-03-24T21:36:47.397Z"
   },
   {
    "duration": 0,
    "start_time": "2022-03-24T21:36:47.398Z"
   },
   {
    "duration": 0,
    "start_time": "2022-03-24T21:36:47.399Z"
   },
   {
    "duration": 0,
    "start_time": "2022-03-24T21:36:47.400Z"
   },
   {
    "duration": 0,
    "start_time": "2022-03-24T21:36:47.400Z"
   },
   {
    "duration": 0,
    "start_time": "2022-03-24T21:36:47.402Z"
   },
   {
    "duration": 0,
    "start_time": "2022-03-24T21:36:47.403Z"
   },
   {
    "duration": 0,
    "start_time": "2022-03-24T21:36:47.404Z"
   },
   {
    "duration": 0,
    "start_time": "2022-03-24T21:36:47.405Z"
   },
   {
    "duration": 0,
    "start_time": "2022-03-24T21:36:47.406Z"
   },
   {
    "duration": 0,
    "start_time": "2022-03-24T21:36:47.432Z"
   },
   {
    "duration": 0,
    "start_time": "2022-03-24T21:36:47.433Z"
   },
   {
    "duration": 0,
    "start_time": "2022-03-24T21:36:47.435Z"
   },
   {
    "duration": 0,
    "start_time": "2022-03-24T21:36:47.436Z"
   },
   {
    "duration": 0,
    "start_time": "2022-03-24T21:36:47.437Z"
   },
   {
    "duration": 0,
    "start_time": "2022-03-24T21:36:47.437Z"
   },
   {
    "duration": 0,
    "start_time": "2022-03-24T21:36:47.438Z"
   },
   {
    "duration": 7,
    "start_time": "2022-03-24T21:36:52.368Z"
   },
   {
    "duration": 405,
    "start_time": "2022-03-24T21:37:41.055Z"
   },
   {
    "duration": 166,
    "start_time": "2022-03-24T21:37:41.462Z"
   },
   {
    "duration": 18,
    "start_time": "2022-03-24T21:37:41.630Z"
   },
   {
    "duration": 39,
    "start_time": "2022-03-24T21:37:41.650Z"
   },
   {
    "duration": 4,
    "start_time": "2022-03-24T21:37:41.691Z"
   },
   {
    "duration": 6,
    "start_time": "2022-03-24T21:37:41.697Z"
   },
   {
    "duration": 27,
    "start_time": "2022-03-24T21:37:41.705Z"
   },
   {
    "duration": 33,
    "start_time": "2022-03-24T21:37:41.734Z"
   },
   {
    "duration": 19,
    "start_time": "2022-03-24T21:37:41.769Z"
   },
   {
    "duration": 43,
    "start_time": "2022-03-24T21:37:41.791Z"
   },
   {
    "duration": 67,
    "start_time": "2022-03-24T21:37:41.836Z"
   },
   {
    "duration": 97,
    "start_time": "2022-03-24T21:37:41.905Z"
   },
   {
    "duration": 79,
    "start_time": "2022-03-24T21:37:42.004Z"
   },
   {
    "duration": 55,
    "start_time": "2022-03-24T21:37:42.085Z"
   },
   {
    "duration": 3,
    "start_time": "2022-03-24T21:37:42.142Z"
   },
   {
    "duration": 34,
    "start_time": "2022-03-24T21:37:42.146Z"
   },
   {
    "duration": 52,
    "start_time": "2022-03-24T21:37:42.181Z"
   },
   {
    "duration": 13,
    "start_time": "2022-03-24T21:37:42.235Z"
   },
   {
    "duration": 13,
    "start_time": "2022-03-24T21:37:42.250Z"
   },
   {
    "duration": 4,
    "start_time": "2022-03-24T21:37:42.264Z"
   },
   {
    "duration": 24,
    "start_time": "2022-03-24T21:37:42.269Z"
   },
   {
    "duration": 17,
    "start_time": "2022-03-24T21:37:42.294Z"
   },
   {
    "duration": 25,
    "start_time": "2022-03-24T21:37:42.313Z"
   },
   {
    "duration": 15,
    "start_time": "2022-03-24T21:37:42.340Z"
   },
   {
    "duration": 18,
    "start_time": "2022-03-24T21:37:42.357Z"
   },
   {
    "duration": 17,
    "start_time": "2022-03-24T21:37:42.377Z"
   },
   {
    "duration": 9,
    "start_time": "2022-03-24T21:37:42.395Z"
   },
   {
    "duration": 24,
    "start_time": "2022-03-24T21:37:42.407Z"
   },
   {
    "duration": 10,
    "start_time": "2022-03-24T21:37:42.433Z"
   },
   {
    "duration": 4,
    "start_time": "2022-03-24T21:37:42.445Z"
   },
   {
    "duration": 30,
    "start_time": "2022-03-24T21:37:42.451Z"
   },
   {
    "duration": 14,
    "start_time": "2022-03-24T21:37:42.483Z"
   },
   {
    "duration": 18,
    "start_time": "2022-03-24T21:37:42.499Z"
   },
   {
    "duration": 18,
    "start_time": "2022-03-24T21:37:42.519Z"
   },
   {
    "duration": 13,
    "start_time": "2022-03-24T21:37:42.538Z"
   },
   {
    "duration": 5,
    "start_time": "2022-03-24T21:37:42.553Z"
   },
   {
    "duration": 15,
    "start_time": "2022-03-24T21:37:42.559Z"
   },
   {
    "duration": 4,
    "start_time": "2022-03-24T21:37:42.576Z"
   },
   {
    "duration": 368,
    "start_time": "2022-03-26T13:25:38.495Z"
   },
   {
    "duration": 148,
    "start_time": "2022-03-26T13:25:38.866Z"
   },
   {
    "duration": 15,
    "start_time": "2022-03-26T13:25:39.016Z"
   },
   {
    "duration": 38,
    "start_time": "2022-03-26T13:25:39.038Z"
   },
   {
    "duration": 26,
    "start_time": "2022-03-26T13:25:39.079Z"
   },
   {
    "duration": 14,
    "start_time": "2022-03-26T13:25:39.107Z"
   },
   {
    "duration": 27,
    "start_time": "2022-03-26T13:25:39.123Z"
   },
   {
    "duration": 56,
    "start_time": "2022-03-26T13:25:39.152Z"
   },
   {
    "duration": 33,
    "start_time": "2022-03-26T13:25:39.209Z"
   },
   {
    "duration": 40,
    "start_time": "2022-03-26T13:25:39.244Z"
   },
   {
    "duration": 74,
    "start_time": "2022-03-26T13:25:39.285Z"
   },
   {
    "duration": 82,
    "start_time": "2022-03-26T13:25:39.361Z"
   },
   {
    "duration": 54,
    "start_time": "2022-03-26T13:25:39.445Z"
   },
   {
    "duration": 49,
    "start_time": "2022-03-26T13:25:39.504Z"
   },
   {
    "duration": 15,
    "start_time": "2022-03-26T13:25:39.555Z"
   },
   {
    "duration": 35,
    "start_time": "2022-03-26T13:25:39.571Z"
   },
   {
    "duration": 38,
    "start_time": "2022-03-26T13:25:39.607Z"
   },
   {
    "duration": 27,
    "start_time": "2022-03-26T13:25:39.646Z"
   },
   {
    "duration": 19,
    "start_time": "2022-03-26T13:25:39.675Z"
   },
   {
    "duration": 25,
    "start_time": "2022-03-26T13:25:39.696Z"
   },
   {
    "duration": 41,
    "start_time": "2022-03-26T13:25:39.723Z"
   },
   {
    "duration": 24,
    "start_time": "2022-03-26T13:25:39.766Z"
   },
   {
    "duration": 30,
    "start_time": "2022-03-26T13:25:39.791Z"
   },
   {
    "duration": 26,
    "start_time": "2022-03-26T13:25:39.822Z"
   },
   {
    "duration": 25,
    "start_time": "2022-03-26T13:25:39.850Z"
   },
   {
    "duration": 30,
    "start_time": "2022-03-26T13:25:39.877Z"
   },
   {
    "duration": 32,
    "start_time": "2022-03-26T13:25:39.909Z"
   },
   {
    "duration": 27,
    "start_time": "2022-03-26T13:25:39.942Z"
   },
   {
    "duration": 23,
    "start_time": "2022-03-26T13:25:39.971Z"
   },
   {
    "duration": 25,
    "start_time": "2022-03-26T13:25:39.996Z"
   },
   {
    "duration": 54,
    "start_time": "2022-03-26T13:25:40.023Z"
   },
   {
    "duration": 20,
    "start_time": "2022-03-26T13:25:40.079Z"
   },
   {
    "duration": 30,
    "start_time": "2022-03-26T13:25:40.100Z"
   },
   {
    "duration": 11,
    "start_time": "2022-03-26T13:25:40.132Z"
   },
   {
    "duration": 34,
    "start_time": "2022-03-26T13:25:40.145Z"
   },
   {
    "duration": 20,
    "start_time": "2022-03-26T13:25:40.180Z"
   },
   {
    "duration": 22,
    "start_time": "2022-03-26T13:25:40.202Z"
   },
   {
    "duration": 24,
    "start_time": "2022-03-26T13:25:40.226Z"
   },
   {
    "duration": 430,
    "start_time": "2022-03-26T16:56:19.511Z"
   },
   {
    "duration": 168,
    "start_time": "2022-03-26T16:56:19.944Z"
   },
   {
    "duration": 20,
    "start_time": "2022-03-26T16:56:20.114Z"
   },
   {
    "duration": 37,
    "start_time": "2022-03-26T16:56:20.137Z"
   },
   {
    "duration": 4,
    "start_time": "2022-03-26T16:56:20.203Z"
   },
   {
    "duration": 10,
    "start_time": "2022-03-26T16:56:20.209Z"
   },
   {
    "duration": 13,
    "start_time": "2022-03-26T16:56:20.221Z"
   },
   {
    "duration": 30,
    "start_time": "2022-03-26T16:56:20.236Z"
   },
   {
    "duration": 41,
    "start_time": "2022-03-26T16:56:20.268Z"
   },
   {
    "duration": 28,
    "start_time": "2022-03-26T16:56:20.311Z"
   },
   {
    "duration": 85,
    "start_time": "2022-03-26T16:56:20.340Z"
   },
   {
    "duration": 95,
    "start_time": "2022-03-26T16:56:20.427Z"
   },
   {
    "duration": 66,
    "start_time": "2022-03-26T16:56:20.524Z"
   },
   {
    "duration": 42,
    "start_time": "2022-03-26T16:56:20.603Z"
   },
   {
    "duration": 4,
    "start_time": "2022-03-26T16:56:20.646Z"
   },
   {
    "duration": 55,
    "start_time": "2022-03-26T16:56:20.651Z"
   },
   {
    "duration": 43,
    "start_time": "2022-03-26T16:56:20.708Z"
   },
   {
    "duration": 21,
    "start_time": "2022-03-26T16:56:20.752Z"
   },
   {
    "duration": 28,
    "start_time": "2022-03-26T16:56:20.775Z"
   },
   {
    "duration": 4,
    "start_time": "2022-03-26T16:56:20.805Z"
   },
   {
    "duration": 25,
    "start_time": "2022-03-26T16:56:20.811Z"
   },
   {
    "duration": 16,
    "start_time": "2022-03-26T16:56:20.838Z"
   },
   {
    "duration": 18,
    "start_time": "2022-03-26T16:56:20.856Z"
   },
   {
    "duration": 17,
    "start_time": "2022-03-26T16:56:20.900Z"
   },
   {
    "duration": 19,
    "start_time": "2022-03-26T16:56:20.919Z"
   },
   {
    "duration": 17,
    "start_time": "2022-03-26T16:56:20.940Z"
   },
   {
    "duration": 10,
    "start_time": "2022-03-26T16:56:20.959Z"
   },
   {
    "duration": 12,
    "start_time": "2022-03-26T16:56:21.002Z"
   },
   {
    "duration": 14,
    "start_time": "2022-03-26T16:56:21.016Z"
   },
   {
    "duration": 5,
    "start_time": "2022-03-26T16:56:21.031Z"
   },
   {
    "duration": 23,
    "start_time": "2022-03-26T16:56:21.038Z"
   },
   {
    "duration": 39,
    "start_time": "2022-03-26T16:56:21.063Z"
   },
   {
    "duration": 19,
    "start_time": "2022-03-26T16:56:21.104Z"
   },
   {
    "duration": 12,
    "start_time": "2022-03-26T16:56:21.125Z"
   },
   {
    "duration": 12,
    "start_time": "2022-03-26T16:56:21.139Z"
   },
   {
    "duration": 5,
    "start_time": "2022-03-26T16:56:21.153Z"
   },
   {
    "duration": 48,
    "start_time": "2022-03-26T16:56:21.160Z"
   },
   {
    "duration": 5,
    "start_time": "2022-03-26T16:56:21.210Z"
   },
   {
    "duration": 3,
    "start_time": "2022-03-26T17:05:49.081Z"
   },
   {
    "duration": 20,
    "start_time": "2022-03-26T17:05:57.124Z"
   },
   {
    "duration": 73,
    "start_time": "2022-03-26T17:05:59.984Z"
   },
   {
    "duration": 432,
    "start_time": "2022-03-26T17:12:56.691Z"
   },
   {
    "duration": 162,
    "start_time": "2022-03-26T17:12:57.125Z"
   },
   {
    "duration": 20,
    "start_time": "2022-03-26T17:12:57.288Z"
   },
   {
    "duration": 32,
    "start_time": "2022-03-26T17:12:57.310Z"
   },
   {
    "duration": 3,
    "start_time": "2022-03-26T17:12:57.344Z"
   },
   {
    "duration": 5,
    "start_time": "2022-03-26T17:12:57.349Z"
   },
   {
    "duration": 5,
    "start_time": "2022-03-26T17:12:57.356Z"
   },
   {
    "duration": 60,
    "start_time": "2022-03-26T17:12:57.362Z"
   },
   {
    "duration": 20,
    "start_time": "2022-03-26T17:12:57.424Z"
   },
   {
    "duration": 29,
    "start_time": "2022-03-26T17:12:57.447Z"
   },
   {
    "duration": 92,
    "start_time": "2022-03-26T17:12:57.477Z"
   },
   {
    "duration": 93,
    "start_time": "2022-03-26T17:12:57.570Z"
   },
   {
    "duration": 78,
    "start_time": "2022-03-26T17:12:57.666Z"
   },
   {
    "duration": 43,
    "start_time": "2022-03-26T17:12:57.745Z"
   },
   {
    "duration": 12,
    "start_time": "2022-03-26T17:12:57.790Z"
   },
   {
    "duration": 32,
    "start_time": "2022-03-26T17:12:57.804Z"
   },
   {
    "duration": 42,
    "start_time": "2022-03-26T17:12:57.838Z"
   },
   {
    "duration": 30,
    "start_time": "2022-03-26T17:12:57.881Z"
   },
   {
    "duration": 13,
    "start_time": "2022-03-26T17:12:57.913Z"
   },
   {
    "duration": 4,
    "start_time": "2022-03-26T17:12:57.927Z"
   },
   {
    "duration": 22,
    "start_time": "2022-03-26T17:12:57.932Z"
   },
   {
    "duration": 54,
    "start_time": "2022-03-26T17:12:57.955Z"
   },
   {
    "duration": 16,
    "start_time": "2022-03-26T17:12:58.011Z"
   },
   {
    "duration": 16,
    "start_time": "2022-03-26T17:12:58.029Z"
   },
   {
    "duration": 18,
    "start_time": "2022-03-26T17:12:58.047Z"
   },
   {
    "duration": 44,
    "start_time": "2022-03-26T17:12:58.067Z"
   },
   {
    "duration": 9,
    "start_time": "2022-03-26T17:12:58.112Z"
   },
   {
    "duration": 12,
    "start_time": "2022-03-26T17:12:58.125Z"
   },
   {
    "duration": 9,
    "start_time": "2022-03-26T17:12:58.139Z"
   },
   {
    "duration": 5,
    "start_time": "2022-03-26T17:12:58.150Z"
   },
   {
    "duration": 53,
    "start_time": "2022-03-26T17:12:58.157Z"
   },
   {
    "duration": 14,
    "start_time": "2022-03-26T17:12:58.212Z"
   },
   {
    "duration": 19,
    "start_time": "2022-03-26T17:12:58.228Z"
   },
   {
    "duration": 14,
    "start_time": "2022-03-26T17:12:58.249Z"
   },
   {
    "duration": 46,
    "start_time": "2022-03-26T17:12:58.265Z"
   },
   {
    "duration": 6,
    "start_time": "2022-03-26T17:12:58.313Z"
   },
   {
    "duration": 10,
    "start_time": "2022-03-26T17:12:58.321Z"
   },
   {
    "duration": 5,
    "start_time": "2022-03-26T17:12:58.334Z"
   },
   {
    "duration": 456,
    "start_time": "2022-03-27T13:52:08.792Z"
   },
   {
    "duration": 175,
    "start_time": "2022-03-27T13:52:09.250Z"
   },
   {
    "duration": 23,
    "start_time": "2022-03-27T13:52:09.427Z"
   },
   {
    "duration": 68,
    "start_time": "2022-03-27T13:52:09.452Z"
   },
   {
    "duration": 5,
    "start_time": "2022-03-27T13:52:09.522Z"
   },
   {
    "duration": 6,
    "start_time": "2022-03-27T13:52:09.529Z"
   },
   {
    "duration": 5,
    "start_time": "2022-03-27T13:52:09.537Z"
   },
   {
    "duration": 88,
    "start_time": "2022-03-27T13:52:09.545Z"
   },
   {
    "duration": 21,
    "start_time": "2022-03-27T13:52:09.635Z"
   },
   {
    "duration": 30,
    "start_time": "2022-03-27T13:52:09.658Z"
   },
   {
    "duration": 81,
    "start_time": "2022-03-27T13:52:09.710Z"
   },
   {
    "duration": 87,
    "start_time": "2022-03-27T13:52:09.809Z"
   },
   {
    "duration": 74,
    "start_time": "2022-03-27T13:52:09.898Z"
   },
   {
    "duration": 96,
    "start_time": "2022-03-27T13:52:09.976Z"
   },
   {
    "duration": 4,
    "start_time": "2022-03-27T13:52:10.074Z"
   },
   {
    "duration": 70,
    "start_time": "2022-03-27T13:52:10.080Z"
   },
   {
    "duration": 58,
    "start_time": "2022-03-27T13:52:10.152Z"
   },
   {
    "duration": 13,
    "start_time": "2022-03-27T13:52:10.212Z"
   },
   {
    "duration": 14,
    "start_time": "2022-03-27T13:52:10.227Z"
   },
   {
    "duration": 7,
    "start_time": "2022-03-27T13:52:10.243Z"
   },
   {
    "duration": 24,
    "start_time": "2022-03-27T13:52:10.252Z"
   },
   {
    "duration": 18,
    "start_time": "2022-03-27T13:52:10.308Z"
   },
   {
    "duration": 18,
    "start_time": "2022-03-27T13:52:10.328Z"
   },
   {
    "duration": 24,
    "start_time": "2022-03-27T13:52:10.348Z"
   },
   {
    "duration": 56,
    "start_time": "2022-03-27T13:52:10.375Z"
   },
   {
    "duration": 18,
    "start_time": "2022-03-27T13:52:10.433Z"
   },
   {
    "duration": 12,
    "start_time": "2022-03-27T13:52:10.453Z"
   },
   {
    "duration": 48,
    "start_time": "2022-03-27T13:52:10.468Z"
   },
   {
    "duration": 15,
    "start_time": "2022-03-27T13:52:10.519Z"
   },
   {
    "duration": 6,
    "start_time": "2022-03-27T13:52:10.537Z"
   },
   {
    "duration": 34,
    "start_time": "2022-03-27T13:52:10.546Z"
   },
   {
    "duration": 41,
    "start_time": "2022-03-27T13:52:10.583Z"
   },
   {
    "duration": 23,
    "start_time": "2022-03-27T13:52:10.626Z"
   },
   {
    "duration": 15,
    "start_time": "2022-03-27T13:52:10.651Z"
   },
   {
    "duration": 46,
    "start_time": "2022-03-27T13:52:10.668Z"
   },
   {
    "duration": 6,
    "start_time": "2022-03-27T13:52:10.716Z"
   },
   {
    "duration": 9,
    "start_time": "2022-03-27T13:52:10.724Z"
   },
   {
    "duration": 7,
    "start_time": "2022-03-27T13:52:10.735Z"
   },
   {
    "duration": 7,
    "start_time": "2022-03-27T13:52:32.830Z"
   },
   {
    "duration": 425,
    "start_time": "2022-03-27T19:01:03.713Z"
   },
   {
    "duration": 169,
    "start_time": "2022-03-27T19:01:04.140Z"
   },
   {
    "duration": 18,
    "start_time": "2022-03-27T19:01:04.311Z"
   },
   {
    "duration": 30,
    "start_time": "2022-03-27T19:01:04.331Z"
   },
   {
    "duration": 3,
    "start_time": "2022-03-27T19:01:04.363Z"
   },
   {
    "duration": 5,
    "start_time": "2022-03-27T19:01:04.368Z"
   },
   {
    "duration": 5,
    "start_time": "2022-03-27T19:01:04.374Z"
   },
   {
    "duration": 26,
    "start_time": "2022-03-27T19:01:04.409Z"
   },
   {
    "duration": 21,
    "start_time": "2022-03-27T19:01:04.436Z"
   },
   {
    "duration": 49,
    "start_time": "2022-03-27T19:01:04.460Z"
   },
   {
    "duration": 65,
    "start_time": "2022-03-27T19:01:04.510Z"
   },
   {
    "duration": 87,
    "start_time": "2022-03-27T19:01:04.576Z"
   },
   {
    "duration": 68,
    "start_time": "2022-03-27T19:01:04.665Z"
   },
   {
    "duration": 41,
    "start_time": "2022-03-27T19:01:04.735Z"
   },
   {
    "duration": 4,
    "start_time": "2022-03-27T19:01:04.778Z"
   },
   {
    "duration": 45,
    "start_time": "2022-03-27T19:01:04.784Z"
   },
   {
    "duration": 40,
    "start_time": "2022-03-27T19:01:04.830Z"
   },
   {
    "duration": 12,
    "start_time": "2022-03-27T19:01:04.871Z"
   },
   {
    "duration": 32,
    "start_time": "2022-03-27T19:01:04.885Z"
   },
   {
    "duration": 4,
    "start_time": "2022-03-27T19:01:04.919Z"
   },
   {
    "duration": 22,
    "start_time": "2022-03-27T19:01:04.924Z"
   },
   {
    "duration": 13,
    "start_time": "2022-03-27T19:01:04.948Z"
   },
   {
    "duration": 15,
    "start_time": "2022-03-27T19:01:04.962Z"
   },
   {
    "duration": 44,
    "start_time": "2022-03-27T19:01:04.978Z"
   },
   {
    "duration": 23,
    "start_time": "2022-03-27T19:01:05.024Z"
   },
   {
    "duration": 16,
    "start_time": "2022-03-27T19:01:05.048Z"
   },
   {
    "duration": 14,
    "start_time": "2022-03-27T19:01:05.066Z"
   },
   {
    "duration": 25,
    "start_time": "2022-03-27T19:01:05.084Z"
   },
   {
    "duration": 9,
    "start_time": "2022-03-27T19:01:05.111Z"
   },
   {
    "duration": 6,
    "start_time": "2022-03-27T19:01:05.122Z"
   },
   {
    "duration": 30,
    "start_time": "2022-03-27T19:01:05.130Z"
   },
   {
    "duration": 12,
    "start_time": "2022-03-27T19:01:05.162Z"
   },
   {
    "duration": 37,
    "start_time": "2022-03-27T19:01:05.176Z"
   },
   {
    "duration": 11,
    "start_time": "2022-03-27T19:01:05.215Z"
   },
   {
    "duration": 13,
    "start_time": "2022-03-27T19:01:05.228Z"
   },
   {
    "duration": 4,
    "start_time": "2022-03-27T19:01:05.243Z"
   },
   {
    "duration": 13,
    "start_time": "2022-03-27T19:01:05.249Z"
   },
   {
    "duration": 6,
    "start_time": "2022-03-27T19:01:05.264Z"
   },
   {
    "duration": 423,
    "start_time": "2022-03-27T19:03:12.695Z"
   },
   {
    "duration": 168,
    "start_time": "2022-03-27T19:03:13.120Z"
   },
   {
    "duration": 22,
    "start_time": "2022-03-27T19:03:13.289Z"
   },
   {
    "duration": 30,
    "start_time": "2022-03-27T19:03:13.313Z"
   },
   {
    "duration": 4,
    "start_time": "2022-03-27T19:03:13.345Z"
   },
   {
    "duration": 5,
    "start_time": "2022-03-27T19:03:13.351Z"
   },
   {
    "duration": 5,
    "start_time": "2022-03-27T19:03:13.358Z"
   },
   {
    "duration": 58,
    "start_time": "2022-03-27T19:03:13.364Z"
   },
   {
    "duration": 18,
    "start_time": "2022-03-27T19:03:13.424Z"
   },
   {
    "duration": 27,
    "start_time": "2022-03-27T19:03:13.445Z"
   },
   {
    "duration": 90,
    "start_time": "2022-03-27T19:03:13.473Z"
   },
   {
    "duration": 100,
    "start_time": "2022-03-27T19:03:13.565Z"
   },
   {
    "duration": 74,
    "start_time": "2022-03-27T19:03:13.668Z"
   },
   {
    "duration": 42,
    "start_time": "2022-03-27T19:03:13.744Z"
   },
   {
    "duration": 3,
    "start_time": "2022-03-27T19:03:13.787Z"
   },
   {
    "duration": 26,
    "start_time": "2022-03-27T19:03:13.792Z"
   },
   {
    "duration": 42,
    "start_time": "2022-03-27T19:03:13.820Z"
   },
   {
    "duration": 12,
    "start_time": "2022-03-27T19:03:13.864Z"
   },
   {
    "duration": 37,
    "start_time": "2022-03-27T19:03:13.877Z"
   },
   {
    "duration": 8,
    "start_time": "2022-03-27T19:03:13.916Z"
   },
   {
    "duration": 36,
    "start_time": "2022-03-27T19:03:13.925Z"
   },
   {
    "duration": 16,
    "start_time": "2022-03-27T19:03:13.963Z"
   },
   {
    "duration": 31,
    "start_time": "2022-03-27T19:03:13.980Z"
   },
   {
    "duration": 14,
    "start_time": "2022-03-27T19:03:14.013Z"
   },
   {
    "duration": 18,
    "start_time": "2022-03-27T19:03:14.029Z"
   },
   {
    "duration": 17,
    "start_time": "2022-03-27T19:03:14.048Z"
   },
   {
    "duration": 12,
    "start_time": "2022-03-27T19:03:14.067Z"
   },
   {
    "duration": 12,
    "start_time": "2022-03-27T19:03:14.111Z"
   },
   {
    "duration": 10,
    "start_time": "2022-03-27T19:03:14.125Z"
   },
   {
    "duration": 5,
    "start_time": "2022-03-27T19:03:14.137Z"
   },
   {
    "duration": 27,
    "start_time": "2022-03-27T19:03:14.144Z"
   },
   {
    "duration": 36,
    "start_time": "2022-03-27T19:03:14.173Z"
   },
   {
    "duration": 19,
    "start_time": "2022-03-27T19:03:14.210Z"
   },
   {
    "duration": 11,
    "start_time": "2022-03-27T19:03:14.231Z"
   },
   {
    "duration": 11,
    "start_time": "2022-03-27T19:03:14.244Z"
   },
   {
    "duration": 4,
    "start_time": "2022-03-27T19:03:14.257Z"
   },
   {
    "duration": 9,
    "start_time": "2022-03-27T19:03:14.263Z"
   },
   {
    "duration": 5,
    "start_time": "2022-03-27T19:03:14.309Z"
   },
   {
    "duration": 391,
    "start_time": "2022-03-27T19:05:46.632Z"
   },
   {
    "duration": 148,
    "start_time": "2022-03-27T19:05:47.025Z"
   },
   {
    "duration": 17,
    "start_time": "2022-03-27T19:05:47.175Z"
   },
   {
    "duration": 43,
    "start_time": "2022-03-27T19:05:47.194Z"
   },
   {
    "duration": 3,
    "start_time": "2022-03-27T19:05:47.238Z"
   },
   {
    "duration": 4,
    "start_time": "2022-03-27T19:05:47.243Z"
   },
   {
    "duration": 5,
    "start_time": "2022-03-27T19:05:47.249Z"
   },
   {
    "duration": 54,
    "start_time": "2022-03-27T19:05:47.256Z"
   },
   {
    "duration": 20,
    "start_time": "2022-03-27T19:05:47.311Z"
   },
   {
    "duration": 26,
    "start_time": "2022-03-27T19:05:47.333Z"
   },
   {
    "duration": 90,
    "start_time": "2022-03-27T19:05:47.360Z"
   },
   {
    "duration": 94,
    "start_time": "2022-03-27T19:05:47.451Z"
   },
   {
    "duration": 64,
    "start_time": "2022-03-27T19:05:47.546Z"
   },
   {
    "duration": 40,
    "start_time": "2022-03-27T19:05:47.611Z"
   },
   {
    "duration": 3,
    "start_time": "2022-03-27T19:05:47.652Z"
   },
   {
    "duration": 169,
    "start_time": "2022-03-27T19:05:47.656Z"
   },
   {
    "duration": 0,
    "start_time": "2022-03-27T19:05:47.828Z"
   },
   {
    "duration": 0,
    "start_time": "2022-03-27T19:05:47.829Z"
   },
   {
    "duration": 0,
    "start_time": "2022-03-27T19:05:47.830Z"
   },
   {
    "duration": 0,
    "start_time": "2022-03-27T19:05:47.831Z"
   },
   {
    "duration": 0,
    "start_time": "2022-03-27T19:05:47.832Z"
   },
   {
    "duration": 0,
    "start_time": "2022-03-27T19:05:47.833Z"
   },
   {
    "duration": 0,
    "start_time": "2022-03-27T19:05:47.834Z"
   },
   {
    "duration": 0,
    "start_time": "2022-03-27T19:05:47.835Z"
   },
   {
    "duration": 0,
    "start_time": "2022-03-27T19:05:47.836Z"
   },
   {
    "duration": 0,
    "start_time": "2022-03-27T19:05:47.837Z"
   },
   {
    "duration": 0,
    "start_time": "2022-03-27T19:05:47.838Z"
   },
   {
    "duration": 0,
    "start_time": "2022-03-27T19:05:47.839Z"
   },
   {
    "duration": 0,
    "start_time": "2022-03-27T19:05:47.841Z"
   },
   {
    "duration": 0,
    "start_time": "2022-03-27T19:05:47.842Z"
   },
   {
    "duration": 0,
    "start_time": "2022-03-27T19:05:47.843Z"
   },
   {
    "duration": 0,
    "start_time": "2022-03-27T19:05:47.844Z"
   },
   {
    "duration": 0,
    "start_time": "2022-03-27T19:05:47.845Z"
   },
   {
    "duration": 0,
    "start_time": "2022-03-27T19:05:47.846Z"
   },
   {
    "duration": 0,
    "start_time": "2022-03-27T19:05:47.847Z"
   },
   {
    "duration": 0,
    "start_time": "2022-03-27T19:05:47.849Z"
   },
   {
    "duration": 0,
    "start_time": "2022-03-27T19:05:47.850Z"
   },
   {
    "duration": 0,
    "start_time": "2022-03-27T19:05:47.851Z"
   },
   {
    "duration": 0,
    "start_time": "2022-03-27T19:05:47.852Z"
   },
   {
    "duration": 443,
    "start_time": "2022-03-27T19:12:09.829Z"
   },
   {
    "duration": 156,
    "start_time": "2022-03-27T19:12:10.274Z"
   },
   {
    "duration": 18,
    "start_time": "2022-03-27T19:12:10.431Z"
   },
   {
    "duration": 30,
    "start_time": "2022-03-27T19:12:10.451Z"
   },
   {
    "duration": 3,
    "start_time": "2022-03-27T19:12:10.482Z"
   },
   {
    "duration": 24,
    "start_time": "2022-03-27T19:12:10.487Z"
   },
   {
    "duration": 7,
    "start_time": "2022-03-27T19:12:10.513Z"
   },
   {
    "duration": 28,
    "start_time": "2022-03-27T19:12:10.521Z"
   },
   {
    "duration": 25,
    "start_time": "2022-03-27T19:12:10.550Z"
   },
   {
    "duration": 40,
    "start_time": "2022-03-27T19:12:10.579Z"
   },
   {
    "duration": 65,
    "start_time": "2022-03-27T19:12:10.622Z"
   },
   {
    "duration": 91,
    "start_time": "2022-03-27T19:12:10.689Z"
   },
   {
    "duration": 79,
    "start_time": "2022-03-27T19:12:10.781Z"
   },
   {
    "duration": 52,
    "start_time": "2022-03-27T19:12:10.863Z"
   },
   {
    "duration": 3,
    "start_time": "2022-03-27T19:12:10.917Z"
   },
   {
    "duration": 72,
    "start_time": "2022-03-27T19:12:10.922Z"
   },
   {
    "duration": 0,
    "start_time": "2022-03-27T19:12:10.997Z"
   },
   {
    "duration": 0,
    "start_time": "2022-03-27T19:12:10.998Z"
   },
   {
    "duration": 0,
    "start_time": "2022-03-27T19:12:11.000Z"
   },
   {
    "duration": 0,
    "start_time": "2022-03-27T19:12:11.001Z"
   },
   {
    "duration": 0,
    "start_time": "2022-03-27T19:12:11.003Z"
   },
   {
    "duration": 0,
    "start_time": "2022-03-27T19:12:11.004Z"
   },
   {
    "duration": 0,
    "start_time": "2022-03-27T19:12:11.005Z"
   },
   {
    "duration": 0,
    "start_time": "2022-03-27T19:12:11.007Z"
   },
   {
    "duration": 0,
    "start_time": "2022-03-27T19:12:11.008Z"
   },
   {
    "duration": 0,
    "start_time": "2022-03-27T19:12:11.010Z"
   },
   {
    "duration": 0,
    "start_time": "2022-03-27T19:12:11.011Z"
   },
   {
    "duration": 0,
    "start_time": "2022-03-27T19:12:11.012Z"
   },
   {
    "duration": 0,
    "start_time": "2022-03-27T19:12:11.014Z"
   },
   {
    "duration": 0,
    "start_time": "2022-03-27T19:12:11.015Z"
   },
   {
    "duration": 0,
    "start_time": "2022-03-27T19:12:11.016Z"
   },
   {
    "duration": 0,
    "start_time": "2022-03-27T19:12:11.018Z"
   },
   {
    "duration": 0,
    "start_time": "2022-03-27T19:12:11.019Z"
   },
   {
    "duration": 0,
    "start_time": "2022-03-27T19:12:11.021Z"
   },
   {
    "duration": 0,
    "start_time": "2022-03-27T19:12:11.022Z"
   },
   {
    "duration": 0,
    "start_time": "2022-03-27T19:12:11.023Z"
   },
   {
    "duration": 0,
    "start_time": "2022-03-27T19:12:11.025Z"
   },
   {
    "duration": 0,
    "start_time": "2022-03-27T19:12:11.026Z"
   },
   {
    "duration": 1,
    "start_time": "2022-03-27T19:12:11.027Z"
   },
   {
    "duration": 81,
    "start_time": "2022-03-27T19:12:34.841Z"
   },
   {
    "duration": 427,
    "start_time": "2022-03-27T19:12:48.901Z"
   },
   {
    "duration": 153,
    "start_time": "2022-03-27T19:12:49.331Z"
   },
   {
    "duration": 24,
    "start_time": "2022-03-27T19:12:49.486Z"
   },
   {
    "duration": 31,
    "start_time": "2022-03-27T19:12:49.512Z"
   },
   {
    "duration": 3,
    "start_time": "2022-03-27T19:12:49.544Z"
   },
   {
    "duration": 6,
    "start_time": "2022-03-27T19:12:49.549Z"
   },
   {
    "duration": 5,
    "start_time": "2022-03-27T19:12:49.556Z"
   },
   {
    "duration": 51,
    "start_time": "2022-03-27T19:12:49.563Z"
   },
   {
    "duration": 19,
    "start_time": "2022-03-27T19:12:49.616Z"
   },
   {
    "duration": 24,
    "start_time": "2022-03-27T19:12:49.638Z"
   },
   {
    "duration": 79,
    "start_time": "2022-03-27T19:12:49.664Z"
   },
   {
    "duration": 98,
    "start_time": "2022-03-27T19:12:49.745Z"
   },
   {
    "duration": 74,
    "start_time": "2022-03-27T19:12:49.845Z"
   },
   {
    "duration": 39,
    "start_time": "2022-03-27T19:12:49.921Z"
   },
   {
    "duration": 3,
    "start_time": "2022-03-27T19:12:49.962Z"
   },
   {
    "duration": 82,
    "start_time": "2022-03-27T19:12:49.967Z"
   },
   {
    "duration": 0,
    "start_time": "2022-03-27T19:12:50.052Z"
   },
   {
    "duration": 0,
    "start_time": "2022-03-27T19:12:50.054Z"
   },
   {
    "duration": 0,
    "start_time": "2022-03-27T19:12:50.056Z"
   },
   {
    "duration": 0,
    "start_time": "2022-03-27T19:12:50.057Z"
   },
   {
    "duration": 0,
    "start_time": "2022-03-27T19:12:50.059Z"
   },
   {
    "duration": 0,
    "start_time": "2022-03-27T19:12:50.060Z"
   },
   {
    "duration": 0,
    "start_time": "2022-03-27T19:12:50.062Z"
   },
   {
    "duration": 0,
    "start_time": "2022-03-27T19:12:50.063Z"
   },
   {
    "duration": 0,
    "start_time": "2022-03-27T19:12:50.065Z"
   },
   {
    "duration": 0,
    "start_time": "2022-03-27T19:12:50.066Z"
   },
   {
    "duration": 0,
    "start_time": "2022-03-27T19:12:50.068Z"
   },
   {
    "duration": 0,
    "start_time": "2022-03-27T19:12:50.069Z"
   },
   {
    "duration": 0,
    "start_time": "2022-03-27T19:12:50.071Z"
   },
   {
    "duration": 0,
    "start_time": "2022-03-27T19:12:50.072Z"
   },
   {
    "duration": 0,
    "start_time": "2022-03-27T19:12:50.073Z"
   },
   {
    "duration": 0,
    "start_time": "2022-03-27T19:12:50.074Z"
   },
   {
    "duration": 0,
    "start_time": "2022-03-27T19:12:50.075Z"
   },
   {
    "duration": 0,
    "start_time": "2022-03-27T19:12:50.109Z"
   },
   {
    "duration": 0,
    "start_time": "2022-03-27T19:12:50.111Z"
   },
   {
    "duration": 0,
    "start_time": "2022-03-27T19:12:50.113Z"
   },
   {
    "duration": 0,
    "start_time": "2022-03-27T19:12:50.114Z"
   },
   {
    "duration": 0,
    "start_time": "2022-03-27T19:12:50.115Z"
   },
   {
    "duration": 437,
    "start_time": "2022-03-27T19:14:45.575Z"
   },
   {
    "duration": 153,
    "start_time": "2022-03-27T19:14:46.013Z"
   },
   {
    "duration": 16,
    "start_time": "2022-03-27T19:14:46.168Z"
   },
   {
    "duration": 43,
    "start_time": "2022-03-27T19:14:46.186Z"
   },
   {
    "duration": 3,
    "start_time": "2022-03-27T19:14:46.230Z"
   },
   {
    "duration": 5,
    "start_time": "2022-03-27T19:14:46.235Z"
   },
   {
    "duration": 5,
    "start_time": "2022-03-27T19:14:46.242Z"
   },
   {
    "duration": 29,
    "start_time": "2022-03-27T19:14:46.249Z"
   },
   {
    "duration": 46,
    "start_time": "2022-03-27T19:14:46.280Z"
   },
   {
    "duration": 25,
    "start_time": "2022-03-27T19:14:46.329Z"
   },
   {
    "duration": 88,
    "start_time": "2022-03-27T19:14:46.356Z"
   },
   {
    "duration": 86,
    "start_time": "2022-03-27T19:14:46.446Z"
   },
   {
    "duration": 61,
    "start_time": "2022-03-27T19:14:46.534Z"
   },
   {
    "duration": 39,
    "start_time": "2022-03-27T19:14:46.609Z"
   },
   {
    "duration": 3,
    "start_time": "2022-03-27T19:14:46.650Z"
   },
   {
    "duration": 104,
    "start_time": "2022-03-27T19:14:46.654Z"
   },
   {
    "duration": 40,
    "start_time": "2022-03-27T19:14:46.759Z"
   },
   {
    "duration": 18,
    "start_time": "2022-03-27T19:14:46.809Z"
   },
   {
    "duration": 15,
    "start_time": "2022-03-27T19:14:46.829Z"
   },
   {
    "duration": 3,
    "start_time": "2022-03-27T19:14:46.846Z"
   },
   {
    "duration": 18,
    "start_time": "2022-03-27T19:14:46.851Z"
   },
   {
    "duration": 44,
    "start_time": "2022-03-27T19:14:46.871Z"
   },
   {
    "duration": 16,
    "start_time": "2022-03-27T19:14:46.917Z"
   },
   {
    "duration": 15,
    "start_time": "2022-03-27T19:14:46.935Z"
   },
   {
    "duration": 18,
    "start_time": "2022-03-27T19:14:46.952Z"
   },
   {
    "duration": 50,
    "start_time": "2022-03-27T19:14:46.972Z"
   },
   {
    "duration": 9,
    "start_time": "2022-03-27T19:14:47.023Z"
   },
   {
    "duration": 10,
    "start_time": "2022-03-27T19:14:47.037Z"
   },
   {
    "duration": 9,
    "start_time": "2022-03-27T19:14:47.049Z"
   },
   {
    "duration": 4,
    "start_time": "2022-03-27T19:14:47.060Z"
   },
   {
    "duration": 52,
    "start_time": "2022-03-27T19:14:47.065Z"
   },
   {
    "duration": 12,
    "start_time": "2022-03-27T19:14:47.119Z"
   },
   {
    "duration": 16,
    "start_time": "2022-03-27T19:14:47.132Z"
   },
   {
    "duration": 11,
    "start_time": "2022-03-27T19:14:47.150Z"
   },
   {
    "duration": 11,
    "start_time": "2022-03-27T19:14:47.163Z"
   },
   {
    "duration": 35,
    "start_time": "2022-03-27T19:14:47.175Z"
   },
   {
    "duration": 8,
    "start_time": "2022-03-27T19:14:47.212Z"
   },
   {
    "duration": 5,
    "start_time": "2022-03-27T19:14:47.222Z"
   },
   {
    "duration": 390,
    "start_time": "2022-03-27T19:16:49.031Z"
   },
   {
    "duration": 168,
    "start_time": "2022-03-27T19:16:49.424Z"
   },
   {
    "duration": 23,
    "start_time": "2022-03-27T19:16:49.594Z"
   },
   {
    "duration": 32,
    "start_time": "2022-03-27T19:16:49.619Z"
   },
   {
    "duration": 4,
    "start_time": "2022-03-27T19:16:49.653Z"
   },
   {
    "duration": 21,
    "start_time": "2022-03-27T19:16:49.659Z"
   },
   {
    "duration": 8,
    "start_time": "2022-03-27T19:16:49.682Z"
   },
   {
    "duration": 40,
    "start_time": "2022-03-27T19:16:49.692Z"
   },
   {
    "duration": 22,
    "start_time": "2022-03-27T19:16:49.734Z"
   },
   {
    "duration": 57,
    "start_time": "2022-03-27T19:16:49.760Z"
   },
   {
    "duration": 99,
    "start_time": "2022-03-27T19:16:49.819Z"
   },
   {
    "duration": 89,
    "start_time": "2022-03-27T19:16:49.920Z"
   },
   {
    "duration": 63,
    "start_time": "2022-03-27T19:16:50.010Z"
   },
   {
    "duration": 53,
    "start_time": "2022-03-27T19:16:50.074Z"
   },
   {
    "duration": 3,
    "start_time": "2022-03-27T19:16:50.129Z"
   },
   {
    "duration": 17,
    "start_time": "2022-03-27T19:16:50.134Z"
   },
   {
    "duration": 60,
    "start_time": "2022-03-27T19:16:50.153Z"
   },
   {
    "duration": 13,
    "start_time": "2022-03-27T19:16:50.215Z"
   },
   {
    "duration": 12,
    "start_time": "2022-03-27T19:16:50.230Z"
   },
   {
    "duration": 4,
    "start_time": "2022-03-27T19:16:50.244Z"
   },
   {
    "duration": 20,
    "start_time": "2022-03-27T19:16:50.250Z"
   },
   {
    "duration": 47,
    "start_time": "2022-03-27T19:16:50.272Z"
   },
   {
    "duration": 13,
    "start_time": "2022-03-27T19:16:50.321Z"
   },
   {
    "duration": 12,
    "start_time": "2022-03-27T19:16:50.335Z"
   },
   {
    "duration": 16,
    "start_time": "2022-03-27T19:16:50.349Z"
   },
   {
    "duration": 47,
    "start_time": "2022-03-27T19:16:50.367Z"
   },
   {
    "duration": 7,
    "start_time": "2022-03-27T19:16:50.415Z"
   },
   {
    "duration": 10,
    "start_time": "2022-03-27T19:16:50.426Z"
   },
   {
    "duration": 9,
    "start_time": "2022-03-27T19:16:50.438Z"
   },
   {
    "duration": 4,
    "start_time": "2022-03-27T19:16:50.449Z"
   },
   {
    "duration": 23,
    "start_time": "2022-03-27T19:16:50.454Z"
   },
   {
    "duration": 42,
    "start_time": "2022-03-27T19:16:50.478Z"
   },
   {
    "duration": 17,
    "start_time": "2022-03-27T19:16:50.522Z"
   },
   {
    "duration": 11,
    "start_time": "2022-03-27T19:16:50.540Z"
   },
   {
    "duration": 12,
    "start_time": "2022-03-27T19:16:50.553Z"
   },
   {
    "duration": 43,
    "start_time": "2022-03-27T19:16:50.566Z"
   },
   {
    "duration": 7,
    "start_time": "2022-03-27T19:16:50.611Z"
   },
   {
    "duration": 4,
    "start_time": "2022-03-27T19:16:50.620Z"
   },
   {
    "duration": 75,
    "start_time": "2022-03-27T19:29:59.276Z"
   },
   {
    "duration": 5,
    "start_time": "2022-03-27T19:30:08.428Z"
   },
   {
    "duration": 6,
    "start_time": "2022-03-27T19:30:16.310Z"
   },
   {
    "duration": 24,
    "start_time": "2022-03-27T19:30:32.150Z"
   },
   {
    "duration": 25,
    "start_time": "2022-03-27T19:30:39.946Z"
   },
   {
    "duration": 4,
    "start_time": "2022-03-27T19:30:45.071Z"
   },
   {
    "duration": 59,
    "start_time": "2022-03-27T19:30:48.215Z"
   },
   {
    "duration": 409,
    "start_time": "2022-03-27T19:31:39.476Z"
   },
   {
    "duration": 147,
    "start_time": "2022-03-27T19:31:39.887Z"
   },
   {
    "duration": 17,
    "start_time": "2022-03-27T19:31:40.035Z"
   },
   {
    "duration": 30,
    "start_time": "2022-03-27T19:31:40.054Z"
   },
   {
    "duration": 4,
    "start_time": "2022-03-27T19:31:40.086Z"
   },
   {
    "duration": 18,
    "start_time": "2022-03-27T19:31:40.092Z"
   },
   {
    "duration": 5,
    "start_time": "2022-03-27T19:31:40.112Z"
   },
   {
    "duration": 27,
    "start_time": "2022-03-27T19:31:40.119Z"
   },
   {
    "duration": 20,
    "start_time": "2022-03-27T19:31:40.148Z"
   },
   {
    "duration": 62,
    "start_time": "2022-03-27T19:31:40.172Z"
   },
   {
    "duration": 77,
    "start_time": "2022-03-27T19:31:40.236Z"
   },
   {
    "duration": 76,
    "start_time": "2022-03-27T19:31:40.315Z"
   },
   {
    "duration": 70,
    "start_time": "2022-03-27T19:31:40.393Z"
   },
   {
    "duration": 51,
    "start_time": "2022-03-27T19:31:40.465Z"
   },
   {
    "duration": 3,
    "start_time": "2022-03-27T19:31:40.518Z"
   },
   {
    "duration": 12,
    "start_time": "2022-03-27T19:31:40.523Z"
   },
   {
    "duration": 39,
    "start_time": "2022-03-27T19:31:40.536Z"
   },
   {
    "duration": 34,
    "start_time": "2022-03-27T19:31:40.576Z"
   },
   {
    "duration": 12,
    "start_time": "2022-03-27T19:31:40.611Z"
   },
   {
    "duration": 4,
    "start_time": "2022-03-27T19:31:40.624Z"
   },
   {
    "duration": 19,
    "start_time": "2022-03-27T19:31:40.630Z"
   },
   {
    "duration": 14,
    "start_time": "2022-03-27T19:31:40.651Z"
   },
   {
    "duration": 44,
    "start_time": "2022-03-27T19:31:40.667Z"
   },
   {
    "duration": 14,
    "start_time": "2022-03-27T19:31:40.713Z"
   },
   {
    "duration": 16,
    "start_time": "2022-03-27T19:31:40.729Z"
   },
   {
    "duration": 14,
    "start_time": "2022-03-27T19:31:40.747Z"
   },
   {
    "duration": 8,
    "start_time": "2022-03-27T19:31:40.763Z"
   },
   {
    "duration": 45,
    "start_time": "2022-03-27T19:31:40.773Z"
   },
   {
    "duration": 10,
    "start_time": "2022-03-27T19:31:40.820Z"
   },
   {
    "duration": 4,
    "start_time": "2022-03-27T19:31:40.832Z"
   },
   {
    "duration": 26,
    "start_time": "2022-03-27T19:31:40.837Z"
   },
   {
    "duration": 11,
    "start_time": "2022-03-27T19:31:40.864Z"
   },
   {
    "duration": 41,
    "start_time": "2022-03-27T19:31:40.877Z"
   },
   {
    "duration": 10,
    "start_time": "2022-03-27T19:31:40.920Z"
   },
   {
    "duration": 10,
    "start_time": "2022-03-27T19:31:40.932Z"
   },
   {
    "duration": 4,
    "start_time": "2022-03-27T19:31:40.943Z"
   },
   {
    "duration": 8,
    "start_time": "2022-03-27T19:31:40.949Z"
   },
   {
    "duration": 4,
    "start_time": "2022-03-27T19:31:40.959Z"
   },
   {
    "duration": 61,
    "start_time": "2022-03-27T19:31:40.965Z"
   }
  ],
  "colab": {
   "collapsed_sections": [
    "E0vqbgi9ay0H",
    "VUC88oWjTJw2"
   ],
   "name": "yandex_music_project.ipynb",
   "provenance": []
  },
  "kernelspec": {
   "display_name": "Python 3 (ipykernel)",
   "language": "python",
   "name": "python3"
  },
  "language_info": {
   "codemirror_mode": {
    "name": "ipython",
    "version": 3
   },
   "file_extension": ".py",
   "mimetype": "text/x-python",
   "name": "python",
   "nbconvert_exporter": "python",
   "pygments_lexer": "ipython3",
   "version": "3.9.5"
  },
  "toc": {
   "base_numbering": 1,
   "nav_menu": {},
   "number_sections": true,
   "sideBar": true,
   "skip_h1_title": true,
   "title_cell": "Table of Contents",
   "title_sidebar": "Contents",
   "toc_cell": false,
   "toc_position": {},
   "toc_section_display": true,
   "toc_window_display": true
  }
 },
 "nbformat": 4,
 "nbformat_minor": 1
}
