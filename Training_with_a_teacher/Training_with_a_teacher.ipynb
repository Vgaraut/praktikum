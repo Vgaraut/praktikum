{
 "cells": [
  {
   "cell_type": "markdown",
   "metadata": {
    "toc": true
   },
   "source": [
    "<h1>Содержание<span class=\"tocSkip\"></span></h1>\n",
    "<div class=\"toc\"><ul class=\"toc-item\"><li><span><a href=\"#Подготовка-данных\" data-toc-modified-id=\"Подготовка-данных-1\"><span class=\"toc-item-num\">1&nbsp;&nbsp;</span>Подготовка данных</a></span></li><li><span><a href=\"#Исследование-задачи\" data-toc-modified-id=\"Исследование-задачи-2\"><span class=\"toc-item-num\">2&nbsp;&nbsp;</span>Исследование задачи</a></span></li><li><span><a href=\"#Борьба-с-дисбалансом\" data-toc-modified-id=\"Борьба-с-дисбалансом-3\"><span class=\"toc-item-num\">3&nbsp;&nbsp;</span>Борьба с дисбалансом</a></span></li><li><span><a href=\"#Тестирование-модели\" data-toc-modified-id=\"Тестирование-модели-4\"><span class=\"toc-item-num\">4&nbsp;&nbsp;</span>Тестирование модели</a></span></li><li><span><a href=\"#Чек-лист-готовности-проекта\" data-toc-modified-id=\"Чек-лист-готовности-проекта-5\"><span class=\"toc-item-num\">5&nbsp;&nbsp;</span>Чек-лист готовности проекта</a></span></li></ul></div>"
   ]
  },
  {
   "cell_type": "markdown",
   "metadata": {},
   "source": [
    "# Отток клиентов"
   ]
  },
  {
   "cell_type": "markdown",
   "metadata": {},
   "source": [
    "Из «Бета-Банка» стали уходить клиенты. Каждый месяц. Немного, но заметно. Банковские маркетологи посчитали: сохранять текущих клиентов дешевле, чем привлекать новых.\n",
    "\n",
    "Нужно спрогнозировать, уйдёт клиент из банка в ближайшее время или нет. Вам предоставлены исторические данные о поведении клиентов и расторжении договоров с банком. \n",
    "\n",
    "Постройте модель с предельно большим значением *F1*-меры. Чтобы сдать проект успешно, нужно довести метрику до 0.59. Проверьте *F1*-меру на тестовой выборке самостоятельно.\n",
    "\n",
    "Дополнительно измеряйте *AUC-ROC*, сравнивайте её значение с *F1*-мерой.\n",
    "\n",
    "Источник данных: [https://www.kaggle.com/barelydedicated/bank-customer-churn-modeling](https://www.kaggle.com/barelydedicated/bank-customer-churn-modeling)"
   ]
  },
  {
   "cell_type": "markdown",
   "metadata": {},
   "source": [
    "Данные находятся в файле /datasets/Churn.csv (англ. «отток клиентов»). Скачать датасет\n",
    "Признаки\n",
    "RowNumber — индекс строки в данных\n",
    "CustomerId — уникальный идентификатор клиента\n",
    "Surname — фамилия\n",
    "CreditScore — кредитный рейтинг\n",
    "Geography — страна проживания\n",
    "Gender — пол\n",
    "Age — возраст\n",
    "Tenure — сколько лет человек является клиентом банка\n",
    "Balance — баланс на счёте\n",
    "NumOfProducts — количество продуктов банка, используемых клиентом\n",
    "HasCrCard — наличие кредитной карты\n",
    "IsActiveMember — активность клиента\n",
    "EstimatedSalary — предполагаемая зарплата\n",
    "Целевой признак\n",
    "Exited — факт ухода клиента"
   ]
  },
  {
   "cell_type": "markdown",
   "metadata": {},
   "source": [
    "## Подготовка данных"
   ]
  },
  {
   "cell_type": "code",
   "execution_count": 1,
   "metadata": {},
   "outputs": [],
   "source": [
    "import pandas as pd\n",
    "import numpy as np\n",
    "import matplotlib.pyplot as plt\n",
    "import seaborn as sns\n",
    "import itertools\n",
    "from sklearn.linear_model import LogisticRegression\n",
    "from sklearn.ensemble import RandomForestClassifier\n",
    "from sklearn.model_selection import train_test_split, KFold, cross_val_score, ShuffleSplit\n",
    "from sklearn.preprocessing import StandardScaler, OrdinalEncoder\n",
    "from sklearn.impute import SimpleImputer\n",
    "from sklearn.metrics import accuracy_score, confusion_matrix, f1_score, roc_curve, roc_auc_score\n",
    "from sklearn.utils import shuffle\n",
    "import warnings\n",
    "warnings.filterwarnings('ignore')"
   ]
  },
  {
   "cell_type": "code",
   "execution_count": 2,
   "metadata": {},
   "outputs": [],
   "source": [
    "data = pd.read_csv('/datasets/Churn.csv')"
   ]
  },
  {
   "cell_type": "code",
   "execution_count": 3,
   "metadata": {},
   "outputs": [
    {
     "data": {
      "text/html": [
       "<div>\n",
       "<style scoped>\n",
       "    .dataframe tbody tr th:only-of-type {\n",
       "        vertical-align: middle;\n",
       "    }\n",
       "\n",
       "    .dataframe tbody tr th {\n",
       "        vertical-align: top;\n",
       "    }\n",
       "\n",
       "    .dataframe thead th {\n",
       "        text-align: right;\n",
       "    }\n",
       "</style>\n",
       "<table border=\"1\" class=\"dataframe\">\n",
       "  <thead>\n",
       "    <tr style=\"text-align: right;\">\n",
       "      <th></th>\n",
       "      <th>RowNumber</th>\n",
       "      <th>CustomerId</th>\n",
       "      <th>Surname</th>\n",
       "      <th>CreditScore</th>\n",
       "      <th>Geography</th>\n",
       "      <th>Gender</th>\n",
       "      <th>Age</th>\n",
       "      <th>Tenure</th>\n",
       "      <th>Balance</th>\n",
       "      <th>NumOfProducts</th>\n",
       "      <th>HasCrCard</th>\n",
       "      <th>IsActiveMember</th>\n",
       "      <th>EstimatedSalary</th>\n",
       "      <th>Exited</th>\n",
       "    </tr>\n",
       "  </thead>\n",
       "  <tbody>\n",
       "    <tr>\n",
       "      <th>0</th>\n",
       "      <td>1</td>\n",
       "      <td>15634602</td>\n",
       "      <td>Hargrave</td>\n",
       "      <td>619</td>\n",
       "      <td>France</td>\n",
       "      <td>Female</td>\n",
       "      <td>42</td>\n",
       "      <td>2.0</td>\n",
       "      <td>0.00</td>\n",
       "      <td>1</td>\n",
       "      <td>1</td>\n",
       "      <td>1</td>\n",
       "      <td>101348.88</td>\n",
       "      <td>1</td>\n",
       "    </tr>\n",
       "    <tr>\n",
       "      <th>1</th>\n",
       "      <td>2</td>\n",
       "      <td>15647311</td>\n",
       "      <td>Hill</td>\n",
       "      <td>608</td>\n",
       "      <td>Spain</td>\n",
       "      <td>Female</td>\n",
       "      <td>41</td>\n",
       "      <td>1.0</td>\n",
       "      <td>83807.86</td>\n",
       "      <td>1</td>\n",
       "      <td>0</td>\n",
       "      <td>1</td>\n",
       "      <td>112542.58</td>\n",
       "      <td>0</td>\n",
       "    </tr>\n",
       "    <tr>\n",
       "      <th>2</th>\n",
       "      <td>3</td>\n",
       "      <td>15619304</td>\n",
       "      <td>Onio</td>\n",
       "      <td>502</td>\n",
       "      <td>France</td>\n",
       "      <td>Female</td>\n",
       "      <td>42</td>\n",
       "      <td>8.0</td>\n",
       "      <td>159660.80</td>\n",
       "      <td>3</td>\n",
       "      <td>1</td>\n",
       "      <td>0</td>\n",
       "      <td>113931.57</td>\n",
       "      <td>1</td>\n",
       "    </tr>\n",
       "    <tr>\n",
       "      <th>3</th>\n",
       "      <td>4</td>\n",
       "      <td>15701354</td>\n",
       "      <td>Boni</td>\n",
       "      <td>699</td>\n",
       "      <td>France</td>\n",
       "      <td>Female</td>\n",
       "      <td>39</td>\n",
       "      <td>1.0</td>\n",
       "      <td>0.00</td>\n",
       "      <td>2</td>\n",
       "      <td>0</td>\n",
       "      <td>0</td>\n",
       "      <td>93826.63</td>\n",
       "      <td>0</td>\n",
       "    </tr>\n",
       "    <tr>\n",
       "      <th>4</th>\n",
       "      <td>5</td>\n",
       "      <td>15737888</td>\n",
       "      <td>Mitchell</td>\n",
       "      <td>850</td>\n",
       "      <td>Spain</td>\n",
       "      <td>Female</td>\n",
       "      <td>43</td>\n",
       "      <td>2.0</td>\n",
       "      <td>125510.82</td>\n",
       "      <td>1</td>\n",
       "      <td>1</td>\n",
       "      <td>1</td>\n",
       "      <td>79084.10</td>\n",
       "      <td>0</td>\n",
       "    </tr>\n",
       "  </tbody>\n",
       "</table>\n",
       "</div>"
      ],
      "text/plain": [
       "   RowNumber  CustomerId   Surname  CreditScore Geography  Gender  Age  \\\n",
       "0          1    15634602  Hargrave          619    France  Female   42   \n",
       "1          2    15647311      Hill          608     Spain  Female   41   \n",
       "2          3    15619304      Onio          502    France  Female   42   \n",
       "3          4    15701354      Boni          699    France  Female   39   \n",
       "4          5    15737888  Mitchell          850     Spain  Female   43   \n",
       "\n",
       "   Tenure    Balance  NumOfProducts  HasCrCard  IsActiveMember  \\\n",
       "0     2.0       0.00              1          1               1   \n",
       "1     1.0   83807.86              1          0               1   \n",
       "2     8.0  159660.80              3          1               0   \n",
       "3     1.0       0.00              2          0               0   \n",
       "4     2.0  125510.82              1          1               1   \n",
       "\n",
       "   EstimatedSalary  Exited  \n",
       "0        101348.88       1  \n",
       "1        112542.58       0  \n",
       "2        113931.57       1  \n",
       "3         93826.63       0  \n",
       "4         79084.10       0  "
      ]
     },
     "execution_count": 3,
     "metadata": {},
     "output_type": "execute_result"
    }
   ],
   "source": [
    "#изучим данные\n",
    "data.head()"
   ]
  },
  {
   "cell_type": "code",
   "execution_count": 4,
   "metadata": {},
   "outputs": [
    {
     "name": "stdout",
     "output_type": "stream",
     "text": [
      "<class 'pandas.core.frame.DataFrame'>\n",
      "RangeIndex: 10000 entries, 0 to 9999\n",
      "Data columns (total 14 columns):\n",
      " #   Column           Non-Null Count  Dtype  \n",
      "---  ------           --------------  -----  \n",
      " 0   RowNumber        10000 non-null  int64  \n",
      " 1   CustomerId       10000 non-null  int64  \n",
      " 2   Surname          10000 non-null  object \n",
      " 3   CreditScore      10000 non-null  int64  \n",
      " 4   Geography        10000 non-null  object \n",
      " 5   Gender           10000 non-null  object \n",
      " 6   Age              10000 non-null  int64  \n",
      " 7   Tenure           9091 non-null   float64\n",
      " 8   Balance          10000 non-null  float64\n",
      " 9   NumOfProducts    10000 non-null  int64  \n",
      " 10  HasCrCard        10000 non-null  int64  \n",
      " 11  IsActiveMember   10000 non-null  int64  \n",
      " 12  EstimatedSalary  10000 non-null  float64\n",
      " 13  Exited           10000 non-null  int64  \n",
      "dtypes: float64(3), int64(8), object(3)\n",
      "memory usage: 1.1+ MB\n"
     ]
    },
    {
     "data": {
      "text/plain": [
       "(10000, 14)"
      ]
     },
     "execution_count": 4,
     "metadata": {},
     "output_type": "execute_result"
    }
   ],
   "source": [
    "data.info()\n",
    "data.shape"
   ]
  },
  {
   "cell_type": "code",
   "execution_count": 5,
   "metadata": {},
   "outputs": [
    {
     "data": {
      "text/plain": [
       "France     5014\n",
       "Germany    2509\n",
       "Spain      2477\n",
       "Name: Geography, dtype: int64"
      ]
     },
     "execution_count": 5,
     "metadata": {},
     "output_type": "execute_result"
    }
   ],
   "source": [
    "data['Geography'].value_counts()"
   ]
  },
  {
   "cell_type": "code",
   "execution_count": 6,
   "metadata": {},
   "outputs": [
    {
     "data": {
      "text/plain": [
       "Male      5457\n",
       "Female    4543\n",
       "Name: Gender, dtype: int64"
      ]
     },
     "execution_count": 6,
     "metadata": {},
     "output_type": "execute_result"
    }
   ],
   "source": [
    "data.Gender.value_counts()"
   ]
  },
  {
   "cell_type": "code",
   "execution_count": 7,
   "metadata": {},
   "outputs": [
    {
     "data": {
      "text/plain": [
       "0    726\n",
       "1    183\n",
       "Name: Exited, dtype: int64"
      ]
     },
     "execution_count": 7,
     "metadata": {},
     "output_type": "execute_result"
    }
   ],
   "source": [
    "data[data['Tenure'].isna()]['Exited'].value_counts()"
   ]
  },
  {
   "cell_type": "markdown",
   "metadata": {},
   "source": [
    "Столбцы RowNumber, CustomerId, Surname можно удалить, так как они не нужны в исследовании и не несут полезной для нас информации"
   ]
  },
  {
   "cell_type": "code",
   "execution_count": 8,
   "metadata": {},
   "outputs": [
    {
     "data": {
      "text/html": [
       "<div>\n",
       "<style scoped>\n",
       "    .dataframe tbody tr th:only-of-type {\n",
       "        vertical-align: middle;\n",
       "    }\n",
       "\n",
       "    .dataframe tbody tr th {\n",
       "        vertical-align: top;\n",
       "    }\n",
       "\n",
       "    .dataframe thead th {\n",
       "        text-align: right;\n",
       "    }\n",
       "</style>\n",
       "<table border=\"1\" class=\"dataframe\">\n",
       "  <thead>\n",
       "    <tr style=\"text-align: right;\">\n",
       "      <th></th>\n",
       "      <th>CreditScore</th>\n",
       "      <th>Geography</th>\n",
       "      <th>Gender</th>\n",
       "      <th>Age</th>\n",
       "      <th>Tenure</th>\n",
       "      <th>Balance</th>\n",
       "      <th>NumOfProducts</th>\n",
       "      <th>HasCrCard</th>\n",
       "      <th>IsActiveMember</th>\n",
       "      <th>EstimatedSalary</th>\n",
       "      <th>Exited</th>\n",
       "    </tr>\n",
       "  </thead>\n",
       "  <tbody>\n",
       "    <tr>\n",
       "      <th>0</th>\n",
       "      <td>619</td>\n",
       "      <td>France</td>\n",
       "      <td>Female</td>\n",
       "      <td>42</td>\n",
       "      <td>2.0</td>\n",
       "      <td>0.00</td>\n",
       "      <td>1</td>\n",
       "      <td>1</td>\n",
       "      <td>1</td>\n",
       "      <td>101348.88</td>\n",
       "      <td>1</td>\n",
       "    </tr>\n",
       "    <tr>\n",
       "      <th>1</th>\n",
       "      <td>608</td>\n",
       "      <td>Spain</td>\n",
       "      <td>Female</td>\n",
       "      <td>41</td>\n",
       "      <td>1.0</td>\n",
       "      <td>83807.86</td>\n",
       "      <td>1</td>\n",
       "      <td>0</td>\n",
       "      <td>1</td>\n",
       "      <td>112542.58</td>\n",
       "      <td>0</td>\n",
       "    </tr>\n",
       "    <tr>\n",
       "      <th>2</th>\n",
       "      <td>502</td>\n",
       "      <td>France</td>\n",
       "      <td>Female</td>\n",
       "      <td>42</td>\n",
       "      <td>8.0</td>\n",
       "      <td>159660.80</td>\n",
       "      <td>3</td>\n",
       "      <td>1</td>\n",
       "      <td>0</td>\n",
       "      <td>113931.57</td>\n",
       "      <td>1</td>\n",
       "    </tr>\n",
       "    <tr>\n",
       "      <th>3</th>\n",
       "      <td>699</td>\n",
       "      <td>France</td>\n",
       "      <td>Female</td>\n",
       "      <td>39</td>\n",
       "      <td>1.0</td>\n",
       "      <td>0.00</td>\n",
       "      <td>2</td>\n",
       "      <td>0</td>\n",
       "      <td>0</td>\n",
       "      <td>93826.63</td>\n",
       "      <td>0</td>\n",
       "    </tr>\n",
       "    <tr>\n",
       "      <th>4</th>\n",
       "      <td>850</td>\n",
       "      <td>Spain</td>\n",
       "      <td>Female</td>\n",
       "      <td>43</td>\n",
       "      <td>2.0</td>\n",
       "      <td>125510.82</td>\n",
       "      <td>1</td>\n",
       "      <td>1</td>\n",
       "      <td>1</td>\n",
       "      <td>79084.10</td>\n",
       "      <td>0</td>\n",
       "    </tr>\n",
       "  </tbody>\n",
       "</table>\n",
       "</div>"
      ],
      "text/plain": [
       "   CreditScore Geography  Gender  Age  Tenure    Balance  NumOfProducts  \\\n",
       "0          619    France  Female   42     2.0       0.00              1   \n",
       "1          608     Spain  Female   41     1.0   83807.86              1   \n",
       "2          502    France  Female   42     8.0  159660.80              3   \n",
       "3          699    France  Female   39     1.0       0.00              2   \n",
       "4          850     Spain  Female   43     2.0  125510.82              1   \n",
       "\n",
       "   HasCrCard  IsActiveMember  EstimatedSalary  Exited  \n",
       "0          1               1        101348.88       1  \n",
       "1          0               1        112542.58       0  \n",
       "2          1               0        113931.57       1  \n",
       "3          0               0         93826.63       0  \n",
       "4          1               1         79084.10       0  "
      ]
     },
     "execution_count": 8,
     "metadata": {},
     "output_type": "execute_result"
    }
   ],
   "source": [
    "data_cleared = data.drop(['RowNumber', 'CustomerId', 'Surname'], axis=1)\n",
    "data_cleared.head()"
   ]
  },
  {
   "cell_type": "code",
   "execution_count": 9,
   "metadata": {},
   "outputs": [
    {
     "data": {
      "text/plain": [
       "0"
      ]
     },
     "execution_count": 9,
     "metadata": {},
     "output_type": "execute_result"
    }
   ],
   "source": [
    "#Посмотрим имеются ли у нас дубликаты \n",
    "data_cleared.duplicated().sum()"
   ]
  },
  {
   "cell_type": "code",
   "execution_count": 10,
   "metadata": {},
   "outputs": [
    {
     "data": {
      "image/png": "[encoded data removed]",
      "text/plain": [
       "<Figure size 792x792 with 1 Axes>"
      ]
     },
     "metadata": {
      "needs_background": "light"
     },
     "output_type": "display_data"
    }
   ],
   "source": [
    "def plot_corr(df, size=11):\n",
    "  corr = df.corr()\n",
    "  fig, ax = plt.subplots(figsize=(size,size))\n",
    "  ax.matshow(corr)\n",
    "  plt.xticks(range(len(corr.columns)), corr.columns)\n",
    "  plt.yticks(range(len(corr.columns)), corr.columns)\n",
    "\n",
    "plot_corr(data_cleared)"
   ]
  },
  {
   "cell_type": "markdown",
   "metadata": {},
   "source": [
    "<div class=\"alert alert-block alert-info\">\n",
    "<b>Совет:</b> Напомню, что корреляция спирмена/пирсона подходит только для количественных факторов. Советую обратить на инструмент <a href=\"https://phik.readthedocs.io/en/latest/\" >phik</a>, который помогает устанавливать связи (не только линейные) между факторами (и не только между количественными)"
   ]
  },
  {
   "cell_type": "code",
   "execution_count": 11,
   "metadata": {},
   "outputs": [
    {
     "data": {
      "text/plain": [
       "0"
      ]
     },
     "execution_count": 11,
     "metadata": {},
     "output_type": "execute_result"
    }
   ],
   "source": [
    "#Изменим тип данных у столбца Tenure и заполним пустые значения с помощью SimpleImputer из библиотеки sklearn\n",
    "data_cleared['Tenure'] = data_cleared['Tenure'].replace(np.NaN, None).astype(int,errors='ignore').astype(object)\n",
    "imputer = SimpleImputer(strategy='constant')\n",
    "imp_data = pd.DataFrame(imputer.fit_transform(data_cleared))\n",
    "imp_data.columns = data_cleared.columns\n",
    "\n",
    "#Проверим как сработал SimpleImputer\n",
    "data_cleared['Tenure'].isnull().sum()"
   ]
  },
  {
   "cell_type": "code",
   "execution_count": 12,
   "metadata": {},
   "outputs": [],
   "source": [
    "#Проведем кодирование с помощью OHE\n",
    "data_cleared = pd.get_dummies(data_cleared, drop_first=True)\n",
    "\n",
    "#Стандартизируем признаки с помощью StandardScaler\n",
    "scaler = StandardScaler()\n",
    "numeric = ['CreditScore', 'Age', 'Balance', 'EstimatedSalary']\n",
    "scaler.fit(data_cleared[numeric])\n",
    "data_cleared[numeric] = scaler.transform(data_cleared[numeric])"
   ]
  },
  {
   "cell_type": "code",
   "execution_count": 13,
   "metadata": {},
   "outputs": [
    {
     "data": {
      "text/html": [
       "<div>\n",
       "<style scoped>\n",
       "    .dataframe tbody tr th:only-of-type {\n",
       "        vertical-align: middle;\n",
       "    }\n",
       "\n",
       "    .dataframe tbody tr th {\n",
       "        vertical-align: top;\n",
       "    }\n",
       "\n",
       "    .dataframe thead th {\n",
       "        text-align: right;\n",
       "    }\n",
       "</style>\n",
       "<table border=\"1\" class=\"dataframe\">\n",
       "  <thead>\n",
       "    <tr style=\"text-align: right;\">\n",
       "      <th></th>\n",
       "      <th>CreditScore</th>\n",
       "      <th>Age</th>\n",
       "      <th>Balance</th>\n",
       "      <th>NumOfProducts</th>\n",
       "      <th>HasCrCard</th>\n",
       "      <th>IsActiveMember</th>\n",
       "      <th>EstimatedSalary</th>\n",
       "      <th>Exited</th>\n",
       "      <th>Geography_Germany</th>\n",
       "      <th>Geography_Spain</th>\n",
       "      <th>...</th>\n",
       "      <th>Tenure_1</th>\n",
       "      <th>Tenure_2</th>\n",
       "      <th>Tenure_3</th>\n",
       "      <th>Tenure_4</th>\n",
       "      <th>Tenure_5</th>\n",
       "      <th>Tenure_6</th>\n",
       "      <th>Tenure_7</th>\n",
       "      <th>Tenure_8</th>\n",
       "      <th>Tenure_9</th>\n",
       "      <th>Tenure_10</th>\n",
       "    </tr>\n",
       "  </thead>\n",
       "  <tbody>\n",
       "    <tr>\n",
       "      <th>0</th>\n",
       "      <td>-0.326221</td>\n",
       "      <td>0.293517</td>\n",
       "      <td>-1.225848</td>\n",
       "      <td>1</td>\n",
       "      <td>1</td>\n",
       "      <td>1</td>\n",
       "      <td>0.021886</td>\n",
       "      <td>1</td>\n",
       "      <td>0</td>\n",
       "      <td>0</td>\n",
       "      <td>...</td>\n",
       "      <td>0</td>\n",
       "      <td>1</td>\n",
       "      <td>0</td>\n",
       "      <td>0</td>\n",
       "      <td>0</td>\n",
       "      <td>0</td>\n",
       "      <td>0</td>\n",
       "      <td>0</td>\n",
       "      <td>0</td>\n",
       "      <td>0</td>\n",
       "    </tr>\n",
       "    <tr>\n",
       "      <th>1</th>\n",
       "      <td>-0.440036</td>\n",
       "      <td>0.198164</td>\n",
       "      <td>0.117350</td>\n",
       "      <td>1</td>\n",
       "      <td>0</td>\n",
       "      <td>1</td>\n",
       "      <td>0.216534</td>\n",
       "      <td>0</td>\n",
       "      <td>0</td>\n",
       "      <td>1</td>\n",
       "      <td>...</td>\n",
       "      <td>1</td>\n",
       "      <td>0</td>\n",
       "      <td>0</td>\n",
       "      <td>0</td>\n",
       "      <td>0</td>\n",
       "      <td>0</td>\n",
       "      <td>0</td>\n",
       "      <td>0</td>\n",
       "      <td>0</td>\n",
       "      <td>0</td>\n",
       "    </tr>\n",
       "    <tr>\n",
       "      <th>2</th>\n",
       "      <td>-1.536794</td>\n",
       "      <td>0.293517</td>\n",
       "      <td>1.333053</td>\n",
       "      <td>3</td>\n",
       "      <td>1</td>\n",
       "      <td>0</td>\n",
       "      <td>0.240687</td>\n",
       "      <td>1</td>\n",
       "      <td>0</td>\n",
       "      <td>0</td>\n",
       "      <td>...</td>\n",
       "      <td>0</td>\n",
       "      <td>0</td>\n",
       "      <td>0</td>\n",
       "      <td>0</td>\n",
       "      <td>0</td>\n",
       "      <td>0</td>\n",
       "      <td>0</td>\n",
       "      <td>1</td>\n",
       "      <td>0</td>\n",
       "      <td>0</td>\n",
       "    </tr>\n",
       "    <tr>\n",
       "      <th>3</th>\n",
       "      <td>0.501521</td>\n",
       "      <td>0.007457</td>\n",
       "      <td>-1.225848</td>\n",
       "      <td>2</td>\n",
       "      <td>0</td>\n",
       "      <td>0</td>\n",
       "      <td>-0.108918</td>\n",
       "      <td>0</td>\n",
       "      <td>0</td>\n",
       "      <td>0</td>\n",
       "      <td>...</td>\n",
       "      <td>1</td>\n",
       "      <td>0</td>\n",
       "      <td>0</td>\n",
       "      <td>0</td>\n",
       "      <td>0</td>\n",
       "      <td>0</td>\n",
       "      <td>0</td>\n",
       "      <td>0</td>\n",
       "      <td>0</td>\n",
       "      <td>0</td>\n",
       "    </tr>\n",
       "    <tr>\n",
       "      <th>4</th>\n",
       "      <td>2.063884</td>\n",
       "      <td>0.388871</td>\n",
       "      <td>0.785728</td>\n",
       "      <td>1</td>\n",
       "      <td>1</td>\n",
       "      <td>1</td>\n",
       "      <td>-0.365276</td>\n",
       "      <td>0</td>\n",
       "      <td>0</td>\n",
       "      <td>1</td>\n",
       "      <td>...</td>\n",
       "      <td>0</td>\n",
       "      <td>1</td>\n",
       "      <td>0</td>\n",
       "      <td>0</td>\n",
       "      <td>0</td>\n",
       "      <td>0</td>\n",
       "      <td>0</td>\n",
       "      <td>0</td>\n",
       "      <td>0</td>\n",
       "      <td>0</td>\n",
       "    </tr>\n",
       "  </tbody>\n",
       "</table>\n",
       "<p>5 rows × 21 columns</p>\n",
       "</div>"
      ],
      "text/plain": [
       "   CreditScore       Age   Balance  NumOfProducts  HasCrCard  IsActiveMember  \\\n",
       "0    -0.326221  0.293517 -1.225848              1          1               1   \n",
       "1    -0.440036  0.198164  0.117350              1          0               1   \n",
       "2    -1.536794  0.293517  1.333053              3          1               0   \n",
       "3     0.501521  0.007457 -1.225848              2          0               0   \n",
       "4     2.063884  0.388871  0.785728              1          1               1   \n",
       "\n",
       "   EstimatedSalary  Exited  Geography_Germany  Geography_Spain  ...  Tenure_1  \\\n",
       "0         0.021886       1                  0                0  ...         0   \n",
       "1         0.216534       0                  0                1  ...         1   \n",
       "2         0.240687       1                  0                0  ...         0   \n",
       "3        -0.108918       0                  0                0  ...         1   \n",
       "4        -0.365276       0                  0                1  ...         0   \n",
       "\n",
       "   Tenure_2  Tenure_3  Tenure_4  Tenure_5  Tenure_6  Tenure_7  Tenure_8  \\\n",
       "0         1         0         0         0         0         0         0   \n",
       "1         0         0         0         0         0         0         0   \n",
       "2         0         0         0         0         0         0         1   \n",
       "3         0         0         0         0         0         0         0   \n",
       "4         1         0         0         0         0         0         0   \n",
       "\n",
       "   Tenure_9  Tenure_10  \n",
       "0         0          0  \n",
       "1         0          0  \n",
       "2         0          0  \n",
       "3         0          0  \n",
       "4         0          0  \n",
       "\n",
       "[5 rows x 21 columns]"
      ]
     },
     "execution_count": 13,
     "metadata": {},
     "output_type": "execute_result"
    }
   ],
   "source": [
    "data_cleared.head()"
   ]
  },
  {
   "cell_type": "code",
   "execution_count": 14,
   "metadata": {},
   "outputs": [
    {
     "name": "stdout",
     "output_type": "stream",
     "text": [
      "Training set size: 6000\n",
      "Validating set size: 2000\n",
      "Test set size: 2000\n"
     ]
    }
   ],
   "source": [
    "#С помощью train_test_split Разделим наш датасет на следующие выборки \n",
    "X = data_cleared.drop(['Exited'], axis=1)\n",
    "y = data_cleared['Exited']\n",
    "\n",
    "X_train, X_valid, y_train, y_valid = train_test_split(X, y, train_size=0.6, test_size=0.4, random_state=12345)\n",
    "X_test, X_valid, y_test, y_valid = train_test_split(X_valid, y_valid, test_size=0.5, random_state=12345)\n",
    "\n",
    "print('Training set size:', X_train.shape[0])\n",
    "print('Validating set size:', X_valid.shape[0])\n",
    "print('Test set size:',X_test.shape[0])"
   ]
  },
  {
   "cell_type": "markdown",
   "metadata": {},
   "source": [
    "Вывод:\n",
    "Изучили наш датасет\n",
    "Нашли пустые значения в столбце Tenure, заполнили их с помощью SimpleImputer\n",
    "Дубликатов не выявили\n",
    "Просмотрели матрицу корреляции, никаких взаимосвязей мещающих нашим будущим моделям не выявили\n",
    "Провели кодирование и стандартизировали признаки с помощью StandardScaler\n",
    "Разделили наш датасет на выборки : обучающую, валидационную и тестовую"
   ]
  },
  {
   "cell_type": "markdown",
   "metadata": {},
   "source": [
    "## Исследование задачи"
   ]
  },
  {
   "cell_type": "code",
   "execution_count": 15,
   "metadata": {},
   "outputs": [
    {
     "name": "stdout",
     "output_type": "stream",
     "text": [
      "Accuracy is: 0.8455\n",
      "F1_Score is: 0.5224111282843895\n"
     ]
    },
    {
     "data": {
      "text/plain": [
       "array([[1522,   55],\n",
       "       [ 254,  169]])"
      ]
     },
     "execution_count": 15,
     "metadata": {},
     "output_type": "execute_result"
    }
   ],
   "source": [
    "# Модель RandomForestClassifier со стандартными параметрами, посмотрим какой аккураси и f1score покажет нам модель\n",
    "model = RandomForestClassifier(random_state=12345)\n",
    "model.fit(X_train, y_train)\n",
    "predicted_valid = model.predict(X_valid)\n",
    "accuracy_valid = accuracy_score(predicted_valid, y_valid)\n",
    "print('Accuracy is:', accuracy_valid)\n",
    "print('F1_Score is:', f1_score(y_valid, predicted_valid))\n",
    "confusion_matrix(y_valid, predicted_valid)"
   ]
  },
  {
   "cell_type": "code",
   "execution_count": 16,
   "metadata": {},
   "outputs": [
    {
     "name": "stdout",
     "output_type": "stream",
     "text": [
      "Accuracy is: 0.789\n",
      "F1_Score is: 0.2673611111111111\n",
      "ROC_AUC score is 0.7381103360811667\n"
     ]
    }
   ],
   "source": [
    "# Модель logisticRegression со стандартными параметрами, посмотрим какой аккураси и f1score покажет нам модель\n",
    "model = LogisticRegression(random_state=12345, solver='liblinear')\n",
    "model.fit(X_train, y_train)\n",
    "predicted_valid = model.predict(X_valid)\n",
    "accuracy_valid = accuracy_score(predicted_valid, y_valid)\n",
    "print('Accuracy is:', accuracy_valid)\n",
    "print('F1_Score is:', f1_score(y_valid, predicted_valid))\n",
    "print('ROC_AUC score is', roc_auc_score(y_valid, model.predict_proba(X_valid)[:, 1]))\n",
    "\n",
    "#confusion_matrix(y_valid, predicted_valid)"
   ]
  },
  {
   "cell_type": "markdown",
   "metadata": {},
   "source": [
    "## Борьба с дисбалансом"
   ]
  },
  {
   "cell_type": "code",
   "execution_count": 18,
   "metadata": {},
   "outputs": [
    {
     "name": "stdout",
     "output_type": "stream",
     "text": [
      "Depth:     1       |   Estimators:     1\n",
      "Accuracy: 0.6785   |   F1_Score: 0.4819\n",
      "------------------------------------------------------\n",
      "Depth:     1       |   Estimators:    51\n",
      "Accuracy: 0.7375   |   F1_Score: 0.4937\n",
      "------------------------------------------------------\n",
      "Depth:     1       |   Estimators:   101\n",
      "Accuracy: 0.7345   |   F1_Score: 0.5238\n",
      "------------------------------------------------------\n",
      "Depth:    11       |   Estimators:     1\n",
      "Accuracy: 0.7370   |   F1_Score: 0.5130\n",
      "------------------------------------------------------\n",
      "Depth:    11       |   Estimators:    51\n",
      "Accuracy: 0.8360   |   F1_Score: 0.6010\n",
      "------------------------------------------------------\n",
      "Depth:    11       |   Estimators:   101\n",
      "Accuracy: 0.8395   |   F1_Score: 0.6109\n",
      "------------------------------------------------------\n",
      "Depth:    21       |   Estimators:     1\n",
      "Accuracy: 0.7750   |   F1_Score: 0.4375\n",
      "------------------------------------------------------\n",
      "Depth:    21       |   Estimators:    51\n",
      "Accuracy: 0.8425   |   F1_Score: 0.5146\n",
      "------------------------------------------------------\n",
      "Depth:    21       |   Estimators:   101\n",
      "Accuracy: 0.8445   |   F1_Score: 0.5163\n",
      "------------------------------------------------------\n"
     ]
    }
   ],
   "source": [
    "for depth,estimator in itertools.product(range(1,30,10), range(1,151,50)):\n",
    "    model = RandomForestClassifier(random_state=12345, max_depth=depth, n_estimators=estimator, class_weight='balanced')\n",
    "    model.fit(X_train, y_train)\n",
    "    predictions = model.predict(X_valid)\n",
    "    score = accuracy_score(predictions, y_valid)\n",
    "    fscore = f1_score(y_valid, predictions)\n",
    "    print('Depth: {: >5.0f}       |   Estimators: {:>5.0f}'.format(depth, estimator))\n",
    "    print('Accuracy: {: >5.4f}   |   F1_Score: {: >5.4f}'.format(score,fscore))\n",
    "    print('------------------------------------------------------')"
   ]
  },
  {
   "cell_type": "markdown",
   "metadata": {},
   "source": [
    "При глубине деревьев 11 и числе деревьев 51. F1_score показал наилучший результат : 0.6034 и accuracy_score : 0.8350. Попробуем улучшить показатели"
   ]
  },
  {
   "cell_type": "code",
   "execution_count": 19,
   "metadata": {
    "scrolled": false
   },
   "outputs": [
    {
     "name": "stdout",
     "output_type": "stream",
     "text": [
      "F1_Score: 0.572  |   Repeats :     4\n"
     ]
    }
   ],
   "source": [
    "#Попробуем обучить нашу модель с помощью увеличения выборки\n",
    "\n",
    "def upsampling(features, target, repeat):\n",
    "    X_zeros = X_train[y_train == 0]\n",
    "    X_ones = X_train[y_train == 1]\n",
    "    y_zeros = y_train[y_train == 0]\n",
    "    y_ones = y_train[y_train == 1]\n",
    "\n",
    "    X_upsampled = pd.concat([X_zeros] + [X_ones] * repeat)\n",
    "    y_upsampled = pd.concat([y_zeros] + [y_ones] * repeat)\n",
    "    \n",
    "    X_upsampled, y_upsampled = shuffle(X_upsampled, y_upsampled, random_state=12345)\n",
    "    \n",
    "    return X_upsampled, y_upsampled\n",
    "\n",
    "\n",
    "X_upsampled, y_upsampled = upsampling(X_train, y_train, 4)\n",
    "\n",
    "model = RandomForestClassifier(random_state=12345)\n",
    "model.fit(X_upsampled, y_upsampled)\n",
    "predictions = model.predict(X_valid)\n",
    "print(\"F1_Score: {: >5.3f}  |   Repeats : {: >5.0f}\".format(f1_score(y_valid, predictions), 4))"
   ]
  },
  {
   "cell_type": "code",
   "execution_count": 20,
   "metadata": {
    "scrolled": false
   },
   "outputs": [
    {
     "name": "stdout",
     "output_type": "stream",
     "text": [
      "F1_Score: 0.575  |  Fractions : 0.250\n"
     ]
    }
   ],
   "source": [
    "#Попробуем обучить нашу модель с помощью уменьшения выборки\n",
    "\n",
    "def downsampling(X, y, fraction):\n",
    "    X_zeros = X[y == 0]\n",
    "    X_ones = X[y == 1]\n",
    "    y_zeros = y[y == 0]\n",
    "    y_ones = y[y == 1]\n",
    "\n",
    "    X_downsampled = pd.concat(\n",
    "        [X_zeros.sample(frac=fraction, random_state=12345)] + [X_ones])\n",
    "    y_downsampled = pd.concat(\n",
    "        [y_zeros.sample(frac=fraction, random_state=12345)] + [y_ones])\n",
    "    \n",
    "    X_downsampled, y_downsampled = shuffle(\n",
    "        X_downsampled, y_downsampled, random_state=12345)\n",
    "    \n",
    "    return X_downsampled, y_downsampled\n",
    "\n",
    "X_downsampled, y_downsampled = downsampling(X_train, y_train, 1/4)\n",
    "model = RandomForestClassifier(random_state=12345)\n",
    "model.fit(X_downsampled, y_downsampled)\n",
    "predictions = model.predict(X_valid)\n",
    "print(\"F1_Score: {: >5.3f}  |  Fractions : {: >5.3f}\".format(f1_score(y_valid, predictions), 1/4))"
   ]
  },
  {
   "cell_type": "markdown",
   "metadata": {},
   "source": [
    "не совсем понял в чем ошибка :("
   ]
  },
  {
   "cell_type": "markdown",
   "metadata": {},
   "source": [
    "## Тестирование модели"
   ]
  },
  {
   "cell_type": "code",
   "execution_count": 21,
   "metadata": {},
   "outputs": [
    {
     "name": "stdout",
     "output_type": "stream",
     "text": [
      "Accuracy is: 0.8445\n",
      "F1_Score is: 0.6230303030303032\n"
     ]
    }
   ],
   "source": [
    "# Испробуем нашу модель на тестовой выборке с соответствующими параметрами\n",
    "model = RandomForestClassifier(n_estimators = 51, max_depth=11, class_weight='balanced', random_state=12345)\n",
    "model.fit(X_train, y_train)\n",
    "predicted_valid = model.predict(X_test)\n",
    "\n",
    "accuracy_valid = accuracy_score(predicted_valid, y_test)\n",
    "print('Accuracy is:', accuracy_valid)\n",
    "print('F1_Score is:', f1_score(y_test, predicted_valid))"
   ]
  },
  {
   "cell_type": "code",
   "execution_count": 22,
   "metadata": {},
   "outputs": [
    {
     "data": {
      "text/plain": [
       "0.8514160501817698"
      ]
     },
     "execution_count": 22,
     "metadata": {},
     "output_type": "execute_result"
    }
   ],
   "source": [
    "roc_auc_score(y_test, model.predict_proba(X_test)[:, 1])"
   ]
  },
  {
   "cell_type": "markdown",
   "metadata": {},
   "source": [
    "Подготовили датасет для прогнозирования оттока клиентов\n",
    "\n",
    "Использовали две модели : RandomForestClassifier и LogisticRegression, на начальном этапе LogisticRegression показал наихудшие результаты, поэтому мы выбрали RandomForestClassifier для дальнейшей работы.\n",
    "\n",
    "Попробовали увеличить и уменьшить выборки для увеличения f1_score, но наибольшее, что мы получили это f1_score : 0.56.\n",
    "\n",
    "Требуемое задание выполнили, но применив метод подбора количества деревьев и глубины леса через цикл мы нашли наилучшие параметры для Случайного Леса и получили F1_score : 0.62\n",
    "\n",
    "получили roc auc score : 85, что значительно больше случайного порога в 0.5. Наша модель предсказывает достаточно хорошо."
   ]
  },
  {
   "cell_type": "code",
   "execution_count": 26,
   "metadata": {},
   "outputs": [
    {
     "data": {
      "image/png": "[encoded data removed]",
      "text/plain": [
       "<Figure size 1152x1008 with 1 Axes>"
      ]
     },
     "metadata": {
      "needs_background": "light"
     },
     "output_type": "display_data"
    }
   ],
   "source": [
    "forest_imp = pd.Series(model.feature_importances_,\n",
    "                        X_test.columns).sort_values(ascending=False)\n",
    "\n",
    "fig, ax = plt.subplots(figsize=(16,14))\n",
    "forest_imp.plot.bar(ax=ax)\n",
    "ax.set_title(\"Важность признаков\")\n",
    "ax.set_ylabel('Важность')\n",
    "fig.tight_layout()"
   ]
  },
  {
   "cell_type": "markdown",
   "metadata": {},
   "source": [
    "## Чек-лист готовности проекта"
   ]
  },
  {
   "cell_type": "markdown",
   "metadata": {},
   "source": [
    "Поставьте 'x' в выполненных пунктах. Далее нажмите Shift+Enter."
   ]
  },
  {
   "cell_type": "markdown",
   "metadata": {},
   "source": [
    "- [x]  Jupyter Notebook открыт\n",
    "- [x]  Весь код выполняется без ошибок\n",
    "- [x]  Ячейки с кодом расположены в порядке исполнения\n",
    "- [x]  Выполнен шаг 1: данные подготовлены\n",
    "- [x]  Выполнен шаг 2: задача исследована\n",
    "    - [x]  Исследован баланс классов\n",
    "    - [x]  Изучены модели без учёта дисбаланса\n",
    "    - [x]  Написаны выводы по результатам исследования\n",
    "- [x]  Выполнен шаг 3: учтён дисбаланс\n",
    "    - [x]  Применено несколько способов борьбы с дисбалансом\n",
    "    - [x]  Написаны выводы по результатам исследования\n",
    "- [x]  Выполнен шаг 4: проведено тестирование\n",
    "- [x]  Удалось достичь *F1*-меры не менее 0.59\n",
    "- [x]  Исследована метрика *AUC-ROC*"
   ]
  }
 ],
 "metadata": {
  "ExecuteTimeLog": [
   {
    "duration": 476,
    "start_time": "2022-07-23T17:24:13.053Z"
   },
   {
    "duration": 85,
    "start_time": "2022-07-23T17:24:40.981Z"
   },
   {
    "duration": 26,
    "start_time": "2022-07-23T17:24:52.540Z"
   },
   {
    "duration": 17,
    "start_time": "2022-07-23T17:25:12.112Z"
   },
   {
    "duration": 11,
    "start_time": "2022-07-23T17:25:32.655Z"
   },
   {
    "duration": 29,
    "start_time": "2022-07-23T17:28:49.471Z"
   },
   {
    "duration": 80,
    "start_time": "2022-07-23T17:29:55.303Z"
   },
   {
    "duration": 10,
    "start_time": "2022-07-23T17:30:20.379Z"
   },
   {
    "duration": 12,
    "start_time": "2022-07-23T17:30:26.546Z"
   },
   {
    "duration": 16,
    "start_time": "2022-07-23T17:30:59.196Z"
   },
   {
    "duration": 12,
    "start_time": "2022-07-23T17:31:19.852Z"
   },
   {
    "duration": 10,
    "start_time": "2022-07-23T17:34:07.409Z"
   },
   {
    "duration": 8,
    "start_time": "2022-07-23T17:34:19.196Z"
   },
   {
    "duration": 17,
    "start_time": "2022-07-23T17:34:46.520Z"
   },
   {
    "duration": 18,
    "start_time": "2022-07-23T17:34:54.852Z"
   },
   {
    "duration": 9,
    "start_time": "2022-07-23T17:35:40.472Z"
   },
   {
    "duration": 8,
    "start_time": "2022-07-23T17:36:13.153Z"
   },
   {
    "duration": 8,
    "start_time": "2022-07-23T17:51:26.391Z"
   },
   {
    "duration": 12,
    "start_time": "2022-07-23T20:04:11.006Z"
   },
   {
    "duration": 17,
    "start_time": "2022-07-23T20:04:20.253Z"
   },
   {
    "duration": 6,
    "start_time": "2022-07-23T20:04:41.094Z"
   },
   {
    "duration": 16,
    "start_time": "2022-07-23T20:04:50.255Z"
   },
   {
    "duration": 437,
    "start_time": "2022-07-23T20:05:03.157Z"
   },
   {
    "duration": 71,
    "start_time": "2022-07-23T20:05:03.597Z"
   },
   {
    "duration": 23,
    "start_time": "2022-07-23T20:05:03.669Z"
   },
   {
    "duration": 16,
    "start_time": "2022-07-23T20:05:03.694Z"
   },
   {
    "duration": 7,
    "start_time": "2022-07-23T20:05:03.713Z"
   },
   {
    "duration": 25,
    "start_time": "2022-07-23T20:05:03.722Z"
   },
   {
    "duration": 7,
    "start_time": "2022-07-23T20:05:03.749Z"
   },
   {
    "duration": 13,
    "start_time": "2022-07-23T20:05:03.758Z"
   },
   {
    "duration": 362,
    "start_time": "2022-07-31T16:09:05.313Z"
   },
   {
    "duration": 81,
    "start_time": "2022-07-31T16:09:05.676Z"
   },
   {
    "duration": 21,
    "start_time": "2022-07-31T16:09:05.759Z"
   },
   {
    "duration": 14,
    "start_time": "2022-07-31T16:09:05.782Z"
   },
   {
    "duration": 6,
    "start_time": "2022-07-31T16:09:05.798Z"
   },
   {
    "duration": 9,
    "start_time": "2022-07-31T16:09:05.806Z"
   },
   {
    "duration": 8,
    "start_time": "2022-07-31T16:09:05.817Z"
   },
   {
    "duration": 45,
    "start_time": "2022-07-31T16:09:05.827Z"
   },
   {
    "duration": 1682,
    "start_time": "2022-08-13T14:21:48.937Z"
   },
   {
    "duration": 0,
    "start_time": "2022-08-13T14:21:50.621Z"
   },
   {
    "duration": 0,
    "start_time": "2022-08-13T14:21:50.622Z"
   },
   {
    "duration": 0,
    "start_time": "2022-08-13T14:21:50.624Z"
   },
   {
    "duration": 0,
    "start_time": "2022-08-13T14:21:50.625Z"
   },
   {
    "duration": 0,
    "start_time": "2022-08-13T14:21:50.626Z"
   },
   {
    "duration": 0,
    "start_time": "2022-08-13T14:21:50.628Z"
   },
   {
    "duration": 0,
    "start_time": "2022-08-13T14:21:50.629Z"
   },
   {
    "duration": 0,
    "start_time": "2022-08-13T14:21:50.631Z"
   },
   {
    "duration": 4,
    "start_time": "2022-08-13T14:22:07.412Z"
   },
   {
    "duration": 179,
    "start_time": "2022-08-13T14:22:11.537Z"
   },
   {
    "duration": 15,
    "start_time": "2022-08-13T14:22:12.873Z"
   },
   {
    "duration": 13,
    "start_time": "2022-08-13T14:22:15.541Z"
   },
   {
    "duration": 7,
    "start_time": "2022-08-13T14:22:17.591Z"
   },
   {
    "duration": 7,
    "start_time": "2022-08-13T14:22:18.784Z"
   },
   {
    "duration": 8,
    "start_time": "2022-08-13T14:22:20.400Z"
   },
   {
    "duration": 16,
    "start_time": "2022-08-13T14:22:21.869Z"
   },
   {
    "duration": 19,
    "start_time": "2022-08-13T14:22:23.653Z"
   },
   {
    "duration": 480,
    "start_time": "2022-08-13T14:22:56.446Z"
   },
   {
    "duration": 432,
    "start_time": "2022-08-13T14:23:08.965Z"
   },
   {
    "duration": 9,
    "start_time": "2022-08-13T14:24:08.586Z"
   },
   {
    "duration": 30,
    "start_time": "2022-08-13T14:25:06.452Z"
   },
   {
    "duration": 17,
    "start_time": "2022-08-13T14:25:54.290Z"
   },
   {
    "duration": 19,
    "start_time": "2022-08-13T14:26:07.580Z"
   },
   {
    "duration": 18,
    "start_time": "2022-08-13T14:26:17.066Z"
   },
   {
    "duration": 32,
    "start_time": "2022-08-13T14:26:29.145Z"
   },
   {
    "duration": 15,
    "start_time": "2022-08-13T14:26:38.230Z"
   },
   {
    "duration": 11,
    "start_time": "2022-08-13T14:29:31.449Z"
   },
   {
    "duration": 574,
    "start_time": "2022-08-13T14:29:59.042Z"
   },
   {
    "duration": 34,
    "start_time": "2022-08-13T14:30:22.327Z"
   },
   {
    "duration": 1594,
    "start_time": "2022-08-14T12:52:36.947Z"
   },
   {
    "duration": 95,
    "start_time": "2022-08-14T12:52:38.543Z"
   },
   {
    "duration": 22,
    "start_time": "2022-08-14T12:52:38.640Z"
   },
   {
    "duration": 28,
    "start_time": "2022-08-14T12:52:38.664Z"
   },
   {
    "duration": 8,
    "start_time": "2022-08-14T12:52:38.695Z"
   },
   {
    "duration": 11,
    "start_time": "2022-08-14T12:52:38.705Z"
   },
   {
    "duration": 13,
    "start_time": "2022-08-14T12:52:38.718Z"
   },
   {
    "duration": 20,
    "start_time": "2022-08-14T12:52:38.733Z"
   },
   {
    "duration": 171,
    "start_time": "2022-08-14T12:52:38.755Z"
   },
   {
    "duration": 0,
    "start_time": "2022-08-14T12:52:38.928Z"
   },
   {
    "duration": 0,
    "start_time": "2022-08-14T12:52:38.930Z"
   },
   {
    "duration": 0,
    "start_time": "2022-08-14T12:52:38.933Z"
   },
   {
    "duration": 0,
    "start_time": "2022-08-14T12:52:38.935Z"
   },
   {
    "duration": 0,
    "start_time": "2022-08-14T12:52:38.936Z"
   },
   {
    "duration": 0,
    "start_time": "2022-08-14T12:52:38.938Z"
   },
   {
    "duration": 0,
    "start_time": "2022-08-14T12:52:38.939Z"
   },
   {
    "duration": 14,
    "start_time": "2022-08-14T12:52:44.638Z"
   },
   {
    "duration": 1498,
    "start_time": "2022-08-14T12:53:09.325Z"
   },
   {
    "duration": 43,
    "start_time": "2022-08-14T12:53:10.825Z"
   },
   {
    "duration": 19,
    "start_time": "2022-08-14T12:53:10.869Z"
   },
   {
    "duration": 15,
    "start_time": "2022-08-14T12:53:10.891Z"
   },
   {
    "duration": 7,
    "start_time": "2022-08-14T12:53:10.908Z"
   },
   {
    "duration": 11,
    "start_time": "2022-08-14T12:53:10.917Z"
   },
   {
    "duration": 12,
    "start_time": "2022-08-14T12:53:10.930Z"
   },
   {
    "duration": 44,
    "start_time": "2022-08-14T12:53:10.944Z"
   },
   {
    "duration": 126,
    "start_time": "2022-08-14T12:53:10.990Z"
   },
   {
    "duration": 1,
    "start_time": "2022-08-14T12:53:11.118Z"
   },
   {
    "duration": 0,
    "start_time": "2022-08-14T12:53:11.120Z"
   },
   {
    "duration": 0,
    "start_time": "2022-08-14T12:53:11.121Z"
   },
   {
    "duration": 0,
    "start_time": "2022-08-14T12:53:11.122Z"
   },
   {
    "duration": 1,
    "start_time": "2022-08-14T12:53:11.123Z"
   },
   {
    "duration": 0,
    "start_time": "2022-08-14T12:53:11.124Z"
   },
   {
    "duration": 0,
    "start_time": "2022-08-14T12:53:11.126Z"
   },
   {
    "duration": 0,
    "start_time": "2022-08-14T12:53:11.128Z"
   },
   {
    "duration": 14,
    "start_time": "2022-08-14T12:53:35.557Z"
   },
   {
    "duration": 559,
    "start_time": "2022-08-14T12:54:09.763Z"
   },
   {
    "duration": 40,
    "start_time": "2022-08-14T12:54:12.842Z"
   },
   {
    "duration": 39,
    "start_time": "2022-08-14T12:54:16.015Z"
   },
   {
    "duration": 29,
    "start_time": "2022-08-14T12:54:17.144Z"
   },
   {
    "duration": 17,
    "start_time": "2022-08-14T12:54:18.117Z"
   },
   {
    "duration": 768,
    "start_time": "2022-08-14T12:54:21.089Z"
   },
   {
    "duration": 114,
    "start_time": "2022-08-14T12:54:22.779Z"
   },
   {
    "duration": 2935,
    "start_time": "2022-08-14T12:54:25.396Z"
   },
   {
    "duration": 10627,
    "start_time": "2022-08-14T12:57:28.502Z"
   },
   {
    "duration": 3712,
    "start_time": "2022-08-14T12:58:21.115Z"
   },
   {
    "duration": 374,
    "start_time": "2022-08-14T12:59:25.111Z"
   },
   {
    "duration": 48,
    "start_time": "2022-08-14T12:59:39.957Z"
   },
   {
    "duration": 35,
    "start_time": "2022-08-14T13:08:38.784Z"
   },
   {
    "duration": 1505,
    "start_time": "2022-08-14T13:09:40.534Z"
   },
   {
    "duration": 41,
    "start_time": "2022-08-14T13:09:42.041Z"
   },
   {
    "duration": 22,
    "start_time": "2022-08-14T13:09:42.087Z"
   },
   {
    "duration": 16,
    "start_time": "2022-08-14T13:09:42.111Z"
   },
   {
    "duration": 12,
    "start_time": "2022-08-14T13:09:42.129Z"
   },
   {
    "duration": 18,
    "start_time": "2022-08-14T13:09:42.143Z"
   },
   {
    "duration": 11,
    "start_time": "2022-08-14T13:09:42.162Z"
   },
   {
    "duration": 29,
    "start_time": "2022-08-14T13:09:42.175Z"
   },
   {
    "duration": 18,
    "start_time": "2022-08-14T13:09:42.208Z"
   },
   {
    "duration": 537,
    "start_time": "2022-08-14T13:09:42.228Z"
   },
   {
    "duration": 31,
    "start_time": "2022-08-14T13:09:42.766Z"
   },
   {
    "duration": 33,
    "start_time": "2022-08-14T13:09:42.800Z"
   },
   {
    "duration": 16,
    "start_time": "2022-08-14T13:09:42.834Z"
   },
   {
    "duration": 9,
    "start_time": "2022-08-14T13:09:42.851Z"
   },
   {
    "duration": 756,
    "start_time": "2022-08-14T13:09:42.861Z"
   },
   {
    "duration": 75,
    "start_time": "2022-08-14T13:09:43.619Z"
   },
   {
    "duration": 2455,
    "start_time": "2022-08-14T13:09:43.697Z"
   },
   {
    "duration": 9251,
    "start_time": "2022-08-14T13:09:46.153Z"
   },
   {
    "duration": 3576,
    "start_time": "2022-08-14T13:09:55.407Z"
   },
   {
    "duration": 299,
    "start_time": "2022-08-14T13:09:58.984Z"
   },
   {
    "duration": 38,
    "start_time": "2022-08-14T13:09:59.286Z"
   },
   {
    "duration": 5923,
    "start_time": "2022-08-15T10:56:00.302Z"
   },
   {
    "duration": 89,
    "start_time": "2022-08-15T10:56:06.227Z"
   },
   {
    "duration": 19,
    "start_time": "2022-08-15T10:56:06.318Z"
   },
   {
    "duration": 14,
    "start_time": "2022-08-15T10:56:06.338Z"
   },
   {
    "duration": 10,
    "start_time": "2022-08-15T10:56:06.354Z"
   },
   {
    "duration": 18,
    "start_time": "2022-08-15T10:56:06.366Z"
   },
   {
    "duration": 8,
    "start_time": "2022-08-15T10:56:06.386Z"
   },
   {
    "duration": 14,
    "start_time": "2022-08-15T10:56:06.395Z"
   },
   {
    "duration": 11,
    "start_time": "2022-08-15T10:56:06.411Z"
   },
   {
    "duration": 495,
    "start_time": "2022-08-15T10:56:06.424Z"
   },
   {
    "duration": 131,
    "start_time": "2022-08-15T10:56:17.293Z"
   },
   {
    "duration": 114,
    "start_time": "2022-08-15T10:56:26.120Z"
   },
   {
    "duration": 7,
    "start_time": "2022-08-15T10:56:30.677Z"
   },
   {
    "duration": 29,
    "start_time": "2022-08-15T10:56:32.139Z"
   },
   {
    "duration": 164,
    "start_time": "2022-08-15T10:56:35.518Z"
   },
   {
    "duration": 1543,
    "start_time": "2022-09-06T16:13:37.546Z"
   },
   {
    "duration": 155,
    "start_time": "2022-09-06T16:13:39.091Z"
   },
   {
    "duration": 16,
    "start_time": "2022-09-06T16:13:39.248Z"
   },
   {
    "duration": 15,
    "start_time": "2022-09-06T16:13:39.266Z"
   },
   {
    "duration": 6,
    "start_time": "2022-09-06T16:13:39.283Z"
   },
   {
    "duration": 7,
    "start_time": "2022-09-06T16:13:39.290Z"
   },
   {
    "duration": 10,
    "start_time": "2022-09-06T16:13:39.298Z"
   },
   {
    "duration": 11,
    "start_time": "2022-09-06T16:13:39.310Z"
   },
   {
    "duration": 10,
    "start_time": "2022-09-06T16:13:39.323Z"
   },
   {
    "duration": 529,
    "start_time": "2022-09-06T16:13:39.335Z"
   },
   {
    "duration": 27,
    "start_time": "2022-09-06T16:13:39.866Z"
   },
   {
    "duration": 24,
    "start_time": "2022-09-06T16:13:39.905Z"
   },
   {
    "duration": 17,
    "start_time": "2022-09-06T16:13:39.931Z"
   },
   {
    "duration": 10,
    "start_time": "2022-09-06T16:13:39.949Z"
   },
   {
    "duration": 660,
    "start_time": "2022-09-06T16:13:39.960Z"
   },
   {
    "duration": 90,
    "start_time": "2022-09-06T16:13:40.622Z"
   },
   {
    "duration": 2090,
    "start_time": "2022-09-06T16:13:40.716Z"
   },
   {
    "duration": 7976,
    "start_time": "2022-09-06T16:13:42.808Z"
   },
   {
    "duration": 2897,
    "start_time": "2022-09-06T16:13:50.785Z"
   },
   {
    "duration": 284,
    "start_time": "2022-09-06T16:13:53.683Z"
   },
   {
    "duration": 29,
    "start_time": "2022-09-06T16:13:53.969Z"
   },
   {
    "duration": 1368,
    "start_time": "2022-09-06T16:30:13.735Z"
   },
   {
    "duration": 40,
    "start_time": "2022-09-06T16:30:15.104Z"
   },
   {
    "duration": 23,
    "start_time": "2022-09-06T16:30:15.146Z"
   },
   {
    "duration": 17,
    "start_time": "2022-09-06T16:30:15.171Z"
   },
   {
    "duration": 7,
    "start_time": "2022-09-06T16:30:15.189Z"
   },
   {
    "duration": 11,
    "start_time": "2022-09-06T16:30:15.197Z"
   },
   {
    "duration": 9,
    "start_time": "2022-09-06T16:30:15.209Z"
   },
   {
    "duration": 19,
    "start_time": "2022-09-06T16:30:15.220Z"
   },
   {
    "duration": 12,
    "start_time": "2022-09-06T16:30:15.240Z"
   },
   {
    "duration": 497,
    "start_time": "2022-09-06T16:30:15.255Z"
   },
   {
    "duration": 25,
    "start_time": "2022-09-06T16:30:15.754Z"
   },
   {
    "duration": 42,
    "start_time": "2022-09-06T16:30:15.780Z"
   },
   {
    "duration": 21,
    "start_time": "2022-09-06T16:30:15.824Z"
   },
   {
    "duration": 11,
    "start_time": "2022-09-06T16:30:15.847Z"
   },
   {
    "duration": 746,
    "start_time": "2022-09-06T16:30:15.860Z"
   },
   {
    "duration": 91,
    "start_time": "2022-09-06T16:30:16.608Z"
   },
   {
    "duration": 0,
    "start_time": "2022-09-06T16:30:16.700Z"
   },
   {
    "duration": 0,
    "start_time": "2022-09-06T16:30:16.701Z"
   },
   {
    "duration": 1,
    "start_time": "2022-09-06T16:30:16.702Z"
   },
   {
    "duration": 0,
    "start_time": "2022-09-06T16:30:16.704Z"
   },
   {
    "duration": 0,
    "start_time": "2022-09-06T16:30:16.705Z"
   },
   {
    "duration": 1425,
    "start_time": "2022-09-06T16:30:43.004Z"
   },
   {
    "duration": 39,
    "start_time": "2022-09-06T16:30:44.431Z"
   },
   {
    "duration": 17,
    "start_time": "2022-09-06T16:30:44.472Z"
   },
   {
    "duration": 34,
    "start_time": "2022-09-06T16:30:44.491Z"
   },
   {
    "duration": 5,
    "start_time": "2022-09-06T16:30:44.527Z"
   },
   {
    "duration": 8,
    "start_time": "2022-09-06T16:30:44.534Z"
   },
   {
    "duration": 9,
    "start_time": "2022-09-06T16:30:44.544Z"
   },
   {
    "duration": 13,
    "start_time": "2022-09-06T16:30:44.555Z"
   },
   {
    "duration": 19,
    "start_time": "2022-09-06T16:30:44.569Z"
   },
   {
    "duration": 455,
    "start_time": "2022-09-06T16:30:44.606Z"
   },
   {
    "duration": 44,
    "start_time": "2022-09-06T16:30:45.063Z"
   },
   {
    "duration": 32,
    "start_time": "2022-09-06T16:30:45.109Z"
   },
   {
    "duration": 23,
    "start_time": "2022-09-06T16:30:45.143Z"
   },
   {
    "duration": 14,
    "start_time": "2022-09-06T16:30:45.168Z"
   },
   {
    "duration": 612,
    "start_time": "2022-09-06T16:30:45.184Z"
   },
   {
    "duration": 107,
    "start_time": "2022-09-06T16:30:45.798Z"
   },
   {
    "duration": 2277,
    "start_time": "2022-09-06T16:30:45.907Z"
   },
   {
    "duration": 8374,
    "start_time": "2022-09-06T16:30:48.185Z"
   },
   {
    "duration": 3139,
    "start_time": "2022-09-06T16:30:56.561Z"
   },
   {
    "duration": 290,
    "start_time": "2022-09-06T16:30:59.701Z"
   },
   {
    "duration": 35,
    "start_time": "2022-09-06T16:30:59.993Z"
   },
   {
    "duration": 2,
    "start_time": "2022-09-06T17:25:22.297Z"
   },
   {
    "duration": 1802,
    "start_time": "2022-09-11T07:07:02.769Z"
   },
   {
    "duration": 168,
    "start_time": "2022-09-11T07:07:04.574Z"
   },
   {
    "duration": 19,
    "start_time": "2022-09-11T07:07:04.744Z"
   },
   {
    "duration": 23,
    "start_time": "2022-09-11T07:07:04.765Z"
   },
   {
    "duration": 30,
    "start_time": "2022-09-11T07:07:04.790Z"
   },
   {
    "duration": 9,
    "start_time": "2022-09-11T07:07:04.822Z"
   },
   {
    "duration": 19,
    "start_time": "2022-09-11T07:07:04.833Z"
   },
   {
    "duration": 14,
    "start_time": "2022-09-11T07:07:04.854Z"
   },
   {
    "duration": 15,
    "start_time": "2022-09-11T07:07:04.870Z"
   },
   {
    "duration": 481,
    "start_time": "2022-09-11T07:07:04.887Z"
   },
   {
    "duration": 44,
    "start_time": "2022-09-11T07:07:05.369Z"
   },
   {
    "duration": 26,
    "start_time": "2022-09-11T07:07:05.415Z"
   },
   {
    "duration": 18,
    "start_time": "2022-09-11T07:07:05.443Z"
   },
   {
    "duration": 41,
    "start_time": "2022-09-11T07:07:05.464Z"
   },
   {
    "duration": 750,
    "start_time": "2022-09-11T07:07:05.506Z"
   },
   {
    "duration": 43,
    "start_time": "2022-09-11T07:07:06.258Z"
   },
   {
    "duration": 3,
    "start_time": "2022-09-11T07:07:06.303Z"
   },
   {
    "duration": 2567,
    "start_time": "2022-09-11T07:07:06.309Z"
   },
   {
    "duration": 1166,
    "start_time": "2022-09-11T07:07:08.878Z"
   },
   {
    "duration": 0,
    "start_time": "2022-09-11T07:07:10.046Z"
   },
   {
    "duration": 0,
    "start_time": "2022-09-11T07:07:10.048Z"
   },
   {
    "duration": 0,
    "start_time": "2022-09-11T07:07:10.049Z"
   },
   {
    "duration": 1028,
    "start_time": "2022-09-11T07:08:04.454Z"
   },
   {
    "duration": 390,
    "start_time": "2022-09-11T07:08:44.223Z"
   },
   {
    "duration": 73,
    "start_time": "2022-09-11T07:15:49.425Z"
   },
   {
    "duration": 75,
    "start_time": "2022-09-11T07:17:30.754Z"
   },
   {
    "duration": 75,
    "start_time": "2022-09-11T07:17:39.229Z"
   },
   {
    "duration": 89,
    "start_time": "2022-09-11T07:17:43.477Z"
   },
   {
    "duration": 11,
    "start_time": "2022-09-11T07:18:55.302Z"
   },
   {
    "duration": 10,
    "start_time": "2022-09-11T07:19:28.439Z"
   },
   {
    "duration": 1496,
    "start_time": "2022-09-11T07:19:41.980Z"
   },
   {
    "duration": 42,
    "start_time": "2022-09-11T07:19:43.478Z"
   },
   {
    "duration": 17,
    "start_time": "2022-09-11T07:19:43.521Z"
   },
   {
    "duration": 16,
    "start_time": "2022-09-11T07:19:43.540Z"
   },
   {
    "duration": 6,
    "start_time": "2022-09-11T07:19:43.559Z"
   },
   {
    "duration": 9,
    "start_time": "2022-09-11T07:19:43.567Z"
   },
   {
    "duration": 22,
    "start_time": "2022-09-11T07:19:43.578Z"
   },
   {
    "duration": 15,
    "start_time": "2022-09-11T07:19:43.602Z"
   },
   {
    "duration": 13,
    "start_time": "2022-09-11T07:19:43.619Z"
   },
   {
    "duration": 514,
    "start_time": "2022-09-11T07:19:43.634Z"
   },
   {
    "duration": 26,
    "start_time": "2022-09-11T07:19:44.149Z"
   },
   {
    "duration": 27,
    "start_time": "2022-09-11T07:19:44.191Z"
   },
   {
    "duration": 19,
    "start_time": "2022-09-11T07:19:44.220Z"
   },
   {
    "duration": 11,
    "start_time": "2022-09-11T07:19:44.242Z"
   },
   {
    "duration": 697,
    "start_time": "2022-09-11T07:19:44.254Z"
   },
   {
    "duration": 46,
    "start_time": "2022-09-11T07:19:44.953Z"
   },
   {
    "duration": 93,
    "start_time": "2022-09-11T07:19:45.001Z"
   },
   {
    "duration": 2438,
    "start_time": "2022-09-11T07:19:45.097Z"
   },
   {
    "duration": 972,
    "start_time": "2022-09-11T07:19:47.536Z"
   },
   {
    "duration": 371,
    "start_time": "2022-09-11T07:19:48.510Z"
   },
   {
    "duration": 302,
    "start_time": "2022-09-11T07:19:48.883Z"
   },
   {
    "duration": 31,
    "start_time": "2022-09-11T07:19:49.187Z"
   },
   {
    "duration": 307,
    "start_time": "2022-09-11T07:19:49.220Z"
   },
   {
    "duration": 470,
    "start_time": "2022-09-11T07:20:16.450Z"
   },
   {
    "duration": 50,
    "start_time": "2022-09-11T19:47:17.490Z"
   },
   {
    "duration": 1604,
    "start_time": "2022-09-11T19:47:23.983Z"
   },
   {
    "duration": 78,
    "start_time": "2022-09-11T19:47:25.589Z"
   },
   {
    "duration": 18,
    "start_time": "2022-09-11T19:47:25.668Z"
   },
   {
    "duration": 16,
    "start_time": "2022-09-11T19:47:25.688Z"
   },
   {
    "duration": 6,
    "start_time": "2022-09-11T19:47:25.706Z"
   },
   {
    "duration": 15,
    "start_time": "2022-09-11T19:47:25.713Z"
   },
   {
    "duration": 20,
    "start_time": "2022-09-11T19:47:25.730Z"
   },
   {
    "duration": 13,
    "start_time": "2022-09-11T19:47:25.752Z"
   },
   {
    "duration": 14,
    "start_time": "2022-09-11T19:47:25.767Z"
   },
   {
    "duration": 504,
    "start_time": "2022-09-11T19:47:25.784Z"
   },
   {
    "duration": 36,
    "start_time": "2022-09-11T19:47:26.289Z"
   },
   {
    "duration": 27,
    "start_time": "2022-09-11T19:47:26.327Z"
   },
   {
    "duration": 19,
    "start_time": "2022-09-11T19:47:26.355Z"
   },
   {
    "duration": 11,
    "start_time": "2022-09-11T19:47:26.376Z"
   },
   {
    "duration": 710,
    "start_time": "2022-09-11T19:47:26.389Z"
   },
   {
    "duration": 40,
    "start_time": "2022-09-11T19:47:27.102Z"
   },
   {
    "duration": 3,
    "start_time": "2022-09-11T19:47:27.221Z"
   },
   {
    "duration": 2447,
    "start_time": "2022-09-11T19:47:27.226Z"
   },
   {
    "duration": 986,
    "start_time": "2022-09-11T19:47:29.675Z"
   },
   {
    "duration": 396,
    "start_time": "2022-09-11T19:47:30.663Z"
   },
   {
    "duration": 304,
    "start_time": "2022-09-11T19:47:31.061Z"
   },
   {
    "duration": 30,
    "start_time": "2022-09-11T19:47:31.367Z"
   },
   {
    "duration": 517,
    "start_time": "2022-09-11T19:47:31.399Z"
   },
   {
    "duration": 1646,
    "start_time": "2022-09-12T15:03:48.673Z"
   },
   {
    "duration": 167,
    "start_time": "2022-09-12T15:03:50.321Z"
   },
   {
    "duration": 16,
    "start_time": "2022-09-12T15:03:50.490Z"
   },
   {
    "duration": 14,
    "start_time": "2022-09-12T15:03:50.508Z"
   },
   {
    "duration": 6,
    "start_time": "2022-09-12T15:03:50.523Z"
   },
   {
    "duration": 8,
    "start_time": "2022-09-12T15:03:50.531Z"
   },
   {
    "duration": 10,
    "start_time": "2022-09-12T15:03:50.540Z"
   },
   {
    "duration": 12,
    "start_time": "2022-09-12T15:03:50.551Z"
   },
   {
    "duration": 11,
    "start_time": "2022-09-12T15:03:50.596Z"
   },
   {
    "duration": 469,
    "start_time": "2022-09-12T15:03:50.610Z"
   },
   {
    "duration": 25,
    "start_time": "2022-09-12T15:03:51.095Z"
   },
   {
    "duration": 24,
    "start_time": "2022-09-12T15:03:51.122Z"
   },
   {
    "duration": 19,
    "start_time": "2022-09-12T15:03:51.148Z"
   },
   {
    "duration": 36,
    "start_time": "2022-09-12T15:03:51.169Z"
   },
   {
    "duration": 708,
    "start_time": "2022-09-12T15:03:51.206Z"
   },
   {
    "duration": 84,
    "start_time": "2022-09-12T15:03:51.915Z"
   },
   {
    "duration": 94,
    "start_time": "2022-09-12T15:03:52.001Z"
   },
   {
    "duration": 2345,
    "start_time": "2022-09-12T15:03:52.098Z"
   },
   {
    "duration": 913,
    "start_time": "2022-09-12T15:03:54.445Z"
   },
   {
    "duration": 373,
    "start_time": "2022-09-12T15:03:55.360Z"
   },
   {
    "duration": 289,
    "start_time": "2022-09-12T15:03:55.735Z"
   },
   {
    "duration": 30,
    "start_time": "2022-09-12T15:03:56.026Z"
   },
   {
    "duration": 453,
    "start_time": "2022-09-12T15:03:56.058Z"
   },
   {
    "duration": 81,
    "start_time": "2022-09-12T15:09:04.052Z"
   },
   {
    "duration": 443,
    "start_time": "2022-09-12T15:09:09.429Z"
   },
   {
    "duration": 531,
    "start_time": "2022-09-12T15:09:27.437Z"
   }
  ],
  "kernelspec": {
   "display_name": "Python 3 (ipykernel)",
   "language": "python",
   "name": "python3"
  },
  "language_info": {
   "codemirror_mode": {
    "name": "ipython",
    "version": 3
   },
   "file_extension": ".py",
   "mimetype": "text/x-python",
   "name": "python",
   "nbconvert_exporter": "python",
   "pygments_lexer": "ipython3",
   "version": "3.9.5"
  },
  "toc": {
   "base_numbering": 1,
   "nav_menu": {},
   "number_sections": true,
   "sideBar": true,
   "skip_h1_title": true,
   "title_cell": "Содержание",
   "title_sidebar": "Contents",
   "toc_cell": true,
   "toc_position": {},
   "toc_section_display": true,
   "toc_window_display": true
  }
 },
 "nbformat": 4,
 "nbformat_minor": 2
}
