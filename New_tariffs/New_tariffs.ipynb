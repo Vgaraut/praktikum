{
 "cells": [
  {
   "cell_type": "markdown",
   "metadata": {},
   "source": [
    "# Определение перспективного тарифа для телеком-компании\n",
    "  **Цель Исследования**"
   ]
  },
  {
   "cell_type": "markdown",
   "metadata": {},
   "source": [
    "**Необходимо сделать предварительный анализ тарифов на небольшой выборке клиентов. В нашем распоряжении данные 500 пользователей: кто они, откуда, каким тарифом пользуются, сколько звонков и сообщений каждый отправил за 2018 год. Нужно проанализировать поведение клиентов и сделать вывод — какой тариф лучше.**\n",
    "\n",
    "Оператор всегда округляет секунды до минут, а мегабайты — до гигабайт. Каждый звонок округляется отдельно: даже если он длился всего 1 секунду, будет засчитан как 1 минута.\n",
    "Для веб-трафика отдельные сессии не считаются. Вместо этого общая сумма за месяц округляется в бо́льшую сторону. Если абонент использует 1025 мегабайт в этом месяце, с него возьмут плату за 2 гигабайта. Примите, что неиспользованные за предыдущий месяц звонки, смс, интернет на следующий месяц не переносятся."
   ]
  },
  {
   "cell_type": "markdown",
   "metadata": {},
   "source": [
    "## Импорт и исследование данных"
   ]
  },
  {
   "cell_type": "markdown",
   "metadata": {},
   "source": [
    "Импортируем датасеты, при исследовании и оценке важно помнить, что оператор всегда округляет секунды до минут, а мегабайты — до гигабайт. Каждый звонок округляется отдельно: даже если он длился всего 1 секунду, будет засчитан как 1 минута.\n",
    "Для веб-трафика отдельные сессии не считаются. Вместо этого общая сумма за месяц округляется в бо́льшую сторону. Если абонент использует 1025 мегабайт в этом месяце, с него возьмут плату за 2 гигабайта. Ннеиспользованные за предыдущий месяц звонки, смс, интернет на следующий месяц не переносятся."
   ]
  },
  {
   "cell_type": "code",
   "execution_count": 1,
   "metadata": {},
   "outputs": [],
   "source": [
    "from scipy import stats as st\n",
    "import numpy as np\n",
    "import pandas as pd\n",
    "from matplotlib import pyplot as plt\n",
    "import math"
   ]
  },
  {
   "cell_type": "code",
   "execution_count": 2,
   "metadata": {},
   "outputs": [],
   "source": [
    "font = {'family': 'serif',\n",
    "        'color':  'darkred',\n",
    "        'weight': 'normal',\n",
    "        'size': 16,\n",
    "        }"
   ]
  },
  {
   "cell_type": "code",
   "execution_count": 3,
   "metadata": {},
   "outputs": [],
   "source": [
    "df_calls = pd.read_csv('/datasets/calls.csv')\n",
    "df_internet = pd.read_csv('/datasets/internet.csv')\n",
    "df_messages = pd.read_csv('/datasets/messages.csv')\n",
    "df_tariffs = pd.read_csv('/datasets/tariffs.csv')\n",
    "df_users = pd.read_csv('/datasets/users.csv')"
   ]
  },
  {
   "cell_type": "code",
   "execution_count": 4,
   "metadata": {},
   "outputs": [
    {
     "name": "stdout",
     "output_type": "stream",
     "text": [
      "<class 'pandas.core.frame.DataFrame'>\n",
      "RangeIndex: 202607 entries, 0 to 202606\n",
      "Data columns (total 4 columns):\n",
      " #   Column     Non-Null Count   Dtype  \n",
      "---  ------     --------------   -----  \n",
      " 0   id         202607 non-null  object \n",
      " 1   call_date  202607 non-null  object \n",
      " 2   duration   202607 non-null  float64\n",
      " 3   user_id    202607 non-null  int64  \n",
      "dtypes: float64(1), int64(1), object(2)\n",
      "memory usage: 6.2+ MB\n"
     ]
    },
    {
     "data": {
      "text/html": [
       "<div>\n",
       "<style scoped>\n",
       "    .dataframe tbody tr th:only-of-type {\n",
       "        vertical-align: middle;\n",
       "    }\n",
       "\n",
       "    .dataframe tbody tr th {\n",
       "        vertical-align: top;\n",
       "    }\n",
       "\n",
       "    .dataframe thead th {\n",
       "        text-align: right;\n",
       "    }\n",
       "</style>\n",
       "<table border=\"1\" class=\"dataframe\">\n",
       "  <thead>\n",
       "    <tr style=\"text-align: right;\">\n",
       "      <th></th>\n",
       "      <th>id</th>\n",
       "      <th>call_date</th>\n",
       "      <th>duration</th>\n",
       "      <th>user_id</th>\n",
       "    </tr>\n",
       "  </thead>\n",
       "  <tbody>\n",
       "    <tr>\n",
       "      <th>0</th>\n",
       "      <td>1000_0</td>\n",
       "      <td>2018-07-25</td>\n",
       "      <td>0.00</td>\n",
       "      <td>1000</td>\n",
       "    </tr>\n",
       "    <tr>\n",
       "      <th>1</th>\n",
       "      <td>1000_1</td>\n",
       "      <td>2018-08-17</td>\n",
       "      <td>0.00</td>\n",
       "      <td>1000</td>\n",
       "    </tr>\n",
       "    <tr>\n",
       "      <th>2</th>\n",
       "      <td>1000_2</td>\n",
       "      <td>2018-06-11</td>\n",
       "      <td>2.85</td>\n",
       "      <td>1000</td>\n",
       "    </tr>\n",
       "    <tr>\n",
       "      <th>3</th>\n",
       "      <td>1000_3</td>\n",
       "      <td>2018-09-21</td>\n",
       "      <td>13.80</td>\n",
       "      <td>1000</td>\n",
       "    </tr>\n",
       "    <tr>\n",
       "      <th>4</th>\n",
       "      <td>1000_4</td>\n",
       "      <td>2018-12-15</td>\n",
       "      <td>5.18</td>\n",
       "      <td>1000</td>\n",
       "    </tr>\n",
       "    <tr>\n",
       "      <th>5</th>\n",
       "      <td>1000_5</td>\n",
       "      <td>2018-11-02</td>\n",
       "      <td>0.00</td>\n",
       "      <td>1000</td>\n",
       "    </tr>\n",
       "    <tr>\n",
       "      <th>6</th>\n",
       "      <td>1000_6</td>\n",
       "      <td>2018-10-18</td>\n",
       "      <td>0.00</td>\n",
       "      <td>1000</td>\n",
       "    </tr>\n",
       "    <tr>\n",
       "      <th>7</th>\n",
       "      <td>1000_7</td>\n",
       "      <td>2018-08-22</td>\n",
       "      <td>18.31</td>\n",
       "      <td>1000</td>\n",
       "    </tr>\n",
       "    <tr>\n",
       "      <th>8</th>\n",
       "      <td>1000_8</td>\n",
       "      <td>2018-09-15</td>\n",
       "      <td>18.44</td>\n",
       "      <td>1000</td>\n",
       "    </tr>\n",
       "    <tr>\n",
       "      <th>9</th>\n",
       "      <td>1000_9</td>\n",
       "      <td>2018-08-15</td>\n",
       "      <td>0.00</td>\n",
       "      <td>1000</td>\n",
       "    </tr>\n",
       "  </tbody>\n",
       "</table>\n",
       "</div>"
      ],
      "text/plain": [
       "       id   call_date  duration  user_id\n",
       "0  1000_0  2018-07-25      0.00     1000\n",
       "1  1000_1  2018-08-17      0.00     1000\n",
       "2  1000_2  2018-06-11      2.85     1000\n",
       "3  1000_3  2018-09-21     13.80     1000\n",
       "4  1000_4  2018-12-15      5.18     1000\n",
       "5  1000_5  2018-11-02      0.00     1000\n",
       "6  1000_6  2018-10-18      0.00     1000\n",
       "7  1000_7  2018-08-22     18.31     1000\n",
       "8  1000_8  2018-09-15     18.44     1000\n",
       "9  1000_9  2018-08-15      0.00     1000"
      ]
     },
     "execution_count": 4,
     "metadata": {},
     "output_type": "execute_result"
    }
   ],
   "source": [
    "df_calls.info()\n",
    "df_calls.head(10)"
   ]
  },
  {
   "cell_type": "code",
   "execution_count": 5,
   "metadata": {},
   "outputs": [
    {
     "data": {
      "text/plain": [
       "492"
      ]
     },
     "execution_count": 5,
     "metadata": {},
     "output_type": "execute_result"
    }
   ],
   "source": [
    "df_calls.user_id.value_counts().count()"
   ]
  },
  {
   "cell_type": "markdown",
   "metadata": {},
   "source": [
    "**Таблица calls (информация о звонках):\n",
    "id — уникальный номер звонка\n",
    "call_date — дата звонка\n",
    "duration — длительность звонка в минутах\n",
    "user_id — идентификатор пользователя, сделавшего звонок**\n",
    "\n",
    "\n",
    "данные в call_date необходимо привести к формату datetime, duration округлить в сторону большего целого числа"
   ]
  },
  {
   "cell_type": "code",
   "execution_count": 6,
   "metadata": {},
   "outputs": [],
   "source": [
    "df_calls.duration =np.ceil(df_calls['duration'])#.map(lambda x: math.ceil(x))\n",
    "df_calls.call_date = pd.to_datetime(df_calls.call_date)"
   ]
  },
  {
   "cell_type": "code",
   "execution_count": 7,
   "metadata": {},
   "outputs": [
    {
     "name": "stdout",
     "output_type": "stream",
     "text": [
      "<class 'pandas.core.frame.DataFrame'>\n",
      "RangeIndex: 149396 entries, 0 to 149395\n",
      "Data columns (total 5 columns):\n",
      " #   Column        Non-Null Count   Dtype  \n",
      "---  ------        --------------   -----  \n",
      " 0   Unnamed: 0    149396 non-null  int64  \n",
      " 1   id            149396 non-null  object \n",
      " 2   mb_used       149396 non-null  float64\n",
      " 3   session_date  149396 non-null  object \n",
      " 4   user_id       149396 non-null  int64  \n",
      "dtypes: float64(1), int64(2), object(2)\n",
      "memory usage: 5.7+ MB\n"
     ]
    },
    {
     "data": {
      "text/html": [
       "<div>\n",
       "<style scoped>\n",
       "    .dataframe tbody tr th:only-of-type {\n",
       "        vertical-align: middle;\n",
       "    }\n",
       "\n",
       "    .dataframe tbody tr th {\n",
       "        vertical-align: top;\n",
       "    }\n",
       "\n",
       "    .dataframe thead th {\n",
       "        text-align: right;\n",
       "    }\n",
       "</style>\n",
       "<table border=\"1\" class=\"dataframe\">\n",
       "  <thead>\n",
       "    <tr style=\"text-align: right;\">\n",
       "      <th></th>\n",
       "      <th>Unnamed: 0</th>\n",
       "      <th>id</th>\n",
       "      <th>mb_used</th>\n",
       "      <th>session_date</th>\n",
       "      <th>user_id</th>\n",
       "    </tr>\n",
       "  </thead>\n",
       "  <tbody>\n",
       "    <tr>\n",
       "      <th>0</th>\n",
       "      <td>0</td>\n",
       "      <td>1000_0</td>\n",
       "      <td>112.95</td>\n",
       "      <td>2018-11-25</td>\n",
       "      <td>1000</td>\n",
       "    </tr>\n",
       "    <tr>\n",
       "      <th>1</th>\n",
       "      <td>1</td>\n",
       "      <td>1000_1</td>\n",
       "      <td>1052.81</td>\n",
       "      <td>2018-09-07</td>\n",
       "      <td>1000</td>\n",
       "    </tr>\n",
       "    <tr>\n",
       "      <th>2</th>\n",
       "      <td>2</td>\n",
       "      <td>1000_2</td>\n",
       "      <td>1197.26</td>\n",
       "      <td>2018-06-25</td>\n",
       "      <td>1000</td>\n",
       "    </tr>\n",
       "    <tr>\n",
       "      <th>3</th>\n",
       "      <td>3</td>\n",
       "      <td>1000_3</td>\n",
       "      <td>550.27</td>\n",
       "      <td>2018-08-22</td>\n",
       "      <td>1000</td>\n",
       "    </tr>\n",
       "    <tr>\n",
       "      <th>4</th>\n",
       "      <td>4</td>\n",
       "      <td>1000_4</td>\n",
       "      <td>302.56</td>\n",
       "      <td>2018-09-24</td>\n",
       "      <td>1000</td>\n",
       "    </tr>\n",
       "  </tbody>\n",
       "</table>\n",
       "</div>"
      ],
      "text/plain": [
       "   Unnamed: 0      id  mb_used session_date  user_id\n",
       "0           0  1000_0   112.95   2018-11-25     1000\n",
       "1           1  1000_1  1052.81   2018-09-07     1000\n",
       "2           2  1000_2  1197.26   2018-06-25     1000\n",
       "3           3  1000_3   550.27   2018-08-22     1000\n",
       "4           4  1000_4   302.56   2018-09-24     1000"
      ]
     },
     "execution_count": 7,
     "metadata": {},
     "output_type": "execute_result"
    },
    {
     "data": {
      "image/png": "[encoded data removed]",
      "text/plain": [
       "<Figure size 432x288 with 1 Axes>"
      ]
     },
     "metadata": {
      "needs_background": "light"
     },
     "output_type": "display_data"
    }
   ],
   "source": [
    "df_internet.info()\n",
    "df_internet['Unnamed: 0'].plot()\n",
    "df_internet.head()"
   ]
  },
  {
   "cell_type": "markdown",
   "metadata": {},
   "source": [
    "**Таблица internet (информация об интернет-сессиях):\n",
    "id — уникальный номер сессии\n",
    "mb_used — объём потраченного за сессию интернет-трафика (в мегабайтах)\n",
    "session_date — дата интернет-сессии\n",
    "user_id — идентификатор пользователя**\n",
    "\n",
    "данные в session_date необходимо преобразовать в datetime.\n",
    "есть столбец \"Unnamed: 0\" данные в котором дублируют индекс таблицы, его необходимо удалить"
   ]
  },
  {
   "cell_type": "code",
   "execution_count": 8,
   "metadata": {},
   "outputs": [],
   "source": [
    "df_internet = df_internet.drop(columns='Unnamed: 0')\n",
    "df_internet.session_date = pd.to_datetime(df_internet.session_date)"
   ]
  },
  {
   "cell_type": "code",
   "execution_count": 9,
   "metadata": {},
   "outputs": [
    {
     "data": {
      "text/plain": [
       "count    149396.000000\n",
       "mean        370.192426\n",
       "std         278.300951\n",
       "min           0.000000\n",
       "25%         138.187500\n",
       "50%         348.015000\n",
       "75%         559.552500\n",
       "max        1724.830000\n",
       "Name: mb_used, dtype: float64"
      ]
     },
     "execution_count": 9,
     "metadata": {},
     "output_type": "execute_result"
    },
    {
     "data": {
      "image/png": "[encoded data removed]",
      "text/plain": [
       "<Figure size 432x288 with 1 Axes>"
      ]
     },
     "metadata": {
      "needs_background": "light"
     },
     "output_type": "display_data"
    }
   ],
   "source": [
    "df_internet['mb_used'].plot(kind='hist', bins=20)\n",
    "df_internet['mb_used'].describe()"
   ]
  },
  {
   "cell_type": "code",
   "execution_count": 10,
   "metadata": {},
   "outputs": [
    {
     "name": "stdout",
     "output_type": "stream",
     "text": [
      "<class 'pandas.core.frame.DataFrame'>\n",
      "RangeIndex: 123036 entries, 0 to 123035\n",
      "Data columns (total 3 columns):\n",
      " #   Column        Non-Null Count   Dtype \n",
      "---  ------        --------------   ----- \n",
      " 0   id            123036 non-null  object\n",
      " 1   message_date  123036 non-null  object\n",
      " 2   user_id       123036 non-null  int64 \n",
      "dtypes: int64(1), object(2)\n",
      "memory usage: 2.8+ MB\n"
     ]
    },
    {
     "data": {
      "text/html": [
       "<div>\n",
       "<style scoped>\n",
       "    .dataframe tbody tr th:only-of-type {\n",
       "        vertical-align: middle;\n",
       "    }\n",
       "\n",
       "    .dataframe tbody tr th {\n",
       "        vertical-align: top;\n",
       "    }\n",
       "\n",
       "    .dataframe thead th {\n",
       "        text-align: right;\n",
       "    }\n",
       "</style>\n",
       "<table border=\"1\" class=\"dataframe\">\n",
       "  <thead>\n",
       "    <tr style=\"text-align: right;\">\n",
       "      <th></th>\n",
       "      <th>id</th>\n",
       "      <th>message_date</th>\n",
       "      <th>user_id</th>\n",
       "    </tr>\n",
       "  </thead>\n",
       "  <tbody>\n",
       "    <tr>\n",
       "      <th>0</th>\n",
       "      <td>1000_0</td>\n",
       "      <td>2018-06-27</td>\n",
       "      <td>1000</td>\n",
       "    </tr>\n",
       "    <tr>\n",
       "      <th>1</th>\n",
       "      <td>1000_1</td>\n",
       "      <td>2018-10-08</td>\n",
       "      <td>1000</td>\n",
       "    </tr>\n",
       "    <tr>\n",
       "      <th>2</th>\n",
       "      <td>1000_2</td>\n",
       "      <td>2018-08-04</td>\n",
       "      <td>1000</td>\n",
       "    </tr>\n",
       "  </tbody>\n",
       "</table>\n",
       "</div>"
      ],
      "text/plain": [
       "       id message_date  user_id\n",
       "0  1000_0   2018-06-27     1000\n",
       "1  1000_1   2018-10-08     1000\n",
       "2  1000_2   2018-08-04     1000"
      ]
     },
     "execution_count": 10,
     "metadata": {},
     "output_type": "execute_result"
    }
   ],
   "source": [
    "df_messages.info()\n",
    "df_messages.head(3)"
   ]
  },
  {
   "cell_type": "markdown",
   "metadata": {},
   "source": [
    "**message_date преобразовать в datetime формат**"
   ]
  },
  {
   "cell_type": "code",
   "execution_count": 11,
   "metadata": {},
   "outputs": [],
   "source": [
    "df_messages.message_date = pd.to_datetime(df_messages.message_date)"
   ]
  },
  {
   "cell_type": "code",
   "execution_count": 12,
   "metadata": {},
   "outputs": [
    {
     "name": "stdout",
     "output_type": "stream",
     "text": [
      "<class 'pandas.core.frame.DataFrame'>\n",
      "RangeIndex: 500 entries, 0 to 499\n",
      "Data columns (total 8 columns):\n",
      " #   Column      Non-Null Count  Dtype \n",
      "---  ------      --------------  ----- \n",
      " 0   user_id     500 non-null    int64 \n",
      " 1   age         500 non-null    int64 \n",
      " 2   churn_date  38 non-null     object\n",
      " 3   city        500 non-null    object\n",
      " 4   first_name  500 non-null    object\n",
      " 5   last_name   500 non-null    object\n",
      " 6   reg_date    500 non-null    object\n",
      " 7   tariff      500 non-null    object\n",
      "dtypes: int64(2), object(6)\n",
      "memory usage: 31.4+ KB\n"
     ]
    },
    {
     "data": {
      "text/html": [
       "<div>\n",
       "<style scoped>\n",
       "    .dataframe tbody tr th:only-of-type {\n",
       "        vertical-align: middle;\n",
       "    }\n",
       "\n",
       "    .dataframe tbody tr th {\n",
       "        vertical-align: top;\n",
       "    }\n",
       "\n",
       "    .dataframe thead th {\n",
       "        text-align: right;\n",
       "    }\n",
       "</style>\n",
       "<table border=\"1\" class=\"dataframe\">\n",
       "  <thead>\n",
       "    <tr style=\"text-align: right;\">\n",
       "      <th></th>\n",
       "      <th>user_id</th>\n",
       "      <th>age</th>\n",
       "      <th>churn_date</th>\n",
       "      <th>city</th>\n",
       "      <th>first_name</th>\n",
       "      <th>last_name</th>\n",
       "      <th>reg_date</th>\n",
       "      <th>tariff</th>\n",
       "    </tr>\n",
       "  </thead>\n",
       "  <tbody>\n",
       "    <tr>\n",
       "      <th>0</th>\n",
       "      <td>1000</td>\n",
       "      <td>52</td>\n",
       "      <td>NaN</td>\n",
       "      <td>Краснодар</td>\n",
       "      <td>Рафаил</td>\n",
       "      <td>Верещагин</td>\n",
       "      <td>2018-05-25</td>\n",
       "      <td>ultra</td>\n",
       "    </tr>\n",
       "    <tr>\n",
       "      <th>1</th>\n",
       "      <td>1001</td>\n",
       "      <td>41</td>\n",
       "      <td>NaN</td>\n",
       "      <td>Москва</td>\n",
       "      <td>Иван</td>\n",
       "      <td>Ежов</td>\n",
       "      <td>2018-11-01</td>\n",
       "      <td>smart</td>\n",
       "    </tr>\n",
       "    <tr>\n",
       "      <th>2</th>\n",
       "      <td>1002</td>\n",
       "      <td>59</td>\n",
       "      <td>NaN</td>\n",
       "      <td>Стерлитамак</td>\n",
       "      <td>Евгений</td>\n",
       "      <td>Абрамович</td>\n",
       "      <td>2018-06-17</td>\n",
       "      <td>smart</td>\n",
       "    </tr>\n",
       "    <tr>\n",
       "      <th>3</th>\n",
       "      <td>1003</td>\n",
       "      <td>23</td>\n",
       "      <td>NaN</td>\n",
       "      <td>Москва</td>\n",
       "      <td>Белла</td>\n",
       "      <td>Белякова</td>\n",
       "      <td>2018-08-17</td>\n",
       "      <td>ultra</td>\n",
       "    </tr>\n",
       "    <tr>\n",
       "      <th>4</th>\n",
       "      <td>1004</td>\n",
       "      <td>68</td>\n",
       "      <td>NaN</td>\n",
       "      <td>Новокузнецк</td>\n",
       "      <td>Татьяна</td>\n",
       "      <td>Авдеенко</td>\n",
       "      <td>2018-05-14</td>\n",
       "      <td>ultra</td>\n",
       "    </tr>\n",
       "  </tbody>\n",
       "</table>\n",
       "</div>"
      ],
      "text/plain": [
       "   user_id  age churn_date         city first_name  last_name    reg_date  \\\n",
       "0     1000   52        NaN    Краснодар     Рафаил  Верещагин  2018-05-25   \n",
       "1     1001   41        NaN       Москва       Иван       Ежов  2018-11-01   \n",
       "2     1002   59        NaN  Стерлитамак    Евгений  Абрамович  2018-06-17   \n",
       "3     1003   23        NaN       Москва      Белла   Белякова  2018-08-17   \n",
       "4     1004   68        NaN  Новокузнецк    Татьяна   Авдеенко  2018-05-14   \n",
       "\n",
       "  tariff  \n",
       "0  ultra  \n",
       "1  smart  \n",
       "2  smart  \n",
       "3  ultra  \n",
       "4  ultra  "
      ]
     },
     "execution_count": 12,
     "metadata": {},
     "output_type": "execute_result"
    }
   ],
   "source": [
    "df_users.info()\n",
    "df_users.user_id.duplicated().sum()\n",
    "df_users.head()"
   ]
  },
  {
   "cell_type": "markdown",
   "metadata": {},
   "source": [
    "**churn_date и reg_date преобразовать в datetime** \n",
    "есть 38 абонентов, которые отказались от своих тарифных планов в течении 2018 года."
   ]
  },
  {
   "cell_type": "code",
   "execution_count": 13,
   "metadata": {},
   "outputs": [],
   "source": [
    "df_users['churn_date'] = pd.to_datetime(df_users['churn_date'], errors='coerce')\n",
    "df_users['reg_date'] = pd.to_datetime(df_users['reg_date'])"
   ]
  },
  {
   "cell_type": "code",
   "execution_count": 14,
   "metadata": {},
   "outputs": [
    {
     "name": "stdout",
     "output_type": "stream",
     "text": [
      "<class 'pandas.core.frame.DataFrame'>\n",
      "RangeIndex: 2 entries, 0 to 1\n",
      "Data columns (total 8 columns):\n",
      " #   Column                 Non-Null Count  Dtype \n",
      "---  ------                 --------------  ----- \n",
      " 0   messages_included      2 non-null      int64 \n",
      " 1   mb_per_month_included  2 non-null      int64 \n",
      " 2   minutes_included       2 non-null      int64 \n",
      " 3   rub_monthly_fee        2 non-null      int64 \n",
      " 4   rub_per_gb             2 non-null      int64 \n",
      " 5   rub_per_message        2 non-null      int64 \n",
      " 6   rub_per_minute         2 non-null      int64 \n",
      " 7   tariff_name            2 non-null      object\n",
      "dtypes: int64(7), object(1)\n",
      "memory usage: 256.0+ bytes\n"
     ]
    }
   ],
   "source": [
    "df_tariffs.info()\n",
    "df_tariffs= df_tariffs.rename(columns={'tariff_name' : 'tariff'})\n",
    "df_tariffs ['gb_included'] = df_tariffs['mb_per_month_included'].map(lambda x: x/1024)"
   ]
  },
  {
   "cell_type": "code",
   "execution_count": 15,
   "metadata": {},
   "outputs": [
    {
     "data": {
      "text/html": [
       "<div>\n",
       "<style scoped>\n",
       "    .dataframe tbody tr th:only-of-type {\n",
       "        vertical-align: middle;\n",
       "    }\n",
       "\n",
       "    .dataframe tbody tr th {\n",
       "        vertical-align: top;\n",
       "    }\n",
       "\n",
       "    .dataframe thead th {\n",
       "        text-align: right;\n",
       "    }\n",
       "</style>\n",
       "<table border=\"1\" class=\"dataframe\">\n",
       "  <thead>\n",
       "    <tr style=\"text-align: right;\">\n",
       "      <th></th>\n",
       "      <th>messages_included</th>\n",
       "      <th>mb_per_month_included</th>\n",
       "      <th>minutes_included</th>\n",
       "      <th>rub_monthly_fee</th>\n",
       "      <th>rub_per_gb</th>\n",
       "      <th>rub_per_message</th>\n",
       "      <th>rub_per_minute</th>\n",
       "      <th>tariff</th>\n",
       "      <th>gb_included</th>\n",
       "    </tr>\n",
       "  </thead>\n",
       "  <tbody>\n",
       "    <tr>\n",
       "      <th>0</th>\n",
       "      <td>50</td>\n",
       "      <td>15360</td>\n",
       "      <td>500</td>\n",
       "      <td>550</td>\n",
       "      <td>200</td>\n",
       "      <td>3</td>\n",
       "      <td>3</td>\n",
       "      <td>smart</td>\n",
       "      <td>15.0</td>\n",
       "    </tr>\n",
       "    <tr>\n",
       "      <th>1</th>\n",
       "      <td>1000</td>\n",
       "      <td>30720</td>\n",
       "      <td>3000</td>\n",
       "      <td>1950</td>\n",
       "      <td>150</td>\n",
       "      <td>1</td>\n",
       "      <td>1</td>\n",
       "      <td>ultra</td>\n",
       "      <td>30.0</td>\n",
       "    </tr>\n",
       "  </tbody>\n",
       "</table>\n",
       "</div>"
      ],
      "text/plain": [
       "   messages_included  mb_per_month_included  minutes_included  \\\n",
       "0                 50                  15360               500   \n",
       "1               1000                  30720              3000   \n",
       "\n",
       "   rub_monthly_fee  rub_per_gb  rub_per_message  rub_per_minute tariff  \\\n",
       "0              550         200                3               3  smart   \n",
       "1             1950         150                1               1  ultra   \n",
       "\n",
       "   gb_included  \n",
       "0         15.0  \n",
       "1         30.0  "
      ]
     },
     "execution_count": 15,
     "metadata": {},
     "output_type": "execute_result"
    }
   ],
   "source": [
    "df_tariffs.head()"
   ]
  },
  {
   "cell_type": "markdown",
   "metadata": {},
   "source": [
    "    Я проанализировал 5 датафреймов, во всех выявлено нессответствие формату дата время в столбцах с датой и временем, \n",
    "    данные приведены к соответствующим форматам\n",
    "    \n",
    "    В df_internet обнаружен столбец с дублированием индекса, данный столбец был удален из датафрейма.\n",
    "    \n",
    "    В df_calls мы привели значения из duration к целочисленному формату с округлением в большую сторону, так как логика\n",
    "    биллинга оператора предусматривает именно такой подсчет полных минут соединения. Также есть ряд звонков со значением 0,\n",
    "    по ним очевидно не зафиксировано факта соединения, поэтому звонок не тарифицировался\n",
    "    \n",
    "    в df_tariffs переименован столбец с названием тарифа из tariff_name в tariff для удобства дальнейшей работы.\n",
    "    \n",
    "    \n",
    "    \n",
    "    "
   ]
  },
  {
   "cell_type": "markdown",
   "metadata": {},
   "source": [
    "## Посчитайте для каждого пользователя:\n",
    "    количество сделанных звонков и израсходованных минут разговора по месяцам;\n",
    "    \n",
    "    количество отправленных сообщений по месяцам;\n",
    "    \n",
    "    объем израсходованного интернет-трафика по месяцам;\n",
    "    \n",
    "    помесячную выручку с каждого пользователя (вычтите бесплатный лимит из суммарного количества звонков, сообщений и \n",
    "    интернет-трафика; \n",
    "    \n",
    "    остаток умножьте на значение из тарифного плана; прибавьте абонентскую плату, соответствующую тарифному плану)."
   ]
  },
  {
   "cell_type": "code",
   "execution_count": 16,
   "metadata": {},
   "outputs": [
    {
     "data": {
      "text/html": [
       "<div>\n",
       "<style scoped>\n",
       "    .dataframe tbody tr th:only-of-type {\n",
       "        vertical-align: middle;\n",
       "    }\n",
       "\n",
       "    .dataframe tbody tr th {\n",
       "        vertical-align: top;\n",
       "    }\n",
       "\n",
       "    .dataframe thead th {\n",
       "        text-align: right;\n",
       "    }\n",
       "</style>\n",
       "<table border=\"1\" class=\"dataframe\">\n",
       "  <thead>\n",
       "    <tr style=\"text-align: right;\">\n",
       "      <th></th>\n",
       "      <th>user_id</th>\n",
       "      <th>month</th>\n",
       "      <th>month_calls_duration</th>\n",
       "      <th>calls_per_month</th>\n",
       "    </tr>\n",
       "  </thead>\n",
       "  <tbody>\n",
       "    <tr>\n",
       "      <th>0</th>\n",
       "      <td>1000</td>\n",
       "      <td>5</td>\n",
       "      <td>159.0</td>\n",
       "      <td>22</td>\n",
       "    </tr>\n",
       "    <tr>\n",
       "      <th>1</th>\n",
       "      <td>1000</td>\n",
       "      <td>6</td>\n",
       "      <td>172.0</td>\n",
       "      <td>43</td>\n",
       "    </tr>\n",
       "    <tr>\n",
       "      <th>2</th>\n",
       "      <td>1000</td>\n",
       "      <td>7</td>\n",
       "      <td>340.0</td>\n",
       "      <td>47</td>\n",
       "    </tr>\n",
       "    <tr>\n",
       "      <th>3</th>\n",
       "      <td>1000</td>\n",
       "      <td>8</td>\n",
       "      <td>408.0</td>\n",
       "      <td>52</td>\n",
       "    </tr>\n",
       "    <tr>\n",
       "      <th>4</th>\n",
       "      <td>1000</td>\n",
       "      <td>9</td>\n",
       "      <td>466.0</td>\n",
       "      <td>58</td>\n",
       "    </tr>\n",
       "  </tbody>\n",
       "</table>\n",
       "</div>"
      ],
      "text/plain": [
       "   user_id  month  month_calls_duration  calls_per_month\n",
       "0     1000      5                 159.0               22\n",
       "1     1000      6                 172.0               43\n",
       "2     1000      7                 340.0               47\n",
       "3     1000      8                 408.0               52\n",
       "4     1000      9                 466.0               58"
      ]
     },
     "execution_count": 16,
     "metadata": {},
     "output_type": "execute_result"
    }
   ],
   "source": [
    "#посчитаем количество звонков и минут по месяцам\n",
    "df_calls['month'] = df_calls['call_date'].dt.month\n",
    "month_calls = df_calls.groupby(['user_id', 'month'])\\\n",
    "                  .agg({'duration':'sum', 'id':'count'})\\\n",
    "                  .reset_index()\\\n",
    "                  .rename(columns={'duration':'month_calls_duration','id':'calls_per_month'})\n",
    "month_calls.columns = month_calls.columns.map(''.join)\n",
    "month_calls.head()"
   ]
  },
  {
   "cell_type": "code",
   "execution_count": 17,
   "metadata": {},
   "outputs": [
    {
     "data": {
      "text/html": [
       "<div>\n",
       "<style scoped>\n",
       "    .dataframe tbody tr th:only-of-type {\n",
       "        vertical-align: middle;\n",
       "    }\n",
       "\n",
       "    .dataframe tbody tr th {\n",
       "        vertical-align: top;\n",
       "    }\n",
       "\n",
       "    .dataframe thead th {\n",
       "        text-align: right;\n",
       "    }\n",
       "</style>\n",
       "<table border=\"1\" class=\"dataframe\">\n",
       "  <thead>\n",
       "    <tr style=\"text-align: right;\">\n",
       "      <th></th>\n",
       "      <th>user_id</th>\n",
       "      <th>month</th>\n",
       "      <th>sms_per_month</th>\n",
       "    </tr>\n",
       "  </thead>\n",
       "  <tbody>\n",
       "    <tr>\n",
       "      <th>0</th>\n",
       "      <td>1000</td>\n",
       "      <td>5</td>\n",
       "      <td>22</td>\n",
       "    </tr>\n",
       "    <tr>\n",
       "      <th>1</th>\n",
       "      <td>1000</td>\n",
       "      <td>6</td>\n",
       "      <td>60</td>\n",
       "    </tr>\n",
       "    <tr>\n",
       "      <th>2</th>\n",
       "      <td>1000</td>\n",
       "      <td>7</td>\n",
       "      <td>75</td>\n",
       "    </tr>\n",
       "    <tr>\n",
       "      <th>3</th>\n",
       "      <td>1000</td>\n",
       "      <td>8</td>\n",
       "      <td>81</td>\n",
       "    </tr>\n",
       "    <tr>\n",
       "      <th>4</th>\n",
       "      <td>1000</td>\n",
       "      <td>9</td>\n",
       "      <td>57</td>\n",
       "    </tr>\n",
       "  </tbody>\n",
       "</table>\n",
       "</div>"
      ],
      "text/plain": [
       "   user_id  month  sms_per_month\n",
       "0     1000      5             22\n",
       "1     1000      6             60\n",
       "2     1000      7             75\n",
       "3     1000      8             81\n",
       "4     1000      9             57"
      ]
     },
     "execution_count": 17,
     "metadata": {},
     "output_type": "execute_result"
    }
   ],
   "source": [
    "#посчитаем количество сообщений в месяц для каждого пользователя\n",
    "df_messages['month'] = df_messages['message_date'].dt.month\n",
    "month_messages = df_messages.groupby(['user_id', 'month'])\\\n",
    "                        .agg({'id':'count'})\\\n",
    "                        .reset_index()\\\n",
    "                        .rename(columns={'id':'sms_per_month'})\n",
    "month_messages.columns = month_messages.columns.map(''.join)\n",
    "month_messages.head()"
   ]
  },
  {
   "cell_type": "code",
   "execution_count": 18,
   "metadata": {},
   "outputs": [
    {
     "data": {
      "text/html": [
       "<div>\n",
       "<style scoped>\n",
       "    .dataframe tbody tr th:only-of-type {\n",
       "        vertical-align: middle;\n",
       "    }\n",
       "\n",
       "    .dataframe tbody tr th {\n",
       "        vertical-align: top;\n",
       "    }\n",
       "\n",
       "    .dataframe thead th {\n",
       "        text-align: right;\n",
       "    }\n",
       "</style>\n",
       "<table border=\"1\" class=\"dataframe\">\n",
       "  <thead>\n",
       "    <tr style=\"text-align: right;\">\n",
       "      <th></th>\n",
       "      <th>user_id</th>\n",
       "      <th>month</th>\n",
       "      <th>mb_per_month</th>\n",
       "    </tr>\n",
       "  </thead>\n",
       "  <tbody>\n",
       "    <tr>\n",
       "      <th>0</th>\n",
       "      <td>1000</td>\n",
       "      <td>5</td>\n",
       "      <td>2253.49</td>\n",
       "    </tr>\n",
       "    <tr>\n",
       "      <th>1</th>\n",
       "      <td>1000</td>\n",
       "      <td>6</td>\n",
       "      <td>23233.77</td>\n",
       "    </tr>\n",
       "    <tr>\n",
       "      <th>2</th>\n",
       "      <td>1000</td>\n",
       "      <td>7</td>\n",
       "      <td>14003.64</td>\n",
       "    </tr>\n",
       "    <tr>\n",
       "      <th>3</th>\n",
       "      <td>1000</td>\n",
       "      <td>8</td>\n",
       "      <td>14055.93</td>\n",
       "    </tr>\n",
       "    <tr>\n",
       "      <th>4</th>\n",
       "      <td>1000</td>\n",
       "      <td>9</td>\n",
       "      <td>14568.91</td>\n",
       "    </tr>\n",
       "  </tbody>\n",
       "</table>\n",
       "</div>"
      ],
      "text/plain": [
       "   user_id  month  mb_per_month\n",
       "0     1000      5       2253.49\n",
       "1     1000      6      23233.77\n",
       "2     1000      7      14003.64\n",
       "3     1000      8      14055.93\n",
       "4     1000      9      14568.91"
      ]
     },
     "execution_count": 18,
     "metadata": {},
     "output_type": "execute_result"
    }
   ],
   "source": [
    "#посчитаем обьем трафика в месяц для каждого пользователя.\n",
    "df_internet['month'] = df_internet['session_date'].dt.month\n",
    "month_internet = df_internet.groupby(['user_id', 'month'])\\\n",
    "                        .agg({'mb_used':'sum'})\\\n",
    "                        .reset_index()\\\n",
    "                        .rename(columns={'mb_used':'mb_per_month'})\n",
    "month_internet.columns = month_internet.columns.map(''.join)\n",
    "month_internet.head()"
   ]
  },
  {
   "cell_type": "code",
   "execution_count": 19,
   "metadata": {},
   "outputs": [
    {
     "data": {
      "text/html": [
       "<div>\n",
       "<style scoped>\n",
       "    .dataframe tbody tr th:only-of-type {\n",
       "        vertical-align: middle;\n",
       "    }\n",
       "\n",
       "    .dataframe tbody tr th {\n",
       "        vertical-align: top;\n",
       "    }\n",
       "\n",
       "    .dataframe thead th {\n",
       "        text-align: right;\n",
       "    }\n",
       "</style>\n",
       "<table border=\"1\" class=\"dataframe\">\n",
       "  <thead>\n",
       "    <tr style=\"text-align: right;\">\n",
       "      <th></th>\n",
       "      <th>user_id</th>\n",
       "      <th>month</th>\n",
       "      <th>mb_per_month</th>\n",
       "      <th>gb_per_month</th>\n",
       "    </tr>\n",
       "  </thead>\n",
       "  <tbody>\n",
       "    <tr>\n",
       "      <th>0</th>\n",
       "      <td>1000</td>\n",
       "      <td>5</td>\n",
       "      <td>2253.49</td>\n",
       "      <td>3</td>\n",
       "    </tr>\n",
       "    <tr>\n",
       "      <th>1</th>\n",
       "      <td>1000</td>\n",
       "      <td>6</td>\n",
       "      <td>23233.77</td>\n",
       "      <td>23</td>\n",
       "    </tr>\n",
       "    <tr>\n",
       "      <th>2</th>\n",
       "      <td>1000</td>\n",
       "      <td>7</td>\n",
       "      <td>14003.64</td>\n",
       "      <td>14</td>\n",
       "    </tr>\n",
       "    <tr>\n",
       "      <th>3</th>\n",
       "      <td>1000</td>\n",
       "      <td>8</td>\n",
       "      <td>14055.93</td>\n",
       "      <td>14</td>\n",
       "    </tr>\n",
       "    <tr>\n",
       "      <th>4</th>\n",
       "      <td>1000</td>\n",
       "      <td>9</td>\n",
       "      <td>14568.91</td>\n",
       "      <td>15</td>\n",
       "    </tr>\n",
       "  </tbody>\n",
       "</table>\n",
       "</div>"
      ],
      "text/plain": [
       "   user_id  month  mb_per_month  gb_per_month\n",
       "0     1000      5       2253.49             3\n",
       "1     1000      6      23233.77            23\n",
       "2     1000      7      14003.64            14\n",
       "3     1000      8      14055.93            14\n",
       "4     1000      9      14568.91            15"
      ]
     },
     "execution_count": 19,
     "metadata": {},
     "output_type": "execute_result"
    }
   ],
   "source": [
    "#посчитаем интернет трафик в гигабайтах в месяц. \n",
    "#Согласно условиям тарификации, мы округляем не отдельные сессии, а общий обьем трафика в месяц\n",
    "month_internet['gb_per_month'] = month_internet['mb_per_month'].map(lambda x: math.ceil(x / 1024))\n",
    "month_internet.head()"
   ]
  },
  {
   "cell_type": "code",
   "execution_count": 20,
   "metadata": {},
   "outputs": [
    {
     "name": "stdout",
     "output_type": "stream",
     "text": [
      "<class 'pandas.core.frame.DataFrame'>\n",
      "Int64Index: 3216 entries, 0 to 3215\n",
      "Data columns (total 22 columns):\n",
      " #   Column                 Non-Null Count  Dtype         \n",
      "---  ------                 --------------  -----         \n",
      " 0   user_id                3216 non-null   int64         \n",
      " 1   month                  3214 non-null   float64       \n",
      " 2   month_calls_duration   3174 non-null   float64       \n",
      " 3   calls_per_month        3174 non-null   float64       \n",
      " 4   sms_per_month          2717 non-null   float64       \n",
      " 5   mb_per_month           3203 non-null   float64       \n",
      " 6   gb_per_month           3203 non-null   float64       \n",
      " 7   age                    3216 non-null   int64         \n",
      " 8   churn_date             189 non-null    datetime64[ns]\n",
      " 9   city                   3216 non-null   object        \n",
      " 10  first_name             3216 non-null   object        \n",
      " 11  last_name              3216 non-null   object        \n",
      " 12  reg_date               3216 non-null   datetime64[ns]\n",
      " 13  tariff                 3216 non-null   object        \n",
      " 14  messages_included      3216 non-null   int64         \n",
      " 15  mb_per_month_included  3216 non-null   int64         \n",
      " 16  minutes_included       3216 non-null   int64         \n",
      " 17  rub_monthly_fee        3216 non-null   int64         \n",
      " 18  rub_per_gb             3216 non-null   int64         \n",
      " 19  rub_per_message        3216 non-null   int64         \n",
      " 20  rub_per_minute         3216 non-null   int64         \n",
      " 21  gb_included            3216 non-null   float64       \n",
      "dtypes: datetime64[ns](2), float64(7), int64(9), object(4)\n",
      "memory usage: 577.9+ KB\n"
     ]
    },
    {
     "data": {
      "text/html": [
       "<div>\n",
       "<style scoped>\n",
       "    .dataframe tbody tr th:only-of-type {\n",
       "        vertical-align: middle;\n",
       "    }\n",
       "\n",
       "    .dataframe tbody tr th {\n",
       "        vertical-align: top;\n",
       "    }\n",
       "\n",
       "    .dataframe thead th {\n",
       "        text-align: right;\n",
       "    }\n",
       "</style>\n",
       "<table border=\"1\" class=\"dataframe\">\n",
       "  <thead>\n",
       "    <tr style=\"text-align: right;\">\n",
       "      <th></th>\n",
       "      <th>user_id</th>\n",
       "      <th>month</th>\n",
       "      <th>month_calls_duration</th>\n",
       "      <th>calls_per_month</th>\n",
       "      <th>sms_per_month</th>\n",
       "      <th>mb_per_month</th>\n",
       "      <th>gb_per_month</th>\n",
       "      <th>age</th>\n",
       "      <th>churn_date</th>\n",
       "      <th>city</th>\n",
       "      <th>...</th>\n",
       "      <th>reg_date</th>\n",
       "      <th>tariff</th>\n",
       "      <th>messages_included</th>\n",
       "      <th>mb_per_month_included</th>\n",
       "      <th>minutes_included</th>\n",
       "      <th>rub_monthly_fee</th>\n",
       "      <th>rub_per_gb</th>\n",
       "      <th>rub_per_message</th>\n",
       "      <th>rub_per_minute</th>\n",
       "      <th>gb_included</th>\n",
       "    </tr>\n",
       "  </thead>\n",
       "  <tbody>\n",
       "    <tr>\n",
       "      <th>0</th>\n",
       "      <td>1000</td>\n",
       "      <td>5.0</td>\n",
       "      <td>159.0</td>\n",
       "      <td>22.0</td>\n",
       "      <td>22.0</td>\n",
       "      <td>2253.49</td>\n",
       "      <td>3.0</td>\n",
       "      <td>52</td>\n",
       "      <td>NaT</td>\n",
       "      <td>Краснодар</td>\n",
       "      <td>...</td>\n",
       "      <td>2018-05-25</td>\n",
       "      <td>ultra</td>\n",
       "      <td>1000</td>\n",
       "      <td>30720</td>\n",
       "      <td>3000</td>\n",
       "      <td>1950</td>\n",
       "      <td>150</td>\n",
       "      <td>1</td>\n",
       "      <td>1</td>\n",
       "      <td>30.0</td>\n",
       "    </tr>\n",
       "    <tr>\n",
       "      <th>1</th>\n",
       "      <td>1000</td>\n",
       "      <td>6.0</td>\n",
       "      <td>172.0</td>\n",
       "      <td>43.0</td>\n",
       "      <td>60.0</td>\n",
       "      <td>23233.77</td>\n",
       "      <td>23.0</td>\n",
       "      <td>52</td>\n",
       "      <td>NaT</td>\n",
       "      <td>Краснодар</td>\n",
       "      <td>...</td>\n",
       "      <td>2018-05-25</td>\n",
       "      <td>ultra</td>\n",
       "      <td>1000</td>\n",
       "      <td>30720</td>\n",
       "      <td>3000</td>\n",
       "      <td>1950</td>\n",
       "      <td>150</td>\n",
       "      <td>1</td>\n",
       "      <td>1</td>\n",
       "      <td>30.0</td>\n",
       "    </tr>\n",
       "    <tr>\n",
       "      <th>2</th>\n",
       "      <td>1000</td>\n",
       "      <td>7.0</td>\n",
       "      <td>340.0</td>\n",
       "      <td>47.0</td>\n",
       "      <td>75.0</td>\n",
       "      <td>14003.64</td>\n",
       "      <td>14.0</td>\n",
       "      <td>52</td>\n",
       "      <td>NaT</td>\n",
       "      <td>Краснодар</td>\n",
       "      <td>...</td>\n",
       "      <td>2018-05-25</td>\n",
       "      <td>ultra</td>\n",
       "      <td>1000</td>\n",
       "      <td>30720</td>\n",
       "      <td>3000</td>\n",
       "      <td>1950</td>\n",
       "      <td>150</td>\n",
       "      <td>1</td>\n",
       "      <td>1</td>\n",
       "      <td>30.0</td>\n",
       "    </tr>\n",
       "    <tr>\n",
       "      <th>3</th>\n",
       "      <td>1000</td>\n",
       "      <td>8.0</td>\n",
       "      <td>408.0</td>\n",
       "      <td>52.0</td>\n",
       "      <td>81.0</td>\n",
       "      <td>14055.93</td>\n",
       "      <td>14.0</td>\n",
       "      <td>52</td>\n",
       "      <td>NaT</td>\n",
       "      <td>Краснодар</td>\n",
       "      <td>...</td>\n",
       "      <td>2018-05-25</td>\n",
       "      <td>ultra</td>\n",
       "      <td>1000</td>\n",
       "      <td>30720</td>\n",
       "      <td>3000</td>\n",
       "      <td>1950</td>\n",
       "      <td>150</td>\n",
       "      <td>1</td>\n",
       "      <td>1</td>\n",
       "      <td>30.0</td>\n",
       "    </tr>\n",
       "    <tr>\n",
       "      <th>4</th>\n",
       "      <td>1000</td>\n",
       "      <td>9.0</td>\n",
       "      <td>466.0</td>\n",
       "      <td>58.0</td>\n",
       "      <td>57.0</td>\n",
       "      <td>14568.91</td>\n",
       "      <td>15.0</td>\n",
       "      <td>52</td>\n",
       "      <td>NaT</td>\n",
       "      <td>Краснодар</td>\n",
       "      <td>...</td>\n",
       "      <td>2018-05-25</td>\n",
       "      <td>ultra</td>\n",
       "      <td>1000</td>\n",
       "      <td>30720</td>\n",
       "      <td>3000</td>\n",
       "      <td>1950</td>\n",
       "      <td>150</td>\n",
       "      <td>1</td>\n",
       "      <td>1</td>\n",
       "      <td>30.0</td>\n",
       "    </tr>\n",
       "  </tbody>\n",
       "</table>\n",
       "<p>5 rows × 22 columns</p>\n",
       "</div>"
      ],
      "text/plain": [
       "   user_id  month  month_calls_duration  calls_per_month  sms_per_month  \\\n",
       "0     1000    5.0                 159.0             22.0           22.0   \n",
       "1     1000    6.0                 172.0             43.0           60.0   \n",
       "2     1000    7.0                 340.0             47.0           75.0   \n",
       "3     1000    8.0                 408.0             52.0           81.0   \n",
       "4     1000    9.0                 466.0             58.0           57.0   \n",
       "\n",
       "   mb_per_month  gb_per_month  age churn_date       city  ...   reg_date  \\\n",
       "0       2253.49           3.0   52        NaT  Краснодар  ... 2018-05-25   \n",
       "1      23233.77          23.0   52        NaT  Краснодар  ... 2018-05-25   \n",
       "2      14003.64          14.0   52        NaT  Краснодар  ... 2018-05-25   \n",
       "3      14055.93          14.0   52        NaT  Краснодар  ... 2018-05-25   \n",
       "4      14568.91          15.0   52        NaT  Краснодар  ... 2018-05-25   \n",
       "\n",
       "  tariff messages_included mb_per_month_included  minutes_included  \\\n",
       "0  ultra              1000                 30720              3000   \n",
       "1  ultra              1000                 30720              3000   \n",
       "2  ultra              1000                 30720              3000   \n",
       "3  ultra              1000                 30720              3000   \n",
       "4  ultra              1000                 30720              3000   \n",
       "\n",
       "   rub_monthly_fee  rub_per_gb  rub_per_message  rub_per_minute  gb_included  \n",
       "0             1950         150                1               1         30.0  \n",
       "1             1950         150                1               1         30.0  \n",
       "2             1950         150                1               1         30.0  \n",
       "3             1950         150                1               1         30.0  \n",
       "4             1950         150                1               1         30.0  \n",
       "\n",
       "[5 rows x 22 columns]"
      ]
     },
     "execution_count": 20,
     "metadata": {},
     "output_type": "execute_result"
    }
   ],
   "source": [
    "#Обьединим наши сводные таблицы с помесячным расчетом обьема услуг с данными о абонентах и тарифных планах\n",
    "data = month_calls.merge(month_messages, on=['user_id', 'month'], how='outer')\n",
    "data = data.merge(month_internet, on=['user_id', 'month'], how='outer')\n",
    "data = data.merge(df_users, on='user_id', how='outer')\n",
    "data = data.merge(df_tariffs, on='tariff', how='left')\n",
    "data.info()\n",
    "data.head()"
   ]
  },
  {
   "cell_type": "code",
   "execution_count": 21,
   "metadata": {},
   "outputs": [
    {
     "data": {
      "text/plain": [
       "0"
      ]
     },
     "execution_count": 21,
     "metadata": {},
     "output_type": "execute_result"
    }
   ],
   "source": [
    "data.duplicated().sum()"
   ]
  },
  {
   "cell_type": "markdown",
   "metadata": {},
   "source": [
    "Мы провели обьединение таблиц с данными о звонках, смс, потребляемом трафике с данными о пользователях и о тарифах.\n",
    "В итоговой таблице получилось "
   ]
  },
  {
   "cell_type": "code",
   "execution_count": 22,
   "metadata": {},
   "outputs": [],
   "source": [
    "#создадим функцию для подсчета расхода абонентов на услуги\n",
    "def expences(row):\n",
    "    #создадим переменные для подсчета превышения лимита испотльзования услуг связи и интернет\n",
    "    calls_above = row['month_calls_duration'] - row['minutes_included']\n",
    "    sms_above = row['sms_per_month'] - row['messages_included']\n",
    "    internet_above = row['gb_per_month'] - row['gb_included']\n",
    "    #посчитаем стоимость услуг сверх тарифа\n",
    "    calls_exp = calls_above * row['rub_per_minute'] if calls_above > 0 else 0\n",
    "    sms_exp = sms_above * row['rub_per_message'] if sms_above > 0 else 0\n",
    "    internet_exp = internet_above * row['rub_per_gb'] if internet_above > 0 else 0\n",
    "    return row['rub_monthly_fee'] + calls_exp + sms_exp + internet_exp"
   ]
  },
  {
   "cell_type": "code",
   "execution_count": 23,
   "metadata": {},
   "outputs": [
    {
     "data": {
      "text/html": [
       "<div>\n",
       "<style scoped>\n",
       "    .dataframe tbody tr th:only-of-type {\n",
       "        vertical-align: middle;\n",
       "    }\n",
       "\n",
       "    .dataframe tbody tr th {\n",
       "        vertical-align: top;\n",
       "    }\n",
       "\n",
       "    .dataframe thead th {\n",
       "        text-align: right;\n",
       "    }\n",
       "</style>\n",
       "<table border=\"1\" class=\"dataframe\">\n",
       "  <thead>\n",
       "    <tr style=\"text-align: right;\">\n",
       "      <th></th>\n",
       "      <th>user_id</th>\n",
       "      <th>month</th>\n",
       "      <th>month_calls_duration</th>\n",
       "      <th>calls_per_month</th>\n",
       "      <th>sms_per_month</th>\n",
       "      <th>mb_per_month</th>\n",
       "      <th>gb_per_month</th>\n",
       "      <th>age</th>\n",
       "      <th>churn_date</th>\n",
       "      <th>city</th>\n",
       "      <th>...</th>\n",
       "      <th>tariff</th>\n",
       "      <th>messages_included</th>\n",
       "      <th>mb_per_month_included</th>\n",
       "      <th>minutes_included</th>\n",
       "      <th>rub_monthly_fee</th>\n",
       "      <th>rub_per_gb</th>\n",
       "      <th>rub_per_message</th>\n",
       "      <th>rub_per_minute</th>\n",
       "      <th>gb_included</th>\n",
       "      <th>expenses</th>\n",
       "    </tr>\n",
       "  </thead>\n",
       "  <tbody>\n",
       "    <tr>\n",
       "      <th>0</th>\n",
       "      <td>1000</td>\n",
       "      <td>5.0</td>\n",
       "      <td>159.0</td>\n",
       "      <td>22.0</td>\n",
       "      <td>22.0</td>\n",
       "      <td>2253.49</td>\n",
       "      <td>3.0</td>\n",
       "      <td>52</td>\n",
       "      <td>NaT</td>\n",
       "      <td>Краснодар</td>\n",
       "      <td>...</td>\n",
       "      <td>ultra</td>\n",
       "      <td>1000</td>\n",
       "      <td>30720</td>\n",
       "      <td>3000</td>\n",
       "      <td>1950</td>\n",
       "      <td>150</td>\n",
       "      <td>1</td>\n",
       "      <td>1</td>\n",
       "      <td>30.0</td>\n",
       "      <td>1950.0</td>\n",
       "    </tr>\n",
       "    <tr>\n",
       "      <th>1</th>\n",
       "      <td>1000</td>\n",
       "      <td>6.0</td>\n",
       "      <td>172.0</td>\n",
       "      <td>43.0</td>\n",
       "      <td>60.0</td>\n",
       "      <td>23233.77</td>\n",
       "      <td>23.0</td>\n",
       "      <td>52</td>\n",
       "      <td>NaT</td>\n",
       "      <td>Краснодар</td>\n",
       "      <td>...</td>\n",
       "      <td>ultra</td>\n",
       "      <td>1000</td>\n",
       "      <td>30720</td>\n",
       "      <td>3000</td>\n",
       "      <td>1950</td>\n",
       "      <td>150</td>\n",
       "      <td>1</td>\n",
       "      <td>1</td>\n",
       "      <td>30.0</td>\n",
       "      <td>1950.0</td>\n",
       "    </tr>\n",
       "    <tr>\n",
       "      <th>2</th>\n",
       "      <td>1000</td>\n",
       "      <td>7.0</td>\n",
       "      <td>340.0</td>\n",
       "      <td>47.0</td>\n",
       "      <td>75.0</td>\n",
       "      <td>14003.64</td>\n",
       "      <td>14.0</td>\n",
       "      <td>52</td>\n",
       "      <td>NaT</td>\n",
       "      <td>Краснодар</td>\n",
       "      <td>...</td>\n",
       "      <td>ultra</td>\n",
       "      <td>1000</td>\n",
       "      <td>30720</td>\n",
       "      <td>3000</td>\n",
       "      <td>1950</td>\n",
       "      <td>150</td>\n",
       "      <td>1</td>\n",
       "      <td>1</td>\n",
       "      <td>30.0</td>\n",
       "      <td>1950.0</td>\n",
       "    </tr>\n",
       "    <tr>\n",
       "      <th>3</th>\n",
       "      <td>1000</td>\n",
       "      <td>8.0</td>\n",
       "      <td>408.0</td>\n",
       "      <td>52.0</td>\n",
       "      <td>81.0</td>\n",
       "      <td>14055.93</td>\n",
       "      <td>14.0</td>\n",
       "      <td>52</td>\n",
       "      <td>NaT</td>\n",
       "      <td>Краснодар</td>\n",
       "      <td>...</td>\n",
       "      <td>ultra</td>\n",
       "      <td>1000</td>\n",
       "      <td>30720</td>\n",
       "      <td>3000</td>\n",
       "      <td>1950</td>\n",
       "      <td>150</td>\n",
       "      <td>1</td>\n",
       "      <td>1</td>\n",
       "      <td>30.0</td>\n",
       "      <td>1950.0</td>\n",
       "    </tr>\n",
       "    <tr>\n",
       "      <th>4</th>\n",
       "      <td>1000</td>\n",
       "      <td>9.0</td>\n",
       "      <td>466.0</td>\n",
       "      <td>58.0</td>\n",
       "      <td>57.0</td>\n",
       "      <td>14568.91</td>\n",
       "      <td>15.0</td>\n",
       "      <td>52</td>\n",
       "      <td>NaT</td>\n",
       "      <td>Краснодар</td>\n",
       "      <td>...</td>\n",
       "      <td>ultra</td>\n",
       "      <td>1000</td>\n",
       "      <td>30720</td>\n",
       "      <td>3000</td>\n",
       "      <td>1950</td>\n",
       "      <td>150</td>\n",
       "      <td>1</td>\n",
       "      <td>1</td>\n",
       "      <td>30.0</td>\n",
       "      <td>1950.0</td>\n",
       "    </tr>\n",
       "    <tr>\n",
       "      <th>...</th>\n",
       "      <td>...</td>\n",
       "      <td>...</td>\n",
       "      <td>...</td>\n",
       "      <td>...</td>\n",
       "      <td>...</td>\n",
       "      <td>...</td>\n",
       "      <td>...</td>\n",
       "      <td>...</td>\n",
       "      <td>...</td>\n",
       "      <td>...</td>\n",
       "      <td>...</td>\n",
       "      <td>...</td>\n",
       "      <td>...</td>\n",
       "      <td>...</td>\n",
       "      <td>...</td>\n",
       "      <td>...</td>\n",
       "      <td>...</td>\n",
       "      <td>...</td>\n",
       "      <td>...</td>\n",
       "      <td>...</td>\n",
       "      <td>...</td>\n",
       "    </tr>\n",
       "    <tr>\n",
       "      <th>3211</th>\n",
       "      <td>1489</td>\n",
       "      <td>10.0</td>\n",
       "      <td>NaN</td>\n",
       "      <td>NaN</td>\n",
       "      <td>21.0</td>\n",
       "      <td>19559.44</td>\n",
       "      <td>20.0</td>\n",
       "      <td>35</td>\n",
       "      <td>NaT</td>\n",
       "      <td>Санкт-Петербург</td>\n",
       "      <td>...</td>\n",
       "      <td>smart</td>\n",
       "      <td>50</td>\n",
       "      <td>15360</td>\n",
       "      <td>500</td>\n",
       "      <td>550</td>\n",
       "      <td>200</td>\n",
       "      <td>3</td>\n",
       "      <td>3</td>\n",
       "      <td>15.0</td>\n",
       "      <td>1550.0</td>\n",
       "    </tr>\n",
       "    <tr>\n",
       "      <th>3212</th>\n",
       "      <td>1489</td>\n",
       "      <td>11.0</td>\n",
       "      <td>NaN</td>\n",
       "      <td>NaN</td>\n",
       "      <td>20.0</td>\n",
       "      <td>17491.56</td>\n",
       "      <td>18.0</td>\n",
       "      <td>35</td>\n",
       "      <td>NaT</td>\n",
       "      <td>Санкт-Петербург</td>\n",
       "      <td>...</td>\n",
       "      <td>smart</td>\n",
       "      <td>50</td>\n",
       "      <td>15360</td>\n",
       "      <td>500</td>\n",
       "      <td>550</td>\n",
       "      <td>200</td>\n",
       "      <td>3</td>\n",
       "      <td>3</td>\n",
       "      <td>15.0</td>\n",
       "      <td>1150.0</td>\n",
       "    </tr>\n",
       "    <tr>\n",
       "      <th>3213</th>\n",
       "      <td>1489</td>\n",
       "      <td>12.0</td>\n",
       "      <td>NaN</td>\n",
       "      <td>NaN</td>\n",
       "      <td>35.0</td>\n",
       "      <td>17322.51</td>\n",
       "      <td>17.0</td>\n",
       "      <td>35</td>\n",
       "      <td>NaT</td>\n",
       "      <td>Санкт-Петербург</td>\n",
       "      <td>...</td>\n",
       "      <td>smart</td>\n",
       "      <td>50</td>\n",
       "      <td>15360</td>\n",
       "      <td>500</td>\n",
       "      <td>550</td>\n",
       "      <td>200</td>\n",
       "      <td>3</td>\n",
       "      <td>3</td>\n",
       "      <td>15.0</td>\n",
       "      <td>950.0</td>\n",
       "    </tr>\n",
       "    <tr>\n",
       "      <th>3214</th>\n",
       "      <td>1128</td>\n",
       "      <td>NaN</td>\n",
       "      <td>NaN</td>\n",
       "      <td>NaN</td>\n",
       "      <td>NaN</td>\n",
       "      <td>NaN</td>\n",
       "      <td>NaN</td>\n",
       "      <td>51</td>\n",
       "      <td>2018-12-23</td>\n",
       "      <td>Волжский</td>\n",
       "      <td>...</td>\n",
       "      <td>ultra</td>\n",
       "      <td>1000</td>\n",
       "      <td>30720</td>\n",
       "      <td>3000</td>\n",
       "      <td>1950</td>\n",
       "      <td>150</td>\n",
       "      <td>1</td>\n",
       "      <td>1</td>\n",
       "      <td>30.0</td>\n",
       "      <td>1950.0</td>\n",
       "    </tr>\n",
       "    <tr>\n",
       "      <th>3215</th>\n",
       "      <td>1371</td>\n",
       "      <td>NaN</td>\n",
       "      <td>NaN</td>\n",
       "      <td>NaN</td>\n",
       "      <td>NaN</td>\n",
       "      <td>NaN</td>\n",
       "      <td>NaN</td>\n",
       "      <td>50</td>\n",
       "      <td>2018-12-30</td>\n",
       "      <td>Омск</td>\n",
       "      <td>...</td>\n",
       "      <td>smart</td>\n",
       "      <td>50</td>\n",
       "      <td>15360</td>\n",
       "      <td>500</td>\n",
       "      <td>550</td>\n",
       "      <td>200</td>\n",
       "      <td>3</td>\n",
       "      <td>3</td>\n",
       "      <td>15.0</td>\n",
       "      <td>550.0</td>\n",
       "    </tr>\n",
       "  </tbody>\n",
       "</table>\n",
       "<p>3216 rows × 23 columns</p>\n",
       "</div>"
      ],
      "text/plain": [
       "      user_id  month  month_calls_duration  calls_per_month  sms_per_month  \\\n",
       "0        1000    5.0                 159.0             22.0           22.0   \n",
       "1        1000    6.0                 172.0             43.0           60.0   \n",
       "2        1000    7.0                 340.0             47.0           75.0   \n",
       "3        1000    8.0                 408.0             52.0           81.0   \n",
       "4        1000    9.0                 466.0             58.0           57.0   \n",
       "...       ...    ...                   ...              ...            ...   \n",
       "3211     1489   10.0                   NaN              NaN           21.0   \n",
       "3212     1489   11.0                   NaN              NaN           20.0   \n",
       "3213     1489   12.0                   NaN              NaN           35.0   \n",
       "3214     1128    NaN                   NaN              NaN            NaN   \n",
       "3215     1371    NaN                   NaN              NaN            NaN   \n",
       "\n",
       "      mb_per_month  gb_per_month  age churn_date             city  ... tariff  \\\n",
       "0          2253.49           3.0   52        NaT        Краснодар  ...  ultra   \n",
       "1         23233.77          23.0   52        NaT        Краснодар  ...  ultra   \n",
       "2         14003.64          14.0   52        NaT        Краснодар  ...  ultra   \n",
       "3         14055.93          14.0   52        NaT        Краснодар  ...  ultra   \n",
       "4         14568.91          15.0   52        NaT        Краснодар  ...  ultra   \n",
       "...            ...           ...  ...        ...              ...  ...    ...   \n",
       "3211      19559.44          20.0   35        NaT  Санкт-Петербург  ...  smart   \n",
       "3212      17491.56          18.0   35        NaT  Санкт-Петербург  ...  smart   \n",
       "3213      17322.51          17.0   35        NaT  Санкт-Петербург  ...  smart   \n",
       "3214           NaN           NaN   51 2018-12-23         Волжский  ...  ultra   \n",
       "3215           NaN           NaN   50 2018-12-30             Омск  ...  smart   \n",
       "\n",
       "     messages_included mb_per_month_included minutes_included  \\\n",
       "0                 1000                 30720             3000   \n",
       "1                 1000                 30720             3000   \n",
       "2                 1000                 30720             3000   \n",
       "3                 1000                 30720             3000   \n",
       "4                 1000                 30720             3000   \n",
       "...                ...                   ...              ...   \n",
       "3211                50                 15360              500   \n",
       "3212                50                 15360              500   \n",
       "3213                50                 15360              500   \n",
       "3214              1000                 30720             3000   \n",
       "3215                50                 15360              500   \n",
       "\n",
       "      rub_monthly_fee  rub_per_gb  rub_per_message  rub_per_minute  \\\n",
       "0                1950         150                1               1   \n",
       "1                1950         150                1               1   \n",
       "2                1950         150                1               1   \n",
       "3                1950         150                1               1   \n",
       "4                1950         150                1               1   \n",
       "...               ...         ...              ...             ...   \n",
       "3211              550         200                3               3   \n",
       "3212              550         200                3               3   \n",
       "3213              550         200                3               3   \n",
       "3214             1950         150                1               1   \n",
       "3215              550         200                3               3   \n",
       "\n",
       "      gb_included  expenses  \n",
       "0            30.0    1950.0  \n",
       "1            30.0    1950.0  \n",
       "2            30.0    1950.0  \n",
       "3            30.0    1950.0  \n",
       "4            30.0    1950.0  \n",
       "...           ...       ...  \n",
       "3211         15.0    1550.0  \n",
       "3212         15.0    1150.0  \n",
       "3213         15.0     950.0  \n",
       "3214         30.0    1950.0  \n",
       "3215         15.0     550.0  \n",
       "\n",
       "[3216 rows x 23 columns]"
      ]
     },
     "execution_count": 23,
     "metadata": {},
     "output_type": "execute_result"
    }
   ],
   "source": [
    "#добавим столбец с общим обьемом расходов абонента в месяц\n",
    "data['expenses'] = data.apply(lambda x: expences(x), axis=1)\n",
    "data.head()\n",
    "data"
   ]
  },
  {
   "cell_type": "markdown",
   "metadata": {},
   "source": [
    "## Анализ данных\n",
    "    - Опишите поведение клиентов оператора, исходя из выборки\n",
    "    - Сколько минут разговора, сколько сообщений и какой объём интернет-трафика требуется пользователям каждого тарифа\n",
    "    в месяц? \n",
    "    - Посчитайте среднее количество, дисперсию и стандартное отклонение\n",
    "    - Постройте гистограммы. Опишите распределения\n"
   ]
  },
  {
   "cell_type": "code",
   "execution_count": 24,
   "metadata": {},
   "outputs": [
    {
     "data": {
      "text/plain": [
       "(0.0, 7000.0)"
      ]
     },
     "execution_count": 24,
     "metadata": {},
     "output_type": "execute_result"
    },
    {
     "data": {
      "image/png": "[encoded data removed]",
      "text/plain": [
       "<Figure size 720x720 with 1 Axes>"
      ]
     },
     "metadata": {
      "needs_background": "light"
     },
     "output_type": "display_data"
    }
   ],
   "source": [
    "#оценим расходы абонентов в зависимости от тарифного плана\n",
    "data.boxplot('expenses', by='tariff', figsize=(10,10)).set_ylim(0,7000)"
   ]
  },
  {
   "cell_type": "code",
   "execution_count": 25,
   "metadata": {},
   "outputs": [
    {
     "data": {
      "text/plain": [
       "<AxesSubplot:ylabel='Frequency'>"
      ]
     },
     "execution_count": 25,
     "metadata": {},
     "output_type": "execute_result"
    },
    {
     "data": {
      "image/png": "[encoded data removed]",
      "text/plain": [
       "<Figure size 432x288 with 1 Axes>"
      ]
     },
     "metadata": {
      "needs_background": "light"
     },
     "output_type": "display_data"
    }
   ],
   "source": [
    "data[data['tariff'] == 'ultra']['expenses'].plot(kind='hist', bins=10)"
   ]
  },
  {
   "cell_type": "code",
   "execution_count": 26,
   "metadata": {},
   "outputs": [
    {
     "data": {
      "text/plain": [
       "<AxesSubplot:ylabel='Frequency'>"
      ]
     },
     "execution_count": 26,
     "metadata": {},
     "output_type": "execute_result"
    },
    {
     "data": {
      "image/png": "[encoded data removed]",
      "text/plain": [
       "<Figure size 432x288 with 1 Axes>"
      ]
     },
     "metadata": {
      "needs_background": "light"
     },
     "output_type": "display_data"
    }
   ],
   "source": [
    "data[data['tariff'] == 'smart']['expenses'].plot(kind='hist', bins=10)"
   ]
  },
  {
   "cell_type": "code",
   "execution_count": 27,
   "metadata": {},
   "outputs": [
    {
     "data": {
      "text/html": [
       "<style  type=\"text/css\" >\n",
       "</style><table id=\"T_3908e_\" ><thead>    <tr>        <th class=\"blank level0\" ></th>        <th class=\"col_heading level0 col0\" colspan=\"4\">expenses</th>    </tr>    <tr>        <th class=\"blank level1\" ></th>        <th class=\"col_heading level1 col0\" >median</th>        <th class=\"col_heading level1 col1\" >mean</th>        <th class=\"col_heading level1 col2\" >var</th>        <th class=\"col_heading level1 col3\" >std</th>    </tr>    <tr>        <th class=\"index_name level0\" >tariff</th>        <th class=\"blank\" ></th>        <th class=\"blank\" ></th>        <th class=\"blank\" ></th>        <th class=\"blank\" ></th>    </tr></thead><tbody>\n",
       "                <tr>\n",
       "                        <th id=\"T_3908e_level0_row0\" class=\"row_heading level0 row0\" >smart</th>\n",
       "                        <td id=\"T_3908e_row0_col0\" class=\"data row0 col0\" >1021.00</td>\n",
       "                        <td id=\"T_3908e_row0_col1\" class=\"data row0 col1\" >1289.64</td>\n",
       "                        <td id=\"T_3908e_row0_col2\" class=\"data row0 col2\" >669730.76</td>\n",
       "                        <td id=\"T_3908e_row0_col3\" class=\"data row0 col3\" >818.37</td>\n",
       "            </tr>\n",
       "            <tr>\n",
       "                        <th id=\"T_3908e_level0_row1\" class=\"row_heading level0 row1\" >ultra</th>\n",
       "                        <td id=\"T_3908e_row1_col0\" class=\"data row1 col0\" >1950.00</td>\n",
       "                        <td id=\"T_3908e_row1_col1\" class=\"data row1 col1\" >2070.03</td>\n",
       "                        <td id=\"T_3908e_row1_col2\" class=\"data row1 col2\" >141387.71</td>\n",
       "                        <td id=\"T_3908e_row1_col3\" class=\"data row1 col3\" >376.02</td>\n",
       "            </tr>\n",
       "    </tbody></table>"
      ],
      "text/plain": [
       "<pandas.io.formats.style.Styler at 0x7ff84d22a0d0>"
      ]
     },
     "execution_count": 27,
     "metadata": {},
     "output_type": "execute_result"
    }
   ],
   "source": [
    "data.groupby('tariff')\\\n",
    "  .agg({'expenses':['median','mean','var','std']})\\\n",
    "  .style.format(\"{:.2f}\")"
   ]
  },
  {
   "cell_type": "markdown",
   "metadata": {},
   "source": [
    "**Из графиков можно сделать вывод, что абоненты тарифа ультра в массе своей не превышают лимиты по трафику минутам и смс**"
   ]
  },
  {
   "cell_type": "code",
   "execution_count": 28,
   "metadata": {},
   "outputs": [
    {
     "data": {
      "text/plain": [
       "Text(0.5, 1.0, 'Смарт — Звонки в минутах в месяц')"
      ]
     },
     "execution_count": 28,
     "metadata": {},
     "output_type": "execute_result"
    },
    {
     "data": {
      "image/png": "[encoded data removed]",
      "text/plain": [
       "<Figure size 432x288 with 1 Axes>"
      ]
     },
     "metadata": {
      "needs_background": "light"
     },
     "output_type": "display_data"
    }
   ],
   "source": [
    "data[data['tariff'] == 'smart']['month_calls_duration'].plot(kind='hist', bins=10)\n",
    "plt.title('Смарт — Звонки в минутах в месяц',fontdict=font)"
   ]
  },
  {
   "cell_type": "code",
   "execution_count": 29,
   "metadata": {},
   "outputs": [
    {
     "data": {
      "text/plain": [
       "Text(0.5, 1.0, 'Ультра — Звонки в минутах в месяц')"
      ]
     },
     "execution_count": 29,
     "metadata": {},
     "output_type": "execute_result"
    },
    {
     "data": {
      "image/png": "[encoded data removed]",
      "text/plain": [
       "<Figure size 432x288 with 1 Axes>"
      ]
     },
     "metadata": {
      "needs_background": "light"
     },
     "output_type": "display_data"
    }
   ],
   "source": [
    "data[data['tariff'] == 'ultra']['month_calls_duration'].plot(kind='hist', bins=10)\n",
    "plt.title('Ультра — Звонки в минутах в месяц', fontdict=font)"
   ]
  },
  {
   "cell_type": "markdown",
   "metadata": {},
   "source": [
    "    На Смарте люди в месяц говорят около 450 минут, на Ультре 550 минут в месяц. Абоненты тарифа Ультра имеют большой запас неизрасходованных минут, вто время как абоненты Смарт используют его по максимуму."
   ]
  },
  {
   "cell_type": "code",
   "execution_count": 30,
   "metadata": {},
   "outputs": [
    {
     "data": {
      "text/html": [
       "<style  type=\"text/css\" >\n",
       "</style><table id=\"T_791f1_\" ><thead>    <tr>        <th class=\"blank level0\" ></th>        <th class=\"col_heading level0 col0\" colspan=\"3\">gb_per_month</th>    </tr>    <tr>        <th class=\"blank level1\" ></th>        <th class=\"col_heading level1 col0\" >median</th>        <th class=\"col_heading level1 col1\" >mean</th>        <th class=\"col_heading level1 col2\" >std</th>    </tr>    <tr>        <th class=\"index_name level0\" >tariff</th>        <th class=\"blank\" ></th>        <th class=\"blank\" ></th>        <th class=\"blank\" ></th>    </tr></thead><tbody>\n",
       "                <tr>\n",
       "                        <th id=\"T_791f1_level0_row0\" class=\"row_heading level0 row0\" >smart</th>\n",
       "                        <td id=\"T_791f1_row0_col0\" class=\"data row0 col0\" >17.00</td>\n",
       "                        <td id=\"T_791f1_row0_col1\" class=\"data row0 col1\" >16.34</td>\n",
       "                        <td id=\"T_791f1_row0_col2\" class=\"data row0 col2\" >5.74</td>\n",
       "            </tr>\n",
       "            <tr>\n",
       "                        <th id=\"T_791f1_level0_row1\" class=\"row_heading level0 row1\" >ultra</th>\n",
       "                        <td id=\"T_791f1_row1_col0\" class=\"data row1 col0\" >19.00</td>\n",
       "                        <td id=\"T_791f1_row1_col1\" class=\"data row1 col1\" >19.69</td>\n",
       "                        <td id=\"T_791f1_row1_col2\" class=\"data row1 col2\" >9.70</td>\n",
       "            </tr>\n",
       "    </tbody></table>"
      ],
      "text/plain": [
       "<pandas.io.formats.style.Styler at 0x7ff84d34c790>"
      ]
     },
     "execution_count": 30,
     "metadata": {},
     "output_type": "execute_result"
    }
   ],
   "source": [
    "data.groupby('tariff')\\\n",
    "  .agg({'gb_per_month':['median','mean','std']})\\\n",
    "  .style.format(\"{:.2f}\")"
   ]
  },
  {
   "cell_type": "code",
   "execution_count": 31,
   "metadata": {},
   "outputs": [
    {
     "data": {
      "text/plain": [
       "Text(0.5, 1.0, 'Смарт — Интернет в ГБ в месяц')"
      ]
     },
     "execution_count": 31,
     "metadata": {},
     "output_type": "execute_result"
    },
    {
     "data": {
      "image/png": "[encoded data removed]",
      "text/plain": [
       "<Figure size 432x288 with 1 Axes>"
      ]
     },
     "metadata": {
      "needs_background": "light"
     },
     "output_type": "display_data"
    }
   ],
   "source": [
    "data[data['tariff'] == 'smart']['gb_per_month'].plot(kind='hist', bins=10)\n",
    "plt.title('Смарт — Интернет в ГБ в месяц', fontdict=font)"
   ]
  },
  {
   "cell_type": "code",
   "execution_count": 32,
   "metadata": {},
   "outputs": [
    {
     "data": {
      "text/plain": [
       "Text(0.5, 1.0, 'Ультра — Интернет в ГБ в месяц')"
      ]
     },
     "execution_count": 32,
     "metadata": {},
     "output_type": "execute_result"
    },
    {
     "data": {
      "image/png": "[encoded data removed]",
      "text/plain": [
       "<Figure size 432x288 with 1 Axes>"
      ]
     },
     "metadata": {
      "needs_background": "light"
     },
     "output_type": "display_data"
    }
   ],
   "source": [
    "data[data['tariff'] == 'ultra']['gb_per_month'].plot(kind='hist', bins=10)\n",
    "plt.title('Ультра — Интернет в ГБ в месяц', fontdict=font)"
   ]
  },
  {
   "cell_type": "markdown",
   "metadata": {},
   "source": [
    "    Среднее и медиана лежат рядом. На Смарте люди выходят за пределы тарифа больше, у Ультры снова запас — в 10-11 Гб, но и разброс больше"
   ]
  },
  {
   "cell_type": "code",
   "execution_count": 33,
   "metadata": {},
   "outputs": [
    {
     "data": {
      "text/html": [
       "<style  type=\"text/css\" >\n",
       "</style><table id=\"T_f7a3c_\" ><thead>    <tr>        <th class=\"blank level0\" ></th>        <th class=\"col_heading level0 col0\" colspan=\"4\">sms_per_month</th>    </tr>    <tr>        <th class=\"blank level1\" ></th>        <th class=\"col_heading level1 col0\" >median</th>        <th class=\"col_heading level1 col1\" >mean</th>        <th class=\"col_heading level1 col2\" >var</th>        <th class=\"col_heading level1 col3\" >std</th>    </tr>    <tr>        <th class=\"index_name level0\" >tariff</th>        <th class=\"blank\" ></th>        <th class=\"blank\" ></th>        <th class=\"blank\" ></th>        <th class=\"blank\" ></th>    </tr></thead><tbody>\n",
       "                <tr>\n",
       "                        <th id=\"T_f7a3c_level0_row0\" class=\"row_heading level0 row0\" >smart</th>\n",
       "                        <td id=\"T_f7a3c_row0_col0\" class=\"data row0 col0\" >34.00</td>\n",
       "                        <td id=\"T_f7a3c_row0_col1\" class=\"data row0 col1\" >38.72</td>\n",
       "                        <td id=\"T_f7a3c_row0_col2\" class=\"data row0 col2\" >717.59</td>\n",
       "                        <td id=\"T_f7a3c_row0_col3\" class=\"data row0 col3\" >26.79</td>\n",
       "            </tr>\n",
       "            <tr>\n",
       "                        <th id=\"T_f7a3c_level0_row1\" class=\"row_heading level0 row1\" >ultra</th>\n",
       "                        <td id=\"T_f7a3c_row1_col0\" class=\"data row1 col0\" >51.00</td>\n",
       "                        <td id=\"T_f7a3c_row1_col1\" class=\"data row1 col1\" >61.16</td>\n",
       "                        <td id=\"T_f7a3c_row1_col2\" class=\"data row1 col2\" >2109.66</td>\n",
       "                        <td id=\"T_f7a3c_row1_col3\" class=\"data row1 col3\" >45.93</td>\n",
       "            </tr>\n",
       "    </tbody></table>"
      ],
      "text/plain": [
       "<pandas.io.formats.style.Styler at 0x7ff8466ee5e0>"
      ]
     },
     "execution_count": 33,
     "metadata": {},
     "output_type": "execute_result"
    }
   ],
   "source": [
    "data.groupby('tariff')\\\n",
    "  .agg({'sms_per_month':['median','mean','var','std']})\\\n",
    "  .style.format(\"{:.2f}\")"
   ]
  },
  {
   "cell_type": "code",
   "execution_count": 34,
   "metadata": {},
   "outputs": [
    {
     "data": {
      "text/plain": [
       "Text(0.5, 1.0, 'Смарт — СМС в месяц')"
      ]
     },
     "execution_count": 34,
     "metadata": {},
     "output_type": "execute_result"
    },
    {
     "data": {
      "image/png": "[encoded data removed]",
      "text/plain": [
       "<Figure size 432x288 with 1 Axes>"
      ]
     },
     "metadata": {
      "needs_background": "light"
     },
     "output_type": "display_data"
    }
   ],
   "source": [
    "data[data['tariff'] == 'smart']['sms_per_month'].plot(kind='hist', bins=10)\n",
    "plt.title('Смарт — СМС в месяц', fontdict=font)"
   ]
  },
  {
   "cell_type": "code",
   "execution_count": 35,
   "metadata": {},
   "outputs": [
    {
     "data": {
      "text/plain": [
       "Text(0.5, 1.0, 'Ультра — СМС в месяц')"
      ]
     },
     "execution_count": 35,
     "metadata": {},
     "output_type": "execute_result"
    },
    {
     "data": {
      "image/png": "[encoded data removed]",
      "text/plain": [
       "<Figure size 432x288 with 1 Axes>"
      ]
     },
     "metadata": {
      "needs_background": "light"
     },
     "output_type": "display_data"
    }
   ],
   "source": [
    "data[data['tariff'] == 'ultra']['sms_per_month'].plot(kind='hist', bins=10)\n",
    "plt.title('Ультра — СМС в месяц', fontdict=font)"
   ]
  },
  {
   "cell_type": "markdown",
   "metadata": {},
   "source": [
    "Использование СМС практически одинаково в обоих случаях, но на Ультра включено 1000 сообщений в месяц, что кажется излишним"
   ]
  },
  {
   "cell_type": "markdown",
   "metadata": {},
   "source": [
    "## Проверьте гипотезы\n",
    "- средняя выручка пользователей тарифов «Ультра» и «Смарт» различаются;\n",
    "- средняя выручка пользователей из Москвы отличается от выручки пользователей из других регионов."
   ]
  },
  {
   "cell_type": "markdown",
   "metadata": {},
   "source": [
    "Будем использовать t-критерий Стьюдента, так как сравниваемые выборки независимы между собой.\n",
    "\n",
    "Гипотеза о равенстве средних двух генеральных совокупностей №1\n",
    "\n",
    "**Сформулируем гипотезы:**\n",
    "\n",
    "    H0: выручка пользователей тарифов «Ультра» и «Смарт» не различается\n",
    "    H1: выручка пользователей тарифов «Ультра» и «Смарт» различается"
   ]
  },
  {
   "cell_type": "code",
   "execution_count": 36,
   "metadata": {},
   "outputs": [
    {
     "data": {
      "text/html": [
       "<div>\n",
       "<style scoped>\n",
       "    .dataframe tbody tr th:only-of-type {\n",
       "        vertical-align: middle;\n",
       "    }\n",
       "\n",
       "    .dataframe tbody tr th {\n",
       "        vertical-align: top;\n",
       "    }\n",
       "\n",
       "    .dataframe thead th {\n",
       "        text-align: right;\n",
       "    }\n",
       "</style>\n",
       "<table border=\"1\" class=\"dataframe\">\n",
       "  <thead>\n",
       "    <tr style=\"text-align: right;\">\n",
       "      <th></th>\n",
       "      <th>user_id</th>\n",
       "      <th>month</th>\n",
       "      <th>month_calls_duration</th>\n",
       "      <th>calls_per_month</th>\n",
       "      <th>sms_per_month</th>\n",
       "      <th>mb_per_month</th>\n",
       "      <th>gb_per_month</th>\n",
       "      <th>age</th>\n",
       "      <th>churn_date</th>\n",
       "      <th>city</th>\n",
       "      <th>...</th>\n",
       "      <th>tariff</th>\n",
       "      <th>messages_included</th>\n",
       "      <th>mb_per_month_included</th>\n",
       "      <th>minutes_included</th>\n",
       "      <th>rub_monthly_fee</th>\n",
       "      <th>rub_per_gb</th>\n",
       "      <th>rub_per_message</th>\n",
       "      <th>rub_per_minute</th>\n",
       "      <th>gb_included</th>\n",
       "      <th>expenses</th>\n",
       "    </tr>\n",
       "  </thead>\n",
       "  <tbody>\n",
       "    <tr>\n",
       "      <th>0</th>\n",
       "      <td>1000</td>\n",
       "      <td>5.0</td>\n",
       "      <td>159.0</td>\n",
       "      <td>22.0</td>\n",
       "      <td>22.0</td>\n",
       "      <td>2253.49</td>\n",
       "      <td>3.0</td>\n",
       "      <td>52</td>\n",
       "      <td>NaT</td>\n",
       "      <td>Краснодар</td>\n",
       "      <td>...</td>\n",
       "      <td>ultra</td>\n",
       "      <td>1000</td>\n",
       "      <td>30720</td>\n",
       "      <td>3000</td>\n",
       "      <td>1950</td>\n",
       "      <td>150</td>\n",
       "      <td>1</td>\n",
       "      <td>1</td>\n",
       "      <td>30.0</td>\n",
       "      <td>1950.0</td>\n",
       "    </tr>\n",
       "    <tr>\n",
       "      <th>1</th>\n",
       "      <td>1000</td>\n",
       "      <td>6.0</td>\n",
       "      <td>172.0</td>\n",
       "      <td>43.0</td>\n",
       "      <td>60.0</td>\n",
       "      <td>23233.77</td>\n",
       "      <td>23.0</td>\n",
       "      <td>52</td>\n",
       "      <td>NaT</td>\n",
       "      <td>Краснодар</td>\n",
       "      <td>...</td>\n",
       "      <td>ultra</td>\n",
       "      <td>1000</td>\n",
       "      <td>30720</td>\n",
       "      <td>3000</td>\n",
       "      <td>1950</td>\n",
       "      <td>150</td>\n",
       "      <td>1</td>\n",
       "      <td>1</td>\n",
       "      <td>30.0</td>\n",
       "      <td>1950.0</td>\n",
       "    </tr>\n",
       "    <tr>\n",
       "      <th>2</th>\n",
       "      <td>1000</td>\n",
       "      <td>7.0</td>\n",
       "      <td>340.0</td>\n",
       "      <td>47.0</td>\n",
       "      <td>75.0</td>\n",
       "      <td>14003.64</td>\n",
       "      <td>14.0</td>\n",
       "      <td>52</td>\n",
       "      <td>NaT</td>\n",
       "      <td>Краснодар</td>\n",
       "      <td>...</td>\n",
       "      <td>ultra</td>\n",
       "      <td>1000</td>\n",
       "      <td>30720</td>\n",
       "      <td>3000</td>\n",
       "      <td>1950</td>\n",
       "      <td>150</td>\n",
       "      <td>1</td>\n",
       "      <td>1</td>\n",
       "      <td>30.0</td>\n",
       "      <td>1950.0</td>\n",
       "    </tr>\n",
       "    <tr>\n",
       "      <th>3</th>\n",
       "      <td>1000</td>\n",
       "      <td>8.0</td>\n",
       "      <td>408.0</td>\n",
       "      <td>52.0</td>\n",
       "      <td>81.0</td>\n",
       "      <td>14055.93</td>\n",
       "      <td>14.0</td>\n",
       "      <td>52</td>\n",
       "      <td>NaT</td>\n",
       "      <td>Краснодар</td>\n",
       "      <td>...</td>\n",
       "      <td>ultra</td>\n",
       "      <td>1000</td>\n",
       "      <td>30720</td>\n",
       "      <td>3000</td>\n",
       "      <td>1950</td>\n",
       "      <td>150</td>\n",
       "      <td>1</td>\n",
       "      <td>1</td>\n",
       "      <td>30.0</td>\n",
       "      <td>1950.0</td>\n",
       "    </tr>\n",
       "    <tr>\n",
       "      <th>4</th>\n",
       "      <td>1000</td>\n",
       "      <td>9.0</td>\n",
       "      <td>466.0</td>\n",
       "      <td>58.0</td>\n",
       "      <td>57.0</td>\n",
       "      <td>14568.91</td>\n",
       "      <td>15.0</td>\n",
       "      <td>52</td>\n",
       "      <td>NaT</td>\n",
       "      <td>Краснодар</td>\n",
       "      <td>...</td>\n",
       "      <td>ultra</td>\n",
       "      <td>1000</td>\n",
       "      <td>30720</td>\n",
       "      <td>3000</td>\n",
       "      <td>1950</td>\n",
       "      <td>150</td>\n",
       "      <td>1</td>\n",
       "      <td>1</td>\n",
       "      <td>30.0</td>\n",
       "      <td>1950.0</td>\n",
       "    </tr>\n",
       "  </tbody>\n",
       "</table>\n",
       "<p>5 rows × 23 columns</p>\n",
       "</div>"
      ],
      "text/plain": [
       "   user_id  month  month_calls_duration  calls_per_month  sms_per_month  \\\n",
       "0     1000    5.0                 159.0             22.0           22.0   \n",
       "1     1000    6.0                 172.0             43.0           60.0   \n",
       "2     1000    7.0                 340.0             47.0           75.0   \n",
       "3     1000    8.0                 408.0             52.0           81.0   \n",
       "4     1000    9.0                 466.0             58.0           57.0   \n",
       "\n",
       "   mb_per_month  gb_per_month  age churn_date       city  ... tariff  \\\n",
       "0       2253.49           3.0   52        NaT  Краснодар  ...  ultra   \n",
       "1      23233.77          23.0   52        NaT  Краснодар  ...  ultra   \n",
       "2      14003.64          14.0   52        NaT  Краснодар  ...  ultra   \n",
       "3      14055.93          14.0   52        NaT  Краснодар  ...  ultra   \n",
       "4      14568.91          15.0   52        NaT  Краснодар  ...  ultra   \n",
       "\n",
       "  messages_included mb_per_month_included minutes_included  rub_monthly_fee  \\\n",
       "0              1000                 30720             3000             1950   \n",
       "1              1000                 30720             3000             1950   \n",
       "2              1000                 30720             3000             1950   \n",
       "3              1000                 30720             3000             1950   \n",
       "4              1000                 30720             3000             1950   \n",
       "\n",
       "   rub_per_gb  rub_per_message  rub_per_minute  gb_included  expenses  \n",
       "0         150                1               1         30.0    1950.0  \n",
       "1         150                1               1         30.0    1950.0  \n",
       "2         150                1               1         30.0    1950.0  \n",
       "3         150                1               1         30.0    1950.0  \n",
       "4         150                1               1         30.0    1950.0  \n",
       "\n",
       "[5 rows x 23 columns]"
      ]
     },
     "execution_count": 36,
     "metadata": {},
     "output_type": "execute_result"
    }
   ],
   "source": [
    "data.head(5)"
   ]
  },
  {
   "cell_type": "code",
   "execution_count": 37,
   "metadata": {},
   "outputs": [],
   "source": [
    "ultra = data[data['tariff'] == 'smart']['expenses']\n",
    "smart = data[data['tariff'] == 'ultra']['expenses']"
   ]
  },
  {
   "cell_type": "code",
   "execution_count": 38,
   "metadata": {},
   "outputs": [],
   "source": [
    "#значение alpha зададим как 0,05\n",
    "alpha = 0.05"
   ]
  },
  {
   "cell_type": "code",
   "execution_count": 39,
   "metadata": {},
   "outputs": [],
   "source": [
    "results = st.ttest_ind(ultra, smart, equal_var = False)"
   ]
  },
  {
   "cell_type": "code",
   "execution_count": 40,
   "metadata": {},
   "outputs": [
    {
     "name": "stdout",
     "output_type": "stream",
     "text": [
      "p-значение: 1.927011394420941e-250\n",
      "Отвергаем нулевую гипотезу\n"
     ]
    }
   ],
   "source": [
    "print('p-значение:', results.pvalue)\n",
    "\n",
    "if (results.pvalue < alpha):\n",
    "    print(\"Отвергаем нулевую гипотезу\")\n",
    "else:\n",
    "    print(\"Не получилось отвергнуть нулевую гипотезу\")"
   ]
  },
  {
   "cell_type": "markdown",
   "metadata": {},
   "source": [
    "    Разница не случайна, есть значимые различия между выборками"
   ]
  },
  {
   "cell_type": "markdown",
   "metadata": {},
   "source": [
    "**Гипотеза о равенстве средних двух генеральных совокупностей №2**\n",
    "\n",
    "    Сформулируем гипотезы:\n",
    "\n",
    "- H0: средняя выручка пользователей из Москвы не отличается от выручки пользователей из других регионов\n",
    "- H1: средняя выручка пользователей из Москвы отличается от выручки пользователей из других регионов"
   ]
  },
  {
   "cell_type": "code",
   "execution_count": 41,
   "metadata": {},
   "outputs": [],
   "source": [
    "data['region'] = np.where(data['city'] == 'Москва', 'Москва', 'Провинция')"
   ]
  },
  {
   "cell_type": "code",
   "execution_count": 42,
   "metadata": {},
   "outputs": [],
   "source": [
    "moscow = data[data['region'] == 'Москва']\n",
    "province = data[data['region'] == 'Провинция']"
   ]
  },
  {
   "cell_type": "code",
   "execution_count": 43,
   "metadata": {},
   "outputs": [],
   "source": [
    "moscow = moscow['expenses']\n",
    "province = province['expenses']"
   ]
  },
  {
   "cell_type": "code",
   "execution_count": 44,
   "metadata": {},
   "outputs": [],
   "source": [
    "results = st.ttest_ind(moscow, province, equal_var = False)"
   ]
  },
  {
   "cell_type": "code",
   "execution_count": 45,
   "metadata": {},
   "outputs": [
    {
     "name": "stdout",
     "output_type": "stream",
     "text": [
      "p-значение: 0.5216952110000279\n",
      "Не получилось отвергнуть нулевую гипотезу\n"
     ]
    }
   ],
   "source": [
    "print('p-значение:', results.pvalue)\n",
    "\n",
    "if (results.pvalue < alpha):\n",
    "    print(\"Отвергаем нулевую гипотезу\")\n",
    "else:\n",
    "    print(\"Не получилось отвергнуть нулевую гипотезу\")"
   ]
  },
  {
   "cell_type": "markdown",
   "metadata": {},
   "source": [
    "    Вывод\n",
    "    \n",
    "    Нулевая гипотеза (средние выручки клиентов тарифов «Ультра» и «Смарт» равны) отвергнута. Верна альтернативная гипотеза — средние выручки клиентов тарифов «Ультра» и «Смарт» отличаются с вероятностью почти более 99 %.\n",
    "    \n",
    "    Нулевая гипотеза (средняя выручка клиентов из Москвы и других регионов равны) верна с вероятностью почти 56 %."
   ]
  },
  {
   "cell_type": "markdown",
   "metadata": {},
   "source": [
    "## Выводы\n",
    "\n",
    "\n",
    "Люди на разных тарифах ведут себя по-разному\n",
    "\n",
    "СМС-ки никому не нужны на обоих тарифах. Но если в Смарте люди близки к своим лимитам, то на Ультре остаются большие неизрасходованные \"запасы\"\n",
    "\n",
    "Деньги одинаково текут и из регионов и из Москвы, и вероятно это не связано с уровнем жизни, а с поведением: ~8-10 часов в месяц — это предел у среднего клиента на обоих тарифах\n",
    "\n",
    "Тарифы приносят разные деньги, значимые различия есть\n",
    "\n",
    "Абоненты ультра чаще превышают лимиты звонков и интернет, что приводит к большему притоку денег для оператора, так как трафик сверх тарифа стоит дороже чем включенный в пакет.\n"
   ]
  },
  {
   "cell_type": "code",
   "execution_count": 46,
   "metadata": {},
   "outputs": [
    {
     "data": {
      "text/plain": [
       "Text(0, 0.5, 'Рубли')"
      ]
     },
     "execution_count": 46,
     "metadata": {},
     "output_type": "execute_result"
    },
    {
     "data": {
      "image/png": "[encoded data removed]",
      "text/plain": [
       "<Figure size 432x288 with 1 Axes>"
      ]
     },
     "metadata": {
      "needs_background": "light"
     },
     "output_type": "display_data"
    }
   ],
   "source": [
    "#Сравнение средних значений\n",
    "data.pivot_table(index='tariff', columns='month', values='expenses', aggfunc='mean').T.plot(kind='bar', alpha=0.5)\n",
    "plt.title('Средняя ежемесячная выручка по 2-м тарифам за год'+ \"\\n\")\n",
    "plt.xlabel('Месяц')\n",
    "plt.ylabel('Рубли')"
   ]
  }
 ],
 "metadata": {
  "ExecuteTimeLog": [
   {
    "duration": 1236,
    "start_time": "2022-06-09T08:30:21.228Z"
   },
   {
    "duration": 989,
    "start_time": "2022-06-09T08:33:33.085Z"
   },
   {
    "duration": 247,
    "start_time": "2022-06-09T08:33:50.233Z"
   },
   {
    "duration": 518,
    "start_time": "2022-06-09T08:33:56.817Z"
   },
   {
    "duration": 7,
    "start_time": "2022-06-09T08:33:59.369Z"
   },
   {
    "duration": 21,
    "start_time": "2022-06-09T08:34:06.585Z"
   },
   {
    "duration": 23,
    "start_time": "2022-06-09T08:37:26.893Z"
   },
   {
    "duration": 27,
    "start_time": "2022-06-09T08:45:19.157Z"
   },
   {
    "duration": 24,
    "start_time": "2022-06-09T08:45:37.181Z"
   },
   {
    "duration": 18,
    "start_time": "2022-06-09T08:47:35.877Z"
   },
   {
    "duration": 23,
    "start_time": "2022-06-09T09:07:23.747Z"
   },
   {
    "duration": 27,
    "start_time": "2022-06-09T09:07:29.347Z"
   },
   {
    "duration": 24,
    "start_time": "2022-06-09T09:07:35.410Z"
   },
   {
    "duration": 26,
    "start_time": "2022-06-09T09:08:04.620Z"
   },
   {
    "duration": 22,
    "start_time": "2022-06-09T09:08:17.178Z"
   },
   {
    "duration": 28,
    "start_time": "2022-06-09T09:08:42.852Z"
   },
   {
    "duration": 35,
    "start_time": "2022-06-09T09:08:57.826Z"
   },
   {
    "duration": 501,
    "start_time": "2022-06-09T09:09:24.066Z"
   },
   {
    "duration": 23,
    "start_time": "2022-06-09T09:09:50.818Z"
   },
   {
    "duration": 176,
    "start_time": "2022-06-09T09:10:16.362Z"
   },
   {
    "duration": 153,
    "start_time": "2022-06-09T09:10:31.107Z"
   },
   {
    "duration": 144,
    "start_time": "2022-06-09T09:10:40.074Z"
   },
   {
    "duration": 971,
    "start_time": "2022-06-16T07:20:20.745Z"
   },
   {
    "duration": 1181,
    "start_time": "2022-06-16T07:20:21.718Z"
   },
   {
    "duration": 37,
    "start_time": "2022-06-16T07:20:22.900Z"
   },
   {
    "duration": 213,
    "start_time": "2022-06-16T07:20:22.939Z"
   },
   {
    "duration": 19,
    "start_time": "2022-06-16T07:20:23.153Z"
   },
   {
    "duration": 19,
    "start_time": "2022-06-16T07:20:39.744Z"
   },
   {
    "duration": 10,
    "start_time": "2022-06-16T07:22:18.448Z"
   },
   {
    "duration": 13,
    "start_time": "2022-06-16T07:22:27.736Z"
   },
   {
    "duration": 860,
    "start_time": "2022-06-16T07:23:13.613Z"
   },
   {
    "duration": 401,
    "start_time": "2022-06-16T07:23:14.475Z"
   },
   {
    "duration": 30,
    "start_time": "2022-06-16T07:23:14.877Z"
   },
   {
    "duration": 171,
    "start_time": "2022-06-16T07:23:14.909Z"
   },
   {
    "duration": 28,
    "start_time": "2022-06-16T07:23:15.082Z"
   },
   {
    "duration": 15,
    "start_time": "2022-06-16T07:23:15.112Z"
   },
   {
    "duration": 139,
    "start_time": "2022-06-16T07:28:56.626Z"
   },
   {
    "duration": 580,
    "start_time": "2022-06-16T07:29:08.977Z"
   },
   {
    "duration": 915,
    "start_time": "2022-06-16T07:29:23.534Z"
   },
   {
    "duration": 447,
    "start_time": "2022-06-16T07:29:24.451Z"
   },
   {
    "duration": 29,
    "start_time": "2022-06-16T07:29:24.900Z"
   },
   {
    "duration": 188,
    "start_time": "2022-06-16T07:29:24.931Z"
   },
   {
    "duration": 19,
    "start_time": "2022-06-16T07:29:25.121Z"
   },
   {
    "duration": 15,
    "start_time": "2022-06-16T07:29:25.141Z"
   },
   {
    "duration": 82,
    "start_time": "2022-06-16T07:33:59.751Z"
   },
   {
    "duration": 3,
    "start_time": "2022-06-16T07:34:41.600Z"
   },
   {
    "duration": 9,
    "start_time": "2022-06-16T07:34:45.144Z"
   },
   {
    "duration": 186,
    "start_time": "2022-06-16T07:35:28.000Z"
   },
   {
    "duration": 65,
    "start_time": "2022-06-16T07:37:47.761Z"
   },
   {
    "duration": 69,
    "start_time": "2022-06-16T07:37:56.487Z"
   },
   {
    "duration": 93,
    "start_time": "2022-06-16T07:41:42.226Z"
   },
   {
    "duration": 91,
    "start_time": "2022-06-16T07:41:58.986Z"
   },
   {
    "duration": 22,
    "start_time": "2022-06-16T07:43:48.298Z"
   },
   {
    "duration": 10,
    "start_time": "2022-06-16T07:44:53.235Z"
   },
   {
    "duration": 9,
    "start_time": "2022-06-16T07:45:04.682Z"
   },
   {
    "duration": 25,
    "start_time": "2022-06-16T07:45:17.052Z"
   },
   {
    "duration": 9,
    "start_time": "2022-06-16T07:48:19.906Z"
   },
   {
    "duration": 262,
    "start_time": "2022-06-16T07:48:29.900Z"
   },
   {
    "duration": 9,
    "start_time": "2022-06-16T07:48:37.035Z"
   },
   {
    "duration": 404,
    "start_time": "2022-06-16T07:48:43.787Z"
   },
   {
    "duration": 10,
    "start_time": "2022-06-16T07:50:07.765Z"
   },
   {
    "duration": 12,
    "start_time": "2022-06-16T07:50:35.684Z"
   },
   {
    "duration": 12,
    "start_time": "2022-06-16T07:50:53.595Z"
   },
   {
    "duration": 13,
    "start_time": "2022-06-16T07:52:13.702Z"
   },
   {
    "duration": 5,
    "start_time": "2022-06-16T07:52:42.133Z"
   },
   {
    "duration": 5,
    "start_time": "2022-06-16T07:53:20.453Z"
   },
   {
    "duration": 9,
    "start_time": "2022-06-16T07:53:31.541Z"
   },
   {
    "duration": 17,
    "start_time": "2022-06-16T07:53:33.820Z"
   },
   {
    "duration": 52,
    "start_time": "2022-06-17T09:11:26.891Z"
   },
   {
    "duration": 1183,
    "start_time": "2022-06-17T09:11:34.180Z"
   },
   {
    "duration": 1145,
    "start_time": "2022-06-17T09:11:35.366Z"
   },
   {
    "duration": 50,
    "start_time": "2022-06-17T09:11:36.512Z"
   },
   {
    "duration": 129,
    "start_time": "2022-06-17T09:11:36.564Z"
   },
   {
    "duration": 211,
    "start_time": "2022-06-17T09:11:36.695Z"
   },
   {
    "duration": 45,
    "start_time": "2022-06-17T09:11:36.908Z"
   },
   {
    "duration": 36,
    "start_time": "2022-06-17T09:11:36.955Z"
   },
   {
    "duration": 21,
    "start_time": "2022-06-17T09:11:36.992Z"
   },
   {
    "duration": 43,
    "start_time": "2022-06-17T09:11:37.015Z"
   },
   {
    "duration": 25,
    "start_time": "2022-06-17T09:11:37.060Z"
   },
   {
    "duration": 19,
    "start_time": "2022-06-17T09:11:51.563Z"
   },
   {
    "duration": 14,
    "start_time": "2022-06-17T09:11:59.892Z"
   },
   {
    "duration": 29,
    "start_time": "2022-06-17T09:14:33.973Z"
   },
   {
    "duration": 90,
    "start_time": "2022-06-17T09:27:08.983Z"
   },
   {
    "duration": 96,
    "start_time": "2022-06-17T09:27:26.775Z"
   },
   {
    "duration": 11,
    "start_time": "2022-06-17T09:27:49.008Z"
   },
   {
    "duration": 6,
    "start_time": "2022-06-17T09:27:54.719Z"
   },
   {
    "duration": 7,
    "start_time": "2022-06-17T09:28:11.111Z"
   },
   {
    "duration": 6,
    "start_time": "2022-06-17T09:28:17.702Z"
   },
   {
    "duration": 1338,
    "start_time": "2022-06-20T05:05:43.256Z"
   },
   {
    "duration": 1310,
    "start_time": "2022-06-20T05:05:44.598Z"
   },
   {
    "duration": 56,
    "start_time": "2022-06-20T05:05:45.910Z"
   },
   {
    "duration": 22,
    "start_time": "2022-06-20T05:05:45.968Z"
   },
   {
    "duration": 149,
    "start_time": "2022-06-20T05:05:45.994Z"
   },
   {
    "duration": 274,
    "start_time": "2022-06-20T05:05:46.146Z"
   },
   {
    "duration": 50,
    "start_time": "2022-06-20T05:05:46.426Z"
   },
   {
    "duration": 57,
    "start_time": "2022-06-20T05:05:46.479Z"
   },
   {
    "duration": 23,
    "start_time": "2022-06-20T05:05:46.538Z"
   },
   {
    "duration": 19,
    "start_time": "2022-06-20T05:05:46.563Z"
   },
   {
    "duration": 11,
    "start_time": "2022-06-20T05:05:46.584Z"
   },
   {
    "duration": 7,
    "start_time": "2022-06-20T05:05:46.597Z"
   },
   {
    "duration": 51,
    "start_time": "2022-06-20T05:06:45.260Z"
   },
   {
    "duration": 121,
    "start_time": "2022-06-20T05:06:50.153Z"
   },
   {
    "duration": 52,
    "start_time": "2022-06-20T05:08:03.546Z"
   },
   {
    "duration": 51,
    "start_time": "2022-06-20T05:08:13.742Z"
   },
   {
    "duration": 57,
    "start_time": "2022-06-20T05:08:17.306Z"
   },
   {
    "duration": 11,
    "start_time": "2022-06-20T05:08:25.979Z"
   },
   {
    "duration": 10,
    "start_time": "2022-06-20T05:08:55.180Z"
   },
   {
    "duration": 10,
    "start_time": "2022-06-20T05:09:03.010Z"
   },
   {
    "duration": 11,
    "start_time": "2022-06-20T05:09:09.811Z"
   },
   {
    "duration": 66,
    "start_time": "2022-06-20T05:09:14.694Z"
   },
   {
    "duration": 76,
    "start_time": "2022-06-20T05:09:41.623Z"
   },
   {
    "duration": 57,
    "start_time": "2022-06-20T05:10:04.220Z"
   },
   {
    "duration": 46,
    "start_time": "2022-06-20T05:10:20.442Z"
   },
   {
    "duration": 23,
    "start_time": "2022-06-20T05:10:45.401Z"
   },
   {
    "duration": 41,
    "start_time": "2022-06-20T05:11:08.102Z"
   },
   {
    "duration": 12,
    "start_time": "2022-06-20T05:12:02.902Z"
   },
   {
    "duration": 1137,
    "start_time": "2022-06-20T07:30:35.199Z"
   },
   {
    "duration": 1269,
    "start_time": "2022-06-20T07:30:36.338Z"
   },
   {
    "duration": 36,
    "start_time": "2022-06-20T07:30:37.609Z"
   },
   {
    "duration": 7,
    "start_time": "2022-06-20T07:30:37.647Z"
   },
   {
    "duration": 144,
    "start_time": "2022-06-20T07:30:37.657Z"
   },
   {
    "duration": 204,
    "start_time": "2022-06-20T07:30:37.803Z"
   },
   {
    "duration": 39,
    "start_time": "2022-06-20T07:30:38.008Z"
   },
   {
    "duration": 33,
    "start_time": "2022-06-20T07:30:38.049Z"
   },
   {
    "duration": 27,
    "start_time": "2022-06-20T07:30:38.084Z"
   },
   {
    "duration": 47,
    "start_time": "2022-06-20T07:30:38.113Z"
   },
   {
    "duration": 6,
    "start_time": "2022-06-20T07:30:38.162Z"
   },
   {
    "duration": 79,
    "start_time": "2022-06-20T07:30:38.170Z"
   },
   {
    "duration": 32,
    "start_time": "2022-06-20T07:30:38.251Z"
   },
   {
    "duration": 36,
    "start_time": "2022-06-20T07:30:38.286Z"
   },
   {
    "duration": 103,
    "start_time": "2022-06-20T07:30:38.341Z"
   },
   {
    "duration": 1216,
    "start_time": "2022-06-21T09:05:18.442Z"
   },
   {
    "duration": 978,
    "start_time": "2022-06-21T09:05:19.661Z"
   },
   {
    "duration": 41,
    "start_time": "2022-06-21T09:05:20.640Z"
   },
   {
    "duration": 7,
    "start_time": "2022-06-21T09:05:20.683Z"
   },
   {
    "duration": 119,
    "start_time": "2022-06-21T09:05:20.692Z"
   },
   {
    "duration": 194,
    "start_time": "2022-06-21T09:05:20.812Z"
   },
   {
    "duration": 28,
    "start_time": "2022-06-21T09:05:21.008Z"
   },
   {
    "duration": 44,
    "start_time": "2022-06-21T09:05:21.038Z"
   },
   {
    "duration": 18,
    "start_time": "2022-06-21T09:05:21.083Z"
   },
   {
    "duration": 18,
    "start_time": "2022-06-21T09:05:21.103Z"
   },
   {
    "duration": 5,
    "start_time": "2022-06-21T09:05:21.123Z"
   },
   {
    "duration": 74,
    "start_time": "2022-06-21T09:05:21.129Z"
   },
   {
    "duration": 27,
    "start_time": "2022-06-21T09:05:21.205Z"
   },
   {
    "duration": 42,
    "start_time": "2022-06-21T09:05:21.235Z"
   },
   {
    "duration": 38,
    "start_time": "2022-06-21T09:13:30.902Z"
   },
   {
    "duration": 65,
    "start_time": "2022-06-21T09:14:35.262Z"
   },
   {
    "duration": 4,
    "start_time": "2022-06-21T09:15:16.744Z"
   },
   {
    "duration": 14,
    "start_time": "2022-06-21T09:15:31.379Z"
   },
   {
    "duration": 12,
    "start_time": "2022-06-21T09:15:38.384Z"
   },
   {
    "duration": 34,
    "start_time": "2022-06-21T09:19:35.479Z"
   },
   {
    "duration": 54,
    "start_time": "2022-06-21T09:19:46.408Z"
   },
   {
    "duration": 103,
    "start_time": "2022-06-21T09:45:40.105Z"
   },
   {
    "duration": 12,
    "start_time": "2022-06-21T09:46:09.320Z"
   },
   {
    "duration": 15,
    "start_time": "2022-06-21T09:47:57.580Z"
   },
   {
    "duration": 14,
    "start_time": "2022-06-21T09:48:46.920Z"
   },
   {
    "duration": 11,
    "start_time": "2022-06-21T11:38:07.554Z"
   },
   {
    "duration": 16,
    "start_time": "2022-06-21T11:38:20.018Z"
   },
   {
    "duration": 13,
    "start_time": "2022-06-21T11:46:23.212Z"
   },
   {
    "duration": 18,
    "start_time": "2022-06-21T11:46:44.052Z"
   },
   {
    "duration": 16,
    "start_time": "2022-06-21T11:46:54.219Z"
   },
   {
    "duration": 21,
    "start_time": "2022-06-21T11:48:50.073Z"
   },
   {
    "duration": 20,
    "start_time": "2022-06-21T11:49:12.828Z"
   },
   {
    "duration": 21,
    "start_time": "2022-06-21T11:49:30.396Z"
   },
   {
    "duration": 22,
    "start_time": "2022-06-21T11:49:59.182Z"
   },
   {
    "duration": 22,
    "start_time": "2022-06-21T11:50:12.813Z"
   },
   {
    "duration": 26,
    "start_time": "2022-06-21T11:50:20.956Z"
   },
   {
    "duration": 33,
    "start_time": "2022-06-21T11:55:12.384Z"
   },
   {
    "duration": 38,
    "start_time": "2022-06-21T11:58:53.543Z"
   },
   {
    "duration": 35,
    "start_time": "2022-06-21T11:58:57.691Z"
   },
   {
    "duration": 15,
    "start_time": "2022-06-21T12:15:24.105Z"
   },
   {
    "duration": 16,
    "start_time": "2022-06-21T12:16:14.018Z"
   },
   {
    "duration": 23,
    "start_time": "2022-06-21T12:17:06.330Z"
   },
   {
    "duration": 15,
    "start_time": "2022-06-21T12:18:16.306Z"
   },
   {
    "duration": 29,
    "start_time": "2022-06-21T12:18:33.241Z"
   },
   {
    "duration": 18,
    "start_time": "2022-06-21T12:19:15.890Z"
   },
   {
    "duration": 29,
    "start_time": "2022-06-21T12:19:54.611Z"
   },
   {
    "duration": 33,
    "start_time": "2022-06-21T12:20:19.546Z"
   },
   {
    "duration": 53,
    "start_time": "2022-06-21T12:23:13.007Z"
   },
   {
    "duration": 12,
    "start_time": "2022-06-21T12:24:27.085Z"
   },
   {
    "duration": 18,
    "start_time": "2022-06-21T12:24:36.947Z"
   },
   {
    "duration": 47,
    "start_time": "2022-06-21T12:26:08.651Z"
   },
   {
    "duration": 34,
    "start_time": "2022-06-21T12:26:31.092Z"
   },
   {
    "duration": 30,
    "start_time": "2022-06-21T12:27:16.644Z"
   },
   {
    "duration": 38,
    "start_time": "2022-06-21T12:29:25.027Z"
   },
   {
    "duration": 29,
    "start_time": "2022-06-21T12:30:36.933Z"
   },
   {
    "duration": 29,
    "start_time": "2022-06-21T12:30:41.997Z"
   },
   {
    "duration": 55,
    "start_time": "2022-06-21T12:30:47.579Z"
   },
   {
    "duration": 1133,
    "start_time": "2022-06-22T08:39:07.806Z"
   },
   {
    "duration": 1007,
    "start_time": "2022-06-22T08:39:08.942Z"
   },
   {
    "duration": 36,
    "start_time": "2022-06-22T08:39:09.951Z"
   },
   {
    "duration": 7,
    "start_time": "2022-06-22T08:39:09.989Z"
   },
   {
    "duration": 116,
    "start_time": "2022-06-22T08:39:09.998Z"
   },
   {
    "duration": 199,
    "start_time": "2022-06-22T08:39:10.116Z"
   },
   {
    "duration": 31,
    "start_time": "2022-06-22T08:39:10.317Z"
   },
   {
    "duration": 22,
    "start_time": "2022-06-22T08:39:10.350Z"
   },
   {
    "duration": 19,
    "start_time": "2022-06-22T08:39:10.374Z"
   },
   {
    "duration": 40,
    "start_time": "2022-06-22T08:39:10.395Z"
   },
   {
    "duration": 16,
    "start_time": "2022-06-22T08:39:10.436Z"
   },
   {
    "duration": 27,
    "start_time": "2022-06-22T08:39:10.454Z"
   },
   {
    "duration": 56,
    "start_time": "2022-06-22T08:39:10.482Z"
   },
   {
    "duration": 34,
    "start_time": "2022-06-22T08:39:10.540Z"
   },
   {
    "duration": 34,
    "start_time": "2022-06-22T08:39:10.575Z"
   },
   {
    "duration": 25,
    "start_time": "2022-06-22T08:39:10.611Z"
   },
   {
    "duration": 29,
    "start_time": "2022-06-22T08:39:10.638Z"
   },
   {
    "duration": 38,
    "start_time": "2022-06-22T08:39:17.515Z"
   },
   {
    "duration": 46,
    "start_time": "2022-06-22T08:39:25.051Z"
   },
   {
    "duration": 35,
    "start_time": "2022-06-22T08:39:51.196Z"
   },
   {
    "duration": 12,
    "start_time": "2022-06-22T08:50:07.245Z"
   },
   {
    "duration": 30,
    "start_time": "2022-06-22T08:50:17.891Z"
   },
   {
    "duration": 49,
    "start_time": "2022-06-22T08:50:37.020Z"
   },
   {
    "duration": 1270,
    "start_time": "2022-06-23T09:00:22.450Z"
   },
   {
    "duration": 1096,
    "start_time": "2022-06-23T09:00:23.722Z"
   },
   {
    "duration": 40,
    "start_time": "2022-06-23T09:00:24.820Z"
   },
   {
    "duration": 26,
    "start_time": "2022-06-23T09:00:24.862Z"
   },
   {
    "duration": 152,
    "start_time": "2022-06-23T09:00:24.890Z"
   },
   {
    "duration": 240,
    "start_time": "2022-06-23T09:00:25.044Z"
   },
   {
    "duration": 37,
    "start_time": "2022-06-23T09:00:25.286Z"
   },
   {
    "duration": 21,
    "start_time": "2022-06-23T09:00:25.324Z"
   },
   {
    "duration": 43,
    "start_time": "2022-06-23T09:00:25.347Z"
   },
   {
    "duration": 35,
    "start_time": "2022-06-23T09:00:25.394Z"
   },
   {
    "duration": 12,
    "start_time": "2022-06-23T09:00:25.431Z"
   },
   {
    "duration": 47,
    "start_time": "2022-06-23T09:00:25.444Z"
   },
   {
    "duration": 61,
    "start_time": "2022-06-23T09:00:25.493Z"
   },
   {
    "duration": 44,
    "start_time": "2022-06-23T09:00:25.556Z"
   },
   {
    "duration": 52,
    "start_time": "2022-06-23T09:00:25.603Z"
   },
   {
    "duration": 9,
    "start_time": "2022-06-23T09:00:25.657Z"
   },
   {
    "duration": 82,
    "start_time": "2022-06-23T09:00:25.669Z"
   },
   {
    "duration": 108,
    "start_time": "2022-06-23T09:00:25.753Z"
   },
   {
    "duration": 9,
    "start_time": "2022-06-24T07:21:31.301Z"
   },
   {
    "duration": 41,
    "start_time": "2022-06-24T07:22:11.505Z"
   },
   {
    "duration": 1208,
    "start_time": "2022-06-24T07:22:17.894Z"
   },
   {
    "duration": 1576,
    "start_time": "2022-06-24T07:22:19.104Z"
   },
   {
    "duration": 33,
    "start_time": "2022-06-24T07:22:20.681Z"
   },
   {
    "duration": 7,
    "start_time": "2022-06-24T07:22:20.717Z"
   },
   {
    "duration": 111,
    "start_time": "2022-06-24T07:22:20.726Z"
   },
   {
    "duration": 209,
    "start_time": "2022-06-24T07:22:20.839Z"
   },
   {
    "duration": 34,
    "start_time": "2022-06-24T07:22:21.052Z"
   },
   {
    "duration": 21,
    "start_time": "2022-06-24T07:22:21.088Z"
   },
   {
    "duration": 49,
    "start_time": "2022-06-24T07:22:21.111Z"
   },
   {
    "duration": 19,
    "start_time": "2022-06-24T07:22:21.165Z"
   },
   {
    "duration": 9,
    "start_time": "2022-06-24T07:22:21.186Z"
   },
   {
    "duration": 17,
    "start_time": "2022-06-24T07:22:21.197Z"
   },
   {
    "duration": 81,
    "start_time": "2022-06-24T07:22:21.215Z"
   },
   {
    "duration": 33,
    "start_time": "2022-06-24T07:22:21.297Z"
   },
   {
    "duration": 52,
    "start_time": "2022-06-24T07:22:21.332Z"
   },
   {
    "duration": 9,
    "start_time": "2022-06-24T07:22:21.387Z"
   },
   {
    "duration": 71,
    "start_time": "2022-06-24T07:22:21.398Z"
   },
   {
    "duration": 5,
    "start_time": "2022-06-24T07:22:21.471Z"
   },
   {
    "duration": 343,
    "start_time": "2022-06-24T07:22:21.477Z"
   },
   {
    "duration": 695,
    "start_time": "2022-06-24T07:24:11.814Z"
   },
   {
    "duration": 30,
    "start_time": "2022-06-24T07:48:16.919Z"
   },
   {
    "duration": 912,
    "start_time": "2022-06-24T07:48:26.364Z"
   },
   {
    "duration": 757,
    "start_time": "2022-06-24T07:48:44.092Z"
   },
   {
    "duration": 928,
    "start_time": "2022-06-24T07:49:31.596Z"
   },
   {
    "duration": 5,
    "start_time": "2022-06-24T07:49:55.764Z"
   },
   {
    "duration": 156,
    "start_time": "2022-06-24T07:49:58.451Z"
   },
   {
    "duration": 143,
    "start_time": "2022-06-24T07:50:08.339Z"
   },
   {
    "duration": 1041,
    "start_time": "2022-06-24T07:50:16.297Z"
   },
   {
    "duration": 491,
    "start_time": "2022-06-24T07:50:17.340Z"
   },
   {
    "duration": 39,
    "start_time": "2022-06-24T07:50:17.832Z"
   },
   {
    "duration": 16,
    "start_time": "2022-06-24T07:50:17.874Z"
   },
   {
    "duration": 156,
    "start_time": "2022-06-24T07:50:17.893Z"
   },
   {
    "duration": 231,
    "start_time": "2022-06-24T07:50:18.051Z"
   },
   {
    "duration": 28,
    "start_time": "2022-06-24T07:50:18.284Z"
   },
   {
    "duration": 22,
    "start_time": "2022-06-24T07:50:18.313Z"
   },
   {
    "duration": 24,
    "start_time": "2022-06-24T07:50:18.356Z"
   },
   {
    "duration": 17,
    "start_time": "2022-06-24T07:50:18.383Z"
   },
   {
    "duration": 8,
    "start_time": "2022-06-24T07:50:18.402Z"
   },
   {
    "duration": 42,
    "start_time": "2022-06-24T07:50:18.411Z"
   },
   {
    "duration": 69,
    "start_time": "2022-06-24T07:50:18.455Z"
   },
   {
    "duration": 44,
    "start_time": "2022-06-24T07:50:18.526Z"
   },
   {
    "duration": 37,
    "start_time": "2022-06-24T07:50:18.571Z"
   },
   {
    "duration": 13,
    "start_time": "2022-06-24T07:50:18.610Z"
   },
   {
    "duration": 71,
    "start_time": "2022-06-24T07:50:18.624Z"
   },
   {
    "duration": 4,
    "start_time": "2022-06-24T07:50:18.697Z"
   },
   {
    "duration": 145,
    "start_time": "2022-06-24T07:50:18.703Z"
   },
   {
    "duration": 132,
    "start_time": "2022-06-24T07:50:23.859Z"
   },
   {
    "duration": 118,
    "start_time": "2022-06-24T07:51:32.219Z"
   },
   {
    "duration": 14,
    "start_time": "2022-06-24T08:04:21.340Z"
   },
   {
    "duration": 70,
    "start_time": "2022-06-24T08:04:30.628Z"
   },
   {
    "duration": 10,
    "start_time": "2022-06-24T08:04:36.421Z"
   },
   {
    "duration": 24,
    "start_time": "2022-06-24T08:09:33.311Z"
   },
   {
    "duration": 130,
    "start_time": "2022-06-24T08:11:33.136Z"
   },
   {
    "duration": 15,
    "start_time": "2022-06-24T08:13:32.848Z"
   },
   {
    "duration": 1420,
    "start_time": "2022-06-24T12:18:09.202Z"
   },
   {
    "duration": 1415,
    "start_time": "2022-06-24T12:18:10.625Z"
   },
   {
    "duration": 45,
    "start_time": "2022-06-24T12:18:12.042Z"
   },
   {
    "duration": 29,
    "start_time": "2022-06-24T12:18:12.089Z"
   },
   {
    "duration": 140,
    "start_time": "2022-06-24T12:18:12.121Z"
   },
   {
    "duration": 225,
    "start_time": "2022-06-24T12:18:12.272Z"
   },
   {
    "duration": 27,
    "start_time": "2022-06-24T12:18:12.501Z"
   },
   {
    "duration": 45,
    "start_time": "2022-06-24T12:18:12.530Z"
   },
   {
    "duration": 27,
    "start_time": "2022-06-24T12:18:12.577Z"
   },
   {
    "duration": 21,
    "start_time": "2022-06-24T12:18:12.606Z"
   },
   {
    "duration": 8,
    "start_time": "2022-06-24T12:18:12.628Z"
   },
   {
    "duration": 22,
    "start_time": "2022-06-24T12:18:12.650Z"
   },
   {
    "duration": 86,
    "start_time": "2022-06-24T12:18:12.676Z"
   },
   {
    "duration": 44,
    "start_time": "2022-06-24T12:18:12.766Z"
   },
   {
    "duration": 42,
    "start_time": "2022-06-24T12:18:12.812Z"
   },
   {
    "duration": 12,
    "start_time": "2022-06-24T12:18:12.856Z"
   },
   {
    "duration": 75,
    "start_time": "2022-06-24T12:18:12.870Z"
   },
   {
    "duration": 25,
    "start_time": "2022-06-24T12:18:12.946Z"
   },
   {
    "duration": 23,
    "start_time": "2022-06-24T12:18:12.976Z"
   },
   {
    "duration": 130,
    "start_time": "2022-06-24T12:18:13.002Z"
   },
   {
    "duration": 125,
    "start_time": "2022-06-24T12:21:55.800Z"
   },
   {
    "duration": 31,
    "start_time": "2022-06-24T12:23:54.755Z"
   },
   {
    "duration": 256,
    "start_time": "2022-06-24T12:27:06.018Z"
   },
   {
    "duration": 137,
    "start_time": "2022-06-24T12:30:42.827Z"
   },
   {
    "duration": 283,
    "start_time": "2022-06-24T12:30:49.401Z"
   },
   {
    "duration": 223,
    "start_time": "2022-06-24T12:30:55.082Z"
   },
   {
    "duration": 172,
    "start_time": "2022-06-24T12:30:59.056Z"
   },
   {
    "duration": 143,
    "start_time": "2022-06-24T12:31:07.219Z"
   },
   {
    "duration": 151,
    "start_time": "2022-06-24T12:31:52.722Z"
   },
   {
    "duration": 9,
    "start_time": "2022-06-24T12:33:04.329Z"
   },
   {
    "duration": 1692,
    "start_time": "2022-06-24T12:33:18.873Z"
   },
   {
    "duration": 227,
    "start_time": "2022-06-24T12:33:30.745Z"
   },
   {
    "duration": 225,
    "start_time": "2022-06-24T12:34:01.536Z"
   },
   {
    "duration": 271,
    "start_time": "2022-06-24T12:34:10.592Z"
   },
   {
    "duration": 11,
    "start_time": "2022-06-24T12:34:40.033Z"
   },
   {
    "duration": 45,
    "start_time": "2022-06-24T12:37:13.047Z"
   },
   {
    "duration": 11,
    "start_time": "2022-06-24T12:48:40.372Z"
   },
   {
    "duration": 11,
    "start_time": "2022-06-24T12:48:52.167Z"
   },
   {
    "duration": 74,
    "start_time": "2022-06-24T12:49:01.326Z"
   },
   {
    "duration": 179,
    "start_time": "2022-06-24T12:51:37.526Z"
   },
   {
    "duration": 182,
    "start_time": "2022-06-24T12:52:15.601Z"
   },
   {
    "duration": 147,
    "start_time": "2022-06-24T12:52:46.178Z"
   },
   {
    "duration": 150,
    "start_time": "2022-06-24T12:52:51.509Z"
   },
   {
    "duration": 24,
    "start_time": "2022-06-24T12:57:14.273Z"
   },
   {
    "duration": 14,
    "start_time": "2022-06-24T12:57:26.089Z"
   },
   {
    "duration": 11,
    "start_time": "2022-06-24T12:57:48.393Z"
   },
   {
    "duration": 1170,
    "start_time": "2022-06-25T14:01:47.075Z"
   },
   {
    "duration": 1031,
    "start_time": "2022-06-25T14:01:48.247Z"
   },
   {
    "duration": 35,
    "start_time": "2022-06-25T14:01:49.280Z"
   },
   {
    "duration": 8,
    "start_time": "2022-06-25T14:01:49.317Z"
   },
   {
    "duration": 112,
    "start_time": "2022-06-25T14:01:49.326Z"
   },
   {
    "duration": 207,
    "start_time": "2022-06-25T14:01:49.440Z"
   },
   {
    "duration": 35,
    "start_time": "2022-06-25T14:01:49.648Z"
   },
   {
    "duration": 21,
    "start_time": "2022-06-25T14:01:49.685Z"
   },
   {
    "duration": 17,
    "start_time": "2022-06-25T14:01:49.708Z"
   },
   {
    "duration": 40,
    "start_time": "2022-06-25T14:01:49.728Z"
   },
   {
    "duration": 9,
    "start_time": "2022-06-25T14:01:49.770Z"
   },
   {
    "duration": 17,
    "start_time": "2022-06-25T14:01:49.781Z"
   },
   {
    "duration": 11,
    "start_time": "2022-06-25T14:01:49.799Z"
   },
   {
    "duration": 78,
    "start_time": "2022-06-25T14:01:49.812Z"
   },
   {
    "duration": 32,
    "start_time": "2022-06-25T14:01:49.892Z"
   },
   {
    "duration": 43,
    "start_time": "2022-06-25T14:01:49.925Z"
   },
   {
    "duration": 13,
    "start_time": "2022-06-25T14:01:49.970Z"
   },
   {
    "duration": 51,
    "start_time": "2022-06-25T14:01:49.985Z"
   },
   {
    "duration": 8,
    "start_time": "2022-06-25T14:01:50.038Z"
   },
   {
    "duration": 24,
    "start_time": "2022-06-25T14:01:50.047Z"
   },
   {
    "duration": 145,
    "start_time": "2022-06-25T14:01:50.072Z"
   },
   {
    "duration": 163,
    "start_time": "2022-06-25T14:01:50.219Z"
   },
   {
    "duration": 133,
    "start_time": "2022-06-25T14:01:50.383Z"
   },
   {
    "duration": 133,
    "start_time": "2022-06-25T14:01:50.518Z"
   },
   {
    "duration": 55,
    "start_time": "2022-06-25T14:01:50.653Z"
   },
   {
    "duration": 152,
    "start_time": "2022-06-25T14:01:50.709Z"
   },
   {
    "duration": 156,
    "start_time": "2022-06-25T14:01:50.866Z"
   },
   {
    "duration": 10,
    "start_time": "2022-06-25T14:01:51.025Z"
   },
   {
    "duration": 4,
    "start_time": "2022-06-25T14:06:34.748Z"
   },
   {
    "duration": 132,
    "start_time": "2022-06-25T14:06:36.479Z"
   },
   {
    "duration": 3,
    "start_time": "2022-06-25T14:11:36.704Z"
   },
   {
    "duration": 158,
    "start_time": "2022-06-25T14:12:42.585Z"
   },
   {
    "duration": 159,
    "start_time": "2022-06-25T14:12:51.242Z"
   },
   {
    "duration": 226,
    "start_time": "2022-06-25T14:14:47.580Z"
   },
   {
    "duration": 152,
    "start_time": "2022-06-25T14:15:00.515Z"
   },
   {
    "duration": 10,
    "start_time": "2022-06-25T14:15:10.391Z"
   },
   {
    "duration": 166,
    "start_time": "2022-06-25T14:16:01.019Z"
   },
   {
    "duration": 101,
    "start_time": "2022-06-25T14:18:03.811Z"
   },
   {
    "duration": 13,
    "start_time": "2022-06-25T14:18:13.628Z"
   },
   {
    "duration": 11,
    "start_time": "2022-06-25T14:18:23.980Z"
   },
   {
    "duration": 151,
    "start_time": "2022-06-25T14:19:03.448Z"
   },
   {
    "duration": 154,
    "start_time": "2022-06-25T14:21:16.729Z"
   },
   {
    "duration": 196,
    "start_time": "2022-06-25T14:21:18.871Z"
   },
   {
    "duration": 14,
    "start_time": "2022-06-25T14:31:37.878Z"
   },
   {
    "duration": 14,
    "start_time": "2022-06-25T14:36:08.932Z"
   },
   {
    "duration": 2,
    "start_time": "2022-06-25T14:38:22.550Z"
   },
   {
    "duration": 22,
    "start_time": "2022-06-25T14:39:11.458Z"
   },
   {
    "duration": 6,
    "start_time": "2022-06-25T14:39:32.454Z"
   },
   {
    "duration": 6,
    "start_time": "2022-06-25T14:40:26.048Z"
   },
   {
    "duration": 4,
    "start_time": "2022-06-25T14:41:04.506Z"
   },
   {
    "duration": 4,
    "start_time": "2022-06-25T14:41:14.822Z"
   },
   {
    "duration": 4,
    "start_time": "2022-06-25T14:41:57.478Z"
   },
   {
    "duration": 3,
    "start_time": "2022-06-25T14:48:55.633Z"
   },
   {
    "duration": 3,
    "start_time": "2022-06-25T14:48:57.764Z"
   },
   {
    "duration": 3,
    "start_time": "2022-06-25T14:49:53.371Z"
   },
   {
    "duration": 4,
    "start_time": "2022-06-25T14:49:54.713Z"
   },
   {
    "duration": 5,
    "start_time": "2022-06-25T14:50:02.572Z"
   },
   {
    "duration": 3,
    "start_time": "2022-06-25T14:50:04.788Z"
   },
   {
    "duration": 6,
    "start_time": "2022-06-25T14:50:06.060Z"
   },
   {
    "duration": 15,
    "start_time": "2022-06-25T14:51:05.354Z"
   },
   {
    "duration": 7,
    "start_time": "2022-06-25T14:51:14.130Z"
   },
   {
    "duration": 10,
    "start_time": "2022-06-25T14:51:23.600Z"
   },
   {
    "duration": 17,
    "start_time": "2022-06-25T14:51:54.260Z"
   },
   {
    "duration": 10,
    "start_time": "2022-06-25T14:52:26.692Z"
   },
   {
    "duration": 4,
    "start_time": "2022-06-25T14:52:54.926Z"
   },
   {
    "duration": 4,
    "start_time": "2022-06-25T14:52:55.909Z"
   },
   {
    "duration": 4,
    "start_time": "2022-06-25T14:53:35.283Z"
   },
   {
    "duration": 4,
    "start_time": "2022-06-25T14:53:52.523Z"
   },
   {
    "duration": 5,
    "start_time": "2022-06-25T14:53:53.583Z"
   },
   {
    "duration": 4,
    "start_time": "2022-06-25T14:54:04.561Z"
   },
   {
    "duration": 4,
    "start_time": "2022-06-25T14:54:08.087Z"
   },
   {
    "duration": 6,
    "start_time": "2022-06-25T14:54:14.792Z"
   },
   {
    "duration": 5,
    "start_time": "2022-06-25T14:56:52.885Z"
   },
   {
    "duration": 7,
    "start_time": "2022-06-25T14:57:17.719Z"
   },
   {
    "duration": 4,
    "start_time": "2022-06-25T14:58:06.835Z"
   },
   {
    "duration": 4,
    "start_time": "2022-06-25T14:58:32.780Z"
   },
   {
    "duration": 4,
    "start_time": "2022-06-25T14:58:43.526Z"
   },
   {
    "duration": 1288,
    "start_time": "2022-06-25T20:43:38.789Z"
   },
   {
    "duration": 4,
    "start_time": "2022-06-25T20:43:40.080Z"
   },
   {
    "duration": 1054,
    "start_time": "2022-06-25T20:43:40.086Z"
   },
   {
    "duration": 34,
    "start_time": "2022-06-25T20:43:41.142Z"
   },
   {
    "duration": 6,
    "start_time": "2022-06-25T20:43:41.182Z"
   },
   {
    "duration": 116,
    "start_time": "2022-06-25T20:43:41.190Z"
   },
   {
    "duration": 189,
    "start_time": "2022-06-25T20:43:41.307Z"
   },
   {
    "duration": 30,
    "start_time": "2022-06-25T20:43:41.497Z"
   },
   {
    "duration": 20,
    "start_time": "2022-06-25T20:43:41.529Z"
   },
   {
    "duration": 37,
    "start_time": "2022-06-25T20:43:41.550Z"
   },
   {
    "duration": 18,
    "start_time": "2022-06-25T20:43:41.589Z"
   },
   {
    "duration": 7,
    "start_time": "2022-06-25T20:43:41.609Z"
   },
   {
    "duration": 13,
    "start_time": "2022-06-25T20:43:41.617Z"
   },
   {
    "duration": 36,
    "start_time": "2022-06-25T20:43:41.633Z"
   },
   {
    "duration": 53,
    "start_time": "2022-06-25T20:43:41.671Z"
   },
   {
    "duration": 50,
    "start_time": "2022-06-25T20:43:41.725Z"
   },
   {
    "duration": 35,
    "start_time": "2022-06-25T20:43:41.777Z"
   },
   {
    "duration": 9,
    "start_time": "2022-06-25T20:43:41.814Z"
   },
   {
    "duration": 71,
    "start_time": "2022-06-25T20:43:41.825Z"
   },
   {
    "duration": 9,
    "start_time": "2022-06-25T20:43:41.897Z"
   },
   {
    "duration": 4,
    "start_time": "2022-06-25T20:43:41.907Z"
   },
   {
    "duration": 139,
    "start_time": "2022-06-25T20:43:41.913Z"
   },
   {
    "duration": 173,
    "start_time": "2022-06-25T20:43:42.053Z"
   },
   {
    "duration": 120,
    "start_time": "2022-06-25T20:43:42.228Z"
   },
   {
    "duration": 143,
    "start_time": "2022-06-25T20:43:42.350Z"
   },
   {
    "duration": 40,
    "start_time": "2022-06-25T20:43:42.495Z"
   },
   {
    "duration": 179,
    "start_time": "2022-06-25T20:43:42.537Z"
   },
   {
    "duration": 151,
    "start_time": "2022-06-25T20:43:42.718Z"
   },
   {
    "duration": 12,
    "start_time": "2022-06-25T20:43:42.874Z"
   },
   {
    "duration": 155,
    "start_time": "2022-06-25T20:43:42.888Z"
   },
   {
    "duration": 156,
    "start_time": "2022-06-25T20:43:43.044Z"
   },
   {
    "duration": 9,
    "start_time": "2022-06-25T20:43:43.201Z"
   },
   {
    "duration": 228,
    "start_time": "2022-06-25T20:43:43.212Z"
   },
   {
    "duration": 150,
    "start_time": "2022-06-25T20:43:43.442Z"
   },
   {
    "duration": 26,
    "start_time": "2022-06-25T20:43:43.594Z"
   },
   {
    "duration": 9,
    "start_time": "2022-06-25T20:43:43.623Z"
   },
   {
    "duration": 6,
    "start_time": "2022-06-25T20:43:43.634Z"
   },
   {
    "duration": 8,
    "start_time": "2022-06-25T20:43:43.642Z"
   },
   {
    "duration": 18,
    "start_time": "2022-06-25T20:43:43.652Z"
   },
   {
    "duration": 16,
    "start_time": "2022-06-25T20:43:43.672Z"
   },
   {
    "duration": 7,
    "start_time": "2022-06-25T20:43:43.691Z"
   },
   {
    "duration": 4,
    "start_time": "2022-06-25T20:43:43.699Z"
   },
   {
    "duration": 6,
    "start_time": "2022-06-25T20:43:43.704Z"
   },
   {
    "duration": 7,
    "start_time": "2022-06-25T20:43:43.712Z"
   },
   {
    "duration": 5,
    "start_time": "2022-06-25T20:50:41.517Z"
   },
   {
    "duration": 1302,
    "start_time": "2022-06-25T22:49:52.785Z"
   },
   {
    "duration": 2,
    "start_time": "2022-06-25T22:49:54.090Z"
   },
   {
    "duration": 1911,
    "start_time": "2022-06-25T22:49:54.093Z"
   },
   {
    "duration": 78,
    "start_time": "2022-06-25T22:49:56.006Z"
   },
   {
    "duration": 8,
    "start_time": "2022-06-25T22:49:56.087Z"
   },
   {
    "duration": 98,
    "start_time": "2022-06-25T22:49:56.096Z"
   },
   {
    "duration": 251,
    "start_time": "2022-06-25T22:49:56.196Z"
   },
   {
    "duration": 50,
    "start_time": "2022-06-25T22:49:56.448Z"
   },
   {
    "duration": 24,
    "start_time": "2022-06-25T22:49:56.500Z"
   },
   {
    "duration": 35,
    "start_time": "2022-06-25T22:49:56.525Z"
   },
   {
    "duration": 29,
    "start_time": "2022-06-25T22:49:56.562Z"
   },
   {
    "duration": 13,
    "start_time": "2022-06-25T22:49:56.593Z"
   },
   {
    "duration": 15,
    "start_time": "2022-06-25T22:49:56.607Z"
   },
   {
    "duration": 16,
    "start_time": "2022-06-25T22:49:56.625Z"
   },
   {
    "duration": 70,
    "start_time": "2022-06-25T22:49:56.643Z"
   },
   {
    "duration": 71,
    "start_time": "2022-06-25T22:49:56.715Z"
   },
   {
    "duration": 37,
    "start_time": "2022-06-25T22:49:56.791Z"
   },
   {
    "duration": 9,
    "start_time": "2022-06-25T22:49:56.830Z"
   },
   {
    "duration": 54,
    "start_time": "2022-06-25T22:49:56.841Z"
   },
   {
    "duration": 9,
    "start_time": "2022-06-25T22:49:56.896Z"
   },
   {
    "duration": 10,
    "start_time": "2022-06-25T22:49:56.907Z"
   },
   {
    "duration": 135,
    "start_time": "2022-06-25T22:49:56.918Z"
   },
   {
    "duration": 192,
    "start_time": "2022-06-25T22:49:57.058Z"
   },
   {
    "duration": 165,
    "start_time": "2022-06-25T22:49:57.252Z"
   },
   {
    "duration": 189,
    "start_time": "2022-06-25T22:49:57.419Z"
   },
   {
    "duration": 50,
    "start_time": "2022-06-25T22:49:57.610Z"
   },
   {
    "duration": 164,
    "start_time": "2022-06-25T22:49:57.666Z"
   },
   {
    "duration": 167,
    "start_time": "2022-06-25T22:49:57.832Z"
   },
   {
    "duration": 8,
    "start_time": "2022-06-25T22:49:58.001Z"
   },
   {
    "duration": 152,
    "start_time": "2022-06-25T22:49:58.011Z"
   },
   {
    "duration": 157,
    "start_time": "2022-06-25T22:49:58.165Z"
   },
   {
    "duration": 9,
    "start_time": "2022-06-25T22:49:58.324Z"
   },
   {
    "duration": 236,
    "start_time": "2022-06-25T22:49:58.335Z"
   },
   {
    "duration": 152,
    "start_time": "2022-06-25T22:49:58.574Z"
   },
   {
    "duration": 20,
    "start_time": "2022-06-25T22:49:58.728Z"
   },
   {
    "duration": 13,
    "start_time": "2022-06-25T22:49:58.768Z"
   },
   {
    "duration": 6,
    "start_time": "2022-06-25T22:49:58.787Z"
   },
   {
    "duration": 5,
    "start_time": "2022-06-25T22:49:58.794Z"
   },
   {
    "duration": 5,
    "start_time": "2022-06-25T22:49:58.801Z"
   },
   {
    "duration": 8,
    "start_time": "2022-06-25T22:49:58.807Z"
   },
   {
    "duration": 7,
    "start_time": "2022-06-25T22:49:58.818Z"
   },
   {
    "duration": 3,
    "start_time": "2022-06-25T22:49:58.827Z"
   },
   {
    "duration": 6,
    "start_time": "2022-06-25T22:49:58.832Z"
   },
   {
    "duration": 6,
    "start_time": "2022-06-25T22:49:58.839Z"
   },
   {
    "duration": 117,
    "start_time": "2022-06-25T22:55:35.897Z"
   },
   {
    "duration": 1125,
    "start_time": "2022-06-25T22:55:54.497Z"
   },
   {
    "duration": 3,
    "start_time": "2022-06-25T22:55:55.624Z"
   },
   {
    "duration": 588,
    "start_time": "2022-06-25T22:55:55.629Z"
   },
   {
    "duration": 35,
    "start_time": "2022-06-25T22:55:56.219Z"
   },
   {
    "duration": 11,
    "start_time": "2022-06-25T22:55:56.257Z"
   },
   {
    "duration": 61,
    "start_time": "2022-06-25T22:55:56.270Z"
   },
   {
    "duration": 219,
    "start_time": "2022-06-25T22:55:56.333Z"
   },
   {
    "duration": 274,
    "start_time": "2022-06-25T22:55:56.554Z"
   },
   {
    "duration": 31,
    "start_time": "2022-06-25T22:55:56.830Z"
   },
   {
    "duration": 36,
    "start_time": "2022-06-25T22:55:56.862Z"
   },
   {
    "duration": 31,
    "start_time": "2022-06-25T22:55:56.900Z"
   },
   {
    "duration": 38,
    "start_time": "2022-06-25T22:55:56.933Z"
   },
   {
    "duration": 35,
    "start_time": "2022-06-25T22:55:56.973Z"
   },
   {
    "duration": 14,
    "start_time": "2022-06-25T22:55:57.012Z"
   },
   {
    "duration": 72,
    "start_time": "2022-06-25T22:55:57.028Z"
   },
   {
    "duration": 41,
    "start_time": "2022-06-25T22:55:57.102Z"
   },
   {
    "duration": 51,
    "start_time": "2022-06-25T22:55:57.161Z"
   },
   {
    "duration": 13,
    "start_time": "2022-06-25T22:55:57.214Z"
   },
   {
    "duration": 109,
    "start_time": "2022-06-25T22:55:57.229Z"
   },
   {
    "duration": 30,
    "start_time": "2022-06-25T22:55:57.340Z"
   },
   {
    "duration": 12,
    "start_time": "2022-06-25T22:55:57.372Z"
   },
   {
    "duration": 206,
    "start_time": "2022-06-25T22:55:57.386Z"
   },
   {
    "duration": 408,
    "start_time": "2022-06-25T22:55:57.596Z"
   },
   {
    "duration": 360,
    "start_time": "2022-06-25T22:55:58.005Z"
   },
   {
    "duration": 312,
    "start_time": "2022-06-25T22:55:58.371Z"
   },
   {
    "duration": 111,
    "start_time": "2022-06-25T22:55:58.690Z"
   },
   {
    "duration": 395,
    "start_time": "2022-06-25T22:55:58.803Z"
   },
   {
    "duration": 468,
    "start_time": "2022-06-25T22:55:59.199Z"
   },
   {
    "duration": 13,
    "start_time": "2022-06-25T22:55:59.669Z"
   },
   {
    "duration": 401,
    "start_time": "2022-06-25T22:55:59.684Z"
   },
   {
    "duration": 302,
    "start_time": "2022-06-25T22:56:00.098Z"
   },
   {
    "duration": 10,
    "start_time": "2022-06-25T22:56:00.402Z"
   },
   {
    "duration": 187,
    "start_time": "2022-06-25T22:56:00.414Z"
   },
   {
    "duration": 174,
    "start_time": "2022-06-25T22:56:00.603Z"
   },
   {
    "duration": 29,
    "start_time": "2022-06-25T22:56:00.779Z"
   },
   {
    "duration": 8,
    "start_time": "2022-06-25T22:56:00.810Z"
   },
   {
    "duration": 6,
    "start_time": "2022-06-25T22:56:00.820Z"
   },
   {
    "duration": 12,
    "start_time": "2022-06-25T22:56:00.827Z"
   },
   {
    "duration": 12,
    "start_time": "2022-06-25T22:56:00.841Z"
   },
   {
    "duration": 44,
    "start_time": "2022-06-25T22:56:00.855Z"
   },
   {
    "duration": 7,
    "start_time": "2022-06-25T22:56:00.903Z"
   },
   {
    "duration": 5,
    "start_time": "2022-06-25T22:56:00.912Z"
   },
   {
    "duration": 6,
    "start_time": "2022-06-25T22:56:00.918Z"
   },
   {
    "duration": 8,
    "start_time": "2022-06-25T22:56:00.925Z"
   },
   {
    "duration": 109,
    "start_time": "2022-06-25T22:56:38.313Z"
   },
   {
    "duration": 1071,
    "start_time": "2022-06-25T22:56:51.237Z"
   },
   {
    "duration": 2,
    "start_time": "2022-06-25T22:56:52.310Z"
   },
   {
    "duration": 1196,
    "start_time": "2022-06-25T22:56:52.314Z"
   },
   {
    "duration": 85,
    "start_time": "2022-06-25T22:56:53.512Z"
   },
   {
    "duration": 7,
    "start_time": "2022-06-25T22:56:53.599Z"
   },
   {
    "duration": 152,
    "start_time": "2022-06-25T22:56:53.607Z"
   },
   {
    "duration": 498,
    "start_time": "2022-06-25T22:56:53.761Z"
   },
   {
    "duration": 324,
    "start_time": "2022-06-25T22:56:54.261Z"
   },
   {
    "duration": 25,
    "start_time": "2022-06-25T22:56:54.587Z"
   },
   {
    "duration": 18,
    "start_time": "2022-06-25T22:56:54.614Z"
   },
   {
    "duration": 50,
    "start_time": "2022-06-25T22:56:54.634Z"
   },
   {
    "duration": 8,
    "start_time": "2022-06-25T22:56:54.686Z"
   },
   {
    "duration": 18,
    "start_time": "2022-06-25T22:56:54.696Z"
   },
   {
    "duration": 12,
    "start_time": "2022-06-25T22:56:54.715Z"
   },
   {
    "duration": 86,
    "start_time": "2022-06-25T22:56:54.729Z"
   },
   {
    "duration": 32,
    "start_time": "2022-06-25T22:56:54.817Z"
   },
   {
    "duration": 54,
    "start_time": "2022-06-25T22:56:54.850Z"
   },
   {
    "duration": 10,
    "start_time": "2022-06-25T22:56:54.906Z"
   },
   {
    "duration": 83,
    "start_time": "2022-06-25T22:56:54.918Z"
   },
   {
    "duration": 10,
    "start_time": "2022-06-25T22:56:55.003Z"
   },
   {
    "duration": 4,
    "start_time": "2022-06-25T22:56:55.015Z"
   },
   {
    "duration": 162,
    "start_time": "2022-06-25T22:56:55.020Z"
   },
   {
    "duration": 167,
    "start_time": "2022-06-25T22:56:55.184Z"
   },
   {
    "duration": 145,
    "start_time": "2022-06-25T22:56:55.352Z"
   },
   {
    "duration": 154,
    "start_time": "2022-06-25T22:56:55.499Z"
   },
   {
    "duration": 60,
    "start_time": "2022-06-25T22:56:55.655Z"
   },
   {
    "duration": 193,
    "start_time": "2022-06-25T22:56:55.717Z"
   },
   {
    "duration": 187,
    "start_time": "2022-06-25T22:56:55.914Z"
   },
   {
    "duration": 9,
    "start_time": "2022-06-25T22:56:56.103Z"
   },
   {
    "duration": 175,
    "start_time": "2022-06-25T22:56:56.113Z"
   },
   {
    "duration": 235,
    "start_time": "2022-06-25T22:56:56.291Z"
   },
   {
    "duration": 9,
    "start_time": "2022-06-25T22:56:56.528Z"
   },
   {
    "duration": 179,
    "start_time": "2022-06-25T22:56:56.538Z"
   },
   {
    "duration": 156,
    "start_time": "2022-06-25T22:56:56.718Z"
   },
   {
    "duration": 23,
    "start_time": "2022-06-25T22:56:56.877Z"
   },
   {
    "duration": 6,
    "start_time": "2022-06-25T22:56:56.901Z"
   },
   {
    "duration": 14,
    "start_time": "2022-06-25T22:56:56.908Z"
   },
   {
    "duration": 15,
    "start_time": "2022-06-25T22:56:56.923Z"
   },
   {
    "duration": 12,
    "start_time": "2022-06-25T22:56:56.940Z"
   },
   {
    "duration": 34,
    "start_time": "2022-06-25T22:56:56.954Z"
   },
   {
    "duration": 34,
    "start_time": "2022-06-25T22:56:56.991Z"
   },
   {
    "duration": 24,
    "start_time": "2022-06-25T22:56:57.026Z"
   },
   {
    "duration": 38,
    "start_time": "2022-06-25T22:56:57.052Z"
   },
   {
    "duration": 9,
    "start_time": "2022-06-25T22:56:57.092Z"
   },
   {
    "duration": 224,
    "start_time": "2022-06-25T22:58:24.922Z"
   },
   {
    "duration": 203,
    "start_time": "2022-06-25T22:58:30.700Z"
   },
   {
    "duration": 184,
    "start_time": "2022-06-25T22:58:40.838Z"
   },
   {
    "duration": 1220,
    "start_time": "2022-06-26T16:51:27.411Z"
   },
   {
    "duration": 2,
    "start_time": "2022-06-26T16:51:28.634Z"
   },
   {
    "duration": 1218,
    "start_time": "2022-06-26T16:51:28.638Z"
   },
   {
    "duration": 30,
    "start_time": "2022-06-26T16:51:29.858Z"
   },
   {
    "duration": 8,
    "start_time": "2022-06-26T16:51:29.889Z"
   },
   {
    "duration": 37,
    "start_time": "2022-06-26T16:51:29.899Z"
   },
   {
    "duration": 268,
    "start_time": "2022-06-26T16:51:29.938Z"
   },
   {
    "duration": 41,
    "start_time": "2022-06-26T16:51:30.209Z"
   },
   {
    "duration": 176,
    "start_time": "2022-06-26T16:51:30.252Z"
   },
   {
    "duration": 23,
    "start_time": "2022-06-26T16:51:30.431Z"
   },
   {
    "duration": 34,
    "start_time": "2022-06-26T16:51:30.455Z"
   },
   {
    "duration": 24,
    "start_time": "2022-06-26T16:51:30.491Z"
   },
   {
    "duration": 7,
    "start_time": "2022-06-26T16:51:30.517Z"
   },
   {
    "duration": 16,
    "start_time": "2022-06-26T16:51:30.525Z"
   },
   {
    "duration": 36,
    "start_time": "2022-06-26T16:51:30.542Z"
   },
   {
    "duration": 55,
    "start_time": "2022-06-26T16:51:30.580Z"
   },
   {
    "duration": 45,
    "start_time": "2022-06-26T16:51:30.637Z"
   },
   {
    "duration": 45,
    "start_time": "2022-06-26T16:51:30.684Z"
   },
   {
    "duration": 12,
    "start_time": "2022-06-26T16:51:30.731Z"
   },
   {
    "duration": 78,
    "start_time": "2022-06-26T16:51:30.745Z"
   },
   {
    "duration": 7,
    "start_time": "2022-06-26T16:51:30.825Z"
   },
   {
    "duration": 10,
    "start_time": "2022-06-26T16:51:30.834Z"
   },
   {
    "duration": 139,
    "start_time": "2022-06-26T16:51:30.846Z"
   },
   {
    "duration": 172,
    "start_time": "2022-06-26T16:51:30.987Z"
   },
   {
    "duration": 118,
    "start_time": "2022-06-26T16:51:31.161Z"
   },
   {
    "duration": 116,
    "start_time": "2022-06-26T16:51:31.281Z"
   },
   {
    "duration": 0,
    "start_time": "2022-06-26T16:51:31.400Z"
   },
   {
    "duration": 0,
    "start_time": "2022-06-26T16:51:31.401Z"
   },
   {
    "duration": 0,
    "start_time": "2022-06-26T16:51:31.402Z"
   },
   {
    "duration": 0,
    "start_time": "2022-06-26T16:51:31.404Z"
   },
   {
    "duration": 0,
    "start_time": "2022-06-26T16:51:31.405Z"
   },
   {
    "duration": 0,
    "start_time": "2022-06-26T16:51:31.406Z"
   },
   {
    "duration": 0,
    "start_time": "2022-06-26T16:51:31.407Z"
   },
   {
    "duration": 0,
    "start_time": "2022-06-26T16:51:31.408Z"
   },
   {
    "duration": 0,
    "start_time": "2022-06-26T16:51:31.410Z"
   },
   {
    "duration": 0,
    "start_time": "2022-06-26T16:51:31.410Z"
   },
   {
    "duration": 0,
    "start_time": "2022-06-26T16:51:31.412Z"
   },
   {
    "duration": 0,
    "start_time": "2022-06-26T16:51:31.413Z"
   },
   {
    "duration": 0,
    "start_time": "2022-06-26T16:51:31.414Z"
   },
   {
    "duration": 0,
    "start_time": "2022-06-26T16:51:31.415Z"
   },
   {
    "duration": 0,
    "start_time": "2022-06-26T16:51:31.416Z"
   },
   {
    "duration": 0,
    "start_time": "2022-06-26T16:51:31.417Z"
   },
   {
    "duration": 0,
    "start_time": "2022-06-26T16:51:31.417Z"
   },
   {
    "duration": 0,
    "start_time": "2022-06-26T16:51:31.419Z"
   },
   {
    "duration": 0,
    "start_time": "2022-06-26T16:51:31.420Z"
   },
   {
    "duration": 970,
    "start_time": "2022-06-26T16:51:53.347Z"
   },
   {
    "duration": 3,
    "start_time": "2022-06-26T16:51:54.318Z"
   },
   {
    "duration": 428,
    "start_time": "2022-06-26T16:51:54.322Z"
   },
   {
    "duration": 30,
    "start_time": "2022-06-26T16:51:54.752Z"
   },
   {
    "duration": 6,
    "start_time": "2022-06-26T16:51:54.783Z"
   },
   {
    "duration": 33,
    "start_time": "2022-06-26T16:51:54.790Z"
   },
   {
    "duration": 189,
    "start_time": "2022-06-26T16:51:54.824Z"
   },
   {
    "duration": 26,
    "start_time": "2022-06-26T16:51:55.014Z"
   },
   {
    "duration": 172,
    "start_time": "2022-06-26T16:51:55.042Z"
   },
   {
    "duration": 24,
    "start_time": "2022-06-26T16:51:55.216Z"
   },
   {
    "duration": 39,
    "start_time": "2022-06-26T16:51:55.242Z"
   },
   {
    "duration": 23,
    "start_time": "2022-06-26T16:51:55.283Z"
   },
   {
    "duration": 5,
    "start_time": "2022-06-26T16:51:55.307Z"
   },
   {
    "duration": 13,
    "start_time": "2022-06-26T16:51:55.316Z"
   },
   {
    "duration": 21,
    "start_time": "2022-06-26T16:51:55.331Z"
   },
   {
    "duration": 68,
    "start_time": "2022-06-26T16:51:55.356Z"
   },
   {
    "duration": 29,
    "start_time": "2022-06-26T16:51:55.426Z"
   },
   {
    "duration": 43,
    "start_time": "2022-06-26T16:51:55.456Z"
   },
   {
    "duration": 9,
    "start_time": "2022-06-26T16:51:55.501Z"
   },
   {
    "duration": 42,
    "start_time": "2022-06-26T16:51:55.512Z"
   },
   {
    "duration": 30,
    "start_time": "2022-06-26T16:51:55.556Z"
   },
   {
    "duration": 4,
    "start_time": "2022-06-26T16:51:55.587Z"
   },
   {
    "duration": 124,
    "start_time": "2022-06-26T16:51:55.593Z"
   },
   {
    "duration": 166,
    "start_time": "2022-06-26T16:51:55.719Z"
   },
   {
    "duration": 134,
    "start_time": "2022-06-26T16:51:55.888Z"
   },
   {
    "duration": 96,
    "start_time": "2022-06-26T16:51:56.023Z"
   },
   {
    "duration": 0,
    "start_time": "2022-06-26T16:51:56.120Z"
   },
   {
    "duration": 0,
    "start_time": "2022-06-26T16:51:56.122Z"
   },
   {
    "duration": 0,
    "start_time": "2022-06-26T16:51:56.123Z"
   },
   {
    "duration": 0,
    "start_time": "2022-06-26T16:51:56.123Z"
   },
   {
    "duration": 0,
    "start_time": "2022-06-26T16:51:56.125Z"
   },
   {
    "duration": 0,
    "start_time": "2022-06-26T16:51:56.125Z"
   },
   {
    "duration": 1,
    "start_time": "2022-06-26T16:51:56.126Z"
   },
   {
    "duration": 0,
    "start_time": "2022-06-26T16:51:56.127Z"
   },
   {
    "duration": 0,
    "start_time": "2022-06-26T16:51:56.128Z"
   },
   {
    "duration": 0,
    "start_time": "2022-06-26T16:51:56.129Z"
   },
   {
    "duration": 0,
    "start_time": "2022-06-26T16:51:56.130Z"
   },
   {
    "duration": 0,
    "start_time": "2022-06-26T16:51:56.131Z"
   },
   {
    "duration": 0,
    "start_time": "2022-06-26T16:51:56.132Z"
   },
   {
    "duration": 0,
    "start_time": "2022-06-26T16:51:56.133Z"
   },
   {
    "duration": 0,
    "start_time": "2022-06-26T16:51:56.135Z"
   },
   {
    "duration": 0,
    "start_time": "2022-06-26T16:51:56.136Z"
   },
   {
    "duration": 0,
    "start_time": "2022-06-26T16:51:56.137Z"
   },
   {
    "duration": 0,
    "start_time": "2022-06-26T16:51:56.138Z"
   },
   {
    "duration": 0,
    "start_time": "2022-06-26T16:51:56.139Z"
   },
   {
    "duration": 75,
    "start_time": "2022-06-26T16:52:13.213Z"
   },
   {
    "duration": 117,
    "start_time": "2022-06-26T16:52:23.604Z"
   },
   {
    "duration": 878,
    "start_time": "2022-06-26T16:52:28.316Z"
   },
   {
    "duration": 2,
    "start_time": "2022-06-26T16:52:29.196Z"
   },
   {
    "duration": 419,
    "start_time": "2022-06-26T16:52:29.199Z"
   },
   {
    "duration": 30,
    "start_time": "2022-06-26T16:52:29.620Z"
   },
   {
    "duration": 7,
    "start_time": "2022-06-26T16:52:29.651Z"
   },
   {
    "duration": 37,
    "start_time": "2022-06-26T16:52:29.659Z"
   },
   {
    "duration": 165,
    "start_time": "2022-06-26T16:52:29.698Z"
   },
   {
    "duration": 32,
    "start_time": "2022-06-26T16:52:29.864Z"
   },
   {
    "duration": 159,
    "start_time": "2022-06-26T16:52:29.897Z"
   },
   {
    "duration": 26,
    "start_time": "2022-06-26T16:52:30.058Z"
   },
   {
    "duration": 16,
    "start_time": "2022-06-26T16:52:30.085Z"
   },
   {
    "duration": 16,
    "start_time": "2022-06-26T16:52:30.102Z"
   },
   {
    "duration": 7,
    "start_time": "2022-06-26T16:52:30.119Z"
   },
   {
    "duration": 14,
    "start_time": "2022-06-26T16:52:30.127Z"
   },
   {
    "duration": 12,
    "start_time": "2022-06-26T16:52:30.142Z"
   },
   {
    "duration": 71,
    "start_time": "2022-06-26T16:52:30.155Z"
   },
   {
    "duration": 34,
    "start_time": "2022-06-26T16:52:30.228Z"
   },
   {
    "duration": 43,
    "start_time": "2022-06-26T16:52:30.263Z"
   },
   {
    "duration": 10,
    "start_time": "2022-06-26T16:52:30.308Z"
   },
   {
    "duration": 60,
    "start_time": "2022-06-26T16:52:30.319Z"
   },
   {
    "duration": 8,
    "start_time": "2022-06-26T16:52:30.380Z"
   },
   {
    "duration": 6,
    "start_time": "2022-06-26T16:52:30.390Z"
   },
   {
    "duration": 120,
    "start_time": "2022-06-26T16:52:30.397Z"
   },
   {
    "duration": 140,
    "start_time": "2022-06-26T16:52:30.519Z"
   },
   {
    "duration": 119,
    "start_time": "2022-06-26T16:52:30.661Z"
   },
   {
    "duration": 120,
    "start_time": "2022-06-26T16:52:30.781Z"
   },
   {
    "duration": 38,
    "start_time": "2022-06-26T16:52:30.902Z"
   },
   {
    "duration": 143,
    "start_time": "2022-06-26T16:52:30.943Z"
   },
   {
    "duration": 134,
    "start_time": "2022-06-26T16:52:31.088Z"
   },
   {
    "duration": 8,
    "start_time": "2022-06-26T16:52:31.224Z"
   },
   {
    "duration": 132,
    "start_time": "2022-06-26T16:52:31.233Z"
   },
   {
    "duration": 188,
    "start_time": "2022-06-26T16:52:31.367Z"
   },
   {
    "duration": 10,
    "start_time": "2022-06-26T16:52:31.556Z"
   },
   {
    "duration": 130,
    "start_time": "2022-06-26T16:52:31.577Z"
   },
   {
    "duration": 123,
    "start_time": "2022-06-26T16:52:31.708Z"
   },
   {
    "duration": 18,
    "start_time": "2022-06-26T16:52:31.833Z"
   },
   {
    "duration": 5,
    "start_time": "2022-06-26T16:52:31.852Z"
   },
   {
    "duration": 4,
    "start_time": "2022-06-26T16:52:31.859Z"
   },
   {
    "duration": 3,
    "start_time": "2022-06-26T16:52:31.877Z"
   },
   {
    "duration": 6,
    "start_time": "2022-06-26T16:52:31.881Z"
   },
   {
    "duration": 5,
    "start_time": "2022-06-26T16:52:31.888Z"
   },
   {
    "duration": 8,
    "start_time": "2022-06-26T16:52:31.894Z"
   },
   {
    "duration": 6,
    "start_time": "2022-06-26T16:52:31.904Z"
   },
   {
    "duration": 13,
    "start_time": "2022-06-26T16:52:31.911Z"
   },
   {
    "duration": 10,
    "start_time": "2022-06-26T16:52:31.925Z"
   },
   {
    "duration": 1087,
    "start_time": "2022-06-27T12:37:42.033Z"
   },
   {
    "duration": 9,
    "start_time": "2022-06-27T12:37:43.122Z"
   },
   {
    "duration": 513,
    "start_time": "2022-06-27T12:37:43.138Z"
   },
   {
    "duration": 47,
    "start_time": "2022-06-27T12:37:43.654Z"
   },
   {
    "duration": 9,
    "start_time": "2022-06-27T12:37:43.704Z"
   },
   {
    "duration": 58,
    "start_time": "2022-06-27T12:37:43.715Z"
   },
   {
    "duration": 213,
    "start_time": "2022-06-27T12:37:43.775Z"
   },
   {
    "duration": 29,
    "start_time": "2022-06-27T12:37:43.990Z"
   },
   {
    "duration": 190,
    "start_time": "2022-06-27T12:37:44.033Z"
   },
   {
    "duration": 33,
    "start_time": "2022-06-27T12:37:44.228Z"
   },
   {
    "duration": 20,
    "start_time": "2022-06-27T12:37:44.263Z"
   },
   {
    "duration": 18,
    "start_time": "2022-06-27T12:37:44.285Z"
   },
   {
    "duration": 12,
    "start_time": "2022-06-27T12:37:44.327Z"
   },
   {
    "duration": 23,
    "start_time": "2022-06-27T12:37:44.342Z"
   },
   {
    "duration": 14,
    "start_time": "2022-06-27T12:37:44.368Z"
   },
   {
    "duration": 71,
    "start_time": "2022-06-27T12:37:44.383Z"
   },
   {
    "duration": 35,
    "start_time": "2022-06-27T12:37:44.457Z"
   },
   {
    "duration": 66,
    "start_time": "2022-06-27T12:37:44.494Z"
   },
   {
    "duration": 12,
    "start_time": "2022-06-27T12:37:44.563Z"
   },
   {
    "duration": 76,
    "start_time": "2022-06-27T12:37:44.577Z"
   },
   {
    "duration": 12,
    "start_time": "2022-06-27T12:37:44.655Z"
   },
   {
    "duration": 6,
    "start_time": "2022-06-27T12:37:44.668Z"
   },
   {
    "duration": 130,
    "start_time": "2022-06-27T12:37:44.675Z"
   },
   {
    "duration": 198,
    "start_time": "2022-06-27T12:37:44.808Z"
   },
   {
    "duration": 162,
    "start_time": "2022-06-27T12:37:45.009Z"
   },
   {
    "duration": 145,
    "start_time": "2022-06-27T12:37:45.173Z"
   },
   {
    "duration": 54,
    "start_time": "2022-06-27T12:37:45.320Z"
   },
   {
    "duration": 202,
    "start_time": "2022-06-27T12:37:45.375Z"
   },
   {
    "duration": 187,
    "start_time": "2022-06-27T12:37:45.578Z"
   },
   {
    "duration": 10,
    "start_time": "2022-06-27T12:37:45.767Z"
   },
   {
    "duration": 153,
    "start_time": "2022-06-27T12:37:45.778Z"
   },
   {
    "duration": 279,
    "start_time": "2022-06-27T12:37:45.932Z"
   },
   {
    "duration": 19,
    "start_time": "2022-06-27T12:37:46.213Z"
   },
   {
    "duration": 180,
    "start_time": "2022-06-27T12:37:46.240Z"
   },
   {
    "duration": 152,
    "start_time": "2022-06-27T12:37:46.422Z"
   },
   {
    "duration": 76,
    "start_time": "2022-06-27T12:37:46.576Z"
   },
   {
    "duration": 33,
    "start_time": "2022-06-27T12:37:46.665Z"
   },
   {
    "duration": 39,
    "start_time": "2022-06-27T12:37:46.701Z"
   },
   {
    "duration": 18,
    "start_time": "2022-06-27T12:37:46.742Z"
   },
   {
    "duration": 9,
    "start_time": "2022-06-27T12:37:46.762Z"
   },
   {
    "duration": 11,
    "start_time": "2022-06-27T12:37:46.775Z"
   },
   {
    "duration": 22,
    "start_time": "2022-06-27T12:37:46.788Z"
   },
   {
    "duration": 34,
    "start_time": "2022-06-27T12:37:46.812Z"
   },
   {
    "duration": 10,
    "start_time": "2022-06-27T12:37:46.848Z"
   },
   {
    "duration": 25,
    "start_time": "2022-06-27T12:37:46.859Z"
   },
   {
    "duration": 246,
    "start_time": "2022-06-27T12:42:03.426Z"
   },
   {
    "duration": 1366,
    "start_time": "2023-07-28T17:36:14.336Z"
   },
   {
    "duration": 3,
    "start_time": "2023-07-28T17:36:15.704Z"
   },
   {
    "duration": 1176,
    "start_time": "2023-07-28T17:36:15.708Z"
   },
   {
    "duration": 38,
    "start_time": "2023-07-28T17:36:16.887Z"
   },
   {
    "duration": 27,
    "start_time": "2023-07-28T17:36:16.927Z"
   },
   {
    "duration": 81,
    "start_time": "2023-07-28T17:36:16.955Z"
   },
   {
    "duration": 230,
    "start_time": "2023-07-28T17:36:17.038Z"
   },
   {
    "duration": 39,
    "start_time": "2023-07-28T17:36:17.269Z"
   },
   {
    "duration": 210,
    "start_time": "2023-07-28T17:36:17.309Z"
   },
   {
    "duration": 26,
    "start_time": "2023-07-28T17:36:17.521Z"
   },
   {
    "duration": 48,
    "start_time": "2023-07-28T17:36:17.549Z"
   },
   {
    "duration": 18,
    "start_time": "2023-07-28T17:36:17.599Z"
   },
   {
    "duration": 37,
    "start_time": "2023-07-28T17:36:17.619Z"
   },
   {
    "duration": 53,
    "start_time": "2023-07-28T17:36:17.658Z"
   },
   {
    "duration": 48,
    "start_time": "2023-07-28T17:36:17.712Z"
   },
   {
    "duration": 74,
    "start_time": "2023-07-28T17:36:17.762Z"
   },
   {
    "duration": 38,
    "start_time": "2023-07-28T17:36:17.838Z"
   },
   {
    "duration": 48,
    "start_time": "2023-07-28T17:36:17.878Z"
   },
   {
    "duration": 29,
    "start_time": "2023-07-28T17:36:17.928Z"
   },
   {
    "duration": 53,
    "start_time": "2023-07-28T17:36:17.958Z"
   },
   {
    "duration": 10,
    "start_time": "2023-07-28T17:36:18.013Z"
   },
   {
    "duration": 4,
    "start_time": "2023-07-28T17:36:18.024Z"
   },
   {
    "duration": 139,
    "start_time": "2023-07-28T17:36:18.030Z"
   },
   {
    "duration": 179,
    "start_time": "2023-07-28T17:36:18.171Z"
   },
   {
    "duration": 135,
    "start_time": "2023-07-28T17:36:18.352Z"
   },
   {
    "duration": 138,
    "start_time": "2023-07-28T17:36:18.489Z"
   },
   {
    "duration": 59,
    "start_time": "2023-07-28T17:36:18.629Z"
   },
   {
    "duration": 177,
    "start_time": "2023-07-28T17:36:18.692Z"
   },
   {
    "duration": 157,
    "start_time": "2023-07-28T17:36:18.871Z"
   },
   {
    "duration": 11,
    "start_time": "2023-07-28T17:36:19.030Z"
   },
   {
    "duration": 156,
    "start_time": "2023-07-28T17:36:19.043Z"
   },
   {
    "duration": 230,
    "start_time": "2023-07-28T17:36:19.202Z"
   },
   {
    "duration": 10,
    "start_time": "2023-07-28T17:36:19.434Z"
   },
   {
    "duration": 179,
    "start_time": "2023-07-28T17:36:19.446Z"
   },
   {
    "duration": 176,
    "start_time": "2023-07-28T17:36:19.627Z"
   },
   {
    "duration": 24,
    "start_time": "2023-07-28T17:36:19.805Z"
   },
   {
    "duration": 36,
    "start_time": "2023-07-28T17:36:19.831Z"
   },
   {
    "duration": 23,
    "start_time": "2023-07-28T17:36:19.868Z"
   },
   {
    "duration": 15,
    "start_time": "2023-07-28T17:36:19.893Z"
   },
   {
    "duration": 9,
    "start_time": "2023-07-28T17:36:19.909Z"
   },
   {
    "duration": 25,
    "start_time": "2023-07-28T17:36:19.919Z"
   },
   {
    "duration": 15,
    "start_time": "2023-07-28T17:36:19.946Z"
   },
   {
    "duration": 25,
    "start_time": "2023-07-28T17:36:19.963Z"
   },
   {
    "duration": 17,
    "start_time": "2023-07-28T17:36:19.990Z"
   },
   {
    "duration": 18,
    "start_time": "2023-07-28T17:36:20.009Z"
   },
   {
    "duration": 254,
    "start_time": "2023-07-28T17:36:20.028Z"
   }
  ],
  "kernelspec": {
   "display_name": "Python 3 (ipykernel)",
   "language": "python",
   "name": "python3"
  },
  "language_info": {
   "codemirror_mode": {
    "name": "ipython",
    "version": 3
   },
   "file_extension": ".py",
   "mimetype": "text/x-python",
   "name": "python",
   "nbconvert_exporter": "python",
   "pygments_lexer": "ipython3",
   "version": "3.9.5"
  },
  "toc": {
   "base_numbering": 1,
   "nav_menu": {
    "height": "125.99px",
    "width": "164.983px"
   },
   "number_sections": true,
   "sideBar": true,
   "skip_h1_title": true,
   "title_cell": "Table of Contents",
   "title_sidebar": "Contents",
   "toc_cell": false,
   "toc_position": {
    "height": "calc(100% - 180px)",
    "left": "10px",
    "top": "150px",
    "width": "230.747px"
   },
   "toc_section_display": true,
   "toc_window_display": true
  }
 },
 "nbformat": 4,
 "nbformat_minor": 2
}
