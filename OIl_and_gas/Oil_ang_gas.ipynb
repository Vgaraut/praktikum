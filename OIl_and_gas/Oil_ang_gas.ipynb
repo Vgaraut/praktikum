{
 "cells": [
  {
   "cell_type": "markdown",
   "metadata": {},
   "source": [
    "# Выбор локации для скважины"
   ]
  },
  {
   "cell_type": "markdown",
   "metadata": {},
   "source": [
    "Допустим, вы работаете в добывающей компании «ГлавРосГосНефть». Нужно решить, где бурить новую скважину.\n",
    "\n",
    "Вам предоставлены пробы нефти в трёх регионах: в каждом 10 000 месторождений, где измерили качество нефти и объём её запасов. Постройте модель машинного обучения, которая поможет определить регион, где добыча принесёт наибольшую прибыль. Проанализируйте возможную прибыль и риски техникой *Bootstrap.*\n",
    "\n",
    "Шаги для выбора локации:\n",
    "\n",
    "- В избранном регионе ищут месторождения, для каждого определяют значения признаков;\n",
    "- Строят модель и оценивают объём запасов;\n",
    "- Выбирают месторождения с самым высокими оценками значений. Количество месторождений зависит от бюджета компании и стоимости разработки одной скважины;\n",
    "- Прибыль равна суммарной прибыли отобранных месторождений."
   ]
  },
  {
   "cell_type": "markdown",
   "metadata": {},
   "source": [
    "## Загрузка и подготовка данных"
   ]
  },
  {
   "cell_type": "code",
   "execution_count": 1,
   "metadata": {},
   "outputs": [],
   "source": [
    "import pandas as pd\n",
    "import numpy as np\n",
    "import scipy.stats as st\n",
    "\n",
    "from sklearn.linear_model import LinearRegression\n",
    "\n",
    "from sklearn.metrics import mean_squared_error\n",
    "from sklearn.model_selection import train_test_split\n",
    "from sklearn.preprocessing import MinMaxScaler\n",
    "from sklearn.preprocessing import StandardScaler\n",
    "\n",
    "import matplotlib.pyplot as plt\n",
    "\n",
    "import warnings\n",
    "import warnings\n",
    "warnings.filterwarnings(\"ignore\")"
   ]
  },
  {
   "cell_type": "code",
   "execution_count": 2,
   "metadata": {},
   "outputs": [],
   "source": [
    "df_0 = pd.read_csv('/datasets/geo_data_0.csv')\n",
    "df_1 = pd.read_csv('/datasets/geo_data_1.csv')\n",
    "df_2 = pd.read_csv('/datasets/geo_data_2.csv')"
   ]
  },
  {
   "cell_type": "code",
   "execution_count": 3,
   "metadata": {},
   "outputs": [
    {
     "name": "stdout",
     "output_type": "stream",
     "text": [
      "<class 'pandas.core.frame.DataFrame'>\n",
      "RangeIndex: 100000 entries, 0 to 99999\n",
      "Data columns (total 5 columns):\n",
      " #   Column   Non-Null Count   Dtype  \n",
      "---  ------   --------------   -----  \n",
      " 0   id       100000 non-null  object \n",
      " 1   f0       100000 non-null  float64\n",
      " 2   f1       100000 non-null  float64\n",
      " 3   f2       100000 non-null  float64\n",
      " 4   product  100000 non-null  float64\n",
      "dtypes: float64(4), object(1)\n",
      "memory usage: 3.8+ MB\n"
     ]
    },
    {
     "data": {
      "text/html": [
       "<div>\n",
       "<style scoped>\n",
       "    .dataframe tbody tr th:only-of-type {\n",
       "        vertical-align: middle;\n",
       "    }\n",
       "\n",
       "    .dataframe tbody tr th {\n",
       "        vertical-align: top;\n",
       "    }\n",
       "\n",
       "    .dataframe thead th {\n",
       "        text-align: right;\n",
       "    }\n",
       "</style>\n",
       "<table border=\"1\" class=\"dataframe\">\n",
       "  <thead>\n",
       "    <tr style=\"text-align: right;\">\n",
       "      <th></th>\n",
       "      <th>id</th>\n",
       "      <th>f0</th>\n",
       "      <th>f1</th>\n",
       "      <th>f2</th>\n",
       "      <th>product</th>\n",
       "    </tr>\n",
       "  </thead>\n",
       "  <tbody>\n",
       "    <tr>\n",
       "      <th>0</th>\n",
       "      <td>kBEdx</td>\n",
       "      <td>-15.001348</td>\n",
       "      <td>-8.276000</td>\n",
       "      <td>-0.005876</td>\n",
       "      <td>3.179103</td>\n",
       "    </tr>\n",
       "    <tr>\n",
       "      <th>1</th>\n",
       "      <td>62mP7</td>\n",
       "      <td>14.272088</td>\n",
       "      <td>-3.475083</td>\n",
       "      <td>0.999183</td>\n",
       "      <td>26.953261</td>\n",
       "    </tr>\n",
       "  </tbody>\n",
       "</table>\n",
       "</div>"
      ],
      "text/plain": [
       "      id         f0        f1        f2    product\n",
       "0  kBEdx -15.001348 -8.276000 -0.005876   3.179103\n",
       "1  62mP7  14.272088 -3.475083  0.999183  26.953261"
      ]
     },
     "execution_count": 3,
     "metadata": {},
     "output_type": "execute_result"
    }
   ],
   "source": [
    "df_0.info()\n",
    "df_1.head(2)"
   ]
  },
  {
   "cell_type": "code",
   "execution_count": 4,
   "metadata": {},
   "outputs": [
    {
     "name": "stdout",
     "output_type": "stream",
     "text": [
      "<class 'pandas.core.frame.DataFrame'>\n",
      "RangeIndex: 100000 entries, 0 to 99999\n",
      "Data columns (total 5 columns):\n",
      " #   Column   Non-Null Count   Dtype  \n",
      "---  ------   --------------   -----  \n",
      " 0   id       100000 non-null  object \n",
      " 1   f0       100000 non-null  float64\n",
      " 2   f1       100000 non-null  float64\n",
      " 3   f2       100000 non-null  float64\n",
      " 4   product  100000 non-null  float64\n",
      "dtypes: float64(4), object(1)\n",
      "memory usage: 3.8+ MB\n"
     ]
    },
    {
     "data": {
      "text/html": [
       "<div>\n",
       "<style scoped>\n",
       "    .dataframe tbody tr th:only-of-type {\n",
       "        vertical-align: middle;\n",
       "    }\n",
       "\n",
       "    .dataframe tbody tr th {\n",
       "        vertical-align: top;\n",
       "    }\n",
       "\n",
       "    .dataframe thead th {\n",
       "        text-align: right;\n",
       "    }\n",
       "</style>\n",
       "<table border=\"1\" class=\"dataframe\">\n",
       "  <thead>\n",
       "    <tr style=\"text-align: right;\">\n",
       "      <th></th>\n",
       "      <th>id</th>\n",
       "      <th>f0</th>\n",
       "      <th>f1</th>\n",
       "      <th>f2</th>\n",
       "      <th>product</th>\n",
       "    </tr>\n",
       "  </thead>\n",
       "  <tbody>\n",
       "    <tr>\n",
       "      <th>0</th>\n",
       "      <td>kBEdx</td>\n",
       "      <td>-15.001348</td>\n",
       "      <td>-8.276000</td>\n",
       "      <td>-0.005876</td>\n",
       "      <td>3.179103</td>\n",
       "    </tr>\n",
       "    <tr>\n",
       "      <th>1</th>\n",
       "      <td>62mP7</td>\n",
       "      <td>14.272088</td>\n",
       "      <td>-3.475083</td>\n",
       "      <td>0.999183</td>\n",
       "      <td>26.953261</td>\n",
       "    </tr>\n",
       "  </tbody>\n",
       "</table>\n",
       "</div>"
      ],
      "text/plain": [
       "      id         f0        f1        f2    product\n",
       "0  kBEdx -15.001348 -8.276000 -0.005876   3.179103\n",
       "1  62mP7  14.272088 -3.475083  0.999183  26.953261"
      ]
     },
     "execution_count": 4,
     "metadata": {},
     "output_type": "execute_result"
    }
   ],
   "source": [
    "df_1.info()\n",
    "df_1.head(2)"
   ]
  },
  {
   "cell_type": "code",
   "execution_count": 5,
   "metadata": {},
   "outputs": [
    {
     "name": "stdout",
     "output_type": "stream",
     "text": [
      "<class 'pandas.core.frame.DataFrame'>\n",
      "RangeIndex: 100000 entries, 0 to 99999\n",
      "Data columns (total 5 columns):\n",
      " #   Column   Non-Null Count   Dtype  \n",
      "---  ------   --------------   -----  \n",
      " 0   id       100000 non-null  object \n",
      " 1   f0       100000 non-null  float64\n",
      " 2   f1       100000 non-null  float64\n",
      " 3   f2       100000 non-null  float64\n",
      " 4   product  100000 non-null  float64\n",
      "dtypes: float64(4), object(1)\n",
      "memory usage: 3.8+ MB\n"
     ]
    },
    {
     "data": {
      "text/html": [
       "<div>\n",
       "<style scoped>\n",
       "    .dataframe tbody tr th:only-of-type {\n",
       "        vertical-align: middle;\n",
       "    }\n",
       "\n",
       "    .dataframe tbody tr th {\n",
       "        vertical-align: top;\n",
       "    }\n",
       "\n",
       "    .dataframe thead th {\n",
       "        text-align: right;\n",
       "    }\n",
       "</style>\n",
       "<table border=\"1\" class=\"dataframe\">\n",
       "  <thead>\n",
       "    <tr style=\"text-align: right;\">\n",
       "      <th></th>\n",
       "      <th>id</th>\n",
       "      <th>f0</th>\n",
       "      <th>f1</th>\n",
       "      <th>f2</th>\n",
       "      <th>product</th>\n",
       "    </tr>\n",
       "  </thead>\n",
       "  <tbody>\n",
       "    <tr>\n",
       "      <th>0</th>\n",
       "      <td>fwXo0</td>\n",
       "      <td>-1.146987</td>\n",
       "      <td>0.963328</td>\n",
       "      <td>-0.828965</td>\n",
       "      <td>27.758673</td>\n",
       "    </tr>\n",
       "    <tr>\n",
       "      <th>1</th>\n",
       "      <td>WJtFt</td>\n",
       "      <td>0.262778</td>\n",
       "      <td>0.269839</td>\n",
       "      <td>-2.530187</td>\n",
       "      <td>56.069697</td>\n",
       "    </tr>\n",
       "  </tbody>\n",
       "</table>\n",
       "</div>"
      ],
      "text/plain": [
       "      id        f0        f1        f2    product\n",
       "0  fwXo0 -1.146987  0.963328 -0.828965  27.758673\n",
       "1  WJtFt  0.262778  0.269839 -2.530187  56.069697"
      ]
     },
     "execution_count": 5,
     "metadata": {},
     "output_type": "execute_result"
    }
   ],
   "source": [
    "df_2.info()\n",
    "df_2.head(2)"
   ]
  },
  {
   "cell_type": "code",
   "execution_count": 6,
   "metadata": {},
   "outputs": [],
   "source": [
    "def exploratory(data):\n",
    "    print(f\"Shape:    {data.shape}\")\n",
    "    print(\"Na's:         \", data.isna().sum().sum())\n",
    "    print(\"duplicates:   \", data.duplicated().sum())\n",
    "    print(\"\\nРаспределение признаков:\")\n",
    "    data[[\"f0\",\"f1\",\"f2\"]].hist()\n",
    "    plt.show()"
   ]
  },
  {
   "cell_type": "code",
   "execution_count": 7,
   "metadata": {},
   "outputs": [
    {
     "name": "stdout",
     "output_type": "stream",
     "text": [
      "Shape:    (100000, 5)\n",
      "Na's:          0\n",
      "duplicates:    0\n",
      "\n",
      "Распределение признаков:\n"
     ]
    },
    {
     "data": {
      "image/png": "[encoded data removed]",
      "text/plain": [
       "<Figure size 432x288 with 4 Axes>"
      ]
     },
     "metadata": {
      "needs_background": "light"
     },
     "output_type": "display_data"
    }
   ],
   "source": [
    "exploratory(df_0)"
   ]
  },
  {
   "cell_type": "code",
   "execution_count": 8,
   "metadata": {},
   "outputs": [
    {
     "name": "stdout",
     "output_type": "stream",
     "text": [
      "Shape:    (100000, 5)\n",
      "Na's:          0\n",
      "duplicates:    0\n",
      "\n",
      "Распределение признаков:\n"
     ]
    },
    {
     "data": {
      "image/png": "[encoded data removed]",
      "text/plain": [
       "<Figure size 432x288 with 4 Axes>"
      ]
     },
     "metadata": {
      "needs_background": "light"
     },
     "output_type": "display_data"
    }
   ],
   "source": [
    "exploratory(df_1)"
   ]
  },
  {
   "cell_type": "code",
   "execution_count": 9,
   "metadata": {},
   "outputs": [
    {
     "name": "stdout",
     "output_type": "stream",
     "text": [
      "Shape:    (100000, 5)\n",
      "Na's:          0\n",
      "duplicates:    0\n",
      "\n",
      "Распределение признаков:\n"
     ]
    },
    {
     "data": {
      "image/png": "[encoded data removed]",
      "text/plain": [
       "<Figure size 432x288 with 4 Axes>"
      ]
     },
     "metadata": {
      "needs_background": "light"
     },
     "output_type": "display_data"
    }
   ],
   "source": [
    "exploratory(df_2)"
   ]
  },
  {
   "cell_type": "markdown",
   "metadata": {},
   "source": [
    "В данных отсутсвуют пропуски\n",
    "\n",
    "Признаки для модели:\n",
    "\n",
    "f0\n",
    "f1\n",
    "f2\n",
    "Целевой признак:\n",
    "\n",
    "product.\n",
    "Изучим гистограммы по столбцу product:"
   ]
  },
  {
   "cell_type": "code",
   "execution_count": 10,
   "metadata": {},
   "outputs": [],
   "source": [
    "def oil_hist(seria, bins, xlim_max, ylim_max):\n",
    "    plt.figure(figsize=[12,9])\n",
    "    plt.hist(seria, bins=bins)\n",
    "    plt.xlim([0,xlim_max])\n",
    "    plt.ylim([0,ylim_max])\n",
    "    plt.xlabel(\"Объем нефти на скважину, тыс. барелей\")\n",
    "    plt.ylabel(\"Количество скважин\")\n",
    "    plt.title(\"Гистограмма распределения по объему скважин\")\n",
    "    plt.show()"
   ]
  },
  {
   "cell_type": "code",
   "execution_count": 11,
   "metadata": {},
   "outputs": [
    {
     "data": {
      "image/png": "[encoded data removed]",
      "text/plain": [
       "<Figure size 864x648 with 1 Axes>"
      ]
     },
     "metadata": {
      "needs_background": "light"
     },
     "output_type": "display_data"
    }
   ],
   "source": [
    "oil_hist(df_0['product'], 200, 190, 1000)"
   ]
  },
  {
   "cell_type": "code",
   "execution_count": 12,
   "metadata": {},
   "outputs": [
    {
     "data": {
      "image/png": "[encoded data removed]",
      "text/plain": [
       "<Figure size 864x648 with 1 Axes>"
      ]
     },
     "metadata": {
      "needs_background": "light"
     },
     "output_type": "display_data"
    }
   ],
   "source": [
    "oil_hist(df_1['product'], 50, 150, 10000)"
   ]
  },
  {
   "cell_type": "code",
   "execution_count": 13,
   "metadata": {},
   "outputs": [
    {
     "data": {
      "image/png": "[encoded data removed]",
      "text/plain": [
       "<Figure size 864x648 with 1 Axes>"
      ]
     },
     "metadata": {
      "needs_background": "light"
     },
     "output_type": "display_data"
    }
   ],
   "source": [
    "oil_hist(df_2['product'], 200, 190, 1000)"
   ]
  },
  {
   "cell_type": "code",
   "execution_count": 14,
   "metadata": {},
   "outputs": [],
   "source": [
    "df_0 = df_0.drop(['id'], axis=1)\n",
    "df_1 = df_1.drop(['id'], axis=1)\n",
    "df_2 = df_2.drop(['id'], axis=1)"
   ]
  },
  {
   "cell_type": "markdown",
   "metadata": {},
   "source": [
    "Вывод\n",
    "Данные готовы к обучению\n",
    "\n",
    "Во втором месторождении около 8% месторождений не имело значения в столбце product. При сравнении с такими же значениями из первого и третьего региона можно понять, что были утеряны данные или не было исследовано количество барелей нефти\n",
    "\n",
    "По гистограммам можно понять, что у первого и третьего региона наспределение скважин близкое к нормальному.\n",
    "\n",
    "Во втором регионе данные имеют странное распределение: от 0 до 5 баррелей с шагом по 15-20 равномерно распределены 100000 значений. Данные не подчиняются закону больших чисел и скорей всего были введены искуственно"
   ]
  },
  {
   "cell_type": "markdown",
   "metadata": {},
   "source": [
    "## Обучение и проверка модели"
   ]
  },
  {
   "cell_type": "markdown",
   "metadata": {},
   "source": [
    "Проверим качество модели линейной регрессии с текущим значением признаков и с масштабируемыми. Проверим эту гипотезу на df_1. Выполним разбивку неподготовленного датафрейма:"
   ]
  },
  {
   "cell_type": "code",
   "execution_count": 15,
   "metadata": {},
   "outputs": [],
   "source": [
    "def test_split(df, target):\n",
    "    features = df.drop([target] , axis=1)\n",
    "    target = df[target]\n",
    "\n",
    "    features_train, features_valid, target_train, target_valid = train_test_split(\n",
    "    features, target, test_size=0.25, random_state=5)\n",
    "    \n",
    "    return features_train, features_valid, target_train, target_valid"
   ]
  },
  {
   "cell_type": "code",
   "execution_count": 16,
   "metadata": {},
   "outputs": [],
   "source": [
    "features_train_0, features_valid_0, target_train_0, target_valid_0 = test_split(df_0, 'product')"
   ]
  },
  {
   "cell_type": "code",
   "execution_count": 17,
   "metadata": {},
   "outputs": [
    {
     "data": {
      "text/html": [
       "<div>\n",
       "<style scoped>\n",
       "    .dataframe tbody tr th:only-of-type {\n",
       "        vertical-align: middle;\n",
       "    }\n",
       "\n",
       "    .dataframe tbody tr th {\n",
       "        vertical-align: top;\n",
       "    }\n",
       "\n",
       "    .dataframe thead th {\n",
       "        text-align: right;\n",
       "    }\n",
       "</style>\n",
       "<table border=\"1\" class=\"dataframe\">\n",
       "  <thead>\n",
       "    <tr style=\"text-align: right;\">\n",
       "      <th></th>\n",
       "      <th>f0</th>\n",
       "      <th>f1</th>\n",
       "      <th>f2</th>\n",
       "    </tr>\n",
       "  </thead>\n",
       "  <tbody>\n",
       "    <tr>\n",
       "      <th>35180</th>\n",
       "      <td>0.596589</td>\n",
       "      <td>-0.423122</td>\n",
       "      <td>-0.599284</td>\n",
       "    </tr>\n",
       "    <tr>\n",
       "      <th>80371</th>\n",
       "      <td>0.787058</td>\n",
       "      <td>-0.397987</td>\n",
       "      <td>6.681742</td>\n",
       "    </tr>\n",
       "    <tr>\n",
       "      <th>89979</th>\n",
       "      <td>0.889612</td>\n",
       "      <td>0.522944</td>\n",
       "      <td>3.227303</td>\n",
       "    </tr>\n",
       "    <tr>\n",
       "      <th>47271</th>\n",
       "      <td>-1.082876</td>\n",
       "      <td>0.382764</td>\n",
       "      <td>0.299522</td>\n",
       "    </tr>\n",
       "    <tr>\n",
       "      <th>35664</th>\n",
       "      <td>0.299153</td>\n",
       "      <td>-0.303998</td>\n",
       "      <td>-0.465922</td>\n",
       "    </tr>\n",
       "  </tbody>\n",
       "</table>\n",
       "</div>"
      ],
      "text/plain": [
       "             f0        f1        f2\n",
       "35180  0.596589 -0.423122 -0.599284\n",
       "80371  0.787058 -0.397987  6.681742\n",
       "89979  0.889612  0.522944  3.227303\n",
       "47271 -1.082876  0.382764  0.299522\n",
       "35664  0.299153 -0.303998 -0.465922"
      ]
     },
     "execution_count": 17,
     "metadata": {},
     "output_type": "execute_result"
    }
   ],
   "source": [
    "features_train_0.head()"
   ]
  },
  {
   "cell_type": "markdown",
   "metadata": {},
   "source": [
    "Проведем обучение модели без измененных данных:"
   ]
  },
  {
   "cell_type": "code",
   "execution_count": 18,
   "metadata": {},
   "outputs": [
    {
     "name": "stdout",
     "output_type": "stream",
     "text": [
      "RMSE - 37.80284530541535\n"
     ]
    }
   ],
   "source": [
    "model = LinearRegression()\n",
    "\n",
    "model.fit(features_train_0, target_train_0)\n",
    "predicted_target_0 = model.predict(features_valid_0)\n",
    "print('RMSE -', mean_squared_error(target_valid_0, predicted_target_0)**0.5)"
   ]
  },
  {
   "cell_type": "code",
   "execution_count": 19,
   "metadata": {},
   "outputs": [],
   "source": [
    "def test_split_scaled(df, numeric, target):\n",
    "    df_s = df.copy()\n",
    "\n",
    "    features_s = df_s.drop([target] , axis=1)\n",
    "    target_s = df_s[target]\n",
    "\n",
    "    features_train_s, features_valid_s, target_train_s, target_valid_s = train_test_split(\n",
    "        features_s, target_s, test_size=0.25, random_state=5062020)\n",
    "\n",
    "    scaler = StandardScaler()\n",
    "    scaler.fit(features_train_s[numeric])\n",
    "    features_train_s[numeric] = scaler.transform(features_train_s[numeric])\n",
    "    features_valid_s[numeric] = scaler.transform(features_valid_s[numeric])\n",
    "\n",
    "    return features_train_s, features_valid_s, target_train_s, target_valid_s"
   ]
  },
  {
   "cell_type": "markdown",
   "metadata": {},
   "source": [
    "Проверим параметр RMSE на маштабированных данных:"
   ]
  },
  {
   "cell_type": "code",
   "execution_count": 20,
   "metadata": {},
   "outputs": [
    {
     "name": "stdout",
     "output_type": "stream",
     "text": [
      "RMSE - 0.8874258342572864\n"
     ]
    }
   ],
   "source": [
    "features_train_0s, features_valid_0s, target_train_0s, target_valid_0s = test_split_scaled(\n",
    "                                                                        df_1, ['f0', 'f1', 'f2'], 'product')\n",
    "model.fit(features_train_0s, target_train_0s)\n",
    "predicted_target_0s = model.predict(features_valid_0s)\n",
    "print('RMSE -', mean_squared_error(target_valid_0s, predicted_target_0s)**0.5)"
   ]
  },
  {
   "cell_type": "code",
   "execution_count": 21,
   "metadata": {},
   "outputs": [
    {
     "name": "stdout",
     "output_type": "stream",
     "text": [
      "RMSE - 0.8911637870714586\n",
      "RMSE - 0.8874258342572864\n"
     ]
    }
   ],
   "source": [
    "features_train_1, features_valid_1, target_train_1, target_valid_1 = test_split(df_1, 'product')\n",
    "model.fit(features_train_1, target_train_1)\n",
    "predicted_target_1 = model.predict(features_valid_1)\n",
    "print('RMSE -', mean_squared_error(target_valid_1, predicted_target_1)**0.5)\n",
    "\n",
    "features_train_1s, features_valid_1s, target_train_1s, target_valid_1s = test_split_scaled(\n",
    "                                                                        df_1, ['f0', 'f1', 'f2'], 'product')\n",
    "model.fit(features_train_1s, target_train_1s)\n",
    "predicted_target_1s = model.predict(features_valid_1s)\n",
    "print('RMSE -', mean_squared_error(target_valid_1s, predicted_target_1s)**0.5)"
   ]
  },
  {
   "cell_type": "code",
   "execution_count": 22,
   "metadata": {},
   "outputs": [
    {
     "name": "stdout",
     "output_type": "stream",
     "text": [
      "RMSE - 40.27855914124022\n",
      "RMSE - 40.18553497171235\n"
     ]
    }
   ],
   "source": [
    "features_train_2, features_valid_2, target_train_2, target_valid_2 = test_split(df_2, 'product')\n",
    "model.fit(features_train_2, target_train_2)\n",
    "predicted_target_2 = model.predict(features_valid_2)\n",
    "print('RMSE -', mean_squared_error(target_valid_2, predicted_target_2)**0.5)\n",
    "\n",
    "features_train_2s, features_valid_2s, target_train_2s, target_valid_2s = test_split_scaled(\n",
    "                                                                        df_2, ['f0', 'f1', 'f2'], 'product')\n",
    "model.fit(features_train_2s, target_train_2s)\n",
    "predicted_target_2s = model.predict(features_valid_2s)\n",
    "print('RMSE -', mean_squared_error(target_valid_2s, predicted_target_2s)**0.5)"
   ]
  },
  {
   "cell_type": "code",
   "execution_count": 23,
   "metadata": {},
   "outputs": [
    {
     "name": "stdout",
     "output_type": "stream",
     "text": [
      "RMSE - 0.8911637870714586\n"
     ]
    }
   ],
   "source": [
    "model = LinearRegression(normalize=True)\n",
    "model.fit(features_train_1, target_train_1)\n",
    "predicted_target_1 = model.predict(features_valid_1)\n",
    "print('RMSE -', mean_squared_error(target_valid_1, predicted_target_1)**0.5)"
   ]
  },
  {
   "cell_type": "code",
   "execution_count": 24,
   "metadata": {},
   "outputs": [
    {
     "name": "stdout",
     "output_type": "stream",
     "text": [
      "RMSE - 1.2128079436885901\n"
     ]
    }
   ],
   "source": [
    "model = LinearRegression(fit_intercept=False)\n",
    "model.fit(features_train_1, target_train_1)\n",
    "predicted_target_1 = model.predict(features_valid_1)\n",
    "print('RMSE -', mean_squared_error(target_valid_1, predicted_target_1)**0.5)"
   ]
  },
  {
   "cell_type": "markdown",
   "metadata": {},
   "source": [
    "Произведем вывод предсказанного запаса с реальным и выведем RMSE:"
   ]
  },
  {
   "cell_type": "code",
   "execution_count": 25,
   "metadata": {},
   "outputs": [],
   "source": [
    "model = LinearRegression()\n",
    "\n",
    "def oil_predict(df, target_name):\n",
    "    features = df.drop([target_name] , axis=1)\n",
    "    target = df[target_name]\n",
    "    \n",
    "    features_train, features_valid, target_train, target_valid = train_test_split(\n",
    "    features, target, test_size=0.25, random_state=5)\n",
    "    \n",
    "    model.fit(features_train, target_train)\n",
    "    predicted_target = model.predict(features_valid)\n",
    "    data = {'real_product' : target_valid,\n",
    "            'predicted_product' : predicted_target         \n",
    "    }\n",
    "    data_frame = pd.DataFrame(data, columns = ['real_product', 'predicted_product'])\n",
    "    rmse = mean_squared_error(target_valid, predicted_target)**0.5\n",
    "    mean = data_frame['predicted_product'].mean()\n",
    "    oil_sum = data_frame['predicted_product'].sum()\n",
    "    return data_frame, rmse, mean, oil_sum"
   ]
  },
  {
   "cell_type": "code",
   "execution_count": 26,
   "metadata": {},
   "outputs": [],
   "source": [
    "df_0_predicted, df_0_rmse, df_0_predicted_mean, df_0_predicted_sum = oil_predict(df_0, 'product')"
   ]
  },
  {
   "cell_type": "code",
   "execution_count": 27,
   "metadata": {},
   "outputs": [
    {
     "data": {
      "text/html": [
       "<div>\n",
       "<style scoped>\n",
       "    .dataframe tbody tr th:only-of-type {\n",
       "        vertical-align: middle;\n",
       "    }\n",
       "\n",
       "    .dataframe tbody tr th {\n",
       "        vertical-align: top;\n",
       "    }\n",
       "\n",
       "    .dataframe thead th {\n",
       "        text-align: right;\n",
       "    }\n",
       "</style>\n",
       "<table border=\"1\" class=\"dataframe\">\n",
       "  <thead>\n",
       "    <tr style=\"text-align: right;\">\n",
       "      <th></th>\n",
       "      <th>real_product</th>\n",
       "      <th>predicted_product</th>\n",
       "    </tr>\n",
       "  </thead>\n",
       "  <tbody>\n",
       "    <tr>\n",
       "      <th>60743</th>\n",
       "      <td>119.220564</td>\n",
       "      <td>118.026686</td>\n",
       "    </tr>\n",
       "    <tr>\n",
       "      <th>33949</th>\n",
       "      <td>169.808150</td>\n",
       "      <td>110.858985</td>\n",
       "    </tr>\n",
       "    <tr>\n",
       "      <th>52805</th>\n",
       "      <td>131.589165</td>\n",
       "      <td>76.589517</td>\n",
       "    </tr>\n",
       "    <tr>\n",
       "      <th>11804</th>\n",
       "      <td>144.585224</td>\n",
       "      <td>100.990823</td>\n",
       "    </tr>\n",
       "    <tr>\n",
       "      <th>9229</th>\n",
       "      <td>184.075418</td>\n",
       "      <td>90.048812</td>\n",
       "    </tr>\n",
       "  </tbody>\n",
       "</table>\n",
       "</div>"
      ],
      "text/plain": [
       "       real_product  predicted_product\n",
       "60743    119.220564         118.026686\n",
       "33949    169.808150         110.858985\n",
       "52805    131.589165          76.589517\n",
       "11804    144.585224         100.990823\n",
       "9229     184.075418          90.048812"
      ]
     },
     "execution_count": 27,
     "metadata": {},
     "output_type": "execute_result"
    }
   ],
   "source": [
    "df_0_predicted.head()"
   ]
  },
  {
   "cell_type": "code",
   "execution_count": 28,
   "metadata": {},
   "outputs": [
    {
     "name": "stdout",
     "output_type": "stream",
     "text": [
      "RMSE - 37.80284530541535\n",
      "Средний запас запасанного сырья - 92.62394691552272\n"
     ]
    }
   ],
   "source": [
    "print('RMSE -', df_0_rmse)\n",
    "print('Средний запас запасанного сырья -', df_0_predicted_mean)"
   ]
  },
  {
   "cell_type": "code",
   "execution_count": 29,
   "metadata": {},
   "outputs": [],
   "source": [
    "df_1_predicted, df_1_rmse, df_1_predicted_mean, df_1_predicted_sum = oil_predict(df_1, 'product')"
   ]
  },
  {
   "cell_type": "code",
   "execution_count": 30,
   "metadata": {},
   "outputs": [
    {
     "data": {
      "text/html": [
       "<div>\n",
       "<style scoped>\n",
       "    .dataframe tbody tr th:only-of-type {\n",
       "        vertical-align: middle;\n",
       "    }\n",
       "\n",
       "    .dataframe tbody tr th {\n",
       "        vertical-align: top;\n",
       "    }\n",
       "\n",
       "    .dataframe thead th {\n",
       "        text-align: right;\n",
       "    }\n",
       "</style>\n",
       "<table border=\"1\" class=\"dataframe\">\n",
       "  <thead>\n",
       "    <tr style=\"text-align: right;\">\n",
       "      <th></th>\n",
       "      <th>real_product</th>\n",
       "      <th>predicted_product</th>\n",
       "    </tr>\n",
       "  </thead>\n",
       "  <tbody>\n",
       "    <tr>\n",
       "      <th>60743</th>\n",
       "      <td>80.859783</td>\n",
       "      <td>80.991708</td>\n",
       "    </tr>\n",
       "    <tr>\n",
       "      <th>33949</th>\n",
       "      <td>53.906522</td>\n",
       "      <td>53.729323</td>\n",
       "    </tr>\n",
       "    <tr>\n",
       "      <th>52805</th>\n",
       "      <td>3.179103</td>\n",
       "      <td>3.751569</td>\n",
       "    </tr>\n",
       "    <tr>\n",
       "      <th>11804</th>\n",
       "      <td>107.813044</td>\n",
       "      <td>108.245842</td>\n",
       "    </tr>\n",
       "    <tr>\n",
       "      <th>9229</th>\n",
       "      <td>80.859783</td>\n",
       "      <td>82.008314</td>\n",
       "    </tr>\n",
       "  </tbody>\n",
       "</table>\n",
       "</div>"
      ],
      "text/plain": [
       "       real_product  predicted_product\n",
       "60743     80.859783          80.991708\n",
       "33949     53.906522          53.729323\n",
       "52805      3.179103           3.751569\n",
       "11804    107.813044         108.245842\n",
       "9229      80.859783          82.008314"
      ]
     },
     "execution_count": 30,
     "metadata": {},
     "output_type": "execute_result"
    }
   ],
   "source": [
    "df_1_predicted.head()"
   ]
  },
  {
   "cell_type": "code",
   "execution_count": 31,
   "metadata": {},
   "outputs": [
    {
     "name": "stdout",
     "output_type": "stream",
     "text": [
      "RMSE - 0.8911637870714586\n",
      "Средний запас запасанного сырья - 68.64756489237209\n"
     ]
    }
   ],
   "source": [
    "print('RMSE -', df_1_rmse)\n",
    "print('Средний запас запасанного сырья -', df_1_predicted_mean)"
   ]
  },
  {
   "cell_type": "code",
   "execution_count": 32,
   "metadata": {},
   "outputs": [],
   "source": [
    "df_2_predicted, df_2_rmse, df_2_predicted_mean, df_2_predicted_sum = oil_predict(df_2, 'product')"
   ]
  },
  {
   "cell_type": "code",
   "execution_count": 33,
   "metadata": {},
   "outputs": [
    {
     "data": {
      "text/html": [
       "<div>\n",
       "<style scoped>\n",
       "    .dataframe tbody tr th:only-of-type {\n",
       "        vertical-align: middle;\n",
       "    }\n",
       "\n",
       "    .dataframe tbody tr th {\n",
       "        vertical-align: top;\n",
       "    }\n",
       "\n",
       "    .dataframe thead th {\n",
       "        text-align: right;\n",
       "    }\n",
       "</style>\n",
       "<table border=\"1\" class=\"dataframe\">\n",
       "  <thead>\n",
       "    <tr style=\"text-align: right;\">\n",
       "      <th></th>\n",
       "      <th>real_product</th>\n",
       "      <th>predicted_product</th>\n",
       "    </tr>\n",
       "  </thead>\n",
       "  <tbody>\n",
       "    <tr>\n",
       "      <th>60743</th>\n",
       "      <td>186.714538</td>\n",
       "      <td>88.685519</td>\n",
       "    </tr>\n",
       "    <tr>\n",
       "      <th>33949</th>\n",
       "      <td>73.641755</td>\n",
       "      <td>118.919701</td>\n",
       "    </tr>\n",
       "    <tr>\n",
       "      <th>52805</th>\n",
       "      <td>125.190694</td>\n",
       "      <td>98.429155</td>\n",
       "    </tr>\n",
       "    <tr>\n",
       "      <th>11804</th>\n",
       "      <td>130.826729</td>\n",
       "      <td>114.772869</td>\n",
       "    </tr>\n",
       "    <tr>\n",
       "      <th>9229</th>\n",
       "      <td>14.983400</td>\n",
       "      <td>54.375878</td>\n",
       "    </tr>\n",
       "  </tbody>\n",
       "</table>\n",
       "</div>"
      ],
      "text/plain": [
       "       real_product  predicted_product\n",
       "60743    186.714538          88.685519\n",
       "33949     73.641755         118.919701\n",
       "52805    125.190694          98.429155\n",
       "11804    130.826729         114.772869\n",
       "9229      14.983400          54.375878"
      ]
     },
     "execution_count": 33,
     "metadata": {},
     "output_type": "execute_result"
    }
   ],
   "source": [
    "df_2_predicted.head()"
   ]
  },
  {
   "cell_type": "code",
   "execution_count": 34,
   "metadata": {},
   "outputs": [
    {
     "name": "stdout",
     "output_type": "stream",
     "text": [
      "RMSE - 40.27855914124022\n",
      "Средний запас запасанного сырья - 95.02417827030403\n"
     ]
    }
   ],
   "source": [
    "print('RMSE -', df_2_rmse)\n",
    "print('Средний запас запасанного сырья -', df_2_predicted_mean)"
   ]
  },
  {
   "cell_type": "code",
   "execution_count": 35,
   "metadata": {},
   "outputs": [
    {
     "name": "stdout",
     "output_type": "stream",
     "text": [
      "Суммарный предсказанный запас в позиции 1 - 2315598.672888068\n",
      "Суммарный реальный запас в позиции 1 - 2322579.7884419193\n",
      "\n",
      "Суммарный предсказанный запас в позиции 2 - 1716189.1223093022\n",
      "Суммарный реальный запас в позиции 2 - 1716031.8878765225\n",
      "\n",
      "Суммарный предсказанный запас в позиции 3 - 2375604.456757601\n",
      "Суммарный реальный запас в позиции 3 - 2377216.735320481\n"
     ]
    }
   ],
   "source": [
    "print('Суммарный предсказанный запас в позиции 1 -', df_0_predicted_sum)\n",
    "print('Суммарный реальный запас в позиции 1 -', df_0_predicted['real_product'].sum())\n",
    "print()\n",
    "print('Суммарный предсказанный запас в позиции 2 -', df_1_predicted_sum)\n",
    "print('Суммарный реальный запас в позиции 2 -', df_1_predicted['real_product'].sum())\n",
    "print()\n",
    "print('Суммарный предсказанный запас в позиции 3 -', df_2_predicted_sum)\n",
    "print('Суммарный реальный запас в позиции 3 -', df_2_predicted['real_product'].sum())"
   ]
  },
  {
   "cell_type": "markdown",
   "metadata": {},
   "source": [
    "Вывод\n",
    "Данные предсказаний о количестве нефти по сумме примерно совпадают по сумме с предсказанными значениями. Лучше всего модель предсказала запасы во втором регионе (RMSE - 0.88), далее в первом и третьем соотвественно.\n",
    "Возможно утеряные данные из второго региона сказались на модели и она достаточно сильно переобучилась. Но из-за утери данных и малого запаса в среднем на месторождение не имеет смысла рассматривать второе месторождение как прибыльное.\n",
    "Изучим все регионы на риски и прибыль, но в конечном итоге будем выбирать между 1 и 3 регионом"
   ]
  },
  {
   "cell_type": "markdown",
   "metadata": {},
   "source": [
    "## Подготовка к расчёту прибыли"
   ]
  },
  {
   "cell_type": "markdown",
   "metadata": {},
   "source": [
    "Создадим переменные об экономической информации:"
   ]
  },
  {
   "cell_type": "code",
   "execution_count": 36,
   "metadata": {},
   "outputs": [],
   "source": [
    "BUDGET = 1e+07\n",
    "POINTS = 500\n",
    "BEST_POINTS = 200\n",
    "PRICE_PER_BARREL = 450"
   ]
  },
  {
   "cell_type": "markdown",
   "metadata": {},
   "source": [
    "Мы расчитываем прибыль в тысячах рублей за тысячу барелей, поэтому 1 милиард сохранен таким образом\n",
    "\n",
    "Расчитаем безубыточную разработку сырья на 200 месторождениях. И найдем среднее количество продукта в месторождениях необходимое для этого:"
   ]
  },
  {
   "cell_type": "code",
   "execution_count": 37,
   "metadata": {},
   "outputs": [
    {
     "name": "stdout",
     "output_type": "stream",
     "text": [
      "Средняя прибыль на лучшую точку - 50000.0 тыс.руб.\n"
     ]
    }
   ],
   "source": [
    "average_profit_per_point = BUDGET / BEST_POINTS\n",
    "print('Средняя прибыль на лучшую точку -', average_profit_per_point, 'тыс.руб.')"
   ]
  },
  {
   "cell_type": "code",
   "execution_count": 38,
   "metadata": {},
   "outputs": [
    {
     "name": "stdout",
     "output_type": "stream",
     "text": [
      "Средний объем нефти на точку - 111.11111111111111 тыс. барелей\n"
     ]
    }
   ],
   "source": [
    "average_barrels_per_point = average_profit_per_point  / PRICE_PER_BARREL\n",
    "print('Средний объем нефти на точку -',average_barrels_per_point, 'тыс. барелей')"
   ]
  },
  {
   "cell_type": "code",
   "execution_count": 39,
   "metadata": {},
   "outputs": [
    {
     "name": "stdout",
     "output_type": "stream",
     "text": [
      "Средний объем нефти на регион - 22222.222222222223 тыс. барелей\n"
     ]
    }
   ],
   "source": [
    "average_barrels = BUDGET / PRICE_PER_BARREL\n",
    "print('Средний объем нефти на регион -',average_barrels, 'тыс. барелей')"
   ]
  },
  {
   "cell_type": "code",
   "execution_count": 40,
   "metadata": {},
   "outputs": [
    {
     "name": "stdout",
     "output_type": "stream",
     "text": [
      "Средний запас фактичекой нефти на скважину в регионе 1 92.50000000000001\n",
      "Средний запас фактичекой нефти на скважину в регионе 2 68.82500000000002\n",
      "Средний запас фактичекой нефти на скважину в регионе 3 95.00000000000004\n"
     ]
    }
   ],
   "source": [
    "print('Средний запас фактичекой нефти на скважину в регионе 1', df_0['product'].mean())\n",
    "print('Средний запас фактичекой нефти на скважину в регионе 2', df_1['product'].mean())\n",
    "print('Средний запас фактичекой нефти на скважину в регионе 3', df_2['product'].mean())"
   ]
  },
  {
   "cell_type": "markdown",
   "metadata": {},
   "source": [
    "Создадим функцию для расчета приыли на 500 разведанных точек:"
   ]
  },
  {
   "cell_type": "code",
   "execution_count": 41,
   "metadata": {},
   "outputs": [],
   "source": [
    "def oil_profit_calc(target, probabilities, count):\n",
    "    probs_sorted = probabilities.sort_values(ascending=False)\n",
    "    selected = target[probs_sorted.index][:count]\n",
    "    return PRICE_PER_BARREL * selected.sum() - BUDGET"
   ]
  },
  {
   "cell_type": "code",
   "execution_count": 42,
   "metadata": {},
   "outputs": [
    {
     "data": {
      "image/png": "[encoded data removed]",
      "text/plain": [
       "<Figure size 864x648 with 1 Axes>"
      ]
     },
     "metadata": {
      "needs_background": "light"
     },
     "output_type": "display_data"
    }
   ],
   "source": [
    "oil_hist(df_0_predicted['predicted_product'], 200, 190, 500)"
   ]
  },
  {
   "cell_type": "code",
   "execution_count": 43,
   "metadata": {},
   "outputs": [
    {
     "data": {
      "image/png": "[encoded data removed]",
      "text/plain": [
       "<Figure size 864x648 with 1 Axes>"
      ]
     },
     "metadata": {
      "needs_background": "light"
     },
     "output_type": "display_data"
    }
   ],
   "source": [
    "oil_hist(df_1_predicted['predicted_product'], 20, 150, 5000)"
   ]
  },
  {
   "cell_type": "code",
   "execution_count": 44,
   "metadata": {},
   "outputs": [
    {
     "data": {
      "image/png": "[encoded data removed]",
      "text/plain": [
       "<Figure size 864x648 with 1 Axes>"
      ]
     },
     "metadata": {
      "needs_background": "light"
     },
     "output_type": "display_data"
    }
   ],
   "source": [
    "oil_hist(df_2_predicted['predicted_product'], 200, 190, 500)"
   ]
  },
  {
   "cell_type": "markdown",
   "metadata": {},
   "source": [
    "**Вывод**\n",
    "\n",
    "    Была подготовлена средняя оценка прибыли за скважину и средний объем на скважину.\n",
    "    Создана функция по расчету прибыли.\n",
    "    Анализ средних объемов на скважину для каждого региона следующий (изучены средние фактические запасы):\n",
    "\n",
    "    Для первого и третьего - высокая вероятность окупить затраты. Разброс значений вокруг среднего 92.5 и 95 говорит нам о том, что существует достаточно много скважин, где запасы больше необходимого среднего\n",
    "\n",
    "    Во вторых данных возможно и есть определенный смысл - значений больше 111 (т.е достаточно много) и при определенной доли везения можно выбрать только лучшие в этой выборке (хотя среднее значение 68.8)"
   ]
  },
  {
   "cell_type": "code",
   "execution_count": null,
   "metadata": {},
   "outputs": [],
   "source": []
  },
  {
   "cell_type": "markdown",
   "metadata": {},
   "source": [
    "## Расчёт прибыли и рисков "
   ]
  },
  {
   "cell_type": "markdown",
   "metadata": {},
   "source": [
    "создадим функцию"
   ]
  },
  {
   "cell_type": "code",
   "execution_count": 45,
   "metadata": {},
   "outputs": [],
   "source": [
    "state = np.random.RandomState(5)\n",
    "def bootstrap_1000(target, probs):\n",
    "    values=[]\n",
    "    lost = 0\n",
    "    for i in range(1000):\n",
    "        target_sample = target.sample(replace=True, random_state=state, n=POINTS)\n",
    "        probs_sample = probs[target_sample.index]\n",
    "        profit = oil_profit_calc(target, probs_sample, BEST_POINTS)\n",
    "        if profit < 0:\n",
    "            lost +=1\n",
    "        values.append(profit)\n",
    "    \n",
    "    values = pd.Series(values)\n",
    "    lower = values.quantile(0.025)\n",
    "    upper = values.quantile(0.975)\n",
    "    average = values.mean()\n",
    "    risk = lost / 1000\n",
    "    return average, lower, upper, risk"
   ]
  },
  {
   "cell_type": "markdown",
   "metadata": {},
   "source": [
    "Теперь используем данные получившейся функции в наших датасетах:"
   ]
  },
  {
   "cell_type": "code",
   "execution_count": 46,
   "metadata": {},
   "outputs": [],
   "source": [
    "average_1, lower_1, upper_1, risk_1 = bootstrap_1000(df_0_predicted['real_product'], \n",
    "                                                     df_0_predicted['predicted_product'])"
   ]
  },
  {
   "cell_type": "code",
   "execution_count": 47,
   "metadata": {},
   "outputs": [
    {
     "name": "stdout",
     "output_type": "stream",
     "text": [
      "Средняя прибыль по региону = 457194.86 тыс.руб.\n",
      "95% доверительный интервал от -75265.84 до 957514.50 тыс.руб.\n",
      "Процент риска 4.30%\n"
     ]
    }
   ],
   "source": [
    "print('Средняя прибыль по региону = {:.2f} тыс.руб.'.format(average_1))\n",
    "print('95% доверительный интервал от {:.2f} до {:.2f} тыс.руб.'.format(lower_1, upper_1))\n",
    "print('Процент риска {:.2%}'.format(risk_1))"
   ]
  },
  {
   "cell_type": "code",
   "execution_count": 48,
   "metadata": {},
   "outputs": [],
   "source": [
    "average_1, lower_1, upper_1, risk_1 = bootstrap_1000(df_1_predicted['real_product'], \n",
    "                                                     df_1_predicted['predicted_product'])"
   ]
  },
  {
   "cell_type": "code",
   "execution_count": 49,
   "metadata": {},
   "outputs": [
    {
     "name": "stdout",
     "output_type": "stream",
     "text": [
      "Средняя прибыль по региону = 423523.86 тыс.руб.\n",
      "95% доверительный интервал от 40418.36 до 810180.17 тыс.руб.\n",
      "Процент риска 1.30%\n"
     ]
    }
   ],
   "source": [
    "print('Средняя прибыль по региону = {:.2f} тыс.руб.'.format(average_1))\n",
    "print('95% доверительный интервал от {:.2f} до {:.2f} тыс.руб.'.format(lower_1, upper_1))\n",
    "print('Процент риска {:.2%}'.format(risk_1))"
   ]
  },
  {
   "cell_type": "code",
   "execution_count": 50,
   "metadata": {},
   "outputs": [],
   "source": [
    "average_2, lower_2, upper_2, risk_2 = bootstrap_1000(df_2_predicted['real_product'], \n",
    "                                                     df_2_predicted['predicted_product'])"
   ]
  },
  {
   "cell_type": "code",
   "execution_count": 51,
   "metadata": {},
   "outputs": [
    {
     "name": "stdout",
     "output_type": "stream",
     "text": [
      "Средняя прибыль по региону = 423523.86 тыс.руб.\n",
      "95% доверительный интервал от 40418.36 до 810180.17 тыс.руб.\n",
      "Процент риска 1.30%\n"
     ]
    }
   ],
   "source": [
    "print('Средняя прибыль по региону = {:.2f} тыс.руб.'.format(average_1))\n",
    "print('95% доверительный интервал от {:.2f} до {:.2f} тыс.руб.'.format(lower_1, upper_1))\n",
    "print('Процент риска {:.2%}'.format(risk_1))"
   ]
  },
  {
   "cell_type": "markdown",
   "metadata": {},
   "source": [
    "Данные по первому региону:\n",
    "\n",
    "Средняя прибыль по региону = 457194.86 тыс.руб.\n",
    "95% доверительный интервал от -75265.84 до 957514.50 тыс.руб.\n",
    "Процент риска 4.30%"
   ]
  },
  {
   "cell_type": "markdown",
   "metadata": {},
   "source": [
    "Данные по второму региону:\n",
    "\n",
    "Средняя прибыль по региону = 423523.86 тыс.руб.\n",
    "95% доверительный интервал от 40418.36 до 810180.17 тыс.руб.\n",
    "Процент риска 1.30%"
   ]
  },
  {
   "cell_type": "markdown",
   "metadata": {},
   "source": [
    "Данные по третьему региону:\n",
    "\n",
    "Средняя прибыль по региону = 322245.06 тыс.руб.\n",
    "95% доверительный интервал от -197408.50 до 878417.19 тыс.руб.\n",
    "Процент риска 11.90%"
   ]
  },
  {
   "cell_type": "markdown",
   "metadata": {},
   "source": [
    "### Общий вывод"
   ]
  },
  {
   "cell_type": "markdown",
   "metadata": {},
   "source": [
    "**Первый регион:**\n",
    "\n",
    "Средняя прибыль по региону = 457194.86 тыс.руб.\n",
    "\n",
    "95% доверительный интервал от -75265.84 до 957514.50 тыс.руб.\n",
    "\n",
    "Процент риска 4.30%"
   ]
  },
  {
   "cell_type": "markdown",
   "metadata": {},
   "source": [
    "**Второй регион:**\n",
    "\n",
    "Средняя прибыль по региону = 423523.86 тыс.руб.\n",
    "\n",
    "95% доверительный интервал от 40418.36 до 810180.17 тыс.руб.\n",
    "\n",
    "Процент риска 1.30%"
   ]
  },
  {
   "cell_type": "markdown",
   "metadata": {},
   "source": [
    "**Третий регион:**\n",
    "\n",
    "Средняя прибыль по региону = 322245.06 тыс.руб.\n",
    "\n",
    "95% доверительный интервал от -197408.50 до 878417.19 тыс.руб.\n",
    "\n",
    "Процент риска 11.90%"
   ]
  },
  {
   "cell_type": "markdown",
   "metadata": {},
   "source": [
    "**Итог:**\n",
    "\n",
    "Мы отсеиваем третий регион, так как у этого региона нибольший процент риска - 11.9%\n",
    "Остаются два региона - первый (процент риска 4.3%) и второй (процент риска 1.3%)\n",
    "У второго региона наименьший % риска и, кроме того, доверительный интервал показывает, что даже при не очень удачном выборе разработка скважин окупится, так что лучше выбрать его."
   ]
  },
  {
   "cell_type": "markdown",
   "metadata": {},
   "source": [
    "## Чек-лист готовности проекта"
   ]
  },
  {
   "cell_type": "markdown",
   "metadata": {},
   "source": [
    "Поставьте 'x' в выполненных пунктах. Далее нажмите Shift+Enter."
   ]
  },
  {
   "cell_type": "markdown",
   "metadata": {},
   "source": [
    "- [x]  Jupyter Notebook открыт\n",
    "- [x]  Весь код выполняется без ошибок\n",
    "- [x]  Ячейки с кодом расположены в порядке исполнения\n",
    "- [x]  Выполнен шаг 1: данные подготовлены\n",
    "- [x]  Выполнен шаг 2: модели обучены и проверены\n",
    "    - [x]  Данные корректно разбиты на обучающую и валидационную выборки\n",
    "    - [x]  Модели обучены, предсказания сделаны\n",
    "    - [x]  Предсказания и правильные ответы на валидационной выборке сохранены\n",
    "    - [x]  На экране напечатаны результаты\n",
    "    - [x]  Сделаны выводы\n",
    "- [x]  Выполнен шаг 3: проведена подготовка к расчёту прибыли\n",
    "    - [x]  Для всех ключевых значений созданы константы Python\n",
    "    - [x]  Посчитано минимальное среднее количество продукта в месторождениях региона, достаточное для разработки\n",
    "    - [x]  По предыдущему пункту сделаны выводы\n",
    "    - [x]  Написана функция расчёта прибыли\n",
    "- [x]  Выполнен шаг 4: посчитаны риски и прибыль\n",
    "    - [x]  Проведена процедура *Bootstrap*\n",
    "    - [x]  Все параметры бутстрепа соответствуют условию\n",
    "    - [x]  Найдены все нужные величины\n",
    "    - [x]  Предложен регион для разработки месторождения\n",
    "    - [x]  Выбор региона обоснован"
   ]
  },
  {
   "cell_type": "code",
   "execution_count": null,
   "metadata": {},
   "outputs": [],
   "source": []
  }
 ],
 "metadata": {
  "ExecuteTimeLog": [
   {
    "duration": 1493,
    "start_time": "2022-09-13T20:02:44.284Z"
   },
   {
    "duration": 114,
    "start_time": "2022-09-13T20:02:47.346Z"
   },
   {
    "duration": 638,
    "start_time": "2022-09-13T20:13:21.877Z"
   },
   {
    "duration": 3,
    "start_time": "2022-09-13T20:19:04.227Z"
   },
   {
    "duration": 3,
    "start_time": "2022-09-13T20:19:06.651Z"
   },
   {
    "duration": 282,
    "start_time": "2022-09-13T20:19:08.316Z"
   },
   {
    "duration": 59,
    "start_time": "2022-09-13T20:19:32.640Z"
   },
   {
    "duration": 280,
    "start_time": "2022-09-13T20:19:44.409Z"
   },
   {
    "duration": 464,
    "start_time": "2022-09-13T20:23:01.856Z"
   },
   {
    "duration": 13,
    "start_time": "2022-09-13T20:23:51.691Z"
   },
   {
    "duration": 8,
    "start_time": "2022-09-13T20:24:37.033Z"
   },
   {
    "duration": 8,
    "start_time": "2022-09-13T20:24:38.528Z"
   },
   {
    "duration": 8,
    "start_time": "2022-09-13T20:35:41.994Z"
   },
   {
    "duration": 3,
    "start_time": "2022-09-13T20:35:45.767Z"
   },
   {
    "duration": 336,
    "start_time": "2022-09-13T20:35:48.406Z"
   },
   {
    "duration": 10,
    "start_time": "2022-09-13T20:36:22.068Z"
   },
   {
    "duration": 14,
    "start_time": "2022-09-13T20:36:31.603Z"
   },
   {
    "duration": 19,
    "start_time": "2022-09-13T20:36:41.827Z"
   },
   {
    "duration": 1309,
    "start_time": "2022-09-13T20:37:22.431Z"
   },
   {
    "duration": 366,
    "start_time": "2022-09-13T20:37:23.741Z"
   },
   {
    "duration": 24,
    "start_time": "2022-09-13T20:37:24.108Z"
   },
   {
    "duration": 24,
    "start_time": "2022-09-13T20:37:24.134Z"
   },
   {
    "duration": 18,
    "start_time": "2022-09-13T20:37:24.159Z"
   },
   {
    "duration": 9,
    "start_time": "2022-09-13T20:37:24.178Z"
   },
   {
    "duration": 332,
    "start_time": "2022-09-13T20:37:24.189Z"
   },
   {
    "duration": 1344,
    "start_time": "2022-09-15T15:00:17.158Z"
   },
   {
    "duration": 797,
    "start_time": "2022-09-15T15:00:18.503Z"
   },
   {
    "duration": 23,
    "start_time": "2022-09-15T15:00:19.302Z"
   },
   {
    "duration": 19,
    "start_time": "2022-09-15T15:00:19.328Z"
   },
   {
    "duration": 18,
    "start_time": "2022-09-15T15:00:19.349Z"
   },
   {
    "duration": 3,
    "start_time": "2022-09-15T15:00:19.369Z"
   },
   {
    "duration": 357,
    "start_time": "2022-09-15T15:00:19.374Z"
   },
   {
    "duration": 330,
    "start_time": "2022-09-15T15:00:19.732Z"
   },
   {
    "duration": 331,
    "start_time": "2022-09-15T15:00:20.063Z"
   },
   {
    "duration": 4,
    "start_time": "2022-09-15T15:03:26.679Z"
   },
   {
    "duration": 458,
    "start_time": "2022-09-15T15:03:39.181Z"
   },
   {
    "duration": 385,
    "start_time": "2022-09-15T15:03:50.117Z"
   },
   {
    "duration": 214,
    "start_time": "2022-09-15T15:04:27.581Z"
   },
   {
    "duration": 99,
    "start_time": "2022-09-15T15:04:49.144Z"
   },
   {
    "duration": 376,
    "start_time": "2022-09-15T15:04:57.931Z"
   },
   {
    "duration": 16,
    "start_time": "2022-09-15T15:16:32.243Z"
   },
   {
    "duration": 17,
    "start_time": "2022-09-15T15:16:50.545Z"
   },
   {
    "duration": 17,
    "start_time": "2022-09-15T15:17:05.241Z"
   },
   {
    "duration": 19,
    "start_time": "2022-09-15T15:17:54.134Z"
   },
   {
    "duration": 1354,
    "start_time": "2022-09-15T15:18:25.229Z"
   },
   {
    "duration": 381,
    "start_time": "2022-09-15T15:18:26.585Z"
   },
   {
    "duration": 23,
    "start_time": "2022-09-15T15:18:26.967Z"
   },
   {
    "duration": 18,
    "start_time": "2022-09-15T15:18:26.992Z"
   },
   {
    "duration": 36,
    "start_time": "2022-09-15T15:18:27.011Z"
   },
   {
    "duration": 5,
    "start_time": "2022-09-15T15:18:27.049Z"
   },
   {
    "duration": 347,
    "start_time": "2022-09-15T15:18:27.056Z"
   },
   {
    "duration": 316,
    "start_time": "2022-09-15T15:18:27.405Z"
   },
   {
    "duration": 323,
    "start_time": "2022-09-15T15:18:27.723Z"
   },
   {
    "duration": 3,
    "start_time": "2022-09-15T15:18:28.049Z"
   },
   {
    "duration": 481,
    "start_time": "2022-09-15T15:18:28.054Z"
   },
   {
    "duration": 230,
    "start_time": "2022-09-15T15:18:28.537Z"
   },
   {
    "duration": 420,
    "start_time": "2022-09-15T15:18:28.769Z"
   },
   {
    "duration": 13,
    "start_time": "2022-09-15T15:18:29.190Z"
   },
   {
    "duration": 119,
    "start_time": "2022-09-15T15:25:34.325Z"
   },
   {
    "duration": 9,
    "start_time": "2022-09-15T15:27:27.713Z"
   },
   {
    "duration": 12,
    "start_time": "2022-09-15T15:30:06.315Z"
   },
   {
    "duration": 19,
    "start_time": "2022-09-15T15:30:16.373Z"
   },
   {
    "duration": 1380,
    "start_time": "2022-09-15T15:30:52.427Z"
   },
   {
    "duration": 378,
    "start_time": "2022-09-15T15:30:53.809Z"
   },
   {
    "duration": 23,
    "start_time": "2022-09-15T15:30:54.189Z"
   },
   {
    "duration": 35,
    "start_time": "2022-09-15T15:30:54.213Z"
   },
   {
    "duration": 19,
    "start_time": "2022-09-15T15:30:54.250Z"
   },
   {
    "duration": 4,
    "start_time": "2022-09-15T15:30:54.271Z"
   },
   {
    "duration": 333,
    "start_time": "2022-09-15T15:30:54.276Z"
   },
   {
    "duration": 302,
    "start_time": "2022-09-15T15:30:54.610Z"
   },
   {
    "duration": 315,
    "start_time": "2022-09-15T15:30:54.914Z"
   },
   {
    "duration": 3,
    "start_time": "2022-09-15T15:30:55.231Z"
   },
   {
    "duration": 444,
    "start_time": "2022-09-15T15:30:55.246Z"
   },
   {
    "duration": 213,
    "start_time": "2022-09-15T15:30:55.691Z"
   },
   {
    "duration": 416,
    "start_time": "2022-09-15T15:30:55.906Z"
   },
   {
    "duration": 152,
    "start_time": "2022-09-15T15:30:56.325Z"
   },
   {
    "duration": 1359,
    "start_time": "2022-09-15T15:31:32.835Z"
   },
   {
    "duration": 383,
    "start_time": "2022-09-15T15:31:34.196Z"
   },
   {
    "duration": 33,
    "start_time": "2022-09-15T15:31:34.581Z"
   },
   {
    "duration": 32,
    "start_time": "2022-09-15T15:31:34.617Z"
   },
   {
    "duration": 28,
    "start_time": "2022-09-15T15:31:34.651Z"
   },
   {
    "duration": 4,
    "start_time": "2022-09-15T15:31:34.681Z"
   },
   {
    "duration": 444,
    "start_time": "2022-09-15T15:31:34.686Z"
   },
   {
    "duration": 342,
    "start_time": "2022-09-15T15:31:35.131Z"
   },
   {
    "duration": 325,
    "start_time": "2022-09-15T15:31:35.475Z"
   },
   {
    "duration": 4,
    "start_time": "2022-09-15T15:31:35.802Z"
   },
   {
    "duration": 482,
    "start_time": "2022-09-15T15:31:35.808Z"
   },
   {
    "duration": 280,
    "start_time": "2022-09-15T15:31:36.292Z"
   },
   {
    "duration": 409,
    "start_time": "2022-09-15T15:31:36.574Z"
   },
   {
    "duration": 14,
    "start_time": "2022-09-15T15:31:36.984Z"
   },
   {
    "duration": 1356,
    "start_time": "2022-09-15T15:45:35.387Z"
   },
   {
    "duration": 357,
    "start_time": "2022-09-15T15:45:36.745Z"
   },
   {
    "duration": 23,
    "start_time": "2022-09-15T15:45:37.104Z"
   },
   {
    "duration": 27,
    "start_time": "2022-09-15T15:45:37.129Z"
   },
   {
    "duration": 18,
    "start_time": "2022-09-15T15:45:37.158Z"
   },
   {
    "duration": 3,
    "start_time": "2022-09-15T15:45:37.177Z"
   },
   {
    "duration": 331,
    "start_time": "2022-09-15T15:45:37.181Z"
   },
   {
    "duration": 298,
    "start_time": "2022-09-15T15:45:37.514Z"
   },
   {
    "duration": 325,
    "start_time": "2022-09-15T15:45:37.813Z"
   },
   {
    "duration": 6,
    "start_time": "2022-09-15T15:45:38.141Z"
   },
   {
    "duration": 431,
    "start_time": "2022-09-15T15:45:38.148Z"
   },
   {
    "duration": 203,
    "start_time": "2022-09-15T15:45:38.580Z"
   },
   {
    "duration": 385,
    "start_time": "2022-09-15T15:45:38.784Z"
   },
   {
    "duration": 14,
    "start_time": "2022-09-15T15:45:39.170Z"
   },
   {
    "duration": 4,
    "start_time": "2022-09-15T15:47:09.015Z"
   },
   {
    "duration": 14,
    "start_time": "2022-09-15T15:47:10.412Z"
   },
   {
    "duration": 8,
    "start_time": "2022-09-15T15:47:11.830Z"
   },
   {
    "duration": 4,
    "start_time": "2022-09-15T15:47:35.626Z"
   },
   {
    "duration": 16,
    "start_time": "2022-09-15T15:48:07.222Z"
   },
   {
    "duration": 37,
    "start_time": "2022-09-15T15:48:49.285Z"
   },
   {
    "duration": 1356,
    "start_time": "2022-09-15T15:49:05.361Z"
   },
   {
    "duration": 377,
    "start_time": "2022-09-15T15:49:06.719Z"
   },
   {
    "duration": 23,
    "start_time": "2022-09-15T15:49:07.098Z"
   },
   {
    "duration": 31,
    "start_time": "2022-09-15T15:49:07.123Z"
   },
   {
    "duration": 19,
    "start_time": "2022-09-15T15:49:07.155Z"
   },
   {
    "duration": 4,
    "start_time": "2022-09-15T15:49:07.175Z"
   },
   {
    "duration": 351,
    "start_time": "2022-09-15T15:49:07.180Z"
   },
   {
    "duration": 320,
    "start_time": "2022-09-15T15:49:07.532Z"
   },
   {
    "duration": 320,
    "start_time": "2022-09-15T15:49:07.854Z"
   },
   {
    "duration": 4,
    "start_time": "2022-09-15T15:49:08.176Z"
   },
   {
    "duration": 474,
    "start_time": "2022-09-15T15:49:08.181Z"
   },
   {
    "duration": 222,
    "start_time": "2022-09-15T15:49:08.657Z"
   },
   {
    "duration": 418,
    "start_time": "2022-09-15T15:49:08.880Z"
   },
   {
    "duration": 14,
    "start_time": "2022-09-15T15:49:09.300Z"
   },
   {
    "duration": 19,
    "start_time": "2022-09-15T15:49:09.316Z"
   },
   {
    "duration": 36,
    "start_time": "2022-09-15T15:49:09.337Z"
   },
   {
    "duration": 17,
    "start_time": "2022-09-15T15:49:09.375Z"
   },
   {
    "duration": 11,
    "start_time": "2022-09-15T15:49:09.394Z"
   },
   {
    "duration": 27,
    "start_time": "2022-09-15T15:49:09.407Z"
   },
   {
    "duration": 222,
    "start_time": "2022-09-15T15:49:09.450Z"
   },
   {
    "duration": 183,
    "start_time": "2022-09-15T15:49:41.397Z"
   },
   {
    "duration": 108,
    "start_time": "2022-09-15T15:49:58.089Z"
   },
   {
    "duration": 1334,
    "start_time": "2022-09-15T15:53:08.155Z"
   },
   {
    "duration": 370,
    "start_time": "2022-09-15T15:53:09.491Z"
   },
   {
    "duration": 23,
    "start_time": "2022-09-15T15:53:09.863Z"
   },
   {
    "duration": 19,
    "start_time": "2022-09-15T15:53:09.887Z"
   },
   {
    "duration": 18,
    "start_time": "2022-09-15T15:53:09.908Z"
   },
   {
    "duration": 21,
    "start_time": "2022-09-15T15:53:09.928Z"
   },
   {
    "duration": 340,
    "start_time": "2022-09-15T15:53:09.950Z"
   },
   {
    "duration": 318,
    "start_time": "2022-09-15T15:53:10.292Z"
   },
   {
    "duration": 318,
    "start_time": "2022-09-15T15:53:10.611Z"
   },
   {
    "duration": 3,
    "start_time": "2022-09-15T15:53:10.931Z"
   },
   {
    "duration": 474,
    "start_time": "2022-09-15T15:53:10.935Z"
   },
   {
    "duration": 242,
    "start_time": "2022-09-15T15:53:11.410Z"
   },
   {
    "duration": 401,
    "start_time": "2022-09-15T15:53:11.654Z"
   },
   {
    "duration": 14,
    "start_time": "2022-09-15T15:53:12.059Z"
   },
   {
    "duration": 12,
    "start_time": "2022-09-15T15:53:12.075Z"
   },
   {
    "duration": 20,
    "start_time": "2022-09-15T15:53:12.089Z"
   },
   {
    "duration": 9,
    "start_time": "2022-09-15T15:53:12.111Z"
   },
   {
    "duration": 5,
    "start_time": "2022-09-15T15:53:12.122Z"
   },
   {
    "duration": 37,
    "start_time": "2022-09-15T15:53:12.128Z"
   },
   {
    "duration": 209,
    "start_time": "2022-09-15T15:53:12.167Z"
   },
   {
    "duration": 468,
    "start_time": "2022-09-15T15:53:12.378Z"
   },
   {
    "duration": 226,
    "start_time": "2022-09-15T16:02:00.050Z"
   },
   {
    "duration": 238,
    "start_time": "2022-09-15T16:02:27.114Z"
   },
   {
    "duration": 14,
    "start_time": "2022-09-15T16:03:48.570Z"
   },
   {
    "duration": 12,
    "start_time": "2022-09-15T16:03:49.927Z"
   },
   {
    "duration": 3059,
    "start_time": "2022-09-16T16:19:06.658Z"
   },
   {
    "duration": 1541,
    "start_time": "2022-09-16T16:19:09.720Z"
   },
   {
    "duration": 1610,
    "start_time": "2022-09-16T16:19:11.263Z"
   },
   {
    "duration": 27,
    "start_time": "2022-09-16T16:19:12.876Z"
   },
   {
    "duration": 113,
    "start_time": "2022-09-16T16:19:12.905Z"
   },
   {
    "duration": 0,
    "start_time": "2022-09-16T16:19:13.020Z"
   },
   {
    "duration": 0,
    "start_time": "2022-09-16T16:19:13.022Z"
   },
   {
    "duration": 0,
    "start_time": "2022-09-16T16:19:13.024Z"
   },
   {
    "duration": 0,
    "start_time": "2022-09-16T16:19:13.026Z"
   },
   {
    "duration": 0,
    "start_time": "2022-09-16T16:19:13.027Z"
   },
   {
    "duration": 0,
    "start_time": "2022-09-16T16:19:13.028Z"
   },
   {
    "duration": 0,
    "start_time": "2022-09-16T16:19:13.030Z"
   },
   {
    "duration": 0,
    "start_time": "2022-09-16T16:19:13.031Z"
   },
   {
    "duration": 0,
    "start_time": "2022-09-16T16:19:13.033Z"
   },
   {
    "duration": 0,
    "start_time": "2022-09-16T16:19:13.034Z"
   },
   {
    "duration": 0,
    "start_time": "2022-09-16T16:19:13.036Z"
   },
   {
    "duration": 0,
    "start_time": "2022-09-16T16:19:13.038Z"
   },
   {
    "duration": 0,
    "start_time": "2022-09-16T16:19:13.039Z"
   },
   {
    "duration": 0,
    "start_time": "2022-09-16T16:19:13.041Z"
   },
   {
    "duration": 0,
    "start_time": "2022-09-16T16:19:13.042Z"
   },
   {
    "duration": 0,
    "start_time": "2022-09-16T16:19:13.044Z"
   },
   {
    "duration": 0,
    "start_time": "2022-09-16T16:19:13.045Z"
   },
   {
    "duration": 0,
    "start_time": "2022-09-16T16:19:13.046Z"
   },
   {
    "duration": 0,
    "start_time": "2022-09-16T16:19:13.048Z"
   },
   {
    "duration": 0,
    "start_time": "2022-09-16T16:19:13.048Z"
   },
   {
    "duration": 0,
    "start_time": "2022-09-16T16:19:13.048Z"
   },
   {
    "duration": 2103,
    "start_time": "2022-09-16T16:19:52.333Z"
   },
   {
    "duration": 1333,
    "start_time": "2022-09-16T16:19:54.439Z"
   },
   {
    "duration": 379,
    "start_time": "2022-09-16T16:19:55.774Z"
   },
   {
    "duration": 28,
    "start_time": "2022-09-16T16:19:56.156Z"
   },
   {
    "duration": 2143,
    "start_time": "2022-09-16T16:19:56.189Z"
   },
   {
    "duration": 0,
    "start_time": "2022-09-16T16:19:58.334Z"
   },
   {
    "duration": 0,
    "start_time": "2022-09-16T16:19:58.335Z"
   },
   {
    "duration": 0,
    "start_time": "2022-09-16T16:19:58.336Z"
   },
   {
    "duration": 0,
    "start_time": "2022-09-16T16:19:58.337Z"
   },
   {
    "duration": 0,
    "start_time": "2022-09-16T16:19:58.338Z"
   },
   {
    "duration": 0,
    "start_time": "2022-09-16T16:19:58.339Z"
   },
   {
    "duration": 0,
    "start_time": "2022-09-16T16:19:58.340Z"
   },
   {
    "duration": 0,
    "start_time": "2022-09-16T16:19:58.341Z"
   },
   {
    "duration": 0,
    "start_time": "2022-09-16T16:19:58.342Z"
   },
   {
    "duration": 0,
    "start_time": "2022-09-16T16:19:58.343Z"
   },
   {
    "duration": 0,
    "start_time": "2022-09-16T16:19:58.344Z"
   },
   {
    "duration": 0,
    "start_time": "2022-09-16T16:19:58.346Z"
   },
   {
    "duration": 0,
    "start_time": "2022-09-16T16:19:58.347Z"
   },
   {
    "duration": 0,
    "start_time": "2022-09-16T16:19:58.348Z"
   },
   {
    "duration": 0,
    "start_time": "2022-09-16T16:19:58.349Z"
   },
   {
    "duration": 0,
    "start_time": "2022-09-16T16:19:58.350Z"
   },
   {
    "duration": 0,
    "start_time": "2022-09-16T16:19:58.351Z"
   },
   {
    "duration": 0,
    "start_time": "2022-09-16T16:19:58.352Z"
   },
   {
    "duration": 0,
    "start_time": "2022-09-16T16:19:58.353Z"
   },
   {
    "duration": 0,
    "start_time": "2022-09-16T16:19:58.354Z"
   },
   {
    "duration": 0,
    "start_time": "2022-09-16T16:19:58.355Z"
   },
   {
    "duration": 1377,
    "start_time": "2022-09-16T16:24:52.728Z"
   },
   {
    "duration": 390,
    "start_time": "2022-09-16T16:24:54.108Z"
   },
   {
    "duration": 26,
    "start_time": "2022-09-16T16:24:54.500Z"
   },
   {
    "duration": 19,
    "start_time": "2022-09-16T16:24:54.528Z"
   },
   {
    "duration": 42,
    "start_time": "2022-09-16T16:24:54.548Z"
   },
   {
    "duration": 3,
    "start_time": "2022-09-16T16:24:54.592Z"
   },
   {
    "duration": 358,
    "start_time": "2022-09-16T16:24:54.597Z"
   },
   {
    "duration": 351,
    "start_time": "2022-09-16T16:24:54.957Z"
   },
   {
    "duration": 348,
    "start_time": "2022-09-16T16:24:55.310Z"
   },
   {
    "duration": 4,
    "start_time": "2022-09-16T16:24:55.660Z"
   },
   {
    "duration": 466,
    "start_time": "2022-09-16T16:24:55.666Z"
   },
   {
    "duration": 206,
    "start_time": "2022-09-16T16:24:56.134Z"
   },
   {
    "duration": 385,
    "start_time": "2022-09-16T16:24:56.342Z"
   },
   {
    "duration": 14,
    "start_time": "2022-09-16T16:24:56.729Z"
   },
   {
    "duration": 5,
    "start_time": "2022-09-16T16:24:56.745Z"
   },
   {
    "duration": 15,
    "start_time": "2022-09-16T16:24:56.751Z"
   },
   {
    "duration": 23,
    "start_time": "2022-09-16T16:24:56.767Z"
   },
   {
    "duration": 6,
    "start_time": "2022-09-16T16:24:56.792Z"
   },
   {
    "duration": 89,
    "start_time": "2022-09-16T16:24:56.799Z"
   },
   {
    "duration": 134,
    "start_time": "2022-09-16T16:24:56.890Z"
   },
   {
    "duration": 325,
    "start_time": "2022-09-16T16:24:57.090Z"
   },
   {
    "duration": 319,
    "start_time": "2022-09-16T16:24:57.492Z"
   },
   {
    "duration": 179,
    "start_time": "2022-09-16T16:24:57.813Z"
   },
   {
    "duration": 110,
    "start_time": "2022-09-16T16:24:57.999Z"
   },
   {
    "duration": 1358,
    "start_time": "2022-09-16T16:51:28.313Z"
   },
   {
    "duration": 378,
    "start_time": "2022-09-16T16:51:29.673Z"
   },
   {
    "duration": 25,
    "start_time": "2022-09-16T16:51:30.053Z"
   },
   {
    "duration": 27,
    "start_time": "2022-09-16T16:51:30.080Z"
   },
   {
    "duration": 20,
    "start_time": "2022-09-16T16:51:30.109Z"
   },
   {
    "duration": 4,
    "start_time": "2022-09-16T16:51:30.131Z"
   },
   {
    "duration": 391,
    "start_time": "2022-09-16T16:51:30.136Z"
   },
   {
    "duration": 363,
    "start_time": "2022-09-16T16:51:30.529Z"
   },
   {
    "duration": 337,
    "start_time": "2022-09-16T16:51:30.894Z"
   },
   {
    "duration": 4,
    "start_time": "2022-09-16T16:51:31.233Z"
   },
   {
    "duration": 510,
    "start_time": "2022-09-16T16:51:31.238Z"
   },
   {
    "duration": 281,
    "start_time": "2022-09-16T16:51:31.749Z"
   },
   {
    "duration": 453,
    "start_time": "2022-09-16T16:51:32.032Z"
   },
   {
    "duration": 16,
    "start_time": "2022-09-16T16:51:32.486Z"
   },
   {
    "duration": 10,
    "start_time": "2022-09-16T16:51:32.504Z"
   },
   {
    "duration": 17,
    "start_time": "2022-09-16T16:51:32.515Z"
   },
   {
    "duration": 9,
    "start_time": "2022-09-16T16:51:32.535Z"
   },
   {
    "duration": 48,
    "start_time": "2022-09-16T16:51:32.545Z"
   },
   {
    "duration": 6,
    "start_time": "2022-09-16T16:51:32.595Z"
   },
   {
    "duration": 44,
    "start_time": "2022-09-16T16:51:32.691Z"
   },
   {
    "duration": 316,
    "start_time": "2022-09-16T16:51:32.793Z"
   },
   {
    "duration": 395,
    "start_time": "2022-09-16T16:51:33.111Z"
   },
   {
    "duration": 181,
    "start_time": "2022-09-16T16:51:33.508Z"
   },
   {
    "duration": 103,
    "start_time": "2022-09-16T16:51:33.692Z"
   },
   {
    "duration": 195,
    "start_time": "2022-09-16T16:51:33.800Z"
   },
   {
    "duration": 28,
    "start_time": "2022-09-16T16:51:33.997Z"
   },
   {
    "duration": 67,
    "start_time": "2022-09-16T16:51:34.027Z"
   },
   {
    "duration": 111,
    "start_time": "2022-09-16T16:51:34.098Z"
   },
   {
    "duration": 88,
    "start_time": "2022-09-16T16:51:34.211Z"
   },
   {
    "duration": 8,
    "start_time": "2022-09-16T16:51:34.390Z"
   },
   {
    "duration": 9,
    "start_time": "2022-09-16T16:51:34.400Z"
   },
   {
    "duration": 116,
    "start_time": "2022-09-16T16:51:34.411Z"
   },
   {
    "duration": 0,
    "start_time": "2022-09-16T16:51:34.529Z"
   },
   {
    "duration": 0,
    "start_time": "2022-09-16T16:51:34.530Z"
   },
   {
    "duration": 26,
    "start_time": "2022-09-16T16:55:21.646Z"
   },
   {
    "duration": 7,
    "start_time": "2022-09-16T16:55:23.202Z"
   },
   {
    "duration": 4,
    "start_time": "2022-09-16T16:55:25.253Z"
   },
   {
    "duration": 8,
    "start_time": "2022-09-16T16:55:26.894Z"
   },
   {
    "duration": 3,
    "start_time": "2022-09-16T16:56:58.149Z"
   },
   {
    "duration": 77,
    "start_time": "2022-09-16T16:56:59.169Z"
   },
   {
    "duration": 5,
    "start_time": "2022-09-16T16:57:09.194Z"
   },
   {
    "duration": 4,
    "start_time": "2022-09-16T16:57:18.106Z"
   },
   {
    "duration": 3,
    "start_time": "2022-09-16T16:57:32.830Z"
   },
   {
    "duration": 15,
    "start_time": "2022-09-16T16:57:41.445Z"
   },
   {
    "duration": 4,
    "start_time": "2022-09-16T16:57:49.654Z"
   },
   {
    "duration": 16,
    "start_time": "2022-09-16T16:57:51.117Z"
   },
   {
    "duration": 6,
    "start_time": "2022-09-16T16:58:10.232Z"
   },
   {
    "duration": 4,
    "start_time": "2022-09-16T16:58:40.102Z"
   },
   {
    "duration": 395,
    "start_time": "2022-09-16T16:58:48.490Z"
   },
   {
    "duration": 513,
    "start_time": "2022-09-16T16:59:00.968Z"
   },
   {
    "duration": 170,
    "start_time": "2022-09-16T16:59:12.342Z"
   },
   {
    "duration": 181,
    "start_time": "2022-09-16T16:59:51.095Z"
   },
   {
    "duration": 419,
    "start_time": "2022-09-16T17:00:04.739Z"
   },
   {
    "duration": 126,
    "start_time": "2022-09-16T17:01:19.450Z"
   },
   {
    "duration": 5,
    "start_time": "2022-09-16T17:01:25.763Z"
   },
   {
    "duration": 929,
    "start_time": "2022-09-16T17:02:13.815Z"
   },
   {
    "duration": 4,
    "start_time": "2022-09-16T17:02:35.201Z"
   },
   {
    "duration": 3,
    "start_time": "2022-09-16T17:05:13.515Z"
   },
   {
    "duration": 1465,
    "start_time": "2022-09-17T16:17:35.738Z"
   },
   {
    "duration": 976,
    "start_time": "2022-09-17T16:17:37.205Z"
   },
   {
    "duration": 22,
    "start_time": "2022-09-17T16:17:38.183Z"
   },
   {
    "duration": 48,
    "start_time": "2022-09-17T16:17:38.206Z"
   },
   {
    "duration": 19,
    "start_time": "2022-09-17T16:17:38.256Z"
   },
   {
    "duration": 3,
    "start_time": "2022-09-17T16:17:38.276Z"
   },
   {
    "duration": 362,
    "start_time": "2022-09-17T16:17:38.280Z"
   },
   {
    "duration": 309,
    "start_time": "2022-09-17T16:17:38.644Z"
   },
   {
    "duration": 373,
    "start_time": "2022-09-17T16:17:38.954Z"
   },
   {
    "duration": 11,
    "start_time": "2022-09-17T16:17:39.328Z"
   },
   {
    "duration": 359,
    "start_time": "2022-09-17T16:17:39.340Z"
   },
   {
    "duration": 212,
    "start_time": "2022-09-17T16:17:39.701Z"
   },
   {
    "duration": 384,
    "start_time": "2022-09-17T16:17:39.914Z"
   },
   {
    "duration": 13,
    "start_time": "2022-09-17T16:17:40.301Z"
   },
   {
    "duration": 25,
    "start_time": "2022-09-17T16:17:40.329Z"
   },
   {
    "duration": 13,
    "start_time": "2022-09-17T16:17:40.356Z"
   },
   {
    "duration": 6,
    "start_time": "2022-09-17T16:17:40.371Z"
   },
   {
    "duration": 72,
    "start_time": "2022-09-17T16:17:40.379Z"
   },
   {
    "duration": 6,
    "start_time": "2022-09-17T16:17:40.519Z"
   },
   {
    "duration": 127,
    "start_time": "2022-09-17T16:17:40.527Z"
   },
   {
    "duration": 299,
    "start_time": "2022-09-17T16:17:40.656Z"
   },
   {
    "duration": 354,
    "start_time": "2022-09-17T16:17:40.957Z"
   },
   {
    "duration": 108,
    "start_time": "2022-09-17T16:17:41.313Z"
   },
   {
    "duration": 118,
    "start_time": "2022-09-17T16:17:41.423Z"
   },
   {
    "duration": 12,
    "start_time": "2022-09-17T16:17:41.545Z"
   },
   {
    "duration": 157,
    "start_time": "2022-09-17T16:17:41.563Z"
   },
   {
    "duration": 107,
    "start_time": "2022-09-17T16:17:41.722Z"
   },
   {
    "duration": 24,
    "start_time": "2022-09-17T16:17:41.831Z"
   },
   {
    "duration": 26,
    "start_time": "2022-09-17T16:17:41.857Z"
   },
   {
    "duration": 31,
    "start_time": "2022-09-17T16:17:41.924Z"
   },
   {
    "duration": 29,
    "start_time": "2022-09-17T16:17:42.020Z"
   },
   {
    "duration": 23,
    "start_time": "2022-09-17T16:17:42.050Z"
   },
   {
    "duration": 61,
    "start_time": "2022-09-17T16:17:42.074Z"
   },
   {
    "duration": 111,
    "start_time": "2022-09-17T16:17:42.137Z"
   },
   {
    "duration": 10,
    "start_time": "2022-09-17T16:17:42.250Z"
   },
   {
    "duration": 6,
    "start_time": "2022-09-17T16:17:42.261Z"
   },
   {
    "duration": 7,
    "start_time": "2022-09-17T16:17:42.269Z"
   },
   {
    "duration": 4,
    "start_time": "2022-09-17T16:17:42.277Z"
   },
   {
    "duration": 5,
    "start_time": "2022-09-17T16:17:42.282Z"
   },
   {
    "duration": 11,
    "start_time": "2022-09-17T16:17:42.288Z"
   },
   {
    "duration": 3,
    "start_time": "2022-09-17T16:17:42.302Z"
   },
   {
    "duration": 440,
    "start_time": "2022-09-17T16:17:42.306Z"
   },
   {
    "duration": 259,
    "start_time": "2022-09-17T16:17:42.748Z"
   },
   {
    "duration": 413,
    "start_time": "2022-09-17T16:17:43.012Z"
   },
   {
    "duration": 10,
    "start_time": "2022-09-17T16:17:43.435Z"
   },
   {
    "duration": 128,
    "start_time": "2022-09-17T16:17:43.448Z"
   },
   {
    "duration": 0,
    "start_time": "2022-09-17T16:17:43.577Z"
   },
   {
    "duration": 0,
    "start_time": "2022-09-17T16:17:43.578Z"
   },
   {
    "duration": 0,
    "start_time": "2022-09-17T16:17:43.579Z"
   },
   {
    "duration": 0,
    "start_time": "2022-09-17T16:17:43.580Z"
   },
   {
    "duration": 0,
    "start_time": "2022-09-17T16:17:43.581Z"
   },
   {
    "duration": 1219,
    "start_time": "2022-09-17T16:18:42.368Z"
   },
   {
    "duration": 372,
    "start_time": "2022-09-17T16:18:43.589Z"
   },
   {
    "duration": 21,
    "start_time": "2022-09-17T16:18:43.963Z"
   },
   {
    "duration": 45,
    "start_time": "2022-09-17T16:18:43.986Z"
   },
   {
    "duration": 16,
    "start_time": "2022-09-17T16:18:44.040Z"
   },
   {
    "duration": 3,
    "start_time": "2022-09-17T16:18:44.058Z"
   },
   {
    "duration": 304,
    "start_time": "2022-09-17T16:18:44.062Z"
   },
   {
    "duration": 344,
    "start_time": "2022-09-17T16:18:44.367Z"
   },
   {
    "duration": 336,
    "start_time": "2022-09-17T16:18:44.713Z"
   },
   {
    "duration": 4,
    "start_time": "2022-09-17T16:18:45.051Z"
   },
   {
    "duration": 443,
    "start_time": "2022-09-17T16:18:45.057Z"
   },
   {
    "duration": 210,
    "start_time": "2022-09-17T16:18:45.501Z"
   },
   {
    "duration": 359,
    "start_time": "2022-09-17T16:18:45.735Z"
   },
   {
    "duration": 30,
    "start_time": "2022-09-17T16:18:46.097Z"
   },
   {
    "duration": 9,
    "start_time": "2022-09-17T16:18:46.139Z"
   },
   {
    "duration": 16,
    "start_time": "2022-09-17T16:18:46.150Z"
   },
   {
    "duration": 10,
    "start_time": "2022-09-17T16:18:46.168Z"
   },
   {
    "duration": 76,
    "start_time": "2022-09-17T16:18:46.180Z"
   },
   {
    "duration": 33,
    "start_time": "2022-09-17T16:18:46.309Z"
   },
   {
    "duration": 176,
    "start_time": "2022-09-17T16:18:46.343Z"
   },
   {
    "duration": 299,
    "start_time": "2022-09-17T16:18:46.521Z"
   },
   {
    "duration": 320,
    "start_time": "2022-09-17T16:18:46.823Z"
   },
   {
    "duration": 82,
    "start_time": "2022-09-17T16:18:47.145Z"
   },
   {
    "duration": 191,
    "start_time": "2022-09-17T16:18:47.228Z"
   },
   {
    "duration": 15,
    "start_time": "2022-09-17T16:18:47.420Z"
   },
   {
    "duration": 120,
    "start_time": "2022-09-17T16:18:47.436Z"
   },
   {
    "duration": 63,
    "start_time": "2022-09-17T16:18:47.558Z"
   },
   {
    "duration": 114,
    "start_time": "2022-09-17T16:18:47.627Z"
   },
   {
    "duration": 23,
    "start_time": "2022-09-17T16:18:47.743Z"
   },
   {
    "duration": 47,
    "start_time": "2022-09-17T16:18:47.768Z"
   },
   {
    "duration": 104,
    "start_time": "2022-09-17T16:18:47.819Z"
   },
   {
    "duration": 38,
    "start_time": "2022-09-17T16:18:47.924Z"
   },
   {
    "duration": 23,
    "start_time": "2022-09-17T16:18:48.028Z"
   },
   {
    "duration": 35,
    "start_time": "2022-09-17T16:18:48.108Z"
   },
   {
    "duration": 18,
    "start_time": "2022-09-17T16:18:48.144Z"
   },
   {
    "duration": 4,
    "start_time": "2022-09-17T16:18:48.164Z"
   },
   {
    "duration": 10,
    "start_time": "2022-09-17T16:18:48.169Z"
   },
   {
    "duration": 5,
    "start_time": "2022-09-17T16:18:48.180Z"
   },
   {
    "duration": 5,
    "start_time": "2022-09-17T16:18:48.186Z"
   },
   {
    "duration": 7,
    "start_time": "2022-09-17T16:18:48.193Z"
   },
   {
    "duration": 4,
    "start_time": "2022-09-17T16:18:48.204Z"
   },
   {
    "duration": 382,
    "start_time": "2022-09-17T16:18:48.222Z"
   },
   {
    "duration": 187,
    "start_time": "2022-09-17T16:18:48.606Z"
   },
   {
    "duration": 461,
    "start_time": "2022-09-17T16:18:48.794Z"
   },
   {
    "duration": 5,
    "start_time": "2022-09-17T16:18:49.257Z"
   },
   {
    "duration": 168,
    "start_time": "2022-09-17T16:18:49.264Z"
   },
   {
    "duration": 0,
    "start_time": "2022-09-17T16:18:49.434Z"
   },
   {
    "duration": 0,
    "start_time": "2022-09-17T16:18:49.434Z"
   },
   {
    "duration": 0,
    "start_time": "2022-09-17T16:18:49.435Z"
   },
   {
    "duration": 0,
    "start_time": "2022-09-17T16:18:49.435Z"
   },
   {
    "duration": 0,
    "start_time": "2022-09-17T16:18:49.436Z"
   },
   {
    "duration": 1295,
    "start_time": "2022-09-17T16:19:50.679Z"
   },
   {
    "duration": 391,
    "start_time": "2022-09-17T16:19:51.976Z"
   },
   {
    "duration": 28,
    "start_time": "2022-09-17T16:19:52.369Z"
   },
   {
    "duration": 43,
    "start_time": "2022-09-17T16:19:52.400Z"
   },
   {
    "duration": 43,
    "start_time": "2022-09-17T16:19:52.459Z"
   },
   {
    "duration": 3,
    "start_time": "2022-09-17T16:19:52.503Z"
   },
   {
    "duration": 365,
    "start_time": "2022-09-17T16:19:52.508Z"
   },
   {
    "duration": 311,
    "start_time": "2022-09-17T16:19:52.874Z"
   },
   {
    "duration": 349,
    "start_time": "2022-09-17T16:19:53.186Z"
   },
   {
    "duration": 11,
    "start_time": "2022-09-17T16:19:53.537Z"
   },
   {
    "duration": 440,
    "start_time": "2022-09-17T16:19:53.550Z"
   },
   {
    "duration": 235,
    "start_time": "2022-09-17T16:19:53.992Z"
   },
   {
    "duration": 395,
    "start_time": "2022-09-17T16:19:54.228Z"
   },
   {
    "duration": 13,
    "start_time": "2022-09-17T16:19:54.624Z"
   },
   {
    "duration": 18,
    "start_time": "2022-09-17T16:19:54.639Z"
   },
   {
    "duration": 32,
    "start_time": "2022-09-17T16:19:54.659Z"
   },
   {
    "duration": 62,
    "start_time": "2022-09-17T16:19:54.693Z"
   },
   {
    "duration": 22,
    "start_time": "2022-09-17T16:19:54.757Z"
   },
   {
    "duration": 61,
    "start_time": "2022-09-17T16:19:54.781Z"
   },
   {
    "duration": 158,
    "start_time": "2022-09-17T16:19:54.844Z"
   },
   {
    "duration": 215,
    "start_time": "2022-09-17T16:19:55.004Z"
   },
   {
    "duration": 219,
    "start_time": "2022-09-17T16:19:55.228Z"
   },
   {
    "duration": 170,
    "start_time": "2022-09-17T16:19:55.450Z"
   },
   {
    "duration": 107,
    "start_time": "2022-09-17T16:19:55.634Z"
   },
   {
    "duration": 75,
    "start_time": "2022-09-17T16:19:55.744Z"
   },
   {
    "duration": 138,
    "start_time": "2022-09-17T16:19:55.827Z"
   },
   {
    "duration": 56,
    "start_time": "2022-09-17T16:19:55.967Z"
   },
   {
    "duration": 102,
    "start_time": "2022-09-17T16:19:56.039Z"
   },
   {
    "duration": 85,
    "start_time": "2022-09-17T16:19:56.143Z"
   },
   {
    "duration": 78,
    "start_time": "2022-09-17T16:19:56.237Z"
   },
   {
    "duration": 35,
    "start_time": "2022-09-17T16:19:56.316Z"
   },
   {
    "duration": 72,
    "start_time": "2022-09-17T16:19:56.353Z"
   },
   {
    "duration": 98,
    "start_time": "2022-09-17T16:19:56.427Z"
   },
   {
    "duration": 27,
    "start_time": "2022-09-17T16:19:56.527Z"
   },
   {
    "duration": 12,
    "start_time": "2022-09-17T16:19:56.557Z"
   },
   {
    "duration": 10,
    "start_time": "2022-09-17T16:19:56.571Z"
   },
   {
    "duration": 6,
    "start_time": "2022-09-17T16:19:56.583Z"
   },
   {
    "duration": 11,
    "start_time": "2022-09-17T16:19:56.591Z"
   },
   {
    "duration": 52,
    "start_time": "2022-09-17T16:19:56.603Z"
   },
   {
    "duration": 10,
    "start_time": "2022-09-17T16:19:56.657Z"
   },
   {
    "duration": 7,
    "start_time": "2022-09-17T16:19:56.669Z"
   },
   {
    "duration": 400,
    "start_time": "2022-09-17T16:19:56.678Z"
   },
   {
    "duration": 209,
    "start_time": "2022-09-17T16:19:57.079Z"
   },
   {
    "duration": 465,
    "start_time": "2022-09-17T16:19:57.290Z"
   },
   {
    "duration": 5,
    "start_time": "2022-09-17T16:19:57.757Z"
   },
   {
    "duration": 768,
    "start_time": "2022-09-17T16:19:57.763Z"
   },
   {
    "duration": 5,
    "start_time": "2022-09-17T16:19:58.547Z"
   },
   {
    "duration": 788,
    "start_time": "2022-09-17T16:19:58.554Z"
   },
   {
    "duration": 4,
    "start_time": "2022-09-17T16:19:59.344Z"
   },
   {
    "duration": 802,
    "start_time": "2022-09-17T16:19:59.349Z"
   },
   {
    "duration": 4,
    "start_time": "2022-09-17T16:20:00.153Z"
   }
  ],
  "kernelspec": {
   "display_name": "Python 3 (ipykernel)",
   "language": "python",
   "name": "python3"
  },
  "language_info": {
   "codemirror_mode": {
    "name": "ipython",
    "version": 3
   },
   "file_extension": ".py",
   "mimetype": "text/x-python",
   "name": "python",
   "nbconvert_exporter": "python",
   "pygments_lexer": "ipython3",
   "version": "3.9.5"
  },
  "toc": {
   "base_numbering": 1,
   "nav_menu": {},
   "number_sections": true,
   "sideBar": true,
   "skip_h1_title": true,
   "title_cell": "Table of Contents",
   "title_sidebar": "Contents",
   "toc_cell": false,
   "toc_position": {},
   "toc_section_display": true,
   "toc_window_display": false
  }
 },
 "nbformat": 4,
 "nbformat_minor": 2
}
