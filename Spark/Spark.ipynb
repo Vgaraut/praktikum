{
 "cells": [
  {
   "cell_type": "markdown",
   "id": "GEqQaHzsZ_bA",
   "metadata": {
    "id": "GEqQaHzsZ_bA"
   },
   "source": [
    "## Предсказание стоимости жилья\n",
    "\n",
    "В проекте вам нужно обучить модель линейной регрессии на данных о жилье в Калифорнии в 1990 году. На основе данных нужно предсказать медианную стоимость дома в жилом массиве. Обучите модель и сделайте предсказания на тестовой выборке. Для оценки качества модели используйте метрики RMSE, MAE и R2."
   ]
  },
  {
   "cell_type": "markdown",
   "id": "53871372",
   "metadata": {
    "id": "53871372"
   },
   "source": [
    "# Подготовка данных"
   ]
  },
  {
   "cell_type": "code",
   "execution_count": 1,
   "id": "df92e3ec",
   "metadata": {
    "id": "df92e3ec"
   },
   "outputs": [],
   "source": [
    "import pandas as pd \n",
    "import numpy as np\n",
    "import matplotlib.pyplot as plt\n",
    "\n",
    "import pyspark\n",
    "from pyspark.sql import SparkSession\n",
    "from pyspark.sql.types import *\n",
    "import pyspark.sql.functions as F\n",
    "from pyspark.sql.functions import isnan, when, count, col, coalesce \n",
    "\n",
    "from pyspark.ml.feature import StringIndexer, VectorAssembler, StandardScaler\n",
    "from pyspark.ml.regression import LinearRegression\n",
    "from pyspark.mllib.evaluation import RegressionMetrics\n",
    "\n",
    "from pyspark.ml.regression import DecisionTreeRegressor\n",
    "from pyspark.ml.regression import GBTRegressor\n",
    "\n",
    "pyspark_version = pyspark.__version__\n",
    "if int(pyspark_version[:1]) == 3:\n",
    "    from pyspark.ml.feature import OneHotEncoder    \n",
    "elif int(pyspark_version[:1]) == 2:\n",
    "    from pyspark.ml.feature import OneHotEncodeEstimator\n",
    "        \n",
    "RANDOM_SEED = 2022\n",
    "\n",
    "spark = SparkSession.builder \\\n",
    "                    .master(\"local\") \\\n",
    "                    .appName(\"California housing - Linear regression\") \\\n",
    "                    .getOrCreate()"
   ]
  },
  {
   "cell_type": "code",
   "execution_count": 2,
   "id": "c7d9cd8c",
   "metadata": {},
   "outputs": [
    {
     "name": "stderr",
     "output_type": "stream",
     "text": [
      "                                                                                \r"
     ]
    }
   ],
   "source": [
    "df = spark.read.option('header', 'true').csv('/datasets/housing.csv', inferSchema = True)"
   ]
  },
  {
   "cell_type": "markdown",
   "id": "197776dd",
   "metadata": {},
   "source": [
    "    Тут вопрос: total_bedrooms имеют практически линейную зависимость от households,\n",
    "    если смотреть на распределение их соотношения total_bedrooms/households, мы получим значение около 0,9, следовательно корректно заполнить пропуски можно через households*0,9, но я не нашел как это сделать, только стратегии зааполнения"
   ]
  },
  {
   "cell_type": "code",
   "execution_count": 3,
   "id": "b5ab2f9b",
   "metadata": {},
   "outputs": [],
   "source": [
    "#КОД РЕВЬЮЕРА\n",
    "df = df.withColumn(\"help_households\",col(\"households\")* 0.9)\n",
    "df = df.withColumn(\"total_bedrooms\",coalesce(df[\"total_bedrooms\"], df[\"help_households\"]))\n",
    "df=df.drop('help_households')"
   ]
  },
  {
   "cell_type": "code",
   "execution_count": 4,
   "id": "6db13b3d",
   "metadata": {},
   "outputs": [],
   "source": [
    "#сгенерируем дополнительные признаки на основе имеющихся\n",
    "df = df.withColumn('rooms_per_household',\n",
    "                                   F.col('total_rooms')/F.col('households')).withColumn('bedroom_index', \n",
    "                                                                                        F.col('total_bedrooms')/F.col('total_rooms')).withColumn('population_in_household',\n",
    "                                                                                                                                                 F.col('population')/F.col('households'))"
   ]
  },
  {
   "cell_type": "code",
   "execution_count": 8,
   "id": "e7536cbb",
   "metadata": {},
   "outputs": [
    {
     "name": "stderr",
     "output_type": "stream",
     "text": [
      "                                                                                \r"
     ]
    },
    {
     "data": {
      "text/html": [
       "<div>\n",
       "<style scoped>\n",
       "    .dataframe tbody tr th:only-of-type {\n",
       "        vertical-align: middle;\n",
       "    }\n",
       "\n",
       "    .dataframe tbody tr th {\n",
       "        vertical-align: top;\n",
       "    }\n",
       "\n",
       "    .dataframe thead th {\n",
       "        text-align: right;\n",
       "    }\n",
       "</style>\n",
       "<table border=\"1\" class=\"dataframe\">\n",
       "  <thead>\n",
       "    <tr style=\"text-align: right;\">\n",
       "      <th></th>\n",
       "      <th>0</th>\n",
       "      <th>1</th>\n",
       "      <th>2</th>\n",
       "      <th>3</th>\n",
       "      <th>4</th>\n",
       "    </tr>\n",
       "  </thead>\n",
       "  <tbody>\n",
       "    <tr>\n",
       "      <th>summary</th>\n",
       "      <td>count</td>\n",
       "      <td>mean</td>\n",
       "      <td>stddev</td>\n",
       "      <td>min</td>\n",
       "      <td>max</td>\n",
       "    </tr>\n",
       "    <tr>\n",
       "      <th>longitude</th>\n",
       "      <td>20640</td>\n",
       "      <td>-119.56970445736148</td>\n",
       "      <td>2.003531723502584</td>\n",
       "      <td>-124.35</td>\n",
       "      <td>-114.31</td>\n",
       "    </tr>\n",
       "    <tr>\n",
       "      <th>latitude</th>\n",
       "      <td>20640</td>\n",
       "      <td>35.6318614341087</td>\n",
       "      <td>2.135952397457101</td>\n",
       "      <td>32.54</td>\n",
       "      <td>41.95</td>\n",
       "    </tr>\n",
       "    <tr>\n",
       "      <th>housing_median_age</th>\n",
       "      <td>20640</td>\n",
       "      <td>28.639486434108527</td>\n",
       "      <td>12.58555761211163</td>\n",
       "      <td>1.0</td>\n",
       "      <td>52.0</td>\n",
       "    </tr>\n",
       "    <tr>\n",
       "      <th>total_rooms</th>\n",
       "      <td>20640</td>\n",
       "      <td>2635.7630813953488</td>\n",
       "      <td>2181.6152515827944</td>\n",
       "      <td>2.0</td>\n",
       "      <td>39320.0</td>\n",
       "    </tr>\n",
       "    <tr>\n",
       "      <th>total_bedrooms</th>\n",
       "      <td>20640</td>\n",
       "      <td>537.0797722868215</td>\n",
       "      <td>420.7749347739759</td>\n",
       "      <td>1.0</td>\n",
       "      <td>6445.0</td>\n",
       "    </tr>\n",
       "    <tr>\n",
       "      <th>population</th>\n",
       "      <td>20640</td>\n",
       "      <td>1425.4767441860465</td>\n",
       "      <td>1132.46212176534</td>\n",
       "      <td>3.0</td>\n",
       "      <td>35682.0</td>\n",
       "    </tr>\n",
       "    <tr>\n",
       "      <th>households</th>\n",
       "      <td>20640</td>\n",
       "      <td>499.5396802325581</td>\n",
       "      <td>382.3297528316098</td>\n",
       "      <td>1.0</td>\n",
       "      <td>6082.0</td>\n",
       "    </tr>\n",
       "    <tr>\n",
       "      <th>median_income</th>\n",
       "      <td>20640</td>\n",
       "      <td>3.8706710029070246</td>\n",
       "      <td>1.899821717945263</td>\n",
       "      <td>0.4999</td>\n",
       "      <td>15.0001</td>\n",
       "    </tr>\n",
       "    <tr>\n",
       "      <th>median_house_value</th>\n",
       "      <td>20640</td>\n",
       "      <td>206855.81690891474</td>\n",
       "      <td>115395.61587441359</td>\n",
       "      <td>14999.0</td>\n",
       "      <td>500001.0</td>\n",
       "    </tr>\n",
       "    <tr>\n",
       "      <th>ocean_proximity</th>\n",
       "      <td>20640</td>\n",
       "      <td>None</td>\n",
       "      <td>None</td>\n",
       "      <td>&lt;1H OCEAN</td>\n",
       "      <td>NEAR OCEAN</td>\n",
       "    </tr>\n",
       "    <tr>\n",
       "      <th>rooms_per_household</th>\n",
       "      <td>20640</td>\n",
       "      <td>5.428999742190365</td>\n",
       "      <td>2.4741731394243205</td>\n",
       "      <td>0.8461538461538461</td>\n",
       "      <td>141.9090909090909</td>\n",
       "    </tr>\n",
       "    <tr>\n",
       "      <th>bedroom_index</th>\n",
       "      <td>20640</td>\n",
       "      <td>0.21276293070709223</td>\n",
       "      <td>0.057995300873506204</td>\n",
       "      <td>0.08664955070603338</td>\n",
       "      <td>1.0</td>\n",
       "    </tr>\n",
       "    <tr>\n",
       "      <th>population_in_household</th>\n",
       "      <td>20640</td>\n",
       "      <td>3.070655159436382</td>\n",
       "      <td>10.38604956221361</td>\n",
       "      <td>0.6923076923076923</td>\n",
       "      <td>1243.3333333333333</td>\n",
       "    </tr>\n",
       "  </tbody>\n",
       "</table>\n",
       "</div>"
      ],
      "text/plain": [
       "                             0                    1                     2  \\\n",
       "summary                  count                 mean                stddev   \n",
       "longitude                20640  -119.56970445736148     2.003531723502584   \n",
       "latitude                 20640     35.6318614341087     2.135952397457101   \n",
       "housing_median_age       20640   28.639486434108527     12.58555761211163   \n",
       "total_rooms              20640   2635.7630813953488    2181.6152515827944   \n",
       "total_bedrooms           20640    537.0797722868215     420.7749347739759   \n",
       "population               20640   1425.4767441860465      1132.46212176534   \n",
       "households               20640    499.5396802325581     382.3297528316098   \n",
       "median_income            20640   3.8706710029070246     1.899821717945263   \n",
       "median_house_value       20640   206855.81690891474    115395.61587441359   \n",
       "ocean_proximity          20640                 None                  None   \n",
       "rooms_per_household      20640    5.428999742190365    2.4741731394243205   \n",
       "bedroom_index            20640  0.21276293070709223  0.057995300873506204   \n",
       "population_in_household  20640    3.070655159436382     10.38604956221361   \n",
       "\n",
       "                                           3                   4  \n",
       "summary                                  min                 max  \n",
       "longitude                            -124.35             -114.31  \n",
       "latitude                               32.54               41.95  \n",
       "housing_median_age                       1.0                52.0  \n",
       "total_rooms                              2.0             39320.0  \n",
       "total_bedrooms                           1.0              6445.0  \n",
       "population                               3.0             35682.0  \n",
       "households                               1.0              6082.0  \n",
       "median_income                         0.4999             15.0001  \n",
       "median_house_value                   14999.0            500001.0  \n",
       "ocean_proximity                    <1H OCEAN          NEAR OCEAN  \n",
       "rooms_per_household       0.8461538461538461   141.9090909090909  \n",
       "bedroom_index            0.08664955070603338                 1.0  \n",
       "population_in_household   0.6923076923076923  1243.3333333333333  "
      ]
     },
     "execution_count": 8,
     "metadata": {},
     "output_type": "execute_result"
    }
   ],
   "source": [
    "df.describe().toPandas().transpose()"
   ]
  },
  {
   "cell_type": "code",
   "execution_count": 9,
   "id": "7a49c723",
   "metadata": {},
   "outputs": [],
   "source": [
    "#df.filter(col(\"total_bedrooms\").isNotNull())"
   ]
  },
  {
   "cell_type": "markdown",
   "id": "86f2d4d7",
   "metadata": {},
   "source": [
    "Перенес PrintSchema ниже, после добавления финальной колонки"
   ]
  },
  {
   "cell_type": "code",
   "execution_count": 10,
   "id": "7fb824de",
   "metadata": {
    "scrolled": false
   },
   "outputs": [],
   "source": [
    "#df.cache()\n",
    "#df.printSchema()"
   ]
  },
  {
   "cell_type": "code",
   "execution_count": 11,
   "id": "5e5840a9",
   "metadata": {},
   "outputs": [],
   "source": [
    "#df = df.withColumn('bedroom_index', F.col('total_bedrooms')/F.col('total_rooms'))"
   ]
  },
  {
   "cell_type": "code",
   "execution_count": 12,
   "id": "cd0feb4d",
   "metadata": {},
   "outputs": [
    {
     "name": "stdout",
     "output_type": "stream",
     "text": [
      "root\n",
      " |-- longitude: double (nullable = true)\n",
      " |-- latitude: double (nullable = true)\n",
      " |-- housing_median_age: double (nullable = true)\n",
      " |-- total_rooms: double (nullable = true)\n",
      " |-- total_bedrooms: double (nullable = true)\n",
      " |-- population: double (nullable = true)\n",
      " |-- households: double (nullable = true)\n",
      " |-- median_income: double (nullable = true)\n",
      " |-- median_house_value: double (nullable = true)\n",
      " |-- ocean_proximity: string (nullable = true)\n",
      " |-- rooms_per_household: double (nullable = true)\n",
      " |-- bedroom_index: double (nullable = true)\n",
      " |-- population_in_household: double (nullable = true)\n",
      "\n"
     ]
    }
   ],
   "source": [
    "df.printSchema()"
   ]
  },
  {
   "cell_type": "code",
   "execution_count": 13,
   "id": "9df3b957",
   "metadata": {},
   "outputs": [
    {
     "data": {
      "text/html": [
       "<div>\n",
       "<style scoped>\n",
       "    .dataframe tbody tr th:only-of-type {\n",
       "        vertical-align: middle;\n",
       "    }\n",
       "\n",
       "    .dataframe tbody tr th {\n",
       "        vertical-align: top;\n",
       "    }\n",
       "\n",
       "    .dataframe thead th {\n",
       "        text-align: right;\n",
       "    }\n",
       "</style>\n",
       "<table border=\"1\" class=\"dataframe\">\n",
       "  <thead>\n",
       "    <tr style=\"text-align: right;\">\n",
       "      <th></th>\n",
       "      <th>NA</th>\n",
       "      <th>NA_percents</th>\n",
       "    </tr>\n",
       "  </thead>\n",
       "  <tbody>\n",
       "    <tr>\n",
       "      <th>longitude</th>\n",
       "      <td>0</td>\n",
       "      <td>0.0</td>\n",
       "    </tr>\n",
       "    <tr>\n",
       "      <th>latitude</th>\n",
       "      <td>0</td>\n",
       "      <td>0.0</td>\n",
       "    </tr>\n",
       "    <tr>\n",
       "      <th>housing_median_age</th>\n",
       "      <td>0</td>\n",
       "      <td>0.0</td>\n",
       "    </tr>\n",
       "    <tr>\n",
       "      <th>total_rooms</th>\n",
       "      <td>0</td>\n",
       "      <td>0.0</td>\n",
       "    </tr>\n",
       "    <tr>\n",
       "      <th>total_bedrooms</th>\n",
       "      <td>0</td>\n",
       "      <td>0.0</td>\n",
       "    </tr>\n",
       "    <tr>\n",
       "      <th>population</th>\n",
       "      <td>0</td>\n",
       "      <td>0.0</td>\n",
       "    </tr>\n",
       "    <tr>\n",
       "      <th>households</th>\n",
       "      <td>0</td>\n",
       "      <td>0.0</td>\n",
       "    </tr>\n",
       "    <tr>\n",
       "      <th>median_income</th>\n",
       "      <td>0</td>\n",
       "      <td>0.0</td>\n",
       "    </tr>\n",
       "    <tr>\n",
       "      <th>median_house_value</th>\n",
       "      <td>0</td>\n",
       "      <td>0.0</td>\n",
       "    </tr>\n",
       "    <tr>\n",
       "      <th>ocean_proximity</th>\n",
       "      <td>0</td>\n",
       "      <td>0.0</td>\n",
       "    </tr>\n",
       "    <tr>\n",
       "      <th>rooms_per_household</th>\n",
       "      <td>0</td>\n",
       "      <td>0.0</td>\n",
       "    </tr>\n",
       "    <tr>\n",
       "      <th>bedroom_index</th>\n",
       "      <td>0</td>\n",
       "      <td>0.0</td>\n",
       "    </tr>\n",
       "    <tr>\n",
       "      <th>population_in_household</th>\n",
       "      <td>0</td>\n",
       "      <td>0.0</td>\n",
       "    </tr>\n",
       "  </tbody>\n",
       "</table>\n",
       "</div>"
      ],
      "text/plain": [
       "                         NA  NA_percents\n",
       "longitude                 0          0.0\n",
       "latitude                  0          0.0\n",
       "housing_median_age        0          0.0\n",
       "total_rooms               0          0.0\n",
       "total_bedrooms            0          0.0\n",
       "population                0          0.0\n",
       "households                0          0.0\n",
       "median_income             0          0.0\n",
       "median_house_value        0          0.0\n",
       "ocean_proximity           0          0.0\n",
       "rooms_per_household       0          0.0\n",
       "bedroom_index             0          0.0\n",
       "population_in_household   0          0.0"
      ]
     },
     "metadata": {},
     "output_type": "display_data"
    }
   ],
   "source": [
    "nan_table = \\\n",
    "df.select(\n",
    "    [F.count(F.when(F.isnan(c) | F.col(c).isNull(), c)).alias(c) for c in df.columns]\n",
    "    ).toPandas().T.rename(columns={0:'NA'})\n",
    "nan_table['NA_percents'] = nan_table['NA'] / df.count() * 100\n",
    "display(nan_table)"
   ]
  },
  {
   "cell_type": "code",
   "execution_count": 14,
   "id": "bff3ee07",
   "metadata": {},
   "outputs": [],
   "source": [
    "#df = df.dropna(how = 'any', subset = 'total_bedrooms')"
   ]
  },
  {
   "cell_type": "code",
   "execution_count": 15,
   "id": "94425241",
   "metadata": {
    "scrolled": false
   },
   "outputs": [
    {
     "data": {
      "image/png": "[encoded data removed]",
      "text/plain": [
       "<Figure size 1152x1152 with 144 Axes>"
      ]
     },
     "metadata": {
      "needs_background": "light"
     },
     "output_type": "display_data"
    }
   ],
   "source": [
    "numeric_features = [t[0] for t in df.dtypes if t[1] == 'int' or t[1] == 'double']\n",
    "sampled_data = df.select(numeric_features).sample(False, 0.5).toPandas()\n",
    "axs = pd.plotting.scatter_matrix(sampled_data, figsize=(16, 16))\n",
    "n = len(sampled_data.columns)\n",
    "for i in range(n):\n",
    "    v = axs[i, 0]\n",
    "    v.yaxis.label.set_rotation(0)\n",
    "    v.yaxis.label.set_ha('right')\n",
    "    v.set_yticks(())\n",
    "    h = axs[n-1, i]\n",
    "    h.xaxis.label.set_rotation(90)\n",
    "    h.set_xticks(())"
   ]
  },
  {
   "cell_type": "code",
   "execution_count": 16,
   "id": "8f34aa4d",
   "metadata": {
    "scrolled": true
   },
   "outputs": [
    {
     "name": "stdout",
     "output_type": "stream",
     "text": [
      "Correlation to median_house_value for  longitude -0.045966615117981745\n",
      "Correlation to median_house_value for  latitude -0.14416027687465752\n",
      "Correlation to median_house_value for  housing_median_age 0.10562341249321067\n",
      "Correlation to median_house_value for  total_rooms 0.13415311380656275\n",
      "Correlation to median_house_value for  total_bedrooms 0.05058611679076617\n",
      "Correlation to median_house_value for  population -0.024649678888894876\n",
      "Correlation to median_house_value for  households 0.06584265057005637\n",
      "Correlation to median_house_value for  median_income 0.6880752079585578\n",
      "Correlation to median_house_value for  median_house_value 1.0\n",
      "Correlation to median_house_value for  rooms_per_household 0.15194828974146016\n",
      "Correlation to median_house_value for  bedroom_index -0.25523888604162576\n",
      "Correlation to median_house_value for  population_in_household -0.023737412956134192\n"
     ]
    }
   ],
   "source": [
    "import six\n",
    "for i in df.columns:\n",
    "    if not( isinstance(df.select(i).take(1)[0][0], six.string_types)):\n",
    "        print( \"Correlation to median_house_value for \", i, df.stat.corr('median_house_value',i))"
   ]
  },
  {
   "cell_type": "markdown",
   "id": "ecb458ac",
   "metadata": {},
   "source": [
    "из графика и корреляций можно сказать, что самое большое влияние на медианную стоимость жилья имеет доход "
   ]
  },
  {
   "cell_type": "code",
   "execution_count": 17,
   "id": "f7803ed1",
   "metadata": {},
   "outputs": [
    {
     "name": "stderr",
     "output_type": "stream",
     "text": [
      "*c* argument looks like a single numeric RGB or RGBA sequence, which should be avoided as value-mapping will have precedence in case its length matches with *x* & *y*.  Please use the *color* keyword-argument or provide a 2-D array with a single row if you intend to specify the same RGB or RGBA value for all points.\n",
      "*c* argument looks like a single numeric RGB or RGBA sequence, which should be avoided as value-mapping will have precedence in case its length matches with *x* & *y*.  Please use the *color* keyword-argument or provide a 2-D array with a single row if you intend to specify the same RGB or RGBA value for all points.\n",
      "*c* argument looks like a single numeric RGB or RGBA sequence, which should be avoided as value-mapping will have precedence in case its length matches with *x* & *y*.  Please use the *color* keyword-argument or provide a 2-D array with a single row if you intend to specify the same RGB or RGBA value for all points.\n",
      "*c* argument looks like a single numeric RGB or RGBA sequence, which should be avoided as value-mapping will have precedence in case its length matches with *x* & *y*.  Please use the *color* keyword-argument or provide a 2-D array with a single row if you intend to specify the same RGB or RGBA value for all points.\n",
      "*c* argument looks like a single numeric RGB or RGBA sequence, which should be avoided as value-mapping will have precedence in case its length matches with *x* & *y*.  Please use the *color* keyword-argument or provide a 2-D array with a single row if you intend to specify the same RGB or RGBA value for all points.\n"
     ]
    },
    {
     "data": {
      "image/png": "[encoded data removed]",
      "text/plain": [
       "<Figure size 1280x800 with 1 Axes>"
      ]
     },
     "metadata": {},
     "output_type": "display_data"
    }
   ],
   "source": [
    "data = df.toPandas()[['ocean_proximity', 'longitude', 'latitude']]\n",
    "categories = np.unique(data['ocean_proximity'])\n",
    "colors = [plt.cm.tab10(i/float(len(categories)-1)) for i in range(len(categories))]\n",
    "\n",
    "plt.figure(figsize=(16, 10), dpi= 80, facecolor='w', edgecolor='k')\n",
    "\n",
    "for i, category in enumerate(categories):\n",
    "    plt.scatter('longitude', 'latitude', \n",
    "                data=data.loc[data.ocean_proximity==category, :], \n",
    "                s=20, c=colors[i], label=str(category))\n",
    "\n",
    "# Decorations\n",
    "plt.gca().set(xlabel='longitude', ylabel='latitude')\n",
    "\n",
    "plt.xticks(fontsize=12); plt.yticks(fontsize=12)\n",
    "plt.title(\"Categories_of_households\", fontsize=22)\n",
    "plt.legend(fontsize=12)    \n",
    "plt.show()  "
   ]
  },
  {
   "cell_type": "markdown",
   "id": "9f0a82f3",
   "metadata": {
    "id": "9f0a82f3"
   },
   "source": [
    "# Обучение моделей"
   ]
  },
  {
   "cell_type": "code",
   "execution_count": 18,
   "id": "0c893205",
   "metadata": {},
   "outputs": [
    {
     "name": "stderr",
     "output_type": "stream",
     "text": [
      "                                                                                \r"
     ]
    }
   ],
   "source": [
    "numerical_assembler = VectorAssembler(inputCols=['longitude',\n",
    "                                                 'latitude',\n",
    "                                                 'housing_median_age',\n",
    "                                                 'total_rooms',\n",
    "                                                 'total_bedrooms',\n",
    "                                                 'population',\n",
    "                                                 'households',\n",
    "                                                 'median_income',\n",
    "                                                 'rooms_per_household',\n",
    "                                                 'bedroom_index',\n",
    "                                                 'population_in_household'],\n",
    "                                      outputCol=\"numerical_features\")\n",
    "df = numerical_assembler.transform(df) \n",
    "standardScaler = StandardScaler(inputCol='numerical_features',\n",
    "                                outputCol=\"numerical_features_scaled\")\n",
    "\n",
    "df = standardScaler.fit(df).transform(df) "
   ]
  },
  {
   "cell_type": "code",
   "execution_count": 19,
   "id": "6d878dc1",
   "metadata": {},
   "outputs": [],
   "source": [
    "indexer = StringIndexer(inputCols=['ocean_proximity'], \n",
    "                        outputCols=['ocean_proximity_idx']) \n",
    "df = indexer.fit(df).transform(df)\n",
    "\n",
    "encoder = OneHotEncoder(inputCols=['ocean_proximity_idx'],\n",
    "                        outputCols=['ocean_proximity_ohe'])\n",
    "df = encoder.fit(df).transform(df)\n",
    "\n",
    "categorical_assembler =VectorAssembler(inputCols=['ocean_proximity_ohe'],\n",
    "                                        outputCol=\"categorical_features\")\n",
    "df = categorical_assembler.transform(df)"
   ]
  },
  {
   "cell_type": "code",
   "execution_count": 20,
   "id": "bddb08c4",
   "metadata": {
    "id": "bddb08c4"
   },
   "outputs": [
    {
     "name": "stdout",
     "output_type": "stream",
     "text": [
      "+--------------------+-------------------------+------------------+\n",
      "|            features|numerical_features_scaled|median_house_value|\n",
      "+--------------------+-------------------------+------------------+\n",
      "|[0.0,0.0,0.0,1.0,...|     [-61.007269596069...|          452600.0|\n",
      "|[0.0,0.0,0.0,1.0,...|     [-61.002278409814...|          358500.0|\n",
      "|[0.0,0.0,0.0,1.0,...|     [-61.012260782324...|          352100.0|\n",
      "+--------------------+-------------------------+------------------+\n",
      "only showing top 3 rows\n",
      "\n"
     ]
    }
   ],
   "source": [
    "#vectorAssembler = VectorAssembler(inputCols = ['longitude', 'latitude', 'housing_median_age', 'total_rooms', 'total_bedrooms', 'population', 'households', 'median_income'], outputCol = 'features')\n",
    "all_features_wc = ['categorical_features', 'numerical_features_scaled']\n",
    "#all_features = ['numerical_features_scaled']\n",
    "#создадим 2 ассемблера для формирования 2 датасетов, с категорийными данными и без\n",
    "final_cat_assembler = VectorAssembler(inputCols=all_features_wc, \n",
    "                                  outputCol='features')\n",
    "#final_assembler = VectorAssembler(inputCols=all_features, \n",
    "#                                  outputCol='features')\n",
    "#создадим датасеты для обучения\n",
    "fin_df = final_cat_assembler.transform(df)\n",
    "fin_df = fin_df.select(['features', 'numerical_features_scaled', 'median_house_value'])\n",
    "fin_df.show(3)\n",
    "#fin_df = final_assembler.transform(df)\n",
    "#fin_df = fin_df.select(['features', 'median_house_value'])\n",
    "#fin_df.show(3)"
   ]
  },
  {
   "cell_type": "markdown",
   "id": "f2a4c504",
   "metadata": {},
   "source": [
    " **Проверим работу модели без категорийных признаков**"
   ]
  },
  {
   "cell_type": "code",
   "execution_count": 21,
   "id": "3288276e",
   "metadata": {},
   "outputs": [],
   "source": [
    "train_df, test_df = fin_df.randomSplit([0.7, 0.3])"
   ]
  },
  {
   "cell_type": "code",
   "execution_count": 22,
   "id": "d44ab7cf",
   "metadata": {},
   "outputs": [
    {
     "name": "stderr",
     "output_type": "stream",
     "text": [
      "22/11/24 06:17:21 WARN BLAS: Failed to load implementation from: com.github.fommil.netlib.NativeSystemBLAS\n",
      "22/11/24 06:17:21 WARN BLAS: Failed to load implementation from: com.github.fommil.netlib.NativeRefBLAS\n",
      "                                                                                \r"
     ]
    }
   ],
   "source": [
    " #импорт перенесен\n",
    "lr = LinearRegression(labelCol = 'median_house_value', featuresCol = 'numerical_features_scaled', maxIter=10, regParam=0.3, elasticNetParam=0.8)\n",
    "lr_model = lr.fit(train_df)\n",
    "#print(\"Coefficients: \" + str(lr_model.coefficients))\n",
    "#print(\"Intercept: \" + str(lr_model.intercept))"
   ]
  },
  {
   "cell_type": "code",
   "execution_count": 23,
   "id": "d8388b38",
   "metadata": {},
   "outputs": [
    {
     "name": "stderr",
     "output_type": "stream",
     "text": [
      "[Stage 45:>                                                         (0 + 1) / 1]\r"
     ]
    },
    {
     "name": "stdout",
     "output_type": "stream",
     "text": [
      "MSE = 4723547076.943062\n",
      "RMSE = 68728.06615163169\n",
      "MAE = 49688.81044385098\n",
      "R2 = 0.6460771313936298\n"
     ]
    },
    {
     "name": "stderr",
     "output_type": "stream",
     "text": [
      "                                                                                \r"
     ]
    }
   ],
   "source": [
    "#Оценим метрики на train выборке\n",
    "trainingSummary = lr_model.transform(train_df)\n",
    "#исправлено\n",
    "valuesAndPreds = trainingSummary.select(['prediction', 'median_house_value'])\n",
    "valuesAndPreds = valuesAndPreds.rdd.map(tuple)\n",
    "metrics = RegressionMetrics(valuesAndPreds)\n",
    "# Squared Error\n",
    "print(\"MSE = %s\" % metrics.meanSquaredError)\n",
    "print(\"RMSE = %s\" % metrics.rootMeanSquaredError)\n",
    "# Mean absolute error\n",
    "print(\"MAE = %s\" % metrics.meanAbsoluteError)\n",
    "print(\"R2 = %s\" % metrics.r2)\n"
   ]
  },
  {
   "cell_type": "code",
   "execution_count": 24,
   "id": "e24840df",
   "metadata": {},
   "outputs": [
    {
     "name": "stderr",
     "output_type": "stream",
     "text": [
      "                                                                                \r"
     ]
    },
    {
     "name": "stdout",
     "output_type": "stream",
     "text": [
      "Root Mean Squared Error (RMSE) on test data = 69243.9\n"
     ]
    },
    {
     "name": "stderr",
     "output_type": "stream",
     "text": [
      "                                                                                \r"
     ]
    }
   ],
   "source": [
    "test_result = lr_model.evaluate(test_df)\n",
    "print(\"Root Mean Squared Error (RMSE) on test data = %g\" % test_result.rootMeanSquaredError)"
   ]
  },
  {
   "cell_type": "code",
   "execution_count": 26,
   "id": "9a4a3094",
   "metadata": {},
   "outputs": [
    {
     "name": "stdout",
     "output_type": "stream",
     "text": [
      "MSE = 4794713382.008002\n",
      "RMSE = 69243.86891276369\n",
      "MAE = 50189.22985295125\n",
      "R2 = 0.6379491742198378\n"
     ]
    }
   ],
   "source": [
    "lr_predictionsA = lr_model.transform(test_df)\n",
    "valuesAndPreds = lr_predictionsA.select(['prediction', 'median_house_value'])\n",
    "valuesAndPreds = valuesAndPreds.rdd.map(tuple)\n",
    "metrics = RegressionMetrics(valuesAndPreds)\n",
    "# Squared Error\n",
    "print(\"MSE = %s\" % metrics.meanSquaredError)\n",
    "print(\"RMSE = %s\" % metrics.rootMeanSquaredError)\n",
    "# Mean absolute error\n",
    "print(\"MAE = %s\" % metrics.meanAbsoluteError)\n",
    "print(\"R2 = %s\" % metrics.r2)"
   ]
  },
  {
   "cell_type": "markdown",
   "id": "debddf8e",
   "metadata": {},
   "source": [
    "**УЧИМ С КАТЕГОРИЙНЫМИ ДАННЫМИ**"
   ]
  },
  {
   "cell_type": "code",
   "execution_count": 27,
   "id": "720b393a",
   "metadata": {},
   "outputs": [
    {
     "name": "stderr",
     "output_type": "stream",
     "text": [
      "                                                                                \r"
     ]
    },
    {
     "name": "stdout",
     "output_type": "stream",
     "text": [
      "Coefficients: [18193.628187003265,-34648.59530051533,29903.942402552162,16718.590463049037,-16262.05058443652,-13515.582928772783,14996.372307540303,9553.797788387135,13737.521481241198,-30843.019760009134,13869.608083984322,84146.18374932303,2011.5956465313272,20152.29958872432,-948.904844707964]\n"
     ]
    }
   ],
   "source": [
    "from pyspark.ml.regression import LinearRegression\n",
    "lr = LinearRegression(labelCol = 'median_house_value', featuresCol = 'features', maxIter=10, regParam=0.3, elasticNetParam=0.8)\n",
    "lr_model = lr.fit(train_df)\n",
    "print(\"Coefficients: \" + str(lr_model.coefficients))\n",
    "#print(\"Intercept: \" + str(lr_model.intercept))"
   ]
  },
  {
   "cell_type": "code",
   "execution_count": 28,
   "id": "2c750d32",
   "metadata": {},
   "outputs": [
    {
     "name": "stdout",
     "output_type": "stream",
     "text": [
      "MSE = 4723547076.943062\n",
      "RMSE = 68728.06615163169\n",
      "MAE = 49688.81044385098\n",
      "R2 = 0.6460771313936298\n"
     ]
    },
    {
     "name": "stderr",
     "output_type": "stream",
     "text": [
      "                                                                                \r"
     ]
    }
   ],
   "source": [
    "#Оценим метрики на train выборке\n",
    "ctrainingSummary = lr_model.transform(train_df)\n",
    "valuesAndPreds = trainingSummary.select(['prediction', 'median_house_value'])\n",
    "valuesAndPreds = valuesAndPreds.rdd.map(tuple)\n",
    "metrics = RegressionMetrics(valuesAndPreds)\n",
    "\n",
    "print(\"MSE = %s\" % metrics.meanSquaredError)\n",
    "print(\"RMSE = %s\" % metrics.rootMeanSquaredError)\n",
    "\n",
    "print(\"MAE = %s\" % metrics.meanAbsoluteError)\n",
    "print(\"R2 = %s\" % metrics.r2)"
   ]
  },
  {
   "cell_type": "code",
   "execution_count": 29,
   "id": "b1678472",
   "metadata": {},
   "outputs": [
    {
     "name": "stdout",
     "output_type": "stream",
     "text": [
      "MSE = 4799268528.29764\n",
      "RMSE = 69276.75315932206\n",
      "MAE = 49603.35656813151\n",
      "R2 = 0.6376052132060468\n"
     ]
    }
   ],
   "source": [
    "#оценим данные на test\n",
    "lr_predictionsB = lr_model.transform(test_df)\n",
    "valuesAndPreds = lr_predictionsB.select(['prediction', 'median_house_value'])\n",
    "valuesAndPreds = valuesAndPreds.rdd.map(tuple)\n",
    "metrics = RegressionMetrics(valuesAndPreds)\n",
    "# Squared Error\n",
    "print(\"MSE = %s\" % metrics.meanSquaredError)\n",
    "print(\"RMSE = %s\" % metrics.rootMeanSquaredError)\n",
    "# Mean absolute error\n",
    "print(\"MAE = %s\" % metrics.meanAbsoluteError)\n",
    "print(\"R2 = %s\" % metrics.r2)"
   ]
  },
  {
   "cell_type": "code",
   "execution_count": 47,
   "id": "678b6161",
   "metadata": {},
   "outputs": [
    {
     "name": "stdout",
     "output_type": "stream",
     "text": [
      "Collecting ggplot\n",
      "  Downloading ggplot-0.11.5-py2.py3-none-any.whl (2.2 MB)\n",
      "\u001b[K     |████████████████████████████████| 2.2 MB 1.3 MB/s eta 0:00:01\n",
      "\u001b[?25hRequirement already satisfied: scipy in /opt/conda/lib/python3.9/site-packages (from ggplot) (1.9.1)\n",
      "Requirement already satisfied: pandas in /opt/conda/lib/python3.9/site-packages (from ggplot) (1.2.4)\n",
      "Requirement already satisfied: numpy in /opt/conda/lib/python3.9/site-packages (from ggplot) (1.21.1)\n",
      "Requirement already satisfied: matplotlib in /opt/conda/lib/python3.9/site-packages (from ggplot) (3.3.4)\n",
      "Requirement already satisfied: statsmodels in /opt/conda/lib/python3.9/site-packages (from ggplot) (0.13.2)\n",
      "Requirement already satisfied: six in /opt/conda/lib/python3.9/site-packages (from ggplot) (1.16.0)\n",
      "Requirement already satisfied: patsy>=0.4 in /opt/conda/lib/python3.9/site-packages (from ggplot) (0.5.2)\n",
      "Collecting brewer2mpl\n",
      "  Downloading brewer2mpl-1.4.1-py2.py3-none-any.whl (24 kB)\n",
      "Requirement already satisfied: cycler in /opt/conda/lib/python3.9/site-packages (from ggplot) (0.11.0)\n",
      "Requirement already satisfied: kiwisolver>=1.0.1 in /opt/conda/lib/python3.9/site-packages (from matplotlib->ggplot) (1.4.4)\n",
      "Requirement already satisfied: python-dateutil>=2.1 in /opt/conda/lib/python3.9/site-packages (from matplotlib->ggplot) (2.8.1)\n",
      "Requirement already satisfied: pillow>=6.2.0 in /opt/conda/lib/python3.9/site-packages (from matplotlib->ggplot) (8.4.0)\n",
      "Requirement already satisfied: pyparsing!=2.0.4,!=2.1.2,!=2.1.6,>=2.0.3 in /opt/conda/lib/python3.9/site-packages (from matplotlib->ggplot) (2.4.7)\n",
      "Requirement already satisfied: pytz>=2017.3 in /opt/conda/lib/python3.9/site-packages (from pandas->ggplot) (2021.1)\n",
      "Requirement already satisfied: packaging>=21.3 in /opt/conda/lib/python3.9/site-packages (from statsmodels->ggplot) (21.3)\n",
      "Installing collected packages: brewer2mpl, ggplot\n",
      "Successfully installed brewer2mpl-1.4.1 ggplot-0.11.5\n"
     ]
    }
   ],
   "source": [
    "!pip install ggplot"
   ]
  },
  {
   "cell_type": "markdown",
   "id": "757fd103",
   "metadata": {
    "id": "757fd103"
   },
   "source": [
    "# Анализ результатов"
   ]
  },
  {
   "cell_type": "markdown",
   "id": "a62a44b9",
   "metadata": {},
   "source": [
    " **Мы получили следующие данные:**\n",
    "        для обучения без категорийных столбцов: \n",
    "        \n",
    "                                                RMSE = 70287.4717200304        \n",
    "                                                MAE = 50059.857504163585                                                \n",
    "                                                R2 = 0.6355508226476254\n",
    "                                                \n",
    "        для обучения с категорийными данными: \n",
    "                                              RMSE = 69981.1441946323\n",
    "                                              MAE = 49716.57631566875\n",
    "                                              R2 = 0.6387205920212413\n",
    "                                              \n",
    "Можем сделать вывод, что категорийные данные только вредят при обучении.\n",
    "Если мы посмотрим на график распределения географических зон в зависимости от координат, мы видим, что нет четкого разграничения и данные часто пересекаются в областях, например зона near bay с остальными.\n",
    "Возможно если бы мы получили адрес из координат было бы эффективнее зонировать по районам или городам залива.\n",
    "\n",
    "Смог получить RMSE = 58973.00628153204 MAE = 41028.26718754351 R2 = 0.672588448134682 на gbtregressor, пока это лучший результат :)\n",
    "\n",
    "\n",
    "\n"
   ]
  },
  {
   "cell_type": "markdown",
   "id": "d7fdd4c9",
   "metadata": {},
   "source": [
    "## Бонус :)"
   ]
  },
  {
   "cell_type": "code",
   "execution_count": null,
   "id": "81b0951c",
   "metadata": {},
   "outputs": [],
   "source": [
    "from pyspark.ml.regression import DecisionTreeRegressor\n",
    "dt = DecisionTreeRegressor(featuresCol ='features', labelCol = 'median_house_value')\n",
    "dt_model = dt.fit(train_df)\n",
    "dt_predictions = dt_model.transform(test_df)\n",
    "valuesAndPreds = dt_predictions.select(['prediction', 'median_house_value'])\n",
    "valuesAndPreds = valuesAndPreds.rdd.map(tuple)\n",
    "metrics = RegressionMetrics(valuesAndPreds)\n",
    "\n",
    "print(\"MSE = %s\" % metrics.meanSquaredError)\n",
    "print(\"RMSE = %s\" % metrics.rootMeanSquaredError)\n",
    "print(\"MAE = %s\" % metrics.meanAbsoluteError)\n",
    "print(\"R2 = %s\" % metrics.r2)"
   ]
  },
  {
   "cell_type": "code",
   "execution_count": null,
   "id": "cf40b8c0",
   "metadata": {},
   "outputs": [],
   "source": [
    "dt_model.featureImportances"
   ]
  },
  {
   "cell_type": "code",
   "execution_count": null,
   "id": "d72db423",
   "metadata": {},
   "outputs": [],
   "source": [
    "df.take(1)"
   ]
  },
  {
   "cell_type": "code",
   "execution_count": null,
   "id": "dd1211ff",
   "metadata": {},
   "outputs": [],
   "source": [
    "from pyspark.ml.regression import GBTRegressor\n",
    "gbt = GBTRegressor(labelCol = 'median_house_value', featuresCol = 'features', maxIter=10)\n",
    "gbt_model = gbt.fit(train_df)\n",
    "gbt_predictions = gbt_model.transform(test_df)\n",
    "gbt_predictions.select('prediction', 'median_house_value', 'features').show(5)"
   ]
  },
  {
   "cell_type": "code",
   "execution_count": null,
   "id": "f96516c3",
   "metadata": {},
   "outputs": [],
   "source": [
    "valuesAndPreds = gbt_predictions.select(['prediction', 'median_house_value'])\n",
    "valuesAndPreds = valuesAndPreds.rdd.map(tuple)\n",
    "metrics = RegressionMetrics(valuesAndPreds)\n",
    "\n",
    "print(\"MSE = %s\" % metrics.meanSquaredError)\n",
    "print(\"RMSE = %s\" % metrics.rootMeanSquaredError)\n",
    "print(\"MAE = %s\" % metrics.meanAbsoluteError)\n",
    "print(\"R2 = %s\" % metrics.r2)"
   ]
  }
 ],
 "metadata": {
  "ExecuteTimeLog": [
   {
    "duration": 718,
    "start_time": "2022-11-14T19:29:01.376Z"
   },
   {
    "duration": 59,
    "start_time": "2022-11-14T19:29:40.964Z"
   },
   {
    "duration": 6,
    "start_time": "2022-11-14T19:30:39.794Z"
   },
   {
    "duration": 8214,
    "start_time": "2022-11-14T19:31:07.844Z"
   },
   {
    "duration": 4420,
    "start_time": "2022-11-14T19:31:24.812Z"
   },
   {
    "duration": 23,
    "start_time": "2022-11-14T19:35:27.909Z"
   },
   {
    "duration": 1990,
    "start_time": "2022-11-14T19:35:56.562Z"
   },
   {
    "duration": 860,
    "start_time": "2022-11-14T19:37:20.583Z"
   },
   {
    "duration": 7528,
    "start_time": "2022-11-14T19:38:22.768Z"
   },
   {
    "duration": 1109,
    "start_time": "2022-11-14T19:50:05.143Z"
   },
   {
    "duration": 2925,
    "start_time": "2022-11-14T19:52:42.701Z"
   },
   {
    "duration": 2262,
    "start_time": "2022-11-14T19:53:00.168Z"
   },
   {
    "duration": 220,
    "start_time": "2022-11-14T20:52:17.119Z"
   },
   {
    "duration": 125,
    "start_time": "2022-11-14T20:52:55.728Z"
   },
   {
    "duration": 107,
    "start_time": "2022-11-14T20:53:09.148Z"
   },
   {
    "duration": 531,
    "start_time": "2022-11-14T20:54:16.924Z"
   },
   {
    "duration": 17,
    "start_time": "2022-11-14T20:54:42.003Z"
   },
   {
    "duration": 270,
    "start_time": "2022-11-14T20:55:12.412Z"
   },
   {
    "duration": 1116,
    "start_time": "2022-11-14T20:55:32.948Z"
   },
   {
    "duration": 8,
    "start_time": "2022-11-14T20:56:06.851Z"
   },
   {
    "duration": 294,
    "start_time": "2022-11-14T20:58:07.828Z"
   },
   {
    "duration": 8,
    "start_time": "2022-11-14T20:58:09.963Z"
   },
   {
    "duration": 4406,
    "start_time": "2022-11-14T20:58:11.950Z"
   },
   {
    "duration": 6,
    "start_time": "2022-11-14T20:58:19.299Z"
   },
   {
    "duration": 699,
    "start_time": "2022-11-14T20:58:51.532Z"
   },
   {
    "duration": 151,
    "start_time": "2022-11-14T20:59:39.900Z"
   },
   {
    "duration": 1047,
    "start_time": "2022-11-14T20:59:58.412Z"
   },
   {
    "duration": 704,
    "start_time": "2022-11-14T21:02:57.460Z"
   },
   {
    "duration": 502,
    "start_time": "2022-11-14T21:03:22.828Z"
   },
   {
    "duration": 317,
    "start_time": "2022-11-14T21:04:11.605Z"
   },
   {
    "duration": 3964,
    "start_time": "2022-11-14T21:05:03.781Z"
   },
   {
    "duration": 20,
    "start_time": "2022-11-14T21:05:45.790Z"
   },
   {
    "duration": 28,
    "start_time": "2022-11-14T21:06:12.958Z"
   },
   {
    "duration": 8124,
    "start_time": "2022-11-14T21:08:54.758Z"
   },
   {
    "duration": 286,
    "start_time": "2022-11-14T21:09:11.744Z"
   },
   {
    "duration": 14910,
    "start_time": "2022-11-15T08:24:54.801Z"
   },
   {
    "duration": 7598,
    "start_time": "2022-11-15T08:25:09.714Z"
   },
   {
    "duration": 4294,
    "start_time": "2022-11-15T08:25:17.317Z"
   },
   {
    "duration": 20,
    "start_time": "2022-11-15T08:25:21.613Z"
   },
   {
    "duration": 8048,
    "start_time": "2022-11-15T08:25:21.635Z"
   },
   {
    "duration": 2332,
    "start_time": "2022-11-15T08:25:29.684Z"
   },
   {
    "duration": 786,
    "start_time": "2022-11-15T08:25:32.018Z"
   },
   {
    "duration": 18,
    "start_time": "2022-11-15T08:25:32.806Z"
   },
   {
    "duration": 4496,
    "start_time": "2022-11-15T08:25:32.826Z"
   },
   {
    "duration": 5,
    "start_time": "2022-11-15T08:25:37.324Z"
   },
   {
    "duration": 676,
    "start_time": "2022-11-15T08:25:37.330Z"
   },
   {
    "duration": 994,
    "start_time": "2022-11-15T08:25:38.008Z"
   },
   {
    "duration": 954,
    "start_time": "2022-11-15T08:25:39.004Z"
   },
   {
    "duration": 0,
    "start_time": "2022-11-15T08:25:39.959Z"
   },
   {
    "duration": 0,
    "start_time": "2022-11-15T08:25:39.961Z"
   },
   {
    "duration": 0,
    "start_time": "2022-11-15T08:25:39.962Z"
   },
   {
    "duration": 0,
    "start_time": "2022-11-15T08:25:39.963Z"
   },
   {
    "duration": 0,
    "start_time": "2022-11-15T08:25:39.965Z"
   },
   {
    "duration": 0,
    "start_time": "2022-11-15T08:25:39.966Z"
   },
   {
    "duration": 0,
    "start_time": "2022-11-15T08:25:39.968Z"
   },
   {
    "duration": 641,
    "start_time": "2022-11-15T08:28:13.291Z"
   },
   {
    "duration": 438,
    "start_time": "2022-11-15T08:28:17.761Z"
   },
   {
    "duration": 312,
    "start_time": "2022-11-15T08:28:19.433Z"
   },
   {
    "duration": 3662,
    "start_time": "2022-11-15T08:28:20.052Z"
   },
   {
    "duration": 18,
    "start_time": "2022-11-15T08:28:23.716Z"
   },
   {
    "duration": 86,
    "start_time": "2022-11-15T08:28:23.735Z"
   },
   {
    "duration": 7479,
    "start_time": "2022-11-15T08:28:23.822Z"
   },
   {
    "duration": 233,
    "start_time": "2022-11-15T08:28:31.303Z"
   },
   {
    "duration": 16906,
    "start_time": "2022-11-15T14:27:26.119Z"
   },
   {
    "duration": 9791,
    "start_time": "2022-11-15T14:27:43.028Z"
   },
   {
    "duration": 5005,
    "start_time": "2022-11-15T14:27:52.821Z"
   },
   {
    "duration": 28,
    "start_time": "2022-11-15T14:27:57.829Z"
   },
   {
    "duration": 9485,
    "start_time": "2022-11-15T14:27:57.916Z"
   },
   {
    "duration": 3045,
    "start_time": "2022-11-15T14:28:07.404Z"
   },
   {
    "duration": 987,
    "start_time": "2022-11-15T14:28:10.451Z"
   },
   {
    "duration": 80,
    "start_time": "2022-11-15T14:28:11.440Z"
   },
   {
    "duration": 4841,
    "start_time": "2022-11-15T14:28:11.522Z"
   },
   {
    "duration": 56,
    "start_time": "2022-11-15T14:28:16.366Z"
   },
   {
    "duration": 814,
    "start_time": "2022-11-15T14:28:16.430Z"
   },
   {
    "duration": 1297,
    "start_time": "2022-11-15T14:28:17.246Z"
   },
   {
    "duration": 1204,
    "start_time": "2022-11-15T14:28:18.545Z"
   },
   {
    "duration": 583,
    "start_time": "2022-11-15T14:28:19.750Z"
   },
   {
    "duration": 623,
    "start_time": "2022-11-15T14:28:20.334Z"
   },
   {
    "duration": 4798,
    "start_time": "2022-11-15T14:28:20.959Z"
   },
   {
    "duration": 77,
    "start_time": "2022-11-15T14:28:25.758Z"
   },
   {
    "duration": 107,
    "start_time": "2022-11-15T14:28:25.836Z"
   },
   {
    "duration": 9131,
    "start_time": "2022-11-15T14:28:25.944Z"
   },
   {
    "duration": 356,
    "start_time": "2022-11-15T14:28:35.077Z"
   },
   {
    "duration": 16939,
    "start_time": "2022-11-15T16:03:04.296Z"
   },
   {
    "duration": 9407,
    "start_time": "2022-11-15T16:03:21.237Z"
   },
   {
    "duration": 5120,
    "start_time": "2022-11-15T16:03:30.648Z"
   },
   {
    "duration": 75,
    "start_time": "2022-11-15T16:03:35.770Z"
   },
   {
    "duration": 115,
    "start_time": "2022-11-15T16:03:35.846Z"
   },
   {
    "duration": 0,
    "start_time": "2022-11-15T16:03:35.963Z"
   },
   {
    "duration": 0,
    "start_time": "2022-11-15T16:03:35.964Z"
   },
   {
    "duration": 0,
    "start_time": "2022-11-15T16:03:35.966Z"
   },
   {
    "duration": 0,
    "start_time": "2022-11-15T16:03:35.968Z"
   },
   {
    "duration": 0,
    "start_time": "2022-11-15T16:03:35.969Z"
   },
   {
    "duration": 0,
    "start_time": "2022-11-15T16:03:35.970Z"
   },
   {
    "duration": 0,
    "start_time": "2022-11-15T16:03:35.971Z"
   },
   {
    "duration": 0,
    "start_time": "2022-11-15T16:03:35.972Z"
   },
   {
    "duration": 0,
    "start_time": "2022-11-15T16:03:35.973Z"
   },
   {
    "duration": 0,
    "start_time": "2022-11-15T16:03:35.974Z"
   },
   {
    "duration": 0,
    "start_time": "2022-11-15T16:03:35.975Z"
   },
   {
    "duration": 0,
    "start_time": "2022-11-15T16:03:35.976Z"
   },
   {
    "duration": 0,
    "start_time": "2022-11-15T16:03:35.977Z"
   },
   {
    "duration": 0,
    "start_time": "2022-11-15T16:03:35.977Z"
   },
   {
    "duration": 0,
    "start_time": "2022-11-15T16:03:35.979Z"
   },
   {
    "duration": 0,
    "start_time": "2022-11-15T16:03:35.979Z"
   },
   {
    "duration": 0,
    "start_time": "2022-11-15T16:03:35.980Z"
   },
   {
    "duration": 0,
    "start_time": "2022-11-15T16:03:35.981Z"
   },
   {
    "duration": 2417,
    "start_time": "2022-11-15T16:03:53.405Z"
   },
   {
    "duration": 0,
    "start_time": "2022-11-15T16:03:55.824Z"
   },
   {
    "duration": 16783,
    "start_time": "2022-11-15T16:04:37.571Z"
   },
   {
    "duration": 9184,
    "start_time": "2022-11-15T16:04:54.357Z"
   },
   {
    "duration": 5492,
    "start_time": "2022-11-15T16:05:03.543Z"
   },
   {
    "duration": 21,
    "start_time": "2022-11-15T16:05:09.037Z"
   },
   {
    "duration": 194,
    "start_time": "2022-11-15T16:05:09.060Z"
   },
   {
    "duration": 0,
    "start_time": "2022-11-15T16:05:09.256Z"
   },
   {
    "duration": 1,
    "start_time": "2022-11-15T16:05:09.257Z"
   },
   {
    "duration": 0,
    "start_time": "2022-11-15T16:05:09.316Z"
   },
   {
    "duration": 0,
    "start_time": "2022-11-15T16:05:09.318Z"
   },
   {
    "duration": 0,
    "start_time": "2022-11-15T16:05:09.319Z"
   },
   {
    "duration": 0,
    "start_time": "2022-11-15T16:05:09.321Z"
   },
   {
    "duration": 0,
    "start_time": "2022-11-15T16:05:09.322Z"
   },
   {
    "duration": 0,
    "start_time": "2022-11-15T16:05:09.323Z"
   },
   {
    "duration": 0,
    "start_time": "2022-11-15T16:05:09.324Z"
   },
   {
    "duration": 0,
    "start_time": "2022-11-15T16:05:09.326Z"
   },
   {
    "duration": 0,
    "start_time": "2022-11-15T16:05:09.328Z"
   },
   {
    "duration": 0,
    "start_time": "2022-11-15T16:05:09.330Z"
   },
   {
    "duration": 0,
    "start_time": "2022-11-15T16:05:09.331Z"
   },
   {
    "duration": 0,
    "start_time": "2022-11-15T16:05:09.332Z"
   },
   {
    "duration": 0,
    "start_time": "2022-11-15T16:05:09.333Z"
   },
   {
    "duration": 0,
    "start_time": "2022-11-15T16:05:09.335Z"
   },
   {
    "duration": 0,
    "start_time": "2022-11-15T16:05:09.336Z"
   },
   {
    "duration": 0,
    "start_time": "2022-11-15T16:05:09.337Z"
   },
   {
    "duration": 15,
    "start_time": "2022-11-15T16:05:23.565Z"
   },
   {
    "duration": 9097,
    "start_time": "2022-11-15T16:05:28.351Z"
   },
   {
    "duration": 3801,
    "start_time": "2022-11-15T16:05:37.450Z"
   },
   {
    "duration": 1901,
    "start_time": "2022-11-15T16:05:41.253Z"
   },
   {
    "duration": 1633,
    "start_time": "2022-11-15T16:05:43.218Z"
   },
   {
    "duration": 494,
    "start_time": "2022-11-15T16:05:44.853Z"
   },
   {
    "duration": 72,
    "start_time": "2022-11-15T16:05:45.349Z"
   },
   {
    "duration": 5101,
    "start_time": "2022-11-15T16:05:45.423Z"
   },
   {
    "duration": 9,
    "start_time": "2022-11-15T16:05:50.529Z"
   },
   {
    "duration": 1104,
    "start_time": "2022-11-15T16:05:50.540Z"
   },
   {
    "duration": 1399,
    "start_time": "2022-11-15T16:05:51.647Z"
   },
   {
    "duration": 1472,
    "start_time": "2022-11-15T16:05:53.049Z"
   },
   {
    "duration": 796,
    "start_time": "2022-11-15T16:05:54.522Z"
   },
   {
    "duration": 650,
    "start_time": "2022-11-15T16:05:55.320Z"
   },
   {
    "duration": 5548,
    "start_time": "2022-11-15T16:05:55.972Z"
   },
   {
    "duration": 23,
    "start_time": "2022-11-15T16:06:01.523Z"
   },
   {
    "duration": 282,
    "start_time": "2022-11-15T16:06:01.548Z"
   },
   {
    "duration": 10403,
    "start_time": "2022-11-15T16:06:01.832Z"
   },
   {
    "duration": 503,
    "start_time": "2022-11-15T16:06:12.237Z"
   },
   {
    "duration": 16842,
    "start_time": "2022-11-15T16:11:01.794Z"
   },
   {
    "duration": 9397,
    "start_time": "2022-11-15T16:11:18.639Z"
   },
   {
    "duration": 5108,
    "start_time": "2022-11-15T16:11:28.038Z"
   },
   {
    "duration": 93,
    "start_time": "2022-11-15T16:11:33.148Z"
   },
   {
    "duration": 14,
    "start_time": "2022-11-15T16:11:33.242Z"
   },
   {
    "duration": 9026,
    "start_time": "2022-11-15T16:11:33.257Z"
   },
   {
    "duration": 4271,
    "start_time": "2022-11-15T16:11:42.285Z"
   },
   {
    "duration": 1917,
    "start_time": "2022-11-15T16:11:46.615Z"
   },
   {
    "duration": 1513,
    "start_time": "2022-11-15T16:11:48.534Z"
   },
   {
    "duration": 485,
    "start_time": "2022-11-15T16:11:50.053Z"
   },
   {
    "duration": 3,
    "start_time": "2022-11-15T16:11:50.540Z"
   },
   {
    "duration": 224,
    "start_time": "2022-11-15T16:11:50.544Z"
   },
   {
    "duration": 0,
    "start_time": "2022-11-15T16:11:50.770Z"
   },
   {
    "duration": 0,
    "start_time": "2022-11-15T16:11:50.771Z"
   },
   {
    "duration": 0,
    "start_time": "2022-11-15T16:11:50.772Z"
   },
   {
    "duration": 0,
    "start_time": "2022-11-15T16:11:50.773Z"
   },
   {
    "duration": 0,
    "start_time": "2022-11-15T16:11:50.778Z"
   },
   {
    "duration": 0,
    "start_time": "2022-11-15T16:11:50.779Z"
   },
   {
    "duration": 0,
    "start_time": "2022-11-15T16:11:50.781Z"
   },
   {
    "duration": 0,
    "start_time": "2022-11-15T16:11:50.782Z"
   },
   {
    "duration": 0,
    "start_time": "2022-11-15T16:11:50.817Z"
   },
   {
    "duration": 0,
    "start_time": "2022-11-15T16:11:50.819Z"
   },
   {
    "duration": 0,
    "start_time": "2022-11-15T16:11:50.821Z"
   },
   {
    "duration": 0,
    "start_time": "2022-11-15T16:11:50.823Z"
   },
   {
    "duration": 10,
    "start_time": "2022-11-15T16:12:05.036Z"
   },
   {
    "duration": 6530,
    "start_time": "2022-11-15T16:12:08.512Z"
   },
   {
    "duration": 6,
    "start_time": "2022-11-15T16:12:15.044Z"
   },
   {
    "duration": 1303,
    "start_time": "2022-11-15T16:12:15.052Z"
   },
   {
    "duration": 1709,
    "start_time": "2022-11-15T16:12:16.416Z"
   },
   {
    "duration": 1414,
    "start_time": "2022-11-15T16:12:18.127Z"
   },
   {
    "duration": 903,
    "start_time": "2022-11-15T16:12:19.543Z"
   },
   {
    "duration": 603,
    "start_time": "2022-11-15T16:12:20.447Z"
   },
   {
    "duration": 5368,
    "start_time": "2022-11-15T16:12:21.051Z"
   },
   {
    "duration": 33,
    "start_time": "2022-11-15T16:12:26.421Z"
   },
   {
    "duration": 297,
    "start_time": "2022-11-15T16:12:26.457Z"
   },
   {
    "duration": 10489,
    "start_time": "2022-11-15T16:12:26.756Z"
   },
   {
    "duration": 496,
    "start_time": "2022-11-15T16:12:37.247Z"
   },
   {
    "duration": 1544,
    "start_time": "2022-11-15T16:12:46.302Z"
   },
   {
    "duration": 4,
    "start_time": "2022-11-15T16:12:53.887Z"
   },
   {
    "duration": 463,
    "start_time": "2022-11-15T16:17:06.430Z"
   },
   {
    "duration": 164,
    "start_time": "2022-11-15T16:17:44.987Z"
   },
   {
    "duration": 11,
    "start_time": "2022-11-15T16:17:49.428Z"
   },
   {
    "duration": 2139,
    "start_time": "2022-11-15T16:17:51.590Z"
   },
   {
    "duration": 4,
    "start_time": "2022-11-15T16:17:54.129Z"
   },
   {
    "duration": 573,
    "start_time": "2022-11-15T16:17:58.401Z"
   },
   {
    "duration": 1108,
    "start_time": "2022-11-15T16:18:00.889Z"
   },
   {
    "duration": 1179,
    "start_time": "2022-11-15T16:18:08.886Z"
   },
   {
    "duration": 328,
    "start_time": "2022-11-15T16:18:13.652Z"
   },
   {
    "duration": 10,
    "start_time": "2022-11-15T16:18:40.141Z"
   },
   {
    "duration": 93,
    "start_time": "2022-11-15T16:18:42.344Z"
   },
   {
    "duration": 7984,
    "start_time": "2022-11-15T16:23:03.539Z"
   },
   {
    "duration": 1091,
    "start_time": "2022-11-15T16:23:25.298Z"
   },
   {
    "duration": 4,
    "start_time": "2022-11-15T16:23:28.208Z"
   },
   {
    "duration": 17837,
    "start_time": "2022-11-17T07:24:19.848Z"
   },
   {
    "duration": 8979,
    "start_time": "2022-11-17T07:24:37.688Z"
   },
   {
    "duration": 5527,
    "start_time": "2022-11-17T07:24:46.669Z"
   },
   {
    "duration": 79,
    "start_time": "2022-11-17T07:24:52.198Z"
   },
   {
    "duration": 85,
    "start_time": "2022-11-17T07:24:52.279Z"
   },
   {
    "duration": 9167,
    "start_time": "2022-11-17T07:24:52.366Z"
   },
   {
    "duration": 3431,
    "start_time": "2022-11-17T07:25:01.535Z"
   },
   {
    "duration": 1715,
    "start_time": "2022-11-17T07:25:04.968Z"
   },
   {
    "duration": 1390,
    "start_time": "2022-11-17T07:25:06.685Z"
   },
   {
    "duration": 399,
    "start_time": "2022-11-17T07:25:08.076Z"
   },
   {
    "duration": 14,
    "start_time": "2022-11-17T07:25:08.477Z"
   },
   {
    "duration": 5166,
    "start_time": "2022-11-17T07:25:08.493Z"
   },
   {
    "duration": 7,
    "start_time": "2022-11-17T07:25:13.661Z"
   },
   {
    "duration": 796,
    "start_time": "2022-11-17T07:25:13.672Z"
   },
   {
    "duration": 1289,
    "start_time": "2022-11-17T07:25:14.470Z"
   },
   {
    "duration": 1198,
    "start_time": "2022-11-17T07:25:15.761Z"
   },
   {
    "duration": 2101,
    "start_time": "2022-11-17T07:25:16.961Z"
   },
   {
    "duration": 526,
    "start_time": "2022-11-17T07:25:19.064Z"
   },
   {
    "duration": 4677,
    "start_time": "2022-11-17T07:25:19.592Z"
   },
   {
    "duration": 86,
    "start_time": "2022-11-17T07:25:24.270Z"
   },
   {
    "duration": 224,
    "start_time": "2022-11-17T07:25:24.357Z"
   },
   {
    "duration": 9076,
    "start_time": "2022-11-17T07:25:24.583Z"
   },
   {
    "duration": 436,
    "start_time": "2022-11-17T07:25:33.661Z"
   },
   {
    "duration": 109,
    "start_time": "2022-11-17T07:59:34.069Z"
   },
   {
    "duration": 267,
    "start_time": "2022-11-17T07:59:49.102Z"
   },
   {
    "duration": 1260,
    "start_time": "2022-11-17T08:06:10.516Z"
   },
   {
    "duration": 17019,
    "start_time": "2022-11-17T09:54:14.546Z"
   },
   {
    "duration": 9521,
    "start_time": "2022-11-17T09:54:31.568Z"
   },
   {
    "duration": 5505,
    "start_time": "2022-11-17T09:54:41.091Z"
   },
   {
    "duration": 64,
    "start_time": "2022-11-17T09:54:46.598Z"
   },
   {
    "duration": 16,
    "start_time": "2022-11-17T09:54:46.665Z"
   },
   {
    "duration": 9324,
    "start_time": "2022-11-17T09:54:46.683Z"
   },
   {
    "duration": 3954,
    "start_time": "2022-11-17T09:54:56.010Z"
   },
   {
    "duration": 1700,
    "start_time": "2022-11-17T09:54:59.966Z"
   },
   {
    "duration": 1389,
    "start_time": "2022-11-17T09:55:01.668Z"
   },
   {
    "duration": 228,
    "start_time": "2022-11-17T09:55:03.059Z"
   },
   {
    "duration": 0,
    "start_time": "2022-11-17T09:55:03.289Z"
   },
   {
    "duration": 0,
    "start_time": "2022-11-17T09:55:03.290Z"
   },
   {
    "duration": 0,
    "start_time": "2022-11-17T09:55:03.291Z"
   },
   {
    "duration": 0,
    "start_time": "2022-11-17T09:55:03.293Z"
   },
   {
    "duration": 0,
    "start_time": "2022-11-17T09:55:03.294Z"
   },
   {
    "duration": 0,
    "start_time": "2022-11-17T09:55:03.296Z"
   },
   {
    "duration": 0,
    "start_time": "2022-11-17T09:55:03.355Z"
   },
   {
    "duration": 0,
    "start_time": "2022-11-17T09:55:03.360Z"
   },
   {
    "duration": 0,
    "start_time": "2022-11-17T09:55:03.361Z"
   },
   {
    "duration": 0,
    "start_time": "2022-11-17T09:55:03.363Z"
   },
   {
    "duration": 1,
    "start_time": "2022-11-17T09:55:03.364Z"
   },
   {
    "duration": 369,
    "start_time": "2022-11-17T09:56:15.894Z"
   },
   {
    "duration": 478,
    "start_time": "2022-11-17T09:56:47.213Z"
   },
   {
    "duration": 539,
    "start_time": "2022-11-17T09:57:09.452Z"
   },
   {
    "duration": 396,
    "start_time": "2022-11-17T09:57:33.093Z"
   },
   {
    "duration": 18,
    "start_time": "2022-11-17T09:58:05.700Z"
   },
   {
    "duration": 591,
    "start_time": "2022-11-17T09:58:10.373Z"
   },
   {
    "duration": 519,
    "start_time": "2022-11-17T09:58:22.269Z"
   },
   {
    "duration": 20,
    "start_time": "2022-11-17T09:59:06.270Z"
   },
   {
    "duration": 4470,
    "start_time": "2022-11-17T09:59:07.292Z"
   },
   {
    "duration": 2797,
    "start_time": "2022-11-17T09:59:11.766Z"
   },
   {
    "duration": 1311,
    "start_time": "2022-11-17T09:59:14.565Z"
   },
   {
    "duration": 1296,
    "start_time": "2022-11-17T09:59:15.879Z"
   },
   {
    "duration": 694,
    "start_time": "2022-11-17T09:59:17.178Z"
   },
   {
    "duration": 4293,
    "start_time": "2022-11-17T09:59:17.875Z"
   },
   {
    "duration": 0,
    "start_time": "2022-11-17T09:59:22.170Z"
   },
   {
    "duration": 0,
    "start_time": "2022-11-17T09:59:22.171Z"
   },
   {
    "duration": 0,
    "start_time": "2022-11-17T09:59:22.173Z"
   },
   {
    "duration": 0,
    "start_time": "2022-11-17T09:59:22.174Z"
   },
   {
    "duration": 3280,
    "start_time": "2022-11-17T10:03:58.383Z"
   },
   {
    "duration": 2785,
    "start_time": "2022-11-17T10:05:31.575Z"
   },
   {
    "duration": 2253,
    "start_time": "2022-11-17T10:05:44.430Z"
   },
   {
    "duration": 593,
    "start_time": "2022-11-17T10:06:01.374Z"
   },
   {
    "duration": 30,
    "start_time": "2022-11-17T10:06:14.702Z"
   },
   {
    "duration": 101,
    "start_time": "2022-11-17T10:06:15.789Z"
   },
   {
    "duration": 7709,
    "start_time": "2022-11-17T10:06:18.127Z"
   },
   {
    "duration": 585,
    "start_time": "2022-11-17T10:07:02.999Z"
   },
   {
    "duration": 9,
    "start_time": "2022-11-17T10:14:25.104Z"
   },
   {
    "duration": 1895,
    "start_time": "2022-11-17T10:14:28.688Z"
   },
   {
    "duration": 385,
    "start_time": "2022-11-17T10:14:32.935Z"
   },
   {
    "duration": 413,
    "start_time": "2022-11-17T10:15:18.352Z"
   },
   {
    "duration": 360,
    "start_time": "2022-11-17T10:15:29.212Z"
   },
   {
    "duration": 16834,
    "start_time": "2022-11-17T10:15:50.633Z"
   },
   {
    "duration": 9218,
    "start_time": "2022-11-17T10:16:07.470Z"
   },
   {
    "duration": 5774,
    "start_time": "2022-11-17T10:16:16.690Z"
   },
   {
    "duration": 32,
    "start_time": "2022-11-17T10:16:22.466Z"
   },
   {
    "duration": 61,
    "start_time": "2022-11-17T10:16:22.499Z"
   },
   {
    "duration": 9467,
    "start_time": "2022-11-17T10:16:22.562Z"
   },
   {
    "duration": 3647,
    "start_time": "2022-11-17T10:16:32.031Z"
   },
   {
    "duration": 2075,
    "start_time": "2022-11-17T10:16:35.681Z"
   },
   {
    "duration": 1515,
    "start_time": "2022-11-17T10:16:37.758Z"
   },
   {
    "duration": 801,
    "start_time": "2022-11-17T10:16:39.276Z"
   },
   {
    "duration": 84,
    "start_time": "2022-11-17T10:16:40.079Z"
   },
   {
    "duration": 4120,
    "start_time": "2022-11-17T10:16:40.165Z"
   },
   {
    "duration": 3489,
    "start_time": "2022-11-17T10:16:44.287Z"
   },
   {
    "duration": 1314,
    "start_time": "2022-11-17T10:16:47.778Z"
   },
   {
    "duration": 1404,
    "start_time": "2022-11-17T10:16:49.156Z"
   },
   {
    "duration": 11,
    "start_time": "2022-11-17T10:16:50.562Z"
   },
   {
    "duration": 3803,
    "start_time": "2022-11-17T10:16:50.576Z"
   },
   {
    "duration": 1385,
    "start_time": "2022-11-17T10:16:54.381Z"
   },
   {
    "duration": 0,
    "start_time": "2022-11-17T10:16:55.769Z"
   },
   {
    "duration": 0,
    "start_time": "2022-11-17T10:16:55.770Z"
   },
   {
    "duration": 0,
    "start_time": "2022-11-17T10:16:55.771Z"
   },
   {
    "duration": 0,
    "start_time": "2022-11-17T10:16:55.773Z"
   },
   {
    "duration": 0,
    "start_time": "2022-11-17T10:16:55.774Z"
   },
   {
    "duration": 582,
    "start_time": "2022-11-17T10:17:45.073Z"
   },
   {
    "duration": 1560,
    "start_time": "2022-11-17T10:18:06.920Z"
   },
   {
    "duration": 1058,
    "start_time": "2022-11-17T10:18:28.416Z"
   },
   {
    "duration": 1400,
    "start_time": "2022-11-17T10:19:14.256Z"
   },
   {
    "duration": 924,
    "start_time": "2022-11-17T10:19:45.536Z"
   },
   {
    "duration": 1293,
    "start_time": "2022-11-17T10:20:58.569Z"
   },
   {
    "duration": 4996,
    "start_time": "2022-11-17T10:29:33.970Z"
   },
   {
    "duration": 20,
    "start_time": "2022-11-17T10:29:38.968Z"
   },
   {
    "duration": 175,
    "start_time": "2022-11-17T10:29:41.487Z"
   },
   {
    "duration": 9706,
    "start_time": "2022-11-17T10:31:23.059Z"
   },
   {
    "duration": 896,
    "start_time": "2022-11-17T10:31:32.767Z"
   },
   {
    "duration": 16254,
    "start_time": "2022-11-18T02:54:16.716Z"
   },
   {
    "duration": 9500,
    "start_time": "2022-11-18T02:54:32.973Z"
   },
   {
    "duration": 4806,
    "start_time": "2022-11-18T02:54:42.475Z"
   },
   {
    "duration": 77,
    "start_time": "2022-11-18T02:54:47.283Z"
   },
   {
    "duration": 16,
    "start_time": "2022-11-18T02:54:47.363Z"
   },
   {
    "duration": 8895,
    "start_time": "2022-11-18T02:54:47.381Z"
   },
   {
    "duration": 3888,
    "start_time": "2022-11-18T02:54:56.278Z"
   },
   {
    "duration": 78,
    "start_time": "2022-11-18T02:55:00.168Z"
   },
   {
    "duration": 0,
    "start_time": "2022-11-18T02:55:00.248Z"
   },
   {
    "duration": 0,
    "start_time": "2022-11-18T02:55:00.250Z"
   },
   {
    "duration": 0,
    "start_time": "2022-11-18T02:55:00.252Z"
   },
   {
    "duration": 0,
    "start_time": "2022-11-18T02:55:00.253Z"
   },
   {
    "duration": 0,
    "start_time": "2022-11-18T02:55:00.254Z"
   },
   {
    "duration": 0,
    "start_time": "2022-11-18T02:55:00.255Z"
   },
   {
    "duration": 0,
    "start_time": "2022-11-18T02:55:00.257Z"
   },
   {
    "duration": 0,
    "start_time": "2022-11-18T02:55:00.258Z"
   },
   {
    "duration": 0,
    "start_time": "2022-11-18T02:55:00.259Z"
   },
   {
    "duration": 0,
    "start_time": "2022-11-18T02:55:00.261Z"
   },
   {
    "duration": 0,
    "start_time": "2022-11-18T02:55:00.262Z"
   },
   {
    "duration": 0,
    "start_time": "2022-11-18T02:55:00.263Z"
   },
   {
    "duration": 0,
    "start_time": "2022-11-18T02:55:00.265Z"
   },
   {
    "duration": 0,
    "start_time": "2022-11-18T02:55:00.266Z"
   },
   {
    "duration": 0,
    "start_time": "2022-11-18T02:55:00.267Z"
   },
   {
    "duration": 0,
    "start_time": "2022-11-18T02:55:00.272Z"
   },
   {
    "duration": 0,
    "start_time": "2022-11-18T02:55:00.273Z"
   },
   {
    "duration": 885,
    "start_time": "2022-11-18T02:56:25.179Z"
   },
   {
    "duration": 2846,
    "start_time": "2022-11-18T02:56:43.126Z"
   },
   {
    "duration": 16501,
    "start_time": "2022-11-18T02:58:37.464Z"
   },
   {
    "duration": 9498,
    "start_time": "2022-11-18T02:58:53.967Z"
   },
   {
    "duration": 1115,
    "start_time": "2022-11-18T02:59:03.467Z"
   },
   {
    "duration": 5286,
    "start_time": "2022-11-18T02:59:04.584Z"
   },
   {
    "duration": 2497,
    "start_time": "2022-11-18T02:59:09.874Z"
   },
   {
    "duration": 81,
    "start_time": "2022-11-18T02:59:12.373Z"
   },
   {
    "duration": 15,
    "start_time": "2022-11-18T02:59:12.456Z"
   },
   {
    "duration": 8949,
    "start_time": "2022-11-18T02:59:12.472Z"
   },
   {
    "duration": 3228,
    "start_time": "2022-11-18T02:59:21.423Z"
   },
   {
    "duration": 1720,
    "start_time": "2022-11-18T02:59:24.652Z"
   },
   {
    "duration": 1481,
    "start_time": "2022-11-18T02:59:26.374Z"
   },
   {
    "duration": 716,
    "start_time": "2022-11-18T02:59:27.857Z"
   },
   {
    "duration": 79,
    "start_time": "2022-11-18T02:59:28.575Z"
   },
   {
    "duration": 6423,
    "start_time": "2022-11-18T02:59:28.657Z"
   },
   {
    "duration": 2492,
    "start_time": "2022-11-18T02:59:35.082Z"
   },
   {
    "duration": 1198,
    "start_time": "2022-11-18T02:59:37.576Z"
   },
   {
    "duration": 1375,
    "start_time": "2022-11-18T02:59:38.776Z"
   },
   {
    "duration": 11,
    "start_time": "2022-11-18T02:59:40.153Z"
   },
   {
    "duration": 2597,
    "start_time": "2022-11-18T02:59:40.166Z"
   },
   {
    "duration": 1097,
    "start_time": "2022-11-18T02:59:42.765Z"
   },
   {
    "duration": 1204,
    "start_time": "2022-11-18T02:59:43.864Z"
   },
   {
    "duration": 5100,
    "start_time": "2022-11-18T02:59:45.070Z"
   },
   {
    "duration": 91,
    "start_time": "2022-11-18T02:59:50.172Z"
   },
   {
    "duration": 289,
    "start_time": "2022-11-18T02:59:50.265Z"
   },
   {
    "duration": 9502,
    "start_time": "2022-11-18T02:59:50.555Z"
   },
   {
    "duration": 892,
    "start_time": "2022-11-18T03:00:00.059Z"
   },
   {
    "duration": 225,
    "start_time": "2022-11-18T03:02:47.488Z"
   },
   {
    "duration": 1903,
    "start_time": "2022-11-18T03:04:59.662Z"
   },
   {
    "duration": 657,
    "start_time": "2022-11-18T03:06:27.993Z"
   },
   {
    "duration": 1367,
    "start_time": "2022-11-18T03:06:30.226Z"
   },
   {
    "duration": 4677,
    "start_time": "2022-11-18T03:06:46.360Z"
   },
   {
    "duration": 64,
    "start_time": "2022-11-18T03:07:59.233Z"
   },
   {
    "duration": 88,
    "start_time": "2022-11-18T03:08:03.034Z"
   },
   {
    "duration": 128,
    "start_time": "2022-11-18T03:08:52.876Z"
   },
   {
    "duration": 19,
    "start_time": "2022-11-18T03:09:15.633Z"
   },
   {
    "duration": 400,
    "start_time": "2022-11-18T03:09:27.778Z"
   },
   {
    "duration": 11,
    "start_time": "2022-11-18T03:10:03.632Z"
   },
   {
    "duration": 10,
    "start_time": "2022-11-18T03:10:26.146Z"
   },
   {
    "duration": 123,
    "start_time": "2022-11-18T03:10:41.288Z"
   },
   {
    "duration": 21,
    "start_time": "2022-11-18T03:10:48.082Z"
   },
   {
    "duration": 10,
    "start_time": "2022-11-18T03:10:56.296Z"
   },
   {
    "duration": 14,
    "start_time": "2022-11-18T03:11:04.648Z"
   },
   {
    "duration": 12,
    "start_time": "2022-11-18T03:11:41.090Z"
   },
   {
    "duration": 1182,
    "start_time": "2022-11-18T03:11:48.387Z"
   },
   {
    "duration": 1133,
    "start_time": "2022-11-18T03:12:01.947Z"
   },
   {
    "duration": 638,
    "start_time": "2022-11-18T03:12:10.513Z"
   },
   {
    "duration": 7,
    "start_time": "2022-11-18T03:12:38.481Z"
   },
   {
    "duration": 4,
    "start_time": "2022-11-18T03:12:52.721Z"
   },
   {
    "duration": 26,
    "start_time": "2022-11-18T03:13:48.074Z"
   },
   {
    "duration": 6,
    "start_time": "2022-11-18T03:14:35.996Z"
   },
   {
    "duration": 6,
    "start_time": "2022-11-18T03:30:04.292Z"
   },
   {
    "duration": 9,
    "start_time": "2022-11-18T03:30:22.262Z"
   },
   {
    "duration": 19,
    "start_time": "2022-11-18T03:31:12.738Z"
   },
   {
    "duration": 134,
    "start_time": "2022-11-18T03:34:05.209Z"
   },
   {
    "duration": 148,
    "start_time": "2022-11-18T03:49:09.248Z"
   },
   {
    "duration": 198,
    "start_time": "2022-11-18T03:49:20.565Z"
   },
   {
    "duration": 162,
    "start_time": "2022-11-18T03:49:25.581Z"
   },
   {
    "duration": 18,
    "start_time": "2022-11-18T04:05:33.363Z"
   },
   {
    "duration": 10,
    "start_time": "2022-11-18T04:05:57.931Z"
   },
   {
    "duration": 16321,
    "start_time": "2022-11-18T18:09:08.842Z"
   },
   {
    "duration": 9100,
    "start_time": "2022-11-18T18:09:25.167Z"
   },
   {
    "duration": 1811,
    "start_time": "2022-11-18T18:09:34.269Z"
   },
   {
    "duration": 5213,
    "start_time": "2022-11-18T18:09:36.082Z"
   },
   {
    "duration": 6596,
    "start_time": "2022-11-18T18:09:41.297Z"
   },
   {
    "duration": 110,
    "start_time": "2022-11-18T18:09:47.895Z"
   },
   {
    "duration": 0,
    "start_time": "2022-11-18T18:09:48.007Z"
   },
   {
    "duration": 0,
    "start_time": "2022-11-18T18:09:48.008Z"
   },
   {
    "duration": 0,
    "start_time": "2022-11-18T18:09:48.009Z"
   },
   {
    "duration": 0,
    "start_time": "2022-11-18T18:09:48.010Z"
   },
   {
    "duration": 0,
    "start_time": "2022-11-18T18:09:48.011Z"
   },
   {
    "duration": 0,
    "start_time": "2022-11-18T18:09:48.013Z"
   },
   {
    "duration": 0,
    "start_time": "2022-11-18T18:09:48.014Z"
   },
   {
    "duration": 0,
    "start_time": "2022-11-18T18:09:48.018Z"
   },
   {
    "duration": 0,
    "start_time": "2022-11-18T18:09:48.019Z"
   },
   {
    "duration": 0,
    "start_time": "2022-11-18T18:09:48.050Z"
   },
   {
    "duration": 0,
    "start_time": "2022-11-18T18:09:48.052Z"
   },
   {
    "duration": 0,
    "start_time": "2022-11-18T18:09:48.053Z"
   },
   {
    "duration": 0,
    "start_time": "2022-11-18T18:09:48.055Z"
   },
   {
    "duration": 0,
    "start_time": "2022-11-18T18:09:48.055Z"
   },
   {
    "duration": 0,
    "start_time": "2022-11-18T18:09:48.056Z"
   },
   {
    "duration": 0,
    "start_time": "2022-11-18T18:09:48.057Z"
   },
   {
    "duration": 0,
    "start_time": "2022-11-18T18:09:48.058Z"
   },
   {
    "duration": 0,
    "start_time": "2022-11-18T18:09:48.060Z"
   },
   {
    "duration": 0,
    "start_time": "2022-11-18T18:09:48.061Z"
   },
   {
    "duration": 0,
    "start_time": "2022-11-18T18:09:48.062Z"
   },
   {
    "duration": 0,
    "start_time": "2022-11-18T18:09:48.064Z"
   },
   {
    "duration": 0,
    "start_time": "2022-11-18T18:09:48.065Z"
   },
   {
    "duration": 0,
    "start_time": "2022-11-18T18:09:48.066Z"
   },
   {
    "duration": 2319,
    "start_time": "2022-11-18T18:10:30.033Z"
   },
   {
    "duration": 22,
    "start_time": "2022-11-18T18:10:32.354Z"
   },
   {
    "duration": 85,
    "start_time": "2022-11-18T18:10:32.377Z"
   },
   {
    "duration": 8677,
    "start_time": "2022-11-18T18:10:32.465Z"
   },
   {
    "duration": 2836,
    "start_time": "2022-11-18T18:10:41.151Z"
   },
   {
    "duration": 2092,
    "start_time": "2022-11-18T18:10:43.990Z"
   },
   {
    "duration": 1396,
    "start_time": "2022-11-18T18:10:46.084Z"
   },
   {
    "duration": 709,
    "start_time": "2022-11-18T18:10:47.482Z"
   },
   {
    "duration": 26,
    "start_time": "2022-11-18T18:10:48.252Z"
   },
   {
    "duration": 4293,
    "start_time": "2022-11-18T18:10:48.281Z"
   },
   {
    "duration": 2491,
    "start_time": "2022-11-18T18:10:52.576Z"
   },
   {
    "duration": 1084,
    "start_time": "2022-11-18T18:10:55.069Z"
   },
   {
    "duration": 1115,
    "start_time": "2022-11-18T18:10:56.155Z"
   },
   {
    "duration": 82,
    "start_time": "2022-11-18T18:10:57.272Z"
   },
   {
    "duration": 2211,
    "start_time": "2022-11-18T18:10:57.356Z"
   },
   {
    "duration": 1192,
    "start_time": "2022-11-18T18:10:59.569Z"
   },
   {
    "duration": 1211,
    "start_time": "2022-11-18T18:11:00.763Z"
   },
   {
    "duration": 4591,
    "start_time": "2022-11-18T18:11:01.976Z"
   },
   {
    "duration": 88,
    "start_time": "2022-11-18T18:11:06.569Z"
   },
   {
    "duration": 213,
    "start_time": "2022-11-18T18:11:06.659Z"
   },
   {
    "duration": 8792,
    "start_time": "2022-11-18T18:11:06.874Z"
   },
   {
    "duration": 801,
    "start_time": "2022-11-18T18:11:15.668Z"
   },
   {
    "duration": 24,
    "start_time": "2022-11-18T18:33:32.533Z"
   },
   {
    "duration": 115,
    "start_time": "2022-11-18T18:35:32.391Z"
   },
   {
    "duration": 73,
    "start_time": "2022-11-18T18:35:43.439Z"
   },
   {
    "duration": 10,
    "start_time": "2022-11-18T18:36:21.942Z"
   },
   {
    "duration": 15038,
    "start_time": "2022-11-19T15:55:17.534Z"
   },
   {
    "duration": 7617,
    "start_time": "2022-11-19T15:55:32.620Z"
   },
   {
    "duration": 3,
    "start_time": "2022-11-19T15:55:40.239Z"
   },
   {
    "duration": 4219,
    "start_time": "2022-11-19T15:55:40.244Z"
   },
   {
    "duration": 2,
    "start_time": "2022-11-19T15:55:44.521Z"
   },
   {
    "duration": 29,
    "start_time": "2022-11-19T15:55:44.525Z"
   },
   {
    "duration": 73,
    "start_time": "2022-11-19T15:55:44.556Z"
   },
   {
    "duration": 6395,
    "start_time": "2022-11-19T15:55:44.631Z"
   },
   {
    "duration": 3424,
    "start_time": "2022-11-19T15:55:51.028Z"
   },
   {
    "duration": 1495,
    "start_time": "2022-11-19T15:55:54.456Z"
   },
   {
    "duration": 1287,
    "start_time": "2022-11-19T15:55:55.953Z"
   },
   {
    "duration": 605,
    "start_time": "2022-11-19T15:55:57.241Z"
   },
   {
    "duration": 85,
    "start_time": "2022-11-19T15:55:57.848Z"
   },
   {
    "duration": 3923,
    "start_time": "2022-11-19T15:55:57.935Z"
   },
   {
    "duration": 2277,
    "start_time": "2022-11-19T15:56:01.860Z"
   },
   {
    "duration": 1001,
    "start_time": "2022-11-19T15:56:04.139Z"
   },
   {
    "duration": 1296,
    "start_time": "2022-11-19T15:56:05.143Z"
   },
   {
    "duration": 10,
    "start_time": "2022-11-19T15:56:06.440Z"
   },
   {
    "duration": 2295,
    "start_time": "2022-11-19T15:56:06.451Z"
   },
   {
    "duration": 990,
    "start_time": "2022-11-19T15:56:08.747Z"
   },
   {
    "duration": 1086,
    "start_time": "2022-11-19T15:56:09.739Z"
   },
   {
    "duration": 4511,
    "start_time": "2022-11-19T15:56:10.827Z"
   },
   {
    "duration": 89,
    "start_time": "2022-11-19T15:56:15.340Z"
   },
   {
    "duration": 207,
    "start_time": "2022-11-19T15:56:15.431Z"
   },
   {
    "duration": 8284,
    "start_time": "2022-11-19T15:56:15.640Z"
   },
   {
    "duration": 719,
    "start_time": "2022-11-19T15:56:23.925Z"
   },
   {
    "duration": 87,
    "start_time": "2022-11-19T16:07:46.411Z"
   },
   {
    "duration": 8,
    "start_time": "2022-11-19T16:09:16.360Z"
   },
   {
    "duration": 17594,
    "start_time": "2022-11-19T20:03:15.732Z"
   },
   {
    "duration": 8509,
    "start_time": "2022-11-19T20:03:33.328Z"
   },
   {
    "duration": 2,
    "start_time": "2022-11-19T20:03:41.839Z"
   },
   {
    "duration": 4495,
    "start_time": "2022-11-19T20:03:41.843Z"
   },
   {
    "duration": 4,
    "start_time": "2022-11-19T20:03:46.340Z"
   },
   {
    "duration": 79,
    "start_time": "2022-11-19T20:03:46.346Z"
   },
   {
    "duration": 18,
    "start_time": "2022-11-19T20:03:46.427Z"
   },
   {
    "duration": 7478,
    "start_time": "2022-11-19T20:03:46.448Z"
   },
   {
    "duration": 3316,
    "start_time": "2022-11-19T20:03:53.928Z"
   },
   {
    "duration": 2169,
    "start_time": "2022-11-19T20:03:57.247Z"
   },
   {
    "duration": 1314,
    "start_time": "2022-11-19T20:03:59.418Z"
   },
   {
    "duration": 698,
    "start_time": "2022-11-19T20:04:00.734Z"
   },
   {
    "duration": 84,
    "start_time": "2022-11-19T20:04:01.433Z"
   },
   {
    "duration": 5417,
    "start_time": "2022-11-19T20:04:01.520Z"
   },
   {
    "duration": 3211,
    "start_time": "2022-11-19T20:04:06.939Z"
   },
   {
    "duration": 1591,
    "start_time": "2022-11-19T20:04:10.151Z"
   },
   {
    "duration": 1688,
    "start_time": "2022-11-19T20:04:11.743Z"
   },
   {
    "duration": 12,
    "start_time": "2022-11-19T20:04:13.434Z"
   },
   {
    "duration": 3219,
    "start_time": "2022-11-19T20:04:13.517Z"
   },
   {
    "duration": 1385,
    "start_time": "2022-11-19T20:04:16.738Z"
   },
   {
    "duration": 1292,
    "start_time": "2022-11-19T20:04:18.125Z"
   },
   {
    "duration": 4621,
    "start_time": "2022-11-19T20:04:19.420Z"
   },
   {
    "duration": 85,
    "start_time": "2022-11-19T20:04:24.043Z"
   },
   {
    "duration": 286,
    "start_time": "2022-11-19T20:04:24.130Z"
   },
   {
    "duration": 8541,
    "start_time": "2022-11-19T20:04:24.418Z"
   },
   {
    "duration": 1077,
    "start_time": "2022-11-19T20:04:32.960Z"
   },
   {
    "duration": 90,
    "start_time": "2022-11-19T20:05:07.985Z"
   },
   {
    "duration": 9,
    "start_time": "2022-11-19T20:05:59.643Z"
   },
   {
    "duration": 8,
    "start_time": "2022-11-19T20:06:08.540Z"
   },
   {
    "duration": 26,
    "start_time": "2022-11-19T20:06:42.410Z"
   },
   {
    "duration": 2254,
    "start_time": "2022-11-19T20:06:47.428Z"
   },
   {
    "duration": 15209,
    "start_time": "2022-11-19T20:07:09.654Z"
   },
   {
    "duration": 8613,
    "start_time": "2022-11-19T20:07:24.917Z"
   },
   {
    "duration": 6035,
    "start_time": "2022-11-19T20:07:33.532Z"
   },
   {
    "duration": 3432,
    "start_time": "2022-11-19T20:07:39.617Z"
   },
   {
    "duration": 3,
    "start_time": "2022-11-19T20:07:43.050Z"
   },
   {
    "duration": 25,
    "start_time": "2022-11-19T20:07:43.055Z"
   },
   {
    "duration": 37,
    "start_time": "2022-11-19T20:07:43.081Z"
   },
   {
    "duration": 6847,
    "start_time": "2022-11-19T20:07:43.120Z"
   },
   {
    "duration": 3261,
    "start_time": "2022-11-19T20:07:49.968Z"
   },
   {
    "duration": 146,
    "start_time": "2022-11-19T20:07:53.233Z"
   },
   {
    "duration": 0,
    "start_time": "2022-11-19T20:07:53.381Z"
   },
   {
    "duration": 0,
    "start_time": "2022-11-19T20:07:53.382Z"
   },
   {
    "duration": 0,
    "start_time": "2022-11-19T20:07:53.383Z"
   },
   {
    "duration": 0,
    "start_time": "2022-11-19T20:07:53.416Z"
   },
   {
    "duration": 0,
    "start_time": "2022-11-19T20:07:53.417Z"
   },
   {
    "duration": 0,
    "start_time": "2022-11-19T20:07:53.419Z"
   },
   {
    "duration": 0,
    "start_time": "2022-11-19T20:07:53.420Z"
   },
   {
    "duration": 0,
    "start_time": "2022-11-19T20:07:53.422Z"
   },
   {
    "duration": 0,
    "start_time": "2022-11-19T20:07:53.423Z"
   },
   {
    "duration": 0,
    "start_time": "2022-11-19T20:07:53.424Z"
   },
   {
    "duration": 0,
    "start_time": "2022-11-19T20:07:53.425Z"
   },
   {
    "duration": 0,
    "start_time": "2022-11-19T20:07:53.426Z"
   },
   {
    "duration": 0,
    "start_time": "2022-11-19T20:07:53.427Z"
   },
   {
    "duration": 0,
    "start_time": "2022-11-19T20:07:53.428Z"
   },
   {
    "duration": 0,
    "start_time": "2022-11-19T20:07:53.429Z"
   },
   {
    "duration": 0,
    "start_time": "2022-11-19T20:07:53.431Z"
   },
   {
    "duration": 1,
    "start_time": "2022-11-19T20:07:53.431Z"
   },
   {
    "duration": 9,
    "start_time": "2022-11-19T20:12:04.496Z"
   },
   {
    "duration": 14,
    "start_time": "2022-11-19T20:12:16.405Z"
   },
   {
    "duration": 48,
    "start_time": "2022-11-19T20:12:40.804Z"
   },
   {
    "duration": 10,
    "start_time": "2022-11-19T20:12:47.812Z"
   },
   {
    "duration": 6,
    "start_time": "2022-11-19T20:13:30.264Z"
   },
   {
    "duration": 9,
    "start_time": "2022-11-19T20:13:35.353Z"
   },
   {
    "duration": 923,
    "start_time": "2022-11-19T20:15:11.252Z"
   },
   {
    "duration": 17681,
    "start_time": "2022-11-20T06:36:04.036Z"
   },
   {
    "duration": 10013,
    "start_time": "2022-11-20T06:36:21.719Z"
   },
   {
    "duration": 5424,
    "start_time": "2022-11-20T06:36:31.733Z"
   },
   {
    "duration": 2,
    "start_time": "2022-11-20T06:36:37.160Z"
   },
   {
    "duration": 79,
    "start_time": "2022-11-20T06:36:37.165Z"
   },
   {
    "duration": 18,
    "start_time": "2022-11-20T06:36:37.246Z"
   },
   {
    "duration": 8237,
    "start_time": "2022-11-20T06:36:37.314Z"
   },
   {
    "duration": 4359,
    "start_time": "2022-11-20T06:36:45.554Z"
   },
   {
    "duration": 1136,
    "start_time": "2022-11-20T06:36:49.915Z"
   },
   {
    "duration": 0,
    "start_time": "2022-11-20T06:36:51.053Z"
   },
   {
    "duration": 0,
    "start_time": "2022-11-20T06:36:51.054Z"
   },
   {
    "duration": 0,
    "start_time": "2022-11-20T06:36:51.056Z"
   },
   {
    "duration": 0,
    "start_time": "2022-11-20T06:36:51.057Z"
   },
   {
    "duration": 0,
    "start_time": "2022-11-20T06:36:51.058Z"
   },
   {
    "duration": 0,
    "start_time": "2022-11-20T06:36:51.059Z"
   },
   {
    "duration": 0,
    "start_time": "2022-11-20T06:36:51.060Z"
   },
   {
    "duration": 0,
    "start_time": "2022-11-20T06:36:51.061Z"
   },
   {
    "duration": 0,
    "start_time": "2022-11-20T06:36:51.062Z"
   },
   {
    "duration": 0,
    "start_time": "2022-11-20T06:36:51.063Z"
   },
   {
    "duration": 0,
    "start_time": "2022-11-20T06:36:51.064Z"
   },
   {
    "duration": 0,
    "start_time": "2022-11-20T06:36:51.065Z"
   },
   {
    "duration": 0,
    "start_time": "2022-11-20T06:36:51.066Z"
   },
   {
    "duration": 0,
    "start_time": "2022-11-20T06:36:51.067Z"
   },
   {
    "duration": 0,
    "start_time": "2022-11-20T06:36:51.068Z"
   },
   {
    "duration": 0,
    "start_time": "2022-11-20T06:36:51.069Z"
   },
   {
    "duration": 0,
    "start_time": "2022-11-20T06:36:51.070Z"
   },
   {
    "duration": 1634,
    "start_time": "2022-11-20T06:38:46.611Z"
   },
   {
    "duration": 3851,
    "start_time": "2022-11-20T06:46:37.818Z"
   },
   {
    "duration": 2180,
    "start_time": "2022-11-20T06:47:03.465Z"
   },
   {
    "duration": 2027,
    "start_time": "2022-11-20T06:49:08.785Z"
   },
   {
    "duration": 17292,
    "start_time": "2022-11-20T08:00:56.440Z"
   },
   {
    "duration": 9411,
    "start_time": "2022-11-20T08:01:13.735Z"
   },
   {
    "duration": 5044,
    "start_time": "2022-11-20T08:01:23.213Z"
   },
   {
    "duration": 3,
    "start_time": "2022-11-20T08:01:28.259Z"
   },
   {
    "duration": 69,
    "start_time": "2022-11-20T08:01:28.263Z"
   },
   {
    "duration": 16,
    "start_time": "2022-11-20T08:01:28.334Z"
   },
   {
    "duration": 8045,
    "start_time": "2022-11-20T08:01:28.351Z"
   },
   {
    "duration": 4024,
    "start_time": "2022-11-20T08:01:36.398Z"
   },
   {
    "duration": 1379,
    "start_time": "2022-11-20T08:01:40.424Z"
   },
   {
    "duration": 1926,
    "start_time": "2022-11-20T08:01:41.812Z"
   },
   {
    "duration": 1874,
    "start_time": "2022-11-20T08:01:43.740Z"
   },
   {
    "duration": 1008,
    "start_time": "2022-11-20T08:01:45.617Z"
   },
   {
    "duration": 87,
    "start_time": "2022-11-20T08:01:46.627Z"
   },
   {
    "duration": 6923,
    "start_time": "2022-11-20T08:01:46.716Z"
   },
   {
    "duration": 3638,
    "start_time": "2022-11-20T08:01:53.641Z"
   },
   {
    "duration": 1333,
    "start_time": "2022-11-20T08:01:57.312Z"
   },
   {
    "duration": 1524,
    "start_time": "2022-11-20T08:01:58.714Z"
   },
   {
    "duration": 9,
    "start_time": "2022-11-20T08:02:00.240Z"
   },
   {
    "duration": 3008,
    "start_time": "2022-11-20T08:02:00.313Z"
   },
   {
    "duration": 1294,
    "start_time": "2022-11-20T08:02:03.323Z"
   },
   {
    "duration": 1313,
    "start_time": "2022-11-20T08:02:04.620Z"
   },
   {
    "duration": 5895,
    "start_time": "2022-11-20T08:02:05.935Z"
   },
   {
    "duration": 87,
    "start_time": "2022-11-20T08:02:11.832Z"
   },
   {
    "duration": 293,
    "start_time": "2022-11-20T08:02:11.921Z"
   },
   {
    "duration": 9835,
    "start_time": "2022-11-20T08:02:12.216Z"
   },
   {
    "duration": 1117,
    "start_time": "2022-11-20T08:02:22.112Z"
   },
   {
    "duration": 1375,
    "start_time": "2022-11-20T08:04:03.544Z"
   },
   {
    "duration": 828,
    "start_time": "2022-11-20T12:15:27.884Z"
   },
   {
    "duration": 17000,
    "start_time": "2022-11-20T12:19:02.819Z"
   },
   {
    "duration": 9091,
    "start_time": "2022-11-20T12:19:19.822Z"
   },
   {
    "duration": 1423,
    "start_time": "2022-11-20T12:19:28.915Z"
   },
   {
    "duration": 389,
    "start_time": "2022-11-20T12:19:30.340Z"
   },
   {
    "duration": 0,
    "start_time": "2022-11-20T12:19:30.731Z"
   },
   {
    "duration": 0,
    "start_time": "2022-11-20T12:19:30.733Z"
   },
   {
    "duration": 0,
    "start_time": "2022-11-20T12:19:30.735Z"
   },
   {
    "duration": 0,
    "start_time": "2022-11-20T12:19:30.737Z"
   },
   {
    "duration": 0,
    "start_time": "2022-11-20T12:19:30.738Z"
   },
   {
    "duration": 0,
    "start_time": "2022-11-20T12:19:30.814Z"
   },
   {
    "duration": 0,
    "start_time": "2022-11-20T12:19:30.816Z"
   },
   {
    "duration": 0,
    "start_time": "2022-11-20T12:19:30.818Z"
   },
   {
    "duration": 0,
    "start_time": "2022-11-20T12:19:30.820Z"
   },
   {
    "duration": 0,
    "start_time": "2022-11-20T12:19:30.822Z"
   },
   {
    "duration": 0,
    "start_time": "2022-11-20T12:19:30.823Z"
   },
   {
    "duration": 0,
    "start_time": "2022-11-20T12:19:30.824Z"
   },
   {
    "duration": 0,
    "start_time": "2022-11-20T12:19:30.826Z"
   },
   {
    "duration": 0,
    "start_time": "2022-11-20T12:19:30.827Z"
   },
   {
    "duration": 0,
    "start_time": "2022-11-20T12:19:30.829Z"
   },
   {
    "duration": 0,
    "start_time": "2022-11-20T12:19:30.830Z"
   },
   {
    "duration": 0,
    "start_time": "2022-11-20T12:19:30.831Z"
   },
   {
    "duration": 0,
    "start_time": "2022-11-20T12:19:30.832Z"
   },
   {
    "duration": 0,
    "start_time": "2022-11-20T12:19:30.833Z"
   },
   {
    "duration": 0,
    "start_time": "2022-11-20T12:19:30.834Z"
   },
   {
    "duration": 0,
    "start_time": "2022-11-20T12:19:30.913Z"
   },
   {
    "duration": 0,
    "start_time": "2022-11-20T12:19:30.914Z"
   },
   {
    "duration": 0,
    "start_time": "2022-11-20T12:19:30.915Z"
   },
   {
    "duration": 0,
    "start_time": "2022-11-20T12:19:30.917Z"
   },
   {
    "duration": 0,
    "start_time": "2022-11-20T12:19:30.918Z"
   },
   {
    "duration": 28332,
    "start_time": "2022-11-20T12:20:04.264Z"
   },
   {
    "duration": 10,
    "start_time": "2022-11-20T12:21:09.414Z"
   },
   {
    "duration": 16469,
    "start_time": "2022-11-20T12:21:39.572Z"
   },
   {
    "duration": 9688,
    "start_time": "2022-11-20T12:21:56.044Z"
   },
   {
    "duration": 1508,
    "start_time": "2022-11-20T12:22:05.734Z"
   },
   {
    "duration": 3871,
    "start_time": "2022-11-20T12:22:07.244Z"
   },
   {
    "duration": 216,
    "start_time": "2022-11-20T12:22:11.117Z"
   },
   {
    "duration": 0,
    "start_time": "2022-11-20T12:22:11.336Z"
   },
   {
    "duration": 0,
    "start_time": "2022-11-20T12:22:11.337Z"
   },
   {
    "duration": 0,
    "start_time": "2022-11-20T12:22:11.338Z"
   },
   {
    "duration": 0,
    "start_time": "2022-11-20T12:22:11.339Z"
   },
   {
    "duration": 0,
    "start_time": "2022-11-20T12:22:11.340Z"
   },
   {
    "duration": 0,
    "start_time": "2022-11-20T12:22:11.342Z"
   },
   {
    "duration": 0,
    "start_time": "2022-11-20T12:22:11.343Z"
   },
   {
    "duration": 0,
    "start_time": "2022-11-20T12:22:11.344Z"
   },
   {
    "duration": 0,
    "start_time": "2022-11-20T12:22:11.345Z"
   },
   {
    "duration": 0,
    "start_time": "2022-11-20T12:22:11.412Z"
   },
   {
    "duration": 0,
    "start_time": "2022-11-20T12:22:11.414Z"
   },
   {
    "duration": 0,
    "start_time": "2022-11-20T12:22:11.415Z"
   },
   {
    "duration": 0,
    "start_time": "2022-11-20T12:22:11.416Z"
   },
   {
    "duration": 0,
    "start_time": "2022-11-20T12:22:11.417Z"
   },
   {
    "duration": 0,
    "start_time": "2022-11-20T12:22:11.418Z"
   },
   {
    "duration": 0,
    "start_time": "2022-11-20T12:22:11.420Z"
   },
   {
    "duration": 0,
    "start_time": "2022-11-20T12:22:11.420Z"
   },
   {
    "duration": 0,
    "start_time": "2022-11-20T12:22:11.422Z"
   },
   {
    "duration": 0,
    "start_time": "2022-11-20T12:22:11.423Z"
   },
   {
    "duration": 0,
    "start_time": "2022-11-20T12:22:11.424Z"
   },
   {
    "duration": 0,
    "start_time": "2022-11-20T12:22:11.425Z"
   },
   {
    "duration": 0,
    "start_time": "2022-11-20T12:22:11.426Z"
   },
   {
    "duration": 0,
    "start_time": "2022-11-20T12:22:11.427Z"
   },
   {
    "duration": 0,
    "start_time": "2022-11-20T12:22:11.428Z"
   },
   {
    "duration": 8,
    "start_time": "2022-11-20T12:22:36.652Z"
   },
   {
    "duration": 3,
    "start_time": "2022-11-20T12:22:49.645Z"
   },
   {
    "duration": 8,
    "start_time": "2022-11-20T12:22:53.526Z"
   },
   {
    "duration": 9,
    "start_time": "2022-11-20T12:22:59.086Z"
   },
   {
    "duration": 9,
    "start_time": "2022-11-20T12:23:10.237Z"
   },
   {
    "duration": 16657,
    "start_time": "2022-11-20T12:23:15.468Z"
   },
   {
    "duration": 10011,
    "start_time": "2022-11-20T12:23:32.128Z"
   },
   {
    "duration": 1503,
    "start_time": "2022-11-20T12:23:42.141Z"
   },
   {
    "duration": 4217,
    "start_time": "2022-11-20T12:23:43.711Z"
   },
   {
    "duration": 413,
    "start_time": "2022-11-20T12:23:47.930Z"
   },
   {
    "duration": 3288,
    "start_time": "2022-11-20T12:23:48.345Z"
   },
   {
    "duration": 2,
    "start_time": "2022-11-20T12:23:51.635Z"
   },
   {
    "duration": 19,
    "start_time": "2022-11-20T12:23:51.639Z"
   },
   {
    "duration": 52,
    "start_time": "2022-11-20T12:23:51.660Z"
   },
   {
    "duration": 7033,
    "start_time": "2022-11-20T12:23:51.715Z"
   },
   {
    "duration": 3384,
    "start_time": "2022-11-20T12:23:58.750Z"
   },
   {
    "duration": 1502,
    "start_time": "2022-11-20T12:24:02.136Z"
   },
   {
    "duration": 1508,
    "start_time": "2022-11-20T12:24:03.639Z"
   },
   {
    "duration": 1474,
    "start_time": "2022-11-20T12:24:05.149Z"
   },
   {
    "duration": 712,
    "start_time": "2022-11-20T12:24:06.627Z"
   },
   {
    "duration": 85,
    "start_time": "2022-11-20T12:24:07.341Z"
   },
   {
    "duration": 3998,
    "start_time": "2022-11-20T12:24:07.429Z"
   },
   {
    "duration": 2585,
    "start_time": "2022-11-20T12:24:11.429Z"
   },
   {
    "duration": 1135,
    "start_time": "2022-11-20T12:24:14.015Z"
   },
   {
    "duration": 1219,
    "start_time": "2022-11-20T12:24:15.212Z"
   },
   {
    "duration": 10,
    "start_time": "2022-11-20T12:24:16.433Z"
   },
   {
    "duration": 3505,
    "start_time": "2022-11-20T12:24:16.444Z"
   },
   {
    "duration": 1476,
    "start_time": "2022-11-20T12:24:19.951Z"
   },
   {
    "duration": 1485,
    "start_time": "2022-11-20T12:24:21.429Z"
   },
   {
    "duration": 5107,
    "start_time": "2022-11-20T12:24:22.916Z"
   },
   {
    "duration": 17,
    "start_time": "2022-11-20T12:24:28.025Z"
   },
   {
    "duration": 205,
    "start_time": "2022-11-20T12:24:28.113Z"
   },
   {
    "duration": 9495,
    "start_time": "2022-11-20T12:24:28.321Z"
   },
   {
    "duration": 1194,
    "start_time": "2022-11-20T12:24:37.818Z"
   },
   {
    "duration": 130,
    "start_time": "2022-11-20T12:24:43.140Z"
   },
   {
    "duration": 12,
    "start_time": "2022-11-20T12:27:29.089Z"
   },
   {
    "duration": 1961,
    "start_time": "2022-11-20T12:27:37.878Z"
   },
   {
    "duration": 551,
    "start_time": "2022-11-20T12:28:16.361Z"
   },
   {
    "duration": 592,
    "start_time": "2022-11-20T12:28:18.279Z"
   },
   {
    "duration": 14,
    "start_time": "2022-11-20T12:28:19.102Z"
   },
   {
    "duration": 693,
    "start_time": "2022-11-20T12:28:21.721Z"
   },
   {
    "duration": 64273,
    "start_time": "2022-11-20T12:28:25.349Z"
   },
   {
    "duration": 15,
    "start_time": "2022-11-20T12:29:29.624Z"
   },
   {
    "duration": 190,
    "start_time": "2022-11-20T12:29:29.641Z"
   },
   {
    "duration": 0,
    "start_time": "2022-11-20T12:29:29.834Z"
   },
   {
    "duration": 0,
    "start_time": "2022-11-20T12:29:29.836Z"
   },
   {
    "duration": 0,
    "start_time": "2022-11-20T12:29:29.837Z"
   },
   {
    "duration": 0,
    "start_time": "2022-11-20T12:29:29.838Z"
   },
   {
    "duration": 0,
    "start_time": "2022-11-20T12:29:29.840Z"
   },
   {
    "duration": 0,
    "start_time": "2022-11-20T12:29:29.841Z"
   },
   {
    "duration": 0,
    "start_time": "2022-11-20T12:29:29.843Z"
   },
   {
    "duration": 0,
    "start_time": "2022-11-20T12:29:29.844Z"
   },
   {
    "duration": 0,
    "start_time": "2022-11-20T12:29:29.846Z"
   },
   {
    "duration": 0,
    "start_time": "2022-11-20T12:29:29.914Z"
   },
   {
    "duration": 0,
    "start_time": "2022-11-20T12:29:29.915Z"
   },
   {
    "duration": 0,
    "start_time": "2022-11-20T12:29:29.917Z"
   },
   {
    "duration": 0,
    "start_time": "2022-11-20T12:29:29.919Z"
   },
   {
    "duration": 0,
    "start_time": "2022-11-20T12:29:29.920Z"
   },
   {
    "duration": 0,
    "start_time": "2022-11-20T12:29:29.922Z"
   },
   {
    "duration": 0,
    "start_time": "2022-11-20T12:29:29.923Z"
   },
   {
    "duration": 0,
    "start_time": "2022-11-20T12:29:29.925Z"
   },
   {
    "duration": 0,
    "start_time": "2022-11-20T12:29:29.926Z"
   },
   {
    "duration": 0,
    "start_time": "2022-11-20T12:29:29.927Z"
   },
   {
    "duration": 0,
    "start_time": "2022-11-20T12:29:29.929Z"
   },
   {
    "duration": 11,
    "start_time": "2022-11-20T12:30:26.744Z"
   },
   {
    "duration": 965,
    "start_time": "2022-11-20T12:30:31.577Z"
   },
   {
    "duration": 10,
    "start_time": "2022-11-20T12:30:43.368Z"
   },
   {
    "duration": 630,
    "start_time": "2022-11-20T12:30:46.292Z"
   },
   {
    "duration": 50,
    "start_time": "2022-11-20T16:57:05.971Z"
   },
   {
    "duration": 16114,
    "start_time": "2022-11-20T16:57:23.509Z"
   },
   {
    "duration": 8829,
    "start_time": "2022-11-20T16:57:39.679Z"
   },
   {
    "duration": 1502,
    "start_time": "2022-11-20T16:57:48.510Z"
   },
   {
    "duration": 273,
    "start_time": "2022-11-20T16:57:50.014Z"
   },
   {
    "duration": 3398,
    "start_time": "2022-11-20T16:57:50.290Z"
   },
   {
    "duration": 16538,
    "start_time": "2022-11-20T16:58:52.568Z"
   },
   {
    "duration": 8802,
    "start_time": "2022-11-20T16:59:09.108Z"
   },
   {
    "duration": 1208,
    "start_time": "2022-11-20T16:59:17.912Z"
   },
   {
    "duration": 209,
    "start_time": "2022-11-20T16:59:19.179Z"
   },
   {
    "duration": 2309,
    "start_time": "2022-11-20T16:59:19.390Z"
   },
   {
    "duration": 25184,
    "start_time": "2022-11-20T16:59:21.701Z"
   },
   {
    "duration": 3,
    "start_time": "2022-11-20T16:59:46.887Z"
   },
   {
    "duration": 97,
    "start_time": "2022-11-20T16:59:46.892Z"
   },
   {
    "duration": 2,
    "start_time": "2022-11-20T16:59:46.991Z"
   },
   {
    "duration": 398,
    "start_time": "2022-11-20T16:59:46.998Z"
   },
   {
    "duration": 0,
    "start_time": "2022-11-20T16:59:47.398Z"
   },
   {
    "duration": 0,
    "start_time": "2022-11-20T16:59:47.399Z"
   },
   {
    "duration": 0,
    "start_time": "2022-11-20T16:59:47.401Z"
   },
   {
    "duration": 0,
    "start_time": "2022-11-20T16:59:47.402Z"
   },
   {
    "duration": 0,
    "start_time": "2022-11-20T16:59:47.403Z"
   },
   {
    "duration": 0,
    "start_time": "2022-11-20T16:59:47.404Z"
   },
   {
    "duration": 0,
    "start_time": "2022-11-20T16:59:47.406Z"
   },
   {
    "duration": 0,
    "start_time": "2022-11-20T16:59:47.407Z"
   },
   {
    "duration": 0,
    "start_time": "2022-11-20T16:59:47.408Z"
   },
   {
    "duration": 0,
    "start_time": "2022-11-20T16:59:47.409Z"
   },
   {
    "duration": 0,
    "start_time": "2022-11-20T16:59:47.410Z"
   },
   {
    "duration": 0,
    "start_time": "2022-11-20T16:59:47.411Z"
   },
   {
    "duration": 0,
    "start_time": "2022-11-20T16:59:47.477Z"
   },
   {
    "duration": 0,
    "start_time": "2022-11-20T16:59:47.479Z"
   },
   {
    "duration": 0,
    "start_time": "2022-11-20T16:59:47.481Z"
   },
   {
    "duration": 0,
    "start_time": "2022-11-20T16:59:47.483Z"
   },
   {
    "duration": 1,
    "start_time": "2022-11-20T16:59:47.484Z"
   },
   {
    "duration": 0,
    "start_time": "2022-11-20T16:59:47.486Z"
   },
   {
    "duration": 0,
    "start_time": "2022-11-20T16:59:47.487Z"
   },
   {
    "duration": 94,
    "start_time": "2022-11-20T17:05:59.599Z"
   },
   {
    "duration": 71,
    "start_time": "2022-11-20T17:06:22.250Z"
   },
   {
    "duration": 73,
    "start_time": "2022-11-20T17:07:43.272Z"
   },
   {
    "duration": 81,
    "start_time": "2022-11-20T17:08:19.026Z"
   },
   {
    "duration": 140,
    "start_time": "2022-11-20T17:08:29.639Z"
   },
   {
    "duration": 17936,
    "start_time": "2022-11-20T19:21:55.346Z"
   },
   {
    "duration": 8998,
    "start_time": "2022-11-20T19:22:13.285Z"
   },
   {
    "duration": 1525,
    "start_time": "2022-11-20T19:22:22.285Z"
   },
   {
    "duration": 586,
    "start_time": "2022-11-20T19:22:23.813Z"
   },
   {
    "duration": 0,
    "start_time": "2022-11-20T19:22:24.403Z"
   },
   {
    "duration": 0,
    "start_time": "2022-11-20T19:22:24.404Z"
   },
   {
    "duration": 0,
    "start_time": "2022-11-20T19:22:24.406Z"
   },
   {
    "duration": 0,
    "start_time": "2022-11-20T19:22:24.407Z"
   },
   {
    "duration": 0,
    "start_time": "2022-11-20T19:22:24.408Z"
   },
   {
    "duration": 0,
    "start_time": "2022-11-20T19:22:24.410Z"
   },
   {
    "duration": 0,
    "start_time": "2022-11-20T19:22:24.411Z"
   },
   {
    "duration": 0,
    "start_time": "2022-11-20T19:22:24.412Z"
   },
   {
    "duration": 0,
    "start_time": "2022-11-20T19:22:24.413Z"
   },
   {
    "duration": 0,
    "start_time": "2022-11-20T19:22:24.414Z"
   },
   {
    "duration": 0,
    "start_time": "2022-11-20T19:22:24.415Z"
   },
   {
    "duration": 0,
    "start_time": "2022-11-20T19:22:24.416Z"
   },
   {
    "duration": 0,
    "start_time": "2022-11-20T19:22:24.417Z"
   },
   {
    "duration": 0,
    "start_time": "2022-11-20T19:22:24.418Z"
   },
   {
    "duration": 0,
    "start_time": "2022-11-20T19:22:24.419Z"
   },
   {
    "duration": 0,
    "start_time": "2022-11-20T19:22:24.420Z"
   },
   {
    "duration": 0,
    "start_time": "2022-11-20T19:22:24.421Z"
   },
   {
    "duration": 0,
    "start_time": "2022-11-20T19:22:24.422Z"
   },
   {
    "duration": 0,
    "start_time": "2022-11-20T19:22:24.423Z"
   },
   {
    "duration": 0,
    "start_time": "2022-11-20T19:22:24.424Z"
   },
   {
    "duration": 0,
    "start_time": "2022-11-20T19:22:24.478Z"
   },
   {
    "duration": 0,
    "start_time": "2022-11-20T19:22:24.479Z"
   },
   {
    "duration": 0,
    "start_time": "2022-11-20T19:22:24.481Z"
   },
   {
    "duration": 0,
    "start_time": "2022-11-20T19:22:24.482Z"
   },
   {
    "duration": 0,
    "start_time": "2022-11-20T19:22:24.483Z"
   },
   {
    "duration": 31,
    "start_time": "2022-11-20T19:53:11.701Z"
   },
   {
    "duration": 2122,
    "start_time": "2022-11-20T19:53:19.461Z"
   },
   {
    "duration": 181,
    "start_time": "2022-11-20T20:02:15.867Z"
   },
   {
    "duration": 116,
    "start_time": "2022-11-20T20:02:26.554Z"
   },
   {
    "duration": 149,
    "start_time": "2022-11-20T20:02:48.853Z"
   },
   {
    "duration": 62,
    "start_time": "2022-11-21T04:19:36.252Z"
   },
   {
    "duration": 41,
    "start_time": "2022-11-21T04:20:32.651Z"
   },
   {
    "duration": 1425,
    "start_time": "2022-11-21T04:20:36.278Z"
   },
   {
    "duration": 14500,
    "start_time": "2022-11-21T04:20:46.605Z"
   },
   {
    "duration": 41,
    "start_time": "2022-11-21T04:21:49.775Z"
   },
   {
    "duration": 18918,
    "start_time": "2022-11-21T04:23:07.789Z"
   },
   {
    "duration": 9503,
    "start_time": "2022-11-21T04:23:26.709Z"
   },
   {
    "duration": 1571,
    "start_time": "2022-11-21T04:23:36.213Z"
   },
   {
    "duration": 318,
    "start_time": "2022-11-21T04:23:37.786Z"
   },
   {
    "duration": 2281,
    "start_time": "2022-11-21T04:23:38.105Z"
   },
   {
    "duration": 14503,
    "start_time": "2022-11-21T04:23:40.388Z"
   },
   {
    "duration": 3,
    "start_time": "2022-11-21T04:23:54.892Z"
   },
   {
    "duration": 103,
    "start_time": "2022-11-21T04:23:54.896Z"
   },
   {
    "duration": 3,
    "start_time": "2022-11-21T04:23:55.001Z"
   },
   {
    "duration": 242651,
    "start_time": "2022-11-21T04:23:55.007Z"
   },
   {
    "duration": 16539,
    "start_time": "2022-11-21T04:28:01.369Z"
   },
   {
    "duration": 9279,
    "start_time": "2022-11-21T04:28:17.911Z"
   },
   {
    "duration": 1218,
    "start_time": "2022-11-21T04:28:27.192Z"
   },
   {
    "duration": 307,
    "start_time": "2022-11-21T04:28:28.412Z"
   },
   {
    "duration": 2364,
    "start_time": "2022-11-21T04:28:28.721Z"
   },
   {
    "duration": 14125,
    "start_time": "2022-11-21T04:28:31.087Z"
   },
   {
    "duration": 3,
    "start_time": "2022-11-21T04:28:45.214Z"
   },
   {
    "duration": 88,
    "start_time": "2022-11-21T04:28:45.219Z"
   },
   {
    "duration": 83,
    "start_time": "2022-11-21T04:28:45.309Z"
   },
   {
    "duration": 16333,
    "start_time": "2022-11-21T04:29:14.081Z"
   },
   {
    "duration": 8772,
    "start_time": "2022-11-21T04:29:30.417Z"
   },
   {
    "duration": 1330,
    "start_time": "2022-11-21T04:29:39.191Z"
   },
   {
    "duration": 323,
    "start_time": "2022-11-21T04:29:40.579Z"
   },
   {
    "duration": 2201,
    "start_time": "2022-11-21T04:29:40.904Z"
   },
   {
    "duration": 14202,
    "start_time": "2022-11-21T04:29:43.107Z"
   },
   {
    "duration": 3,
    "start_time": "2022-11-21T04:29:57.311Z"
   },
   {
    "duration": 94,
    "start_time": "2022-11-21T04:29:57.315Z"
   },
   {
    "duration": 82,
    "start_time": "2022-11-21T04:29:57.411Z"
   },
   {
    "duration": 16359,
    "start_time": "2022-11-21T04:31:23.036Z"
   },
   {
    "duration": 8880,
    "start_time": "2022-11-21T04:31:39.398Z"
   },
   {
    "duration": 1334,
    "start_time": "2022-11-21T04:31:48.280Z"
   },
   {
    "duration": 365,
    "start_time": "2022-11-21T04:31:49.616Z"
   },
   {
    "duration": 2296,
    "start_time": "2022-11-21T04:31:49.983Z"
   },
   {
    "duration": 14622,
    "start_time": "2022-11-21T04:31:52.281Z"
   },
   {
    "duration": 3,
    "start_time": "2022-11-21T04:32:06.904Z"
   },
   {
    "duration": 99,
    "start_time": "2022-11-21T04:32:06.909Z"
   },
   {
    "duration": 76,
    "start_time": "2022-11-21T04:32:07.011Z"
   },
   {
    "duration": 465,
    "start_time": "2022-11-21T04:32:48.091Z"
   },
   {
    "duration": 0,
    "start_time": "2022-11-21T04:32:48.558Z"
   },
   {
    "duration": 0,
    "start_time": "2022-11-21T04:32:48.560Z"
   },
   {
    "duration": 0,
    "start_time": "2022-11-21T04:32:48.561Z"
   },
   {
    "duration": 0,
    "start_time": "2022-11-21T04:32:48.577Z"
   },
   {
    "duration": 0,
    "start_time": "2022-11-21T04:32:48.579Z"
   },
   {
    "duration": 0,
    "start_time": "2022-11-21T04:32:48.580Z"
   },
   {
    "duration": 0,
    "start_time": "2022-11-21T04:32:48.581Z"
   },
   {
    "duration": 0,
    "start_time": "2022-11-21T04:32:48.582Z"
   },
   {
    "duration": 0,
    "start_time": "2022-11-21T04:32:48.583Z"
   },
   {
    "duration": 0,
    "start_time": "2022-11-21T04:32:48.584Z"
   },
   {
    "duration": 0,
    "start_time": "2022-11-21T04:32:48.586Z"
   },
   {
    "duration": 0,
    "start_time": "2022-11-21T04:32:48.587Z"
   },
   {
    "duration": 0,
    "start_time": "2022-11-21T04:32:48.588Z"
   },
   {
    "duration": 0,
    "start_time": "2022-11-21T04:32:48.589Z"
   },
   {
    "duration": 0,
    "start_time": "2022-11-21T04:32:48.590Z"
   },
   {
    "duration": 0,
    "start_time": "2022-11-21T04:32:48.591Z"
   },
   {
    "duration": 0,
    "start_time": "2022-11-21T04:32:48.592Z"
   },
   {
    "duration": 0,
    "start_time": "2022-11-21T04:32:48.594Z"
   },
   {
    "duration": 0,
    "start_time": "2022-11-21T04:32:48.595Z"
   },
   {
    "duration": 0,
    "start_time": "2022-11-21T04:32:48.596Z"
   },
   {
    "duration": 0,
    "start_time": "2022-11-21T04:32:48.597Z"
   },
   {
    "duration": 0,
    "start_time": "2022-11-21T04:32:48.598Z"
   },
   {
    "duration": 0,
    "start_time": "2022-11-21T04:32:48.599Z"
   },
   {
    "duration": 0,
    "start_time": "2022-11-21T04:32:48.600Z"
   },
   {
    "duration": 0,
    "start_time": "2022-11-21T04:32:48.601Z"
   },
   {
    "duration": 0,
    "start_time": "2022-11-21T04:32:48.602Z"
   },
   {
    "duration": 0,
    "start_time": "2022-11-21T04:32:48.603Z"
   },
   {
    "duration": 0,
    "start_time": "2022-11-21T04:32:48.604Z"
   },
   {
    "duration": 16223,
    "start_time": "2022-11-21T04:33:03.380Z"
   },
   {
    "duration": 9511,
    "start_time": "2022-11-21T04:33:19.605Z"
   },
   {
    "duration": 1305,
    "start_time": "2022-11-21T04:33:29.178Z"
   },
   {
    "duration": 316,
    "start_time": "2022-11-21T04:33:30.485Z"
   },
   {
    "duration": 2688,
    "start_time": "2022-11-21T04:33:30.803Z"
   },
   {
    "duration": 0,
    "start_time": "2022-11-21T04:33:33.494Z"
   },
   {
    "duration": 0,
    "start_time": "2022-11-21T04:33:33.495Z"
   },
   {
    "duration": 0,
    "start_time": "2022-11-21T04:33:33.496Z"
   },
   {
    "duration": 0,
    "start_time": "2022-11-21T04:33:33.496Z"
   },
   {
    "duration": 0,
    "start_time": "2022-11-21T04:33:33.498Z"
   },
   {
    "duration": 0,
    "start_time": "2022-11-21T04:33:33.499Z"
   },
   {
    "duration": 0,
    "start_time": "2022-11-21T04:33:33.499Z"
   },
   {
    "duration": 0,
    "start_time": "2022-11-21T04:33:33.500Z"
   },
   {
    "duration": 0,
    "start_time": "2022-11-21T04:33:33.501Z"
   },
   {
    "duration": 0,
    "start_time": "2022-11-21T04:33:33.504Z"
   },
   {
    "duration": 0,
    "start_time": "2022-11-21T04:33:33.505Z"
   },
   {
    "duration": 0,
    "start_time": "2022-11-21T04:33:33.506Z"
   },
   {
    "duration": 0,
    "start_time": "2022-11-21T04:33:33.507Z"
   },
   {
    "duration": 0,
    "start_time": "2022-11-21T04:33:33.508Z"
   },
   {
    "duration": 0,
    "start_time": "2022-11-21T04:33:33.578Z"
   },
   {
    "duration": 0,
    "start_time": "2022-11-21T04:33:33.580Z"
   },
   {
    "duration": 0,
    "start_time": "2022-11-21T04:33:33.581Z"
   },
   {
    "duration": 0,
    "start_time": "2022-11-21T04:33:33.582Z"
   },
   {
    "duration": 0,
    "start_time": "2022-11-21T04:33:33.584Z"
   },
   {
    "duration": 0,
    "start_time": "2022-11-21T04:33:33.585Z"
   },
   {
    "duration": 0,
    "start_time": "2022-11-21T04:33:33.587Z"
   },
   {
    "duration": 0,
    "start_time": "2022-11-21T04:33:33.588Z"
   },
   {
    "duration": 0,
    "start_time": "2022-11-21T04:33:33.589Z"
   },
   {
    "duration": 0,
    "start_time": "2022-11-21T04:33:33.590Z"
   },
   {
    "duration": 1074,
    "start_time": "2022-11-21T04:34:35.717Z"
   },
   {
    "duration": 14313,
    "start_time": "2022-11-21T04:34:38.792Z"
   },
   {
    "duration": 15,
    "start_time": "2022-11-21T04:35:06.328Z"
   },
   {
    "duration": 16342,
    "start_time": "2022-11-21T04:37:45.366Z"
   },
   {
    "duration": 8905,
    "start_time": "2022-11-21T04:38:01.711Z"
   },
   {
    "duration": 1493,
    "start_time": "2022-11-21T04:38:10.618Z"
   },
   {
    "duration": 372,
    "start_time": "2022-11-21T04:38:12.113Z"
   },
   {
    "duration": 15871,
    "start_time": "2022-11-21T04:38:29.466Z"
   },
   {
    "duration": 8618,
    "start_time": "2022-11-21T04:38:45.379Z"
   },
   {
    "duration": 1201,
    "start_time": "2022-11-21T04:38:54.000Z"
   },
   {
    "duration": 301,
    "start_time": "2022-11-21T04:38:55.203Z"
   },
   {
    "duration": 2275,
    "start_time": "2022-11-21T04:38:55.506Z"
   },
   {
    "duration": 44512,
    "start_time": "2022-11-21T04:38:57.783Z"
   },
   {
    "duration": 3,
    "start_time": "2022-11-21T04:39:42.297Z"
   },
   {
    "duration": 102,
    "start_time": "2022-11-21T04:39:42.301Z"
   },
   {
    "duration": 74,
    "start_time": "2022-11-21T04:39:42.405Z"
   },
   {
    "duration": 3,
    "start_time": "2022-11-21T04:39:42.481Z"
   },
   {
    "duration": 25195,
    "start_time": "2022-11-21T04:39:42.486Z"
   },
   {
    "duration": 0,
    "start_time": "2022-11-21T04:40:07.684Z"
   },
   {
    "duration": 0,
    "start_time": "2022-11-21T04:40:07.690Z"
   },
   {
    "duration": 0,
    "start_time": "2022-11-21T04:40:07.690Z"
   },
   {
    "duration": 0,
    "start_time": "2022-11-21T04:40:07.692Z"
   },
   {
    "duration": 0,
    "start_time": "2022-11-21T04:40:07.694Z"
   },
   {
    "duration": 0,
    "start_time": "2022-11-21T04:40:07.695Z"
   },
   {
    "duration": 0,
    "start_time": "2022-11-21T04:40:07.697Z"
   },
   {
    "duration": 0,
    "start_time": "2022-11-21T04:40:07.699Z"
   },
   {
    "duration": 0,
    "start_time": "2022-11-21T04:40:07.700Z"
   },
   {
    "duration": 0,
    "start_time": "2022-11-21T04:40:07.702Z"
   },
   {
    "duration": 0,
    "start_time": "2022-11-21T04:40:07.777Z"
   },
   {
    "duration": 0,
    "start_time": "2022-11-21T04:40:07.780Z"
   },
   {
    "duration": 0,
    "start_time": "2022-11-21T04:40:07.781Z"
   },
   {
    "duration": 0,
    "start_time": "2022-11-21T04:40:07.784Z"
   },
   {
    "duration": 0,
    "start_time": "2022-11-21T04:40:07.787Z"
   },
   {
    "duration": 0,
    "start_time": "2022-11-21T04:40:07.788Z"
   },
   {
    "duration": 0,
    "start_time": "2022-11-21T04:40:07.790Z"
   },
   {
    "duration": 0,
    "start_time": "2022-11-21T04:40:07.792Z"
   },
   {
    "duration": 217,
    "start_time": "2022-11-21T04:40:53.890Z"
   },
   {
    "duration": 28781,
    "start_time": "2022-11-21T04:40:57.313Z"
   },
   {
    "duration": 15992,
    "start_time": "2022-11-21T04:43:33.195Z"
   },
   {
    "duration": 9213,
    "start_time": "2022-11-21T04:43:49.190Z"
   },
   {
    "duration": 204,
    "start_time": "2022-11-21T04:43:58.405Z"
   },
   {
    "duration": 2,
    "start_time": "2022-11-21T04:43:58.611Z"
   },
   {
    "duration": 101,
    "start_time": "2022-11-21T04:43:58.677Z"
   },
   {
    "duration": 0,
    "start_time": "2022-11-21T04:43:58.781Z"
   },
   {
    "duration": 0,
    "start_time": "2022-11-21T04:43:58.782Z"
   },
   {
    "duration": 0,
    "start_time": "2022-11-21T04:43:58.783Z"
   },
   {
    "duration": 0,
    "start_time": "2022-11-21T04:43:58.785Z"
   },
   {
    "duration": 0,
    "start_time": "2022-11-21T04:43:58.786Z"
   },
   {
    "duration": 0,
    "start_time": "2022-11-21T04:43:58.786Z"
   },
   {
    "duration": 0,
    "start_time": "2022-11-21T04:43:58.789Z"
   },
   {
    "duration": 0,
    "start_time": "2022-11-21T04:43:58.791Z"
   },
   {
    "duration": 0,
    "start_time": "2022-11-21T04:43:58.792Z"
   },
   {
    "duration": 0,
    "start_time": "2022-11-21T04:43:58.793Z"
   },
   {
    "duration": 0,
    "start_time": "2022-11-21T04:43:58.794Z"
   },
   {
    "duration": 0,
    "start_time": "2022-11-21T04:43:58.795Z"
   },
   {
    "duration": 0,
    "start_time": "2022-11-21T04:43:58.796Z"
   },
   {
    "duration": 0,
    "start_time": "2022-11-21T04:43:58.797Z"
   },
   {
    "duration": 0,
    "start_time": "2022-11-21T04:43:58.798Z"
   },
   {
    "duration": 0,
    "start_time": "2022-11-21T04:43:58.800Z"
   },
   {
    "duration": 0,
    "start_time": "2022-11-21T04:43:58.801Z"
   },
   {
    "duration": 0,
    "start_time": "2022-11-21T04:43:58.802Z"
   },
   {
    "duration": 0,
    "start_time": "2022-11-21T04:43:58.803Z"
   },
   {
    "duration": 0,
    "start_time": "2022-11-21T04:43:58.804Z"
   },
   {
    "duration": 0,
    "start_time": "2022-11-21T04:43:58.805Z"
   },
   {
    "duration": 0,
    "start_time": "2022-11-21T04:43:58.878Z"
   },
   {
    "duration": 0,
    "start_time": "2022-11-21T04:43:58.879Z"
   },
   {
    "duration": 0,
    "start_time": "2022-11-21T04:43:58.881Z"
   },
   {
    "duration": 0,
    "start_time": "2022-11-21T04:43:58.882Z"
   },
   {
    "duration": 16397,
    "start_time": "2022-11-21T04:44:16.783Z"
   },
   {
    "duration": 9215,
    "start_time": "2022-11-21T04:44:33.183Z"
   },
   {
    "duration": 196,
    "start_time": "2022-11-21T04:44:42.399Z"
   },
   {
    "duration": 2,
    "start_time": "2022-11-21T04:44:42.597Z"
   },
   {
    "duration": 9,
    "start_time": "2022-11-21T04:44:42.601Z"
   },
   {
    "duration": 866,
    "start_time": "2022-11-21T04:44:42.612Z"
   },
   {
    "duration": 4910,
    "start_time": "2022-11-21T04:44:43.480Z"
   },
   {
    "duration": 3,
    "start_time": "2022-11-21T04:44:48.391Z"
   },
   {
    "duration": 98,
    "start_time": "2022-11-21T04:44:48.395Z"
   },
   {
    "duration": 15,
    "start_time": "2022-11-21T04:44:48.495Z"
   },
   {
    "duration": 11193,
    "start_time": "2022-11-21T04:44:48.512Z"
   },
   {
    "duration": 4499,
    "start_time": "2022-11-21T04:44:59.706Z"
   },
   {
    "duration": 1818,
    "start_time": "2022-11-21T04:45:04.207Z"
   },
   {
    "duration": 1583,
    "start_time": "2022-11-21T04:45:06.028Z"
   },
   {
    "duration": 1426,
    "start_time": "2022-11-21T04:45:07.679Z"
   },
   {
    "duration": 783,
    "start_time": "2022-11-21T04:45:09.107Z"
   },
   {
    "duration": 18,
    "start_time": "2022-11-21T04:45:09.892Z"
   },
   {
    "duration": 4802,
    "start_time": "2022-11-21T04:45:09.979Z"
   },
   {
    "duration": 2630,
    "start_time": "2022-11-21T04:45:14.782Z"
   },
   {
    "duration": 1014,
    "start_time": "2022-11-21T04:45:17.479Z"
   },
   {
    "duration": 1004,
    "start_time": "2022-11-21T04:45:18.495Z"
   },
   {
    "duration": 84,
    "start_time": "2022-11-21T04:45:19.501Z"
   },
   {
    "duration": 2511,
    "start_time": "2022-11-21T04:45:19.586Z"
   },
   {
    "duration": 904,
    "start_time": "2022-11-21T04:45:22.099Z"
   },
   {
    "duration": 1201,
    "start_time": "2022-11-21T04:45:23.005Z"
   },
   {
    "duration": 4798,
    "start_time": "2022-11-21T04:45:24.208Z"
   },
   {
    "duration": 82,
    "start_time": "2022-11-21T04:45:29.008Z"
   },
   {
    "duration": 210,
    "start_time": "2022-11-21T04:45:29.092Z"
   },
   {
    "duration": 8918,
    "start_time": "2022-11-21T04:45:29.304Z"
   },
   {
    "duration": 855,
    "start_time": "2022-11-21T04:45:38.224Z"
   },
   {
    "duration": 16591,
    "start_time": "2022-11-21T04:49:15.011Z"
   },
   {
    "duration": 8778,
    "start_time": "2022-11-21T04:49:31.605Z"
   },
   {
    "duration": 132,
    "start_time": "2022-11-21T04:49:40.385Z"
   },
   {
    "duration": 2,
    "start_time": "2022-11-21T04:49:40.580Z"
   },
   {
    "duration": 6,
    "start_time": "2022-11-21T04:49:40.585Z"
   },
   {
    "duration": 801,
    "start_time": "2022-11-21T04:49:40.593Z"
   },
   {
    "duration": 5090,
    "start_time": "2022-11-21T04:49:41.397Z"
   },
   {
    "duration": 2,
    "start_time": "2022-11-21T04:49:46.489Z"
   },
   {
    "duration": 96,
    "start_time": "2022-11-21T04:49:46.493Z"
   },
   {
    "duration": 16,
    "start_time": "2022-11-21T04:49:46.591Z"
   },
   {
    "duration": 11405,
    "start_time": "2022-11-21T04:49:46.609Z"
   },
   {
    "duration": 4386,
    "start_time": "2022-11-21T04:49:58.015Z"
   },
   {
    "duration": 1682,
    "start_time": "2022-11-21T04:50:02.403Z"
   },
   {
    "duration": 1626,
    "start_time": "2022-11-21T04:50:04.088Z"
   },
   {
    "duration": 1419,
    "start_time": "2022-11-21T04:50:05.777Z"
   },
   {
    "duration": 803,
    "start_time": "2022-11-21T04:50:07.198Z"
   },
   {
    "duration": 80,
    "start_time": "2022-11-21T04:50:08.003Z"
   },
   {
    "duration": 4408,
    "start_time": "2022-11-21T04:50:08.085Z"
   },
   {
    "duration": 2589,
    "start_time": "2022-11-21T04:50:12.495Z"
   },
   {
    "duration": 1096,
    "start_time": "2022-11-21T04:50:15.085Z"
   },
   {
    "duration": 1226,
    "start_time": "2022-11-21T04:50:16.182Z"
   },
   {
    "duration": 75,
    "start_time": "2022-11-21T04:50:17.410Z"
   },
   {
    "duration": 2818,
    "start_time": "2022-11-21T04:50:17.487Z"
   },
   {
    "duration": 1282,
    "start_time": "2022-11-21T04:50:20.306Z"
   },
   {
    "duration": 1208,
    "start_time": "2022-11-21T04:50:21.590Z"
   },
   {
    "duration": 5085,
    "start_time": "2022-11-21T04:50:22.800Z"
   },
   {
    "duration": 17,
    "start_time": "2022-11-21T04:50:27.888Z"
   },
   {
    "duration": 274,
    "start_time": "2022-11-21T04:50:27.907Z"
   },
   {
    "duration": 9231,
    "start_time": "2022-11-21T04:50:28.183Z"
   },
   {
    "duration": 882,
    "start_time": "2022-11-21T04:50:37.416Z"
   },
   {
    "duration": 15880,
    "start_time": "2022-11-21T13:22:13.417Z"
   },
   {
    "duration": 8269,
    "start_time": "2022-11-21T13:22:29.301Z"
   },
   {
    "duration": 201,
    "start_time": "2022-11-21T13:22:37.572Z"
   },
   {
    "duration": 2,
    "start_time": "2022-11-21T13:22:37.775Z"
   },
   {
    "duration": 5,
    "start_time": "2022-11-21T13:22:37.779Z"
   },
   {
    "duration": 894,
    "start_time": "2022-11-21T13:22:37.786Z"
   },
   {
    "duration": 4786,
    "start_time": "2022-11-21T13:22:38.682Z"
   },
   {
    "duration": 2,
    "start_time": "2022-11-21T13:22:43.470Z"
   },
   {
    "duration": 99,
    "start_time": "2022-11-21T13:22:43.474Z"
   },
   {
    "duration": 53,
    "start_time": "2022-11-21T13:31:29.821Z"
   },
   {
    "duration": 123,
    "start_time": "2022-11-21T13:31:43.660Z"
   },
   {
    "duration": 16,
    "start_time": "2022-11-21T13:31:51.103Z"
   },
   {
    "duration": 873,
    "start_time": "2022-11-21T13:31:56.528Z"
   },
   {
    "duration": 108,
    "start_time": "2022-11-21T14:16:14.589Z"
   },
   {
    "duration": 9,
    "start_time": "2022-11-21T14:16:18.643Z"
   },
   {
    "duration": 32,
    "start_time": "2022-11-21T14:25:31.065Z"
   },
   {
    "duration": 22,
    "start_time": "2022-11-21T14:25:35.424Z"
   },
   {
    "duration": 575,
    "start_time": "2022-11-21T14:25:40.491Z"
   },
   {
    "duration": 15,
    "start_time": "2022-11-21T14:26:06.974Z"
   },
   {
    "duration": 40,
    "start_time": "2022-11-21T14:26:25.042Z"
   },
   {
    "duration": 14,
    "start_time": "2022-11-21T14:27:47.998Z"
   },
   {
    "duration": 27,
    "start_time": "2022-11-21T14:33:12.225Z"
   },
   {
    "duration": 42,
    "start_time": "2022-11-21T14:35:21.860Z"
   },
   {
    "duration": 30,
    "start_time": "2022-11-21T14:36:20.942Z"
   },
   {
    "duration": 161,
    "start_time": "2022-11-21T14:56:17.898Z"
   },
   {
    "duration": 16749,
    "start_time": "2022-11-22T08:15:14.565Z"
   },
   {
    "duration": 9091,
    "start_time": "2022-11-22T08:15:31.317Z"
   },
   {
    "duration": 205,
    "start_time": "2022-11-22T08:15:40.410Z"
   },
   {
    "duration": 3,
    "start_time": "2022-11-22T08:15:40.617Z"
   },
   {
    "duration": 4,
    "start_time": "2022-11-22T08:15:40.698Z"
   },
   {
    "duration": 825,
    "start_time": "2022-11-22T08:15:40.703Z"
   },
   {
    "duration": 5275,
    "start_time": "2022-11-22T08:15:41.530Z"
   },
   {
    "duration": 3,
    "start_time": "2022-11-22T08:15:46.807Z"
   },
   {
    "duration": 103,
    "start_time": "2022-11-22T08:15:46.811Z"
   },
   {
    "duration": 132,
    "start_time": "2022-11-22T08:15:46.917Z"
   },
   {
    "duration": 0,
    "start_time": "2022-11-22T08:15:47.051Z"
   },
   {
    "duration": 0,
    "start_time": "2022-11-22T08:15:47.052Z"
   },
   {
    "duration": 0,
    "start_time": "2022-11-22T08:15:47.053Z"
   },
   {
    "duration": 0,
    "start_time": "2022-11-22T08:15:47.055Z"
   },
   {
    "duration": 1,
    "start_time": "2022-11-22T08:15:47.055Z"
   },
   {
    "duration": 0,
    "start_time": "2022-11-22T08:15:47.097Z"
   },
   {
    "duration": 0,
    "start_time": "2022-11-22T08:15:47.098Z"
   },
   {
    "duration": 0,
    "start_time": "2022-11-22T08:15:47.099Z"
   },
   {
    "duration": 0,
    "start_time": "2022-11-22T08:15:47.100Z"
   },
   {
    "duration": 0,
    "start_time": "2022-11-22T08:15:47.102Z"
   },
   {
    "duration": 0,
    "start_time": "2022-11-22T08:15:47.103Z"
   },
   {
    "duration": 0,
    "start_time": "2022-11-22T08:15:47.104Z"
   },
   {
    "duration": 2,
    "start_time": "2022-11-22T08:16:09.888Z"
   },
   {
    "duration": 2,
    "start_time": "2022-11-22T08:16:10.139Z"
   },
   {
    "duration": 3,
    "start_time": "2022-11-22T08:16:10.363Z"
   },
   {
    "duration": 3,
    "start_time": "2022-11-22T08:16:10.611Z"
   },
   {
    "duration": 19,
    "start_time": "2022-11-22T08:16:11.222Z"
   },
   {
    "duration": 11251,
    "start_time": "2022-11-22T08:16:11.993Z"
   },
   {
    "duration": 4481,
    "start_time": "2022-11-22T08:16:23.246Z"
   },
   {
    "duration": 1588,
    "start_time": "2022-11-22T08:16:27.729Z"
   },
   {
    "duration": 1691,
    "start_time": "2022-11-22T08:16:29.319Z"
   },
   {
    "duration": 1413,
    "start_time": "2022-11-22T08:16:31.012Z"
   },
   {
    "duration": 787,
    "start_time": "2022-11-22T08:16:32.427Z"
   },
   {
    "duration": 90,
    "start_time": "2022-11-22T08:16:33.216Z"
   },
   {
    "duration": 5096,
    "start_time": "2022-11-22T08:16:33.308Z"
   },
   {
    "duration": 2911,
    "start_time": "2022-11-22T08:16:38.406Z"
   },
   {
    "duration": 1182,
    "start_time": "2022-11-22T08:16:41.319Z"
   },
   {
    "duration": 1121,
    "start_time": "2022-11-22T08:16:42.503Z"
   },
   {
    "duration": 928,
    "start_time": "2022-11-22T08:17:32.184Z"
   },
   {
    "duration": 1126,
    "start_time": "2022-11-22T08:23:43.296Z"
   },
   {
    "duration": 841,
    "start_time": "2022-11-22T08:27:08.565Z"
   },
   {
    "duration": 11,
    "start_time": "2022-11-22T08:27:34.664Z"
   },
   {
    "duration": 8,
    "start_time": "2022-11-22T08:27:48.833Z"
   },
   {
    "duration": 15719,
    "start_time": "2022-11-22T08:32:50.196Z"
   },
   {
    "duration": 8613,
    "start_time": "2022-11-22T08:33:05.918Z"
   },
   {
    "duration": 187,
    "start_time": "2022-11-22T08:33:14.533Z"
   },
   {
    "duration": 3,
    "start_time": "2022-11-22T08:33:14.721Z"
   },
   {
    "duration": 7,
    "start_time": "2022-11-22T08:33:14.727Z"
   },
   {
    "duration": 776,
    "start_time": "2022-11-22T08:33:14.736Z"
   },
   {
    "duration": 4689,
    "start_time": "2022-11-22T08:33:15.514Z"
   },
   {
    "duration": 3,
    "start_time": "2022-11-22T08:33:20.204Z"
   },
   {
    "duration": 38,
    "start_time": "2022-11-22T08:33:20.209Z"
   },
   {
    "duration": 1148,
    "start_time": "2022-11-22T08:36:54.349Z"
   },
   {
    "duration": 183,
    "start_time": "2022-11-22T08:37:01.342Z"
   },
   {
    "duration": 84,
    "start_time": "2022-11-22T08:37:05.332Z"
   },
   {
    "duration": 11,
    "start_time": "2022-11-22T08:37:12.210Z"
   },
   {
    "duration": 8,
    "start_time": "2022-11-22T08:37:41.855Z"
   },
   {
    "duration": 860,
    "start_time": "2022-11-22T08:37:46.353Z"
   },
   {
    "duration": 31,
    "start_time": "2022-11-22T08:37:48.045Z"
   },
   {
    "duration": 2,
    "start_time": "2022-11-22T08:37:48.190Z"
   },
   {
    "duration": 2,
    "start_time": "2022-11-22T08:37:48.517Z"
   },
   {
    "duration": 151,
    "start_time": "2022-11-22T08:37:48.678Z"
   },
   {
    "duration": 1517,
    "start_time": "2022-11-22T08:37:48.896Z"
   },
   {
    "duration": 3,
    "start_time": "2022-11-22T08:37:50.415Z"
   },
   {
    "duration": 18,
    "start_time": "2022-11-22T08:37:50.420Z"
   },
   {
    "duration": 71,
    "start_time": "2022-11-22T08:37:50.441Z"
   },
   {
    "duration": 80,
    "start_time": "2022-11-22T08:38:01.154Z"
   },
   {
    "duration": 8,
    "start_time": "2022-11-22T08:38:26.026Z"
   },
   {
    "duration": 3,
    "start_time": "2022-11-22T08:38:42.084Z"
   },
   {
    "duration": 178,
    "start_time": "2022-11-22T08:38:43.243Z"
   },
   {
    "duration": 22,
    "start_time": "2022-11-22T08:39:38.230Z"
   },
   {
    "duration": 36,
    "start_time": "2022-11-22T08:39:51.804Z"
   },
   {
    "duration": 12,
    "start_time": "2022-11-22T08:40:10.868Z"
   },
   {
    "duration": 14,
    "start_time": "2022-11-22T08:40:34.945Z"
   },
   {
    "duration": 8,
    "start_time": "2022-11-22T08:40:48.566Z"
   },
   {
    "duration": 8054,
    "start_time": "2022-11-22T08:41:04.355Z"
   },
   {
    "duration": 3,
    "start_time": "2022-11-22T08:41:14.753Z"
   },
   {
    "duration": 113,
    "start_time": "2022-11-22T08:41:16.526Z"
   },
   {
    "duration": 102,
    "start_time": "2022-11-22T08:42:03.805Z"
   },
   {
    "duration": 128,
    "start_time": "2022-11-22T08:42:23.281Z"
   },
   {
    "duration": 95,
    "start_time": "2022-11-22T08:42:39.832Z"
   },
   {
    "duration": 125,
    "start_time": "2022-11-22T08:42:51.029Z"
   },
   {
    "duration": 123,
    "start_time": "2022-11-22T08:43:10.031Z"
   },
   {
    "duration": 205,
    "start_time": "2022-11-22T08:43:30.593Z"
   },
   {
    "duration": 15999,
    "start_time": "2022-11-22T08:44:26.113Z"
   },
   {
    "duration": 8905,
    "start_time": "2022-11-22T08:44:42.115Z"
   },
   {
    "duration": 198,
    "start_time": "2022-11-22T08:44:51.022Z"
   },
   {
    "duration": 3,
    "start_time": "2022-11-22T08:44:51.222Z"
   },
   {
    "duration": 8,
    "start_time": "2022-11-22T08:44:51.227Z"
   },
   {
    "duration": 784,
    "start_time": "2022-11-22T08:44:51.237Z"
   },
   {
    "duration": 4983,
    "start_time": "2022-11-22T08:44:52.022Z"
   },
   {
    "duration": 3,
    "start_time": "2022-11-22T08:44:57.006Z"
   },
   {
    "duration": 96,
    "start_time": "2022-11-22T08:44:57.011Z"
   },
   {
    "duration": 88,
    "start_time": "2022-11-22T08:45:20.983Z"
   },
   {
    "duration": 3,
    "start_time": "2022-11-22T08:45:41.630Z"
   },
   {
    "duration": 2419,
    "start_time": "2022-11-22T08:45:43.283Z"
   },
   {
    "duration": 207,
    "start_time": "2022-11-22T08:46:08.711Z"
   },
   {
    "duration": 177,
    "start_time": "2022-11-22T08:46:28.262Z"
   },
   {
    "duration": 205,
    "start_time": "2022-11-22T08:46:53.708Z"
   },
   {
    "duration": 8,
    "start_time": "2022-11-22T08:47:24.843Z"
   },
   {
    "duration": 163,
    "start_time": "2022-11-22T08:48:36.566Z"
   },
   {
    "duration": 233,
    "start_time": "2022-11-22T08:49:42.868Z"
   },
   {
    "duration": 189,
    "start_time": "2022-11-22T08:49:47.220Z"
   },
   {
    "duration": 753,
    "start_time": "2022-11-22T08:49:55.054Z"
   },
   {
    "duration": 599,
    "start_time": "2022-11-22T08:50:01.237Z"
   },
   {
    "duration": 207,
    "start_time": "2022-11-22T08:50:58.344Z"
   },
   {
    "duration": 615,
    "start_time": "2022-11-22T08:51:04.903Z"
   },
   {
    "duration": 114,
    "start_time": "2022-11-22T08:52:16.624Z"
   },
   {
    "duration": 26,
    "start_time": "2022-11-22T08:52:25.137Z"
   },
   {
    "duration": 889,
    "start_time": "2022-11-22T08:52:31.227Z"
   },
   {
    "duration": 172,
    "start_time": "2022-11-22T08:53:06.444Z"
   },
   {
    "duration": 172,
    "start_time": "2022-11-22T08:53:48.140Z"
   },
   {
    "duration": 566,
    "start_time": "2022-11-22T08:53:54.254Z"
   },
   {
    "duration": 502,
    "start_time": "2022-11-22T08:54:27.017Z"
   },
   {
    "duration": 527,
    "start_time": "2022-11-22T08:56:52.299Z"
   },
   {
    "duration": 16523,
    "start_time": "2022-11-22T08:57:06.574Z"
   },
   {
    "duration": 9324,
    "start_time": "2022-11-22T08:57:23.100Z"
   },
   {
    "duration": 286,
    "start_time": "2022-11-22T08:57:32.426Z"
   },
   {
    "duration": 3,
    "start_time": "2022-11-22T08:57:32.714Z"
   },
   {
    "duration": 22,
    "start_time": "2022-11-22T08:57:32.720Z"
   },
   {
    "duration": 720,
    "start_time": "2022-11-22T08:57:32.795Z"
   },
   {
    "duration": 5696,
    "start_time": "2022-11-22T08:57:33.517Z"
   },
   {
    "duration": 3,
    "start_time": "2022-11-22T08:57:39.215Z"
   },
   {
    "duration": 115,
    "start_time": "2022-11-22T08:57:39.220Z"
   },
   {
    "duration": 88,
    "start_time": "2022-11-22T08:58:30.218Z"
   },
   {
    "duration": 11,
    "start_time": "2022-11-22T08:58:37.919Z"
   },
   {
    "duration": 2547,
    "start_time": "2022-11-22T08:58:45.670Z"
   },
   {
    "duration": 44,
    "start_time": "2022-11-22T09:00:44.863Z"
   },
   {
    "duration": 1506,
    "start_time": "2022-11-22T09:00:46.104Z"
   },
   {
    "duration": 15,
    "start_time": "2022-11-22T09:01:48.031Z"
   },
   {
    "duration": 12158,
    "start_time": "2022-11-22T09:01:48.520Z"
   },
   {
    "duration": 4833,
    "start_time": "2022-11-22T09:02:00.680Z"
   },
   {
    "duration": 1659,
    "start_time": "2022-11-22T09:02:05.516Z"
   },
   {
    "duration": 1445,
    "start_time": "2022-11-22T09:02:07.177Z"
   },
   {
    "duration": 125,
    "start_time": "2022-11-22T09:03:55.092Z"
   },
   {
    "duration": 16417,
    "start_time": "2022-11-22T09:04:17.923Z"
   },
   {
    "duration": 8908,
    "start_time": "2022-11-22T09:04:34.396Z"
   },
   {
    "duration": 221,
    "start_time": "2022-11-22T09:04:43.306Z"
   },
   {
    "duration": 3,
    "start_time": "2022-11-22T09:04:43.529Z"
   },
   {
    "duration": 3,
    "start_time": "2022-11-22T09:04:43.597Z"
   },
   {
    "duration": 907,
    "start_time": "2022-11-22T09:04:43.602Z"
   },
   {
    "duration": 5216,
    "start_time": "2022-11-22T09:04:44.510Z"
   },
   {
    "duration": 3,
    "start_time": "2022-11-22T09:04:49.728Z"
   },
   {
    "duration": 93,
    "start_time": "2022-11-22T09:04:49.733Z"
   },
   {
    "duration": 97,
    "start_time": "2022-11-22T09:04:49.828Z"
   },
   {
    "duration": 2672,
    "start_time": "2022-11-22T09:04:49.927Z"
   },
   {
    "duration": 18,
    "start_time": "2022-11-22T09:04:52.600Z"
   },
   {
    "duration": 12423,
    "start_time": "2022-11-22T09:04:52.620Z"
   },
   {
    "duration": 5282,
    "start_time": "2022-11-22T09:05:05.045Z"
   },
   {
    "duration": 1775,
    "start_time": "2022-11-22T09:05:10.330Z"
   },
   {
    "duration": 1696,
    "start_time": "2022-11-22T09:05:12.107Z"
   },
   {
    "duration": 1284,
    "start_time": "2022-11-22T09:05:24.049Z"
   },
   {
    "duration": 786,
    "start_time": "2022-11-22T09:05:25.335Z"
   },
   {
    "duration": 89,
    "start_time": "2022-11-22T09:05:26.124Z"
   },
   {
    "duration": 4804,
    "start_time": "2022-11-22T09:05:26.216Z"
   },
   {
    "duration": 2504,
    "start_time": "2022-11-22T09:05:31.022Z"
   },
   {
    "duration": 1186,
    "start_time": "2022-11-22T09:05:33.528Z"
   },
   {
    "duration": 1011,
    "start_time": "2022-11-22T09:05:34.716Z"
   },
   {
    "duration": 12,
    "start_time": "2022-11-22T09:05:35.797Z"
   },
   {
    "duration": 72,
    "start_time": "2022-11-22T11:07:08.934Z"
   },
   {
    "duration": 20774,
    "start_time": "2022-11-22T11:10:51.020Z"
   },
   {
    "duration": 8814,
    "start_time": "2022-11-22T11:11:11.796Z"
   },
   {
    "duration": 2,
    "start_time": "2022-11-22T11:11:20.612Z"
   },
   {
    "duration": 1277,
    "start_time": "2022-11-22T11:11:20.616Z"
   },
   {
    "duration": 306,
    "start_time": "2022-11-22T11:11:21.895Z"
   },
   {
    "duration": 1988,
    "start_time": "2022-11-22T11:11:22.203Z"
   },
   {
    "duration": 40092,
    "start_time": "2022-11-22T11:11:24.192Z"
   },
   {
    "duration": 2,
    "start_time": "2022-11-22T11:12:04.285Z"
   },
   {
    "duration": 97,
    "start_time": "2022-11-22T11:12:04.289Z"
   },
   {
    "duration": 89,
    "start_time": "2022-11-22T11:12:04.389Z"
   },
   {
    "duration": 17,
    "start_time": "2022-11-22T11:12:04.480Z"
   },
   {
    "duration": 16980,
    "start_time": "2022-11-22T11:12:04.499Z"
   },
   {
    "duration": 15,
    "start_time": "2022-11-22T11:12:21.481Z"
   },
   {
    "duration": 292970,
    "start_time": "2022-11-22T11:12:21.498Z"
   },
   {
    "duration": 31423,
    "start_time": "2022-11-22T11:17:14.470Z"
   },
   {
    "duration": 19498,
    "start_time": "2022-11-22T12:28:52.992Z"
   },
   {
    "duration": 8922,
    "start_time": "2022-11-22T12:29:12.493Z"
   },
   {
    "duration": 3,
    "start_time": "2022-11-22T12:29:21.416Z"
   },
   {
    "duration": 1323,
    "start_time": "2022-11-22T12:29:21.479Z"
   },
   {
    "duration": 298,
    "start_time": "2022-11-22T12:29:22.803Z"
   },
   {
    "duration": 2082,
    "start_time": "2022-11-22T12:29:23.103Z"
   },
   {
    "duration": 49593,
    "start_time": "2022-11-22T12:29:25.187Z"
   },
   {
    "duration": 4,
    "start_time": "2022-11-22T12:30:14.782Z"
   },
   {
    "duration": 115,
    "start_time": "2022-11-22T12:30:14.788Z"
   },
   {
    "duration": 102,
    "start_time": "2022-11-22T12:30:14.907Z"
   },
   {
    "duration": 20,
    "start_time": "2022-11-22T12:30:15.077Z"
   },
   {
    "duration": 20699,
    "start_time": "2022-11-22T12:30:15.100Z"
   },
   {
    "duration": 77,
    "start_time": "2022-11-22T12:30:35.801Z"
   },
   {
    "duration": 15968,
    "start_time": "2022-11-22T12:31:37.752Z"
   },
   {
    "duration": 8818,
    "start_time": "2022-11-22T12:31:53.777Z"
   },
   {
    "duration": 2,
    "start_time": "2022-11-22T12:32:02.596Z"
   },
   {
    "duration": 1384,
    "start_time": "2022-11-22T12:32:02.601Z"
   },
   {
    "duration": 323,
    "start_time": "2022-11-22T12:32:03.987Z"
   },
   {
    "duration": 1795,
    "start_time": "2022-11-22T12:32:04.312Z"
   },
   {
    "duration": 44994,
    "start_time": "2022-11-22T12:32:06.109Z"
   },
   {
    "duration": 2,
    "start_time": "2022-11-22T12:32:51.105Z"
   },
   {
    "duration": 172,
    "start_time": "2022-11-22T12:32:51.109Z"
   },
   {
    "duration": 103,
    "start_time": "2022-11-22T12:32:51.283Z"
   },
   {
    "duration": 19,
    "start_time": "2022-11-22T12:32:51.388Z"
   },
   {
    "duration": 16244,
    "start_time": "2022-11-22T12:32:51.479Z"
   },
   {
    "duration": 3,
    "start_time": "2022-11-22T12:33:07.725Z"
   },
   {
    "duration": 219208,
    "start_time": "2022-11-22T12:33:07.729Z"
   },
   {
    "duration": 26965,
    "start_time": "2022-11-22T12:36:46.939Z"
   },
   {
    "duration": 20628,
    "start_time": "2022-11-22T12:38:00.326Z"
   },
   {
    "duration": 9040,
    "start_time": "2022-11-22T12:38:20.957Z"
   },
   {
    "duration": 3,
    "start_time": "2022-11-22T12:38:29.999Z"
   },
   {
    "duration": 1094,
    "start_time": "2022-11-22T12:38:30.004Z"
   },
   {
    "duration": 294,
    "start_time": "2022-11-22T12:38:31.100Z"
   },
   {
    "duration": 2290,
    "start_time": "2022-11-22T12:38:31.396Z"
   },
   {
    "duration": 44010,
    "start_time": "2022-11-22T12:38:33.688Z"
   },
   {
    "duration": 3,
    "start_time": "2022-11-22T12:39:17.701Z"
   },
   {
    "duration": 99,
    "start_time": "2022-11-22T12:39:17.706Z"
   },
   {
    "duration": 94,
    "start_time": "2022-11-22T12:39:17.808Z"
   },
   {
    "duration": 89,
    "start_time": "2022-11-22T12:39:17.904Z"
   },
   {
    "duration": 23409,
    "start_time": "2022-11-22T12:39:17.995Z"
   },
   {
    "duration": 2,
    "start_time": "2022-11-22T12:39:41.407Z"
   },
   {
    "duration": 311454,
    "start_time": "2022-11-22T12:39:41.412Z"
   },
   {
    "duration": 25847,
    "start_time": "2022-11-22T12:44:52.877Z"
   },
   {
    "duration": 20539,
    "start_time": "2022-11-22T12:50:36.435Z"
   },
   {
    "duration": 9425,
    "start_time": "2022-11-22T12:50:56.976Z"
   },
   {
    "duration": 3,
    "start_time": "2022-11-22T12:51:06.403Z"
   },
   {
    "duration": 1285,
    "start_time": "2022-11-22T12:51:06.409Z"
   },
   {
    "duration": 404,
    "start_time": "2022-11-22T12:51:07.695Z"
   },
   {
    "duration": 2296,
    "start_time": "2022-11-22T12:51:08.101Z"
   },
   {
    "duration": 38596,
    "start_time": "2022-11-22T12:51:10.399Z"
   },
   {
    "duration": 4,
    "start_time": "2022-11-22T12:51:48.996Z"
   },
   {
    "duration": 16,
    "start_time": "2022-11-22T12:51:49.001Z"
   },
   {
    "duration": 158,
    "start_time": "2022-11-22T12:51:49.020Z"
   },
   {
    "duration": 20,
    "start_time": "2022-11-22T12:51:49.180Z"
   },
   {
    "duration": 75,
    "start_time": "2022-11-22T12:51:49.203Z"
   },
   {
    "duration": 4,
    "start_time": "2022-11-22T12:51:49.280Z"
   },
   {
    "duration": 5,
    "start_time": "2022-11-22T12:51:49.286Z"
   },
   {
    "duration": 125038,
    "start_time": "2022-11-22T12:51:49.293Z"
   },
   {
    "duration": 101347,
    "start_time": "2022-11-22T12:53:54.333Z"
   },
   {
    "duration": 20392,
    "start_time": "2022-11-22T12:55:50.871Z"
   },
   {
    "duration": 9030,
    "start_time": "2022-11-22T12:56:11.266Z"
   },
   {
    "duration": 2,
    "start_time": "2022-11-22T12:56:20.298Z"
   },
   {
    "duration": 1085,
    "start_time": "2022-11-22T12:56:20.302Z"
   },
   {
    "duration": 302,
    "start_time": "2022-11-22T12:56:21.389Z"
   },
   {
    "duration": 2018,
    "start_time": "2022-11-22T12:56:21.692Z"
   },
   {
    "duration": 44602,
    "start_time": "2022-11-22T12:56:23.777Z"
   },
   {
    "duration": 3,
    "start_time": "2022-11-22T12:57:08.381Z"
   },
   {
    "duration": 26,
    "start_time": "2022-11-22T12:57:08.385Z"
   },
   {
    "duration": 90,
    "start_time": "2022-11-22T12:57:08.414Z"
   },
   {
    "duration": 82,
    "start_time": "2022-11-22T12:57:08.507Z"
   },
   {
    "duration": 68,
    "start_time": "2022-11-22T12:57:08.591Z"
   },
   {
    "duration": 0,
    "start_time": "2022-11-22T12:57:08.660Z"
   },
   {
    "duration": 0,
    "start_time": "2022-11-22T12:57:08.662Z"
   },
   {
    "duration": 0,
    "start_time": "2022-11-22T12:57:08.663Z"
   },
   {
    "duration": 0,
    "start_time": "2022-11-22T12:57:08.664Z"
   },
   {
    "duration": 0,
    "start_time": "2022-11-22T12:57:08.665Z"
   },
   {
    "duration": 0,
    "start_time": "2022-11-22T12:57:08.667Z"
   },
   {
    "duration": 0,
    "start_time": "2022-11-22T12:57:08.667Z"
   },
   {
    "duration": 0,
    "start_time": "2022-11-22T12:57:08.669Z"
   },
   {
    "duration": 0,
    "start_time": "2022-11-22T12:57:08.669Z"
   },
   {
    "duration": 0,
    "start_time": "2022-11-22T12:57:08.671Z"
   },
   {
    "duration": 0,
    "start_time": "2022-11-22T12:57:08.672Z"
   },
   {
    "duration": 1,
    "start_time": "2022-11-22T12:57:08.673Z"
   },
   {
    "duration": 0,
    "start_time": "2022-11-22T12:57:08.674Z"
   },
   {
    "duration": 0,
    "start_time": "2022-11-22T12:57:08.677Z"
   },
   {
    "duration": 0,
    "start_time": "2022-11-22T12:57:08.678Z"
   },
   {
    "duration": 0,
    "start_time": "2022-11-22T12:57:08.679Z"
   },
   {
    "duration": 0,
    "start_time": "2022-11-22T12:57:08.680Z"
   },
   {
    "duration": 1,
    "start_time": "2022-11-22T12:57:08.681Z"
   },
   {
    "duration": 0,
    "start_time": "2022-11-22T12:57:08.683Z"
   },
   {
    "duration": 0,
    "start_time": "2022-11-22T12:57:08.684Z"
   },
   {
    "duration": 0,
    "start_time": "2022-11-22T12:57:08.685Z"
   },
   {
    "duration": 0,
    "start_time": "2022-11-22T12:57:08.687Z"
   },
   {
    "duration": 0,
    "start_time": "2022-11-22T12:57:08.688Z"
   },
   {
    "duration": 88,
    "start_time": "2022-11-22T12:57:48.647Z"
   },
   {
    "duration": 161,
    "start_time": "2022-11-22T12:59:21.968Z"
   },
   {
    "duration": 14,
    "start_time": "2022-11-22T13:00:02.008Z"
   },
   {
    "duration": 5,
    "start_time": "2022-11-22T13:00:05.129Z"
   },
   {
    "duration": 64844,
    "start_time": "2022-11-22T13:00:10.272Z"
   },
   {
    "duration": 20337,
    "start_time": "2022-11-22T13:45:16.135Z"
   },
   {
    "duration": 10305,
    "start_time": "2022-11-22T13:45:36.474Z"
   },
   {
    "duration": 3,
    "start_time": "2022-11-22T13:45:46.781Z"
   },
   {
    "duration": 1912,
    "start_time": "2022-11-22T13:45:46.786Z"
   },
   {
    "duration": 394,
    "start_time": "2022-11-22T13:45:48.700Z"
   },
   {
    "duration": 2394,
    "start_time": "2022-11-22T13:45:49.096Z"
   },
   {
    "duration": 48189,
    "start_time": "2022-11-22T13:45:51.492Z"
   },
   {
    "duration": 3,
    "start_time": "2022-11-22T13:46:39.683Z"
   },
   {
    "duration": 10,
    "start_time": "2022-11-22T13:46:39.687Z"
   },
   {
    "duration": 94,
    "start_time": "2022-11-22T13:46:39.700Z"
   },
   {
    "duration": 82,
    "start_time": "2022-11-22T13:46:39.796Z"
   },
   {
    "duration": 7,
    "start_time": "2022-11-22T13:46:39.880Z"
   },
   {
    "duration": 14,
    "start_time": "2022-11-22T13:46:39.888Z"
   },
   {
    "duration": 22,
    "start_time": "2022-11-22T13:46:39.904Z"
   },
   {
    "duration": 16246,
    "start_time": "2022-11-22T13:50:18.534Z"
   },
   {
    "duration": 8709,
    "start_time": "2022-11-22T13:50:34.782Z"
   },
   {
    "duration": 2,
    "start_time": "2022-11-22T13:50:43.493Z"
   },
   {
    "duration": 1608,
    "start_time": "2022-11-22T13:50:43.497Z"
   },
   {
    "duration": 373,
    "start_time": "2022-11-22T13:50:45.108Z"
   },
   {
    "duration": 2495,
    "start_time": "2022-11-22T13:50:45.483Z"
   },
   {
    "duration": 45828,
    "start_time": "2022-11-22T13:50:47.980Z"
   },
   {
    "duration": 2,
    "start_time": "2022-11-22T13:51:33.810Z"
   },
   {
    "duration": 65,
    "start_time": "2022-11-22T13:51:33.814Z"
   },
   {
    "duration": 125,
    "start_time": "2022-11-22T13:51:33.881Z"
   },
   {
    "duration": 91,
    "start_time": "2022-11-22T13:51:34.008Z"
   },
   {
    "duration": 78,
    "start_time": "2022-11-22T13:51:34.101Z"
   },
   {
    "duration": 3,
    "start_time": "2022-11-22T13:51:34.181Z"
   },
   {
    "duration": 7,
    "start_time": "2022-11-22T13:51:34.187Z"
   },
   {
    "duration": 16558,
    "start_time": "2022-11-22T13:52:55.520Z"
   },
   {
    "duration": 9939,
    "start_time": "2022-11-22T13:53:12.081Z"
   },
   {
    "duration": 58,
    "start_time": "2022-11-22T13:53:22.021Z"
   },
   {
    "duration": 1316,
    "start_time": "2022-11-22T13:53:22.082Z"
   },
   {
    "duration": 387,
    "start_time": "2022-11-22T13:53:23.400Z"
   },
   {
    "duration": 2200,
    "start_time": "2022-11-22T13:53:23.788Z"
   },
   {
    "duration": 51199,
    "start_time": "2022-11-22T13:53:25.990Z"
   },
   {
    "duration": 3,
    "start_time": "2022-11-22T13:54:17.191Z"
   },
   {
    "duration": 13,
    "start_time": "2022-11-22T13:54:17.196Z"
   },
   {
    "duration": 166,
    "start_time": "2022-11-22T13:54:17.212Z"
   },
   {
    "duration": 19,
    "start_time": "2022-11-22T13:54:17.381Z"
   },
   {
    "duration": 78,
    "start_time": "2022-11-22T13:54:17.402Z"
   },
   {
    "duration": 9,
    "start_time": "2022-11-22T13:54:17.482Z"
   },
   {
    "duration": 20,
    "start_time": "2022-11-22T13:54:17.493Z"
   },
   {
    "duration": 279022,
    "start_time": "2022-11-22T13:54:17.515Z"
   },
   {
    "duration": 93470,
    "start_time": "2022-11-22T13:58:56.538Z"
   },
   {
    "duration": 49,
    "start_time": "2022-11-22T14:03:07.067Z"
   },
   {
    "duration": 15216,
    "start_time": "2022-11-22T19:09:23.448Z"
   },
   {
    "duration": 7790,
    "start_time": "2022-11-22T19:09:38.666Z"
   },
   {
    "duration": 2,
    "start_time": "2022-11-22T19:09:46.457Z"
   },
   {
    "duration": 1709,
    "start_time": "2022-11-22T19:09:46.461Z"
   },
   {
    "duration": 218,
    "start_time": "2022-11-22T19:09:48.227Z"
   },
   {
    "duration": 2008,
    "start_time": "2022-11-22T19:09:48.447Z"
   },
   {
    "duration": 35799,
    "start_time": "2022-11-22T19:09:50.457Z"
   },
   {
    "duration": 2,
    "start_time": "2022-11-22T19:10:26.258Z"
   },
   {
    "duration": 7,
    "start_time": "2022-11-22T19:10:26.261Z"
   },
   {
    "duration": 77,
    "start_time": "2022-11-22T19:10:26.270Z"
   },
   {
    "duration": 14,
    "start_time": "2022-11-22T19:10:26.348Z"
   },
   {
    "duration": 63,
    "start_time": "2022-11-22T19:10:26.364Z"
   },
   {
    "duration": 2,
    "start_time": "2022-11-22T19:10:26.429Z"
   },
   {
    "duration": 13,
    "start_time": "2022-11-22T19:10:26.433Z"
   },
   {
    "duration": 197030,
    "start_time": "2022-11-22T19:10:26.447Z"
   },
   {
    "duration": 78231,
    "start_time": "2022-11-22T19:13:43.478Z"
   },
   {
    "duration": 15955,
    "start_time": "2022-11-22T19:15:43.581Z"
   },
   {
    "duration": 8236,
    "start_time": "2022-11-22T19:15:59.539Z"
   },
   {
    "duration": 74,
    "start_time": "2022-11-22T19:16:07.777Z"
   },
   {
    "duration": 0,
    "start_time": "2022-11-22T19:16:07.857Z"
   },
   {
    "duration": 0,
    "start_time": "2022-11-22T19:16:07.859Z"
   },
   {
    "duration": 0,
    "start_time": "2022-11-22T19:16:07.860Z"
   },
   {
    "duration": 0,
    "start_time": "2022-11-22T19:16:07.861Z"
   },
   {
    "duration": 0,
    "start_time": "2022-11-22T19:16:07.863Z"
   },
   {
    "duration": 0,
    "start_time": "2022-11-22T19:16:07.864Z"
   },
   {
    "duration": 0,
    "start_time": "2022-11-22T19:16:07.866Z"
   },
   {
    "duration": 0,
    "start_time": "2022-11-22T19:16:07.867Z"
   },
   {
    "duration": 0,
    "start_time": "2022-11-22T19:16:07.869Z"
   },
   {
    "duration": 0,
    "start_time": "2022-11-22T19:16:07.870Z"
   },
   {
    "duration": 0,
    "start_time": "2022-11-22T19:16:07.872Z"
   },
   {
    "duration": 0,
    "start_time": "2022-11-22T19:16:07.873Z"
   },
   {
    "duration": 0,
    "start_time": "2022-11-22T19:16:07.874Z"
   },
   {
    "duration": 0,
    "start_time": "2022-11-22T19:16:07.876Z"
   },
   {
    "duration": 0,
    "start_time": "2022-11-22T19:16:07.877Z"
   },
   {
    "duration": 0,
    "start_time": "2022-11-22T19:16:07.879Z"
   },
   {
    "duration": 0,
    "start_time": "2022-11-22T19:16:07.880Z"
   },
   {
    "duration": 0,
    "start_time": "2022-11-22T19:16:07.881Z"
   },
   {
    "duration": 0,
    "start_time": "2022-11-22T19:16:07.883Z"
   },
   {
    "duration": 0,
    "start_time": "2022-11-22T19:16:07.885Z"
   },
   {
    "duration": 0,
    "start_time": "2022-11-22T19:16:07.889Z"
   },
   {
    "duration": 0,
    "start_time": "2022-11-22T19:16:07.890Z"
   },
   {
    "duration": 0,
    "start_time": "2022-11-22T19:16:07.892Z"
   },
   {
    "duration": 0,
    "start_time": "2022-11-22T19:16:07.927Z"
   },
   {
    "duration": 0,
    "start_time": "2022-11-22T19:16:07.929Z"
   },
   {
    "duration": 0,
    "start_time": "2022-11-22T19:16:07.930Z"
   },
   {
    "duration": 0,
    "start_time": "2022-11-22T19:16:07.931Z"
   },
   {
    "duration": 0,
    "start_time": "2022-11-22T19:16:07.932Z"
   },
   {
    "duration": 0,
    "start_time": "2022-11-22T19:16:07.933Z"
   },
   {
    "duration": 0,
    "start_time": "2022-11-22T19:16:07.934Z"
   },
   {
    "duration": 0,
    "start_time": "2022-11-22T19:16:07.936Z"
   },
   {
    "duration": 15882,
    "start_time": "2022-11-22T19:17:02.985Z"
   },
   {
    "duration": 8858,
    "start_time": "2022-11-22T19:17:18.869Z"
   },
   {
    "duration": 69,
    "start_time": "2022-11-22T19:17:27.730Z"
   },
   {
    "duration": 0,
    "start_time": "2022-11-22T19:17:27.803Z"
   },
   {
    "duration": 0,
    "start_time": "2022-11-22T19:17:27.804Z"
   },
   {
    "duration": 0,
    "start_time": "2022-11-22T19:17:27.807Z"
   },
   {
    "duration": 0,
    "start_time": "2022-11-22T19:17:27.808Z"
   },
   {
    "duration": 0,
    "start_time": "2022-11-22T19:17:27.810Z"
   },
   {
    "duration": 0,
    "start_time": "2022-11-22T19:17:27.811Z"
   },
   {
    "duration": 0,
    "start_time": "2022-11-22T19:17:27.812Z"
   },
   {
    "duration": 0,
    "start_time": "2022-11-22T19:17:27.814Z"
   },
   {
    "duration": 0,
    "start_time": "2022-11-22T19:17:27.814Z"
   },
   {
    "duration": 0,
    "start_time": "2022-11-22T19:17:27.816Z"
   },
   {
    "duration": 0,
    "start_time": "2022-11-22T19:17:27.817Z"
   },
   {
    "duration": 0,
    "start_time": "2022-11-22T19:17:27.818Z"
   },
   {
    "duration": 0,
    "start_time": "2022-11-22T19:17:27.820Z"
   },
   {
    "duration": 0,
    "start_time": "2022-11-22T19:17:27.821Z"
   },
   {
    "duration": 0,
    "start_time": "2022-11-22T19:17:27.822Z"
   },
   {
    "duration": 0,
    "start_time": "2022-11-22T19:17:27.823Z"
   },
   {
    "duration": 0,
    "start_time": "2022-11-22T19:17:27.824Z"
   },
   {
    "duration": 0,
    "start_time": "2022-11-22T19:17:27.825Z"
   },
   {
    "duration": 0,
    "start_time": "2022-11-22T19:17:27.826Z"
   },
   {
    "duration": 0,
    "start_time": "2022-11-22T19:17:27.827Z"
   },
   {
    "duration": 0,
    "start_time": "2022-11-22T19:17:27.828Z"
   },
   {
    "duration": 0,
    "start_time": "2022-11-22T19:17:27.829Z"
   },
   {
    "duration": 0,
    "start_time": "2022-11-22T19:17:27.831Z"
   },
   {
    "duration": 0,
    "start_time": "2022-11-22T19:17:27.832Z"
   },
   {
    "duration": 0,
    "start_time": "2022-11-22T19:17:27.833Z"
   },
   {
    "duration": 0,
    "start_time": "2022-11-22T19:17:27.835Z"
   },
   {
    "duration": 0,
    "start_time": "2022-11-22T19:17:27.836Z"
   },
   {
    "duration": 0,
    "start_time": "2022-11-22T19:17:27.838Z"
   },
   {
    "duration": 0,
    "start_time": "2022-11-22T19:17:27.840Z"
   },
   {
    "duration": 0,
    "start_time": "2022-11-22T19:17:27.841Z"
   },
   {
    "duration": 0,
    "start_time": "2022-11-22T19:17:27.843Z"
   },
   {
    "duration": 16016,
    "start_time": "2022-11-22T19:19:54.453Z"
   },
   {
    "duration": 8554,
    "start_time": "2022-11-22T19:20:10.471Z"
   },
   {
    "duration": 117,
    "start_time": "2022-11-22T19:20:19.027Z"
   },
   {
    "duration": 178,
    "start_time": "2022-11-22T19:20:19.148Z"
   },
   {
    "duration": 3,
    "start_time": "2022-11-22T19:20:19.328Z"
   },
   {
    "duration": 9,
    "start_time": "2022-11-22T19:20:19.332Z"
   },
   {
    "duration": 15,
    "start_time": "2022-11-22T19:20:19.343Z"
   },
   {
    "duration": 4703,
    "start_time": "2022-11-22T19:20:19.360Z"
   },
   {
    "duration": 3,
    "start_time": "2022-11-22T19:20:24.127Z"
   },
   {
    "duration": 7,
    "start_time": "2022-11-22T19:20:24.134Z"
   },
   {
    "duration": 8,
    "start_time": "2022-11-22T19:20:24.143Z"
   },
   {
    "duration": 11,
    "start_time": "2022-11-22T19:20:24.153Z"
   },
   {
    "duration": 1883,
    "start_time": "2022-11-22T19:20:24.166Z"
   },
   {
    "duration": 2,
    "start_time": "2022-11-22T19:20:26.052Z"
   },
   {
    "duration": 10069,
    "start_time": "2022-11-22T19:20:26.056Z"
   },
   {
    "duration": 5345,
    "start_time": "2022-11-22T19:20:36.127Z"
   },
   {
    "duration": 1687,
    "start_time": "2022-11-22T19:20:41.473Z"
   },
   {
    "duration": 1577,
    "start_time": "2022-11-22T19:20:43.161Z"
   },
   {
    "duration": 1488,
    "start_time": "2022-11-22T19:20:44.739Z"
   },
   {
    "duration": 803,
    "start_time": "2022-11-22T19:20:46.229Z"
   },
   {
    "duration": 16,
    "start_time": "2022-11-22T19:20:47.034Z"
   },
   {
    "duration": 4876,
    "start_time": "2022-11-22T19:20:47.053Z"
   },
   {
    "duration": 2805,
    "start_time": "2022-11-22T19:20:51.931Z"
   },
   {
    "duration": 1419,
    "start_time": "2022-11-22T19:20:54.738Z"
   },
   {
    "duration": 1169,
    "start_time": "2022-11-22T19:20:56.159Z"
   },
   {
    "duration": 8,
    "start_time": "2022-11-22T19:20:57.330Z"
   },
   {
    "duration": 2628,
    "start_time": "2022-11-22T19:20:57.340Z"
   },
   {
    "duration": 1376,
    "start_time": "2022-11-22T19:20:59.972Z"
   },
   {
    "duration": 1781,
    "start_time": "2022-11-22T19:21:01.350Z"
   },
   {
    "duration": 5217,
    "start_time": "2022-11-22T19:21:03.133Z"
   },
   {
    "duration": 93,
    "start_time": "2022-11-22T19:21:08.352Z"
   },
   {
    "duration": 292,
    "start_time": "2022-11-22T19:21:08.447Z"
   },
   {
    "duration": 9037,
    "start_time": "2022-11-22T19:21:08.740Z"
   },
   {
    "duration": 1013,
    "start_time": "2022-11-22T19:21:17.825Z"
   },
   {
    "duration": 272,
    "start_time": "2022-11-22T19:28:57.798Z"
   },
   {
    "duration": 15402,
    "start_time": "2022-11-22T19:29:28.966Z"
   },
   {
    "duration": 7981,
    "start_time": "2022-11-22T19:29:44.370Z"
   },
   {
    "duration": 178,
    "start_time": "2022-11-22T19:29:52.353Z"
   },
   {
    "duration": 111,
    "start_time": "2022-11-22T19:29:52.533Z"
   },
   {
    "duration": 2,
    "start_time": "2022-11-22T19:29:52.646Z"
   },
   {
    "duration": 76,
    "start_time": "2022-11-22T19:29:52.650Z"
   },
   {
    "duration": 6,
    "start_time": "2022-11-22T19:29:52.728Z"
   },
   {
    "duration": 5010,
    "start_time": "2022-11-22T19:29:52.735Z"
   },
   {
    "duration": 2,
    "start_time": "2022-11-22T19:29:57.746Z"
   },
   {
    "duration": 11,
    "start_time": "2022-11-22T19:29:57.750Z"
   },
   {
    "duration": 6,
    "start_time": "2022-11-22T19:29:57.762Z"
   },
   {
    "duration": 60,
    "start_time": "2022-11-22T19:29:57.769Z"
   },
   {
    "duration": 1697,
    "start_time": "2022-11-22T19:29:57.831Z"
   },
   {
    "duration": 2,
    "start_time": "2022-11-22T19:29:59.532Z"
   },
   {
    "duration": 9822,
    "start_time": "2022-11-22T19:29:59.535Z"
   },
   {
    "duration": 5281,
    "start_time": "2022-11-22T19:30:09.359Z"
   },
   {
    "duration": 1546,
    "start_time": "2022-11-22T19:30:14.641Z"
   },
   {
    "duration": 1565,
    "start_time": "2022-11-22T19:30:16.189Z"
   },
   {
    "duration": 1299,
    "start_time": "2022-11-22T19:30:17.756Z"
   },
   {
    "duration": 245,
    "start_time": "2022-11-22T19:30:19.057Z"
   },
   {
    "duration": 0,
    "start_time": "2022-11-22T19:30:19.303Z"
   },
   {
    "duration": 0,
    "start_time": "2022-11-22T19:30:19.326Z"
   },
   {
    "duration": 0,
    "start_time": "2022-11-22T19:30:19.327Z"
   },
   {
    "duration": 0,
    "start_time": "2022-11-22T19:30:19.328Z"
   },
   {
    "duration": 0,
    "start_time": "2022-11-22T19:30:19.329Z"
   },
   {
    "duration": 0,
    "start_time": "2022-11-22T19:30:19.330Z"
   },
   {
    "duration": 0,
    "start_time": "2022-11-22T19:30:19.331Z"
   },
   {
    "duration": 0,
    "start_time": "2022-11-22T19:30:19.332Z"
   },
   {
    "duration": 0,
    "start_time": "2022-11-22T19:30:19.333Z"
   },
   {
    "duration": 0,
    "start_time": "2022-11-22T19:30:19.334Z"
   },
   {
    "duration": 0,
    "start_time": "2022-11-22T19:30:19.335Z"
   },
   {
    "duration": 0,
    "start_time": "2022-11-22T19:30:19.336Z"
   },
   {
    "duration": 0,
    "start_time": "2022-11-22T19:30:19.337Z"
   },
   {
    "duration": 1,
    "start_time": "2022-11-22T19:30:19.338Z"
   },
   {
    "duration": 470,
    "start_time": "2022-11-22T19:30:47.073Z"
   },
   {
    "duration": 15622,
    "start_time": "2022-11-22T19:32:06.811Z"
   },
   {
    "duration": 8243,
    "start_time": "2022-11-22T19:32:22.436Z"
   },
   {
    "duration": 128,
    "start_time": "2022-11-22T19:32:30.730Z"
   },
   {
    "duration": 175,
    "start_time": "2022-11-22T19:32:30.860Z"
   },
   {
    "duration": 3,
    "start_time": "2022-11-22T19:32:31.037Z"
   },
   {
    "duration": 32,
    "start_time": "2022-11-22T19:32:31.041Z"
   },
   {
    "duration": 22,
    "start_time": "2022-11-22T19:32:31.074Z"
   },
   {
    "duration": 4831,
    "start_time": "2022-11-22T19:32:31.097Z"
   },
   {
    "duration": 3,
    "start_time": "2022-11-22T19:32:35.931Z"
   },
   {
    "duration": 12,
    "start_time": "2022-11-22T19:32:35.936Z"
   },
   {
    "duration": 7,
    "start_time": "2022-11-22T19:32:35.950Z"
   },
   {
    "duration": 19,
    "start_time": "2022-11-22T19:32:35.959Z"
   },
   {
    "duration": 1525,
    "start_time": "2022-11-22T19:32:36.027Z"
   },
   {
    "duration": 3,
    "start_time": "2022-11-22T19:32:37.553Z"
   },
   {
    "duration": 10244,
    "start_time": "2022-11-22T19:32:37.557Z"
   },
   {
    "duration": 5325,
    "start_time": "2022-11-22T19:32:47.803Z"
   },
   {
    "duration": 1710,
    "start_time": "2022-11-22T19:32:53.129Z"
   },
   {
    "duration": 1516,
    "start_time": "2022-11-22T19:32:54.840Z"
   },
   {
    "duration": 1494,
    "start_time": "2022-11-22T19:32:56.358Z"
   },
   {
    "duration": 584,
    "start_time": "2022-11-22T19:32:57.854Z"
   },
   {
    "duration": 16,
    "start_time": "2022-11-22T19:32:58.441Z"
   },
   {
    "duration": 5893,
    "start_time": "2022-11-22T19:32:58.459Z"
   },
   {
    "duration": 2597,
    "start_time": "2022-11-22T19:33:04.353Z"
   },
   {
    "duration": 1511,
    "start_time": "2022-11-22T19:33:06.952Z"
   },
   {
    "duration": 1375,
    "start_time": "2022-11-22T19:33:08.464Z"
   },
   {
    "duration": 129,
    "start_time": "2022-11-22T19:33:09.841Z"
   },
   {
    "duration": 0,
    "start_time": "2022-11-22T19:33:10.027Z"
   },
   {
    "duration": 0,
    "start_time": "2022-11-22T19:33:10.028Z"
   },
   {
    "duration": 0,
    "start_time": "2022-11-22T19:33:10.030Z"
   },
   {
    "duration": 0,
    "start_time": "2022-11-22T19:33:10.031Z"
   },
   {
    "duration": 0,
    "start_time": "2022-11-22T19:33:10.033Z"
   },
   {
    "duration": 0,
    "start_time": "2022-11-22T19:33:10.035Z"
   },
   {
    "duration": 0,
    "start_time": "2022-11-22T19:33:10.036Z"
   },
   {
    "duration": 0,
    "start_time": "2022-11-22T19:33:10.038Z"
   },
   {
    "duration": 73,
    "start_time": "2022-11-22T19:36:23.819Z"
   },
   {
    "duration": 70,
    "start_time": "2022-11-22T19:36:45.811Z"
   },
   {
    "duration": 13,
    "start_time": "2022-11-22T19:37:34.296Z"
   },
   {
    "duration": 2142,
    "start_time": "2022-11-22T19:37:54.603Z"
   },
   {
    "duration": 1154,
    "start_time": "2022-11-22T19:38:03.193Z"
   },
   {
    "duration": 1063,
    "start_time": "2022-11-22T19:38:08.073Z"
   },
   {
    "duration": 15310,
    "start_time": "2022-11-22T19:38:22.138Z"
   },
   {
    "duration": 7716,
    "start_time": "2022-11-22T19:38:37.451Z"
   },
   {
    "duration": 135,
    "start_time": "2022-11-22T19:38:45.227Z"
   },
   {
    "duration": 122,
    "start_time": "2022-11-22T19:38:45.425Z"
   },
   {
    "duration": 3,
    "start_time": "2022-11-22T19:38:45.549Z"
   },
   {
    "duration": 5,
    "start_time": "2022-11-22T19:38:45.554Z"
   },
   {
    "duration": 15,
    "start_time": "2022-11-22T19:38:45.631Z"
   },
   {
    "duration": 4996,
    "start_time": "2022-11-22T19:38:45.647Z"
   },
   {
    "duration": 2,
    "start_time": "2022-11-22T19:38:50.645Z"
   },
   {
    "duration": 22,
    "start_time": "2022-11-22T19:38:50.651Z"
   },
   {
    "duration": 56,
    "start_time": "2022-11-22T19:38:50.675Z"
   },
   {
    "duration": 9,
    "start_time": "2022-11-22T19:38:50.733Z"
   },
   {
    "duration": 1801,
    "start_time": "2022-11-22T19:38:50.744Z"
   },
   {
    "duration": 3,
    "start_time": "2022-11-22T19:38:52.546Z"
   },
   {
    "duration": 10317,
    "start_time": "2022-11-22T19:38:52.550Z"
   },
   {
    "duration": 5285,
    "start_time": "2022-11-22T19:39:02.869Z"
   },
   {
    "duration": 1559,
    "start_time": "2022-11-22T19:39:08.155Z"
   },
   {
    "duration": 1626,
    "start_time": "2022-11-22T19:39:09.716Z"
   },
   {
    "duration": 1421,
    "start_time": "2022-11-22T19:39:11.344Z"
   },
   {
    "duration": 485,
    "start_time": "2022-11-22T19:39:12.767Z"
   },
   {
    "duration": 77,
    "start_time": "2022-11-22T19:39:13.254Z"
   },
   {
    "duration": 5201,
    "start_time": "2022-11-22T19:39:13.333Z"
   },
   {
    "duration": 2605,
    "start_time": "2022-11-22T19:39:18.536Z"
   },
   {
    "duration": 1593,
    "start_time": "2022-11-22T19:39:21.142Z"
   },
   {
    "duration": 1298,
    "start_time": "2022-11-22T19:39:22.736Z"
   },
   {
    "duration": 2504,
    "start_time": "2022-11-22T19:39:24.036Z"
   },
   {
    "duration": 1387,
    "start_time": "2022-11-22T19:39:26.542Z"
   },
   {
    "duration": 1408,
    "start_time": "2022-11-22T19:39:27.932Z"
   },
   {
    "duration": 5310,
    "start_time": "2022-11-22T19:39:29.342Z"
   },
   {
    "duration": 81,
    "start_time": "2022-11-22T19:39:34.654Z"
   },
   {
    "duration": 303,
    "start_time": "2022-11-22T19:39:34.737Z"
   },
   {
    "duration": 8524,
    "start_time": "2022-11-22T19:39:35.041Z"
   },
   {
    "duration": 1066,
    "start_time": "2022-11-22T19:39:43.567Z"
   },
   {
    "duration": 18164,
    "start_time": "2022-11-23T08:36:19.948Z"
   },
   {
    "duration": 8498,
    "start_time": "2022-11-23T08:36:38.115Z"
   },
   {
    "duration": 187,
    "start_time": "2022-11-23T08:36:46.615Z"
   },
   {
    "duration": 126,
    "start_time": "2022-11-23T08:36:46.804Z"
   },
   {
    "duration": 3,
    "start_time": "2022-11-23T08:36:46.932Z"
   },
   {
    "duration": 4,
    "start_time": "2022-11-23T08:36:46.996Z"
   },
   {
    "duration": 8,
    "start_time": "2022-11-23T08:36:47.002Z"
   },
   {
    "duration": 5295,
    "start_time": "2022-11-23T08:36:47.011Z"
   },
   {
    "duration": 2,
    "start_time": "2022-11-23T08:36:52.308Z"
   },
   {
    "duration": 4,
    "start_time": "2022-11-23T08:36:52.313Z"
   },
   {
    "duration": 6,
    "start_time": "2022-11-23T08:36:52.318Z"
   },
   {
    "duration": 7,
    "start_time": "2022-11-23T08:36:52.326Z"
   },
   {
    "duration": 1865,
    "start_time": "2022-11-23T08:36:52.335Z"
   },
   {
    "duration": 3,
    "start_time": "2022-11-23T08:36:54.202Z"
   },
   {
    "duration": 10833,
    "start_time": "2022-11-23T08:36:54.207Z"
   },
   {
    "duration": 5992,
    "start_time": "2022-11-23T08:37:05.042Z"
   },
   {
    "duration": 1663,
    "start_time": "2022-11-23T08:37:11.037Z"
   },
   {
    "duration": 1803,
    "start_time": "2022-11-23T08:37:12.702Z"
   },
   {
    "duration": 1596,
    "start_time": "2022-11-23T08:37:14.507Z"
   },
   {
    "duration": 510,
    "start_time": "2022-11-23T08:37:16.105Z"
   },
   {
    "duration": 82,
    "start_time": "2022-11-23T08:37:16.617Z"
   },
   {
    "duration": 5408,
    "start_time": "2022-11-23T08:37:16.701Z"
   },
   {
    "duration": 3003,
    "start_time": "2022-11-23T08:37:22.111Z"
   },
   {
    "duration": 1610,
    "start_time": "2022-11-23T08:37:25.116Z"
   },
   {
    "duration": 1477,
    "start_time": "2022-11-23T08:37:26.728Z"
   },
   {
    "duration": 2501,
    "start_time": "2022-11-23T08:37:28.207Z"
   },
   {
    "duration": 1410,
    "start_time": "2022-11-23T08:37:30.710Z"
   },
   {
    "duration": 1389,
    "start_time": "2022-11-23T08:37:32.124Z"
   },
   {
    "duration": 5987,
    "start_time": "2022-11-23T08:37:33.516Z"
   },
   {
    "duration": 19,
    "start_time": "2022-11-23T08:37:39.505Z"
   },
   {
    "duration": 285,
    "start_time": "2022-11-23T08:37:39.526Z"
   },
   {
    "duration": 9502,
    "start_time": "2022-11-23T08:37:39.813Z"
   },
   {
    "duration": 1499,
    "start_time": "2022-11-23T08:37:49.317Z"
   },
   {
    "duration": 1004,
    "start_time": "2022-11-23T08:38:53.306Z"
   },
   {
    "duration": 17008,
    "start_time": "2022-11-24T06:16:24.235Z"
   },
   {
    "duration": 9097,
    "start_time": "2022-11-24T06:16:41.246Z"
   },
   {
    "duration": 123,
    "start_time": "2022-11-24T06:16:50.344Z"
   },
   {
    "duration": 108,
    "start_time": "2022-11-24T06:16:50.535Z"
   },
   {
    "duration": 2,
    "start_time": "2022-11-24T06:16:50.645Z"
   },
   {
    "duration": 16,
    "start_time": "2022-11-24T06:16:50.650Z"
   },
   {
    "duration": 5,
    "start_time": "2022-11-24T06:16:50.668Z"
   },
   {
    "duration": 4788,
    "start_time": "2022-11-24T06:16:50.675Z"
   },
   {
    "duration": 3,
    "start_time": "2022-11-24T06:16:55.465Z"
   },
   {
    "duration": 65,
    "start_time": "2022-11-24T06:16:55.471Z"
   },
   {
    "duration": 12,
    "start_time": "2022-11-24T06:16:55.537Z"
   },
   {
    "duration": 14,
    "start_time": "2022-11-24T06:16:55.550Z"
   },
   {
    "duration": 1784,
    "start_time": "2022-11-24T06:16:55.565Z"
   },
   {
    "duration": 2,
    "start_time": "2022-11-24T06:16:57.351Z"
   },
   {
    "duration": 10699,
    "start_time": "2022-11-24T06:16:57.354Z"
   },
   {
    "duration": 5804,
    "start_time": "2022-11-24T06:17:08.055Z"
   },
   {
    "duration": 1660,
    "start_time": "2022-11-24T06:17:13.861Z"
   },
   {
    "duration": 1716,
    "start_time": "2022-11-24T06:17:15.523Z"
   },
   {
    "duration": 1231,
    "start_time": "2022-11-24T06:17:17.241Z"
   },
   {
    "duration": 513,
    "start_time": "2022-11-24T06:17:18.536Z"
   },
   {
    "duration": 18,
    "start_time": "2022-11-24T06:17:19.052Z"
   },
   {
    "duration": 7570,
    "start_time": "2022-11-24T06:17:19.072Z"
   },
   {
    "duration": 3419,
    "start_time": "2022-11-24T06:17:26.644Z"
   },
   {
    "duration": 1812,
    "start_time": "2022-11-24T06:17:30.065Z"
   },
   {
    "duration": 186,
    "start_time": "2022-11-24T06:17:31.878Z"
   },
   {
    "duration": 0,
    "start_time": "2022-11-24T06:17:32.067Z"
   },
   {
    "duration": 0,
    "start_time": "2022-11-24T06:17:32.069Z"
   },
   {
    "duration": 0,
    "start_time": "2022-11-24T06:17:32.070Z"
   },
   {
    "duration": 0,
    "start_time": "2022-11-24T06:17:32.075Z"
   },
   {
    "duration": 0,
    "start_time": "2022-11-24T06:17:32.077Z"
   },
   {
    "duration": 0,
    "start_time": "2022-11-24T06:17:32.078Z"
   },
   {
    "duration": 0,
    "start_time": "2022-11-24T06:17:32.080Z"
   },
   {
    "duration": 0,
    "start_time": "2022-11-24T06:17:32.081Z"
   },
   {
    "duration": 0,
    "start_time": "2022-11-24T06:17:32.083Z"
   },
   {
    "duration": 1338,
    "start_time": "2022-11-24T06:17:59.299Z"
   },
   {
    "duration": 2489,
    "start_time": "2022-11-24T06:18:01.801Z"
   },
   {
    "duration": 1320,
    "start_time": "2022-11-24T06:18:04.335Z"
   },
   {
    "duration": 1534,
    "start_time": "2022-11-24T06:18:10.305Z"
   },
   {
    "duration": 44,
    "start_time": "2022-11-24T06:18:11.841Z"
   },
   {
    "duration": 56,
    "start_time": "2022-11-24T06:18:34.939Z"
   },
   {
    "duration": 49,
    "start_time": "2022-11-24T06:18:43.945Z"
   },
   {
    "duration": 76,
    "start_time": "2022-11-24T06:19:07.809Z"
   },
   {
    "duration": 49,
    "start_time": "2022-11-24T06:19:24.290Z"
   },
   {
    "duration": 76,
    "start_time": "2022-11-24T06:20:46.946Z"
   },
   {
    "duration": 47,
    "start_time": "2022-11-24T06:21:10.626Z"
   },
   {
    "duration": 67,
    "start_time": "2022-11-24T06:21:43.106Z"
   },
   {
    "duration": 6,
    "start_time": "2022-11-24T06:22:02.794Z"
   },
   {
    "duration": 5,
    "start_time": "2022-11-24T06:22:11.362Z"
   },
   {
    "duration": 69,
    "start_time": "2022-11-24T06:22:43.098Z"
   },
   {
    "duration": 56,
    "start_time": "2022-11-24T06:23:03.458Z"
   },
   {
    "duration": 14,
    "start_time": "2022-11-24T06:25:21.099Z"
   },
   {
    "duration": 54,
    "start_time": "2022-11-24T06:25:53.642Z"
   },
   {
    "duration": 72,
    "start_time": "2022-11-24T06:25:58.538Z"
   },
   {
    "duration": 3533,
    "start_time": "2022-11-24T06:26:02.604Z"
   },
   {
    "duration": 33,
    "start_time": "2022-11-24T06:26:11.226Z"
   },
   {
    "duration": 20,
    "start_time": "2022-11-24T06:26:35.156Z"
   },
   {
    "duration": 17,
    "start_time": "2022-11-24T06:27:34.091Z"
   }
  ],
  "colab": {
   "name": "PySparkSprint.ipynb",
   "provenance": []
  },
  "kernelspec": {
   "display_name": "Python 3 (ipykernel)",
   "language": "python",
   "name": "python3"
  },
  "language_info": {
   "codemirror_mode": {
    "name": "ipython",
    "version": 3
   },
   "file_extension": ".py",
   "mimetype": "text/x-python",
   "name": "python",
   "nbconvert_exporter": "python",
   "pygments_lexer": "ipython3",
   "version": "3.9.5"
  },
  "toc": {
   "base_numbering": 1,
   "nav_menu": {},
   "number_sections": true,
   "sideBar": true,
   "skip_h1_title": true,
   "title_cell": "Table of Contents",
   "title_sidebar": "Contents",
   "toc_cell": false,
   "toc_position": {
    "height": "calc(100% - 180px)",
    "left": "10px",
    "top": "150px",
    "width": "165px"
   },
   "toc_section_display": true,
   "toc_window_display": true
  }
 },
 "nbformat": 4,
 "nbformat_minor": 5
}
